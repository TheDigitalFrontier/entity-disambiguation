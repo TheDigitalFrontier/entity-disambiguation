{
 "cells": [
  {
   "cell_type": "code",
<<<<<<< HEAD
   "execution_count": 57,
=======
   "execution_count": 1,
>>>>>>> master
   "metadata": {},
   "outputs": [],
   "source": [
    "import sys\n",
    "\n",
    "import pandas as pd\n",
    "import numpy as np\n",
    "import dask.dataframe as dd\n",
    "import matplotlib.pyplot as plt\n",
    "import os\n",
    "%matplotlib inline\n",
    "#downloading wikipedia2vec failed in my case"
   ]
  },
  {
   "cell_type": "markdown",
   "metadata": {},
   "source": [
    "## aida-conll-yago-dataset"
   ]
  },
  {
   "cell_type": "markdown",
   "metadata": {},
   "source": [
    "Data Description\n",
    "\n",
    "A dataset for named entity recognition and disambiguation (NERD), \n",
    "\n",
    "> File Format\n",
    "> -----------\n",
    ">\n",
    "> The format of the final file is the following:\n",
    ">\n",
    "> - Each document starts with a line: -DOCSTART- (<docid>)\n",
    "> - Each following line represents a single token, sentences are separated by an empty line\n",
    ">   \n",
    "> Lines with tabs are tokens the are part of a mention:\n",
    "> - column 1 is the token\n",
    "> - column 2 is either B (beginning of a mention) or I (continuation of a mention)\n",
    "> - column 3 is the full mention used to find entity candidates\n",
    "> - column 4 is the corresponding YAGO2 entity (in YAGO encoding, i.e. unicode characters are backslash encoded and spaces are replaced by underscores, see also the tools on the YAGO2 website), OR --NME--, denoting that there is no matching entity in YAGO2 for this particular mention, or that we are missing the connection between the mention string and the YAGO2 entity.\n",
    "> - column 5 is the corresponding Wikipedia URL of the entity (added for convenience when evaluating against a Wikipedia based method)\n",
    "> - column 6 is the corresponding Wikipedia ID of the entity (added for convenience when evaluating against a Wikipedia based method - the ID refers to the dump used for annotation, 2010-08-17)\n",
    "> - column 7 is the corresponding Freebase mid, if there is one (thanks to Massimiliano Ciaramita from Google Zürich for creating the mapping and making it available to us)\n",
    "\n"
   ]
  },
  {
   "cell_type": "code",
<<<<<<< HEAD
   "execution_count": 22,
=======
   "execution_count": 2,
>>>>>>> master
   "metadata": {},
   "outputs": [],
   "source": [
    "import csv\n",
    "# df_acy = dd.read_csv('../../aida-conll-yago-dataset/AIDA-YAGO2-DATASET.tsv', sep='\\t',dtype='object').compute()\n",
    "# res = df.infer_objects()\n",
    "\n",
    "tsv_file = open('../../aida-conll-yago-dataset/AIDA-YAGO2-DATASET.tsv')\n",
    "read_tsv = csv.reader(tsv_file, delimiter=\"\\t\")\n",
    "df = []\n",
    "for row in read_tsv:\n",
    "    df.append(row)"
   ]
  },
  {
   "cell_type": "code",
<<<<<<< HEAD
   "execution_count": 23,
=======
   "execution_count": 7,
   "metadata": {},
   "outputs": [
    {
     "data": {
      "text/plain": [
       "4"
      ]
     },
     "execution_count": 7,
     "metadata": {},
     "output_type": "execute_result"
    }
   ],
   "source": [
    "len(df[1])"
   ]
  },
  {
   "cell_type": "code",
   "execution_count": 11,
>>>>>>> master
   "metadata": {},
   "outputs": [
    {
     "data": {
      "text/html": [
       "<div>\n",
       "<style scoped>\n",
       "    .dataframe tbody tr th:only-of-type {\n",
       "        vertical-align: middle;\n",
       "    }\n",
       "\n",
       "    .dataframe tbody tr th {\n",
       "        vertical-align: top;\n",
       "    }\n",
       "\n",
       "    .dataframe thead th {\n",
       "        text-align: right;\n",
       "    }\n",
       "</style>\n",
       "<table border=\"1\" class=\"dataframe\">\n",
       "  <thead>\n",
       "    <tr style=\"text-align: right;\">\n",
       "      <th></th>\n",
<<<<<<< HEAD
       "      <th>0</th>\n",
       "      <th>1</th>\n",
       "      <th>2</th>\n",
       "      <th>3</th>\n",
       "      <th>4</th>\n",
       "      <th>5</th>\n",
       "      <th>6</th>\n",
=======
       "      <th>token</th>\n",
       "      <th>mention</th>\n",
       "      <th>full_mention</th>\n",
       "      <th>YAGO2</th>\n",
       "      <th>wikipedia_URL</th>\n",
       "      <th>wikipedia_ID</th>\n",
       "      <th>freebase</th>\n",
>>>>>>> master
       "    </tr>\n",
       "  </thead>\n",
       "  <tbody>\n",
       "    <tr>\n",
       "      <td>0</td>\n",
       "      <td>EU</td>\n",
       "      <td>B</td>\n",
       "      <td>EU</td>\n",
       "      <td>--NME--</td>\n",
       "      <td>None</td>\n",
       "      <td>None</td>\n",
       "      <td>None</td>\n",
       "    </tr>\n",
       "    <tr>\n",
       "      <td>1</td>\n",
       "      <td>rejects</td>\n",
       "      <td>None</td>\n",
       "      <td>None</td>\n",
       "      <td>None</td>\n",
       "      <td>None</td>\n",
       "      <td>None</td>\n",
       "      <td>None</td>\n",
       "    </tr>\n",
       "    <tr>\n",
       "      <td>2</td>\n",
       "      <td>German</td>\n",
       "      <td>B</td>\n",
       "      <td>German</td>\n",
       "      <td>Germany</td>\n",
       "      <td>http://en.wikipedia.org/wiki/Germany</td>\n",
       "      <td>11867</td>\n",
       "      <td>/m/0345h</td>\n",
       "    </tr>\n",
       "    <tr>\n",
       "      <td>3</td>\n",
       "      <td>call</td>\n",
       "      <td>None</td>\n",
       "      <td>None</td>\n",
       "      <td>None</td>\n",
       "      <td>None</td>\n",
       "      <td>None</td>\n",
       "      <td>None</td>\n",
       "    </tr>\n",
       "    <tr>\n",
       "      <td>4</td>\n",
       "      <td>to</td>\n",
       "      <td>None</td>\n",
       "      <td>None</td>\n",
       "      <td>None</td>\n",
       "      <td>None</td>\n",
       "      <td>None</td>\n",
       "      <td>None</td>\n",
       "    </tr>\n",
       "  </tbody>\n",
       "</table>\n",
       "</div>"
      ],
      "text/plain": [
<<<<<<< HEAD
       "         0     1       2        3                                     4  \\\n",
       "0       EU     B      EU  --NME--                                  None   \n",
       "1  rejects  None    None     None                                  None   \n",
       "2   German     B  German  Germany  http://en.wikipedia.org/wiki/Germany   \n",
       "3     call  None    None     None                                  None   \n",
       "4       to  None    None     None                                  None   \n",
       "\n",
       "       5         6  \n",
       "0   None      None  \n",
       "1   None      None  \n",
       "2  11867  /m/0345h  \n",
       "3   None      None  \n",
       "4   None      None  "
      ]
     },
     "execution_count": 23,
=======
       "     token mention full_mention    YAGO2  \\\n",
       "0       EU       B           EU  --NME--   \n",
       "1  rejects    None         None     None   \n",
       "2   German       B       German  Germany   \n",
       "3     call    None         None     None   \n",
       "4       to    None         None     None   \n",
       "\n",
       "                          wikipedia_URL wikipedia_ID  freebase  \n",
       "0                                  None         None      None  \n",
       "1                                  None         None      None  \n",
       "2  http://en.wikipedia.org/wiki/Germany        11867  /m/0345h  \n",
       "3                                  None         None      None  \n",
       "4                                  None         None      None  "
      ]
     },
     "execution_count": 11,
>>>>>>> master
     "metadata": {},
     "output_type": "execute_result"
    }
   ],
   "source": [
    "acy_df = pd.DataFrame(data = df[1:])\n",
<<<<<<< HEAD
=======
    "new = ['token', 'mention', 'full_mention', 'YAGO2', 'wikipedia_URL', 'wikipedia_ID', 'freebase']\n",
    "acy_df = acy_df.rename(columns = dict(zip(range(7), new)))\n",
>>>>>>> master
    "acy_df.head()"
   ]
  },
  {
   "cell_type": "code",
<<<<<<< HEAD
=======
   "execution_count": 4,
   "metadata": {},
   "outputs": [
    {
     "data": {
      "text/plain": [
       "176615"
      ]
     },
     "execution_count": 4,
     "metadata": {},
     "output_type": "execute_result"
    }
   ],
   "source": [
    "len(acy_df)"
   ]
  },
  {
   "cell_type": "code",
>>>>>>> master
   "execution_count": 45,
   "metadata": {},
   "outputs": [
    {
     "name": "stdout",
     "output_type": "stream",
     "text": [
      "16.60% of them had a full mention matched\n"
     ]
    }
   ],
   "source": [
    "print('{:.2f}% of them had a full mention matched'.format(sum([i!=None for i in acy_df[2]])/len(acy_df)*100))"
   ]
  },
  {
   "cell_type": "code",
   "execution_count": 48,
   "metadata": {},
   "outputs": [
    {
     "name": "stdout",
     "output_type": "stream",
     "text": [
      "12.60% of them had a yago2 entity matched\n"
     ]
    }
   ],
   "source": [
    "print('{:.2f}% of them had a yago2 entity matched'.format(sum([(i!=None and i!='--NME--') for i in acy_df[3]])/len(acy_df)*100))"
   ]
  },
  {
   "cell_type": "code",
   "execution_count": 50,
   "metadata": {},
   "outputs": [
    {
     "name": "stdout",
     "output_type": "stream",
     "text": [
      "12.60% of them had a wikipedia page matched\n"
     ]
    }
   ],
   "source": [
    "print('{:.2f}% of them had a wikipedia page matched'.format(sum([i!=None for i in acy_df[4]])/len(acy_df)*100))"
   ]
  },
  {
   "cell_type": "code",
   "execution_count": 51,
   "metadata": {},
   "outputs": [
    {
     "name": "stdout",
     "output_type": "stream",
     "text": [
      "12.60% of them had a freebase mid matched\n"
     ]
    }
   ],
   "source": [
    "print('{:.2f}% of them had a freebase mid matched'.format(sum([i!=None for i in acy_df[6]])/len(acy_df)*100))"
   ]
  }
 ],
 "metadata": {
  "kernelspec": {
   "display_name": "Python 3",
   "language": "python",
   "name": "python3"
  },
  "language_info": {
   "codemirror_mode": {
    "name": "ipython",
    "version": 3
   },
   "file_extension": ".py",
   "mimetype": "text/x-python",
   "name": "python",
   "nbconvert_exporter": "python",
   "pygments_lexer": "ipython3",
<<<<<<< HEAD
   "version": "3.7.7"
=======
   "version": "3.7.4"
>>>>>>> master
  }
 },
 "nbformat": 4,
 "nbformat_minor": 4
}
