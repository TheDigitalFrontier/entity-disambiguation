{
 "cells": [
  {
   "cell_type": "code",
   "execution_count": 57,
   "metadata": {},
   "outputs": [],
   "source": [
    "import sys\n",
    "\n",
    "import pandas as pd\n",
    "import numpy as np\n",
    "import dask.dataframe as dd\n",
    "import matplotlib.pyplot as plt\n",
    "import os\n",
    "%matplotlib inline\n",
    "#downloading wikipedia2vec failed in my case"
   ]
  },
  {
   "cell_type": "markdown",
   "metadata": {},
   "source": [
    "## Data description"
   ]
  },
  {
   "cell_type": "markdown",
   "metadata": {},
   "source": [
    "#### Data source\n",
    "\n",
    "[https://www.kaggle.com/kenshoresearch/kensho-derived-wikimedia-data]"
   ]
  },
  {
   "cell_type": "markdown",
   "metadata": {},
   "source": [
    "#### File summary\n",
    "- Wikipedia\n",
    "    - page.csv (page metadata and Wikipedia-to-Wikidata mapping)\n",
    "    - link_annotated_text.jsonl (plaintext of Wikipedia pages with link offsets)\n",
    "\n",
    "\n",
    "- Wikidata\n",
    "    - item.csv (item labels and descriptions in English)\n",
    "    - item_aliases.csv (item aliases in English)\n",
    "    - property.csv (property labels and descriptions in English)\n",
    "    - property_aliases.csv (property aliases in English)\n",
    "    - statements.csv (truthy qpq statements)"
   ]
  },
  {
   "cell_type": "markdown",
   "metadata": {},
   "source": [
    "#### Definitions\n",
    "[https://www.wikidata.org/wiki/Help]\n",
    "\n",
    "- In Wikidata, **items** are used to represent all the things in human knowledge, including topics, concepts, and objects. For example, the \"1988 Summer Olympics\", \"love\", \"Elvis Presley\", and \"gorilla\" are all items in Wikidata.\n",
    "\n",
    "- A **property** describes the data value of a statement and can be thought of as a category of data, for example \"color\" for the data value \"blue\".\n",
    "\n",
    "- A **statement** is how the information we know about an item - the data we have about it - gets recorded in Wikidata. This happens by pairing a property with at least one data value"
   ]
  },
  {
   "cell_type": "markdown",
   "metadata": {},
   "source": [
    "#### Simiplifications by Kensho\n",
    "\n",
    "- Only included qpq-statements (statements with data values that are Wikidata items). This means dropping statements with other types of data values (e.g. time, string, globecoordinate, …).\n",
    "\n",
    "- Kept only Truthy statements.\n",
    "\n",
    "- Excluded qualifiers and sources from statements"
   ]
  },
  {
   "cell_type": "markdown",
   "metadata": {},
   "source": [
    "## Importing data"
   ]
  },
  {
   "cell_type": "code",
   "execution_count": 60,
   "metadata": {},
   "outputs": [],
   "source": [
    "#Hardik's Path\n",
    "# my_path = '~/Data/kdwd/'\n",
    "#Ruochen's path\n",
    "my_path = '../../Data'\n",
    "\n",
    "df_item = dd.read_csv(os.path.join(my_path, 'item.csv'))\n",
    "df_item_aliases = dd.read_csv(os.path.join(my_path, 'item_aliases.csv'))\n",
    "df_page = dd.read_csv(os.path.join(my_path, 'page.csv'))\n",
    "df_property = dd.read_csv(os.path.join(my_path, 'property.csv'))\n",
    "df_property_aliases = dd.read_csv(os.path.join(my_path, 'property_aliases.csv'))\n",
    "df_statements = dd.read_csv(os.path.join(my_path, 'statements.csv'))"
   ]
  },
  {
   "cell_type": "code",
   "execution_count": 61,
   "metadata": {},
   "outputs": [
    {
     "name": "stdout",
     "output_type": "stream",
     "text": [
      "num rows: 51450316\n",
      "list of columns: ['item_id', 'en_label', 'en_description']\n"
     ]
    },
    {
     "data": {
      "text/html": [
       "<div>\n",
       "<style scoped>\n",
       "    .dataframe tbody tr th:only-of-type {\n",
       "        vertical-align: middle;\n",
       "    }\n",
       "\n",
       "    .dataframe tbody tr th {\n",
       "        vertical-align: top;\n",
       "    }\n",
       "\n",
       "    .dataframe thead th {\n",
       "        text-align: right;\n",
       "    }\n",
       "</style>\n",
       "<table border=\"1\" class=\"dataframe\">\n",
       "  <thead>\n",
       "    <tr style=\"text-align: right;\">\n",
       "      <th></th>\n",
       "      <th>item_id</th>\n",
       "      <th>en_label</th>\n",
       "      <th>en_description</th>\n",
       "    </tr>\n",
       "  </thead>\n",
       "  <tbody>\n",
       "    <tr>\n",
       "      <td>0</td>\n",
       "      <td>1</td>\n",
       "      <td>Universe</td>\n",
       "      <td>totality of space and all contents</td>\n",
       "    </tr>\n",
       "    <tr>\n",
       "      <td>1</td>\n",
       "      <td>2</td>\n",
       "      <td>Earth</td>\n",
       "      <td>third planet from the Sun in the Solar System</td>\n",
       "    </tr>\n",
       "    <tr>\n",
       "      <td>2</td>\n",
       "      <td>3</td>\n",
       "      <td>life</td>\n",
       "      <td>matter capable of extracting energy from the e...</td>\n",
       "    </tr>\n",
       "    <tr>\n",
       "      <td>3</td>\n",
       "      <td>4</td>\n",
       "      <td>death</td>\n",
       "      <td>permanent cessation of vital functions</td>\n",
       "    </tr>\n",
       "    <tr>\n",
       "      <td>4</td>\n",
       "      <td>5</td>\n",
       "      <td>human</td>\n",
       "      <td>common name of Homo sapiens, unique extant spe...</td>\n",
       "    </tr>\n",
       "  </tbody>\n",
       "</table>\n",
       "</div>"
      ],
      "text/plain": [
       "   item_id  en_label                                     en_description\n",
       "0        1  Universe                 totality of space and all contents\n",
       "1        2     Earth      third planet from the Sun in the Solar System\n",
       "2        3      life  matter capable of extracting energy from the e...\n",
       "3        4     death             permanent cessation of vital functions\n",
       "4        5     human  common name of Homo sapiens, unique extant spe..."
      ]
     },
     "execution_count": 61,
     "metadata": {},
     "output_type": "execute_result"
    }
   ],
   "source": [
    "print(f\"num rows: {df_item.shape[0].compute()}\")\n",
    "print(f\"list of columns: {list(df_item.columns)}\")\n",
    "df_item.head()"
   ]
  },
  {
   "cell_type": "code",
   "execution_count": 5,
   "metadata": {
    "scrolled": true
   },
   "outputs": [
    {
     "name": "stdout",
     "output_type": "stream",
     "text": [
      "num rows: 6823024\n",
      "list of columns: ['item_id', 'en_alias']\n"
     ]
    },
    {
     "data": {
      "text/html": [
       "<div>\n",
       "<style scoped>\n",
       "    .dataframe tbody tr th:only-of-type {\n",
       "        vertical-align: middle;\n",
       "    }\n",
       "\n",
       "    .dataframe tbody tr th {\n",
       "        vertical-align: top;\n",
       "    }\n",
       "\n",
       "    .dataframe thead th {\n",
       "        text-align: right;\n",
       "    }\n",
       "</style>\n",
       "<table border=\"1\" class=\"dataframe\">\n",
       "  <thead>\n",
       "    <tr style=\"text-align: right;\">\n",
       "      <th></th>\n",
       "      <th>item_id</th>\n",
       "      <th>en_alias</th>\n",
       "    </tr>\n",
       "  </thead>\n",
       "  <tbody>\n",
       "    <tr>\n",
       "      <th>0</th>\n",
       "      <td>1</td>\n",
       "      <td>Our Universe</td>\n",
       "    </tr>\n",
       "    <tr>\n",
       "      <th>1</th>\n",
       "      <td>1</td>\n",
       "      <td>The Universe</td>\n",
       "    </tr>\n",
       "    <tr>\n",
       "      <th>2</th>\n",
       "      <td>1</td>\n",
       "      <td>The Cosmos</td>\n",
       "    </tr>\n",
       "    <tr>\n",
       "      <th>3</th>\n",
       "      <td>1</td>\n",
       "      <td>cosmos</td>\n",
       "    </tr>\n",
       "    <tr>\n",
       "      <th>4</th>\n",
       "      <td>2</td>\n",
       "      <td>Blue Planet</td>\n",
       "    </tr>\n",
       "  </tbody>\n",
       "</table>\n",
       "</div>"
      ],
      "text/plain": [
       "   item_id      en_alias\n",
       "0        1  Our Universe\n",
       "1        1  The Universe\n",
       "2        1    The Cosmos\n",
       "3        1        cosmos\n",
       "4        2   Blue Planet"
      ]
     },
     "execution_count": 5,
     "metadata": {},
     "output_type": "execute_result"
    }
   ],
   "source": [
    "print(f\"num rows: {df_item_aliases.shape[0].compute()}\")\n",
    "print(f\"list of columns: {list(df_item_aliases.columns)}\")\n",
    "df_item_aliases.head()"
   ]
  },
  {
   "cell_type": "code",
   "execution_count": 6,
   "metadata": {},
   "outputs": [
    {
     "name": "stdout",
     "output_type": "stream",
     "text": [
      "num rows: 5362174\n",
      "list of columns: ['page_id', 'item_id', 'title', 'views']\n"
     ]
    },
    {
     "data": {
      "text/html": [
       "<div>\n",
       "<style scoped>\n",
       "    .dataframe tbody tr th:only-of-type {\n",
       "        vertical-align: middle;\n",
       "    }\n",
       "\n",
       "    .dataframe tbody tr th {\n",
       "        vertical-align: top;\n",
       "    }\n",
       "\n",
       "    .dataframe thead th {\n",
       "        text-align: right;\n",
       "    }\n",
       "</style>\n",
       "<table border=\"1\" class=\"dataframe\">\n",
       "  <thead>\n",
       "    <tr style=\"text-align: right;\">\n",
       "      <th></th>\n",
       "      <th>page_id</th>\n",
       "      <th>item_id</th>\n",
       "      <th>title</th>\n",
       "      <th>views</th>\n",
       "    </tr>\n",
       "  </thead>\n",
       "  <tbody>\n",
       "    <tr>\n",
       "      <th>0</th>\n",
       "      <td>12</td>\n",
       "      <td>6199</td>\n",
       "      <td>Anarchism</td>\n",
       "      <td>31335</td>\n",
       "    </tr>\n",
       "    <tr>\n",
       "      <th>1</th>\n",
       "      <td>25</td>\n",
       "      <td>38404</td>\n",
       "      <td>Autism</td>\n",
       "      <td>49693</td>\n",
       "    </tr>\n",
       "    <tr>\n",
       "      <th>2</th>\n",
       "      <td>39</td>\n",
       "      <td>101038</td>\n",
       "      <td>Albedo</td>\n",
       "      <td>14573</td>\n",
       "    </tr>\n",
       "    <tr>\n",
       "      <th>3</th>\n",
       "      <td>290</td>\n",
       "      <td>9659</td>\n",
       "      <td>A</td>\n",
       "      <td>25859</td>\n",
       "    </tr>\n",
       "    <tr>\n",
       "      <th>4</th>\n",
       "      <td>303</td>\n",
       "      <td>173</td>\n",
       "      <td>Alabama</td>\n",
       "      <td>52765</td>\n",
       "    </tr>\n",
       "  </tbody>\n",
       "</table>\n",
       "</div>"
      ],
      "text/plain": [
       "   page_id  item_id      title  views\n",
       "0       12     6199  Anarchism  31335\n",
       "1       25    38404     Autism  49693\n",
       "2       39   101038     Albedo  14573\n",
       "3      290     9659          A  25859\n",
       "4      303      173    Alabama  52765"
      ]
     },
     "execution_count": 6,
     "metadata": {},
     "output_type": "execute_result"
    }
   ],
   "source": [
    "print(f\"num rows: {df_page.shape[0].compute()}\")\n",
    "print(f\"list of columns: {list(df_page.columns)}\")\n",
    "df_page.head()"
   ]
  },
  {
   "cell_type": "code",
   "execution_count": 7,
   "metadata": {},
   "outputs": [
    {
     "name": "stdout",
     "output_type": "stream",
     "text": [
      "num rows: 6985\n",
      "list of columns: ['property_id', 'en_label', 'en_description']\n"
     ]
    },
    {
     "data": {
      "text/html": [
       "<div>\n",
       "<style scoped>\n",
       "    .dataframe tbody tr th:only-of-type {\n",
       "        vertical-align: middle;\n",
       "    }\n",
       "\n",
       "    .dataframe tbody tr th {\n",
       "        vertical-align: top;\n",
       "    }\n",
       "\n",
       "    .dataframe thead th {\n",
       "        text-align: right;\n",
       "    }\n",
       "</style>\n",
       "<table border=\"1\" class=\"dataframe\">\n",
       "  <thead>\n",
       "    <tr style=\"text-align: right;\">\n",
       "      <th></th>\n",
       "      <th>property_id</th>\n",
       "      <th>en_label</th>\n",
       "      <th>en_description</th>\n",
       "    </tr>\n",
       "  </thead>\n",
       "  <tbody>\n",
       "    <tr>\n",
       "      <th>0</th>\n",
       "      <td>6</td>\n",
       "      <td>head of government</td>\n",
       "      <td>head of the executive power of this town, city...</td>\n",
       "    </tr>\n",
       "    <tr>\n",
       "      <th>1</th>\n",
       "      <td>10</td>\n",
       "      <td>video</td>\n",
       "      <td>relevant video. For images, use the property P...</td>\n",
       "    </tr>\n",
       "    <tr>\n",
       "      <th>2</th>\n",
       "      <td>14</td>\n",
       "      <td>traffic sign</td>\n",
       "      <td>graphic symbol describing the item, used at th...</td>\n",
       "    </tr>\n",
       "    <tr>\n",
       "      <th>3</th>\n",
       "      <td>15</td>\n",
       "      <td>route map</td>\n",
       "      <td>image of route map at Wikimedia Commons</td>\n",
       "    </tr>\n",
       "    <tr>\n",
       "      <th>4</th>\n",
       "      <td>16</td>\n",
       "      <td>highway system</td>\n",
       "      <td>system (or specific country specific road type...</td>\n",
       "    </tr>\n",
       "  </tbody>\n",
       "</table>\n",
       "</div>"
      ],
      "text/plain": [
       "   property_id            en_label  \\\n",
       "0            6  head of government   \n",
       "1           10               video   \n",
       "2           14        traffic sign   \n",
       "3           15           route map   \n",
       "4           16      highway system   \n",
       "\n",
       "                                      en_description  \n",
       "0  head of the executive power of this town, city...  \n",
       "1  relevant video. For images, use the property P...  \n",
       "2  graphic symbol describing the item, used at th...  \n",
       "3            image of route map at Wikimedia Commons  \n",
       "4  system (or specific country specific road type...  "
      ]
     },
     "execution_count": 7,
     "metadata": {},
     "output_type": "execute_result"
    }
   ],
   "source": [
    "print(f\"num rows: {df_property.shape[0].compute()}\")\n",
    "print(f\"list of columns: {list(df_property.columns)}\")\n",
    "df_property.head()"
   ]
  },
  {
   "cell_type": "code",
   "execution_count": 8,
   "metadata": {},
   "outputs": [
    {
     "name": "stdout",
     "output_type": "stream",
     "text": [
      "num rows: 9004\n",
      "list of columns: ['property_id', 'en_alias']\n"
     ]
    },
    {
     "data": {
      "text/html": [
       "<div>\n",
       "<style scoped>\n",
       "    .dataframe tbody tr th:only-of-type {\n",
       "        vertical-align: middle;\n",
       "    }\n",
       "\n",
       "    .dataframe tbody tr th {\n",
       "        vertical-align: top;\n",
       "    }\n",
       "\n",
       "    .dataframe thead th {\n",
       "        text-align: right;\n",
       "    }\n",
       "</style>\n",
       "<table border=\"1\" class=\"dataframe\">\n",
       "  <thead>\n",
       "    <tr style=\"text-align: right;\">\n",
       "      <th></th>\n",
       "      <th>property_id</th>\n",
       "      <th>en_alias</th>\n",
       "    </tr>\n",
       "  </thead>\n",
       "  <tbody>\n",
       "    <tr>\n",
       "      <th>0</th>\n",
       "      <td>6</td>\n",
       "      <td>mayor</td>\n",
       "    </tr>\n",
       "    <tr>\n",
       "      <th>1</th>\n",
       "      <td>6</td>\n",
       "      <td>prime minister</td>\n",
       "    </tr>\n",
       "    <tr>\n",
       "      <th>2</th>\n",
       "      <td>6</td>\n",
       "      <td>premier</td>\n",
       "    </tr>\n",
       "    <tr>\n",
       "      <th>3</th>\n",
       "      <td>6</td>\n",
       "      <td>first minister</td>\n",
       "    </tr>\n",
       "    <tr>\n",
       "      <th>4</th>\n",
       "      <td>6</td>\n",
       "      <td>head of national government</td>\n",
       "    </tr>\n",
       "  </tbody>\n",
       "</table>\n",
       "</div>"
      ],
      "text/plain": [
       "   property_id                     en_alias\n",
       "0            6                        mayor\n",
       "1            6               prime minister\n",
       "2            6                      premier\n",
       "3            6               first minister\n",
       "4            6  head of national government"
      ]
     },
     "execution_count": 8,
     "metadata": {},
     "output_type": "execute_result"
    }
   ],
   "source": [
    "print(f\"num rows: {df_property_aliases.shape[0].compute()}\")\n",
    "print(f\"list of columns: {list(df_property_aliases.columns)}\")\n",
    "df_property_aliases.head()"
   ]
  },
  {
   "cell_type": "code",
   "execution_count": 9,
   "metadata": {},
   "outputs": [
    {
     "name": "stdout",
     "output_type": "stream",
     "text": [
      "num rows: 141206853\n",
      "list of columns: ['source_item_id', 'edge_property_id', 'target_item_id']\n"
     ]
    },
    {
     "data": {
      "text/html": [
       "<div>\n",
       "<style scoped>\n",
       "    .dataframe tbody tr th:only-of-type {\n",
       "        vertical-align: middle;\n",
       "    }\n",
       "\n",
       "    .dataframe tbody tr th {\n",
       "        vertical-align: top;\n",
       "    }\n",
       "\n",
       "    .dataframe thead th {\n",
       "        text-align: right;\n",
       "    }\n",
       "</style>\n",
       "<table border=\"1\" class=\"dataframe\">\n",
       "  <thead>\n",
       "    <tr style=\"text-align: right;\">\n",
       "      <th></th>\n",
       "      <th>source_item_id</th>\n",
       "      <th>edge_property_id</th>\n",
       "      <th>target_item_id</th>\n",
       "    </tr>\n",
       "  </thead>\n",
       "  <tbody>\n",
       "    <tr>\n",
       "      <th>0</th>\n",
       "      <td>1</td>\n",
       "      <td>31</td>\n",
       "      <td>36906466</td>\n",
       "    </tr>\n",
       "    <tr>\n",
       "      <th>1</th>\n",
       "      <td>1</td>\n",
       "      <td>279</td>\n",
       "      <td>3695190</td>\n",
       "    </tr>\n",
       "    <tr>\n",
       "      <th>2</th>\n",
       "      <td>1</td>\n",
       "      <td>398</td>\n",
       "      <td>497745</td>\n",
       "    </tr>\n",
       "    <tr>\n",
       "      <th>3</th>\n",
       "      <td>1</td>\n",
       "      <td>398</td>\n",
       "      <td>1133705</td>\n",
       "    </tr>\n",
       "    <tr>\n",
       "      <th>4</th>\n",
       "      <td>1</td>\n",
       "      <td>398</td>\n",
       "      <td>1139177</td>\n",
       "    </tr>\n",
       "  </tbody>\n",
       "</table>\n",
       "</div>"
      ],
      "text/plain": [
       "   source_item_id  edge_property_id  target_item_id\n",
       "0               1                31        36906466\n",
       "1               1               279         3695190\n",
       "2               1               398          497745\n",
       "3               1               398         1133705\n",
       "4               1               398         1139177"
      ]
     },
     "execution_count": 9,
     "metadata": {},
     "output_type": "execute_result"
    }
   ],
   "source": [
    "print(f\"num rows: {df_statements.shape[0].compute()}\")\n",
    "print(f\"list of columns: {list(df_statements.columns)}\")\n",
    "df_statements.head()"
   ]
  },
  {
   "cell_type": "markdown",
   "metadata": {},
   "source": [
    "## Alias counts"
   ]
  },
  {
   "cell_type": "code",
   "execution_count": 62,
   "metadata": {},
   "outputs": [
    {
     "name": "stdout",
     "output_type": "stream",
     "text": [
      "share of items with two or more aliases: 0.3898\n"
     ]
    }
   ],
   "source": [
    "item_alias_count = df_item_aliases.groupby('item_id').count().rename(columns={\"en_alias\": \"alias_count\"}).compute()\n",
    "item_alias_count_sorted = item_alias_count[item_alias_count[\"alias_count\"] > 1].sort_values(by=[\"alias_count\"], ascending=False)\n",
    "print(f\"share of items with two or more aliases: {round(item_alias_count_sorted.shape[0]/item_alias_count.shape[0], 4)}\")"
   ]
  },
  {
   "cell_type": "code",
   "execution_count": 63,
   "metadata": {},
   "outputs": [
    {
     "data": {
      "image/png": "[encoded data removed]",
      "text/plain": [
       "<Figure size 1440x360 with 1 Axes>"
      ]
     },
     "metadata": {
      "needs_background": "light"
     },
     "output_type": "display_data"
    }
   ],
   "source": [
    "# fig, ax = plt.subplots(1, 1, figsize=(20, 5))\n",
    "ax = item_alias_count_sorted[:50].plot.bar(figsize=(20,5), legend=False)\n",
    "ax.set_title(\"items with highest alias count\")\n",
    "ax.set_ylabel(\"alias count\")\n",
    "plt.show()"
   ]
  },
  {
   "cell_type": "code",
   "execution_count": 84,
   "metadata": {},
   "outputs": [
    {
     "name": "stdout",
     "output_type": "stream",
     "text": [
      "highest ones:  ['acetaminophen', 'Jan Brueghel the Elder', 'Cornelius van Poelenburgh', 'Jusepe de Ribera', 'David Teniers the Younger', 'Christian Wilhelm Ernst Dietrich', 'Willem van de Velde the Elder', 'Jacques Courtois', 'negative regulation of glucuronosyltransferase activity', 'positive regulation of glucuronosyltransferase activity']\n"
     ]
    }
   ],
   "source": [
    "#display item names\n",
    "highest = list(df_item[df_item.item_id.isin(item_alias_count_sorted[:10].index)].en_label.compute())\n",
    "print('highest ones: ',highest)"
   ]
  },
  {
   "cell_type": "code",
   "execution_count": 86,
   "metadata": {},
   "outputs": [
    {
     "data": {
      "image/png": "[encoded data removed]",
      "text/plain": [
       "<Figure size 432x288 with 1 Axes>"
      ]
     },
     "metadata": {
      "needs_background": "light"
     },
     "output_type": "display_data"
    }
   ],
   "source": [
    "#histogram of #alias per item\n",
    "plt.hist(item_alias_count.alias_count, bins = 100)\n",
    "plt.title('Number of alias per item')\n",
    "plt.show()"
   ]
  },
  {
   "cell_type": "markdown",
   "metadata": {},
   "source": [
    "Most of them don't have any alias"
   ]
  },
  {
   "cell_type": "code",
   "execution_count": 88,
   "metadata": {},
   "outputs": [
    {
     "name": "stdout",
     "output_type": "stream",
     "text": [
      "share of properties with two or more aliases: 0.5779\n"
     ]
    }
   ],
   "source": [
    "property_alias_count = df_property_aliases.groupby('property_id').count().rename(columns={\"en_alias\": \"alias_count\"}).compute()\n",
    "property_alias_count_sorted = property_alias_count[property_alias_count[\"alias_count\"] > 1].sort_values(by=[\"alias_count\"], ascending=False)\n",
    "print(f\"share of properties with two or more aliases: {round(property_alias_count_sorted.shape[0]/property_alias_count.shape[0], 4)}\")"
   ]
  },
  {
   "cell_type": "code",
   "execution_count": 13,
   "metadata": {},
   "outputs": [
    {
     "data": {
      "image/png": "[encoded data removed]",
      "text/plain": [
       "<Figure size 1440x360 with 1 Axes>"
      ]
     },
     "metadata": {
      "needs_background": "light"
     },
     "output_type": "display_data"
    }
   ],
   "source": [
    "# fig, ax = plt.subplots(1, 1, figsize=(20, 5))\n",
    "ax = property_alias_count_sorted[:50].plot.bar(figsize=(20,5), legend=False)\n",
    "ax.set_title(\"properties with highest alias count\")\n",
    "ax.set_ylabel(\"alias count\")\n",
    "plt.show()"
   ]
  },
  {
   "cell_type": "code",
   "execution_count": 89,
   "metadata": {},
   "outputs": [
    {
     "name": "stdout",
     "output_type": "stream",
     "text": [
      "highest ones:  ['instance of', 'located in the administrative territorial entity', 'contains administrative territorial entity', 'material used', 'has part', 'inception', 'dissolved, abolished or demolished', 'coordinate location', 'relative', 'number of parts of this work of art']\n"
     ]
    }
   ],
   "source": [
    "#display item names\n",
    "highest2 = list(df_property[df_property.property_id.isin(property_alias_count_sorted[:10].index)].en_label.compute())\n",
    "print('highest ones: ',highest2)    "
   ]
  },
  {
   "cell_type": "code",
   "execution_count": 91,
   "metadata": {},
   "outputs": [
    {
     "data": {
      "image/png": "[encoded data removed]",
      "text/plain": [
       "<Figure size 432x288 with 1 Axes>"
      ]
     },
     "metadata": {
      "needs_background": "light"
     },
     "output_type": "display_data"
    }
   ],
   "source": [
    "#histogram of #alias per item\n",
    "\n",
    "plt.hist(property_alias_count.alias_count, bins = 100)\n",
    "plt.title('Number of alias per property')\n",
    "plt.show()"
   ]
  },
  {
   "cell_type": "markdown",
   "metadata": {},
   "source": [
    "## Statement summary statistics"
   ]
  },
  {
   "cell_type": "code",
   "execution_count": 92,
   "metadata": {},
   "outputs": [
    {
     "data": {
      "text/html": [
       "<div>\n",
       "<style scoped>\n",
       "    .dataframe tbody tr th:only-of-type {\n",
       "        vertical-align: middle;\n",
       "    }\n",
       "\n",
       "    .dataframe tbody tr th {\n",
       "        vertical-align: top;\n",
       "    }\n",
       "\n",
       "    .dataframe thead th {\n",
       "        text-align: right;\n",
       "    }\n",
       "</style>\n",
       "<table border=\"1\" class=\"dataframe\">\n",
       "  <thead>\n",
       "    <tr style=\"text-align: right;\">\n",
       "      <th></th>\n",
       "      <th>source_item_id</th>\n",
       "      <th>edge_property_id</th>\n",
       "      <th>target_item_id</th>\n",
       "    </tr>\n",
       "  </thead>\n",
       "  <tbody>\n",
       "    <tr>\n",
       "      <td>0</td>\n",
       "      <td>1</td>\n",
       "      <td>31</td>\n",
       "      <td>36906466</td>\n",
       "    </tr>\n",
       "    <tr>\n",
       "      <td>1</td>\n",
       "      <td>1</td>\n",
       "      <td>279</td>\n",
       "      <td>3695190</td>\n",
       "    </tr>\n",
       "    <tr>\n",
       "      <td>2</td>\n",
       "      <td>1</td>\n",
       "      <td>398</td>\n",
       "      <td>497745</td>\n",
       "    </tr>\n",
       "    <tr>\n",
       "      <td>3</td>\n",
       "      <td>1</td>\n",
       "      <td>398</td>\n",
       "      <td>1133705</td>\n",
       "    </tr>\n",
       "    <tr>\n",
       "      <td>4</td>\n",
       "      <td>1</td>\n",
       "      <td>398</td>\n",
       "      <td>1139177</td>\n",
       "    </tr>\n",
       "  </tbody>\n",
       "</table>\n",
       "</div>"
      ],
      "text/plain": [
       "   source_item_id  edge_property_id  target_item_id\n",
       "0               1                31        36906466\n",
       "1               1               279         3695190\n",
       "2               1               398          497745\n",
       "3               1               398         1133705\n",
       "4               1               398         1139177"
      ]
     },
     "execution_count": 92,
     "metadata": {},
     "output_type": "execute_result"
    }
   ],
   "source": [
    "df_statements.head()"
   ]
  },
  {
   "cell_type": "code",
   "execution_count": 93,
   "metadata": {},
   "outputs": [
    {
     "data": {
      "text/html": [
       "<div>\n",
       "<style scoped>\n",
       "    .dataframe tbody tr th:only-of-type {\n",
       "        vertical-align: middle;\n",
       "    }\n",
       "\n",
       "    .dataframe tbody tr th {\n",
       "        vertical-align: top;\n",
       "    }\n",
       "\n",
       "    .dataframe thead th {\n",
       "        text-align: right;\n",
       "    }\n",
       "</style>\n",
       "<table border=\"1\" class=\"dataframe\">\n",
       "  <thead>\n",
       "    <tr style=\"text-align: right;\">\n",
       "      <th></th>\n",
       "      <th>property_counts</th>\n",
       "    </tr>\n",
       "    <tr>\n",
       "      <th>source_item_id</th>\n",
       "      <th></th>\n",
       "    </tr>\n",
       "  </thead>\n",
       "  <tbody>\n",
       "    <tr>\n",
       "      <td>1</td>\n",
       "      <td>37</td>\n",
       "    </tr>\n",
       "    <tr>\n",
       "      <td>2</td>\n",
       "      <td>58</td>\n",
       "    </tr>\n",
       "    <tr>\n",
       "      <td>3</td>\n",
       "      <td>25</td>\n",
       "    </tr>\n",
       "    <tr>\n",
       "      <td>4</td>\n",
       "      <td>28</td>\n",
       "    </tr>\n",
       "    <tr>\n",
       "      <td>5</td>\n",
       "      <td>44</td>\n",
       "    </tr>\n",
       "  </tbody>\n",
       "</table>\n",
       "</div>"
      ],
      "text/plain": [
       "                property_counts\n",
       "source_item_id                 \n",
       "1                            37\n",
       "2                            58\n",
       "3                            25\n",
       "4                            28\n",
       "5                            44"
      ]
     },
     "execution_count": 93,
     "metadata": {},
     "output_type": "execute_result"
    }
   ],
   "source": [
    "# data frame for tabulating number of properties defined for each item\n",
    "property_counts_per_item = df_statements[['source_item_id', 'edge_property_id']].groupby('source_item_id').count().rename(columns={\"edge_property_id\": \"property_counts\"}).compute()\n",
    "property_counts_per_item.head()"
   ]
  },
  {
   "cell_type": "code",
   "execution_count": 94,
   "metadata": {},
   "outputs": [
    {
     "data": {
      "text/plain": [
       "count    5.110668e+07\n",
       "mean     2.762982e+00\n",
       "std      3.219263e+00\n",
       "min      1.000000e+00\n",
       "25%      1.000000e+00\n",
       "50%      2.000000e+00\n",
       "75%      3.000000e+00\n",
       "max      1.899000e+03\n",
       "Name: property_counts, dtype: float64"
      ]
     },
     "execution_count": 94,
     "metadata": {},
     "output_type": "execute_result"
    }
   ],
   "source": [
    "property_counts_per_item['property_counts'].describe()"
   ]
  },
  {
   "cell_type": "code",
   "execution_count": 109,
   "metadata": {},
   "outputs": [
    {
     "name": "stdout",
     "output_type": "stream",
     "text": [
      "Item with maximum number of properties is: 813689    The Complete Encyclopedia of World Aircraft\n",
      "Name: en_label, dtype: object with id 21014429\n",
      "Associated properties are:  ['instance of', 'publisher', 'depicts', 'language of work or name']\n"
     ]
    }
   ],
   "source": [
    "#display highest one and properties it has\n",
    "#find the source_item_id with maximum property counts\n",
    "max_id = list(property_counts_per_item[property_counts_per_item.property_counts==np.max(property_counts_per_item['property_counts'])].index)[0]\n",
    "#find the label of the item corresponding to the id\n",
    "label = df_item[df_item.item_id == max_id].en_label.compute()\n",
    "print('Item with maximum number of properties is: {} with id {}'.format(label, max_id))\n",
    "#find the edge_property_id's corresponding to this source_item_id\n",
    "properties = list(df_statements[df_statements.source_item_id==max_id].edge_property_id.compute())\n",
    "#find the labels of those edge_property_id's\n",
    "properties = list(df_property[df_property.property_id.isin(properties)].en_label.compute())\n",
    "print('Associated properties are: ', properties)"
   ]
  },
  {
   "cell_type": "code",
   "execution_count": 20,
   "metadata": {},
   "outputs": [
    {
     "data": {
      "image/png": "[encoded data removed]",
      "text/plain": [
       "<Figure size 720x360 with 1 Axes>"
      ]
     },
     "metadata": {
      "needs_background": "light"
     },
     "output_type": "display_data"
    }
   ],
   "source": [
    "property_counts_per_item_filtered = property_counts_per_item[property_counts_per_item['property_counts'] <= 100]\n",
    "\n",
    "fig, ax = plt.subplots(1, 1, figsize=(10, 5))\n",
    "ax.hist(property_counts_per_item_filtered['property_counts'], bins=40)\n",
    "plt.show()"
   ]
  },
  {
   "cell_type": "markdown",
   "metadata": {},
   "source": [
    "Most items have a small number of properties defined (less than 3) but there is a long tail. "
   ]
  },
  {
   "cell_type": "code",
   "execution_count": 2,
   "metadata": {},
   "outputs": [],
   "source": [
    "#software to display kwg"
   ]
  },
  {
   "cell_type": "markdown",
   "metadata": {},
   "source": [
    "## aida-conll-yago-dataset"
   ]
  },
  {
   "cell_type": "markdown",
   "metadata": {},
   "source": [
    "Data Description\n",
    "\n",
    "A dataset for named entity recognition and disambiguation (NERD), \n",
    "\n",
    "> File Format\n",
    "> -----------\n",
    ">\n",
    "> The format of the final file is the following:\n",
    ">\n",
    "> - Each document starts with a line: -DOCSTART- (<docid>)\n",
    "> - Each following line represents a single token, sentences are separated by an empty line\n",
    ">   \n",
    "> Lines with tabs are tokens the are part of a mention:\n",
    "> - column 1 is the token\n",
    "> - column 2 is either B (beginning of a mention) or I (continuation of a mention)\n",
    "> - column 3 is the full mention used to find entity candidates\n",
    "> - column 4 is the corresponding YAGO2 entity (in YAGO encoding, i.e. unicode characters are backslash encoded and spaces are replaced by underscores, see also the tools on the YAGO2 website), OR --NME--, denoting that there is no matching entity in YAGO2 for this particular mention, or that we are missing the connection between the mention string and the YAGO2 entity.\n",
    "> - column 5 is the corresponding Wikipedia URL of the entity (added for convenience when evaluating against a Wikipedia based method)\n",
    "> - column 6 is the corresponding Wikipedia ID of the entity (added for convenience when evaluating against a Wikipedia based method - the ID refers to the dump used for annotation, 2010-08-17)\n",
    "> - column 7 is the corresponding Freebase mid, if there is one (thanks to Massimiliano Ciaramita from Google Zürich for creating the mapping and making it available to us)\n",
    "\n"
   ]
  },
  {
   "cell_type": "code",
   "execution_count": 22,
   "metadata": {},
   "outputs": [],
   "source": [
    "import csv\n",
    "# df_acy = dd.read_csv('../../aida-conll-yago-dataset/AIDA-YAGO2-DATASET.tsv', sep='\\t',dtype='object').compute()\n",
    "# res = df.infer_objects()\n",
    "\n",
    "tsv_file = open('../../aida-conll-yago-dataset/AIDA-YAGO2-DATASET.tsv')\n",
    "read_tsv = csv.reader(tsv_file, delimiter=\"\\t\")\n",
    "df = []\n",
    "for row in read_tsv:\n",
    "    df.append(row)"
   ]
  },
  {
   "cell_type": "code",
   "execution_count": 23,
   "metadata": {},
   "outputs": [
    {
     "data": {
      "text/html": [
       "<div>\n",
       "<style scoped>\n",
       "    .dataframe tbody tr th:only-of-type {\n",
       "        vertical-align: middle;\n",
       "    }\n",
       "\n",
       "    .dataframe tbody tr th {\n",
       "        vertical-align: top;\n",
       "    }\n",
       "\n",
       "    .dataframe thead th {\n",
       "        text-align: right;\n",
       "    }\n",
       "</style>\n",
       "<table border=\"1\" class=\"dataframe\">\n",
       "  <thead>\n",
       "    <tr style=\"text-align: right;\">\n",
       "      <th></th>\n",
       "      <th>0</th>\n",
       "      <th>1</th>\n",
       "      <th>2</th>\n",
       "      <th>3</th>\n",
       "      <th>4</th>\n",
       "      <th>5</th>\n",
       "      <th>6</th>\n",
       "    </tr>\n",
       "  </thead>\n",
       "  <tbody>\n",
       "    <tr>\n",
       "      <td>0</td>\n",
       "      <td>EU</td>\n",
       "      <td>B</td>\n",
       "      <td>EU</td>\n",
       "      <td>--NME--</td>\n",
       "      <td>None</td>\n",
       "      <td>None</td>\n",
       "      <td>None</td>\n",
       "    </tr>\n",
       "    <tr>\n",
       "      <td>1</td>\n",
       "      <td>rejects</td>\n",
       "      <td>None</td>\n",
       "      <td>None</td>\n",
       "      <td>None</td>\n",
       "      <td>None</td>\n",
       "      <td>None</td>\n",
       "      <td>None</td>\n",
       "    </tr>\n",
       "    <tr>\n",
       "      <td>2</td>\n",
       "      <td>German</td>\n",
       "      <td>B</td>\n",
       "      <td>German</td>\n",
       "      <td>Germany</td>\n",
       "      <td>http://en.wikipedia.org/wiki/Germany</td>\n",
       "      <td>11867</td>\n",
       "      <td>/m/0345h</td>\n",
       "    </tr>\n",
       "    <tr>\n",
       "      <td>3</td>\n",
       "      <td>call</td>\n",
       "      <td>None</td>\n",
       "      <td>None</td>\n",
       "      <td>None</td>\n",
       "      <td>None</td>\n",
       "      <td>None</td>\n",
       "      <td>None</td>\n",
       "    </tr>\n",
       "    <tr>\n",
       "      <td>4</td>\n",
       "      <td>to</td>\n",
       "      <td>None</td>\n",
       "      <td>None</td>\n",
       "      <td>None</td>\n",
       "      <td>None</td>\n",
       "      <td>None</td>\n",
       "      <td>None</td>\n",
       "    </tr>\n",
       "  </tbody>\n",
       "</table>\n",
       "</div>"
      ],
      "text/plain": [
       "         0     1       2        3                                     4  \\\n",
       "0       EU     B      EU  --NME--                                  None   \n",
       "1  rejects  None    None     None                                  None   \n",
       "2   German     B  German  Germany  http://en.wikipedia.org/wiki/Germany   \n",
       "3     call  None    None     None                                  None   \n",
       "4       to  None    None     None                                  None   \n",
       "\n",
       "       5         6  \n",
       "0   None      None  \n",
       "1   None      None  \n",
       "2  11867  /m/0345h  \n",
       "3   None      None  \n",
       "4   None      None  "
      ]
     },
     "execution_count": 23,
     "metadata": {},
     "output_type": "execute_result"
    }
   ],
   "source": [
    "acy_df = pd.DataFrame(data = df[1:])\n",
    "acy_df.head()"
   ]
  },
  {
   "cell_type": "code",
   "execution_count": 45,
   "metadata": {},
   "outputs": [
    {
     "name": "stdout",
     "output_type": "stream",
     "text": [
      "16.60% of them had a full mention matched\n"
     ]
    }
   ],
   "source": [
    "print('{:.2f}% of them had a full mention matched'.format(sum([i!=None for i in acy_df[2]])/len(acy_df)*100))"
   ]
  },
  {
   "cell_type": "code",
   "execution_count": 48,
   "metadata": {},
   "outputs": [
    {
     "name": "stdout",
     "output_type": "stream",
     "text": [
      "12.60% of them had a yago2 entity matched\n"
     ]
    }
   ],
   "source": [
    "print('{:.2f}% of them had a yago2 entity matched'.format(sum([(i!=None and i!='--NME--') for i in acy_df[3]])/len(acy_df)*100))"
   ]
  },
  {
   "cell_type": "code",
   "execution_count": 50,
   "metadata": {},
   "outputs": [
    {
     "name": "stdout",
     "output_type": "stream",
     "text": [
      "12.60% of them had a wikipedia page matched\n"
     ]
    }
   ],
   "source": [
    "print('{:.2f}% of them had a wikipedia page matched'.format(sum([i!=None for i in acy_df[4]])/len(acy_df)*100))"
   ]
  },
  {
   "cell_type": "code",
   "execution_count": 51,
   "metadata": {},
   "outputs": [
    {
     "name": "stdout",
     "output_type": "stream",
     "text": [
      "12.60% of them had a freebase mid matched\n"
     ]
    }
   ],
   "source": [
    "print('{:.2f}% of them had a freebase mid matched'.format(sum([i!=None for i in acy_df[6]])/len(acy_df)*100))"
   ]
  },
  {
   "cell_type": "markdown",
   "metadata": {},
   "source": [
    "## KWNLP data"
   ]
  },
  {
   "cell_type": "code",
   "execution_count": null,
   "metadata": {},
   "outputs": [],
   "source": []
  }
 ],
 "metadata": {
  "kernelspec": {
   "display_name": "Python 3",
   "language": "python",
   "name": "python3"
  },
  "language_info": {
   "codemirror_mode": {
    "name": "ipython",
    "version": 3
   },
   "file_extension": ".py",
   "mimetype": "text/x-python",
   "name": "python",
   "nbconvert_exporter": "python",
   "pygments_lexer": "ipython3",
   "version": "3.7.4"
  }
 },
 "nbformat": 4,
 "nbformat_minor": 4
}
