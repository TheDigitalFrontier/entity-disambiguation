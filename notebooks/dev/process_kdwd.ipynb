{
 "cells": [
  {
   "cell_type": "code",
   "execution_count": 1,
   "metadata": {},
   "outputs": [],
   "source": [
    "import os\n",
    "import json\n",
    "import time\n",
    "import pickle\n",
    "\n",
    "from nltk.tokenize import sent_tokenize, word_tokenize"
   ]
  },
  {
   "cell_type": "code",
   "execution_count": 2,
   "metadata": {},
   "outputs": [],
   "source": [
    "# import nltk\n",
    "# nltk.download('punkt')"
   ]
  },
  {
   "cell_type": "code",
   "execution_count": 3,
   "metadata": {},
   "outputs": [
    {
     "name": "stdout",
     "output_type": "stream",
     "text": [
      "../../data/kdwd/item_aliases.csv\n",
      "../../data/kdwd/page.csv\n",
      "../../data/kdwd/statements.csv\n",
      "../../data/kdwd/link_annotated_text_short.jsonl\n",
      "../../data/kdwd/property.csv\n",
      "../../data/kdwd/item.csv\n",
      "../../data/kdwd/processed_kdwd.pickle\n",
      "../../data/kdwd/property_aliases.csv\n",
      "../../data/kdwd/processed_kdwd.txt\n",
      "../../data/kdwd/link_annotated_text.jsonl\n"
     ]
    }
   ],
   "source": [
    "kdwd_path = '../../data/kdwd/'\n",
    "for dirname, _, filenames in os.walk(kdwd_path):\n",
    "    for filename in filenames:\n",
    "        print(os.path.join(dirname, filename))"
   ]
  },
  {
   "cell_type": "markdown",
   "metadata": {},
   "source": [
    "Link to check Wikipedia ID: `https://en.wikipedia.org/?curid={wikipedia_ID}`"
   ]
  },
  {
   "cell_type": "markdown",
   "metadata": {},
   "source": [
    "---"
   ]
  },
  {
   "cell_type": "code",
   "execution_count": 4,
   "metadata": {},
   "outputs": [],
   "source": [
    "input_file_path = os.path.join(kdwd_path, \"link_annotated_text_short.jsonl\")"
   ]
  },
  {
   "cell_type": "code",
   "execution_count": 5,
   "metadata": {},
   "outputs": [],
   "source": [
    "with open(input_file_path) as file:\n",
    "    input_data = file.readlines()"
   ]
  },
  {
   "cell_type": "code",
   "execution_count": 6,
   "metadata": {
    "scrolled": false
   },
   "outputs": [
    {
     "data": {
      "text/plain": [
       "301"
      ]
     },
     "execution_count": 6,
     "metadata": {},
     "output_type": "execute_result"
    }
   ],
   "source": [
    "len(input_data)"
   ]
  },
  {
   "cell_type": "code",
   "execution_count": 7,
   "metadata": {
    "scrolled": false
   },
   "outputs": [
    {
     "name": "stdout",
     "output_type": "stream",
     "text": [
      "time taken: 37.53458499908447 seconds\n",
      "time taken per page: 0.12469961793715771 seconds\n"
     ]
    }
   ],
   "source": [
    "# create new file to sale processed data\n",
    "output_file_path = os.path.join(kdwd_path, \"processed_kdwd.txt\")\n",
    "output_file = open(output_file_path, 'w')\n",
    "\n",
    "# initialize counters for pages and units (sentences)\n",
    "page_number = 0\n",
    "unit_number = 0\n",
    "\n",
    "# start the clock\n",
    "start_time = time.time()\n",
    "\n",
    "# loop over each page in input\n",
    "for page in input_data:\n",
    "    \n",
    "    # extract page-level info\n",
    "    page_json = json.loads(page)\n",
    "    page_id = page_json['page_id']\n",
    "    \n",
    "    # loop over each section in the current page\n",
    "    for section in page_json['sections']:\n",
    "        \n",
    "        # extract section-level info\n",
    "        section_name = section['name']\n",
    "        section_text = section['text']\n",
    "        section_link_lengths = section['link_lengths']\n",
    "        section_link_offsets = section['link_offsets']\n",
    "        section_target_page_ids = section['target_page_ids']\n",
    "        \n",
    "        # running_index helps determine whether current word is identified as an entity\n",
    "        running_index = 0\n",
    "        \n",
    "        # initialize section-specific params / first \n",
    "        entity_start = section_link_offsets[0]\n",
    "        entity_end = entity_start + section_link_lengths[0]\n",
    "        \n",
    "        # split section into sentences\n",
    "        sentences = sent_tokenize(section_text)\n",
    "        \n",
    "        # loop over each sentence in the current section\n",
    "        for sentence in sentences:\n",
    "            \n",
    "            # unpdate running index to beginning of sentence\n",
    "            running_index = section_text.find(sentence, running_index)\n",
    "            \n",
    "            # split sentence into words\n",
    "            words = word_tokenize(sentence)\n",
    "            \n",
    "            # loop over each word in the current sentence\n",
    "            for word in words:\n",
    "                \n",
    "                # unpdate running index to beginning of word\n",
    "                running_index = section_text.find(word, running_index)\n",
    "                \n",
    "                # check whether this word corresponds to an entity in the given list\n",
    "                if running_index in section_link_offsets:\n",
    "                    \n",
    "                    # position of entity in the given list\n",
    "                    entity_pos = section_link_offsets.index(running_index)\n",
    "                    \n",
    "                    # entity start and end indices\n",
    "                    entity_start = section_link_offsets[entity_pos]\n",
    "                    entity_end = entity_start + section_link_lengths[entity_pos]\n",
    "                    \n",
    "                    # extract entity name and id\n",
    "                    entity_name = section_text[entity_start:entity_end]\n",
    "                    entity_id = section_target_page_ids[entity_pos]\n",
    "                \n",
    "                # check whether this word is latter part of the entity name\n",
    "                elif running_index > entity_start and running_index < entity_end:\n",
    "                    \n",
    "                    # entity name and id still true\n",
    "                    pass\n",
    "                        \n",
    "                else:\n",
    "                    \n",
    "                    # erase entity name and id\n",
    "                    entity_name = None\n",
    "                    entity_id = None\n",
    "                \n",
    "                # append current token to dataframe \n",
    "                observation = {\n",
    "                    'page_id': page_id,\n",
    "                    'section_name': section_name,\n",
    "                    'token': word,\n",
    "                    'full_mention': entity_name,\n",
    "                    'wikipedia_ID': entity_id,\n",
    "                    'unit_number': unit_number,\n",
    "                    'full_sentence': sentence\n",
    "                }\n",
    "                output_file.write(str(observation)+'\\n')\n",
    "                \n",
    "                # update running index to end of word\n",
    "                running_index += len(word)\n",
    "            \n",
    "            # increment unit number\n",
    "            unit_number += 1\n",
    "            \n",
    "    # increment page number\n",
    "    page_number += 1\n",
    "    \n",
    "# stop the clock\n",
    "end_time = time.time()\n",
    "\n",
    "print(f'time taken: {end_time-start_time} seconds')\n",
    "print(f'time taken per page: {(end_time-start_time)/page_number} seconds')"
   ]
  },
  {
   "cell_type": "markdown",
   "metadata": {},
   "source": [
    "---"
   ]
  },
  {
   "cell_type": "code",
   "execution_count": 16,
   "metadata": {},
   "outputs": [],
   "source": [
    "full_file = os.path.join(kdwd_path, \"link_annotated_text.jsonl\")"
   ]
  },
  {
   "cell_type": "code",
   "execution_count": 17,
   "metadata": {},
   "outputs": [],
   "source": [
    "with open(full_file) as file:\n",
    "    total_pages = sum(1 for line in file)"
   ]
  },
  {
   "cell_type": "code",
   "execution_count": 18,
   "metadata": {},
   "outputs": [
    {
     "data": {
      "text/plain": [
       "5343565"
      ]
     },
     "execution_count": 18,
     "metadata": {},
     "output_type": "execute_result"
    }
   ],
   "source": [
    "total_pages"
   ]
  }
 ],
 "metadata": {
  "kernelspec": {
   "display_name": "Python 3",
   "language": "python",
   "name": "python3"
  },
  "language_info": {
   "codemirror_mode": {
    "name": "ipython",
    "version": 3
   },
   "file_extension": ".py",
   "mimetype": "text/x-python",
   "name": "python",
   "nbconvert_exporter": "python",
   "pygments_lexer": "ipython3",
   "version": "3.8.6"
  }
 },
 "nbformat": 4,
 "nbformat_minor": 4
}
