{
  "nbformat": 4,
  "nbformat_minor": 0,
  "metadata": {
    "kernelspec": {
      "display_name": "Python 3",
      "language": "python",
      "name": "python3"
    },
    "language_info": {
      "codemirror_mode": {
        "name": "ipython",
        "version": 3
      },
      "file_extension": ".py",
      "mimetype": "text/x-python",
      "name": "python",
      "nbconvert_exporter": "python",
      "pygments_lexer": "ipython3",
      "version": "3.7.7"
    },
    "colab": {
      "name": "3b_wikipedia2vec_mostsimilar_colab500.ipynb",
      "provenance": [],
      "collapsed_sections": []
    },
    "accelerator": "GPU"
  },
  "cells": [
    {
      "cell_type": "markdown",
      "metadata": {
        "id": "99A4utu3SdQv"
      },
      "source": [
        "# Step Three (B): Find Similar Entities via Adapted Wikipedia2vec most_similar()\n",
        "\n",
        "We have now returned all of the entities we'll get from direct querying of the package. We must now use alternate measures to identify candidate entities and select from that pool."
      ]
    },
    {
      "cell_type": "markdown",
      "metadata": {
        "id": "zgfTiDYVSgFm"
      },
      "source": [
        "# Note: This is the colab version used for trying to improve speed and use higher-dimensional vectors.\n",
        "\n",
        "# 500D IS INTRACTABLE. IT TAKES 8 MINUTES FOR A SINGLE QUERY, VERSUS 2S FOR 100D"
      ]
    },
    {
      "cell_type": "markdown",
      "metadata": {
        "id": "xfeFJmbFSdQv"
      },
      "source": [
        "#### Import Packages"
      ]
    },
    {
      "cell_type": "code",
      "metadata": {
        "id": "RhsLecMKSdQv"
      },
      "source": [
        "import os\n",
        "import time\n",
        "\n",
        "import pandas as pd\n",
        "import numpy as np\n",
        "import matplotlib.pyplot as plt\n",
        "%matplotlib inline\n",
        "\n",
        "# Progress bar\n",
        "from tqdm import tqdm"
      ],
      "execution_count": 1,
      "outputs": []
    },
    {
      "cell_type": "code",
      "metadata": {
        "colab": {
          "base_uri": "https://localhost:8080/"
        },
        "id": "Y6sfDuYMSsHA",
        "outputId": "48e35f4c-e806-4de6-a9f0-9d956cbc5ba5"
      },
      "source": [
        "!pip install wikipedia2vec"
      ],
      "execution_count": 3,
      "outputs": [
        {
          "output_type": "stream",
          "text": [
            "Collecting wikipedia2vec\n",
            "\u001b[?25l  Downloading https://files.pythonhosted.org/packages/d8/88/751037c70ca86581d444824e66bb799ef9060339a1d5d1fc1804c422d7cc/wikipedia2vec-1.0.4.tar.gz (1.2MB)\n",
            "\u001b[K     |████████████████████████████████| 1.2MB 13.2MB/s \n",
            "\u001b[?25hRequirement already satisfied: click in /usr/local/lib/python3.6/dist-packages (from wikipedia2vec) (7.1.2)\n",
            "Requirement already satisfied: jieba in /usr/local/lib/python3.6/dist-packages (from wikipedia2vec) (0.42.1)\n",
            "Requirement already satisfied: joblib in /usr/local/lib/python3.6/dist-packages (from wikipedia2vec) (0.17.0)\n",
            "Requirement already satisfied: lmdb in /usr/local/lib/python3.6/dist-packages (from wikipedia2vec) (0.99)\n",
            "Collecting marisa-trie\n",
            "\u001b[?25l  Downloading https://files.pythonhosted.org/packages/20/95/d23071d0992dabcb61c948fb118a90683193befc88c23e745b050a29e7db/marisa-trie-0.7.5.tar.gz (270kB)\n",
            "\u001b[K     |████████████████████████████████| 276kB 54.0MB/s \n",
            "\u001b[?25hCollecting mwparserfromhell\n",
            "\u001b[?25l  Downloading https://files.pythonhosted.org/packages/23/03/4fb04da533c7e237c0104151c028d8bff856293d34e51d208c529696fb79/mwparserfromhell-0.5.4.tar.gz (135kB)\n",
            "\u001b[K     |████████████████████████████████| 143kB 56.9MB/s \n",
            "\u001b[?25hRequirement already satisfied: numpy in /usr/local/lib/python3.6/dist-packages (from wikipedia2vec) (1.18.5)\n",
            "Requirement already satisfied: scipy in /usr/local/lib/python3.6/dist-packages (from wikipedia2vec) (1.4.1)\n",
            "Requirement already satisfied: six in /usr/local/lib/python3.6/dist-packages (from wikipedia2vec) (1.15.0)\n",
            "Requirement already satisfied: tqdm in /usr/local/lib/python3.6/dist-packages (from wikipedia2vec) (4.41.1)\n",
            "Building wheels for collected packages: wikipedia2vec, marisa-trie, mwparserfromhell\n",
            "  Building wheel for wikipedia2vec (setup.py) ... \u001b[?25l\u001b[?25hdone\n",
            "  Created wheel for wikipedia2vec: filename=wikipedia2vec-1.0.4-cp36-cp36m-linux_x86_64.whl size=4581793 sha256=bae47dc4035b009ab0599d87411d48d926fe0fe394892f6e9f3fd12e9d749fd1\n",
            "  Stored in directory: /root/.cache/pip/wheels/16/e7/02/852c8ce366cc10adcf5d43c6471bbf926dd15c277578c13184\n",
            "  Building wheel for marisa-trie (setup.py) ... \u001b[?25l\u001b[?25hdone\n",
            "  Created wheel for marisa-trie: filename=marisa_trie-0.7.5-cp36-cp36m-linux_x86_64.whl size=861498 sha256=a1e8f6267d1706f23b8a5c88ae1157d2d105a7ee6cb13d30e1ae3af27f8ec214\n",
            "  Stored in directory: /root/.cache/pip/wheels/45/24/79/022624fc914f0e559fe8a1141aaff1f9df810905a13fc75d57\n",
            "  Building wheel for mwparserfromhell (setup.py) ... \u001b[?25l\u001b[?25hdone\n",
            "  Created wheel for mwparserfromhell: filename=mwparserfromhell-0.5.4-cp36-cp36m-linux_x86_64.whl size=183778 sha256=9a3dc04081d583ccbd41cd4e17fcf9f45a8c94b371566e20392737de2ec00edf\n",
            "  Stored in directory: /root/.cache/pip/wheels/2a/76/d5/7088b941df3b362c45dd7912dd05314bc034751ec9cbca9a75\n",
            "Successfully built wikipedia2vec marisa-trie mwparserfromhell\n",
            "Installing collected packages: marisa-trie, mwparserfromhell, wikipedia2vec\n",
            "Successfully installed marisa-trie-0.7.5 mwparserfromhell-0.5.4 wikipedia2vec-1.0.4\n"
          ],
          "name": "stdout"
        }
      ]
    },
    {
      "cell_type": "code",
      "metadata": {
        "id": "nvutw5sFSdQw"
      },
      "source": [
        "# Package\n",
        "from wikipedia2vec import Wikipedia2Vec\n",
        "\n",
        "# Class to compare type\n",
        "from wikipedia2vec.dictionary import Entity"
      ],
      "execution_count": 4,
      "outputs": []
    },
    {
      "cell_type": "code",
      "metadata": {
        "colab": {
          "base_uri": "https://localhost:8080/"
        },
        "id": "MiN_d5aXTP0w",
        "outputId": "3f447efd-126d-407b-8a7a-f310127e475c"
      },
      "source": [
        "# Download dimensional file from Wikipedia2vec website\n",
        "!curl -O http://wikipedia2vec.s3.amazonaws.com/models/en/2018-04-20/enwiki_20180420_500d.pkl.bz2"
      ],
      "execution_count": 5,
      "outputs": [
        {
          "output_type": "stream",
          "text": [
            "  % Total    % Received % Xferd  Average Speed   Time    Time     Time  Current\n",
            "                                 Dload  Upload   Total   Spent    Left  Speed\n",
            "100 16.1G  100 16.1G    0     0  19.8M      0  0:13:51  0:13:51 --:--:-- 19.9M\n"
          ],
          "name": "stdout"
        }
      ]
    },
    {
      "cell_type": "code",
      "metadata": {
        "id": "A6DSBUDsTaJj"
      },
      "source": [
        "!bzip2 -d enwiki_20180420_500d.pkl.bz2"
      ],
      "execution_count": 6,
      "outputs": []
    },
    {
      "cell_type": "code",
      "metadata": {
        "colab": {
          "base_uri": "https://localhost:8080/"
        },
        "id": "Jf9yoICTUKVF",
        "outputId": "ba3fa435-0286-46db-d22e-278d4100cd1f"
      },
      "source": [
        "!ls"
      ],
      "execution_count": 7,
      "outputs": [
        {
          "output_type": "stream",
          "text": [
            "enwiki_20180420_500d.pkl  sample_data\n"
          ],
          "name": "stdout"
        }
      ]
    },
    {
      "cell_type": "code",
      "metadata": {
        "colab": {
          "base_uri": "https://localhost:8080/"
        },
        "id": "e_xYmqKnSdQw",
        "outputId": "35a5abd7-6941-4a6f-ed2f-28f172dbbdd8"
      },
      "source": [
        "%%time\n",
        "# Load unzipped pkl file with word embeddings\n",
        "w2v = Wikipedia2Vec.load(\"enwiki_20180420_500d.pkl\")"
      ],
      "execution_count": 8,
      "outputs": [
        {
          "output_type": "stream",
          "text": [
            "CPU times: user 46.6 ms, sys: 164 ms, total: 210 ms\n",
            "Wall time: 2.66 s\n"
          ],
          "name": "stdout"
        }
      ]
    },
    {
      "cell_type": "markdown",
      "metadata": {
        "id": "Mm8vSJy4SdQx"
      },
      "source": [
        "## Load ACY Input Data"
      ]
    },
    {
      "cell_type": "code",
      "metadata": {
        "colab": {
          "resources": {
            "http://localhost:8080/nbextensions/google.colab/files.js": {
              "data": "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",
              "ok": true,
              "headers": [
                [
                  "content-type",
                  "application/javascript"
                ]
              ],
              "status": 200,
              "status_text": "OK"
            }
          },
          "base_uri": "https://localhost:8080/",
          "height": 70
        },
        "id": "ozmmrZ18WwBz",
        "outputId": "cfaab551-6a40-48ca-82ed-a88ebaca4d3c"
      },
      "source": [
        "from google.colab import files\n",
        "uploaded = files.upload()"
      ],
      "execution_count": 9,
      "outputs": [
        {
          "output_type": "display_data",
          "data": {
            "text/html": [
              "\n",
              "     <input type=\"file\" id=\"files-6c7e7659-d448-4794-8013-45edaaae5be8\" name=\"files[]\" multiple disabled\n",
              "        style=\"border:none\" />\n",
              "     <output id=\"result-6c7e7659-d448-4794-8013-45edaaae5be8\">\n",
              "      Upload widget is only available when the cell has been executed in the\n",
              "      current browser session. Please rerun this cell to enable.\n",
              "      </output>\n",
              "      <script src=\"/nbextensions/google.colab/files.js\"></script> "
            ],
            "text/plain": [
              "<IPython.core.display.HTML object>"
            ]
          },
          "metadata": {
            "tags": []
          }
        },
        {
          "output_type": "stream",
          "text": [
            "Saving Aida-Conll-Yago-Input.csv to Aida-Conll-Yago-Input.csv\n"
          ],
          "name": "stdout"
        }
      ]
    },
    {
      "cell_type": "code",
      "metadata": {
        "colab": {
          "base_uri": "https://localhost:8080/"
        },
        "id": "aJJNvJAdXKS3",
        "outputId": "09bb70ff-6220-48c7-b5b3-dc542a20741c"
      },
      "source": [
        "!ls"
      ],
      "execution_count": 10,
      "outputs": [
        {
          "output_type": "stream",
          "text": [
            "Aida-Conll-Yago-Input.csv  enwiki_20180420_500d.pkl  sample_data\n"
          ],
          "name": "stdout"
        }
      ]
    },
    {
      "cell_type": "code",
      "metadata": {
        "colab": {
          "base_uri": "https://localhost:8080/",
          "height": 143
        },
        "id": "u8Su72NSSdQx",
        "outputId": "6e90251b-c27e-4fc5-8d86-d4b99ef553c0"
      },
      "source": [
        "# Load data\n",
        "acy_input = pd.read_csv(\"Aida-Conll-Yago-Input.csv\", delimiter=\",\")\n",
        "acy_input.head(3)"
      ],
      "execution_count": 11,
      "outputs": [
        {
          "output_type": "execute_result",
          "data": {
            "text/html": [
              "<div>\n",
              "<style scoped>\n",
              "    .dataframe tbody tr th:only-of-type {\n",
              "        vertical-align: middle;\n",
              "    }\n",
              "\n",
              "    .dataframe tbody tr th {\n",
              "        vertical-align: top;\n",
              "    }\n",
              "\n",
              "    .dataframe thead th {\n",
              "        text-align: right;\n",
              "    }\n",
              "</style>\n",
              "<table border=\"1\" class=\"dataframe\">\n",
              "  <thead>\n",
              "    <tr style=\"text-align: right;\">\n",
              "      <th></th>\n",
              "      <th>mention</th>\n",
              "      <th>full_mention</th>\n",
              "      <th>wikipedia_URL</th>\n",
              "      <th>wikipedia_page_ID</th>\n",
              "      <th>wikipedia_title</th>\n",
              "      <th>sentence_id</th>\n",
              "      <th>doc_id</th>\n",
              "      <th>congruent_mentions</th>\n",
              "    </tr>\n",
              "  </thead>\n",
              "  <tbody>\n",
              "    <tr>\n",
              "      <th>0</th>\n",
              "      <td>B</td>\n",
              "      <td>EU</td>\n",
              "      <td>NaN</td>\n",
              "      <td>NaN</td>\n",
              "      <td>NaN</td>\n",
              "      <td>0</td>\n",
              "      <td>0</td>\n",
              "      <td>['EU', 'German', 'British']</td>\n",
              "    </tr>\n",
              "    <tr>\n",
              "      <th>1</th>\n",
              "      <td>B</td>\n",
              "      <td>German</td>\n",
              "      <td>http://en.wikipedia.org/wiki/Germany</td>\n",
              "      <td>11867.0</td>\n",
              "      <td>Germany</td>\n",
              "      <td>0</td>\n",
              "      <td>0</td>\n",
              "      <td>['EU', 'German', 'British']</td>\n",
              "    </tr>\n",
              "    <tr>\n",
              "      <th>2</th>\n",
              "      <td>B</td>\n",
              "      <td>British</td>\n",
              "      <td>http://en.wikipedia.org/wiki/United_Kingdom</td>\n",
              "      <td>31717.0</td>\n",
              "      <td>United Kingdom</td>\n",
              "      <td>0</td>\n",
              "      <td>0</td>\n",
              "      <td>['EU', 'German', 'British']</td>\n",
              "    </tr>\n",
              "  </tbody>\n",
              "</table>\n",
              "</div>"
            ],
            "text/plain": [
              "  mention full_mention  ... doc_id           congruent_mentions\n",
              "0       B           EU  ...      0  ['EU', 'German', 'British']\n",
              "1       B       German  ...      0  ['EU', 'German', 'British']\n",
              "2       B      British  ...      0  ['EU', 'German', 'British']\n",
              "\n",
              "[3 rows x 8 columns]"
            ]
          },
          "metadata": {
            "tags": []
          },
          "execution_count": 11
        }
      ]
    },
    {
      "cell_type": "code",
      "metadata": {
        "id": "TN04dU2bSdQy"
      },
      "source": [
        "# Re-name \n",
        "candidate_pools = acy_input.copy()"
      ],
      "execution_count": 12,
      "outputs": []
    },
    {
      "cell_type": "markdown",
      "metadata": {
        "id": "okne7Ol7SdQy"
      },
      "source": [
        "## Find most similar entity using Wikipedia2vec\n",
        "\n",
        "We now turn to using a variation on Wikipedia2vec's `most_similar()` function to find, for entered words, the most similar entity. We do this as an added-layer, meaning only for those without an estimate, and for all full mentions, to compare performance."
      ]
    },
    {
      "cell_type": "code",
      "metadata": {
        "scrolled": true,
        "colab": {
          "base_uri": "https://localhost:8080/",
          "height": 178
        },
        "id": "VHIGXQMTSdQy",
        "outputId": "601ea80e-43cc-4dd6-96f8-3fca7c7222d2"
      },
      "source": [
        "# Normalize full_mentions to lower case for entry into most_similar() function\n",
        "full_mention_norm = np.array([x.lower() for x in candidate_pools['full_mention']])\n",
        "candidate_pools['full_mention_norm'] = full_mention_norm\n",
        "candidate_pools.head(3)"
      ],
      "execution_count": 13,
      "outputs": [
        {
          "output_type": "execute_result",
          "data": {
            "text/html": [
              "<div>\n",
              "<style scoped>\n",
              "    .dataframe tbody tr th:only-of-type {\n",
              "        vertical-align: middle;\n",
              "    }\n",
              "\n",
              "    .dataframe tbody tr th {\n",
              "        vertical-align: top;\n",
              "    }\n",
              "\n",
              "    .dataframe thead th {\n",
              "        text-align: right;\n",
              "    }\n",
              "</style>\n",
              "<table border=\"1\" class=\"dataframe\">\n",
              "  <thead>\n",
              "    <tr style=\"text-align: right;\">\n",
              "      <th></th>\n",
              "      <th>mention</th>\n",
              "      <th>full_mention</th>\n",
              "      <th>wikipedia_URL</th>\n",
              "      <th>wikipedia_page_ID</th>\n",
              "      <th>wikipedia_title</th>\n",
              "      <th>sentence_id</th>\n",
              "      <th>doc_id</th>\n",
              "      <th>congruent_mentions</th>\n",
              "      <th>full_mention_norm</th>\n",
              "    </tr>\n",
              "  </thead>\n",
              "  <tbody>\n",
              "    <tr>\n",
              "      <th>0</th>\n",
              "      <td>B</td>\n",
              "      <td>EU</td>\n",
              "      <td>NaN</td>\n",
              "      <td>NaN</td>\n",
              "      <td>NaN</td>\n",
              "      <td>0</td>\n",
              "      <td>0</td>\n",
              "      <td>['EU', 'German', 'British']</td>\n",
              "      <td>eu</td>\n",
              "    </tr>\n",
              "    <tr>\n",
              "      <th>1</th>\n",
              "      <td>B</td>\n",
              "      <td>German</td>\n",
              "      <td>http://en.wikipedia.org/wiki/Germany</td>\n",
              "      <td>11867.0</td>\n",
              "      <td>Germany</td>\n",
              "      <td>0</td>\n",
              "      <td>0</td>\n",
              "      <td>['EU', 'German', 'British']</td>\n",
              "      <td>german</td>\n",
              "    </tr>\n",
              "    <tr>\n",
              "      <th>2</th>\n",
              "      <td>B</td>\n",
              "      <td>British</td>\n",
              "      <td>http://en.wikipedia.org/wiki/United_Kingdom</td>\n",
              "      <td>31717.0</td>\n",
              "      <td>United Kingdom</td>\n",
              "      <td>0</td>\n",
              "      <td>0</td>\n",
              "      <td>['EU', 'German', 'British']</td>\n",
              "      <td>british</td>\n",
              "    </tr>\n",
              "  </tbody>\n",
              "</table>\n",
              "</div>"
            ],
            "text/plain": [
              "  mention full_mention  ...           congruent_mentions  full_mention_norm\n",
              "0       B           EU  ...  ['EU', 'German', 'British']                 eu\n",
              "1       B       German  ...  ['EU', 'German', 'British']             german\n",
              "2       B      British  ...  ['EU', 'German', 'British']            british\n",
              "\n",
              "[3 rows x 9 columns]"
            ]
          },
          "metadata": {
            "tags": []
          },
          "execution_count": 13
        }
      ]
    },
    {
      "cell_type": "code",
      "metadata": {
        "colab": {
          "base_uri": "https://localhost:8080/",
          "height": 1000
        },
        "id": "pp9AGHznSdQy",
        "outputId": "cdc3a5a4-31c9-4b08-c9ed-0f1a300bd807"
      },
      "source": [
        "### Test single full mention query time\n",
        "start_time = time.time()\n",
        "\n",
        "# Print word\n",
        "search_word = candidate_pools['full_mention_norm'][2]\n",
        "print(\"Search Word: \", search_word)\n",
        "\n",
        "# Translate word into vector\n",
        "# Handles multi-word mentions\n",
        "search_word_list = search_word.split(\" \")\n",
        "search_word_vector = None\n",
        "for word in search_word_list:\n",
        "    try:\n",
        "        vector = w2v.get_word_vector(str(word))\n",
        "    except KeyError:\n",
        "        print(\"This word is Out of Vocabulary (OOV) for Wikipedia2vec.\")\n",
        "        vector = None\n",
        "        \n",
        "    if search_word_vector is None:\n",
        "        search_word_vector = vector\n",
        "    else:\n",
        "        search_word_vector += vector\n",
        "\n",
        "if search_word_vector is not None:\n",
        "    # Get most similar word\n",
        "    count_similar = 500\n",
        "    similar = w2v.most_similar_by_vector(search_word_vector, count_similar)\n",
        "\n",
        "    # Retrieve only entities from word\n",
        "    entities = []\n",
        "    return_similar = 10\n",
        "    for i in similar:\n",
        "    #     print(type(i[0]))\n",
        "        if isinstance(i[0], Entity):\n",
        "            entities.append(i)\n",
        "    #     if len(entities) == return_similar:\n",
        "    #         break\n",
        "    display(entities)\n",
        "end_time = time.time()\n",
        "print(f\"Single Word Query Time: {round(end_time - start_time, 2)}s\")"
      ],
      "execution_count": 14,
      "outputs": [
        {
          "output_type": "stream",
          "text": [
            "Search Word:  british\n"
          ],
          "name": "stdout"
        },
        {
          "output_type": "display_data",
          "data": {
            "text/plain": [
              "[(<Entity United Kingdom>, 0.4746339),\n",
              " (<Entity John Osbaldiston Field>, 0.45445728),\n",
              " (<Entity Valentine Boucher>, 0.45051035),\n",
              " (<Entity British Army>, 0.4449676),\n",
              " (<Entity List of colonial governors of the British Virgin Islands>,\n",
              "  0.44208843),\n",
              " (<Entity List of British middleweight boxing champions>, 0.4411608),\n",
              " (<Entity Derek George Cudmore>, 0.4407883),\n",
              " (<Entity Stephen Chapman (British Army officer)>, 0.4302066),\n",
              " (<Entity Walter Wilkinson Wallace>, 0.43019333),\n",
              " (<Entity The Bigamist (1921 film)>, 0.42996034),\n",
              " (<Entity Henry Maynard Ball>, 0.4297536),\n",
              " (<Entity Deadlock (1943 film)>, 0.42930114),\n",
              " (<Entity David Robert Barwick>, 0.42919323),\n",
              " (<Entity John Henry Cates>, 0.4291481),\n",
              " (<Entity Recorder of Manchester>, 0.42779085),\n",
              " (<Entity Frank McKelvey Bell>, 0.42712817),\n",
              " (<Entity Colin Shortis>, 0.42692956),\n",
              " (<Entity Stepping Stones (film)>, 0.42692292),\n",
              " (<Entity Norman Williams (artist)>, 0.42577127),\n",
              " (<Entity Transatlantic (1960 film)>, 0.42566535),\n",
              " (<Entity The Plaything>, 0.42560172),\n",
              " (<Entity Wilfrid Edward Francis Jackson>, 0.4252627),\n",
              " (<Entity List of British welterweight boxing champions>, 0.42521545),\n",
              " (<Entity Robert Whittaker (army major)>, 0.42359427),\n",
              " (<Entity John Stuart Champion>, 0.42346224),\n",
              " (<Entity Reginald James Wallace>, 0.42321756),\n",
              " (<Entity Robert Marett (diplomat)>, 0.42316875),\n",
              " (<Entity Mike Hunter (politician)>, 0.42290458),\n",
              " (<Entity Millions (1937 film)>, 0.42267635),\n",
              " (<Entity File:Order of Merit in Westminster Cathedral (cropped).jpg>,\n",
              "  0.42226133),\n",
              " (<Entity Murder by Rope>, 0.4219255),\n",
              " (<Entity Edward John Cameron>, 0.4218294),\n",
              " (<Entity The Bank Messenger Mystery>, 0.42114896),\n",
              " (<Entity Facing the Music (1941 film)>, 0.42112806),\n",
              " (<Entity The Silver Spoon>, 0.4210492),\n",
              " (<Entity Second Thoughts (1938 film)>, 0.42099255),\n",
              " (<Entity Account Rendered (1932 film)>, 0.4205763),\n",
              " (<Entity List of Commissioners of the Turks and Caicos Islands>, 0.4204834),\n",
              " (<Entity File:Civil Ensign of the United Kingdom.svg>, 0.42047217),\n",
              " (<Entity Desmond Hamill>, 0.42013955),\n",
              " (<Entity Gary Flather>, 0.41993064),\n",
              " (<Entity Rhodes Professor of Imperial History>, 0.41953698),\n",
              " (<Entity Midnight (1931 film)>, 0.41942286),\n",
              " (<Entity Cinematograph Films Council>, 0.41940907),\n",
              " (<Entity Grand Prix (1934 film)>, 0.4187704),\n",
              " (<Entity Edward Carlyon Eliot>, 0.41840324),\n",
              " (<Entity Windfall (1955 film)>, 0.41830796),\n",
              " (<Entity Love at Sea (1936 film)>, 0.41812018),\n",
              " (<Entity Rodney Steps In>, 0.41802225),\n",
              " (<Entity File:Flag of the Federated Malay States (1895 - 1946).svg>,\n",
              "  0.41792843),\n",
              " (<Entity British people>, 0.41718102),\n",
              " (<Entity The Spider (1940 film)>, 0.4169897),\n",
              " (<Entity File:Ribbon - Volunteer Long Service Medal.png>, 0.41685423),\n",
              " (<Entity Charles Howard Smith>, 0.41680095),\n",
              " (<Entity Frederick Chapman (British Army officer)>, 0.41675207),\n",
              " (<Entity Little Miss London>, 0.41661215),\n",
              " (<Entity File:Maude in Baghdad.jpg>, 0.41651005),\n",
              " (<Entity File:Turner, The Battle of Trafalgar (1822).jpg>, 0.41640088),\n",
              " (<Entity Alexander Grant Dallas>, 0.4163214),\n",
              " (<Entity That's My Wife (1933 film)>, 0.41624466),\n",
              " (<Entity The Unwritten Law (1929 film)>, 0.416234),\n",
              " (<Entity Roger Harris (politician)>, 0.4162142),\n",
              " (<Entity Vancouver City>, 0.41620535),\n",
              " (<Entity Reginald Stuart Champion>, 0.41613898),\n",
              " (<Entity Plumper Cove Marine Provincial Park>, 0.41609663),\n",
              " (<Entity Godfrey Ince>, 0.41604003),\n",
              " (<Entity Denys Blakeway>, 0.41546506),\n",
              " (<Entity Joseph Garner, Baron Garner>, 0.41538852),\n",
              " (<Entity Tilly of Bloomsbury (1940 film)>, 0.4153431),\n",
              " (<Entity The Hellions>, 0.4153372),\n",
              " (<Entity Are You a Mason? (1934 film)>, 0.41519856),\n",
              " (<Entity Yale (electoral district)>, 0.4150018),\n",
              " (<Entity Cayman Islands Olympic Committee>, 0.41492966),\n",
              " (<Entity Leslie Hollis>, 0.41481182),\n",
              " (<Entity Call of the Sea>, 0.41475728),\n",
              " (<Entity Bernard George Webber>, 0.4146974),\n",
              " (<Entity James Hayes Sadler>, 0.41427726),\n",
              " (<Entity Mannequin (1933 film)>, 0.41417727),\n",
              " (<Entity Tom Hickinbotham>, 0.4140617),\n",
              " (<Entity Simon Pack>, 0.41402894),\n",
              " (<Entity Jules Gérard Auguste Lauret>, 0.41396123),\n",
              " (<Entity Peter Hellings>, 0.41381013),\n",
              " (<Entity Harry Edward>, 0.41380438),\n",
              " (<Entity Pallard the Punter>, 0.41365448),\n",
              " (<Entity Albert Montefiore Hyamson>, 0.4135697),\n",
              " (<Entity HMS Birkenhead>, 0.4134916),\n",
              " (<Entity Ernest Gordon Lewis>, 0.4133762),\n",
              " (<Entity Francis William Panzera>, 0.4133602),\n",
              " (<Entity High Jump (film)>, 0.41333798),\n",
              " (<Entity Coming of Age (1938 film)>, 0.41321144),\n",
              " (<Entity The Autumn of Pride>, 0.41313305),\n",
              " (<Entity Richard van Emden>, 0.41295448),\n",
              " (<Entity George Ernest London>, 0.41276094),\n",
              " (<Entity Howard Smith (diplomat)>, 0.41266805),\n",
              " (<Entity File:Flag of The Commonwealth.svg>, 0.4126566),\n",
              " (<Entity Keep It Quiet>, 0.41265154),\n",
              " (<Entity Gordon Wesley Jewkes>, 0.41238818),\n",
              " (<Entity The Time of His Life>, 0.4123639),\n",
              " (<Entity Image:Order of the British Empire (Civil) Ribbon.png>, 0.4123187),\n",
              " (<Entity The Right to Strike>, 0.4122632),\n",
              " (<Entity Under-Secretary of State for War#Permanent Under-Secretaries of State for War, 1854-1966>,\n",
              "  0.41218293),\n",
              " (<Entity John Woollam (politician)>, 0.41205573),\n",
              " (<Entity The Windmill (1937 film)>, 0.41192606),\n",
              " (<Entity Joseph Burn>, 0.4118635),\n",
              " (<Entity The Perfect Crime (1937 film)>, 0.41180104),\n",
              " (<Entity Three Men in a Boat (1933 film)>, 0.41179034),\n",
              " (<Entity Coast Chilcotin>, 0.41176558),\n",
              " (<Entity The Unwanted (1924 film)>, 0.41153556),\n",
              " (<Entity Robert Luxton>, 0.41140825),\n",
              " (<Entity James Orr (Canadian politician)>, 0.41129312),\n",
              " (<Entity The Cavalier of the Streets>, 0.4111784),\n",
              " (<Entity David Fletcher (military historian)>, 0.4111691),\n",
              " (<Entity Herbert John Welch>, 0.4111427),\n",
              " (<Entity File:El Alamein 1942 - British infantry.jpg>, 0.4111287),\n",
              " (<Entity D.N. Penfold>, 0.411118),\n",
              " (<Entity Oswald Raynor Arthur>, 0.4111104),\n",
              " (<Entity Noel Thomas>, 0.41095018),\n",
              " (<Entity Darkness (1923 film)>, 0.4109108),\n",
              " (<Entity Home from Home (1939 film)>, 0.41089603),\n",
              " (<Entity Frank Snowsell>, 0.41082507),\n",
              " (<Entity Northamptonshire Yeomanry#2nd NY>, 0.4107556),\n",
              " (<Entity The Wickham Mystery>, 0.4106148),\n",
              " (<Entity Arthur Norman (industrialist)>, 0.41058376),\n",
              " (<Entity Charles Alexander Ramsay>, 0.4103957),\n",
              " (<Entity Simon Wingfield Digby>, 0.41025728),\n",
              " (<Entity The Price of Folly>, 0.4101402),\n",
              " (<Entity Passenger to London>, 0.41013268),\n",
              " (<Entity Godfrey Milton-Thompson>, 0.41011146),\n",
              " (<Entity C.O.D. (film)>, 0.40991896),\n",
              " (<Entity Two on a Doorstep>, 0.40982836),\n",
              " (<Entity Robert Randolph Bruce>, 0.40972787),\n",
              " (<Entity Sailors Don't Care (1940 film)>, 0.40956855),\n",
              " (<Entity The Happy Family (1936 film)>, 0.4095534),\n",
              " (<Entity Committee on Industry and Trade>, 0.40948796),\n",
              " (<Entity Graham Burton>, 0.4092309),\n",
              " (<Entity Charles Adair (Royal Marines officer)>, 0.4092052),\n",
              " (<Entity Alexander Richard Hamilton Hutchison>, 0.40911186),\n",
              " (<Entity Pierre Aimable Chapon-Baissac>, 0.40907973),\n",
              " (<Entity Paddy Ridsdale>, 0.4090127),\n",
              " (<Entity Mutiny (1925 film)>, 0.40891734),\n",
              " (<Entity HMS Walpole (D41)>, 0.40848655),\n",
              " (<Entity The Place of Honour>, 0.4084497),\n",
              " (<Entity Amphion-class submarine#Cancelled orders>, 0.40843555),\n",
              " (<Entity The Secret (1955 film)>, 0.4083269),\n",
              " (<Entity Minister of State for Commonwealth Relations>, 0.40831316),\n",
              " (<Entity Peter Clarke (historian)>, 0.40823248),\n",
              " (<Entity List of British bantamweight boxing champions>, 0.4080376),\n",
              " (<Entity Coast—Capilano>, 0.40803513),\n",
              " (<Entity Charles Alexander Anderson>, 0.40779552),\n",
              " (<Entity A Study in Scarlet (1914 British film)>, 0.40768674),\n",
              " (<Entity The Return of Bulldog Drummond>, 0.40760502),\n",
              " (<Entity George Mooring>, 0.4075858),\n",
              " (<Entity Gerald Campbell>, 0.40756676),\n",
              " (<Entity Charles Wickham (police officer)>, 0.4074568),\n",
              " (<Entity Michael J. Bradley (colonial administrator)>, 0.40743822),\n",
              " (<Entity Voice of the Listener & Viewer>, 0.40734074),\n",
              " (<Entity Rollo Pain>, 0.40728512),\n",
              " (<Entity Ron Fuller (artist)>, 0.4072153),\n",
              " (<Entity George Christopher Archibald>, 0.40719092),\n",
              " (<Entity Philip William Skinner Miles>, 0.40718827),\n",
              " (<Entity High Finance (film)>, 0.4070668),\n",
              " (<Entity Michael Pearce (author)>, 0.40704602),\n",
              " (<Entity Checkmate (1935 film)>, 0.40693852),\n",
              " (<Entity Numa François Henri Sadoul>, 0.4069316),\n",
              " (<Entity Boomerang (1934 film)>, 0.40687603),\n",
              " (<Entity Just like a Woman (1939 film)>, 0.40681028),\n",
              " (<Entity Alan James Scott>, 0.40679199),\n",
              " (<Entity Oswyn Murray>, 0.40673313),\n",
              " (<Entity Reginald Coupland>, 0.4067114),\n",
              " (<Entity Empire Kittiwake>, 0.40663862),\n",
              " (<Entity High commissioner of Newfoundland to the United Kingdom>,\n",
              "  0.40649197),\n",
              " (<Entity Jack Whittaker (politician)>, 0.40643504),\n",
              " (<Entity Frederick Willis (British Army officer)>, 0.40638438),\n",
              " (<Entity List of British super-bantamweight boxing champions>, 0.4063624),\n",
              " (<Entity Dial 999 (1938 film)>, 0.40634087),\n",
              " (<Entity  A Case for PC 49>, 0.40610084),\n",
              " (<Entity Percivale Liesching>, 0.40599826),\n",
              " (<Entity Smithy (1933 film)>, 0.40599266),\n",
              " (<Entity Richard Symonds (academic)>, 0.4059884),\n",
              " (<Entity The Big Noise (1936 British film)>, 0.4059765),\n",
              " (<Entity Paul Adam (English novelist)>, 0.40594327),\n",
              " (<Entity The Blue Peter (1928 film)>, 0.4059301),\n",
              " (<Entity David Milne-Watson>, 0.40592492),\n",
              " (<Entity Half a Truth>, 0.40583357),\n",
              " (<Entity Jack Hayward (political scientist)>, 0.40575078),\n",
              " (<Entity List of British featherweight boxing champions>, 0.405712),\n",
              " (<Entity Paul Henri Siriex>, 0.40569773),\n",
              " (<Entity The River Wolves>, 0.40549845),\n",
              " (<Entity Kiss the Bride Goodbye>, 0.40541202),\n",
              " (<Entity HMS Gurkha (G63)>, 0.40536785),\n",
              " (<Entity Patrick Moberly>, 0.40529397),\n",
              " (<Entity The Chance of a Lifetime (1916 film)>, 0.40523273),\n",
              " (<Entity Charles Frederick (Royal Navy officer)>, 0.40512273),\n",
              " (<Entity Tom Pocock>, 0.40503383),\n",
              " (<Entity The Statist>, 0.40502402),\n",
              " (<Entity John Kemys Spencer-Churchill>, 0.40490896),\n",
              " (<Entity Margot Perryman>, 0.40480757),\n",
              " (<Entity James Baker (Canadian politician)>, 0.40466905),\n",
              " (<Entity List of Consuls-General of the United Kingdom in San Francisco>,\n",
              "  0.4046477),\n",
              " (<Entity East Lynne on the Western Front>, 0.4045561),\n",
              " (<Entity Arthur Bruce Brown>, 0.40454343),\n",
              " (<Entity David Alexander-Sinclair>, 0.4044477),\n",
              " (<Entity S:A Naval Biographical Dictionary/Swaine, Spelman>, 0.40444604),\n",
              " (<Entity Mord Em'ly>, 0.40444177),\n",
              " (<Entity File:Monty, wavvel, auk.jpg>, 0.40442994),\n",
              " (<Entity Queen's Evidence (film)>, 0.4043164),\n",
              " (<Entity Head Office (1936 film)>, 0.40428528),\n",
              " (<Entity Robert Smith (British Columbia politician)>, 0.40427497),\n",
              " (<Entity Kenneth Crook>, 0.4042289),\n",
              " (<Entity To Catch a Thief (1936 film)>, 0.40421999),\n",
              " (<Entity Michael Dauncey>, 0.4042064),\n",
              " (<Entity Fort Ruhya>, 0.40419242),\n",
              " (<Entity George Middleton (diplomat)>, 0.4039573),\n",
              " (<Entity Esquimalt First Nation>, 0.40380093),\n",
              " (<Entity Allan Quartermaine>, 0.4037796),\n",
              " (<Entity Boadicea (film)>, 0.40341964),\n",
              " (<Entity National Archives of Zimbabwe>, 0.40339857),\n",
              " (<Entity John Craik-Henderson>, 0.40324834),\n",
              " (<Entity Frederick Albert Phillips>, 0.4031484),\n",
              " (<Entity William Roderick Ross>, 0.40313137),\n",
              " (<Entity Ernest Hall (politician)>, 0.40312418),\n",
              " (<Entity Charles Frederick Houghton>, 0.40311992),\n",
              " (<Entity Jacques Marie Julien Compain>, 0.40306035),\n",
              " (<Entity Edmund Brinsley Teesdale>, 0.40302837),\n",
              " (<Entity British Columbia general election, 1871>, 0.402994),\n",
              " (<Entity Meet Mr. Malcolm>, 0.40292537),\n",
              " (<Entity Peter Donovan McEntee>, 0.4029049),\n",
              " (<Entity Geoffrey G. Butler>, 0.4028776),\n",
              " (<Entity David William Strachan>, 0.40268752),\n",
              " (<Entity George Forty>, 0.40267578),\n",
              " (<Entity 48th Battalion (British Columbia), CEF>, 0.40267316),\n",
              " (<Entity Alf's Baby>, 0.4025557),\n",
              " (<Entity James Adams (diplomat)>, 0.40245244),\n",
              " (<Entity Duke's Son>, 0.40228176),\n",
              " (<Entity File:Peter Sellers at home in Belgravia, London, 1973.jpg>,\n",
              "  0.4022575),\n",
              " (<Entity Okanagan North>, 0.40218547),\n",
              " (<Entity William Fraser, 1st Baron Strathalmond>, 0.40218058),\n",
              " (<Entity Donald Howard, 3rd Baron Strathcona and Mount Royal>, 0.4021612),\n",
              " (<Entity A Daughter in Revolt>, 0.40215817),\n",
              " (<Entity File:IWM-E-6724-Crusader-19411126.jpg>, 0.40214255),\n",
              " (<Entity Eyes of Fate>, 0.40212265),\n",
              " (<Entity October Ferry to Gabriola>, 0.4021022),\n",
              " (<Entity John Quinton (banker)>, 0.4019695),\n",
              " (<Entity James Kennon>, 0.40194747),\n",
              " (<Entity A Sister to Assist 'Er (1922 film)>, 0.40189195),\n",
              " (<Entity Ernest Pooley>, 0.40186825),\n",
              " (<Entity Douglas Dent>, 0.40186632),\n",
              " (<Entity Alfred Savage>, 0.40171093),\n",
              " (<Entity Mark Matthew Connelly>, 0.40165856),\n",
              " (<Entity Secret Journey (1939 film)>, 0.4016201),\n",
              " (<Entity Number 10 (TV series)>, 0.4015977),\n",
              " (<Entity Yes, Madam (1933 film)>, 0.40156546),\n",
              " (<Entity Taxi to Paradise>, 0.40154228),\n",
              " (<Entity Oh No Doctor!>, 0.40147498),\n",
              " (<Entity She Was Only a Village Maiden>, 0.40144026),\n",
              " (<Entity Meet Mr. Penny>, 0.40140384),\n",
              " (<Entity Lillooet West (electoral district)>, 0.40133032),\n",
              " (<Entity Baron Kershaw>, 0.4013229),\n",
              " (<Entity Geoffrey Arthur>, 0.40129632),\n",
              " (<Entity File:LionSP 001672.jpg>, 0.40124387),\n",
              " (<Entity The Lure of Crooning Water>, 0.40117356),\n",
              " (<Entity The Girl in the Flat>, 0.40112868),\n",
              " (<Entity Glamour Girl (film)>, 0.4011235),\n",
              " (<Entity Edward Morris (historian)>, 0.4010695),\n",
              " (<Entity The Battles of Coronel and Falkland Islands>, 0.4009613),\n",
              " (<Entity Fourth Canadian Escort Squadron>, 0.40093762),\n",
              " (<Entity Ronald Urquhart>, 0.40086138),\n",
              " (<Entity Philip Shelbourne>, 0.40080756),\n",
              " (<Entity Innocent Meeting>, 0.40078452),\n",
              " (<Entity Gypsy (1937 film)>, 0.40077117),\n",
              " (<Entity William Sydney Marchant>, 0.4006676),\n",
              " (<Entity Bedtime Story (1938 film)>, 0.40063167),\n",
              " (<Entity Denis O'Connor (British Army officer)>, 0.4006237),\n",
              " (<Entity List of British light-middleweight boxing champions>, 0.40057358),\n",
              " (<Entity René Jean Albert Petitbon>, 0.40038753),\n",
              " (<Entity John Herbert Hardy>, 0.40036437),\n",
              " (<Entity Ronald Okeden Alexander>, 0.40029645),\n",
              " (<Entity Not Forgotten (TV)>, 0.4001811),\n",
              " (<Entity A Shot in the Dark (1933 film)>, 0.40017512),\n",
              " (<Entity East of Ludgate Hill>, 0.40009552),\n",
              " (<Entity List of gentlemen's clubs in London#Defunct or merged clubs>,\n",
              "  0.40003923),\n",
              " (<Entity Big Business (1930 film)>, 0.39996478),\n",
              " (<Entity What a Night! (1931 film)>, 0.39993152),\n",
              " (<Entity Louis LeBourdais>, 0.39989042)]"
            ]
          },
          "metadata": {
            "tags": []
          }
        },
        {
          "output_type": "stream",
          "text": [
            "Single Word Query Time: 505.09s\n"
          ],
          "name": "stdout"
        }
      ]
    },
    {
      "cell_type": "code",
      "metadata": {
        "colab": {
          "base_uri": "https://localhost:8080/",
          "height": 469
        },
        "id": "wEyEk-i2SdQz",
        "outputId": "9e693905-860b-4dc9-8885-73ac3d30f6c9"
      },
      "source": [
        "### Test single full mention query time on a mention with multiple words\n",
        "start_time = time.time()\n",
        "\n",
        "# Print word\n",
        "search_word = candidate_pools['full_mention_norm'][51]\n",
        "print(\"Search Word: \", search_word)\n",
        "\n",
        "# Translate word into vector\n",
        "# Handles multi-word mentions\n",
        "search_word_list = search_word.split(\" \")\n",
        "search_word_vector = None\n",
        "for word in search_word_list:\n",
        "    try:\n",
        "        vector = w2v.get_word_vector(str(word))\n",
        "        \n",
        "        if search_word_vector is None:\n",
        "            search_word_vector = vector\n",
        "        else:\n",
        "            search_word_vector += vector\n",
        "\n",
        "    except KeyError:\n",
        "        print(f\"\\\"{word}\\\" is Out of Vocabulary (OOV) for Wikipedia2vec.\")\n",
        "\n",
        "if search_word_vector is not None:\n",
        "    # Get most similar word\n",
        "    count_similar = 500\n",
        "    similar = w2v.most_similar_by_vector(search_word_vector, count_similar)\n",
        "\n",
        "    # Retrieve only entities from word\n",
        "    entities = []\n",
        "    return_similar = 10\n",
        "    for i in similar:\n",
        "    #     print(type(i[0]))\n",
        "        if isinstance(i[0], Entity):\n",
        "            entities.append(i)\n",
        "    #     if len(entities) == return_similar:\n",
        "    #         break\n",
        "    display(entities)\n",
        "end_time = time.time()\n",
        "print(f\"Single Word Query Time: {round(end_time - start_time, 2)}s\")"
      ],
      "execution_count": null,
      "outputs": [
        {
          "output_type": "stream",
          "text": [
            "Search Word:  welsh national farmers ' union\n",
            "\"'\" is Out of Vocabulary (OOV) for Wikipedia2vec.\n"
          ],
          "name": "stdout"
        },
        {
          "output_type": "display_data",
          "data": {
            "text/plain": [
              "[(<Entity :Category:Wikipedians interested in the European Union>, 0.74048346),\n",
              " (<Entity Whiteheads RFC>, 0.7279615),\n",
              " (<Entity Ian Mackay (rugby league)>, 0.7100251),\n",
              " (<Entity E. Gwyndaf Evans>, 0.70472246),\n",
              " (<Entity Ystrad Rhondda RFC>, 0.7012322),\n",
              " (<Entity Abercynon RFC>, 0.70090365),\n",
              " (<Entity Caernarfon RFC>, 0.69320804),\n",
              " (<Entity Tredegar Ironsides RFC>, 0.69225544),\n",
              " (<Entity Fleur De Lys RFC>, 0.6915729),\n",
              " (<Entity Cwmgwrach RFC>, 0.6905903),\n",
              " (<Entity File:Harden NSW.PNG>, 0.6901128),\n",
              " (<Entity Betws RFC>, 0.6887361),\n",
              " (<Entity Dai Francis (trade union leader)>, 0.6886294),\n",
              " (<Entity Llandybie RFC>, 0.6878249),\n",
              " (<Entity Berwyn Rangers F.C.>, 0.6861579),\n",
              " (<Entity :Category:All Blacks>, 0.68473554),\n",
              " (<Entity :Eastern Conference (NHL)>, 0.6845522),\n",
              " (<Entity Markham RFC>, 0.6823692),\n",
              " (<Entity Bethesda RFC>, 0.6821802),\n",
              " (<Entity Fall Bay RFC>, 0.6820504),\n",
              " (<Entity Cwmtwrch RFC>, 0.6806142),\n",
              " (<Entity Neil Lashkari>, 0.6795225),\n",
              " (<Entity Joost Adriaan van Hamel>, 0.6789603)]"
            ]
          },
          "metadata": {
            "tags": []
          }
        },
        {
          "output_type": "stream",
          "text": [
            "Single Word Query Time: 1.9s\n"
          ],
          "name": "stdout"
        }
      ]
    },
    {
      "cell_type": "markdown",
      "metadata": {
        "id": "GoaKTetSSdQ0"
      },
      "source": [
        "### Run Over Large Subset of Data"
      ]
    },
    {
      "cell_type": "code",
      "metadata": {
        "colab": {
          "base_uri": "https://localhost:8080/"
        },
        "id": "axT27htfSdQ0",
        "outputId": "a95ffe3c-987a-4ead-de4a-1834a5ac14ec"
      },
      "source": [
        "# Prepare output array\n",
        "most_similar_entities = []\n",
        "most_similar_scores = []\n",
        "get_similar_candidate_pool = []\n",
        "get_similar_candidate_scores = []\n",
        "\n",
        "# Track metrics\n",
        "success_word_query = 0\n",
        "oov_errors = 0\n",
        "start_time = time.time()\n",
        "\n",
        "# Provide filter ability\n",
        "size = 10\n",
        "\n",
        "for mention in tqdm(candidate_pools['full_mention_norm'][:size]):\n",
        "    \n",
        "    # Translate word into vector\n",
        "    # Handles multi-word mentions\n",
        "    search_word_list = mention.split(\" \")\n",
        "    search_word_vector = None\n",
        "    for word in search_word_list:\n",
        "        try:\n",
        "            vector = w2v.get_word_vector(str(word))\n",
        "            \n",
        "            if search_word_vector is None:\n",
        "                search_word_vector = vector\n",
        "            else:\n",
        "                search_word_vector += vector\n",
        "                \n",
        "        except KeyError:\n",
        "            oov_errors += 1\n",
        "\n",
        "    # Save candidate pool\n",
        "    candidate_pool = []\n",
        "    candidate_scores = []\n",
        "    \n",
        "    if search_word_vector is not None:\n",
        "        success_word_query += 1\n",
        "        \n",
        "        # Search most similar words/entities from found word\n",
        "        # Retrieve 500 most similar to test large coverage\n",
        "        similars = w2v.most_similar_by_vector(search_word_vector, 500)\n",
        "\n",
        "        # Retrieve most similar entity\n",
        "        most_similar = None\n",
        "        for s in similars:\n",
        "            if isinstance(s[0], Entity):\n",
        "                candidate_pool.append(s[0].title)\n",
        "                candidate_scores.append(s[1])\n",
        "                if most_similar is None:\n",
        "                    most_similar = s\n",
        "                \n",
        "    # Save lists\n",
        "    get_similar_candidate_pool.append(candidate_pool)\n",
        "    get_similar_candidate_scores.append(candidate_scores)\n",
        "    \n",
        "    if most_similar is not None:\n",
        "        most_similar_entities.append(most_similar[0].title)\n",
        "        most_similar_scores.append(most_similar[1])\n",
        "    else:\n",
        "        most_similar_entities.append(None)\n",
        "        most_similar_scores.append(None)\n",
        "\n",
        "    \n",
        "print(\"Successfully Found Words: \", round(success_word_query/size*100,3),\"%\")\n",
        "print(\"Out-of-Vocabulary Issues: \", round(oov_errors/size*100,3),\"%\")\n",
        "execution_time = time.time() - start_time\n",
        "print(\"Execution time: \", round(execution_time, 3),\"s\")"
      ],
      "execution_count": 15,
      "outputs": [
        {
          "output_type": "stream",
          "text": [
            "100%|██████████| 10/10 [1:24:11<00:00, 505.13s/it]"
          ],
          "name": "stderr"
        },
        {
          "output_type": "stream",
          "text": [
            "Successfully Found Words:  100.0 %\n",
            "Out-of-Vocabulary Issues:  0.0 %\n",
            "Execution time:  5051.299 s\n"
          ],
          "name": "stdout"
        },
        {
          "output_type": "stream",
          "text": [
            "\n"
          ],
          "name": "stderr"
        }
      ]
    },
    {
      "cell_type": "code",
      "metadata": {
        "id": "j2yd3gu6SdQ1",
        "colab": {
          "base_uri": "https://localhost:8080/",
          "height": 216
        },
        "outputId": "1d491b9e-d4ee-47ec-d0be-cf673c8b32e8"
      },
      "source": [
        "# Append to dataframe\n",
        "mini_df = candidate_pools[:size].copy()\n",
        "mini_df['preds_w2v_mostsimilar'] = most_similar_entities\n",
        "mini_df['score_w2v_mostsimilar'] = most_similar_scores\n",
        "mini_df['candidate_pool_mostsimilar'] = get_similar_candidate_pool\n",
        "mini_df['candidate_scores_mostsimilar'] = get_similar_candidate_scores\n",
        "mini_df.head(3)"
      ],
      "execution_count": 16,
      "outputs": [
        {
          "output_type": "execute_result",
          "data": {
            "text/html": [
              "<div>\n",
              "<style scoped>\n",
              "    .dataframe tbody tr th:only-of-type {\n",
              "        vertical-align: middle;\n",
              "    }\n",
              "\n",
              "    .dataframe tbody tr th {\n",
              "        vertical-align: top;\n",
              "    }\n",
              "\n",
              "    .dataframe thead th {\n",
              "        text-align: right;\n",
              "    }\n",
              "</style>\n",
              "<table border=\"1\" class=\"dataframe\">\n",
              "  <thead>\n",
              "    <tr style=\"text-align: right;\">\n",
              "      <th></th>\n",
              "      <th>mention</th>\n",
              "      <th>full_mention</th>\n",
              "      <th>wikipedia_URL</th>\n",
              "      <th>wikipedia_page_ID</th>\n",
              "      <th>wikipedia_title</th>\n",
              "      <th>sentence_id</th>\n",
              "      <th>doc_id</th>\n",
              "      <th>congruent_mentions</th>\n",
              "      <th>full_mention_norm</th>\n",
              "      <th>preds_w2v_mostsimilar</th>\n",
              "      <th>score_w2v_mostsimilar</th>\n",
              "      <th>candidate_pool_mostsimilar</th>\n",
              "      <th>candidate_scores_mostsimilar</th>\n",
              "    </tr>\n",
              "  </thead>\n",
              "  <tbody>\n",
              "    <tr>\n",
              "      <th>0</th>\n",
              "      <td>B</td>\n",
              "      <td>EU</td>\n",
              "      <td>NaN</td>\n",
              "      <td>NaN</td>\n",
              "      <td>NaN</td>\n",
              "      <td>0</td>\n",
              "      <td>0</td>\n",
              "      <td>['EU', 'German', 'British']</td>\n",
              "      <td>eu</td>\n",
              "      <td>European Union</td>\n",
              "      <td>0.673878</td>\n",
              "      <td>[European Union, Directorate-General for Trade...</td>\n",
              "      <td>[0.67387825, 0.54621464, 0.53486407, 0.5341276...</td>\n",
              "    </tr>\n",
              "    <tr>\n",
              "      <th>1</th>\n",
              "      <td>B</td>\n",
              "      <td>German</td>\n",
              "      <td>http://en.wikipedia.org/wiki/Germany</td>\n",
              "      <td>11867.0</td>\n",
              "      <td>Germany</td>\n",
              "      <td>0</td>\n",
              "      <td>0</td>\n",
              "      <td>['EU', 'German', 'British']</td>\n",
              "      <td>german</td>\n",
              "      <td>1856 in Germany</td>\n",
              "      <td>0.532700</td>\n",
              "      <td>[1856 in Germany, 1860 in Germany, 1868 in Ger...</td>\n",
              "      <td>[0.53269994, 0.5228385, 0.51995784, 0.51975304...</td>\n",
              "    </tr>\n",
              "    <tr>\n",
              "      <th>2</th>\n",
              "      <td>B</td>\n",
              "      <td>British</td>\n",
              "      <td>http://en.wikipedia.org/wiki/United_Kingdom</td>\n",
              "      <td>31717.0</td>\n",
              "      <td>United Kingdom</td>\n",
              "      <td>0</td>\n",
              "      <td>0</td>\n",
              "      <td>['EU', 'German', 'British']</td>\n",
              "      <td>british</td>\n",
              "      <td>United Kingdom</td>\n",
              "      <td>0.474634</td>\n",
              "      <td>[United Kingdom, John Osbaldiston Field, Valen...</td>\n",
              "      <td>[0.4746339, 0.45445728, 0.45051035, 0.4449676,...</td>\n",
              "    </tr>\n",
              "  </tbody>\n",
              "</table>\n",
              "</div>"
            ],
            "text/plain": [
              "  mention  ...                       candidate_scores_mostsimilar\n",
              "0       B  ...  [0.67387825, 0.54621464, 0.53486407, 0.5341276...\n",
              "1       B  ...  [0.53269994, 0.5228385, 0.51995784, 0.51975304...\n",
              "2       B  ...  [0.4746339, 0.45445728, 0.45051035, 0.4449676,...\n",
              "\n",
              "[3 rows x 13 columns]"
            ]
          },
          "metadata": {
            "tags": []
          },
          "execution_count": 16
        }
      ]
    },
    {
      "cell_type": "code",
      "metadata": {
        "id": "w1x4wNPLSdQ1",
        "colab": {
          "base_uri": "https://localhost:8080/"
        },
        "outputId": "c8d19ed9-b124-47ba-b012-1a3251c31d3a"
      },
      "source": [
        "# Estimate length of time to run over full dataset\n",
        "print(\"Estimated Duration for Full Dataset: \",\\\n",
        "     round((len(candidate_pools)/size)*execution_time/60/60,2), \" hours\")"
      ],
      "execution_count": 17,
      "outputs": [
        {
          "output_type": "stream",
          "text": [
            "Estimated Duration for Full Dataset:  4112.88  hours\n"
          ],
          "name": "stdout"
        }
      ]
    },
    {
      "cell_type": "markdown",
      "metadata": {
        "id": "eCIKtFU8SdQ1"
      },
      "source": [
        "## Calculate Accuracy of Most Similar Entity Predictions"
      ]
    },
    {
      "cell_type": "code",
      "metadata": {
        "id": "4NDl7CNtSdQ1",
        "colab": {
          "base_uri": "https://localhost:8080/"
        },
        "outputId": "153cae30-3682-48b1-f7ec-48ca5efb334d"
      },
      "source": [
        "# Calculate accuracy\n",
        "accurate_predictions = (mini_df['preds_w2v_mostsimilar'] == mini_df['wikipedia_title']).sum()\n",
        "print(\"****************************\")\n",
        "print(f\"Predictive Accuracy: {round(accurate_predictions / len(mini_df) * 100, 3)}%\")\n",
        "print(\"****************************\")"
      ],
      "execution_count": 18,
      "outputs": [
        {
          "output_type": "stream",
          "text": [
            "****************************\n",
            "Predictive Accuracy: 40.0%\n",
            "****************************\n"
          ],
          "name": "stdout"
        }
      ]
    },
    {
      "cell_type": "code",
      "metadata": {
        "id": "9QEtVsTZSdQ1",
        "colab": {
          "base_uri": "https://localhost:8080/"
        },
        "outputId": "3782feeb-2488-4c72-9f5c-42bd0f472c77"
      },
      "source": [
        "# Calculate percentage of candidate pools with the correct answer present\n",
        "# Use Wikipedia Title\n",
        "# Necessary to determine if shuffling pool could even get the right answer\n",
        "response_present = [mini_df['wikipedia_title'][i] in mini_df['candidate_pool_mostsimilar'][i] for i in range(len(mini_df))]\n",
        "print(f\"Correct answer is present in {round(sum(response_present) / len(mini_df) * 100, 3)}% of generated candidate pools via adapted Wikipedia2vec's most_similar() method.\")"
      ],
      "execution_count": 19,
      "outputs": [
        {
          "output_type": "stream",
          "text": [
            "Correct answer is present in 50.0% of generated candidate pools via adapted Wikipedia2vec's most_similar() method.\n"
          ],
          "name": "stdout"
        }
      ]
    },
    {
      "cell_type": "markdown",
      "metadata": {
        "id": "3lOrrqnwSdQ1"
      },
      "source": [
        "\n",
        "## Save predictive dataframe for input to next step"
      ]
    },
    {
      "cell_type": "code",
      "metadata": {
        "id": "iBUw7QbfSdQ1",
        "colab": {
          "base_uri": "https://localhost:8080/",
          "height": 678
        },
        "outputId": "e0c6916e-087c-4800-edff-d43645d36337"
      },
      "source": [
        "#Final DF\n",
        "mini_df.head(10)"
      ],
      "execution_count": 20,
      "outputs": [
        {
          "output_type": "execute_result",
          "data": {
            "text/html": [
              "<div>\n",
              "<style scoped>\n",
              "    .dataframe tbody tr th:only-of-type {\n",
              "        vertical-align: middle;\n",
              "    }\n",
              "\n",
              "    .dataframe tbody tr th {\n",
              "        vertical-align: top;\n",
              "    }\n",
              "\n",
              "    .dataframe thead th {\n",
              "        text-align: right;\n",
              "    }\n",
              "</style>\n",
              "<table border=\"1\" class=\"dataframe\">\n",
              "  <thead>\n",
              "    <tr style=\"text-align: right;\">\n",
              "      <th></th>\n",
              "      <th>mention</th>\n",
              "      <th>full_mention</th>\n",
              "      <th>wikipedia_URL</th>\n",
              "      <th>wikipedia_page_ID</th>\n",
              "      <th>wikipedia_title</th>\n",
              "      <th>sentence_id</th>\n",
              "      <th>doc_id</th>\n",
              "      <th>congruent_mentions</th>\n",
              "      <th>full_mention_norm</th>\n",
              "      <th>preds_w2v_mostsimilar</th>\n",
              "      <th>score_w2v_mostsimilar</th>\n",
              "      <th>candidate_pool_mostsimilar</th>\n",
              "      <th>candidate_scores_mostsimilar</th>\n",
              "    </tr>\n",
              "  </thead>\n",
              "  <tbody>\n",
              "    <tr>\n",
              "      <th>0</th>\n",
              "      <td>B</td>\n",
              "      <td>EU</td>\n",
              "      <td>NaN</td>\n",
              "      <td>NaN</td>\n",
              "      <td>NaN</td>\n",
              "      <td>0</td>\n",
              "      <td>0</td>\n",
              "      <td>['EU', 'German', 'British']</td>\n",
              "      <td>eu</td>\n",
              "      <td>European Union</td>\n",
              "      <td>0.673878</td>\n",
              "      <td>[European Union, Directorate-General for Trade...</td>\n",
              "      <td>[0.67387825, 0.54621464, 0.53486407, 0.5341276...</td>\n",
              "    </tr>\n",
              "    <tr>\n",
              "      <th>1</th>\n",
              "      <td>B</td>\n",
              "      <td>German</td>\n",
              "      <td>http://en.wikipedia.org/wiki/Germany</td>\n",
              "      <td>11867.0</td>\n",
              "      <td>Germany</td>\n",
              "      <td>0</td>\n",
              "      <td>0</td>\n",
              "      <td>['EU', 'German', 'British']</td>\n",
              "      <td>german</td>\n",
              "      <td>1856 in Germany</td>\n",
              "      <td>0.532700</td>\n",
              "      <td>[1856 in Germany, 1860 in Germany, 1868 in Ger...</td>\n",
              "      <td>[0.53269994, 0.5228385, 0.51995784, 0.51975304...</td>\n",
              "    </tr>\n",
              "    <tr>\n",
              "      <th>2</th>\n",
              "      <td>B</td>\n",
              "      <td>British</td>\n",
              "      <td>http://en.wikipedia.org/wiki/United_Kingdom</td>\n",
              "      <td>31717.0</td>\n",
              "      <td>United Kingdom</td>\n",
              "      <td>0</td>\n",
              "      <td>0</td>\n",
              "      <td>['EU', 'German', 'British']</td>\n",
              "      <td>british</td>\n",
              "      <td>United Kingdom</td>\n",
              "      <td>0.474634</td>\n",
              "      <td>[United Kingdom, John Osbaldiston Field, Valen...</td>\n",
              "      <td>[0.4746339, 0.45445728, 0.45051035, 0.4449676,...</td>\n",
              "    </tr>\n",
              "    <tr>\n",
              "      <th>3</th>\n",
              "      <td>B</td>\n",
              "      <td>Peter Blackburn</td>\n",
              "      <td>NaN</td>\n",
              "      <td>NaN</td>\n",
              "      <td>NaN</td>\n",
              "      <td>1</td>\n",
              "      <td>0</td>\n",
              "      <td>['Peter Blackburn', 'BRUSSELS', 'European Comm...</td>\n",
              "      <td>peter blackburn</td>\n",
              "      <td>I'll Be Back Before Midnight</td>\n",
              "      <td>0.533969</td>\n",
              "      <td>[I'll Be Back Before Midnight, William Dunlop ...</td>\n",
              "      <td>[0.53396887, 0.53210217, 0.52428687, 0.5232596...</td>\n",
              "    </tr>\n",
              "    <tr>\n",
              "      <th>4</th>\n",
              "      <td>I</td>\n",
              "      <td>Peter Blackburn</td>\n",
              "      <td>NaN</td>\n",
              "      <td>NaN</td>\n",
              "      <td>NaN</td>\n",
              "      <td>1</td>\n",
              "      <td>0</td>\n",
              "      <td>['Peter Blackburn', 'BRUSSELS', 'European Comm...</td>\n",
              "      <td>peter blackburn</td>\n",
              "      <td>Blackburn Rovers F.C.</td>\n",
              "      <td>0.541318</td>\n",
              "      <td>[Blackburn Rovers F.C., Derek Leaver, Heywood ...</td>\n",
              "      <td>[0.54131776, 0.5234059, 0.52236223, 0.50598407...</td>\n",
              "    </tr>\n",
              "    <tr>\n",
              "      <th>5</th>\n",
              "      <td>B</td>\n",
              "      <td>BRUSSELS</td>\n",
              "      <td>http://en.wikipedia.org/wiki/Brussels</td>\n",
              "      <td>3708.0</td>\n",
              "      <td>Brussels</td>\n",
              "      <td>1</td>\n",
              "      <td>0</td>\n",
              "      <td>['Peter Blackburn', 'BRUSSELS', 'European Comm...</td>\n",
              "      <td>brussels</td>\n",
              "      <td>Brussels</td>\n",
              "      <td>0.865907</td>\n",
              "      <td>[Brussels, Timeline of Brussels, Meiser railwa...</td>\n",
              "      <td>[0.8659067, 0.6254457, 0.62286663, 0.615217, 0...</td>\n",
              "    </tr>\n",
              "    <tr>\n",
              "      <th>6</th>\n",
              "      <td>B</td>\n",
              "      <td>European Commission</td>\n",
              "      <td>http://en.wikipedia.org/wiki/European_Commission</td>\n",
              "      <td>9974.0</td>\n",
              "      <td>European Commission</td>\n",
              "      <td>1</td>\n",
              "      <td>0</td>\n",
              "      <td>['Peter Blackburn', 'BRUSSELS', 'European Comm...</td>\n",
              "      <td>european commission</td>\n",
              "      <td>European Commission</td>\n",
              "      <td>0.542032</td>\n",
              "      <td>[European Commission, Europe for Citizens, Off...</td>\n",
              "      <td>[0.54203236, 0.53617793, 0.52699053, 0.5178218...</td>\n",
              "    </tr>\n",
              "    <tr>\n",
              "      <th>7</th>\n",
              "      <td>I</td>\n",
              "      <td>European Commission</td>\n",
              "      <td>http://en.wikipedia.org/wiki/European_Commission</td>\n",
              "      <td>9974.0</td>\n",
              "      <td>European Commission</td>\n",
              "      <td>1</td>\n",
              "      <td>0</td>\n",
              "      <td>['Peter Blackburn', 'BRUSSELS', 'European Comm...</td>\n",
              "      <td>european commission</td>\n",
              "      <td>Montreal Catholic School Commission</td>\n",
              "      <td>0.522123</td>\n",
              "      <td>[Montreal Catholic School Commission , Europea...</td>\n",
              "      <td>[0.5221227, 0.50598323, 0.48425615, 0.4838054,...</td>\n",
              "    </tr>\n",
              "    <tr>\n",
              "      <th>8</th>\n",
              "      <td>B</td>\n",
              "      <td>German</td>\n",
              "      <td>http://en.wikipedia.org/wiki/Germany</td>\n",
              "      <td>11867.0</td>\n",
              "      <td>Germany</td>\n",
              "      <td>1</td>\n",
              "      <td>0</td>\n",
              "      <td>['Peter Blackburn', 'BRUSSELS', 'European Comm...</td>\n",
              "      <td>german</td>\n",
              "      <td>1856 in Germany</td>\n",
              "      <td>0.532700</td>\n",
              "      <td>[1856 in Germany, 1860 in Germany, 1868 in Ger...</td>\n",
              "      <td>[0.53269994, 0.5228385, 0.51995784, 0.51975304...</td>\n",
              "    </tr>\n",
              "    <tr>\n",
              "      <th>9</th>\n",
              "      <td>B</td>\n",
              "      <td>British</td>\n",
              "      <td>http://en.wikipedia.org/wiki/United_Kingdom</td>\n",
              "      <td>31717.0</td>\n",
              "      <td>United Kingdom</td>\n",
              "      <td>1</td>\n",
              "      <td>0</td>\n",
              "      <td>['Peter Blackburn', 'BRUSSELS', 'European Comm...</td>\n",
              "      <td>british</td>\n",
              "      <td>United Kingdom</td>\n",
              "      <td>0.474634</td>\n",
              "      <td>[United Kingdom, John Osbaldiston Field, Valen...</td>\n",
              "      <td>[0.4746339, 0.45445728, 0.45051035, 0.4449676,...</td>\n",
              "    </tr>\n",
              "  </tbody>\n",
              "</table>\n",
              "</div>"
            ],
            "text/plain": [
              "  mention  ...                       candidate_scores_mostsimilar\n",
              "0       B  ...  [0.67387825, 0.54621464, 0.53486407, 0.5341276...\n",
              "1       B  ...  [0.53269994, 0.5228385, 0.51995784, 0.51975304...\n",
              "2       B  ...  [0.4746339, 0.45445728, 0.45051035, 0.4449676,...\n",
              "3       B  ...  [0.53396887, 0.53210217, 0.52428687, 0.5232596...\n",
              "4       I  ...  [0.54131776, 0.5234059, 0.52236223, 0.50598407...\n",
              "5       B  ...  [0.8659067, 0.6254457, 0.62286663, 0.615217, 0...\n",
              "6       B  ...  [0.54203236, 0.53617793, 0.52699053, 0.5178218...\n",
              "7       I  ...  [0.5221227, 0.50598323, 0.48425615, 0.4838054,...\n",
              "8       B  ...  [0.53269994, 0.5228385, 0.51995784, 0.51975304...\n",
              "9       B  ...  [0.4746339, 0.45445728, 0.45051035, 0.4449676,...\n",
              "\n",
              "[10 rows x 13 columns]"
            ]
          },
          "metadata": {
            "tags": []
          },
          "execution_count": 20
        }
      ]
    },
    {
      "cell_type": "code",
      "metadata": {
        "id": "a62RVfrVSdQ1"
      },
      "source": [
        "# Save dataframe\n",
        "mini_df.to_csv(\"wikipedia2vec_most_similar_10n_500d.csv\", index=False)"
      ],
      "execution_count": 22,
      "outputs": []
    },
    {
      "cell_type": "code",
      "metadata": {
        "id": "aJnmlI0TSdQ1",
        "colab": {
          "base_uri": "https://localhost:8080/",
          "height": 17
        },
        "outputId": "c0ed5ee4-0f65-4978-ee05-717b9fa9a4c2"
      },
      "source": [
        "# Download from Colab\n",
        "files.download(\"wikipedia2vec_most_similar_10n_500d.csv\")"
      ],
      "execution_count": 23,
      "outputs": [
        {
          "output_type": "display_data",
          "data": {
            "application/javascript": [
              "\n",
              "    async function download(id, filename, size) {\n",
              "      if (!google.colab.kernel.accessAllowed) {\n",
              "        return;\n",
              "      }\n",
              "      const div = document.createElement('div');\n",
              "      const label = document.createElement('label');\n",
              "      label.textContent = `Downloading \"${filename}\": `;\n",
              "      div.appendChild(label);\n",
              "      const progress = document.createElement('progress');\n",
              "      progress.max = size;\n",
              "      div.appendChild(progress);\n",
              "      document.body.appendChild(div);\n",
              "\n",
              "      const buffers = [];\n",
              "      let downloaded = 0;\n",
              "\n",
              "      const channel = await google.colab.kernel.comms.open(id);\n",
              "      // Send a message to notify the kernel that we're ready.\n",
              "      channel.send({})\n",
              "\n",
              "      for await (const message of channel.messages) {\n",
              "        // Send a message to notify the kernel that we're ready.\n",
              "        channel.send({})\n",
              "        if (message.buffers) {\n",
              "          for (const buffer of message.buffers) {\n",
              "            buffers.push(buffer);\n",
              "            downloaded += buffer.byteLength;\n",
              "            progress.value = downloaded;\n",
              "          }\n",
              "        }\n",
              "      }\n",
              "      const blob = new Blob(buffers, {type: 'application/binary'});\n",
              "      const a = document.createElement('a');\n",
              "      a.href = window.URL.createObjectURL(blob);\n",
              "      a.download = filename;\n",
              "      div.appendChild(a);\n",
              "      a.click();\n",
              "      div.remove();\n",
              "    }\n",
              "  "
            ],
            "text/plain": [
              "<IPython.core.display.Javascript object>"
            ]
          },
          "metadata": {
            "tags": []
          }
        },
        {
          "output_type": "display_data",
          "data": {
            "application/javascript": [
              "download(\"download_16e0dc69-511a-43d8-9ca3-5c53f2cc8393\", \"wikipedia2vec_most_similar_10n_500d.csv\", 63965)"
            ],
            "text/plain": [
              "<IPython.core.display.Javascript object>"
            ]
          },
          "metadata": {
            "tags": []
          }
        }
      ]
    },
    {
      "cell_type": "code",
      "metadata": {
        "id": "R8wmuXqc43zX"
      },
      "source": [
        ""
      ],
      "execution_count": null,
      "outputs": []
    }
  ]
}