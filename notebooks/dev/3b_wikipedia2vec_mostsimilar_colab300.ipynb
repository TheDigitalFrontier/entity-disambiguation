{
  "nbformat": 4,
  "nbformat_minor": 0,
  "metadata": {
    "kernelspec": {
      "display_name": "Python 3",
      "language": "python",
      "name": "python3"
    },
    "language_info": {
      "codemirror_mode": {
        "name": "ipython",
        "version": 3
      },
      "file_extension": ".py",
      "mimetype": "text/x-python",
      "name": "python",
      "nbconvert_exporter": "python",
      "pygments_lexer": "ipython3",
      "version": "3.7.7"
    },
    "colab": {
      "name": "3b_wikipedia2vec_mostsimilar_colab300.ipynb",
      "provenance": []
    },
    "accelerator": "GPU"
  },
  "cells": [
    {
      "cell_type": "markdown",
      "metadata": {
        "id": "99A4utu3SdQv"
      },
      "source": [
        "# Step Three (B): Find Similar Entities via Adapted Wikipedia2vec most_similar()\n",
        "\n",
        "We have now returned all of the entities we'll get from direct querying of the package. We must now use alternate measures to identify candidate entities and select from that pool."
      ]
    },
    {
      "cell_type": "markdown",
      "metadata": {
        "id": "zgfTiDYVSgFm"
      },
      "source": [
        "# Note: This is the colab version used for trying to improve speed and use higher-dimensional vectors."
      ]
    },
    {
      "cell_type": "markdown",
      "metadata": {
        "id": "xfeFJmbFSdQv"
      },
      "source": [
        "#### Import Packages"
      ]
    },
    {
      "cell_type": "code",
      "metadata": {
        "id": "RhsLecMKSdQv"
      },
      "source": [
        "import os\n",
        "import time\n",
        "\n",
        "import pandas as pd\n",
        "import numpy as np\n",
        "import matplotlib.pyplot as plt\n",
        "%matplotlib inline\n",
        "\n",
        "# Progress bar\n",
        "from tqdm import tqdm"
      ],
      "execution_count": 1,
      "outputs": []
    },
    {
      "cell_type": "code",
      "metadata": {
        "colab": {
          "base_uri": "https://localhost:8080/"
        },
        "id": "Y6sfDuYMSsHA",
        "outputId": "dfe27bbe-ae01-4001-9593-df584477842d"
      },
      "source": [
        "!pip install wikipedia2vec"
      ],
      "execution_count": 2,
      "outputs": [
        {
          "output_type": "stream",
          "text": [
            "Collecting wikipedia2vec\n",
            "\u001b[?25l  Downloading https://files.pythonhosted.org/packages/d8/88/751037c70ca86581d444824e66bb799ef9060339a1d5d1fc1804c422d7cc/wikipedia2vec-1.0.4.tar.gz (1.2MB)\n",
            "\u001b[K     |████████████████████████████████| 1.2MB 15.1MB/s \n",
            "\u001b[?25hRequirement already satisfied: click in /usr/local/lib/python3.6/dist-packages (from wikipedia2vec) (7.1.2)\n",
            "Requirement already satisfied: jieba in /usr/local/lib/python3.6/dist-packages (from wikipedia2vec) (0.42.1)\n",
            "Requirement already satisfied: joblib in /usr/local/lib/python3.6/dist-packages (from wikipedia2vec) (0.17.0)\n",
            "Requirement already satisfied: lmdb in /usr/local/lib/python3.6/dist-packages (from wikipedia2vec) (0.99)\n",
            "Collecting marisa-trie\n",
            "\u001b[?25l  Downloading https://files.pythonhosted.org/packages/20/95/d23071d0992dabcb61c948fb118a90683193befc88c23e745b050a29e7db/marisa-trie-0.7.5.tar.gz (270kB)\n",
            "\u001b[K     |████████████████████████████████| 276kB 49.6MB/s \n",
            "\u001b[?25hCollecting mwparserfromhell\n",
            "\u001b[?25l  Downloading https://files.pythonhosted.org/packages/23/03/4fb04da533c7e237c0104151c028d8bff856293d34e51d208c529696fb79/mwparserfromhell-0.5.4.tar.gz (135kB)\n",
            "\u001b[K     |████████████████████████████████| 143kB 49.8MB/s \n",
            "\u001b[?25hRequirement already satisfied: numpy in /usr/local/lib/python3.6/dist-packages (from wikipedia2vec) (1.18.5)\n",
            "Requirement already satisfied: scipy in /usr/local/lib/python3.6/dist-packages (from wikipedia2vec) (1.4.1)\n",
            "Requirement already satisfied: six in /usr/local/lib/python3.6/dist-packages (from wikipedia2vec) (1.15.0)\n",
            "Requirement already satisfied: tqdm in /usr/local/lib/python3.6/dist-packages (from wikipedia2vec) (4.41.1)\n",
            "Building wheels for collected packages: wikipedia2vec, marisa-trie, mwparserfromhell\n",
            "  Building wheel for wikipedia2vec (setup.py) ... \u001b[?25l\u001b[?25hdone\n",
            "  Created wheel for wikipedia2vec: filename=wikipedia2vec-1.0.4-cp36-cp36m-linux_x86_64.whl size=4581870 sha256=833e7e4c42b0bf6a5348c98bf32fdc95b15e2daf10bbd8c29ad005defc613f3a\n",
            "  Stored in directory: /root/.cache/pip/wheels/16/e7/02/852c8ce366cc10adcf5d43c6471bbf926dd15c277578c13184\n",
            "  Building wheel for marisa-trie (setup.py) ... \u001b[?25l\u001b[?25hdone\n",
            "  Created wheel for marisa-trie: filename=marisa_trie-0.7.5-cp36-cp36m-linux_x86_64.whl size=861510 sha256=394c5f5f7b78ea09a105b3bc325da10c3f1628f02bdbe170a1ddb77f515257f2\n",
            "  Stored in directory: /root/.cache/pip/wheels/45/24/79/022624fc914f0e559fe8a1141aaff1f9df810905a13fc75d57\n",
            "  Building wheel for mwparserfromhell (setup.py) ... \u001b[?25l\u001b[?25hdone\n",
            "  Created wheel for mwparserfromhell: filename=mwparserfromhell-0.5.4-cp36-cp36m-linux_x86_64.whl size=183772 sha256=d64bd6e7b0e368abd1ec7389017bc345d0d91b3a9f8cfea532075a5e5524fccb\n",
            "  Stored in directory: /root/.cache/pip/wheels/2a/76/d5/7088b941df3b362c45dd7912dd05314bc034751ec9cbca9a75\n",
            "Successfully built wikipedia2vec marisa-trie mwparserfromhell\n",
            "Installing collected packages: marisa-trie, mwparserfromhell, wikipedia2vec\n",
            "Successfully installed marisa-trie-0.7.5 mwparserfromhell-0.5.4 wikipedia2vec-1.0.4\n"
          ],
          "name": "stdout"
        }
      ]
    },
    {
      "cell_type": "code",
      "metadata": {
        "id": "nvutw5sFSdQw"
      },
      "source": [
        "# Package\n",
        "from wikipedia2vec import Wikipedia2Vec\n",
        "\n",
        "# Class to compare type\n",
        "from wikipedia2vec.dictionary import Entity"
      ],
      "execution_count": 3,
      "outputs": []
    },
    {
      "cell_type": "code",
      "metadata": {
        "colab": {
          "base_uri": "https://localhost:8080/"
        },
        "id": "MiN_d5aXTP0w",
        "outputId": "890e96d9-85ed-48ec-de4e-2077156ced45"
      },
      "source": [
        "# Download dimensional file from Wikipedia2vec website\n",
        "!curl -O http://wikipedia2vec.s3.amazonaws.com/models/en/2018-04-20/enwiki_20180420_300d.pkl.bz2"
      ],
      "execution_count": 4,
      "outputs": [
        {
          "output_type": "stream",
          "text": [
            "  % Total    % Received % Xferd  Average Speed   Time    Time     Time  Current\n",
            "                                 Dload  Upload   Total   Spent    Left  Speed\n",
            "100 9921M  100 9921M    0     0  19.5M      0  0:08:26  0:08:26 --:--:-- 19.6M\n"
          ],
          "name": "stdout"
        }
      ]
    },
    {
      "cell_type": "code",
      "metadata": {
        "id": "A6DSBUDsTaJj"
      },
      "source": [
        "!bzip2 -d enwiki_20180420_300d.pkl.bz2"
      ],
      "execution_count": 5,
      "outputs": []
    },
    {
      "cell_type": "code",
      "metadata": {
        "colab": {
          "base_uri": "https://localhost:8080/"
        },
        "id": "Jf9yoICTUKVF",
        "outputId": "de93b1bd-3ed2-4dc5-a06a-30493083d0ef"
      },
      "source": [
        "!ls"
      ],
      "execution_count": 6,
      "outputs": [
        {
          "output_type": "stream",
          "text": [
            "enwiki_20180420_300d.pkl  sample_data\n"
          ],
          "name": "stdout"
        }
      ]
    },
    {
      "cell_type": "code",
      "metadata": {
        "colab": {
          "base_uri": "https://localhost:8080/"
        },
        "id": "e_xYmqKnSdQw",
        "outputId": "6a52eb24-2e27-49f6-8e8d-7dc4cb563cd4"
      },
      "source": [
        "%%time\n",
        "# Load unzipped pkl file with word embeddings\n",
        "w2v = Wikipedia2Vec.load(\"enwiki_20180420_300d.pkl\")"
      ],
      "execution_count": 7,
      "outputs": [
        {
          "output_type": "stream",
          "text": [
            "CPU times: user 48.8 ms, sys: 159 ms, total: 208 ms\n",
            "Wall time: 2.39 s\n"
          ],
          "name": "stdout"
        }
      ]
    },
    {
      "cell_type": "markdown",
      "metadata": {
        "id": "Mm8vSJy4SdQx"
      },
      "source": [
        "## Load ACY Input Data"
      ]
    },
    {
      "cell_type": "code",
      "metadata": {
        "colab": {
          "resources": {
            "http://localhost:8080/nbextensions/google.colab/files.js": {
              "data": "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",
              "ok": true,
              "headers": [
                [
                  "content-type",
                  "application/javascript"
                ]
              ],
              "status": 200,
              "status_text": "OK"
            }
          },
          "base_uri": "https://localhost:8080/",
          "height": 70
        },
        "id": "ozmmrZ18WwBz",
        "outputId": "9272516c-588e-459d-b1c4-c9549d449846"
      },
      "source": [
        "from google.colab import files\n",
        "uploaded = files.upload()"
      ],
      "execution_count": 8,
      "outputs": [
        {
          "output_type": "display_data",
          "data": {
            "text/html": [
              "\n",
              "     <input type=\"file\" id=\"files-f5f99fd2-e83a-42d5-9f50-447efbd33e0b\" name=\"files[]\" multiple disabled\n",
              "        style=\"border:none\" />\n",
              "     <output id=\"result-f5f99fd2-e83a-42d5-9f50-447efbd33e0b\">\n",
              "      Upload widget is only available when the cell has been executed in the\n",
              "      current browser session. Please rerun this cell to enable.\n",
              "      </output>\n",
              "      <script src=\"/nbextensions/google.colab/files.js\"></script> "
            ],
            "text/plain": [
              "<IPython.core.display.HTML object>"
            ]
          },
          "metadata": {
            "tags": []
          }
        },
        {
          "output_type": "stream",
          "text": [
            "Saving Aida-Conll-Yago-Input.csv to Aida-Conll-Yago-Input.csv\n"
          ],
          "name": "stdout"
        }
      ]
    },
    {
      "cell_type": "code",
      "metadata": {
        "colab": {
          "base_uri": "https://localhost:8080/"
        },
        "id": "aJJNvJAdXKS3",
        "outputId": "5713d5ed-6787-49bf-b0b8-222fc03f7ea0"
      },
      "source": [
        "!ls"
      ],
      "execution_count": 9,
      "outputs": [
        {
          "output_type": "stream",
          "text": [
            "Aida-Conll-Yago-Input.csv  enwiki_20180420_300d.pkl  sample_data\n"
          ],
          "name": "stdout"
        }
      ]
    },
    {
      "cell_type": "code",
      "metadata": {
        "colab": {
          "base_uri": "https://localhost:8080/",
          "height": 143
        },
        "id": "u8Su72NSSdQx",
        "outputId": "795f34cd-6099-4682-d4a2-0920873dcd0d"
      },
      "source": [
        "# Load data\n",
        "acy_input = pd.read_csv(\"Aida-Conll-Yago-Input.csv\", delimiter=\",\")\n",
        "acy_input.head(3)"
      ],
      "execution_count": 10,
      "outputs": [
        {
          "output_type": "execute_result",
          "data": {
            "text/html": [
              "<div>\n",
              "<style scoped>\n",
              "    .dataframe tbody tr th:only-of-type {\n",
              "        vertical-align: middle;\n",
              "    }\n",
              "\n",
              "    .dataframe tbody tr th {\n",
              "        vertical-align: top;\n",
              "    }\n",
              "\n",
              "    .dataframe thead th {\n",
              "        text-align: right;\n",
              "    }\n",
              "</style>\n",
              "<table border=\"1\" class=\"dataframe\">\n",
              "  <thead>\n",
              "    <tr style=\"text-align: right;\">\n",
              "      <th></th>\n",
              "      <th>mention</th>\n",
              "      <th>full_mention</th>\n",
              "      <th>wikipedia_URL</th>\n",
              "      <th>wikipedia_page_ID</th>\n",
              "      <th>wikipedia_title</th>\n",
              "      <th>sentence_id</th>\n",
              "      <th>doc_id</th>\n",
              "      <th>congruent_mentions</th>\n",
              "    </tr>\n",
              "  </thead>\n",
              "  <tbody>\n",
              "    <tr>\n",
              "      <th>0</th>\n",
              "      <td>B</td>\n",
              "      <td>EU</td>\n",
              "      <td>NaN</td>\n",
              "      <td>NaN</td>\n",
              "      <td>NaN</td>\n",
              "      <td>0</td>\n",
              "      <td>0</td>\n",
              "      <td>['EU', 'German', 'British']</td>\n",
              "    </tr>\n",
              "    <tr>\n",
              "      <th>1</th>\n",
              "      <td>B</td>\n",
              "      <td>German</td>\n",
              "      <td>http://en.wikipedia.org/wiki/Germany</td>\n",
              "      <td>11867.0</td>\n",
              "      <td>Germany</td>\n",
              "      <td>0</td>\n",
              "      <td>0</td>\n",
              "      <td>['EU', 'German', 'British']</td>\n",
              "    </tr>\n",
              "    <tr>\n",
              "      <th>2</th>\n",
              "      <td>B</td>\n",
              "      <td>British</td>\n",
              "      <td>http://en.wikipedia.org/wiki/United_Kingdom</td>\n",
              "      <td>31717.0</td>\n",
              "      <td>United Kingdom</td>\n",
              "      <td>0</td>\n",
              "      <td>0</td>\n",
              "      <td>['EU', 'German', 'British']</td>\n",
              "    </tr>\n",
              "  </tbody>\n",
              "</table>\n",
              "</div>"
            ],
            "text/plain": [
              "  mention full_mention  ... doc_id           congruent_mentions\n",
              "0       B           EU  ...      0  ['EU', 'German', 'British']\n",
              "1       B       German  ...      0  ['EU', 'German', 'British']\n",
              "2       B      British  ...      0  ['EU', 'German', 'British']\n",
              "\n",
              "[3 rows x 8 columns]"
            ]
          },
          "metadata": {
            "tags": []
          },
          "execution_count": 10
        }
      ]
    },
    {
      "cell_type": "code",
      "metadata": {
        "id": "TN04dU2bSdQy"
      },
      "source": [
        "# Re-name \n",
        "candidate_pools = acy_input.copy()"
      ],
      "execution_count": 11,
      "outputs": []
    },
    {
      "cell_type": "markdown",
      "metadata": {
        "id": "okne7Ol7SdQy"
      },
      "source": [
        "## Find most similar entity using Wikipedia2vec\n",
        "\n",
        "We now turn to using a variation on Wikipedia2vec's `most_similar()` function to find, for entered words, the most similar entity. We do this as an added-layer, meaning only for those without an estimate, and for all full mentions, to compare performance."
      ]
    },
    {
      "cell_type": "code",
      "metadata": {
        "scrolled": true,
        "colab": {
          "base_uri": "https://localhost:8080/",
          "height": 178
        },
        "id": "VHIGXQMTSdQy",
        "outputId": "77408c55-2eae-4a0a-cd31-ba2d664c13d2"
      },
      "source": [
        "# Normalize full_mentions to lower case for entry into most_similar() function\n",
        "full_mention_norm = np.array([x.lower() for x in candidate_pools['full_mention']])\n",
        "candidate_pools['full_mention_norm'] = full_mention_norm\n",
        "candidate_pools.head(3)"
      ],
      "execution_count": 12,
      "outputs": [
        {
          "output_type": "execute_result",
          "data": {
            "text/html": [
              "<div>\n",
              "<style scoped>\n",
              "    .dataframe tbody tr th:only-of-type {\n",
              "        vertical-align: middle;\n",
              "    }\n",
              "\n",
              "    .dataframe tbody tr th {\n",
              "        vertical-align: top;\n",
              "    }\n",
              "\n",
              "    .dataframe thead th {\n",
              "        text-align: right;\n",
              "    }\n",
              "</style>\n",
              "<table border=\"1\" class=\"dataframe\">\n",
              "  <thead>\n",
              "    <tr style=\"text-align: right;\">\n",
              "      <th></th>\n",
              "      <th>mention</th>\n",
              "      <th>full_mention</th>\n",
              "      <th>wikipedia_URL</th>\n",
              "      <th>wikipedia_page_ID</th>\n",
              "      <th>wikipedia_title</th>\n",
              "      <th>sentence_id</th>\n",
              "      <th>doc_id</th>\n",
              "      <th>congruent_mentions</th>\n",
              "      <th>full_mention_norm</th>\n",
              "    </tr>\n",
              "  </thead>\n",
              "  <tbody>\n",
              "    <tr>\n",
              "      <th>0</th>\n",
              "      <td>B</td>\n",
              "      <td>EU</td>\n",
              "      <td>NaN</td>\n",
              "      <td>NaN</td>\n",
              "      <td>NaN</td>\n",
              "      <td>0</td>\n",
              "      <td>0</td>\n",
              "      <td>['EU', 'German', 'British']</td>\n",
              "      <td>eu</td>\n",
              "    </tr>\n",
              "    <tr>\n",
              "      <th>1</th>\n",
              "      <td>B</td>\n",
              "      <td>German</td>\n",
              "      <td>http://en.wikipedia.org/wiki/Germany</td>\n",
              "      <td>11867.0</td>\n",
              "      <td>Germany</td>\n",
              "      <td>0</td>\n",
              "      <td>0</td>\n",
              "      <td>['EU', 'German', 'British']</td>\n",
              "      <td>german</td>\n",
              "    </tr>\n",
              "    <tr>\n",
              "      <th>2</th>\n",
              "      <td>B</td>\n",
              "      <td>British</td>\n",
              "      <td>http://en.wikipedia.org/wiki/United_Kingdom</td>\n",
              "      <td>31717.0</td>\n",
              "      <td>United Kingdom</td>\n",
              "      <td>0</td>\n",
              "      <td>0</td>\n",
              "      <td>['EU', 'German', 'British']</td>\n",
              "      <td>british</td>\n",
              "    </tr>\n",
              "  </tbody>\n",
              "</table>\n",
              "</div>"
            ],
            "text/plain": [
              "  mention full_mention  ...           congruent_mentions  full_mention_norm\n",
              "0       B           EU  ...  ['EU', 'German', 'British']                 eu\n",
              "1       B       German  ...  ['EU', 'German', 'British']             german\n",
              "2       B      British  ...  ['EU', 'German', 'British']            british\n",
              "\n",
              "[3 rows x 9 columns]"
            ]
          },
          "metadata": {
            "tags": []
          },
          "execution_count": 12
        }
      ]
    },
    {
      "cell_type": "code",
      "metadata": {
        "colab": {
          "base_uri": "https://localhost:8080/",
          "height": 1000
        },
        "id": "pp9AGHznSdQy",
        "outputId": "7188354c-3feb-4fb7-b570-b96d4fb52df8"
      },
      "source": [
        "### Test single full mention query time\n",
        "start_time = time.time()\n",
        "\n",
        "# Print word\n",
        "search_word = candidate_pools['full_mention_norm'][2]\n",
        "print(\"Search Word: \", search_word)\n",
        "\n",
        "# Translate word into vector\n",
        "# Handles multi-word mentions\n",
        "search_word_list = search_word.split(\" \")\n",
        "search_word_vector = None\n",
        "for word in search_word_list:\n",
        "    try:\n",
        "        vector = w2v.get_word_vector(str(word))\n",
        "    except KeyError:\n",
        "        print(\"This word is Out of Vocabulary (OOV) for Wikipedia2vec.\")\n",
        "        vector = None\n",
        "        \n",
        "    if search_word_vector is None:\n",
        "        search_word_vector = vector\n",
        "    else:\n",
        "        search_word_vector += vector\n",
        "\n",
        "if search_word_vector is not None:\n",
        "    # Get most similar word\n",
        "    count_similar = 500\n",
        "    similar = w2v.most_similar_by_vector(search_word_vector, count_similar)\n",
        "\n",
        "    # Retrieve only entities from word\n",
        "    entities = []\n",
        "    return_similar = 10\n",
        "    for i in similar:\n",
        "    #     print(type(i[0]))\n",
        "        if isinstance(i[0], Entity):\n",
        "            entities.append(i)\n",
        "    #     if len(entities) == return_similar:\n",
        "    #         break\n",
        "    display(entities)\n",
        "end_time = time.time()\n",
        "print(f\"Single Word Query Time: {round(end_time - start_time, 2)}s\")"
      ],
      "execution_count": 13,
      "outputs": [
        {
          "output_type": "stream",
          "text": [
            "Search Word:  british\n"
          ],
          "name": "stdout"
        },
        {
          "output_type": "display_data",
          "data": {
            "text/plain": [
              "[(<Entity Derek George Cudmore>, 0.49873415),\n",
              " (<Entity HMS Birkenhead>, 0.48730087),\n",
              " (<Entity File:Turner, The Battle of Trafalgar (1822).jpg>, 0.48630852),\n",
              " (<Entity John Osbaldiston Field>, 0.48565567),\n",
              " (<Entity Henry Maynard Ball>, 0.48533762),\n",
              " (<Entity Edward John Cameron>, 0.48491052),\n",
              " (<Entity David Robert Barwick>, 0.48152602),\n",
              " (<Entity List of Commissioners of the Turks and Caicos Islands>, 0.47786582),\n",
              " (<Entity Starlight (TV series)>, 0.47318417),\n",
              " (<Entity List of colonial governors of the British Virgin Islands>,\n",
              "  0.47302568),\n",
              " (<Entity Gordon Wesley Jewkes>, 0.4724612),\n",
              " (<Entity Rollo Pain>, 0.4719429),\n",
              " (<Entity Percivale Liesching>, 0.47097537),\n",
              " (<Entity Walter Wilkinson Wallace>, 0.46967942),\n",
              " (<Entity Millions (1937 film)>, 0.4696355),\n",
              " (<Entity United Kingdom>, 0.469226),\n",
              " (<Entity File:El Alamein 1942 - British infantry.jpg>, 0.469008),\n",
              " (<Entity Ernest Gordon Lewis>, 0.46749967),\n",
              " (<Entity The Windmill (1937 film)>, 0.4670006),\n",
              " (<Entity Paul Adam (English novelist)>, 0.46695086),\n",
              " (<Entity Not Forgotten (TV)>, 0.46428454),\n",
              " (<Entity Rodney Steps In>, 0.4626872),\n",
              " (<Entity René Jean Albert Petitbon>, 0.46264252),\n",
              " (<Entity Desmond Hamill>, 0.46192992),\n",
              " (<Entity Leave It to Me (1937 film)>, 0.46180847),\n",
              " (<Entity De Bunsen Committee>, 0.46144205),\n",
              " (<Entity British Army>, 0.46120542),\n",
              " (<Entity Her Story (film)>, 0.46111292),\n",
              " (<Entity File:Lord Arthur Wellesley the Duke of Wellington.jpg>, 0.46109256),\n",
              " (<Entity Wilfrid Edward Francis Jackson>, 0.46098277),\n",
              " (<Entity Joseph Burn>, 0.46096286),\n",
              " (<Entity List of British middleweight boxing champions>, 0.46078095),\n",
              " (<Entity Jules Gérard Auguste Lauret>, 0.460477),\n",
              " (<Entity The Perfect Crime (1937 film)>, 0.46002203),\n",
              " (<Entity Paul Henri Siriex>, 0.4599133),\n",
              " (<Entity Transatlantic (1960 film)>, 0.45940086),\n",
              " (<Entity George Middleton (diplomat)>, 0.45939985),\n",
              " (<Entity Fort Ruhya>, 0.45893857),\n",
              " (<Entity Numa François Henri Sadoul>, 0.45861387),\n",
              " (<Entity Sailors Don't Care (1940 film)>, 0.45860842),\n",
              " (<Entity Saltair, British Columbia>, 0.45823127),\n",
              " (<Entity File:Civil Ensign of the United Kingdom.svg>, 0.45780772),\n",
              " (<Entity Colin Shortis>, 0.45776454),\n",
              " (<Entity Grand Prix (1934 film)>, 0.45773676),\n",
              " (<Entity File:Order of Merit in Westminster Cathedral (cropped).jpg>,\n",
              "  0.4577132),\n",
              " (<Entity Michael J. Bradley (colonial administrator)>, 0.45769686),\n",
              " (<Entity File:Ribbon - Volunteer Long Service Medal.png>, 0.456802),\n",
              " (<Entity Darkness (1923 film)>, 0.4567019),\n",
              " (<Entity Tell It to the Marines (TV series)>, 0.45567456),\n",
              " (<Entity Frederick Chapman (British Army officer)>, 0.4555596),\n",
              " (<Entity List of British bantamweight boxing champions>, 0.4551655),\n",
              " (<Entity Thomas Evans (British Army officer)>, 0.4551096),\n",
              " (<Entity Northamptonshire Yeomanry#2nd NY>, 0.45501038),\n",
              " (<Entity Victoria Golf Club>, 0.4549755),\n",
              " (<Entity Jacques Marie Julien Compain>, 0.45489353),\n",
              " (<Entity Mannequin (1933 film)>, 0.4547718),\n",
              " (<Entity Fox Farm (film)>, 0.45464984),\n",
              " (<Entity Ron Fuller (artist)>, 0.45443115),\n",
              " (<Entity George Paice (bowls)>, 0.45439526),\n",
              " (<Entity Reginald Coupland>, 0.45432898),\n",
              " (<Entity File:Flag of the Federated Malay States (1895 - 1946).svg>,\n",
              "  0.45426995),\n",
              " (<Entity Jackie Tegart>, 0.45425183),\n",
              " (<Entity Johnny Goodman (TV producer)>, 0.45405582),\n",
              " (<Entity RFA Derwentdale (A114)>, 0.45405155),\n",
              " (<Entity David Mackilligin>, 0.4539948),\n",
              " (<Entity Mudge Island>, 0.4536095),\n",
              " (<Entity John Herbert Hardy>, 0.45337886),\n",
              " (<Entity Sir Ralph Verney, 1st Baronet, of Eaton Square>, 0.4527615),\n",
              " (<Entity John Henry Cates>, 0.45265487),\n",
              " (<Entity Stepping Stones (film)>, 0.45245117),\n",
              " (<Entity Gordon Wilson (British Army officer)>, 0.45243108),\n",
              " (<Entity Account Rendered (1932 film)>, 0.4522291),\n",
              " (<Entity Deadlock (1943 film)>, 0.45216814),\n",
              " (<Entity John Woollam (politician)>, 0.45182943),\n",
              " (<Entity Call of the Sea>, 0.45169097),\n",
              " (<Entity The Hellions>, 0.45142087),\n",
              " (<Entity Allan Ramsay (diplomat)>, 0.4514126),\n",
              " (<Entity Clinton Edward Dawkins>, 0.45125607),\n",
              " (<Entity The British Screen Advisory Council>, 0.4508997),\n",
              " (<Entity Image:Order of the British Empire (Civil) Ribbon.png>, 0.450827),\n",
              " (<Entity Michael Hadow>, 0.4508107),\n",
              " (<Entity Pierre Aimable Chapon-Baissac>, 0.4507164),\n",
              " (<Entity Skeena Country>, 0.45047268),\n",
              " (<Entity John Gardener (diplomat)>, 0.45040682),\n",
              " (<Entity Annette Worsley-Taylor>, 0.45038757),\n",
              " (<Entity George Faulds Stirling>, 0.45032308),\n",
              " (<Entity James Noel Thomson>, 0.4503117),\n",
              " (<Entity The Silver Greyhound (1932 film)>, 0.45022985),\n",
              " (<Entity The Silver Spoon>, 0.45017675),\n",
              " (<Entity Cinematograph Films Council>, 0.45011416),\n",
              " (<Entity What Every Woman Wants (1962 film)>, 0.45011336),\n",
              " (<Entity Love at Sea (1936 film)>, 0.44993445),\n",
              " (<Entity File:Atlantic convoy, 1942.jpg>, 0.44972712),\n",
              " (<Entity Montague Tyrwhitt-Drake>, 0.44955984),\n",
              " (<Entity Willie Morris (diplomat)>, 0.44954795),\n",
              " (<Entity Amphion-class submarine#Cancelled orders>, 0.4495263),\n",
              " (<Entity Seaspan ULC#Victoria Shipyards>, 0.44950464),\n",
              " (<Entity Kenneth Crook>, 0.44943714),\n",
              " (<Entity Escape from Broadmoor>, 0.44924158),\n",
              " (<Entity Quathiaski Cove>, 0.44909674),\n",
              " (<Entity John Stuart Champion>, 0.44895434),\n",
              " (<Entity Fourth Canadian Escort Squadron>, 0.44812384),\n",
              " (<Entity Mutiny (1925 film)>, 0.44809052),\n",
              " (<Entity The Unwritten Law (1929 film)>, 0.44795653),\n",
              " (<Entity Raymond Teague Cowern>, 0.44777757),\n",
              " (<Entity Margot Perryman>, 0.44755992),\n",
              " (<Entity The Four Masked Men>, 0.44753656),\n",
              " (<Entity Innocent Meeting>, 0.44738254),\n",
              " (<Entity Anthony Williams (diplomat)>, 0.44697708),\n",
              " (<Entity Henry Wood (naval officer)>, 0.44676992),\n",
              " (<Entity Catharine Arnold>, 0.44666258),\n",
              " (<Entity Paddy Ridsdale>, 0.44661483),\n",
              " (<Entity Louis Placide Blacher>, 0.44642612),\n",
              " (<Entity Noel Charles>, 0.44637102),\n",
              " (<Entity Alexander Grant Dallas>, 0.44624966),\n",
              " (<Entity The Spider (1940 film)>, 0.4461888),\n",
              " (<Entity Mike Westmacott>, 0.44613093),\n",
              " (<Entity The Love Box>, 0.4460393),\n",
              " (<Entity Valentine Boucher>, 0.44602755),\n",
              " (<Entity Gordon McGregor Sloan>, 0.44598228),\n",
              " (<Entity Bridge River-Lillooet News>, 0.4459375),\n",
              " (<Entity James Craig (diplomat)>, 0.4459291),\n",
              " (<Entity Ronald Okeden Alexander>, 0.44588998),\n",
              " (<Entity William Arbuckle Reid>, 0.44583687),\n",
              " (<Entity The Office Wife (1934 film)>, 0.44579643),\n",
              " (<Entity File:Monty, wavvel, auk.jpg>, 0.4457762),\n",
              " (<Entity Stephen Chapman (British Army officer)>, 0.44571358),\n",
              " (<Entity Godfrey Ince>, 0.44554126),\n",
              " (<Entity John Wilton (diplomat)>, 0.44551155),\n",
              " (<Entity File:Flag of The Commonwealth.svg>, 0.4454939),\n",
              " (<Entity Cyril Stanley Pickard>, 0.44549274),\n",
              " (<Entity Falkland Islands Association>, 0.44526845),\n",
              " (<Entity Davson baronets>, 0.44498616),\n",
              " (<Entity George James Macdonald>, 0.44498327),\n",
              " (<Entity David Fletcher (military historian)>, 0.44497672),\n",
              " (<Entity Bill Groom (art director)>, 0.44495907),\n",
              " (<Entity Mark Matthew Connelly>, 0.44492722),\n",
              " (<Entity The Angelus (film)>, 0.44491982),\n",
              " (<Entity Once Bitten (1932 film)>, 0.44482034),\n",
              " (<Entity Ronald Buxton (British politician)>, 0.4447913),\n",
              " (<Entity William Driscoll Gosset>, 0.44475257),\n",
              " (<Entity Michael Cavenagh Gillett>, 0.44469273),\n",
              " (<Entity Eyes of Fate>, 0.44463265),\n",
              " (<Entity Critchett baronets>, 0.44447833),\n",
              " (<Entity Kiss the Bride Goodbye>, 0.44441816),\n",
              " (<Entity Loon Lake, British Columbia>, 0.44435006),\n",
              " (<Entity Abdillahi Mohamed Duale>, 0.44411397),\n",
              " (<Entity William Fraser, 1st Baron Strathalmond>, 0.4440823),\n",
              " (<Entity 48th Battalion (British Columbia), CEF>, 0.44406387),\n",
              " (<Entity D.N. Penfold>, 0.44392586),\n",
              " (<Entity List of directors of the British Museum>, 0.4438576),\n",
              " (<Entity William Clark, Baron Clark of Kempston>, 0.44380912),\n",
              " (<Entity Edward Morris (historian)>, 0.44376093),\n",
              " (<Entity Three Men in a Boat (1933 film)>, 0.4436719),\n",
              " (<Entity The Knockout (film)>, 0.44366494),\n",
              " (<Entity The Arcadians (film)>, 0.4435797),\n",
              " (<Entity Richard Best (diplomat)>, 0.44352314),\n",
              " (<Entity Oswald Raynor Arthur>, 0.44335645),\n",
              " (<Entity Ernest Hall (politician)>, 0.4432827),\n",
              " (<Entity Tom Hickinbotham>, 0.44324803),\n",
              " (<Entity Rhodes Professor of Imperial History>, 0.4432155),\n",
              " (<Entity Reginald Stuart Champion>, 0.4431929),\n",
              " (<Entity John Richmond (diplomat)>, 0.44313243),\n",
              " (<Entity Such Is Life (1936 film)>, 0.44309148),\n",
              " (<Entity Capilano (electoral district)>, 0.44304505),\n",
              " (<Entity Second Portland ministry>, 0.44303882),\n",
              " (<Entity The Autumn of Pride>, 0.4430086),\n",
              " (<Entity George Sinclair (politician)>, 0.44294024),\n",
              " (<Entity Reginald Palmer>, 0.4428107),\n",
              " (<Entity HMS Bonaventure (31)>, 0.44278705),\n",
              " (<Entity Desmond Crawley>, 0.4427755),\n",
              " (<Entity Terence Daniel O'Leary>, 0.44273373),\n",
              " (<Entity File:CBEwithMilitaryRibbon.jpg>, 0.4426986),\n",
              " (<Entity Gypsy (1937 film)>, 0.44266206),\n",
              " (<Entity Robin Trower Hogg>, 0.44254607),\n",
              " (<Entity The Mad Hatters>, 0.44248697),\n",
              " (<Entity Brian Kenny (British Army officer)>, 0.44236052),\n",
              " (<Entity Geoffrey Archer (writer)>, 0.44225594),\n",
              " (<Entity Laurence Carr>, 0.44208962),\n",
              " (<Entity Home from Home (1939 film)>, 0.44203314),\n",
              " (<Entity School District 54 Bulkley Valley>, 0.4419665),\n",
              " (<Entity George Forty>, 0.44195762),\n",
              " (<Entity Guy Fleetwood Wilson>, 0.441936),\n",
              " (<Entity Frederic William Howay>, 0.44190404),\n",
              " (<Entity Howard Smith (diplomat)>, 0.44188654),\n",
              " (<Entity British protected person>, 0.44187),\n",
              " (<Entity The Right to Strike>, 0.4418604),\n",
              " (<Entity Hugh Shaw (British Army officer)>, 0.4417503),\n",
              " (<Entity S:A Naval Biographical Dictionary/Swaine, Spelman>, 0.44173452),\n",
              " (<Entity Pallard the Punter>, 0.441528),\n",
              " (<Entity Allison Harbour>, 0.44152167),\n",
              " (<Entity Arthur Norman (industrialist)>, 0.44151393),\n",
              " (<Entity Ernest Pooley>, 0.44148853),\n",
              " (<Entity Brian Young (magistrate)>, 0.4414203),\n",
              " (<Entity Alfred Savage>, 0.4412558),\n",
              " (<Entity Passenger to London>, 0.4411744),\n",
              " (<Entity Derek Williams (filmmaker)>, 0.4411316),\n",
              " (<Entity Malcolm Burley>, 0.44105363),\n",
              " (<Entity Peter Crampton (athlete)>, 0.44105244),\n",
              " (<Entity Henry Fleetwood Thuillier>, 0.44105095),\n",
              " (<Entity Anthony Reeve>, 0.44100183),\n",
              " (<Entity George Peter Lloyd>, 0.44098148),\n",
              " (<Entity The Cruise (TV series)>, 0.4409727),\n",
              " (<Entity It's Not Cricket (1937 film)>, 0.44094482),\n",
              " (<Entity File:Benjamin West 005.jpg>, 0.44086698),\n",
              " (<Entity Michael Knight (RAF officer)>, 0.44075298),\n",
              " (<Entity The Persistent Lovers>, 0.44072455),\n",
              " (<Entity Ships of the Royal Navy>, 0.4407212),\n",
              " (<Entity J. J. Colledge>, 0.4405966),\n",
              " (<Entity Dallas, Kamloops>, 0.44047746),\n",
              " (<Entity British Land>, 0.44035646),\n",
              " (<Entity David Nathan (journalist)>, 0.4403382),\n",
              " (<Entity The Conspirators (1924 film)>, 0.44032985),\n",
              " (<Entity Compelled>, 0.4403015),\n",
              " (<Entity The Bigamist (1921 film)>, 0.44025174)]"
            ]
          },
          "metadata": {
            "tags": []
          }
        },
        {
          "output_type": "stream",
          "text": [
            "Single Word Query Time: 304.09s\n"
          ],
          "name": "stdout"
        }
      ]
    },
    {
      "cell_type": "code",
      "metadata": {
        "colab": {
          "base_uri": "https://localhost:8080/",
          "height": 469
        },
        "id": "wEyEk-i2SdQz",
        "outputId": "9e693905-860b-4dc9-8885-73ac3d30f6c9"
      },
      "source": [
        "### Test single full mention query time on a mention with multiple words\n",
        "start_time = time.time()\n",
        "\n",
        "# Print word\n",
        "search_word = candidate_pools['full_mention_norm'][51]\n",
        "print(\"Search Word: \", search_word)\n",
        "\n",
        "# Translate word into vector\n",
        "# Handles multi-word mentions\n",
        "search_word_list = search_word.split(\" \")\n",
        "search_word_vector = None\n",
        "for word in search_word_list:\n",
        "    try:\n",
        "        vector = w2v.get_word_vector(str(word))\n",
        "        \n",
        "        if search_word_vector is None:\n",
        "            search_word_vector = vector\n",
        "        else:\n",
        "            search_word_vector += vector\n",
        "\n",
        "    except KeyError:\n",
        "        print(f\"\\\"{word}\\\" is Out of Vocabulary (OOV) for Wikipedia2vec.\")\n",
        "\n",
        "if search_word_vector is not None:\n",
        "    # Get most similar word\n",
        "    count_similar = 500\n",
        "    similar = w2v.most_similar_by_vector(search_word_vector, count_similar)\n",
        "\n",
        "    # Retrieve only entities from word\n",
        "    entities = []\n",
        "    return_similar = 10\n",
        "    for i in similar:\n",
        "    #     print(type(i[0]))\n",
        "        if isinstance(i[0], Entity):\n",
        "            entities.append(i)\n",
        "    #     if len(entities) == return_similar:\n",
        "    #         break\n",
        "    display(entities)\n",
        "end_time = time.time()\n",
        "print(f\"Single Word Query Time: {round(end_time - start_time, 2)}s\")"
      ],
      "execution_count": null,
      "outputs": [
        {
          "output_type": "stream",
          "text": [
            "Search Word:  welsh national farmers ' union\n",
            "\"'\" is Out of Vocabulary (OOV) for Wikipedia2vec.\n"
          ],
          "name": "stdout"
        },
        {
          "output_type": "display_data",
          "data": {
            "text/plain": [
              "[(<Entity :Category:Wikipedians interested in the European Union>, 0.74048346),\n",
              " (<Entity Whiteheads RFC>, 0.7279615),\n",
              " (<Entity Ian Mackay (rugby league)>, 0.7100251),\n",
              " (<Entity E. Gwyndaf Evans>, 0.70472246),\n",
              " (<Entity Ystrad Rhondda RFC>, 0.7012322),\n",
              " (<Entity Abercynon RFC>, 0.70090365),\n",
              " (<Entity Caernarfon RFC>, 0.69320804),\n",
              " (<Entity Tredegar Ironsides RFC>, 0.69225544),\n",
              " (<Entity Fleur De Lys RFC>, 0.6915729),\n",
              " (<Entity Cwmgwrach RFC>, 0.6905903),\n",
              " (<Entity File:Harden NSW.PNG>, 0.6901128),\n",
              " (<Entity Betws RFC>, 0.6887361),\n",
              " (<Entity Dai Francis (trade union leader)>, 0.6886294),\n",
              " (<Entity Llandybie RFC>, 0.6878249),\n",
              " (<Entity Berwyn Rangers F.C.>, 0.6861579),\n",
              " (<Entity :Category:All Blacks>, 0.68473554),\n",
              " (<Entity :Eastern Conference (NHL)>, 0.6845522),\n",
              " (<Entity Markham RFC>, 0.6823692),\n",
              " (<Entity Bethesda RFC>, 0.6821802),\n",
              " (<Entity Fall Bay RFC>, 0.6820504),\n",
              " (<Entity Cwmtwrch RFC>, 0.6806142),\n",
              " (<Entity Neil Lashkari>, 0.6795225),\n",
              " (<Entity Joost Adriaan van Hamel>, 0.6789603)]"
            ]
          },
          "metadata": {
            "tags": []
          }
        },
        {
          "output_type": "stream",
          "text": [
            "Single Word Query Time: 1.9s\n"
          ],
          "name": "stdout"
        }
      ]
    },
    {
      "cell_type": "markdown",
      "metadata": {
        "id": "GoaKTetSSdQ0"
      },
      "source": [
        "### Run Over Large Subset of Data"
      ]
    },
    {
      "cell_type": "code",
      "metadata": {
        "colab": {
          "base_uri": "https://localhost:8080/"
        },
        "id": "axT27htfSdQ0",
        "outputId": "5029b47e-73c0-428b-9595-103a31f7e917"
      },
      "source": [
        "# Prepare output array\n",
        "most_similar_entities = []\n",
        "most_similar_scores = []\n",
        "get_similar_candidate_pool = []\n",
        "get_similar_candidate_scores = []\n",
        "\n",
        "# Track metrics\n",
        "success_word_query = 0\n",
        "oov_errors = 0\n",
        "start_time = time.time()\n",
        "\n",
        "# Provide filter ability\n",
        "size = 500\n",
        "\n",
        "for mention in tqdm(candidate_pools['full_mention_norm'][:size]):\n",
        "    \n",
        "    # Translate word into vector\n",
        "    # Handles multi-word mentions\n",
        "    search_word_list = mention.split(\" \")\n",
        "    search_word_vector = None\n",
        "    for word in search_word_list:\n",
        "        try:\n",
        "            vector = w2v.get_word_vector(str(word))\n",
        "            \n",
        "            if search_word_vector is None:\n",
        "                search_word_vector = vector\n",
        "            else:\n",
        "                search_word_vector += vector\n",
        "                \n",
        "        except KeyError:\n",
        "            oov_errors += 1\n",
        "\n",
        "    # Save candidate pool\n",
        "    candidate_pool = []\n",
        "    candidate_scores = []\n",
        "    \n",
        "    if search_word_vector is not None:\n",
        "        success_word_query += 1\n",
        "        \n",
        "        # Search most similar words/entities from found word\n",
        "        # Retrieve 500 most similar to test large coverage\n",
        "        similars = w2v.most_similar_by_vector(search_word_vector, 500)\n",
        "\n",
        "        # Retrieve most similar entity\n",
        "        most_similar = None\n",
        "        for s in similars:\n",
        "            if isinstance(s[0], Entity):\n",
        "                candidate_pool.append(s[0].title)\n",
        "                candidate_scores.append(s[1])\n",
        "                if most_similar is None:\n",
        "                    most_similar = s\n",
        "                \n",
        "    # Save lists\n",
        "    get_similar_candidate_pool.append(candidate_pool)\n",
        "    get_similar_candidate_scores.append(candidate_scores)\n",
        "    \n",
        "    if most_similar is not None:\n",
        "        most_similar_entities.append(most_similar[0].title)\n",
        "        most_similar_scores.append(most_similar[1])\n",
        "    else:\n",
        "        most_similar_entities.append(None)\n",
        "        most_similar_scores.append(None)\n",
        "\n",
        "    \n",
        "print(\"Successfully Found Words: \", round(success_word_query/size*100,3),\"%\")\n",
        "print(\"Out-of-Vocabulary Issues: \", round(oov_errors/size*100,3),\"%\")\n",
        "execution_time = time.time() - start_time\n",
        "print(\"Execution time: \", round(execution_time, 3),\"s\")"
      ],
      "execution_count": 15,
      "outputs": [
        {
          "output_type": "stream",
          "text": [
            "100%|██████████| 500/500 [41:04<00:00,  4.93s/it]"
          ],
          "name": "stderr"
        },
        {
          "output_type": "stream",
          "text": [
            "Successfully Found Words:  96.8 %\n",
            "Out-of-Vocabulary Issues:  7.4 %\n",
            "Execution time:  2464.37 s\n"
          ],
          "name": "stdout"
        },
        {
          "output_type": "stream",
          "text": [
            "\n"
          ],
          "name": "stderr"
        }
      ]
    },
    {
      "cell_type": "code",
      "metadata": {
        "colab": {
          "base_uri": "https://localhost:8080/",
          "height": 216
        },
        "id": "j2yd3gu6SdQ1",
        "outputId": "fb444627-a68f-44c5-f55a-0bde611df2a3"
      },
      "source": [
        "# Append to dataframe\n",
        "mini_df = candidate_pools[:size].copy()\n",
        "mini_df['preds_w2v_mostsimilar'] = most_similar_entities\n",
        "mini_df['score_w2v_mostsimilar'] = most_similar_scores\n",
        "mini_df['candidate_pool_mostsimilar'] = get_similar_candidate_pool\n",
        "mini_df['candidate_scores_mostsimilar'] = get_similar_candidate_scores\n",
        "mini_df.head(3)"
      ],
      "execution_count": 16,
      "outputs": [
        {
          "output_type": "execute_result",
          "data": {
            "text/html": [
              "<div>\n",
              "<style scoped>\n",
              "    .dataframe tbody tr th:only-of-type {\n",
              "        vertical-align: middle;\n",
              "    }\n",
              "\n",
              "    .dataframe tbody tr th {\n",
              "        vertical-align: top;\n",
              "    }\n",
              "\n",
              "    .dataframe thead th {\n",
              "        text-align: right;\n",
              "    }\n",
              "</style>\n",
              "<table border=\"1\" class=\"dataframe\">\n",
              "  <thead>\n",
              "    <tr style=\"text-align: right;\">\n",
              "      <th></th>\n",
              "      <th>mention</th>\n",
              "      <th>full_mention</th>\n",
              "      <th>wikipedia_URL</th>\n",
              "      <th>wikipedia_page_ID</th>\n",
              "      <th>wikipedia_title</th>\n",
              "      <th>sentence_id</th>\n",
              "      <th>doc_id</th>\n",
              "      <th>congruent_mentions</th>\n",
              "      <th>full_mention_norm</th>\n",
              "      <th>preds_w2v_mostsimilar</th>\n",
              "      <th>score_w2v_mostsimilar</th>\n",
              "      <th>candidate_pool_mostsimilar</th>\n",
              "      <th>candidate_scores_mostsimilar</th>\n",
              "    </tr>\n",
              "  </thead>\n",
              "  <tbody>\n",
              "    <tr>\n",
              "      <th>0</th>\n",
              "      <td>B</td>\n",
              "      <td>EU</td>\n",
              "      <td>NaN</td>\n",
              "      <td>NaN</td>\n",
              "      <td>NaN</td>\n",
              "      <td>0</td>\n",
              "      <td>0</td>\n",
              "      <td>['EU', 'German', 'British']</td>\n",
              "      <td>eu</td>\n",
              "      <td>European Union</td>\n",
              "      <td>0.668622</td>\n",
              "      <td>[European Union, Directorate-General for Trade...</td>\n",
              "      <td>[0.668622, 0.61401534, 0.6123832, 0.60006154, ...</td>\n",
              "    </tr>\n",
              "    <tr>\n",
              "      <th>1</th>\n",
              "      <td>B</td>\n",
              "      <td>German</td>\n",
              "      <td>http://en.wikipedia.org/wiki/Germany</td>\n",
              "      <td>11867.0</td>\n",
              "      <td>Germany</td>\n",
              "      <td>0</td>\n",
              "      <td>0</td>\n",
              "      <td>['EU', 'German', 'British']</td>\n",
              "      <td>german</td>\n",
              "      <td>1856 in Germany</td>\n",
              "      <td>0.597120</td>\n",
              "      <td>[1856 in Germany, 1860 in Germany, 1862 in Ger...</td>\n",
              "      <td>[0.5971198, 0.58756816, 0.57571477, 0.5744798,...</td>\n",
              "    </tr>\n",
              "    <tr>\n",
              "      <th>2</th>\n",
              "      <td>B</td>\n",
              "      <td>British</td>\n",
              "      <td>http://en.wikipedia.org/wiki/United_Kingdom</td>\n",
              "      <td>31717.0</td>\n",
              "      <td>United Kingdom</td>\n",
              "      <td>0</td>\n",
              "      <td>0</td>\n",
              "      <td>['EU', 'German', 'British']</td>\n",
              "      <td>british</td>\n",
              "      <td>Derek George Cudmore</td>\n",
              "      <td>0.498734</td>\n",
              "      <td>[Derek George Cudmore, HMS Birkenhead, File:Tu...</td>\n",
              "      <td>[0.49873415, 0.48730087, 0.48630852, 0.4856556...</td>\n",
              "    </tr>\n",
              "  </tbody>\n",
              "</table>\n",
              "</div>"
            ],
            "text/plain": [
              "  mention  ...                       candidate_scores_mostsimilar\n",
              "0       B  ...  [0.668622, 0.61401534, 0.6123832, 0.60006154, ...\n",
              "1       B  ...  [0.5971198, 0.58756816, 0.57571477, 0.5744798,...\n",
              "2       B  ...  [0.49873415, 0.48730087, 0.48630852, 0.4856556...\n",
              "\n",
              "[3 rows x 13 columns]"
            ]
          },
          "metadata": {
            "tags": []
          },
          "execution_count": 16
        }
      ]
    },
    {
      "cell_type": "code",
      "metadata": {
        "colab": {
          "base_uri": "https://localhost:8080/"
        },
        "id": "w1x4wNPLSdQ1",
        "outputId": "c3d667f6-e263-4db0-f1e8-fbab78480129"
      },
      "source": [
        "# Estimate length of time to run over full dataset\n",
        "print(\"Estimated Duration for Full Dataset: \",\\\n",
        "     round((len(candidate_pools)/size)*execution_time/60/60,2), \" hours\")"
      ],
      "execution_count": 17,
      "outputs": [
        {
          "output_type": "stream",
          "text": [
            "Estimated Duration for Full Dataset:  40.13  hours\n"
          ],
          "name": "stdout"
        }
      ]
    },
    {
      "cell_type": "markdown",
      "metadata": {
        "id": "eCIKtFU8SdQ1"
      },
      "source": [
        "## Calculate Accuracy of Most Similar Entity Predictions"
      ]
    },
    {
      "cell_type": "code",
      "metadata": {
        "colab": {
          "base_uri": "https://localhost:8080/"
        },
        "id": "4NDl7CNtSdQ1",
        "outputId": "f0ba2066-17a3-43c0-e284-893ebc0f6348"
      },
      "source": [
        "# Calculate accuracy\n",
        "accurate_predictions = (mini_df['preds_w2v_mostsimilar'] == mini_df['wikipedia_title']).sum()\n",
        "print(\"****************************\")\n",
        "print(f\"Predictive Accuracy: {round(accurate_predictions / len(mini_df) * 100, 3)}%\")\n",
        "print(\"****************************\")"
      ],
      "execution_count": 18,
      "outputs": [
        {
          "output_type": "stream",
          "text": [
            "****************************\n",
            "Predictive Accuracy: 31.6%\n",
            "****************************\n"
          ],
          "name": "stdout"
        }
      ]
    },
    {
      "cell_type": "code",
      "metadata": {
        "colab": {
          "base_uri": "https://localhost:8080/"
        },
        "id": "9QEtVsTZSdQ1",
        "outputId": "17322bf4-a272-470e-d0ca-f16e630b8415"
      },
      "source": [
        "# Calculate percentage of candidate pools with the correct answer present\n",
        "# Use Wikipedia Title\n",
        "# Necessary to determine if shuffling pool could even get the right answer\n",
        "response_present = [mini_df['wikipedia_title'][i] in mini_df['candidate_pool_mostsimilar'][i] for i in range(len(mini_df))]\n",
        "print(f\"Correct answer is present in {round(sum(response_present) / len(mini_df) * 100, 3)}% of generated candidate pools via adapted Wikipedia2vec's most_similar() method.\")"
      ],
      "execution_count": 19,
      "outputs": [
        {
          "output_type": "stream",
          "text": [
            "Correct answer is present in 43.2% of generated candidate pools via adapted Wikipedia2vec's most_similar() method.\n"
          ],
          "name": "stdout"
        }
      ]
    },
    {
      "cell_type": "markdown",
      "metadata": {
        "id": "3lOrrqnwSdQ1"
      },
      "source": [
        "\n",
        "## Save predictive dataframe for input to next step"
      ]
    },
    {
      "cell_type": "code",
      "metadata": {
        "colab": {
          "base_uri": "https://localhost:8080/",
          "height": 678
        },
        "id": "iBUw7QbfSdQ1",
        "outputId": "812bd78e-756c-4ed1-9d23-36a3f2fa2784"
      },
      "source": [
        "#Final DF\n",
        "mini_df.head(10)"
      ],
      "execution_count": 20,
      "outputs": [
        {
          "output_type": "execute_result",
          "data": {
            "text/html": [
              "<div>\n",
              "<style scoped>\n",
              "    .dataframe tbody tr th:only-of-type {\n",
              "        vertical-align: middle;\n",
              "    }\n",
              "\n",
              "    .dataframe tbody tr th {\n",
              "        vertical-align: top;\n",
              "    }\n",
              "\n",
              "    .dataframe thead th {\n",
              "        text-align: right;\n",
              "    }\n",
              "</style>\n",
              "<table border=\"1\" class=\"dataframe\">\n",
              "  <thead>\n",
              "    <tr style=\"text-align: right;\">\n",
              "      <th></th>\n",
              "      <th>mention</th>\n",
              "      <th>full_mention</th>\n",
              "      <th>wikipedia_URL</th>\n",
              "      <th>wikipedia_page_ID</th>\n",
              "      <th>wikipedia_title</th>\n",
              "      <th>sentence_id</th>\n",
              "      <th>doc_id</th>\n",
              "      <th>congruent_mentions</th>\n",
              "      <th>full_mention_norm</th>\n",
              "      <th>preds_w2v_mostsimilar</th>\n",
              "      <th>score_w2v_mostsimilar</th>\n",
              "      <th>candidate_pool_mostsimilar</th>\n",
              "      <th>candidate_scores_mostsimilar</th>\n",
              "    </tr>\n",
              "  </thead>\n",
              "  <tbody>\n",
              "    <tr>\n",
              "      <th>0</th>\n",
              "      <td>B</td>\n",
              "      <td>EU</td>\n",
              "      <td>NaN</td>\n",
              "      <td>NaN</td>\n",
              "      <td>NaN</td>\n",
              "      <td>0</td>\n",
              "      <td>0</td>\n",
              "      <td>['EU', 'German', 'British']</td>\n",
              "      <td>eu</td>\n",
              "      <td>European Union</td>\n",
              "      <td>0.668622</td>\n",
              "      <td>[European Union, Directorate-General for Trade...</td>\n",
              "      <td>[0.668622, 0.61401534, 0.6123832, 0.60006154, ...</td>\n",
              "    </tr>\n",
              "    <tr>\n",
              "      <th>1</th>\n",
              "      <td>B</td>\n",
              "      <td>German</td>\n",
              "      <td>http://en.wikipedia.org/wiki/Germany</td>\n",
              "      <td>11867.0</td>\n",
              "      <td>Germany</td>\n",
              "      <td>0</td>\n",
              "      <td>0</td>\n",
              "      <td>['EU', 'German', 'British']</td>\n",
              "      <td>german</td>\n",
              "      <td>1856 in Germany</td>\n",
              "      <td>0.597120</td>\n",
              "      <td>[1856 in Germany, 1860 in Germany, 1862 in Ger...</td>\n",
              "      <td>[0.5971198, 0.58756816, 0.57571477, 0.5744798,...</td>\n",
              "    </tr>\n",
              "    <tr>\n",
              "      <th>2</th>\n",
              "      <td>B</td>\n",
              "      <td>British</td>\n",
              "      <td>http://en.wikipedia.org/wiki/United_Kingdom</td>\n",
              "      <td>31717.0</td>\n",
              "      <td>United Kingdom</td>\n",
              "      <td>0</td>\n",
              "      <td>0</td>\n",
              "      <td>['EU', 'German', 'British']</td>\n",
              "      <td>british</td>\n",
              "      <td>Derek George Cudmore</td>\n",
              "      <td>0.498734</td>\n",
              "      <td>[Derek George Cudmore, HMS Birkenhead, File:Tu...</td>\n",
              "      <td>[0.49873415, 0.48730087, 0.48630852, 0.4856556...</td>\n",
              "    </tr>\n",
              "    <tr>\n",
              "      <th>3</th>\n",
              "      <td>B</td>\n",
              "      <td>Peter Blackburn</td>\n",
              "      <td>NaN</td>\n",
              "      <td>NaN</td>\n",
              "      <td>NaN</td>\n",
              "      <td>1</td>\n",
              "      <td>0</td>\n",
              "      <td>['Peter Blackburn', 'BRUSSELS', 'European Comm...</td>\n",
              "      <td>peter blackburn</td>\n",
              "      <td>Heywood United F.C.</td>\n",
              "      <td>0.608454</td>\n",
              "      <td>[Heywood United F.C., Adam Jackson, Blackburn ...</td>\n",
              "      <td>[0.60845387, 0.59419054, 0.5897064, 0.584375, ...</td>\n",
              "    </tr>\n",
              "    <tr>\n",
              "      <th>4</th>\n",
              "      <td>I</td>\n",
              "      <td>Peter Blackburn</td>\n",
              "      <td>NaN</td>\n",
              "      <td>NaN</td>\n",
              "      <td>NaN</td>\n",
              "      <td>1</td>\n",
              "      <td>0</td>\n",
              "      <td>['Peter Blackburn', 'BRUSSELS', 'European Comm...</td>\n",
              "      <td>peter blackburn</td>\n",
              "      <td>Heywood United F.C.</td>\n",
              "      <td>0.609467</td>\n",
              "      <td>[Heywood United F.C., Blackburn Rovers F.C., A...</td>\n",
              "      <td>[0.6094674, 0.6015017, 0.5913171, 0.58464885, ...</td>\n",
              "    </tr>\n",
              "    <tr>\n",
              "      <th>5</th>\n",
              "      <td>B</td>\n",
              "      <td>BRUSSELS</td>\n",
              "      <td>http://en.wikipedia.org/wiki/Brussels</td>\n",
              "      <td>3708.0</td>\n",
              "      <td>Brussels</td>\n",
              "      <td>1</td>\n",
              "      <td>0</td>\n",
              "      <td>['Peter Blackburn', 'BRUSSELS', 'European Comm...</td>\n",
              "      <td>brussels</td>\n",
              "      <td>Brussels</td>\n",
              "      <td>0.869070</td>\n",
              "      <td>[Brussels, Bordet railway station, Timeline of...</td>\n",
              "      <td>[0.8690704, 0.6816344, 0.67974824, 0.6619611, ...</td>\n",
              "    </tr>\n",
              "    <tr>\n",
              "      <th>6</th>\n",
              "      <td>B</td>\n",
              "      <td>European Commission</td>\n",
              "      <td>http://en.wikipedia.org/wiki/European_Commission</td>\n",
              "      <td>9974.0</td>\n",
              "      <td>European Commission</td>\n",
              "      <td>1</td>\n",
              "      <td>0</td>\n",
              "      <td>['Peter Blackburn', 'BRUSSELS', 'European Comm...</td>\n",
              "      <td>european commission</td>\n",
              "      <td>:Category:Wikipedians interested in the Europe...</td>\n",
              "      <td>0.662552</td>\n",
              "      <td>[:Category:Wikipedians interested in the Europ...</td>\n",
              "      <td>[0.6625522, 0.55637425, 0.5504225, 0.5464806, ...</td>\n",
              "    </tr>\n",
              "    <tr>\n",
              "      <th>7</th>\n",
              "      <td>I</td>\n",
              "      <td>European Commission</td>\n",
              "      <td>http://en.wikipedia.org/wiki/European_Commission</td>\n",
              "      <td>9974.0</td>\n",
              "      <td>European Commission</td>\n",
              "      <td>1</td>\n",
              "      <td>0</td>\n",
              "      <td>['Peter Blackburn', 'BRUSSELS', 'European Comm...</td>\n",
              "      <td>european commission</td>\n",
              "      <td>:Category:Wikipedians interested in the Europe...</td>\n",
              "      <td>0.633569</td>\n",
              "      <td>[:Category:Wikipedians interested in the Europ...</td>\n",
              "      <td>[0.6335695, 0.55570084, 0.53732044, 0.52874714...</td>\n",
              "    </tr>\n",
              "    <tr>\n",
              "      <th>8</th>\n",
              "      <td>B</td>\n",
              "      <td>German</td>\n",
              "      <td>http://en.wikipedia.org/wiki/Germany</td>\n",
              "      <td>11867.0</td>\n",
              "      <td>Germany</td>\n",
              "      <td>1</td>\n",
              "      <td>0</td>\n",
              "      <td>['Peter Blackburn', 'BRUSSELS', 'European Comm...</td>\n",
              "      <td>german</td>\n",
              "      <td>1856 in Germany</td>\n",
              "      <td>0.597120</td>\n",
              "      <td>[1856 in Germany, 1860 in Germany, 1862 in Ger...</td>\n",
              "      <td>[0.5971198, 0.58756816, 0.57571477, 0.5744798,...</td>\n",
              "    </tr>\n",
              "    <tr>\n",
              "      <th>9</th>\n",
              "      <td>B</td>\n",
              "      <td>British</td>\n",
              "      <td>http://en.wikipedia.org/wiki/United_Kingdom</td>\n",
              "      <td>31717.0</td>\n",
              "      <td>United Kingdom</td>\n",
              "      <td>1</td>\n",
              "      <td>0</td>\n",
              "      <td>['Peter Blackburn', 'BRUSSELS', 'European Comm...</td>\n",
              "      <td>british</td>\n",
              "      <td>Derek George Cudmore</td>\n",
              "      <td>0.498734</td>\n",
              "      <td>[Derek George Cudmore, HMS Birkenhead, File:Tu...</td>\n",
              "      <td>[0.49873415, 0.48730087, 0.48630852, 0.4856556...</td>\n",
              "    </tr>\n",
              "  </tbody>\n",
              "</table>\n",
              "</div>"
            ],
            "text/plain": [
              "  mention  ...                       candidate_scores_mostsimilar\n",
              "0       B  ...  [0.668622, 0.61401534, 0.6123832, 0.60006154, ...\n",
              "1       B  ...  [0.5971198, 0.58756816, 0.57571477, 0.5744798,...\n",
              "2       B  ...  [0.49873415, 0.48730087, 0.48630852, 0.4856556...\n",
              "3       B  ...  [0.60845387, 0.59419054, 0.5897064, 0.584375, ...\n",
              "4       I  ...  [0.6094674, 0.6015017, 0.5913171, 0.58464885, ...\n",
              "5       B  ...  [0.8690704, 0.6816344, 0.67974824, 0.6619611, ...\n",
              "6       B  ...  [0.6625522, 0.55637425, 0.5504225, 0.5464806, ...\n",
              "7       I  ...  [0.6335695, 0.55570084, 0.53732044, 0.52874714...\n",
              "8       B  ...  [0.5971198, 0.58756816, 0.57571477, 0.5744798,...\n",
              "9       B  ...  [0.49873415, 0.48730087, 0.48630852, 0.4856556...\n",
              "\n",
              "[10 rows x 13 columns]"
            ]
          },
          "metadata": {
            "tags": []
          },
          "execution_count": 20
        }
      ]
    },
    {
      "cell_type": "code",
      "metadata": {
        "id": "a62RVfrVSdQ1"
      },
      "source": [
        "# Save dataframe\n",
        "mini_df.to_csv(\"wikipedia2vec_most_similar_500n_300d.csv\", index=False)"
      ],
      "execution_count": 22,
      "outputs": []
    },
    {
      "cell_type": "code",
      "metadata": {
        "colab": {
          "base_uri": "https://localhost:8080/",
          "height": 17
        },
        "id": "aJnmlI0TSdQ1",
        "outputId": "8b998f56-0a31-4255-8d09-ebff34e2f805"
      },
      "source": [
        "# Download from Colab\n",
        "files.download(\"wikipedia2vec_most_similar_500n_300d.csv\")"
      ],
      "execution_count": 23,
      "outputs": [
        {
          "output_type": "display_data",
          "data": {
            "application/javascript": [
              "\n",
              "    async function download(id, filename, size) {\n",
              "      if (!google.colab.kernel.accessAllowed) {\n",
              "        return;\n",
              "      }\n",
              "      const div = document.createElement('div');\n",
              "      const label = document.createElement('label');\n",
              "      label.textContent = `Downloading \"${filename}\": `;\n",
              "      div.appendChild(label);\n",
              "      const progress = document.createElement('progress');\n",
              "      progress.max = size;\n",
              "      div.appendChild(progress);\n",
              "      document.body.appendChild(div);\n",
              "\n",
              "      const buffers = [];\n",
              "      let downloaded = 0;\n",
              "\n",
              "      const channel = await google.colab.kernel.comms.open(id);\n",
              "      // Send a message to notify the kernel that we're ready.\n",
              "      channel.send({})\n",
              "\n",
              "      for await (const message of channel.messages) {\n",
              "        // Send a message to notify the kernel that we're ready.\n",
              "        channel.send({})\n",
              "        if (message.buffers) {\n",
              "          for (const buffer of message.buffers) {\n",
              "            buffers.push(buffer);\n",
              "            downloaded += buffer.byteLength;\n",
              "            progress.value = downloaded;\n",
              "          }\n",
              "        }\n",
              "      }\n",
              "      const blob = new Blob(buffers, {type: 'application/binary'});\n",
              "      const a = document.createElement('a');\n",
              "      a.href = window.URL.createObjectURL(blob);\n",
              "      a.download = filename;\n",
              "      div.appendChild(a);\n",
              "      a.click();\n",
              "      div.remove();\n",
              "    }\n",
              "  "
            ],
            "text/plain": [
              "<IPython.core.display.Javascript object>"
            ]
          },
          "metadata": {
            "tags": []
          }
        },
        {
          "output_type": "display_data",
          "data": {
            "application/javascript": [
              "download(\"download_120c941a-f18f-407d-af6c-295fa3bae332\", \"wikipedia2vec_most_similar_500n_300d.csv\", 3025549)"
            ],
            "text/plain": [
              "<IPython.core.display.Javascript object>"
            ]
          },
          "metadata": {
            "tags": []
          }
        }
      ]
    },
    {
      "cell_type": "code",
      "metadata": {
        "id": "FUW05dehfLXb"
      },
      "source": [
        ""
      ],
      "execution_count": null,
      "outputs": []
    }
  ]
}