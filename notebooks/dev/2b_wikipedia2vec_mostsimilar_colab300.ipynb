{
  "nbformat": 4,
  "nbformat_minor": 0,
  "metadata": {
    "kernelspec": {
      "display_name": "Python 3",
      "language": "python",
      "name": "python3"
    },
    "language_info": {
      "codemirror_mode": {
        "name": "ipython",
        "version": 3
      },
      "file_extension": ".py",
      "mimetype": "text/x-python",
      "name": "python",
      "nbconvert_exporter": "python",
      "pygments_lexer": "ipython3",
      "version": "3.7.7"
    },
    "colab": {
      "name": "2b_wikipedia2vec_mostsimilar_colab300.ipynb",
      "provenance": [],
      "collapsed_sections": []
    }
  },
  "cells": [
    {
      "cell_type": "markdown",
      "metadata": {
        "id": "99A4utu3SdQv"
      },
      "source": [
        "# Phase Two: Find Similar Entities via Adapted Wikipedia2vec most_similar()\n",
        "\n",
        "In Phase Two, we try to generate candidate pools for each full mention. In this method, we use an adaptation of Wikipedia2vec's most_similar() function that translates a full mention into a vector representation, returns a large sample of similar words and entities and filters to just entities as our candidates.\n",
        "\n",
        "To improve speed of processing, we used Google Colab to download the pre-trained embeddings and run this notebook."
      ]
    },
    {
      "cell_type": "markdown",
      "metadata": {
        "id": "xfeFJmbFSdQv"
      },
      "source": [
        "#### Import Packages"
      ]
    },
    {
      "cell_type": "code",
      "metadata": {
        "id": "RhsLecMKSdQv"
      },
      "source": [
        "import os\n",
        "import time\n",
        "\n",
        "import pandas as pd\n",
        "import numpy as np\n",
        "import matplotlib.pyplot as plt\n",
        "%matplotlib inline\n",
        "\n",
        "# Progress bar\n",
        "from tqdm import tqdm"
      ],
      "execution_count": 1,
      "outputs": []
    },
    {
      "cell_type": "code",
      "metadata": {
        "colab": {
          "base_uri": "https://localhost:8080/"
        },
        "id": "Y6sfDuYMSsHA",
        "outputId": "5c21577a-9d42-4f62-8812-db6bf84e4878"
      },
      "source": [
        "!pip install wikipedia2vec"
      ],
      "execution_count": 2,
      "outputs": [
        {
          "output_type": "stream",
          "text": [
            "Requirement already satisfied: wikipedia2vec in /usr/local/lib/python3.6/dist-packages (1.0.4)\n",
            "Requirement already satisfied: numpy in /usr/local/lib/python3.6/dist-packages (from wikipedia2vec) (1.18.5)\n",
            "Requirement already satisfied: click in /usr/local/lib/python3.6/dist-packages (from wikipedia2vec) (7.1.2)\n",
            "Requirement already satisfied: jieba in /usr/local/lib/python3.6/dist-packages (from wikipedia2vec) (0.42.1)\n",
            "Requirement already satisfied: marisa-trie in /usr/local/lib/python3.6/dist-packages (from wikipedia2vec) (0.7.5)\n",
            "Requirement already satisfied: six in /usr/local/lib/python3.6/dist-packages (from wikipedia2vec) (1.15.0)\n",
            "Requirement already satisfied: joblib in /usr/local/lib/python3.6/dist-packages (from wikipedia2vec) (0.17.0)\n",
            "Requirement already satisfied: mwparserfromhell in /usr/local/lib/python3.6/dist-packages (from wikipedia2vec) (0.5.4)\n",
            "Requirement already satisfied: scipy in /usr/local/lib/python3.6/dist-packages (from wikipedia2vec) (1.4.1)\n",
            "Requirement already satisfied: tqdm in /usr/local/lib/python3.6/dist-packages (from wikipedia2vec) (4.41.1)\n",
            "Requirement already satisfied: lmdb in /usr/local/lib/python3.6/dist-packages (from wikipedia2vec) (0.99)\n"
          ],
          "name": "stdout"
        }
      ]
    },
    {
      "cell_type": "code",
      "metadata": {
        "id": "nvutw5sFSdQw"
      },
      "source": [
        "# Package\n",
        "from wikipedia2vec import Wikipedia2Vec\n",
        "\n",
        "# Class to compare type\n",
        "from wikipedia2vec.dictionary import Entity"
      ],
      "execution_count": 3,
      "outputs": []
    },
    {
      "cell_type": "code",
      "metadata": {
        "colab": {
          "base_uri": "https://localhost:8080/"
        },
        "id": "MiN_d5aXTP0w",
        "outputId": "57444731-19fc-41dc-8fb8-c984539461a0"
      },
      "source": [
        "# Download dimensional file from Wikipedia2vec website\n",
        "!curl -O http://wikipedia2vec.s3.amazonaws.com/models/en/2018-04-20/enwiki_20180420_300d.pkl.bz2"
      ],
      "execution_count": 4,
      "outputs": [
        {
          "output_type": "stream",
          "text": [
            "  % Total    % Received % Xferd  Average Speed   Time    Time     Time  Current\n",
            "                                 Dload  Upload   Total   Spent    Left  Speed\n",
            "100 9921M  100 9921M    0     0  61.6M      0  0:02:40  0:02:40 --:--:-- 74.1M\n"
          ],
          "name": "stdout"
        }
      ]
    },
    {
      "cell_type": "code",
      "metadata": {
        "id": "A6DSBUDsTaJj",
        "colab": {
          "base_uri": "https://localhost:8080/"
        },
        "outputId": "c8ad76c0-243b-438d-e1eb-9b72992e31c5"
      },
      "source": [
        "!bzip2 -d enwiki_20180420_300d.pkl.bz2"
      ],
      "execution_count": 5,
      "outputs": [
        {
          "output_type": "stream",
          "text": [
            "bzip2: Output file enwiki_20180420_300d.pkl already exists.\n"
          ],
          "name": "stdout"
        }
      ]
    },
    {
      "cell_type": "code",
      "metadata": {
        "colab": {
          "base_uri": "https://localhost:8080/"
        },
        "id": "Jf9yoICTUKVF",
        "outputId": "e3deb365-dad0-4a2d-8d54-8e59de682a60"
      },
      "source": [
        "!ls"
      ],
      "execution_count": 6,
      "outputs": [
        {
          "output_type": "stream",
          "text": [
            "Aida-Conll-Yago-Input.csv     enwiki_20180420_300d.pkl\t    sample_data\n",
            "enwiki_20180420_100d.pkl.bz2  enwiki_20180420_300d.pkl.bz2\n"
          ],
          "name": "stdout"
        }
      ]
    },
    {
      "cell_type": "code",
      "metadata": {
        "colab": {
          "base_uri": "https://localhost:8080/"
        },
        "id": "e_xYmqKnSdQw",
        "outputId": "b0c1f2a3-63ac-4201-afd9-b042f2803fbb"
      },
      "source": [
        "%%time\n",
        "# Load unzipped pkl file with word embeddings\n",
        "w2v = Wikipedia2Vec.load(\"enwiki_20180420_300d.pkl\")"
      ],
      "execution_count": 7,
      "outputs": [
        {
          "output_type": "stream",
          "text": [
            "CPU times: user 63 ms, sys: 217 ms, total: 280 ms\n",
            "Wall time: 1.64 s\n"
          ],
          "name": "stdout"
        }
      ]
    },
    {
      "cell_type": "markdown",
      "metadata": {
        "id": "Mm8vSJy4SdQx"
      },
      "source": [
        "## Load ACY Input Data"
      ]
    },
    {
      "cell_type": "code",
      "metadata": {
        "colab": {
          "resources": {
            "http://localhost:8080/nbextensions/google.colab/files.js": {
              "data": "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",
              "ok": true,
              "headers": [
                [
                  "content-type",
                  "application/javascript"
                ]
              ],
              "status": 200,
              "status_text": "OK"
            }
          },
          "base_uri": "https://localhost:8080/",
          "height": 70
        },
        "id": "ozmmrZ18WwBz",
        "outputId": "7865913a-7147-4515-f2d9-1606fb9b43dc"
      },
      "source": [
        "from google.colab import files\n",
        "uploaded = files.upload()"
      ],
      "execution_count": 8,
      "outputs": [
        {
          "output_type": "display_data",
          "data": {
            "text/html": [
              "\n",
              "     <input type=\"file\" id=\"files-25312e40-9356-4ebe-a0ab-7b0c56377eab\" name=\"files[]\" multiple disabled\n",
              "        style=\"border:none\" />\n",
              "     <output id=\"result-25312e40-9356-4ebe-a0ab-7b0c56377eab\">\n",
              "      Upload widget is only available when the cell has been executed in the\n",
              "      current browser session. Please rerun this cell to enable.\n",
              "      </output>\n",
              "      <script src=\"/nbextensions/google.colab/files.js\"></script> "
            ],
            "text/plain": [
              "<IPython.core.display.HTML object>"
            ]
          },
          "metadata": {
            "tags": []
          }
        },
        {
          "output_type": "stream",
          "text": [
            "Saving Aida-Conll-Yago-Input.csv to Aida-Conll-Yago-Input (1).csv\n"
          ],
          "name": "stdout"
        }
      ]
    },
    {
      "cell_type": "code",
      "metadata": {
        "colab": {
          "base_uri": "https://localhost:8080/"
        },
        "id": "aJJNvJAdXKS3",
        "outputId": "c5666412-a16d-4465-c219-a20465034f8b"
      },
      "source": [
        "!ls"
      ],
      "execution_count": 9,
      "outputs": [
        {
          "output_type": "stream",
          "text": [
            "'Aida-Conll-Yago-Input (1).csv'   enwiki_20180420_300d.pkl\n",
            " Aida-Conll-Yago-Input.csv\t  enwiki_20180420_300d.pkl.bz2\n",
            " enwiki_20180420_100d.pkl.bz2\t  sample_data\n"
          ],
          "name": "stdout"
        }
      ]
    },
    {
      "cell_type": "code",
      "metadata": {
        "colab": {
          "base_uri": "https://localhost:8080/",
          "height": 143
        },
        "id": "u8Su72NSSdQx",
        "outputId": "b99ab129-96a3-45be-aeb8-82ac7a4006e8"
      },
      "source": [
        "# Load data\n",
        "acy_input = pd.read_csv(\"Aida-Conll-Yago-Input.csv\", delimiter=\",\")\n",
        "acy_input.head(3)"
      ],
      "execution_count": 10,
      "outputs": [
        {
          "output_type": "execute_result",
          "data": {
            "text/html": [
              "<div>\n",
              "<style scoped>\n",
              "    .dataframe tbody tr th:only-of-type {\n",
              "        vertical-align: middle;\n",
              "    }\n",
              "\n",
              "    .dataframe tbody tr th {\n",
              "        vertical-align: top;\n",
              "    }\n",
              "\n",
              "    .dataframe thead th {\n",
              "        text-align: right;\n",
              "    }\n",
              "</style>\n",
              "<table border=\"1\" class=\"dataframe\">\n",
              "  <thead>\n",
              "    <tr style=\"text-align: right;\">\n",
              "      <th></th>\n",
              "      <th>mention</th>\n",
              "      <th>full_mention</th>\n",
              "      <th>wikipedia_URL</th>\n",
              "      <th>wikipedia_page_ID</th>\n",
              "      <th>wikipedia_title</th>\n",
              "      <th>sentence_id</th>\n",
              "      <th>doc_id</th>\n",
              "      <th>congruent_mentions</th>\n",
              "    </tr>\n",
              "  </thead>\n",
              "  <tbody>\n",
              "    <tr>\n",
              "      <th>0</th>\n",
              "      <td>B</td>\n",
              "      <td>EU</td>\n",
              "      <td>NaN</td>\n",
              "      <td>NaN</td>\n",
              "      <td>NaN</td>\n",
              "      <td>0</td>\n",
              "      <td>0</td>\n",
              "      <td>['EU', 'German', 'British']</td>\n",
              "    </tr>\n",
              "    <tr>\n",
              "      <th>1</th>\n",
              "      <td>B</td>\n",
              "      <td>German</td>\n",
              "      <td>http://en.wikipedia.org/wiki/Germany</td>\n",
              "      <td>11867.0</td>\n",
              "      <td>Germany</td>\n",
              "      <td>0</td>\n",
              "      <td>0</td>\n",
              "      <td>['EU', 'German', 'British']</td>\n",
              "    </tr>\n",
              "    <tr>\n",
              "      <th>2</th>\n",
              "      <td>B</td>\n",
              "      <td>British</td>\n",
              "      <td>http://en.wikipedia.org/wiki/United_Kingdom</td>\n",
              "      <td>31717.0</td>\n",
              "      <td>United Kingdom</td>\n",
              "      <td>0</td>\n",
              "      <td>0</td>\n",
              "      <td>['EU', 'German', 'British']</td>\n",
              "    </tr>\n",
              "  </tbody>\n",
              "</table>\n",
              "</div>"
            ],
            "text/plain": [
              "  mention full_mention  ... doc_id           congruent_mentions\n",
              "0       B           EU  ...      0  ['EU', 'German', 'British']\n",
              "1       B       German  ...      0  ['EU', 'German', 'British']\n",
              "2       B      British  ...      0  ['EU', 'German', 'British']\n",
              "\n",
              "[3 rows x 8 columns]"
            ]
          },
          "metadata": {
            "tags": []
          },
          "execution_count": 10
        }
      ]
    },
    {
      "cell_type": "code",
      "metadata": {
        "id": "TN04dU2bSdQy"
      },
      "source": [
        "# Re-name \n",
        "candidate_pools = acy_input.copy()"
      ],
      "execution_count": 11,
      "outputs": []
    },
    {
      "cell_type": "markdown",
      "metadata": {
        "id": "okne7Ol7SdQy"
      },
      "source": [
        "## Find most similar entity using Wikipedia2vec\n",
        "\n",
        "We now turn to using a variation on Wikipedia2vec's `most_similar()` function to find, for entered words, the most similar entity."
      ]
    },
    {
      "cell_type": "code",
      "metadata": {
        "scrolled": true,
        "colab": {
          "base_uri": "https://localhost:8080/",
          "height": 178
        },
        "id": "VHIGXQMTSdQy",
        "outputId": "03bc96b8-b11c-4a38-c1ad-ed7c74cac9e0"
      },
      "source": [
        "# Normalize full_mentions to lower case for entry into most_similar() function\n",
        "full_mention_norm = np.array([x.lower() for x in candidate_pools['full_mention']])\n",
        "candidate_pools['full_mention_norm'] = full_mention_norm\n",
        "candidate_pools.head(3)"
      ],
      "execution_count": 12,
      "outputs": [
        {
          "output_type": "execute_result",
          "data": {
            "text/html": [
              "<div>\n",
              "<style scoped>\n",
              "    .dataframe tbody tr th:only-of-type {\n",
              "        vertical-align: middle;\n",
              "    }\n",
              "\n",
              "    .dataframe tbody tr th {\n",
              "        vertical-align: top;\n",
              "    }\n",
              "\n",
              "    .dataframe thead th {\n",
              "        text-align: right;\n",
              "    }\n",
              "</style>\n",
              "<table border=\"1\" class=\"dataframe\">\n",
              "  <thead>\n",
              "    <tr style=\"text-align: right;\">\n",
              "      <th></th>\n",
              "      <th>mention</th>\n",
              "      <th>full_mention</th>\n",
              "      <th>wikipedia_URL</th>\n",
              "      <th>wikipedia_page_ID</th>\n",
              "      <th>wikipedia_title</th>\n",
              "      <th>sentence_id</th>\n",
              "      <th>doc_id</th>\n",
              "      <th>congruent_mentions</th>\n",
              "      <th>full_mention_norm</th>\n",
              "    </tr>\n",
              "  </thead>\n",
              "  <tbody>\n",
              "    <tr>\n",
              "      <th>0</th>\n",
              "      <td>B</td>\n",
              "      <td>EU</td>\n",
              "      <td>NaN</td>\n",
              "      <td>NaN</td>\n",
              "      <td>NaN</td>\n",
              "      <td>0</td>\n",
              "      <td>0</td>\n",
              "      <td>['EU', 'German', 'British']</td>\n",
              "      <td>eu</td>\n",
              "    </tr>\n",
              "    <tr>\n",
              "      <th>1</th>\n",
              "      <td>B</td>\n",
              "      <td>German</td>\n",
              "      <td>http://en.wikipedia.org/wiki/Germany</td>\n",
              "      <td>11867.0</td>\n",
              "      <td>Germany</td>\n",
              "      <td>0</td>\n",
              "      <td>0</td>\n",
              "      <td>['EU', 'German', 'British']</td>\n",
              "      <td>german</td>\n",
              "    </tr>\n",
              "    <tr>\n",
              "      <th>2</th>\n",
              "      <td>B</td>\n",
              "      <td>British</td>\n",
              "      <td>http://en.wikipedia.org/wiki/United_Kingdom</td>\n",
              "      <td>31717.0</td>\n",
              "      <td>United Kingdom</td>\n",
              "      <td>0</td>\n",
              "      <td>0</td>\n",
              "      <td>['EU', 'German', 'British']</td>\n",
              "      <td>british</td>\n",
              "    </tr>\n",
              "  </tbody>\n",
              "</table>\n",
              "</div>"
            ],
            "text/plain": [
              "  mention full_mention  ...           congruent_mentions  full_mention_norm\n",
              "0       B           EU  ...  ['EU', 'German', 'British']                 eu\n",
              "1       B       German  ...  ['EU', 'German', 'British']             german\n",
              "2       B      British  ...  ['EU', 'German', 'British']            british\n",
              "\n",
              "[3 rows x 9 columns]"
            ]
          },
          "metadata": {
            "tags": []
          },
          "execution_count": 12
        }
      ]
    },
    {
      "cell_type": "code",
      "metadata": {
        "colab": {
          "base_uri": "https://localhost:8080/",
          "height": 1000
        },
        "id": "pp9AGHznSdQy",
        "outputId": "3d5eae9d-a53f-4816-8fa6-2fc7da09dfed"
      },
      "source": [
        "### Test single full mention query time\n",
        "start_time = time.time()\n",
        "\n",
        "# Print word\n",
        "search_word = candidate_pools['full_mention_norm'][2]\n",
        "print(\"Search Word: \", search_word)\n",
        "\n",
        "# Translate word into vector\n",
        "# Handles multi-word mentions\n",
        "search_word_list = search_word.split(\" \")\n",
        "search_word_vector = None\n",
        "for word in search_word_list:\n",
        "    try:\n",
        "        vector = w2v.get_word_vector(str(word))\n",
        "    except KeyError:\n",
        "        print(\"This word is Out of Vocabulary (OOV) for Wikipedia2vec.\")\n",
        "        vector = None\n",
        "        \n",
        "    if search_word_vector is None:\n",
        "        search_word_vector = vector\n",
        "    else:\n",
        "        search_word_vector += vector\n",
        "\n",
        "if search_word_vector is not None:\n",
        "    # Get most similar word\n",
        "    count_similar = 500\n",
        "    similar = w2v.most_similar_by_vector(search_word_vector, count_similar)\n",
        "\n",
        "    # Retrieve only entities from word\n",
        "    entities = []\n",
        "    return_similar = 10\n",
        "    for i in similar:\n",
        "    #     print(type(i[0]))\n",
        "        if isinstance(i[0], Entity):\n",
        "            entities.append(i)\n",
        "    #     if len(entities) == return_similar:\n",
        "    #         break\n",
        "    display(entities)\n",
        "end_time = time.time()\n",
        "print(f\"Single Word Query Time: {round(end_time - start_time, 2)}s\")"
      ],
      "execution_count": 13,
      "outputs": [
        {
          "output_type": "stream",
          "text": [
            "Search Word:  british\n"
          ],
          "name": "stdout"
        },
        {
          "output_type": "display_data",
          "data": {
            "text/plain": [
              "[(<Entity Derek George Cudmore>, 0.49873415),\n",
              " (<Entity HMS Birkenhead>, 0.48730087),\n",
              " (<Entity File:Turner, The Battle of Trafalgar (1822).jpg>, 0.48630852),\n",
              " (<Entity John Osbaldiston Field>, 0.48565567),\n",
              " (<Entity Henry Maynard Ball>, 0.48533762),\n",
              " (<Entity Edward John Cameron>, 0.48491052),\n",
              " (<Entity David Robert Barwick>, 0.48152602),\n",
              " (<Entity List of Commissioners of the Turks and Caicos Islands>, 0.47786582),\n",
              " (<Entity Starlight (TV series)>, 0.47318417),\n",
              " (<Entity List of colonial governors of the British Virgin Islands>,\n",
              "  0.47302568),\n",
              " (<Entity Gordon Wesley Jewkes>, 0.4724612),\n",
              " (<Entity Rollo Pain>, 0.4719429),\n",
              " (<Entity Percivale Liesching>, 0.47097537),\n",
              " (<Entity Walter Wilkinson Wallace>, 0.46967942),\n",
              " (<Entity Millions (1937 film)>, 0.4696355),\n",
              " (<Entity United Kingdom>, 0.469226),\n",
              " (<Entity File:El Alamein 1942 - British infantry.jpg>, 0.469008),\n",
              " (<Entity Ernest Gordon Lewis>, 0.46749967),\n",
              " (<Entity The Windmill (1937 film)>, 0.4670006),\n",
              " (<Entity Paul Adam (English novelist)>, 0.46695086),\n",
              " (<Entity Not Forgotten (TV)>, 0.46428454),\n",
              " (<Entity Rodney Steps In>, 0.4626872),\n",
              " (<Entity René Jean Albert Petitbon>, 0.46264252),\n",
              " (<Entity Desmond Hamill>, 0.46192992),\n",
              " (<Entity Leave It to Me (1937 film)>, 0.46180847),\n",
              " (<Entity De Bunsen Committee>, 0.46144205),\n",
              " (<Entity British Army>, 0.46120542),\n",
              " (<Entity Her Story (film)>, 0.46111292),\n",
              " (<Entity File:Lord Arthur Wellesley the Duke of Wellington.jpg>, 0.46109256),\n",
              " (<Entity Wilfrid Edward Francis Jackson>, 0.46098277),\n",
              " (<Entity Joseph Burn>, 0.46096286),\n",
              " (<Entity List of British middleweight boxing champions>, 0.46078095),\n",
              " (<Entity Jules Gérard Auguste Lauret>, 0.460477),\n",
              " (<Entity The Perfect Crime (1937 film)>, 0.46002203),\n",
              " (<Entity Paul Henri Siriex>, 0.4599133),\n",
              " (<Entity Transatlantic (1960 film)>, 0.45940086),\n",
              " (<Entity George Middleton (diplomat)>, 0.45939985),\n",
              " (<Entity Fort Ruhya>, 0.45893857),\n",
              " (<Entity Numa François Henri Sadoul>, 0.45861387),\n",
              " (<Entity Sailors Don't Care (1940 film)>, 0.45860842),\n",
              " (<Entity Saltair, British Columbia>, 0.45823127),\n",
              " (<Entity File:Civil Ensign of the United Kingdom.svg>, 0.45780772),\n",
              " (<Entity Colin Shortis>, 0.45776454),\n",
              " (<Entity Grand Prix (1934 film)>, 0.45773676),\n",
              " (<Entity File:Order of Merit in Westminster Cathedral (cropped).jpg>,\n",
              "  0.4577132),\n",
              " (<Entity Michael J. Bradley (colonial administrator)>, 0.45769686),\n",
              " (<Entity File:Ribbon - Volunteer Long Service Medal.png>, 0.456802),\n",
              " (<Entity Darkness (1923 film)>, 0.4567019),\n",
              " (<Entity Tell It to the Marines (TV series)>, 0.45567456),\n",
              " (<Entity Frederick Chapman (British Army officer)>, 0.4555596),\n",
              " (<Entity List of British bantamweight boxing champions>, 0.4551655),\n",
              " (<Entity Thomas Evans (British Army officer)>, 0.4551096),\n",
              " (<Entity Northamptonshire Yeomanry#2nd NY>, 0.45501038),\n",
              " (<Entity Victoria Golf Club>, 0.4549755),\n",
              " (<Entity Jacques Marie Julien Compain>, 0.45489353),\n",
              " (<Entity Mannequin (1933 film)>, 0.4547718),\n",
              " (<Entity Fox Farm (film)>, 0.45464984),\n",
              " (<Entity Ron Fuller (artist)>, 0.45443115),\n",
              " (<Entity George Paice (bowls)>, 0.45439526),\n",
              " (<Entity Reginald Coupland>, 0.45432898),\n",
              " (<Entity File:Flag of the Federated Malay States (1895 - 1946).svg>,\n",
              "  0.45426995),\n",
              " (<Entity Jackie Tegart>, 0.45425183),\n",
              " (<Entity Johnny Goodman (TV producer)>, 0.45405582),\n",
              " (<Entity RFA Derwentdale (A114)>, 0.45405155),\n",
              " (<Entity David Mackilligin>, 0.4539948),\n",
              " (<Entity Mudge Island>, 0.4536095),\n",
              " (<Entity John Herbert Hardy>, 0.45337886),\n",
              " (<Entity Sir Ralph Verney, 1st Baronet, of Eaton Square>, 0.4527615),\n",
              " (<Entity John Henry Cates>, 0.45265487),\n",
              " (<Entity Stepping Stones (film)>, 0.45245117),\n",
              " (<Entity Gordon Wilson (British Army officer)>, 0.45243108),\n",
              " (<Entity Account Rendered (1932 film)>, 0.4522291),\n",
              " (<Entity Deadlock (1943 film)>, 0.45216814),\n",
              " (<Entity John Woollam (politician)>, 0.45182943),\n",
              " (<Entity Call of the Sea>, 0.45169097),\n",
              " (<Entity The Hellions>, 0.45142087),\n",
              " (<Entity Allan Ramsay (diplomat)>, 0.4514126),\n",
              " (<Entity Clinton Edward Dawkins>, 0.45125607),\n",
              " (<Entity The British Screen Advisory Council>, 0.4508997),\n",
              " (<Entity Image:Order of the British Empire (Civil) Ribbon.png>, 0.450827),\n",
              " (<Entity Michael Hadow>, 0.4508107),\n",
              " (<Entity Pierre Aimable Chapon-Baissac>, 0.4507164),\n",
              " (<Entity Skeena Country>, 0.45047268),\n",
              " (<Entity John Gardener (diplomat)>, 0.45040682),\n",
              " (<Entity Annette Worsley-Taylor>, 0.45038757),\n",
              " (<Entity George Faulds Stirling>, 0.45032308),\n",
              " (<Entity James Noel Thomson>, 0.4503117),\n",
              " (<Entity The Silver Greyhound (1932 film)>, 0.45022985),\n",
              " (<Entity The Silver Spoon>, 0.45017675),\n",
              " (<Entity Cinematograph Films Council>, 0.45011416),\n",
              " (<Entity What Every Woman Wants (1962 film)>, 0.45011336),\n",
              " (<Entity Love at Sea (1936 film)>, 0.44993445),\n",
              " (<Entity File:Atlantic convoy, 1942.jpg>, 0.44972712),\n",
              " (<Entity Montague Tyrwhitt-Drake>, 0.44955984),\n",
              " (<Entity Willie Morris (diplomat)>, 0.44954795),\n",
              " (<Entity Amphion-class submarine#Cancelled orders>, 0.4495263),\n",
              " (<Entity Seaspan ULC#Victoria Shipyards>, 0.44950464),\n",
              " (<Entity Kenneth Crook>, 0.44943714),\n",
              " (<Entity Escape from Broadmoor>, 0.44924158),\n",
              " (<Entity Quathiaski Cove>, 0.44909674),\n",
              " (<Entity John Stuart Champion>, 0.44895434),\n",
              " (<Entity Fourth Canadian Escort Squadron>, 0.44812384),\n",
              " (<Entity Mutiny (1925 film)>, 0.44809052),\n",
              " (<Entity The Unwritten Law (1929 film)>, 0.44795653),\n",
              " (<Entity Raymond Teague Cowern>, 0.44777757),\n",
              " (<Entity Margot Perryman>, 0.44755992),\n",
              " (<Entity The Four Masked Men>, 0.44753656),\n",
              " (<Entity Innocent Meeting>, 0.44738254),\n",
              " (<Entity Anthony Williams (diplomat)>, 0.44697708),\n",
              " (<Entity Henry Wood (naval officer)>, 0.44676992),\n",
              " (<Entity Catharine Arnold>, 0.44666258),\n",
              " (<Entity Paddy Ridsdale>, 0.44661483),\n",
              " (<Entity Louis Placide Blacher>, 0.44642612),\n",
              " (<Entity Noel Charles>, 0.44637102),\n",
              " (<Entity Alexander Grant Dallas>, 0.44624966),\n",
              " (<Entity The Spider (1940 film)>, 0.4461888),\n",
              " (<Entity Mike Westmacott>, 0.44613093),\n",
              " (<Entity The Love Box>, 0.4460393),\n",
              " (<Entity Valentine Boucher>, 0.44602755),\n",
              " (<Entity Gordon McGregor Sloan>, 0.44598228),\n",
              " (<Entity Bridge River-Lillooet News>, 0.4459375),\n",
              " (<Entity James Craig (diplomat)>, 0.4459291),\n",
              " (<Entity Ronald Okeden Alexander>, 0.44588998),\n",
              " (<Entity William Arbuckle Reid>, 0.44583687),\n",
              " (<Entity The Office Wife (1934 film)>, 0.44579643),\n",
              " (<Entity File:Monty, wavvel, auk.jpg>, 0.4457762),\n",
              " (<Entity Stephen Chapman (British Army officer)>, 0.44571358),\n",
              " (<Entity Godfrey Ince>, 0.44554126),\n",
              " (<Entity John Wilton (diplomat)>, 0.44551155),\n",
              " (<Entity File:Flag of The Commonwealth.svg>, 0.4454939),\n",
              " (<Entity Cyril Stanley Pickard>, 0.44549274),\n",
              " (<Entity Falkland Islands Association>, 0.44526845),\n",
              " (<Entity Davson baronets>, 0.44498616),\n",
              " (<Entity George James Macdonald>, 0.44498327),\n",
              " (<Entity David Fletcher (military historian)>, 0.44497672),\n",
              " (<Entity Bill Groom (art director)>, 0.44495907),\n",
              " (<Entity Mark Matthew Connelly>, 0.44492722),\n",
              " (<Entity The Angelus (film)>, 0.44491982),\n",
              " (<Entity Once Bitten (1932 film)>, 0.44482034),\n",
              " (<Entity Ronald Buxton (British politician)>, 0.4447913),\n",
              " (<Entity William Driscoll Gosset>, 0.44475257),\n",
              " (<Entity Michael Cavenagh Gillett>, 0.44469273),\n",
              " (<Entity Eyes of Fate>, 0.44463265),\n",
              " (<Entity Critchett baronets>, 0.44447833),\n",
              " (<Entity Kiss the Bride Goodbye>, 0.44441816),\n",
              " (<Entity Loon Lake, British Columbia>, 0.44435006),\n",
              " (<Entity Abdillahi Mohamed Duale>, 0.44411397),\n",
              " (<Entity William Fraser, 1st Baron Strathalmond>, 0.4440823),\n",
              " (<Entity 48th Battalion (British Columbia), CEF>, 0.44406387),\n",
              " (<Entity D.N. Penfold>, 0.44392586),\n",
              " (<Entity List of directors of the British Museum>, 0.4438576),\n",
              " (<Entity William Clark, Baron Clark of Kempston>, 0.44380912),\n",
              " (<Entity Edward Morris (historian)>, 0.44376093),\n",
              " (<Entity Three Men in a Boat (1933 film)>, 0.4436719),\n",
              " (<Entity The Knockout (film)>, 0.44366494),\n",
              " (<Entity The Arcadians (film)>, 0.4435797),\n",
              " (<Entity Richard Best (diplomat)>, 0.44352314),\n",
              " (<Entity Oswald Raynor Arthur>, 0.44335645),\n",
              " (<Entity Ernest Hall (politician)>, 0.4432827),\n",
              " (<Entity Tom Hickinbotham>, 0.44324803),\n",
              " (<Entity Rhodes Professor of Imperial History>, 0.4432155),\n",
              " (<Entity Reginald Stuart Champion>, 0.4431929),\n",
              " (<Entity John Richmond (diplomat)>, 0.44313243),\n",
              " (<Entity Such Is Life (1936 film)>, 0.44309148),\n",
              " (<Entity Capilano (electoral district)>, 0.44304505),\n",
              " (<Entity Second Portland ministry>, 0.44303882),\n",
              " (<Entity The Autumn of Pride>, 0.4430086),\n",
              " (<Entity George Sinclair (politician)>, 0.44294024),\n",
              " (<Entity Reginald Palmer>, 0.4428107),\n",
              " (<Entity HMS Bonaventure (31)>, 0.44278705),\n",
              " (<Entity Desmond Crawley>, 0.4427755),\n",
              " (<Entity Terence Daniel O'Leary>, 0.44273373),\n",
              " (<Entity File:CBEwithMilitaryRibbon.jpg>, 0.4426986),\n",
              " (<Entity Gypsy (1937 film)>, 0.44266206),\n",
              " (<Entity Robin Trower Hogg>, 0.44254607),\n",
              " (<Entity The Mad Hatters>, 0.44248697),\n",
              " (<Entity Brian Kenny (British Army officer)>, 0.44236052),\n",
              " (<Entity Geoffrey Archer (writer)>, 0.44225594),\n",
              " (<Entity Laurence Carr>, 0.44208962),\n",
              " (<Entity Home from Home (1939 film)>, 0.44203314),\n",
              " (<Entity School District 54 Bulkley Valley>, 0.4419665),\n",
              " (<Entity George Forty>, 0.44195762),\n",
              " (<Entity Guy Fleetwood Wilson>, 0.441936),\n",
              " (<Entity Frederic William Howay>, 0.44190404),\n",
              " (<Entity Howard Smith (diplomat)>, 0.44188654),\n",
              " (<Entity British protected person>, 0.44187),\n",
              " (<Entity The Right to Strike>, 0.4418604),\n",
              " (<Entity Hugh Shaw (British Army officer)>, 0.4417503),\n",
              " (<Entity S:A Naval Biographical Dictionary/Swaine, Spelman>, 0.44173452),\n",
              " (<Entity Pallard the Punter>, 0.441528),\n",
              " (<Entity Allison Harbour>, 0.44152167),\n",
              " (<Entity Arthur Norman (industrialist)>, 0.44151393),\n",
              " (<Entity Ernest Pooley>, 0.44148853),\n",
              " (<Entity Brian Young (magistrate)>, 0.4414203),\n",
              " (<Entity Alfred Savage>, 0.4412558),\n",
              " (<Entity Passenger to London>, 0.4411744),\n",
              " (<Entity Derek Williams (filmmaker)>, 0.4411316),\n",
              " (<Entity Malcolm Burley>, 0.44105363),\n",
              " (<Entity Peter Crampton (athlete)>, 0.44105244),\n",
              " (<Entity Henry Fleetwood Thuillier>, 0.44105095),\n",
              " (<Entity Anthony Reeve>, 0.44100183),\n",
              " (<Entity George Peter Lloyd>, 0.44098148),\n",
              " (<Entity The Cruise (TV series)>, 0.4409727),\n",
              " (<Entity It's Not Cricket (1937 film)>, 0.44094482),\n",
              " (<Entity File:Benjamin West 005.jpg>, 0.44086698),\n",
              " (<Entity Michael Knight (RAF officer)>, 0.44075298),\n",
              " (<Entity The Persistent Lovers>, 0.44072455),\n",
              " (<Entity Ships of the Royal Navy>, 0.4407212),\n",
              " (<Entity J. J. Colledge>, 0.4405966),\n",
              " (<Entity Dallas, Kamloops>, 0.44047746),\n",
              " (<Entity British Land>, 0.44035646),\n",
              " (<Entity David Nathan (journalist)>, 0.4403382),\n",
              " (<Entity The Conspirators (1924 film)>, 0.44032985),\n",
              " (<Entity Compelled>, 0.4403015),\n",
              " (<Entity The Bigamist (1921 film)>, 0.44025174)]"
            ]
          },
          "metadata": {
            "tags": []
          }
        },
        {
          "output_type": "stream",
          "text": [
            "Single Word Query Time: 30.21s\n"
          ],
          "name": "stdout"
        }
      ]
    },
    {
      "cell_type": "code",
      "metadata": {
        "colab": {
          "base_uri": "https://localhost:8080/",
          "height": 1000
        },
        "id": "wEyEk-i2SdQz",
        "outputId": "91f8ac20-2636-40f7-cb90-fd25ca9406a9"
      },
      "source": [
        "### Test single full mention query time on a mention with multiple words\n",
        "start_time = time.time()\n",
        "\n",
        "# Print word\n",
        "search_word = candidate_pools['full_mention_norm'][51]\n",
        "print(\"Search Word: \", search_word)\n",
        "\n",
        "# Translate word into vector\n",
        "# Handles multi-word mentions\n",
        "search_word_list = search_word.split(\" \")\n",
        "search_word_vector = None\n",
        "for word in search_word_list:\n",
        "    try:\n",
        "        vector = w2v.get_word_vector(str(word))\n",
        "        \n",
        "        if search_word_vector is None:\n",
        "            search_word_vector = vector\n",
        "        else:\n",
        "            search_word_vector += vector\n",
        "\n",
        "    except KeyError:\n",
        "        print(f\"\\\"{word}\\\" is Out of Vocabulary (OOV) for Wikipedia2vec.\")\n",
        "\n",
        "if search_word_vector is not None:\n",
        "    # Get most similar word\n",
        "    count_similar = 500\n",
        "    similar = w2v.most_similar_by_vector(search_word_vector, count_similar)\n",
        "\n",
        "    # Retrieve only entities from word\n",
        "    entities = []\n",
        "    return_similar = 10\n",
        "    for i in similar:\n",
        "    #     print(type(i[0]))\n",
        "        if isinstance(i[0], Entity):\n",
        "            entities.append(i)\n",
        "    #     if len(entities) == return_similar:\n",
        "    #         break\n",
        "    display(entities)\n",
        "end_time = time.time()\n",
        "print(f\"Single Word Query Time: {round(end_time - start_time, 2)}s\")"
      ],
      "execution_count": 14,
      "outputs": [
        {
          "output_type": "stream",
          "text": [
            "Search Word:  welsh national farmers ' union\n",
            "\"'\" is Out of Vocabulary (OOV) for Wikipedia2vec.\n"
          ],
          "name": "stdout"
        },
        {
          "output_type": "display_data",
          "data": {
            "text/plain": [
              "[(<Entity :Category:Wikipedians interested in the European Union>, 0.6399574),\n",
              " (<Entity Whiteheads RFC>, 0.6378816),\n",
              " (<Entity Caernarfon RFC>, 0.61923885),\n",
              " (<Entity Abercynon RFC>, 0.6164113),\n",
              " (<Entity Geoff Evans (rugby union born 1942)>, 0.61393803),\n",
              " (<Entity Andy Allen (rugby union)>, 0.6118196),\n",
              " (<Entity Rhodri Gomer-Davies>, 0.6114087),\n",
              " (<Entity Bethesda RFC>, 0.61053175),\n",
              " (<Entity Dan Thomas (rugby player)>, 0.61023164),\n",
              " (<Entity E. Gwyndaf Evans>, 0.6101505),\n",
              " (<Entity Josh Lewis (rugby union)>, 0.60955167),\n",
              " (<Entity Members of the 2nd National Assembly for Wales>, 0.6083609),\n",
              " (<Entity Betws RFC>, 0.60643876),\n",
              " (<Entity Llandybie RFC>, 0.60576683),\n",
              " (<Entity Phil Thomas (rugby)>, 0.6049313),\n",
              " (<Entity Gareth Roberts (rugby player)>, 0.6012342),\n",
              " (<Entity Alltwen RFC>, 0.59988105),\n",
              " (<Entity Cwmtwrch RFC>, 0.5990562),\n",
              " (<Entity Glais RFC>, 0.5988778),\n",
              " (<Entity Nant Conwy RFC>, 0.59881973),\n",
              " (<Entity Mark Wyatt (Welsh rugby player)>, 0.59853023),\n",
              " (<Entity Llangadog RFC>, 0.5977224),\n",
              " (<Entity Beaufort RFC>, 0.59573877),\n",
              " (<Entity Nantgaredig RFC>, 0.59550095),\n",
              " (<Entity Glyncorrwg RFC>, 0.5941955),\n",
              " (<Entity Fall Bay RFC>, 0.5939858),\n",
              " (<Entity Usk RFC>, 0.59315485),\n",
              " (<Entity Steve Williams (rugby union, born 1970)>, 0.59278744),\n",
              " (<Entity Kidwelly RFC>, 0.59241354),\n",
              " (<Entity Darren Allinson>, 0.59210736),\n",
              " (<Entity Ystrad Rhondda RFC>, 0.5919876),\n",
              " (<Entity Wrexham RFC>, 0.59189326),\n",
              " (<Entity File:Harden NSW.PNG>, 0.59154904),\n",
              " (<Entity Markham RFC>, 0.59135705),\n",
              " (<Entity 1999–2000 Welsh-Scottish League>, 0.59066606),\n",
              " (<Entity Vardre RFC>, 0.59024435),\n",
              " (<Entity Ian Mackay (rugby league)>, 0.5900518),\n",
              " (<Entity Nick Walne>, 0.5891069),\n",
              " (<Entity Hartridge RFC>, 0.58859575),\n",
              " (<Entity Ben Beynon>, 0.5885292),\n",
              " (<Entity List of Fiji national rugby union players>, 0.5882757),\n",
              " (<Entity Gwernyfed RFC>, 0.58807874),\n",
              " (<Entity Norwegian Nurses' Union>, 0.58754027),\n",
              " (<Entity RTB (Ebbw Vale) RFC>, 0.58753276),\n",
              " (<Entity Crickhowell RFC>, 0.5871408),\n",
              " (<Entity Caerleon RFC>, 0.58583254),\n",
              " (<Entity Machynlleth RFC>, 0.58556587),\n",
              " (<Entity Abergele RFC>, 0.5850853),\n",
              " (<Entity Chris Anthony (rugby player)>, 0.5839657),\n",
              " (<Entity Penybanc RFC>, 0.5833402),\n",
              " (<Entity Rhosllanerchrugog RFC>, 0.5826789),\n",
              " (<Entity St. Clears RFC>, 0.58257896),\n",
              " (<Entity Jack Jones (rugby)>, 0.5825221),\n",
              " (<Entity Tredegar Ironsides RFC>, 0.58238107),\n",
              " (<Entity David Evans (rugby player)>, 0.5822809),\n",
              " (<Entity List of churches in Powys>, 0.5820624),\n",
              " (<Entity FC Viktoria Plzeň (women)>, 0.58162427),\n",
              " (<Entity Nathan Budgett>, 0.58128345),\n",
              " (<Entity Pontyates RFC>, 0.5810597),\n",
              " (<Entity Fleur De Lys RFC>, 0.58094084),\n",
              " (<Entity Berwyn Rangers F.C.>, 0.58057135),\n",
              " (<Entity Cwmgwrach RFC>, 0.5804314),\n",
              " (<Entity Nantymoel RFC>, 0.58041066),\n",
              " (<Entity :de:Sozialistische Arbeiterpartei Deutschlands (1875)>, 0.5804106),\n",
              " (<Entity Cwmbran RFC>, 0.58010566),\n",
              " (<Entity Rangers (BVI football)>, 0.58009213),\n",
              " (<Entity Llanybydder RFC>, 0.5792382),\n",
              " (<Entity Newtown RFC>, 0.57871765),\n",
              " (<Entity Rhydyfelin RFC>, 0.57855636),\n",
              " (<Entity Bro Ffestiniog RFC>, 0.57828593),\n",
              " (<Entity Mike Voyle>, 0.5776163),\n",
              " (<Entity Gareth Davies (rugby player, born 1984)>, 0.5775258),\n",
              " (<Entity Tonyrefail RFC>, 0.57721275),\n",
              " (<Entity Neil Lashkari>, 0.5769787),\n",
              " (<Entity :Category:St. Louis Browns players>, 0.5769675),\n",
              " (<Entity Denbigh RFC>, 0.57671005),\n",
              " (<Entity Bridgend Sports RFC>, 0.5766789),\n",
              " (<Entity Crynant RFC>, 0.576366),\n",
              " (<Entity Cowbridge RFC>, 0.5763547),\n",
              " (<Entity Paul Arnold (rugby player)>, 0.5763228),\n",
              " (<Entity Alexey Makovetskiy>, 0.57626545),\n",
              " (<Entity Pontyberem RFC>, 0.5761206),\n",
              " (<Entity Llanidloes RFC>, 0.57570976),\n",
              " (<Entity Aisea Havili>, 0.5756202),\n",
              " (<Entity Dolgellau RFC>, 0.57560694),\n",
              " (<Entity Brynithel RFC>, 0.5755955),\n",
              " (<Entity Llandudno RFC>, 0.5755073),\n",
              " (<Entity Scott Andrews (rugby player born 1989)>, 0.57542247),\n",
              " (<Entity Mike Roberts (Welsh rugby player)>, 0.57537746),\n",
              " (<Entity Cwmllynfell RFC>, 0.5753137),\n",
              " (<Entity Caldicot RFC>, 0.5752422),\n",
              " (<Entity Tenby United RFC>, 0.57506067),\n",
              " (<Entity Bettws RFC>, 0.57491785),\n",
              " (<Entity Phil John (rugby union born 1981)>, 0.57488525),\n",
              " (<Entity :Category:All Blacks>, 0.5746121),\n",
              " (<Entity Andy Williams (rugby union)>, 0.5742894),\n",
              " (<Entity :Category:People executed by Scotland>, 0.57423323),\n",
              " (<Entity Aberaeron RFC>, 0.5740897),\n",
              " (<Entity Wikipedia:Requests for checkuser/Case/Hunter91>, 0.5740747),\n",
              " (<Entity Penygroes RFC>, 0.57384694),\n",
              " (<Entity Dinas Powys RFC>, 0.5735504),\n",
              " (<Entity Walter Rice Evans>, 0.57325727),\n",
              " (<Entity Image:Wales Rugby1905.jpg>, 0.57315177),\n",
              " (<Entity Llangwm RFC>, 0.57290375),\n",
              " (<Entity Cefneithin RFC>, 0.5726701),\n",
              " (<Entity Llanelli Town Council>, 0.5723935),\n",
              " (<Entity Jordan Davies (rugby union)>, 0.5718403),\n",
              " (<Entity Dave Clarke (rugby league)>, 0.5718296),\n",
              " (<Entity Richard Evans (rugby league)>, 0.57139087),\n",
              " (<Entity Hendy RFC>, 0.57137287),\n",
              " (<Entity Martyn Thomas (rugby player)>, 0.57124704),\n",
              " (<Entity Will Davies (rugby)>, 0.5712325),\n",
              " (<Entity Tycroes RFC>, 0.5710837),\n",
              " (<Entity Blackwood Stars RFC>, 0.57099974),\n",
              " (<Entity Llanelli Wanderers RFC>, 0.5705708),\n",
              " (<Entity Burry Port RFC>, 0.57048136),\n",
              " (<Entity Robert Jones (rugby)>, 0.57045585),\n",
              " (<Entity Evan Rees (Dyfed)>, 0.5704199)]"
            ]
          },
          "metadata": {
            "tags": []
          }
        },
        {
          "output_type": "stream",
          "text": [
            "Single Word Query Time: 5.84s\n"
          ],
          "name": "stdout"
        }
      ]
    },
    {
      "cell_type": "markdown",
      "metadata": {
        "id": "GoaKTetSSdQ0"
      },
      "source": [
        "### Run Over Large Subset of Data"
      ]
    },
    {
      "cell_type": "code",
      "metadata": {
        "id": "mzJfA-IdvVuI"
      },
      "source": [
        "# Prepare output array\n",
        "most_similar_entities = []\n",
        "most_similar_scores = []\n",
        "get_similar_candidate_pool = []\n",
        "get_similar_candidate_scores = []\n",
        "\n",
        "# Track metrics\n",
        "success_word_query = 0\n",
        "oov_errors = 0\n",
        "start_time = time.time()"
      ],
      "execution_count": 15,
      "outputs": []
    },
    {
      "cell_type": "code",
      "metadata": {
        "colab": {
          "base_uri": "https://localhost:8080/"
        },
        "id": "axT27htfSdQ0",
        "outputId": "cd39ce0b-a024-48d3-a811-d4fd5479863d"
      },
      "source": [
        "# Provide filter ability\n",
        "end_size = 500\n",
        "\n",
        "for mention in tqdm(candidate_pools['full_mention_norm'][:end_size]):\n",
        "    \n",
        "    # Translate word into vector\n",
        "    # Handles multi-word mentions\n",
        "    search_word_list = mention.split(\" \")\n",
        "    search_word_vector = None\n",
        "    for word in search_word_list:\n",
        "        try:\n",
        "            vector = w2v.get_word_vector(str(word))\n",
        "            \n",
        "            if search_word_vector is None:\n",
        "                search_word_vector = vector\n",
        "            else:\n",
        "                search_word_vector += vector\n",
        "                \n",
        "        except KeyError:\n",
        "            oov_errors += 1\n",
        "\n",
        "    # Save candidate pool\n",
        "    candidate_pool = []\n",
        "    candidate_scores = []\n",
        "    \n",
        "    if search_word_vector is not None:\n",
        "        success_word_query += 1\n",
        "        \n",
        "        # Search most similar words/entities from found word\n",
        "        # Retrieve 500 most similar to test large coverage\n",
        "        similars = w2v.most_similar_by_vector(search_word_vector, 500)\n",
        "\n",
        "        # Retrieve most similar entity\n",
        "        most_similar = None\n",
        "        for s in similars:\n",
        "            if isinstance(s[0], Entity):\n",
        "                candidate_pool.append(s[0].title)\n",
        "                candidate_scores.append(s[1])\n",
        "                if most_similar is None:\n",
        "                    most_similar = s\n",
        "                \n",
        "    # Save lists\n",
        "    get_similar_candidate_pool.append(candidate_pool)\n",
        "    get_similar_candidate_scores.append(candidate_scores)\n",
        "    \n",
        "    if most_similar is not None:\n",
        "        most_similar_entities.append(most_similar[0].title)\n",
        "        most_similar_scores.append(most_similar[1])\n",
        "    else:\n",
        "        most_similar_entities.append(None)\n",
        "        most_similar_scores.append(None)"
      ],
      "execution_count": 16,
      "outputs": [
        {
          "output_type": "stream",
          "text": [
            "100%|██████████| 500/500 [45:33<00:00,  5.47s/it]\n"
          ],
          "name": "stderr"
        }
      ]
    },
    {
      "cell_type": "code",
      "metadata": {
        "id": "EcWMgilevy8_",
        "colab": {
          "base_uri": "https://localhost:8080/"
        },
        "outputId": "54ee1f34-7852-4fbf-c8d8-3c0ca973ea92"
      },
      "source": [
        "print(\"Successfully Found Words: \", round(success_word_query/end_size*100,3),\"%\")\n",
        "print(\"Out-of-Vocabulary Issues: \", round(oov_errors/end_size*100,3),\"%\")\n",
        "execution_time = time.time() - start_time\n",
        "print(\"Execution time: \", round(execution_time, 3),\"s\")"
      ],
      "execution_count": 17,
      "outputs": [
        {
          "output_type": "stream",
          "text": [
            "Successfully Found Words:  96.8 %\n",
            "Out-of-Vocabulary Issues:  7.4 %\n",
            "Execution time:  2734.274 s\n"
          ],
          "name": "stdout"
        }
      ]
    },
    {
      "cell_type": "code",
      "metadata": {
        "id": "j2yd3gu6SdQ1",
        "colab": {
          "base_uri": "https://localhost:8080/",
          "height": 216
        },
        "outputId": "3897fc0b-851b-4968-94ed-fb10d16be239"
      },
      "source": [
        "# Append to dataframe\n",
        "mini_df = candidate_pools[:end_size].copy()\n",
        "mini_df['preds_w2v_mostsimilar'] = most_similar_entities\n",
        "mini_df['score_w2v_mostsimilar'] = most_similar_scores\n",
        "mini_df['candidate_pool_mostsimilar'] = get_similar_candidate_pool\n",
        "mini_df['candidate_scores_mostsimilar'] = get_similar_candidate_scores\n",
        "mini_df.head(3)"
      ],
      "execution_count": 18,
      "outputs": [
        {
          "output_type": "execute_result",
          "data": {
            "text/html": [
              "<div>\n",
              "<style scoped>\n",
              "    .dataframe tbody tr th:only-of-type {\n",
              "        vertical-align: middle;\n",
              "    }\n",
              "\n",
              "    .dataframe tbody tr th {\n",
              "        vertical-align: top;\n",
              "    }\n",
              "\n",
              "    .dataframe thead th {\n",
              "        text-align: right;\n",
              "    }\n",
              "</style>\n",
              "<table border=\"1\" class=\"dataframe\">\n",
              "  <thead>\n",
              "    <tr style=\"text-align: right;\">\n",
              "      <th></th>\n",
              "      <th>mention</th>\n",
              "      <th>full_mention</th>\n",
              "      <th>wikipedia_URL</th>\n",
              "      <th>wikipedia_page_ID</th>\n",
              "      <th>wikipedia_title</th>\n",
              "      <th>sentence_id</th>\n",
              "      <th>doc_id</th>\n",
              "      <th>congruent_mentions</th>\n",
              "      <th>full_mention_norm</th>\n",
              "      <th>preds_w2v_mostsimilar</th>\n",
              "      <th>score_w2v_mostsimilar</th>\n",
              "      <th>candidate_pool_mostsimilar</th>\n",
              "      <th>candidate_scores_mostsimilar</th>\n",
              "    </tr>\n",
              "  </thead>\n",
              "  <tbody>\n",
              "    <tr>\n",
              "      <th>0</th>\n",
              "      <td>B</td>\n",
              "      <td>EU</td>\n",
              "      <td>NaN</td>\n",
              "      <td>NaN</td>\n",
              "      <td>NaN</td>\n",
              "      <td>0</td>\n",
              "      <td>0</td>\n",
              "      <td>['EU', 'German', 'British']</td>\n",
              "      <td>eu</td>\n",
              "      <td>European Union</td>\n",
              "      <td>0.668622</td>\n",
              "      <td>[European Union, Directorate-General for Trade...</td>\n",
              "      <td>[0.668622, 0.61401534, 0.6123832, 0.60006154, ...</td>\n",
              "    </tr>\n",
              "    <tr>\n",
              "      <th>1</th>\n",
              "      <td>B</td>\n",
              "      <td>German</td>\n",
              "      <td>http://en.wikipedia.org/wiki/Germany</td>\n",
              "      <td>11867.0</td>\n",
              "      <td>Germany</td>\n",
              "      <td>0</td>\n",
              "      <td>0</td>\n",
              "      <td>['EU', 'German', 'British']</td>\n",
              "      <td>german</td>\n",
              "      <td>1856 in Germany</td>\n",
              "      <td>0.597120</td>\n",
              "      <td>[1856 in Germany, 1860 in Germany, 1862 in Ger...</td>\n",
              "      <td>[0.5971198, 0.58756816, 0.57571477, 0.5744798,...</td>\n",
              "    </tr>\n",
              "    <tr>\n",
              "      <th>2</th>\n",
              "      <td>B</td>\n",
              "      <td>British</td>\n",
              "      <td>http://en.wikipedia.org/wiki/United_Kingdom</td>\n",
              "      <td>31717.0</td>\n",
              "      <td>United Kingdom</td>\n",
              "      <td>0</td>\n",
              "      <td>0</td>\n",
              "      <td>['EU', 'German', 'British']</td>\n",
              "      <td>british</td>\n",
              "      <td>Derek George Cudmore</td>\n",
              "      <td>0.498734</td>\n",
              "      <td>[Derek George Cudmore, HMS Birkenhead, File:Tu...</td>\n",
              "      <td>[0.49873415, 0.48730087, 0.48630852, 0.4856556...</td>\n",
              "    </tr>\n",
              "  </tbody>\n",
              "</table>\n",
              "</div>"
            ],
            "text/plain": [
              "  mention  ...                       candidate_scores_mostsimilar\n",
              "0       B  ...  [0.668622, 0.61401534, 0.6123832, 0.60006154, ...\n",
              "1       B  ...  [0.5971198, 0.58756816, 0.57571477, 0.5744798,...\n",
              "2       B  ...  [0.49873415, 0.48730087, 0.48630852, 0.4856556...\n",
              "\n",
              "[3 rows x 13 columns]"
            ]
          },
          "metadata": {
            "tags": []
          },
          "execution_count": 18
        }
      ]
    },
    {
      "cell_type": "code",
      "metadata": {
        "id": "w1x4wNPLSdQ1",
        "colab": {
          "base_uri": "https://localhost:8080/"
        },
        "outputId": "116d0db0-4df2-4bc5-cd3c-84b754d459be"
      },
      "source": [
        "# Estimate length of time to run over full dataset\n",
        "print(\"Estimated Duration for Full Dataset: \",\\\n",
        "     round((len(candidate_pools)/end_size)*execution_time/60/60,2), \" hours\")"
      ],
      "execution_count": 19,
      "outputs": [
        {
          "output_type": "stream",
          "text": [
            "Estimated Duration for Full Dataset:  33.13  hours\n"
          ],
          "name": "stdout"
        }
      ]
    },
    {
      "cell_type": "markdown",
      "metadata": {
        "id": "eCIKtFU8SdQ1"
      },
      "source": [
        "## Calculate Accuracy of Most Similar Entity Predictions"
      ]
    },
    {
      "cell_type": "code",
      "metadata": {
        "id": "4NDl7CNtSdQ1",
        "colab": {
          "base_uri": "https://localhost:8080/"
        },
        "outputId": "ff27e88b-6f7c-4b89-dd2c-b4b124e07fc9"
      },
      "source": [
        "# Calculate accuracy\n",
        "accurate_predictions = (mini_df['preds_w2v_mostsimilar'] == mini_df['wikipedia_title']).sum()\n",
        "print(\"****************************\")\n",
        "print(f\"Predictive Accuracy: {round(accurate_predictions / len(mini_df) * 100, 3)}%\")\n",
        "print(\"****************************\")"
      ],
      "execution_count": 20,
      "outputs": [
        {
          "output_type": "stream",
          "text": [
            "****************************\n",
            "Predictive Accuracy: 32.0%\n",
            "****************************\n"
          ],
          "name": "stdout"
        }
      ]
    },
    {
      "cell_type": "code",
      "metadata": {
        "id": "9QEtVsTZSdQ1",
        "colab": {
          "base_uri": "https://localhost:8080/"
        },
        "outputId": "7885f4e4-c9f0-46ca-e3fc-cb96054a4c86"
      },
      "source": [
        "# Calculate percentage of candidate pools with the correct answer present\n",
        "# Use Wikipedia Title\n",
        "# Necessary to determine if shuffling pool could even get the right answer\n",
        "response_present = [mini_df['wikipedia_title'][i] in mini_df['candidate_pool_mostsimilar'][i] for i in range(len(mini_df))]\n",
        "print(f\"Correct answer is present in {round(sum(response_present) / len(mini_df) * 100, 3)}% of generated candidate pools via adapted Wikipedia2vec's most_similar() method.\")"
      ],
      "execution_count": 21,
      "outputs": [
        {
          "output_type": "stream",
          "text": [
            "Correct answer is present in 43.6% of generated candidate pools via adapted Wikipedia2vec's most_similar() method.\n"
          ],
          "name": "stdout"
        }
      ]
    },
    {
      "cell_type": "markdown",
      "metadata": {
        "id": "3lOrrqnwSdQ1"
      },
      "source": [
        "\n",
        "## Save predictive dataframe for input to next step"
      ]
    },
    {
      "cell_type": "code",
      "metadata": {
        "id": "iBUw7QbfSdQ1",
        "colab": {
          "base_uri": "https://localhost:8080/",
          "height": 678
        },
        "outputId": "f73efa07-6407-42cc-ae3f-5ec6796a3c30"
      },
      "source": [
        "#Final DF\n",
        "mini_df.head(10)"
      ],
      "execution_count": 22,
      "outputs": [
        {
          "output_type": "execute_result",
          "data": {
            "text/html": [
              "<div>\n",
              "<style scoped>\n",
              "    .dataframe tbody tr th:only-of-type {\n",
              "        vertical-align: middle;\n",
              "    }\n",
              "\n",
              "    .dataframe tbody tr th {\n",
              "        vertical-align: top;\n",
              "    }\n",
              "\n",
              "    .dataframe thead th {\n",
              "        text-align: right;\n",
              "    }\n",
              "</style>\n",
              "<table border=\"1\" class=\"dataframe\">\n",
              "  <thead>\n",
              "    <tr style=\"text-align: right;\">\n",
              "      <th></th>\n",
              "      <th>mention</th>\n",
              "      <th>full_mention</th>\n",
              "      <th>wikipedia_URL</th>\n",
              "      <th>wikipedia_page_ID</th>\n",
              "      <th>wikipedia_title</th>\n",
              "      <th>sentence_id</th>\n",
              "      <th>doc_id</th>\n",
              "      <th>congruent_mentions</th>\n",
              "      <th>full_mention_norm</th>\n",
              "      <th>preds_w2v_mostsimilar</th>\n",
              "      <th>score_w2v_mostsimilar</th>\n",
              "      <th>candidate_pool_mostsimilar</th>\n",
              "      <th>candidate_scores_mostsimilar</th>\n",
              "    </tr>\n",
              "  </thead>\n",
              "  <tbody>\n",
              "    <tr>\n",
              "      <th>0</th>\n",
              "      <td>B</td>\n",
              "      <td>EU</td>\n",
              "      <td>NaN</td>\n",
              "      <td>NaN</td>\n",
              "      <td>NaN</td>\n",
              "      <td>0</td>\n",
              "      <td>0</td>\n",
              "      <td>['EU', 'German', 'British']</td>\n",
              "      <td>eu</td>\n",
              "      <td>European Union</td>\n",
              "      <td>0.668622</td>\n",
              "      <td>[European Union, Directorate-General for Trade...</td>\n",
              "      <td>[0.668622, 0.61401534, 0.6123832, 0.60006154, ...</td>\n",
              "    </tr>\n",
              "    <tr>\n",
              "      <th>1</th>\n",
              "      <td>B</td>\n",
              "      <td>German</td>\n",
              "      <td>http://en.wikipedia.org/wiki/Germany</td>\n",
              "      <td>11867.0</td>\n",
              "      <td>Germany</td>\n",
              "      <td>0</td>\n",
              "      <td>0</td>\n",
              "      <td>['EU', 'German', 'British']</td>\n",
              "      <td>german</td>\n",
              "      <td>1856 in Germany</td>\n",
              "      <td>0.597120</td>\n",
              "      <td>[1856 in Germany, 1860 in Germany, 1862 in Ger...</td>\n",
              "      <td>[0.5971198, 0.58756816, 0.57571477, 0.5744798,...</td>\n",
              "    </tr>\n",
              "    <tr>\n",
              "      <th>2</th>\n",
              "      <td>B</td>\n",
              "      <td>British</td>\n",
              "      <td>http://en.wikipedia.org/wiki/United_Kingdom</td>\n",
              "      <td>31717.0</td>\n",
              "      <td>United Kingdom</td>\n",
              "      <td>0</td>\n",
              "      <td>0</td>\n",
              "      <td>['EU', 'German', 'British']</td>\n",
              "      <td>british</td>\n",
              "      <td>Derek George Cudmore</td>\n",
              "      <td>0.498734</td>\n",
              "      <td>[Derek George Cudmore, HMS Birkenhead, File:Tu...</td>\n",
              "      <td>[0.49873415, 0.48730087, 0.48630852, 0.4856556...</td>\n",
              "    </tr>\n",
              "    <tr>\n",
              "      <th>3</th>\n",
              "      <td>B</td>\n",
              "      <td>Peter Blackburn</td>\n",
              "      <td>NaN</td>\n",
              "      <td>NaN</td>\n",
              "      <td>NaN</td>\n",
              "      <td>1</td>\n",
              "      <td>0</td>\n",
              "      <td>['Peter Blackburn', 'BRUSSELS', 'European Comm...</td>\n",
              "      <td>peter blackburn</td>\n",
              "      <td>William Dunlop (footballer)</td>\n",
              "      <td>0.625220</td>\n",
              "      <td>[William Dunlop (footballer), I'll Be Back Bef...</td>\n",
              "      <td>[0.62522006, 0.61881196, 0.60742164, 0.6032656...</td>\n",
              "    </tr>\n",
              "    <tr>\n",
              "      <th>4</th>\n",
              "      <td>I</td>\n",
              "      <td>Peter Blackburn</td>\n",
              "      <td>NaN</td>\n",
              "      <td>NaN</td>\n",
              "      <td>NaN</td>\n",
              "      <td>1</td>\n",
              "      <td>0</td>\n",
              "      <td>['Peter Blackburn', 'BRUSSELS', 'European Comm...</td>\n",
              "      <td>peter blackburn</td>\n",
              "      <td>Heywood United F.C.</td>\n",
              "      <td>0.600855</td>\n",
              "      <td>[Heywood United F.C., William Dunlop (football...</td>\n",
              "      <td>[0.60085547, 0.5962453, 0.59373885, 0.59146744...</td>\n",
              "    </tr>\n",
              "    <tr>\n",
              "      <th>5</th>\n",
              "      <td>B</td>\n",
              "      <td>BRUSSELS</td>\n",
              "      <td>http://en.wikipedia.org/wiki/Brussels</td>\n",
              "      <td>3708.0</td>\n",
              "      <td>Brussels</td>\n",
              "      <td>1</td>\n",
              "      <td>0</td>\n",
              "      <td>['Peter Blackburn', 'BRUSSELS', 'European Comm...</td>\n",
              "      <td>brussels</td>\n",
              "      <td>Brussels</td>\n",
              "      <td>0.869070</td>\n",
              "      <td>[Brussels, Bordet railway station, Timeline of...</td>\n",
              "      <td>[0.8690704, 0.6816344, 0.67974824, 0.6619611, ...</td>\n",
              "    </tr>\n",
              "    <tr>\n",
              "      <th>6</th>\n",
              "      <td>B</td>\n",
              "      <td>European Commission</td>\n",
              "      <td>http://en.wikipedia.org/wiki/European_Commission</td>\n",
              "      <td>9974.0</td>\n",
              "      <td>European Commission</td>\n",
              "      <td>1</td>\n",
              "      <td>0</td>\n",
              "      <td>['Peter Blackburn', 'BRUSSELS', 'European Comm...</td>\n",
              "      <td>european commission</td>\n",
              "      <td>European Commission</td>\n",
              "      <td>0.594913</td>\n",
              "      <td>[European Commission, Office of Infrastructure...</td>\n",
              "      <td>[0.5949126, 0.5785086, 0.57685864, 0.562716, 0...</td>\n",
              "    </tr>\n",
              "    <tr>\n",
              "      <th>7</th>\n",
              "      <td>I</td>\n",
              "      <td>European Commission</td>\n",
              "      <td>http://en.wikipedia.org/wiki/European_Commission</td>\n",
              "      <td>9974.0</td>\n",
              "      <td>European Commission</td>\n",
              "      <td>1</td>\n",
              "      <td>0</td>\n",
              "      <td>['Peter Blackburn', 'BRUSSELS', 'European Comm...</td>\n",
              "      <td>european commission</td>\n",
              "      <td>European Commission</td>\n",
              "      <td>0.558760</td>\n",
              "      <td>[European Commission, Montreal Catholic School...</td>\n",
              "      <td>[0.55876046, 0.5487425, 0.54632604, 0.51790774...</td>\n",
              "    </tr>\n",
              "    <tr>\n",
              "      <th>8</th>\n",
              "      <td>B</td>\n",
              "      <td>German</td>\n",
              "      <td>http://en.wikipedia.org/wiki/Germany</td>\n",
              "      <td>11867.0</td>\n",
              "      <td>Germany</td>\n",
              "      <td>1</td>\n",
              "      <td>0</td>\n",
              "      <td>['Peter Blackburn', 'BRUSSELS', 'European Comm...</td>\n",
              "      <td>german</td>\n",
              "      <td>1856 in Germany</td>\n",
              "      <td>0.597120</td>\n",
              "      <td>[1856 in Germany, 1860 in Germany, 1862 in Ger...</td>\n",
              "      <td>[0.5971198, 0.58756816, 0.57571477, 0.5744798,...</td>\n",
              "    </tr>\n",
              "    <tr>\n",
              "      <th>9</th>\n",
              "      <td>B</td>\n",
              "      <td>British</td>\n",
              "      <td>http://en.wikipedia.org/wiki/United_Kingdom</td>\n",
              "      <td>31717.0</td>\n",
              "      <td>United Kingdom</td>\n",
              "      <td>1</td>\n",
              "      <td>0</td>\n",
              "      <td>['Peter Blackburn', 'BRUSSELS', 'European Comm...</td>\n",
              "      <td>british</td>\n",
              "      <td>Derek George Cudmore</td>\n",
              "      <td>0.498734</td>\n",
              "      <td>[Derek George Cudmore, HMS Birkenhead, File:Tu...</td>\n",
              "      <td>[0.49873415, 0.48730087, 0.48630852, 0.4856556...</td>\n",
              "    </tr>\n",
              "  </tbody>\n",
              "</table>\n",
              "</div>"
            ],
            "text/plain": [
              "  mention  ...                       candidate_scores_mostsimilar\n",
              "0       B  ...  [0.668622, 0.61401534, 0.6123832, 0.60006154, ...\n",
              "1       B  ...  [0.5971198, 0.58756816, 0.57571477, 0.5744798,...\n",
              "2       B  ...  [0.49873415, 0.48730087, 0.48630852, 0.4856556...\n",
              "3       B  ...  [0.62522006, 0.61881196, 0.60742164, 0.6032656...\n",
              "4       I  ...  [0.60085547, 0.5962453, 0.59373885, 0.59146744...\n",
              "5       B  ...  [0.8690704, 0.6816344, 0.67974824, 0.6619611, ...\n",
              "6       B  ...  [0.5949126, 0.5785086, 0.57685864, 0.562716, 0...\n",
              "7       I  ...  [0.55876046, 0.5487425, 0.54632604, 0.51790774...\n",
              "8       B  ...  [0.5971198, 0.58756816, 0.57571477, 0.5744798,...\n",
              "9       B  ...  [0.49873415, 0.48730087, 0.48630852, 0.4856556...\n",
              "\n",
              "[10 rows x 13 columns]"
            ]
          },
          "metadata": {
            "tags": []
          },
          "execution_count": 22
        }
      ]
    },
    {
      "cell_type": "code",
      "metadata": {
        "id": "a62RVfrVSdQ1"
      },
      "source": [
        "# Save dataframe\n",
        "mini_df.to_csv(\"w2v_mostsimilar_300d.csv\", index=False)"
      ],
      "execution_count": 23,
      "outputs": []
    },
    {
      "cell_type": "code",
      "metadata": {
        "id": "aJnmlI0TSdQ1",
        "colab": {
          "base_uri": "https://localhost:8080/",
          "height": 17
        },
        "outputId": "bc4321ef-d864-448c-dde3-86fcac8c72dd"
      },
      "source": [
        "# Download from Colab\n",
        "files.download(\"w2v_mostsimilar_300d.csv\")"
      ],
      "execution_count": 24,
      "outputs": [
        {
          "output_type": "display_data",
          "data": {
            "application/javascript": [
              "\n",
              "    async function download(id, filename, size) {\n",
              "      if (!google.colab.kernel.accessAllowed) {\n",
              "        return;\n",
              "      }\n",
              "      const div = document.createElement('div');\n",
              "      const label = document.createElement('label');\n",
              "      label.textContent = `Downloading \"${filename}\": `;\n",
              "      div.appendChild(label);\n",
              "      const progress = document.createElement('progress');\n",
              "      progress.max = size;\n",
              "      div.appendChild(progress);\n",
              "      document.body.appendChild(div);\n",
              "\n",
              "      const buffers = [];\n",
              "      let downloaded = 0;\n",
              "\n",
              "      const channel = await google.colab.kernel.comms.open(id);\n",
              "      // Send a message to notify the kernel that we're ready.\n",
              "      channel.send({})\n",
              "\n",
              "      for await (const message of channel.messages) {\n",
              "        // Send a message to notify the kernel that we're ready.\n",
              "        channel.send({})\n",
              "        if (message.buffers) {\n",
              "          for (const buffer of message.buffers) {\n",
              "            buffers.push(buffer);\n",
              "            downloaded += buffer.byteLength;\n",
              "            progress.value = downloaded;\n",
              "          }\n",
              "        }\n",
              "      }\n",
              "      const blob = new Blob(buffers, {type: 'application/binary'});\n",
              "      const a = document.createElement('a');\n",
              "      a.href = window.URL.createObjectURL(blob);\n",
              "      a.download = filename;\n",
              "      div.appendChild(a);\n",
              "      a.click();\n",
              "      div.remove();\n",
              "    }\n",
              "  "
            ],
            "text/plain": [
              "<IPython.core.display.Javascript object>"
            ]
          },
          "metadata": {
            "tags": []
          }
        },
        {
          "output_type": "display_data",
          "data": {
            "application/javascript": [
              "download(\"download_7a32d475-9d13-437a-aefa-d2a9d910b45f\", \"w2v_mostsimilar_300d.csv\", 3023544)"
            ],
            "text/plain": [
              "<IPython.core.display.Javascript object>"
            ]
          },
          "metadata": {
            "tags": []
          }
        }
      ]
    }
  ]
}