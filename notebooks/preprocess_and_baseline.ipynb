{
 "cells": [
  {
   "cell_type": "code",
   "execution_count": 18,
   "metadata": {},
   "outputs": [
    {
     "ename": "ModuleNotFoundError",
     "evalue": "No module named 'entity_disambiguation'",
     "output_type": "error",
     "traceback": [
      "\u001b[0;31m---------------------------------------------------------------------------\u001b[0m",
      "\u001b[0;31mModuleNotFoundError\u001b[0m                       Traceback (most recent call last)",
      "\u001b[0;32m<ipython-input-18-8f33bd040958>\u001b[0m in \u001b[0;36m<module>\u001b[0;34m\u001b[0m\n\u001b[1;32m      3\u001b[0m \u001b[0;32mimport\u001b[0m \u001b[0mmatplotlib\u001b[0m\u001b[0;34m.\u001b[0m\u001b[0mpyplot\u001b[0m \u001b[0;32mas\u001b[0m \u001b[0mplt\u001b[0m\u001b[0;34m\u001b[0m\u001b[0;34m\u001b[0m\u001b[0m\n\u001b[1;32m      4\u001b[0m \u001b[0;34m\u001b[0m\u001b[0m\n\u001b[0;32m----> 5\u001b[0;31m \u001b[0;32mfrom\u001b[0m \u001b[0mentity_disambiguation\u001b[0m\u001b[0;34m.\u001b[0m\u001b[0mpreprocessing\u001b[0m \u001b[0;32mimport\u001b[0m \u001b[0mprocess_input\u001b[0m\u001b[0;34m\u001b[0m\u001b[0;34m\u001b[0m\u001b[0m\n\u001b[0m",
      "\u001b[0;31mModuleNotFoundError\u001b[0m: No module named 'entity_disambiguation'"
     ]
    }
   ],
   "source": [
    "import pandas as pd\n",
    "import numpy as np\n",
    "import matplotlib.pyplot as plt\n",
    "\n",
    "from entity_disambiguation.preprocessing import process_input"
   ]
  },
  {
   "cell_type": "code",
   "execution_count": 13,
   "metadata": {},
   "outputs": [
    {
     "name": "stdout",
     "output_type": "stream",
     "text": [
      "LICENSE               \u001b[34membeddings\u001b[m\u001b[m            pyproject.toml\r\n",
      "README.md             \u001b[34mentity_disambiguation\u001b[m\u001b[m pytest.ini\r\n",
      "README.rst            \u001b[34mnotebooks\u001b[m\u001b[m             \u001b[34msubmissions\u001b[m\u001b[m\r\n",
      "\u001b[34mdata\u001b[m\u001b[m                  poetry.lock           \u001b[34mtests\u001b[m\u001b[m\r\n"
     ]
    }
   ],
   "source": [
    "!ls .."
   ]
  },
  {
   "cell_type": "markdown",
   "metadata": {},
   "source": [
    "### Use preprocessing function to load training and testing data"
   ]
  },
  {
   "cell_type": "code",
   "execution_count": 2,
   "metadata": {},
   "outputs": [],
   "source": [
    "#first specify the directory that the ACY dataset lives in on your local machine\n",
    "mydir = '../../aida-conll-yago-dataset/'\n",
    "#you could specify your own train-test-split percentage, here the default is 80%\n",
    "train_x, train_y, test_x, test_y = process_input(mydir, train = 0.8)"
   ]
  },
  {
   "cell_type": "code",
   "execution_count": 3,
   "metadata": {},
   "outputs": [
    {
     "data": {
      "text/html": [
       "<div>\n",
       "<style scoped>\n",
       "    .dataframe tbody tr th:only-of-type {\n",
       "        vertical-align: middle;\n",
       "    }\n",
       "\n",
       "    .dataframe tbody tr th {\n",
       "        vertical-align: top;\n",
       "    }\n",
       "\n",
       "    .dataframe thead th {\n",
       "        text-align: right;\n",
       "    }\n",
       "</style>\n",
       "<table border=\"1\" class=\"dataframe\">\n",
       "  <thead>\n",
       "    <tr style=\"text-align: right;\">\n",
       "      <th></th>\n",
       "      <th>token</th>\n",
       "      <th>in_between_word_count</th>\n",
       "    </tr>\n",
       "  </thead>\n",
       "  <tbody>\n",
       "    <tr>\n",
       "      <td>0</td>\n",
       "      <td>german</td>\n",
       "      <td>2</td>\n",
       "    </tr>\n",
       "    <tr>\n",
       "      <td>1</td>\n",
       "      <td>british</td>\n",
       "      <td>3</td>\n",
       "    </tr>\n",
       "    <tr>\n",
       "      <td>2</td>\n",
       "      <td>brussels</td>\n",
       "      <td>6</td>\n",
       "    </tr>\n",
       "    <tr>\n",
       "      <td>3</td>\n",
       "      <td>european</td>\n",
       "      <td>3</td>\n",
       "    </tr>\n",
       "    <tr>\n",
       "      <td>4</td>\n",
       "      <td>commission</td>\n",
       "      <td>0</td>\n",
       "    </tr>\n",
       "  </tbody>\n",
       "</table>\n",
       "</div>"
      ],
      "text/plain": [
       "        token  in_between_word_count\n",
       "0      german                      2\n",
       "1     british                      3\n",
       "2    brussels                      6\n",
       "3    european                      3\n",
       "4  commission                      0"
      ]
     },
     "execution_count": 3,
     "metadata": {},
     "output_type": "execute_result"
    }
   ],
   "source": [
    "#Observe data\n",
    "train_x.head()"
   ]
  },
  {
   "cell_type": "code",
   "execution_count": 4,
   "metadata": {},
   "outputs": [
    {
     "name": "stdout",
     "output_type": "stream",
     "text": [
      "(17805, 2)\n",
      "(17805,)\n"
     ]
    }
   ],
   "source": [
    "print(train_x.shape)\n",
    "print(train_y.shape)"
   ]
  },
  {
   "cell_type": "code",
   "execution_count": 5,
   "metadata": {},
   "outputs": [
    {
     "name": "stdout",
     "output_type": "stream",
     "text": [
      "(4452, 2)\n",
      "(4452,)\n"
     ]
    }
   ],
   "source": [
    "print(test_x.shape)\n",
    "print(test_y.shape)"
   ]
  },
  {
   "cell_type": "markdown",
   "metadata": {},
   "source": [
    "### Use the baseline model"
   ]
  },
  {
   "cell_type": "code",
   "execution_count": 6,
   "metadata": {},
   "outputs": [
    {
     "data": {
      "text/html": [
       "<div>\n",
       "<style scoped>\n",
       "    .dataframe tbody tr th:only-of-type {\n",
       "        vertical-align: middle;\n",
       "    }\n",
       "\n",
       "    .dataframe tbody tr th {\n",
       "        vertical-align: top;\n",
       "    }\n",
       "\n",
       "    .dataframe thead th {\n",
       "        text-align: right;\n",
       "    }\n",
       "</style>\n",
       "<table border=\"1\" class=\"dataframe\">\n",
       "  <thead>\n",
       "    <tr style=\"text-align: right;\">\n",
       "      <th></th>\n",
       "      <th>normalized_anchor_text</th>\n",
       "      <th>target_page_id</th>\n",
       "      <th>target_item_id</th>\n",
       "      <th>target_page_title</th>\n",
       "      <th>target_page_views</th>\n",
       "      <th>anchor_target_count</th>\n",
       "    </tr>\n",
       "  </thead>\n",
       "  <tbody>\n",
       "    <tr>\n",
       "      <td>0</td>\n",
       "      <td>united states</td>\n",
       "      <td>3434750</td>\n",
       "      <td>30</td>\n",
       "      <td>United_States</td>\n",
       "      <td>460156</td>\n",
       "      <td>152451</td>\n",
       "    </tr>\n",
       "    <tr>\n",
       "      <td>1</td>\n",
       "      <td>american</td>\n",
       "      <td>3434750</td>\n",
       "      <td>30</td>\n",
       "      <td>United_States</td>\n",
       "      <td>460156</td>\n",
       "      <td>65722</td>\n",
       "    </tr>\n",
       "    <tr>\n",
       "      <td>2</td>\n",
       "      <td>usa</td>\n",
       "      <td>3434750</td>\n",
       "      <td>30</td>\n",
       "      <td>United_States</td>\n",
       "      <td>460156</td>\n",
       "      <td>8559</td>\n",
       "    </tr>\n",
       "    <tr>\n",
       "      <td>3</td>\n",
       "      <td>u.s.</td>\n",
       "      <td>3434750</td>\n",
       "      <td>30</td>\n",
       "      <td>United_States</td>\n",
       "      <td>460156</td>\n",
       "      <td>7633</td>\n",
       "    </tr>\n",
       "    <tr>\n",
       "      <td>4</td>\n",
       "      <td>us</td>\n",
       "      <td>3434750</td>\n",
       "      <td>30</td>\n",
       "      <td>United_States</td>\n",
       "      <td>460156</td>\n",
       "      <td>5288</td>\n",
       "    </tr>\n",
       "  </tbody>\n",
       "</table>\n",
       "</div>"
      ],
      "text/plain": [
       "  normalized_anchor_text  target_page_id  target_item_id target_page_title  \\\n",
       "0          united states         3434750              30     United_States   \n",
       "1               american         3434750              30     United_States   \n",
       "2                    usa         3434750              30     United_States   \n",
       "3                   u.s.         3434750              30     United_States   \n",
       "4                     us         3434750              30     United_States   \n",
       "\n",
       "   target_page_views  anchor_target_count  \n",
       "0             460156               152451  \n",
       "1             460156                65722  \n",
       "2             460156                 8559  \n",
       "3             460156                 7633  \n",
       "4             460156                 5288  "
      ]
     },
     "execution_count": 6,
     "metadata": {},
     "output_type": "execute_result"
    }
   ],
   "source": [
    "my_path = '../../kwnlp/'\n",
    "article_df = pd.read_csv(os.path.join(my_path, 'article.csv'))\n",
    "\n",
    "anchor_df = pd.read_csv(os.path.join(my_path, 'anchor_target_counts.csv'))\n",
    "\n",
    "at_count_df = anchor_df.copy()\n",
    "def text_normalizer(text):                              \n",
    "    \"\"\"Return text after stripping external whitespace and lower casing.\"\"\"   \n",
    "    return str(text).strip().lower()\n",
    "\n",
    "at_count_df[\"normalized_anchor_text\"] = at_count_df[\"anchor_text\"].apply(text_normalizer)\n",
    "at_count_df = at_count_df.loc[at_count_df['normalized_anchor_text'].str.len() > 0, :]\n",
    "\n",
    "at_count_df = pd.merge(\n",
    "    at_count_df,\n",
    "    article_df,\n",
    "    how=\"inner\",\n",
    "    left_on=\"target_page_id\",\n",
    "    right_on=\"page_id\")\n",
    "at_count_df = at_count_df.rename(columns={\n",
    "    'title': 'target_page_title',\n",
    "    'item_id': 'target_item_id',\n",
    "    'views': 'target_page_views',\n",
    "    'count': 'anchor_target_count',\n",
    "    'page_title': 'target_page_title'})\n",
    "\n",
    "at_count_df = at_count_df[[\n",
    "    \"normalized_anchor_text\",\n",
    "    \"target_page_id\",\n",
    "    \"target_item_id\",\n",
    "    \"target_page_title\",\n",
    "    \"target_page_views\",\n",
    "    \"anchor_target_count\"]]\n",
    "at_count_df.head()"
   ]
  },
  {
   "cell_type": "code",
   "execution_count": 11,
   "metadata": {},
   "outputs": [],
   "source": [
    "df_new = at_count_df.sort_values(['anchor_target_count'])"
   ]
  },
  {
   "cell_type": "code",
   "execution_count": 12,
   "metadata": {},
   "outputs": [
    {
     "data": {
      "text/html": [
       "<div>\n",
       "<style scoped>\n",
       "    .dataframe tbody tr th:only-of-type {\n",
       "        vertical-align: middle;\n",
       "    }\n",
       "\n",
       "    .dataframe tbody tr th {\n",
       "        vertical-align: top;\n",
       "    }\n",
       "\n",
       "    .dataframe thead th {\n",
       "        text-align: right;\n",
       "    }\n",
       "</style>\n",
       "<table border=\"1\" class=\"dataframe\">\n",
       "  <thead>\n",
       "    <tr style=\"text-align: right;\">\n",
       "      <th></th>\n",
       "      <th>normalized_anchor_text</th>\n",
       "      <th>target_page_id</th>\n",
       "      <th>target_item_id</th>\n",
       "      <th>target_page_title</th>\n",
       "      <th>target_page_views</th>\n",
       "      <th>anchor_target_count</th>\n",
       "    </tr>\n",
       "  </thead>\n",
       "  <tbody>\n",
       "    <tr>\n",
       "      <td>15269228</td>\n",
       "      <td>iasc</td>\n",
       "      <td>182786</td>\n",
       "      <td>1653031</td>\n",
       "      <td>IASC</td>\n",
       "      <td>130</td>\n",
       "      <td>1</td>\n",
       "    </tr>\n",
       "    <tr>\n",
       "      <td>6549421</td>\n",
       "      <td>fused</td>\n",
       "      <td>845000</td>\n",
       "      <td>167738</td>\n",
       "      <td>Plastic_welding</td>\n",
       "      <td>1602</td>\n",
       "      <td>1</td>\n",
       "    </tr>\n",
       "    <tr>\n",
       "      <td>6549420</td>\n",
       "      <td>solvent</td>\n",
       "      <td>845000</td>\n",
       "      <td>167738</td>\n",
       "      <td>Plastic_welding</td>\n",
       "      <td>1602</td>\n",
       "      <td>1</td>\n",
       "    </tr>\n",
       "    <tr>\n",
       "      <td>6549419</td>\n",
       "      <td>plastic welding adhesive</td>\n",
       "      <td>845000</td>\n",
       "      <td>167738</td>\n",
       "      <td>Plastic_welding</td>\n",
       "      <td>1602</td>\n",
       "      <td>1</td>\n",
       "    </tr>\n",
       "    <tr>\n",
       "      <td>6549418</td>\n",
       "      <td>weld</td>\n",
       "      <td>845000</td>\n",
       "      <td>167738</td>\n",
       "      <td>Plastic_welding</td>\n",
       "      <td>1602</td>\n",
       "      <td>1</td>\n",
       "    </tr>\n",
       "  </tbody>\n",
       "</table>\n",
       "</div>"
      ],
      "text/plain": [
       "            normalized_anchor_text  target_page_id  target_item_id  \\\n",
       "15269228                      iasc          182786         1653031   \n",
       "6549421                      fused          845000          167738   \n",
       "6549420                    solvent          845000          167738   \n",
       "6549419   plastic welding adhesive          845000          167738   \n",
       "6549418                       weld          845000          167738   \n",
       "\n",
       "         target_page_title  target_page_views  anchor_target_count  \n",
       "15269228              IASC                130                    1  \n",
       "6549421    Plastic_welding               1602                    1  \n",
       "6549420    Plastic_welding               1602                    1  \n",
       "6549419    Plastic_welding               1602                    1  \n",
       "6549418    Plastic_welding               1602                    1  "
      ]
     },
     "execution_count": 12,
     "metadata": {},
     "output_type": "execute_result"
    }
   ],
   "source": [
    "df_new.head()"
   ]
  },
  {
   "cell_type": "code",
   "execution_count": 13,
   "metadata": {},
   "outputs": [
    {
     "name": "stdout",
     "output_type": "stream",
     "text": [
      "15269229\n"
     ]
    }
   ],
   "source": [
    "print(len(df_new))"
   ]
  },
  {
   "cell_type": "code",
   "execution_count": null,
   "metadata": {},
   "outputs": [],
   "source": [
    "df_new = df_new.drop_duplicates(subset = 'normalized_anchor_text', )"
   ]
  }
 ],
 "metadata": {
  "kernelspec": {
   "display_name": "Python 3",
   "language": "python",
   "name": "python3"
  },
  "language_info": {
   "codemirror_mode": {
    "name": "ipython",
    "version": 3
   },
   "file_extension": ".py",
   "mimetype": "text/x-python",
   "name": "python",
   "nbconvert_exporter": "python",
   "pygments_lexer": "ipython3",
   "version": "3.7.4"
  }
 },
 "nbformat": 4,
 "nbformat_minor": 4
}
