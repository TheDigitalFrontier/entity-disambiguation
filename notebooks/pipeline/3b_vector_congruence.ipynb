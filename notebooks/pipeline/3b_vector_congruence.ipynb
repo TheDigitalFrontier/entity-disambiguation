{
 "cells": [
  {
   "cell_type": "markdown",
   "metadata": {},
   "source": [
    "# Phase 3: Congruence via Entity Vector Similarity\n",
    "\n",
    "In this notebook, we calculate the cosine similarity measure between vectors of each candidate. The vectors will be retrieved from Wikipedia2vec's pre-trained API, which creates vectors for the entire Wikipedia page including its relational links. Comparing two vectors in this way thus lets us make a statement about similar pages and update our prior confidence based on that.\n",
    "\n",
    "#### Using Prior Confidence\n",
    "\n",
    "In Phase 3, we calculate congruence between candidates in pools for mentions in the same sentence. We then update these congruence metrics using prior confidence from Phase 2. This should adjust our pool by discounting congruence using the prior knowledge we have of the calculated similarity. In this notebook, we import prior knowledge generated from Anchor Link statistics and weight those with our numerical calculations from congruence. We demonstrate the performance gains of directly incorporating prior confidence."
   ]
  },
  {
   "cell_type": "markdown",
   "metadata": {},
   "source": [
    "### Import Packages"
   ]
  },
  {
   "cell_type": "code",
   "execution_count": 1,
   "metadata": {},
   "outputs": [],
   "source": [
    "import os\n",
    "import time\n",
    "import re\n",
    "\n",
    "import pandas as pd\n",
    "import numpy as np\n",
    "import matplotlib.pyplot as plt\n",
    "%matplotlib inline\n",
    "\n",
    "from sklearn.metrics.pairwise import cosine_similarity, pairwise_distances\n",
    "\n",
    "# Progress bar\n",
    "from tqdm import tqdm"
   ]
  },
  {
   "cell_type": "code",
   "execution_count": 2,
   "metadata": {},
   "outputs": [
    {
     "data": {
      "text/html": [
       "<div>\n",
       "<style scoped>\n",
       "    .dataframe tbody tr th:only-of-type {\n",
       "        vertical-align: middle;\n",
       "    }\n",
       "\n",
       "    .dataframe tbody tr th {\n",
       "        vertical-align: top;\n",
       "    }\n",
       "\n",
       "    .dataframe thead th {\n",
       "        text-align: right;\n",
       "    }\n",
       "</style>\n",
       "<table border=\"1\" class=\"dataframe\">\n",
       "  <thead>\n",
       "    <tr style=\"text-align: right;\">\n",
       "      <th></th>\n",
       "      <th>mention</th>\n",
       "      <th>full_mention</th>\n",
       "      <th>wikipedia_URL</th>\n",
       "      <th>wikipedia_page_ID</th>\n",
       "      <th>wikipedia_title</th>\n",
       "      <th>sentence_id</th>\n",
       "      <th>doc_id</th>\n",
       "      <th>congruent_mentions</th>\n",
       "      <th>norm_full_mention</th>\n",
       "      <th>candidate_pool_page_ids</th>\n",
       "      <th>candidate_pool_item_ids</th>\n",
       "      <th>candidate_pool_titles</th>\n",
       "      <th>candidate_pool_priors</th>\n",
       "    </tr>\n",
       "  </thead>\n",
       "  <tbody>\n",
       "    <tr>\n",
       "      <th>0</th>\n",
       "      <td>B</td>\n",
       "      <td>EU</td>\n",
       "      <td>NaN</td>\n",
       "      <td>NaN</td>\n",
       "      <td>NaN</td>\n",
       "      <td>0</td>\n",
       "      <td>0</td>\n",
       "      <td>['EU', 'German', 'British']</td>\n",
       "      <td>eu</td>\n",
       "      <td>[9317, 9239, 21347120, 9477, 1882861]</td>\n",
       "      <td>[458, 46, 211593, 1396, 363404]</td>\n",
       "      <td>['European_Union', 'Europe', 'Eu,_Seine-Mariti...</td>\n",
       "      <td>[0.9227799, 0.024651, 0.020196, 0.005346, 0.00...</td>\n",
       "    </tr>\n",
       "    <tr>\n",
       "      <th>1</th>\n",
       "      <td>B</td>\n",
       "      <td>German</td>\n",
       "      <td>http://en.wikipedia.org/wiki/Germany</td>\n",
       "      <td>11867.0</td>\n",
       "      <td>Germany</td>\n",
       "      <td>0</td>\n",
       "      <td>0</td>\n",
       "      <td>['EU', 'German', 'British']</td>\n",
       "      <td>german</td>\n",
       "      <td>[11867, 11884, 152735, 21212, 12674]</td>\n",
       "      <td>[183, 188, 42884, 7318, 43287]</td>\n",
       "      <td>['Germany', 'German_language', 'Germans', 'Naz...</td>\n",
       "      <td>[0.4192066, 0.2893363, 0.1470461, 0.03832, 0.0...</td>\n",
       "    </tr>\n",
       "    <tr>\n",
       "      <th>2</th>\n",
       "      <td>B</td>\n",
       "      <td>British</td>\n",
       "      <td>http://en.wikipedia.org/wiki/United_Kingdom</td>\n",
       "      <td>31717.0</td>\n",
       "      <td>United Kingdom</td>\n",
       "      <td>0</td>\n",
       "      <td>0</td>\n",
       "      <td>['EU', 'German', 'British']</td>\n",
       "      <td>british</td>\n",
       "      <td>[31717, 19097669, 13530298, 4721, 158019]</td>\n",
       "      <td>[145, 842438, 23666, 8680, 161885]</td>\n",
       "      <td>['United_Kingdom', 'British_people', 'Great_Br...</td>\n",
       "      <td>[0.6101256, 0.1146913, 0.0681775, 0.0366451, 0...</td>\n",
       "    </tr>\n",
       "    <tr>\n",
       "      <th>3</th>\n",
       "      <td>B</td>\n",
       "      <td>Peter Blackburn</td>\n",
       "      <td>NaN</td>\n",
       "      <td>NaN</td>\n",
       "      <td>NaN</td>\n",
       "      <td>1</td>\n",
       "      <td>0</td>\n",
       "      <td>['Peter Blackburn', 'BRUSSELS', 'European Comm...</td>\n",
       "      <td>peter blackburn</td>\n",
       "      <td>[56783206, 9643132, 56873217]</td>\n",
       "      <td>[2073954, 7172840, 26634508]</td>\n",
       "      <td>['Peter_Blackburn_(badminton)', 'Peter_Blackbu...</td>\n",
       "      <td>[0.5, 0.3, 0.2]</td>\n",
       "    </tr>\n",
       "    <tr>\n",
       "      <th>4</th>\n",
       "      <td>I</td>\n",
       "      <td>Peter Blackburn</td>\n",
       "      <td>NaN</td>\n",
       "      <td>NaN</td>\n",
       "      <td>NaN</td>\n",
       "      <td>1</td>\n",
       "      <td>0</td>\n",
       "      <td>['Peter Blackburn', 'BRUSSELS', 'European Comm...</td>\n",
       "      <td>peter blackburn</td>\n",
       "      <td>[56783206, 9643132, 56873217]</td>\n",
       "      <td>[2073954, 7172840, 26634508]</td>\n",
       "      <td>['Peter_Blackburn_(badminton)', 'Peter_Blackbu...</td>\n",
       "      <td>[0.5, 0.3, 0.2]</td>\n",
       "    </tr>\n",
       "  </tbody>\n",
       "</table>\n",
       "</div>"
      ],
      "text/plain": [
       "  mention     full_mention                                wikipedia_URL  \\\n",
       "0       B               EU                                          NaN   \n",
       "1       B           German         http://en.wikipedia.org/wiki/Germany   \n",
       "2       B          British  http://en.wikipedia.org/wiki/United_Kingdom   \n",
       "3       B  Peter Blackburn                                          NaN   \n",
       "4       I  Peter Blackburn                                          NaN   \n",
       "\n",
       "   wikipedia_page_ID wikipedia_title  sentence_id  doc_id  \\\n",
       "0                NaN             NaN            0       0   \n",
       "1            11867.0         Germany            0       0   \n",
       "2            31717.0  United Kingdom            0       0   \n",
       "3                NaN             NaN            1       0   \n",
       "4                NaN             NaN            1       0   \n",
       "\n",
       "                                  congruent_mentions norm_full_mention  \\\n",
       "0                        ['EU', 'German', 'British']                eu   \n",
       "1                        ['EU', 'German', 'British']            german   \n",
       "2                        ['EU', 'German', 'British']           british   \n",
       "3  ['Peter Blackburn', 'BRUSSELS', 'European Comm...   peter blackburn   \n",
       "4  ['Peter Blackburn', 'BRUSSELS', 'European Comm...   peter blackburn   \n",
       "\n",
       "                     candidate_pool_page_ids  \\\n",
       "0      [9317, 9239, 21347120, 9477, 1882861]   \n",
       "1       [11867, 11884, 152735, 21212, 12674]   \n",
       "2  [31717, 19097669, 13530298, 4721, 158019]   \n",
       "3              [56783206, 9643132, 56873217]   \n",
       "4              [56783206, 9643132, 56873217]   \n",
       "\n",
       "              candidate_pool_item_ids  \\\n",
       "0     [458, 46, 211593, 1396, 363404]   \n",
       "1      [183, 188, 42884, 7318, 43287]   \n",
       "2  [145, 842438, 23666, 8680, 161885]   \n",
       "3        [2073954, 7172840, 26634508]   \n",
       "4        [2073954, 7172840, 26634508]   \n",
       "\n",
       "                               candidate_pool_titles  \\\n",
       "0  ['European_Union', 'Europe', 'Eu,_Seine-Mariti...   \n",
       "1  ['Germany', 'German_language', 'Germans', 'Naz...   \n",
       "2  ['United_Kingdom', 'British_people', 'Great_Br...   \n",
       "3  ['Peter_Blackburn_(badminton)', 'Peter_Blackbu...   \n",
       "4  ['Peter_Blackburn_(badminton)', 'Peter_Blackbu...   \n",
       "\n",
       "                               candidate_pool_priors  \n",
       "0  [0.9227799, 0.024651, 0.020196, 0.005346, 0.00...  \n",
       "1  [0.4192066, 0.2893363, 0.1470461, 0.03832, 0.0...  \n",
       "2  [0.6101256, 0.1146913, 0.0681775, 0.0366451, 0...  \n",
       "3                                    [0.5, 0.3, 0.2]  \n",
       "4                                    [0.5, 0.3, 0.2]  "
      ]
     },
     "execution_count": 2,
     "metadata": {},
     "output_type": "execute_result"
    }
   ],
   "source": [
    "# Base path to input\n",
    "preds_path = '../../predictions/'\n",
    "\n",
    "# Load data\n",
    "full_mentions = pd.read_csv(os.path.join(preds_path, \"anchortext_frequency.csv\"), delimiter=\",\")\n",
    "full_mentions.head(5)"
   ]
  },
  {
   "cell_type": "markdown",
   "metadata": {},
   "source": [
    "### Parse Saved Candidate Pool\n",
    "\n",
    "Candidate pools when exported to csv are stored as the string of the list. The below function parses the string back into a list with proper formatted values."
   ]
  },
  {
   "cell_type": "code",
   "execution_count": 3,
   "metadata": {},
   "outputs": [
    {
     "data": {
      "text/plain": [
       "str"
      ]
     },
     "execution_count": 3,
     "metadata": {},
     "output_type": "execute_result"
    }
   ],
   "source": [
    "# Demonstrate that list is string\n",
    "type(full_mentions['candidate_pool_page_ids'][0])"
   ]
  },
  {
   "cell_type": "code",
   "execution_count": 4,
   "metadata": {},
   "outputs": [],
   "source": [
    "# Function to parse list as string\n",
    "def parse_list_string(list_string, value_type=int):\n",
    "    \n",
    "    parsed_list = []\n",
    "    \n",
    "    # If candidate pool is empty\n",
    "    if list_string == \"[]\" or isinstance(list_string, float):\n",
    "        pass\n",
    "    # Else parse\n",
    "    else:\n",
    "        # Parses lists of titles as strings\n",
    "        if value_type==str:\n",
    "            # Eliminate bracket and parenthesis on either side, split by comma pattern\n",
    "            parsed_list = re.split(\"', '|\\\", \\\"|', \\\"|\\\", \\'\", list_string[2:-2])\n",
    "\n",
    "        # Parses lists of IDs as ints\n",
    "        elif value_type==int:\n",
    "            # Eliminate brackets and convert each number from string to int\n",
    "            parsed_list = list(map(int, list_string[1:-1].split(', ')))\n",
    "        elif value_type==float:\n",
    "            # Eliminate brackets and convert each number from string to int\n",
    "            parsed_list = list(map(float, list_string[1:-1].split(', ')))\n",
    "            \n",
    "        \n",
    "    return parsed_list\n"
   ]
  },
  {
   "cell_type": "code",
   "execution_count": 5,
   "metadata": {},
   "outputs": [
    {
     "data": {
      "text/plain": [
       "['European_Union',\n",
       " 'Europe',\n",
       " 'Eu,_Seine-Maritime',\n",
       " 'Europium',\n",
       " 'Citizenship_of_the_European_Union']"
      ]
     },
     "execution_count": 5,
     "metadata": {},
     "output_type": "execute_result"
    }
   ],
   "source": [
    "# Manually test function\n",
    "# 0 is the hard one. See how some value is stored with '' and some with \"\". Unsure why.\n",
    "parse_list_string(full_mentions['candidate_pool_titles'][0], value_type=str)"
   ]
  },
  {
   "cell_type": "code",
   "execution_count": 6,
   "metadata": {},
   "outputs": [
    {
     "data": {
      "text/plain": [
       "[9317, 9239, 21347120, 9477, 1882861]"
      ]
     },
     "execution_count": 6,
     "metadata": {},
     "output_type": "execute_result"
    }
   ],
   "source": [
    "# Manually test function\n",
    "parse_list_string(full_mentions['candidate_pool_page_ids'][0], value_type=int)"
   ]
  },
  {
   "cell_type": "code",
   "execution_count": 7,
   "metadata": {},
   "outputs": [
    {
     "data": {
      "text/plain": [
       "[]"
      ]
     },
     "execution_count": 7,
     "metadata": {},
     "output_type": "execute_result"
    }
   ],
   "source": [
    "# Manually test function\n",
    "parse_list_string(full_mentions['candidate_pool_page_ids'][13], value_type=int)"
   ]
  },
  {
   "cell_type": "code",
   "execution_count": 8,
   "metadata": {},
   "outputs": [
    {
     "data": {
      "text/plain": [
       "[0.9227799, 0.024651, 0.020196, 0.005346, 0.002079]"
      ]
     },
     "execution_count": 8,
     "metadata": {},
     "output_type": "execute_result"
    }
   ],
   "source": [
    "# Manually test function\n",
    "parse_list_string(full_mentions['candidate_pool_priors'][0], value_type=float)"
   ]
  },
  {
   "cell_type": "code",
   "execution_count": 9,
   "metadata": {},
   "outputs": [
    {
     "name": "stdout",
     "output_type": "stream",
     "text": [
      "Before ['Peter Blackburn', 'BRUSSELS', 'European Commission', 'German', 'British']\n",
      "After ['Peter Blackburn', 'BRUSSELS', 'European Commission', 'German', 'British']\n",
      "Before [56783206, 9643132, 56873217]\n",
      "After [56783206, 9643132, 56873217]\n",
      "Before [2073954, 7172840, 26634508]\n",
      "After [2073954, 7172840, 26634508]\n",
      "Before ['Peter_Blackburn_(badminton)', 'Peter_Blackburn_(bishop)', 'Peter_Blackburn_(MP)']\n",
      "After ['Peter_Blackburn_(badminton)', 'Peter_Blackburn_(bishop)', 'Peter_Blackburn_(MP)']\n",
      "Before [0.5, 0.3, 0.2]\n",
      "After [0.5, 0.3, 0.2]\n",
      "CPU times: user 256 ms, sys: 14.2 ms, total: 271 ms\n",
      "Wall time: 270 ms\n"
     ]
    }
   ],
   "source": [
    "%%time\n",
    "\n",
    "### Apply defined function to entire dataframe for all candidate pool columns\n",
    "\n",
    "column = 'congruent_mentions'\n",
    "print(\"Before\", full_mentions[column][3])\n",
    "parsed_candidate_pool = full_mentions[column].apply(parse_list_string, value_type=str)\n",
    "full_mentions[column] = parsed_candidate_pool\n",
    "print(\"After\", full_mentions[column][3])\n",
    "\n",
    "column = 'candidate_pool_page_ids'\n",
    "print(\"Before\", full_mentions[column][3])\n",
    "parsed_candidate_pool = full_mentions[column].apply(parse_list_string, value_type=int)\n",
    "full_mentions[column] = parsed_candidate_pool\n",
    "print(\"After\", full_mentions[column][3])\n",
    "\n",
    "\n",
    "column = 'candidate_pool_item_ids'\n",
    "print(\"Before\", full_mentions[column][3])\n",
    "parsed_candidate_pool = full_mentions[column].apply(parse_list_string, value_type=int)\n",
    "full_mentions[column] = parsed_candidate_pool\n",
    "print(\"After\", full_mentions[column][3])\n",
    "\n",
    "\n",
    "column = 'candidate_pool_titles'\n",
    "print(\"Before\", full_mentions[column][3])\n",
    "parsed_candidate_pool = full_mentions[column].apply(parse_list_string, value_type=str)\n",
    "full_mentions[column] = parsed_candidate_pool\n",
    "print(\"After\", full_mentions[column][3])\n",
    "\n",
    "column = 'candidate_pool_priors'\n",
    "print(\"Before\", full_mentions[column][3])\n",
    "parsed_candidate_pool = full_mentions[column].apply(parse_list_string, value_type=float)\n",
    "full_mentions[column] = parsed_candidate_pool\n",
    "print(\"After\", full_mentions[column][3])"
   ]
  },
  {
   "cell_type": "markdown",
   "metadata": {},
   "source": [
    "## Retrieve Entity Vectors from Wikipedia2Vec\n",
    "\n",
    "For provided wikipedia pages, we retrieve a representative entity vector from Wikipedia2vec. This involves passing the normalized title into their get_entity_vector() function. We default to using 100d pre-trained embeddings due to the easier computational requirements, but tested results using higher dimensions as well."
   ]
  },
  {
   "cell_type": "code",
   "execution_count": 10,
   "metadata": {},
   "outputs": [],
   "source": [
    "# Package\n",
    "from wikipedia2vec import Wikipedia2Vec"
   ]
  },
  {
   "cell_type": "code",
   "execution_count": 11,
   "metadata": {},
   "outputs": [
    {
     "name": "stdout",
     "output_type": "stream",
     "text": [
      "CPU times: user 94.8 ms, sys: 122 ms, total: 217 ms\n",
      "Wall time: 289 ms\n"
     ]
    }
   ],
   "source": [
    "%%time\n",
    "# Load unzipped pkl file with word embeddings\n",
    "w2v = Wikipedia2Vec.load(\"../../embeddings/enwiki_20180420_100d.pkl\")"
   ]
  },
  {
   "cell_type": "markdown",
   "metadata": {},
   "source": [
    "### Assess Wikipedia2Vec Query Success\n",
    "\n",
    "We need to measure what percent of candidates in our candidate pools successfully return a vector from Wikipedia2Vec. This should conceivably be 100% given we're passing known Wikipedia pages into this package trained over Wikipedia pages, but there may be some drop-off due to different creation dates or unique names without pages."
   ]
  },
  {
   "cell_type": "code",
   "execution_count": 12,
   "metadata": {},
   "outputs": [],
   "source": [
    "# Define text normalization function\n",
    "def normalize_text(text):\n",
    "    \"\"\"\n",
    "    We define normalized in this notebook as:\n",
    "    - strip whitespace\n",
    "    - Spaces, not underlines\n",
    "    \"\"\"\n",
    "    return str(text).strip().replace(\"_\", \" \")"
   ]
  },
  {
   "cell_type": "code",
   "execution_count": 13,
   "metadata": {},
   "outputs": [
    {
     "name": "stderr",
     "output_type": "stream",
     "text": [
      "100%|██████████| 21810/21810 [00:01<00:00, 16973.95it/s]"
     ]
    },
    {
     "name": "stdout",
     "output_type": "stream",
     "text": [
      "Wikipedia2vec returned an entity vector for 94.438% of 65,248 searches\n"
     ]
    },
    {
     "name": "stderr",
     "output_type": "stream",
     "text": [
      "\n"
     ]
    }
   ],
   "source": [
    "# Iterate over candidate pool titles to see what can be returned\n",
    "\n",
    "found_entity = 0\n",
    "searched_entity = 0\n",
    "\n",
    "for i in tqdm(range(len(full_mentions))):\n",
    "    \n",
    "    # Retrieve candidate pool\n",
    "    candidate_pool = full_mentions['candidate_pool_titles'][i]\n",
    "    \n",
    "    # Query for each candidate\n",
    "    for candidate in candidate_pool:\n",
    "        # Normalize candidate title to form necessary to input into Wikipedia2vec\n",
    "        candidate = normalize_text(candidate)\n",
    "        \n",
    "        # Query Wikipedia2vec get_entity_vector()\n",
    "        try:\n",
    "            entity_vector = w2v.get_entity_vector(candidate)\n",
    "        except KeyError:\n",
    "            entity_vector = None\n",
    "        \n",
    "        # Check if result\n",
    "        if entity_vector is not None:\n",
    "            found_entity += 1\n",
    "        \n",
    "        # Increment count\n",
    "        searched_entity += 1\n",
    "\n",
    "print(f\"Wikipedia2vec returned an entity vector for {round(found_entity/searched_entity*100,3)}% of {searched_entity:,} searches\")"
   ]
  },
  {
   "cell_type": "markdown",
   "metadata": {},
   "source": [
    "## Understand Sentence Properties\n",
    "\n",
    "First, let's get a sense for what the upper bound of congruent calculations might be per sentence as well as the distribution of counts and average priors."
   ]
  },
  {
   "cell_type": "code",
   "execution_count": 14,
   "metadata": {},
   "outputs": [
    {
     "data": {
      "text/plain": [
       "25"
      ]
     },
     "execution_count": 14,
     "metadata": {},
     "output_type": "execute_result"
    }
   ],
   "source": [
    "# What is the maximum number of congruent entities in a single sentence\n",
    "max(full_mentions['congruent_mentions'].apply(len))"
   ]
  },
  {
   "cell_type": "markdown",
   "metadata": {},
   "source": [
    "25 is expected given we filtered to only sentences containing less than this in Phase 1."
   ]
  },
  {
   "cell_type": "code",
   "execution_count": 15,
   "metadata": {},
   "outputs": [
    {
     "data": {
      "image/png": "[encoded data removed]",
      "text/plain": [
       "<Figure size 1440x360 with 1 Axes>"
      ]
     },
     "metadata": {
      "needs_background": "light"
     },
     "output_type": "display_data"
    }
   ],
   "source": [
    "# What is the distribution of congruent mention counts\n",
    "plt.figure(figsize=(20,5))\n",
    "full_mentions['congruent_mentions'].apply(len).hist(bins=50)\n",
    "plt.title(\"distribution of congruent mention counts\", size=20)\n",
    "plt.show()"
   ]
  },
  {
   "cell_type": "markdown",
   "metadata": {},
   "source": [
    "Most sentences occur in a near normal distribution around 3 full mentions, though this distribution then extends far to the right up to 25 full mentions. Next, let's get a sense for the average ranking of the right answer."
   ]
  },
  {
   "cell_type": "code",
   "execution_count": 16,
   "metadata": {},
   "outputs": [
    {
     "name": "stderr",
     "output_type": "stream",
     "text": [
      "100%|██████████| 21810/21810 [00:02<00:00, 7775.48it/s]"
     ]
    },
    {
     "name": "stdout",
     "output_type": "stream",
     "text": [
      "Correct answer null 27.0% of the time.\n",
      "Correct answer not present in candidate pool 7.1% of the time.\n"
     ]
    },
    {
     "name": "stderr",
     "output_type": "stream",
     "text": [
      "\n"
     ]
    }
   ],
   "source": [
    "# Prepare tracking metrics\n",
    "correct_answer_rank = []\n",
    "correct_answer_prior = {0:[],1:[],2:[],3:[],4:[]}\n",
    "correct_answer_not_present = 0\n",
    "correct_answer_null = 0\n",
    "\n",
    "# Iterate over whole dataframe\n",
    "for i in tqdm(range(len(full_mentions))):\n",
    "    row = full_mentions.iloc[i]\n",
    "    correct_answer = row['wikipedia_page_ID']\n",
    "    if isinstance(row['wikipedia_title'], float):\n",
    "        correct_answer_null += 1\n",
    "    else:\n",
    "        try:\n",
    "            correct_rank = row['candidate_pool_page_ids'].index(correct_answer)\n",
    "            correct_answer_rank.append(correct_rank)\n",
    "            correct_answer_prior[correct_rank].append(row['candidate_pool_priors'][correct_rank])\n",
    "        except ValueError:\n",
    "            correct_answer_not_present += 1\n",
    "\n",
    "print(f\"Correct answer null {round(correct_answer_null/len(full_mentions)*100,1)}% of the time.\")\n",
    "print(f\"Correct answer not present in candidate pool {round(correct_answer_not_present/len(full_mentions)*100,1)}% of the time.\")"
   ]
  },
  {
   "cell_type": "code",
   "execution_count": 17,
   "metadata": {},
   "outputs": [
    {
     "name": "stdout",
     "output_type": "stream",
     "text": [
      "We have 90.263% coverage.\n"
     ]
    }
   ],
   "source": [
    "# Calculate coverage of candidate pools for full mentions with known true values\n",
    "total_len = len(full_mentions[full_mentions['wikipedia_page_ID'].notnull()])\n",
    "print(f\"We have {round((total_len - correct_answer_not_present) / total_len * 100,3)}% coverage.\")"
   ]
  },
  {
   "cell_type": "code",
   "execution_count": 18,
   "metadata": {},
   "outputs": [
    {
     "data": {
      "image/png": "[encoded data removed]",
      "text/plain": [
       "<Figure size 1440x576 with 1 Axes>"
      ]
     },
     "metadata": {
      "needs_background": "light"
     },
     "output_type": "display_data"
    }
   ],
   "source": [
    "# Plot rank distribution\n",
    "plt.figure(figsize=(20,8))\n",
    "plt.hist(correct_answer_rank, bins=20)\n",
    "plt.title(\"Correct Candidate Rank Distribution\", size=25)\n",
    "plt.xlabel(\"Rank\", size=15)\n",
    "plt.show()"
   ]
  },
  {
   "cell_type": "code",
   "execution_count": 19,
   "metadata": {},
   "outputs": [
    {
     "data": {
      "text/plain": [
       "0    11466\n",
       "1     1970\n",
       "2      518\n",
       "3      300\n",
       "4      114\n",
       "dtype: int64"
      ]
     },
     "execution_count": 19,
     "metadata": {},
     "output_type": "execute_result"
    }
   ],
   "source": [
    "# Provide rank quantities\n",
    "pd.Series(correct_answer_rank).value_counts()"
   ]
  },
  {
   "cell_type": "code",
   "execution_count": 20,
   "metadata": {},
   "outputs": [
    {
     "name": "stdout",
     "output_type": "stream",
     "text": [
      "Correct Candidate Rank: 0 - Average Prior Confidence: 0.88993 - Median Prior Confidence: 0.96091\n",
      "Correct Candidate Rank: 1 - Average Prior Confidence: 0.18542 - Median Prior Confidence: 0.17061\n",
      "Correct Candidate Rank: 2 - Average Prior Confidence: 0.07883 - Median Prior Confidence: 0.07267\n",
      "Correct Candidate Rank: 3 - Average Prior Confidence: 0.04203 - Median Prior Confidence: 0.04132\n",
      "Correct Candidate Rank: 4 - Average Prior Confidence: 0.02247 - Median Prior Confidence: 0.01424\n"
     ]
    }
   ],
   "source": [
    "# Calculate mean prior confidence for each rank\n",
    "for k,v in correct_answer_prior.items():\n",
    "    print(f\"Correct Candidate Rank: {k} - Average Prior Confidence: {round(np.mean(v),5)} - Median Prior Confidence: {round(np.median(v),5)}\")"
   ]
  },
  {
   "cell_type": "markdown",
   "metadata": {},
   "source": [
    "When limited to sentences with 25 congruent mentions or less, 79.8% are in First Place and 13.7% are in Second, totaling 93.5% in our top two positions. Our first place candidates have median prior confidence of 0.96, but mean confidence of 0.889, suggesting that for most mentions we are highly confident in its first option, but a few are much lower and more uncertain, bringing the mean down (like a 50/50 estimate). Conversely, in second place, median is 0.17 but mean is 0.185, further suggesting those 50/50 estimates for some mentions bringing the mean up.\n",
    "\n",
    "Our hope is that congruence will be able to clarify those more evenly split prior values."
   ]
  },
  {
   "cell_type": "markdown",
   "metadata": {},
   "source": [
    "## Calculate Congruence Metric between Congruent Entities\n",
    "\n",
    "In order to allow this to become recursive for N many tables, we will need to capture a congruence table for every candidate pool to every other candidate pool in a two-level dictionary so you can retrieve values using `matrix[3][1]`. This would entail duplication except to save that, we sort by value so you always search [small][large]. This saves us computation and storage. To see a sequential example of our logic, scroll to the end of this notebook. Below is our function-based implementation of our pipeline."
   ]
  },
  {
   "cell_type": "markdown",
   "metadata": {},
   "source": [
    "### Define Functions to Create Modular Congruent Pipeline"
   ]
  },
  {
   "cell_type": "code",
   "execution_count": 21,
   "metadata": {},
   "outputs": [],
   "source": [
    "# Generate candidate lists of vectors\n",
    "def get_candidate_pool_vectors(candidate_pool_titles, verbose=False):\n",
    "    \"\"\"\n",
    "    Function to return entity vectors from Wikipedia2Vec\n",
    "    Takes as input a list of page titles, representing the candidate pool\n",
    "    Normalizes each page title to match necessary input format\n",
    "    Returns entity vector or empty vector if no match\n",
    "    \"\"\"\n",
    "    # Track failed vector queries\n",
    "    no_vector_count = 0\n",
    "    candidate_pool_vectors = []\n",
    "    for candidate in candidate_pool_titles:\n",
    "        candidate = normalize_text(candidate)\n",
    "        if verbose: print(candidate)\n",
    "        try:\n",
    "            candidate_vectors = w2v.get_entity_vector(candidate)\n",
    "        except KeyError:\n",
    "            # Keep empty vector representation to maintain index locations\n",
    "            candidate_vectors = np.zeros(100) # Note: this must change if using higher dimensional embeddings\n",
    "            no_vector_count += 1\n",
    "        candidate_pool_vectors.append(candidate_vectors)\n",
    "    \n",
    "    # Handle case where candidate pool is empty from prior phase\n",
    "    # Add 3 arrays of zeros of same dimensionality as embeddings\n",
    "    if len(candidate_pool_titles) == 0:\n",
    "        candidate_pool_vectors = [np.zeros(100), np.zeros(100), np.zeros(100)]\n",
    "    \n",
    "    if verbose: print(f\"Failed Wikipedia2Vec Entity Vector Queries: {no_vector_count}\")\n",
    "    return candidate_pool_vectors"
   ]
  },
  {
   "cell_type": "code",
   "execution_count": 22,
   "metadata": {},
   "outputs": [],
   "source": [
    "# Define function to retrieve entity vectors\n",
    "def create_entity_vector_dict(sentence_mention_ids, single_sentence_df, verbose=False):\n",
    "    \"\"\"\n",
    "    Function iterates over a provided list of congruent mentions,\n",
    "    finds the associated candidate pool for each mention\n",
    "    and returns the candidate pool in vector representation\n",
    "    \"\"\"\n",
    "    # Save vectors in dictionary\n",
    "    vector_dict = {}\n",
    "    \n",
    "    # For each full mention we are analyzing in the contextual domain\n",
    "    for m in sentence_mention_ids:\n",
    "        \n",
    "        # Retrieve candidate pool titles\n",
    "        candidate_pool_titles = single_sentence_df['candidate_pool_titles'][m]\n",
    "        if verbose: print(candidate_pool_titles)\n",
    "        \n",
    "        # Convert candidate pool titles to candidate pool vectors\n",
    "        candidate_pool_vectors = get_candidate_pool_vectors(candidate_pool_titles, verbose=verbose)\n",
    "        \n",
    "        # Save candidate pool vectors to dictionary\n",
    "        vector_dict[m] = candidate_pool_vectors\n",
    "    \n",
    "    if verbose:\n",
    "        print(vector_dict.keys())\n",
    "        for k in vector_dict.keys():\n",
    "            print(len(vector_dict[k]))\n",
    "\n",
    "    return vector_dict"
   ]
  },
  {
   "cell_type": "code",
   "execution_count": 23,
   "metadata": {},
   "outputs": [],
   "source": [
    "# Define function to calculate congruent metric for each candidate in every mention's candidate pool\n",
    "def get_congruence_dict(vector_dict, sentence_mention_ids, verbose=False):\n",
    "    \"\"\"\n",
    "    Function to return congruence metric calculations between all candidates for all mentions\n",
    "    Input:\n",
    "    - vector_dict\n",
    "    - Sentence Mentions Numerical Representation: Integers representing congruent mentions in a context domain\n",
    "    Outputs:\n",
    "    - Dictionary with congruence metric calculations for everyone\n",
    "    \"\"\"\n",
    "    \n",
    "    ## Save congruence metrics in a two-level dictionary\n",
    "    # Create first-level dictionary to be returned\n",
    "    congruence_dict = {}\n",
    "    \n",
    "    # Always work low numbers to high without duplicate comparison\n",
    "    m = 0\n",
    "    while m < len(sentence_mention_ids)-1:\n",
    "        \n",
    "        # Create second-level congruence metric dictionary\n",
    "        m_dict = {}\n",
    "\n",
    "        # Compare eaech mention against mentions after it\n",
    "        for n in sentence_mention_ids[m+1:]:\n",
    "            if verbose: print(f\"Comparing mentions {m} & {n}\")\n",
    "            # Calculate congruence metric - cosine similarity\n",
    "            congruence_metric = cosine_similarity(vector_dict[m], vector_dict[n])\n",
    "            # Save congruence metric to second-level dictionary\n",
    "            m_dict[n] = congruence_metric\n",
    "        \n",
    "        # Save second-level dictionary to first-level\n",
    "        congruence_dict[m] = m_dict\n",
    "        \n",
    "        # Increment mention\n",
    "        m += 1\n",
    "    \n",
    "#     if verbose: print(congruence_dict)\n",
    "    return congruence_dict"
   ]
  },
  {
   "cell_type": "code",
   "execution_count": 24,
   "metadata": {},
   "outputs": [],
   "source": [
    "# Define function to combine mention probabilities\n",
    "def combine_probabilities(mid_1, mid_2, sentence_probabilities):\n",
    "    \"\"\"\n",
    "    Function takes two mentions (numerically represented),\n",
    "    finds their candidate pool probabilities,\n",
    "    and combines them using the chosen logic,\n",
    "    returning a matrix of combined pair-wise probabilities\n",
    "    \"\"\"\n",
    "    # Prepare matrix to return\n",
    "    weights_matrix = []\n",
    "    \n",
    "    # Combine every candidate's probability for one mention with each for the second\n",
    "    for a in sentence_probabilities[mid_1]:\n",
    "        weights_row = []\n",
    "        for b in sentence_probabilities[mid_2]:\n",
    "            \n",
    "            ## Combination logic\n",
    "            weights_row.append(np.mean([a, b])) # Take mean of two prior probabilities\n",
    "        \n",
    "        weights_matrix.append(weights_row)\n",
    "        \n",
    "    return weights_matrix"
   ]
  },
  {
   "cell_type": "code",
   "execution_count": 25,
   "metadata": {},
   "outputs": [],
   "source": [
    "# Define function to create a weighted dictionary from priors\n",
    "def create_weighted_dict(sentence_mention_ids, single_sentence_df, verbose=False):\n",
    "    \"\"\"\n",
    "    Function iterates over a provided list of congruent mentions,\n",
    "    finds the associated candidate pool prior probabilities for each mention\n",
    "    and returns a dictionary for the combined probability of every pair of candidates\n",
    "    \"\"\"\n",
    "    # Save weights in dictionary\n",
    "    weights_dict = {}\n",
    "    \n",
    "    # Always work low numbers to high without duplicate comparison\n",
    "    m = 0\n",
    "    while m < len(sentence_mention_ids)-1:\n",
    "        \n",
    "        # Create second-level weights dictionary\n",
    "        w_dict = {}\n",
    "        \n",
    "        # Compare each mention probabilities against mentions after it\n",
    "        for n in sentence_mention_ids[m+1:]:\n",
    "            if verbose: print(f\"Comparing mentions {m} & {n}\")\n",
    "            # Return candidate pool probabilities\n",
    "            weights_matrix = combine_probabilities(m, n, single_sentence_df['candidate_pool_priors'])\n",
    "            if not weights_matrix: # Handles error where candidate pool is empty\n",
    "                weights_matrix = [0.0]\n",
    "            # Save weights matrix to second-level dictionary\n",
    "            w_dict[n] = weights_matrix\n",
    "        \n",
    "        # Save second-level dictionary to first-level\n",
    "        weights_dict[m] = w_dict\n",
    "        \n",
    "        # Increment mention\n",
    "        m += 1\n",
    "                \n",
    "    return weights_dict"
   ]
  },
  {
   "cell_type": "code",
   "execution_count": 26,
   "metadata": {},
   "outputs": [],
   "source": [
    "# Define function to combine congruence and prior weights\n",
    "def combine_congruence_priors(sentence_mention_ids, congruence_dict, weights_dict, verbose=False):\n",
    "    \"\"\"\n",
    "    Function takes two dictionaries representing recursive metric calculations,\n",
    "    Multiplies them element-wise together,\n",
    "    Returns the updated table\n",
    "    \"\"\"\n",
    "   # Combine congruence with prior weights in first-level dictionary\n",
    "    weighted_congruence = {}\n",
    "    \n",
    "    # Always work low numbers to high without duplicate comparison\n",
    "    m = 0\n",
    "    while m < len(sentence_mention_ids)-1:\n",
    "        \n",
    "        # Create second-level dictionary\n",
    "        w_c_dict = {}\n",
    "        \n",
    "        # Compare each mention probabilities against mentions after it\n",
    "        for n in sentence_mention_ids[m+1:]:\n",
    "            try:\n",
    "                weighted_table = congruence_dict[m][n] * np.array(weights_dict[m][n])\n",
    "            except ValueError: # Handles error when candidate pool is empty\n",
    "                weighted_table = congruence_dict[m][n]\n",
    "            w_c_dict[n] = weighted_table\n",
    "        \n",
    "        # Save second-level dictionary to first-level\n",
    "        weighted_congruence[m] = w_c_dict\n",
    "        \n",
    "        # Increment mention\n",
    "        m += 1\n",
    "    \n",
    "    return weighted_congruence"
   ]
  },
  {
   "cell_type": "code",
   "execution_count": 27,
   "metadata": {},
   "outputs": [],
   "source": [
    "### Standardize on form lookup always row then column\n",
    "def get_most_congruent_pair(congruence_matrix, verbose=False):\n",
    "    \"\"\"\n",
    "    This function takes a congruence matrix and returns the indices\n",
    "    of the two most congruent candidates using your chosen metric.\n",
    "    These indices can be plugged back into the candidate pool lists\n",
    "    to determine which candidates are most similar.\n",
    "    \"\"\"\n",
    "    # Get max values for every row\n",
    "    max_row_values = congruence_matrix.max(axis=1)\n",
    "    max_row_idxs = congruence_matrix.argmax(axis=1)\n",
    "    \n",
    "    # Get overall max value and the row it is in\n",
    "    max_value = max_row_values.max()\n",
    "    max_row_idx = max_row_values.argmax()\n",
    "    \n",
    "    # Get column max value is in\n",
    "    max_column_idx = max_row_idxs[max_row_idx]\n",
    "    \n",
    "    return (max_row_idx, max_column_idx), max_value"
   ]
  },
  {
   "cell_type": "code",
   "execution_count": 28,
   "metadata": {},
   "outputs": [],
   "source": [
    "# Function to retrieve the most congruent pair amongst remaining mentions\n",
    "def find_most_congruent_pair(mention_predictions, mentions_remaining, congruence_dict, verbose=False):\n",
    "    \"\"\"\n",
    "    Function to search the congruence matrices for mentions without predictions\n",
    "    and return the most congruent pair of candidates and associated mentions\n",
    "    \"\"\"\n",
    "    \n",
    "    # Start with empty most_congruent_pair\n",
    "    # (Candidate Pair, Congruence Metric), (Mention A, Mention B)\n",
    "    most_congruent_pair = (((None, None), 0.0), (0, 0))\n",
    "    \n",
    "    # Assess whether first pass or recursive pass\n",
    "    if len(mention_predictions) == 0:\n",
    "\n",
    "        # First pass        \n",
    "        for m in mentions_remaining:\n",
    "            for n in mentions_remaining[m+1:]:\n",
    "\n",
    "                # Get most congruent pair in one matrix\n",
    "                congruent_pair = get_most_congruent_pair(congruence_dict[m][n], verbose=verbose)\n",
    "\n",
    "                if verbose:\n",
    "                    print(f\"Comparing {m} & {n}\")\n",
    "                    print(\"Congruent Pair: \", congruent_pair)\n",
    "                    print(\"Current Most Congruent: \", most_congruent_pair)\n",
    "                \n",
    "                if congruent_pair[1] > most_congruent_pair[0][1]:\n",
    "                    # Save most congruent candidate pair and mentions\n",
    "                    most_congruent_pair = congruent_pair, (m, n)\n",
    "\n",
    "    elif len(mention_predictions) > 0:\n",
    "        \n",
    "        # Second+, recursive pass\n",
    "        for m in mention_predictions.keys():\n",
    "            for n in mentions_remaining:\n",
    "                \n",
    "                # Becauase we always assume search small mention to large to save computation/storage,\n",
    "                # we must sort incrementing variables to be in increasing order for query\n",
    "                m_tmp, n_tmp = np.sort((m, n))\n",
    "                \n",
    "                # Get most congruent pair in one matrix\n",
    "                congruent_pair = get_most_congruent_pair(congruence_dict[m_tmp][n_tmp], verbose=verbose)\n",
    "                \n",
    "                if verbose:\n",
    "                    print(f\"Comparing {m_tmp} & {n_tmp}\")\n",
    "                    print(\"Congruent Pair: \", congruent_pair)\n",
    "                    print(\"Current Most Congruent: \", most_congruent_pair)\n",
    "                    \n",
    "                if congruent_pair[1] > most_congruent_pair[0][1]:\n",
    "                    # Save most congruent candidate pair and mentions\n",
    "                    most_congruent_pair = congruent_pair, (m_tmp, n_tmp)\n",
    "                \n",
    "    if verbose: print(\"Final Most Congruent Pair: \", most_congruent_pair)\n",
    "    return most_congruent_pair"
   ]
  },
  {
   "cell_type": "markdown",
   "metadata": {},
   "source": [
    "### Congruent Predictions Function\n",
    "\n",
    "This is our main function that takes a sentence ID, calculates congruence for all candidates, updates the prior confidence from Phase 3 with that congruence and selects predictions iteratively based on that final number."
   ]
  },
  {
   "cell_type": "code",
   "execution_count": 29,
   "metadata": {},
   "outputs": [],
   "source": [
    "# Define function to calculate congruent predictions\n",
    "def get_congruent_predictions(sentence_id, dataframe, with_priors=True, verbose=False):\n",
    "    \"\"\"\n",
    "    Function to calculate congruence metrics over a set of entity full mentions\n",
    "    and return the predicted candidates based on the congruent metric\n",
    "    Input:\n",
    "    - Sentence ID used to filter dataframe\n",
    "    - Dataframe over which to process\n",
    "    Output:\n",
    "    - Prediction for each entity mention\n",
    "    \"\"\"\n",
    "    \n",
    "    # Filter to dataframe representing single sentence\n",
    "    # Drop duplicates necessary for sentences with the same mention included twice\n",
    "    single_sentence_df = dataframe[dataframe['sentence_id'] == sentence_id]\\\n",
    "                        .drop_duplicates(['full_mention', 'wikipedia_URL', 'wikipedia_page_ID', 'wikipedia_title'])\\\n",
    "                        .reset_index(drop=True)\n",
    "    if verbose: display(single_sentence_df)\n",
    "    \n",
    "    # Define numerical representation of congruent mention list\n",
    "    sentence_congruent_mentions = single_sentence_df['congruent_mentions'][0]\n",
    "    sentence_mention_ids = np.arange(len(sentence_congruent_mentions))\n",
    "    if verbose:\n",
    "        print(\"Congruent Mentions: \", sentence_congruent_mentions)\n",
    "        print(\"Congruent Mentions as numbers: \", sentence_mention_ids)\n",
    "    \n",
    "    # Retrieve dictionary of candidate pool vectors for each mention\n",
    "    vector_dict = create_entity_vector_dict(sentence_mention_ids, single_sentence_df, verbose=verbose)\n",
    "    if verbose: print(\"Mentions with Vectors: \", vector_dict.keys())\n",
    "        \n",
    "    # Calculate congruence metric for each candidate vector for each mention's candidate pool\n",
    "    # This notebook uses cosine similarity as the congruence metric\n",
    "    congruence_dict = get_congruence_dict(vector_dict, sentence_mention_ids, verbose=verbose)\n",
    "    if verbose: print(\"First-Level Congruence Keys: \", congruence_dict.keys())\n",
    "    # This should be one less than congruent mention count, since we are comparing low to high\n",
    "    # and thus don't compare the highest value to anything\n",
    "    \n",
    "    # Add flag for including priors\n",
    "    if with_priors:\n",
    "        \n",
    "        # Calculate weights matric for every pairwise combination of candidates for every mention\n",
    "        weights_dict = create_weighted_dict(sentence_mention_ids, single_sentence_df, verbose=verbose)\n",
    "\n",
    "        # Combine congruence with prior weights\n",
    "        vector_congruence = combine_congruence_priors(sentence_mention_ids, congruence_dict, weights_dict, verbose=verbose)\n",
    "\n",
    "    else:\n",
    "        vector_congruence = congruence_dict\n",
    "\n",
    "    # Create predictions dictionary\n",
    "    mention_predictions = {}\n",
    "    \n",
    "    # Create copy of sentence_mention_ids to iterate through\n",
    "    mentions_remaining = sentence_mention_ids.copy()\n",
    "    \n",
    "    # Iterate through congruent entity mentions to retrieve predictions\n",
    "    # where a prediction is the most congruent candidate between two mentions\n",
    "    while len(mentions_remaining) > 0:\n",
    "        \n",
    "        # Analyze congruence matrices to identify the most congruent pair\n",
    "        most_congruent_pair = find_most_congruent_pair(mention_predictions, mentions_remaining, vector_congruence, verbose=verbose)\n",
    "        \n",
    "        # Save most congrent pair prediction for associated mentions\n",
    "        if len(mention_predictions) == 0:\n",
    "            # First pass\n",
    "            if verbose: print(most_congruent_pair)\n",
    "            # Handles error when nearly all candidate pools are empty\n",
    "            if most_congruent_pair == (((None, None), 0.0), (0, 0)):\n",
    "                mention_predictions[0] = 0\n",
    "            else:\n",
    "                mention_predictions[most_congruent_pair[1][0]] = most_congruent_pair[0][0][0]\n",
    "                mention_predictions[most_congruent_pair[1][1]] = most_congruent_pair[0][0][1]\n",
    "        elif len(mention_predictions) > 0:\n",
    "            # Second_, recursive pass\n",
    "            \n",
    "            # Find new mention you're predicting for\n",
    "            try:\n",
    "                # The number left over in the mention tuple if you remove anything in the prediction dict\n",
    "                new_mention_num = most_congruent_pair[1].index(\\\n",
    "                                                               list(set(most_congruent_pair[1])\\\n",
    "                                                                    - set(mention_predictions.keys())))\n",
    "\n",
    "                # Save new prediction\n",
    "                mention_predictions[most_congruent_pair[1][new_mention_num]] = most_congruent_pair[0][0][new_mention_num]\n",
    "            except ValueError:\n",
    "                for mention in mentions_remaining:\n",
    "                    mention_predictions[mention] = 0 # Zero produces error in final section to produce None prediction\n",
    "            \n",
    "        # Update remaining mentions to mentions without a prediction stored in the dictionary\n",
    "        mentions_remaining = list(set(mentions_remaining) - set(mention_predictions.keys()))\n",
    "        if verbose: print(mentions_remaining, mention_predictions.keys())\n",
    "    \n",
    "    if verbose: print(mention_predictions)\n",
    "    \n",
    "    # Use mention predictions to return titles\n",
    "    readable_predictions = {}\n",
    "    for k, v in mention_predictions.items():\n",
    "        if verbose: print(k, v)\n",
    "        readable_key = sentence_congruent_mentions[k]\n",
    "        try:\n",
    "            readable_value = single_sentence_df['candidate_pool_titles'][k][v]\n",
    "            readable_id = single_sentence_df['candidate_pool_page_ids'][k][v]\n",
    "        except IndexError: # Handles case where no candidate pool was provided from Phase 3\n",
    "            readable_value = None \n",
    "            readable_id = None\n",
    "        except TypeError:\n",
    "            # Handles case where no congruence can be calculated\n",
    "            # Either due to one mention in sentence or two mentions but one with no candidate pool\n",
    "            readable_value = single_sentence_df['candidate_pool_titles'][0][0] # Just return top value from Phase 3\n",
    "            readable_id = single_sentence_df['candidate_pool_page_ids'][0][0]\n",
    "        if verbose: print(readable_key, readable_value, readable_id)\n",
    "        readable_predictions[readable_key] = (readable_value, readable_id)\n",
    "    \n",
    "    # Output dictionary with predictions for each entity mention based on congruence\n",
    "    return readable_predictions"
   ]
  },
  {
   "cell_type": "code",
   "execution_count": 30,
   "metadata": {
    "scrolled": false
   },
   "outputs": [
    {
     "data": {
      "text/html": [
       "<div>\n",
       "<style scoped>\n",
       "    .dataframe tbody tr th:only-of-type {\n",
       "        vertical-align: middle;\n",
       "    }\n",
       "\n",
       "    .dataframe tbody tr th {\n",
       "        vertical-align: top;\n",
       "    }\n",
       "\n",
       "    .dataframe thead th {\n",
       "        text-align: right;\n",
       "    }\n",
       "</style>\n",
       "<table border=\"1\" class=\"dataframe\">\n",
       "  <thead>\n",
       "    <tr style=\"text-align: right;\">\n",
       "      <th></th>\n",
       "      <th>mention</th>\n",
       "      <th>full_mention</th>\n",
       "      <th>wikipedia_URL</th>\n",
       "      <th>wikipedia_page_ID</th>\n",
       "      <th>wikipedia_title</th>\n",
       "      <th>sentence_id</th>\n",
       "      <th>doc_id</th>\n",
       "      <th>congruent_mentions</th>\n",
       "      <th>norm_full_mention</th>\n",
       "      <th>candidate_pool_page_ids</th>\n",
       "      <th>candidate_pool_item_ids</th>\n",
       "      <th>candidate_pool_titles</th>\n",
       "      <th>candidate_pool_priors</th>\n",
       "    </tr>\n",
       "  </thead>\n",
       "  <tbody>\n",
       "    <tr>\n",
       "      <th>0</th>\n",
       "      <td>B</td>\n",
       "      <td>YORK</td>\n",
       "      <td>http://en.wikipedia.org/wiki/York</td>\n",
       "      <td>34361.0</td>\n",
       "      <td>York</td>\n",
       "      <td>210</td>\n",
       "      <td>31</td>\n",
       "      <td>[YORK, England, Mark Prescott, Pivotal, Nuntho...</td>\n",
       "      <td>york</td>\n",
       "      <td>[34361, 134305, 974198, 992970, 2436511]</td>\n",
       "      <td>[42462, 821105, 8055519, 21008612, 994000]</td>\n",
       "      <td>[York, York,_Pennsylvania, York_Racecourse, Yo...</td>\n",
       "      <td>[0.5884024, 0.0486891, 0.0466228, 0.0396487, 0...</td>\n",
       "    </tr>\n",
       "    <tr>\n",
       "      <th>1</th>\n",
       "      <td>B</td>\n",
       "      <td>England</td>\n",
       "      <td>http://en.wikipedia.org/wiki/England</td>\n",
       "      <td>9316.0</td>\n",
       "      <td>England</td>\n",
       "      <td>210</td>\n",
       "      <td>31</td>\n",
       "      <td>[YORK, England, Mark Prescott, Pivotal, Nuntho...</td>\n",
       "      <td>england</td>\n",
       "      <td>[9316, 9904, 759125, 691024, 990422]</td>\n",
       "      <td>[21, 47762, 1321565, 378628, 3589698]</td>\n",
       "      <td>[England, England_national_football_team, Engl...</td>\n",
       "      <td>[0.7461579, 0.0736803, 0.0415712, 0.0328608, 0...</td>\n",
       "    </tr>\n",
       "    <tr>\n",
       "      <th>2</th>\n",
       "      <td>B</td>\n",
       "      <td>Mark Prescott</td>\n",
       "      <td>http://en.wikipedia.org/wiki/Mark_Prescott</td>\n",
       "      <td>25674876.0</td>\n",
       "      <td>Mark Prescott</td>\n",
       "      <td>210</td>\n",
       "      <td>31</td>\n",
       "      <td>[YORK, England, Mark Prescott, Pivotal, Nuntho...</td>\n",
       "      <td>mark prescott</td>\n",
       "      <td>[25674876]</td>\n",
       "      <td>[6769327]</td>\n",
       "      <td>[Mark_Prescott]</td>\n",
       "      <td>[1.0]</td>\n",
       "    </tr>\n",
       "    <tr>\n",
       "      <th>3</th>\n",
       "      <td>B</td>\n",
       "      <td>Pivotal</td>\n",
       "      <td>NaN</td>\n",
       "      <td>NaN</td>\n",
       "      <td>NaN</td>\n",
       "      <td>210</td>\n",
       "      <td>31</td>\n",
       "      <td>[YORK, England, Mark Prescott, Pivotal, Nuntho...</td>\n",
       "      <td>pivotal</td>\n",
       "      <td>[39421721, 39467663, 34382035, 25015249, 2768719]</td>\n",
       "      <td>[11331695, 16335785, 7180990, 5503397, 15148967]</td>\n",
       "      <td>[Pivotal_(horse), Pivotal_Software, Phases_of_...</td>\n",
       "      <td>[0.6304348, 0.2608696, 0.0217391, 0.0217391, 0...</td>\n",
       "    </tr>\n",
       "    <tr>\n",
       "      <th>4</th>\n",
       "      <td>B</td>\n",
       "      <td>Nunthorpe Stakes</td>\n",
       "      <td>http://en.wikipedia.org/wiki/Nunthorpe_Stakes</td>\n",
       "      <td>727606.0</td>\n",
       "      <td>Nunthorpe Stakes</td>\n",
       "      <td>210</td>\n",
       "      <td>31</td>\n",
       "      <td>[YORK, England, Mark Prescott, Pivotal, Nuntho...</td>\n",
       "      <td>nunthorpe stakes</td>\n",
       "      <td>[727606]</td>\n",
       "      <td>[3346442]</td>\n",
       "      <td>[Nunthorpe_Stakes]</td>\n",
       "      <td>[1.0]</td>\n",
       "    </tr>\n",
       "  </tbody>\n",
       "</table>\n",
       "</div>"
      ],
      "text/plain": [
       "  mention      full_mention                                  wikipedia_URL  \\\n",
       "0       B              YORK              http://en.wikipedia.org/wiki/York   \n",
       "1       B           England           http://en.wikipedia.org/wiki/England   \n",
       "2       B     Mark Prescott     http://en.wikipedia.org/wiki/Mark_Prescott   \n",
       "3       B           Pivotal                                            NaN   \n",
       "4       B  Nunthorpe Stakes  http://en.wikipedia.org/wiki/Nunthorpe_Stakes   \n",
       "\n",
       "   wikipedia_page_ID   wikipedia_title  sentence_id  doc_id  \\\n",
       "0            34361.0              York          210      31   \n",
       "1             9316.0           England          210      31   \n",
       "2         25674876.0     Mark Prescott          210      31   \n",
       "3                NaN               NaN          210      31   \n",
       "4           727606.0  Nunthorpe Stakes          210      31   \n",
       "\n",
       "                                  congruent_mentions norm_full_mention  \\\n",
       "0  [YORK, England, Mark Prescott, Pivotal, Nuntho...              york   \n",
       "1  [YORK, England, Mark Prescott, Pivotal, Nuntho...           england   \n",
       "2  [YORK, England, Mark Prescott, Pivotal, Nuntho...     mark prescott   \n",
       "3  [YORK, England, Mark Prescott, Pivotal, Nuntho...           pivotal   \n",
       "4  [YORK, England, Mark Prescott, Pivotal, Nuntho...  nunthorpe stakes   \n",
       "\n",
       "                             candidate_pool_page_ids  \\\n",
       "0           [34361, 134305, 974198, 992970, 2436511]   \n",
       "1               [9316, 9904, 759125, 691024, 990422]   \n",
       "2                                         [25674876]   \n",
       "3  [39421721, 39467663, 34382035, 25015249, 2768719]   \n",
       "4                                           [727606]   \n",
       "\n",
       "                            candidate_pool_item_ids  \\\n",
       "0        [42462, 821105, 8055519, 21008612, 994000]   \n",
       "1             [21, 47762, 1321565, 378628, 3589698]   \n",
       "2                                         [6769327]   \n",
       "3  [11331695, 16335785, 7180990, 5503397, 15148967]   \n",
       "4                                         [3346442]   \n",
       "\n",
       "                               candidate_pool_titles  \\\n",
       "0  [York, York,_Pennsylvania, York_Racecourse, Yo...   \n",
       "1  [England, England_national_football_team, Engl...   \n",
       "2                                    [Mark_Prescott]   \n",
       "3  [Pivotal_(horse), Pivotal_Software, Phases_of_...   \n",
       "4                                 [Nunthorpe_Stakes]   \n",
       "\n",
       "                               candidate_pool_priors  \n",
       "0  [0.5884024, 0.0486891, 0.0466228, 0.0396487, 0...  \n",
       "1  [0.7461579, 0.0736803, 0.0415712, 0.0328608, 0...  \n",
       "2                                              [1.0]  \n",
       "3  [0.6304348, 0.2608696, 0.0217391, 0.0217391, 0...  \n",
       "4                                              [1.0]  "
      ]
     },
     "metadata": {},
     "output_type": "display_data"
    },
    {
     "name": "stdout",
     "output_type": "stream",
     "text": [
      "Congruent Mentions:  ['YORK', 'England', 'Mark Prescott', 'Pivotal', 'Nunthorpe Stakes']\n",
      "Congruent Mentions as numbers:  [0 1 2 3 4]\n",
      "['York', 'York,_Pennsylvania', 'York_Racecourse', 'York_Wasps', 'York,_Western_Australia']\n",
      "York\n",
      "York, Pennsylvania\n",
      "York Racecourse\n",
      "York Wasps\n",
      "York, Western Australia\n",
      "Failed Wikipedia2Vec Entity Vector Queries: 0\n",
      "['England', 'England_national_football_team', 'England_cricket_team', 'England_national_rugby_union_team', 'England_national_rugby_league_team']\n",
      "England\n",
      "England national football team\n",
      "England cricket team\n",
      "England national rugby union team\n",
      "England national rugby league team\n",
      "Failed Wikipedia2Vec Entity Vector Queries: 0\n",
      "['Mark_Prescott']\n",
      "Mark Prescott\n",
      "Failed Wikipedia2Vec Entity Vector Queries: 0\n",
      "['Pivotal_(horse)', 'Pivotal_Software', 'Phases_of_clinical_research', 'Fricke_v._Lynch', 'Pivotal']\n",
      "Pivotal (horse)\n",
      "Pivotal Software\n",
      "Phases of clinical research\n",
      "Fricke v. Lynch\n",
      "Pivotal\n",
      "Failed Wikipedia2Vec Entity Vector Queries: 1\n",
      "['Nunthorpe_Stakes']\n",
      "Nunthorpe Stakes\n",
      "Failed Wikipedia2Vec Entity Vector Queries: 0\n",
      "dict_keys([0, 1, 2, 3, 4])\n",
      "5\n",
      "5\n",
      "1\n",
      "5\n",
      "1\n",
      "Mentions with Vectors:  dict_keys([0, 1, 2, 3, 4])\n",
      "Comparing mentions 0 & 1\n",
      "Comparing mentions 0 & 2\n",
      "Comparing mentions 0 & 3\n",
      "Comparing mentions 0 & 4\n",
      "Comparing mentions 1 & 2\n",
      "Comparing mentions 1 & 3\n",
      "Comparing mentions 1 & 4\n",
      "Comparing mentions 2 & 3\n",
      "Comparing mentions 2 & 4\n",
      "Comparing mentions 3 & 4\n",
      "First-Level Congruence Keys:  dict_keys([0, 1, 2, 3])\n",
      "Comparing mentions 0 & 1\n",
      "Comparing mentions 0 & 2\n",
      "Comparing mentions 0 & 3\n",
      "Comparing mentions 0 & 4\n",
      "Comparing mentions 1 & 2\n",
      "Comparing mentions 1 & 3\n",
      "Comparing mentions 1 & 4\n",
      "Comparing mentions 2 & 3\n",
      "Comparing mentions 2 & 4\n",
      "Comparing mentions 3 & 4\n",
      "Comparing 0 & 1\n",
      "Congruent Pair:  ((0, 0), 0.25858797358032914)\n",
      "Current Most Congruent:  (((None, None), 0.0), (0, 0))\n",
      "Comparing 0 & 2\n",
      "Congruent Pair:  ((0, 0), 0.37014722010928397)\n",
      "Current Most Congruent:  (((0, 0), 0.25858797358032914), (0, 1))\n",
      "Comparing 0 & 3\n",
      "Congruent Pair:  ((2, 0), 0.23136763545781952)\n",
      "Current Most Congruent:  (((0, 0), 0.37014722010928397), (0, 2))\n",
      "Comparing 0 & 4\n",
      "Congruent Pair:  ((2, 0), 0.40144850716092584)\n",
      "Current Most Congruent:  (((0, 0), 0.37014722010928397), (0, 2))\n",
      "Comparing 1 & 2\n",
      "Congruent Pair:  ((0, 0), 0.261977061977385)\n",
      "Current Most Congruent:  (((2, 0), 0.40144850716092584), (0, 4))\n",
      "Comparing 1 & 3\n",
      "Congruent Pair:  ((0, 0), 0.20199003368640245)\n",
      "Current Most Congruent:  (((2, 0), 0.40144850716092584), (0, 4))\n",
      "Comparing 1 & 4\n",
      "Congruent Pair:  ((0, 0), 0.24040039331027865)\n",
      "Current Most Congruent:  (((2, 0), 0.40144850716092584), (0, 4))\n",
      "Comparing 2 & 3\n",
      "Congruent Pair:  ((0, 0), 0.5795273173607773)\n",
      "Current Most Congruent:  (((2, 0), 0.40144850716092584), (0, 4))\n",
      "Comparing 2 & 4\n",
      "Congruent Pair:  ((0, 0), 0.6659345030784607)\n",
      "Current Most Congruent:  (((0, 0), 0.5795273173607773), (2, 3))\n",
      "Comparing 3 & 4\n",
      "Congruent Pair:  ((0, 0), 0.6558879848280214)\n",
      "Current Most Congruent:  (((0, 0), 0.6659345030784607), (2, 4))\n",
      "Final Most Congruent Pair:  (((0, 0), 0.6659345030784607), (2, 4))\n",
      "(((0, 0), 0.6659345030784607), (2, 4))\n",
      "[0, 1, 3] dict_keys([2, 4])\n",
      "Comparing 0 & 2\n",
      "Congruent Pair:  ((0, 0), 0.37014722010928397)\n",
      "Current Most Congruent:  (((None, None), 0.0), (0, 0))\n",
      "Comparing 1 & 2\n",
      "Congruent Pair:  ((0, 0), 0.261977061977385)\n",
      "Current Most Congruent:  (((0, 0), 0.37014722010928397), (0, 2))\n",
      "Comparing 2 & 3\n",
      "Congruent Pair:  ((0, 0), 0.5795273173607773)\n",
      "Current Most Congruent:  (((0, 0), 0.37014722010928397), (0, 2))\n",
      "Comparing 0 & 4\n",
      "Congruent Pair:  ((2, 0), 0.40144850716092584)\n",
      "Current Most Congruent:  (((0, 0), 0.5795273173607773), (2, 3))\n",
      "Comparing 1 & 4\n",
      "Congruent Pair:  ((0, 0), 0.24040039331027865)\n",
      "Current Most Congruent:  (((0, 0), 0.5795273173607773), (2, 3))\n",
      "Comparing 3 & 4\n",
      "Congruent Pair:  ((0, 0), 0.6558879848280214)\n",
      "Current Most Congruent:  (((0, 0), 0.5795273173607773), (2, 3))\n",
      "Final Most Congruent Pair:  (((0, 0), 0.6558879848280214), (3, 4))\n",
      "[0, 1] dict_keys([2, 4, 3])\n",
      "Comparing 0 & 2\n",
      "Congruent Pair:  ((0, 0), 0.37014722010928397)\n",
      "Current Most Congruent:  (((None, None), 0.0), (0, 0))\n",
      "Comparing 1 & 2\n",
      "Congruent Pair:  ((0, 0), 0.261977061977385)\n",
      "Current Most Congruent:  (((0, 0), 0.37014722010928397), (0, 2))\n",
      "Comparing 0 & 4\n",
      "Congruent Pair:  ((2, 0), 0.40144850716092584)\n",
      "Current Most Congruent:  (((0, 0), 0.37014722010928397), (0, 2))\n",
      "Comparing 1 & 4\n",
      "Congruent Pair:  ((0, 0), 0.24040039331027865)\n",
      "Current Most Congruent:  (((2, 0), 0.40144850716092584), (0, 4))\n",
      "Comparing 0 & 3\n",
      "Congruent Pair:  ((2, 0), 0.23136763545781952)\n",
      "Current Most Congruent:  (((2, 0), 0.40144850716092584), (0, 4))\n",
      "Comparing 1 & 3\n",
      "Congruent Pair:  ((0, 0), 0.20199003368640245)\n",
      "Current Most Congruent:  (((2, 0), 0.40144850716092584), (0, 4))\n",
      "Final Most Congruent Pair:  (((2, 0), 0.40144850716092584), (0, 4))\n",
      "[1] dict_keys([2, 4, 3, 0])\n",
      "Comparing 1 & 2\n",
      "Congruent Pair:  ((0, 0), 0.261977061977385)\n",
      "Current Most Congruent:  (((None, None), 0.0), (0, 0))\n",
      "Comparing 1 & 4\n",
      "Congruent Pair:  ((0, 0), 0.24040039331027865)\n",
      "Current Most Congruent:  (((0, 0), 0.261977061977385), (1, 2))\n",
      "Comparing 1 & 3\n",
      "Congruent Pair:  ((0, 0), 0.20199003368640245)\n",
      "Current Most Congruent:  (((0, 0), 0.261977061977385), (1, 2))\n",
      "Comparing 0 & 1\n",
      "Congruent Pair:  ((0, 0), 0.25858797358032914)\n",
      "Current Most Congruent:  (((0, 0), 0.261977061977385), (1, 2))\n",
      "Final Most Congruent Pair:  (((0, 0), 0.261977061977385), (1, 2))\n",
      "[] dict_keys([2, 4, 3, 0, 1])\n",
      "{2: 0, 4: 0, 3: 0, 0: 2, 1: 0}\n",
      "2 0\n",
      "Mark Prescott Mark_Prescott 25674876\n",
      "4 0\n",
      "Nunthorpe Stakes Nunthorpe_Stakes 727606\n",
      "3 0\n",
      "Pivotal Pivotal_(horse) 39421721\n",
      "0 2\n",
      "YORK York_Racecourse 974198\n",
      "1 0\n",
      "England England 9316\n",
      "{'Mark Prescott': ('Mark_Prescott', 25674876), 'Nunthorpe Stakes': ('Nunthorpe_Stakes', 727606), 'Pivotal': ('Pivotal_(horse)', 39421721), 'YORK': ('York_Racecourse', 974198), 'England': ('England', 9316)}\n",
      "CPU times: user 31.3 ms, sys: 4.68 ms, total: 36 ms\n",
      "Wall time: 34.2 ms\n"
     ]
    }
   ],
   "source": [
    "%%time\n",
    "# Test out function\n",
    "sentence_id = 210\n",
    "congruent_predictions = get_congruent_predictions(sentence_id=sentence_id, dataframe=full_mentions, with_priors=True, verbose=True)\n",
    "print(congruent_predictions)"
   ]
  },
  {
   "cell_type": "code",
   "execution_count": 31,
   "metadata": {},
   "outputs": [
    {
     "data": {
      "text/html": [
       "<div>\n",
       "<style scoped>\n",
       "    .dataframe tbody tr th:only-of-type {\n",
       "        vertical-align: middle;\n",
       "    }\n",
       "\n",
       "    .dataframe tbody tr th {\n",
       "        vertical-align: top;\n",
       "    }\n",
       "\n",
       "    .dataframe thead th {\n",
       "        text-align: right;\n",
       "    }\n",
       "</style>\n",
       "<table border=\"1\" class=\"dataframe\">\n",
       "  <thead>\n",
       "    <tr style=\"text-align: right;\">\n",
       "      <th></th>\n",
       "      <th>mention</th>\n",
       "      <th>full_mention</th>\n",
       "      <th>wikipedia_URL</th>\n",
       "      <th>wikipedia_page_ID</th>\n",
       "      <th>wikipedia_title</th>\n",
       "      <th>sentence_id</th>\n",
       "      <th>doc_id</th>\n",
       "      <th>congruent_mentions</th>\n",
       "      <th>norm_full_mention</th>\n",
       "      <th>candidate_pool_page_ids</th>\n",
       "      <th>candidate_pool_item_ids</th>\n",
       "      <th>candidate_pool_titles</th>\n",
       "      <th>candidate_pool_priors</th>\n",
       "    </tr>\n",
       "  </thead>\n",
       "  <tbody>\n",
       "    <tr>\n",
       "      <th>0</th>\n",
       "      <td>B</td>\n",
       "      <td>YORK</td>\n",
       "      <td>http://en.wikipedia.org/wiki/York</td>\n",
       "      <td>34361.0</td>\n",
       "      <td>York</td>\n",
       "      <td>210</td>\n",
       "      <td>31</td>\n",
       "      <td>[YORK, England, Mark Prescott, Pivotal, Nuntho...</td>\n",
       "      <td>york</td>\n",
       "      <td>[34361, 134305, 974198, 992970, 2436511]</td>\n",
       "      <td>[42462, 821105, 8055519, 21008612, 994000]</td>\n",
       "      <td>[York, York,_Pennsylvania, York_Racecourse, Yo...</td>\n",
       "      <td>[0.5884024, 0.0486891, 0.0466228, 0.0396487, 0...</td>\n",
       "    </tr>\n",
       "    <tr>\n",
       "      <th>1</th>\n",
       "      <td>B</td>\n",
       "      <td>England</td>\n",
       "      <td>http://en.wikipedia.org/wiki/England</td>\n",
       "      <td>9316.0</td>\n",
       "      <td>England</td>\n",
       "      <td>210</td>\n",
       "      <td>31</td>\n",
       "      <td>[YORK, England, Mark Prescott, Pivotal, Nuntho...</td>\n",
       "      <td>england</td>\n",
       "      <td>[9316, 9904, 759125, 691024, 990422]</td>\n",
       "      <td>[21, 47762, 1321565, 378628, 3589698]</td>\n",
       "      <td>[England, England_national_football_team, Engl...</td>\n",
       "      <td>[0.7461579, 0.0736803, 0.0415712, 0.0328608, 0...</td>\n",
       "    </tr>\n",
       "    <tr>\n",
       "      <th>2</th>\n",
       "      <td>B</td>\n",
       "      <td>Mark Prescott</td>\n",
       "      <td>http://en.wikipedia.org/wiki/Mark_Prescott</td>\n",
       "      <td>25674876.0</td>\n",
       "      <td>Mark Prescott</td>\n",
       "      <td>210</td>\n",
       "      <td>31</td>\n",
       "      <td>[YORK, England, Mark Prescott, Pivotal, Nuntho...</td>\n",
       "      <td>mark prescott</td>\n",
       "      <td>[25674876]</td>\n",
       "      <td>[6769327]</td>\n",
       "      <td>[Mark_Prescott]</td>\n",
       "      <td>[1.0]</td>\n",
       "    </tr>\n",
       "    <tr>\n",
       "      <th>3</th>\n",
       "      <td>I</td>\n",
       "      <td>Mark Prescott</td>\n",
       "      <td>http://en.wikipedia.org/wiki/Mark_Prescott</td>\n",
       "      <td>25674876.0</td>\n",
       "      <td>Mark Prescott</td>\n",
       "      <td>210</td>\n",
       "      <td>31</td>\n",
       "      <td>[YORK, England, Mark Prescott, Pivotal, Nuntho...</td>\n",
       "      <td>mark prescott</td>\n",
       "      <td>[25674876]</td>\n",
       "      <td>[6769327]</td>\n",
       "      <td>[Mark_Prescott]</td>\n",
       "      <td>[1.0]</td>\n",
       "    </tr>\n",
       "    <tr>\n",
       "      <th>4</th>\n",
       "      <td>B</td>\n",
       "      <td>Pivotal</td>\n",
       "      <td>NaN</td>\n",
       "      <td>NaN</td>\n",
       "      <td>NaN</td>\n",
       "      <td>210</td>\n",
       "      <td>31</td>\n",
       "      <td>[YORK, England, Mark Prescott, Pivotal, Nuntho...</td>\n",
       "      <td>pivotal</td>\n",
       "      <td>[39421721, 39467663, 34382035, 25015249, 2768719]</td>\n",
       "      <td>[11331695, 16335785, 7180990, 5503397, 15148967]</td>\n",
       "      <td>[Pivotal_(horse), Pivotal_Software, Phases_of_...</td>\n",
       "      <td>[0.6304348, 0.2608696, 0.0217391, 0.0217391, 0...</td>\n",
       "    </tr>\n",
       "    <tr>\n",
       "      <th>5</th>\n",
       "      <td>B</td>\n",
       "      <td>Nunthorpe Stakes</td>\n",
       "      <td>http://en.wikipedia.org/wiki/Nunthorpe_Stakes</td>\n",
       "      <td>727606.0</td>\n",
       "      <td>Nunthorpe Stakes</td>\n",
       "      <td>210</td>\n",
       "      <td>31</td>\n",
       "      <td>[YORK, England, Mark Prescott, Pivotal, Nuntho...</td>\n",
       "      <td>nunthorpe stakes</td>\n",
       "      <td>[727606]</td>\n",
       "      <td>[3346442]</td>\n",
       "      <td>[Nunthorpe_Stakes]</td>\n",
       "      <td>[1.0]</td>\n",
       "    </tr>\n",
       "    <tr>\n",
       "      <th>6</th>\n",
       "      <td>I</td>\n",
       "      <td>Nunthorpe Stakes</td>\n",
       "      <td>http://en.wikipedia.org/wiki/Nunthorpe_Stakes</td>\n",
       "      <td>727606.0</td>\n",
       "      <td>Nunthorpe Stakes</td>\n",
       "      <td>210</td>\n",
       "      <td>31</td>\n",
       "      <td>[YORK, England, Mark Prescott, Pivotal, Nuntho...</td>\n",
       "      <td>nunthorpe stakes</td>\n",
       "      <td>[727606]</td>\n",
       "      <td>[3346442]</td>\n",
       "      <td>[Nunthorpe_Stakes]</td>\n",
       "      <td>[1.0]</td>\n",
       "    </tr>\n",
       "  </tbody>\n",
       "</table>\n",
       "</div>"
      ],
      "text/plain": [
       "  mention      full_mention                                  wikipedia_URL  \\\n",
       "0       B              YORK              http://en.wikipedia.org/wiki/York   \n",
       "1       B           England           http://en.wikipedia.org/wiki/England   \n",
       "2       B     Mark Prescott     http://en.wikipedia.org/wiki/Mark_Prescott   \n",
       "3       I     Mark Prescott     http://en.wikipedia.org/wiki/Mark_Prescott   \n",
       "4       B           Pivotal                                            NaN   \n",
       "5       B  Nunthorpe Stakes  http://en.wikipedia.org/wiki/Nunthorpe_Stakes   \n",
       "6       I  Nunthorpe Stakes  http://en.wikipedia.org/wiki/Nunthorpe_Stakes   \n",
       "\n",
       "   wikipedia_page_ID   wikipedia_title  sentence_id  doc_id  \\\n",
       "0            34361.0              York          210      31   \n",
       "1             9316.0           England          210      31   \n",
       "2         25674876.0     Mark Prescott          210      31   \n",
       "3         25674876.0     Mark Prescott          210      31   \n",
       "4                NaN               NaN          210      31   \n",
       "5           727606.0  Nunthorpe Stakes          210      31   \n",
       "6           727606.0  Nunthorpe Stakes          210      31   \n",
       "\n",
       "                                  congruent_mentions norm_full_mention  \\\n",
       "0  [YORK, England, Mark Prescott, Pivotal, Nuntho...              york   \n",
       "1  [YORK, England, Mark Prescott, Pivotal, Nuntho...           england   \n",
       "2  [YORK, England, Mark Prescott, Pivotal, Nuntho...     mark prescott   \n",
       "3  [YORK, England, Mark Prescott, Pivotal, Nuntho...     mark prescott   \n",
       "4  [YORK, England, Mark Prescott, Pivotal, Nuntho...           pivotal   \n",
       "5  [YORK, England, Mark Prescott, Pivotal, Nuntho...  nunthorpe stakes   \n",
       "6  [YORK, England, Mark Prescott, Pivotal, Nuntho...  nunthorpe stakes   \n",
       "\n",
       "                             candidate_pool_page_ids  \\\n",
       "0           [34361, 134305, 974198, 992970, 2436511]   \n",
       "1               [9316, 9904, 759125, 691024, 990422]   \n",
       "2                                         [25674876]   \n",
       "3                                         [25674876]   \n",
       "4  [39421721, 39467663, 34382035, 25015249, 2768719]   \n",
       "5                                           [727606]   \n",
       "6                                           [727606]   \n",
       "\n",
       "                            candidate_pool_item_ids  \\\n",
       "0        [42462, 821105, 8055519, 21008612, 994000]   \n",
       "1             [21, 47762, 1321565, 378628, 3589698]   \n",
       "2                                         [6769327]   \n",
       "3                                         [6769327]   \n",
       "4  [11331695, 16335785, 7180990, 5503397, 15148967]   \n",
       "5                                         [3346442]   \n",
       "6                                         [3346442]   \n",
       "\n",
       "                               candidate_pool_titles  \\\n",
       "0  [York, York,_Pennsylvania, York_Racecourse, Yo...   \n",
       "1  [England, England_national_football_team, Engl...   \n",
       "2                                    [Mark_Prescott]   \n",
       "3                                    [Mark_Prescott]   \n",
       "4  [Pivotal_(horse), Pivotal_Software, Phases_of_...   \n",
       "5                                 [Nunthorpe_Stakes]   \n",
       "6                                 [Nunthorpe_Stakes]   \n",
       "\n",
       "                               candidate_pool_priors  \n",
       "0  [0.5884024, 0.0486891, 0.0466228, 0.0396487, 0...  \n",
       "1  [0.7461579, 0.0736803, 0.0415712, 0.0328608, 0...  \n",
       "2                                              [1.0]  \n",
       "3                                              [1.0]  \n",
       "4  [0.6304348, 0.2608696, 0.0217391, 0.0217391, 0...  \n",
       "5                                              [1.0]  \n",
       "6                                              [1.0]  "
      ]
     },
     "execution_count": 31,
     "metadata": {},
     "output_type": "execute_result"
    }
   ],
   "source": [
    "# Define testing sentence_id\n",
    "single_sentence_df = full_mentions[full_mentions['sentence_id'] == sentence_id].reset_index(drop=True)\n",
    "single_sentence_df"
   ]
  },
  {
   "cell_type": "code",
   "execution_count": 32,
   "metadata": {},
   "outputs": [
    {
     "name": "stdout",
     "output_type": "stream",
     "text": [
      "['YORK', 'England', 'Mark Prescott', 'Pivotal', 'Nunthorpe Stakes']\n"
     ]
    }
   ],
   "source": [
    "print(single_sentence_df['congruent_mentions'][0])"
   ]
  },
  {
   "cell_type": "code",
   "execution_count": 33,
   "metadata": {},
   "outputs": [
    {
     "name": "stdout",
     "output_type": "stream",
     "text": [
      "Mark Prescott -> 25674876 =? 25674876\n",
      "Nunthorpe Stakes -> 727606 =? 727606\n",
      "Pivotal -> None =? 39421721\n",
      "YORK -> 34361 =? 974198\n",
      "England -> 9316 =? 9316\n",
      "*************************************************\n",
      "This congruent experiment is 75.0% accurate comparing page IDs.\n"
     ]
    }
   ],
   "source": [
    "accuracy = 0\n",
    "no_true = 0\n",
    "for mention, pred in congruent_predictions.items():\n",
    "    pred_page_id = pred[1]\n",
    "    try:\n",
    "        true_page_id = int(single_sentence_df[single_sentence_df['full_mention'] == mention]['wikipedia_page_ID'].values[0])\n",
    "    except ValueError:\n",
    "        true_page_id = None\n",
    "        no_true += 1\n",
    "    print(mention, \"->\", true_page_id, \"=?\", pred_page_id)\n",
    "    if single_sentence_df[single_sentence_df['full_mention'] == mention]['wikipedia_page_ID'].values[0] == pred_page_id:\n",
    "        accuracy += 1\n",
    "print(\"*************************************************\")\n",
    "print(f\"This congruent experiment is {round(accuracy/(len(congruent_predictions)-no_true)*100,3)}% accurate comparing page IDs.\")"
   ]
  },
  {
   "cell_type": "markdown",
   "metadata": {},
   "source": [
    "## Calculate Congruence Predictions and Assess Accuracy over Entire Dataframe\n",
    "\n",
    "We now apply the per-sentence structure over the whole ACY dataframe."
   ]
  },
  {
   "cell_type": "code",
   "execution_count": 34,
   "metadata": {},
   "outputs": [
    {
     "name": "stdout",
     "output_type": "stream",
     "text": [
      "We have 4,438 sentences to predict.\n"
     ]
    }
   ],
   "source": [
    "# Max sentence_id in dataframe\n",
    "max_sentence_id = len(full_mentions['sentence_id'].unique())\n",
    "print(\"We have {:,} sentences to predict.\".format(max_sentence_id))"
   ]
  },
  {
   "cell_type": "code",
   "execution_count": 35,
   "metadata": {},
   "outputs": [],
   "source": [
    "# Define function to calculate accuracy\n",
    "def calculate_accuracy(predictions, dataframe=full_mentions, verbose=False):\n",
    "    \"\"\"\n",
    "    Function to calculate accuracy over generated predictions\n",
    "    \"\"\"\n",
    "    \n",
    "    # Initialize tracker metrics\n",
    "    accurate_predictions = 0\n",
    "    accurate_present = 0\n",
    "    \n",
    "    # Iterate through each full mention\n",
    "    for row in tqdm(range(len(dataframe))):\n",
    "        mention_df = dataframe.iloc[row]\n",
    "        \n",
    "        # Save key values\n",
    "        sid = mention_df['sentence_id']\n",
    "        fm = mention_df['full_mention']\n",
    "        title = mention_df['wikipedia_title']\n",
    "        page_id = mention_df['wikipedia_page_ID']\n",
    "        candidate_pool_page_ids = mention_df['candidate_pool_page_ids']\n",
    "        \n",
    "        # Retrieve prediction\n",
    "        pred = predictions[sid][fm]\n",
    "        norm_pred_title = normalize_text(pred[0])\n",
    "        pred_page_id = pred[1]\n",
    "        \n",
    "        # Print comparison (useful for subset review)\n",
    "        if verbose:\n",
    "            print(fm, sid, \"||| True:\", title, page_id, \"==? Pred:\", norm_pred_title, pred_page_id, \"|||\",\\\n",
    "            norm_pred_title==title, pred_page_id==page_id, \" ||| Present? \", (page_id in candidate_pool_page_ids))\n",
    "        \n",
    "        # Compare true vs prediction\n",
    "        if page_id == pred_page_id:\n",
    "            accurate_predictions += 1\n",
    "        if page_id in candidate_pool_page_ids:\n",
    "            accurate_present += 1\n",
    "        \n",
    "    # Print results\n",
    "    print(\"------------------------------------------\")\n",
    "    print(\"Predictive Accuracy: {}%\".format(round(accurate_predictions/len(dataframe)*100, 3)))\n",
    "    print(\"Answer Present: {}%\".format(round(accurate_present/len(dataframe)*100, 3)))        "
   ]
  },
  {
   "cell_type": "markdown",
   "metadata": {},
   "source": [
    "### Congruence Accuracy without considering Prior Confidence\n",
    "\n",
    "We first experiment with calculating congruence accuracy without directly incorporating prior confidence. We still indirectly incorporate it since we took the Top N most confidence (highest ranked) values in Phase 3, but after creating the Top N list, we don't explicitly incorporate it in our calculation for final predictions."
   ]
  },
  {
   "cell_type": "code",
   "execution_count": 36,
   "metadata": {
    "scrolled": false
   },
   "outputs": [
    {
     "name": "stderr",
     "output_type": "stream",
     "text": [
      "100%|██████████| 4438/4438 [00:21<00:00, 207.31it/s]\n"
     ]
    }
   ],
   "source": [
    "# Iterate over whole dataframe to produce mention predictions for each sentence\n",
    "congruent_predictions_freq_nopr = {}\n",
    "for sid in tqdm(full_mentions['sentence_id'].unique()):\n",
    "    congruent_predictions_freq_nopr[sid] = get_congruent_predictions(sid, dataframe=full_mentions,\n",
    "                                                                     with_priors=False, verbose=False)"
   ]
  },
  {
   "cell_type": "code",
   "execution_count": 37,
   "metadata": {},
   "outputs": [
    {
     "name": "stderr",
     "output_type": "stream",
     "text": [
      "100%|██████████| 21810/21810 [00:02<00:00, 7400.13it/s]"
     ]
    },
    {
     "name": "stdout",
     "output_type": "stream",
     "text": [
      "------------------------------------------\n",
      "Predictive Accuracy: 42.985%\n",
      "Answer Present: 65.878%\n"
     ]
    },
    {
     "name": "stderr",
     "output_type": "stream",
     "text": [
      "\n"
     ]
    }
   ],
   "source": [
    "# Calculate accuracy\n",
    "calculate_accuracy(predictions=congruent_predictions_freq_nopr, dataframe=full_mentions, verbose=False)"
   ]
  },
  {
   "cell_type": "markdown",
   "metadata": {},
   "source": [
    "#### Calculate Accuracy only with Full Mentions with Known True\n",
    "\n",
    "This is a better reflection of our success."
   ]
  },
  {
   "cell_type": "code",
   "execution_count": 38,
   "metadata": {},
   "outputs": [
    {
     "name": "stdout",
     "output_type": "stream",
     "text": [
      "Full Mentions remaining:  15918\n"
     ]
    }
   ],
   "source": [
    "# Filter dataframe to only full mentions with known true values\n",
    "known_true_mentions = full_mentions[full_mentions['wikipedia_page_ID'].notnull()].reset_index()\n",
    "print(\"Full Mentions remaining: \", len(known_true_mentions))"
   ]
  },
  {
   "cell_type": "code",
   "execution_count": 39,
   "metadata": {},
   "outputs": [
    {
     "name": "stderr",
     "output_type": "stream",
     "text": [
      "100%|██████████| 15918/15918 [00:02<00:00, 7342.52it/s]"
     ]
    },
    {
     "name": "stdout",
     "output_type": "stream",
     "text": [
      "------------------------------------------\n",
      "Predictive Accuracy: 58.896%\n",
      "Answer Present: 90.263%\n"
     ]
    },
    {
     "name": "stderr",
     "output_type": "stream",
     "text": [
      "\n"
     ]
    }
   ],
   "source": [
    "# Calculate accuracy\n",
    "calculate_accuracy(predictions=congruent_predictions_freq_nopr, dataframe=known_true_mentions, verbose=False)"
   ]
  },
  {
   "cell_type": "code",
   "execution_count": 40,
   "metadata": {},
   "outputs": [
    {
     "name": "stderr",
     "output_type": "stream",
     "text": [
      "100%|██████████| 3/3 [00:00<00:00, 1898.73it/s]"
     ]
    },
    {
     "name": "stdout",
     "output_type": "stream",
     "text": [
      "Sentence ID: 930, Number of Mentions: 3\n",
      "------------------------------------------\n",
      "Angels 930 ||| True: Los Angeles Angels of Anaheim 1360083.0 ==? Pred: Los Angeles Angels 1360083 ||| False True  ||| Present?  True\n",
      "Kenny Rogers 930 ||| True: Kenny Rogers (baseball) 599018.0 ==? Pred: Kenny Rogers' perfect game 35639937 ||| False False  ||| Present?  True\n",
      "Kenny Rogers 930 ||| True: Kenny Rogers (baseball) 599018.0 ==? Pred: Kenny Rogers' perfect game 35639937 ||| False False  ||| Present?  True\n",
      "------------------------------------------\n",
      "Predictive Accuracy: 33.333%\n",
      "Answer Present: 100.0%\n"
     ]
    },
    {
     "name": "stderr",
     "output_type": "stream",
     "text": [
      "\n"
     ]
    }
   ],
   "source": [
    "# Filter to random sentence for manual review\n",
    "rand_sid = np.random.choice(known_true_mentions['sentence_id'])\n",
    "rand_sentence_df = known_true_mentions[known_true_mentions['sentence_id'] == rand_sid]\n",
    "print(f\"Sentence ID: {rand_sid}, Number of Mentions: {len(rand_sentence_df)}\")\n",
    "print(\"------------------------------------------\")\n",
    "\n",
    "# Calculate accuracy\n",
    "calculate_accuracy(predictions=congruent_predictions_freq_nopr, dataframe=rand_sentence_df, verbose=True)"
   ]
  },
  {
   "cell_type": "markdown",
   "metadata": {},
   "source": [
    "### Congruence Accuracy considering Prior Confidence\n",
    "\n",
    "Now, we directly incorporate prior confidence by combining it during the prediction process with our calculated congruent metric. This involves \"discounting\" congruence by the prior confidence we had in each combination's component candidates."
   ]
  },
  {
   "cell_type": "code",
   "execution_count": 41,
   "metadata": {
    "scrolled": false
   },
   "outputs": [
    {
     "name": "stderr",
     "output_type": "stream",
     "text": [
      "100%|██████████| 4438/4438 [00:26<00:00, 167.81it/s]\n"
     ]
    }
   ],
   "source": [
    "# Iterate over whole dataframe to produce mention predictions for each sentence\n",
    "congruent_predictions_freq_pr = {}\n",
    "for sid in tqdm(full_mentions['sentence_id'].unique()):\n",
    "    congruent_predictions_freq_pr[sid] = get_congruent_predictions(sid, dataframe=full_mentions,\n",
    "                                                                   with_priors=True, verbose=False)"
   ]
  },
  {
   "cell_type": "code",
   "execution_count": 42,
   "metadata": {},
   "outputs": [
    {
     "name": "stderr",
     "output_type": "stream",
     "text": [
      "100%|██████████| 21810/21810 [00:03<00:00, 7115.48it/s]"
     ]
    },
    {
     "name": "stdout",
     "output_type": "stream",
     "text": [
      "------------------------------------------\n",
      "Predictive Accuracy: 55.296%\n",
      "Answer Present: 65.878%\n"
     ]
    },
    {
     "name": "stderr",
     "output_type": "stream",
     "text": [
      "\n"
     ]
    }
   ],
   "source": [
    "# Calculate accuracy\n",
    "calculate_accuracy(predictions=congruent_predictions_freq_pr, dataframe=full_mentions, verbose=False)"
   ]
  },
  {
   "cell_type": "markdown",
   "metadata": {},
   "source": [
    "#### Calculate Accuracy only with Full Mentions with Known True"
   ]
  },
  {
   "cell_type": "code",
   "execution_count": 43,
   "metadata": {},
   "outputs": [
    {
     "name": "stderr",
     "output_type": "stream",
     "text": [
      "100%|██████████| 15918/15918 [00:02<00:00, 7066.07it/s]"
     ]
    },
    {
     "name": "stdout",
     "output_type": "stream",
     "text": [
      "------------------------------------------\n",
      "Predictive Accuracy: 75.763%\n",
      "Answer Present: 90.263%\n"
     ]
    },
    {
     "name": "stderr",
     "output_type": "stream",
     "text": [
      "\n"
     ]
    }
   ],
   "source": [
    "# Calculate accuracy\n",
    "calculate_accuracy(predictions=congruent_predictions_freq_pr, dataframe=known_true_mentions, verbose=False)"
   ]
  },
  {
   "cell_type": "code",
   "execution_count": 44,
   "metadata": {},
   "outputs": [
    {
     "name": "stderr",
     "output_type": "stream",
     "text": [
      "100%|██████████| 10/10 [00:00<00:00, 1643.60it/s]"
     ]
    },
    {
     "name": "stdout",
     "output_type": "stream",
     "text": [
      "Sentence ID: 5436, Number of Mentions: 10\n",
      "------------------------------------------\n",
      "Ajax 5436 ||| True: AFC Ajax 2273.0 ==? Pred: AFC Ajax 2273 ||| True True  ||| Present?  True\n",
      "AZ Alkmaar 5436 ||| True: AZ (football club) 2289.0 ==? Pred: AZ Alkmaar 2289 ||| False True  ||| Present?  True\n",
      "AZ Alkmaar 5436 ||| True: AZ (football club) 2289.0 ==? Pred: AZ Alkmaar 2289 ||| False True  ||| Present?  True\n",
      "Feyenoord 5436 ||| True: Feyenoord 47707.0 ==? Pred: Feyenoord 47707 ||| True True  ||| Present?  True\n",
      "UEFA Cup 5436 ||| True: 1996–97 UEFA Cup 4918282.0 ==? Pred: UEFA Europa League 232175 ||| False False  ||| Present?  False\n",
      "UEFA Cup 5436 ||| True: 1996–97 UEFA Cup 4918282.0 ==? Pred: UEFA Europa League 232175 ||| False False  ||| Present?  False\n",
      "Tenerife 5436 ||| True: CD Tenerife 1769413.0 ==? Pred: Tenerife 269223 ||| False False  ||| Present?  True\n",
      "De Graafschap Doetinchem 5436 ||| True: De Graafschap 1218784.0 ==? Pred: None None ||| False False  ||| Present?  False\n",
      "De Graafschap Doetinchem 5436 ||| True: De Graafschap 1218784.0 ==? Pred: None None ||| False False  ||| Present?  False\n",
      "De Graafschap Doetinchem 5436 ||| True: De Graafschap 1218784.0 ==? Pred: None None ||| False False  ||| Present?  False\n",
      "------------------------------------------\n",
      "Predictive Accuracy: 40.0%\n",
      "Answer Present: 50.0%\n"
     ]
    },
    {
     "name": "stderr",
     "output_type": "stream",
     "text": [
      "\n"
     ]
    }
   ],
   "source": [
    "# Filter to random sentence for manual review\n",
    "rand_sid = np.random.choice(known_true_mentions['sentence_id'])\n",
    "rand_sentence_df = known_true_mentions[known_true_mentions['sentence_id'] == rand_sid]\n",
    "print(f\"Sentence ID: {rand_sid}, Number of Mentions: {len(rand_sentence_df)}\")\n",
    "print(\"------------------------------------------\")\n",
    "\n",
    "# Calculate accuracy\n",
    "calculate_accuracy(predictions=congruent_predictions_freq_pr, dataframe=rand_sentence_df, verbose=True)"
   ]
  },
  {
   "cell_type": "markdown",
   "metadata": {},
   "source": [
    "**We achieved known-true predictive accucracy of 75.763, which is a 3.731% performance improvement using congruence.**"
   ]
  },
  {
   "cell_type": "code",
   "execution_count": null,
   "metadata": {},
   "outputs": [],
   "source": []
  },
  {
   "cell_type": "code",
   "execution_count": null,
   "metadata": {},
   "outputs": [],
   "source": []
  },
  {
   "cell_type": "code",
   "execution_count": null,
   "metadata": {},
   "outputs": [],
   "source": []
  },
  {
   "cell_type": "code",
   "execution_count": null,
   "metadata": {},
   "outputs": [],
   "source": []
  },
  {
   "cell_type": "code",
   "execution_count": null,
   "metadata": {},
   "outputs": [],
   "source": []
  },
  {
   "cell_type": "markdown",
   "metadata": {},
   "source": [
    "## Calculate with *Popularity* Predictions - Known True Only\n",
    "\n",
    "We also want to see how much of an impact congruence can have on candidate pools produced via page popularity anchor link statistics. These are considered less effective because of large skews that can happen if a word is linked to a very popular page just a single time. Our hypothesis is that congruence may have a larger impact on popularity mentions and to assess this, we compare accuracy with and without prior incorporation for known trues only."
   ]
  },
  {
   "cell_type": "code",
   "execution_count": 45,
   "metadata": {
    "scrolled": false
   },
   "outputs": [
    {
     "data": {
      "text/html": [
       "<div>\n",
       "<style scoped>\n",
       "    .dataframe tbody tr th:only-of-type {\n",
       "        vertical-align: middle;\n",
       "    }\n",
       "\n",
       "    .dataframe tbody tr th {\n",
       "        vertical-align: top;\n",
       "    }\n",
       "\n",
       "    .dataframe thead th {\n",
       "        text-align: right;\n",
       "    }\n",
       "</style>\n",
       "<table border=\"1\" class=\"dataframe\">\n",
       "  <thead>\n",
       "    <tr style=\"text-align: right;\">\n",
       "      <th></th>\n",
       "      <th>mention</th>\n",
       "      <th>full_mention</th>\n",
       "      <th>wikipedia_URL</th>\n",
       "      <th>wikipedia_page_ID</th>\n",
       "      <th>wikipedia_title</th>\n",
       "      <th>sentence_id</th>\n",
       "      <th>doc_id</th>\n",
       "      <th>congruent_mentions</th>\n",
       "      <th>norm_full_mention</th>\n",
       "      <th>candidate_pool_page_ids</th>\n",
       "      <th>candidate_pool_item_ids</th>\n",
       "      <th>candidate_pool_titles</th>\n",
       "      <th>candidate_pool_priors</th>\n",
       "    </tr>\n",
       "  </thead>\n",
       "  <tbody>\n",
       "    <tr>\n",
       "      <th>0</th>\n",
       "      <td>B</td>\n",
       "      <td>EU</td>\n",
       "      <td>NaN</td>\n",
       "      <td>NaN</td>\n",
       "      <td>NaN</td>\n",
       "      <td>0</td>\n",
       "      <td>0</td>\n",
       "      <td>['EU', 'German', 'British']</td>\n",
       "      <td>eu</td>\n",
       "      <td>[9317, 9239, 9891, 9472, 10890716]</td>\n",
       "      <td>[458, 46, 45003, 4916, 185441]</td>\n",
       "      <td>['European_Union', 'Europe', 'Entropy', 'Euro'...</td>\n",
       "      <td>[0.2245141, 0.2015168, 0.0965482, 0.0768826, 0...</td>\n",
       "    </tr>\n",
       "    <tr>\n",
       "      <th>1</th>\n",
       "      <td>B</td>\n",
       "      <td>German</td>\n",
       "      <td>http://en.wikipedia.org/wiki/Germany</td>\n",
       "      <td>11867.0</td>\n",
       "      <td>Germany</td>\n",
       "      <td>0</td>\n",
       "      <td>0</td>\n",
       "      <td>['EU', 'German', 'British']</td>\n",
       "      <td>german</td>\n",
       "      <td>[11867, 27318, 21148, 21212, 26964606]</td>\n",
       "      <td>[183, 334, 55, 7318, 40]</td>\n",
       "      <td>['Germany', 'Singapore', 'Netherlands', 'Nazi_...</td>\n",
       "      <td>[0.0558084, 0.0548498, 0.044104, 0.0268639, 0....</td>\n",
       "    </tr>\n",
       "    <tr>\n",
       "      <th>2</th>\n",
       "      <td>B</td>\n",
       "      <td>British</td>\n",
       "      <td>http://en.wikipedia.org/wiki/United_Kingdom</td>\n",
       "      <td>31717.0</td>\n",
       "      <td>United Kingdom</td>\n",
       "      <td>0</td>\n",
       "      <td>0</td>\n",
       "      <td>['EU', 'German', 'British']</td>\n",
       "      <td>british</td>\n",
       "      <td>[3434750, 31717, 19344654, 26061, 8569916]</td>\n",
       "      <td>[30, 145, 9531, 172771, 1860]</td>\n",
       "      <td>['United_States', 'United_Kingdom', 'BBC', 'Ro...</td>\n",
       "      <td>[0.1243038, 0.0660245, 0.0317426, 0.0291264, 0...</td>\n",
       "    </tr>\n",
       "    <tr>\n",
       "      <th>3</th>\n",
       "      <td>B</td>\n",
       "      <td>Peter Blackburn</td>\n",
       "      <td>NaN</td>\n",
       "      <td>NaN</td>\n",
       "      <td>NaN</td>\n",
       "      <td>1</td>\n",
       "      <td>0</td>\n",
       "      <td>['Peter Blackburn', 'BRUSSELS', 'European Comm...</td>\n",
       "      <td>peter blackburn</td>\n",
       "      <td>[56783206, 56873217, 9643132]</td>\n",
       "      <td>[2073954, 26634508, 7172840]</td>\n",
       "      <td>['Peter_Blackburn_(badminton)', 'Peter_Blackbu...</td>\n",
       "      <td>[0.6296296, 0.3703704, 0.0]</td>\n",
       "    </tr>\n",
       "    <tr>\n",
       "      <th>4</th>\n",
       "      <td>I</td>\n",
       "      <td>Peter Blackburn</td>\n",
       "      <td>NaN</td>\n",
       "      <td>NaN</td>\n",
       "      <td>NaN</td>\n",
       "      <td>1</td>\n",
       "      <td>0</td>\n",
       "      <td>['Peter Blackburn', 'BRUSSELS', 'European Comm...</td>\n",
       "      <td>peter blackburn</td>\n",
       "      <td>[56783206, 56873217, 9643132]</td>\n",
       "      <td>[2073954, 26634508, 7172840]</td>\n",
       "      <td>['Peter_Blackburn_(badminton)', 'Peter_Blackbu...</td>\n",
       "      <td>[0.6296296, 0.3703704, 0.0]</td>\n",
       "    </tr>\n",
       "  </tbody>\n",
       "</table>\n",
       "</div>"
      ],
      "text/plain": [
       "  mention     full_mention                                wikipedia_URL  \\\n",
       "0       B               EU                                          NaN   \n",
       "1       B           German         http://en.wikipedia.org/wiki/Germany   \n",
       "2       B          British  http://en.wikipedia.org/wiki/United_Kingdom   \n",
       "3       B  Peter Blackburn                                          NaN   \n",
       "4       I  Peter Blackburn                                          NaN   \n",
       "\n",
       "   wikipedia_page_ID wikipedia_title  sentence_id  doc_id  \\\n",
       "0                NaN             NaN            0       0   \n",
       "1            11867.0         Germany            0       0   \n",
       "2            31717.0  United Kingdom            0       0   \n",
       "3                NaN             NaN            1       0   \n",
       "4                NaN             NaN            1       0   \n",
       "\n",
       "                                  congruent_mentions norm_full_mention  \\\n",
       "0                        ['EU', 'German', 'British']                eu   \n",
       "1                        ['EU', 'German', 'British']            german   \n",
       "2                        ['EU', 'German', 'British']           british   \n",
       "3  ['Peter Blackburn', 'BRUSSELS', 'European Comm...   peter blackburn   \n",
       "4  ['Peter Blackburn', 'BRUSSELS', 'European Comm...   peter blackburn   \n",
       "\n",
       "                      candidate_pool_page_ids         candidate_pool_item_ids  \\\n",
       "0          [9317, 9239, 9891, 9472, 10890716]  [458, 46, 45003, 4916, 185441]   \n",
       "1      [11867, 27318, 21148, 21212, 26964606]        [183, 334, 55, 7318, 40]   \n",
       "2  [3434750, 31717, 19344654, 26061, 8569916]   [30, 145, 9531, 172771, 1860]   \n",
       "3               [56783206, 56873217, 9643132]    [2073954, 26634508, 7172840]   \n",
       "4               [56783206, 56873217, 9643132]    [2073954, 26634508, 7172840]   \n",
       "\n",
       "                               candidate_pool_titles  \\\n",
       "0  ['European_Union', 'Europe', 'Entropy', 'Euro'...   \n",
       "1  ['Germany', 'Singapore', 'Netherlands', 'Nazi_...   \n",
       "2  ['United_States', 'United_Kingdom', 'BBC', 'Ro...   \n",
       "3  ['Peter_Blackburn_(badminton)', 'Peter_Blackbu...   \n",
       "4  ['Peter_Blackburn_(badminton)', 'Peter_Blackbu...   \n",
       "\n",
       "                               candidate_pool_priors  \n",
       "0  [0.2245141, 0.2015168, 0.0965482, 0.0768826, 0...  \n",
       "1  [0.0558084, 0.0548498, 0.044104, 0.0268639, 0....  \n",
       "2  [0.1243038, 0.0660245, 0.0317426, 0.0291264, 0...  \n",
       "3                        [0.6296296, 0.3703704, 0.0]  \n",
       "4                        [0.6296296, 0.3703704, 0.0]  "
      ]
     },
     "execution_count": 45,
     "metadata": {},
     "output_type": "execute_result"
    }
   ],
   "source": [
    "# Load data\n",
    "full_mentions_pop = pd.read_csv(os.path.join(preds_path, \"anchortext_popularity.csv\"), delimiter=\",\")\n",
    "full_mentions_pop.head(5)"
   ]
  },
  {
   "cell_type": "code",
   "execution_count": 46,
   "metadata": {},
   "outputs": [
    {
     "name": "stdout",
     "output_type": "stream",
     "text": [
      "Before ['Peter Blackburn', 'BRUSSELS', 'European Commission', 'German', 'British']\n",
      "After ['Peter Blackburn', 'BRUSSELS', 'European Commission', 'German', 'British']\n",
      "Before [56783206, 56873217, 9643132]\n",
      "After [56783206, 56873217, 9643132]\n",
      "Before [2073954, 26634508, 7172840]\n",
      "After [2073954, 26634508, 7172840]\n",
      "Before ['Peter_Blackburn_(badminton)', 'Peter_Blackburn_(MP)', 'Peter_Blackburn_(bishop)']\n",
      "After ['Peter_Blackburn_(badminton)', 'Peter_Blackburn_(MP)', 'Peter_Blackburn_(bishop)']\n",
      "Before [0.6296296, 0.3703704, 0.0]\n",
      "After [0.6296296, 0.3703704, 0.0]\n",
      "CPU times: user 291 ms, sys: 15.4 ms, total: 307 ms\n",
      "Wall time: 307 ms\n"
     ]
    }
   ],
   "source": [
    "%%time\n",
    "\n",
    "### Apply defined function to entire dataframe for all candidate pool columns\n",
    "\n",
    "column = 'congruent_mentions'\n",
    "print(\"Before\", full_mentions_pop[column][3])\n",
    "parsed_candidate_pool = full_mentions_pop[column].apply(parse_list_string, value_type=str)\n",
    "full_mentions_pop[column] = parsed_candidate_pool\n",
    "print(\"After\", full_mentions_pop[column][3])\n",
    "\n",
    "column = 'candidate_pool_page_ids'\n",
    "print(\"Before\", full_mentions_pop[column][3])\n",
    "parsed_candidate_pool = full_mentions_pop[column].apply(parse_list_string, value_type=int)\n",
    "full_mentions_pop[column] = parsed_candidate_pool\n",
    "print(\"After\", full_mentions_pop[column][3])\n",
    "\n",
    "\n",
    "column = 'candidate_pool_item_ids'\n",
    "print(\"Before\", full_mentions_pop[column][3])\n",
    "parsed_candidate_pool = full_mentions_pop[column].apply(parse_list_string, value_type=int)\n",
    "full_mentions_pop[column] = parsed_candidate_pool\n",
    "print(\"After\", full_mentions_pop[column][3])\n",
    "\n",
    "\n",
    "column = 'candidate_pool_titles'\n",
    "print(\"Before\", full_mentions_pop[column][3])\n",
    "parsed_candidate_pool = full_mentions_pop[column].apply(parse_list_string, value_type=str)\n",
    "full_mentions_pop[column] = parsed_candidate_pool\n",
    "print(\"After\", full_mentions_pop[column][3])\n",
    "\n",
    "column = 'candidate_pool_priors'\n",
    "print(\"Before\", full_mentions_pop[column][3])\n",
    "parsed_candidate_pool = full_mentions_pop[column].apply(parse_list_string, value_type=float)\n",
    "full_mentions_pop[column] = parsed_candidate_pool\n",
    "print(\"After\", full_mentions_pop[column][3])"
   ]
  },
  {
   "cell_type": "markdown",
   "metadata": {},
   "source": [
    "### Congruence Accuracy without considering Prior Confidence\n",
    "\n",
    "We first experiment with calculating congruence accuracy without directly incorporating prior confidence. We still indirectly incorporate it since we took the Top N most confidence (highest ranked) values in Phase 3, but after creating the Top N list, we don't explicitly incorporate it in our calculation for final predictions."
   ]
  },
  {
   "cell_type": "code",
   "execution_count": 47,
   "metadata": {
    "scrolled": false
   },
   "outputs": [
    {
     "name": "stderr",
     "output_type": "stream",
     "text": [
      "100%|██████████| 4438/4438 [00:21<00:00, 203.77it/s]\n"
     ]
    }
   ],
   "source": [
    "# Iterate over whole dataframe to produce mention predictions for each sentence\n",
    "congruent_predictions_pop_nopr = {}\n",
    "for sid in tqdm(full_mentions_pop['sentence_id'].unique()):\n",
    "    congruent_predictions_pop_nopr[sid] = get_congruent_predictions(sid, dataframe=full_mentions_pop,\n",
    "                                                                     with_priors=False, verbose=False)"
   ]
  },
  {
   "cell_type": "code",
   "execution_count": 48,
   "metadata": {},
   "outputs": [
    {
     "name": "stdout",
     "output_type": "stream",
     "text": [
      "Full Mentions remaining:  15918\n"
     ]
    }
   ],
   "source": [
    "# Filter dataframe to only full mentions with known true values\n",
    "known_true_mentions_pop = full_mentions_pop[full_mentions_pop['wikipedia_page_ID'].notnull()].reset_index()\n",
    "print(\"Full Mentions remaining: \", len(known_true_mentions_pop))"
   ]
  },
  {
   "cell_type": "code",
   "execution_count": 49,
   "metadata": {},
   "outputs": [
    {
     "name": "stderr",
     "output_type": "stream",
     "text": [
      "100%|██████████| 15918/15918 [00:02<00:00, 7208.06it/s]"
     ]
    },
    {
     "name": "stdout",
     "output_type": "stream",
     "text": [
      "------------------------------------------\n",
      "Predictive Accuracy: 58.443%\n",
      "Answer Present: 85.997%\n"
     ]
    },
    {
     "name": "stderr",
     "output_type": "stream",
     "text": [
      "\n"
     ]
    }
   ],
   "source": [
    "# Calculate accuracy\n",
    "calculate_accuracy(predictions=congruent_predictions_pop_nopr, dataframe=known_true_mentions_pop, verbose=False)"
   ]
  },
  {
   "cell_type": "code",
   "execution_count": 50,
   "metadata": {
    "scrolled": true
   },
   "outputs": [
    {
     "name": "stderr",
     "output_type": "stream",
     "text": [
      "100%|██████████| 7/7 [00:00<00:00, 1496.29it/s]"
     ]
    },
    {
     "name": "stdout",
     "output_type": "stream",
     "text": [
      "Sentence ID: 4310, Number of Mentions: 7\n",
      "------------------------------------------\n",
      "S. Waugh 4310 ||| True: Steve Waugh 156123.0 ==? Pred: None None ||| False False  ||| Present?  False\n",
      "S. Waugh 4310 ||| True: Steve Waugh 156123.0 ==? Pred: None None ||| False False  ||| Present?  False\n",
      "Law 4310 ||| True: Stuart Law 2047175.0 ==? Pred: Ten Commandments 2539671 ||| False False  ||| Present?  False\n",
      "McGrath 4310 ||| True: Glenn McGrath 423488.0 ==? Pred: Glenn McGrath 423488 ||| True True  ||| Present?  True\n",
      "Gillespie 4310 ||| True: Jason Gillespie 409561.0 ==? Pred: Jason Gillespie 409561 ||| True True  ||| Present?  True\n",
      "Lehmann 4310 ||| True: Darren Lehmann 994713.0 ==? Pred: Darren Lehmann 994713 ||| True True  ||| Present?  True\n",
      "Bevan 4310 ||| True: Michael Bevan 284900.0 ==? Pred: Bevan Docherty 947381 ||| False False  ||| Present?  False\n",
      "------------------------------------------\n",
      "Predictive Accuracy: 42.857%\n",
      "Answer Present: 42.857%\n"
     ]
    },
    {
     "name": "stderr",
     "output_type": "stream",
     "text": [
      "\n"
     ]
    }
   ],
   "source": [
    "# Filter to random sentence for manual review\n",
    "rand_sid = np.random.choice(known_true_mentions_pop['sentence_id'])\n",
    "rand_sentence_df = known_true_mentions_pop[known_true_mentions_pop['sentence_id'] == rand_sid]\n",
    "print(f\"Sentence ID: {rand_sid}, Number of Mentions: {len(rand_sentence_df)}\")\n",
    "print(\"------------------------------------------\")\n",
    "\n",
    "# Calculate accuracy\n",
    "calculate_accuracy(predictions=congruent_predictions_pop_nopr, dataframe=rand_sentence_df, verbose=True)"
   ]
  },
  {
   "cell_type": "markdown",
   "metadata": {},
   "source": [
    "### Congruence Accuracy considering Prior Confidence\n",
    "\n",
    "Now, we directly incorporate prior confidence by combining it during the prediction process with our calculated congruent metric. This involves \"discounting\" congruence by the prior confidence we had in each combination's component candidates."
   ]
  },
  {
   "cell_type": "code",
   "execution_count": 51,
   "metadata": {
    "scrolled": false
   },
   "outputs": [
    {
     "name": "stderr",
     "output_type": "stream",
     "text": [
      "100%|██████████| 4438/4438 [00:33<00:00, 131.10it/s]\n"
     ]
    }
   ],
   "source": [
    "# Iterate over whole dataframe to produce mention predictions for each sentence\n",
    "congruent_predictions_pop_pr = {}\n",
    "for sid in tqdm(full_mentions_pop['sentence_id'].unique()):\n",
    "    congruent_predictions_pop_pr[sid] = get_congruent_predictions(sid, dataframe=full_mentions_pop,\n",
    "                                                                   with_priors=True, verbose=False)"
   ]
  },
  {
   "cell_type": "code",
   "execution_count": 52,
   "metadata": {},
   "outputs": [
    {
     "name": "stderr",
     "output_type": "stream",
     "text": [
      "100%|██████████| 15918/15918 [00:02<00:00, 7046.62it/s]"
     ]
    },
    {
     "name": "stdout",
     "output_type": "stream",
     "text": [
      "------------------------------------------\n",
      "Predictive Accuracy: 64.851%\n",
      "Answer Present: 85.997%\n"
     ]
    },
    {
     "name": "stderr",
     "output_type": "stream",
     "text": [
      "\n"
     ]
    }
   ],
   "source": [
    "# Calculate accuracy\n",
    "calculate_accuracy(predictions=congruent_predictions_pop_pr, dataframe=known_true_mentions_pop, verbose=False)"
   ]
  },
  {
   "cell_type": "code",
   "execution_count": 53,
   "metadata": {},
   "outputs": [
    {
     "name": "stderr",
     "output_type": "stream",
     "text": [
      "100%|██████████| 49/49 [00:00<00:00, 1627.04it/s]"
     ]
    },
    {
     "name": "stdout",
     "output_type": "stream",
     "text": [
      "Sentence ID: 1545, Number of Mentions: 49\n",
      "------------------------------------------\n",
      "AMSTERDAM 1545 ||| True: Amsterdam 844.0 ==? Pred: Amsterdam 844 ||| True True  ||| Present?  True\n",
      "Dutch 1545 ||| True: Netherlands 21148.0 ==? Pred: Netherlands national football team 9647657 ||| False False  ||| Present?  True\n",
      "RKC Waalwijk 1545 ||| True: RKC Waalwijk 1107824.0 ==? Pred: RKC Waalwijk 1107824 ||| True True  ||| Present?  True\n",
      "RKC Waalwijk 1545 ||| True: RKC Waalwijk 1107824.0 ==? Pred: RKC Waalwijk 1107824 ||| True True  ||| Present?  True\n",
      "Willem II Tilburg 1545 ||| True: Willem II (football club) 834275.0 ==? Pred: Willem II (football club) 834275 ||| True True  ||| Present?  True\n",
      "Willem II Tilburg 1545 ||| True: Willem II (football club) 834275.0 ==? Pred: Willem II (football club) 834275 ||| True True  ||| Present?  True\n",
      "Willem II Tilburg 1545 ||| True: Willem II (football club) 834275.0 ==? Pred: Willem II (football club) 834275 ||| True True  ||| Present?  True\n",
      "Fortuna Sittard 1545 ||| True: Fortuna Sittard 1336325.0 ==? Pred: Fortuna Sittard 1336325 ||| True True  ||| Present?  True\n",
      "Fortuna Sittard 1545 ||| True: Fortuna Sittard 1336325.0 ==? Pred: Fortuna Sittard 1336325 ||| True True  ||| Present?  True\n",
      "NAC Breda 1545 ||| True: NAC Breda 505173.0 ==? Pred: NAC Breda 505173 ||| True True  ||| Present?  True\n",
      "NAC Breda 1545 ||| True: NAC Breda 505173.0 ==? Pred: NAC Breda 505173 ||| True True  ||| Present?  True\n",
      "Sparta Rotterdam 1545 ||| True: Sparta Rotterdam 79818.0 ==? Pred: Sparta Rotterdam 79818 ||| True True  ||| Present?  True\n",
      "Sparta Rotterdam 1545 ||| True: Sparta Rotterdam 79818.0 ==? Pred: Sparta Rotterdam 79818 ||| True True  ||| Present?  True\n",
      "Heerenveen 1545 ||| True: SC Heerenveen 745757.0 ==? Pred: SC Heerenveen 745757 ||| True True  ||| Present?  True\n",
      "Ajax Amsterdam 1545 ||| True: AFC Ajax 2273.0 ==? Pred: AFC Ajax 2273 ||| True True  ||| Present?  True\n",
      "Ajax Amsterdam 1545 ||| True: AFC Ajax 2273.0 ==? Pred: AFC Ajax 2273 ||| True True  ||| Present?  True\n",
      "Fortuna Sittard 1545 ||| True: Fortuna Sittard 1336325.0 ==? Pred: Fortuna Sittard 1336325 ||| True True  ||| Present?  True\n",
      "Fortuna Sittard 1545 ||| True: Fortuna Sittard 1336325.0 ==? Pred: Fortuna Sittard 1336325 ||| True True  ||| Present?  True\n",
      "PSV Eindhoven 1545 ||| True: PSV Eindhoven 79820.0 ==? Pred: PSV Eindhoven 79820 ||| True True  ||| Present?  True\n",
      "PSV Eindhoven 1545 ||| True: PSV Eindhoven 79820.0 ==? Pred: PSV Eindhoven 79820 ||| True True  ||| Present?  True\n",
      "Twente Enschede 1545 ||| True: FC Twente 800033.0 ==? Pred: FC Twente 800033 ||| True True  ||| Present?  True\n",
      "Twente Enschede 1545 ||| True: FC Twente 800033.0 ==? Pred: FC Twente 800033 ||| True True  ||| Present?  True\n",
      "Vitesse Arnhem 1545 ||| True: Vitesse 834256.0 ==? Pred: SBV Vitesse 834256 ||| False True  ||| Present?  True\n",
      "Vitesse Arnhem 1545 ||| True: Vitesse 834256.0 ==? Pred: SBV Vitesse 834256 ||| False True  ||| Present?  True\n",
      "Heerenveen 1545 ||| True: SC Heerenveen 745757.0 ==? Pred: SC Heerenveen 745757 ||| True True  ||| Present?  True\n",
      "NAC Breda 1545 ||| True: NAC Breda 505173.0 ==? Pred: NAC Breda 505173 ||| True True  ||| Present?  True\n",
      "NAC Breda 1545 ||| True: NAC Breda 505173.0 ==? Pred: NAC Breda 505173 ||| True True  ||| Present?  True\n",
      "Ajax Amsterdam 1545 ||| True: AFC Ajax 2273.0 ==? Pred: AFC Ajax 2273 ||| True True  ||| Present?  True\n",
      "Ajax Amsterdam 1545 ||| True: AFC Ajax 2273.0 ==? Pred: AFC Ajax 2273 ||| True True  ||| Present?  True\n",
      "Utrecht 1545 ||| True: FC Utrecht 834226.0 ==? Pred: FC Utrecht 834226 ||| True True  ||| Present?  True\n",
      "Feyenoord Rotterdam 1545 ||| True: Feyenoord 47707.0 ==? Pred: Feyenoord 47707 ||| True True  ||| Present?  True\n",
      "Feyenoord Rotterdam 1545 ||| True: Feyenoord 47707.0 ==? Pred: Feyenoord 47707 ||| True True  ||| Present?  True\n",
      "Roda JC Kerkrade 1545 ||| True: Roda JC 834196.0 ==? Pred: Roda JC Kerkrade 834196 ||| False True  ||| Present?  True\n",
      "Roda JC Kerkrade 1545 ||| True: Roda JC 834196.0 ==? Pred: Roda JC Kerkrade 834196 ||| False True  ||| Present?  True\n",
      "Roda JC Kerkrade 1545 ||| True: Roda JC 834196.0 ==? Pred: Roda JC Kerkrade 834196 ||| False True  ||| Present?  True\n",
      "Volendam 1545 ||| True: FC Volendam 2202202.0 ==? Pred: FC Volendam 2202202 ||| True True  ||| Present?  True\n",
      "Groningen 1545 ||| True: FC Groningen 1103112.0 ==? Pred: FC Groningen 1103112 ||| True True  ||| Present?  True\n",
      "RKC Waalwijk 1545 ||| True: RKC Waalwijk 1107824.0 ==? Pred: RKC Waalwijk 1107824 ||| True True  ||| Present?  True\n",
      "RKC Waalwijk 1545 ||| True: RKC Waalwijk 1107824.0 ==? Pred: RKC Waalwijk 1107824 ||| True True  ||| Present?  True\n",
      "Sparta Rotterdam 1545 ||| True: Sparta Rotterdam 79818.0 ==? Pred: Sparta Rotterdam 79818 ||| True True  ||| Present?  True\n",
      "Sparta Rotterdam 1545 ||| True: Sparta Rotterdam 79818.0 ==? Pred: Sparta Rotterdam 79818 ||| True True  ||| Present?  True\n",
      "Willem II Tilburg 1545 ||| True: Willem II (football club) 834275.0 ==? Pred: Willem II (football club) 834275 ||| True True  ||| Present?  True\n",
      "Willem II Tilburg 1545 ||| True: Willem II (football club) 834275.0 ==? Pred: Willem II (football club) 834275 ||| True True  ||| Present?  True\n",
      "Willem II Tilburg 1545 ||| True: Willem II (football club) 834275.0 ==? Pred: Willem II (football club) 834275 ||| True True  ||| Present?  True\n",
      "AZ Alkmaar 1545 ||| True: AZ (football club) 2289.0 ==? Pred: AZ Alkmaar 2289 ||| False True  ||| Present?  True\n",
      "AZ Alkmaar 1545 ||| True: AZ (football club) 2289.0 ==? Pred: AZ Alkmaar 2289 ||| False True  ||| Present?  True\n",
      "NEC Nijmegen 1545 ||| True: N.E.C. (football club) 834154.0 ==? Pred: NEC Nijmegen 834154 ||| False True  ||| Present?  True\n",
      "NEC Nijmegen 1545 ||| True: N.E.C. (football club) 834154.0 ==? Pred: NEC Nijmegen 834154 ||| False True  ||| Present?  True\n",
      "GERMAN 1545 ||| True: Germany 11867.0 ==? Pred: Netherlands 21148 ||| False False  ||| Present?  True\n",
      "------------------------------------------\n",
      "Predictive Accuracy: 95.918%\n",
      "Answer Present: 100.0%\n"
     ]
    },
    {
     "name": "stderr",
     "output_type": "stream",
     "text": [
      "\n"
     ]
    }
   ],
   "source": [
    "# Filter to random sentence for manual review\n",
    "rand_sid = np.random.choice(known_true_mentions_pop['sentence_id'])\n",
    "rand_sentence_df = known_true_mentions_pop[known_true_mentions_pop['sentence_id'] == rand_sid]\n",
    "print(f\"Sentence ID: {rand_sid}, Number of Mentions: {len(rand_sentence_df)}\")\n",
    "print(\"------------------------------------------\")\n",
    "\n",
    "# Calculate accuracy\n",
    "calculate_accuracy(predictions=congruent_predictions_pop_pr, dataframe=rand_sentence_df, verbose=True)"
   ]
  },
  {
   "cell_type": "markdown",
   "metadata": {},
   "source": [
    "While we still see a nearly 3% increase in predictive accuracy, it is not greater than the performance increase seen when using the frequency dataset."
   ]
  },
  {
   "cell_type": "code",
   "execution_count": null,
   "metadata": {},
   "outputs": [],
   "source": []
  },
  {
   "cell_type": "code",
   "execution_count": null,
   "metadata": {},
   "outputs": [],
   "source": []
  },
  {
   "cell_type": "code",
   "execution_count": null,
   "metadata": {},
   "outputs": [],
   "source": []
  },
  {
   "cell_type": "code",
   "execution_count": null,
   "metadata": {},
   "outputs": [],
   "source": []
  },
  {
   "cell_type": "code",
   "execution_count": null,
   "metadata": {},
   "outputs": [],
   "source": []
  },
  {
   "cell_type": "code",
   "execution_count": null,
   "metadata": {},
   "outputs": [],
   "source": []
  },
  {
   "cell_type": "code",
   "execution_count": null,
   "metadata": {},
   "outputs": [],
   "source": []
  },
  {
   "cell_type": "code",
   "execution_count": null,
   "metadata": {},
   "outputs": [],
   "source": []
  },
  {
   "cell_type": "markdown",
   "metadata": {},
   "source": [
    "# Logical Flow Demonstration\n",
    "\n",
    "The cells below have been included as a more easily understood logical flow to understand how we designed the recursive congruence algorithm for an arbitrary length of full mentions in a sentence. We manually select a sentence and work through that. This is identical to the above but with more printed out breaks."
   ]
  },
  {
   "cell_type": "code",
   "execution_count": 54,
   "metadata": {},
   "outputs": [
    {
     "data": {
      "text/html": [
       "<div>\n",
       "<style scoped>\n",
       "    .dataframe tbody tr th:only-of-type {\n",
       "        vertical-align: middle;\n",
       "    }\n",
       "\n",
       "    .dataframe tbody tr th {\n",
       "        vertical-align: top;\n",
       "    }\n",
       "\n",
       "    .dataframe thead th {\n",
       "        text-align: right;\n",
       "    }\n",
       "</style>\n",
       "<table border=\"1\" class=\"dataframe\">\n",
       "  <thead>\n",
       "    <tr style=\"text-align: right;\">\n",
       "      <th></th>\n",
       "      <th>mention</th>\n",
       "      <th>full_mention</th>\n",
       "      <th>wikipedia_URL</th>\n",
       "      <th>wikipedia_page_ID</th>\n",
       "      <th>wikipedia_title</th>\n",
       "      <th>sentence_id</th>\n",
       "      <th>doc_id</th>\n",
       "      <th>congruent_mentions</th>\n",
       "      <th>norm_full_mention</th>\n",
       "      <th>candidate_pool_page_ids</th>\n",
       "      <th>candidate_pool_item_ids</th>\n",
       "      <th>candidate_pool_titles</th>\n",
       "      <th>candidate_pool_priors</th>\n",
       "    </tr>\n",
       "  </thead>\n",
       "  <tbody>\n",
       "    <tr>\n",
       "      <th>0</th>\n",
       "      <td>B</td>\n",
       "      <td>YORK</td>\n",
       "      <td>http://en.wikipedia.org/wiki/York</td>\n",
       "      <td>34361.0</td>\n",
       "      <td>York</td>\n",
       "      <td>210</td>\n",
       "      <td>31</td>\n",
       "      <td>[YORK, England, Mark Prescott, Pivotal, Nuntho...</td>\n",
       "      <td>york</td>\n",
       "      <td>[34361, 134305, 974198, 992970, 2436511]</td>\n",
       "      <td>[42462, 821105, 8055519, 21008612, 994000]</td>\n",
       "      <td>[York, York,_Pennsylvania, York_Racecourse, Yo...</td>\n",
       "      <td>[0.5884024, 0.0486891, 0.0466228, 0.0396487, 0...</td>\n",
       "    </tr>\n",
       "    <tr>\n",
       "      <th>1</th>\n",
       "      <td>B</td>\n",
       "      <td>England</td>\n",
       "      <td>http://en.wikipedia.org/wiki/England</td>\n",
       "      <td>9316.0</td>\n",
       "      <td>England</td>\n",
       "      <td>210</td>\n",
       "      <td>31</td>\n",
       "      <td>[YORK, England, Mark Prescott, Pivotal, Nuntho...</td>\n",
       "      <td>england</td>\n",
       "      <td>[9316, 9904, 759125, 691024, 990422]</td>\n",
       "      <td>[21, 47762, 1321565, 378628, 3589698]</td>\n",
       "      <td>[England, England_national_football_team, Engl...</td>\n",
       "      <td>[0.7461579, 0.0736803, 0.0415712, 0.0328608, 0...</td>\n",
       "    </tr>\n",
       "    <tr>\n",
       "      <th>2</th>\n",
       "      <td>B</td>\n",
       "      <td>Mark Prescott</td>\n",
       "      <td>http://en.wikipedia.org/wiki/Mark_Prescott</td>\n",
       "      <td>25674876.0</td>\n",
       "      <td>Mark Prescott</td>\n",
       "      <td>210</td>\n",
       "      <td>31</td>\n",
       "      <td>[YORK, England, Mark Prescott, Pivotal, Nuntho...</td>\n",
       "      <td>mark prescott</td>\n",
       "      <td>[25674876]</td>\n",
       "      <td>[6769327]</td>\n",
       "      <td>[Mark_Prescott]</td>\n",
       "      <td>[1.0]</td>\n",
       "    </tr>\n",
       "    <tr>\n",
       "      <th>3</th>\n",
       "      <td>B</td>\n",
       "      <td>Pivotal</td>\n",
       "      <td>NaN</td>\n",
       "      <td>NaN</td>\n",
       "      <td>NaN</td>\n",
       "      <td>210</td>\n",
       "      <td>31</td>\n",
       "      <td>[YORK, England, Mark Prescott, Pivotal, Nuntho...</td>\n",
       "      <td>pivotal</td>\n",
       "      <td>[39421721, 39467663, 34382035, 25015249, 2768719]</td>\n",
       "      <td>[11331695, 16335785, 7180990, 5503397, 15148967]</td>\n",
       "      <td>[Pivotal_(horse), Pivotal_Software, Phases_of_...</td>\n",
       "      <td>[0.6304348, 0.2608696, 0.0217391, 0.0217391, 0...</td>\n",
       "    </tr>\n",
       "    <tr>\n",
       "      <th>4</th>\n",
       "      <td>B</td>\n",
       "      <td>Nunthorpe Stakes</td>\n",
       "      <td>http://en.wikipedia.org/wiki/Nunthorpe_Stakes</td>\n",
       "      <td>727606.0</td>\n",
       "      <td>Nunthorpe Stakes</td>\n",
       "      <td>210</td>\n",
       "      <td>31</td>\n",
       "      <td>[YORK, England, Mark Prescott, Pivotal, Nuntho...</td>\n",
       "      <td>nunthorpe stakes</td>\n",
       "      <td>[727606]</td>\n",
       "      <td>[3346442]</td>\n",
       "      <td>[Nunthorpe_Stakes]</td>\n",
       "      <td>[1.0]</td>\n",
       "    </tr>\n",
       "  </tbody>\n",
       "</table>\n",
       "</div>"
      ],
      "text/plain": [
       "  mention      full_mention                                  wikipedia_URL  \\\n",
       "0       B              YORK              http://en.wikipedia.org/wiki/York   \n",
       "1       B           England           http://en.wikipedia.org/wiki/England   \n",
       "2       B     Mark Prescott     http://en.wikipedia.org/wiki/Mark_Prescott   \n",
       "3       B           Pivotal                                            NaN   \n",
       "4       B  Nunthorpe Stakes  http://en.wikipedia.org/wiki/Nunthorpe_Stakes   \n",
       "\n",
       "   wikipedia_page_ID   wikipedia_title  sentence_id  doc_id  \\\n",
       "0            34361.0              York          210      31   \n",
       "1             9316.0           England          210      31   \n",
       "2         25674876.0     Mark Prescott          210      31   \n",
       "3                NaN               NaN          210      31   \n",
       "4           727606.0  Nunthorpe Stakes          210      31   \n",
       "\n",
       "                                  congruent_mentions norm_full_mention  \\\n",
       "0  [YORK, England, Mark Prescott, Pivotal, Nuntho...              york   \n",
       "1  [YORK, England, Mark Prescott, Pivotal, Nuntho...           england   \n",
       "2  [YORK, England, Mark Prescott, Pivotal, Nuntho...     mark prescott   \n",
       "3  [YORK, England, Mark Prescott, Pivotal, Nuntho...           pivotal   \n",
       "4  [YORK, England, Mark Prescott, Pivotal, Nuntho...  nunthorpe stakes   \n",
       "\n",
       "                             candidate_pool_page_ids  \\\n",
       "0           [34361, 134305, 974198, 992970, 2436511]   \n",
       "1               [9316, 9904, 759125, 691024, 990422]   \n",
       "2                                         [25674876]   \n",
       "3  [39421721, 39467663, 34382035, 25015249, 2768719]   \n",
       "4                                           [727606]   \n",
       "\n",
       "                            candidate_pool_item_ids  \\\n",
       "0        [42462, 821105, 8055519, 21008612, 994000]   \n",
       "1             [21, 47762, 1321565, 378628, 3589698]   \n",
       "2                                         [6769327]   \n",
       "3  [11331695, 16335785, 7180990, 5503397, 15148967]   \n",
       "4                                         [3346442]   \n",
       "\n",
       "                               candidate_pool_titles  \\\n",
       "0  [York, York,_Pennsylvania, York_Racecourse, Yo...   \n",
       "1  [England, England_national_football_team, Engl...   \n",
       "2                                    [Mark_Prescott]   \n",
       "3  [Pivotal_(horse), Pivotal_Software, Phases_of_...   \n",
       "4                                 [Nunthorpe_Stakes]   \n",
       "\n",
       "                               candidate_pool_priors  \n",
       "0  [0.5884024, 0.0486891, 0.0466228, 0.0396487, 0...  \n",
       "1  [0.7461579, 0.0736803, 0.0415712, 0.0328608, 0...  \n",
       "2                                              [1.0]  \n",
       "3  [0.6304348, 0.2608696, 0.0217391, 0.0217391, 0...  \n",
       "4                                              [1.0]  "
      ]
     },
     "execution_count": 54,
     "metadata": {},
     "output_type": "execute_result"
    }
   ],
   "source": [
    "# Test on manually selected sentence\n",
    "single_sentence_df = full_mentions[full_mentions['sentence_id'] == sentence_id].drop_duplicates(['full_mention', 'wikipedia_page_ID', 'sentence_id']).reset_index(drop=True)\n",
    "single_sentence_df"
   ]
  },
  {
   "cell_type": "code",
   "execution_count": 55,
   "metadata": {},
   "outputs": [
    {
     "name": "stdout",
     "output_type": "stream",
     "text": [
      "['YORK', 'England', 'Mark Prescott', 'Pivotal', 'Nunthorpe Stakes']\n"
     ]
    }
   ],
   "source": [
    "# Congruent Mention\n",
    "print(single_sentence_df['congruent_mentions'][0])"
   ]
  },
  {
   "cell_type": "code",
   "execution_count": 56,
   "metadata": {},
   "outputs": [
    {
     "data": {
      "text/plain": [
       "array([0, 1, 2, 3, 4])"
      ]
     },
     "execution_count": 56,
     "metadata": {},
     "output_type": "execute_result"
    }
   ],
   "source": [
    "# Convert to numerical for easier recursive logic later\n",
    "sentence_mention_nums = np.arange(len(single_sentence_df['congruent_mentions'][0]))\n",
    "sentence_mention_nums"
   ]
  },
  {
   "cell_type": "code",
   "execution_count": 57,
   "metadata": {},
   "outputs": [],
   "source": [
    "# Generate candidate lists of vectors\n",
    "def get_candidate_pool_vectors(candidate_pool_titles, verbose=False):\n",
    "    \"\"\"\n",
    "    Function to return entity vectors from Wikipedia2Vec\n",
    "    Takes as input a list of page titles, representing the candidate pool\n",
    "    Normalizes each page title to match necessary input format\n",
    "    Returns entity vector or empty vector if no match\n",
    "    \"\"\"\n",
    "    # Track failed vector queries\n",
    "    no_vector_count = 0\n",
    "    candidate_pool_vectors = []\n",
    "    for candidate in candidate_pool_titles:\n",
    "        candidate = normalize_text(candidate)\n",
    "        try:\n",
    "            candidate_vectors = w2v.get_entity_vector(candidate)\n",
    "        except KeyError:\n",
    "            # Keep empty vector representation to maintain index locations\n",
    "            candidate_vectors = np.zeros(100)\n",
    "            no_vector_count += 1\n",
    "        candidate_pool_vectors.append(candidate_vectors)\n",
    "    \n",
    "    if len(candidate_pool_titles) == 0:\n",
    "        candidate_pool_vectors = [np.zeros(100), np.zeros(100), np.zeros(100)]\n",
    "    \n",
    "    if verbose: print(f\"Failed Wikipedia2Vec Entity Vector Queries: {no_vector_count}\")\n",
    "    return candidate_pool_vectors"
   ]
  },
  {
   "cell_type": "code",
   "execution_count": 58,
   "metadata": {
    "scrolled": true
   },
   "outputs": [
    {
     "name": "stdout",
     "output_type": "stream",
     "text": [
      "Failed Wikipedia2Vec Entity Vector Queries: 0\n",
      "Failed Wikipedia2Vec Entity Vector Queries: 0\n",
      "Failed Wikipedia2Vec Entity Vector Queries: 0\n",
      "Failed Wikipedia2Vec Entity Vector Queries: 1\n",
      "Failed Wikipedia2Vec Entity Vector Queries: 0\n"
     ]
    }
   ],
   "source": [
    "# Save vectors in dictionary\n",
    "vector_dict = {}\n",
    "\n",
    "# For each full mention we are analyzing in the contextual domain (i.e. sentence)\n",
    "for m in sentence_mention_nums:\n",
    "    \n",
    "    # Retrieve candidate pool titles\n",
    "    candidate_pool_titles = single_sentence_df['candidate_pool_titles'][m]\n",
    "    \n",
    "    # Convert candidate pool titles to candidate pool vectors\n",
    "    candidate_pool_vectors = get_candidate_pool_vectors(candidate_pool_titles, verbose=True)\n",
    "    \n",
    "    # Save candidate pool vectors to dictionary\n",
    "    vector_dict[m] = candidate_pool_vectors\n",
    "    "
   ]
  },
  {
   "cell_type": "code",
   "execution_count": 59,
   "metadata": {
    "scrolled": false
   },
   "outputs": [
    {
     "name": "stdout",
     "output_type": "stream",
     "text": [
      "dict_keys([0, 1, 2, 3, 4])\n"
     ]
    },
    {
     "data": {
      "text/plain": [
       "[memmap([ 0.2683868 , -0.05262262,  0.54006284,  0.05049284,  0.3950385 ,\n",
       "          0.18029454,  0.9676563 ,  0.5245846 , -0.8257101 , -0.06190873,\n",
       "          0.0048545 , -0.3587773 ,  1.0333955 , -0.8392176 , -0.5148771 ,\n",
       "          0.7619262 ,  1.1545883 , -0.28774223,  0.37944788,  0.36179924,\n",
       "         -0.18364815,  0.25456274, -0.42908797,  0.4699114 , -1.1465906 ,\n",
       "         -1.344148  ,  0.46428162,  0.01225942,  1.0560988 ,  0.391352  ,\n",
       "          0.01914932, -0.5230255 ,  0.01505912,  0.2288472 ,  0.95887125,\n",
       "         -0.3009153 , -0.74820864,  0.2446501 , -0.71423006, -0.058732  ,\n",
       "         -0.5778156 , -1.1819346 , -0.51720476,  0.56831   ,  0.39721656,\n",
       "         -0.5982357 ,  0.21792424,  0.3120324 , -1.3766816 , -0.25159237,\n",
       "          0.14914982,  0.09284619, -0.42491975, -0.40097916,  1.121219  ,\n",
       "         -0.21171518,  0.17501397,  0.23550397, -1.2049819 ,  0.09586409,\n",
       "         -0.5030386 , -0.82044554, -0.01860892, -0.44457683,  1.9537257 ,\n",
       "         -0.1218124 , -0.16592291, -0.61572707, -0.83974636, -0.78331035,\n",
       "         -0.45257503,  1.068549  ,  1.520831  ,  1.0346282 , -1.4640044 ,\n",
       "          0.7263678 ,  0.8289772 ,  0.35587314,  0.36035538, -0.09692112,\n",
       "          1.5906011 , -0.07746844,  0.06886535, -0.4741191 , -0.48017558,\n",
       "         -0.69907963, -0.12020469, -0.34679833,  0.09163934, -0.07474833,\n",
       "         -0.00315162,  0.49266675, -0.32719526, -0.33517686, -0.7439421 ,\n",
       "         -1.1595058 ,  0.63044286,  0.04471726, -0.07303976,  0.17590128],\n",
       "        dtype=float32)]"
      ]
     },
     "execution_count": 59,
     "metadata": {},
     "output_type": "execute_result"
    }
   ],
   "source": [
    "# Display vector_dict output\n",
    "print(vector_dict.keys())\n",
    "# Preview one candidate vector from a candidate pool vectors\n",
    "vector_dict[2]"
   ]
  },
  {
   "cell_type": "code",
   "execution_count": 60,
   "metadata": {},
   "outputs": [
    {
     "name": "stdout",
     "output_type": "stream",
     "text": [
      "0 1\n",
      "0 2\n",
      "0 3\n",
      "0 4\n",
      "1 2\n",
      "1 3\n",
      "1 4\n",
      "2 3\n",
      "2 4\n",
      "3 4\n"
     ]
    }
   ],
   "source": [
    "# Calculate congruence metric for each candidate vector for each mention's candidate pool\n",
    "# This notebook uses cosine similarity as the congruence metric\n",
    "\n",
    "## Save congruence measurements in a two-level dictionary\n",
    "# Create first-level dictionary\n",
    "congruence_dict = {}\n",
    "\n",
    "# Always work low numbers to high\n",
    "m = 0\n",
    "while m < len(sentence_mention_nums)-1:\n",
    "    \n",
    "    # Save second-level congruence measurement dictionary\n",
    "    m_dict = {}\n",
    "    # Compare each mention against mentions after it\n",
    "    for n in sentence_mention_nums[m+1:]:\n",
    "        print(m, n)\n",
    "        # Calculate congruence measurement - cosine similarity\n",
    "        congruence_measurement = cosine_similarity(vector_dict[m], vector_dict[n])\n",
    "        # Save congruence measurement to second-level dictionary\n",
    "        m_dict[n] = congruence_measurement\n",
    "    \n",
    "    # Save second-level dictionary to first-level\n",
    "    congruence_dict[m] = m_dict\n",
    "    \n",
    "    # Increment mention\n",
    "    m += 1"
   ]
  },
  {
   "cell_type": "code",
   "execution_count": 61,
   "metadata": {},
   "outputs": [
    {
     "name": "stdout",
     "output_type": "stream",
     "text": [
      "dict_keys([0, 1, 2, 3])\n",
      "0\n",
      "1\n",
      "2\n",
      "3\n"
     ]
    }
   ],
   "source": [
    "# Display congruence_dict output\n",
    "# This should be one less than congruent mention count, since we are comparing low to high\n",
    "# and thus don't compare the highest value to anything\n",
    "print(congruence_dict.keys())\n",
    "# Preview congruence matrix derived from comparing Mention 1 to Mention 2\n",
    "for k in congruence_dict.keys():\n",
    "    print(k)"
   ]
  },
  {
   "cell_type": "code",
   "execution_count": 62,
   "metadata": {},
   "outputs": [
    {
     "data": {
      "text/html": [
       "<div>\n",
       "<style scoped>\n",
       "    .dataframe tbody tr th:only-of-type {\n",
       "        vertical-align: middle;\n",
       "    }\n",
       "\n",
       "    .dataframe tbody tr th {\n",
       "        vertical-align: top;\n",
       "    }\n",
       "\n",
       "    .dataframe thead th {\n",
       "        text-align: right;\n",
       "    }\n",
       "</style>\n",
       "<table border=\"1\" class=\"dataframe\">\n",
       "  <thead>\n",
       "    <tr style=\"text-align: right;\">\n",
       "      <th></th>\n",
       "      <th>mention</th>\n",
       "      <th>full_mention</th>\n",
       "      <th>wikipedia_URL</th>\n",
       "      <th>wikipedia_page_ID</th>\n",
       "      <th>wikipedia_title</th>\n",
       "      <th>sentence_id</th>\n",
       "      <th>doc_id</th>\n",
       "      <th>congruent_mentions</th>\n",
       "      <th>norm_full_mention</th>\n",
       "      <th>candidate_pool_page_ids</th>\n",
       "      <th>candidate_pool_item_ids</th>\n",
       "      <th>candidate_pool_titles</th>\n",
       "      <th>candidate_pool_priors</th>\n",
       "    </tr>\n",
       "  </thead>\n",
       "  <tbody>\n",
       "    <tr>\n",
       "      <th>0</th>\n",
       "      <td>B</td>\n",
       "      <td>YORK</td>\n",
       "      <td>http://en.wikipedia.org/wiki/York</td>\n",
       "      <td>34361.0</td>\n",
       "      <td>York</td>\n",
       "      <td>210</td>\n",
       "      <td>31</td>\n",
       "      <td>[YORK, England, Mark Prescott, Pivotal, Nuntho...</td>\n",
       "      <td>york</td>\n",
       "      <td>[34361, 134305, 974198, 992970, 2436511]</td>\n",
       "      <td>[42462, 821105, 8055519, 21008612, 994000]</td>\n",
       "      <td>[York, York,_Pennsylvania, York_Racecourse, Yo...</td>\n",
       "      <td>[0.5884024, 0.0486891, 0.0466228, 0.0396487, 0...</td>\n",
       "    </tr>\n",
       "    <tr>\n",
       "      <th>1</th>\n",
       "      <td>B</td>\n",
       "      <td>England</td>\n",
       "      <td>http://en.wikipedia.org/wiki/England</td>\n",
       "      <td>9316.0</td>\n",
       "      <td>England</td>\n",
       "      <td>210</td>\n",
       "      <td>31</td>\n",
       "      <td>[YORK, England, Mark Prescott, Pivotal, Nuntho...</td>\n",
       "      <td>england</td>\n",
       "      <td>[9316, 9904, 759125, 691024, 990422]</td>\n",
       "      <td>[21, 47762, 1321565, 378628, 3589698]</td>\n",
       "      <td>[England, England_national_football_team, Engl...</td>\n",
       "      <td>[0.7461579, 0.0736803, 0.0415712, 0.0328608, 0...</td>\n",
       "    </tr>\n",
       "    <tr>\n",
       "      <th>2</th>\n",
       "      <td>B</td>\n",
       "      <td>Mark Prescott</td>\n",
       "      <td>http://en.wikipedia.org/wiki/Mark_Prescott</td>\n",
       "      <td>25674876.0</td>\n",
       "      <td>Mark Prescott</td>\n",
       "      <td>210</td>\n",
       "      <td>31</td>\n",
       "      <td>[YORK, England, Mark Prescott, Pivotal, Nuntho...</td>\n",
       "      <td>mark prescott</td>\n",
       "      <td>[25674876]</td>\n",
       "      <td>[6769327]</td>\n",
       "      <td>[Mark_Prescott]</td>\n",
       "      <td>[1.0]</td>\n",
       "    </tr>\n",
       "    <tr>\n",
       "      <th>3</th>\n",
       "      <td>B</td>\n",
       "      <td>Pivotal</td>\n",
       "      <td>NaN</td>\n",
       "      <td>NaN</td>\n",
       "      <td>NaN</td>\n",
       "      <td>210</td>\n",
       "      <td>31</td>\n",
       "      <td>[YORK, England, Mark Prescott, Pivotal, Nuntho...</td>\n",
       "      <td>pivotal</td>\n",
       "      <td>[39421721, 39467663, 34382035, 25015249, 2768719]</td>\n",
       "      <td>[11331695, 16335785, 7180990, 5503397, 15148967]</td>\n",
       "      <td>[Pivotal_(horse), Pivotal_Software, Phases_of_...</td>\n",
       "      <td>[0.6304348, 0.2608696, 0.0217391, 0.0217391, 0...</td>\n",
       "    </tr>\n",
       "    <tr>\n",
       "      <th>4</th>\n",
       "      <td>B</td>\n",
       "      <td>Nunthorpe Stakes</td>\n",
       "      <td>http://en.wikipedia.org/wiki/Nunthorpe_Stakes</td>\n",
       "      <td>727606.0</td>\n",
       "      <td>Nunthorpe Stakes</td>\n",
       "      <td>210</td>\n",
       "      <td>31</td>\n",
       "      <td>[YORK, England, Mark Prescott, Pivotal, Nuntho...</td>\n",
       "      <td>nunthorpe stakes</td>\n",
       "      <td>[727606]</td>\n",
       "      <td>[3346442]</td>\n",
       "      <td>[Nunthorpe_Stakes]</td>\n",
       "      <td>[1.0]</td>\n",
       "    </tr>\n",
       "  </tbody>\n",
       "</table>\n",
       "</div>"
      ],
      "text/plain": [
       "  mention      full_mention                                  wikipedia_URL  \\\n",
       "0       B              YORK              http://en.wikipedia.org/wiki/York   \n",
       "1       B           England           http://en.wikipedia.org/wiki/England   \n",
       "2       B     Mark Prescott     http://en.wikipedia.org/wiki/Mark_Prescott   \n",
       "3       B           Pivotal                                            NaN   \n",
       "4       B  Nunthorpe Stakes  http://en.wikipedia.org/wiki/Nunthorpe_Stakes   \n",
       "\n",
       "   wikipedia_page_ID   wikipedia_title  sentence_id  doc_id  \\\n",
       "0            34361.0              York          210      31   \n",
       "1             9316.0           England          210      31   \n",
       "2         25674876.0     Mark Prescott          210      31   \n",
       "3                NaN               NaN          210      31   \n",
       "4           727606.0  Nunthorpe Stakes          210      31   \n",
       "\n",
       "                                  congruent_mentions norm_full_mention  \\\n",
       "0  [YORK, England, Mark Prescott, Pivotal, Nuntho...              york   \n",
       "1  [YORK, England, Mark Prescott, Pivotal, Nuntho...           england   \n",
       "2  [YORK, England, Mark Prescott, Pivotal, Nuntho...     mark prescott   \n",
       "3  [YORK, England, Mark Prescott, Pivotal, Nuntho...           pivotal   \n",
       "4  [YORK, England, Mark Prescott, Pivotal, Nuntho...  nunthorpe stakes   \n",
       "\n",
       "                             candidate_pool_page_ids  \\\n",
       "0           [34361, 134305, 974198, 992970, 2436511]   \n",
       "1               [9316, 9904, 759125, 691024, 990422]   \n",
       "2                                         [25674876]   \n",
       "3  [39421721, 39467663, 34382035, 25015249, 2768719]   \n",
       "4                                           [727606]   \n",
       "\n",
       "                            candidate_pool_item_ids  \\\n",
       "0        [42462, 821105, 8055519, 21008612, 994000]   \n",
       "1             [21, 47762, 1321565, 378628, 3589698]   \n",
       "2                                         [6769327]   \n",
       "3  [11331695, 16335785, 7180990, 5503397, 15148967]   \n",
       "4                                         [3346442]   \n",
       "\n",
       "                               candidate_pool_titles  \\\n",
       "0  [York, York,_Pennsylvania, York_Racecourse, Yo...   \n",
       "1  [England, England_national_football_team, Engl...   \n",
       "2                                    [Mark_Prescott]   \n",
       "3  [Pivotal_(horse), Pivotal_Software, Phases_of_...   \n",
       "4                                 [Nunthorpe_Stakes]   \n",
       "\n",
       "                               candidate_pool_priors  \n",
       "0  [0.5884024, 0.0486891, 0.0466228, 0.0396487, 0...  \n",
       "1  [0.7461579, 0.0736803, 0.0415712, 0.0328608, 0...  \n",
       "2                                              [1.0]  \n",
       "3  [0.6304348, 0.2608696, 0.0217391, 0.0217391, 0...  \n",
       "4                                              [1.0]  "
      ]
     },
     "execution_count": 62,
     "metadata": {},
     "output_type": "execute_result"
    }
   ],
   "source": [
    "single_sentence_df"
   ]
  },
  {
   "cell_type": "code",
   "execution_count": 63,
   "metadata": {},
   "outputs": [
    {
     "name": "stdout",
     "output_type": "stream",
     "text": [
      "1 3\n"
     ]
    }
   ],
   "source": [
    "# Pick mentions to compare\n",
    "men1 = np.random.choice(sentence_mention_nums[:-1])\n",
    "men2 = np.random.choice(sentence_mention_nums)\n",
    "while men1 == men2:\n",
    "    men2 = np.random.choice(sentence_mention_nums)\n",
    "men1, men2 = np.sort([men1, men2])\n",
    "print(men1, men2)"
   ]
  },
  {
   "cell_type": "code",
   "execution_count": 64,
   "metadata": {},
   "outputs": [
    {
     "data": {
      "text/html": [
       "<style  type=\"text/css\" >\n",
       "#T_4faa0398_3e76_11eb_865c_acde48001122row4_col3{\n",
       "            background:  skyblue;\n",
       "        }</style><table id=\"T_4faa0398_3e76_11eb_865c_acde48001122\" ><thead>    <tr>        <th class=\"blank level0\" ></th>        <th class=\"col_heading level0 col0\" >0</th>        <th class=\"col_heading level0 col1\" >1</th>        <th class=\"col_heading level0 col2\" >2</th>        <th class=\"col_heading level0 col3\" >3</th>        <th class=\"col_heading level0 col4\" >4</th>    </tr></thead><tbody>\n",
       "                <tr>\n",
       "                        <th id=\"T_4faa0398_3e76_11eb_865c_acde48001122level0_row0\" class=\"row_heading level0 row0\" >0</th>\n",
       "                        <td id=\"T_4faa0398_3e76_11eb_865c_acde48001122row0_col0\" class=\"data row0 col0\" >0.293464</td>\n",
       "                        <td id=\"T_4faa0398_3e76_11eb_865c_acde48001122row0_col1\" class=\"data row0 col1\" >0.090070</td>\n",
       "                        <td id=\"T_4faa0398_3e76_11eb_865c_acde48001122row0_col2\" class=\"data row0 col2\" >0.273404</td>\n",
       "                        <td id=\"T_4faa0398_3e76_11eb_865c_acde48001122row0_col3\" class=\"data row0 col3\" >0.245676</td>\n",
       "                        <td id=\"T_4faa0398_3e76_11eb_865c_acde48001122row0_col4\" class=\"data row0 col4\" >0.000000</td>\n",
       "            </tr>\n",
       "            <tr>\n",
       "                        <th id=\"T_4faa0398_3e76_11eb_865c_acde48001122level0_row1\" class=\"row_heading level0 row1\" >1</th>\n",
       "                        <td id=\"T_4faa0398_3e76_11eb_865c_acde48001122row1_col0\" class=\"data row1 col0\" >0.233738</td>\n",
       "                        <td id=\"T_4faa0398_3e76_11eb_865c_acde48001122row1_col1\" class=\"data row1 col1\" >0.194647</td>\n",
       "                        <td id=\"T_4faa0398_3e76_11eb_865c_acde48001122row1_col2\" class=\"data row1 col2\" >0.268510</td>\n",
       "                        <td id=\"T_4faa0398_3e76_11eb_865c_acde48001122row1_col3\" class=\"data row1 col3\" >0.200175</td>\n",
       "                        <td id=\"T_4faa0398_3e76_11eb_865c_acde48001122row1_col4\" class=\"data row1 col4\" >0.000000</td>\n",
       "            </tr>\n",
       "            <tr>\n",
       "                        <th id=\"T_4faa0398_3e76_11eb_865c_acde48001122level0_row2\" class=\"row_heading level0 row2\" >2</th>\n",
       "                        <td id=\"T_4faa0398_3e76_11eb_865c_acde48001122row2_col0\" class=\"data row2 col0\" >0.350722</td>\n",
       "                        <td id=\"T_4faa0398_3e76_11eb_865c_acde48001122row2_col1\" class=\"data row2 col1\" >0.254812</td>\n",
       "                        <td id=\"T_4faa0398_3e76_11eb_865c_acde48001122row2_col2\" class=\"data row2 col2\" >0.195908</td>\n",
       "                        <td id=\"T_4faa0398_3e76_11eb_865c_acde48001122row2_col3\" class=\"data row2 col3\" >0.202840</td>\n",
       "                        <td id=\"T_4faa0398_3e76_11eb_865c_acde48001122row2_col4\" class=\"data row2 col4\" >0.000000</td>\n",
       "            </tr>\n",
       "            <tr>\n",
       "                        <th id=\"T_4faa0398_3e76_11eb_865c_acde48001122level0_row3\" class=\"row_heading level0 row3\" >3</th>\n",
       "                        <td id=\"T_4faa0398_3e76_11eb_865c_acde48001122row3_col0\" class=\"data row3 col0\" >0.338334</td>\n",
       "                        <td id=\"T_4faa0398_3e76_11eb_865c_acde48001122row3_col1\" class=\"data row3 col1\" >0.228758</td>\n",
       "                        <td id=\"T_4faa0398_3e76_11eb_865c_acde48001122row3_col2\" class=\"data row3 col2\" >0.186814</td>\n",
       "                        <td id=\"T_4faa0398_3e76_11eb_865c_acde48001122row3_col3\" class=\"data row3 col3\" >0.304612</td>\n",
       "                        <td id=\"T_4faa0398_3e76_11eb_865c_acde48001122row3_col4\" class=\"data row3 col4\" >0.000000</td>\n",
       "            </tr>\n",
       "            <tr>\n",
       "                        <th id=\"T_4faa0398_3e76_11eb_865c_acde48001122level0_row4\" class=\"row_heading level0 row4\" >4</th>\n",
       "                        <td id=\"T_4faa0398_3e76_11eb_865c_acde48001122row4_col0\" class=\"data row4 col0\" >0.340859</td>\n",
       "                        <td id=\"T_4faa0398_3e76_11eb_865c_acde48001122row4_col1\" class=\"data row4 col1\" >0.176496</td>\n",
       "                        <td id=\"T_4faa0398_3e76_11eb_865c_acde48001122row4_col2\" class=\"data row4 col2\" >0.182557</td>\n",
       "                        <td id=\"T_4faa0398_3e76_11eb_865c_acde48001122row4_col3\" class=\"data row4 col3\" >0.361004</td>\n",
       "                        <td id=\"T_4faa0398_3e76_11eb_865c_acde48001122row4_col4\" class=\"data row4 col4\" >0.000000</td>\n",
       "            </tr>\n",
       "    </tbody></table>"
      ],
      "text/plain": [
       "<pandas.io.formats.style.Styler at 0x7fe1f9233390>"
      ]
     },
     "execution_count": 64,
     "metadata": {},
     "output_type": "execute_result"
    }
   ],
   "source": [
    "# Plot congruence calculation between candidates\n",
    "congruence_test_df = pd.DataFrame(congruence_dict[men1][men2])\n",
    "max_num = max(np.max(congruence_test_df))\n",
    "congruence_test_df.style.apply(lambda x: [\"background: skyblue\" if v == max_num else \"\" for v in x], axis = 1)"
   ]
  },
  {
   "cell_type": "code",
   "execution_count": 65,
   "metadata": {
    "scrolled": true
   },
   "outputs": [
    {
     "data": {
      "text/html": [
       "<style  type=\"text/css\" >\n",
       "#T_4fad4d50_3e76_11eb_865c_acde48001122row0_col0{\n",
       "            background:  skyblue;\n",
       "        }</style><table id=\"T_4fad4d50_3e76_11eb_865c_acde48001122\" ><thead>    <tr>        <th class=\"blank level0\" ></th>        <th class=\"col_heading level0 col0\" >0</th>        <th class=\"col_heading level0 col1\" >1</th>        <th class=\"col_heading level0 col2\" >2</th>        <th class=\"col_heading level0 col3\" >3</th>        <th class=\"col_heading level0 col4\" >4</th>    </tr></thead><tbody>\n",
       "                <tr>\n",
       "                        <th id=\"T_4fad4d50_3e76_11eb_865c_acde48001122level0_row0\" class=\"row_heading level0 row0\" >0</th>\n",
       "                        <td id=\"T_4fad4d50_3e76_11eb_865c_acde48001122row0_col0\" class=\"data row0 col0\" >0.688296</td>\n",
       "                        <td id=\"T_4fad4d50_3e76_11eb_865c_acde48001122row0_col1\" class=\"data row0 col1\" >0.503514</td>\n",
       "                        <td id=\"T_4fad4d50_3e76_11eb_865c_acde48001122row0_col2\" class=\"data row0 col2\" >0.383949</td>\n",
       "                        <td id=\"T_4fad4d50_3e76_11eb_865c_acde48001122row0_col3\" class=\"data row0 col3\" >0.383949</td>\n",
       "                        <td id=\"T_4fad4d50_3e76_11eb_865c_acde48001122row0_col4\" class=\"data row0 col4\" >0.383949</td>\n",
       "            </tr>\n",
       "            <tr>\n",
       "                        <th id=\"T_4fad4d50_3e76_11eb_865c_acde48001122level0_row1\" class=\"row_heading level0 row1\" >1</th>\n",
       "                        <td id=\"T_4fad4d50_3e76_11eb_865c_acde48001122row1_col0\" class=\"data row1 col0\" >0.352058</td>\n",
       "                        <td id=\"T_4fad4d50_3e76_11eb_865c_acde48001122row1_col1\" class=\"data row1 col1\" >0.167275</td>\n",
       "                        <td id=\"T_4fad4d50_3e76_11eb_865c_acde48001122row1_col2\" class=\"data row1 col2\" >0.047710</td>\n",
       "                        <td id=\"T_4fad4d50_3e76_11eb_865c_acde48001122row1_col3\" class=\"data row1 col3\" >0.047710</td>\n",
       "                        <td id=\"T_4fad4d50_3e76_11eb_865c_acde48001122row1_col4\" class=\"data row1 col4\" >0.047710</td>\n",
       "            </tr>\n",
       "            <tr>\n",
       "                        <th id=\"T_4fad4d50_3e76_11eb_865c_acde48001122level0_row2\" class=\"row_heading level0 row2\" >2</th>\n",
       "                        <td id=\"T_4fad4d50_3e76_11eb_865c_acde48001122row2_col0\" class=\"data row2 col0\" >0.336003</td>\n",
       "                        <td id=\"T_4fad4d50_3e76_11eb_865c_acde48001122row2_col1\" class=\"data row2 col1\" >0.151220</td>\n",
       "                        <td id=\"T_4fad4d50_3e76_11eb_865c_acde48001122row2_col2\" class=\"data row2 col2\" >0.031655</td>\n",
       "                        <td id=\"T_4fad4d50_3e76_11eb_865c_acde48001122row2_col3\" class=\"data row2 col3\" >0.031655</td>\n",
       "                        <td id=\"T_4fad4d50_3e76_11eb_865c_acde48001122row2_col4\" class=\"data row2 col4\" >0.031655</td>\n",
       "            </tr>\n",
       "            <tr>\n",
       "                        <th id=\"T_4fad4d50_3e76_11eb_865c_acde48001122level0_row3\" class=\"row_heading level0 row3\" >3</th>\n",
       "                        <td id=\"T_4fad4d50_3e76_11eb_865c_acde48001122row3_col0\" class=\"data row3 col0\" >0.331648</td>\n",
       "                        <td id=\"T_4fad4d50_3e76_11eb_865c_acde48001122row3_col1\" class=\"data row3 col1\" >0.146865</td>\n",
       "                        <td id=\"T_4fad4d50_3e76_11eb_865c_acde48001122row3_col2\" class=\"data row3 col2\" >0.027300</td>\n",
       "                        <td id=\"T_4fad4d50_3e76_11eb_865c_acde48001122row3_col3\" class=\"data row3 col3\" >0.027300</td>\n",
       "                        <td id=\"T_4fad4d50_3e76_11eb_865c_acde48001122row3_col4\" class=\"data row3 col4\" >0.027300</td>\n",
       "            </tr>\n",
       "            <tr>\n",
       "                        <th id=\"T_4fad4d50_3e76_11eb_865c_acde48001122level0_row4\" class=\"row_heading level0 row4\" >4</th>\n",
       "                        <td id=\"T_4fad4d50_3e76_11eb_865c_acde48001122row4_col0\" class=\"data row4 col0\" >0.326475</td>\n",
       "                        <td id=\"T_4fad4d50_3e76_11eb_865c_acde48001122row4_col1\" class=\"data row4 col1\" >0.141693</td>\n",
       "                        <td id=\"T_4fad4d50_3e76_11eb_865c_acde48001122row4_col2\" class=\"data row4 col2\" >0.022127</td>\n",
       "                        <td id=\"T_4fad4d50_3e76_11eb_865c_acde48001122row4_col3\" class=\"data row4 col3\" >0.022127</td>\n",
       "                        <td id=\"T_4fad4d50_3e76_11eb_865c_acde48001122row4_col4\" class=\"data row4 col4\" >0.022127</td>\n",
       "            </tr>\n",
       "    </tbody></table>"
      ],
      "text/plain": [
       "<pandas.io.formats.style.Styler at 0x7fe1f8d53710>"
      ]
     },
     "execution_count": 65,
     "metadata": {},
     "output_type": "execute_result"
    }
   ],
   "source": [
    "# Calculate mean prior confidence for same candidates\n",
    "matrix_test = []\n",
    "for a in single_sentence_df['candidate_pool_priors'][men1]:\n",
    "    row_test = []\n",
    "    for b in single_sentence_df['candidate_pool_priors'][men2]:\n",
    "        row_test.append(np.mean([a, b]))\n",
    "    matrix_test.append(row_test)\n",
    "matrix_df = pd.DataFrame(matrix_test)\n",
    "max_num = max(np.max(matrix_df))\n",
    "matrix_df.style.apply(lambda x: [\"background: skyblue\" if v == max_num else \"\" for v in x], axis = 1)"
   ]
  },
  {
   "cell_type": "code",
   "execution_count": 66,
   "metadata": {},
   "outputs": [
    {
     "data": {
      "text/html": [
       "<style  type=\"text/css\" >\n",
       "#T_4faf9a92_3e76_11eb_865c_acde48001122row0_col0{\n",
       "            background:  skyblue;\n",
       "        }</style><table id=\"T_4faf9a92_3e76_11eb_865c_acde48001122\" ><thead>    <tr>        <th class=\"blank level0\" ></th>        <th class=\"col_heading level0 col0\" >0</th>        <th class=\"col_heading level0 col1\" >1</th>        <th class=\"col_heading level0 col2\" >2</th>        <th class=\"col_heading level0 col3\" >3</th>        <th class=\"col_heading level0 col4\" >4</th>    </tr></thead><tbody>\n",
       "                <tr>\n",
       "                        <th id=\"T_4faf9a92_3e76_11eb_865c_acde48001122level0_row0\" class=\"row_heading level0 row0\" >0</th>\n",
       "                        <td id=\"T_4faf9a92_3e76_11eb_865c_acde48001122row0_col0\" class=\"data row0 col0\" >0.201990</td>\n",
       "                        <td id=\"T_4faf9a92_3e76_11eb_865c_acde48001122row0_col1\" class=\"data row0 col1\" >0.045352</td>\n",
       "                        <td id=\"T_4faf9a92_3e76_11eb_865c_acde48001122row0_col2\" class=\"data row0 col2\" >0.104973</td>\n",
       "                        <td id=\"T_4faf9a92_3e76_11eb_865c_acde48001122row0_col3\" class=\"data row0 col3\" >0.094327</td>\n",
       "                        <td id=\"T_4faf9a92_3e76_11eb_865c_acde48001122row0_col4\" class=\"data row0 col4\" >0.000000</td>\n",
       "            </tr>\n",
       "            <tr>\n",
       "                        <th id=\"T_4faf9a92_3e76_11eb_865c_acde48001122level0_row1\" class=\"row_heading level0 row1\" >1</th>\n",
       "                        <td id=\"T_4faf9a92_3e76_11eb_865c_acde48001122row1_col0\" class=\"data row1 col0\" >0.082289</td>\n",
       "                        <td id=\"T_4faf9a92_3e76_11eb_865c_acde48001122row1_col1\" class=\"data row1 col1\" >0.032560</td>\n",
       "                        <td id=\"T_4faf9a92_3e76_11eb_865c_acde48001122row1_col2\" class=\"data row1 col2\" >0.012811</td>\n",
       "                        <td id=\"T_4faf9a92_3e76_11eb_865c_acde48001122row1_col3\" class=\"data row1 col3\" >0.009550</td>\n",
       "                        <td id=\"T_4faf9a92_3e76_11eb_865c_acde48001122row1_col4\" class=\"data row1 col4\" >0.000000</td>\n",
       "            </tr>\n",
       "            <tr>\n",
       "                        <th id=\"T_4faf9a92_3e76_11eb_865c_acde48001122level0_row2\" class=\"row_heading level0 row2\" >2</th>\n",
       "                        <td id=\"T_4faf9a92_3e76_11eb_865c_acde48001122row2_col0\" class=\"data row2 col0\" >0.117844</td>\n",
       "                        <td id=\"T_4faf9a92_3e76_11eb_865c_acde48001122row2_col1\" class=\"data row2 col1\" >0.038533</td>\n",
       "                        <td id=\"T_4faf9a92_3e76_11eb_865c_acde48001122row2_col2\" class=\"data row2 col2\" >0.006201</td>\n",
       "                        <td id=\"T_4faf9a92_3e76_11eb_865c_acde48001122row2_col3\" class=\"data row2 col3\" >0.006421</td>\n",
       "                        <td id=\"T_4faf9a92_3e76_11eb_865c_acde48001122row2_col4\" class=\"data row2 col4\" >0.000000</td>\n",
       "            </tr>\n",
       "            <tr>\n",
       "                        <th id=\"T_4faf9a92_3e76_11eb_865c_acde48001122level0_row3\" class=\"row_heading level0 row3\" >3</th>\n",
       "                        <td id=\"T_4faf9a92_3e76_11eb_865c_acde48001122row3_col0\" class=\"data row3 col0\" >0.112208</td>\n",
       "                        <td id=\"T_4faf9a92_3e76_11eb_865c_acde48001122row3_col1\" class=\"data row3 col1\" >0.033597</td>\n",
       "                        <td id=\"T_4faf9a92_3e76_11eb_865c_acde48001122row3_col2\" class=\"data row3 col2\" >0.005100</td>\n",
       "                        <td id=\"T_4faf9a92_3e76_11eb_865c_acde48001122row3_col3\" class=\"data row3 col3\" >0.008316</td>\n",
       "                        <td id=\"T_4faf9a92_3e76_11eb_865c_acde48001122row3_col4\" class=\"data row3 col4\" >0.000000</td>\n",
       "            </tr>\n",
       "            <tr>\n",
       "                        <th id=\"T_4faf9a92_3e76_11eb_865c_acde48001122level0_row4\" class=\"row_heading level0 row4\" >4</th>\n",
       "                        <td id=\"T_4faf9a92_3e76_11eb_865c_acde48001122row4_col0\" class=\"data row4 col0\" >0.111282</td>\n",
       "                        <td id=\"T_4faf9a92_3e76_11eb_865c_acde48001122row4_col1\" class=\"data row4 col1\" >0.025008</td>\n",
       "                        <td id=\"T_4faf9a92_3e76_11eb_865c_acde48001122row4_col2\" class=\"data row4 col2\" >0.004040</td>\n",
       "                        <td id=\"T_4faf9a92_3e76_11eb_865c_acde48001122row4_col3\" class=\"data row4 col3\" >0.007988</td>\n",
       "                        <td id=\"T_4faf9a92_3e76_11eb_865c_acde48001122row4_col4\" class=\"data row4 col4\" >0.000000</td>\n",
       "            </tr>\n",
       "    </tbody></table>"
      ],
      "text/plain": [
       "<pandas.io.formats.style.Styler at 0x7fe1f93d87d0>"
      ]
     },
     "execution_count": 66,
     "metadata": {},
     "output_type": "execute_result"
    }
   ],
   "source": [
    "# Discount congruence metric with prior candidate confidence\n",
    "weighted_df = np.array(matrix_df) * np.array(congruence_test_df)\n",
    "weighted_df = pd.DataFrame(weighted_df)\n",
    "max_num = max(np.max(weighted_df))\n",
    "weighted_df.style.apply(lambda x: [\"background: skyblue\" if v == max_num else \"\" for v in x], axis = 1)"
   ]
  },
  {
   "cell_type": "code",
   "execution_count": 67,
   "metadata": {},
   "outputs": [
    {
     "name": "stdout",
     "output_type": "stream",
     "text": [
      "Length:  5\n",
      "0 1\n",
      "0 2\n",
      "0 3\n",
      "0 4\n",
      "Length:  5\n",
      "1 2\n",
      "1 3\n",
      "1 4\n",
      "Length:  5\n",
      "2 3\n",
      "2 4\n",
      "Length:  5\n",
      "3 4\n",
      "Length:  5\n"
     ]
    }
   ],
   "source": [
    "# Demonstration of logic to ensure unique mention congruence only calculated once\n",
    "m = 0\n",
    "while m < len(sentence_mention_nums):\n",
    "    print(\"Length: \", len(sentence_mention_nums))\n",
    "    for i in sentence_mention_nums[m+1:]:\n",
    "        print(m, i)\n",
    "    m += 1"
   ]
  },
  {
   "cell_type": "code",
   "execution_count": 68,
   "metadata": {},
   "outputs": [
    {
     "name": "stdout",
     "output_type": "stream",
     "text": [
      "Comparing 0 & 1\n",
      "Congruent Pair:  ((3, 4), 0.7768851)\n",
      "Comparing 0 & 2\n",
      "Congruent Pair:  ((2, 0), 0.6718753)\n",
      "Comparing 0 & 3\n",
      "Congruent Pair:  ((2, 0), 0.6834503754416745)\n",
      "Comparing 0 & 4\n",
      "Congruent Pair:  ((2, 0), 0.7671312)\n",
      "Comparing 1 & 2\n",
      "Congruent Pair:  ((4, 0), 0.42040652)\n",
      "Comparing 1 & 3\n",
      "Congruent Pair:  ((4, 3), 0.36100444986173746)\n",
      "Comparing 1 & 4\n",
      "Congruent Pair:  ((4, 0), 0.4167)\n",
      "Comparing 2 & 3\n",
      "Congruent Pair:  ((0, 0), 0.7108868350464272)\n",
      "Comparing 2 & 4\n",
      "Congruent Pair:  ((0, 0), 0.6659345)\n",
      "Comparing 3 & 4\n",
      "Congruent Pair:  ((0, 0), 0.8045559194737764)\n",
      "*****************************************\n",
      "Max Congruent Pair:  (((4, 0), 0.42040652), 1, 2)\n"
     ]
    }
   ],
   "source": [
    "## Analyze congruence matrices to identify the most similar pair\n",
    "\n",
    "most_congruent_pair = (None, 0.0, 0, 0) # Most Congruent Candidates, Congruence Metric, Mention A, Mention B\n",
    "\n",
    "for m in sentence_mention_nums:\n",
    "    for n in sentence_mention_nums[m+1:]:\n",
    "        print(f\"Comparing {m} & {n}\")\n",
    "        congruent_pair = get_most_congruent_pair(congruence_dict[m][n])\n",
    "        print(\"Congruent Pair: \", congruent_pair)\n",
    "        if congruent_pair[1] > most_congruent_pair[1]:\n",
    "            # Save most congruent candidate pair and mentions\n",
    "            most_congruent_pair = congruent_pair, m, n\n",
    "            \n",
    "print(\"*****************************************\")\n",
    "print(\"Max Congruent Pair: \", most_congruent_pair)"
   ]
  },
  {
   "cell_type": "code",
   "execution_count": 69,
   "metadata": {},
   "outputs": [
    {
     "data": {
      "text/plain": [
       "{1: 4, 2: 0}"
      ]
     },
     "execution_count": 69,
     "metadata": {},
     "output_type": "execute_result"
    }
   ],
   "source": [
    "# Save max congruent pair estimates for each mention\n",
    "mention_predictions = {}\n",
    "mention_predictions[most_congruent_pair[1]] = most_congruent_pair[0][0][0]\n",
    "mention_predictions[most_congruent_pair[2]] = most_congruent_pair[0][0][1]\n",
    "mention_predictions"
   ]
  },
  {
   "cell_type": "code",
   "execution_count": 70,
   "metadata": {},
   "outputs": [
    {
     "name": "stdout",
     "output_type": "stream",
     "text": [
      "We have predictions for  dict_keys([1, 2])\n"
     ]
    }
   ],
   "source": [
    "# With two mentions set in their predictions, we must filter the other congruent matrices to find the next most\n",
    "print(\"We have predictions for \", mention_predictions.keys())"
   ]
  },
  {
   "cell_type": "code",
   "execution_count": 71,
   "metadata": {},
   "outputs": [
    {
     "data": {
      "text/plain": [
       "[0, 3, 4]"
      ]
     },
     "execution_count": 71,
     "metadata": {},
     "output_type": "execute_result"
    }
   ],
   "source": [
    "# Calculate remaining mentions to search\n",
    "mentions_remaining = list(set(sentence_mention_nums) - set(mention_predictions.keys()))\n",
    "mentions_remaining"
   ]
  },
  {
   "cell_type": "code",
   "execution_count": 72,
   "metadata": {},
   "outputs": [
    {
     "name": "stdout",
     "output_type": "stream",
     "text": [
      "Comparing 0 & 1\n",
      "Congruent Pair:  ((3, 4), 0.7768851)\n",
      "MAX: (((None, None), 0.0), (0, 0))\n",
      "Comparing 1 & 3\n",
      "Congruent Pair:  ((4, 3), 0.36100444986173746)\n",
      "MAX: (((3, 4), 0.7768851), (0, 1))\n",
      "Comparing 1 & 4\n",
      "Congruent Pair:  ((4, 0), 0.4167)\n",
      "MAX: (((3, 4), 0.7768851), (0, 1))\n",
      "Comparing 0 & 2\n",
      "Congruent Pair:  ((2, 0), 0.6718753)\n",
      "MAX: (((3, 4), 0.7768851), (0, 1))\n",
      "Comparing 2 & 3\n",
      "Congruent Pair:  ((0, 0), 0.7108868350464272)\n",
      "MAX: (((3, 4), 0.7768851), (0, 1))\n",
      "Comparing 2 & 4\n",
      "Congruent Pair:  ((0, 0), 0.6659345)\n",
      "MAX: (((3, 4), 0.7768851), (0, 1))\n",
      "*****************************************\n",
      "Max Congruent Pair:  (((3, 4), 0.7768851), (0, 1))\n"
     ]
    }
   ],
   "source": [
    "## Analyze congruence matrices to identify the most similar pair\n",
    "\n",
    "# (Candidate Pair, Congruence), (Mention A, Mention B) \n",
    "most_congruent_pair = (((None, None), 0.0), (0, 0))\n",
    "\n",
    "for m in mention_predictions.keys():\n",
    "    for n in mentions_remaining:\n",
    "        \n",
    "        # Because we always assume search small mention to large, must sort order\n",
    "        # Update incrementing variables to be in increasing order\n",
    "        m_tmp, n_tmp = np.sort((m, n))\n",
    "        \n",
    "        print(f\"Comparing {m_tmp} & {n_tmp}\")\n",
    "        congruent_pair = get_most_congruent_pair(congruence_dict[m_tmp][n_tmp])\n",
    "        print(\"Congruent Pair: \", congruent_pair)\n",
    "        print(\"MAX:\", most_congruent_pair)\n",
    "        if congruent_pair[1] > most_congruent_pair[0][1]:\n",
    "            # Save most congruent candidate pair and mentions\n",
    "            most_congruent_pair = congruent_pair, (m_tmp, n_tmp)\n",
    "            \n",
    "print(\"*****************************************\")\n",
    "print(\"Max Congruent Pair: \", most_congruent_pair)"
   ]
  },
  {
   "cell_type": "code",
   "execution_count": 73,
   "metadata": {},
   "outputs": [
    {
     "data": {
      "text/plain": [
       "0"
      ]
     },
     "execution_count": 73,
     "metadata": {},
     "output_type": "execute_result"
    }
   ],
   "source": [
    "# Find index location of the mention we are predicting for, the one that branches off the prior predicted mentions\n",
    "# AKA the one that isn't in the prediction keys\n",
    "new_mention_int = most_congruent_pair[1].index(list(set(most_congruent_pair[1]) - set(mention_predictions.keys())))\n",
    "new_mention_int"
   ]
  },
  {
   "cell_type": "code",
   "execution_count": 74,
   "metadata": {},
   "outputs": [
    {
     "data": {
      "text/plain": [
       "3"
      ]
     },
     "execution_count": 74,
     "metadata": {},
     "output_type": "execute_result"
    }
   ],
   "source": [
    "# Return candidate from candidate pair using that index position\n",
    "most_congruent_pair[0][0][new_mention_int]"
   ]
  },
  {
   "cell_type": "code",
   "execution_count": 75,
   "metadata": {},
   "outputs": [],
   "source": [
    "# Save that mention and that candidate to the predictions dict\n",
    "mention_predictions[most_congruent_pair[1][new_mention_int]] = most_congruent_pair[0][0][new_mention_int]"
   ]
  },
  {
   "cell_type": "code",
   "execution_count": 76,
   "metadata": {},
   "outputs": [
    {
     "data": {
      "text/plain": [
       "{1: 4, 2: 0, 0: 3}"
      ]
     },
     "execution_count": 76,
     "metadata": {},
     "output_type": "execute_result"
    }
   ],
   "source": [
    "# See what we got done\n",
    "mention_predictions"
   ]
  },
  {
   "cell_type": "code",
   "execution_count": 77,
   "metadata": {},
   "outputs": [
    {
     "data": {
      "text/plain": [
       "[3, 4]"
      ]
     },
     "execution_count": 77,
     "metadata": {},
     "output_type": "execute_result"
    }
   ],
   "source": [
    "# Calculate remaining mentions to search\n",
    "mentions_remaining = list(set(mentions_remaining) - set(mention_predictions.keys()))\n",
    "mentions_remaining"
   ]
  },
  {
   "cell_type": "code",
   "execution_count": 78,
   "metadata": {},
   "outputs": [
    {
     "name": "stdout",
     "output_type": "stream",
     "text": [
      "Comparing 1 & 3\n",
      "Congruent Pair:  ((4, 3), 0.36100444986173746)\n",
      "MAX: (((None, None), 0.0), (0, 0))\n",
      "Comparing 1 & 4\n",
      "Congruent Pair:  ((4, 0), 0.4167)\n",
      "MAX: (((4, 3), 0.36100444986173746), (1, 3))\n",
      "Comparing 2 & 3\n",
      "Congruent Pair:  ((0, 0), 0.7108868350464272)\n",
      "MAX: (((4, 0), 0.4167), (1, 4))\n",
      "Comparing 2 & 4\n",
      "Congruent Pair:  ((0, 0), 0.6659345)\n",
      "MAX: (((0, 0), 0.7108868350464272), (2, 3))\n",
      "Comparing 0 & 3\n",
      "Congruent Pair:  ((2, 0), 0.6834503754416745)\n",
      "MAX: (((0, 0), 0.7108868350464272), (2, 3))\n",
      "Comparing 0 & 4\n",
      "Congruent Pair:  ((2, 0), 0.7671312)\n",
      "MAX: (((0, 0), 0.7108868350464272), (2, 3))\n",
      "*****************************************\n",
      "Max Congruent Pair:  (((2, 0), 0.7671312), (0, 4))\n"
     ]
    }
   ],
   "source": [
    "## Analyze congruence matrices to identify the most similar pair\n",
    "\n",
    "# (Candidate Pair, Congruence), (Mention A, Mention B) \n",
    "most_congruent_pair = (((None, None), 0.0), (0, 0))\n",
    "\n",
    "for m in mention_predictions.keys():\n",
    "    for n in mentions_remaining:\n",
    "        \n",
    "        # Because we always assume search small mention to large, must sort order\n",
    "        # Update incrementing variables to be in increasing order\n",
    "        m_tmp, n_tmp = np.sort((m, n))\n",
    "        \n",
    "        print(f\"Comparing {m_tmp} & {n_tmp}\")\n",
    "        congruent_pair = get_most_congruent_pair(congruence_dict[m_tmp][n_tmp])\n",
    "        print(\"Congruent Pair: \", congruent_pair)\n",
    "        print(\"MAX:\", most_congruent_pair)\n",
    "        if congruent_pair[1] > most_congruent_pair[0][1]:\n",
    "            # Save most congruent candidate pair and mentions\n",
    "            most_congruent_pair = congruent_pair, (m_tmp, n_tmp)\n",
    "            \n",
    "print(\"*****************************************\")\n",
    "print(\"Max Congruent Pair: \", most_congruent_pair)"
   ]
  },
  {
   "cell_type": "code",
   "execution_count": 79,
   "metadata": {},
   "outputs": [
    {
     "data": {
      "text/plain": [
       "1"
      ]
     },
     "execution_count": 79,
     "metadata": {},
     "output_type": "execute_result"
    }
   ],
   "source": [
    "# Find index location of the mention we are predicting for, the one that branches off the prior predicted mentions\n",
    "# AKA the one that isn't in the prediction keys\n",
    "new_mention_int = most_congruent_pair[1].index(list(set(most_congruent_pair[1]) - set(mention_predictions.keys())))\n",
    "new_mention_int"
   ]
  },
  {
   "cell_type": "code",
   "execution_count": 80,
   "metadata": {},
   "outputs": [
    {
     "data": {
      "text/plain": [
       "0"
      ]
     },
     "execution_count": 80,
     "metadata": {},
     "output_type": "execute_result"
    }
   ],
   "source": [
    "# Return candidate from candidate pair using that index position\n",
    "most_congruent_pair[0][0][new_mention_int]"
   ]
  },
  {
   "cell_type": "code",
   "execution_count": 81,
   "metadata": {},
   "outputs": [],
   "source": [
    "# Save that mention and that candidate to the predictions dict\n",
    "mention_predictions[most_congruent_pair[1][new_mention_int]] = most_congruent_pair[0][0][new_mention_int]"
   ]
  },
  {
   "cell_type": "code",
   "execution_count": 82,
   "metadata": {},
   "outputs": [
    {
     "data": {
      "text/plain": [
       "{1: 4, 2: 0, 0: 3, 4: 0}"
      ]
     },
     "execution_count": 82,
     "metadata": {},
     "output_type": "execute_result"
    }
   ],
   "source": [
    "# See what we got done\n",
    "mention_predictions"
   ]
  },
  {
   "cell_type": "code",
   "execution_count": 83,
   "metadata": {},
   "outputs": [
    {
     "data": {
      "text/plain": [
       "[3]"
      ]
     },
     "execution_count": 83,
     "metadata": {},
     "output_type": "execute_result"
    }
   ],
   "source": [
    "# Calculate remaining mentions to search\n",
    "mentions_remaining = list(set(mentions_remaining) - set(mention_predictions.keys()))\n",
    "mentions_remaining"
   ]
  },
  {
   "cell_type": "code",
   "execution_count": 84,
   "metadata": {},
   "outputs": [
    {
     "name": "stdout",
     "output_type": "stream",
     "text": [
      "Comparing 1 & 3\n",
      "Congruent Pair:  ((4, 3), 0.36100444986173746)\n",
      "MAX: (((None, None), 0.0), (0, 0))\n",
      "Comparing 2 & 3\n",
      "Congruent Pair:  ((0, 0), 0.7108868350464272)\n",
      "MAX: (((4, 3), 0.36100444986173746), (1, 3))\n",
      "Comparing 0 & 3\n",
      "Congruent Pair:  ((2, 0), 0.6834503754416745)\n",
      "MAX: (((0, 0), 0.7108868350464272), (2, 3))\n",
      "Comparing 3 & 4\n",
      "Congruent Pair:  ((0, 0), 0.8045559194737764)\n",
      "MAX: (((0, 0), 0.7108868350464272), (2, 3))\n",
      "*****************************************\n",
      "Max Congruent Pair:  (((0, 0), 0.8045559194737764), (3, 4))\n"
     ]
    }
   ],
   "source": [
    "## Analyze congruence matrices to identify the most similar pair\n",
    "\n",
    "# (Candidate Pair, Congruence), (Mention A, Mention B) \n",
    "most_congruent_pair = (((None, None), 0.0), (0, 0))\n",
    "\n",
    "for m in mention_predictions.keys():\n",
    "    for n in mentions_remaining:\n",
    "        \n",
    "        # Because we always assume search small mention to large, must sort order\n",
    "        # Update incrementing variables to be in increasing order\n",
    "        m_tmp, n_tmp = np.sort((m, n))\n",
    "        \n",
    "        print(f\"Comparing {m_tmp} & {n_tmp}\")\n",
    "        congruent_pair = get_most_congruent_pair(congruence_dict[m_tmp][n_tmp])\n",
    "        print(\"Congruent Pair: \", congruent_pair)\n",
    "        print(\"MAX:\", most_congruent_pair)\n",
    "        if congruent_pair[1] > most_congruent_pair[0][1]:\n",
    "            # Save most congruent candidate pair and mentions\n",
    "            most_congruent_pair = congruent_pair, (m_tmp, n_tmp)\n",
    "            \n",
    "print(\"*****************************************\")\n",
    "print(\"Max Congruent Pair: \", most_congruent_pair)"
   ]
  },
  {
   "cell_type": "code",
   "execution_count": 85,
   "metadata": {},
   "outputs": [
    {
     "data": {
      "text/plain": [
       "0"
      ]
     },
     "execution_count": 85,
     "metadata": {},
     "output_type": "execute_result"
    }
   ],
   "source": [
    "# Find index location of the mention we are predicting for, the one that branches off the prior predicted mentions\n",
    "# AKA the one that isn't in the prediction keys\n",
    "new_mention_int = most_congruent_pair[1].index(list(set(most_congruent_pair[1]) - set(mention_predictions.keys())))\n",
    "new_mention_int"
   ]
  },
  {
   "cell_type": "code",
   "execution_count": 86,
   "metadata": {},
   "outputs": [
    {
     "data": {
      "text/plain": [
       "0"
      ]
     },
     "execution_count": 86,
     "metadata": {},
     "output_type": "execute_result"
    }
   ],
   "source": [
    "# Return candidate from candidate pair using that index position\n",
    "most_congruent_pair[0][0][new_mention_int]"
   ]
  },
  {
   "cell_type": "code",
   "execution_count": 87,
   "metadata": {},
   "outputs": [],
   "source": [
    "# Save that mention and that candidate to the predictions dict\n",
    "mention_predictions[most_congruent_pair[1][new_mention_int]] = most_congruent_pair[0][0][new_mention_int]"
   ]
  },
  {
   "cell_type": "code",
   "execution_count": 88,
   "metadata": {},
   "outputs": [
    {
     "data": {
      "text/plain": [
       "{1: 4, 2: 0, 0: 3, 4: 0, 3: 0}"
      ]
     },
     "execution_count": 88,
     "metadata": {},
     "output_type": "execute_result"
    }
   ],
   "source": [
    "# See what we got done\n",
    "mention_predictions"
   ]
  },
  {
   "cell_type": "code",
   "execution_count": 89,
   "metadata": {},
   "outputs": [
    {
     "data": {
      "text/plain": [
       "[]"
      ]
     },
     "execution_count": 89,
     "metadata": {},
     "output_type": "execute_result"
    }
   ],
   "source": [
    "# Calculate remaining mentions to search\n",
    "mentions_remaining = list(set(mentions_remaining) - set(mention_predictions.keys()))\n",
    "mentions_remaining"
   ]
  },
  {
   "cell_type": "code",
   "execution_count": 90,
   "metadata": {},
   "outputs": [
    {
     "name": "stdout",
     "output_type": "stream",
     "text": [
      "You've predicted everything!\n"
     ]
    }
   ],
   "source": [
    "if len(mentions_remaining) == 0:\n",
    "    print(\"You've predicted everything!\")"
   ]
  }
 ],
 "metadata": {
  "kernelspec": {
   "display_name": "Python 3",
   "language": "python",
   "name": "python3"
  },
  "language_info": {
   "codemirror_mode": {
    "name": "ipython",
    "version": 3
   },
   "file_extension": ".py",
   "mimetype": "text/x-python",
   "name": "python",
   "nbconvert_exporter": "python",
   "pygments_lexer": "ipython3",
   "version": "3.7.7"
  }
 },
 "nbformat": 4,
 "nbformat_minor": 4
}
