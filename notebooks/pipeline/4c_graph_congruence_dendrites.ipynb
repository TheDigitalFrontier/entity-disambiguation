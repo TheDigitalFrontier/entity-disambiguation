{
 "cells": [
  {
   "cell_type": "markdown",
   "metadata": {},
   "source": [
    "# Congruence via Dentritic Density\n",
    "\n",
    "In this notebook, we try to calculate candidate node similarity via a simpler computational method than N-Degree Relations. We take a list of candidate entities, represented as Item IDs, and search for that Item ID in either `source_item_id` or `target_item_id` in `statements_df`. This guarantees one layer of surrounding graph from the candidates, the potential for overlap and lets us measure candidate node importance via \"Density\" (number of first degree connections) or \"Connectivity\" (number of dendritic connections between candidate nodes)."
   ]
  },
  {
   "cell_type": "markdown",
   "metadata": {},
   "source": [
    "#### Import Packages"
   ]
  },
  {
   "cell_type": "code",
   "execution_count": 1,
   "metadata": {},
   "outputs": [],
   "source": [
    "import os\n",
    "import time\n",
    "import re\n",
    "\n",
    "import pandas as pd\n",
    "import numpy as np\n",
    "import matplotlib.pyplot as plt\n",
    "%matplotlib inline\n",
    "\n",
    "# Progress bar\n",
    "from tqdm import tqdm"
   ]
  },
  {
   "cell_type": "markdown",
   "metadata": {},
   "source": [
    "## Integrate Predictions"
   ]
  },
  {
   "cell_type": "code",
   "execution_count": 2,
   "metadata": {},
   "outputs": [
    {
     "data": {
      "text/html": [
       "<div>\n",
       "<style scoped>\n",
       "    .dataframe tbody tr th:only-of-type {\n",
       "        vertical-align: middle;\n",
       "    }\n",
       "\n",
       "    .dataframe tbody tr th {\n",
       "        vertical-align: top;\n",
       "    }\n",
       "\n",
       "    .dataframe thead th {\n",
       "        text-align: right;\n",
       "    }\n",
       "</style>\n",
       "<table border=\"1\" class=\"dataframe\">\n",
       "  <thead>\n",
       "    <tr style=\"text-align: right;\">\n",
       "      <th></th>\n",
       "      <th>mention</th>\n",
       "      <th>full_mention</th>\n",
       "      <th>wikipedia_URL</th>\n",
       "      <th>wikipedia_ID</th>\n",
       "      <th>wikipedia_title</th>\n",
       "      <th>sentence_id</th>\n",
       "      <th>doc_id</th>\n",
       "      <th>congruent_mentions</th>\n",
       "      <th>preds_w2v_getentity</th>\n",
       "      <th>full_mention_norm</th>\n",
       "      <th>preds_w2v_mostsimilar</th>\n",
       "      <th>score_w2v_mostsimilar</th>\n",
       "      <th>candidate_pool_mostsimilar</th>\n",
       "      <th>candidate_scores_mostsimilar</th>\n",
       "    </tr>\n",
       "  </thead>\n",
       "  <tbody>\n",
       "    <tr>\n",
       "      <th>0</th>\n",
       "      <td>B</td>\n",
       "      <td>EU</td>\n",
       "      <td>NaN</td>\n",
       "      <td>NaN</td>\n",
       "      <td>NaN</td>\n",
       "      <td>0</td>\n",
       "      <td>0</td>\n",
       "      <td>['EU', 'German', 'British']</td>\n",
       "      <td>European Union</td>\n",
       "      <td>eu</td>\n",
       "      <td>European Union</td>\n",
       "      <td>0.787421</td>\n",
       "      <td>['European Union', 'European Free Trade Associ...</td>\n",
       "      <td>[0.7874206, 0.7662648, 0.76082164, 0.76052165,...</td>\n",
       "    </tr>\n",
       "    <tr>\n",
       "      <th>1</th>\n",
       "      <td>B</td>\n",
       "      <td>German</td>\n",
       "      <td>http://en.wikipedia.org/wiki/Germany</td>\n",
       "      <td>11867.0</td>\n",
       "      <td>Germany</td>\n",
       "      <td>0</td>\n",
       "      <td>0</td>\n",
       "      <td>['EU', 'German', 'British']</td>\n",
       "      <td>NaN</td>\n",
       "      <td>german</td>\n",
       "      <td>Culture of Germany</td>\n",
       "      <td>0.686803</td>\n",
       "      <td>['Culture of Germany', '1860 in Germany', '186...</td>\n",
       "      <td>[0.68680257, 0.6840672, 0.6836185, 0.68068546,...</td>\n",
       "    </tr>\n",
       "    <tr>\n",
       "      <th>2</th>\n",
       "      <td>B</td>\n",
       "      <td>British</td>\n",
       "      <td>http://en.wikipedia.org/wiki/United_Kingdom</td>\n",
       "      <td>31717.0</td>\n",
       "      <td>United Kingdom</td>\n",
       "      <td>0</td>\n",
       "      <td>0</td>\n",
       "      <td>['EU', 'German', 'British']</td>\n",
       "      <td>NaN</td>\n",
       "      <td>british</td>\n",
       "      <td>Russians in the United Kingdom</td>\n",
       "      <td>0.615564</td>\n",
       "      <td>['Russians in the United Kingdom', 'Henry Wood...</td>\n",
       "      <td>[0.6155642, 0.60587233, 0.6025652, 0.5973172, ...</td>\n",
       "    </tr>\n",
       "    <tr>\n",
       "      <th>3</th>\n",
       "      <td>B</td>\n",
       "      <td>Peter Blackburn</td>\n",
       "      <td>NaN</td>\n",
       "      <td>NaN</td>\n",
       "      <td>NaN</td>\n",
       "      <td>1</td>\n",
       "      <td>0</td>\n",
       "      <td>['Peter Blackburn', 'BRUSSELS', 'European Comm...</td>\n",
       "      <td>NaN</td>\n",
       "      <td>peter blackburn</td>\n",
       "      <td>Russians in the United Kingdom</td>\n",
       "      <td>0.615564</td>\n",
       "      <td>[]</td>\n",
       "      <td>[]</td>\n",
       "    </tr>\n",
       "    <tr>\n",
       "      <th>4</th>\n",
       "      <td>I</td>\n",
       "      <td>Peter Blackburn</td>\n",
       "      <td>NaN</td>\n",
       "      <td>NaN</td>\n",
       "      <td>NaN</td>\n",
       "      <td>1</td>\n",
       "      <td>0</td>\n",
       "      <td>['Peter Blackburn', 'BRUSSELS', 'European Comm...</td>\n",
       "      <td>NaN</td>\n",
       "      <td>peter blackburn</td>\n",
       "      <td>Russians in the United Kingdom</td>\n",
       "      <td>0.615564</td>\n",
       "      <td>[]</td>\n",
       "      <td>[]</td>\n",
       "    </tr>\n",
       "    <tr>\n",
       "      <th>5</th>\n",
       "      <td>B</td>\n",
       "      <td>BRUSSELS</td>\n",
       "      <td>http://en.wikipedia.org/wiki/Brussels</td>\n",
       "      <td>3708.0</td>\n",
       "      <td>Brussels</td>\n",
       "      <td>1</td>\n",
       "      <td>0</td>\n",
       "      <td>['Peter Blackburn', 'BRUSSELS', 'European Comm...</td>\n",
       "      <td>NaN</td>\n",
       "      <td>brussels</td>\n",
       "      <td>Brussels</td>\n",
       "      <td>0.887070</td>\n",
       "      <td>['Brussels', 'Ghent', 'Timeline of Brussels', ...</td>\n",
       "      <td>[0.8870699, 0.7689268, 0.76867557, 0.7681168, ...</td>\n",
       "    </tr>\n",
       "    <tr>\n",
       "      <th>6</th>\n",
       "      <td>B</td>\n",
       "      <td>European Commission</td>\n",
       "      <td>http://en.wikipedia.org/wiki/European_Commission</td>\n",
       "      <td>9974.0</td>\n",
       "      <td>European Commission</td>\n",
       "      <td>1</td>\n",
       "      <td>0</td>\n",
       "      <td>['Peter Blackburn', 'BRUSSELS', 'European Comm...</td>\n",
       "      <td>European Commission</td>\n",
       "      <td>european commission</td>\n",
       "      <td>Brussels</td>\n",
       "      <td>0.887070</td>\n",
       "      <td>[]</td>\n",
       "      <td>[]</td>\n",
       "    </tr>\n",
       "    <tr>\n",
       "      <th>7</th>\n",
       "      <td>I</td>\n",
       "      <td>European Commission</td>\n",
       "      <td>http://en.wikipedia.org/wiki/European_Commission</td>\n",
       "      <td>9974.0</td>\n",
       "      <td>European Commission</td>\n",
       "      <td>1</td>\n",
       "      <td>0</td>\n",
       "      <td>['Peter Blackburn', 'BRUSSELS', 'European Comm...</td>\n",
       "      <td>European Commission</td>\n",
       "      <td>european commission</td>\n",
       "      <td>Brussels</td>\n",
       "      <td>0.887070</td>\n",
       "      <td>[]</td>\n",
       "      <td>[]</td>\n",
       "    </tr>\n",
       "    <tr>\n",
       "      <th>8</th>\n",
       "      <td>B</td>\n",
       "      <td>German</td>\n",
       "      <td>http://en.wikipedia.org/wiki/Germany</td>\n",
       "      <td>11867.0</td>\n",
       "      <td>Germany</td>\n",
       "      <td>1</td>\n",
       "      <td>0</td>\n",
       "      <td>['Peter Blackburn', 'BRUSSELS', 'European Comm...</td>\n",
       "      <td>NaN</td>\n",
       "      <td>german</td>\n",
       "      <td>Culture of Germany</td>\n",
       "      <td>0.686803</td>\n",
       "      <td>['Culture of Germany', '1860 in Germany', '186...</td>\n",
       "      <td>[0.68680257, 0.6840672, 0.6836185, 0.68068546,...</td>\n",
       "    </tr>\n",
       "    <tr>\n",
       "      <th>9</th>\n",
       "      <td>B</td>\n",
       "      <td>British</td>\n",
       "      <td>http://en.wikipedia.org/wiki/United_Kingdom</td>\n",
       "      <td>31717.0</td>\n",
       "      <td>United Kingdom</td>\n",
       "      <td>1</td>\n",
       "      <td>0</td>\n",
       "      <td>['Peter Blackburn', 'BRUSSELS', 'European Comm...</td>\n",
       "      <td>NaN</td>\n",
       "      <td>british</td>\n",
       "      <td>Russians in the United Kingdom</td>\n",
       "      <td>0.615564</td>\n",
       "      <td>['Russians in the United Kingdom', 'Henry Wood...</td>\n",
       "      <td>[0.6155642, 0.60587233, 0.6025652, 0.5973172, ...</td>\n",
       "    </tr>\n",
       "  </tbody>\n",
       "</table>\n",
       "</div>"
      ],
      "text/plain": [
       "  mention         full_mention  \\\n",
       "0       B                   EU   \n",
       "1       B               German   \n",
       "2       B              British   \n",
       "3       B      Peter Blackburn   \n",
       "4       I      Peter Blackburn   \n",
       "5       B             BRUSSELS   \n",
       "6       B  European Commission   \n",
       "7       I  European Commission   \n",
       "8       B               German   \n",
       "9       B              British   \n",
       "\n",
       "                                      wikipedia_URL  wikipedia_ID  \\\n",
       "0                                               NaN           NaN   \n",
       "1              http://en.wikipedia.org/wiki/Germany       11867.0   \n",
       "2       http://en.wikipedia.org/wiki/United_Kingdom       31717.0   \n",
       "3                                               NaN           NaN   \n",
       "4                                               NaN           NaN   \n",
       "5             http://en.wikipedia.org/wiki/Brussels        3708.0   \n",
       "6  http://en.wikipedia.org/wiki/European_Commission        9974.0   \n",
       "7  http://en.wikipedia.org/wiki/European_Commission        9974.0   \n",
       "8              http://en.wikipedia.org/wiki/Germany       11867.0   \n",
       "9       http://en.wikipedia.org/wiki/United_Kingdom       31717.0   \n",
       "\n",
       "       wikipedia_title  sentence_id  doc_id  \\\n",
       "0                  NaN            0       0   \n",
       "1              Germany            0       0   \n",
       "2       United Kingdom            0       0   \n",
       "3                  NaN            1       0   \n",
       "4                  NaN            1       0   \n",
       "5             Brussels            1       0   \n",
       "6  European Commission            1       0   \n",
       "7  European Commission            1       0   \n",
       "8              Germany            1       0   \n",
       "9       United Kingdom            1       0   \n",
       "\n",
       "                                  congruent_mentions  preds_w2v_getentity  \\\n",
       "0                        ['EU', 'German', 'British']       European Union   \n",
       "1                        ['EU', 'German', 'British']                  NaN   \n",
       "2                        ['EU', 'German', 'British']                  NaN   \n",
       "3  ['Peter Blackburn', 'BRUSSELS', 'European Comm...                  NaN   \n",
       "4  ['Peter Blackburn', 'BRUSSELS', 'European Comm...                  NaN   \n",
       "5  ['Peter Blackburn', 'BRUSSELS', 'European Comm...                  NaN   \n",
       "6  ['Peter Blackburn', 'BRUSSELS', 'European Comm...  European Commission   \n",
       "7  ['Peter Blackburn', 'BRUSSELS', 'European Comm...  European Commission   \n",
       "8  ['Peter Blackburn', 'BRUSSELS', 'European Comm...                  NaN   \n",
       "9  ['Peter Blackburn', 'BRUSSELS', 'European Comm...                  NaN   \n",
       "\n",
       "     full_mention_norm           preds_w2v_mostsimilar  score_w2v_mostsimilar  \\\n",
       "0                   eu                  European Union               0.787421   \n",
       "1               german              Culture of Germany               0.686803   \n",
       "2              british  Russians in the United Kingdom               0.615564   \n",
       "3      peter blackburn  Russians in the United Kingdom               0.615564   \n",
       "4      peter blackburn  Russians in the United Kingdom               0.615564   \n",
       "5             brussels                        Brussels               0.887070   \n",
       "6  european commission                        Brussels               0.887070   \n",
       "7  european commission                        Brussels               0.887070   \n",
       "8               german              Culture of Germany               0.686803   \n",
       "9              british  Russians in the United Kingdom               0.615564   \n",
       "\n",
       "                          candidate_pool_mostsimilar  \\\n",
       "0  ['European Union', 'European Free Trade Associ...   \n",
       "1  ['Culture of Germany', '1860 in Germany', '186...   \n",
       "2  ['Russians in the United Kingdom', 'Henry Wood...   \n",
       "3                                                 []   \n",
       "4                                                 []   \n",
       "5  ['Brussels', 'Ghent', 'Timeline of Brussels', ...   \n",
       "6                                                 []   \n",
       "7                                                 []   \n",
       "8  ['Culture of Germany', '1860 in Germany', '186...   \n",
       "9  ['Russians in the United Kingdom', 'Henry Wood...   \n",
       "\n",
       "                        candidate_scores_mostsimilar  \n",
       "0  [0.7874206, 0.7662648, 0.76082164, 0.76052165,...  \n",
       "1  [0.68680257, 0.6840672, 0.6836185, 0.68068546,...  \n",
       "2  [0.6155642, 0.60587233, 0.6025652, 0.5973172, ...  \n",
       "3                                                 []  \n",
       "4                                                 []  \n",
       "5  [0.8870699, 0.7689268, 0.76867557, 0.7681168, ...  \n",
       "6                                                 []  \n",
       "7                                                 []  \n",
       "8  [0.68680257, 0.6840672, 0.6836185, 0.68068546,...  \n",
       "9  [0.6155642, 0.60587233, 0.6025652, 0.5973172, ...  "
      ]
     },
     "execution_count": 2,
     "metadata": {},
     "output_type": "execute_result"
    }
   ],
   "source": [
    "# Base path to input\n",
    "preds_path = '../../predictions/'\n",
    "\n",
    "# Load data\n",
    "entity_disambiguation = pd.read_csv(os.path.join(preds_path, \"wikipedia2vec_most_similar.csv\"), delimiter=\",\")\n",
    "entity_disambiguation.head(10)"
   ]
  },
  {
   "cell_type": "code",
   "execution_count": 3,
   "metadata": {},
   "outputs": [
    {
     "data": {
      "text/plain": [
       "1000"
      ]
     },
     "execution_count": 3,
     "metadata": {},
     "output_type": "execute_result"
    }
   ],
   "source": [
    "# Confirm length\n",
    "len(entity_disambiguation)"
   ]
  },
  {
   "cell_type": "markdown",
   "metadata": {},
   "source": [
    "### Parse Saved Candidate Pool\n",
    "\n",
    "Candidate pools when exported are typically stored as the string of a list. The below function parses the string back into a list with proper formatted values."
   ]
  },
  {
   "cell_type": "code",
   "execution_count": 4,
   "metadata": {},
   "outputs": [
    {
     "data": {
      "text/plain": [
       "['European Union',\n",
       " 'European Free Trade Association',\n",
       " 'European Economic Area',\n",
       " 'European Union legislative procedure#Codecision procedure',\n",
       " 'Directorate-General for Trade',\n",
       " 'European Union Operations Centre',\n",
       " 'Development Cooperation Instrument',\n",
       " 'European Common Aviation Area',\n",
       " 'European Political Strategy Centre',\n",
       " 'European Union Global Strategy',\n",
       " 'Treaties of the European Union',\n",
       " 'European Defence Fund',\n",
       " 'Bodies of the European Union',\n",
       " 'Common commercial policy',\n",
       " 'Common Foreign and Security Policy\\', \"European Union\\'s scientific cooperation beyond the bloc\", \\'Small Business Act for Europe',\n",
       " 'Committee of Permanent Representatives',\n",
       " 'Treaties of the European Union#Treaty on the functioning of the European Union',\n",
       " 'Lists of member states of the European Union',\n",
       " 'Free trade areas in Europe#BAFTA',\n",
       " 'Member state of the European Union',\n",
       " 'Acquis communautaire',\n",
       " 'Directorate-General for External Relations (European Commission)',\n",
       " 'Directorate-General for Financial Stability, Financial Services and Capital Markets Union']"
      ]
     },
     "execution_count": 4,
     "metadata": {},
     "output_type": "execute_result"
    }
   ],
   "source": [
    "# Example\n",
    "entity_disambiguation['candidate_pool_mostsimilar'][0][2:-2].split(\"', '\")"
   ]
  },
  {
   "cell_type": "code",
   "execution_count": 5,
   "metadata": {},
   "outputs": [],
   "source": [
    "# Function to parse list as string\n",
    "def parse_w2v_list(list_string):\n",
    "    \n",
    "    parsed_list = []\n",
    "    \n",
    "    # If candidate pool is empty\n",
    "    if list_string == \"[]\":\n",
    "        pass\n",
    "    # Else parse\n",
    "    else:\n",
    "        # Eliminate bracket and parenthesis on either side, split by comma pattern\n",
    "        parsed_list = re.split(\"', '|\\\", \\\"|', \\\"|\\\", \\'\", list_string[2:-2])\n",
    "        \n",
    "    return parsed_list\n"
   ]
  },
  {
   "cell_type": "code",
   "execution_count": 6,
   "metadata": {},
   "outputs": [
    {
     "data": {
      "text/plain": [
       "['European Union',\n",
       " 'European Free Trade Association',\n",
       " 'European Economic Area',\n",
       " 'European Union legislative procedure#Codecision procedure',\n",
       " 'Directorate-General for Trade',\n",
       " 'European Union Operations Centre',\n",
       " 'Development Cooperation Instrument',\n",
       " 'European Common Aviation Area',\n",
       " 'European Political Strategy Centre',\n",
       " 'European Union Global Strategy',\n",
       " 'Treaties of the European Union',\n",
       " 'European Defence Fund',\n",
       " 'Bodies of the European Union',\n",
       " 'Common commercial policy',\n",
       " 'Common Foreign and Security Policy',\n",
       " \"European Union's scientific cooperation beyond the bloc\",\n",
       " 'Small Business Act for Europe',\n",
       " 'Committee of Permanent Representatives',\n",
       " 'Treaties of the European Union#Treaty on the functioning of the European Union',\n",
       " 'Lists of member states of the European Union',\n",
       " 'Free trade areas in Europe#BAFTA',\n",
       " 'Member state of the European Union',\n",
       " 'Acquis communautaire',\n",
       " 'Directorate-General for External Relations (European Commission)',\n",
       " 'Directorate-General for Financial Stability, Financial Services and Capital Markets Union']"
      ]
     },
     "execution_count": 6,
     "metadata": {},
     "output_type": "execute_result"
    }
   ],
   "source": [
    "# Manually test function\n",
    "# 0 is the hard one. See how some value is stored with '' and some with \"\". Unsure why.\n",
    "parse_w2v_list(entity_disambiguation['candidate_pool_mostsimilar'][0])"
   ]
  },
  {
   "cell_type": "code",
   "execution_count": 7,
   "metadata": {},
   "outputs": [
    {
     "data": {
      "text/plain": [
       "0    [European Union, European Free Trade Associati...\n",
       "1    [Culture of Germany, 1860 in Germany, 1866 in ...\n",
       "2    [Russians in the United Kingdom, Henry Wood (n...\n",
       "Name: candidate_pool_mostsimilar, dtype: object"
      ]
     },
     "execution_count": 7,
     "metadata": {},
     "output_type": "execute_result"
    }
   ],
   "source": [
    "# Apply defined function\n",
    "parsed_candidate_pool = entity_disambiguation['candidate_pool_mostsimilar'].apply(parse_w2v_list)\n",
    "entity_disambiguation['candidate_pool_mostsimilar'] = parsed_candidate_pool\n",
    "entity_disambiguation['candidate_pool_mostsimilar'][:3]"
   ]
  },
  {
   "cell_type": "code",
   "execution_count": 8,
   "metadata": {},
   "outputs": [
    {
     "data": {
      "text/html": [
       "<div>\n",
       "<style scoped>\n",
       "    .dataframe tbody tr th:only-of-type {\n",
       "        vertical-align: middle;\n",
       "    }\n",
       "\n",
       "    .dataframe tbody tr th {\n",
       "        vertical-align: top;\n",
       "    }\n",
       "\n",
       "    .dataframe thead th {\n",
       "        text-align: right;\n",
       "    }\n",
       "</style>\n",
       "<table border=\"1\" class=\"dataframe\">\n",
       "  <thead>\n",
       "    <tr style=\"text-align: right;\">\n",
       "      <th></th>\n",
       "      <th>page_id</th>\n",
       "      <th>item_id</th>\n",
       "      <th>title</th>\n",
       "      <th>views</th>\n",
       "    </tr>\n",
       "  </thead>\n",
       "  <tbody>\n",
       "    <tr>\n",
       "      <th>0</th>\n",
       "      <td>12</td>\n",
       "      <td>6199</td>\n",
       "      <td>Anarchism</td>\n",
       "      <td>31335</td>\n",
       "    </tr>\n",
       "    <tr>\n",
       "      <th>1</th>\n",
       "      <td>25</td>\n",
       "      <td>38404</td>\n",
       "      <td>Autism</td>\n",
       "      <td>49693</td>\n",
       "    </tr>\n",
       "    <tr>\n",
       "      <th>2</th>\n",
       "      <td>39</td>\n",
       "      <td>101038</td>\n",
       "      <td>Albedo</td>\n",
       "      <td>14573</td>\n",
       "    </tr>\n",
       "  </tbody>\n",
       "</table>\n",
       "</div>"
      ],
      "text/plain": [
       "   page_id  item_id      title  views\n",
       "0       12     6199  Anarchism  31335\n",
       "1       25    38404     Autism  49693\n",
       "2       39   101038     Albedo  14573"
      ]
     },
     "metadata": {},
     "output_type": "display_data"
    }
   ],
   "source": [
    "# Integrate page.csv\n",
    "page_df = pd.read_csv(\"../../data/kdkg/page.csv\", delimiter=',')\n",
    "assert type(page_df) is not None\n",
    "display(page_df.head(3))"
   ]
  },
  {
   "cell_type": "code",
   "execution_count": 9,
   "metadata": {},
   "outputs": [
    {
     "data": {
      "text/html": [
       "<div>\n",
       "<style scoped>\n",
       "    .dataframe tbody tr th:only-of-type {\n",
       "        vertical-align: middle;\n",
       "    }\n",
       "\n",
       "    .dataframe tbody tr th {\n",
       "        vertical-align: top;\n",
       "    }\n",
       "\n",
       "    .dataframe thead th {\n",
       "        text-align: right;\n",
       "    }\n",
       "</style>\n",
       "<table border=\"1\" class=\"dataframe\">\n",
       "  <thead>\n",
       "    <tr style=\"text-align: right;\">\n",
       "      <th></th>\n",
       "      <th>page_id</th>\n",
       "      <th>item_id</th>\n",
       "      <th>title</th>\n",
       "      <th>views</th>\n",
       "    </tr>\n",
       "  </thead>\n",
       "  <tbody>\n",
       "    <tr>\n",
       "      <th>1352883</th>\n",
       "      <td>9808786</td>\n",
       "      <td>3308075</td>\n",
       "      <td>Russians in the United Kingdom</td>\n",
       "      <td>684</td>\n",
       "    </tr>\n",
       "  </tbody>\n",
       "</table>\n",
       "</div>"
      ],
      "text/plain": [
       "         page_id  item_id                           title  views\n",
       "1352883  9808786  3308075  Russians in the United Kingdom    684"
      ]
     },
     "execution_count": 9,
     "metadata": {},
     "output_type": "execute_result"
    }
   ],
   "source": [
    "# Test manual search\n",
    "page_df[page_df['title'] == \"Russians in the United Kingdom\"]"
   ]
  },
  {
   "cell_type": "markdown",
   "metadata": {},
   "source": [
    "### Get Item IDs"
   ]
  },
  {
   "cell_type": "code",
   "execution_count": 10,
   "metadata": {},
   "outputs": [],
   "source": [
    "# Define function to take Wikipedia page title and return Wikipedia Item ID and Page ID (todo)\n",
    "# Using page_df, not item_df\n",
    "def get_item_id(page_title):\n",
    "        \n",
    "    # Retrieve item id from page_df\n",
    "    try:\n",
    "        item_id = page_df[page_df['title'] == page_title]['item_id'].values[0]\n",
    "    #     page_id = page_df[page_df['title'] == page_title]['page_id']\n",
    "    except IndexError:\n",
    "        item_id = None\n",
    "        \n",
    "    return item_id # todo is there any reason to return page_id?"
   ]
  },
  {
   "cell_type": "code",
   "execution_count": 12,
   "metadata": {},
   "outputs": [
    {
     "name": "stderr",
     "output_type": "stream",
     "text": [
      "100%|██████████| 1000/1000 [17:48<00:00,  1.07s/it]"
     ]
    },
    {
     "name": "stdout",
     "output_type": "stream",
     "text": [
      "Unable to match known page title with page id:  17.292 %\n"
     ]
    },
    {
     "name": "stderr",
     "output_type": "stream",
     "text": [
      "\n"
     ]
    }
   ],
   "source": [
    "# Run over whole dataframe\n",
    "candidate_pool_ids = []\n",
    "no_id_match = 0\n",
    "query_count = 0\n",
    "for i in tqdm(range(len(entity_disambiguation))):\n",
    "    pool = []\n",
    "    candidates = entity_disambiguation['candidate_pool_mostsimilar'][i]\n",
    "    for l in candidates:\n",
    "        item_id = get_item_id(l)\n",
    "        pool.append(item_id)\n",
    "        if item_id is None:\n",
    "            no_id_match += 1\n",
    "        query_count += 1\n",
    "    candidate_pool_ids.append(pool)\n",
    "\n",
    "print(\"Unable to match known page title with page id: \", round(no_id_match/query_count*100,3),\"%\")"
   ]
  },
  {
   "cell_type": "code",
   "execution_count": 18,
   "metadata": {},
   "outputs": [
    {
     "data": {
      "text/html": [
       "<div>\n",
       "<style scoped>\n",
       "    .dataframe tbody tr th:only-of-type {\n",
       "        vertical-align: middle;\n",
       "    }\n",
       "\n",
       "    .dataframe tbody tr th {\n",
       "        vertical-align: top;\n",
       "    }\n",
       "\n",
       "    .dataframe thead th {\n",
       "        text-align: right;\n",
       "    }\n",
       "</style>\n",
       "<table border=\"1\" class=\"dataframe\">\n",
       "  <thead>\n",
       "    <tr style=\"text-align: right;\">\n",
       "      <th></th>\n",
       "      <th>mention</th>\n",
       "      <th>full_mention</th>\n",
       "      <th>wikipedia_URL</th>\n",
       "      <th>wikipedia_ID</th>\n",
       "      <th>wikipedia_title</th>\n",
       "      <th>sentence_id</th>\n",
       "      <th>doc_id</th>\n",
       "      <th>congruent_mentions</th>\n",
       "      <th>preds_w2v_getentity</th>\n",
       "      <th>full_mention_norm</th>\n",
       "      <th>preds_w2v_mostsimilar</th>\n",
       "      <th>score_w2v_mostsimilar</th>\n",
       "      <th>candidate_pool_mostsimilar</th>\n",
       "      <th>candidate_scores_mostsimilar</th>\n",
       "      <th>candidate_pool_ids</th>\n",
       "    </tr>\n",
       "  </thead>\n",
       "  <tbody>\n",
       "    <tr>\n",
       "      <th>0</th>\n",
       "      <td>B</td>\n",
       "      <td>EU</td>\n",
       "      <td>NaN</td>\n",
       "      <td>NaN</td>\n",
       "      <td>NaN</td>\n",
       "      <td>0</td>\n",
       "      <td>0</td>\n",
       "      <td>['EU', 'German', 'British']</td>\n",
       "      <td>European Union</td>\n",
       "      <td>eu</td>\n",
       "      <td>European Union</td>\n",
       "      <td>0.787421</td>\n",
       "      <td>[European Union, European Free Trade Associati...</td>\n",
       "      <td>[0.7874206, 0.7662648, 0.76082164, 0.76052165,...</td>\n",
       "      <td>[458, 166546, 8932, None, 1501745, 48739380, 5...</td>\n",
       "    </tr>\n",
       "    <tr>\n",
       "      <th>1</th>\n",
       "      <td>B</td>\n",
       "      <td>German</td>\n",
       "      <td>http://en.wikipedia.org/wiki/Germany</td>\n",
       "      <td>11867.0</td>\n",
       "      <td>Germany</td>\n",
       "      <td>0</td>\n",
       "      <td>0</td>\n",
       "      <td>['EU', 'German', 'British']</td>\n",
       "      <td>NaN</td>\n",
       "      <td>german</td>\n",
       "      <td>Culture of Germany</td>\n",
       "      <td>0.686803</td>\n",
       "      <td>[Culture of Germany, 1860 in Germany, 1866 in ...</td>\n",
       "      <td>[0.68680257, 0.6840672, 0.6836185, 0.68068546,...</td>\n",
       "      <td>[1979615, 56291039, None, None, None, None, None]</td>\n",
       "    </tr>\n",
       "    <tr>\n",
       "      <th>2</th>\n",
       "      <td>B</td>\n",
       "      <td>British</td>\n",
       "      <td>http://en.wikipedia.org/wiki/United_Kingdom</td>\n",
       "      <td>31717.0</td>\n",
       "      <td>United Kingdom</td>\n",
       "      <td>0</td>\n",
       "      <td>0</td>\n",
       "      <td>['EU', 'German', 'British']</td>\n",
       "      <td>NaN</td>\n",
       "      <td>british</td>\n",
       "      <td>Russians in the United Kingdom</td>\n",
       "      <td>0.615564</td>\n",
       "      <td>[Russians in the United Kingdom, Henry Wood (n...</td>\n",
       "      <td>[0.6155642, 0.60587233, 0.6025652, 0.5973172, ...</td>\n",
       "      <td>[3308075, None, None, None, 7785]</td>\n",
       "    </tr>\n",
       "  </tbody>\n",
       "</table>\n",
       "</div>"
      ],
      "text/plain": [
       "  mention full_mention                                wikipedia_URL  \\\n",
       "0       B           EU                                          NaN   \n",
       "1       B       German         http://en.wikipedia.org/wiki/Germany   \n",
       "2       B      British  http://en.wikipedia.org/wiki/United_Kingdom   \n",
       "\n",
       "   wikipedia_ID wikipedia_title  sentence_id  doc_id  \\\n",
       "0           NaN             NaN            0       0   \n",
       "1       11867.0         Germany            0       0   \n",
       "2       31717.0  United Kingdom            0       0   \n",
       "\n",
       "            congruent_mentions preds_w2v_getentity full_mention_norm  \\\n",
       "0  ['EU', 'German', 'British']      European Union                eu   \n",
       "1  ['EU', 'German', 'British']                 NaN            german   \n",
       "2  ['EU', 'German', 'British']                 NaN           british   \n",
       "\n",
       "            preds_w2v_mostsimilar  score_w2v_mostsimilar  \\\n",
       "0                  European Union               0.787421   \n",
       "1              Culture of Germany               0.686803   \n",
       "2  Russians in the United Kingdom               0.615564   \n",
       "\n",
       "                          candidate_pool_mostsimilar  \\\n",
       "0  [European Union, European Free Trade Associati...   \n",
       "1  [Culture of Germany, 1860 in Germany, 1866 in ...   \n",
       "2  [Russians in the United Kingdom, Henry Wood (n...   \n",
       "\n",
       "                        candidate_scores_mostsimilar  \\\n",
       "0  [0.7874206, 0.7662648, 0.76082164, 0.76052165,...   \n",
       "1  [0.68680257, 0.6840672, 0.6836185, 0.68068546,...   \n",
       "2  [0.6155642, 0.60587233, 0.6025652, 0.5973172, ...   \n",
       "\n",
       "                                  candidate_pool_ids  \n",
       "0  [458, 166546, 8932, None, 1501745, 48739380, 5...  \n",
       "1  [1979615, 56291039, None, None, None, None, None]  \n",
       "2                  [3308075, None, None, None, 7785]  "
      ]
     },
     "execution_count": 18,
     "metadata": {},
     "output_type": "execute_result"
    }
   ],
   "source": [
    "entity_disambiguation['candidate_pool_ids'] = candidate_pool_ids\n",
    "entity_disambiguation.head(3)"
   ]
  },
  {
   "cell_type": "markdown",
   "metadata": {},
   "source": [
    "# Generate Graph of Dendrites\n",
    "\n",
    "From this pool of candidate IDs, we are going to generate our one-degree in both direction dendritic graph from `statements.csv`."
   ]
  },
  {
   "cell_type": "code",
   "execution_count": 13,
   "metadata": {},
   "outputs": [
    {
     "data": {
      "text/html": [
       "<div>\n",
       "<style scoped>\n",
       "    .dataframe tbody tr th:only-of-type {\n",
       "        vertical-align: middle;\n",
       "    }\n",
       "\n",
       "    .dataframe tbody tr th {\n",
       "        vertical-align: top;\n",
       "    }\n",
       "\n",
       "    .dataframe thead th {\n",
       "        text-align: right;\n",
       "    }\n",
       "</style>\n",
       "<table border=\"1\" class=\"dataframe\">\n",
       "  <thead>\n",
       "    <tr style=\"text-align: right;\">\n",
       "      <th></th>\n",
       "      <th>source_item_id</th>\n",
       "      <th>edge_property_id</th>\n",
       "      <th>target_item_id</th>\n",
       "    </tr>\n",
       "  </thead>\n",
       "  <tbody>\n",
       "    <tr>\n",
       "      <th>0</th>\n",
       "      <td>1</td>\n",
       "      <td>31</td>\n",
       "      <td>36906466</td>\n",
       "    </tr>\n",
       "    <tr>\n",
       "      <th>1</th>\n",
       "      <td>1</td>\n",
       "      <td>279</td>\n",
       "      <td>3695190</td>\n",
       "    </tr>\n",
       "    <tr>\n",
       "      <th>2</th>\n",
       "      <td>1</td>\n",
       "      <td>398</td>\n",
       "      <td>497745</td>\n",
       "    </tr>\n",
       "  </tbody>\n",
       "</table>\n",
       "</div>"
      ],
      "text/plain": [
       "   source_item_id  edge_property_id  target_item_id\n",
       "0               1                31        36906466\n",
       "1               1               279         3695190\n",
       "2               1               398          497745"
      ]
     },
     "metadata": {},
     "output_type": "display_data"
    }
   ],
   "source": [
    "# Integrate statements.csv\n",
    "statements_df = pd.read_csv(\"../../data/kdkg/statements.csv\", delimiter=',')\n",
    "assert type(statements_df) is not None\n",
    "display(statements_df.head(3))"
   ]
  },
  {
   "cell_type": "code",
   "execution_count": 15,
   "metadata": {},
   "outputs": [
    {
     "name": "stdout",
     "output_type": "stream",
     "text": [
      "221 sentences in our data.\n"
     ]
    }
   ],
   "source": [
    "# How many sentences exist in our data\n",
    "sentence_count = max(entity_disambiguation['sentence_id'])\n",
    "print(\"{:,} sentences in our data.\".format(sentence_count))"
   ]
  },
  {
   "cell_type": "code",
   "execution_count": 172,
   "metadata": {},
   "outputs": [
    {
     "name": "stdout",
     "output_type": "stream",
     "text": [
      "Generating Values for Xinhua\n"
     ]
    },
    {
     "data": {
      "text/html": [
       "<div>\n",
       "<style scoped>\n",
       "    .dataframe tbody tr th:only-of-type {\n",
       "        vertical-align: middle;\n",
       "    }\n",
       "\n",
       "    .dataframe tbody tr th {\n",
       "        vertical-align: top;\n",
       "    }\n",
       "\n",
       "    .dataframe thead th {\n",
       "        text-align: right;\n",
       "    }\n",
       "</style>\n",
       "<table border=\"1\" class=\"dataframe\">\n",
       "  <thead>\n",
       "    <tr style=\"text-align: right;\">\n",
       "      <th></th>\n",
       "      <th>source_item_id</th>\n",
       "      <th>edge_property_id</th>\n",
       "      <th>target_item_id</th>\n",
       "    </tr>\n",
       "  </thead>\n",
       "  <tbody>\n",
       "    <tr>\n",
       "      <th>365048</th>\n",
       "      <td>17427</td>\n",
       "      <td>1830</td>\n",
       "      <td>851422</td>\n",
       "    </tr>\n",
       "    <tr>\n",
       "      <th>1048265</th>\n",
       "      <td>72877</td>\n",
       "      <td>150</td>\n",
       "      <td>1197024</td>\n",
       "    </tr>\n",
       "    <tr>\n",
       "      <th>2349691</th>\n",
       "      <td>198264</td>\n",
       "      <td>19</td>\n",
       "      <td>42956</td>\n",
       "    </tr>\n",
       "    <tr>\n",
       "      <th>2349692</th>\n",
       "      <td>198264</td>\n",
       "      <td>21</td>\n",
       "      <td>6581097</td>\n",
       "    </tr>\n",
       "    <tr>\n",
       "      <th>2349693</th>\n",
       "      <td>198264</td>\n",
       "      <td>27</td>\n",
       "      <td>148</td>\n",
       "    </tr>\n",
       "    <tr>\n",
       "      <th>...</th>\n",
       "      <td>...</td>\n",
       "      <td>...</td>\n",
       "      <td>...</td>\n",
       "    </tr>\n",
       "    <tr>\n",
       "      <th>68167593</th>\n",
       "      <td>24034788</td>\n",
       "      <td>108</td>\n",
       "      <td>204839</td>\n",
       "    </tr>\n",
       "    <tr>\n",
       "      <th>89354639</th>\n",
       "      <td>36980916</td>\n",
       "      <td>1889</td>\n",
       "      <td>851422</td>\n",
       "    </tr>\n",
       "    <tr>\n",
       "      <th>107902754</th>\n",
       "      <td>49865550</td>\n",
       "      <td>301</td>\n",
       "      <td>969272</td>\n",
       "    </tr>\n",
       "    <tr>\n",
       "      <th>118490013</th>\n",
       "      <td>58032242</td>\n",
       "      <td>921</td>\n",
       "      <td>851422</td>\n",
       "    </tr>\n",
       "    <tr>\n",
       "      <th>121003964</th>\n",
       "      <td>59816890</td>\n",
       "      <td>1433</td>\n",
       "      <td>204839</td>\n",
       "    </tr>\n",
       "  </tbody>\n",
       "</table>\n",
       "<p>103 rows × 3 columns</p>\n",
       "</div>"
      ],
      "text/plain": [
       "           source_item_id  edge_property_id  target_item_id\n",
       "365048              17427              1830          851422\n",
       "1048265             72877               150         1197024\n",
       "2349691            198264                19           42956\n",
       "2349692            198264                21         6581097\n",
       "2349693            198264                27             148\n",
       "...                   ...               ...             ...\n",
       "68167593         24034788               108          204839\n",
       "89354639         36980916              1889          851422\n",
       "107902754        49865550               301          969272\n",
       "118490013        58032242               921          851422\n",
       "121003964        59816890              1433          204839\n",
       "\n",
       "[103 rows x 3 columns]"
      ]
     },
     "metadata": {},
     "output_type": "display_data"
    },
    {
     "name": "stdout",
     "output_type": "stream",
     "text": [
      "CPU times: user 3.95 s, sys: 1.44 s, total: 5.39 s\n",
      "Wall time: 5.41 s\n"
     ]
    }
   ],
   "source": [
    "%%time\n",
    "# Manually test on one candidate pool\n",
    "rand_idx = np.random.randint(len(entity_disambiguation))\n",
    "print(\"Generating Values for {}\".format(entity_disambiguation['full_mention'][rand_idx]))\n",
    "candidate_pool = entity_disambiguation['candidate_pool_ids'][rand_idx]\n",
    "candidate_pool_dendrites = statements_df[statements_df['source_item_id'].isin(candidate_pool)\\\n",
    "             | statements_df['target_item_id'].isin(candidate_pool)]\n",
    "display(candidate_pool_dendrites)"
   ]
  },
  {
   "cell_type": "markdown",
   "metadata": {},
   "source": [
    "## Create Dendritic Graph using NetworkX"
   ]
  },
  {
   "cell_type": "code",
   "execution_count": 21,
   "metadata": {},
   "outputs": [],
   "source": [
    "# import NetworkX\n",
    "import networkx as nx"
   ]
  },
  {
   "cell_type": "code",
   "execution_count": 173,
   "metadata": {},
   "outputs": [
    {
     "name": "stdout",
     "output_type": "stream",
     "text": [
      "CPU times: user 934 µs, sys: 15 µs, total: 949 µs\n",
      "Wall time: 954 µs\n"
     ]
    }
   ],
   "source": [
    "%%time\n",
    "# Create NX graph from Pandas dataframe\n",
    "G = nx.from_pandas_edgelist(candidate_pool_dendrites,\n",
    "                           source='source_item_id', target='target_item_id',\n",
    "                           edge_attr=True, create_using=nx.MultiGraph())"
   ]
  },
  {
   "cell_type": "code",
   "execution_count": 174,
   "metadata": {},
   "outputs": [
    {
     "name": "stdout",
     "output_type": "stream",
     "text": [
      "Number of nodes:  69\n",
      "Number of links:  103\n"
     ]
    }
   ],
   "source": [
    "# Print number of nodes in graph\n",
    "print(\"Number of nodes: \", G.number_of_nodes())\n",
    "print(\"Number of links: \", G.number_of_edges())"
   ]
  },
  {
   "cell_type": "code",
   "execution_count": 175,
   "metadata": {},
   "outputs": [
    {
     "data": {
      "image/png": "[encoded data removed]",
      "text/plain": [
       "<Figure size 1440x720 with 1 Axes>"
      ]
     },
     "metadata": {},
     "output_type": "display_data"
    },
    {
     "name": "stdout",
     "output_type": "stream",
     "text": [
      "CPU times: user 301 ms, sys: 53.7 ms, total: 355 ms\n",
      "Wall time: 354 ms\n"
     ]
    }
   ],
   "source": [
    "%%time\n",
    "# Display filtered network graph for our source page\n",
    "plt.figure(figsize=(20,10))\n",
    "pos = nx.spring_layout(G, k = 0.1) # k regulates the distance between nodes\n",
    "nx.draw(G, with_labels=True, node_color='skyblue', node_size=500, edge_cmap=plt.cm.Blues, pos=pos)\n",
    "plt.title(\"Network Graph of Source Item ID and Linked Items\", size=30)\n",
    "plt.show()"
   ]
  },
  {
   "cell_type": "markdown",
   "metadata": {},
   "source": [
    "### Create Distance Matrix\n",
    "\n",
    "By taking every candidate and computing the distance to every other candidate, we can create a distance matrix showing which nodes (if any) are closer to each other. We will then select the most connected or closest connected node from the candidate pool as the predicted entity."
   ]
  },
  {
   "cell_type": "code",
   "execution_count": 176,
   "metadata": {},
   "outputs": [
    {
     "name": "stdout",
     "output_type": "stream",
     "text": [
      "Matrix will be of size 14x14\n"
     ]
    }
   ],
   "source": [
    "print(\"Matrix will be of size {}x{}\".format(len(candidate_pool), len(candidate_pool)))"
   ]
  },
  {
   "cell_type": "code",
   "execution_count": 177,
   "metadata": {},
   "outputs": [
    {
     "name": "stdout",
     "output_type": "stream",
     "text": [
      "CPU times: user 2.41 ms, sys: 3 µs, total: 2.41 ms\n",
      "Wall time: 2.41 ms\n"
     ]
    }
   ],
   "source": [
    "%%time\n",
    "# Iteratively create matrix\n",
    "shortest_path_matrix = []\n",
    "for candidate_src in candidate_pool:\n",
    "    shortest_paths = []\n",
    "#     print(\"Source: \", candidate_src)\n",
    "    for candidate_trgt in candidate_pool:\n",
    "#         print(\"Target: \", candidate_trgt)\n",
    "        if candidate_src is None or candidate_trgt is None:\n",
    "            shortest_paths.append(None)\n",
    "        else:\n",
    "            try:\n",
    "                shortest_paths.append(int(nx.shortest_path_length(G, source=candidate_src, target=candidate_trgt)))\n",
    "            except:\n",
    "                shortest_paths.append(-1)\n",
    "    shortest_path_matrix.append(shortest_paths)"
   ]
  },
  {
   "cell_type": "code",
   "execution_count": 178,
   "metadata": {
    "scrolled": false
   },
   "outputs": [
    {
     "data": {
      "text/html": [
       "<style  type=\"text/css\" >\n",
       "</style><table id=\"T_18e41f12_2a15_11eb_9edd_a683e72745ab\" ><thead>    <tr>        <th class=\"blank level0\" ></th>        <th class=\"col_heading level0 col0\" >0</th>        <th class=\"col_heading level0 col1\" >1</th>        <th class=\"col_heading level0 col2\" >2</th>        <th class=\"col_heading level0 col3\" >3</th>        <th class=\"col_heading level0 col4\" >4</th>        <th class=\"col_heading level0 col5\" >5</th>        <th class=\"col_heading level0 col6\" >6</th>        <th class=\"col_heading level0 col7\" >7</th>        <th class=\"col_heading level0 col8\" >8</th>        <th class=\"col_heading level0 col9\" >9</th>        <th class=\"col_heading level0 col10\" >10</th>        <th class=\"col_heading level0 col11\" >11</th>        <th class=\"col_heading level0 col12\" >12</th>        <th class=\"col_heading level0 col13\" >13</th>    </tr></thead><tbody>\n",
       "                <tr>\n",
       "                        <th id=\"T_18e41f12_2a15_11eb_9edd_a683e72745ablevel0_row0\" class=\"row_heading level0 row0\" >0</th>\n",
       "                        <td id=\"T_18e41f12_2a15_11eb_9edd_a683e72745abrow0_col0\" class=\"data row0 col0\" >0</td>\n",
       "                        <td id=\"T_18e41f12_2a15_11eb_9edd_a683e72745abrow0_col1\" class=\"data row0 col1\" >2</td>\n",
       "                        <td id=\"T_18e41f12_2a15_11eb_9edd_a683e72745abrow0_col2\" class=\"data row0 col2\" >2</td>\n",
       "                        <td id=\"T_18e41f12_2a15_11eb_9edd_a683e72745abrow0_col3\" class=\"data row0 col3\" >2</td>\n",
       "                        <td id=\"T_18e41f12_2a15_11eb_9edd_a683e72745abrow0_col4\" class=\"data row0 col4\" >2</td>\n",
       "                        <td id=\"T_18e41f12_2a15_11eb_9edd_a683e72745abrow0_col5\" class=\"data row0 col5\" >2</td>\n",
       "                        <td id=\"T_18e41f12_2a15_11eb_9edd_a683e72745abrow0_col6\" class=\"data row0 col6\" >2</td>\n",
       "                        <td id=\"T_18e41f12_2a15_11eb_9edd_a683e72745abrow0_col7\" class=\"data row0 col7\" >-1</td>\n",
       "                        <td id=\"T_18e41f12_2a15_11eb_9edd_a683e72745abrow0_col8\" class=\"data row0 col8\" >2</td>\n",
       "                        <td id=\"T_18e41f12_2a15_11eb_9edd_a683e72745abrow0_col9\" class=\"data row0 col9\" >2</td>\n",
       "                        <td id=\"T_18e41f12_2a15_11eb_9edd_a683e72745abrow0_col10\" class=\"data row0 col10\" >4</td>\n",
       "                        <td id=\"T_18e41f12_2a15_11eb_9edd_a683e72745abrow0_col11\" class=\"data row0 col11\" >4</td>\n",
       "                        <td id=\"T_18e41f12_2a15_11eb_9edd_a683e72745abrow0_col12\" class=\"data row0 col12\" >4</td>\n",
       "                        <td id=\"T_18e41f12_2a15_11eb_9edd_a683e72745abrow0_col13\" class=\"data row0 col13\" >4</td>\n",
       "            </tr>\n",
       "            <tr>\n",
       "                        <th id=\"T_18e41f12_2a15_11eb_9edd_a683e72745ablevel0_row1\" class=\"row_heading level0 row1\" >1</th>\n",
       "                        <td id=\"T_18e41f12_2a15_11eb_9edd_a683e72745abrow1_col0\" class=\"data row1 col0\" >2</td>\n",
       "                        <td id=\"T_18e41f12_2a15_11eb_9edd_a683e72745abrow1_col1\" class=\"data row1 col1\" >0</td>\n",
       "                        <td id=\"T_18e41f12_2a15_11eb_9edd_a683e72745abrow1_col2\" class=\"data row1 col2\" >4</td>\n",
       "                        <td id=\"T_18e41f12_2a15_11eb_9edd_a683e72745abrow1_col3\" class=\"data row1 col3\" >2</td>\n",
       "                        <td id=\"T_18e41f12_2a15_11eb_9edd_a683e72745abrow1_col4\" class=\"data row1 col4\" >4</td>\n",
       "                        <td id=\"T_18e41f12_2a15_11eb_9edd_a683e72745abrow1_col5\" class=\"data row1 col5\" >2</td>\n",
       "                        <td id=\"T_18e41f12_2a15_11eb_9edd_a683e72745abrow1_col6\" class=\"data row1 col6\" >4</td>\n",
       "                        <td id=\"T_18e41f12_2a15_11eb_9edd_a683e72745abrow1_col7\" class=\"data row1 col7\" >-1</td>\n",
       "                        <td id=\"T_18e41f12_2a15_11eb_9edd_a683e72745abrow1_col8\" class=\"data row1 col8\" >4</td>\n",
       "                        <td id=\"T_18e41f12_2a15_11eb_9edd_a683e72745abrow1_col9\" class=\"data row1 col9\" >4</td>\n",
       "                        <td id=\"T_18e41f12_2a15_11eb_9edd_a683e72745abrow1_col10\" class=\"data row1 col10\" >4</td>\n",
       "                        <td id=\"T_18e41f12_2a15_11eb_9edd_a683e72745abrow1_col11\" class=\"data row1 col11\" >4</td>\n",
       "                        <td id=\"T_18e41f12_2a15_11eb_9edd_a683e72745abrow1_col12\" class=\"data row1 col12\" >6</td>\n",
       "                        <td id=\"T_18e41f12_2a15_11eb_9edd_a683e72745abrow1_col13\" class=\"data row1 col13\" >4</td>\n",
       "            </tr>\n",
       "            <tr>\n",
       "                        <th id=\"T_18e41f12_2a15_11eb_9edd_a683e72745ablevel0_row2\" class=\"row_heading level0 row2\" >2</th>\n",
       "                        <td id=\"T_18e41f12_2a15_11eb_9edd_a683e72745abrow2_col0\" class=\"data row2 col0\" >2</td>\n",
       "                        <td id=\"T_18e41f12_2a15_11eb_9edd_a683e72745abrow2_col1\" class=\"data row2 col1\" >4</td>\n",
       "                        <td id=\"T_18e41f12_2a15_11eb_9edd_a683e72745abrow2_col2\" class=\"data row2 col2\" >0</td>\n",
       "                        <td id=\"T_18e41f12_2a15_11eb_9edd_a683e72745abrow2_col3\" class=\"data row2 col3\" >2</td>\n",
       "                        <td id=\"T_18e41f12_2a15_11eb_9edd_a683e72745abrow2_col4\" class=\"data row2 col4\" >2</td>\n",
       "                        <td id=\"T_18e41f12_2a15_11eb_9edd_a683e72745abrow2_col5\" class=\"data row2 col5\" >2</td>\n",
       "                        <td id=\"T_18e41f12_2a15_11eb_9edd_a683e72745abrow2_col6\" class=\"data row2 col6\" >2</td>\n",
       "                        <td id=\"T_18e41f12_2a15_11eb_9edd_a683e72745abrow2_col7\" class=\"data row2 col7\" >-1</td>\n",
       "                        <td id=\"T_18e41f12_2a15_11eb_9edd_a683e72745abrow2_col8\" class=\"data row2 col8\" >2</td>\n",
       "                        <td id=\"T_18e41f12_2a15_11eb_9edd_a683e72745abrow2_col9\" class=\"data row2 col9\" >2</td>\n",
       "                        <td id=\"T_18e41f12_2a15_11eb_9edd_a683e72745abrow2_col10\" class=\"data row2 col10\" >2</td>\n",
       "                        <td id=\"T_18e41f12_2a15_11eb_9edd_a683e72745abrow2_col11\" class=\"data row2 col11\" >4</td>\n",
       "                        <td id=\"T_18e41f12_2a15_11eb_9edd_a683e72745abrow2_col12\" class=\"data row2 col12\" >4</td>\n",
       "                        <td id=\"T_18e41f12_2a15_11eb_9edd_a683e72745abrow2_col13\" class=\"data row2 col13\" >2</td>\n",
       "            </tr>\n",
       "            <tr>\n",
       "                        <th id=\"T_18e41f12_2a15_11eb_9edd_a683e72745ablevel0_row3\" class=\"row_heading level0 row3\" >3</th>\n",
       "                        <td id=\"T_18e41f12_2a15_11eb_9edd_a683e72745abrow3_col0\" class=\"data row3 col0\" >2</td>\n",
       "                        <td id=\"T_18e41f12_2a15_11eb_9edd_a683e72745abrow3_col1\" class=\"data row3 col1\" >2</td>\n",
       "                        <td id=\"T_18e41f12_2a15_11eb_9edd_a683e72745abrow3_col2\" class=\"data row3 col2\" >2</td>\n",
       "                        <td id=\"T_18e41f12_2a15_11eb_9edd_a683e72745abrow3_col3\" class=\"data row3 col3\" >0</td>\n",
       "                        <td id=\"T_18e41f12_2a15_11eb_9edd_a683e72745abrow3_col4\" class=\"data row3 col4\" >2</td>\n",
       "                        <td id=\"T_18e41f12_2a15_11eb_9edd_a683e72745abrow3_col5\" class=\"data row3 col5\" >2</td>\n",
       "                        <td id=\"T_18e41f12_2a15_11eb_9edd_a683e72745abrow3_col6\" class=\"data row3 col6\" >2</td>\n",
       "                        <td id=\"T_18e41f12_2a15_11eb_9edd_a683e72745abrow3_col7\" class=\"data row3 col7\" >-1</td>\n",
       "                        <td id=\"T_18e41f12_2a15_11eb_9edd_a683e72745abrow3_col8\" class=\"data row3 col8\" >4</td>\n",
       "                        <td id=\"T_18e41f12_2a15_11eb_9edd_a683e72745abrow3_col9\" class=\"data row3 col9\" >2</td>\n",
       "                        <td id=\"T_18e41f12_2a15_11eb_9edd_a683e72745abrow3_col10\" class=\"data row3 col10\" >4</td>\n",
       "                        <td id=\"T_18e41f12_2a15_11eb_9edd_a683e72745abrow3_col11\" class=\"data row3 col11\" >4</td>\n",
       "                        <td id=\"T_18e41f12_2a15_11eb_9edd_a683e72745abrow3_col12\" class=\"data row3 col12\" >4</td>\n",
       "                        <td id=\"T_18e41f12_2a15_11eb_9edd_a683e72745abrow3_col13\" class=\"data row3 col13\" >2</td>\n",
       "            </tr>\n",
       "            <tr>\n",
       "                        <th id=\"T_18e41f12_2a15_11eb_9edd_a683e72745ablevel0_row4\" class=\"row_heading level0 row4\" >4</th>\n",
       "                        <td id=\"T_18e41f12_2a15_11eb_9edd_a683e72745abrow4_col0\" class=\"data row4 col0\" >2</td>\n",
       "                        <td id=\"T_18e41f12_2a15_11eb_9edd_a683e72745abrow4_col1\" class=\"data row4 col1\" >4</td>\n",
       "                        <td id=\"T_18e41f12_2a15_11eb_9edd_a683e72745abrow4_col2\" class=\"data row4 col2\" >2</td>\n",
       "                        <td id=\"T_18e41f12_2a15_11eb_9edd_a683e72745abrow4_col3\" class=\"data row4 col3\" >2</td>\n",
       "                        <td id=\"T_18e41f12_2a15_11eb_9edd_a683e72745abrow4_col4\" class=\"data row4 col4\" >0</td>\n",
       "                        <td id=\"T_18e41f12_2a15_11eb_9edd_a683e72745abrow4_col5\" class=\"data row4 col5\" >2</td>\n",
       "                        <td id=\"T_18e41f12_2a15_11eb_9edd_a683e72745abrow4_col6\" class=\"data row4 col6\" >2</td>\n",
       "                        <td id=\"T_18e41f12_2a15_11eb_9edd_a683e72745abrow4_col7\" class=\"data row4 col7\" >-1</td>\n",
       "                        <td id=\"T_18e41f12_2a15_11eb_9edd_a683e72745abrow4_col8\" class=\"data row4 col8\" >2</td>\n",
       "                        <td id=\"T_18e41f12_2a15_11eb_9edd_a683e72745abrow4_col9\" class=\"data row4 col9\" >2</td>\n",
       "                        <td id=\"T_18e41f12_2a15_11eb_9edd_a683e72745abrow4_col10\" class=\"data row4 col10\" >2</td>\n",
       "                        <td id=\"T_18e41f12_2a15_11eb_9edd_a683e72745abrow4_col11\" class=\"data row4 col11\" >4</td>\n",
       "                        <td id=\"T_18e41f12_2a15_11eb_9edd_a683e72745abrow4_col12\" class=\"data row4 col12\" >2</td>\n",
       "                        <td id=\"T_18e41f12_2a15_11eb_9edd_a683e72745abrow4_col13\" class=\"data row4 col13\" >4</td>\n",
       "            </tr>\n",
       "            <tr>\n",
       "                        <th id=\"T_18e41f12_2a15_11eb_9edd_a683e72745ablevel0_row5\" class=\"row_heading level0 row5\" >5</th>\n",
       "                        <td id=\"T_18e41f12_2a15_11eb_9edd_a683e72745abrow5_col0\" class=\"data row5 col0\" >2</td>\n",
       "                        <td id=\"T_18e41f12_2a15_11eb_9edd_a683e72745abrow5_col1\" class=\"data row5 col1\" >2</td>\n",
       "                        <td id=\"T_18e41f12_2a15_11eb_9edd_a683e72745abrow5_col2\" class=\"data row5 col2\" >2</td>\n",
       "                        <td id=\"T_18e41f12_2a15_11eb_9edd_a683e72745abrow5_col3\" class=\"data row5 col3\" >2</td>\n",
       "                        <td id=\"T_18e41f12_2a15_11eb_9edd_a683e72745abrow5_col4\" class=\"data row5 col4\" >2</td>\n",
       "                        <td id=\"T_18e41f12_2a15_11eb_9edd_a683e72745abrow5_col5\" class=\"data row5 col5\" >0</td>\n",
       "                        <td id=\"T_18e41f12_2a15_11eb_9edd_a683e72745abrow5_col6\" class=\"data row5 col6\" >2</td>\n",
       "                        <td id=\"T_18e41f12_2a15_11eb_9edd_a683e72745abrow5_col7\" class=\"data row5 col7\" >-1</td>\n",
       "                        <td id=\"T_18e41f12_2a15_11eb_9edd_a683e72745abrow5_col8\" class=\"data row5 col8\" >4</td>\n",
       "                        <td id=\"T_18e41f12_2a15_11eb_9edd_a683e72745abrow5_col9\" class=\"data row5 col9\" >2</td>\n",
       "                        <td id=\"T_18e41f12_2a15_11eb_9edd_a683e72745abrow5_col10\" class=\"data row5 col10\" >2</td>\n",
       "                        <td id=\"T_18e41f12_2a15_11eb_9edd_a683e72745abrow5_col11\" class=\"data row5 col11\" >2</td>\n",
       "                        <td id=\"T_18e41f12_2a15_11eb_9edd_a683e72745abrow5_col12\" class=\"data row5 col12\" >4</td>\n",
       "                        <td id=\"T_18e41f12_2a15_11eb_9edd_a683e72745abrow5_col13\" class=\"data row5 col13\" >2</td>\n",
       "            </tr>\n",
       "            <tr>\n",
       "                        <th id=\"T_18e41f12_2a15_11eb_9edd_a683e72745ablevel0_row6\" class=\"row_heading level0 row6\" >6</th>\n",
       "                        <td id=\"T_18e41f12_2a15_11eb_9edd_a683e72745abrow6_col0\" class=\"data row6 col0\" >2</td>\n",
       "                        <td id=\"T_18e41f12_2a15_11eb_9edd_a683e72745abrow6_col1\" class=\"data row6 col1\" >4</td>\n",
       "                        <td id=\"T_18e41f12_2a15_11eb_9edd_a683e72745abrow6_col2\" class=\"data row6 col2\" >2</td>\n",
       "                        <td id=\"T_18e41f12_2a15_11eb_9edd_a683e72745abrow6_col3\" class=\"data row6 col3\" >2</td>\n",
       "                        <td id=\"T_18e41f12_2a15_11eb_9edd_a683e72745abrow6_col4\" class=\"data row6 col4\" >2</td>\n",
       "                        <td id=\"T_18e41f12_2a15_11eb_9edd_a683e72745abrow6_col5\" class=\"data row6 col5\" >2</td>\n",
       "                        <td id=\"T_18e41f12_2a15_11eb_9edd_a683e72745abrow6_col6\" class=\"data row6 col6\" >0</td>\n",
       "                        <td id=\"T_18e41f12_2a15_11eb_9edd_a683e72745abrow6_col7\" class=\"data row6 col7\" >-1</td>\n",
       "                        <td id=\"T_18e41f12_2a15_11eb_9edd_a683e72745abrow6_col8\" class=\"data row6 col8\" >4</td>\n",
       "                        <td id=\"T_18e41f12_2a15_11eb_9edd_a683e72745abrow6_col9\" class=\"data row6 col9\" >2</td>\n",
       "                        <td id=\"T_18e41f12_2a15_11eb_9edd_a683e72745abrow6_col10\" class=\"data row6 col10\" >4</td>\n",
       "                        <td id=\"T_18e41f12_2a15_11eb_9edd_a683e72745abrow6_col11\" class=\"data row6 col11\" >4</td>\n",
       "                        <td id=\"T_18e41f12_2a15_11eb_9edd_a683e72745abrow6_col12\" class=\"data row6 col12\" >4</td>\n",
       "                        <td id=\"T_18e41f12_2a15_11eb_9edd_a683e72745abrow6_col13\" class=\"data row6 col13\" >4</td>\n",
       "            </tr>\n",
       "            <tr>\n",
       "                        <th id=\"T_18e41f12_2a15_11eb_9edd_a683e72745ablevel0_row7\" class=\"row_heading level0 row7\" >7</th>\n",
       "                        <td id=\"T_18e41f12_2a15_11eb_9edd_a683e72745abrow7_col0\" class=\"data row7 col0\" >-1</td>\n",
       "                        <td id=\"T_18e41f12_2a15_11eb_9edd_a683e72745abrow7_col1\" class=\"data row7 col1\" >-1</td>\n",
       "                        <td id=\"T_18e41f12_2a15_11eb_9edd_a683e72745abrow7_col2\" class=\"data row7 col2\" >-1</td>\n",
       "                        <td id=\"T_18e41f12_2a15_11eb_9edd_a683e72745abrow7_col3\" class=\"data row7 col3\" >-1</td>\n",
       "                        <td id=\"T_18e41f12_2a15_11eb_9edd_a683e72745abrow7_col4\" class=\"data row7 col4\" >-1</td>\n",
       "                        <td id=\"T_18e41f12_2a15_11eb_9edd_a683e72745abrow7_col5\" class=\"data row7 col5\" >-1</td>\n",
       "                        <td id=\"T_18e41f12_2a15_11eb_9edd_a683e72745abrow7_col6\" class=\"data row7 col6\" >-1</td>\n",
       "                        <td id=\"T_18e41f12_2a15_11eb_9edd_a683e72745abrow7_col7\" class=\"data row7 col7\" >-1</td>\n",
       "                        <td id=\"T_18e41f12_2a15_11eb_9edd_a683e72745abrow7_col8\" class=\"data row7 col8\" >-1</td>\n",
       "                        <td id=\"T_18e41f12_2a15_11eb_9edd_a683e72745abrow7_col9\" class=\"data row7 col9\" >-1</td>\n",
       "                        <td id=\"T_18e41f12_2a15_11eb_9edd_a683e72745abrow7_col10\" class=\"data row7 col10\" >-1</td>\n",
       "                        <td id=\"T_18e41f12_2a15_11eb_9edd_a683e72745abrow7_col11\" class=\"data row7 col11\" >-1</td>\n",
       "                        <td id=\"T_18e41f12_2a15_11eb_9edd_a683e72745abrow7_col12\" class=\"data row7 col12\" >-1</td>\n",
       "                        <td id=\"T_18e41f12_2a15_11eb_9edd_a683e72745abrow7_col13\" class=\"data row7 col13\" >-1</td>\n",
       "            </tr>\n",
       "            <tr>\n",
       "                        <th id=\"T_18e41f12_2a15_11eb_9edd_a683e72745ablevel0_row8\" class=\"row_heading level0 row8\" >8</th>\n",
       "                        <td id=\"T_18e41f12_2a15_11eb_9edd_a683e72745abrow8_col0\" class=\"data row8 col0\" >2</td>\n",
       "                        <td id=\"T_18e41f12_2a15_11eb_9edd_a683e72745abrow8_col1\" class=\"data row8 col1\" >4</td>\n",
       "                        <td id=\"T_18e41f12_2a15_11eb_9edd_a683e72745abrow8_col2\" class=\"data row8 col2\" >2</td>\n",
       "                        <td id=\"T_18e41f12_2a15_11eb_9edd_a683e72745abrow8_col3\" class=\"data row8 col3\" >4</td>\n",
       "                        <td id=\"T_18e41f12_2a15_11eb_9edd_a683e72745abrow8_col4\" class=\"data row8 col4\" >2</td>\n",
       "                        <td id=\"T_18e41f12_2a15_11eb_9edd_a683e72745abrow8_col5\" class=\"data row8 col5\" >4</td>\n",
       "                        <td id=\"T_18e41f12_2a15_11eb_9edd_a683e72745abrow8_col6\" class=\"data row8 col6\" >4</td>\n",
       "                        <td id=\"T_18e41f12_2a15_11eb_9edd_a683e72745abrow8_col7\" class=\"data row8 col7\" >-1</td>\n",
       "                        <td id=\"T_18e41f12_2a15_11eb_9edd_a683e72745abrow8_col8\" class=\"data row8 col8\" >0</td>\n",
       "                        <td id=\"T_18e41f12_2a15_11eb_9edd_a683e72745abrow8_col9\" class=\"data row8 col9\" >4</td>\n",
       "                        <td id=\"T_18e41f12_2a15_11eb_9edd_a683e72745abrow8_col10\" class=\"data row8 col10\" >2</td>\n",
       "                        <td id=\"T_18e41f12_2a15_11eb_9edd_a683e72745abrow8_col11\" class=\"data row8 col11\" >6</td>\n",
       "                        <td id=\"T_18e41f12_2a15_11eb_9edd_a683e72745abrow8_col12\" class=\"data row8 col12\" >2</td>\n",
       "                        <td id=\"T_18e41f12_2a15_11eb_9edd_a683e72745abrow8_col13\" class=\"data row8 col13\" >4</td>\n",
       "            </tr>\n",
       "            <tr>\n",
       "                        <th id=\"T_18e41f12_2a15_11eb_9edd_a683e72745ablevel0_row9\" class=\"row_heading level0 row9\" >9</th>\n",
       "                        <td id=\"T_18e41f12_2a15_11eb_9edd_a683e72745abrow9_col0\" class=\"data row9 col0\" >2</td>\n",
       "                        <td id=\"T_18e41f12_2a15_11eb_9edd_a683e72745abrow9_col1\" class=\"data row9 col1\" >4</td>\n",
       "                        <td id=\"T_18e41f12_2a15_11eb_9edd_a683e72745abrow9_col2\" class=\"data row9 col2\" >2</td>\n",
       "                        <td id=\"T_18e41f12_2a15_11eb_9edd_a683e72745abrow9_col3\" class=\"data row9 col3\" >2</td>\n",
       "                        <td id=\"T_18e41f12_2a15_11eb_9edd_a683e72745abrow9_col4\" class=\"data row9 col4\" >2</td>\n",
       "                        <td id=\"T_18e41f12_2a15_11eb_9edd_a683e72745abrow9_col5\" class=\"data row9 col5\" >2</td>\n",
       "                        <td id=\"T_18e41f12_2a15_11eb_9edd_a683e72745abrow9_col6\" class=\"data row9 col6\" >2</td>\n",
       "                        <td id=\"T_18e41f12_2a15_11eb_9edd_a683e72745abrow9_col7\" class=\"data row9 col7\" >-1</td>\n",
       "                        <td id=\"T_18e41f12_2a15_11eb_9edd_a683e72745abrow9_col8\" class=\"data row9 col8\" >4</td>\n",
       "                        <td id=\"T_18e41f12_2a15_11eb_9edd_a683e72745abrow9_col9\" class=\"data row9 col9\" >0</td>\n",
       "                        <td id=\"T_18e41f12_2a15_11eb_9edd_a683e72745abrow9_col10\" class=\"data row9 col10\" >4</td>\n",
       "                        <td id=\"T_18e41f12_2a15_11eb_9edd_a683e72745abrow9_col11\" class=\"data row9 col11\" >4</td>\n",
       "                        <td id=\"T_18e41f12_2a15_11eb_9edd_a683e72745abrow9_col12\" class=\"data row9 col12\" >4</td>\n",
       "                        <td id=\"T_18e41f12_2a15_11eb_9edd_a683e72745abrow9_col13\" class=\"data row9 col13\" >4</td>\n",
       "            </tr>\n",
       "            <tr>\n",
       "                        <th id=\"T_18e41f12_2a15_11eb_9edd_a683e72745ablevel0_row10\" class=\"row_heading level0 row10\" >10</th>\n",
       "                        <td id=\"T_18e41f12_2a15_11eb_9edd_a683e72745abrow10_col0\" class=\"data row10 col0\" >4</td>\n",
       "                        <td id=\"T_18e41f12_2a15_11eb_9edd_a683e72745abrow10_col1\" class=\"data row10 col1\" >4</td>\n",
       "                        <td id=\"T_18e41f12_2a15_11eb_9edd_a683e72745abrow10_col2\" class=\"data row10 col2\" >2</td>\n",
       "                        <td id=\"T_18e41f12_2a15_11eb_9edd_a683e72745abrow10_col3\" class=\"data row10 col3\" >4</td>\n",
       "                        <td id=\"T_18e41f12_2a15_11eb_9edd_a683e72745abrow10_col4\" class=\"data row10 col4\" >2</td>\n",
       "                        <td id=\"T_18e41f12_2a15_11eb_9edd_a683e72745abrow10_col5\" class=\"data row10 col5\" >2</td>\n",
       "                        <td id=\"T_18e41f12_2a15_11eb_9edd_a683e72745abrow10_col6\" class=\"data row10 col6\" >4</td>\n",
       "                        <td id=\"T_18e41f12_2a15_11eb_9edd_a683e72745abrow10_col7\" class=\"data row10 col7\" >-1</td>\n",
       "                        <td id=\"T_18e41f12_2a15_11eb_9edd_a683e72745abrow10_col8\" class=\"data row10 col8\" >2</td>\n",
       "                        <td id=\"T_18e41f12_2a15_11eb_9edd_a683e72745abrow10_col9\" class=\"data row10 col9\" >4</td>\n",
       "                        <td id=\"T_18e41f12_2a15_11eb_9edd_a683e72745abrow10_col10\" class=\"data row10 col10\" >0</td>\n",
       "                        <td id=\"T_18e41f12_2a15_11eb_9edd_a683e72745abrow10_col11\" class=\"data row10 col11\" >4</td>\n",
       "                        <td id=\"T_18e41f12_2a15_11eb_9edd_a683e72745abrow10_col12\" class=\"data row10 col12\" >2</td>\n",
       "                        <td id=\"T_18e41f12_2a15_11eb_9edd_a683e72745abrow10_col13\" class=\"data row10 col13\" >4</td>\n",
       "            </tr>\n",
       "            <tr>\n",
       "                        <th id=\"T_18e41f12_2a15_11eb_9edd_a683e72745ablevel0_row11\" class=\"row_heading level0 row11\" >11</th>\n",
       "                        <td id=\"T_18e41f12_2a15_11eb_9edd_a683e72745abrow11_col0\" class=\"data row11 col0\" >4</td>\n",
       "                        <td id=\"T_18e41f12_2a15_11eb_9edd_a683e72745abrow11_col1\" class=\"data row11 col1\" >4</td>\n",
       "                        <td id=\"T_18e41f12_2a15_11eb_9edd_a683e72745abrow11_col2\" class=\"data row11 col2\" >4</td>\n",
       "                        <td id=\"T_18e41f12_2a15_11eb_9edd_a683e72745abrow11_col3\" class=\"data row11 col3\" >4</td>\n",
       "                        <td id=\"T_18e41f12_2a15_11eb_9edd_a683e72745abrow11_col4\" class=\"data row11 col4\" >4</td>\n",
       "                        <td id=\"T_18e41f12_2a15_11eb_9edd_a683e72745abrow11_col5\" class=\"data row11 col5\" >2</td>\n",
       "                        <td id=\"T_18e41f12_2a15_11eb_9edd_a683e72745abrow11_col6\" class=\"data row11 col6\" >4</td>\n",
       "                        <td id=\"T_18e41f12_2a15_11eb_9edd_a683e72745abrow11_col7\" class=\"data row11 col7\" >-1</td>\n",
       "                        <td id=\"T_18e41f12_2a15_11eb_9edd_a683e72745abrow11_col8\" class=\"data row11 col8\" >6</td>\n",
       "                        <td id=\"T_18e41f12_2a15_11eb_9edd_a683e72745abrow11_col9\" class=\"data row11 col9\" >4</td>\n",
       "                        <td id=\"T_18e41f12_2a15_11eb_9edd_a683e72745abrow11_col10\" class=\"data row11 col10\" >4</td>\n",
       "                        <td id=\"T_18e41f12_2a15_11eb_9edd_a683e72745abrow11_col11\" class=\"data row11 col11\" >0</td>\n",
       "                        <td id=\"T_18e41f12_2a15_11eb_9edd_a683e72745abrow11_col12\" class=\"data row11 col12\" >6</td>\n",
       "                        <td id=\"T_18e41f12_2a15_11eb_9edd_a683e72745abrow11_col13\" class=\"data row11 col13\" >4</td>\n",
       "            </tr>\n",
       "            <tr>\n",
       "                        <th id=\"T_18e41f12_2a15_11eb_9edd_a683e72745ablevel0_row12\" class=\"row_heading level0 row12\" >12</th>\n",
       "                        <td id=\"T_18e41f12_2a15_11eb_9edd_a683e72745abrow12_col0\" class=\"data row12 col0\" >4</td>\n",
       "                        <td id=\"T_18e41f12_2a15_11eb_9edd_a683e72745abrow12_col1\" class=\"data row12 col1\" >6</td>\n",
       "                        <td id=\"T_18e41f12_2a15_11eb_9edd_a683e72745abrow12_col2\" class=\"data row12 col2\" >4</td>\n",
       "                        <td id=\"T_18e41f12_2a15_11eb_9edd_a683e72745abrow12_col3\" class=\"data row12 col3\" >4</td>\n",
       "                        <td id=\"T_18e41f12_2a15_11eb_9edd_a683e72745abrow12_col4\" class=\"data row12 col4\" >2</td>\n",
       "                        <td id=\"T_18e41f12_2a15_11eb_9edd_a683e72745abrow12_col5\" class=\"data row12 col5\" >4</td>\n",
       "                        <td id=\"T_18e41f12_2a15_11eb_9edd_a683e72745abrow12_col6\" class=\"data row12 col6\" >4</td>\n",
       "                        <td id=\"T_18e41f12_2a15_11eb_9edd_a683e72745abrow12_col7\" class=\"data row12 col7\" >-1</td>\n",
       "                        <td id=\"T_18e41f12_2a15_11eb_9edd_a683e72745abrow12_col8\" class=\"data row12 col8\" >2</td>\n",
       "                        <td id=\"T_18e41f12_2a15_11eb_9edd_a683e72745abrow12_col9\" class=\"data row12 col9\" >4</td>\n",
       "                        <td id=\"T_18e41f12_2a15_11eb_9edd_a683e72745abrow12_col10\" class=\"data row12 col10\" >2</td>\n",
       "                        <td id=\"T_18e41f12_2a15_11eb_9edd_a683e72745abrow12_col11\" class=\"data row12 col11\" >6</td>\n",
       "                        <td id=\"T_18e41f12_2a15_11eb_9edd_a683e72745abrow12_col12\" class=\"data row12 col12\" >0</td>\n",
       "                        <td id=\"T_18e41f12_2a15_11eb_9edd_a683e72745abrow12_col13\" class=\"data row12 col13\" >6</td>\n",
       "            </tr>\n",
       "            <tr>\n",
       "                        <th id=\"T_18e41f12_2a15_11eb_9edd_a683e72745ablevel0_row13\" class=\"row_heading level0 row13\" >13</th>\n",
       "                        <td id=\"T_18e41f12_2a15_11eb_9edd_a683e72745abrow13_col0\" class=\"data row13 col0\" >4</td>\n",
       "                        <td id=\"T_18e41f12_2a15_11eb_9edd_a683e72745abrow13_col1\" class=\"data row13 col1\" >4</td>\n",
       "                        <td id=\"T_18e41f12_2a15_11eb_9edd_a683e72745abrow13_col2\" class=\"data row13 col2\" >2</td>\n",
       "                        <td id=\"T_18e41f12_2a15_11eb_9edd_a683e72745abrow13_col3\" class=\"data row13 col3\" >2</td>\n",
       "                        <td id=\"T_18e41f12_2a15_11eb_9edd_a683e72745abrow13_col4\" class=\"data row13 col4\" >4</td>\n",
       "                        <td id=\"T_18e41f12_2a15_11eb_9edd_a683e72745abrow13_col5\" class=\"data row13 col5\" >2</td>\n",
       "                        <td id=\"T_18e41f12_2a15_11eb_9edd_a683e72745abrow13_col6\" class=\"data row13 col6\" >4</td>\n",
       "                        <td id=\"T_18e41f12_2a15_11eb_9edd_a683e72745abrow13_col7\" class=\"data row13 col7\" >-1</td>\n",
       "                        <td id=\"T_18e41f12_2a15_11eb_9edd_a683e72745abrow13_col8\" class=\"data row13 col8\" >4</td>\n",
       "                        <td id=\"T_18e41f12_2a15_11eb_9edd_a683e72745abrow13_col9\" class=\"data row13 col9\" >4</td>\n",
       "                        <td id=\"T_18e41f12_2a15_11eb_9edd_a683e72745abrow13_col10\" class=\"data row13 col10\" >4</td>\n",
       "                        <td id=\"T_18e41f12_2a15_11eb_9edd_a683e72745abrow13_col11\" class=\"data row13 col11\" >4</td>\n",
       "                        <td id=\"T_18e41f12_2a15_11eb_9edd_a683e72745abrow13_col12\" class=\"data row13 col12\" >6</td>\n",
       "                        <td id=\"T_18e41f12_2a15_11eb_9edd_a683e72745abrow13_col13\" class=\"data row13 col13\" >0</td>\n",
       "            </tr>\n",
       "    </tbody></table>"
      ],
      "text/plain": [
       "<pandas.io.formats.style.Styler at 0x7f9f8602dad0>"
      ]
     },
     "execution_count": 178,
     "metadata": {},
     "output_type": "execute_result"
    }
   ],
   "source": [
    "# Display matrix with closest nodes highlighted\n",
    "shortest_path_df = pd.DataFrame(shortest_path_matrix)\n",
    "shortest_path_df.style.apply(lambda x: [\"background: skyblue\" if v == 1 else \"\" for v in x], axis = 1)"
   ]
  },
  {
   "cell_type": "code",
   "execution_count": 179,
   "metadata": {},
   "outputs": [
    {
     "data": {
      "text/plain": [
       "13    0.0\n",
       "12    0.0\n",
       "11    0.0\n",
       "10    0.0\n",
       "9     0.0\n",
       "8     0.0\n",
       "7     0.0\n",
       "6     0.0\n",
       "5     0.0\n",
       "4     0.0\n",
       "3     0.0\n",
       "2     0.0\n",
       "1     0.0\n",
       "0     0.0\n",
       "dtype: float64"
      ]
     },
     "metadata": {},
     "output_type": "display_data"
    },
    {
     "name": "stdout",
     "output_type": "stream",
     "text": [
      "Prediction would be ['Taiwan News']\n"
     ]
    }
   ],
   "source": [
    "# Count node closest to other nodes\n",
    "rank_by_count_of_close = np.sum(shortest_path_df[shortest_path_df == 1], axis=0).sort_values(ascending=False)\n",
    "display(rank_by_count_of_close)\n",
    "prediction_by_count_rank = rank_by_count_of_close.index[0]\n",
    "print(\"Prediction would be {}\".format(page_df[page_df['item_id'] == candidate_pool[prediction_by_count_rank]]['title'].values))"
   ]
  },
  {
   "cell_type": "code",
   "execution_count": 180,
   "metadata": {},
   "outputs": [
    {
     "data": {
      "text/plain": [
       "7    -1.000000\n",
       "5     1.928571\n",
       "2     2.071429\n",
       "4     2.071429\n",
       "0     2.214286\n",
       "3     2.214286\n",
       "6     2.500000\n",
       "9     2.500000\n",
       "10    2.642857\n",
       "8     2.785714\n",
       "1     3.071429\n",
       "13    3.071429\n",
       "12    3.357143\n",
       "11    3.500000\n",
       "dtype: float64"
      ]
     },
     "metadata": {},
     "output_type": "display_data"
    },
    {
     "name": "stdout",
     "output_type": "stream",
     "text": [
      "Prediction would be ['China Daily']\n"
     ]
    }
   ],
   "source": [
    "# Count node with lowest average distance\n",
    "rank_by_mean_path = np.mean(shortest_path_df, axis=0).sort_values(ascending=True)\n",
    "display(rank_by_mean_path)\n",
    "# Filter out -1 values representing no path\n",
    "prediction_by_mean_rank = rank_by_mean_path[rank_by_mean_path >= 0].index[0]\n",
    "print(\"Prediction would be {}\".format(page_df[page_df['item_id'] == candidate_pool[prediction_by_mean_rank]]['title'].values))"
   ]
  },
  {
   "cell_type": "code",
   "execution_count": null,
   "metadata": {},
   "outputs": [],
   "source": []
  }
 ],
 "metadata": {
  "kernelspec": {
   "display_name": "Python 3",
   "language": "python",
   "name": "python3"
  },
  "language_info": {
   "codemirror_mode": {
    "name": "ipython",
    "version": 3
   },
   "file_extension": ".py",
   "mimetype": "text/x-python",
   "name": "python",
   "nbconvert_exporter": "python",
   "pygments_lexer": "ipython3",
   "version": "3.7.7"
  }
 },
 "nbformat": 4,
 "nbformat_minor": 4
}
