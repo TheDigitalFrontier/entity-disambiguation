{
 "cells": [
  {
   "cell_type": "markdown",
   "metadata": {},
   "source": [
    "# Congruence via Entity Vector Similarity\n",
    "\n",
    "In this notebook, we calculate the centroid distance measure between vectors of each entity candidate within a single sentence. The vectors will be retrieved from Wikipedia2vec's pre-trained API, which creates vectors for the entire Wikipedia page including its relational links. Comparing two vectors in this way thus lets us make a statement about similar pages and update our prior confidence based on that.\n",
    "\n",
    "#### (i) Via Centroid Distance\n",
    "\n",
    "In Phase 4, we calculate congruence between candidates in pools for mentions in the same sentence. Congruence is defined as the average candidate distance to the centroid vector of the candidate set. This lets us compare entire sets of candidates across all mentions at a time, instead of making pairwise comparisons."
   ]
  },
  {
   "cell_type": "markdown",
   "metadata": {},
   "source": [
    "### Import Packages"
   ]
  },
  {
   "cell_type": "code",
   "execution_count": 226,
   "metadata": {},
   "outputs": [],
   "source": [
    "import os\n",
    "import time\n",
    "import re\n",
    "\n",
    "import pandas as pd\n",
    "import numpy as np\n",
    "import matplotlib.pyplot as plt\n",
    "%matplotlib inline\n",
    "\n",
    "from sklearn.metrics.pairwise import cosine_similarity, pairwise_distances\n",
    "from itertools import product\n",
    "\n",
    "# Progress bar\n",
    "from tqdm import tqdm"
   ]
  },
  {
   "cell_type": "code",
   "execution_count": 227,
   "metadata": {},
   "outputs": [
    {
     "data": {
      "text/html": [
       "<div>\n",
       "<style scoped>\n",
       "    .dataframe tbody tr th:only-of-type {\n",
       "        vertical-align: middle;\n",
       "    }\n",
       "\n",
       "    .dataframe tbody tr th {\n",
       "        vertical-align: top;\n",
       "    }\n",
       "\n",
       "    .dataframe thead th {\n",
       "        text-align: right;\n",
       "    }\n",
       "</style>\n",
       "<table border=\"1\" class=\"dataframe\">\n",
       "  <thead>\n",
       "    <tr style=\"text-align: right;\">\n",
       "      <th></th>\n",
       "      <th>mention</th>\n",
       "      <th>full_mention</th>\n",
       "      <th>wikipedia_URL</th>\n",
       "      <th>wikipedia_page_ID</th>\n",
       "      <th>wikipedia_title</th>\n",
       "      <th>sentence_id</th>\n",
       "      <th>doc_id</th>\n",
       "      <th>congruent_mentions</th>\n",
       "      <th>norm_full_mention</th>\n",
       "      <th>candidate_pool_page_ids</th>\n",
       "      <th>candidate_pool_item_ids</th>\n",
       "      <th>candidate_pool_titles</th>\n",
       "      <th>candidate_pool_priors</th>\n",
       "    </tr>\n",
       "  </thead>\n",
       "  <tbody>\n",
       "    <tr>\n",
       "      <th>0</th>\n",
       "      <td>B</td>\n",
       "      <td>EU</td>\n",
       "      <td>NaN</td>\n",
       "      <td>NaN</td>\n",
       "      <td>NaN</td>\n",
       "      <td>0</td>\n",
       "      <td>0</td>\n",
       "      <td>['EU', 'German', 'British']</td>\n",
       "      <td>eu</td>\n",
       "      <td>[9317, 9239, 21347120, 9477, 1882861]</td>\n",
       "      <td>[458, 46, 211593, 1396, 363404]</td>\n",
       "      <td>['European_Union', 'Europe', 'Eu,_Seine-Mariti...</td>\n",
       "      <td>[0.9227799, 0.024651, 0.020196, 0.005346, 0.00...</td>\n",
       "    </tr>\n",
       "    <tr>\n",
       "      <th>1</th>\n",
       "      <td>B</td>\n",
       "      <td>German</td>\n",
       "      <td>http://en.wikipedia.org/wiki/Germany</td>\n",
       "      <td>11867.0</td>\n",
       "      <td>Germany</td>\n",
       "      <td>0</td>\n",
       "      <td>0</td>\n",
       "      <td>['EU', 'German', 'British']</td>\n",
       "      <td>german</td>\n",
       "      <td>[11867, 11884, 152735, 21212, 12674]</td>\n",
       "      <td>[183, 188, 42884, 7318, 43287]</td>\n",
       "      <td>['Germany', 'German_language', 'Germans', 'Naz...</td>\n",
       "      <td>[0.4192066, 0.2893363, 0.1470461, 0.03832, 0.0...</td>\n",
       "    </tr>\n",
       "    <tr>\n",
       "      <th>2</th>\n",
       "      <td>B</td>\n",
       "      <td>British</td>\n",
       "      <td>http://en.wikipedia.org/wiki/United_Kingdom</td>\n",
       "      <td>31717.0</td>\n",
       "      <td>United Kingdom</td>\n",
       "      <td>0</td>\n",
       "      <td>0</td>\n",
       "      <td>['EU', 'German', 'British']</td>\n",
       "      <td>british</td>\n",
       "      <td>[31717, 19097669, 13530298, 4721, 158019]</td>\n",
       "      <td>[145, 842438, 23666, 8680, 161885]</td>\n",
       "      <td>['United_Kingdom', 'British_people', 'Great_Br...</td>\n",
       "      <td>[0.6101256, 0.1146913, 0.0681775, 0.0366451, 0...</td>\n",
       "    </tr>\n",
       "    <tr>\n",
       "      <th>3</th>\n",
       "      <td>B</td>\n",
       "      <td>Peter Blackburn</td>\n",
       "      <td>NaN</td>\n",
       "      <td>NaN</td>\n",
       "      <td>NaN</td>\n",
       "      <td>1</td>\n",
       "      <td>0</td>\n",
       "      <td>['Peter Blackburn', 'BRUSSELS', 'European Comm...</td>\n",
       "      <td>peter blackburn</td>\n",
       "      <td>[56783206, 9643132, 56873217]</td>\n",
       "      <td>[2073954, 7172840, 26634508]</td>\n",
       "      <td>['Peter_Blackburn_(badminton)', 'Peter_Blackbu...</td>\n",
       "      <td>[0.5, 0.3, 0.2]</td>\n",
       "    </tr>\n",
       "    <tr>\n",
       "      <th>4</th>\n",
       "      <td>I</td>\n",
       "      <td>Peter Blackburn</td>\n",
       "      <td>NaN</td>\n",
       "      <td>NaN</td>\n",
       "      <td>NaN</td>\n",
       "      <td>1</td>\n",
       "      <td>0</td>\n",
       "      <td>['Peter Blackburn', 'BRUSSELS', 'European Comm...</td>\n",
       "      <td>peter blackburn</td>\n",
       "      <td>[56783206, 9643132, 56873217]</td>\n",
       "      <td>[2073954, 7172840, 26634508]</td>\n",
       "      <td>['Peter_Blackburn_(badminton)', 'Peter_Blackbu...</td>\n",
       "      <td>[0.5, 0.3, 0.2]</td>\n",
       "    </tr>\n",
       "  </tbody>\n",
       "</table>\n",
       "</div>"
      ],
      "text/plain": [
       "  mention     full_mention                                wikipedia_URL  \\\n",
       "0       B               EU                                          NaN   \n",
       "1       B           German         http://en.wikipedia.org/wiki/Germany   \n",
       "2       B          British  http://en.wikipedia.org/wiki/United_Kingdom   \n",
       "3       B  Peter Blackburn                                          NaN   \n",
       "4       I  Peter Blackburn                                          NaN   \n",
       "\n",
       "   wikipedia_page_ID wikipedia_title  sentence_id  doc_id  \\\n",
       "0                NaN             NaN            0       0   \n",
       "1            11867.0         Germany            0       0   \n",
       "2            31717.0  United Kingdom            0       0   \n",
       "3                NaN             NaN            1       0   \n",
       "4                NaN             NaN            1       0   \n",
       "\n",
       "                                  congruent_mentions norm_full_mention  \\\n",
       "0                        ['EU', 'German', 'British']                eu   \n",
       "1                        ['EU', 'German', 'British']            german   \n",
       "2                        ['EU', 'German', 'British']           british   \n",
       "3  ['Peter Blackburn', 'BRUSSELS', 'European Comm...   peter blackburn   \n",
       "4  ['Peter Blackburn', 'BRUSSELS', 'European Comm...   peter blackburn   \n",
       "\n",
       "                     candidate_pool_page_ids  \\\n",
       "0      [9317, 9239, 21347120, 9477, 1882861]   \n",
       "1       [11867, 11884, 152735, 21212, 12674]   \n",
       "2  [31717, 19097669, 13530298, 4721, 158019]   \n",
       "3              [56783206, 9643132, 56873217]   \n",
       "4              [56783206, 9643132, 56873217]   \n",
       "\n",
       "              candidate_pool_item_ids  \\\n",
       "0     [458, 46, 211593, 1396, 363404]   \n",
       "1      [183, 188, 42884, 7318, 43287]   \n",
       "2  [145, 842438, 23666, 8680, 161885]   \n",
       "3        [2073954, 7172840, 26634508]   \n",
       "4        [2073954, 7172840, 26634508]   \n",
       "\n",
       "                               candidate_pool_titles  \\\n",
       "0  ['European_Union', 'Europe', 'Eu,_Seine-Mariti...   \n",
       "1  ['Germany', 'German_language', 'Germans', 'Naz...   \n",
       "2  ['United_Kingdom', 'British_people', 'Great_Br...   \n",
       "3  ['Peter_Blackburn_(badminton)', 'Peter_Blackbu...   \n",
       "4  ['Peter_Blackburn_(badminton)', 'Peter_Blackbu...   \n",
       "\n",
       "                               candidate_pool_priors  \n",
       "0  [0.9227799, 0.024651, 0.020196, 0.005346, 0.00...  \n",
       "1  [0.4192066, 0.2893363, 0.1470461, 0.03832, 0.0...  \n",
       "2  [0.6101256, 0.1146913, 0.0681775, 0.0366451, 0...  \n",
       "3                                    [0.5, 0.3, 0.2]  \n",
       "4                                    [0.5, 0.3, 0.2]  "
      ]
     },
     "execution_count": 227,
     "metadata": {},
     "output_type": "execute_result"
    }
   ],
   "source": [
    "# Base path to input\n",
    "preds_path = '../../predictions/'\n",
    "\n",
    "# Load data\n",
    "full_mentions = pd.read_csv(os.path.join(preds_path, \"anchortext_frequency_5x5.csv\"), delimiter=\",\")\n",
    "full_mentions.head(5)"
   ]
  },
  {
   "cell_type": "code",
   "execution_count": 228,
   "metadata": {},
   "outputs": [
    {
     "name": "stdout",
     "output_type": "stream",
     "text": [
      "Mentions:  13781 , Sentences:  3935\n"
     ]
    }
   ],
   "source": [
    "print(\"Mentions: \", len(full_mentions), \", Sentences: \", len(full_mentions['sentence_id'].unique()))"
   ]
  },
  {
   "cell_type": "markdown",
   "metadata": {},
   "source": [
    "### Parse Saved Candidate Pool\n",
    "\n",
    "Candidate pools when exported to csv are stored as the string of the list. The below function parses the string back into a list with proper formatted values."
   ]
  },
  {
   "cell_type": "code",
   "execution_count": 229,
   "metadata": {},
   "outputs": [
    {
     "data": {
      "text/plain": [
       "str"
      ]
     },
     "execution_count": 229,
     "metadata": {},
     "output_type": "execute_result"
    }
   ],
   "source": [
    "# Demonstrate that list is string\n",
    "type(full_mentions['candidate_pool_page_ids'][0])"
   ]
  },
  {
   "cell_type": "code",
   "execution_count": 230,
   "metadata": {},
   "outputs": [],
   "source": [
    "# Function to parse list as string\n",
    "def parse_list_string(list_string, value_type=int):\n",
    "    \n",
    "    parsed_list = []\n",
    "    \n",
    "    # If candidate pool is empty\n",
    "    if list_string == \"[]\" or isinstance(list_string, float):\n",
    "        pass\n",
    "    # Else parse\n",
    "    else:\n",
    "        # Parses lists of titles as strings\n",
    "        if value_type==str:\n",
    "            # Eliminate bracket and parenthesis on either side, split by comma pattern\n",
    "            parsed_list = re.split(\"', '|\\\", \\\"|', \\\"|\\\", \\'\", list_string[2:-2])\n",
    "\n",
    "        # Parses lists of IDs as ints\n",
    "        elif value_type==int:\n",
    "            # Eliminate brackets and convert each number from string to int\n",
    "            parsed_list = list(map(int, list_string[1:-1].split(', ')))\n",
    "        elif value_type==float:\n",
    "            # Eliminate brackets and convert each number from string to int\n",
    "            parsed_list = list(map(float, list_string[1:-1].split(', ')))\n",
    "            \n",
    "        \n",
    "    return parsed_list\n"
   ]
  },
  {
   "cell_type": "code",
   "execution_count": 231,
   "metadata": {},
   "outputs": [
    {
     "data": {
      "text/plain": [
       "['European_Union',\n",
       " 'Europe',\n",
       " 'Eu,_Seine-Maritime',\n",
       " 'Europium',\n",
       " 'Citizenship_of_the_European_Union']"
      ]
     },
     "execution_count": 231,
     "metadata": {},
     "output_type": "execute_result"
    }
   ],
   "source": [
    "# Manually test function\n",
    "# 0 is the hard one. See how some value is stored with '' and some with \"\". Unsure why.\n",
    "parse_list_string(full_mentions['candidate_pool_titles'][0], value_type=str)"
   ]
  },
  {
   "cell_type": "code",
   "execution_count": 232,
   "metadata": {},
   "outputs": [
    {
     "data": {
      "text/plain": [
       "[9317, 9239, 21347120, 9477, 1882861]"
      ]
     },
     "execution_count": 232,
     "metadata": {},
     "output_type": "execute_result"
    }
   ],
   "source": [
    "# Manually test function\n",
    "# 0 is the hard one. See how some value is stored with '' and some with \"\". Unsure why.\n",
    "parse_list_string(full_mentions['candidate_pool_page_ids'][0], value_type=int)"
   ]
  },
  {
   "cell_type": "code",
   "execution_count": 233,
   "metadata": {},
   "outputs": [
    {
     "data": {
      "text/plain": [
       "[]"
      ]
     },
     "execution_count": 233,
     "metadata": {},
     "output_type": "execute_result"
    }
   ],
   "source": [
    "# Manually test function\n",
    "parse_list_string(full_mentions['candidate_pool_page_ids'][13], value_type=int)"
   ]
  },
  {
   "cell_type": "code",
   "execution_count": 234,
   "metadata": {},
   "outputs": [
    {
     "data": {
      "text/plain": [
       "[0.9227799, 0.024651, 0.020196, 0.005346, 0.002079]"
      ]
     },
     "execution_count": 234,
     "metadata": {},
     "output_type": "execute_result"
    }
   ],
   "source": [
    "# Manually test function\n",
    "parse_list_string(full_mentions['candidate_pool_priors'][0], value_type=float)"
   ]
  },
  {
   "cell_type": "code",
   "execution_count": 235,
   "metadata": {},
   "outputs": [
    {
     "name": "stdout",
     "output_type": "stream",
     "text": [
      "Before ['Peter Blackburn', 'BRUSSELS', 'European Commission', 'German', 'British']\n",
      "After ['Peter Blackburn', 'BRUSSELS', 'European Commission', 'German', 'British']\n",
      "Before [56783206, 9643132, 56873217]\n",
      "After [56783206, 9643132, 56873217]\n",
      "Before [2073954, 7172840, 26634508]\n",
      "After [2073954, 7172840, 26634508]\n",
      "Before ['Peter_Blackburn_(badminton)', 'Peter_Blackburn_(bishop)', 'Peter_Blackburn_(MP)']\n",
      "After ['Peter_Blackburn_(badminton)', 'Peter_Blackburn_(bishop)', 'Peter_Blackburn_(MP)']\n",
      "Before [0.5, 0.3, 0.2]\n",
      "After [0.5, 0.3, 0.2]\n",
      "CPU times: user 214 ms, sys: 14.2 ms, total: 228 ms\n",
      "Wall time: 228 ms\n"
     ]
    }
   ],
   "source": [
    "%%time\n",
    "\n",
    "### Apply defined function to entire dataframe for all candidate pool columns\n",
    "\n",
    "column = 'congruent_mentions'\n",
    "print(\"Before\", full_mentions[column][3])\n",
    "parsed_candidate_pool = full_mentions[column].apply(parse_list_string, value_type=str)\n",
    "full_mentions[column] = parsed_candidate_pool\n",
    "print(\"After\", full_mentions[column][3])\n",
    "\n",
    "column = 'candidate_pool_page_ids'\n",
    "print(\"Before\", full_mentions[column][3])\n",
    "parsed_candidate_pool = full_mentions[column].apply(parse_list_string, value_type=int)\n",
    "full_mentions[column] = parsed_candidate_pool\n",
    "print(\"After\", full_mentions[column][3])\n",
    "\n",
    "\n",
    "column = 'candidate_pool_item_ids'\n",
    "print(\"Before\", full_mentions[column][3])\n",
    "parsed_candidate_pool = full_mentions[column].apply(parse_list_string, value_type=int)\n",
    "full_mentions[column] = parsed_candidate_pool\n",
    "print(\"After\", full_mentions[column][3])\n",
    "\n",
    "\n",
    "column = 'candidate_pool_titles'\n",
    "print(\"Before\", full_mentions[column][3])\n",
    "parsed_candidate_pool = full_mentions[column].apply(parse_list_string, value_type=str)\n",
    "full_mentions[column] = parsed_candidate_pool\n",
    "print(\"After\", full_mentions[column][3])\n",
    "\n",
    "column = 'candidate_pool_priors'\n",
    "print(\"Before\", full_mentions[column][3])\n",
    "parsed_candidate_pool = full_mentions[column].apply(parse_list_string, value_type=float)\n",
    "full_mentions[column] = parsed_candidate_pool\n",
    "print(\"After\", full_mentions[column][3])"
   ]
  },
  {
   "cell_type": "markdown",
   "metadata": {},
   "source": [
    "## Retrieve Entity Vectors from Wikipedia2Vec\n",
    "\n",
    "For provided wikipedia pages, we retrieve a representative entity vector from Wikipedia2vec. This involves passing the normalized title into their get_entity_vector() function. We default to using 100d pre-trained embeddings due to the easier computational requirements, but tested results using higher dimensions as well."
   ]
  },
  {
   "cell_type": "code",
   "execution_count": 2,
   "metadata": {},
   "outputs": [],
   "source": [
    "# Package\n",
    "from wikipedia2vec import Wikipedia2Vec"
   ]
  },
  {
   "cell_type": "code",
   "execution_count": 3,
   "metadata": {},
   "outputs": [
    {
     "name": "stdout",
     "output_type": "stream",
     "text": [
      "CPU times: user 99.3 ms, sys: 123 ms, total: 222 ms\n",
      "Wall time: 270 ms\n"
     ]
    }
   ],
   "source": [
    "%%time\n",
    "# Load unzipped pkl file with word embeddings\n",
    "w2v = Wikipedia2Vec.load(\"../../embeddings/enwiki_20180420_100d.pkl\")"
   ]
  },
  {
   "cell_type": "markdown",
   "metadata": {},
   "source": [
    "### Assess Coverage of Candidate Pools in Wikipedia2vec\n",
    "\n",
    "We need to measure what percent of candidates in our candidate pools successfully return a vector from Wikipedia2vec. This should conceivably be 100% given we're passing known Wikipedia pages into this package trained over Wikipedia pages, but there may be some drop-off due to different creation dates."
   ]
  },
  {
   "cell_type": "code",
   "execution_count": 236,
   "metadata": {},
   "outputs": [],
   "source": [
    "# Define text normalization function\n",
    "def normalize_text(text):\n",
    "    \"\"\"\n",
    "    We define normalized in this notebook as:\n",
    "    - strip whitespace\n",
    "    - Spaces, not underlines\n",
    "    \"\"\"\n",
    "    return str(text).strip().replace(\"_\", \" \")"
   ]
  },
  {
   "cell_type": "code",
   "execution_count": 237,
   "metadata": {},
   "outputs": [
    {
     "name": "stderr",
     "output_type": "stream",
     "text": [
      "100%|██████████| 13781/13781 [00:00<00:00, 15782.45it/s]"
     ]
    },
    {
     "name": "stdout",
     "output_type": "stream",
     "text": [
      "Wikipedia2vec returned an entity vector for 94.792% of 42,453 searches\n"
     ]
    },
    {
     "name": "stderr",
     "output_type": "stream",
     "text": [
      "\n"
     ]
    }
   ],
   "source": [
    "# Iterate over candidate pool titles to see what can be returned\n",
    "\n",
    "found_entity = 0\n",
    "searched_entity = 0\n",
    "\n",
    "for i in tqdm(range(len(full_mentions))):\n",
    "    \n",
    "    # Retrieve candidate pool\n",
    "    candidate_pool = full_mentions['candidate_pool_titles'][i]\n",
    "    \n",
    "    # Query for each candidate\n",
    "    for candidate in candidate_pool:\n",
    "        # Normalize candidate title to form necessary to input into Wikipedia2vec\n",
    "        candidate = normalize_text(candidate)\n",
    "        \n",
    "        # Query Wikipedia2vec get_entity_vector()\n",
    "        try:\n",
    "            entity_vector = w2v.get_entity_vector(candidate)\n",
    "        except KeyError:\n",
    "            entity_vector = None\n",
    "        \n",
    "        # Check if result\n",
    "        if entity_vector is not None:\n",
    "            found_entity += 1\n",
    "        \n",
    "        # Increment count\n",
    "        searched_entity += 1\n",
    "\n",
    "print(f\"Wikipedia2vec returned an entity vector for {round(found_entity/searched_entity*100,3)}% of {searched_entity:,} searches\")"
   ]
  },
  {
   "cell_type": "markdown",
   "metadata": {},
   "source": [
    "## Understand Sentence Properties\n",
    "\n",
    "First, let's get a sense for what the upper bound of congruent calculations might be per sentence as well as the distribution of counts and average priors."
   ]
  },
  {
   "cell_type": "code",
   "execution_count": 238,
   "metadata": {},
   "outputs": [
    {
     "data": {
      "text/plain": [
       "5"
      ]
     },
     "execution_count": 238,
     "metadata": {},
     "output_type": "execute_result"
    }
   ],
   "source": [
    "# What is the maximum number of congruent entities in a single sentence\n",
    "max(full_mentions['congruent_mentions'].apply(len))"
   ]
  },
  {
   "cell_type": "code",
   "execution_count": 239,
   "metadata": {},
   "outputs": [
    {
     "data": {
      "image/png": "[encoded data removed]",
      "text/plain": [
       "<Figure size 1440x360 with 1 Axes>"
      ]
     },
     "metadata": {
      "needs_background": "light"
     },
     "output_type": "display_data"
    }
   ],
   "source": [
    "# What is the distribution of congruent mention counts\n",
    "plt.figure(figsize=(20,5))\n",
    "full_mentions['congruent_mentions'].apply(len).hist(bins=50)\n",
    "plt.title(\"distribution of congruent mention counts\", size=20)\n",
    "plt.show()"
   ]
  },
  {
   "cell_type": "markdown",
   "metadata": {},
   "source": [
    "Next, let's get a sense for the average ranking of the right answer."
   ]
  },
  {
   "cell_type": "code",
   "execution_count": 240,
   "metadata": {},
   "outputs": [
    {
     "name": "stderr",
     "output_type": "stream",
     "text": [
      "100%|██████████| 13781/13781 [00:01<00:00, 7223.52it/s]"
     ]
    },
    {
     "name": "stdout",
     "output_type": "stream",
     "text": [
      "Correct answer not present in candidate pool 6.9% of the time.\n",
      "Correct answer null 29.0% of the time.\n"
     ]
    },
    {
     "name": "stderr",
     "output_type": "stream",
     "text": [
      "\n"
     ]
    }
   ],
   "source": [
    "# Prepare tracking metrics\n",
    "correct_answer_rank = []\n",
    "correct_answer_prior = {0:[],1:[],2:[],3:[],4:[]}\n",
    "correct_answer_not_present = 0\n",
    "correct_answer_null = 0\n",
    "\n",
    "# Iterate over whole dataframe\n",
    "for i in tqdm(range(len(full_mentions))):\n",
    "    row = full_mentions.iloc[i]\n",
    "    correct_answer = row['wikipedia_page_ID']\n",
    "    if isinstance(row['wikipedia_title'], float):\n",
    "        correct_answer_null += 1\n",
    "    else:\n",
    "        try:\n",
    "            correct_rank = row['candidate_pool_page_ids'].index(correct_answer)\n",
    "            correct_answer_rank.append(correct_rank)\n",
    "            correct_answer_prior[correct_rank].append(row['candidate_pool_priors'][correct_rank])\n",
    "        except ValueError:\n",
    "            correct_answer_not_present += 1\n",
    "\n",
    "print(f\"Correct answer not present in candidate pool {round(correct_answer_not_present/len(full_mentions)*100,1)}% of the time.\")\n",
    "print(f\"Correct answer null {round(correct_answer_null/len(full_mentions)*100,1)}% of the time.\")"
   ]
  },
  {
   "cell_type": "code",
   "execution_count": 241,
   "metadata": {},
   "outputs": [
    {
     "data": {
      "image/png": "[encoded data removed]",
      "text/plain": [
       "<Figure size 1440x576 with 1 Axes>"
      ]
     },
     "metadata": {
      "needs_background": "light"
     },
     "output_type": "display_data"
    }
   ],
   "source": [
    "# Plot rank\n",
    "plt.figure(figsize=(20,8))\n",
    "plt.hist(correct_answer_rank, bins=20)\n",
    "plt.title(\"Ordering of Correct Answer Candidate Rank\");"
   ]
  },
  {
   "cell_type": "code",
   "execution_count": 242,
   "metadata": {},
   "outputs": [
    {
     "data": {
      "text/plain": [
       "0    7008\n",
       "1    1193\n",
       "2     357\n",
       "3     207\n",
       "4      68\n",
       "dtype: int64"
      ]
     },
     "execution_count": 242,
     "metadata": {},
     "output_type": "execute_result"
    }
   ],
   "source": [
    "# Provide rank numbers\n",
    "pd.Series(correct_answer_rank).value_counts()"
   ]
  },
  {
   "cell_type": "code",
   "execution_count": 243,
   "metadata": {},
   "outputs": [
    {
     "name": "stdout",
     "output_type": "stream",
     "text": [
      "Correct Candidate Rank: 0 - Average Prior Confidence: 0.88239 - Median Prior Confidence: 0.95273\n",
      "Correct Candidate Rank: 1 - Average Prior Confidence: 0.17663 - Median Prior Confidence: 0.15083\n",
      "Correct Candidate Rank: 2 - Average Prior Confidence: 0.07626 - Median Prior Confidence: 0.07267\n",
      "Correct Candidate Rank: 3 - Average Prior Confidence: 0.04184 - Median Prior Confidence: 0.04132\n",
      "Correct Candidate Rank: 4 - Average Prior Confidence: 0.02394 - Median Prior Confidence: 0.01005\n"
     ]
    }
   ],
   "source": [
    "# Calculate mean prior confidence for each rank\n",
    "for k,v in correct_answer_prior.items():\n",
    "    print(f\"Correct Candidate Rank: {k} - Average Prior Confidence: {round(np.mean(v),5)} - Median Prior Confidence: {round(np.median(v),5)}\")"
   ]
  },
  {
   "cell_type": "markdown",
   "metadata": {},
   "source": [
    "When limited to sentences with 5 congruent mentions or less, 79.3% are in First Place and 13.5% are in Second, totaling 92.8% in our top two positions. Our first place candidates have median prior confidence of 0.95, but mean confidence of 0.99, suggesting that for most mentions we are highly confident in its first option, but a few are much lower and more uncertain, bringing the mean down (like a 50/50 estimate). Conversely, in second place, median is 0.15 but mean is 0.17, further suggesting those 50/50 estimates for some mentions bringing the mean up.\n",
    "\n",
    "Our hope is that congruence will be able to clarify those more evenly split prior values."
   ]
  },
  {
   "cell_type": "markdown",
   "metadata": {},
   "source": [
    "## Calculate Congruence Metric between Congruent Entities\n",
    "\n",
    "We need to iterate through every mention's every candidate to develop the total of all sets in entity vector form. From there, we can iterate through sets to A) create the centroid vector and B) calculate each candidate distance to the centroid. With each candidate distance, we can average into a single distance congruence measure.\n",
    "\n",
    "We do this through a series of defined functions immediately below. For a more step-by-step logical flow that might aid with understanding, please see the end of this notebook."
   ]
  },
  {
   "cell_type": "markdown",
   "metadata": {},
   "source": [
    "### Define Functions to Create Modular Congruent Pipeline"
   ]
  },
  {
   "cell_type": "code",
   "execution_count": 244,
   "metadata": {},
   "outputs": [],
   "source": [
    "# Generate candidate lists of vectors\n",
    "def get_candidate_pool_vectors(candidate_pool_titles, verbose=False):\n",
    "    \"\"\"\n",
    "    Function to return entity vectors from Wikipedia2Vec\n",
    "    Takes as input a list of page titles, representing the candidate pool\n",
    "    Normalizes each page title to match necessary input format\n",
    "    Returns entity vector or empty vector if no match\n",
    "    \"\"\"\n",
    "    # Track failed vector queries\n",
    "    no_vector_count = 0\n",
    "    candidate_pool_vectors = []\n",
    "    for candidate in candidate_pool_titles:\n",
    "        candidate = normalize_text(candidate)\n",
    "        if verbose: print(candidate)\n",
    "        try:\n",
    "            candidate_vectors = w2v.get_entity_vector(candidate)\n",
    "        except KeyError:\n",
    "            # Keep empty vector representation to maintain index locations\n",
    "            candidate_vectors = np.zeros(100)\n",
    "            no_vector_count += 1\n",
    "        candidate_pool_vectors.append(candidate_vectors)\n",
    "    \n",
    "    # Handle case where candidate pool is empty from Phase 3\n",
    "    # Add arbitrarily chosen 3 arrays of zeros\n",
    "    if len(candidate_pool_titles) == 0:\n",
    "        candidate_pool_vectors = [np.zeros(100), np.zeros(100), np.zeros(100)]\n",
    "    \n",
    "    if verbose: print(f\"Failed Wikipedia2Vec Entity Vector Queries: {no_vector_count}\")\n",
    "    return candidate_pool_vectors"
   ]
  },
  {
   "cell_type": "code",
   "execution_count": 245,
   "metadata": {},
   "outputs": [],
   "source": [
    "# Define function to retrieve entity vectors\n",
    "def create_entity_vector_dict(sentence_mention_ids, single_sentence_df, verbose=False):\n",
    "    \"\"\"\n",
    "    Function iterates over a provided list of congruent mentions,\n",
    "    finds the associated candidate pool for each mention\n",
    "    and returns the candidate pool in vector representation\n",
    "    \"\"\"\n",
    "    # Save vectors in dictionary\n",
    "    vector_dict = {}\n",
    "    \n",
    "    # For each full mention we are analyzing in the contextual domain\n",
    "    for m in sentence_mention_ids:\n",
    "        \n",
    "        # Retrieve candidate pool titles\n",
    "        candidate_pool_titles = single_sentence_df['candidate_pool_titles'][m]\n",
    "        if verbose: print(candidate_pool_titles)\n",
    "        \n",
    "        # Convert candidate pool titles to candidate pool vectors\n",
    "        candidate_pool_vectors = get_candidate_pool_vectors(candidate_pool_titles, verbose=verbose)\n",
    "        \n",
    "        # Save candidate pool vectors to dictionary\n",
    "        vector_dict[m] = candidate_pool_vectors\n",
    "    \n",
    "    if verbose:\n",
    "        print(vector_dict.keys())\n",
    "        for k in vector_dict.keys():\n",
    "            print(len(vector_dict[k]))\n",
    "\n",
    "    return vector_dict"
   ]
  },
  {
   "cell_type": "code",
   "execution_count": 246,
   "metadata": {},
   "outputs": [],
   "source": [
    "# Define function to create every set of candidates across all mentions\n",
    "def create_candidate_combos(vector_dict, verbose=False):\n",
    "    \"\"\"\n",
    "    Function takes as input vector_dict, which represents candidate pool vectors for each mention\n",
    "    Iterates through all candidate vectors to create as product the single list of all combinations of candidates\n",
    "    Returns that list\n",
    "    \"\"\"\n",
    "    # Prepare list for combination\n",
    "    candidate_counts = [range(len(v)) for v in vector_dict.values()]\n",
    "    if verbose: print(candidate_counts)\n",
    "    \n",
    "    # Create product combination of all candidates\n",
    "    unique_combinations = list(product(*candidate_counts))\n",
    "    \n",
    "    return unique_combinations"
   ]
  },
  {
   "cell_type": "code",
   "execution_count": 247,
   "metadata": {},
   "outputs": [],
   "source": [
    "# Define function to calculate centroids\n",
    "def calculate_centroid_combo_dist(unique_combinations, vector_dict, verbose=False): #todo rename?\n",
    "    \"\"\"\n",
    "    Function takes a list of all possible unique combinations of candidates in vector form,\n",
    "    - Calculates the centroid of the vectors of that combination,\n",
    "    - Calculates the distance of each candidate to the centroid\n",
    "    - Calculates the mean distance for that combination\n",
    "    Returns a list of mean distance for each candidate combination to its centroid\n",
    "    \"\"\"\n",
    "    \n",
    "    # Prepare list for each combination's mean distance\n",
    "    combination_distance = []\n",
    "    \n",
    "    # For every unique combination of candidates\n",
    "    for combo in unique_combinations:\n",
    "        \n",
    "        # Translate combination from idx values to vectors\n",
    "        combo_vector = []\n",
    "        for i in range(len(combo)):\n",
    "            combo_vector.append(vector_dict[i][combo[i]]) # Retrieve the vector representation\n",
    "\n",
    "        # Calculate centroid\n",
    "        centroid = sum(combo_vector)/len(combo)\n",
    "                \n",
    "        # Calculate distance from each candidate to its combination centroid\n",
    "        candidate_distances = []\n",
    "        for candidate in combo_vector:\n",
    "#             candidate_dist = cosine_similarity(candidate.reshape(-1,1), centroid.reshape(-1,1))\n",
    "            candidate_dist = pairwise_distances(candidate.reshape(-1,1), centroid.reshape(-1,1), metric='euclidean')\n",
    "            candidate_distances.append(candidate_dist)\n",
    "        \n",
    "        # Saves mean candidate/centroid distance to list\n",
    "        combination_distance.append(np.mean(candidate_distances))\n",
    "        \n",
    "    return combination_distance"
   ]
  },
  {
   "cell_type": "code",
   "execution_count": 248,
   "metadata": {},
   "outputs": [],
   "source": [
    "# Define function to calculate average prior confidence for a combination\n",
    "def calculate_combo_prior(unique_combinations, single_sentence_df, verbose=False):\n",
    "    \"\"\"\n",
    "    Function takes as input the list of all possible unique combinations,\n",
    "    Calculates the average prior confidence for candidates in that combination,\n",
    "    Returns the list of average prior confidence for every combination\n",
    "    \"\"\"\n",
    "    \n",
    "    # Prepare list of average combination prior confidence\n",
    "    combination_avg_prior = []\n",
    "    \n",
    "    # For every unique combination of candidates\n",
    "    for combo in unique_combinations:\n",
    "        \n",
    "        # Prepare combination priors\n",
    "        combination_priors = []\n",
    "        \n",
    "        # Retrieve prior confidence using idx\n",
    "        for i in range(len(combo)):\n",
    "            mention = single_sentence_df.iloc[i]\n",
    "            try:\n",
    "                prior = mention['candidate_pool_priors'][combo[i]]\n",
    "            except IndexError: # Catches error when candidate pool is empty\n",
    "                prior = 0 # Set to 0 to bring distance of None vector to centroid to 0\n",
    "            combination_priors.append(prior)\n",
    "        \n",
    "        # Save mean prior\n",
    "        combination_avg_prior.append(np.mean(combination_priors))\n",
    "\n",
    "    return combination_avg_prior"
   ]
  },
  {
   "cell_type": "markdown",
   "metadata": {},
   "source": [
    "### Congruent Predictions Function\n",
    "\n",
    "This is our main function that takes a sentence ID, calculates congruence for all candidates, updates the prior confidence from Phase 3 with that congruence and selects predictions iteratively based on that final number."
   ]
  },
  {
   "cell_type": "code",
   "execution_count": 249,
   "metadata": {},
   "outputs": [],
   "source": [
    "# Define function to calculate congruent predictions\n",
    "def get_congruent_predictions(sentence_id, dataframe, with_priors=True, verbose=False):\n",
    "    \"\"\"\n",
    "    Function to calculate congruence metrics over a set of entity full mentions\n",
    "    and return the predicted candidates based on the congruent metric\n",
    "    Input:\n",
    "    - Sentence ID used to filter dataframe\n",
    "    - Dataframe over which to process\n",
    "    Output:\n",
    "    - Prediction for each entity mention\n",
    "    \"\"\"\n",
    "    \n",
    "    # Filter to dataframe representing single sentence\n",
    "    # Drop duplicates necessary for sentences with the same mention included twice\n",
    "    single_sentence_df = dataframe[dataframe['sentence_id'] == sentence_id]\\\n",
    "                        .drop_duplicates(['full_mention', 'wikipedia_URL', 'wikipedia_page_ID', 'wikipedia_title'])\\\n",
    "                        .reset_index(drop=True)\n",
    "    if verbose: display(single_sentence_df)\n",
    "    \n",
    "    # Define numerical representation of congruent mention list\n",
    "    sentence_congruent_mentions = single_sentence_df['congruent_mentions'][0]\n",
    "    sentence_mention_ids = np.arange(len(sentence_congruent_mentions))\n",
    "    if verbose:\n",
    "        print(\"Congruent Mentions: \", sentence_congruent_mentions)\n",
    "        print(\"Congruent Mentions as numbers: \", sentence_mention_ids)\n",
    "    \n",
    "    # Retrieve dictionary of candidate pool vectors for each mention\n",
    "    vectors_dict = create_entity_vector_dict(sentence_mention_ids, single_sentence_df, verbose=verbose)\n",
    "    if verbose: print(\"Mentions with Vectors: \", vectors_dict.keys())\n",
    "        \n",
    "    # Create full list of all unique combinations\n",
    "    unique_combinations = create_candidate_combos(vectors_dict, verbose=verbose)\n",
    "    # todo standardize on vector or vectors\n",
    "\n",
    "    # Calculate average candidate distance to that combination's centroid for comparison\n",
    "    combination_distance = calculate_centroid_combo_dist(unique_combinations, vectors_dict, verbose=verbose)\n",
    "    \n",
    "    # Add flag for including priors\n",
    "    if with_priors:\n",
    "        \n",
    "        # Calculate average prior confidence for each combination\n",
    "        combination_avg_prior = calculate_combo_prior(unique_combinations, single_sentence_df, verbose=False)\n",
    "    \n",
    "        # Combine congruence distance with prior confidence\n",
    "        assert len(combination_distance) == len(combination_avg_prior)\n",
    "        combination_congruence = np.array(combination_distance) * np.array(combination_avg_prior)\n",
    "\n",
    "    else:\n",
    "        combination_congruence = combination_distance\n",
    "        \n",
    "    # Select combination with smallest distance metric, i.e. most congruent combination\n",
    "    select_idx = np.argmax(combination_congruence)\n",
    "    most_congruent_combination = unique_combinations[select_idx]\n",
    "    if verbose: print(\"Most Congruent Combination: \", most_congruent_combination)\n",
    "    \n",
    "    # Create predictions dictionary\n",
    "    mention_predictions = {}\n",
    "    \n",
    "    # Translate combination list into dictionary\n",
    "    for i in range(len(most_congruent_combination)):\n",
    "        mention_predictions[i] = most_congruent_combination[i]\n",
    "    if verbose: print(\"Numerical Predictions: \", mention_predictions)\n",
    "    \n",
    "    # Use mention predictions to return titles\n",
    "    readable_predictions = {}\n",
    "    for k, v in mention_predictions.items():\n",
    "        if verbose: print(k, v)\n",
    "        readable_key = sentence_congruent_mentions[k]\n",
    "        try:\n",
    "            readable_value = single_sentence_df['candidate_pool_titles'][k][v]\n",
    "            readable_id = single_sentence_df['candidate_pool_page_ids'][k][v]\n",
    "        except IndexError: # Handles case where no candidate pool was provided from Phase 3\n",
    "            readable_value = None \n",
    "            readable_id = None\n",
    "        except TypeError:\n",
    "            # Handles case where no congruence can be calculated\n",
    "            # Either due to one mention in sentence or two mentions but one with no candidate pool\n",
    "            readable_value = single_sentence_df['candidate_pool_titles'][0][0] # Just return top value from Phase 3\n",
    "            readable_id = single_sentence_df['candidate_pool_page_ids'][0][0]\n",
    "        if verbose: print(readable_key, readable_value, readable_id)\n",
    "        readable_predictions[readable_key] = (readable_value, readable_id)\n",
    "    \n",
    "    # Output dictionary with predictions for each entity mention based on congruence\n",
    "    return readable_predictions"
   ]
  },
  {
   "cell_type": "code",
   "execution_count": 253,
   "metadata": {
    "scrolled": false
   },
   "outputs": [
    {
     "data": {
      "text/html": [
       "<div>\n",
       "<style scoped>\n",
       "    .dataframe tbody tr th:only-of-type {\n",
       "        vertical-align: middle;\n",
       "    }\n",
       "\n",
       "    .dataframe tbody tr th {\n",
       "        vertical-align: top;\n",
       "    }\n",
       "\n",
       "    .dataframe thead th {\n",
       "        text-align: right;\n",
       "    }\n",
       "</style>\n",
       "<table border=\"1\" class=\"dataframe\">\n",
       "  <thead>\n",
       "    <tr style=\"text-align: right;\">\n",
       "      <th></th>\n",
       "      <th>mention</th>\n",
       "      <th>full_mention</th>\n",
       "      <th>wikipedia_URL</th>\n",
       "      <th>wikipedia_page_ID</th>\n",
       "      <th>wikipedia_title</th>\n",
       "      <th>sentence_id</th>\n",
       "      <th>doc_id</th>\n",
       "      <th>congruent_mentions</th>\n",
       "      <th>norm_full_mention</th>\n",
       "      <th>candidate_pool_page_ids</th>\n",
       "      <th>candidate_pool_item_ids</th>\n",
       "      <th>candidate_pool_titles</th>\n",
       "      <th>candidate_pool_priors</th>\n",
       "    </tr>\n",
       "  </thead>\n",
       "  <tbody>\n",
       "    <tr>\n",
       "      <th>0</th>\n",
       "      <td>B</td>\n",
       "      <td>EU</td>\n",
       "      <td>NaN</td>\n",
       "      <td>NaN</td>\n",
       "      <td>NaN</td>\n",
       "      <td>0</td>\n",
       "      <td>0</td>\n",
       "      <td>[EU, German, British]</td>\n",
       "      <td>eu</td>\n",
       "      <td>[9317, 9239, 21347120, 9477, 1882861]</td>\n",
       "      <td>[458, 46, 211593, 1396, 363404]</td>\n",
       "      <td>[European_Union, Europe, Eu,_Seine-Maritime, E...</td>\n",
       "      <td>[0.9227799, 0.024651, 0.020196, 0.005346, 0.00...</td>\n",
       "    </tr>\n",
       "    <tr>\n",
       "      <th>1</th>\n",
       "      <td>B</td>\n",
       "      <td>German</td>\n",
       "      <td>http://en.wikipedia.org/wiki/Germany</td>\n",
       "      <td>11867.0</td>\n",
       "      <td>Germany</td>\n",
       "      <td>0</td>\n",
       "      <td>0</td>\n",
       "      <td>[EU, German, British]</td>\n",
       "      <td>german</td>\n",
       "      <td>[11867, 11884, 152735, 21212, 12674]</td>\n",
       "      <td>[183, 188, 42884, 7318, 43287]</td>\n",
       "      <td>[Germany, German_language, Germans, Nazi_Germa...</td>\n",
       "      <td>[0.4192066, 0.2893363, 0.1470461, 0.03832, 0.0...</td>\n",
       "    </tr>\n",
       "    <tr>\n",
       "      <th>2</th>\n",
       "      <td>B</td>\n",
       "      <td>British</td>\n",
       "      <td>http://en.wikipedia.org/wiki/United_Kingdom</td>\n",
       "      <td>31717.0</td>\n",
       "      <td>United Kingdom</td>\n",
       "      <td>0</td>\n",
       "      <td>0</td>\n",
       "      <td>[EU, German, British]</td>\n",
       "      <td>british</td>\n",
       "      <td>[31717, 19097669, 13530298, 4721, 158019]</td>\n",
       "      <td>[145, 842438, 23666, 8680, 161885]</td>\n",
       "      <td>[United_Kingdom, British_people, Great_Britain...</td>\n",
       "      <td>[0.6101256, 0.1146913, 0.0681775, 0.0366451, 0...</td>\n",
       "    </tr>\n",
       "  </tbody>\n",
       "</table>\n",
       "</div>"
      ],
      "text/plain": [
       "  mention full_mention                                wikipedia_URL  \\\n",
       "0       B           EU                                          NaN   \n",
       "1       B       German         http://en.wikipedia.org/wiki/Germany   \n",
       "2       B      British  http://en.wikipedia.org/wiki/United_Kingdom   \n",
       "\n",
       "   wikipedia_page_ID wikipedia_title  sentence_id  doc_id  \\\n",
       "0                NaN             NaN            0       0   \n",
       "1            11867.0         Germany            0       0   \n",
       "2            31717.0  United Kingdom            0       0   \n",
       "\n",
       "      congruent_mentions norm_full_mention  \\\n",
       "0  [EU, German, British]                eu   \n",
       "1  [EU, German, British]            german   \n",
       "2  [EU, German, British]           british   \n",
       "\n",
       "                     candidate_pool_page_ids  \\\n",
       "0      [9317, 9239, 21347120, 9477, 1882861]   \n",
       "1       [11867, 11884, 152735, 21212, 12674]   \n",
       "2  [31717, 19097669, 13530298, 4721, 158019]   \n",
       "\n",
       "              candidate_pool_item_ids  \\\n",
       "0     [458, 46, 211593, 1396, 363404]   \n",
       "1      [183, 188, 42884, 7318, 43287]   \n",
       "2  [145, 842438, 23666, 8680, 161885]   \n",
       "\n",
       "                               candidate_pool_titles  \\\n",
       "0  [European_Union, Europe, Eu,_Seine-Maritime, E...   \n",
       "1  [Germany, German_language, Germans, Nazi_Germa...   \n",
       "2  [United_Kingdom, British_people, Great_Britain...   \n",
       "\n",
       "                               candidate_pool_priors  \n",
       "0  [0.9227799, 0.024651, 0.020196, 0.005346, 0.00...  \n",
       "1  [0.4192066, 0.2893363, 0.1470461, 0.03832, 0.0...  \n",
       "2  [0.6101256, 0.1146913, 0.0681775, 0.0366451, 0...  "
      ]
     },
     "metadata": {},
     "output_type": "display_data"
    },
    {
     "name": "stdout",
     "output_type": "stream",
     "text": [
      "Congruent Mentions:  ['EU', 'German', 'British']\n",
      "Congruent Mentions as numbers:  [0 1 2]\n",
      "['European_Union', 'Europe', 'Eu,_Seine-Maritime', 'Europium', 'Citizenship_of_the_European_Union']\n",
      "European Union\n",
      "Europe\n",
      "Eu, Seine-Maritime\n",
      "Europium\n",
      "Citizenship of the European Union\n",
      "Failed Wikipedia2Vec Entity Vector Queries: 0\n",
      "['Germany', 'German_language', 'Germans', 'Nazi_Germany', 'German_Empire']\n",
      "Germany\n",
      "German language\n",
      "Germans\n",
      "Nazi Germany\n",
      "German Empire\n",
      "Failed Wikipedia2Vec Entity Vector Queries: 0\n",
      "['United_Kingdom', 'British_people', 'Great_Britain', 'British_Empire', 'Kingdom_of_Great_Britain']\n",
      "United Kingdom\n",
      "British people\n",
      "Great Britain\n",
      "British Empire\n",
      "Kingdom of Great Britain\n",
      "Failed Wikipedia2Vec Entity Vector Queries: 0\n",
      "dict_keys([0, 1, 2])\n",
      "5\n",
      "5\n",
      "5\n",
      "Mentions with Vectors:  dict_keys([0, 1, 2])\n",
      "[range(0, 5), range(0, 5), range(0, 5)]\n",
      "Most Congruent Combination:  (0, 1, 0)\n",
      "Numerical Predictions:  {0: 0, 1: 1, 2: 0}\n",
      "0 0\n",
      "EU European_Union 9317\n",
      "1 1\n",
      "German German_language 11884\n",
      "2 0\n",
      "British United_Kingdom 31717\n",
      "{'EU': ('European_Union', 9317), 'German': ('German_language', 11884), 'British': ('United_Kingdom', 31717)}\n",
      "CPU times: user 188 ms, sys: 6.06 ms, total: 194 ms\n",
      "Wall time: 194 ms\n"
     ]
    }
   ],
   "source": [
    "%%time\n",
    "# Test out function\n",
    "sentence_id = 0\n",
    "congruent_predictions = get_congruent_predictions(sentence_id=sentence_id, dataframe=full_mentions, with_priors=True, verbose=True)\n",
    "print(congruent_predictions)"
   ]
  },
  {
   "cell_type": "code",
   "execution_count": 254,
   "metadata": {},
   "outputs": [
    {
     "data": {
      "text/html": [
       "<div>\n",
       "<style scoped>\n",
       "    .dataframe tbody tr th:only-of-type {\n",
       "        vertical-align: middle;\n",
       "    }\n",
       "\n",
       "    .dataframe tbody tr th {\n",
       "        vertical-align: top;\n",
       "    }\n",
       "\n",
       "    .dataframe thead th {\n",
       "        text-align: right;\n",
       "    }\n",
       "</style>\n",
       "<table border=\"1\" class=\"dataframe\">\n",
       "  <thead>\n",
       "    <tr style=\"text-align: right;\">\n",
       "      <th></th>\n",
       "      <th>mention</th>\n",
       "      <th>full_mention</th>\n",
       "      <th>wikipedia_URL</th>\n",
       "      <th>wikipedia_page_ID</th>\n",
       "      <th>wikipedia_title</th>\n",
       "      <th>sentence_id</th>\n",
       "      <th>doc_id</th>\n",
       "      <th>congruent_mentions</th>\n",
       "      <th>norm_full_mention</th>\n",
       "      <th>candidate_pool_page_ids</th>\n",
       "      <th>candidate_pool_item_ids</th>\n",
       "      <th>candidate_pool_titles</th>\n",
       "      <th>candidate_pool_priors</th>\n",
       "    </tr>\n",
       "  </thead>\n",
       "  <tbody>\n",
       "    <tr>\n",
       "      <th>0</th>\n",
       "      <td>B</td>\n",
       "      <td>EU</td>\n",
       "      <td>NaN</td>\n",
       "      <td>NaN</td>\n",
       "      <td>NaN</td>\n",
       "      <td>0</td>\n",
       "      <td>0</td>\n",
       "      <td>[EU, German, British]</td>\n",
       "      <td>eu</td>\n",
       "      <td>[9317, 9239, 21347120, 9477, 1882861]</td>\n",
       "      <td>[458, 46, 211593, 1396, 363404]</td>\n",
       "      <td>[European_Union, Europe, Eu,_Seine-Maritime, E...</td>\n",
       "      <td>[0.9227799, 0.024651, 0.020196, 0.005346, 0.00...</td>\n",
       "    </tr>\n",
       "    <tr>\n",
       "      <th>1</th>\n",
       "      <td>B</td>\n",
       "      <td>German</td>\n",
       "      <td>http://en.wikipedia.org/wiki/Germany</td>\n",
       "      <td>11867.0</td>\n",
       "      <td>Germany</td>\n",
       "      <td>0</td>\n",
       "      <td>0</td>\n",
       "      <td>[EU, German, British]</td>\n",
       "      <td>german</td>\n",
       "      <td>[11867, 11884, 152735, 21212, 12674]</td>\n",
       "      <td>[183, 188, 42884, 7318, 43287]</td>\n",
       "      <td>[Germany, German_language, Germans, Nazi_Germa...</td>\n",
       "      <td>[0.4192066, 0.2893363, 0.1470461, 0.03832, 0.0...</td>\n",
       "    </tr>\n",
       "    <tr>\n",
       "      <th>2</th>\n",
       "      <td>B</td>\n",
       "      <td>British</td>\n",
       "      <td>http://en.wikipedia.org/wiki/United_Kingdom</td>\n",
       "      <td>31717.0</td>\n",
       "      <td>United Kingdom</td>\n",
       "      <td>0</td>\n",
       "      <td>0</td>\n",
       "      <td>[EU, German, British]</td>\n",
       "      <td>british</td>\n",
       "      <td>[31717, 19097669, 13530298, 4721, 158019]</td>\n",
       "      <td>[145, 842438, 23666, 8680, 161885]</td>\n",
       "      <td>[United_Kingdom, British_people, Great_Britain...</td>\n",
       "      <td>[0.6101256, 0.1146913, 0.0681775, 0.0366451, 0...</td>\n",
       "    </tr>\n",
       "  </tbody>\n",
       "</table>\n",
       "</div>"
      ],
      "text/plain": [
       "  mention full_mention                                wikipedia_URL  \\\n",
       "0       B           EU                                          NaN   \n",
       "1       B       German         http://en.wikipedia.org/wiki/Germany   \n",
       "2       B      British  http://en.wikipedia.org/wiki/United_Kingdom   \n",
       "\n",
       "   wikipedia_page_ID wikipedia_title  sentence_id  doc_id  \\\n",
       "0                NaN             NaN            0       0   \n",
       "1            11867.0         Germany            0       0   \n",
       "2            31717.0  United Kingdom            0       0   \n",
       "\n",
       "      congruent_mentions norm_full_mention  \\\n",
       "0  [EU, German, British]                eu   \n",
       "1  [EU, German, British]            german   \n",
       "2  [EU, German, British]           british   \n",
       "\n",
       "                     candidate_pool_page_ids  \\\n",
       "0      [9317, 9239, 21347120, 9477, 1882861]   \n",
       "1       [11867, 11884, 152735, 21212, 12674]   \n",
       "2  [31717, 19097669, 13530298, 4721, 158019]   \n",
       "\n",
       "              candidate_pool_item_ids  \\\n",
       "0     [458, 46, 211593, 1396, 363404]   \n",
       "1      [183, 188, 42884, 7318, 43287]   \n",
       "2  [145, 842438, 23666, 8680, 161885]   \n",
       "\n",
       "                               candidate_pool_titles  \\\n",
       "0  [European_Union, Europe, Eu,_Seine-Maritime, E...   \n",
       "1  [Germany, German_language, Germans, Nazi_Germa...   \n",
       "2  [United_Kingdom, British_people, Great_Britain...   \n",
       "\n",
       "                               candidate_pool_priors  \n",
       "0  [0.9227799, 0.024651, 0.020196, 0.005346, 0.00...  \n",
       "1  [0.4192066, 0.2893363, 0.1470461, 0.03832, 0.0...  \n",
       "2  [0.6101256, 0.1146913, 0.0681775, 0.0366451, 0...  "
      ]
     },
     "execution_count": 254,
     "metadata": {},
     "output_type": "execute_result"
    }
   ],
   "source": [
    "# Define testing sentence_id\n",
    "single_sentence_df = full_mentions[full_mentions['sentence_id'] == sentence_id].reset_index(drop=True)\n",
    "single_sentence_df"
   ]
  },
  {
   "cell_type": "code",
   "execution_count": 255,
   "metadata": {},
   "outputs": [
    {
     "name": "stdout",
     "output_type": "stream",
     "text": [
      "['EU', 'German', 'British']\n"
     ]
    }
   ],
   "source": [
    "print(single_sentence_df['congruent_mentions'][0])"
   ]
  },
  {
   "cell_type": "code",
   "execution_count": 256,
   "metadata": {},
   "outputs": [
    {
     "name": "stdout",
     "output_type": "stream",
     "text": [
      "EU -> nan =? European Union\n",
      "German -> Germany =? German language\n",
      "British -> United Kingdom =? United Kingdom\n",
      "*************************************************\n",
      "This congruent experiment is 33.333% accurate comparing page titles.\n"
     ]
    }
   ],
   "source": [
    "accuracy = 0\n",
    "for mention, pred in congruent_predictions.items():\n",
    "    pred_title = normalize_text(pred[0])\n",
    "    true_title = single_sentence_df[single_sentence_df['full_mention'] == mention]['wikipedia_title'].values[0]\n",
    "    print(mention, \"->\", true_title, \"=?\", pred_title)\n",
    "    if single_sentence_df[single_sentence_df['full_mention'] == mention]['wikipedia_title'].values[0] == pred_title:\n",
    "        accuracy += 1\n",
    "print(\"*************************************************\")\n",
    "print(f\"This congruent experiment is {round(accuracy/len(congruent_predictions)*100,3)}% accurate comparing page titles.\")"
   ]
  },
  {
   "cell_type": "code",
   "execution_count": 257,
   "metadata": {},
   "outputs": [
    {
     "name": "stdout",
     "output_type": "stream",
     "text": [
      "EU -> None =? 9317\n",
      "German -> 11867 =? 11884\n",
      "British -> 31717 =? 31717\n",
      "*************************************************\n",
      "This congruent experiment is 33.333% accurate comparing page IDs.\n"
     ]
    }
   ],
   "source": [
    "accuracy = 0\n",
    "for mention, pred in congruent_predictions.items():\n",
    "    pred_page_id = pred[1]\n",
    "    try:\n",
    "        true_page_id = int(single_sentence_df[single_sentence_df['full_mention'] == mention]['wikipedia_page_ID'].values[0])\n",
    "    except ValueError:\n",
    "        true_page_id = None\n",
    "    print(mention, \"->\", true_page_id, \"=?\", pred_page_id)\n",
    "    if single_sentence_df[single_sentence_df['full_mention'] == mention]['wikipedia_page_ID'].values[0] == pred_page_id:\n",
    "        accuracy += 1\n",
    "print(\"*************************************************\")\n",
    "print(f\"This congruent experiment is {round(accuracy/len(congruent_predictions)*100,3)}% accurate comparing page IDs.\")"
   ]
  },
  {
   "cell_type": "markdown",
   "metadata": {},
   "source": [
    "## Calculate Congruence Predictions and Assess Accuracy over Entire Dataframe\n",
    "\n",
    "We now apply the per-sentence structure over the whole ACY dataframe."
   ]
  },
  {
   "cell_type": "code",
   "execution_count": 258,
   "metadata": {},
   "outputs": [
    {
     "name": "stdout",
     "output_type": "stream",
     "text": [
      "We have 3,935 sentences to predict.\n"
     ]
    }
   ],
   "source": [
    "# Max sentence_id in dataframe\n",
    "max_sentence_id = len(full_mentions['sentence_id'].unique())\n",
    "print(\"We have {:,} sentences to predict.\".format(max_sentence_id))"
   ]
  },
  {
   "cell_type": "code",
   "execution_count": 264,
   "metadata": {},
   "outputs": [],
   "source": [
    "# Define function to calculate accuracy\n",
    "def calculate_accuracy(predictions, dataframe=full_mentions, verbose=False):\n",
    "    \"\"\"\n",
    "    Function to calculate accuracy over generated predictions\n",
    "    \"\"\"\n",
    "    \n",
    "    # Initialize tracker metrics\n",
    "    accurate_predictions = 0\n",
    "    accurate_present = 0\n",
    "    \n",
    "    # Iterate through each full mention\n",
    "    for row in tqdm(range(len(dataframe))):\n",
    "        mention_df = dataframe.iloc[row]\n",
    "        \n",
    "        # Save key values\n",
    "        sid = mention_df['sentence_id']\n",
    "        fm = mention_df['full_mention']\n",
    "        title = mention_df['wikipedia_title']\n",
    "        page_id = mention_df['wikipedia_page_ID']\n",
    "        candidate_pool_page_ids = mention_df['candidate_pool_page_ids']\n",
    "        \n",
    "        # Retrieve prediction\n",
    "        pred = predictions[sid][fm]\n",
    "        norm_pred_title = normalize_text(pred[0])\n",
    "        pred_page_id = pred[1]\n",
    "        \n",
    "        # Print comparison (useful for subset review)\n",
    "        if verbose:\n",
    "            print(fm, sid, \"||| True:\", title, page_id, \"==? Pred:\", norm_pred_title, pred_page_id, \"|||\",\\\n",
    "            norm_pred_title==title, pred_page_id==page_id, \" ||| Present? \", (page_id in candidate_pool_page_ids))\n",
    "        \n",
    "        # Compare true vs prediction\n",
    "        if page_id == pred_page_id:\n",
    "            accurate_predictions += 1\n",
    "        if page_id in candidate_pool_page_ids:\n",
    "            accurate_present += 1\n",
    "        \n",
    "    # Print results\n",
    "    print(\"------------------------------------------\")\n",
    "    print(\"Predictive Accuracy: {}%\".format(round(accurate_predictions/len(dataframe)*100, 3)))\n",
    "    print(\"Answer Present: {}%\".format(round(accurate_present/len(dataframe)*100, 3)))\n",
    "        "
   ]
  },
  {
   "cell_type": "markdown",
   "metadata": {},
   "source": [
    "### Congruence Accuracy without considering Prior Confidence\n",
    "\n",
    "We first experiment with calculating congruence accuracy without directly incorporating prior confidence. We still indirectly incorporate it since we took the Top N most confidence (highest ranked) values in Phase 3, but after creating the Top N list, we don't explicitly incorporate it in our calculation for final predictions."
   ]
  },
  {
   "cell_type": "code",
   "execution_count": 261,
   "metadata": {
    "scrolled": false
   },
   "outputs": [
    {
     "name": "stderr",
     "output_type": "stream",
     "text": [
      "100%|██████████| 3935/3935 [09:51<00:00,  6.65it/s] \n"
     ]
    }
   ],
   "source": [
    "# Iterate over whole dataframe to produce mention predictions for each sentence\n",
    "congruent_predictions_freq_nopr = {}\n",
    "for sid in tqdm(full_mentions['sentence_id'].unique()):\n",
    "    congruent_predictions_freq_nopr[sid] = get_congruent_predictions(sid, dataframe=full_mentions,\n",
    "                                                                     with_priors=False, verbose=False)"
   ]
  },
  {
   "cell_type": "code",
   "execution_count": 265,
   "metadata": {},
   "outputs": [
    {
     "name": "stderr",
     "output_type": "stream",
     "text": [
      "100%|██████████| 13781/13781 [00:01<00:00, 7176.25it/s]"
     ]
    },
    {
     "name": "stdout",
     "output_type": "stream",
     "text": [
      "------------------------------------------\n",
      "Predictive Accuracy: 24.367%\n",
      "Answer Present: 64.095%\n"
     ]
    },
    {
     "name": "stderr",
     "output_type": "stream",
     "text": [
      "\n"
     ]
    }
   ],
   "source": [
    "# Calculate accuracy\n",
    "calculate_accuracy(predictions=congruent_predictions_freq_nopr, dataframe=full_mentions, verbose=False)"
   ]
  },
  {
   "cell_type": "markdown",
   "metadata": {},
   "source": [
    "#### Calculate Accuracy only with Full Mentions with Known True\n",
    "\n",
    "This is a better reflection of our success."
   ]
  },
  {
   "cell_type": "code",
   "execution_count": 266,
   "metadata": {},
   "outputs": [
    {
     "name": "stdout",
     "output_type": "stream",
     "text": [
      "Full Mentions remaining:  9785\n"
     ]
    }
   ],
   "source": [
    "# Filter dataframe to only full mentions with known true values\n",
    "known_true_mentions = full_mentions[full_mentions['wikipedia_page_ID'].notnull()].reset_index()\n",
    "print(\"Full Mentions remaining: \", len(known_true_mentions))"
   ]
  },
  {
   "cell_type": "code",
   "execution_count": 267,
   "metadata": {},
   "outputs": [
    {
     "name": "stderr",
     "output_type": "stream",
     "text": [
      "100%|██████████| 9785/9785 [00:01<00:00, 6843.39it/s]"
     ]
    },
    {
     "name": "stdout",
     "output_type": "stream",
     "text": [
      "------------------------------------------\n",
      "Predictive Accuracy: 34.318%\n",
      "Answer Present: 90.271%\n"
     ]
    },
    {
     "name": "stderr",
     "output_type": "stream",
     "text": [
      "\n"
     ]
    }
   ],
   "source": [
    "# Calculate accuracy\n",
    "calculate_accuracy(predictions=congruent_predictions_freq_nopr, dataframe=known_true_mentions, verbose=False)"
   ]
  },
  {
   "cell_type": "code",
   "execution_count": 268,
   "metadata": {},
   "outputs": [
    {
     "name": "stderr",
     "output_type": "stream",
     "text": [
      "100%|██████████| 8/8 [00:00<00:00, 1689.55it/s]"
     ]
    },
    {
     "name": "stdout",
     "output_type": "stream",
     "text": [
      "Sentence ID: 2364, Number of Mentions: 8\n",
      "------------------------------------------\n",
      "AUCKLAND 2364 ||| True: Auckland 18660332.0 ==? Pred: Auckland rugby league team 14059712 ||| False False  ||| Present?  True\n",
      "Auckland 2364 ||| True: Auckland 18660332.0 ==? Pred: Auckland rugby league team 14059712 ||| False False  ||| Present?  True\n",
      "North Shore 2364 ||| True: North Shore City 350800.0 ==? Pred: North Shore (Long Island) 1368673 ||| False False  ||| Present?  True\n",
      "North Shore 2364 ||| True: North Shore City 350800.0 ==? Pred: North Shore (Long Island) 1368673 ||| False False  ||| Present?  True\n",
      "New Zealand Press Association 2364 ||| True: New Zealand Press Association 3185516.0 ==? Pred: New Zealand Press Association 3185516 ||| True True  ||| Present?  True\n",
      "New Zealand Press Association 2364 ||| True: New Zealand Press Association 3185516.0 ==? Pred: New Zealand Press Association 3185516 ||| True True  ||| Present?  True\n",
      "New Zealand Press Association 2364 ||| True: New Zealand Press Association 3185516.0 ==? Pred: New Zealand Press Association 3185516 ||| True True  ||| Present?  True\n",
      "New Zealand Press Association 2364 ||| True: New Zealand Press Association 3185516.0 ==? Pred: New Zealand Press Association 3185516 ||| True True  ||| Present?  True\n",
      "------------------------------------------\n",
      "Predictive Accuracy: 50.0%\n",
      "Answer Present: 100.0%\n"
     ]
    },
    {
     "name": "stderr",
     "output_type": "stream",
     "text": [
      "\n"
     ]
    }
   ],
   "source": [
    "# Filter to random sentence for manual review\n",
    "rand_sid = np.random.choice(known_true_mentions['sentence_id'])\n",
    "rand_sentence_df = known_true_mentions[known_true_mentions['sentence_id'] == rand_sid]\n",
    "print(f\"Sentence ID: {rand_sid}, Number of Mentions: {len(rand_sentence_df)}\")\n",
    "print(\"------------------------------------------\")\n",
    "\n",
    "# Calculate accuracy\n",
    "calculate_accuracy(predictions=congruent_predictions_freq_nopr, dataframe=rand_sentence_df, verbose=True)"
   ]
  },
  {
   "cell_type": "markdown",
   "metadata": {},
   "source": [
    "### Congruence Accuracy considering Prior Confidence\n",
    "\n",
    "Now, we directly incorporate prior confidence by combining it during the prediction process with our calculated congruent metric. This involves \"discounting\" congruence by the prior confidence we had in each combination's component candidates."
   ]
  },
  {
   "cell_type": "code",
   "execution_count": 269,
   "metadata": {
    "scrolled": false
   },
   "outputs": [
    {
     "name": "stderr",
     "output_type": "stream",
     "text": [
      "100%|██████████| 3935/3935 [14:19<00:00,  4.58it/s] \n"
     ]
    }
   ],
   "source": [
    "# Iterate over whole dataframe to produce mention predictions for each sentence\n",
    "congruent_predictions_freq_pr = {}\n",
    "for sid in tqdm(full_mentions['sentence_id'].unique()):\n",
    "    congruent_predictions_freq_pr[sid] = get_congruent_predictions(sid, dataframe=full_mentions,\n",
    "                                                                   with_priors=True, verbose=False)"
   ]
  },
  {
   "cell_type": "code",
   "execution_count": 270,
   "metadata": {},
   "outputs": [
    {
     "name": "stderr",
     "output_type": "stream",
     "text": [
      "100%|██████████| 13781/13781 [00:01<00:00, 7267.51it/s]"
     ]
    },
    {
     "name": "stdout",
     "output_type": "stream",
     "text": [
      "------------------------------------------\n",
      "Predictive Accuracy: 50.301%\n",
      "Answer Present: 64.095%\n"
     ]
    },
    {
     "name": "stderr",
     "output_type": "stream",
     "text": [
      "\n"
     ]
    }
   ],
   "source": [
    "# Calculate accuracy\n",
    "calculate_accuracy(predictions=congruent_predictions_freq_pr, dataframe=full_mentions, verbose=False)"
   ]
  },
  {
   "cell_type": "markdown",
   "metadata": {},
   "source": [
    "#### Calculate Accuracy only with Full Mentions with Known True"
   ]
  },
  {
   "cell_type": "code",
   "execution_count": 271,
   "metadata": {},
   "outputs": [
    {
     "name": "stderr",
     "output_type": "stream",
     "text": [
      "100%|██████████| 9785/9785 [00:01<00:00, 7244.94it/s]"
     ]
    },
    {
     "name": "stdout",
     "output_type": "stream",
     "text": [
      "------------------------------------------\n",
      "Predictive Accuracy: 70.843%\n",
      "Answer Present: 90.271%\n"
     ]
    },
    {
     "name": "stderr",
     "output_type": "stream",
     "text": [
      "\n"
     ]
    }
   ],
   "source": [
    "# Calculate accuracy\n",
    "calculate_accuracy(predictions=congruent_predictions_freq_pr, dataframe=known_true_mentions, verbose=False)"
   ]
  },
  {
   "cell_type": "code",
   "execution_count": 272,
   "metadata": {},
   "outputs": [
    {
     "name": "stderr",
     "output_type": "stream",
     "text": [
      "100%|██████████| 1/1 [00:00<00:00, 1243.86it/s]"
     ]
    },
    {
     "name": "stdout",
     "output_type": "stream",
     "text": [
      "Sentence ID: 4123, Number of Mentions: 1\n",
      "------------------------------------------\n",
      "Turnhout 4123 ||| True: Turnhout 156847.0 ==? Pred: Turnhout 156847 ||| True True  ||| Present?  True\n",
      "------------------------------------------\n",
      "Predictive Accuracy: 100.0%\n",
      "Answer Present: 100.0%\n"
     ]
    },
    {
     "name": "stderr",
     "output_type": "stream",
     "text": [
      "\n"
     ]
    }
   ],
   "source": [
    "# Filter to random sentence for manual review\n",
    "rand_sid = np.random.choice(known_true_mentions['sentence_id'])\n",
    "rand_sentence_df = known_true_mentions[known_true_mentions['sentence_id'] == rand_sid]\n",
    "print(f\"Sentence ID: {rand_sid}, Number of Mentions: {len(rand_sentence_df)}\")\n",
    "print(\"------------------------------------------\")\n",
    "\n",
    "# Calculate accuracy\n",
    "calculate_accuracy(predictions=congruent_predictions_freq_pr, dataframe=rand_sentence_df, verbose=True)"
   ]
  },
  {
   "cell_type": "code",
   "execution_count": null,
   "metadata": {},
   "outputs": [],
   "source": []
  },
  {
   "cell_type": "code",
   "execution_count": null,
   "metadata": {},
   "outputs": [],
   "source": []
  },
  {
   "cell_type": "code",
   "execution_count": null,
   "metadata": {},
   "outputs": [],
   "source": []
  },
  {
   "cell_type": "code",
   "execution_count": 273,
   "metadata": {},
   "outputs": [
    {
     "data": {
      "text/html": [
       "<div>\n",
       "<style scoped>\n",
       "    .dataframe tbody tr th:only-of-type {\n",
       "        vertical-align: middle;\n",
       "    }\n",
       "\n",
       "    .dataframe tbody tr th {\n",
       "        vertical-align: top;\n",
       "    }\n",
       "\n",
       "    .dataframe thead th {\n",
       "        text-align: right;\n",
       "    }\n",
       "</style>\n",
       "<table border=\"1\" class=\"dataframe\">\n",
       "  <thead>\n",
       "    <tr style=\"text-align: right;\">\n",
       "      <th></th>\n",
       "      <th>mention</th>\n",
       "      <th>full_mention</th>\n",
       "      <th>wikipedia_URL</th>\n",
       "      <th>wikipedia_page_ID</th>\n",
       "      <th>wikipedia_title</th>\n",
       "      <th>sentence_id</th>\n",
       "      <th>doc_id</th>\n",
       "      <th>congruent_mentions</th>\n",
       "      <th>norm_full_mention</th>\n",
       "      <th>candidate_pool_page_ids</th>\n",
       "      <th>candidate_pool_item_ids</th>\n",
       "      <th>candidate_pool_titles</th>\n",
       "      <th>candidate_pool_priors</th>\n",
       "    </tr>\n",
       "  </thead>\n",
       "  <tbody>\n",
       "    <tr>\n",
       "      <th>10612</th>\n",
       "      <td>B</td>\n",
       "      <td>RMT</td>\n",
       "      <td>NaN</td>\n",
       "      <td>NaN</td>\n",
       "      <td>NaN</td>\n",
       "      <td>4123</td>\n",
       "      <td>720</td>\n",
       "      <td>[RMT, Turnhout]</td>\n",
       "      <td>rmt</td>\n",
       "      <td>[465985, 43945, 191336, 26675228]</td>\n",
       "      <td>[6979153, 179415, 2379139, 2583377]</td>\n",
       "      <td>[National_Union_of_Rail,_Maritime_and_Transpor...</td>\n",
       "      <td>[0.9315068, 0.0273973, 0.0273973, 0.0136986]</td>\n",
       "    </tr>\n",
       "    <tr>\n",
       "      <th>10613</th>\n",
       "      <td>B</td>\n",
       "      <td>Turnhout</td>\n",
       "      <td>http://en.wikipedia.org/wiki/Turnhout</td>\n",
       "      <td>156847.0</td>\n",
       "      <td>Turnhout</td>\n",
       "      <td>4123</td>\n",
       "      <td>720</td>\n",
       "      <td>[RMT, Turnhout]</td>\n",
       "      <td>turnhout</td>\n",
       "      <td>[156847, 2447995, 157908, 157911, 39090401]</td>\n",
       "      <td>[271783, 1568867, 646525, 898338, 4934232]</td>\n",
       "      <td>[Turnhout, KFC_Turnhout, Battle_of_Turnhout_(1...</td>\n",
       "      <td>[0.8877193, 0.0947368, 0.0105263, 0.0035088, 0...</td>\n",
       "    </tr>\n",
       "  </tbody>\n",
       "</table>\n",
       "</div>"
      ],
      "text/plain": [
       "      mention full_mention                          wikipedia_URL  \\\n",
       "10612       B          RMT                                    NaN   \n",
       "10613       B     Turnhout  http://en.wikipedia.org/wiki/Turnhout   \n",
       "\n",
       "       wikipedia_page_ID wikipedia_title  sentence_id  doc_id  \\\n",
       "10612                NaN             NaN         4123     720   \n",
       "10613           156847.0        Turnhout         4123     720   \n",
       "\n",
       "      congruent_mentions norm_full_mention  \\\n",
       "10612    [RMT, Turnhout]               rmt   \n",
       "10613    [RMT, Turnhout]          turnhout   \n",
       "\n",
       "                           candidate_pool_page_ids  \\\n",
       "10612            [465985, 43945, 191336, 26675228]   \n",
       "10613  [156847, 2447995, 157908, 157911, 39090401]   \n",
       "\n",
       "                          candidate_pool_item_ids  \\\n",
       "10612         [6979153, 179415, 2379139, 2583377]   \n",
       "10613  [271783, 1568867, 646525, 898338, 4934232]   \n",
       "\n",
       "                                   candidate_pool_titles  \\\n",
       "10612  [National_Union_of_Rail,_Maritime_and_Transpor...   \n",
       "10613  [Turnhout, KFC_Turnhout, Battle_of_Turnhout_(1...   \n",
       "\n",
       "                                   candidate_pool_priors  \n",
       "10612       [0.9315068, 0.0273973, 0.0273973, 0.0136986]  \n",
       "10613  [0.8877193, 0.0947368, 0.0105263, 0.0035088, 0...  "
      ]
     },
     "execution_count": 273,
     "metadata": {},
     "output_type": "execute_result"
    }
   ],
   "source": [
    "# See original dataframe\n",
    "full_mentions[full_mentions['sentence_id'] == rand_sid]"
   ]
  },
  {
   "cell_type": "code",
   "execution_count": 274,
   "metadata": {},
   "outputs": [
    {
     "data": {
      "text/plain": [
       "['Turnhout',\n",
       " 'KFC_Turnhout',\n",
       " 'Battle_of_Turnhout_(1597)',\n",
       " 'Battle_of_Turnhout_(1789)',\n",
       " 'Turnhout_railway_station']"
      ]
     },
     "execution_count": 274,
     "metadata": {},
     "output_type": "execute_result"
    }
   ],
   "source": [
    "# Zoom in on a full candidate pool\n",
    "full_mentions[full_mentions['sentence_id'] == rand_sid]['candidate_pool_titles'].iloc[1]"
   ]
  },
  {
   "cell_type": "code",
   "execution_count": null,
   "metadata": {},
   "outputs": [],
   "source": []
  },
  {
   "cell_type": "code",
   "execution_count": null,
   "metadata": {},
   "outputs": [],
   "source": []
  },
  {
   "cell_type": "code",
   "execution_count": null,
   "metadata": {},
   "outputs": [],
   "source": []
  },
  {
   "cell_type": "markdown",
   "metadata": {},
   "source": [
    "## Calculate with *Popularity* Predictions - Known True Only\n",
    "\n",
    "We also want to see how much of an impact congruence can have on candidate pools produced via page popularity anchor link statistics. These are considered less effective because of large skews that can happen if a word is linked to a very popular page just a single time. Our hypothesis is that congruence may have a larger impact on popularity mentions and to assess this, we compare accuracy with and without prior incorporation for known trues only."
   ]
  },
  {
   "cell_type": "code",
   "execution_count": 275,
   "metadata": {
    "scrolled": false
   },
   "outputs": [
    {
     "data": {
      "text/html": [
       "<div>\n",
       "<style scoped>\n",
       "    .dataframe tbody tr th:only-of-type {\n",
       "        vertical-align: middle;\n",
       "    }\n",
       "\n",
       "    .dataframe tbody tr th {\n",
       "        vertical-align: top;\n",
       "    }\n",
       "\n",
       "    .dataframe thead th {\n",
       "        text-align: right;\n",
       "    }\n",
       "</style>\n",
       "<table border=\"1\" class=\"dataframe\">\n",
       "  <thead>\n",
       "    <tr style=\"text-align: right;\">\n",
       "      <th></th>\n",
       "      <th>mention</th>\n",
       "      <th>full_mention</th>\n",
       "      <th>wikipedia_URL</th>\n",
       "      <th>wikipedia_page_ID</th>\n",
       "      <th>wikipedia_title</th>\n",
       "      <th>sentence_id</th>\n",
       "      <th>doc_id</th>\n",
       "      <th>congruent_mentions</th>\n",
       "      <th>norm_full_mention</th>\n",
       "      <th>candidate_pool_page_ids</th>\n",
       "      <th>candidate_pool_item_ids</th>\n",
       "      <th>candidate_pool_titles</th>\n",
       "      <th>candidate_pool_priors</th>\n",
       "    </tr>\n",
       "  </thead>\n",
       "  <tbody>\n",
       "    <tr>\n",
       "      <th>0</th>\n",
       "      <td>B</td>\n",
       "      <td>EU</td>\n",
       "      <td>NaN</td>\n",
       "      <td>NaN</td>\n",
       "      <td>NaN</td>\n",
       "      <td>0</td>\n",
       "      <td>0</td>\n",
       "      <td>['EU', 'German', 'British']</td>\n",
       "      <td>eu</td>\n",
       "      <td>[9317, 9239, 9891, 9472, 10890716]</td>\n",
       "      <td>[458, 46, 45003, 4916, 185441]</td>\n",
       "      <td>['European_Union', 'Europe', 'Entropy', 'Euro'...</td>\n",
       "      <td>[0.2245141, 0.2015168, 0.0965482, 0.0768826, 0...</td>\n",
       "    </tr>\n",
       "    <tr>\n",
       "      <th>1</th>\n",
       "      <td>B</td>\n",
       "      <td>German</td>\n",
       "      <td>http://en.wikipedia.org/wiki/Germany</td>\n",
       "      <td>11867.0</td>\n",
       "      <td>Germany</td>\n",
       "      <td>0</td>\n",
       "      <td>0</td>\n",
       "      <td>['EU', 'German', 'British']</td>\n",
       "      <td>german</td>\n",
       "      <td>[11867, 27318, 21148, 21212, 26964606]</td>\n",
       "      <td>[183, 334, 55, 7318, 40]</td>\n",
       "      <td>['Germany', 'Singapore', 'Netherlands', 'Nazi_...</td>\n",
       "      <td>[0.0558084, 0.0548498, 0.044104, 0.0268639, 0....</td>\n",
       "    </tr>\n",
       "    <tr>\n",
       "      <th>2</th>\n",
       "      <td>B</td>\n",
       "      <td>British</td>\n",
       "      <td>http://en.wikipedia.org/wiki/United_Kingdom</td>\n",
       "      <td>31717.0</td>\n",
       "      <td>United Kingdom</td>\n",
       "      <td>0</td>\n",
       "      <td>0</td>\n",
       "      <td>['EU', 'German', 'British']</td>\n",
       "      <td>british</td>\n",
       "      <td>[3434750, 31717, 19344654, 26061, 8569916]</td>\n",
       "      <td>[30, 145, 9531, 172771, 1860]</td>\n",
       "      <td>['United_States', 'United_Kingdom', 'BBC', 'Ro...</td>\n",
       "      <td>[0.1243038, 0.0660245, 0.0317426, 0.0291264, 0...</td>\n",
       "    </tr>\n",
       "    <tr>\n",
       "      <th>3</th>\n",
       "      <td>B</td>\n",
       "      <td>Peter Blackburn</td>\n",
       "      <td>NaN</td>\n",
       "      <td>NaN</td>\n",
       "      <td>NaN</td>\n",
       "      <td>1</td>\n",
       "      <td>0</td>\n",
       "      <td>['Peter Blackburn', 'BRUSSELS', 'European Comm...</td>\n",
       "      <td>peter blackburn</td>\n",
       "      <td>[56783206, 56873217, 9643132]</td>\n",
       "      <td>[2073954, 26634508, 7172840]</td>\n",
       "      <td>['Peter_Blackburn_(badminton)', 'Peter_Blackbu...</td>\n",
       "      <td>[0.6296296, 0.3703704, 0.0]</td>\n",
       "    </tr>\n",
       "    <tr>\n",
       "      <th>4</th>\n",
       "      <td>I</td>\n",
       "      <td>Peter Blackburn</td>\n",
       "      <td>NaN</td>\n",
       "      <td>NaN</td>\n",
       "      <td>NaN</td>\n",
       "      <td>1</td>\n",
       "      <td>0</td>\n",
       "      <td>['Peter Blackburn', 'BRUSSELS', 'European Comm...</td>\n",
       "      <td>peter blackburn</td>\n",
       "      <td>[56783206, 56873217, 9643132]</td>\n",
       "      <td>[2073954, 26634508, 7172840]</td>\n",
       "      <td>['Peter_Blackburn_(badminton)', 'Peter_Blackbu...</td>\n",
       "      <td>[0.6296296, 0.3703704, 0.0]</td>\n",
       "    </tr>\n",
       "  </tbody>\n",
       "</table>\n",
       "</div>"
      ],
      "text/plain": [
       "  mention     full_mention                                wikipedia_URL  \\\n",
       "0       B               EU                                          NaN   \n",
       "1       B           German         http://en.wikipedia.org/wiki/Germany   \n",
       "2       B          British  http://en.wikipedia.org/wiki/United_Kingdom   \n",
       "3       B  Peter Blackburn                                          NaN   \n",
       "4       I  Peter Blackburn                                          NaN   \n",
       "\n",
       "   wikipedia_page_ID wikipedia_title  sentence_id  doc_id  \\\n",
       "0                NaN             NaN            0       0   \n",
       "1            11867.0         Germany            0       0   \n",
       "2            31717.0  United Kingdom            0       0   \n",
       "3                NaN             NaN            1       0   \n",
       "4                NaN             NaN            1       0   \n",
       "\n",
       "                                  congruent_mentions norm_full_mention  \\\n",
       "0                        ['EU', 'German', 'British']                eu   \n",
       "1                        ['EU', 'German', 'British']            german   \n",
       "2                        ['EU', 'German', 'British']           british   \n",
       "3  ['Peter Blackburn', 'BRUSSELS', 'European Comm...   peter blackburn   \n",
       "4  ['Peter Blackburn', 'BRUSSELS', 'European Comm...   peter blackburn   \n",
       "\n",
       "                      candidate_pool_page_ids         candidate_pool_item_ids  \\\n",
       "0          [9317, 9239, 9891, 9472, 10890716]  [458, 46, 45003, 4916, 185441]   \n",
       "1      [11867, 27318, 21148, 21212, 26964606]        [183, 334, 55, 7318, 40]   \n",
       "2  [3434750, 31717, 19344654, 26061, 8569916]   [30, 145, 9531, 172771, 1860]   \n",
       "3               [56783206, 56873217, 9643132]    [2073954, 26634508, 7172840]   \n",
       "4               [56783206, 56873217, 9643132]    [2073954, 26634508, 7172840]   \n",
       "\n",
       "                               candidate_pool_titles  \\\n",
       "0  ['European_Union', 'Europe', 'Entropy', 'Euro'...   \n",
       "1  ['Germany', 'Singapore', 'Netherlands', 'Nazi_...   \n",
       "2  ['United_States', 'United_Kingdom', 'BBC', 'Ro...   \n",
       "3  ['Peter_Blackburn_(badminton)', 'Peter_Blackbu...   \n",
       "4  ['Peter_Blackburn_(badminton)', 'Peter_Blackbu...   \n",
       "\n",
       "                               candidate_pool_priors  \n",
       "0  [0.2245141, 0.2015168, 0.0965482, 0.0768826, 0...  \n",
       "1  [0.0558084, 0.0548498, 0.044104, 0.0268639, 0....  \n",
       "2  [0.1243038, 0.0660245, 0.0317426, 0.0291264, 0...  \n",
       "3                        [0.6296296, 0.3703704, 0.0]  \n",
       "4                        [0.6296296, 0.3703704, 0.0]  "
      ]
     },
     "execution_count": 275,
     "metadata": {},
     "output_type": "execute_result"
    }
   ],
   "source": [
    "# Load data\n",
    "full_mentions_pop = pd.read_csv(os.path.join(preds_path, \"anchortext_popularity_5x5.csv\"), delimiter=\",\")\n",
    "full_mentions_pop.head(5)"
   ]
  },
  {
   "cell_type": "code",
   "execution_count": 276,
   "metadata": {},
   "outputs": [
    {
     "name": "stdout",
     "output_type": "stream",
     "text": [
      "Before ['Peter Blackburn', 'BRUSSELS', 'European Commission', 'German', 'British']\n",
      "After ['Peter Blackburn', 'BRUSSELS', 'European Commission', 'German', 'British']\n",
      "Before [56783206, 56873217, 9643132]\n",
      "After [56783206, 56873217, 9643132]\n",
      "Before [2073954, 26634508, 7172840]\n",
      "After [2073954, 26634508, 7172840]\n",
      "Before ['Peter_Blackburn_(badminton)', 'Peter_Blackburn_(MP)', 'Peter_Blackburn_(bishop)']\n",
      "After ['Peter_Blackburn_(badminton)', 'Peter_Blackburn_(MP)', 'Peter_Blackburn_(bishop)']\n",
      "Before [0.6296296, 0.3703704, 0.0]\n",
      "After [0.6296296, 0.3703704, 0.0]\n",
      "CPU times: user 126 ms, sys: 8.27 ms, total: 134 ms\n",
      "Wall time: 132 ms\n"
     ]
    }
   ],
   "source": [
    "%%time\n",
    "\n",
    "### Apply defined function to entire dataframe for all candidate pool columns\n",
    "\n",
    "column = 'congruent_mentions'\n",
    "print(\"Before\", full_mentions_pop[column][3])\n",
    "parsed_candidate_pool = full_mentions_pop[column].apply(parse_list_string, value_type=str)\n",
    "full_mentions_pop[column] = parsed_candidate_pool\n",
    "print(\"After\", full_mentions_pop[column][3])\n",
    "\n",
    "column = 'candidate_pool_page_ids'\n",
    "print(\"Before\", full_mentions_pop[column][3])\n",
    "parsed_candidate_pool = full_mentions_pop[column].apply(parse_list_string, value_type=int)\n",
    "full_mentions_pop[column] = parsed_candidate_pool\n",
    "print(\"After\", full_mentions_pop[column][3])\n",
    "\n",
    "\n",
    "column = 'candidate_pool_item_ids'\n",
    "print(\"Before\", full_mentions_pop[column][3])\n",
    "parsed_candidate_pool = full_mentions_pop[column].apply(parse_list_string, value_type=int)\n",
    "full_mentions_pop[column] = parsed_candidate_pool\n",
    "print(\"After\", full_mentions_pop[column][3])\n",
    "\n",
    "\n",
    "column = 'candidate_pool_titles'\n",
    "print(\"Before\", full_mentions_pop[column][3])\n",
    "parsed_candidate_pool = full_mentions_pop[column].apply(parse_list_string, value_type=str)\n",
    "full_mentions_pop[column] = parsed_candidate_pool\n",
    "print(\"After\", full_mentions_pop[column][3])\n",
    "\n",
    "column = 'candidate_pool_priors'\n",
    "print(\"Before\", full_mentions_pop[column][3])\n",
    "parsed_candidate_pool = full_mentions_pop[column].apply(parse_list_string, value_type=float)\n",
    "full_mentions_pop[column] = parsed_candidate_pool\n",
    "print(\"After\", full_mentions_pop[column][3])"
   ]
  },
  {
   "cell_type": "markdown",
   "metadata": {},
   "source": [
    "### Congruence Accuracy without considering Prior Confidence\n",
    "\n",
    "We first experiment with calculating congruence accuracy without directly incorporating prior confidence. We still indirectly incorporate it since we took the Top N most confidence (highest ranked) values in Phase 3, but after creating the Top N list, we don't explicitly incorporate it in our calculation for final predictions."
   ]
  },
  {
   "cell_type": "code",
   "execution_count": 277,
   "metadata": {
    "scrolled": false
   },
   "outputs": [
    {
     "name": "stderr",
     "output_type": "stream",
     "text": [
      "100%|██████████| 3935/3935 [09:39<00:00,  6.79it/s] \n"
     ]
    }
   ],
   "source": [
    "# Iterate over whole dataframe to produce mention predictions for each sentence\n",
    "congruent_predictions_pop_nopr = {}\n",
    "for sid in tqdm(full_mentions['sentence_id'].unique()):\n",
    "    congruent_predictions_pop_nopr[sid] = get_congruent_predictions(sid, dataframe=full_mentions,\n",
    "                                                                     with_priors=False, verbose=False)"
   ]
  },
  {
   "cell_type": "code",
   "execution_count": 278,
   "metadata": {},
   "outputs": [
    {
     "name": "stderr",
     "output_type": "stream",
     "text": [
      "100%|██████████| 9785/9785 [00:01<00:00, 7305.14it/s]"
     ]
    },
    {
     "name": "stdout",
     "output_type": "stream",
     "text": [
      "------------------------------------------\n",
      "Predictive Accuracy: 34.318%\n",
      "Answer Present: 90.271%\n"
     ]
    },
    {
     "name": "stderr",
     "output_type": "stream",
     "text": [
      "\n"
     ]
    }
   ],
   "source": [
    "# Calculate accuracy\n",
    "calculate_accuracy(predictions=congruent_predictions_pop_nopr, dataframe=known_true_mentions, verbose=False)"
   ]
  },
  {
   "cell_type": "code",
   "execution_count": 279,
   "metadata": {
    "scrolled": true
   },
   "outputs": [
    {
     "name": "stderr",
     "output_type": "stream",
     "text": [
      "100%|██████████| 3/3 [00:00<00:00, 1224.02it/s]"
     ]
    },
    {
     "name": "stdout",
     "output_type": "stream",
     "text": [
      "Sentence ID: 148, Number of Mentions: 3\n",
      "------------------------------------------\n",
      "AD-DIYAR 148 ||| True: Ad-Diyar 4273826.0 ==? Pred: Ad-Diyar 4273826 ||| True True  ||| Present?  True\n",
      "Lebanon 148 ||| True: Lebanon 17771.0 ==? Pred: Lebanon national football team 1205183 ||| False False  ||| Present?  True\n",
      "Pakistan 148 ||| True: Pakistan 23235.0 ==? Pred: Pakistan national football team 1302448 ||| False False  ||| Present?  True\n",
      "------------------------------------------\n",
      "Predictive Accuracy: 33.333%\n",
      "Answer Present: 100.0%\n"
     ]
    },
    {
     "name": "stderr",
     "output_type": "stream",
     "text": [
      "\n"
     ]
    }
   ],
   "source": [
    "# Filter to random sentence for manual review\n",
    "rand_sid = np.random.choice(known_true_mentions['sentence_id'])\n",
    "rand_sentence_df = known_true_mentions[known_true_mentions['sentence_id'] == rand_sid]\n",
    "print(f\"Sentence ID: {rand_sid}, Number of Mentions: {len(rand_sentence_df)}\")\n",
    "print(\"------------------------------------------\")\n",
    "\n",
    "# Calculate accuracy\n",
    "calculate_accuracy(predictions=congruent_predictions_pop_nopr, dataframe=rand_sentence_df, verbose=True)"
   ]
  },
  {
   "cell_type": "markdown",
   "metadata": {},
   "source": [
    "### Congruence Accuracy considering Prior Confidence\n",
    "\n",
    "Now, we directly incorporate prior confidence by combining it during the prediction process with our calculated congruent metric. This involves \"discounting\" congruence by the prior confidence we had in each combination's component candidates."
   ]
  },
  {
   "cell_type": "code",
   "execution_count": 280,
   "metadata": {
    "scrolled": false
   },
   "outputs": [
    {
     "name": "stderr",
     "output_type": "stream",
     "text": [
      "100%|██████████| 3935/3935 [14:12<00:00,  4.62it/s] \n"
     ]
    }
   ],
   "source": [
    "# Iterate over whole dataframe to produce mention predictions for each sentence\n",
    "congruent_predictions_pop_pr = {}\n",
    "for sid in tqdm(full_mentions['sentence_id'].unique()):\n",
    "    congruent_predictions_pop_pr[sid] = get_congruent_predictions(sid, dataframe=full_mentions,\n",
    "                                                                   with_priors=True, verbose=False)"
   ]
  },
  {
   "cell_type": "code",
   "execution_count": 281,
   "metadata": {},
   "outputs": [
    {
     "name": "stderr",
     "output_type": "stream",
     "text": [
      "100%|██████████| 9785/9785 [00:01<00:00, 7165.38it/s]"
     ]
    },
    {
     "name": "stdout",
     "output_type": "stream",
     "text": [
      "------------------------------------------\n",
      "Predictive Accuracy: 70.843%\n",
      "Answer Present: 90.271%\n"
     ]
    },
    {
     "name": "stderr",
     "output_type": "stream",
     "text": [
      "\n"
     ]
    }
   ],
   "source": [
    "# Calculate accuracy\n",
    "calculate_accuracy(predictions=congruent_predictions_pop_pr, dataframe=known_true_mentions, verbose=False)"
   ]
  },
  {
   "cell_type": "code",
   "execution_count": 282,
   "metadata": {},
   "outputs": [
    {
     "name": "stderr",
     "output_type": "stream",
     "text": [
      "100%|██████████| 4/4 [00:00<00:00, 1154.74it/s]"
     ]
    },
    {
     "name": "stdout",
     "output_type": "stream",
     "text": [
      "Sentence ID: 3284, Number of Mentions: 4\n",
      "------------------------------------------\n",
      "JAKARTA 3284 ||| True: Jakarta 16275.0 ==? Pred: Jakarta 16275 ||| True True  ||| Present?  True\n",
      "GMT 3284 ||| True: Greenwich Mean Time 12701.0 ==? Pred: Greenwich Mean Time 12701 ||| True True  ||| Present?  True\n",
      "Jakarta 3284 ||| True: Jakarta 16275.0 ==? Pred: Jakarta 16275 ||| True True  ||| Present?  True\n",
      "Seoul 3284 ||| True: Seoul 19159283.0 ==? Pred: Seoul 19159283 ||| True True  ||| Present?  True\n",
      "------------------------------------------\n",
      "Predictive Accuracy: 100.0%\n",
      "Answer Present: 100.0%\n"
     ]
    },
    {
     "name": "stderr",
     "output_type": "stream",
     "text": [
      "\n"
     ]
    }
   ],
   "source": [
    "# Filter to random sentence for manual review\n",
    "rand_sid = np.random.choice(known_true_mentions['sentence_id'])\n",
    "rand_sentence_df = known_true_mentions[known_true_mentions['sentence_id'] == rand_sid]\n",
    "print(f\"Sentence ID: {rand_sid}, Number of Mentions: {len(rand_sentence_df)}\")\n",
    "print(\"------------------------------------------\")\n",
    "\n",
    "# Calculate accuracy\n",
    "calculate_accuracy(predictions=congruent_predictions_pop_pr, dataframe=rand_sentence_df, verbose=True)"
   ]
  },
  {
   "cell_type": "code",
   "execution_count": null,
   "metadata": {},
   "outputs": [],
   "source": []
  },
  {
   "cell_type": "code",
   "execution_count": null,
   "metadata": {},
   "outputs": [],
   "source": []
  },
  {
   "cell_type": "code",
   "execution_count": null,
   "metadata": {},
   "outputs": [],
   "source": []
  },
  {
   "cell_type": "code",
   "execution_count": null,
   "metadata": {},
   "outputs": [],
   "source": []
  },
  {
   "cell_type": "code",
   "execution_count": null,
   "metadata": {},
   "outputs": [],
   "source": []
  },
  {
   "cell_type": "markdown",
   "metadata": {},
   "source": [
    "# Logical Flow Demonstration\n",
    "\n",
    "The cells below have been included as a more easily understood logical flow to understand how we designed the recursive congruence algorithm for an arbitrary length of full mentions in a sentence. We manually select a sentence and work through that. This is identical to the above but with more printed out breaks."
   ]
  },
  {
   "cell_type": "code",
   "execution_count": 133,
   "metadata": {},
   "outputs": [
    {
     "data": {
      "text/html": [
       "<div>\n",
       "<style scoped>\n",
       "    .dataframe tbody tr th:only-of-type {\n",
       "        vertical-align: middle;\n",
       "    }\n",
       "\n",
       "    .dataframe tbody tr th {\n",
       "        vertical-align: top;\n",
       "    }\n",
       "\n",
       "    .dataframe thead th {\n",
       "        text-align: right;\n",
       "    }\n",
       "</style>\n",
       "<table border=\"1\" class=\"dataframe\">\n",
       "  <thead>\n",
       "    <tr style=\"text-align: right;\">\n",
       "      <th></th>\n",
       "      <th>mention</th>\n",
       "      <th>full_mention</th>\n",
       "      <th>wikipedia_URL</th>\n",
       "      <th>wikipedia_page_ID</th>\n",
       "      <th>wikipedia_title</th>\n",
       "      <th>sentence_id</th>\n",
       "      <th>doc_id</th>\n",
       "      <th>congruent_mentions</th>\n",
       "      <th>norm_full_mention</th>\n",
       "      <th>candidate_pool_page_ids</th>\n",
       "      <th>candidate_pool_item_ids</th>\n",
       "      <th>candidate_pool_titles</th>\n",
       "      <th>candidate_pool_priors</th>\n",
       "    </tr>\n",
       "  </thead>\n",
       "  <tbody>\n",
       "    <tr>\n",
       "      <th>0</th>\n",
       "      <td>B</td>\n",
       "      <td>Peter Blackburn</td>\n",
       "      <td>NaN</td>\n",
       "      <td>NaN</td>\n",
       "      <td>NaN</td>\n",
       "      <td>1</td>\n",
       "      <td>0</td>\n",
       "      <td>[Peter Blackburn, BRUSSELS, European Commissio...</td>\n",
       "      <td>peter blackburn</td>\n",
       "      <td>[56783206, 9643132, 56873217]</td>\n",
       "      <td>[2073954, 7172840, 26634508]</td>\n",
       "      <td>[Peter_Blackburn_(badminton), Peter_Blackburn_...</td>\n",
       "      <td>[0.5, 0.3, 0.2]</td>\n",
       "    </tr>\n",
       "    <tr>\n",
       "      <th>1</th>\n",
       "      <td>B</td>\n",
       "      <td>BRUSSELS</td>\n",
       "      <td>http://en.wikipedia.org/wiki/Brussels</td>\n",
       "      <td>3708.0</td>\n",
       "      <td>Brussels</td>\n",
       "      <td>1</td>\n",
       "      <td>0</td>\n",
       "      <td>[Peter Blackburn, BRUSSELS, European Commissio...</td>\n",
       "      <td>brussels</td>\n",
       "      <td>[3708, 575501, 1437181, 269753, 4152470]</td>\n",
       "      <td>[240, 239, 1050331, 28934, 800587]</td>\n",
       "      <td>[Brussels, City_of_Brussels, R.W.D.M._Brussels...</td>\n",
       "      <td>[0.9631528, 0.0115147, 0.0037144, 0.0028973, 0...</td>\n",
       "    </tr>\n",
       "    <tr>\n",
       "      <th>2</th>\n",
       "      <td>B</td>\n",
       "      <td>European Commission</td>\n",
       "      <td>http://en.wikipedia.org/wiki/European_Commission</td>\n",
       "      <td>9974.0</td>\n",
       "      <td>European Commission</td>\n",
       "      <td>1</td>\n",
       "      <td>0</td>\n",
       "      <td>[Peter Blackburn, BRUSSELS, European Commissio...</td>\n",
       "      <td>european commission</td>\n",
       "      <td>[9974, 24468, 1130631, 1549462, 41222020]</td>\n",
       "      <td>[8880, 8882, 388354, 1780232, 16975389]</td>\n",
       "      <td>[European_Commission, President_of_the_Europea...</td>\n",
       "      <td>[0.9959089, 0.0008894, 0.0005336, 0.0003557, 0...</td>\n",
       "    </tr>\n",
       "    <tr>\n",
       "      <th>3</th>\n",
       "      <td>B</td>\n",
       "      <td>German</td>\n",
       "      <td>http://en.wikipedia.org/wiki/Germany</td>\n",
       "      <td>11867.0</td>\n",
       "      <td>Germany</td>\n",
       "      <td>1</td>\n",
       "      <td>0</td>\n",
       "      <td>[Peter Blackburn, BRUSSELS, European Commissio...</td>\n",
       "      <td>german</td>\n",
       "      <td>[11867, 11884, 152735, 21212, 12674]</td>\n",
       "      <td>[183, 188, 42884, 7318, 43287]</td>\n",
       "      <td>[Germany, German_language, Germans, Nazi_Germa...</td>\n",
       "      <td>[0.4192066, 0.2893363, 0.1470461, 0.03832, 0.0...</td>\n",
       "    </tr>\n",
       "    <tr>\n",
       "      <th>4</th>\n",
       "      <td>B</td>\n",
       "      <td>British</td>\n",
       "      <td>http://en.wikipedia.org/wiki/United_Kingdom</td>\n",
       "      <td>31717.0</td>\n",
       "      <td>United Kingdom</td>\n",
       "      <td>1</td>\n",
       "      <td>0</td>\n",
       "      <td>[Peter Blackburn, BRUSSELS, European Commissio...</td>\n",
       "      <td>british</td>\n",
       "      <td>[31717, 19097669, 13530298, 4721, 158019]</td>\n",
       "      <td>[145, 842438, 23666, 8680, 161885]</td>\n",
       "      <td>[United_Kingdom, British_people, Great_Britain...</td>\n",
       "      <td>[0.6101256, 0.1146913, 0.0681775, 0.0366451, 0...</td>\n",
       "    </tr>\n",
       "  </tbody>\n",
       "</table>\n",
       "</div>"
      ],
      "text/plain": [
       "  mention         full_mention  \\\n",
       "0       B      Peter Blackburn   \n",
       "1       B             BRUSSELS   \n",
       "2       B  European Commission   \n",
       "3       B               German   \n",
       "4       B              British   \n",
       "\n",
       "                                      wikipedia_URL  wikipedia_page_ID  \\\n",
       "0                                               NaN                NaN   \n",
       "1             http://en.wikipedia.org/wiki/Brussels             3708.0   \n",
       "2  http://en.wikipedia.org/wiki/European_Commission             9974.0   \n",
       "3              http://en.wikipedia.org/wiki/Germany            11867.0   \n",
       "4       http://en.wikipedia.org/wiki/United_Kingdom            31717.0   \n",
       "\n",
       "       wikipedia_title  sentence_id  doc_id  \\\n",
       "0                  NaN            1       0   \n",
       "1             Brussels            1       0   \n",
       "2  European Commission            1       0   \n",
       "3              Germany            1       0   \n",
       "4       United Kingdom            1       0   \n",
       "\n",
       "                                  congruent_mentions    norm_full_mention  \\\n",
       "0  [Peter Blackburn, BRUSSELS, European Commissio...      peter blackburn   \n",
       "1  [Peter Blackburn, BRUSSELS, European Commissio...             brussels   \n",
       "2  [Peter Blackburn, BRUSSELS, European Commissio...  european commission   \n",
       "3  [Peter Blackburn, BRUSSELS, European Commissio...               german   \n",
       "4  [Peter Blackburn, BRUSSELS, European Commissio...              british   \n",
       "\n",
       "                     candidate_pool_page_ids  \\\n",
       "0              [56783206, 9643132, 56873217]   \n",
       "1   [3708, 575501, 1437181, 269753, 4152470]   \n",
       "2  [9974, 24468, 1130631, 1549462, 41222020]   \n",
       "3       [11867, 11884, 152735, 21212, 12674]   \n",
       "4  [31717, 19097669, 13530298, 4721, 158019]   \n",
       "\n",
       "                   candidate_pool_item_ids  \\\n",
       "0             [2073954, 7172840, 26634508]   \n",
       "1       [240, 239, 1050331, 28934, 800587]   \n",
       "2  [8880, 8882, 388354, 1780232, 16975389]   \n",
       "3           [183, 188, 42884, 7318, 43287]   \n",
       "4       [145, 842438, 23666, 8680, 161885]   \n",
       "\n",
       "                               candidate_pool_titles  \\\n",
       "0  [Peter_Blackburn_(badminton), Peter_Blackburn_...   \n",
       "1  [Brussels, City_of_Brussels, R.W.D.M._Brussels...   \n",
       "2  [European_Commission, President_of_the_Europea...   \n",
       "3  [Germany, German_language, Germans, Nazi_Germa...   \n",
       "4  [United_Kingdom, British_people, Great_Britain...   \n",
       "\n",
       "                               candidate_pool_priors  \n",
       "0                                    [0.5, 0.3, 0.2]  \n",
       "1  [0.9631528, 0.0115147, 0.0037144, 0.0028973, 0...  \n",
       "2  [0.9959089, 0.0008894, 0.0005336, 0.0003557, 0...  \n",
       "3  [0.4192066, 0.2893363, 0.1470461, 0.03832, 0.0...  \n",
       "4  [0.6101256, 0.1146913, 0.0681775, 0.0366451, 0...  "
      ]
     },
     "execution_count": 133,
     "metadata": {},
     "output_type": "execute_result"
    }
   ],
   "source": [
    "# Test on manually selected sentence\n",
    "single_sentence_df = full_mentions[full_mentions['sentence_id'] == 1].drop_duplicates(['full_mention', 'wikipedia_page_ID', 'sentence_id']).reset_index(drop=True)\n",
    "single_sentence_df"
   ]
  },
  {
   "cell_type": "code",
   "execution_count": 134,
   "metadata": {},
   "outputs": [
    {
     "name": "stdout",
     "output_type": "stream",
     "text": [
      "['Peter Blackburn', 'BRUSSELS', 'European Commission', 'German', 'British']\n"
     ]
    }
   ],
   "source": [
    "# Congruent Mention\n",
    "print(single_sentence_df['congruent_mentions'][0])"
   ]
  },
  {
   "cell_type": "code",
   "execution_count": 135,
   "metadata": {},
   "outputs": [
    {
     "data": {
      "text/plain": [
       "array([0, 1, 2, 3, 4])"
      ]
     },
     "execution_count": 135,
     "metadata": {},
     "output_type": "execute_result"
    }
   ],
   "source": [
    "# Convert to numerical for easier recursive logic later\n",
    "sentence_mention_nums = np.arange(len(single_sentence_df['congruent_mentions'][0]))\n",
    "sentence_mention_nums"
   ]
  },
  {
   "cell_type": "code",
   "execution_count": 136,
   "metadata": {},
   "outputs": [],
   "source": [
    "# Generate candidate lists of vectors\n",
    "def get_candidate_pool_vectors(candidate_pool_titles, verbose=False):\n",
    "    \"\"\"\n",
    "    Function to return entity vectors from Wikipedia2Vec\n",
    "    Takes as input a list of page titles, representing the candidate pool\n",
    "    Normalizes each page title to match necessary input format\n",
    "    Returns entity vector or empty vector if no match\n",
    "    \"\"\"\n",
    "    # Track failed vector queries\n",
    "    no_vector_count = 0\n",
    "    candidate_pool_vectors = []\n",
    "    for candidate in candidate_pool_titles:\n",
    "        candidate = normalize_text(candidate)\n",
    "        try:\n",
    "            candidate_vectors = w2v.get_entity_vector(candidate)\n",
    "        except KeyError:\n",
    "            # Keep empty vector representation to maintain index locations\n",
    "            candidate_vectors = np.zeros(100)\n",
    "            no_vector_count += 1\n",
    "        candidate_pool_vectors.append(candidate_vectors)\n",
    "    \n",
    "    if len(candidate_pool_titles) == 0:\n",
    "        candidate_pool_vectors = [np.zeros(100), np.zeros(100), np.zeros(100)]\n",
    "    \n",
    "    if verbose: print(f\"Failed Wikipedia2Vec Entity Vector Queries: {no_vector_count}\")\n",
    "    return candidate_pool_vectors"
   ]
  },
  {
   "cell_type": "code",
   "execution_count": 137,
   "metadata": {
    "scrolled": true
   },
   "outputs": [
    {
     "name": "stdout",
     "output_type": "stream",
     "text": [
      "Failed Wikipedia2Vec Entity Vector Queries: 2\n",
      "Failed Wikipedia2Vec Entity Vector Queries: 0\n",
      "Failed Wikipedia2Vec Entity Vector Queries: 1\n",
      "Failed Wikipedia2Vec Entity Vector Queries: 0\n",
      "Failed Wikipedia2Vec Entity Vector Queries: 0\n"
     ]
    }
   ],
   "source": [
    "# Save vectors in dictionary\n",
    "vector_dict = {}\n",
    "\n",
    "# For each full mention we are analyzing in the contextual domain (i.e. sentence)\n",
    "for m in sentence_mention_nums:\n",
    "    \n",
    "    # Retrieve candidate pool titles\n",
    "    candidate_pool_titles = single_sentence_df['candidate_pool_titles'][m]\n",
    "    \n",
    "    # Convert candidate pool titles to candidate pool vectors\n",
    "    candidate_pool_vectors = get_candidate_pool_vectors(candidate_pool_titles, verbose=True)\n",
    "    \n",
    "    # Save candidate pool vectors to dictionary\n",
    "    vector_dict[m] = candidate_pool_vectors\n",
    "    "
   ]
  },
  {
   "cell_type": "code",
   "execution_count": 139,
   "metadata": {
    "scrolled": false
   },
   "outputs": [
    {
     "name": "stdout",
     "output_type": "stream",
     "text": [
      "dict_keys([0, 1, 2, 3, 4])\n"
     ]
    },
    {
     "data": {
      "text/plain": [
       "memmap([ 5.6705320e-01, -3.3967879e-01,  6.7967427e-01, -8.8146311e-01,\n",
       "        -9.9295086e-01, -3.8026679e-01,  3.1121460e-01, -1.2859932e-01,\n",
       "         6.6351652e-01, -1.9566450e+00,  3.7053553e-04, -2.7253684e-01,\n",
       "         8.7685895e-01, -9.0732628e-01,  3.2349053e-01,  5.2059549e-01,\n",
       "         5.6463188e-01, -6.1859089e-01,  4.5522106e-01, -7.2353148e-01,\n",
       "        -9.7908747e-01,  1.5604380e+00, -8.5058933e-01, -3.0102137e-01,\n",
       "        -7.3634320e-01,  6.0062087e-01, -5.4628011e-02,  6.4058477e-01,\n",
       "         6.5022165e-01,  2.9072487e-01,  1.2940426e+00, -9.4071068e-02,\n",
       "         4.9198017e-01,  3.0347526e-01, -5.4809892e-01, -2.0429029e-01,\n",
       "         9.0489048e-01,  2.7048671e-01,  3.9246964e-01, -1.1840639e+00,\n",
       "        -4.3033957e-01, -7.5106245e-01, -5.7284772e-01,  1.4852484e+00,\n",
       "        -8.7626231e-01, -7.4376535e-01, -1.5343527e-01, -7.3458463e-02,\n",
       "        -3.2605672e-01, -1.0146785e+00,  1.0237430e+00, -9.4328153e-01,\n",
       "         3.4996659e-02, -2.0044473e-01, -1.9703417e-01,  9.8306006e-01,\n",
       "         1.2443291e+00,  4.4966465e-01, -1.7725631e+00,  1.4776839e+00,\n",
       "         3.4709200e-01, -6.4714819e-01, -1.2517909e+00,  1.3799247e-01,\n",
       "         8.6123645e-01, -7.0240957e-01,  2.6356363e-01,  1.7173262e+00,\n",
       "        -1.1625690e+00, -7.3700833e-01,  8.7417591e-01, -7.2752094e-01,\n",
       "         5.1354527e-01, -1.4106265e-01,  4.3454650e-01, -2.7464458e-01,\n",
       "        -2.5152385e-01, -1.6812341e-01, -9.3517298e-01,  1.0230876e-01,\n",
       "         4.6504697e-01, -1.7253537e+00,  8.3058596e-01, -4.7467527e-01,\n",
       "        -5.2035451e-01,  3.3971253e-01,  1.5667379e+00,  1.4175670e+00,\n",
       "         4.1496566e-01, -8.0814487e-01, -9.0114975e-01,  8.7815797e-01,\n",
       "        -1.3504833e+00, -1.2146077e+00,  1.3884471e-01, -1.1015518e+00,\n",
       "        -1.5871716e-01, -5.3572315e-03, -1.1229993e+00,  3.8020507e-01],\n",
       "       dtype=float32)"
      ]
     },
     "execution_count": 139,
     "metadata": {},
     "output_type": "execute_result"
    }
   ],
   "source": [
    "# Display vector_dict output\n",
    "print(vector_dict.keys())\n",
    "# Preview one candidate vector from a candidate pool vectors\n",
    "vector_dict[1][1]"
   ]
  },
  {
   "cell_type": "code",
   "execution_count": 140,
   "metadata": {},
   "outputs": [
    {
     "data": {
      "text/plain": [
       "[range(0, 3), range(0, 5), range(0, 5), range(0, 5), range(0, 5)]"
      ]
     },
     "execution_count": 140,
     "metadata": {},
     "output_type": "execute_result"
    }
   ],
   "source": [
    "# Structure logic to create all combinations of candidates\n",
    "candidate_counts = [range(len(v)) for v in vector_dict.values()]\n",
    "candidate_counts"
   ]
  },
  {
   "cell_type": "code",
   "execution_count": 141,
   "metadata": {
    "scrolled": false
   },
   "outputs": [
    {
     "data": {
      "text/plain": [
       "[(0, 0, 0, 0, 0),\n",
       " (0, 0, 0, 0, 1),\n",
       " (0, 0, 0, 0, 2),\n",
       " (0, 0, 0, 0, 3),\n",
       " (0, 0, 0, 0, 4),\n",
       " (0, 0, 0, 1, 0),\n",
       " (0, 0, 0, 1, 1),\n",
       " (0, 0, 0, 1, 2),\n",
       " (0, 0, 0, 1, 3),\n",
       " (0, 0, 0, 1, 4)]"
      ]
     },
     "execution_count": 141,
     "metadata": {},
     "output_type": "execute_result"
    }
   ],
   "source": [
    "unique_combinations_idx = list(product(*candidate_counts))\n",
    "unique_combinations_idx[:10]"
   ]
  },
  {
   "cell_type": "code",
   "execution_count": 142,
   "metadata": {},
   "outputs": [],
   "source": [
    "## Translate unique combination indexes into list of vector combinations\n",
    "unique_combinations = []\n",
    "for combo in unique_combinations_idx:\n",
    "#     print(combo)\n",
    "    combo_vector = []\n",
    "    for i in range(len(combo)):\n",
    "        combo_vector.append(vector_dict[i][combo[i]])\n",
    "    unique_combinations.append(combo_vector)"
   ]
  },
  {
   "cell_type": "code",
   "execution_count": 143,
   "metadata": {},
   "outputs": [],
   "source": [
    "# Calculate centroids for each unique combination\n",
    "centroids = []\n",
    "for combo in unique_combinations:\n",
    "    centroids.append(sum(combo)) #/len(combo)) if you want mean"
   ]
  },
  {
   "cell_type": "code",
   "execution_count": 144,
   "metadata": {},
   "outputs": [
    {
     "data": {
      "text/plain": [
       "array([ 2.131043  , -0.03438118,  2.4980736 , -0.7308637 , -1.1257738 ,\n",
       "       -0.49353868,  1.0083045 , -1.0838606 ,  0.75853443, -5.91596   ,\n",
       "        0.47778386, -1.3803507 ,  2.8838859 , -5.77764   , -1.5809379 ,\n",
       "       -0.7298596 ,  2.0230465 , -0.5698778 ,  1.3996718 , -0.73016936,\n",
       "       -1.5379165 ,  2.231394  , -1.0941744 , -1.3733233 , -2.2880337 ,\n",
       "        1.8583322 ,  2.8878713 , -1.3950173 ,  0.5865395 ,  0.8182961 ,\n",
       "       -0.37736836, -0.1751889 ,  3.4341693 ,  2.48418   ,  1.6804861 ,\n",
       "        0.1854988 ,  1.6437321 ,  1.0341145 ,  0.44050485, -1.1708148 ,\n",
       "        0.7957667 , -1.3546429 ,  0.38562632,  3.6486506 , -0.76347744,\n",
       "       -1.1840131 , -0.9945575 ,  3.122835  , -2.0672047 , -2.3407288 ,\n",
       "        2.0564058 ,  1.6348517 ,  1.4340049 , -2.695025  ,  0.19447258,\n",
       "        0.7308686 ,  2.818136  ,  1.1672243 , -2.6244626 ,  1.1208712 ,\n",
       "        2.4334676 ,  0.36272705, -1.8655688 ,  1.482802  ,  5.2873936 ,\n",
       "       -1.9874624 , -2.7909927 ,  1.2789898 , -2.3831098 , -3.9685295 ,\n",
       "       -1.3055067 ,  0.16041306, -1.5204049 ,  2.215236  , -2.1311655 ,\n",
       "        0.15059692,  1.4126135 , -0.85459715,  0.441755  , -0.65415514,\n",
       "        0.3865388 , -2.1975203 ,  1.040261  , -1.7043724 ,  1.3146981 ,\n",
       "        0.51544535,  1.6908295 , -0.04856205,  1.2496967 , -2.8507175 ,\n",
       "       -3.2187786 , -1.3497958 ,  0.36218208, -1.3739964 ,  1.1698556 ,\n",
       "       -2.0754268 ,  0.50031245,  1.8875923 , -0.58603346, -1.5836864 ],\n",
       "      dtype=float32)"
      ]
     },
     "execution_count": 144,
     "metadata": {},
     "output_type": "execute_result"
    }
   ],
   "source": [
    "# Each position should now have one\n",
    "centroids[0]              # Leave as is for sum of vectors\n",
    "# np.array(centroids[0])/5  # Divide by mention count for mean of vectors"
   ]
  },
  {
   "cell_type": "code",
   "execution_count": 145,
   "metadata": {},
   "outputs": [],
   "source": [
    "# Confirm we have a centroid for every set\n",
    "assert len(unique_combinations) == len(centroids)"
   ]
  },
  {
   "cell_type": "code",
   "execution_count": 157,
   "metadata": {},
   "outputs": [],
   "source": [
    "# Calculate cosine similarity as distance between each candidate and that set's centroid\n",
    "set_distances = []\n",
    "for i in range(len(unique_combinations)):\n",
    "    candidate_distances = []\n",
    "    combination = unique_combinations[i]\n",
    "    centroid = centroids[i]\n",
    "    for candidate in combination:\n",
    "        \n",
    "        # todo which should I be using?\n",
    "        candidate_distance = cosine_similarity(candidate.reshape(-1, 1), centroid.reshape(-1, 1))\n",
    "#         candidate_distance = pairwise_distances(candidate.reshape(-1, 1), centroid.reshape(-1, 1), metric='cosine')\n",
    "\n",
    "        candidate_distances.append(candidate_distance)\n",
    "    set_distances.append(candidate_distances)"
   ]
  },
  {
   "cell_type": "code",
   "execution_count": 158,
   "metadata": {},
   "outputs": [
    {
     "data": {
      "text/plain": [
       "[array([[-1.,  1., -1., ..., -1.,  1.,  1.],\n",
       "        [ 1., -1.,  1., ...,  1., -1., -1.],\n",
       "        [ 1., -1.,  1., ...,  1., -1., -1.],\n",
       "        ...,\n",
       "        [ 1., -1.,  1., ...,  1., -1., -1.],\n",
       "        [-1.,  1., -1., ..., -1.,  1.,  1.],\n",
       "        [ 1., -1.,  1., ...,  1., -1., -1.]], dtype=float32),\n",
       " array([[ 1., -1.,  1., ...,  1., -1., -1.],\n",
       "        [-1.,  1., -1., ..., -1.,  1.,  1.],\n",
       "        [ 1., -1.,  1., ...,  1., -1., -1.],\n",
       "        ...,\n",
       "        [ 1., -1.,  1., ...,  1., -1., -1.],\n",
       "        [-1.,  1., -1., ..., -1.,  1.,  1.],\n",
       "        [-1.,  1., -1., ..., -1.,  1.,  1.]], dtype=float32),\n",
       " array([[ 1., -1.,  1., ...,  1., -1., -1.],\n",
       "        [ 1., -1.,  1., ...,  1., -1., -1.],\n",
       "        [-1.,  1., -1., ..., -1.,  1.,  1.],\n",
       "        ...,\n",
       "        [ 1., -1.,  1., ...,  1., -1., -1.],\n",
       "        [ 1., -1.,  1., ...,  1., -1., -1.],\n",
       "        [-1.,  1., -1., ..., -1.,  1.,  1.]], dtype=float32),\n",
       " array([[ 1., -1.,  1., ...,  1., -1., -1.],\n",
       "        [-1.,  1., -1., ..., -1.,  1.,  1.],\n",
       "        [ 1., -1.,  1., ...,  1., -1., -1.],\n",
       "        ...,\n",
       "        [-1.,  1., -1., ..., -1.,  1.,  1.],\n",
       "        [ 1., -1.,  1., ...,  1., -1., -1.],\n",
       "        [ 1., -1.,  1., ...,  1., -1., -1.]], dtype=float32),\n",
       " array([[ 1., -1.,  1., ...,  1., -1., -1.],\n",
       "        [-1.,  1., -1., ..., -1.,  1.,  1.],\n",
       "        [ 1., -1.,  1., ...,  1., -1., -1.],\n",
       "        ...,\n",
       "        [ 1., -1.,  1., ...,  1., -1., -1.],\n",
       "        [-1.,  1., -1., ..., -1.,  1.,  1.],\n",
       "        [-1.,  1., -1., ..., -1.,  1.,  1.]], dtype=float32)]"
      ]
     },
     "execution_count": 158,
     "metadata": {},
     "output_type": "execute_result"
    }
   ],
   "source": [
    "set_distances[0] # Example combination"
   ]
  },
  {
   "cell_type": "code",
   "execution_count": 159,
   "metadata": {},
   "outputs": [
    {
     "data": {
      "text/plain": [
       "array([[-1.,  1., -1., ..., -1.,  1.,  1.],\n",
       "       [ 1., -1.,  1., ...,  1., -1., -1.],\n",
       "       [ 1., -1.,  1., ...,  1., -1., -1.],\n",
       "       ...,\n",
       "       [ 1., -1.,  1., ...,  1., -1., -1.],\n",
       "       [-1.,  1., -1., ..., -1.,  1.,  1.],\n",
       "       [ 1., -1.,  1., ...,  1., -1., -1.]], dtype=float32)"
      ]
     },
     "execution_count": 159,
     "metadata": {},
     "output_type": "execute_result"
    }
   ],
   "source": [
    "set_distances[0][0] # Example candidate"
   ]
  },
  {
   "cell_type": "code",
   "execution_count": 160,
   "metadata": {},
   "outputs": [],
   "source": [
    "average_set_distance = [np.mean(combo) for combo in set_distances]"
   ]
  },
  {
   "cell_type": "code",
   "execution_count": 161,
   "metadata": {},
   "outputs": [
    {
     "data": {
      "text/plain": [
       "(0.0176, -0.00528)"
      ]
     },
     "execution_count": 161,
     "metadata": {},
     "output_type": "execute_result"
    }
   ],
   "source": [
    "max(average_set_distance), min(average_set_distance)"
   ]
  },
  {
   "cell_type": "code",
   "execution_count": 167,
   "metadata": {},
   "outputs": [
    {
     "data": {
      "text/plain": [
       "450"
      ]
     },
     "execution_count": 167,
     "metadata": {},
     "output_type": "execute_result"
    }
   ],
   "source": [
    "select_idx = np.argmin(average_set_distance)\n",
    "select_idx"
   ]
  },
  {
   "cell_type": "code",
   "execution_count": 168,
   "metadata": {},
   "outputs": [
    {
     "data": {
      "text/plain": [
       "(0, 3, 3, 0, 0)"
      ]
     },
     "execution_count": 168,
     "metadata": {},
     "output_type": "execute_result"
    }
   ],
   "source": [
    "most_congruent_predictions = unique_combinations_idx[select_idx]\n",
    "most_congruent_predictions"
   ]
  },
  {
   "cell_type": "code",
   "execution_count": 169,
   "metadata": {},
   "outputs": [
    {
     "data": {
      "text/plain": [
       "{0: 0, 1: 3, 2: 3, 3: 0, 4: 0}"
      ]
     },
     "execution_count": 169,
     "metadata": {},
     "output_type": "execute_result"
    }
   ],
   "source": [
    "# See what we got done\n",
    "mention_predictions = {}\n",
    "for i in range(len(most_congruent_predictions)):\n",
    "    mention_predictions[i] = most_congruent_predictions[i]\n",
    "mention_predictions"
   ]
  },
  {
   "cell_type": "code",
   "execution_count": 170,
   "metadata": {},
   "outputs": [
    {
     "data": {
      "text/plain": [
       "Index(['mention', 'full_mention', 'wikipedia_URL', 'wikipedia_page_ID',\n",
       "       'wikipedia_title', 'sentence_id', 'doc_id', 'congruent_mentions',\n",
       "       'norm_full_mention', 'candidate_pool_page_ids',\n",
       "       'candidate_pool_item_ids', 'candidate_pool_titles',\n",
       "       'candidate_pool_likelihoods'],\n",
       "      dtype='object')"
      ]
     },
     "execution_count": 170,
     "metadata": {},
     "output_type": "execute_result"
    }
   ],
   "source": [
    "single_sentence_df.columns"
   ]
  },
  {
   "cell_type": "code",
   "execution_count": 171,
   "metadata": {},
   "outputs": [
    {
     "name": "stdout",
     "output_type": "stream",
     "text": [
      "Text: Peter Blackburn - True: nan, nan ==? Pred: Peter_Blackburn_(badminton),56783206\n",
      "Text: BRUSSELS - True: Brussels, 3708.0 ==? Pred: Brussels_Airport,269753\n",
      "Text: European Commission - True: European Commission, 9974.0 ==? Pred: European_Commissioner_for_Competition,1549462\n",
      "Text: German - True: Germany, 11867.0 ==? Pred: Germany,11867\n",
      "Text: British - True: United Kingdom, 31717.0 ==? Pred: United_Kingdom,31717\n",
      "*********************************************\n",
      "We predicted 40.0% mentions correctly.\n",
      "The correct answer was present in 80.0% candidate pools.\n"
     ]
    }
   ],
   "source": [
    "correct_predictions = 0\n",
    "answer_present = 0\n",
    "\n",
    "for i in range(len(single_sentence_df)):\n",
    "    row = single_sentence_df.iloc[i]\n",
    "    full_mention = row['full_mention']\n",
    "    wiki_title = row['wikipedia_title']\n",
    "    wiki_page_id = row['wikipedia_page_ID']\n",
    "    candidate_pool_titles = row['candidate_pool_titles']\n",
    "    candidate_pool_page_ids = row['candidate_pool_page_ids']\n",
    "    pred_idx = mention_predictions[i]\n",
    "    pred_title = candidate_pool_titles[pred_idx]\n",
    "    pred_page_id = candidate_pool_page_ids[pred_idx]\n",
    "    print(f\"Text: {full_mention} - True: {wiki_title}, {wiki_page_id} ==? Pred: {pred_title},{pred_page_id}\")\n",
    "    if wiki_page_id == pred_page_id:\n",
    "        correct_predictions += 1\n",
    "    if wiki_page_id in candidate_pool_page_ids:\n",
    "        answer_present += 1\n",
    "\n",
    "print(\"*********************************************\")\n",
    "print(f\"We predicted {round(correct_predictions/len(single_sentence_df)*100,2)}% mentions correctly.\")\n",
    "print(f\"The correct answer was present in {round(answer_present/len(single_sentence_df)*100,2)}% candidate pools.\") "
   ]
  },
  {
   "cell_type": "code",
   "execution_count": 141,
   "metadata": {},
   "outputs": [
    {
     "name": "stdout",
     "output_type": "stream",
     "text": [
      "You've predicted everything!\n"
     ]
    }
   ],
   "source": [
    "print(\"You've predicted everything!\")"
   ]
  },
  {
   "cell_type": "code",
   "execution_count": null,
   "metadata": {},
   "outputs": [],
   "source": []
  }
 ],
 "metadata": {
  "kernelspec": {
   "display_name": "Python 3",
   "language": "python",
   "name": "python3"
  },
  "language_info": {
   "codemirror_mode": {
    "name": "ipython",
    "version": 3
   },
   "file_extension": ".py",
   "mimetype": "text/x-python",
   "name": "python",
   "nbconvert_exporter": "python",
   "pygments_lexer": "ipython3",
   "version": "3.7.7"
  }
 },
 "nbformat": 4,
 "nbformat_minor": 4
}
