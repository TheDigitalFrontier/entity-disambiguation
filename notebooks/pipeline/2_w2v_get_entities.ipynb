{
 "cells": [
  {
   "cell_type": "markdown",
   "metadata": {},
   "source": [
    "# Part Two: Enter Full Mention into Wikipedia2vec Get Entities\n",
    "\n",
    "Our most direct step is to use Wikipedia2vec's API and its get_entities() function to enter `full_mention` directly into that. We do that as our first process step, with the assumption that a returned result is near a 100% chance of being the correct page. We test this hypothesis at the end of this notebook."
   ]
  },
  {
   "cell_type": "markdown",
   "metadata": {},
   "source": [
    "#### Import Packages"
   ]
  },
  {
   "cell_type": "code",
   "execution_count": 1,
   "metadata": {},
   "outputs": [],
   "source": [
    "import os\n",
    "import time\n",
    "\n",
    "import pandas as pd\n",
    "import numpy as np\n",
    "import matplotlib.pyplot as plt\n",
    "%matplotlib inline\n",
    "\n",
    "# Progress bar\n",
    "from tqdm import tqdm"
   ]
  },
  {
   "cell_type": "markdown",
   "metadata": {},
   "source": [
    "## Load Processed ACY Input"
   ]
  },
  {
   "cell_type": "code",
   "execution_count": 69,
   "metadata": {},
   "outputs": [
    {
     "data": {
      "text/html": [
       "<div>\n",
       "<style scoped>\n",
       "    .dataframe tbody tr th:only-of-type {\n",
       "        vertical-align: middle;\n",
       "    }\n",
       "\n",
       "    .dataframe tbody tr th {\n",
       "        vertical-align: top;\n",
       "    }\n",
       "\n",
       "    .dataframe thead th {\n",
       "        text-align: right;\n",
       "    }\n",
       "</style>\n",
       "<table border=\"1\" class=\"dataframe\">\n",
       "  <thead>\n",
       "    <tr style=\"text-align: right;\">\n",
       "      <th></th>\n",
       "      <th>mention</th>\n",
       "      <th>full_mention</th>\n",
       "      <th>wikipedia_URL</th>\n",
       "      <th>wikipedia_ID</th>\n",
       "      <th>sentence_id</th>\n",
       "      <th>doc_id</th>\n",
       "      <th>congruent_entities</th>\n",
       "    </tr>\n",
       "  </thead>\n",
       "  <tbody>\n",
       "    <tr>\n",
       "      <th>0</th>\n",
       "      <td>B</td>\n",
       "      <td>German</td>\n",
       "      <td>http://en.wikipedia.org/wiki/Germany</td>\n",
       "      <td>11867</td>\n",
       "      <td>0</td>\n",
       "      <td>0</td>\n",
       "      <td>['EU', 'German', 'British']</td>\n",
       "    </tr>\n",
       "    <tr>\n",
       "      <th>1</th>\n",
       "      <td>B</td>\n",
       "      <td>British</td>\n",
       "      <td>http://en.wikipedia.org/wiki/United_Kingdom</td>\n",
       "      <td>31717</td>\n",
       "      <td>0</td>\n",
       "      <td>0</td>\n",
       "      <td>['EU', 'German', 'British']</td>\n",
       "    </tr>\n",
       "    <tr>\n",
       "      <th>2</th>\n",
       "      <td>B</td>\n",
       "      <td>BRUSSELS</td>\n",
       "      <td>http://en.wikipedia.org/wiki/Brussels</td>\n",
       "      <td>3708</td>\n",
       "      <td>1</td>\n",
       "      <td>0</td>\n",
       "      <td>['Peter Blackburn', 'BRUSSELS', 'European Comm...</td>\n",
       "    </tr>\n",
       "  </tbody>\n",
       "</table>\n",
       "</div>"
      ],
      "text/plain": [
       "  mention full_mention                                wikipedia_URL  \\\n",
       "0       B       German         http://en.wikipedia.org/wiki/Germany   \n",
       "1       B      British  http://en.wikipedia.org/wiki/United_Kingdom   \n",
       "2       B     BRUSSELS        http://en.wikipedia.org/wiki/Brussels   \n",
       "\n",
       "   wikipedia_ID  sentence_id  doc_id  \\\n",
       "0         11867            0       0   \n",
       "1         31717            0       0   \n",
       "2          3708            1       0   \n",
       "\n",
       "                                  congruent_entities  \n",
       "0                        ['EU', 'German', 'British']  \n",
       "1                        ['EU', 'German', 'British']  \n",
       "2  ['Peter Blackburn', 'BRUSSELS', 'European Comm...  "
      ]
     },
     "execution_count": 69,
     "metadata": {},
     "output_type": "execute_result"
    }
   ],
   "source": [
    "# Base path to input\n",
    "acy_path = '../../data/aida-conll-yago-dataset/'\n",
    "\n",
    "# Load data\n",
    "acy_input = pd.read_csv(os.path.join(acy_path, \"Aida-Conll-Yago-Input.csv\"), delimiter=\",\")\n",
    "acy_input.head(3)"
   ]
  },
  {
   "cell_type": "code",
   "execution_count": 70,
   "metadata": {},
   "outputs": [],
   "source": [
    "# Re-name for this predictive step\n",
    "entity_disambiguation = acy_input"
   ]
  },
  {
   "cell_type": "markdown",
   "metadata": {},
   "source": [
    "## Import Wikipedia2Vec Model"
   ]
  },
  {
   "cell_type": "code",
   "execution_count": 5,
   "metadata": {},
   "outputs": [],
   "source": [
    "# Package\n",
    "from wikipedia2vec import Wikipedia2Vec"
   ]
  },
  {
   "cell_type": "code",
   "execution_count": 4,
   "metadata": {},
   "outputs": [
    {
     "name": "stdout",
     "output_type": "stream",
     "text": [
      "CPU times: user 92.9 ms, sys: 142 ms, total: 235 ms\n",
      "Wall time: 316 ms\n"
     ]
    }
   ],
   "source": [
    "%%time\n",
    "# Load unzipped pkl file with word embeddings\n",
    "w2v = Wikipedia2Vec.load(\"../../embeddings/enwiki_20180420_100d.pkl\")"
   ]
  },
  {
   "cell_type": "markdown",
   "metadata": {},
   "source": [
    "#### Query using `full_mention`"
   ]
  },
  {
   "cell_type": "code",
   "execution_count": 71,
   "metadata": {},
   "outputs": [
    {
     "name": "stderr",
     "output_type": "stream",
     "text": [
      "100%|██████████| 22257/22257 [00:00<00:00, 46354.66it/s]"
     ]
    },
    {
     "name": "stdout",
     "output_type": "stream",
     "text": [
      "Query Success Rate:  72.638 %\n"
     ]
    },
    {
     "name": "stderr",
     "output_type": "stream",
     "text": [
      "\n"
     ]
    }
   ],
   "source": [
    "# Track success rate for returned values\n",
    "successes = 0\n",
    "queries = 0\n",
    "failed_searches = []\n",
    "preds_w2v_getentity = []\n",
    "\n",
    "# Run through each full_mention\n",
    "for full_mention in tqdm(acy_input['full_mention']):\n",
    "    \n",
    "    # Query API\n",
    "    entity = w2v.get_entity(full_mention)\n",
    "    \n",
    "    # Increment count\n",
    "    queries += 1\n",
    "    if entity is not None:\n",
    "        successes += 1\n",
    "    else:\n",
    "        # Save X% of random failures\n",
    "        if np.random.uniform() <= 0.1:\n",
    "            failed_searches.append(full_mention)\n",
    "    \n",
    "    # Save just title\n",
    "    try:\n",
    "        entity = entity.title\n",
    "    except:\n",
    "        pass\n",
    "\n",
    "    # Save prediction\n",
    "    preds_w2v_getentity.append(entity)\n",
    "print(\"Query Success Rate: \", round(successes/queries*100, 3),\"%\")"
   ]
  },
  {
   "cell_type": "code",
   "execution_count": 72,
   "metadata": {},
   "outputs": [
    {
     "data": {
      "text/html": [
       "<div>\n",
       "<style scoped>\n",
       "    .dataframe tbody tr th:only-of-type {\n",
       "        vertical-align: middle;\n",
       "    }\n",
       "\n",
       "    .dataframe tbody tr th {\n",
       "        vertical-align: top;\n",
       "    }\n",
       "\n",
       "    .dataframe thead th {\n",
       "        text-align: right;\n",
       "    }\n",
       "</style>\n",
       "<table border=\"1\" class=\"dataframe\">\n",
       "  <thead>\n",
       "    <tr style=\"text-align: right;\">\n",
       "      <th></th>\n",
       "      <th>mention</th>\n",
       "      <th>full_mention</th>\n",
       "      <th>wikipedia_URL</th>\n",
       "      <th>wikipedia_ID</th>\n",
       "      <th>sentence_id</th>\n",
       "      <th>doc_id</th>\n",
       "      <th>congruent_entities</th>\n",
       "      <th>preds_w2v_getentity</th>\n",
       "    </tr>\n",
       "  </thead>\n",
       "  <tbody>\n",
       "    <tr>\n",
       "      <th>0</th>\n",
       "      <td>B</td>\n",
       "      <td>German</td>\n",
       "      <td>http://en.wikipedia.org/wiki/Germany</td>\n",
       "      <td>11867</td>\n",
       "      <td>0</td>\n",
       "      <td>0</td>\n",
       "      <td>['EU', 'German', 'British']</td>\n",
       "      <td>None</td>\n",
       "    </tr>\n",
       "    <tr>\n",
       "      <th>1</th>\n",
       "      <td>B</td>\n",
       "      <td>British</td>\n",
       "      <td>http://en.wikipedia.org/wiki/United_Kingdom</td>\n",
       "      <td>31717</td>\n",
       "      <td>0</td>\n",
       "      <td>0</td>\n",
       "      <td>['EU', 'German', 'British']</td>\n",
       "      <td>None</td>\n",
       "    </tr>\n",
       "    <tr>\n",
       "      <th>2</th>\n",
       "      <td>B</td>\n",
       "      <td>BRUSSELS</td>\n",
       "      <td>http://en.wikipedia.org/wiki/Brussels</td>\n",
       "      <td>3708</td>\n",
       "      <td>1</td>\n",
       "      <td>0</td>\n",
       "      <td>['Peter Blackburn', 'BRUSSELS', 'European Comm...</td>\n",
       "      <td>None</td>\n",
       "    </tr>\n",
       "    <tr>\n",
       "      <th>3</th>\n",
       "      <td>B</td>\n",
       "      <td>European Commission</td>\n",
       "      <td>http://en.wikipedia.org/wiki/European_Commission</td>\n",
       "      <td>9974</td>\n",
       "      <td>1</td>\n",
       "      <td>0</td>\n",
       "      <td>['Peter Blackburn', 'BRUSSELS', 'European Comm...</td>\n",
       "      <td>European Commission</td>\n",
       "    </tr>\n",
       "    <tr>\n",
       "      <th>4</th>\n",
       "      <td>I</td>\n",
       "      <td>European Commission</td>\n",
       "      <td>http://en.wikipedia.org/wiki/European_Commission</td>\n",
       "      <td>9974</td>\n",
       "      <td>1</td>\n",
       "      <td>0</td>\n",
       "      <td>['Peter Blackburn', 'BRUSSELS', 'European Comm...</td>\n",
       "      <td>European Commission</td>\n",
       "    </tr>\n",
       "    <tr>\n",
       "      <th>5</th>\n",
       "      <td>B</td>\n",
       "      <td>German</td>\n",
       "      <td>http://en.wikipedia.org/wiki/Germany</td>\n",
       "      <td>11867</td>\n",
       "      <td>1</td>\n",
       "      <td>0</td>\n",
       "      <td>['Peter Blackburn', 'BRUSSELS', 'European Comm...</td>\n",
       "      <td>None</td>\n",
       "    </tr>\n",
       "    <tr>\n",
       "      <th>6</th>\n",
       "      <td>B</td>\n",
       "      <td>British</td>\n",
       "      <td>http://en.wikipedia.org/wiki/United_Kingdom</td>\n",
       "      <td>31717</td>\n",
       "      <td>1</td>\n",
       "      <td>0</td>\n",
       "      <td>['Peter Blackburn', 'BRUSSELS', 'European Comm...</td>\n",
       "      <td>None</td>\n",
       "    </tr>\n",
       "    <tr>\n",
       "      <th>7</th>\n",
       "      <td>B</td>\n",
       "      <td>Germany</td>\n",
       "      <td>http://en.wikipedia.org/wiki/Germany</td>\n",
       "      <td>11867</td>\n",
       "      <td>2</td>\n",
       "      <td>0</td>\n",
       "      <td>['Germany', 'European Union', 'Werner Zwingman...</td>\n",
       "      <td>Germany</td>\n",
       "    </tr>\n",
       "    <tr>\n",
       "      <th>8</th>\n",
       "      <td>B</td>\n",
       "      <td>European Union</td>\n",
       "      <td>http://en.wikipedia.org/wiki/European_Union</td>\n",
       "      <td>9317</td>\n",
       "      <td>2</td>\n",
       "      <td>0</td>\n",
       "      <td>['Germany', 'European Union', 'Werner Zwingman...</td>\n",
       "      <td>European Union</td>\n",
       "    </tr>\n",
       "    <tr>\n",
       "      <th>9</th>\n",
       "      <td>I</td>\n",
       "      <td>European Union</td>\n",
       "      <td>http://en.wikipedia.org/wiki/European_Union</td>\n",
       "      <td>9317</td>\n",
       "      <td>2</td>\n",
       "      <td>0</td>\n",
       "      <td>['Germany', 'European Union', 'Werner Zwingman...</td>\n",
       "      <td>European Union</td>\n",
       "    </tr>\n",
       "  </tbody>\n",
       "</table>\n",
       "</div>"
      ],
      "text/plain": [
       "  mention         full_mention  \\\n",
       "0       B               German   \n",
       "1       B              British   \n",
       "2       B             BRUSSELS   \n",
       "3       B  European Commission   \n",
       "4       I  European Commission   \n",
       "5       B               German   \n",
       "6       B              British   \n",
       "7       B              Germany   \n",
       "8       B       European Union   \n",
       "9       I       European Union   \n",
       "\n",
       "                                      wikipedia_URL  wikipedia_ID  \\\n",
       "0              http://en.wikipedia.org/wiki/Germany         11867   \n",
       "1       http://en.wikipedia.org/wiki/United_Kingdom         31717   \n",
       "2             http://en.wikipedia.org/wiki/Brussels          3708   \n",
       "3  http://en.wikipedia.org/wiki/European_Commission          9974   \n",
       "4  http://en.wikipedia.org/wiki/European_Commission          9974   \n",
       "5              http://en.wikipedia.org/wiki/Germany         11867   \n",
       "6       http://en.wikipedia.org/wiki/United_Kingdom         31717   \n",
       "7              http://en.wikipedia.org/wiki/Germany         11867   \n",
       "8       http://en.wikipedia.org/wiki/European_Union          9317   \n",
       "9       http://en.wikipedia.org/wiki/European_Union          9317   \n",
       "\n",
       "   sentence_id  doc_id                                 congruent_entities  \\\n",
       "0            0       0                        ['EU', 'German', 'British']   \n",
       "1            0       0                        ['EU', 'German', 'British']   \n",
       "2            1       0  ['Peter Blackburn', 'BRUSSELS', 'European Comm...   \n",
       "3            1       0  ['Peter Blackburn', 'BRUSSELS', 'European Comm...   \n",
       "4            1       0  ['Peter Blackburn', 'BRUSSELS', 'European Comm...   \n",
       "5            1       0  ['Peter Blackburn', 'BRUSSELS', 'European Comm...   \n",
       "6            1       0  ['Peter Blackburn', 'BRUSSELS', 'European Comm...   \n",
       "7            2       0  ['Germany', 'European Union', 'Werner Zwingman...   \n",
       "8            2       0  ['Germany', 'European Union', 'Werner Zwingman...   \n",
       "9            2       0  ['Germany', 'European Union', 'Werner Zwingman...   \n",
       "\n",
       "   preds_w2v_getentity  \n",
       "0                 None  \n",
       "1                 None  \n",
       "2                 None  \n",
       "3  European Commission  \n",
       "4  European Commission  \n",
       "5                 None  \n",
       "6                 None  \n",
       "7              Germany  \n",
       "8       European Union  \n",
       "9       European Union  "
      ]
     },
     "execution_count": 72,
     "metadata": {},
     "output_type": "execute_result"
    }
   ],
   "source": [
    "# Append predictions to table\n",
    "entity_disambiguation['preds_w2v_getentity'] = preds_w2v_getentity\n",
    "entity_disambiguation.head(10)"
   ]
  },
  {
   "cell_type": "markdown",
   "metadata": {},
   "source": [
    "### Assess Accuracy of Predictions"
   ]
  },
  {
   "cell_type": "code",
   "execution_count": 74,
   "metadata": {},
   "outputs": [
    {
     "data": {
      "text/plain": [
       "['Germany',\n",
       " 'United Kingdom',\n",
       " 'Brussels',\n",
       " 'European Commission',\n",
       " 'European Commission']"
      ]
     },
     "execution_count": 74,
     "metadata": {},
     "output_type": "execute_result"
    }
   ],
   "source": [
    "# Define response variable\n",
    "def replace_lines(text):\n",
    "    return str(text).replace(\"_\", \" \")\n",
    "response = [replace_lines(i.split(\"/\")[-1]) if not isinstance(i, float) else None for i in entity_disambiguation['wikipedia_URL']]\n",
    "response[:5]"
   ]
  },
  {
   "cell_type": "code",
   "execution_count": 75,
   "metadata": {},
   "outputs": [
    {
     "name": "stdout",
     "output_type": "stream",
     "text": [
      "****************************\n",
      "Predictive Accuracy: 55.6%\n",
      "****************************\n"
     ]
    }
   ],
   "source": [
    "# Calculate accuracy\n",
    "accurate_predictions = (entity_disambiguation['preds_w2v_getentity'] == response).sum()\n",
    "print(\"****************************\")\n",
    "print(f\"Predictive Accuracy: {round(accurate_predictions / len(entity_disambiguation) * 100, 3)}%\")\n",
    "print(\"****************************\")"
   ]
  },
  {
   "cell_type": "markdown",
   "metadata": {},
   "source": [
    "## Save predictive dataframe for input to next step"
   ]
  },
  {
   "cell_type": "code",
   "execution_count": 77,
   "metadata": {},
   "outputs": [],
   "source": [
    "# Save dataframe\n",
    "preds_path = '../../predictions/'\n",
    "entity_disambiguation.to_csv(os.path.join(preds_path, \"wikipedia2vec_getentities.csv\"), index=False)"
   ]
  },
  {
   "cell_type": "code",
   "execution_count": null,
   "metadata": {},
   "outputs": [],
   "source": []
  }
 ],
 "metadata": {
  "kernelspec": {
   "display_name": "Python 3",
   "language": "python",
   "name": "python3"
  },
  "language_info": {
   "codemirror_mode": {
    "name": "ipython",
    "version": 3
   },
   "file_extension": ".py",
   "mimetype": "text/x-python",
   "name": "python",
   "nbconvert_exporter": "python",
   "pygments_lexer": "ipython3",
   "version": "3.7.7"
  }
 },
 "nbformat": 4,
 "nbformat_minor": 4
}
