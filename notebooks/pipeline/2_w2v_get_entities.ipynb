{
 "cells": [
  {
   "cell_type": "markdown",
   "metadata": {},
   "source": [
    "# Part Two: Enter Full Mention into Wikipedia2vec Get Entities as Baseline\n",
    "\n",
    "Our most direct step is to use Wikipedia2vec's API and its get_entities() function to enter `full_mention` directly into that. We do that as our first process step, with the assumption that a returned result is near a 100% chance of being the correct page. We test this hypothesis at the end of this notebook."
   ]
  },
  {
   "cell_type": "markdown",
   "metadata": {},
   "source": [
    "#### Import Packages"
   ]
  },
  {
   "cell_type": "code",
   "execution_count": 1,
   "metadata": {},
   "outputs": [],
   "source": [
    "import os\n",
    "import time\n",
    "\n",
    "import pandas as pd\n",
    "import numpy as np\n",
    "import matplotlib.pyplot as plt\n",
    "%matplotlib inline\n",
    "\n",
    "# Progress bar\n",
    "from tqdm import tqdm"
   ]
  },
  {
   "cell_type": "markdown",
   "metadata": {},
   "source": [
    "## Load Processed ACY Input"
   ]
  },
  {
   "cell_type": "code",
   "execution_count": 2,
   "metadata": {},
   "outputs": [
    {
     "data": {
      "text/html": [
       "<div>\n",
       "<style scoped>\n",
       "    .dataframe tbody tr th:only-of-type {\n",
       "        vertical-align: middle;\n",
       "    }\n",
       "\n",
       "    .dataframe tbody tr th {\n",
       "        vertical-align: top;\n",
       "    }\n",
       "\n",
       "    .dataframe thead th {\n",
       "        text-align: right;\n",
       "    }\n",
       "</style>\n",
       "<table border=\"1\" class=\"dataframe\">\n",
       "  <thead>\n",
       "    <tr style=\"text-align: right;\">\n",
       "      <th></th>\n",
       "      <th>mention</th>\n",
       "      <th>full_mention</th>\n",
       "      <th>wikipedia_URL</th>\n",
       "      <th>wikipedia_page_ID</th>\n",
       "      <th>wikipedia_title</th>\n",
       "      <th>sentence_id</th>\n",
       "      <th>doc_id</th>\n",
       "      <th>congruent_mentions</th>\n",
       "    </tr>\n",
       "  </thead>\n",
       "  <tbody>\n",
       "    <tr>\n",
       "      <th>0</th>\n",
       "      <td>B</td>\n",
       "      <td>EU</td>\n",
       "      <td>NaN</td>\n",
       "      <td>NaN</td>\n",
       "      <td>NaN</td>\n",
       "      <td>0</td>\n",
       "      <td>0</td>\n",
       "      <td>['EU', 'German', 'British']</td>\n",
       "    </tr>\n",
       "    <tr>\n",
       "      <th>1</th>\n",
       "      <td>B</td>\n",
       "      <td>German</td>\n",
       "      <td>http://en.wikipedia.org/wiki/Germany</td>\n",
       "      <td>11867.0</td>\n",
       "      <td>Germany</td>\n",
       "      <td>0</td>\n",
       "      <td>0</td>\n",
       "      <td>['EU', 'German', 'British']</td>\n",
       "    </tr>\n",
       "    <tr>\n",
       "      <th>2</th>\n",
       "      <td>B</td>\n",
       "      <td>British</td>\n",
       "      <td>http://en.wikipedia.org/wiki/United_Kingdom</td>\n",
       "      <td>31717.0</td>\n",
       "      <td>United Kingdom</td>\n",
       "      <td>0</td>\n",
       "      <td>0</td>\n",
       "      <td>['EU', 'German', 'British']</td>\n",
       "    </tr>\n",
       "  </tbody>\n",
       "</table>\n",
       "</div>"
      ],
      "text/plain": [
       "  mention full_mention                                wikipedia_URL  \\\n",
       "0       B           EU                                          NaN   \n",
       "1       B       German         http://en.wikipedia.org/wiki/Germany   \n",
       "2       B      British  http://en.wikipedia.org/wiki/United_Kingdom   \n",
       "\n",
       "   wikipedia_page_ID wikipedia_title  sentence_id  doc_id  \\\n",
       "0                NaN             NaN            0       0   \n",
       "1            11867.0         Germany            0       0   \n",
       "2            31717.0  United Kingdom            0       0   \n",
       "\n",
       "            congruent_mentions  \n",
       "0  ['EU', 'German', 'British']  \n",
       "1  ['EU', 'German', 'British']  \n",
       "2  ['EU', 'German', 'British']  "
      ]
     },
     "execution_count": 2,
     "metadata": {},
     "output_type": "execute_result"
    }
   ],
   "source": [
    "# Base path to input\n",
    "acy_path = '../../data/aida-conll-yago-dataset/'\n",
    "\n",
    "# Load data\n",
    "acy_input = pd.read_csv(os.path.join(acy_path, \"Aida-Conll-Yago-Input.csv\"), delimiter=\",\")\n",
    "acy_input.head(3)"
   ]
  },
  {
   "cell_type": "code",
   "execution_count": 3,
   "metadata": {},
   "outputs": [],
   "source": [
    "# Re-name for this predictive step\n",
    "preds_w2v_getentities = acy_input"
   ]
  },
  {
   "cell_type": "markdown",
   "metadata": {},
   "source": [
    "## Import Wikipedia2Vec Model"
   ]
  },
  {
   "cell_type": "code",
   "execution_count": 4,
   "metadata": {},
   "outputs": [],
   "source": [
    "# Package\n",
    "from wikipedia2vec import Wikipedia2Vec"
   ]
  },
  {
   "cell_type": "code",
   "execution_count": 5,
   "metadata": {},
   "outputs": [
    {
     "name": "stdout",
     "output_type": "stream",
     "text": [
      "CPU times: user 94.3 ms, sys: 180 ms, total: 274 ms\n",
      "Wall time: 326 ms\n"
     ]
    }
   ],
   "source": [
    "%%time\n",
    "# Load unzipped pkl file with word embeddings\n",
    "w2v = Wikipedia2Vec.load(\"../../embeddings/enwiki_20180420_100d.pkl\")"
   ]
  },
  {
   "cell_type": "markdown",
   "metadata": {},
   "source": [
    "#### Query using `full_mention`"
   ]
  },
  {
   "cell_type": "code",
   "execution_count": 6,
   "metadata": {},
   "outputs": [
    {
     "name": "stderr",
     "output_type": "stream",
     "text": [
      "100%|██████████| 29312/29312 [00:00<00:00, 59098.81it/s]"
     ]
    },
    {
     "name": "stdout",
     "output_type": "stream",
     "text": [
      "Query Success Rate:  60.852 %\n"
     ]
    },
    {
     "name": "stderr",
     "output_type": "stream",
     "text": [
      "\n"
     ]
    }
   ],
   "source": [
    "# Track success rate for returned values\n",
    "successes = 0\n",
    "queries = 0\n",
    "failed_searches = []\n",
    "preds_w2v_getentity = []\n",
    "\n",
    "# Run through each full_mention\n",
    "for full_mention in tqdm(acy_input['full_mention']):\n",
    "    \n",
    "    # Query API\n",
    "    entity = w2v.get_entity(full_mention)\n",
    "    \n",
    "    # Increment count\n",
    "    queries += 1\n",
    "    if entity is not None:\n",
    "        successes += 1\n",
    "    else:\n",
    "        # Save X% of random failures to understand trends\n",
    "        if np.random.uniform() <= 0.1:\n",
    "            failed_searches.append(full_mention)\n",
    "    \n",
    "    # Save just title, not entity object\n",
    "    try:\n",
    "        entity = entity.title\n",
    "    except:\n",
    "        pass\n",
    "\n",
    "    # Save prediction\n",
    "    preds_w2v_getentity.append(entity)\n",
    "print(\"Query Success Rate: \", round(successes/queries*100, 3),\"%\")"
   ]
  },
  {
   "cell_type": "code",
   "execution_count": 7,
   "metadata": {},
   "outputs": [
    {
     "data": {
      "text/plain": [
       "array(['Gencor', 'Francisco Cea', 'Aoki', '.Robbie McEwen',\n",
       "       'Marion County Board of Education', 'Huracan-Corrientes',\n",
       "       'Sergey Makarov', 'WESTERN DIVISION', 'PARIS', 'Spanish',\n",
       "       'Michael Andersson', 'Chris Adams', 'Pietro T.',\n",
       "       \"Saturday'sWorld Cup\", 'Alberto Costa', 'French', 'Grand Slam',\n",
       "       'R. Fay', 'Zarak Jahan Khan', 'Footscray', 'ASIAN CUP',\n",
       "       'Pauline Konga', 'CAMPESE', 'Ronaldo Gonzalez', 'St Helens',\n",
       "       'New York', 'Orii Corp', 'Indonesian', 'Chelsea', 'Edna Fernandes',\n",
       "       'KANSAS CITY', 'ENGLISH', 'Slight', 'Tom Watson', 'Li Feng',\n",
       "       'WESTERN DIVISION', 'Simona de Logu', 'Grand Slam', 'R. Irani',\n",
       "       'Japanese', 'UEFA Fair Play', 'DALGLISH', 'McGregor',\n",
       "       'KANSAS CITY', 'New York', 'First Battle of the Newbury bypass',\n",
       "       'Brian Homewood', 'Hatoyama', 'PARIS',\n",
       "       'Security Dynamics Technologies Inc.', 'Duran', 'John Gorst',\n",
       "       'Eric Bergoust', 'EUROPEAN CUP', 'State ( central ) Bank',\n",
       "       'Terry Price', 'Herschelle Gibs', 'Japanese', 'Mohammad Akam',\n",
       "       'A. Mullally', 'Italian', 'UEFA Fair Play', 'KANSAS CITY',\n",
       "       'MONTREAL', 'Chamber of Economy', 'Brewpole BV', 'English',\n",
       "       'Strike Hard', 'New York', 'Juppe', 'SIMEX Brent',\n",
       "       'Zubair Jahan Khan', 'U.S. Postal', 'Dutch', 'Kalf, Voorhis & Co',\n",
       "       'Marco Lietti', 'Russian-Chechen', 'MINNESOTA', 'Kocinski',\n",
       "       'St Kilda', 'Julien Bonetat', 'SAN FRANCISCO', 'Dutch',\n",
       "       'Uneximbank', 'NEW YORK', 'Security Dynamics Technologies Inc.',\n",
       "       'NEW YORK', 'UEFA Fair Play', 'Brazilian Plastic Surgery Society',\n",
       "       'Haitham Haddadin', 'Vebjoen Rodal', 'Reuter London Newsroom',\n",
       "       'UEFA Fair Play', 'Britain', 'Eric Bergoust',\n",
       "       \"European Cup Winners ' Cup\", 'Peter Teravainen', 'Britain',\n",
       "       'Iraqi', 'SAN MATEO'], dtype='<U129')"
      ]
     },
     "execution_count": 7,
     "metadata": {},
     "output_type": "execute_result"
    }
   ],
   "source": [
    "# Display random selection of failures\n",
    "np.random.choice(failed_searches, 100)"
   ]
  },
  {
   "cell_type": "code",
   "execution_count": 8,
   "metadata": {},
   "outputs": [
    {
     "data": {
      "text/html": [
       "<div>\n",
       "<style scoped>\n",
       "    .dataframe tbody tr th:only-of-type {\n",
       "        vertical-align: middle;\n",
       "    }\n",
       "\n",
       "    .dataframe tbody tr th {\n",
       "        vertical-align: top;\n",
       "    }\n",
       "\n",
       "    .dataframe thead th {\n",
       "        text-align: right;\n",
       "    }\n",
       "</style>\n",
       "<table border=\"1\" class=\"dataframe\">\n",
       "  <thead>\n",
       "    <tr style=\"text-align: right;\">\n",
       "      <th></th>\n",
       "      <th>mention</th>\n",
       "      <th>full_mention</th>\n",
       "      <th>wikipedia_URL</th>\n",
       "      <th>wikipedia_page_ID</th>\n",
       "      <th>wikipedia_title</th>\n",
       "      <th>sentence_id</th>\n",
       "      <th>doc_id</th>\n",
       "      <th>congruent_mentions</th>\n",
       "      <th>preds_w2v_getentity</th>\n",
       "    </tr>\n",
       "  </thead>\n",
       "  <tbody>\n",
       "    <tr>\n",
       "      <th>0</th>\n",
       "      <td>B</td>\n",
       "      <td>EU</td>\n",
       "      <td>NaN</td>\n",
       "      <td>NaN</td>\n",
       "      <td>NaN</td>\n",
       "      <td>0</td>\n",
       "      <td>0</td>\n",
       "      <td>['EU', 'German', 'British']</td>\n",
       "      <td>European Union</td>\n",
       "    </tr>\n",
       "    <tr>\n",
       "      <th>1</th>\n",
       "      <td>B</td>\n",
       "      <td>German</td>\n",
       "      <td>http://en.wikipedia.org/wiki/Germany</td>\n",
       "      <td>11867.0</td>\n",
       "      <td>Germany</td>\n",
       "      <td>0</td>\n",
       "      <td>0</td>\n",
       "      <td>['EU', 'German', 'British']</td>\n",
       "      <td>None</td>\n",
       "    </tr>\n",
       "    <tr>\n",
       "      <th>2</th>\n",
       "      <td>B</td>\n",
       "      <td>British</td>\n",
       "      <td>http://en.wikipedia.org/wiki/United_Kingdom</td>\n",
       "      <td>31717.0</td>\n",
       "      <td>United Kingdom</td>\n",
       "      <td>0</td>\n",
       "      <td>0</td>\n",
       "      <td>['EU', 'German', 'British']</td>\n",
       "      <td>None</td>\n",
       "    </tr>\n",
       "    <tr>\n",
       "      <th>3</th>\n",
       "      <td>B</td>\n",
       "      <td>Peter Blackburn</td>\n",
       "      <td>NaN</td>\n",
       "      <td>NaN</td>\n",
       "      <td>NaN</td>\n",
       "      <td>1</td>\n",
       "      <td>0</td>\n",
       "      <td>['Peter Blackburn', 'BRUSSELS', 'European Comm...</td>\n",
       "      <td>None</td>\n",
       "    </tr>\n",
       "    <tr>\n",
       "      <th>4</th>\n",
       "      <td>I</td>\n",
       "      <td>Peter Blackburn</td>\n",
       "      <td>NaN</td>\n",
       "      <td>NaN</td>\n",
       "      <td>NaN</td>\n",
       "      <td>1</td>\n",
       "      <td>0</td>\n",
       "      <td>['Peter Blackburn', 'BRUSSELS', 'European Comm...</td>\n",
       "      <td>None</td>\n",
       "    </tr>\n",
       "    <tr>\n",
       "      <th>5</th>\n",
       "      <td>B</td>\n",
       "      <td>BRUSSELS</td>\n",
       "      <td>http://en.wikipedia.org/wiki/Brussels</td>\n",
       "      <td>3708.0</td>\n",
       "      <td>Brussels</td>\n",
       "      <td>1</td>\n",
       "      <td>0</td>\n",
       "      <td>['Peter Blackburn', 'BRUSSELS', 'European Comm...</td>\n",
       "      <td>None</td>\n",
       "    </tr>\n",
       "    <tr>\n",
       "      <th>6</th>\n",
       "      <td>B</td>\n",
       "      <td>European Commission</td>\n",
       "      <td>http://en.wikipedia.org/wiki/European_Commission</td>\n",
       "      <td>9974.0</td>\n",
       "      <td>European Commission</td>\n",
       "      <td>1</td>\n",
       "      <td>0</td>\n",
       "      <td>['Peter Blackburn', 'BRUSSELS', 'European Comm...</td>\n",
       "      <td>European Commission</td>\n",
       "    </tr>\n",
       "    <tr>\n",
       "      <th>7</th>\n",
       "      <td>I</td>\n",
       "      <td>European Commission</td>\n",
       "      <td>http://en.wikipedia.org/wiki/European_Commission</td>\n",
       "      <td>9974.0</td>\n",
       "      <td>European Commission</td>\n",
       "      <td>1</td>\n",
       "      <td>0</td>\n",
       "      <td>['Peter Blackburn', 'BRUSSELS', 'European Comm...</td>\n",
       "      <td>European Commission</td>\n",
       "    </tr>\n",
       "    <tr>\n",
       "      <th>8</th>\n",
       "      <td>B</td>\n",
       "      <td>German</td>\n",
       "      <td>http://en.wikipedia.org/wiki/Germany</td>\n",
       "      <td>11867.0</td>\n",
       "      <td>Germany</td>\n",
       "      <td>1</td>\n",
       "      <td>0</td>\n",
       "      <td>['Peter Blackburn', 'BRUSSELS', 'European Comm...</td>\n",
       "      <td>None</td>\n",
       "    </tr>\n",
       "    <tr>\n",
       "      <th>9</th>\n",
       "      <td>B</td>\n",
       "      <td>British</td>\n",
       "      <td>http://en.wikipedia.org/wiki/United_Kingdom</td>\n",
       "      <td>31717.0</td>\n",
       "      <td>United Kingdom</td>\n",
       "      <td>1</td>\n",
       "      <td>0</td>\n",
       "      <td>['Peter Blackburn', 'BRUSSELS', 'European Comm...</td>\n",
       "      <td>None</td>\n",
       "    </tr>\n",
       "  </tbody>\n",
       "</table>\n",
       "</div>"
      ],
      "text/plain": [
       "  mention         full_mention  \\\n",
       "0       B                   EU   \n",
       "1       B               German   \n",
       "2       B              British   \n",
       "3       B      Peter Blackburn   \n",
       "4       I      Peter Blackburn   \n",
       "5       B             BRUSSELS   \n",
       "6       B  European Commission   \n",
       "7       I  European Commission   \n",
       "8       B               German   \n",
       "9       B              British   \n",
       "\n",
       "                                      wikipedia_URL  wikipedia_page_ID  \\\n",
       "0                                               NaN                NaN   \n",
       "1              http://en.wikipedia.org/wiki/Germany            11867.0   \n",
       "2       http://en.wikipedia.org/wiki/United_Kingdom            31717.0   \n",
       "3                                               NaN                NaN   \n",
       "4                                               NaN                NaN   \n",
       "5             http://en.wikipedia.org/wiki/Brussels             3708.0   \n",
       "6  http://en.wikipedia.org/wiki/European_Commission             9974.0   \n",
       "7  http://en.wikipedia.org/wiki/European_Commission             9974.0   \n",
       "8              http://en.wikipedia.org/wiki/Germany            11867.0   \n",
       "9       http://en.wikipedia.org/wiki/United_Kingdom            31717.0   \n",
       "\n",
       "       wikipedia_title  sentence_id  doc_id  \\\n",
       "0                  NaN            0       0   \n",
       "1              Germany            0       0   \n",
       "2       United Kingdom            0       0   \n",
       "3                  NaN            1       0   \n",
       "4                  NaN            1       0   \n",
       "5             Brussels            1       0   \n",
       "6  European Commission            1       0   \n",
       "7  European Commission            1       0   \n",
       "8              Germany            1       0   \n",
       "9       United Kingdom            1       0   \n",
       "\n",
       "                                  congruent_mentions  preds_w2v_getentity  \n",
       "0                        ['EU', 'German', 'British']       European Union  \n",
       "1                        ['EU', 'German', 'British']                 None  \n",
       "2                        ['EU', 'German', 'British']                 None  \n",
       "3  ['Peter Blackburn', 'BRUSSELS', 'European Comm...                 None  \n",
       "4  ['Peter Blackburn', 'BRUSSELS', 'European Comm...                 None  \n",
       "5  ['Peter Blackburn', 'BRUSSELS', 'European Comm...                 None  \n",
       "6  ['Peter Blackburn', 'BRUSSELS', 'European Comm...  European Commission  \n",
       "7  ['Peter Blackburn', 'BRUSSELS', 'European Comm...  European Commission  \n",
       "8  ['Peter Blackburn', 'BRUSSELS', 'European Comm...                 None  \n",
       "9  ['Peter Blackburn', 'BRUSSELS', 'European Comm...                 None  "
      ]
     },
     "execution_count": 8,
     "metadata": {},
     "output_type": "execute_result"
    }
   ],
   "source": [
    "# Append predictions to table\n",
    "preds_w2v_getentities['preds_w2v_getentity'] = preds_w2v_getentity\n",
    "preds_w2v_getentities.head(10)"
   ]
  },
  {
   "cell_type": "markdown",
   "metadata": {},
   "source": [
    "### Assess Accuracy of Predictions"
   ]
  },
  {
   "cell_type": "code",
   "execution_count": 9,
   "metadata": {},
   "outputs": [
    {
     "name": "stdout",
     "output_type": "stream",
     "text": [
      "****************************\n",
      "All-Inclusive Predictive Accuracy: 42.218%\n",
      "Note: All Full Mentions, whether they have a known true value or not.\n",
      "****************************\n",
      "Filter Empty Mentions Mention Predictive Accuracy: 55.6%\n",
      "Note: Only Full Mentions with a known true value\n",
      "****************************\n",
      "Filter Empty Results Predictive Accuracy: 76.545%\n",
      "Note: Only full mentions with a known true value that returned a result from Wikipedia2vec\n"
     ]
    }
   ],
   "source": [
    "# Calculate accuracy\n",
    "print(\"****************************\")\n",
    "overall_accuracy = (preds_w2v_getentities['preds_w2v_getentity'] == preds_w2v_getentities['wikipedia_title']).sum()\n",
    "print(f\"All-Inclusive Predictive Accuracy: {round(overall_accuracy / len(preds_w2v_getentities) * 100, 3)}%\")\n",
    "print(\"Note: All Full Mentions, whether they have a known true value or not.\")\n",
    "\n",
    "print(\"****************************\")\n",
    "filtered_df = preds_w2v_getentities[preds_w2v_getentities['wikipedia_page_ID'].notnull()]\n",
    "mention_accuracy = (filtered_df['preds_w2v_getentity'] == filtered_df['wikipedia_title']).sum()\n",
    "print(f\"Filter Empty Mentions Mention Predictive Accuracy: {round(mention_accuracy / len(filtered_df) * 100, 3)}%\")\n",
    "print(\"Note: Only Full Mentions with a known true value\")\n",
    "\n",
    "\n",
    "print(\"****************************\")\n",
    "filtered_df = preds_w2v_getentities[preds_w2v_getentities['wikipedia_page_ID'].notnull()\\\n",
    "                                   & preds_w2v_getentities['preds_w2v_getentity'].notnull()]\n",
    "result_accuracy = (filtered_df['preds_w2v_getentity'] == filtered_df['wikipedia_title']).sum()\n",
    "print(f\"Filter Empty Results Predictive Accuracy: {round(result_accuracy / len(filtered_df) * 100, 3)}%\")\n",
    "print(\"Note: Only full mentions with a known true value that returned a result from Wikipedia2vec\")"
   ]
  },
  {
   "cell_type": "code",
   "execution_count": 10,
   "metadata": {},
   "outputs": [
    {
     "data": {
      "text/plain": [
       "1                               Germany\n",
       "2                        United Kingdom\n",
       "5                              Brussels\n",
       "6                   European Commission\n",
       "7                   European Commission\n",
       "                      ...              \n",
       "29307    England national football team\n",
       "29308               1966 FIFA World Cup\n",
       "29309               1966 FIFA World Cup\n",
       "29310               1966 FIFA World Cup\n",
       "29311                    Bobby Charlton\n",
       "Name: wikipedia_title, Length: 22257, dtype: object"
      ]
     },
     "execution_count": 10,
     "metadata": {},
     "output_type": "execute_result"
    }
   ],
   "source": [
    "preds_w2v_getentities[preds_w2v_getentities['wikipedia_title'].notnull()]['wikipedia_title']"
   ]
  },
  {
   "cell_type": "code",
   "execution_count": 12,
   "metadata": {},
   "outputs": [
    {
     "name": "stderr",
     "output_type": "stream",
     "text": [
      "100%|██████████| 22257/22257 [00:00<00:00, 127382.29it/s]"
     ]
    },
    {
     "name": "stdout",
     "output_type": "stream",
     "text": [
      "****************************\n",
      "Wikipedia2vec failed to return 594 searches, 2.669%\n",
      "****************************\n",
      "All-Inclusive Predictive Accuracy: 91.374%\n",
      "****************************\n"
     ]
    },
    {
     "name": "stderr",
     "output_type": "stream",
     "text": [
      "\n"
     ]
    }
   ],
   "source": [
    "# Confirm effectiveness of Wikipedia2vec's get_entity() on known true answers (non-null)\n",
    "# Basically, if we plug in the literal Wikipedia URL, will it return the right result\n",
    "none_count = 0\n",
    "answers = []\n",
    "wikipedia_title = preds_w2v_getentities[preds_w2v_getentities['wikipedia_title'].notnull()]['wikipedia_title']\n",
    "for r in tqdm(wikipedia_title):\n",
    "    answer = w2v.get_entity(r)\n",
    "    if answer is None:\n",
    "        none_count += 1\n",
    "    try:\n",
    "        answers.append(answer.title)\n",
    "    except AttributeError:\n",
    "        answers.append(answer)\n",
    "print(\"****************************\")\n",
    "print(\"Wikipedia2vec failed to return {} searches, {}%\".format(none_count, round(none_count/len(wikipedia_title)*100,3)))\n",
    "accurate_preds = np.array([True if i==j else False for i, j in zip(answers, list(filter(None, wikipedia_title)))]).sum()\n",
    "print(\"****************************\")\n",
    "print(f\"All-Inclusive Predictive Accuracy: {round(accurate_preds / len(answers)*100, 3)}%\")\n",
    "print(\"****************************\")"
   ]
  },
  {
   "cell_type": "markdown",
   "metadata": {},
   "source": [
    "## Save predictive dataframe for input to next step"
   ]
  },
  {
   "cell_type": "code",
   "execution_count": 13,
   "metadata": {},
   "outputs": [
    {
     "data": {
      "text/html": [
       "<div>\n",
       "<style scoped>\n",
       "    .dataframe tbody tr th:only-of-type {\n",
       "        vertical-align: middle;\n",
       "    }\n",
       "\n",
       "    .dataframe tbody tr th {\n",
       "        vertical-align: top;\n",
       "    }\n",
       "\n",
       "    .dataframe thead th {\n",
       "        text-align: right;\n",
       "    }\n",
       "</style>\n",
       "<table border=\"1\" class=\"dataframe\">\n",
       "  <thead>\n",
       "    <tr style=\"text-align: right;\">\n",
       "      <th></th>\n",
       "      <th>mention</th>\n",
       "      <th>full_mention</th>\n",
       "      <th>wikipedia_URL</th>\n",
       "      <th>wikipedia_page_ID</th>\n",
       "      <th>wikipedia_title</th>\n",
       "      <th>sentence_id</th>\n",
       "      <th>doc_id</th>\n",
       "      <th>congruent_mentions</th>\n",
       "      <th>preds_w2v_getentity</th>\n",
       "    </tr>\n",
       "  </thead>\n",
       "  <tbody>\n",
       "    <tr>\n",
       "      <th>0</th>\n",
       "      <td>B</td>\n",
       "      <td>EU</td>\n",
       "      <td>NaN</td>\n",
       "      <td>NaN</td>\n",
       "      <td>NaN</td>\n",
       "      <td>0</td>\n",
       "      <td>0</td>\n",
       "      <td>['EU', 'German', 'British']</td>\n",
       "      <td>European Union</td>\n",
       "    </tr>\n",
       "    <tr>\n",
       "      <th>1</th>\n",
       "      <td>B</td>\n",
       "      <td>German</td>\n",
       "      <td>http://en.wikipedia.org/wiki/Germany</td>\n",
       "      <td>11867.0</td>\n",
       "      <td>Germany</td>\n",
       "      <td>0</td>\n",
       "      <td>0</td>\n",
       "      <td>['EU', 'German', 'British']</td>\n",
       "      <td>None</td>\n",
       "    </tr>\n",
       "    <tr>\n",
       "      <th>2</th>\n",
       "      <td>B</td>\n",
       "      <td>British</td>\n",
       "      <td>http://en.wikipedia.org/wiki/United_Kingdom</td>\n",
       "      <td>31717.0</td>\n",
       "      <td>United Kingdom</td>\n",
       "      <td>0</td>\n",
       "      <td>0</td>\n",
       "      <td>['EU', 'German', 'British']</td>\n",
       "      <td>None</td>\n",
       "    </tr>\n",
       "  </tbody>\n",
       "</table>\n",
       "</div>"
      ],
      "text/plain": [
       "  mention full_mention                                wikipedia_URL  \\\n",
       "0       B           EU                                          NaN   \n",
       "1       B       German         http://en.wikipedia.org/wiki/Germany   \n",
       "2       B      British  http://en.wikipedia.org/wiki/United_Kingdom   \n",
       "\n",
       "   wikipedia_page_ID wikipedia_title  sentence_id  doc_id  \\\n",
       "0                NaN             NaN            0       0   \n",
       "1            11867.0         Germany            0       0   \n",
       "2            31717.0  United Kingdom            0       0   \n",
       "\n",
       "            congruent_mentions preds_w2v_getentity  \n",
       "0  ['EU', 'German', 'British']      European Union  \n",
       "1  ['EU', 'German', 'British']                None  \n",
       "2  ['EU', 'German', 'British']                None  "
      ]
     },
     "execution_count": 13,
     "metadata": {},
     "output_type": "execute_result"
    }
   ],
   "source": [
    "# See final output\n",
    "preds_w2v_getentities.head(3)"
   ]
  },
  {
   "cell_type": "code",
   "execution_count": 14,
   "metadata": {},
   "outputs": [],
   "source": [
    "# Save dataframe\n",
    "preds_path = '../../predictions/'\n",
    "preds_w2v_getentities.to_csv(os.path.join(preds_path, \"wikipedia2vec_getentities.csv\"), index=False)"
   ]
  },
  {
   "cell_type": "code",
   "execution_count": null,
   "metadata": {},
   "outputs": [],
   "source": []
  }
 ],
 "metadata": {
  "kernelspec": {
   "display_name": "Python 3",
   "language": "python",
   "name": "python3"
  },
  "language_info": {
   "codemirror_mode": {
    "name": "ipython",
    "version": 3
   },
   "file_extension": ".py",
   "mimetype": "text/x-python",
   "name": "python",
   "nbconvert_exporter": "python",
   "pygments_lexer": "ipython3",
   "version": "3.7.7"
  }
 },
 "nbformat": 4,
 "nbformat_minor": 4
}
