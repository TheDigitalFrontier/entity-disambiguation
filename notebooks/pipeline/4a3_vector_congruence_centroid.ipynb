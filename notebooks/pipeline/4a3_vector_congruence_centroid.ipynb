{
 "cells": [
  {
   "cell_type": "markdown",
   "metadata": {},
   "source": [
    "# Congruence via Entity Vector Similarity\n",
    "\n",
    "In this notebook, we calculate the centroid distance measure between vectors of each entity candidate. The vectors will be retrieved from Wikipedia2vec's pre-trained API, which creates vectors for the entire Wikipedia page. Comparing two vectors in this way thus lets us make a statement about similar pages and update our likelihood scores based on that.\n",
    "\n",
    "#### (i) Via Centroid Distance\n",
    "\n",
    "In Phase 4, we calculate congruence between candidates in pools for mentions in the same sentence. Congruence is defined as the average candidate distance to the centroid vector of the candidate set. This lets us compare entire sets of candidates across all mentions at a time, instead of making pairwise comparisons."
   ]
  },
  {
   "cell_type": "markdown",
   "metadata": {},
   "source": [
    "### Import Packages"
   ]
  },
  {
   "cell_type": "code",
   "execution_count": 2,
   "metadata": {},
   "outputs": [],
   "source": [
    "import os\n",
    "import time\n",
    "import re\n",
    "\n",
    "import pandas as pd\n",
    "import numpy as np\n",
    "import matplotlib.pyplot as plt\n",
    "%matplotlib inline\n",
    "\n",
    "from sklearn.metrics.pairwise import cosine_similarity\n",
    "from itertools import product\n",
    "\n",
    "# Progress bar\n",
    "from tqdm import tqdm"
   ]
  },
  {
   "cell_type": "code",
   "execution_count": 31,
   "metadata": {},
   "outputs": [
    {
     "data": {
      "text/html": [
       "<div>\n",
       "<style scoped>\n",
       "    .dataframe tbody tr th:only-of-type {\n",
       "        vertical-align: middle;\n",
       "    }\n",
       "\n",
       "    .dataframe tbody tr th {\n",
       "        vertical-align: top;\n",
       "    }\n",
       "\n",
       "    .dataframe thead th {\n",
       "        text-align: right;\n",
       "    }\n",
       "</style>\n",
       "<table border=\"1\" class=\"dataframe\">\n",
       "  <thead>\n",
       "    <tr style=\"text-align: right;\">\n",
       "      <th></th>\n",
       "      <th>mention</th>\n",
       "      <th>full_mention</th>\n",
       "      <th>wikipedia_URL</th>\n",
       "      <th>wikipedia_page_ID</th>\n",
       "      <th>wikipedia_title</th>\n",
       "      <th>sentence_id</th>\n",
       "      <th>doc_id</th>\n",
       "      <th>congruent_mentions</th>\n",
       "      <th>norm_full_mention</th>\n",
       "      <th>candidate_pool_page_ids</th>\n",
       "      <th>candidate_pool_item_ids</th>\n",
       "      <th>candidate_pool_titles</th>\n",
       "      <th>candidate_pool_likelihoods</th>\n",
       "    </tr>\n",
       "  </thead>\n",
       "  <tbody>\n",
       "    <tr>\n",
       "      <th>0</th>\n",
       "      <td>B</td>\n",
       "      <td>EU</td>\n",
       "      <td>NaN</td>\n",
       "      <td>NaN</td>\n",
       "      <td>NaN</td>\n",
       "      <td>0</td>\n",
       "      <td>0</td>\n",
       "      <td>['EU', 'German', 'British']</td>\n",
       "      <td>eu</td>\n",
       "      <td>[9317, 9239, 21347120, 9477, 1882861]</td>\n",
       "      <td>[458, 46, 211593, 1396, 363404]</td>\n",
       "      <td>['European_Union', 'Europe', 'Eu,_Seine-Mariti...</td>\n",
       "      <td>[0.9227799000000001, 0.024651, 0.0201960000000...</td>\n",
       "    </tr>\n",
       "    <tr>\n",
       "      <th>1</th>\n",
       "      <td>B</td>\n",
       "      <td>German</td>\n",
       "      <td>http://en.wikipedia.org/wiki/Germany</td>\n",
       "      <td>11867.0</td>\n",
       "      <td>Germany</td>\n",
       "      <td>0</td>\n",
       "      <td>0</td>\n",
       "      <td>['EU', 'German', 'British']</td>\n",
       "      <td>german</td>\n",
       "      <td>[11867, 11884, 152735, 21212, 12674]</td>\n",
       "      <td>[183, 188, 42884, 7318, 43287]</td>\n",
       "      <td>['Germany', 'German_language', 'Germans', 'Naz...</td>\n",
       "      <td>[0.4192066, 0.2893363, 0.1470461, 0.03832, 0.0...</td>\n",
       "    </tr>\n",
       "    <tr>\n",
       "      <th>2</th>\n",
       "      <td>B</td>\n",
       "      <td>British</td>\n",
       "      <td>http://en.wikipedia.org/wiki/United_Kingdom</td>\n",
       "      <td>31717.0</td>\n",
       "      <td>United Kingdom</td>\n",
       "      <td>0</td>\n",
       "      <td>0</td>\n",
       "      <td>['EU', 'German', 'British']</td>\n",
       "      <td>british</td>\n",
       "      <td>[31717, 19097669, 13530298, 4721, 158019]</td>\n",
       "      <td>[145, 842438, 23666, 8680, 161885]</td>\n",
       "      <td>['United_Kingdom', 'British_people', 'Great_Br...</td>\n",
       "      <td>[0.6101255999999999, 0.1146913, 0.0681775, 0.0...</td>\n",
       "    </tr>\n",
       "    <tr>\n",
       "      <th>3</th>\n",
       "      <td>B</td>\n",
       "      <td>Peter Blackburn</td>\n",
       "      <td>NaN</td>\n",
       "      <td>NaN</td>\n",
       "      <td>NaN</td>\n",
       "      <td>1</td>\n",
       "      <td>0</td>\n",
       "      <td>['Peter Blackburn', 'BRUSSELS', 'European Comm...</td>\n",
       "      <td>peter blackburn</td>\n",
       "      <td>[56783206, 9643132, 56873217]</td>\n",
       "      <td>[2073954, 7172840, 26634508]</td>\n",
       "      <td>['Peter_Blackburn_(badminton)', 'Peter_Blackbu...</td>\n",
       "      <td>[0.5, 0.3, 0.2]</td>\n",
       "    </tr>\n",
       "    <tr>\n",
       "      <th>4</th>\n",
       "      <td>I</td>\n",
       "      <td>Peter Blackburn</td>\n",
       "      <td>NaN</td>\n",
       "      <td>NaN</td>\n",
       "      <td>NaN</td>\n",
       "      <td>1</td>\n",
       "      <td>0</td>\n",
       "      <td>['Peter Blackburn', 'BRUSSELS', 'European Comm...</td>\n",
       "      <td>peter blackburn</td>\n",
       "      <td>[56783206, 9643132, 56873217]</td>\n",
       "      <td>[2073954, 7172840, 26634508]</td>\n",
       "      <td>['Peter_Blackburn_(badminton)', 'Peter_Blackbu...</td>\n",
       "      <td>[0.5, 0.3, 0.2]</td>\n",
       "    </tr>\n",
       "  </tbody>\n",
       "</table>\n",
       "</div>"
      ],
      "text/plain": [
       "  mention     full_mention                                wikipedia_URL  \\\n",
       "0       B               EU                                          NaN   \n",
       "1       B           German         http://en.wikipedia.org/wiki/Germany   \n",
       "2       B          British  http://en.wikipedia.org/wiki/United_Kingdom   \n",
       "3       B  Peter Blackburn                                          NaN   \n",
       "4       I  Peter Blackburn                                          NaN   \n",
       "\n",
       "   wikipedia_page_ID wikipedia_title  sentence_id  doc_id  \\\n",
       "0                NaN             NaN            0       0   \n",
       "1            11867.0         Germany            0       0   \n",
       "2            31717.0  United Kingdom            0       0   \n",
       "3                NaN             NaN            1       0   \n",
       "4                NaN             NaN            1       0   \n",
       "\n",
       "                                  congruent_mentions norm_full_mention  \\\n",
       "0                        ['EU', 'German', 'British']                eu   \n",
       "1                        ['EU', 'German', 'British']            german   \n",
       "2                        ['EU', 'German', 'British']           british   \n",
       "3  ['Peter Blackburn', 'BRUSSELS', 'European Comm...   peter blackburn   \n",
       "4  ['Peter Blackburn', 'BRUSSELS', 'European Comm...   peter blackburn   \n",
       "\n",
       "                     candidate_pool_page_ids  \\\n",
       "0      [9317, 9239, 21347120, 9477, 1882861]   \n",
       "1       [11867, 11884, 152735, 21212, 12674]   \n",
       "2  [31717, 19097669, 13530298, 4721, 158019]   \n",
       "3              [56783206, 9643132, 56873217]   \n",
       "4              [56783206, 9643132, 56873217]   \n",
       "\n",
       "              candidate_pool_item_ids  \\\n",
       "0     [458, 46, 211593, 1396, 363404]   \n",
       "1      [183, 188, 42884, 7318, 43287]   \n",
       "2  [145, 842438, 23666, 8680, 161885]   \n",
       "3        [2073954, 7172840, 26634508]   \n",
       "4        [2073954, 7172840, 26634508]   \n",
       "\n",
       "                               candidate_pool_titles  \\\n",
       "0  ['European_Union', 'Europe', 'Eu,_Seine-Mariti...   \n",
       "1  ['Germany', 'German_language', 'Germans', 'Naz...   \n",
       "2  ['United_Kingdom', 'British_people', 'Great_Br...   \n",
       "3  ['Peter_Blackburn_(badminton)', 'Peter_Blackbu...   \n",
       "4  ['Peter_Blackburn_(badminton)', 'Peter_Blackbu...   \n",
       "\n",
       "                          candidate_pool_likelihoods  \n",
       "0  [0.9227799000000001, 0.024651, 0.0201960000000...  \n",
       "1  [0.4192066, 0.2893363, 0.1470461, 0.03832, 0.0...  \n",
       "2  [0.6101255999999999, 0.1146913, 0.0681775, 0.0...  \n",
       "3                                    [0.5, 0.3, 0.2]  \n",
       "4                                    [0.5, 0.3, 0.2]  "
      ]
     },
     "execution_count": 31,
     "metadata": {},
     "output_type": "execute_result"
    }
   ],
   "source": [
    "# Base path to input\n",
    "preds_path = '../../predictions/'\n",
    "\n",
    "# Load data\n",
    "predictions = pd.read_csv(os.path.join(preds_path, \"anchortext_frequency_5x5.csv\"), delimiter=\",\")\n",
    "predictions.head(5)"
   ]
  },
  {
   "cell_type": "code",
   "execution_count": 32,
   "metadata": {},
   "outputs": [
    {
     "name": "stdout",
     "output_type": "stream",
     "text": [
      "13781 3935\n"
     ]
    }
   ],
   "source": [
    "print(len(predictions), len(predictions['sentence_id'].unique()))"
   ]
  },
  {
   "cell_type": "markdown",
   "metadata": {},
   "source": [
    "### Parse Saved Candidate Pool\n",
    "\n",
    "Candidate pools when exported are typically stored as the string of a list. The below function parses the string back into a list with proper formatted values."
   ]
  },
  {
   "cell_type": "code",
   "execution_count": 33,
   "metadata": {},
   "outputs": [
    {
     "data": {
      "text/plain": [
       "str"
      ]
     },
     "execution_count": 33,
     "metadata": {},
     "output_type": "execute_result"
    }
   ],
   "source": [
    "# Demonstrate that list is string\n",
    "type(predictions['candidate_pool_page_ids'][0])"
   ]
  },
  {
   "cell_type": "code",
   "execution_count": 34,
   "metadata": {},
   "outputs": [],
   "source": [
    "# Function to parse list as string\n",
    "def parse_list_string(list_string, value_type=int):\n",
    "    \n",
    "    parsed_list = []\n",
    "    \n",
    "    # If candidate pool is empty\n",
    "    if list_string == \"[]\" or isinstance(list_string, float):\n",
    "        pass\n",
    "    # Else parse\n",
    "    else:\n",
    "        # Parses lists of titles as strings\n",
    "        if value_type==str:\n",
    "            # Eliminate bracket and parenthesis on either side, split by comma pattern\n",
    "            parsed_list = re.split(\"', '|\\\", \\\"|', \\\"|\\\", \\'\", list_string[2:-2])\n",
    "\n",
    "        # Parses lists of IDs as ints\n",
    "        elif value_type==int:\n",
    "            # Eliminate brackets and convert each number from string to int\n",
    "            parsed_list = list(map(int, list_string[1:-1].split(', ')))\n",
    "        elif value_type==float:\n",
    "            # Eliminate brackets and convert each number from string to int\n",
    "            parsed_list = list(map(float, list_string[1:-1].split(', ')))\n",
    "            \n",
    "        \n",
    "    return parsed_list\n"
   ]
  },
  {
   "cell_type": "code",
   "execution_count": 35,
   "metadata": {},
   "outputs": [
    {
     "data": {
      "text/plain": [
       "['European_Union',\n",
       " 'Europe',\n",
       " 'Eu,_Seine-Maritime',\n",
       " 'Europium',\n",
       " 'Citizenship_of_the_European_Union']"
      ]
     },
     "execution_count": 35,
     "metadata": {},
     "output_type": "execute_result"
    }
   ],
   "source": [
    "# Manually test function\n",
    "# 0 is the hard one. See how some value is stored with '' and some with \"\". Unsure why.\n",
    "parse_list_string(predictions['candidate_pool_titles'][0], value_type=str)"
   ]
  },
  {
   "cell_type": "code",
   "execution_count": 36,
   "metadata": {},
   "outputs": [
    {
     "data": {
      "text/plain": [
       "[9317, 9239, 21347120, 9477, 1882861]"
      ]
     },
     "execution_count": 36,
     "metadata": {},
     "output_type": "execute_result"
    }
   ],
   "source": [
    "# Manually test function\n",
    "# 0 is the hard one. See how some value is stored with '' and some with \"\". Unsure why.\n",
    "parse_list_string(predictions['candidate_pool_page_ids'][0], value_type=int)"
   ]
  },
  {
   "cell_type": "code",
   "execution_count": 37,
   "metadata": {},
   "outputs": [
    {
     "data": {
      "text/plain": [
       "[]"
      ]
     },
     "execution_count": 37,
     "metadata": {},
     "output_type": "execute_result"
    }
   ],
   "source": [
    "# Manually test function\n",
    "parse_list_string(predictions['candidate_pool_page_ids'][13], value_type=int)"
   ]
  },
  {
   "cell_type": "code",
   "execution_count": 38,
   "metadata": {},
   "outputs": [
    {
     "data": {
      "text/plain": [
       "[0.9227799000000001, 0.024651, 0.020196000000000002, 0.005346, 0.002079]"
      ]
     },
     "execution_count": 38,
     "metadata": {},
     "output_type": "execute_result"
    }
   ],
   "source": [
    "# Manually test function\n",
    "parse_list_string(predictions['candidate_pool_likelihoods'][0], value_type=float)"
   ]
  },
  {
   "cell_type": "code",
   "execution_count": 39,
   "metadata": {},
   "outputs": [
    {
     "name": "stdout",
     "output_type": "stream",
     "text": [
      "Before ['Peter Blackburn', 'BRUSSELS', 'European Commission', 'German', 'British']\n",
      "After ['Peter Blackburn', 'BRUSSELS', 'European Commission', 'German', 'British']\n",
      "Before [56783206, 9643132, 56873217]\n",
      "After [56783206, 9643132, 56873217]\n",
      "Before [2073954, 7172840, 26634508]\n",
      "After [2073954, 7172840, 26634508]\n",
      "Before ['Peter_Blackburn_(badminton)', 'Peter_Blackburn_(bishop)', 'Peter_Blackburn_(MP)']\n",
      "After ['Peter_Blackburn_(badminton)', 'Peter_Blackburn_(bishop)', 'Peter_Blackburn_(MP)']\n",
      "Before [0.5, 0.3, 0.2]\n",
      "After [0.5, 0.3, 0.2]\n",
      "CPU times: user 240 ms, sys: 412 ms, total: 652 ms\n",
      "Wall time: 1.31 s\n"
     ]
    }
   ],
   "source": [
    "%%time\n",
    "\n",
    "### Apply defined function to entire dataframe for all candidate pool columns\n",
    "\n",
    "column = 'congruent_mentions'\n",
    "print(\"Before\", predictions[column][3])\n",
    "parsed_candidate_pool = predictions[column].apply(parse_list_string, value_type=str)\n",
    "predictions[column] = parsed_candidate_pool\n",
    "print(\"After\", predictions[column][3])\n",
    "\n",
    "column = 'candidate_pool_page_ids'\n",
    "print(\"Before\", predictions[column][3])\n",
    "parsed_candidate_pool = predictions[column].apply(parse_list_string, value_type=int)\n",
    "predictions[column] = parsed_candidate_pool\n",
    "print(\"After\", predictions[column][3])\n",
    "\n",
    "\n",
    "column = 'candidate_pool_item_ids'\n",
    "print(\"Before\", predictions[column][3])\n",
    "parsed_candidate_pool = predictions[column].apply(parse_list_string, value_type=int)\n",
    "predictions[column] = parsed_candidate_pool\n",
    "print(\"After\", predictions[column][3])\n",
    "\n",
    "\n",
    "column = 'candidate_pool_titles'\n",
    "print(\"Before\", predictions[column][3])\n",
    "parsed_candidate_pool = predictions[column].apply(parse_list_string, value_type=str)\n",
    "predictions[column] = parsed_candidate_pool\n",
    "print(\"After\", predictions[column][3])\n",
    "\n",
    "column = 'candidate_pool_likelihoods'\n",
    "print(\"Before\", predictions[column][3])\n",
    "parsed_candidate_pool = predictions[column].apply(parse_list_string, value_type=float)\n",
    "predictions[column] = parsed_candidate_pool\n",
    "print(\"After\", predictions[column][3])"
   ]
  },
  {
   "cell_type": "markdown",
   "metadata": {},
   "source": [
    "## Retrieve Entity Vectors from Wikipedia2Vec\n",
    "\n",
    "For provided wikipedia pages, we retrieve a representative entity vector from Wikipedia2vec. This involves passing the normalized title into their get_entity_vector() function."
   ]
  },
  {
   "cell_type": "code",
   "execution_count": 12,
   "metadata": {},
   "outputs": [],
   "source": [
    "# Package\n",
    "from wikipedia2vec import Wikipedia2Vec"
   ]
  },
  {
   "cell_type": "code",
   "execution_count": 14,
   "metadata": {},
   "outputs": [
    {
     "name": "stdout",
     "output_type": "stream",
     "text": [
      "CPU times: user 101 ms, sys: 158 ms, total: 259 ms\n",
      "Wall time: 684 ms\n"
     ]
    }
   ],
   "source": [
    "%%time\n",
    "# Load unzipped pkl file with word embeddings\n",
    "w2v = Wikipedia2Vec.load(\"../../embeddings/enwiki_20180420_100d.pkl\")"
   ]
  },
  {
   "cell_type": "markdown",
   "metadata": {},
   "source": [
    "### Assess Coverage of Candidate Pools in Wikipedia2vec\n",
    "\n",
    "We need to measure what percent of candidates in our candidate pools successfully return a vector from Wikipedia2vec. This should conceivably be 100% given we're passing known Wikipedia pages into this package trained over Wikipedia pages, but there may be some drop-off due to different creation dates."
   ]
  },
  {
   "cell_type": "code",
   "execution_count": 40,
   "metadata": {},
   "outputs": [],
   "source": [
    "# Define text normalization function\n",
    "def normalize_text(text):\n",
    "    \"\"\"\n",
    "    We define normalized as:\n",
    "    - strip whitespace\n",
    "    - Spaces, not underlines\n",
    "    \"\"\"\n",
    "    return str(text).strip().replace(\"_\", \" \")"
   ]
  },
  {
   "cell_type": "code",
   "execution_count": 41,
   "metadata": {},
   "outputs": [
    {
     "name": "stderr",
     "output_type": "stream",
     "text": [
      "100%|██████████| 13781/13781 [00:01<00:00, 7551.16it/s]"
     ]
    },
    {
     "name": "stdout",
     "output_type": "stream",
     "text": [
      "Wikipedia2vec returned an entity vector for 94.86% of 42,453 searches\n"
     ]
    },
    {
     "name": "stderr",
     "output_type": "stream",
     "text": [
      "\n"
     ]
    }
   ],
   "source": [
    "# Iterate over candidate pool titles to see what can be returned\n",
    "\n",
    "found_entity = 0\n",
    "searched_entity = 0\n",
    "\n",
    "for i in tqdm(range(len(predictions))):\n",
    "    \n",
    "    # Retrieve candidate pool\n",
    "    candidate_pool = predictions['candidate_pool_titles'][i]\n",
    "    \n",
    "    # Query for each candidate\n",
    "    for candidate in candidate_pool:\n",
    "        # Normalize candidate title to form necessary to input into Wikipedia2vec\n",
    "        candidate = normalize_text(candidate)\n",
    "        \n",
    "        # Query Wikipedia2vec get_entity_vector()\n",
    "        try:\n",
    "            entity_vector = w2v.get_entity_vector(candidate)\n",
    "        except KeyError:\n",
    "            entity_vector = None\n",
    "        \n",
    "        # Check if result\n",
    "        if entity_vector is not None:\n",
    "            found_entity += 1\n",
    "        \n",
    "        # Increment count\n",
    "        searched_entity += 1\n",
    "\n",
    "print(f\"Wikipedia2vec returned an entity vector for {round(found_entity/searched_entity*100,3)}% of {searched_entity:,} searches\")"
   ]
  },
  {
   "cell_type": "markdown",
   "metadata": {},
   "source": [
    "## Calculate Congruence Metric between Congruent Entities\n",
    "\n",
    "First, let's get a sense for what the upper bound of congruent calculations might be."
   ]
  },
  {
   "cell_type": "code",
   "execution_count": 42,
   "metadata": {},
   "outputs": [
    {
     "data": {
      "text/plain": [
       "5"
      ]
     },
     "execution_count": 42,
     "metadata": {},
     "output_type": "execute_result"
    }
   ],
   "source": [
    "# What is the maximum number of congruent entities in a single sentence\n",
    "max(predictions['congruent_mentions'].apply(len))"
   ]
  },
  {
   "cell_type": "code",
   "execution_count": 43,
   "metadata": {},
   "outputs": [
    {
     "data": {
      "image/png": "[encoded data removed]",
      "text/plain": [
       "<Figure size 1440x360 with 1 Axes>"
      ]
     },
     "metadata": {
      "needs_background": "light"
     },
     "output_type": "display_data"
    }
   ],
   "source": [
    "# What is the distribution of congruent mention counts\n",
    "plt.figure(figsize=(20,5))\n",
    "predictions['congruent_mentions'].apply(len).hist(bins=50)\n",
    "plt.title(\"distribution of congruent mention counts\", size=20)\n",
    "plt.show()"
   ]
  },
  {
   "cell_type": "markdown",
   "metadata": {},
   "source": [
    "Next, let's get a sense for the average ranking of the right answer."
   ]
  },
  {
   "cell_type": "code",
   "execution_count": 44,
   "metadata": {},
   "outputs": [
    {
     "name": "stderr",
     "output_type": "stream",
     "text": [
      "100%|██████████| 13781/13781 [00:01<00:00, 7119.31it/s]"
     ]
    },
    {
     "name": "stdout",
     "output_type": "stream",
     "text": [
      "Correct answer not present 35.9% of the time.\n"
     ]
    },
    {
     "name": "stderr",
     "output_type": "stream",
     "text": [
      "\n"
     ]
    }
   ],
   "source": [
    "# Prepare tracking metrics\n",
    "correct_answer_rank = []\n",
    "correct_answer_likelihood = {0:[],1:[],2:[],3:[],4:[]}\n",
    "correct_answer_not_present = 0\n",
    "\n",
    "# Iterate over whole dataframe\n",
    "for i in tqdm(range(len(predictions))):\n",
    "    row = predictions.iloc[i]\n",
    "    correct_answer = row['wikipedia_page_ID']\n",
    "    try:\n",
    "        correct_rank = row['candidate_pool_page_ids'].index(correct_answer)\n",
    "        correct_answer_rank.append(correct_rank)\n",
    "        correct_answer_likelihood[correct_rank].append(row['candidate_pool_likelihoods'][correct_rank])\n",
    "    except ValueError:\n",
    "        correct_answer_not_present += 1\n",
    "\n",
    "print(f\"Correct answer not present {round(correct_answer_not_present/len(predictions)*100,1)}% of the time.\")    "
   ]
  },
  {
   "cell_type": "code",
   "execution_count": 45,
   "metadata": {},
   "outputs": [
    {
     "data": {
      "image/png": "[encoded data removed]",
      "text/plain": [
       "<Figure size 1440x576 with 1 Axes>"
      ]
     },
     "metadata": {
      "needs_background": "light"
     },
     "output_type": "display_data"
    }
   ],
   "source": [
    "# Plot rank\n",
    "plt.figure(figsize=(20,8))\n",
    "plt.hist(correct_answer_rank, bins=20)\n",
    "plt.title(\"Ordering of Correct Answer Candidate Rank\");"
   ]
  },
  {
   "cell_type": "code",
   "execution_count": 46,
   "metadata": {},
   "outputs": [
    {
     "data": {
      "text/plain": [
       "0    7015\n",
       "1    1190\n",
       "2     364\n",
       "3     177\n",
       "4      85\n",
       "dtype: int64"
      ]
     },
     "execution_count": 46,
     "metadata": {},
     "output_type": "execute_result"
    }
   ],
   "source": [
    "pd.Series(correct_answer_rank).value_counts()"
   ]
  },
  {
   "cell_type": "code",
   "execution_count": 47,
   "metadata": {},
   "outputs": [
    {
     "name": "stdout",
     "output_type": "stream",
     "text": [
      "Correct Candidate Rank: 0 - Average Prior Confidence: 0.88192\n",
      "Correct Candidate Rank: 1 - Average Prior Confidence: 0.17509\n",
      "Correct Candidate Rank: 2 - Average Prior Confidence: 0.07656\n",
      "Correct Candidate Rank: 3 - Average Prior Confidence: 0.03768\n",
      "Correct Candidate Rank: 4 - Average Prior Confidence: 0.02739\n"
     ]
    }
   ],
   "source": [
    "for k,v in correct_answer_likelihood.items():\n",
    "    print(f\"Correct Candidate Rank: {k} - Average Prior Confidence: {round(np.mean(v),5)}\")"
   ]
  },
  {
   "cell_type": "markdown",
   "metadata": {},
   "source": [
    "80% are in the top position, another 11% in the second place, 3% in 3rd."
   ]
  },
  {
   "cell_type": "markdown",
   "metadata": {},
   "source": [
    "### Capturing Current Design Thinking\n",
    "\n",
    "We need to iterate through every mention's every candidate to develop the total of all sets in entity vector form. From there, we can iterate through sets to A) create the centroid vector and B) calculate each candidate distance to the centroid. With each candidate distance, we can average into a single distance congruence measure."
   ]
  },
  {
   "cell_type": "markdown",
   "metadata": {},
   "source": [
    "### Define Functions to Create Modular Congruent Pipeline"
   ]
  },
  {
   "cell_type": "code",
   "execution_count": 48,
   "metadata": {},
   "outputs": [],
   "source": [
    "# Generate candidate lists of vectors\n",
    "def get_candidate_pool_vectors(candidate_pool_titles, verbose=False):\n",
    "    \"\"\"\n",
    "    Function to return entity vectors from Wikipedia2Vec\n",
    "    Takes as input a list of page titles, representing the candidate pool\n",
    "    Normalizes each page title to match necessary input format\n",
    "    Returns entity vector or empty vector if no match\n",
    "    \"\"\"\n",
    "    # Track failed vector queries\n",
    "    no_vector_count = 0\n",
    "    candidate_pool_vectors = []\n",
    "    for candidate in candidate_pool_titles:\n",
    "        candidate = normalize_text(candidate)\n",
    "        if verbose: print(candidate)\n",
    "        try:\n",
    "            candidate_vectors = w2v.get_entity_vector(candidate)\n",
    "        except KeyError:\n",
    "            # Keep empty vector representation to maintain index locations\n",
    "            candidate_vectors = np.zeros(100)\n",
    "            no_vector_count += 1\n",
    "        candidate_pool_vectors.append(candidate_vectors)\n",
    "    \n",
    "    # Handle case where candidate pool is empty from Phase 3\n",
    "    # Add arbitrarily chosen 3 arrays of zeros\n",
    "    if len(candidate_pool_titles) == 0:\n",
    "        candidate_pool_vectors = [np.zeros(100), np.zeros(100), np.zeros(100)]\n",
    "    \n",
    "    if verbose: print(f\"Failed Wikipedia2Vec Entity Vector Queries: {no_vector_count}\")\n",
    "    return candidate_pool_vectors"
   ]
  },
  {
   "cell_type": "code",
   "execution_count": 49,
   "metadata": {},
   "outputs": [],
   "source": [
    "# Define function to retrieve entity vectors\n",
    "def create_entity_vector_dict(sentence_mention_ids, sentence_predictions, verbose=False):\n",
    "    \"\"\"\n",
    "    Function iterates over a provided list of congruent mentions,\n",
    "    finds the associated candidate pool for each mention\n",
    "    and returns the candidate pool vector\n",
    "    \"\"\"\n",
    "    # Save vectors in dictionary\n",
    "    vector_dict = {}\n",
    "    \n",
    "    # For each full mention we are analyzing in the contextual domain\n",
    "    for m in sentence_mention_ids:\n",
    "        \n",
    "        # Retrieve candidate pool titles\n",
    "        candidate_pool_titles = sentence_predictions['candidate_pool_titles'][m]\n",
    "        if verbose: print(candidate_pool_titles)\n",
    "        \n",
    "        # Convert candidate pool titles to candidate pool vectors\n",
    "        candidate_pool_vectors = get_candidate_pool_vectors(candidate_pool_titles, verbose=verbose)\n",
    "        \n",
    "        # Save candidate pool vectors to dictionary\n",
    "        vector_dict[m] = candidate_pool_vectors\n",
    "    \n",
    "    if verbose:\n",
    "        print(vector_dict.keys())\n",
    "        for k in vector_dict.keys():\n",
    "            print(len(vector_dict[k]))\n",
    "    return vector_dict"
   ]
  },
  {
   "cell_type": "code",
   "execution_count": 50,
   "metadata": {},
   "outputs": [],
   "source": [
    "# Define function to create every set of candidates across all mentions\n",
    "def create_candidate_combos(vector_dict, verbose=False):\n",
    "    \"\"\"\n",
    "    Function takes as input vector_dict, which represents candidate pool vectors for each mention\n",
    "    Iterates through all candidate vectors to create single list of all combinations of candidates\n",
    "    Returns that list\n",
    "    \"\"\"\n",
    "    # Prepare list for combination\n",
    "    candidate_counts = [range(len(v)) for v in vector_dict.values()]\n",
    "    if verbose: print(candidate_counts)\n",
    "    \n",
    "    # Create product combination of all candidates\n",
    "    unique_combinations = list(product(*candidate_counts))\n",
    "    \n",
    "    return unique_combinations"
   ]
  },
  {
   "cell_type": "code",
   "execution_count": 51,
   "metadata": {},
   "outputs": [],
   "source": [
    "# Define function to calculate centroids\n",
    "def calculate_centroid_candidate_dist(unique_combinations, vector_dict, verbose=False):\n",
    "    \"\"\"\n",
    "    Function takes a list of all possible unique combinations of candidates in vector form,\n",
    "    Calculates the centroid of the vectors of that combination,\n",
    "    Calculates the distance of each candidate to the centroid\n",
    "    Calculates the mean distance for that combination\n",
    "    Returns a list of mean distance for each candidate combination to its centroid\n",
    "    \"\"\"\n",
    "    \n",
    "    # Prepare list for each combination's mean distance\n",
    "    combination_distance = []\n",
    "    \n",
    "    # For every unique combination of candidates\n",
    "    for combo in unique_combinations:\n",
    "        \n",
    "        # Translate combination from idx values to vectors\n",
    "        combo_vector = []\n",
    "        for i in range(len(combo)):\n",
    "            combo_vector.append(vector_dict[i][combo[i]]) # Retrieve the vector representation\n",
    "\n",
    "        # Calculate centroid\n",
    "        centroid = sum(combo_vector)/len(combo) # Can select sum or mean by removing denominator\n",
    "                \n",
    "        # Calculate distance from each candidate to its combination centroid\n",
    "        candidate_distances = []\n",
    "        for candidate in combo_vector:\n",
    "            candidate_dist = cosine_similarity(candidate.reshape(-1,1), centroid.reshape(-1,1))\n",
    "            candidate_distances.append(candidate_dist)\n",
    "        \n",
    "        combination_distance.append(np.mean(candidate_distances))\n",
    "        \n",
    "    return combination_distance"
   ]
  },
  {
   "cell_type": "markdown",
   "metadata": {},
   "source": [
    "#### Congruent Predictions Function\n",
    "\n",
    "This is our main function that takes a sentence ID, calculates congruence for all candidates, updates the prior likelihood from Phase 3 with that congruence and selects predictions iteratively based on that number."
   ]
  },
  {
   "cell_type": "code",
   "execution_count": 54,
   "metadata": {},
   "outputs": [],
   "source": [
    "# Define function to calculate congruent predictions\n",
    "def get_congruent_predictions(sentence_id, dataframe, verbose=False):\n",
    "    \"\"\"\n",
    "    Function to calculate congruence metrics over a set of entity full mentions\n",
    "    and return the predicted candidates based on the congruent metric\n",
    "    Input:\n",
    "    - Sentence ID used to filter dataframe\n",
    "    - Dataframe over which to process\n",
    "    Output:\n",
    "    - Prediction for each entity mention\n",
    "    \"\"\"\n",
    "    \n",
    "    # Filter to dataframe representing single sentence\n",
    "    # Drop duplicates necessary for sentences with the same mention included twice\n",
    "    sentence_predictions = dataframe[dataframe['sentence_id'] == sentence_id]\\\n",
    "                        .drop_duplicates(['full_mention', 'wikipedia_URL', 'wikipedia_page_ID', 'wikipedia_title'])\\\n",
    "                        .reset_index(drop=True)\n",
    "    if verbose: display(sentence_predictions)\n",
    "    \n",
    "    # Define numerical representation of congruent mention list\n",
    "    sentence_congruent_mentions = sentence_predictions['congruent_mentions'][0]\n",
    "    sentence_mention_ids = np.arange(len(sentence_congruent_mentions))\n",
    "    if verbose:\n",
    "        print(\"Congruent Mentions: \", sentence_congruent_mentions)\n",
    "        print(\"Congruent Mentions as numbers: \", sentence_mention_ids)\n",
    "    \n",
    "    # Retrieve dictionary of candidate pool vectors for each mention\n",
    "    vectors_dict = create_entity_vector_dict(sentence_mention_ids, sentence_predictions, verbose=verbose)\n",
    "    if verbose: print(\"Mentions with Vectors: \", vectors_dict.keys())\n",
    "        \n",
    "    # Create full list of all unique combinations\n",
    "    unique_combinations = create_candidate_combos(vectors_dict, verbose=verbose)\n",
    "    # todo standardize on vector or vectors\n",
    "\n",
    "    # Calculate average candidate distance to that combination's centroid for comparison\n",
    "    combination_distance = calculate_centroid_candidate_dist(unique_combinations, vectors_dict, verbose=verbose)\n",
    "    \n",
    "    # Select combination with smallest distance metric, i.e. most congruent combination\n",
    "    select_idx = np.argmin(combination_distance)\n",
    "    most_congruent_combination = unique_combinations[select_idx]\n",
    "    if verbose: print(\"Most Congruent Combination: \", most_congruent_combination)\n",
    "    \n",
    "    # Create predictions dictionary\n",
    "    mention_predictions = {}\n",
    "    \n",
    "    # Translate combination list into dictionary\n",
    "    for i in range(len(most_congruent_combination)):\n",
    "        mention_predictions[i] = most_congruent_combination[i]\n",
    "    if verbose: print(\"Numerical Predictions: \", mention_predictions)\n",
    "    \n",
    "    # Use mention predictions to return titles\n",
    "    readable_predictions = {}\n",
    "    for k, v in mention_predictions.items():\n",
    "        if verbose: print(k, v)\n",
    "        readable_key = sentence_congruent_mentions[k]\n",
    "        try:\n",
    "            readable_value = sentence_predictions['candidate_pool_titles'][k][v]\n",
    "            readable_id = sentence_predictions['candidate_pool_page_ids'][k][v]\n",
    "        except IndexError: # Handles case where no candidate pool was provided from Phase 3\n",
    "            readable_value = None \n",
    "            readable_id = None\n",
    "        except TypeError:\n",
    "            # Handles case where no congruence can be calculated\n",
    "            # Either due to one mention in sentence or two mentions but one with no candidate pool\n",
    "            readable_value = sentence_predictions['candidate_pool_titles'][0][0] # Just return top value from Phase 3\n",
    "            readable_id = sentence_predictions['candidate_pool_page_ids'][0][0]\n",
    "        if verbose: print(readable_key, readable_value, readable_id)\n",
    "        readable_predictions[readable_key] = (readable_value, readable_id)\n",
    "    \n",
    "    # Output dictionary with predictions for each entity mention based on congruence\n",
    "    return readable_predictions"
   ]
  },
  {
   "cell_type": "code",
   "execution_count": 56,
   "metadata": {
    "scrolled": false
   },
   "outputs": [
    {
     "data": {
      "text/html": [
       "<div>\n",
       "<style scoped>\n",
       "    .dataframe tbody tr th:only-of-type {\n",
       "        vertical-align: middle;\n",
       "    }\n",
       "\n",
       "    .dataframe tbody tr th {\n",
       "        vertical-align: top;\n",
       "    }\n",
       "\n",
       "    .dataframe thead th {\n",
       "        text-align: right;\n",
       "    }\n",
       "</style>\n",
       "<table border=\"1\" class=\"dataframe\">\n",
       "  <thead>\n",
       "    <tr style=\"text-align: right;\">\n",
       "      <th></th>\n",
       "      <th>mention</th>\n",
       "      <th>full_mention</th>\n",
       "      <th>wikipedia_URL</th>\n",
       "      <th>wikipedia_page_ID</th>\n",
       "      <th>wikipedia_title</th>\n",
       "      <th>sentence_id</th>\n",
       "      <th>doc_id</th>\n",
       "      <th>congruent_mentions</th>\n",
       "      <th>norm_full_mention</th>\n",
       "      <th>candidate_pool_page_ids</th>\n",
       "      <th>candidate_pool_item_ids</th>\n",
       "      <th>candidate_pool_titles</th>\n",
       "      <th>candidate_pool_likelihoods</th>\n",
       "    </tr>\n",
       "  </thead>\n",
       "  <tbody>\n",
       "    <tr>\n",
       "      <th>0</th>\n",
       "      <td>B</td>\n",
       "      <td>EU</td>\n",
       "      <td>NaN</td>\n",
       "      <td>NaN</td>\n",
       "      <td>NaN</td>\n",
       "      <td>5</td>\n",
       "      <td>0</td>\n",
       "      <td>[EU, Franz Fischler]</td>\n",
       "      <td>eu</td>\n",
       "      <td>[9317, 9239, 21347120, 9477, 1882861]</td>\n",
       "      <td>[458, 46, 211593, 1396, 363404]</td>\n",
       "      <td>[European_Union, Europe, Eu,_Seine-Maritime, E...</td>\n",
       "      <td>[0.9227799000000001, 0.024651, 0.0201960000000...</td>\n",
       "    </tr>\n",
       "    <tr>\n",
       "      <th>1</th>\n",
       "      <td>B</td>\n",
       "      <td>Franz Fischler</td>\n",
       "      <td>http://en.wikipedia.org/wiki/Franz_Fischler</td>\n",
       "      <td>626779.0</td>\n",
       "      <td>Franz Fischler</td>\n",
       "      <td>5</td>\n",
       "      <td>0</td>\n",
       "      <td>[EU, Franz Fischler]</td>\n",
       "      <td>franz fischler</td>\n",
       "      <td>[626779]</td>\n",
       "      <td>[78587]</td>\n",
       "      <td>[Franz_Fischler]</td>\n",
       "      <td>[1.0]</td>\n",
       "    </tr>\n",
       "  </tbody>\n",
       "</table>\n",
       "</div>"
      ],
      "text/plain": [
       "  mention    full_mention                                wikipedia_URL  \\\n",
       "0       B              EU                                          NaN   \n",
       "1       B  Franz Fischler  http://en.wikipedia.org/wiki/Franz_Fischler   \n",
       "\n",
       "   wikipedia_page_ID wikipedia_title  sentence_id  doc_id  \\\n",
       "0                NaN             NaN            5       0   \n",
       "1           626779.0  Franz Fischler            5       0   \n",
       "\n",
       "     congruent_mentions norm_full_mention  \\\n",
       "0  [EU, Franz Fischler]                eu   \n",
       "1  [EU, Franz Fischler]    franz fischler   \n",
       "\n",
       "                 candidate_pool_page_ids          candidate_pool_item_ids  \\\n",
       "0  [9317, 9239, 21347120, 9477, 1882861]  [458, 46, 211593, 1396, 363404]   \n",
       "1                               [626779]                          [78587]   \n",
       "\n",
       "                               candidate_pool_titles  \\\n",
       "0  [European_Union, Europe, Eu,_Seine-Maritime, E...   \n",
       "1                                   [Franz_Fischler]   \n",
       "\n",
       "                          candidate_pool_likelihoods  \n",
       "0  [0.9227799000000001, 0.024651, 0.0201960000000...  \n",
       "1                                              [1.0]  "
      ]
     },
     "metadata": {},
     "output_type": "display_data"
    },
    {
     "name": "stdout",
     "output_type": "stream",
     "text": [
      "Congruent Mentions:  ['EU', 'Franz Fischler']\n",
      "Congruent Mentions as numbers:  [0 1]\n",
      "['European_Union', 'Europe', 'Eu,_Seine-Maritime', 'Europium', 'Citizenship_of_the_European_Union']\n",
      "European Union\n",
      "Europe\n",
      "Eu, Seine-Maritime\n",
      "Europium\n",
      "Citizenship of the European Union\n",
      "Failed Wikipedia2Vec Entity Vector Queries: 0\n",
      "['Franz_Fischler']\n",
      "Franz Fischler\n",
      "Failed Wikipedia2Vec Entity Vector Queries: 0\n",
      "dict_keys([0, 1])\n",
      "5\n",
      "1\n",
      "Mentions with Vectors:  dict_keys([0, 1])\n",
      "[range(0, 5), range(0, 1)]\n",
      "Most Congruent Combination:  (4, 0)\n",
      "Numerical Predictions:  {0: 4, 1: 0}\n",
      "0 4\n",
      "EU Citizenship_of_the_European_Union 1882861\n",
      "1 0\n",
      "Franz Fischler Franz_Fischler 626779\n",
      "{'EU': ('Citizenship_of_the_European_Union', 1882861), 'Franz Fischler': ('Franz_Fischler', 626779)}\n",
      "CPU times: user 24.2 ms, sys: 5.29 ms, total: 29.5 ms\n",
      "Wall time: 35.1 ms\n"
     ]
    }
   ],
   "source": [
    "%%time\n",
    "# Test out function\n",
    "sentence_id = 5\n",
    "congruent_predictions = get_congruent_predictions(sentence_id=sentence_id, dataframe=predictions, verbose=True)\n",
    "print(congruent_predictions)"
   ]
  },
  {
   "cell_type": "code",
   "execution_count": 57,
   "metadata": {},
   "outputs": [
    {
     "data": {
      "text/html": [
       "<div>\n",
       "<style scoped>\n",
       "    .dataframe tbody tr th:only-of-type {\n",
       "        vertical-align: middle;\n",
       "    }\n",
       "\n",
       "    .dataframe tbody tr th {\n",
       "        vertical-align: top;\n",
       "    }\n",
       "\n",
       "    .dataframe thead th {\n",
       "        text-align: right;\n",
       "    }\n",
       "</style>\n",
       "<table border=\"1\" class=\"dataframe\">\n",
       "  <thead>\n",
       "    <tr style=\"text-align: right;\">\n",
       "      <th></th>\n",
       "      <th>mention</th>\n",
       "      <th>full_mention</th>\n",
       "      <th>wikipedia_URL</th>\n",
       "      <th>wikipedia_page_ID</th>\n",
       "      <th>wikipedia_title</th>\n",
       "      <th>sentence_id</th>\n",
       "      <th>doc_id</th>\n",
       "      <th>congruent_mentions</th>\n",
       "      <th>norm_full_mention</th>\n",
       "      <th>candidate_pool_page_ids</th>\n",
       "      <th>candidate_pool_item_ids</th>\n",
       "      <th>candidate_pool_titles</th>\n",
       "      <th>candidate_pool_likelihoods</th>\n",
       "    </tr>\n",
       "  </thead>\n",
       "  <tbody>\n",
       "    <tr>\n",
       "      <th>0</th>\n",
       "      <td>B</td>\n",
       "      <td>EU</td>\n",
       "      <td>NaN</td>\n",
       "      <td>NaN</td>\n",
       "      <td>NaN</td>\n",
       "      <td>5</td>\n",
       "      <td>0</td>\n",
       "      <td>[EU, Franz Fischler]</td>\n",
       "      <td>eu</td>\n",
       "      <td>[9317, 9239, 21347120, 9477, 1882861]</td>\n",
       "      <td>[458, 46, 211593, 1396, 363404]</td>\n",
       "      <td>[European_Union, Europe, Eu,_Seine-Maritime, E...</td>\n",
       "      <td>[0.9227799000000001, 0.024651, 0.0201960000000...</td>\n",
       "    </tr>\n",
       "    <tr>\n",
       "      <th>1</th>\n",
       "      <td>B</td>\n",
       "      <td>Franz Fischler</td>\n",
       "      <td>http://en.wikipedia.org/wiki/Franz_Fischler</td>\n",
       "      <td>626779.0</td>\n",
       "      <td>Franz Fischler</td>\n",
       "      <td>5</td>\n",
       "      <td>0</td>\n",
       "      <td>[EU, Franz Fischler]</td>\n",
       "      <td>franz fischler</td>\n",
       "      <td>[626779]</td>\n",
       "      <td>[78587]</td>\n",
       "      <td>[Franz_Fischler]</td>\n",
       "      <td>[1.0]</td>\n",
       "    </tr>\n",
       "    <tr>\n",
       "      <th>2</th>\n",
       "      <td>I</td>\n",
       "      <td>Franz Fischler</td>\n",
       "      <td>http://en.wikipedia.org/wiki/Franz_Fischler</td>\n",
       "      <td>626779.0</td>\n",
       "      <td>Franz Fischler</td>\n",
       "      <td>5</td>\n",
       "      <td>0</td>\n",
       "      <td>[EU, Franz Fischler]</td>\n",
       "      <td>franz fischler</td>\n",
       "      <td>[626779]</td>\n",
       "      <td>[78587]</td>\n",
       "      <td>[Franz_Fischler]</td>\n",
       "      <td>[1.0]</td>\n",
       "    </tr>\n",
       "  </tbody>\n",
       "</table>\n",
       "</div>"
      ],
      "text/plain": [
       "  mention    full_mention                                wikipedia_URL  \\\n",
       "0       B              EU                                          NaN   \n",
       "1       B  Franz Fischler  http://en.wikipedia.org/wiki/Franz_Fischler   \n",
       "2       I  Franz Fischler  http://en.wikipedia.org/wiki/Franz_Fischler   \n",
       "\n",
       "   wikipedia_page_ID wikipedia_title  sentence_id  doc_id  \\\n",
       "0                NaN             NaN            5       0   \n",
       "1           626779.0  Franz Fischler            5       0   \n",
       "2           626779.0  Franz Fischler            5       0   \n",
       "\n",
       "     congruent_mentions norm_full_mention  \\\n",
       "0  [EU, Franz Fischler]                eu   \n",
       "1  [EU, Franz Fischler]    franz fischler   \n",
       "2  [EU, Franz Fischler]    franz fischler   \n",
       "\n",
       "                 candidate_pool_page_ids          candidate_pool_item_ids  \\\n",
       "0  [9317, 9239, 21347120, 9477, 1882861]  [458, 46, 211593, 1396, 363404]   \n",
       "1                               [626779]                          [78587]   \n",
       "2                               [626779]                          [78587]   \n",
       "\n",
       "                               candidate_pool_titles  \\\n",
       "0  [European_Union, Europe, Eu,_Seine-Maritime, E...   \n",
       "1                                   [Franz_Fischler]   \n",
       "2                                   [Franz_Fischler]   \n",
       "\n",
       "                          candidate_pool_likelihoods  \n",
       "0  [0.9227799000000001, 0.024651, 0.0201960000000...  \n",
       "1                                              [1.0]  \n",
       "2                                              [1.0]  "
      ]
     },
     "execution_count": 57,
     "metadata": {},
     "output_type": "execute_result"
    }
   ],
   "source": [
    "# Define testing sentence_id\n",
    "sentence_predictions = predictions[predictions['sentence_id'] == sentence_id].reset_index(drop=True)\n",
    "sentence_predictions"
   ]
  },
  {
   "cell_type": "code",
   "execution_count": 58,
   "metadata": {},
   "outputs": [
    {
     "name": "stdout",
     "output_type": "stream",
     "text": [
      "['EU', 'Franz Fischler']\n"
     ]
    }
   ],
   "source": [
    "print(sentence_predictions['congruent_mentions'][0])"
   ]
  },
  {
   "cell_type": "code",
   "execution_count": 59,
   "metadata": {},
   "outputs": [
    {
     "name": "stdout",
     "output_type": "stream",
     "text": [
      "EU -> nan =? Citizenship of the European Union\n",
      "Franz Fischler -> Franz Fischler =? Franz Fischler\n",
      "*************************************************\n",
      "This congruent experiment is 50.0% accurate comparing page titles.\n"
     ]
    }
   ],
   "source": [
    "accuracy = 0\n",
    "for mention, pred in congruent_predictions.items():\n",
    "    pred_title = normalize_text(pred[0])\n",
    "    true_title = sentence_predictions[sentence_predictions['full_mention'] == mention]['wikipedia_title'].values[0]\n",
    "    print(mention, \"->\", true_title, \"=?\", pred_title)\n",
    "    if sentence_predictions[sentence_predictions['full_mention'] == mention]['wikipedia_title'].values[0] == pred_title:\n",
    "        accuracy += 1\n",
    "print(\"*************************************************\")\n",
    "print(f\"This congruent experiment is {round(accuracy/len(congruent_predictions)*100,3)}% accurate comparing page titles.\")"
   ]
  },
  {
   "cell_type": "code",
   "execution_count": 60,
   "metadata": {},
   "outputs": [
    {
     "name": "stdout",
     "output_type": "stream",
     "text": [
      "EU -> None =? 1882861\n",
      "Franz Fischler -> 626779 =? 626779\n",
      "*************************************************\n",
      "This congruent experiment is 50.0% accurate comparing page IDs.\n"
     ]
    }
   ],
   "source": [
    "accuracy = 0\n",
    "for mention, pred in congruent_predictions.items():\n",
    "    pred_page_id = pred[1]\n",
    "    try:\n",
    "        true_page_id = int(sentence_predictions[sentence_predictions['full_mention'] == mention]['wikipedia_page_ID'].values[0])\n",
    "    except ValueError:\n",
    "        true_page_id = None\n",
    "    print(mention, \"->\", true_page_id, \"=?\", pred_page_id)\n",
    "    if sentence_predictions[sentence_predictions['full_mention'] == mention]['wikipedia_page_ID'].values[0] == pred_page_id:\n",
    "        accuracy += 1\n",
    "print(\"*************************************************\")\n",
    "print(f\"This congruent experiment is {round(accuracy/len(congruent_predictions)*100,3)}% accurate comparing page IDs.\")"
   ]
  },
  {
   "cell_type": "markdown",
   "metadata": {},
   "source": [
    "### Calculate Congruence Predictions and Assess Accuracy over Entire Dataframe\n",
    "\n",
    "We now apply the per-sentence structure over the whole ACY dataframe."
   ]
  },
  {
   "cell_type": "code",
   "execution_count": 61,
   "metadata": {},
   "outputs": [
    {
     "name": "stdout",
     "output_type": "stream",
     "text": [
      "We have 3,935 sentences to predict.\n"
     ]
    }
   ],
   "source": [
    "# Max sentence_id in dataframe\n",
    "max_sentence_id = len(predictions['sentence_id'].unique())\n",
    "print(\"We have {:,} sentences to predict.\".format(max_sentence_id))"
   ]
  },
  {
   "cell_type": "code",
   "execution_count": 62,
   "metadata": {
    "scrolled": false
   },
   "outputs": [
    {
     "name": "stderr",
     "output_type": "stream",
     "text": [
      "100%|██████████| 3935/3935 [09:59<00:00,  6.56it/s] \n"
     ]
    }
   ],
   "source": [
    "# Iterate over whole dataframe to produce mention predictions for each sentence\n",
    "dataframe_predictions = {}\n",
    "for sid in tqdm(predictions['sentence_id'].unique()):\n",
    "    dataframe_predictions[sid] = get_congruent_predictions(sid, dataframe=predictions, verbose=False)"
   ]
  },
  {
   "cell_type": "code",
   "execution_count": 63,
   "metadata": {},
   "outputs": [
    {
     "name": "stderr",
     "output_type": "stream",
     "text": [
      "100%|██████████| 13781/13781 [00:02<00:00, 5818.89it/s]"
     ]
    },
    {
     "name": "stdout",
     "output_type": "stream",
     "text": [
      "After congruence, we have achieved 25.158% accuracy comparing title.\n",
      "After congruence, we have achieved 27.081% accuracy comparing page ID.\n"
     ]
    },
    {
     "name": "stderr",
     "output_type": "stream",
     "text": [
      "\n"
     ]
    }
   ],
   "source": [
    "# Iterate over whole dataframe to calculate accuracy\n",
    "accurate_predictions_title = 0\n",
    "accurate_predictions_id = 0\n",
    "for row in tqdm(range(len(predictions))):\n",
    "    mention_df = predictions.iloc[row]\n",
    "    sid = mention_df['sentence_id']\n",
    "    fm = mention_df['full_mention']\n",
    "    title = mention_df['wikipedia_title']\n",
    "    page_id = mention_df['wikipedia_page_ID']\n",
    "    pred = dataframe_predictions[sid][fm]\n",
    "    norm_pred_title = normalize_text(pred[0])\n",
    "    pred_page_id = pred[1]\n",
    "#     print(fm, sid, \"||| True:\", title, \"==? Pred:\", norm_pred_title, \"|||\", norm_pred_title==title,\\\n",
    "#                  \"||| True ID: \", page_id, \"==? Pred:\", pred_page_id, \"|||\", pred_page_id==page_id)\n",
    "    if title == norm_pred_title:\n",
    "        accurate_predictions_title += 1\n",
    "    if page_id == pred_page_id:\n",
    "        accurate_predictions_id += 1\n",
    "print(\"After congruence, we have achieved {}% accuracy comparing title.\".format(round(accurate_predictions_title/len(predictions)*100, 3)))\n",
    "print(\"After congruence, we have achieved {}% accuracy comparing page ID.\".format(round(accurate_predictions_id/len(predictions)*100, 3)))"
   ]
  },
  {
   "cell_type": "code",
   "execution_count": 64,
   "metadata": {},
   "outputs": [
    {
     "ename": "NameError",
     "evalue": "name 'candidate_pool_page_ids' is not defined",
     "output_type": "error",
     "traceback": [
      "\u001b[0;31m---------------------------------------------------------------------------\u001b[0m",
      "\u001b[0;31mNameError\u001b[0m                                 Traceback (most recent call last)",
      "\u001b[0;32m<ipython-input-64-9ce3f58292a0>\u001b[0m in \u001b[0;36m<module>\u001b[0;34m\u001b[0m\n\u001b[1;32m     14\u001b[0m     \u001b[0mpred_page_id\u001b[0m \u001b[0;34m=\u001b[0m \u001b[0mpred\u001b[0m\u001b[0;34m[\u001b[0m\u001b[0;36m1\u001b[0m\u001b[0;34m]\u001b[0m\u001b[0;34m\u001b[0m\u001b[0;34m\u001b[0m\u001b[0m\n\u001b[1;32m     15\u001b[0m     print(fm, sid, \"||| True:\", title, page_id, \"==? Pred:\", norm_pred_title, pred_page_id, \"|||\",\\\n\u001b[0;32m---> 16\u001b[0;31m           norm_pred_title==title, pred_page_id==page_id, \" ||| Present? \", (page_id in candidate_pool_page_ids))\n\u001b[0m\u001b[1;32m     17\u001b[0m     \u001b[0;32mif\u001b[0m \u001b[0mtitle\u001b[0m \u001b[0;34m==\u001b[0m \u001b[0mnorm_pred_title\u001b[0m\u001b[0;34m:\u001b[0m\u001b[0;34m\u001b[0m\u001b[0;34m\u001b[0m\u001b[0m\n\u001b[1;32m     18\u001b[0m         \u001b[0maccurate_predictions_title\u001b[0m \u001b[0;34m+=\u001b[0m \u001b[0;36m1\u001b[0m\u001b[0;34m\u001b[0m\u001b[0;34m\u001b[0m\u001b[0m\n",
      "\u001b[0;31mNameError\u001b[0m: name 'candidate_pool_page_ids' is not defined"
     ]
    }
   ],
   "source": [
    "# Iterate over subset of dataframe to calculate accuracy and study output results\n",
    "accurate_predictions_title = 0\n",
    "accurate_predictions_id = 0\n",
    "rand_idx = np.random.randint(len(predictions)) # Observe random subsection of predictions\n",
    "window_size = 10\n",
    "for row in range(rand_idx, rand_idx+window_size):\n",
    "    mention_df = predictions.iloc[row]\n",
    "    sid = mention_df['sentence_id']\n",
    "    fm = mention_df['full_mention']\n",
    "    title = mention_df['wikipedia_title']\n",
    "    page_id = mention_df['wikipedia_page_ID']\n",
    "    pred = dataframe_predictions[sid][fm]\n",
    "    norm_pred_title = normalize_text(pred[0])\n",
    "    pred_page_id = pred[1]\n",
    "    print(fm, sid, \"||| True:\", title, page_id, \"==? Pred:\", norm_pred_title, pred_page_id, \"|||\",\\\n",
    "          norm_pred_title==title, pred_page_id==page_id, \" ||| Present? \", (page_id in candidate_pool_page_ids))\n",
    "    if title == norm_pred_title:\n",
    "        accurate_predictions_title += 1\n",
    "    if page_id == pred_page_id:\n",
    "        accurate_predictions_id += 1\n",
    "print(\"After congruence, we have achieved {}% accuracy comparing title.\".format(round(accurate_predictions_title/window_size*100, 3)))\n",
    "print(\"After congruence, we have achieved {}% accuracy comparing page ID.\".format(round(accurate_predictions_id/window_size*100, 3)))"
   ]
  },
  {
   "cell_type": "markdown",
   "metadata": {},
   "source": [
    "#### Calculate Accuracy only with Full Mentions with Known True\n",
    "\n",
    "This is a better reflection of our success."
   ]
  },
  {
   "cell_type": "code",
   "execution_count": 65,
   "metadata": {},
   "outputs": [
    {
     "name": "stdout",
     "output_type": "stream",
     "text": [
      "9785\n"
     ]
    }
   ],
   "source": [
    "# Calculate length of input with known true values\n",
    "known_true = sum(predictions['wikipedia_page_ID'].notnull())\n",
    "print(known_true)"
   ]
  },
  {
   "cell_type": "code",
   "execution_count": 66,
   "metadata": {},
   "outputs": [
    {
     "name": "stderr",
     "output_type": "stream",
     "text": [
      "100%|██████████| 13781/13781 [00:01<00:00, 6949.26it/s]"
     ]
    },
    {
     "name": "stdout",
     "output_type": "stream",
     "text": [
      "After congruence, we have achieved 35.432% accuracy comparing title.\n",
      "After congruence, we have achieved 38.14% accuracy comparing page ID.\n",
      "The right answer was present in 90.25% of candidate pools.\n"
     ]
    },
    {
     "name": "stderr",
     "output_type": "stream",
     "text": [
      "\n"
     ]
    }
   ],
   "source": [
    "# Iterate over whole dataframe to calculate accuracy\n",
    "accurate_predictions_title = 0\n",
    "accurate_predictions_id = 0\n",
    "present_predictions_id = 0\n",
    "for row in tqdm(range(len(predictions))):\n",
    "    mention_df = predictions.iloc[row]\n",
    "    sid = mention_df['sentence_id']\n",
    "    fm = mention_df['full_mention']\n",
    "    title = mention_df['wikipedia_title']\n",
    "    page_id = mention_df['wikipedia_page_ID']\n",
    "    candidate_pool_page_ids = mention_df['candidate_pool_page_ids']\n",
    "    if page_id is None:\n",
    "        pass\n",
    "    elif isinstance(title, float):\n",
    "        pass\n",
    "    else:\n",
    "        pred = dataframe_predictions[sid][fm]\n",
    "        norm_pred_title = normalize_text(pred[0])\n",
    "        pred_page_id = pred[1]\n",
    "#         print(fm, sid, \"||| True:\", title, page_id, \"==? Pred:\", norm_pred_title, pred_page_id, \"|||\",\\\n",
    "#               norm_pred_title==title, pred_page_id==page_id, \" ||| Present? \", (page_id in candidate_pool_page_ids))\n",
    "        if title == norm_pred_title:\n",
    "            accurate_predictions_title += 1\n",
    "        if page_id == pred_page_id:\n",
    "            accurate_predictions_id += 1\n",
    "        if page_id in candidate_pool_page_ids:\n",
    "            present_predictions_id += 1\n",
    "print(\"After congruence, we have achieved {}% accuracy comparing title.\".format(round(accurate_predictions_title/known_true*100, 3)))\n",
    "print(\"After congruence, we have achieved {}% accuracy comparing page ID.\".format(round(accurate_predictions_id/known_true*100, 3)))\n",
    "print(\"The right answer was present in {}% of candidate pools.\".format(round(present_predictions_id/known_true*100, 3)))"
   ]
  },
  {
   "cell_type": "code",
   "execution_count": 68,
   "metadata": {
    "scrolled": false
   },
   "outputs": [
    {
     "name": "stdout",
     "output_type": "stream",
     "text": [
      "2260 12\n",
      "Los Angeles 2260 ||| True: Los Angeles 18110.0 ==? Pred: Los Angeles County, California 79734 ||| False False  ||| Present?  True\n",
      "Los Angeles 2260 ||| True: Los Angeles 18110.0 ==? Pred: Los Angeles County, California 79734 ||| False False  ||| Present?  True\n",
      "Greg Gagne 2260 ||| True: Greg Gagne (baseball) 4516364.0 ==? Pred: Greg Gagne (wrestler) 1983742 ||| False False  ||| Present?  True\n",
      "Greg Gagne 2260 ||| True: Greg Gagne (baseball) 4516364.0 ==? Pred: Greg Gagne (wrestler) 1983742 ||| False False  ||| Present?  True\n",
      "Chad Curtis 2260 ||| True: Chad Curtis 1821553.0 ==? Pred: Chad Curtis 1821553 ||| True True  ||| Present?  True\n",
      "Chad Curtis 2260 ||| True: Chad Curtis 1821553.0 ==? Pred: Chad Curtis 1821553 ||| True True  ||| Present?  True\n",
      "Los Angeles Dodgers 2260 ||| True: Los Angeles Dodgers 18213.0 ==? Pred: 1959 Los Angeles Dodgers season 12937911 ||| False False  ||| Present?  True\n",
      "Los Angeles Dodgers 2260 ||| True: Los Angeles Dodgers 18213.0 ==? Pred: 1959 Los Angeles Dodgers season 12937911 ||| False False  ||| Present?  True\n",
      "Los Angeles Dodgers 2260 ||| True: Los Angeles Dodgers 18213.0 ==? Pred: 1959 Los Angeles Dodgers season 12937911 ||| False False  ||| Present?  True\n",
      "New York Mets 2260 ||| True: New York Mets 21728.0 ==? Pred: 2006 New York Mets season 12163863 ||| False False  ||| Present?  True\n",
      "New York Mets 2260 ||| True: New York Mets 21728.0 ==? Pred: 2006 New York Mets season 12163863 ||| False False  ||| Present?  True\n",
      "New York Mets 2260 ||| True: New York Mets 21728.0 ==? Pred: 2006 New York Mets season 12163863 ||| False False  ||| Present?  True\n",
      "***************************************\n",
      "After congruence, we have achieved 16.667% accuracy comparing title.\n",
      "After congruence, we have achieved 16.667% accuracy comparing page ID.\n",
      "The right answer was present in 100.0% of candidate pools.\n"
     ]
    }
   ],
   "source": [
    "# Iterate over subset of dataframe to calculate accuracy and study output results\n",
    "accurate_predictions_title = 0\n",
    "accurate_predictions_id = 0\n",
    "present_predictions_id = 0\n",
    "predictions_count = 0\n",
    "\n",
    "# Generate random window\n",
    "rand_idx = np.random.randint(len(predictions)) # Observe random subsection of predictions\n",
    "window_size = 10\n",
    "\n",
    "# Pick random sentence\n",
    "rand_sid = np.random.choice(predictions['sentence_id'])\n",
    "rand_sentence_df = predictions[predictions['sentence_id'] == rand_sid]\n",
    "print(rand_sid, len(rand_sentence_df))\n",
    "\n",
    "for row in range(len(rand_sentence_df)):\n",
    "    mention_df = rand_sentence_df.iloc[row]\n",
    "    sid = mention_df['sentence_id']\n",
    "    fm = mention_df['full_mention']\n",
    "    title = mention_df['wikipedia_title']\n",
    "    page_id = mention_df['wikipedia_page_ID']\n",
    "    candidate_pool_page_ids = mention_df['candidate_pool_page_ids']\n",
    "    if page_id is None: # This handles calculating over only known true\n",
    "        pass\n",
    "    elif isinstance(title, float): # Another way to handle only known true\n",
    "        pass\n",
    "    else:\n",
    "        predictions_count += 1\n",
    "        pred = dataframe_predictions[sid][fm]\n",
    "        norm_pred_title = normalize_text(pred[0])\n",
    "        pred_page_id = pred[1]\n",
    "        print(fm, sid, \"||| True:\", title, page_id, \"==? Pred:\", norm_pred_title, pred_page_id, \"|||\",\\\n",
    "              norm_pred_title==title, pred_page_id==page_id, \" ||| Present? \", (page_id in candidate_pool_page_ids))\n",
    "        if title == norm_pred_title:\n",
    "            accurate_predictions_title += 1\n",
    "        if page_id == pred_page_id:\n",
    "            accurate_predictions_id += 1\n",
    "        if page_id in candidate_pool_page_ids:\n",
    "            present_predictions_id += 1\n",
    "print(\"***************************************\")\n",
    "print(\"After congruence, we have achieved {}% accuracy comparing title.\".format(round(accurate_predictions_title/predictions_count*100, 3)))\n",
    "print(\"After congruence, we have achieved {}% accuracy comparing page ID.\".format(round(accurate_predictions_id/predictions_count*100, 3)))\n",
    "print(\"The right answer was present in {}% of candidate pools.\".format(round(present_predictions_id/predictions_count*100, 0)))"
   ]
  },
  {
   "cell_type": "code",
   "execution_count": 434,
   "metadata": {},
   "outputs": [
    {
     "data": {
      "text/html": [
       "<div>\n",
       "<style scoped>\n",
       "    .dataframe tbody tr th:only-of-type {\n",
       "        vertical-align: middle;\n",
       "    }\n",
       "\n",
       "    .dataframe tbody tr th {\n",
       "        vertical-align: top;\n",
       "    }\n",
       "\n",
       "    .dataframe thead th {\n",
       "        text-align: right;\n",
       "    }\n",
       "</style>\n",
       "<table border=\"1\" class=\"dataframe\">\n",
       "  <thead>\n",
       "    <tr style=\"text-align: right;\">\n",
       "      <th></th>\n",
       "      <th>mention</th>\n",
       "      <th>full_mention</th>\n",
       "      <th>wikipedia_URL</th>\n",
       "      <th>wikipedia_page_ID</th>\n",
       "      <th>wikipedia_title</th>\n",
       "      <th>sentence_id</th>\n",
       "      <th>doc_id</th>\n",
       "      <th>congruent_mentions</th>\n",
       "      <th>norm_full_mention</th>\n",
       "      <th>candidate_pool_page_ids</th>\n",
       "      <th>candidate_pool_item_ids</th>\n",
       "      <th>candidate_pool_titles</th>\n",
       "      <th>candidate_pool_likelihoods</th>\n",
       "    </tr>\n",
       "  </thead>\n",
       "  <tbody>\n",
       "    <tr>\n",
       "      <th>12038</th>\n",
       "      <td>B</td>\n",
       "      <td>Sao Paulo</td>\n",
       "      <td>http://en.wikipedia.org/wiki/São_Paulo_(state)</td>\n",
       "      <td>229422.0</td>\n",
       "      <td>São Paulo (state)</td>\n",
       "      <td>2879</td>\n",
       "      <td>471</td>\n",
       "      <td>[Sao Paulo, Mario Covas, Banespa, O Globo]</td>\n",
       "      <td>sao paulo</td>\n",
       "      <td>[390875, 229422, 187274]</td>\n",
       "      <td>[174, 175, 38568]</td>\n",
       "      <td>[São_Paulo, São_Paulo_(state), São_Paulo_FC]</td>\n",
       "      <td>[0.9563318999999999, 0.0334789, 0.0101892]</td>\n",
       "    </tr>\n",
       "    <tr>\n",
       "      <th>12039</th>\n",
       "      <td>I</td>\n",
       "      <td>Sao Paulo</td>\n",
       "      <td>http://en.wikipedia.org/wiki/São_Paulo_(state)</td>\n",
       "      <td>229422.0</td>\n",
       "      <td>São Paulo (state)</td>\n",
       "      <td>2879</td>\n",
       "      <td>471</td>\n",
       "      <td>[Sao Paulo, Mario Covas, Banespa, O Globo]</td>\n",
       "      <td>sao paulo</td>\n",
       "      <td>[390875, 229422, 187274]</td>\n",
       "      <td>[174, 175, 38568]</td>\n",
       "      <td>[São_Paulo, São_Paulo_(state), São_Paulo_FC]</td>\n",
       "      <td>[0.9563318999999999, 0.0334789, 0.0101892]</td>\n",
       "    </tr>\n",
       "    <tr>\n",
       "      <th>12040</th>\n",
       "      <td>B</td>\n",
       "      <td>Mario Covas</td>\n",
       "      <td>http://en.wikipedia.org/wiki/Mário_Covas</td>\n",
       "      <td>3386439.0</td>\n",
       "      <td>Mário Covas</td>\n",
       "      <td>2879</td>\n",
       "      <td>471</td>\n",
       "      <td>[Sao Paulo, Mario Covas, Banespa, O Globo]</td>\n",
       "      <td>mario covas</td>\n",
       "      <td>[3386439]</td>\n",
       "      <td>[1669473]</td>\n",
       "      <td>[Mário_Covas]</td>\n",
       "      <td>[1.0]</td>\n",
       "    </tr>\n",
       "    <tr>\n",
       "      <th>12041</th>\n",
       "      <td>I</td>\n",
       "      <td>Mario Covas</td>\n",
       "      <td>http://en.wikipedia.org/wiki/Mário_Covas</td>\n",
       "      <td>3386439.0</td>\n",
       "      <td>Mário Covas</td>\n",
       "      <td>2879</td>\n",
       "      <td>471</td>\n",
       "      <td>[Sao Paulo, Mario Covas, Banespa, O Globo]</td>\n",
       "      <td>mario covas</td>\n",
       "      <td>[3386439]</td>\n",
       "      <td>[1669473]</td>\n",
       "      <td>[Mário_Covas]</td>\n",
       "      <td>[1.0]</td>\n",
       "    </tr>\n",
       "    <tr>\n",
       "      <th>12042</th>\n",
       "      <td>B</td>\n",
       "      <td>Sao Paulo</td>\n",
       "      <td>http://en.wikipedia.org/wiki/São_Paulo_(state)</td>\n",
       "      <td>229422.0</td>\n",
       "      <td>São Paulo (state)</td>\n",
       "      <td>2879</td>\n",
       "      <td>471</td>\n",
       "      <td>[Sao Paulo, Mario Covas, Banespa, O Globo]</td>\n",
       "      <td>sao paulo</td>\n",
       "      <td>[390875, 229422, 187274]</td>\n",
       "      <td>[174, 175, 38568]</td>\n",
       "      <td>[São_Paulo, São_Paulo_(state), São_Paulo_FC]</td>\n",
       "      <td>[0.9563318999999999, 0.0334789, 0.0101892]</td>\n",
       "    </tr>\n",
       "    <tr>\n",
       "      <th>12043</th>\n",
       "      <td>I</td>\n",
       "      <td>Sao Paulo</td>\n",
       "      <td>http://en.wikipedia.org/wiki/São_Paulo_(state)</td>\n",
       "      <td>229422.0</td>\n",
       "      <td>São Paulo (state)</td>\n",
       "      <td>2879</td>\n",
       "      <td>471</td>\n",
       "      <td>[Sao Paulo, Mario Covas, Banespa, O Globo]</td>\n",
       "      <td>sao paulo</td>\n",
       "      <td>[390875, 229422, 187274]</td>\n",
       "      <td>[174, 175, 38568]</td>\n",
       "      <td>[São_Paulo, São_Paulo_(state), São_Paulo_FC]</td>\n",
       "      <td>[0.9563318999999999, 0.0334789, 0.0101892]</td>\n",
       "    </tr>\n",
       "    <tr>\n",
       "      <th>12044</th>\n",
       "      <td>B</td>\n",
       "      <td>Banespa</td>\n",
       "      <td>NaN</td>\n",
       "      <td>NaN</td>\n",
       "      <td>NaN</td>\n",
       "      <td>2879</td>\n",
       "      <td>471</td>\n",
       "      <td>[Sao Paulo, Mario Covas, Banespa, O Globo]</td>\n",
       "      <td>banespa</td>\n",
       "      <td>[32820442, 3752752]</td>\n",
       "      <td>[4854074, 169420]</td>\n",
       "      <td>[Banco_Banespa, Altino_Arantes_Building]</td>\n",
       "      <td>[0.8571429, 0.14285710000000001]</td>\n",
       "    </tr>\n",
       "    <tr>\n",
       "      <th>12045</th>\n",
       "      <td>B</td>\n",
       "      <td>O Globo</td>\n",
       "      <td>http://en.wikipedia.org/wiki/O_Globo</td>\n",
       "      <td>2093729.0</td>\n",
       "      <td>O Globo</td>\n",
       "      <td>2879</td>\n",
       "      <td>471</td>\n",
       "      <td>[Sao Paulo, Mario Covas, Banespa, O Globo]</td>\n",
       "      <td>o globo</td>\n",
       "      <td>[2093729]</td>\n",
       "      <td>[970729]</td>\n",
       "      <td>[O_Globo]</td>\n",
       "      <td>[1.0]</td>\n",
       "    </tr>\n",
       "    <tr>\n",
       "      <th>12046</th>\n",
       "      <td>I</td>\n",
       "      <td>O Globo</td>\n",
       "      <td>http://en.wikipedia.org/wiki/O_Globo</td>\n",
       "      <td>2093729.0</td>\n",
       "      <td>O Globo</td>\n",
       "      <td>2879</td>\n",
       "      <td>471</td>\n",
       "      <td>[Sao Paulo, Mario Covas, Banespa, O Globo]</td>\n",
       "      <td>o globo</td>\n",
       "      <td>[2093729]</td>\n",
       "      <td>[970729]</td>\n",
       "      <td>[O_Globo]</td>\n",
       "      <td>[1.0]</td>\n",
       "    </tr>\n",
       "  </tbody>\n",
       "</table>\n",
       "</div>"
      ],
      "text/plain": [
       "      mention full_mention                                   wikipedia_URL  \\\n",
       "12038       B    Sao Paulo  http://en.wikipedia.org/wiki/São_Paulo_(state)   \n",
       "12039       I    Sao Paulo  http://en.wikipedia.org/wiki/São_Paulo_(state)   \n",
       "12040       B  Mario Covas        http://en.wikipedia.org/wiki/Mário_Covas   \n",
       "12041       I  Mario Covas        http://en.wikipedia.org/wiki/Mário_Covas   \n",
       "12042       B    Sao Paulo  http://en.wikipedia.org/wiki/São_Paulo_(state)   \n",
       "12043       I    Sao Paulo  http://en.wikipedia.org/wiki/São_Paulo_(state)   \n",
       "12044       B      Banespa                                             NaN   \n",
       "12045       B      O Globo            http://en.wikipedia.org/wiki/O_Globo   \n",
       "12046       I      O Globo            http://en.wikipedia.org/wiki/O_Globo   \n",
       "\n",
       "       wikipedia_page_ID    wikipedia_title  sentence_id  doc_id  \\\n",
       "12038           229422.0  São Paulo (state)         2879     471   \n",
       "12039           229422.0  São Paulo (state)         2879     471   \n",
       "12040          3386439.0        Mário Covas         2879     471   \n",
       "12041          3386439.0        Mário Covas         2879     471   \n",
       "12042           229422.0  São Paulo (state)         2879     471   \n",
       "12043           229422.0  São Paulo (state)         2879     471   \n",
       "12044                NaN                NaN         2879     471   \n",
       "12045          2093729.0            O Globo         2879     471   \n",
       "12046          2093729.0            O Globo         2879     471   \n",
       "\n",
       "                               congruent_mentions norm_full_mention  \\\n",
       "12038  [Sao Paulo, Mario Covas, Banespa, O Globo]         sao paulo   \n",
       "12039  [Sao Paulo, Mario Covas, Banespa, O Globo]         sao paulo   \n",
       "12040  [Sao Paulo, Mario Covas, Banespa, O Globo]       mario covas   \n",
       "12041  [Sao Paulo, Mario Covas, Banespa, O Globo]       mario covas   \n",
       "12042  [Sao Paulo, Mario Covas, Banespa, O Globo]         sao paulo   \n",
       "12043  [Sao Paulo, Mario Covas, Banespa, O Globo]         sao paulo   \n",
       "12044  [Sao Paulo, Mario Covas, Banespa, O Globo]           banespa   \n",
       "12045  [Sao Paulo, Mario Covas, Banespa, O Globo]           o globo   \n",
       "12046  [Sao Paulo, Mario Covas, Banespa, O Globo]           o globo   \n",
       "\n",
       "        candidate_pool_page_ids candidate_pool_item_ids  \\\n",
       "12038  [390875, 229422, 187274]       [174, 175, 38568]   \n",
       "12039  [390875, 229422, 187274]       [174, 175, 38568]   \n",
       "12040                 [3386439]               [1669473]   \n",
       "12041                 [3386439]               [1669473]   \n",
       "12042  [390875, 229422, 187274]       [174, 175, 38568]   \n",
       "12043  [390875, 229422, 187274]       [174, 175, 38568]   \n",
       "12044       [32820442, 3752752]       [4854074, 169420]   \n",
       "12045                 [2093729]                [970729]   \n",
       "12046                 [2093729]                [970729]   \n",
       "\n",
       "                              candidate_pool_titles  \\\n",
       "12038  [São_Paulo, São_Paulo_(state), São_Paulo_FC]   \n",
       "12039  [São_Paulo, São_Paulo_(state), São_Paulo_FC]   \n",
       "12040                                 [Mário_Covas]   \n",
       "12041                                 [Mário_Covas]   \n",
       "12042  [São_Paulo, São_Paulo_(state), São_Paulo_FC]   \n",
       "12043  [São_Paulo, São_Paulo_(state), São_Paulo_FC]   \n",
       "12044      [Banco_Banespa, Altino_Arantes_Building]   \n",
       "12045                                     [O_Globo]   \n",
       "12046                                     [O_Globo]   \n",
       "\n",
       "                       candidate_pool_likelihoods  \n",
       "12038  [0.9563318999999999, 0.0334789, 0.0101892]  \n",
       "12039  [0.9563318999999999, 0.0334789, 0.0101892]  \n",
       "12040                                       [1.0]  \n",
       "12041                                       [1.0]  \n",
       "12042  [0.9563318999999999, 0.0334789, 0.0101892]  \n",
       "12043  [0.9563318999999999, 0.0334789, 0.0101892]  \n",
       "12044            [0.8571429, 0.14285710000000001]  \n",
       "12045                                       [1.0]  \n",
       "12046                                       [1.0]  "
      ]
     },
     "execution_count": 434,
     "metadata": {},
     "output_type": "execute_result"
    }
   ],
   "source": [
    "# See original dataframe\n",
    "predictions[predictions['sentence_id'] == rand_sid]"
   ]
  },
  {
   "cell_type": "code",
   "execution_count": 435,
   "metadata": {},
   "outputs": [
    {
     "data": {
      "text/plain": [
       "['São_Paulo', 'São_Paulo_(state)', 'São_Paulo_FC']"
      ]
     },
     "execution_count": 435,
     "metadata": {},
     "output_type": "execute_result"
    }
   ],
   "source": [
    "# See full candidate pool\n",
    "predictions[predictions['sentence_id'] == rand_sid]['candidate_pool_titles'].iloc[1]"
   ]
  },
  {
   "cell_type": "markdown",
   "metadata": {},
   "source": [
    "### Calculate with *Popularity* Predictions Known True Only"
   ]
  },
  {
   "cell_type": "code",
   "execution_count": 316,
   "metadata": {
    "scrolled": false
   },
   "outputs": [
    {
     "data": {
      "text/html": [
       "<div>\n",
       "<style scoped>\n",
       "    .dataframe tbody tr th:only-of-type {\n",
       "        vertical-align: middle;\n",
       "    }\n",
       "\n",
       "    .dataframe tbody tr th {\n",
       "        vertical-align: top;\n",
       "    }\n",
       "\n",
       "    .dataframe thead th {\n",
       "        text-align: right;\n",
       "    }\n",
       "</style>\n",
       "<table border=\"1\" class=\"dataframe\">\n",
       "  <thead>\n",
       "    <tr style=\"text-align: right;\">\n",
       "      <th></th>\n",
       "      <th>mention</th>\n",
       "      <th>full_mention</th>\n",
       "      <th>wikipedia_URL</th>\n",
       "      <th>wikipedia_page_ID</th>\n",
       "      <th>wikipedia_title</th>\n",
       "      <th>sentence_id</th>\n",
       "      <th>doc_id</th>\n",
       "      <th>congruent_mentions</th>\n",
       "      <th>norm_full_mention</th>\n",
       "      <th>candidate_pool_page_ids</th>\n",
       "      <th>candidate_pool_item_ids</th>\n",
       "      <th>candidate_pool_titles</th>\n",
       "      <th>candidate_pool_likelihoods</th>\n",
       "    </tr>\n",
       "  </thead>\n",
       "  <tbody>\n",
       "    <tr>\n",
       "      <th>0</th>\n",
       "      <td>B</td>\n",
       "      <td>EU</td>\n",
       "      <td>NaN</td>\n",
       "      <td>NaN</td>\n",
       "      <td>NaN</td>\n",
       "      <td>0</td>\n",
       "      <td>0</td>\n",
       "      <td>['EU', 'German', 'British']</td>\n",
       "      <td>eu</td>\n",
       "      <td>[9317, 9239, 9891, 9472, 10890716, 2780146, 18...</td>\n",
       "      <td>[458, 46, 45003, 4916, 185441, 932442, 8268, 8...</td>\n",
       "      <td>['European_Union', 'Europe', 'Entropy', 'Euro'...</td>\n",
       "      <td>[0.2237612, 0.2008411, 0.0962244, 0.0766248, 0...</td>\n",
       "    </tr>\n",
       "    <tr>\n",
       "      <th>1</th>\n",
       "      <td>B</td>\n",
       "      <td>German</td>\n",
       "      <td>http://en.wikipedia.org/wiki/Germany</td>\n",
       "      <td>11867.0</td>\n",
       "      <td>Germany</td>\n",
       "      <td>0</td>\n",
       "      <td>0</td>\n",
       "      <td>['EU', 'German', 'British']</td>\n",
       "      <td>german</td>\n",
       "      <td>[11867, 11867, 27318, 21148, 21212, 21212, 269...</td>\n",
       "      <td>[183, 183, 334, 55, 7318, 7318, 40, 12548, 825...</td>\n",
       "      <td>['Germany', 'Germany', 'Singapore', 'Netherlan...</td>\n",
       "      <td>[0.0494115, 0.0494115, 0.0485629, 0.0390487, 0...</td>\n",
       "    </tr>\n",
       "    <tr>\n",
       "      <th>2</th>\n",
       "      <td>B</td>\n",
       "      <td>British</td>\n",
       "      <td>http://en.wikipedia.org/wiki/United_Kingdom</td>\n",
       "      <td>31717.0</td>\n",
       "      <td>United Kingdom</td>\n",
       "      <td>0</td>\n",
       "      <td>0</td>\n",
       "      <td>['EU', 'German', 'British']</td>\n",
       "      <td>british</td>\n",
       "      <td>[3434750, 31717, 31717, 19344654, 26061, 85699...</td>\n",
       "      <td>[30, 145, 145, 9531, 172771, 1860, 21, 22, 868...</td>\n",
       "      <td>['United_States', 'United_Kingdom', 'United_Ki...</td>\n",
       "      <td>[0.115186, 0.0611816, 0.0611816, 0.0294143, 0....</td>\n",
       "    </tr>\n",
       "    <tr>\n",
       "      <th>3</th>\n",
       "      <td>B</td>\n",
       "      <td>Peter Blackburn</td>\n",
       "      <td>NaN</td>\n",
       "      <td>NaN</td>\n",
       "      <td>NaN</td>\n",
       "      <td>1</td>\n",
       "      <td>0</td>\n",
       "      <td>['Peter Blackburn', 'BRUSSELS', 'European Comm...</td>\n",
       "      <td>peter blackburn</td>\n",
       "      <td>[56783206, 56873217, 9643132]</td>\n",
       "      <td>[2073954, 26634508, 7172840]</td>\n",
       "      <td>['Peter_Blackburn_(badminton)', 'Peter_Blackbu...</td>\n",
       "      <td>[0.6296296, 0.3703704, 0.0]</td>\n",
       "    </tr>\n",
       "    <tr>\n",
       "      <th>4</th>\n",
       "      <td>I</td>\n",
       "      <td>Peter Blackburn</td>\n",
       "      <td>NaN</td>\n",
       "      <td>NaN</td>\n",
       "      <td>NaN</td>\n",
       "      <td>1</td>\n",
       "      <td>0</td>\n",
       "      <td>['Peter Blackburn', 'BRUSSELS', 'European Comm...</td>\n",
       "      <td>peter blackburn</td>\n",
       "      <td>[56783206, 56873217, 9643132]</td>\n",
       "      <td>[2073954, 26634508, 7172840]</td>\n",
       "      <td>['Peter_Blackburn_(badminton)', 'Peter_Blackbu...</td>\n",
       "      <td>[0.6296296, 0.3703704, 0.0]</td>\n",
       "    </tr>\n",
       "  </tbody>\n",
       "</table>\n",
       "</div>"
      ],
      "text/plain": [
       "  mention     full_mention                                wikipedia_URL  \\\n",
       "0       B               EU                                          NaN   \n",
       "1       B           German         http://en.wikipedia.org/wiki/Germany   \n",
       "2       B          British  http://en.wikipedia.org/wiki/United_Kingdom   \n",
       "3       B  Peter Blackburn                                          NaN   \n",
       "4       I  Peter Blackburn                                          NaN   \n",
       "\n",
       "   wikipedia_page_ID wikipedia_title  sentence_id  doc_id  \\\n",
       "0                NaN             NaN            0       0   \n",
       "1            11867.0         Germany            0       0   \n",
       "2            31717.0  United Kingdom            0       0   \n",
       "3                NaN             NaN            1       0   \n",
       "4                NaN             NaN            1       0   \n",
       "\n",
       "                                  congruent_mentions norm_full_mention  \\\n",
       "0                        ['EU', 'German', 'British']                eu   \n",
       "1                        ['EU', 'German', 'British']            german   \n",
       "2                        ['EU', 'German', 'British']           british   \n",
       "3  ['Peter Blackburn', 'BRUSSELS', 'European Comm...   peter blackburn   \n",
       "4  ['Peter Blackburn', 'BRUSSELS', 'European Comm...   peter blackburn   \n",
       "\n",
       "                             candidate_pool_page_ids  \\\n",
       "0  [9317, 9239, 9891, 9472, 10890716, 2780146, 18...   \n",
       "1  [11867, 11867, 27318, 21148, 21212, 21212, 269...   \n",
       "2  [3434750, 31717, 31717, 19344654, 26061, 85699...   \n",
       "3                      [56783206, 56873217, 9643132]   \n",
       "4                      [56783206, 56873217, 9643132]   \n",
       "\n",
       "                             candidate_pool_item_ids  \\\n",
       "0  [458, 46, 45003, 4916, 185441, 932442, 8268, 8...   \n",
       "1  [183, 183, 334, 55, 7318, 7318, 40, 12548, 825...   \n",
       "2  [30, 145, 145, 9531, 172771, 1860, 21, 22, 868...   \n",
       "3                       [2073954, 26634508, 7172840]   \n",
       "4                       [2073954, 26634508, 7172840]   \n",
       "\n",
       "                               candidate_pool_titles  \\\n",
       "0  ['European_Union', 'Europe', 'Entropy', 'Euro'...   \n",
       "1  ['Germany', 'Germany', 'Singapore', 'Netherlan...   \n",
       "2  ['United_States', 'United_Kingdom', 'United_Ki...   \n",
       "3  ['Peter_Blackburn_(badminton)', 'Peter_Blackbu...   \n",
       "4  ['Peter_Blackburn_(badminton)', 'Peter_Blackbu...   \n",
       "\n",
       "                          candidate_pool_likelihoods  \n",
       "0  [0.2237612, 0.2008411, 0.0962244, 0.0766248, 0...  \n",
       "1  [0.0494115, 0.0494115, 0.0485629, 0.0390487, 0...  \n",
       "2  [0.115186, 0.0611816, 0.0611816, 0.0294143, 0....  \n",
       "3                        [0.6296296, 0.3703704, 0.0]  \n",
       "4                        [0.6296296, 0.3703704, 0.0]  "
      ]
     },
     "execution_count": 316,
     "metadata": {},
     "output_type": "execute_result"
    }
   ],
   "source": [
    "# Load data\n",
    "predictions_pop = pd.read_csv(os.path.join(preds_path, \"anchortext_popularity.csv\"), delimiter=\",\")\n",
    "predictions_pop.head(5)"
   ]
  },
  {
   "cell_type": "code",
   "execution_count": 343,
   "metadata": {},
   "outputs": [
    {
     "name": "stdout",
     "output_type": "stream",
     "text": [
      "Before ['Peter Blackburn', 'BRUSSELS', 'European Commission', 'German', 'British']\n",
      "After ['Peter Blackburn', 'BRUSSELS', 'European Commission', 'German', 'British']\n",
      "Before [56783206, 56873217, 9643132]\n",
      "After [56783206, 56873217, 9643132]\n",
      "Before [2073954, 26634508, 7172840]\n",
      "After [2073954, 26634508, 7172840]\n",
      "Before ['Peter_Blackburn_(badminton)', 'Peter_Blackburn_(MP)', 'Peter_Blackburn_(bishop)']\n",
      "After ['Peter_Blackburn_(badminton)', 'Peter_Blackburn_(MP)', 'Peter_Blackburn_(bishop)']\n",
      "Before [0.6296296, 0.3703704, 0.0]\n",
      "After [0.6296296, 0.3703704, 0.0]\n",
      "CPU times: user 683 ms, sys: 306 ms, total: 990 ms\n",
      "Wall time: 1 s\n"
     ]
    }
   ],
   "source": [
    "%%time\n",
    "\n",
    "### Apply defined function to entire dataframe for all candidate pool columns\n",
    "\n",
    "column = 'congruent_mentions'\n",
    "print(\"Before\", predictions_pop[column][3])\n",
    "parsed_candidate_pool = predictions_pop[column].apply(parse_list_string, value_type=str)\n",
    "predictions_pop[column] = parsed_candidate_pool\n",
    "print(\"After\", predictions_pop[column][3])\n",
    "\n",
    "column = 'candidate_pool_page_ids'\n",
    "print(\"Before\", predictions_pop[column][3])\n",
    "parsed_candidate_pool = predictions_pop[column].apply(parse_list_string, value_type=int)\n",
    "predictions_pop[column] = parsed_candidate_pool\n",
    "print(\"After\", predictions_pop[column][3])\n",
    "\n",
    "\n",
    "column = 'candidate_pool_item_ids'\n",
    "print(\"Before\", predictions_pop[column][3])\n",
    "parsed_candidate_pool = predictions_pop[column].apply(parse_list_string, value_type=int)\n",
    "predictions_pop[column] = parsed_candidate_pool\n",
    "print(\"After\", predictions_pop[column][3])\n",
    "\n",
    "\n",
    "column = 'candidate_pool_titles'\n",
    "print(\"Before\", predictions_pop[column][3])\n",
    "parsed_candidate_pool = predictions_pop[column].apply(parse_list_string, value_type=str)\n",
    "predictions_pop[column] = parsed_candidate_pool\n",
    "print(\"After\", predictions_pop[column][3])\n",
    "\n",
    "column = 'candidate_pool_likelihoods'\n",
    "print(\"Before\", predictions_pop[column][3])\n",
    "parsed_candidate_pool = predictions_pop[column].apply(parse_list_string, value_type=float)\n",
    "predictions_pop[column] = parsed_candidate_pool\n",
    "print(\"After\", predictions_pop[column][3])"
   ]
  },
  {
   "cell_type": "code",
   "execution_count": 344,
   "metadata": {},
   "outputs": [
    {
     "name": "stdout",
     "output_type": "stream",
     "text": [
      "22257\n"
     ]
    }
   ],
   "source": [
    "# Calculate length of input with known true values\n",
    "known_true = sum(predictions_pop['wikipedia_page_ID'].notnull())\n",
    "print(known_true)"
   ]
  },
  {
   "cell_type": "code",
   "execution_count": 345,
   "metadata": {},
   "outputs": [
    {
     "data": {
      "text/html": [
       "<div>\n",
       "<style scoped>\n",
       "    .dataframe tbody tr th:only-of-type {\n",
       "        vertical-align: middle;\n",
       "    }\n",
       "\n",
       "    .dataframe tbody tr th {\n",
       "        vertical-align: top;\n",
       "    }\n",
       "\n",
       "    .dataframe thead th {\n",
       "        text-align: right;\n",
       "    }\n",
       "</style>\n",
       "<table border=\"1\" class=\"dataframe\">\n",
       "  <thead>\n",
       "    <tr style=\"text-align: right;\">\n",
       "      <th></th>\n",
       "      <th>mention</th>\n",
       "      <th>full_mention</th>\n",
       "      <th>wikipedia_URL</th>\n",
       "      <th>wikipedia_page_ID</th>\n",
       "      <th>wikipedia_title</th>\n",
       "      <th>sentence_id</th>\n",
       "      <th>doc_id</th>\n",
       "      <th>congruent_mentions</th>\n",
       "      <th>norm_full_mention</th>\n",
       "      <th>candidate_pool_page_ids</th>\n",
       "      <th>candidate_pool_item_ids</th>\n",
       "      <th>candidate_pool_titles</th>\n",
       "      <th>candidate_pool_likelihoods</th>\n",
       "    </tr>\n",
       "  </thead>\n",
       "  <tbody>\n",
       "    <tr>\n",
       "      <th>0</th>\n",
       "      <td>B</td>\n",
       "      <td>EU</td>\n",
       "      <td>NaN</td>\n",
       "      <td>NaN</td>\n",
       "      <td>NaN</td>\n",
       "      <td>0</td>\n",
       "      <td>0</td>\n",
       "      <td>[EU, German, British]</td>\n",
       "      <td>eu</td>\n",
       "      <td>[9317, 9239, 9891, 9472, 10890716, 2780146, 18...</td>\n",
       "      <td>[458, 46, 45003, 4916, 185441, 932442, 8268, 8...</td>\n",
       "      <td>[European_Union, Europe, Entropy, Euro, Member...</td>\n",
       "      <td>[0.2237612, 0.2008411, 0.0962244, 0.0766248, 0...</td>\n",
       "    </tr>\n",
       "    <tr>\n",
       "      <th>1</th>\n",
       "      <td>B</td>\n",
       "      <td>German</td>\n",
       "      <td>http://en.wikipedia.org/wiki/Germany</td>\n",
       "      <td>11867.0</td>\n",
       "      <td>Germany</td>\n",
       "      <td>0</td>\n",
       "      <td>0</td>\n",
       "      <td>[EU, German, British]</td>\n",
       "      <td>german</td>\n",
       "      <td>[11867, 11867, 27318, 21148, 21212, 21212, 269...</td>\n",
       "      <td>[183, 183, 334, 55, 7318, 7318, 40, 12548, 825...</td>\n",
       "      <td>[Germany, Germany, Singapore, Netherlands, Naz...</td>\n",
       "      <td>[0.0494115, 0.0494115, 0.0485629, 0.0390487, 0...</td>\n",
       "    </tr>\n",
       "    <tr>\n",
       "      <th>2</th>\n",
       "      <td>B</td>\n",
       "      <td>British</td>\n",
       "      <td>http://en.wikipedia.org/wiki/United_Kingdom</td>\n",
       "      <td>31717.0</td>\n",
       "      <td>United Kingdom</td>\n",
       "      <td>0</td>\n",
       "      <td>0</td>\n",
       "      <td>[EU, German, British]</td>\n",
       "      <td>british</td>\n",
       "      <td>[3434750, 31717, 31717, 19344654, 26061, 85699...</td>\n",
       "      <td>[30, 145, 145, 9531, 172771, 1860, 21, 22, 868...</td>\n",
       "      <td>[United_States, United_Kingdom, United_Kingdom...</td>\n",
       "      <td>[0.115186, 0.0611816, 0.0611816, 0.0294143, 0....</td>\n",
       "    </tr>\n",
       "  </tbody>\n",
       "</table>\n",
       "</div>"
      ],
      "text/plain": [
       "  mention full_mention                                wikipedia_URL  \\\n",
       "0       B           EU                                          NaN   \n",
       "1       B       German         http://en.wikipedia.org/wiki/Germany   \n",
       "2       B      British  http://en.wikipedia.org/wiki/United_Kingdom   \n",
       "\n",
       "   wikipedia_page_ID wikipedia_title  sentence_id  doc_id  \\\n",
       "0                NaN             NaN            0       0   \n",
       "1            11867.0         Germany            0       0   \n",
       "2            31717.0  United Kingdom            0       0   \n",
       "\n",
       "      congruent_mentions norm_full_mention  \\\n",
       "0  [EU, German, British]                eu   \n",
       "1  [EU, German, British]            german   \n",
       "2  [EU, German, British]           british   \n",
       "\n",
       "                             candidate_pool_page_ids  \\\n",
       "0  [9317, 9239, 9891, 9472, 10890716, 2780146, 18...   \n",
       "1  [11867, 11867, 27318, 21148, 21212, 21212, 269...   \n",
       "2  [3434750, 31717, 31717, 19344654, 26061, 85699...   \n",
       "\n",
       "                             candidate_pool_item_ids  \\\n",
       "0  [458, 46, 45003, 4916, 185441, 932442, 8268, 8...   \n",
       "1  [183, 183, 334, 55, 7318, 7318, 40, 12548, 825...   \n",
       "2  [30, 145, 145, 9531, 172771, 1860, 21, 22, 868...   \n",
       "\n",
       "                               candidate_pool_titles  \\\n",
       "0  [European_Union, Europe, Entropy, Euro, Member...   \n",
       "1  [Germany, Germany, Singapore, Netherlands, Naz...   \n",
       "2  [United_States, United_Kingdom, United_Kingdom...   \n",
       "\n",
       "                          candidate_pool_likelihoods  \n",
       "0  [0.2237612, 0.2008411, 0.0962244, 0.0766248, 0...  \n",
       "1  [0.0494115, 0.0494115, 0.0485629, 0.0390487, 0...  \n",
       "2  [0.115186, 0.0611816, 0.0611816, 0.0294143, 0....  "
      ]
     },
     "metadata": {},
     "output_type": "display_data"
    },
    {
     "name": "stdout",
     "output_type": "stream",
     "text": [
      "Congruent Mentions:  ['EU', 'German', 'British']\n",
      "Congruent Mentions as numbers:  [0 1 2]\n",
      "['European_Union', 'Europe', 'Entropy', 'Euro', 'Member_state_of_the_European_Union', 'European_emission_standards', 'Eurozone', 'European_Parliament', 'European_Commission', 'Europe,_the_Middle_East_and_Africa']\n",
      "Failed Wikipedia2Vec Entity Vector Queries: 0\n",
      "['Germany', 'Germany', 'Singapore', 'Netherlands', 'Nazi_Germany', 'Nazi_Germany', 'Austria', 'Holy_Roman_Empire', 'Bundesliga', 'Age_of_Enlightenment']\n",
      "Failed Wikipedia2Vec Entity Vector Queries: 0\n",
      "['United_States', 'United_Kingdom', 'United_Kingdom', 'BBC', 'Royal_Navy', 'English_language', 'England', 'Scotland', 'British_Empire', 'Commonwealth_of_Nations']\n",
      "Failed Wikipedia2Vec Entity Vector Queries: 0\n",
      "dict_keys([0, 1, 2])\n",
      "10\n",
      "10\n",
      "10\n",
      "Mentions with Vectors:  dict_keys([0, 1, 2])\n",
      "Comparing mentions 0 & 1\n",
      "Comparing mentions 0 & 2\n",
      "Comparing mentions 1 & 2\n",
      "First-Level Congruence Keys:  dict_keys([0, 1])\n",
      "Comparing mentions 0 & 1\n",
      "Comparing mentions 0 & 2\n",
      "Comparing mentions 1 & 2\n",
      "Comparing 0 & 1\n",
      "Congruent Pair:  ((1, 3), 0.05630195596694946)\n",
      "Current Most Congruent:  (((None, None), 0.0), (0, 0))\n",
      "Comparing 0 & 2\n",
      "Congruent Pair:  ((1, 0), 0.07658241383750587)\n",
      "Current Most Congruent:  (((1, 3), 0.05630195596694946), (0, 1))\n",
      "Comparing 1 & 2\n",
      "Congruent Pair:  ((0, 0), 0.032764191008694474)\n",
      "Current Most Congruent:  (((1, 0), 0.07658241383750587), (0, 2))\n",
      "Final Most Congruent Pair:  (((1, 0), 0.07658241383750587), (0, 2))\n",
      "(((1, 0), 0.07658241383750587), (0, 2))\n",
      "[1] dict_keys([0, 2])\n",
      "Comparing 0 & 1\n",
      "Congruent Pair:  ((1, 3), 0.05630195596694946)\n",
      "Current Most Congruent:  (((None, None), 0.0), (0, 0))\n",
      "Comparing 1 & 2\n",
      "Congruent Pair:  ((0, 0), 0.032764191008694474)\n",
      "Current Most Congruent:  (((1, 3), 0.05630195596694946), (0, 1))\n",
      "Final Most Congruent Pair:  (((1, 3), 0.05630195596694946), (0, 1))\n",
      "[] dict_keys([0, 2, 1])\n",
      "{0: 1, 2: 0, 1: 3}\n",
      "0 1\n",
      "EU Europe 9239\n",
      "2 0\n",
      "British United_States 3434750\n",
      "1 3\n",
      "German Netherlands 21148\n",
      "{'EU': ('Europe', 9239), 'British': ('United_States', 3434750), 'German': ('Netherlands', 21148)}\n",
      "CPU times: user 26.4 ms, sys: 10 ms, total: 36.4 ms\n",
      "Wall time: 36.4 ms\n"
     ]
    }
   ],
   "source": [
    "%%time\n",
    "# Test out function\n",
    "congruent_predictions = get_congruent_predictions(sentence_id=0, dataframe=predictions_pop, verbose=True)\n",
    "print(congruent_predictions)"
   ]
  },
  {
   "cell_type": "code",
   "execution_count": 346,
   "metadata": {},
   "outputs": [
    {
     "name": "stderr",
     "output_type": "stream",
     "text": [
      "100%|██████████| 4516/4516 [02:34<00:00, 29.14it/s] \n"
     ]
    }
   ],
   "source": [
    "# Iterate over whole dataframe to produce mention predictions for each sentence\n",
    "dataframe_predictions_pop = {}\n",
    "for sid in tqdm(predictions_pop['sentence_id'].unique()):\n",
    "    dataframe_predictions_pop[sid] = get_congruent_predictions(sid, dataframe=predictions_pop, verbose=False)"
   ]
  },
  {
   "cell_type": "code",
   "execution_count": 347,
   "metadata": {},
   "outputs": [
    {
     "name": "stderr",
     "output_type": "stream",
     "text": [
      "100%|██████████| 29312/29312 [00:03<00:00, 7468.39it/s]"
     ]
    },
    {
     "name": "stdout",
     "output_type": "stream",
     "text": [
      "After congruence, we have achieved 57.959% accuracy comparing title.\n",
      "After congruence, we have achieved 62.066% accuracy comparing page ID.\n"
     ]
    },
    {
     "name": "stderr",
     "output_type": "stream",
     "text": [
      "\n"
     ]
    }
   ],
   "source": [
    "# Iterate over whole dataframe to calculate accuracy\n",
    "accurate_predictions_title = 0\n",
    "accurate_predictions_id = 0\n",
    "for row in tqdm(range(len(predictions_pop))):\n",
    "    mention_df = predictions_pop.iloc[row]\n",
    "    sid = mention_df['sentence_id']\n",
    "    fm = mention_df['full_mention']\n",
    "    title = mention_df['wikipedia_title']\n",
    "    page_id = mention_df['wikipedia_page_ID']\n",
    "    if page_id is None:\n",
    "        pass\n",
    "    else:\n",
    "        pred = dataframe_predictions_pop[sid][fm]\n",
    "        norm_pred_title = normalize_text(pred[0])\n",
    "        pred_page_id = pred[1]\n",
    "    #     print(fm, sid, \"||| True:\", title, \"==? Pred:\", norm_pred_title, \"|||\", norm_pred_title==title,\\\n",
    "    #                  \"||| True ID: \", page_id, \"==? Pred:\", pred_page_id, \"|||\", pred_page_id==page_id)\n",
    "        if title == norm_pred_title:\n",
    "            accurate_predictions_title += 1\n",
    "        if page_id == pred_page_id:\n",
    "            accurate_predictions_id += 1\n",
    "print(\"After congruence, we have achieved {}% accuracy comparing title.\".format(round(accurate_predictions_title/known_true*100, 3)))\n",
    "print(\"After congruence, we have achieved {}% accuracy comparing page ID.\".format(round(accurate_predictions_id/known_true*100, 3)))"
   ]
  },
  {
   "cell_type": "code",
   "execution_count": null,
   "metadata": {},
   "outputs": [],
   "source": []
  },
  {
   "cell_type": "code",
   "execution_count": null,
   "metadata": {},
   "outputs": [],
   "source": []
  },
  {
   "cell_type": "code",
   "execution_count": null,
   "metadata": {},
   "outputs": [],
   "source": []
  },
  {
   "cell_type": "code",
   "execution_count": null,
   "metadata": {},
   "outputs": [],
   "source": []
  },
  {
   "cell_type": "code",
   "execution_count": null,
   "metadata": {},
   "outputs": [],
   "source": []
  },
  {
   "cell_type": "code",
   "execution_count": null,
   "metadata": {},
   "outputs": [],
   "source": []
  },
  {
   "cell_type": "code",
   "execution_count": null,
   "metadata": {},
   "outputs": [],
   "source": []
  },
  {
   "cell_type": "code",
   "execution_count": null,
   "metadata": {},
   "outputs": [],
   "source": []
  },
  {
   "cell_type": "code",
   "execution_count": null,
   "metadata": {},
   "outputs": [],
   "source": []
  },
  {
   "cell_type": "markdown",
   "metadata": {},
   "source": [
    "# Logical Flow Demonstration\n",
    "\n",
    "The cells below have been included as a more easily understood logical flow to understand how we designed the recursive congruence algorithm for an arbitrary length of full mentions in a sentence. We manually select a sentence and work through that. This is identical to the above but with more printed out breaks."
   ]
  },
  {
   "cell_type": "markdown",
   "metadata": {},
   "source": [
    "#### Known Oddities\n",
    "1. Test with sentence_id == 1. We only return unique mentions in a single sentence. Is that ok?"
   ]
  },
  {
   "cell_type": "code",
   "execution_count": 21,
   "metadata": {},
   "outputs": [
    {
     "data": {
      "text/html": [
       "<div>\n",
       "<style scoped>\n",
       "    .dataframe tbody tr th:only-of-type {\n",
       "        vertical-align: middle;\n",
       "    }\n",
       "\n",
       "    .dataframe tbody tr th {\n",
       "        vertical-align: top;\n",
       "    }\n",
       "\n",
       "    .dataframe thead th {\n",
       "        text-align: right;\n",
       "    }\n",
       "</style>\n",
       "<table border=\"1\" class=\"dataframe\">\n",
       "  <thead>\n",
       "    <tr style=\"text-align: right;\">\n",
       "      <th></th>\n",
       "      <th>mention</th>\n",
       "      <th>full_mention</th>\n",
       "      <th>wikipedia_URL</th>\n",
       "      <th>wikipedia_page_ID</th>\n",
       "      <th>wikipedia_title</th>\n",
       "      <th>sentence_id</th>\n",
       "      <th>doc_id</th>\n",
       "      <th>congruent_mentions</th>\n",
       "      <th>norm_full_mention</th>\n",
       "      <th>candidate_pool_page_ids</th>\n",
       "      <th>candidate_pool_item_ids</th>\n",
       "      <th>candidate_pool_titles</th>\n",
       "      <th>candidate_pool_likelihoods</th>\n",
       "    </tr>\n",
       "  </thead>\n",
       "  <tbody>\n",
       "    <tr>\n",
       "      <th>0</th>\n",
       "      <td>B</td>\n",
       "      <td>Peter Blackburn</td>\n",
       "      <td>NaN</td>\n",
       "      <td>NaN</td>\n",
       "      <td>NaN</td>\n",
       "      <td>1</td>\n",
       "      <td>0</td>\n",
       "      <td>[Peter Blackburn, BRUSSELS, European Commissio...</td>\n",
       "      <td>peter blackburn</td>\n",
       "      <td>[56783206, 9643132, 56873217]</td>\n",
       "      <td>[2073954, 7172840, 26634508]</td>\n",
       "      <td>[Peter_Blackburn_(badminton), Peter_Blackburn_...</td>\n",
       "      <td>[0.5, 0.3, 0.2]</td>\n",
       "    </tr>\n",
       "    <tr>\n",
       "      <th>1</th>\n",
       "      <td>B</td>\n",
       "      <td>BRUSSELS</td>\n",
       "      <td>http://en.wikipedia.org/wiki/Brussels</td>\n",
       "      <td>3708.0</td>\n",
       "      <td>Brussels</td>\n",
       "      <td>1</td>\n",
       "      <td>0</td>\n",
       "      <td>[Peter Blackburn, BRUSSELS, European Commissio...</td>\n",
       "      <td>brussels</td>\n",
       "      <td>[3708, 575501, 1437181, 269753, 4152470]</td>\n",
       "      <td>[240, 239, 1050331, 28934, 800587]</td>\n",
       "      <td>[Brussels, City_of_Brussels, R.W.D.M._Brussels...</td>\n",
       "      <td>[0.9631528, 0.011514700000000001, 0.0037143999...</td>\n",
       "    </tr>\n",
       "    <tr>\n",
       "      <th>2</th>\n",
       "      <td>B</td>\n",
       "      <td>European Commission</td>\n",
       "      <td>http://en.wikipedia.org/wiki/European_Commission</td>\n",
       "      <td>9974.0</td>\n",
       "      <td>European Commission</td>\n",
       "      <td>1</td>\n",
       "      <td>0</td>\n",
       "      <td>[Peter Blackburn, BRUSSELS, European Commissio...</td>\n",
       "      <td>european commission</td>\n",
       "      <td>[9974, 24468, 1130631, 1549462, 656283]</td>\n",
       "      <td>[8880, 8882, 388354, 1780232, 2661677]</td>\n",
       "      <td>[European_Commission, President_of_the_Europea...</td>\n",
       "      <td>[0.9959089, 0.0008894, 0.0005336000000000001, ...</td>\n",
       "    </tr>\n",
       "    <tr>\n",
       "      <th>3</th>\n",
       "      <td>B</td>\n",
       "      <td>German</td>\n",
       "      <td>http://en.wikipedia.org/wiki/Germany</td>\n",
       "      <td>11867.0</td>\n",
       "      <td>Germany</td>\n",
       "      <td>1</td>\n",
       "      <td>0</td>\n",
       "      <td>[Peter Blackburn, BRUSSELS, European Commissio...</td>\n",
       "      <td>german</td>\n",
       "      <td>[11867, 11884, 152735, 21212, 12674]</td>\n",
       "      <td>[183, 188, 42884, 7318, 43287]</td>\n",
       "      <td>[Germany, German_language, Germans, Nazi_Germa...</td>\n",
       "      <td>[0.4192066, 0.2893363, 0.1470461, 0.03832, 0.0...</td>\n",
       "    </tr>\n",
       "    <tr>\n",
       "      <th>4</th>\n",
       "      <td>B</td>\n",
       "      <td>British</td>\n",
       "      <td>http://en.wikipedia.org/wiki/United_Kingdom</td>\n",
       "      <td>31717.0</td>\n",
       "      <td>United Kingdom</td>\n",
       "      <td>1</td>\n",
       "      <td>0</td>\n",
       "      <td>[Peter Blackburn, BRUSSELS, European Commissio...</td>\n",
       "      <td>british</td>\n",
       "      <td>[31717, 19097669, 13530298, 4721, 158019]</td>\n",
       "      <td>[145, 842438, 23666, 8680, 161885]</td>\n",
       "      <td>[United_Kingdom, British_people, Great_Britain...</td>\n",
       "      <td>[0.6101255999999999, 0.1146913, 0.0681775, 0.0...</td>\n",
       "    </tr>\n",
       "  </tbody>\n",
       "</table>\n",
       "</div>"
      ],
      "text/plain": [
       "  mention         full_mention  \\\n",
       "0       B      Peter Blackburn   \n",
       "1       B             BRUSSELS   \n",
       "2       B  European Commission   \n",
       "3       B               German   \n",
       "4       B              British   \n",
       "\n",
       "                                      wikipedia_URL  wikipedia_page_ID  \\\n",
       "0                                               NaN                NaN   \n",
       "1             http://en.wikipedia.org/wiki/Brussels             3708.0   \n",
       "2  http://en.wikipedia.org/wiki/European_Commission             9974.0   \n",
       "3              http://en.wikipedia.org/wiki/Germany            11867.0   \n",
       "4       http://en.wikipedia.org/wiki/United_Kingdom            31717.0   \n",
       "\n",
       "       wikipedia_title  sentence_id  doc_id  \\\n",
       "0                  NaN            1       0   \n",
       "1             Brussels            1       0   \n",
       "2  European Commission            1       0   \n",
       "3              Germany            1       0   \n",
       "4       United Kingdom            1       0   \n",
       "\n",
       "                                  congruent_mentions    norm_full_mention  \\\n",
       "0  [Peter Blackburn, BRUSSELS, European Commissio...      peter blackburn   \n",
       "1  [Peter Blackburn, BRUSSELS, European Commissio...             brussels   \n",
       "2  [Peter Blackburn, BRUSSELS, European Commissio...  european commission   \n",
       "3  [Peter Blackburn, BRUSSELS, European Commissio...               german   \n",
       "4  [Peter Blackburn, BRUSSELS, European Commissio...              british   \n",
       "\n",
       "                     candidate_pool_page_ids  \\\n",
       "0              [56783206, 9643132, 56873217]   \n",
       "1   [3708, 575501, 1437181, 269753, 4152470]   \n",
       "2    [9974, 24468, 1130631, 1549462, 656283]   \n",
       "3       [11867, 11884, 152735, 21212, 12674]   \n",
       "4  [31717, 19097669, 13530298, 4721, 158019]   \n",
       "\n",
       "                  candidate_pool_item_ids  \\\n",
       "0            [2073954, 7172840, 26634508]   \n",
       "1      [240, 239, 1050331, 28934, 800587]   \n",
       "2  [8880, 8882, 388354, 1780232, 2661677]   \n",
       "3          [183, 188, 42884, 7318, 43287]   \n",
       "4      [145, 842438, 23666, 8680, 161885]   \n",
       "\n",
       "                               candidate_pool_titles  \\\n",
       "0  [Peter_Blackburn_(badminton), Peter_Blackburn_...   \n",
       "1  [Brussels, City_of_Brussels, R.W.D.M._Brussels...   \n",
       "2  [European_Commission, President_of_the_Europea...   \n",
       "3  [Germany, German_language, Germans, Nazi_Germa...   \n",
       "4  [United_Kingdom, British_people, Great_Britain...   \n",
       "\n",
       "                          candidate_pool_likelihoods  \n",
       "0                                    [0.5, 0.3, 0.2]  \n",
       "1  [0.9631528, 0.011514700000000001, 0.0037143999...  \n",
       "2  [0.9959089, 0.0008894, 0.0005336000000000001, ...  \n",
       "3  [0.4192066, 0.2893363, 0.1470461, 0.03832, 0.0...  \n",
       "4  [0.6101255999999999, 0.1146913, 0.0681775, 0.0...  "
      ]
     },
     "execution_count": 21,
     "metadata": {},
     "output_type": "execute_result"
    }
   ],
   "source": [
    "# Test on manually selected sentence\n",
    "sentence_predictions = predictions[predictions['sentence_id'] == 1].drop_duplicates(['full_mention', 'wikipedia_page_ID', 'sentence_id']).reset_index(drop=True)\n",
    "sentence_predictions"
   ]
  },
  {
   "cell_type": "code",
   "execution_count": 22,
   "metadata": {},
   "outputs": [
    {
     "name": "stdout",
     "output_type": "stream",
     "text": [
      "['Peter Blackburn', 'BRUSSELS', 'European Commission', 'German', 'British']\n"
     ]
    }
   ],
   "source": [
    "# Congruent Mention\n",
    "print(sentence_predictions['congruent_mentions'][0])"
   ]
  },
  {
   "cell_type": "code",
   "execution_count": 23,
   "metadata": {},
   "outputs": [
    {
     "data": {
      "text/plain": [
       "array([0, 1, 2, 3, 4])"
      ]
     },
     "execution_count": 23,
     "metadata": {},
     "output_type": "execute_result"
    }
   ],
   "source": [
    "# Convert to numerical for easier recursive logic later\n",
    "sentence_mention_nums = np.arange(len(sentence_predictions['congruent_mentions'][0]))\n",
    "sentence_mention_nums"
   ]
  },
  {
   "cell_type": "code",
   "execution_count": 24,
   "metadata": {},
   "outputs": [],
   "source": [
    "# Generate candidate lists of vectors\n",
    "def get_candidate_pool_vectors(candidate_pool_titles, verbose=False):\n",
    "    \"\"\"\n",
    "    Function to return entity vectors from Wikipedia2Vec\n",
    "    Takes as input a list of page titles, representing the candidate pool\n",
    "    Normalizes each page title to match necessary input format\n",
    "    Returns entity vector or empty vector if no match\n",
    "    \"\"\"\n",
    "    # Track failed vector queries\n",
    "    no_vector_count = 0\n",
    "    candidate_pool_vectors = []\n",
    "    for candidate in candidate_pool_titles:\n",
    "        candidate = normalize_text(candidate)\n",
    "        try:\n",
    "            candidate_vectors = w2v.get_entity_vector(candidate)\n",
    "        except KeyError:\n",
    "            # Keep empty vector representation to maintain index locations\n",
    "            candidate_vectors = np.zeros(100)\n",
    "            no_vector_count += 1\n",
    "        candidate_pool_vectors.append(candidate_vectors)\n",
    "    \n",
    "    if len(candidate_pool_titles) == 0:\n",
    "        candidate_pool_vectors = [np.zeros(100), np.zeros(100), np.zeros(100)]\n",
    "    \n",
    "    if verbose: print(f\"Failed Wikipedia2Vec Entity Vector Queries: {no_vector_count}\")\n",
    "    return candidate_pool_vectors"
   ]
  },
  {
   "cell_type": "code",
   "execution_count": 25,
   "metadata": {
    "scrolled": true
   },
   "outputs": [
    {
     "name": "stdout",
     "output_type": "stream",
     "text": [
      "Failed Wikipedia2Vec Entity Vector Queries: 2\n",
      "Failed Wikipedia2Vec Entity Vector Queries: 0\n",
      "Failed Wikipedia2Vec Entity Vector Queries: 0\n",
      "Failed Wikipedia2Vec Entity Vector Queries: 0\n",
      "Failed Wikipedia2Vec Entity Vector Queries: 0\n"
     ]
    }
   ],
   "source": [
    "# Save vectors in dictionary\n",
    "vector_dict = {}\n",
    "\n",
    "# For each full mention we are analyzing in the contextual domain (i.e. sentence)\n",
    "for m in sentence_mention_nums:\n",
    "    \n",
    "    # Retrieve candidate pool titles\n",
    "    candidate_pool_titles = sentence_predictions['candidate_pool_titles'][m]\n",
    "    \n",
    "    # Convert candidate pool titles to candidate pool vectors\n",
    "    candidate_pool_vectors = get_candidate_pool_vectors(candidate_pool_titles, verbose=True)\n",
    "    \n",
    "    # Save candidate pool vectors to dictionary\n",
    "    vector_dict[m] = candidate_pool_vectors\n",
    "    "
   ]
  },
  {
   "cell_type": "code",
   "execution_count": 26,
   "metadata": {
    "scrolled": false
   },
   "outputs": [
    {
     "name": "stdout",
     "output_type": "stream",
     "text": [
      "dict_keys([0, 1, 2, 3, 4])\n"
     ]
    },
    {
     "data": {
      "text/plain": [
       "[memmap([ 0.73999596, -0.2850568 ,  0.88725674, -0.50734735, -0.6356713 ,\n",
       "         -0.20261607,  0.01270186, -0.43192133,  0.17652708, -1.2671794 ,\n",
       "          0.25022364, -0.8501609 ,  1.1788144 , -0.9606329 ,  0.2951649 ,\n",
       "          0.28013518,  0.4906645 , -0.04022525,  0.30440256, -0.7108611 ,\n",
       "         -1.0442777 ,  0.23103824, -0.16828535, -0.4928129 , -0.5990831 ,\n",
       "          0.65428317,  0.55305684,  0.09535707,  0.41192013, -0.5112566 ,\n",
       "         -0.03250094, -0.26022622,  0.9529309 ,  0.00581418, -0.40577435,\n",
       "          0.54995644,  0.8707861 ,  0.8141234 ,  0.25183964, -1.4443197 ,\n",
       "         -0.88571143,  0.09944484, -0.5551198 ,  0.951958  , -0.5003791 ,\n",
       "         -0.3015914 , -0.2980206 ,  0.14974946, -0.64372563, -0.63113153,\n",
       "          1.1873055 ,  0.03172509, -0.2136898 , -1.1639937 ,  0.24281068,\n",
       "          0.3994873 ,  0.23474444,  0.60516006, -1.0773419 ,  0.8272827 ,\n",
       "          1.0121135 , -0.5333727 , -0.9532066 ,  0.67113334,  0.62456834,\n",
       "         -0.5706873 , -0.11329702,  1.2998549 , -0.6561267 , -1.5774893 ,\n",
       "          0.6048041 , -0.65593195, -0.04254211, -0.48887396, -0.5335978 ,\n",
       "          0.24304646, -0.34997603, -0.05208633, -0.2791088 , -0.76673913,\n",
       "          0.25704738, -0.9789742 ,  0.37342316, -0.27575028, -0.3059331 ,\n",
       "          1.046559  , -0.00690197, -0.23636982,  0.1740074 , -0.6322686 ,\n",
       "         -0.46409073,  0.10697933,  0.11636787, -0.6818818 ,  0.38791785,\n",
       "         -0.16901833,  0.25792092,  0.69184303, -0.5075059 , -0.837258  ],\n",
       "        dtype=float32),\n",
       " memmap([ 5.6705320e-01, -3.3967879e-01,  6.7967427e-01, -8.8146311e-01,\n",
       "         -9.9295086e-01, -3.8026679e-01,  3.1121460e-01, -1.2859932e-01,\n",
       "          6.6351652e-01, -1.9566450e+00,  3.7053553e-04, -2.7253684e-01,\n",
       "          8.7685895e-01, -9.0732628e-01,  3.2349053e-01,  5.2059549e-01,\n",
       "          5.6463188e-01, -6.1859089e-01,  4.5522106e-01, -7.2353148e-01,\n",
       "         -9.7908747e-01,  1.5604380e+00, -8.5058933e-01, -3.0102137e-01,\n",
       "         -7.3634320e-01,  6.0062087e-01, -5.4628011e-02,  6.4058477e-01,\n",
       "          6.5022165e-01,  2.9072487e-01,  1.2940426e+00, -9.4071068e-02,\n",
       "          4.9198017e-01,  3.0347526e-01, -5.4809892e-01, -2.0429029e-01,\n",
       "          9.0489048e-01,  2.7048671e-01,  3.9246964e-01, -1.1840639e+00,\n",
       "         -4.3033957e-01, -7.5106245e-01, -5.7284772e-01,  1.4852484e+00,\n",
       "         -8.7626231e-01, -7.4376535e-01, -1.5343527e-01, -7.3458463e-02,\n",
       "         -3.2605672e-01, -1.0146785e+00,  1.0237430e+00, -9.4328153e-01,\n",
       "          3.4996659e-02, -2.0044473e-01, -1.9703417e-01,  9.8306006e-01,\n",
       "          1.2443291e+00,  4.4966465e-01, -1.7725631e+00,  1.4776839e+00,\n",
       "          3.4709200e-01, -6.4714819e-01, -1.2517909e+00,  1.3799247e-01,\n",
       "          8.6123645e-01, -7.0240957e-01,  2.6356363e-01,  1.7173262e+00,\n",
       "         -1.1625690e+00, -7.3700833e-01,  8.7417591e-01, -7.2752094e-01,\n",
       "          5.1354527e-01, -1.4106265e-01,  4.3454650e-01, -2.7464458e-01,\n",
       "         -2.5152385e-01, -1.6812341e-01, -9.3517298e-01,  1.0230876e-01,\n",
       "          4.6504697e-01, -1.7253537e+00,  8.3058596e-01, -4.7467527e-01,\n",
       "         -5.2035451e-01,  3.3971253e-01,  1.5667379e+00,  1.4175670e+00,\n",
       "          4.1496566e-01, -8.0814487e-01, -9.0114975e-01,  8.7815797e-01,\n",
       "         -1.3504833e+00, -1.2146077e+00,  1.3884471e-01, -1.1015518e+00,\n",
       "         -1.5871716e-01, -5.3572315e-03, -1.1229993e+00,  3.8020507e-01],\n",
       "        dtype=float32),\n",
       " memmap([-0.32749936,  0.22239937,  0.23898569, -0.8550402 , -0.85611784,\n",
       "         -0.44711158,  0.13595648,  0.39365363,  1.3342729 , -1.2536842 ,\n",
       "         -0.2853296 , -1.099066  ,  0.6528767 , -1.2918848 , -0.74594367,\n",
       "         -0.28895608,  1.9094849 , -0.55642927, -0.24626006, -1.4926728 ,\n",
       "          0.5468181 ,  1.4468939 , -0.19011495, -0.5858889 , -1.4324374 ,\n",
       "          1.2070076 , -0.52515227,  0.77274644, -0.00573518, -0.36234498,\n",
       "          0.35192552, -1.099419  ,  0.82299453, -0.03887451, -0.02446946,\n",
       "         -0.17156638, -0.02022919,  0.01724946, -0.8944577 , -1.1395341 ,\n",
       "         -0.78923655,  0.31393325, -0.95563346,  0.12488271, -0.69004816,\n",
       "         -0.29749197, -0.86809623,  0.7933139 , -0.71426   ,  0.9254206 ,\n",
       "         -0.1382166 ,  0.28578267, -1.1550982 , -0.6735067 ,  0.5257328 ,\n",
       "         -0.19279411,  1.2008257 ,  1.2472584 ,  0.45953104,  0.19035457,\n",
       "         -0.17070356, -0.7877188 , -0.35678363, -0.91281503,  1.7200077 ,\n",
       "          0.31424206, -0.9719698 ,  1.2214743 , -0.49583736, -1.8288046 ,\n",
       "         -0.01189204, -0.404493  ,  0.86855274, -0.69529223, -0.05967084,\n",
       "          0.1467268 ,  0.4243536 ,  0.09690609,  0.1705214 , -0.17994457,\n",
       "          0.18131131, -0.6324867 ,  0.3015342 , -0.44308695, -1.4086918 ,\n",
       "          0.15663816, -1.1484084 ,  0.12123189,  0.28727305, -0.9169716 ,\n",
       "         -0.49255705,  1.8306959 ,  0.23311996, -0.28941548, -0.02125252,\n",
       "         -1.0847679 ,  0.82647645,  1.0584866 , -0.3514583 , -0.01739193],\n",
       "        dtype=float32),\n",
       " memmap([ 0.49636444, -0.86528134,  1.1788532 , -0.30922556, -0.9746154 ,\n",
       "         -0.3006828 , -0.09782214,  0.63527215,  0.42122337, -1.1919249 ,\n",
       "         -0.3059436 , -1.5930003 ,  1.4265698 , -1.2332215 ,  0.1535172 ,\n",
       "         -0.7177122 ,  0.39487252, -0.21477821,  1.4715476 , -1.2706604 ,\n",
       "         -0.7104477 ,  1.1048641 ,  0.25898832, -0.798658  , -0.3222457 ,\n",
       "          0.4416954 ,  0.35707518, -0.26406765,  0.5775286 ,  0.17936766,\n",
       "          0.8198438 ,  0.06974518,  1.0141144 ,  0.06422611, -0.03402249,\n",
       "         -0.3128955 ,  0.41933072,  0.3987855 , -0.24418177, -1.3106128 ,\n",
       "         -1.2324655 , -1.0146224 ,  0.01501042,  0.3660241 , -1.6638688 ,\n",
       "          0.22348987, -0.27600503, -0.6694157 , -1.2813332 , -0.10872387,\n",
       "          1.2395383 , -0.20197892,  0.00286648, -0.3906428 ,  0.07045056,\n",
       "          1.2450467 ,  1.1010966 ,  1.122882  , -0.11116055,  0.9988503 ,\n",
       "         -0.36205414, -2.3066163 , -0.61724466, -0.16229507,  0.86683387,\n",
       "         -1.313807  , -0.6351795 ,  0.9479702 , -0.8548799 , -1.8868064 ,\n",
       "          0.6917876 , -0.51526564,  0.30974808,  0.20916647, -0.38765594,\n",
       "         -0.29028484, -0.03893029, -0.9750075 , -0.4461735 , -1.0264297 ,\n",
       "          0.4592011 , -1.2573234 ,  1.1663984 ,  0.5527039 , -0.05900641,\n",
       "          0.5128983 , -0.3349524 ,  0.71201   , -0.51241827, -0.06634152,\n",
       "          0.40056118,  0.62022644,  0.20883565, -0.81926715,  0.5015126 ,\n",
       "         -0.86500585, -0.64207333,  0.5526563 ,  0.6141147 , -1.3354753 ],\n",
       "        dtype=float32),\n",
       " memmap([ 0.26075822, -0.17177996,  0.54727465, -1.31096   , -1.1041497 ,\n",
       "         -0.10734481, -0.27140617, -0.01273954,  0.5953468 , -1.4077523 ,\n",
       "         -0.24663545, -1.1425214 ,  0.94410515, -2.0732722 , -0.89343405,\n",
       "         -0.08139441,  0.83815694, -0.06334883, -0.04061043, -1.4083842 ,\n",
       "         -1.0479853 ,  1.4667585 , -0.16216806,  0.2871689 , -1.2968209 ,\n",
       "          0.44738424,  1.137081  ,  0.06771982,  0.44236508,  0.26128504,\n",
       "          1.9076096 , -0.05479275,  1.4054909 , -0.48837763,  0.48326677,\n",
       "          0.0554915 ,  1.0067469 ,  0.19573171,  0.08178793, -1.4209036 ,\n",
       "         -0.6273465 ,  0.16033924,  0.41513494,  0.9361944 , -0.64741457,\n",
       "         -0.3508181 , -0.43233982,  0.13551304, -0.990383  , -1.3655506 ,\n",
       "          1.0968257 ,  0.26693165,  0.2992288 , -0.4878189 ,  0.5361877 ,\n",
       "          0.7514933 ,  0.3694579 ,  1.5416545 , -0.47786808,  1.0841135 ,\n",
       "         -0.32841158, -1.4819535 , -0.25318268, -0.09228084,  0.30517486,\n",
       "         -0.947712  , -0.36601377,  0.8697557 , -0.96219397, -1.8463647 ,\n",
       "          0.8626132 , -0.14014101,  0.654409  , -0.46502638,  0.8586214 ,\n",
       "          0.08285124,  0.2427678 , -0.27181068, -0.1884906 , -0.9206421 ,\n",
       "          0.24981752, -0.6211122 ,  0.6154762 ,  0.7102961 , -0.33678898,\n",
       "          1.3109715 ,  0.6368831 ,  1.015096  , -0.27756816, -0.16716368,\n",
       "         -0.12556131,  0.19664241,  0.08360512, -0.1030985 ,  0.2344761 ,\n",
       "         -0.30966803,  0.19796441,  0.93126917, -0.28040844, -0.01932705],\n",
       "        dtype=float32)]"
      ]
     },
     "execution_count": 26,
     "metadata": {},
     "output_type": "execute_result"
    }
   ],
   "source": [
    "# Display vector_dict output\n",
    "print(vector_dict.keys())\n",
    "# Preview one candidate vector from a candidate pool vectors\n",
    "vector_dict[1]"
   ]
  },
  {
   "cell_type": "code",
   "execution_count": 27,
   "metadata": {},
   "outputs": [
    {
     "data": {
      "text/plain": [
       "[range(0, 3), range(0, 5), range(0, 5), range(0, 5), range(0, 5)]"
      ]
     },
     "execution_count": 27,
     "metadata": {},
     "output_type": "execute_result"
    }
   ],
   "source": [
    "# Structure logic to create all combinations of candidates\n",
    "candidate_counts = [range(len(v)) for v in vector_dict.values()]\n",
    "candidate_counts"
   ]
  },
  {
   "cell_type": "code",
   "execution_count": 28,
   "metadata": {},
   "outputs": [],
   "source": [
    "from itertools import product"
   ]
  },
  {
   "cell_type": "code",
   "execution_count": 34,
   "metadata": {
    "scrolled": false
   },
   "outputs": [
    {
     "data": {
      "text/plain": [
       "[(0, 0, 0, 0, 0),\n",
       " (0, 0, 0, 0, 1),\n",
       " (0, 0, 0, 0, 2),\n",
       " (0, 0, 0, 0, 3),\n",
       " (0, 0, 0, 0, 4),\n",
       " (0, 0, 0, 1, 0),\n",
       " (0, 0, 0, 1, 1),\n",
       " (0, 0, 0, 1, 2),\n",
       " (0, 0, 0, 1, 3),\n",
       " (0, 0, 0, 1, 4)]"
      ]
     },
     "execution_count": 34,
     "metadata": {},
     "output_type": "execute_result"
    }
   ],
   "source": [
    "unique_combinations_idx = list(product(*candidate_counts))\n",
    "unique_combinations_idx[:10]"
   ]
  },
  {
   "cell_type": "code",
   "execution_count": 35,
   "metadata": {},
   "outputs": [],
   "source": [
    "## Translate unique combination indexes into list of vector combinations\n",
    "unique_combinations = []\n",
    "for combo in unique_combinations_idx:\n",
    "#     print(combo)\n",
    "    combo_vector = []\n",
    "    for i in range(len(combo)):\n",
    "        combo_vector.append(vector_dict[i][combo[i]])\n",
    "    unique_combinations.append(combo_vector)"
   ]
  },
  {
   "cell_type": "code",
   "execution_count": 36,
   "metadata": {},
   "outputs": [],
   "source": [
    "# Calculate centroids for each unique combination\n",
    "centroids = []\n",
    "for combo in unique_combinations:\n",
    "    centroids.append(sum(combo)) #/len(combo)) if you want mean"
   ]
  },
  {
   "cell_type": "code",
   "execution_count": 37,
   "metadata": {},
   "outputs": [
    {
     "data": {
      "text/plain": [
       "array([ 2.131043  , -0.03438118,  2.4980736 , -0.7308637 , -1.1257738 ,\n",
       "       -0.49353868,  1.0083045 , -1.0838606 ,  0.75853443, -5.91596   ,\n",
       "        0.47778386, -1.3803507 ,  2.8838859 , -5.77764   , -1.5809379 ,\n",
       "       -0.7298596 ,  2.0230465 , -0.5698778 ,  1.3996718 , -0.73016936,\n",
       "       -1.5379165 ,  2.231394  , -1.0941744 , -1.3733233 , -2.2880337 ,\n",
       "        1.8583322 ,  2.8878713 , -1.3950173 ,  0.5865395 ,  0.8182961 ,\n",
       "       -0.37736836, -0.1751889 ,  3.4341693 ,  2.48418   ,  1.6804861 ,\n",
       "        0.1854988 ,  1.6437321 ,  1.0341145 ,  0.44050485, -1.1708148 ,\n",
       "        0.7957667 , -1.3546429 ,  0.38562632,  3.6486506 , -0.76347744,\n",
       "       -1.1840131 , -0.9945575 ,  3.122835  , -2.0672047 , -2.3407288 ,\n",
       "        2.0564058 ,  1.6348517 ,  1.4340049 , -2.695025  ,  0.19447258,\n",
       "        0.7308686 ,  2.818136  ,  1.1672243 , -2.6244626 ,  1.1208712 ,\n",
       "        2.4334676 ,  0.36272705, -1.8655688 ,  1.482802  ,  5.2873936 ,\n",
       "       -1.9874624 , -2.7909927 ,  1.2789898 , -2.3831098 , -3.9685295 ,\n",
       "       -1.3055067 ,  0.16041306, -1.5204049 ,  2.215236  , -2.1311655 ,\n",
       "        0.15059692,  1.4126135 , -0.85459715,  0.441755  , -0.65415514,\n",
       "        0.3865388 , -2.1975203 ,  1.040261  , -1.7043724 ,  1.3146981 ,\n",
       "        0.51544535,  1.6908295 , -0.04856205,  1.2496967 , -2.8507175 ,\n",
       "       -3.2187786 , -1.3497958 ,  0.36218208, -1.3739964 ,  1.1698556 ,\n",
       "       -2.0754268 ,  0.50031245,  1.8875923 , -0.58603346, -1.5836864 ],\n",
       "      dtype=float32)"
      ]
     },
     "execution_count": 37,
     "metadata": {},
     "output_type": "execute_result"
    }
   ],
   "source": [
    "# Each position should now have one\n",
    "centroids[0]              # Leave as is for sum of vectors\n",
    "# np.array(centroids[0])/5  # Divide by mention count for mean of vectors"
   ]
  },
  {
   "cell_type": "code",
   "execution_count": 38,
   "metadata": {},
   "outputs": [],
   "source": [
    "# Confirm we have a centroid for every set\n",
    "assert len(unique_combinations) == len(centroids)"
   ]
  },
  {
   "cell_type": "code",
   "execution_count": 39,
   "metadata": {},
   "outputs": [],
   "source": [
    "from sklearn.metrics import pairwise"
   ]
  },
  {
   "cell_type": "code",
   "execution_count": 157,
   "metadata": {},
   "outputs": [],
   "source": [
    "# Calculate cosine similarity as distance between each candidate and that set's centroid\n",
    "set_distances = []\n",
    "for i in range(len(unique_combinations)):\n",
    "    candidate_distances = []\n",
    "    combination = unique_combinations[i]\n",
    "    centroid = centroids[i]\n",
    "    for candidate in combination:\n",
    "        \n",
    "        # todo which should I be using?\n",
    "        candidate_distance = cosine_similarity(candidate.reshape(-1, 1), centroid.reshape(-1, 1))\n",
    "#         candidate_distance = pairwise.pairwise_distances(candidate.reshape(-1, 1), centroid.reshape(-1, 1), metric='cosine')\n",
    "\n",
    "        candidate_distances.append(candidate_distance)\n",
    "    set_distances.append(candidate_distances)"
   ]
  },
  {
   "cell_type": "code",
   "execution_count": 158,
   "metadata": {},
   "outputs": [
    {
     "data": {
      "text/plain": [
       "[array([[-1.,  1., -1., ..., -1.,  1.,  1.],\n",
       "        [ 1., -1.,  1., ...,  1., -1., -1.],\n",
       "        [ 1., -1.,  1., ...,  1., -1., -1.],\n",
       "        ...,\n",
       "        [ 1., -1.,  1., ...,  1., -1., -1.],\n",
       "        [-1.,  1., -1., ..., -1.,  1.,  1.],\n",
       "        [ 1., -1.,  1., ...,  1., -1., -1.]], dtype=float32),\n",
       " array([[ 1., -1.,  1., ...,  1., -1., -1.],\n",
       "        [-1.,  1., -1., ..., -1.,  1.,  1.],\n",
       "        [ 1., -1.,  1., ...,  1., -1., -1.],\n",
       "        ...,\n",
       "        [ 1., -1.,  1., ...,  1., -1., -1.],\n",
       "        [-1.,  1., -1., ..., -1.,  1.,  1.],\n",
       "        [-1.,  1., -1., ..., -1.,  1.,  1.]], dtype=float32),\n",
       " array([[ 1., -1.,  1., ...,  1., -1., -1.],\n",
       "        [ 1., -1.,  1., ...,  1., -1., -1.],\n",
       "        [-1.,  1., -1., ..., -1.,  1.,  1.],\n",
       "        ...,\n",
       "        [ 1., -1.,  1., ...,  1., -1., -1.],\n",
       "        [ 1., -1.,  1., ...,  1., -1., -1.],\n",
       "        [-1.,  1., -1., ..., -1.,  1.,  1.]], dtype=float32),\n",
       " array([[ 1., -1.,  1., ...,  1., -1., -1.],\n",
       "        [-1.,  1., -1., ..., -1.,  1.,  1.],\n",
       "        [ 1., -1.,  1., ...,  1., -1., -1.],\n",
       "        ...,\n",
       "        [-1.,  1., -1., ..., -1.,  1.,  1.],\n",
       "        [ 1., -1.,  1., ...,  1., -1., -1.],\n",
       "        [ 1., -1.,  1., ...,  1., -1., -1.]], dtype=float32),\n",
       " array([[ 1., -1.,  1., ...,  1., -1., -1.],\n",
       "        [-1.,  1., -1., ..., -1.,  1.,  1.],\n",
       "        [ 1., -1.,  1., ...,  1., -1., -1.],\n",
       "        ...,\n",
       "        [ 1., -1.,  1., ...,  1., -1., -1.],\n",
       "        [-1.,  1., -1., ..., -1.,  1.,  1.],\n",
       "        [-1.,  1., -1., ..., -1.,  1.,  1.]], dtype=float32)]"
      ]
     },
     "execution_count": 158,
     "metadata": {},
     "output_type": "execute_result"
    }
   ],
   "source": [
    "set_distances[0] # Example combination"
   ]
  },
  {
   "cell_type": "code",
   "execution_count": 159,
   "metadata": {},
   "outputs": [
    {
     "data": {
      "text/plain": [
       "array([[-1.,  1., -1., ..., -1.,  1.,  1.],\n",
       "       [ 1., -1.,  1., ...,  1., -1., -1.],\n",
       "       [ 1., -1.,  1., ...,  1., -1., -1.],\n",
       "       ...,\n",
       "       [ 1., -1.,  1., ...,  1., -1., -1.],\n",
       "       [-1.,  1., -1., ..., -1.,  1.,  1.],\n",
       "       [ 1., -1.,  1., ...,  1., -1., -1.]], dtype=float32)"
      ]
     },
     "execution_count": 159,
     "metadata": {},
     "output_type": "execute_result"
    }
   ],
   "source": [
    "set_distances[0][0] # Example candidate"
   ]
  },
  {
   "cell_type": "code",
   "execution_count": 160,
   "metadata": {},
   "outputs": [],
   "source": [
    "average_set_distance = [np.mean(combo) for combo in set_distances]"
   ]
  },
  {
   "cell_type": "code",
   "execution_count": 161,
   "metadata": {},
   "outputs": [
    {
     "data": {
      "text/plain": [
       "(0.0176, -0.00528)"
      ]
     },
     "execution_count": 161,
     "metadata": {},
     "output_type": "execute_result"
    }
   ],
   "source": [
    "max(average_set_distance), min(average_set_distance)"
   ]
  },
  {
   "cell_type": "code",
   "execution_count": 167,
   "metadata": {},
   "outputs": [
    {
     "data": {
      "text/plain": [
       "450"
      ]
     },
     "execution_count": 167,
     "metadata": {},
     "output_type": "execute_result"
    }
   ],
   "source": [
    "select_idx = np.argmin(average_set_distance)\n",
    "select_idx"
   ]
  },
  {
   "cell_type": "code",
   "execution_count": 168,
   "metadata": {},
   "outputs": [
    {
     "data": {
      "text/plain": [
       "(0, 3, 3, 0, 0)"
      ]
     },
     "execution_count": 168,
     "metadata": {},
     "output_type": "execute_result"
    }
   ],
   "source": [
    "most_congruent_predictions = unique_combinations_idx[select_idx]\n",
    "most_congruent_predictions"
   ]
  },
  {
   "cell_type": "code",
   "execution_count": 169,
   "metadata": {},
   "outputs": [
    {
     "data": {
      "text/plain": [
       "{0: 0, 1: 3, 2: 3, 3: 0, 4: 0}"
      ]
     },
     "execution_count": 169,
     "metadata": {},
     "output_type": "execute_result"
    }
   ],
   "source": [
    "# See what we got done\n",
    "mention_predictions = {}\n",
    "for i in range(len(most_congruent_predictions)):\n",
    "    mention_predictions[i] = most_congruent_predictions[i]\n",
    "mention_predictions"
   ]
  },
  {
   "cell_type": "code",
   "execution_count": 170,
   "metadata": {},
   "outputs": [
    {
     "data": {
      "text/plain": [
       "Index(['mention', 'full_mention', 'wikipedia_URL', 'wikipedia_page_ID',\n",
       "       'wikipedia_title', 'sentence_id', 'doc_id', 'congruent_mentions',\n",
       "       'norm_full_mention', 'candidate_pool_page_ids',\n",
       "       'candidate_pool_item_ids', 'candidate_pool_titles',\n",
       "       'candidate_pool_likelihoods'],\n",
       "      dtype='object')"
      ]
     },
     "execution_count": 170,
     "metadata": {},
     "output_type": "execute_result"
    }
   ],
   "source": [
    "sentence_predictions.columns"
   ]
  },
  {
   "cell_type": "code",
   "execution_count": 171,
   "metadata": {},
   "outputs": [
    {
     "name": "stdout",
     "output_type": "stream",
     "text": [
      "Text: Peter Blackburn - True: nan, nan ==? Pred: Peter_Blackburn_(badminton),56783206\n",
      "Text: BRUSSELS - True: Brussels, 3708.0 ==? Pred: Brussels_Airport,269753\n",
      "Text: European Commission - True: European Commission, 9974.0 ==? Pred: European_Commissioner_for_Competition,1549462\n",
      "Text: German - True: Germany, 11867.0 ==? Pred: Germany,11867\n",
      "Text: British - True: United Kingdom, 31717.0 ==? Pred: United_Kingdom,31717\n",
      "*********************************************\n",
      "We predicted 40.0% mentions correctly.\n",
      "The correct answer was present in 80.0% candidate pools.\n"
     ]
    }
   ],
   "source": [
    "correct_predictions = 0\n",
    "answer_present = 0\n",
    "\n",
    "for i in range(len(sentence_predictions)):\n",
    "    row = sentence_predictions.iloc[i]\n",
    "    full_mention = row['full_mention']\n",
    "    wiki_title = row['wikipedia_title']\n",
    "    wiki_page_id = row['wikipedia_page_ID']\n",
    "    candidate_pool_titles = row['candidate_pool_titles']\n",
    "    candidate_pool_page_ids = row['candidate_pool_page_ids']\n",
    "    pred_idx = mention_predictions[i]\n",
    "    pred_title = candidate_pool_titles[pred_idx]\n",
    "    pred_page_id = candidate_pool_page_ids[pred_idx]\n",
    "    print(f\"Text: {full_mention} - True: {wiki_title}, {wiki_page_id} ==? Pred: {pred_title},{pred_page_id}\")\n",
    "    if wiki_page_id == pred_page_id:\n",
    "        correct_predictions += 1\n",
    "    if wiki_page_id in candidate_pool_page_ids:\n",
    "        answer_present += 1\n",
    "\n",
    "print(\"*********************************************\")\n",
    "print(f\"We predicted {round(correct_predictions/len(sentence_predictions)*100,2)}% mentions correctly.\")\n",
    "print(f\"The correct answer was present in {round(answer_present/len(sentence_predictions)*100,2)}% candidate pools.\") "
   ]
  },
  {
   "cell_type": "code",
   "execution_count": 141,
   "metadata": {},
   "outputs": [
    {
     "name": "stdout",
     "output_type": "stream",
     "text": [
      "You've predicted everything!\n"
     ]
    }
   ],
   "source": [
    "print(\"You've predicted everything!\")"
   ]
  },
  {
   "cell_type": "code",
   "execution_count": null,
   "metadata": {},
   "outputs": [],
   "source": []
  }
 ],
 "metadata": {
  "kernelspec": {
   "display_name": "Python 3",
   "language": "python",
   "name": "python3"
  },
  "language_info": {
   "codemirror_mode": {
    "name": "ipython",
    "version": 3
   },
   "file_extension": ".py",
   "mimetype": "text/x-python",
   "name": "python",
   "nbconvert_exporter": "python",
   "pygments_lexer": "ipython3",
   "version": "3.7.7"
  }
 },
 "nbformat": 4,
 "nbformat_minor": 4
}
