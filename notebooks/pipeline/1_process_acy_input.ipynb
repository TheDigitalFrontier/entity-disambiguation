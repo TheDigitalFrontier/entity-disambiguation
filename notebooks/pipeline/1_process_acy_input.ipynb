{
 "cells": [
  {
   "cell_type": "markdown",
   "metadata": {},
   "source": [
    "# Phase One: Process AIDA CoNLL-YAGO for Congruence\n",
    "\n",
    "This notebook takes our input test dataset, AIDA CoNLL-YAGO, and processes it into a form usable for congruence. Notably, this includes a sentence ID and Doc ID for each full_mention that allows us to understand what full_mentions occur in the same context window as well as a list of contextual mentions for every full mention row."
   ]
  },
  {
   "cell_type": "markdown",
   "metadata": {},
   "source": [
    "### Import Packages"
   ]
  },
  {
   "cell_type": "code",
   "execution_count": 1,
   "metadata": {},
   "outputs": [],
   "source": [
    "import os\n",
    "import time\n",
    "import csv\n",
    "\n",
    "import pandas as pd\n",
    "import numpy as np\n",
    "import matplotlib.pyplot as plt\n",
    "%matplotlib inline\n",
    "\n",
    "from tqdm import tqdm"
   ]
  },
  {
   "cell_type": "markdown",
   "metadata": {},
   "source": [
    "## Load Aida-Conll-Yago"
   ]
  },
  {
   "cell_type": "code",
   "execution_count": 2,
   "metadata": {},
   "outputs": [
    {
     "data": {
      "text/html": [
       "<div>\n",
       "<style scoped>\n",
       "    .dataframe tbody tr th:only-of-type {\n",
       "        vertical-align: middle;\n",
       "    }\n",
       "\n",
       "    .dataframe tbody tr th {\n",
       "        vertical-align: top;\n",
       "    }\n",
       "\n",
       "    .dataframe thead th {\n",
       "        text-align: right;\n",
       "    }\n",
       "</style>\n",
       "<table border=\"1\" class=\"dataframe\">\n",
       "  <thead>\n",
       "    <tr style=\"text-align: right;\">\n",
       "      <th></th>\n",
       "      <th>token</th>\n",
       "      <th>mention</th>\n",
       "      <th>full_mention</th>\n",
       "      <th>YAGO2</th>\n",
       "      <th>wikipedia_URL</th>\n",
       "      <th>wikipedia_ID</th>\n",
       "      <th>freebase</th>\n",
       "    </tr>\n",
       "  </thead>\n",
       "  <tbody>\n",
       "    <tr>\n",
       "      <th>0</th>\n",
       "      <td>EU</td>\n",
       "      <td>B</td>\n",
       "      <td>EU</td>\n",
       "      <td>--NME--</td>\n",
       "      <td>None</td>\n",
       "      <td>None</td>\n",
       "      <td>None</td>\n",
       "    </tr>\n",
       "    <tr>\n",
       "      <th>1</th>\n",
       "      <td>rejects</td>\n",
       "      <td>None</td>\n",
       "      <td>None</td>\n",
       "      <td>None</td>\n",
       "      <td>None</td>\n",
       "      <td>None</td>\n",
       "      <td>None</td>\n",
       "    </tr>\n",
       "    <tr>\n",
       "      <th>2</th>\n",
       "      <td>German</td>\n",
       "      <td>B</td>\n",
       "      <td>German</td>\n",
       "      <td>Germany</td>\n",
       "      <td>http://en.wikipedia.org/wiki/Germany</td>\n",
       "      <td>11867</td>\n",
       "      <td>/m/0345h</td>\n",
       "    </tr>\n",
       "    <tr>\n",
       "      <th>3</th>\n",
       "      <td>call</td>\n",
       "      <td>None</td>\n",
       "      <td>None</td>\n",
       "      <td>None</td>\n",
       "      <td>None</td>\n",
       "      <td>None</td>\n",
       "      <td>None</td>\n",
       "    </tr>\n",
       "    <tr>\n",
       "      <th>4</th>\n",
       "      <td>to</td>\n",
       "      <td>None</td>\n",
       "      <td>None</td>\n",
       "      <td>None</td>\n",
       "      <td>None</td>\n",
       "      <td>None</td>\n",
       "      <td>None</td>\n",
       "    </tr>\n",
       "    <tr>\n",
       "      <th>5</th>\n",
       "      <td>boycott</td>\n",
       "      <td>None</td>\n",
       "      <td>None</td>\n",
       "      <td>None</td>\n",
       "      <td>None</td>\n",
       "      <td>None</td>\n",
       "      <td>None</td>\n",
       "    </tr>\n",
       "    <tr>\n",
       "      <th>6</th>\n",
       "      <td>British</td>\n",
       "      <td>B</td>\n",
       "      <td>British</td>\n",
       "      <td>United_Kingdom</td>\n",
       "      <td>http://en.wikipedia.org/wiki/United_Kingdom</td>\n",
       "      <td>31717</td>\n",
       "      <td>/m/07ssc</td>\n",
       "    </tr>\n",
       "    <tr>\n",
       "      <th>7</th>\n",
       "      <td>lamb</td>\n",
       "      <td>None</td>\n",
       "      <td>None</td>\n",
       "      <td>None</td>\n",
       "      <td>None</td>\n",
       "      <td>None</td>\n",
       "      <td>None</td>\n",
       "    </tr>\n",
       "    <tr>\n",
       "      <th>8</th>\n",
       "      <td>.</td>\n",
       "      <td>None</td>\n",
       "      <td>None</td>\n",
       "      <td>None</td>\n",
       "      <td>None</td>\n",
       "      <td>None</td>\n",
       "      <td>None</td>\n",
       "    </tr>\n",
       "    <tr>\n",
       "      <th>9</th>\n",
       "      <td>None</td>\n",
       "      <td>None</td>\n",
       "      <td>None</td>\n",
       "      <td>None</td>\n",
       "      <td>None</td>\n",
       "      <td>None</td>\n",
       "      <td>None</td>\n",
       "    </tr>\n",
       "  </tbody>\n",
       "</table>\n",
       "</div>"
      ],
      "text/plain": [
       "     token mention full_mention           YAGO2  \\\n",
       "0       EU       B           EU         --NME--   \n",
       "1  rejects    None         None            None   \n",
       "2   German       B       German         Germany   \n",
       "3     call    None         None            None   \n",
       "4       to    None         None            None   \n",
       "5  boycott    None         None            None   \n",
       "6  British       B      British  United_Kingdom   \n",
       "7     lamb    None         None            None   \n",
       "8        .    None         None            None   \n",
       "9     None    None         None            None   \n",
       "\n",
       "                                 wikipedia_URL wikipedia_ID  freebase  \n",
       "0                                         None         None      None  \n",
       "1                                         None         None      None  \n",
       "2         http://en.wikipedia.org/wiki/Germany        11867  /m/0345h  \n",
       "3                                         None         None      None  \n",
       "4                                         None         None      None  \n",
       "5                                         None         None      None  \n",
       "6  http://en.wikipedia.org/wiki/United_Kingdom        31717  /m/07ssc  \n",
       "7                                         None         None      None  \n",
       "8                                         None         None      None  \n",
       "9                                         None         None      None  "
      ]
     },
     "execution_count": 2,
     "metadata": {},
     "output_type": "execute_result"
    }
   ],
   "source": [
    "# Relative path to ACY dataset\n",
    "acy_path = \"../../data/aida-conll-yago-dataset/\"\n",
    "\n",
    "# Open raw TSV datafile\n",
    "acy_file = open(os.path.join(acy_path, \"AIDA-YAGO2-DATASET.tsv\"))\n",
    "acy_tsv = csv.reader(acy_file, delimiter=\"\\t\")\n",
    "\n",
    "# Loop through TSV to add to PD.DF\n",
    "df = []\n",
    "for row in acy_tsv:\n",
    "    df.append(row)\n",
    "acy_df = pd.DataFrame(data=df[1:])\n",
    "new_columns = [\"token\", \"mention\", \"full_mention\", \"YAGO2\", \"wikipedia_URL\", \"wikipedia_ID\", \"freebase\"]\n",
    "acy_df = acy_df.rename(columns=dict(zip(range(7), new_columns)))\n",
    "acy_df.head(10)"
   ]
  },
  {
   "cell_type": "markdown",
   "metadata": {},
   "source": [
    "#### Add Sentence ID\n",
    "\n",
    "In order to determine which full_mentions occur in the same sentence, we add a Sentence_ID that increases by one whenever it comes across a period and a space (`. None`).\n",
    "\n",
    "\n",
    "#### Add Doc ID\n",
    "It appears sample articles are split by a `-DOCSTART-` so we've also added a `doc_id` based on that."
   ]
  },
  {
   "cell_type": "code",
   "execution_count": 3,
   "metadata": {},
   "outputs": [
    {
     "name": "stdout",
     "output_type": "stream",
     "text": [
      "Tokens in ACY: 176,615\n"
     ]
    }
   ],
   "source": [
    "# Confirm length of iteration\n",
    "print(\"Tokens in ACY: {:,}\".format(len(acy_df)))"
   ]
  },
  {
   "cell_type": "code",
   "execution_count": 4,
   "metadata": {
    "scrolled": false
   },
   "outputs": [
    {
     "name": "stderr",
     "output_type": "stream",
     "text": [
      "100%|██████████| 176615/176615 [00:12<00:00, 14548.17it/s]\n"
     ]
    }
   ],
   "source": [
    "# Start with sentence_id of 0\n",
    "sentence_id = 0\n",
    "doc_id = 0\n",
    "prior_token = 0\n",
    "\n",
    "# Prepare list to append\n",
    "sentence_list = []\n",
    "doc_list = []\n",
    "\n",
    "# Iterate through every token to find same sentences\n",
    "for row in tqdm(range(len(acy_df))):\n",
    "    \n",
    "    # Find token and add sentence ID to list\n",
    "    token = acy_df.iloc[row]['token']\n",
    "    sentence_list.append(sentence_id)\n",
    "    \n",
    "    # If we've reached our sentence stopping condition, increment sentence_id\n",
    "    if prior_token == \".\" and token == None:\n",
    "        sentence_id += 1\n",
    "    try:\n",
    "        if \"-DOCSTART-\" in token:\n",
    "            doc_id += 1\n",
    "    except TypeError: # Can't use 'in' when NoneType present\n",
    "        pass\n",
    "    doc_list.append(doc_id)\n",
    "        \n",
    "    # Update token to prior token\n",
    "    prior_token = token\n",
    "        \n",
    "# Add list to DataFrame as column\n",
    "acy_df['sentence_id'] = sentence_list\n",
    "acy_df['doc_id'] = doc_list"
   ]
  },
  {
   "cell_type": "code",
   "execution_count": 5,
   "metadata": {},
   "outputs": [
    {
     "data": {
      "text/html": [
       "<div>\n",
       "<style scoped>\n",
       "    .dataframe tbody tr th:only-of-type {\n",
       "        vertical-align: middle;\n",
       "    }\n",
       "\n",
       "    .dataframe tbody tr th {\n",
       "        vertical-align: top;\n",
       "    }\n",
       "\n",
       "    .dataframe thead th {\n",
       "        text-align: right;\n",
       "    }\n",
       "</style>\n",
       "<table border=\"1\" class=\"dataframe\">\n",
       "  <thead>\n",
       "    <tr style=\"text-align: right;\">\n",
       "      <th></th>\n",
       "      <th>token</th>\n",
       "      <th>full_mention</th>\n",
       "      <th>sentence_id</th>\n",
       "      <th>doc_id</th>\n",
       "    </tr>\n",
       "  </thead>\n",
       "  <tbody>\n",
       "    <tr>\n",
       "      <th>630</th>\n",
       "      <td>a</td>\n",
       "      <td>None</td>\n",
       "      <td>23</td>\n",
       "      <td>1</td>\n",
       "    </tr>\n",
       "    <tr>\n",
       "      <th>631</th>\n",
       "      <td>drugs</td>\n",
       "      <td>None</td>\n",
       "      <td>23</td>\n",
       "      <td>1</td>\n",
       "    </tr>\n",
       "    <tr>\n",
       "      <th>632</th>\n",
       "      <td>overdose</td>\n",
       "      <td>None</td>\n",
       "      <td>23</td>\n",
       "      <td>1</td>\n",
       "    </tr>\n",
       "    <tr>\n",
       "      <th>633</th>\n",
       "      <td>in</td>\n",
       "      <td>None</td>\n",
       "      <td>23</td>\n",
       "      <td>1</td>\n",
       "    </tr>\n",
       "    <tr>\n",
       "      <th>634</th>\n",
       "      <td>1970</td>\n",
       "      <td>None</td>\n",
       "      <td>23</td>\n",
       "      <td>1</td>\n",
       "    </tr>\n",
       "    <tr>\n",
       "      <th>635</th>\n",
       "      <td>aged</td>\n",
       "      <td>None</td>\n",
       "      <td>23</td>\n",
       "      <td>1</td>\n",
       "    </tr>\n",
       "    <tr>\n",
       "      <th>636</th>\n",
       "      <td>27</td>\n",
       "      <td>None</td>\n",
       "      <td>23</td>\n",
       "      <td>1</td>\n",
       "    </tr>\n",
       "    <tr>\n",
       "      <th>637</th>\n",
       "      <td>.</td>\n",
       "      <td>None</td>\n",
       "      <td>23</td>\n",
       "      <td>1</td>\n",
       "    </tr>\n",
       "    <tr>\n",
       "      <th>638</th>\n",
       "      <td>None</td>\n",
       "      <td>None</td>\n",
       "      <td>23</td>\n",
       "      <td>1</td>\n",
       "    </tr>\n",
       "    <tr>\n",
       "      <th>639</th>\n",
       "      <td>-DOCSTART- (3 China)</td>\n",
       "      <td>None</td>\n",
       "      <td>24</td>\n",
       "      <td>2</td>\n",
       "    </tr>\n",
       "    <tr>\n",
       "      <th>640</th>\n",
       "      <td>China</td>\n",
       "      <td>China</td>\n",
       "      <td>24</td>\n",
       "      <td>2</td>\n",
       "    </tr>\n",
       "    <tr>\n",
       "      <th>641</th>\n",
       "      <td>says</td>\n",
       "      <td>None</td>\n",
       "      <td>24</td>\n",
       "      <td>2</td>\n",
       "    </tr>\n",
       "    <tr>\n",
       "      <th>642</th>\n",
       "      <td>Taiwan</td>\n",
       "      <td>Taiwan</td>\n",
       "      <td>24</td>\n",
       "      <td>2</td>\n",
       "    </tr>\n",
       "    <tr>\n",
       "      <th>643</th>\n",
       "      <td>spoils</td>\n",
       "      <td>None</td>\n",
       "      <td>24</td>\n",
       "      <td>2</td>\n",
       "    </tr>\n",
       "    <tr>\n",
       "      <th>644</th>\n",
       "      <td>atmosphere</td>\n",
       "      <td>None</td>\n",
       "      <td>24</td>\n",
       "      <td>2</td>\n",
       "    </tr>\n",
       "  </tbody>\n",
       "</table>\n",
       "</div>"
      ],
      "text/plain": [
       "                    token full_mention  sentence_id  doc_id\n",
       "630                     a         None           23       1\n",
       "631                 drugs         None           23       1\n",
       "632              overdose         None           23       1\n",
       "633                    in         None           23       1\n",
       "634                  1970         None           23       1\n",
       "635                  aged         None           23       1\n",
       "636                    27         None           23       1\n",
       "637                     .         None           23       1\n",
       "638                  None         None           23       1\n",
       "639  -DOCSTART- (3 China)         None           24       2\n",
       "640                 China        China           24       2\n",
       "641                  says         None           24       2\n",
       "642                Taiwan       Taiwan           24       2\n",
       "643                spoils         None           24       2\n",
       "644            atmosphere         None           24       2"
      ]
     },
     "execution_count": 5,
     "metadata": {},
     "output_type": "execute_result"
    }
   ],
   "source": [
    "# Print out clear example showing increment sentence and doc\n",
    "acy_df[630:645][['token', 'full_mention', 'sentence_id', 'doc_id']]"
   ]
  },
  {
   "cell_type": "code",
   "execution_count": 6,
   "metadata": {},
   "outputs": [],
   "source": [
    "# Create mini copy of dataset\n",
    "mini_acy_df = acy_df[620:645].copy()"
   ]
  },
  {
   "cell_type": "code",
   "execution_count": 7,
   "metadata": {},
   "outputs": [
    {
     "data": {
      "text/html": [
       "<div>\n",
       "<style scoped>\n",
       "    .dataframe tbody tr th:only-of-type {\n",
       "        vertical-align: middle;\n",
       "    }\n",
       "\n",
       "    .dataframe tbody tr th {\n",
       "        vertical-align: top;\n",
       "    }\n",
       "\n",
       "    .dataframe thead th {\n",
       "        text-align: right;\n",
       "    }\n",
       "</style>\n",
       "<table border=\"1\" class=\"dataframe\">\n",
       "  <thead>\n",
       "    <tr style=\"text-align: right;\">\n",
       "      <th></th>\n",
       "      <th>unique</th>\n",
       "    </tr>\n",
       "    <tr>\n",
       "      <th>sentence_id</th>\n",
       "      <th></th>\n",
       "    </tr>\n",
       "  </thead>\n",
       "  <tbody>\n",
       "    <tr>\n",
       "      <th>22</th>\n",
       "      <td>[None]</td>\n",
       "    </tr>\n",
       "    <tr>\n",
       "      <th>23</th>\n",
       "      <td>[None]</td>\n",
       "    </tr>\n",
       "    <tr>\n",
       "      <th>24</th>\n",
       "      <td>[None, China, Taiwan]</td>\n",
       "    </tr>\n",
       "  </tbody>\n",
       "</table>\n",
       "</div>"
      ],
      "text/plain": [
       "                            unique\n",
       "sentence_id                       \n",
       "22                          [None]\n",
       "23                          [None]\n",
       "24           [None, China, Taiwan]"
      ]
     },
     "execution_count": 7,
     "metadata": {},
     "output_type": "execute_result"
    }
   ],
   "source": [
    "# Test groupby to create contextual mentions on mini version\n",
    "mini_acy_df.groupby('sentence_id')['full_mention'].agg(['unique'])"
   ]
  },
  {
   "cell_type": "code",
   "execution_count": 8,
   "metadata": {},
   "outputs": [
    {
     "name": "stdout",
     "output_type": "stream",
     "text": [
      "CPU times: user 349 ms, sys: 22.9 ms, total: 372 ms\n",
      "Wall time: 362 ms\n"
     ]
    },
    {
     "data": {
      "text/html": [
       "<div>\n",
       "<style scoped>\n",
       "    .dataframe tbody tr th:only-of-type {\n",
       "        vertical-align: middle;\n",
       "    }\n",
       "\n",
       "    .dataframe tbody tr th {\n",
       "        vertical-align: top;\n",
       "    }\n",
       "\n",
       "    .dataframe thead th {\n",
       "        text-align: right;\n",
       "    }\n",
       "</style>\n",
       "<table border=\"1\" class=\"dataframe\">\n",
       "  <thead>\n",
       "    <tr style=\"text-align: right;\">\n",
       "      <th></th>\n",
       "      <th>unique</th>\n",
       "    </tr>\n",
       "    <tr>\n",
       "      <th>sentence_id</th>\n",
       "      <th></th>\n",
       "    </tr>\n",
       "  </thead>\n",
       "  <tbody>\n",
       "    <tr>\n",
       "      <th>0</th>\n",
       "      <td>[EU, None, German, British]</td>\n",
       "    </tr>\n",
       "    <tr>\n",
       "      <th>1</th>\n",
       "      <td>[Peter Blackburn, None, BRUSSELS, European Com...</td>\n",
       "    </tr>\n",
       "    <tr>\n",
       "      <th>2</th>\n",
       "      <td>[Germany, None, European Union, Werner Zwingma...</td>\n",
       "    </tr>\n",
       "    <tr>\n",
       "      <th>3</th>\n",
       "      <td>[None, Commission, Nikolaus van der Pas]</td>\n",
       "    </tr>\n",
       "    <tr>\n",
       "      <th>4</th>\n",
       "      <td>[None, European Union]</td>\n",
       "    </tr>\n",
       "  </tbody>\n",
       "</table>\n",
       "</div>"
      ],
      "text/plain": [
       "                                                        unique\n",
       "sentence_id                                                   \n",
       "0                                  [EU, None, German, British]\n",
       "1            [Peter Blackburn, None, BRUSSELS, European Com...\n",
       "2            [Germany, None, European Union, Werner Zwingma...\n",
       "3                     [None, Commission, Nikolaus van der Pas]\n",
       "4                                       [None, European Union]"
      ]
     },
     "execution_count": 8,
     "metadata": {},
     "output_type": "execute_result"
    }
   ],
   "source": [
    "%%time\n",
    "# Run over full dataset\n",
    "same_sentence_entities = acy_df.groupby('sentence_id')['full_mention'].agg(['unique'])\n",
    "same_sentence_entities[:5]"
   ]
  },
  {
   "cell_type": "markdown",
   "metadata": {},
   "source": [
    "## Create ACY Dataset where row = full_mention\n",
    "\n",
    "Now we create a version of the dataset where each row represents a unique instance of a full_mention value - basically all rows where full_mention != None. We do this because we are experimenting with how contextual information provided by nearby full mentions can improve full mention prediction. We leave it to future researchers to investigate how contextual full mentions and contextual non-mention tokens might improve accuracy."
   ]
  },
  {
   "cell_type": "code",
   "execution_count": 9,
   "metadata": {},
   "outputs": [
    {
     "data": {
      "text/html": [
       "<div>\n",
       "<style scoped>\n",
       "    .dataframe tbody tr th:only-of-type {\n",
       "        vertical-align: middle;\n",
       "    }\n",
       "\n",
       "    .dataframe tbody tr th {\n",
       "        vertical-align: top;\n",
       "    }\n",
       "\n",
       "    .dataframe thead th {\n",
       "        text-align: right;\n",
       "    }\n",
       "</style>\n",
       "<table border=\"1\" class=\"dataframe\">\n",
       "  <thead>\n",
       "    <tr style=\"text-align: right;\">\n",
       "      <th></th>\n",
       "      <th>token</th>\n",
       "      <th>mention</th>\n",
       "      <th>full_mention</th>\n",
       "      <th>YAGO2</th>\n",
       "      <th>wikipedia_URL</th>\n",
       "      <th>wikipedia_ID</th>\n",
       "      <th>freebase</th>\n",
       "      <th>sentence_id</th>\n",
       "      <th>doc_id</th>\n",
       "    </tr>\n",
       "  </thead>\n",
       "  <tbody>\n",
       "    <tr>\n",
       "      <th>0</th>\n",
       "      <td>EU</td>\n",
       "      <td>B</td>\n",
       "      <td>EU</td>\n",
       "      <td>--NME--</td>\n",
       "      <td>None</td>\n",
       "      <td>None</td>\n",
       "      <td>None</td>\n",
       "      <td>0</td>\n",
       "      <td>0</td>\n",
       "    </tr>\n",
       "    <tr>\n",
       "      <th>1</th>\n",
       "      <td>German</td>\n",
       "      <td>B</td>\n",
       "      <td>German</td>\n",
       "      <td>Germany</td>\n",
       "      <td>http://en.wikipedia.org/wiki/Germany</td>\n",
       "      <td>11867</td>\n",
       "      <td>/m/0345h</td>\n",
       "      <td>0</td>\n",
       "      <td>0</td>\n",
       "    </tr>\n",
       "    <tr>\n",
       "      <th>2</th>\n",
       "      <td>British</td>\n",
       "      <td>B</td>\n",
       "      <td>British</td>\n",
       "      <td>United_Kingdom</td>\n",
       "      <td>http://en.wikipedia.org/wiki/United_Kingdom</td>\n",
       "      <td>31717</td>\n",
       "      <td>/m/07ssc</td>\n",
       "      <td>0</td>\n",
       "      <td>0</td>\n",
       "    </tr>\n",
       "    <tr>\n",
       "      <th>3</th>\n",
       "      <td>Peter</td>\n",
       "      <td>B</td>\n",
       "      <td>Peter Blackburn</td>\n",
       "      <td>--NME--</td>\n",
       "      <td>None</td>\n",
       "      <td>None</td>\n",
       "      <td>None</td>\n",
       "      <td>1</td>\n",
       "      <td>0</td>\n",
       "    </tr>\n",
       "    <tr>\n",
       "      <th>4</th>\n",
       "      <td>Blackburn</td>\n",
       "      <td>I</td>\n",
       "      <td>Peter Blackburn</td>\n",
       "      <td>--NME--</td>\n",
       "      <td>None</td>\n",
       "      <td>None</td>\n",
       "      <td>None</td>\n",
       "      <td>1</td>\n",
       "      <td>0</td>\n",
       "    </tr>\n",
       "  </tbody>\n",
       "</table>\n",
       "</div>"
      ],
      "text/plain": [
       "       token mention     full_mention           YAGO2  \\\n",
       "0         EU       B               EU         --NME--   \n",
       "1     German       B           German         Germany   \n",
       "2    British       B          British  United_Kingdom   \n",
       "3      Peter       B  Peter Blackburn         --NME--   \n",
       "4  Blackburn       I  Peter Blackburn         --NME--   \n",
       "\n",
       "                                 wikipedia_URL wikipedia_ID  freebase  \\\n",
       "0                                         None         None      None   \n",
       "1         http://en.wikipedia.org/wiki/Germany        11867  /m/0345h   \n",
       "2  http://en.wikipedia.org/wiki/United_Kingdom        31717  /m/07ssc   \n",
       "3                                         None         None      None   \n",
       "4                                         None         None      None   \n",
       "\n",
       "   sentence_id  doc_id  \n",
       "0            0       0  \n",
       "1            0       0  \n",
       "2            0       0  \n",
       "3            1       0  \n",
       "4            1       0  "
      ]
     },
     "execution_count": 9,
     "metadata": {},
     "output_type": "execute_result"
    }
   ],
   "source": [
    "# Drop all tokens that aren't full mentions\n",
    "acy_input = acy_df[acy_df['full_mention'].notnull()].reset_index(drop=True)\n",
    "acy_input.head(5)"
   ]
  },
  {
   "cell_type": "markdown",
   "metadata": {},
   "source": [
    "## Process URL into Wikipedia Title\n",
    "\n",
    "We later use this to match string predictions in certain implementations."
   ]
  },
  {
   "cell_type": "code",
   "execution_count": 10,
   "metadata": {},
   "outputs": [
    {
     "data": {
      "text/plain": [
       "[None, 'Germany', 'United Kingdom', None, None]"
      ]
     },
     "metadata": {},
     "output_type": "display_data"
    },
    {
     "data": {
      "text/html": [
       "<div>\n",
       "<style scoped>\n",
       "    .dataframe tbody tr th:only-of-type {\n",
       "        vertical-align: middle;\n",
       "    }\n",
       "\n",
       "    .dataframe tbody tr th {\n",
       "        vertical-align: top;\n",
       "    }\n",
       "\n",
       "    .dataframe thead th {\n",
       "        text-align: right;\n",
       "    }\n",
       "</style>\n",
       "<table border=\"1\" class=\"dataframe\">\n",
       "  <thead>\n",
       "    <tr style=\"text-align: right;\">\n",
       "      <th></th>\n",
       "      <th>token</th>\n",
       "      <th>mention</th>\n",
       "      <th>full_mention</th>\n",
       "      <th>YAGO2</th>\n",
       "      <th>wikipedia_URL</th>\n",
       "      <th>wikipedia_ID</th>\n",
       "      <th>freebase</th>\n",
       "      <th>sentence_id</th>\n",
       "      <th>doc_id</th>\n",
       "      <th>wikipedia_title</th>\n",
       "    </tr>\n",
       "  </thead>\n",
       "  <tbody>\n",
       "    <tr>\n",
       "      <th>0</th>\n",
       "      <td>EU</td>\n",
       "      <td>B</td>\n",
       "      <td>EU</td>\n",
       "      <td>--NME--</td>\n",
       "      <td>None</td>\n",
       "      <td>None</td>\n",
       "      <td>None</td>\n",
       "      <td>0</td>\n",
       "      <td>0</td>\n",
       "      <td>None</td>\n",
       "    </tr>\n",
       "    <tr>\n",
       "      <th>1</th>\n",
       "      <td>German</td>\n",
       "      <td>B</td>\n",
       "      <td>German</td>\n",
       "      <td>Germany</td>\n",
       "      <td>http://en.wikipedia.org/wiki/Germany</td>\n",
       "      <td>11867</td>\n",
       "      <td>/m/0345h</td>\n",
       "      <td>0</td>\n",
       "      <td>0</td>\n",
       "      <td>Germany</td>\n",
       "    </tr>\n",
       "    <tr>\n",
       "      <th>2</th>\n",
       "      <td>British</td>\n",
       "      <td>B</td>\n",
       "      <td>British</td>\n",
       "      <td>United_Kingdom</td>\n",
       "      <td>http://en.wikipedia.org/wiki/United_Kingdom</td>\n",
       "      <td>31717</td>\n",
       "      <td>/m/07ssc</td>\n",
       "      <td>0</td>\n",
       "      <td>0</td>\n",
       "      <td>United Kingdom</td>\n",
       "    </tr>\n",
       "  </tbody>\n",
       "</table>\n",
       "</div>"
      ],
      "text/plain": [
       "     token mention full_mention           YAGO2  \\\n",
       "0       EU       B           EU         --NME--   \n",
       "1   German       B       German         Germany   \n",
       "2  British       B      British  United_Kingdom   \n",
       "\n",
       "                                 wikipedia_URL wikipedia_ID  freebase  \\\n",
       "0                                         None         None      None   \n",
       "1         http://en.wikipedia.org/wiki/Germany        11867  /m/0345h   \n",
       "2  http://en.wikipedia.org/wiki/United_Kingdom        31717  /m/07ssc   \n",
       "\n",
       "   sentence_id  doc_id wikipedia_title  \n",
       "0            0       0            None  \n",
       "1            0       0         Germany  \n",
       "2            0       0  United Kingdom  "
      ]
     },
     "execution_count": 10,
     "metadata": {},
     "output_type": "execute_result"
    }
   ],
   "source": [
    "# Define wikipedia_title variable in format with spaces, not underlines\n",
    "# Values seen as None have type float so checking for that\n",
    "def replace_lines(text):\n",
    "    return str(text).replace(\"_\", \" \")\n",
    "\n",
    "# Define wikipedia_title for all values\n",
    "wikipedia_title = [replace_lines(i.split(\"/\")[-1]) if i is not None else None for i in acy_input['wikipedia_URL']]\n",
    "display(wikipedia_title[:5])\n",
    "acy_input['wikipedia_title'] = wikipedia_title\n",
    "acy_input.head(3)"
   ]
  },
  {
   "cell_type": "markdown",
   "metadata": {},
   "source": [
    "## Add Congruent Mentions to Dataframe"
   ]
  },
  {
   "cell_type": "code",
   "execution_count": 11,
   "metadata": {},
   "outputs": [
    {
     "name": "stderr",
     "output_type": "stream",
     "text": [
      "100%|██████████| 29312/29312 [00:05<00:00, 5262.70it/s]\n"
     ]
    }
   ],
   "source": [
    "# Add congruent mentions to dataframe\n",
    "congruent_mentions_list = []\n",
    "for mention in tqdm(range(len(acy_input))):\n",
    "    sentence_id = acy_input.iloc[mention]['sentence_id']\n",
    "    congruent_mentions = list(filter(None, same_sentence_entities.iloc[sentence_id][0]))\n",
    "    congruent_mentions_list.append(congruent_mentions)\n",
    "\n",
    "acy_input['congruent_mentions'] = congruent_mentions_list"
   ]
  },
  {
   "cell_type": "markdown",
   "metadata": {},
   "source": [
    "# Final Input Dataset Form"
   ]
  },
  {
   "cell_type": "code",
   "execution_count": 12,
   "metadata": {},
   "outputs": [],
   "source": [
    "# Drop a few columns we aren't explicitly using\n",
    "acy_input = acy_input.drop(columns=[\n",
    "    'token',\n",
    "    'YAGO2',\n",
    "    'freebase'\n",
    "])"
   ]
  },
  {
   "cell_type": "code",
   "execution_count": 13,
   "metadata": {},
   "outputs": [],
   "source": [
    "# Rename wikipedia_ID to wikipedia_page_ID for clarity\n",
    "acy_input = acy_input.rename(columns={'wikipedia_ID': 'wikipedia_page_ID'})"
   ]
  },
  {
   "cell_type": "code",
   "execution_count": 14,
   "metadata": {},
   "outputs": [
    {
     "name": "stdout",
     "output_type": "stream",
     "text": [
      "['mention', 'full_mention', 'wikipedia_URL', 'wikipedia_page_ID', 'sentence_id', 'doc_id', 'wikipedia_title', 'congruent_mentions']\n",
      "['mention', 'full_mention', 'wikipedia_URL', 'wikipedia_page_ID', 'wikipedia_title', 'sentence_id', 'doc_id', 'congruent_mentions']\n"
     ]
    },
    {
     "data": {
      "text/html": [
       "<div>\n",
       "<style scoped>\n",
       "    .dataframe tbody tr th:only-of-type {\n",
       "        vertical-align: middle;\n",
       "    }\n",
       "\n",
       "    .dataframe tbody tr th {\n",
       "        vertical-align: top;\n",
       "    }\n",
       "\n",
       "    .dataframe thead th {\n",
       "        text-align: right;\n",
       "    }\n",
       "</style>\n",
       "<table border=\"1\" class=\"dataframe\">\n",
       "  <thead>\n",
       "    <tr style=\"text-align: right;\">\n",
       "      <th></th>\n",
       "      <th>mention</th>\n",
       "      <th>full_mention</th>\n",
       "      <th>wikipedia_URL</th>\n",
       "      <th>wikipedia_page_ID</th>\n",
       "      <th>wikipedia_title</th>\n",
       "      <th>sentence_id</th>\n",
       "      <th>doc_id</th>\n",
       "      <th>congruent_mentions</th>\n",
       "    </tr>\n",
       "  </thead>\n",
       "  <tbody>\n",
       "    <tr>\n",
       "      <th>0</th>\n",
       "      <td>B</td>\n",
       "      <td>EU</td>\n",
       "      <td>None</td>\n",
       "      <td>None</td>\n",
       "      <td>None</td>\n",
       "      <td>0</td>\n",
       "      <td>0</td>\n",
       "      <td>[EU, German, British]</td>\n",
       "    </tr>\n",
       "    <tr>\n",
       "      <th>1</th>\n",
       "      <td>B</td>\n",
       "      <td>German</td>\n",
       "      <td>http://en.wikipedia.org/wiki/Germany</td>\n",
       "      <td>11867</td>\n",
       "      <td>Germany</td>\n",
       "      <td>0</td>\n",
       "      <td>0</td>\n",
       "      <td>[EU, German, British]</td>\n",
       "    </tr>\n",
       "    <tr>\n",
       "      <th>2</th>\n",
       "      <td>B</td>\n",
       "      <td>British</td>\n",
       "      <td>http://en.wikipedia.org/wiki/United_Kingdom</td>\n",
       "      <td>31717</td>\n",
       "      <td>United Kingdom</td>\n",
       "      <td>0</td>\n",
       "      <td>0</td>\n",
       "      <td>[EU, German, British]</td>\n",
       "    </tr>\n",
       "  </tbody>\n",
       "</table>\n",
       "</div>"
      ],
      "text/plain": [
       "  mention full_mention                                wikipedia_URL  \\\n",
       "0       B           EU                                         None   \n",
       "1       B       German         http://en.wikipedia.org/wiki/Germany   \n",
       "2       B      British  http://en.wikipedia.org/wiki/United_Kingdom   \n",
       "\n",
       "  wikipedia_page_ID wikipedia_title  sentence_id  doc_id  \\\n",
       "0              None            None            0       0   \n",
       "1             11867         Germany            0       0   \n",
       "2             31717  United Kingdom            0       0   \n",
       "\n",
       "      congruent_mentions  \n",
       "0  [EU, German, British]  \n",
       "1  [EU, German, British]  \n",
       "2  [EU, German, British]  "
      ]
     },
     "metadata": {},
     "output_type": "display_data"
    }
   ],
   "source": [
    "# Re-order columns for clarity\n",
    "column_headers = acy_input.columns.tolist()\n",
    "print(column_headers)\n",
    "\n",
    "reordered_columns = column_headers[:4] + [column_headers[-2]] + column_headers[4:6] + [column_headers[-1]]\n",
    "print(reordered_columns)\n",
    "\n",
    "assert len(column_headers) == len(reordered_columns)\n",
    "\n",
    "acy_output = acy_input[reordered_columns]\n",
    "display(acy_output.head(3))"
   ]
  },
  {
   "cell_type": "markdown",
   "metadata": {},
   "source": [
    "There are a number of full_mentions without a response variable (`wikipedia_URL` or `wikipedia_page_ID`) that we can check accuracy against. We keep these as congruent mentions for improved context later in the pipeline, but we must remember to exclude these when calculating accuracy later as well."
   ]
  },
  {
   "cell_type": "code",
   "execution_count": 15,
   "metadata": {},
   "outputs": [
    {
     "name": "stdout",
     "output_type": "stream",
     "text": [
      "Percent with No Known True Value:  24.069 %\n"
     ]
    }
   ],
   "source": [
    "# Size of blank wikipedia_URL problem\n",
    "print(\"Percent with No Known True Value: \",\\\n",
    "      round(sum(acy_input['wikipedia_URL'].isnull())/len(acy_output)*100,3), \"%\")\n",
    "\n",
    "# Not dropping null true response now but line available if desired\n",
    "# acy_input = acy_input[acy_input['wikipedia_URL'].notnull()]"
   ]
  },
  {
   "cell_type": "markdown",
   "metadata": {},
   "source": [
    "### Assess Distribution of Sentence Length\n",
    "\n",
    "Our input dataset Aida-Conll-Yago defines various types of \"sentences\", including long listings of sports results as being a part of a single \"sentence.\" We experiment with accuracy and computational performance later in the pipeline using various limits of sentence length, identifying which types of sentences and of which size are most performant. The code below explores the distribution of unique sentence lengths and allows filtering to various lengths."
   ]
  },
  {
   "cell_type": "code",
   "execution_count": 16,
   "metadata": {},
   "outputs": [
    {
     "data": {
      "text/plain": [
       "194"
      ]
     },
     "execution_count": 16,
     "metadata": {},
     "output_type": "execute_result"
    }
   ],
   "source": [
    "# What is the maximum number of contextual entities in a single sentence\n",
    "max(acy_output['congruent_mentions'].apply(len))"
   ]
  },
  {
   "cell_type": "code",
   "execution_count": 17,
   "metadata": {},
   "outputs": [
    {
     "data": {
      "text/plain": [
       "29312"
      ]
     },
     "execution_count": 17,
     "metadata": {},
     "output_type": "execute_result"
    }
   ],
   "source": [
    "# How many full mention instances are there in total\n",
    "len(acy_output['congruent_mentions'])"
   ]
  },
  {
   "cell_type": "code",
   "execution_count": 18,
   "metadata": {},
   "outputs": [
    {
     "data": {
      "image/png": "[encoded data removed]",
      "text/plain": [
       "<Figure size 1440x360 with 1 Axes>"
      ]
     },
     "metadata": {
      "needs_background": "light"
     },
     "output_type": "display_data"
    }
   ],
   "source": [
    "# What is the distribution of contextual mention counts for unique sentences\n",
    "plt.figure(figsize=(20,5))\n",
    "acy_output['congruent_mentions'].apply(len).hist(bins=100)\n",
    "plt.title(\"distribution of congruent mention counts\", size=20)\n",
    "plt.show()"
   ]
  },
  {
   "cell_type": "code",
   "execution_count": 19,
   "metadata": {},
   "outputs": [],
   "source": [
    "## Which sentences are of interest\n",
    "\n",
    "# Experimentation on downstream performance suggests 25 is a sweetpoint where congruence is most impactful for accuracy\n",
    "# Ideal for max accuracy is 25, smaller necessary for centroid computation is 5\n",
    "\n",
    "sentence_ids = acy_output[acy_output['congruent_mentions'].apply(len) > 25]['sentence_id'].unique()"
   ]
  },
  {
   "cell_type": "code",
   "execution_count": 20,
   "metadata": {},
   "outputs": [],
   "source": [
    "# Filter out sentence_ids representing long congruent mentions\n",
    "# These overly long congruent mentions are usually list of sports results\n",
    "acy_output = acy_output[~acy_output['sentence_id'].isin(sentence_ids)]\n",
    "assert sum(acy_output['sentence_id'].isin(sentence_ids)) == 0"
   ]
  },
  {
   "cell_type": "markdown",
   "metadata": {},
   "source": [
    "### Save Processed Input"
   ]
  },
  {
   "cell_type": "code",
   "execution_count": 21,
   "metadata": {},
   "outputs": [
    {
     "name": "stdout",
     "output_type": "stream",
     "text": [
      "Length of Final Input Dataset: 21,810\n"
     ]
    },
    {
     "data": {
      "text/html": [
       "<div>\n",
       "<style scoped>\n",
       "    .dataframe tbody tr th:only-of-type {\n",
       "        vertical-align: middle;\n",
       "    }\n",
       "\n",
       "    .dataframe tbody tr th {\n",
       "        vertical-align: top;\n",
       "    }\n",
       "\n",
       "    .dataframe thead th {\n",
       "        text-align: right;\n",
       "    }\n",
       "</style>\n",
       "<table border=\"1\" class=\"dataframe\">\n",
       "  <thead>\n",
       "    <tr style=\"text-align: right;\">\n",
       "      <th></th>\n",
       "      <th>mention</th>\n",
       "      <th>full_mention</th>\n",
       "      <th>wikipedia_URL</th>\n",
       "      <th>wikipedia_page_ID</th>\n",
       "      <th>wikipedia_title</th>\n",
       "      <th>sentence_id</th>\n",
       "      <th>doc_id</th>\n",
       "      <th>congruent_mentions</th>\n",
       "    </tr>\n",
       "  </thead>\n",
       "  <tbody>\n",
       "    <tr>\n",
       "      <th>0</th>\n",
       "      <td>B</td>\n",
       "      <td>EU</td>\n",
       "      <td>None</td>\n",
       "      <td>None</td>\n",
       "      <td>None</td>\n",
       "      <td>0</td>\n",
       "      <td>0</td>\n",
       "      <td>[EU, German, British]</td>\n",
       "    </tr>\n",
       "    <tr>\n",
       "      <th>1</th>\n",
       "      <td>B</td>\n",
       "      <td>German</td>\n",
       "      <td>http://en.wikipedia.org/wiki/Germany</td>\n",
       "      <td>11867</td>\n",
       "      <td>Germany</td>\n",
       "      <td>0</td>\n",
       "      <td>0</td>\n",
       "      <td>[EU, German, British]</td>\n",
       "    </tr>\n",
       "    <tr>\n",
       "      <th>2</th>\n",
       "      <td>B</td>\n",
       "      <td>British</td>\n",
       "      <td>http://en.wikipedia.org/wiki/United_Kingdom</td>\n",
       "      <td>31717</td>\n",
       "      <td>United Kingdom</td>\n",
       "      <td>0</td>\n",
       "      <td>0</td>\n",
       "      <td>[EU, German, British]</td>\n",
       "    </tr>\n",
       "    <tr>\n",
       "      <th>3</th>\n",
       "      <td>B</td>\n",
       "      <td>Peter Blackburn</td>\n",
       "      <td>None</td>\n",
       "      <td>None</td>\n",
       "      <td>None</td>\n",
       "      <td>1</td>\n",
       "      <td>0</td>\n",
       "      <td>[Peter Blackburn, BRUSSELS, European Commissio...</td>\n",
       "    </tr>\n",
       "    <tr>\n",
       "      <th>4</th>\n",
       "      <td>I</td>\n",
       "      <td>Peter Blackburn</td>\n",
       "      <td>None</td>\n",
       "      <td>None</td>\n",
       "      <td>None</td>\n",
       "      <td>1</td>\n",
       "      <td>0</td>\n",
       "      <td>[Peter Blackburn, BRUSSELS, European Commissio...</td>\n",
       "    </tr>\n",
       "  </tbody>\n",
       "</table>\n",
       "</div>"
      ],
      "text/plain": [
       "  mention     full_mention                                wikipedia_URL  \\\n",
       "0       B               EU                                         None   \n",
       "1       B           German         http://en.wikipedia.org/wiki/Germany   \n",
       "2       B          British  http://en.wikipedia.org/wiki/United_Kingdom   \n",
       "3       B  Peter Blackburn                                         None   \n",
       "4       I  Peter Blackburn                                         None   \n",
       "\n",
       "  wikipedia_page_ID wikipedia_title  sentence_id  doc_id  \\\n",
       "0              None            None            0       0   \n",
       "1             11867         Germany            0       0   \n",
       "2             31717  United Kingdom            0       0   \n",
       "3              None            None            1       0   \n",
       "4              None            None            1       0   \n",
       "\n",
       "                                  congruent_mentions  \n",
       "0                              [EU, German, British]  \n",
       "1                              [EU, German, British]  \n",
       "2                              [EU, German, British]  \n",
       "3  [Peter Blackburn, BRUSSELS, European Commissio...  \n",
       "4  [Peter Blackburn, BRUSSELS, European Commissio...  "
      ]
     },
     "execution_count": 21,
     "metadata": {},
     "output_type": "execute_result"
    }
   ],
   "source": [
    "print(\"Length of Final Input Dataset: {:,}\".format(len(acy_output)))\n",
    "acy_output.head(5)"
   ]
  },
  {
   "cell_type": "code",
   "execution_count": 22,
   "metadata": {},
   "outputs": [],
   "source": [
    "acy_output.to_csv(os.path.join(acy_path, \"Aida-Conll-Yago-Input.csv\"), index=False)"
   ]
  }
 ],
 "metadata": {
  "kernelspec": {
   "display_name": "Python 3",
   "language": "python",
   "name": "python3"
  },
  "language_info": {
   "codemirror_mode": {
    "name": "ipython",
    "version": 3
   },
   "file_extension": ".py",
   "mimetype": "text/x-python",
   "name": "python",
   "nbconvert_exporter": "python",
   "pygments_lexer": "ipython3",
   "version": "3.7.7"
  }
 },
 "nbformat": 4,
 "nbformat_minor": 4
}
