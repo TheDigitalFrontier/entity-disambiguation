{
 "cells": [
  {
   "cell_type": "markdown",
   "metadata": {
    "id": "99A4utu3SdQv"
   },
   "source": [
    "# Step Three (B): Find Similar Entities via Adapted Wikipedia2vec most_similar()\n",
    "\n",
    "We have now returned all of the entities we'll get from direct querying of the package. We must now use alternate measures to identify candidate entities and select from that pool."
   ]
  },
  {
   "cell_type": "markdown",
   "metadata": {
    "id": "zgfTiDYVSgFm"
   },
   "source": [
    "# Note: This is the colab version used for trying to improve speed and use higher-dimensional vectors."
   ]
  },
  {
   "cell_type": "markdown",
   "metadata": {
    "id": "xfeFJmbFSdQv"
   },
   "source": [
    "#### Import Packages"
   ]
  },
  {
   "cell_type": "code",
   "execution_count": 1,
   "metadata": {
    "id": "RhsLecMKSdQv"
   },
   "outputs": [],
   "source": [
    "import os\n",
    "import time\n",
    "\n",
    "import pandas as pd\n",
    "import numpy as np\n",
    "import matplotlib.pyplot as plt\n",
    "%matplotlib inline\n",
    "\n",
    "# Progress bar\n",
    "from tqdm import tqdm"
   ]
  },
  {
   "cell_type": "code",
   "execution_count": 2,
   "metadata": {
    "colab": {
     "base_uri": "https://localhost:8080/"
    },
    "id": "Y6sfDuYMSsHA",
    "outputId": "8e4649c7-b847-43d8-c5ce-204079e45758"
   },
   "outputs": [
    {
     "name": "stdout",
     "output_type": "stream",
     "text": [
      "Collecting wikipedia2vec\n",
      "\u001b[?25l  Downloading https://files.pythonhosted.org/packages/d8/88/751037c70ca86581d444824e66bb799ef9060339a1d5d1fc1804c422d7cc/wikipedia2vec-1.0.4.tar.gz (1.2MB)\n",
      "\u001b[K     |████████████████████████████████| 1.2MB 8.9MB/s \n",
      "\u001b[?25hRequirement already satisfied: click in /usr/local/lib/python3.6/dist-packages (from wikipedia2vec) (7.1.2)\n",
      "Requirement already satisfied: jieba in /usr/local/lib/python3.6/dist-packages (from wikipedia2vec) (0.42.1)\n",
      "Requirement already satisfied: joblib in /usr/local/lib/python3.6/dist-packages (from wikipedia2vec) (0.17.0)\n",
      "Requirement already satisfied: lmdb in /usr/local/lib/python3.6/dist-packages (from wikipedia2vec) (0.99)\n",
      "Collecting marisa-trie\n",
      "\u001b[?25l  Downloading https://files.pythonhosted.org/packages/20/95/d23071d0992dabcb61c948fb118a90683193befc88c23e745b050a29e7db/marisa-trie-0.7.5.tar.gz (270kB)\n",
      "\u001b[K     |████████████████████████████████| 276kB 24.2MB/s \n",
      "\u001b[?25hCollecting mwparserfromhell\n",
      "\u001b[?25l  Downloading https://files.pythonhosted.org/packages/23/03/4fb04da533c7e237c0104151c028d8bff856293d34e51d208c529696fb79/mwparserfromhell-0.5.4.tar.gz (135kB)\n",
      "\u001b[K     |████████████████████████████████| 143kB 23.0MB/s \n",
      "\u001b[?25hRequirement already satisfied: numpy in /usr/local/lib/python3.6/dist-packages (from wikipedia2vec) (1.18.5)\n",
      "Requirement already satisfied: scipy in /usr/local/lib/python3.6/dist-packages (from wikipedia2vec) (1.4.1)\n",
      "Requirement already satisfied: six in /usr/local/lib/python3.6/dist-packages (from wikipedia2vec) (1.15.0)\n",
      "Requirement already satisfied: tqdm in /usr/local/lib/python3.6/dist-packages (from wikipedia2vec) (4.41.1)\n",
      "Building wheels for collected packages: wikipedia2vec, marisa-trie, mwparserfromhell\n",
      "  Building wheel for wikipedia2vec (setup.py) ... \u001b[?25l\u001b[?25hdone\n",
      "  Created wheel for wikipedia2vec: filename=wikipedia2vec-1.0.4-cp36-cp36m-linux_x86_64.whl size=4581729 sha256=2a6c29cfbcdcc171e8cbe61ae71f1faf82ff63f9d876ac8fe82638cba78c9135\n",
      "  Stored in directory: /root/.cache/pip/wheels/16/e7/02/852c8ce366cc10adcf5d43c6471bbf926dd15c277578c13184\n",
      "  Building wheel for marisa-trie (setup.py) ... \u001b[?25l\u001b[?25hdone\n",
      "  Created wheel for marisa-trie: filename=marisa_trie-0.7.5-cp36-cp36m-linux_x86_64.whl size=861459 sha256=532c6a4469b42581f2b22b7a22edcd0c12e26fced7471753352e79ade478752a\n",
      "  Stored in directory: /root/.cache/pip/wheels/45/24/79/022624fc914f0e559fe8a1141aaff1f9df810905a13fc75d57\n",
      "  Building wheel for mwparserfromhell (setup.py) ... \u001b[?25l\u001b[?25hdone\n",
      "  Created wheel for mwparserfromhell: filename=mwparserfromhell-0.5.4-cp36-cp36m-linux_x86_64.whl size=183787 sha256=f48c6c76fa812c33b2db91f21cac785c5d08dbb3b90ae8681b937f4cd5633a78\n",
      "  Stored in directory: /root/.cache/pip/wheels/2a/76/d5/7088b941df3b362c45dd7912dd05314bc034751ec9cbca9a75\n",
      "Successfully built wikipedia2vec marisa-trie mwparserfromhell\n",
      "Installing collected packages: marisa-trie, mwparserfromhell, wikipedia2vec\n",
      "Successfully installed marisa-trie-0.7.5 mwparserfromhell-0.5.4 wikipedia2vec-1.0.4\n"
     ]
    }
   ],
   "source": [
    "!pip install wikipedia2vec"
   ]
  },
  {
   "cell_type": "code",
   "execution_count": 3,
   "metadata": {
    "id": "nvutw5sFSdQw"
   },
   "outputs": [],
   "source": [
    "# Package\n",
    "from wikipedia2vec import Wikipedia2Vec\n",
    "\n",
    "# Class to compare type\n",
    "from wikipedia2vec.dictionary import Entity"
   ]
  },
  {
   "cell_type": "code",
   "execution_count": 5,
   "metadata": {
    "colab": {
     "base_uri": "https://localhost:8080/"
    },
    "id": "MiN_d5aXTP0w",
    "outputId": "da51cafd-7c75-4788-8be7-28263763ae53"
   },
   "outputs": [
    {
     "name": "stdout",
     "output_type": "stream",
     "text": [
      "  % Total    % Received % Xferd  Average Speed   Time    Time     Time  Current\n",
      "                                 Dload  Upload   Total   Spent    Left  Speed\n",
      "100 3352M  100 3352M    0     0  33.0M      0  0:01:41  0:01:41 --:--:-- 33.4M\n"
     ]
    }
   ],
   "source": [
    "# Download dimensional file from Wikipedia2vec website\n",
    "!curl -O http://wikipedia2vec.s3.amazonaws.com/models/en/2018-04-20/enwiki_20180420_100d.pkl.bz2"
   ]
  },
  {
   "cell_type": "code",
   "execution_count": 11,
   "metadata": {
    "id": "A6DSBUDsTaJj"
   },
   "outputs": [],
   "source": [
    "!bzip2 -d enwiki_20180420_100d.pkl.bz2"
   ]
  },
  {
   "cell_type": "code",
   "execution_count": 12,
   "metadata": {
    "colab": {
     "base_uri": "https://localhost:8080/"
    },
    "id": "Jf9yoICTUKVF",
    "outputId": "e4ab5549-8e4a-4ed9-f2c7-ab6d14dc2aee"
   },
   "outputs": [
    {
     "name": "stdout",
     "output_type": "stream",
     "text": [
      "enwiki_20180420_100d.pkl  sample_data\n"
     ]
    }
   ],
   "source": [
    "!ls"
   ]
  },
  {
   "cell_type": "code",
   "execution_count": 13,
   "metadata": {
    "colab": {
     "base_uri": "https://localhost:8080/"
    },
    "id": "e_xYmqKnSdQw",
    "outputId": "7d57cc29-1898-41f4-bf3f-eda75984b4fe"
   },
   "outputs": [
    {
     "name": "stdout",
     "output_type": "stream",
     "text": [
      "CPU times: user 41.2 ms, sys: 136 ms, total: 178 ms\n",
      "Wall time: 213 ms\n"
     ]
    }
   ],
   "source": [
    "%%time\n",
    "# Load unzipped pkl file with word embeddings\n",
    "w2v = Wikipedia2Vec.load(\"enwiki_20180420_100d.pkl\")"
   ]
  },
  {
   "cell_type": "markdown",
   "metadata": {
    "id": "Mm8vSJy4SdQx"
   },
   "source": [
    "## Load ACY Input Data"
   ]
  },
  {
   "cell_type": "code",
   "execution_count": 15,
   "metadata": {
    "colab": {
     "base_uri": "https://localhost:8080/",
     "height": 70,
     "resources": {
      "http://localhost:8080/nbextensions/google.colab/files.js": {
       "data": "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",
       "headers": [
        [
         "content-type",
         "application/javascript"
        ]
       ],
       "ok": true,
       "status": 200,
       "status_text": "OK"
      }
     }
    },
    "id": "ozmmrZ18WwBz",
    "outputId": "86fd91ec-899a-49b0-a247-c83fd2c4b666"
   },
   "outputs": [
    {
     "data": {
      "text/html": [
       "\n",
       "     <input type=\"file\" id=\"files-139205e3-4a60-44cb-a3ee-08a20dab12d8\" name=\"files[]\" multiple disabled\n",
       "        style=\"border:none\" />\n",
       "     <output id=\"result-139205e3-4a60-44cb-a3ee-08a20dab12d8\">\n",
       "      Upload widget is only available when the cell has been executed in the\n",
       "      current browser session. Please rerun this cell to enable.\n",
       "      </output>\n",
       "      <script src=\"/nbextensions/google.colab/files.js\"></script> "
      ],
      "text/plain": [
       "<IPython.core.display.HTML object>"
      ]
     },
     "metadata": {
      "tags": []
     },
     "output_type": "display_data"
    },
    {
     "name": "stdout",
     "output_type": "stream",
     "text": [
      "Saving Aida-Conll-Yago-Input.csv to Aida-Conll-Yago-Input.csv\n"
     ]
    }
   ],
   "source": [
    "from google.colab import files\n",
    "uploaded = files.upload()"
   ]
  },
  {
   "cell_type": "code",
   "execution_count": 17,
   "metadata": {
    "colab": {
     "base_uri": "https://localhost:8080/"
    },
    "id": "aJJNvJAdXKS3",
    "outputId": "8dc0a1a5-822d-48c4-8a9a-06f404be0586"
   },
   "outputs": [
    {
     "name": "stdout",
     "output_type": "stream",
     "text": [
      "Aida-Conll-Yago-Input.csv  enwiki_20180420_100d.pkl  sample_data\n"
     ]
    }
   ],
   "source": [
    "!ls"
   ]
  },
  {
   "cell_type": "code",
   "execution_count": 16,
   "metadata": {
    "colab": {
     "base_uri": "https://localhost:8080/",
     "height": 143
    },
    "id": "u8Su72NSSdQx",
    "outputId": "988b6637-a4f2-4585-dcdc-13226d629eb0"
   },
   "outputs": [
    {
     "data": {
      "text/html": [
       "<div>\n",
       "<style scoped>\n",
       "    .dataframe tbody tr th:only-of-type {\n",
       "        vertical-align: middle;\n",
       "    }\n",
       "\n",
       "    .dataframe tbody tr th {\n",
       "        vertical-align: top;\n",
       "    }\n",
       "\n",
       "    .dataframe thead th {\n",
       "        text-align: right;\n",
       "    }\n",
       "</style>\n",
       "<table border=\"1\" class=\"dataframe\">\n",
       "  <thead>\n",
       "    <tr style=\"text-align: right;\">\n",
       "      <th></th>\n",
       "      <th>mention</th>\n",
       "      <th>full_mention</th>\n",
       "      <th>wikipedia_URL</th>\n",
       "      <th>wikipedia_page_ID</th>\n",
       "      <th>wikipedia_title</th>\n",
       "      <th>sentence_id</th>\n",
       "      <th>doc_id</th>\n",
       "      <th>congruent_mentions</th>\n",
       "    </tr>\n",
       "  </thead>\n",
       "  <tbody>\n",
       "    <tr>\n",
       "      <th>0</th>\n",
       "      <td>B</td>\n",
       "      <td>EU</td>\n",
       "      <td>NaN</td>\n",
       "      <td>NaN</td>\n",
       "      <td>NaN</td>\n",
       "      <td>0</td>\n",
       "      <td>0</td>\n",
       "      <td>['EU', 'German', 'British']</td>\n",
       "    </tr>\n",
       "    <tr>\n",
       "      <th>1</th>\n",
       "      <td>B</td>\n",
       "      <td>German</td>\n",
       "      <td>http://en.wikipedia.org/wiki/Germany</td>\n",
       "      <td>11867.0</td>\n",
       "      <td>Germany</td>\n",
       "      <td>0</td>\n",
       "      <td>0</td>\n",
       "      <td>['EU', 'German', 'British']</td>\n",
       "    </tr>\n",
       "    <tr>\n",
       "      <th>2</th>\n",
       "      <td>B</td>\n",
       "      <td>British</td>\n",
       "      <td>http://en.wikipedia.org/wiki/United_Kingdom</td>\n",
       "      <td>31717.0</td>\n",
       "      <td>United Kingdom</td>\n",
       "      <td>0</td>\n",
       "      <td>0</td>\n",
       "      <td>['EU', 'German', 'British']</td>\n",
       "    </tr>\n",
       "  </tbody>\n",
       "</table>\n",
       "</div>"
      ],
      "text/plain": [
       "  mention full_mention  ... doc_id           congruent_mentions\n",
       "0       B           EU  ...      0  ['EU', 'German', 'British']\n",
       "1       B       German  ...      0  ['EU', 'German', 'British']\n",
       "2       B      British  ...      0  ['EU', 'German', 'British']\n",
       "\n",
       "[3 rows x 8 columns]"
      ]
     },
     "execution_count": 16,
     "metadata": {
      "tags": []
     },
     "output_type": "execute_result"
    }
   ],
   "source": [
    "# Load data\n",
    "acy_input = pd.read_csv(\"Aida-Conll-Yago-Input.csv\", delimiter=\",\")\n",
    "acy_input.head(3)"
   ]
  },
  {
   "cell_type": "code",
   "execution_count": 18,
   "metadata": {
    "id": "TN04dU2bSdQy"
   },
   "outputs": [],
   "source": [
    "# Re-name \n",
    "candidate_pools = acy_input.copy()"
   ]
  },
  {
   "cell_type": "markdown",
   "metadata": {
    "id": "okne7Ol7SdQy"
   },
   "source": [
    "## Find most similar entity using Wikipedia2vec\n",
    "\n",
    "We now turn to using a variation on Wikipedia2vec's `most_similar()` function to find, for entered words, the most similar entity. We do this as an added-layer, meaning only for those without an estimate, and for all full mentions, to compare performance."
   ]
  },
  {
   "cell_type": "code",
   "execution_count": 19,
   "metadata": {
    "colab": {
     "base_uri": "https://localhost:8080/",
     "height": 178
    },
    "id": "VHIGXQMTSdQy",
    "outputId": "e3c257fb-9793-4f4c-c70a-af8c45318c17",
    "scrolled": true
   },
   "outputs": [
    {
     "data": {
      "text/html": [
       "<div>\n",
       "<style scoped>\n",
       "    .dataframe tbody tr th:only-of-type {\n",
       "        vertical-align: middle;\n",
       "    }\n",
       "\n",
       "    .dataframe tbody tr th {\n",
       "        vertical-align: top;\n",
       "    }\n",
       "\n",
       "    .dataframe thead th {\n",
       "        text-align: right;\n",
       "    }\n",
       "</style>\n",
       "<table border=\"1\" class=\"dataframe\">\n",
       "  <thead>\n",
       "    <tr style=\"text-align: right;\">\n",
       "      <th></th>\n",
       "      <th>mention</th>\n",
       "      <th>full_mention</th>\n",
       "      <th>wikipedia_URL</th>\n",
       "      <th>wikipedia_page_ID</th>\n",
       "      <th>wikipedia_title</th>\n",
       "      <th>sentence_id</th>\n",
       "      <th>doc_id</th>\n",
       "      <th>congruent_mentions</th>\n",
       "      <th>full_mention_norm</th>\n",
       "    </tr>\n",
       "  </thead>\n",
       "  <tbody>\n",
       "    <tr>\n",
       "      <th>0</th>\n",
       "      <td>B</td>\n",
       "      <td>EU</td>\n",
       "      <td>NaN</td>\n",
       "      <td>NaN</td>\n",
       "      <td>NaN</td>\n",
       "      <td>0</td>\n",
       "      <td>0</td>\n",
       "      <td>['EU', 'German', 'British']</td>\n",
       "      <td>eu</td>\n",
       "    </tr>\n",
       "    <tr>\n",
       "      <th>1</th>\n",
       "      <td>B</td>\n",
       "      <td>German</td>\n",
       "      <td>http://en.wikipedia.org/wiki/Germany</td>\n",
       "      <td>11867.0</td>\n",
       "      <td>Germany</td>\n",
       "      <td>0</td>\n",
       "      <td>0</td>\n",
       "      <td>['EU', 'German', 'British']</td>\n",
       "      <td>german</td>\n",
       "    </tr>\n",
       "    <tr>\n",
       "      <th>2</th>\n",
       "      <td>B</td>\n",
       "      <td>British</td>\n",
       "      <td>http://en.wikipedia.org/wiki/United_Kingdom</td>\n",
       "      <td>31717.0</td>\n",
       "      <td>United Kingdom</td>\n",
       "      <td>0</td>\n",
       "      <td>0</td>\n",
       "      <td>['EU', 'German', 'British']</td>\n",
       "      <td>british</td>\n",
       "    </tr>\n",
       "  </tbody>\n",
       "</table>\n",
       "</div>"
      ],
      "text/plain": [
       "  mention full_mention  ...           congruent_mentions  full_mention_norm\n",
       "0       B           EU  ...  ['EU', 'German', 'British']                 eu\n",
       "1       B       German  ...  ['EU', 'German', 'British']             german\n",
       "2       B      British  ...  ['EU', 'German', 'British']            british\n",
       "\n",
       "[3 rows x 9 columns]"
      ]
     },
     "execution_count": 19,
     "metadata": {
      "tags": []
     },
     "output_type": "execute_result"
    }
   ],
   "source": [
    "# Normalize full_mentions to lower case for entry into most_similar() function\n",
    "full_mention_norm = np.array([x.lower() for x in candidate_pools['full_mention']])\n",
    "candidate_pools['full_mention_norm'] = full_mention_norm\n",
    "candidate_pools.head(3)"
   ]
  },
  {
   "cell_type": "code",
   "execution_count": 20,
   "metadata": {
    "colab": {
     "base_uri": "https://localhost:8080/",
     "height": 1000
    },
    "id": "pp9AGHznSdQy",
    "outputId": "6d305651-4be2-48be-cc48-04e250599c71"
   },
   "outputs": [
    {
     "name": "stdout",
     "output_type": "stream",
     "text": [
      "Search Word:  british\n"
     ]
    },
    {
     "data": {
      "text/plain": [
       "[(<Entity Russians in the United Kingdom>, 0.61556417),\n",
       " (<Entity Henry Wood (naval officer)>, 0.60587215),\n",
       " (<Entity D.N. Penfold>, 0.60256517),\n",
       " (<Entity Christopher J. Burgess>, 0.5973172),\n",
       " (<Entity Commonwealth of Nations>, 0.5968252),\n",
       " (<Entity British Empire>, 0.59353995),\n",
       " (<Entity File:Flag of The Commonwealth.svg>, 0.59272784),\n",
       " (<Entity Dial 999 (1938 film)>, 0.59214795),\n",
       " (<Entity Black British>, 0.5881806),\n",
       " (<Entity Numa François Henri Sadoul>, 0.5852481),\n",
       " (<Entity F.W. Hunt>, 0.58309895),\n",
       " (<Entity George Paice (bowls)>, 0.5830955),\n",
       " (<Entity File:Ribbon - Volunteer Long Service Medal.png>, 0.58157176),\n",
       " (<Entity British Hong Kong>, 0.58109015),\n",
       " (<Entity Walter Wilkinson Wallace>, 0.5809743),\n",
       " (<Entity Canadians in the United Kingdom>, 0.58094454),\n",
       " (<Entity Arthur Walker (trade unionist)>, 0.5803683),\n",
       " (<Entity Derek George Cudmore>, 0.5799971),\n",
       " (<Entity Colonial Auxiliary Forces Long Service Medal>, 0.5795136),\n",
       " (<Entity File:Peter O'Toole in Lawrence of Arabia.png>, 0.5785664),\n",
       " (<Entity Robert Whittaker (army major)>, 0.5772631),\n",
       " (<Entity British people>, 0.5768686),\n",
       " (<Entity Victoria Cross Heroes>, 0.576705),\n",
       " (<Entity Jules Gérard Auguste Lauret>, 0.57379025),\n",
       " (<Entity Vincent T. Harlow>, 0.57364553),\n",
       " (<Entity George James Macdonald>, 0.572354),\n",
       " (<Entity Henry Fleetwood Thuillier>, 0.57114136),\n",
       " (<Entity Rhodes Professor of Imperial History>, 0.570828),\n",
       " (<Entity Pierre Aimable Chapon-Baissac>, 0.5702659),\n",
       " (<Entity Reginald Coupland>, 0.5702524),\n",
       " (<Entity Jacques Marie Julien Compain>, 0.570116),\n",
       " (<Entity United Kingdom>, 0.56942695),\n",
       " (<Entity Paul Henri Siriex>, 0.568849),\n",
       " (<Entity File:Turner, The Battle of Trafalgar (1822).jpg>, 0.5678447),\n",
       " (<Entity Gerald S. Graham>, 0.56781596),\n",
       " (<Entity Oswald Raynor Arthur>, 0.5670194),\n",
       " (<Entity Tell It to the Marines (TV series)>, 0.5663248),\n",
       " (<Entity John W. Sullivan>, 0.5658435),\n",
       " (<Entity List of Gibraltarians>, 0.56575924),\n",
       " (<Entity Eyes of Fate>, 0.565268),\n",
       " (<Entity Pierre Hubert Auguste Pascal>, 0.565005),\n",
       " (<Entity Bradley Field (geologist)>, 0.5647323),\n",
       " (<Entity File:Battle of Messines - Map.jpg>, 0.5643366),\n",
       " (<Entity Wilfrid Edward Francis Jackson>, 0.56336117),\n",
       " (<Entity Pallard the Punter>, 0.5629326),\n",
       " (<Entity George Kenneth Scott-Moncrieff>, 0.5622813),\n",
       " (<Entity Ian Barnes>, 0.56153584),\n",
       " (<Entity List of Empire ships (L)#Empire Larch>, 0.5612366),\n",
       " (<Entity Nurul Islam (broadcaster)>, 0.5599148),\n",
       " (<Entity British Columbia>, 0.5593394),\n",
       " (<Entity Alfred Joseph Richards>, 0.5588006),\n",
       " (<Entity Charles François Marie Baron>, 0.5587272),\n",
       " (<Entity John Wallinger>, 0.5586407),\n",
       " (<Entity Fourth Canadian Escort Squadron>, 0.55836916),\n",
       " (<Entity The Queen's Own Royal West Kent Regiment Museum>, 0.55831885),\n",
       " (<Entity Independent Age>, 0.55796754),\n",
       " (<Entity South Africans in the United Kingdom>, 0.55739045),\n",
       " (<Entity J. Manning>, 0.55736536),\n",
       " (<Entity Ernest Gordon Lewis>, 0.5572364),\n",
       " (<Entity Bruce Greatbatch>, 0.5571467),\n",
       " (<Entity Guild of Loyal Women>, 0.5568332),\n",
       " (<Entity John Osbaldiston Field>, 0.55626696),\n",
       " (<Entity Reginald Stuart Champion>, 0.55617356),\n",
       " (<Entity Francis William Panzera>, 0.55616814),\n",
       " (<Entity File:Civil Ensign of the United Kingdom.svg>, 0.556153),\n",
       " (<Entity Henry Maynard Ball>, 0.5557336),\n",
       " (<Entity Australians in the United Kingdom>, 0.55552995),\n",
       " (<Entity Richard Raymond Willis>, 0.5552549),\n",
       " (<Entity List of English people>, 0.55508375),\n",
       " (<Entity Halik Kochanski>, 0.55498457),\n",
       " (<Entity William Driscoll Gosset>, 0.5549295),\n",
       " (<Entity Stuart Peter Rolt>, 0.55487084),\n",
       " (<Entity Revenue stamps of Guernsey>, 0.55451554),\n",
       " (<Entity Fort Ruhya>, 0.554431),\n",
       " (<Entity René Jean Albert Petitbon>, 0.55416757),\n",
       " (<Entity Hugh Shaw (British Army officer)>, 0.55364263),\n",
       " (<Entity Samuel Knaggs>, 0.55329543),\n",
       " (<Entity Victoria Golf Club>, 0.55321366),\n",
       " (<Entity British diaspora>, 0.55307555),\n",
       " (<Entity Transatlantic (1960 film)>, 0.55281866),\n",
       " (<Entity Gordon Wilson (British Army officer)>, 0.55214906),\n",
       " (<Entity David Robert Barwick>, 0.55194545),\n",
       " (<Entity Cinematograph Films Council>, 0.55179286),\n",
       " (<Entity Sydney Goldman>, 0.551539),\n",
       " (<Entity Peter Gautrey>, 0.5512521),\n",
       " (<Entity The Wallet (film)>, 0.55110604),\n",
       " (<Entity Anglo-Indian>, 0.5507298),\n",
       " (<Entity Percivale Liesching>, 0.5503366),\n",
       " (<Entity Plumper Cove Marine Provincial Park>, 0.54999995),\n",
       " (<Entity 2nd Canadian Tunnelling Company>, 0.54954386),\n",
       " (<Entity J.M. Chaplin>, 0.5492108),\n",
       " (<Entity I.R. McLeod>, 0.54913205),\n",
       " (<Entity Charles Hadden>, 0.5489864),\n",
       " (<Entity HMS Hecla (1839)>, 0.54882246)]"
      ]
     },
     "metadata": {
      "tags": []
     },
     "output_type": "display_data"
    },
    {
     "name": "stdout",
     "output_type": "stream",
     "text": [
      "Single Word Query Time: 2.9s\n"
     ]
    }
   ],
   "source": [
    "### Test single full mention query time\n",
    "start_time = time.time()\n",
    "\n",
    "# Print word\n",
    "search_word = candidate_pools['full_mention_norm'][2]\n",
    "print(\"Search Word: \", search_word)\n",
    "\n",
    "# Translate word into vector\n",
    "# Handles multi-word mentions\n",
    "search_word_list = search_word.split(\" \")\n",
    "search_word_vector = None\n",
    "for word in search_word_list:\n",
    "    try:\n",
    "        vector = w2v.get_word_vector(str(word))\n",
    "    except KeyError:\n",
    "        print(\"This word is Out of Vocabulary (OOV) for Wikipedia2vec.\")\n",
    "        vector = None\n",
    "        \n",
    "    if search_word_vector is None:\n",
    "        search_word_vector = vector\n",
    "    else:\n",
    "        search_word_vector += vector\n",
    "\n",
    "if search_word_vector is not None:\n",
    "    # Get most similar word\n",
    "    count_similar = 500\n",
    "    similar = w2v.most_similar_by_vector(search_word_vector, count_similar)\n",
    "\n",
    "    # Retrieve only entities from word\n",
    "    entities = []\n",
    "    return_similar = 10\n",
    "    for i in similar:\n",
    "    #     print(type(i[0]))\n",
    "        if isinstance(i[0], Entity):\n",
    "            entities.append(i)\n",
    "    #     if len(entities) == return_similar:\n",
    "    #         break\n",
    "    display(entities)\n",
    "end_time = time.time()\n",
    "print(f\"Single Word Query Time: {round(end_time - start_time, 2)}s\")"
   ]
  },
  {
   "cell_type": "code",
   "execution_count": 21,
   "metadata": {
    "colab": {
     "base_uri": "https://localhost:8080/",
     "height": 469
    },
    "id": "wEyEk-i2SdQz",
    "outputId": "9e693905-860b-4dc9-8885-73ac3d30f6c9"
   },
   "outputs": [
    {
     "name": "stdout",
     "output_type": "stream",
     "text": [
      "Search Word:  welsh national farmers ' union\n",
      "\"'\" is Out of Vocabulary (OOV) for Wikipedia2vec.\n"
     ]
    },
    {
     "data": {
      "text/plain": [
       "[(<Entity :Category:Wikipedians interested in the European Union>, 0.74048346),\n",
       " (<Entity Whiteheads RFC>, 0.7279615),\n",
       " (<Entity Ian Mackay (rugby league)>, 0.7100251),\n",
       " (<Entity E. Gwyndaf Evans>, 0.70472246),\n",
       " (<Entity Ystrad Rhondda RFC>, 0.7012322),\n",
       " (<Entity Abercynon RFC>, 0.70090365),\n",
       " (<Entity Caernarfon RFC>, 0.69320804),\n",
       " (<Entity Tredegar Ironsides RFC>, 0.69225544),\n",
       " (<Entity Fleur De Lys RFC>, 0.6915729),\n",
       " (<Entity Cwmgwrach RFC>, 0.6905903),\n",
       " (<Entity File:Harden NSW.PNG>, 0.6901128),\n",
       " (<Entity Betws RFC>, 0.6887361),\n",
       " (<Entity Dai Francis (trade union leader)>, 0.6886294),\n",
       " (<Entity Llandybie RFC>, 0.6878249),\n",
       " (<Entity Berwyn Rangers F.C.>, 0.6861579),\n",
       " (<Entity :Category:All Blacks>, 0.68473554),\n",
       " (<Entity :Eastern Conference (NHL)>, 0.6845522),\n",
       " (<Entity Markham RFC>, 0.6823692),\n",
       " (<Entity Bethesda RFC>, 0.6821802),\n",
       " (<Entity Fall Bay RFC>, 0.6820504),\n",
       " (<Entity Cwmtwrch RFC>, 0.6806142),\n",
       " (<Entity Neil Lashkari>, 0.6795225),\n",
       " (<Entity Joost Adriaan van Hamel>, 0.6789603)]"
      ]
     },
     "metadata": {
      "tags": []
     },
     "output_type": "display_data"
    },
    {
     "name": "stdout",
     "output_type": "stream",
     "text": [
      "Single Word Query Time: 1.9s\n"
     ]
    }
   ],
   "source": [
    "### Test single full mention query time on a mention with multiple words\n",
    "start_time = time.time()\n",
    "\n",
    "# Print word\n",
    "search_word = candidate_pools['full_mention_norm'][51]\n",
    "print(\"Search Word: \", search_word)\n",
    "\n",
    "# Translate word into vector\n",
    "# Handles multi-word mentions\n",
    "search_word_list = search_word.split(\" \")\n",
    "search_word_vector = None\n",
    "for word in search_word_list:\n",
    "    try:\n",
    "        vector = w2v.get_word_vector(str(word))\n",
    "        \n",
    "        if search_word_vector is None:\n",
    "            search_word_vector = vector\n",
    "        else:\n",
    "            search_word_vector += vector\n",
    "\n",
    "    except KeyError:\n",
    "        print(f\"\\\"{word}\\\" is Out of Vocabulary (OOV) for Wikipedia2vec.\")\n",
    "\n",
    "if search_word_vector is not None:\n",
    "    # Get most similar word\n",
    "    count_similar = 500\n",
    "    similar = w2v.most_similar_by_vector(search_word_vector, count_similar)\n",
    "\n",
    "    # Retrieve only entities from word\n",
    "    entities = []\n",
    "    return_similar = 10\n",
    "    for i in similar:\n",
    "    #     print(type(i[0]))\n",
    "        if isinstance(i[0], Entity):\n",
    "            entities.append(i)\n",
    "    #     if len(entities) == return_similar:\n",
    "    #         break\n",
    "    display(entities)\n",
    "end_time = time.time()\n",
    "print(f\"Single Word Query Time: {round(end_time - start_time, 2)}s\")"
   ]
  },
  {
   "cell_type": "markdown",
   "metadata": {
    "id": "GoaKTetSSdQ0"
   },
   "source": [
    "### Run Over Large Subset of Data"
   ]
  },
  {
   "cell_type": "code",
   "execution_count": 22,
   "metadata": {
    "colab": {
     "base_uri": "https://localhost:8080/"
    },
    "id": "axT27htfSdQ0",
    "outputId": "0a72c5db-cc8a-4d5c-a755-d2d7a8023a7d"
   },
   "outputs": [
    {
     "name": "stderr",
     "output_type": "stream",
     "text": [
      "100%|██████████| 1000/1000 [28:21<00:00,  1.70s/it]"
     ]
    },
    {
     "name": "stdout",
     "output_type": "stream",
     "text": [
      "Successfully Found Words:  97.1 %\n",
      "Out-of-Vocabulary Issues:  8.3 %\n",
      "Execution time:  1701.261 s\n"
     ]
    },
    {
     "name": "stderr",
     "output_type": "stream",
     "text": [
      "\n"
     ]
    }
   ],
   "source": [
    "# Prepare output array\n",
    "most_similar_entities = []\n",
    "most_similar_scores = []\n",
    "get_similar_candidate_pool = []\n",
    "get_similar_candidate_scores = []\n",
    "\n",
    "# Track metrics\n",
    "success_word_query = 0\n",
    "oov_errors = 0\n",
    "start_time = time.time()\n",
    "\n",
    "# Provide filter ability\n",
    "size = 1000\n",
    "\n",
    "for mention in tqdm(candidate_pools['full_mention_norm'][:size]):\n",
    "    \n",
    "    # Translate word into vector\n",
    "    # Handles multi-word mentions\n",
    "    search_word_list = mention.split(\" \")\n",
    "    search_word_vector = None\n",
    "    for word in search_word_list:\n",
    "        try:\n",
    "            vector = w2v.get_word_vector(str(word))\n",
    "            \n",
    "            if search_word_vector is None:\n",
    "                search_word_vector = vector\n",
    "            else:\n",
    "                search_word_vector += vector\n",
    "                \n",
    "        except KeyError:\n",
    "            oov_errors += 1\n",
    "\n",
    "    # Save candidate pool\n",
    "    candidate_pool = []\n",
    "    candidate_scores = []\n",
    "    \n",
    "    if search_word_vector is not None:\n",
    "        success_word_query += 1\n",
    "        \n",
    "        # Search most similar words/entities from found word\n",
    "        # Retrieve 500 most similar to test large coverage\n",
    "        similars = w2v.most_similar_by_vector(search_word_vector, 500)\n",
    "\n",
    "        # Retrieve most similar entity\n",
    "        most_similar = None\n",
    "        for s in similars:\n",
    "            if isinstance(s[0], Entity):\n",
    "                candidate_pool.append(s[0].title)\n",
    "                candidate_scores.append(s[1])\n",
    "                if most_similar is None:\n",
    "                    most_similar = s\n",
    "                \n",
    "    # Save lists\n",
    "    get_similar_candidate_pool.append(candidate_pool)\n",
    "    get_similar_candidate_scores.append(candidate_scores)\n",
    "    \n",
    "    if most_similar is not None:\n",
    "        most_similar_entities.append(most_similar[0].title)\n",
    "        most_similar_scores.append(most_similar[1])\n",
    "    else:\n",
    "        most_similar_entities.append(None)\n",
    "        most_similar_scores.append(None)\n",
    "\n",
    "    \n",
    "print(\"Successfully Found Words: \", round(success_word_query/size*100,3),\"%\")\n",
    "print(\"Out-of-Vocabulary Issues: \", round(oov_errors/size*100,3),\"%\")\n",
    "execution_time = time.time() - start_time\n",
    "print(\"Execution time: \", round(execution_time, 3),\"s\")"
   ]
  },
  {
   "cell_type": "code",
   "execution_count": 23,
   "metadata": {
    "colab": {
     "base_uri": "https://localhost:8080/",
     "height": 216
    },
    "id": "j2yd3gu6SdQ1",
    "outputId": "a96a9f8f-eda6-4b8c-a39d-0cb3c4e65a03"
   },
   "outputs": [
    {
     "data": {
      "text/html": [
       "<div>\n",
       "<style scoped>\n",
       "    .dataframe tbody tr th:only-of-type {\n",
       "        vertical-align: middle;\n",
       "    }\n",
       "\n",
       "    .dataframe tbody tr th {\n",
       "        vertical-align: top;\n",
       "    }\n",
       "\n",
       "    .dataframe thead th {\n",
       "        text-align: right;\n",
       "    }\n",
       "</style>\n",
       "<table border=\"1\" class=\"dataframe\">\n",
       "  <thead>\n",
       "    <tr style=\"text-align: right;\">\n",
       "      <th></th>\n",
       "      <th>mention</th>\n",
       "      <th>full_mention</th>\n",
       "      <th>wikipedia_URL</th>\n",
       "      <th>wikipedia_page_ID</th>\n",
       "      <th>wikipedia_title</th>\n",
       "      <th>sentence_id</th>\n",
       "      <th>doc_id</th>\n",
       "      <th>congruent_mentions</th>\n",
       "      <th>full_mention_norm</th>\n",
       "      <th>preds_w2v_mostsimilar</th>\n",
       "      <th>score_w2v_mostsimilar</th>\n",
       "      <th>candidate_pool_mostsimilar</th>\n",
       "      <th>candidate_scores_mostsimilar</th>\n",
       "    </tr>\n",
       "  </thead>\n",
       "  <tbody>\n",
       "    <tr>\n",
       "      <th>0</th>\n",
       "      <td>B</td>\n",
       "      <td>EU</td>\n",
       "      <td>NaN</td>\n",
       "      <td>NaN</td>\n",
       "      <td>NaN</td>\n",
       "      <td>0</td>\n",
       "      <td>0</td>\n",
       "      <td>['EU', 'German', 'British']</td>\n",
       "      <td>eu</td>\n",
       "      <td>European Union</td>\n",
       "      <td>0.787421</td>\n",
       "      <td>[European Union, European Free Trade Associati...</td>\n",
       "      <td>[0.7874206, 0.7662648, 0.76082164, 0.7605217, ...</td>\n",
       "    </tr>\n",
       "    <tr>\n",
       "      <th>1</th>\n",
       "      <td>B</td>\n",
       "      <td>German</td>\n",
       "      <td>http://en.wikipedia.org/wiki/Germany</td>\n",
       "      <td>11867.0</td>\n",
       "      <td>Germany</td>\n",
       "      <td>0</td>\n",
       "      <td>0</td>\n",
       "      <td>['EU', 'German', 'British']</td>\n",
       "      <td>german</td>\n",
       "      <td>Culture of Germany</td>\n",
       "      <td>0.686803</td>\n",
       "      <td>[Culture of Germany, 1860 in Germany, 1866 in ...</td>\n",
       "      <td>[0.68680257, 0.6840672, 0.6836184, 0.68068546,...</td>\n",
       "    </tr>\n",
       "    <tr>\n",
       "      <th>2</th>\n",
       "      <td>B</td>\n",
       "      <td>British</td>\n",
       "      <td>http://en.wikipedia.org/wiki/United_Kingdom</td>\n",
       "      <td>31717.0</td>\n",
       "      <td>United Kingdom</td>\n",
       "      <td>0</td>\n",
       "      <td>0</td>\n",
       "      <td>['EU', 'German', 'British']</td>\n",
       "      <td>british</td>\n",
       "      <td>Russians in the United Kingdom</td>\n",
       "      <td>0.615564</td>\n",
       "      <td>[Russians in the United Kingdom, Henry Wood (n...</td>\n",
       "      <td>[0.61556417, 0.60587215, 0.60256517, 0.5973172...</td>\n",
       "    </tr>\n",
       "  </tbody>\n",
       "</table>\n",
       "</div>"
      ],
      "text/plain": [
       "  mention  ...                       candidate_scores_mostsimilar\n",
       "0       B  ...  [0.7874206, 0.7662648, 0.76082164, 0.7605217, ...\n",
       "1       B  ...  [0.68680257, 0.6840672, 0.6836184, 0.68068546,...\n",
       "2       B  ...  [0.61556417, 0.60587215, 0.60256517, 0.5973172...\n",
       "\n",
       "[3 rows x 13 columns]"
      ]
     },
     "execution_count": 23,
     "metadata": {
      "tags": []
     },
     "output_type": "execute_result"
    }
   ],
   "source": [
    "# Append to dataframe\n",
    "mini_df = candidate_pools[:size].copy()\n",
    "mini_df['preds_w2v_mostsimilar'] = most_similar_entities\n",
    "mini_df['score_w2v_mostsimilar'] = most_similar_scores\n",
    "mini_df['candidate_pool_mostsimilar'] = get_similar_candidate_pool\n",
    "mini_df['candidate_scores_mostsimilar'] = get_similar_candidate_scores\n",
    "mini_df.head(3)"
   ]
  },
  {
   "cell_type": "code",
   "execution_count": 24,
   "metadata": {
    "colab": {
     "base_uri": "https://localhost:8080/"
    },
    "id": "w1x4wNPLSdQ1",
    "outputId": "74294b3f-48a3-49df-d392-fe7e8a83a12c"
   },
   "outputs": [
    {
     "name": "stdout",
     "output_type": "stream",
     "text": [
      "Estimated Duration for Full Dataset:  13.85  hours\n"
     ]
    }
   ],
   "source": [
    "# Estimate length of time to run over full dataset\n",
    "print(\"Estimated Duration for Full Dataset: \",\\\n",
    "     round((len(candidate_pools)/size)*execution_time/60/60,2), \" hours\")"
   ]
  },
  {
   "cell_type": "markdown",
   "metadata": {
    "id": "eCIKtFU8SdQ1"
   },
   "source": [
    "## Calculate Accuracy of Most Similar Entity Predictions"
   ]
  },
  {
   "cell_type": "code",
   "execution_count": 25,
   "metadata": {
    "colab": {
     "base_uri": "https://localhost:8080/"
    },
    "id": "4NDl7CNtSdQ1",
    "outputId": "8cb22900-b8ff-4efa-8792-9caa6bc72ca6"
   },
   "outputs": [
    {
     "name": "stdout",
     "output_type": "stream",
     "text": [
      "****************************\n",
      "Predictive Accuracy: 21.5%\n",
      "****************************\n"
     ]
    }
   ],
   "source": [
    "# Calculate accuracy\n",
    "accurate_predictions = (mini_df['preds_w2v_mostsimilar'] == mini_df['wikipedia_title']).sum()\n",
    "print(\"****************************\")\n",
    "print(f\"Predictive Accuracy: {round(accurate_predictions / len(mini_df) * 100, 3)}%\")\n",
    "print(\"****************************\")"
   ]
  },
  {
   "cell_type": "code",
   "execution_count": 26,
   "metadata": {
    "colab": {
     "base_uri": "https://localhost:8080/"
    },
    "id": "9QEtVsTZSdQ1",
    "outputId": "6aa6fa82-b207-468e-be8f-ab51e5985c5d"
   },
   "outputs": [
    {
     "name": "stdout",
     "output_type": "stream",
     "text": [
      "Correct answer is present in 34.9% of generated candidate pools via adapted Wikipedia2vec's most_similar() method.\n"
     ]
    }
   ],
   "source": [
    "# Calculate percentage of candidate pools with the correct answer present\n",
    "# Use Wikipedia Title\n",
    "# Necessary to determine if shuffling pool could even get the right answer\n",
    "response_present = [mini_df['wikipedia_title'][i] in mini_df['candidate_pool_mostsimilar'][i] for i in range(len(mini_df))]\n",
    "print(f\"Correct answer is present in {round(sum(response_present) / len(mini_df) * 100, 3)}% of generated candidate pools via adapted Wikipedia2vec's most_similar() method.\")"
   ]
  },
  {
   "cell_type": "markdown",
   "metadata": {
    "id": "3lOrrqnwSdQ1"
   },
   "source": [
    "\n",
    "## Save predictive dataframe for input to next step"
   ]
  },
  {
   "cell_type": "code",
   "execution_count": 27,
   "metadata": {
    "colab": {
     "base_uri": "https://localhost:8080/",
     "height": 678
    },
    "id": "iBUw7QbfSdQ1",
    "outputId": "97ce550a-8fc9-4219-967d-878c0f9c85d0"
   },
   "outputs": [
    {
     "data": {
      "text/html": [
       "<div>\n",
       "<style scoped>\n",
       "    .dataframe tbody tr th:only-of-type {\n",
       "        vertical-align: middle;\n",
       "    }\n",
       "\n",
       "    .dataframe tbody tr th {\n",
       "        vertical-align: top;\n",
       "    }\n",
       "\n",
       "    .dataframe thead th {\n",
       "        text-align: right;\n",
       "    }\n",
       "</style>\n",
       "<table border=\"1\" class=\"dataframe\">\n",
       "  <thead>\n",
       "    <tr style=\"text-align: right;\">\n",
       "      <th></th>\n",
       "      <th>mention</th>\n",
       "      <th>full_mention</th>\n",
       "      <th>wikipedia_URL</th>\n",
       "      <th>wikipedia_page_ID</th>\n",
       "      <th>wikipedia_title</th>\n",
       "      <th>sentence_id</th>\n",
       "      <th>doc_id</th>\n",
       "      <th>congruent_mentions</th>\n",
       "      <th>full_mention_norm</th>\n",
       "      <th>preds_w2v_mostsimilar</th>\n",
       "      <th>score_w2v_mostsimilar</th>\n",
       "      <th>candidate_pool_mostsimilar</th>\n",
       "      <th>candidate_scores_mostsimilar</th>\n",
       "    </tr>\n",
       "  </thead>\n",
       "  <tbody>\n",
       "    <tr>\n",
       "      <th>0</th>\n",
       "      <td>B</td>\n",
       "      <td>EU</td>\n",
       "      <td>NaN</td>\n",
       "      <td>NaN</td>\n",
       "      <td>NaN</td>\n",
       "      <td>0</td>\n",
       "      <td>0</td>\n",
       "      <td>['EU', 'German', 'British']</td>\n",
       "      <td>eu</td>\n",
       "      <td>European Union</td>\n",
       "      <td>0.787421</td>\n",
       "      <td>[European Union, European Free Trade Associati...</td>\n",
       "      <td>[0.7874206, 0.7662648, 0.76082164, 0.7605217, ...</td>\n",
       "    </tr>\n",
       "    <tr>\n",
       "      <th>1</th>\n",
       "      <td>B</td>\n",
       "      <td>German</td>\n",
       "      <td>http://en.wikipedia.org/wiki/Germany</td>\n",
       "      <td>11867.0</td>\n",
       "      <td>Germany</td>\n",
       "      <td>0</td>\n",
       "      <td>0</td>\n",
       "      <td>['EU', 'German', 'British']</td>\n",
       "      <td>german</td>\n",
       "      <td>Culture of Germany</td>\n",
       "      <td>0.686803</td>\n",
       "      <td>[Culture of Germany, 1860 in Germany, 1866 in ...</td>\n",
       "      <td>[0.68680257, 0.6840672, 0.6836184, 0.68068546,...</td>\n",
       "    </tr>\n",
       "    <tr>\n",
       "      <th>2</th>\n",
       "      <td>B</td>\n",
       "      <td>British</td>\n",
       "      <td>http://en.wikipedia.org/wiki/United_Kingdom</td>\n",
       "      <td>31717.0</td>\n",
       "      <td>United Kingdom</td>\n",
       "      <td>0</td>\n",
       "      <td>0</td>\n",
       "      <td>['EU', 'German', 'British']</td>\n",
       "      <td>british</td>\n",
       "      <td>Russians in the United Kingdom</td>\n",
       "      <td>0.615564</td>\n",
       "      <td>[Russians in the United Kingdom, Henry Wood (n...</td>\n",
       "      <td>[0.61556417, 0.60587215, 0.60256517, 0.5973172...</td>\n",
       "    </tr>\n",
       "    <tr>\n",
       "      <th>3</th>\n",
       "      <td>B</td>\n",
       "      <td>Peter Blackburn</td>\n",
       "      <td>NaN</td>\n",
       "      <td>NaN</td>\n",
       "      <td>NaN</td>\n",
       "      <td>1</td>\n",
       "      <td>0</td>\n",
       "      <td>['Peter Blackburn', 'BRUSSELS', 'European Comm...</td>\n",
       "      <td>peter blackburn</td>\n",
       "      <td>James Watson (Rangers footballer)</td>\n",
       "      <td>0.752623</td>\n",
       "      <td>[James Watson (Rangers footballer), Wally Wils...</td>\n",
       "      <td>[0.75262326, 0.75080603, 0.74791527, 0.7458616...</td>\n",
       "    </tr>\n",
       "    <tr>\n",
       "      <th>4</th>\n",
       "      <td>I</td>\n",
       "      <td>Peter Blackburn</td>\n",
       "      <td>NaN</td>\n",
       "      <td>NaN</td>\n",
       "      <td>NaN</td>\n",
       "      <td>1</td>\n",
       "      <td>0</td>\n",
       "      <td>['Peter Blackburn', 'BRUSSELS', 'European Comm...</td>\n",
       "      <td>peter blackburn</td>\n",
       "      <td>James Watson (Rangers footballer)</td>\n",
       "      <td>0.757774</td>\n",
       "      <td>[James Watson (Rangers footballer), Bryan Will...</td>\n",
       "      <td>[0.75777376, 0.74518, 0.74305403, 0.73202455, ...</td>\n",
       "    </tr>\n",
       "    <tr>\n",
       "      <th>5</th>\n",
       "      <td>B</td>\n",
       "      <td>BRUSSELS</td>\n",
       "      <td>http://en.wikipedia.org/wiki/Brussels</td>\n",
       "      <td>3708.0</td>\n",
       "      <td>Brussels</td>\n",
       "      <td>1</td>\n",
       "      <td>0</td>\n",
       "      <td>['Peter Blackburn', 'BRUSSELS', 'European Comm...</td>\n",
       "      <td>brussels</td>\n",
       "      <td>Brussels</td>\n",
       "      <td>0.887070</td>\n",
       "      <td>[Brussels, Ghent, Timeline of Brussels, Brusse...</td>\n",
       "      <td>[0.88706994, 0.7689268, 0.7686756, 0.76811683,...</td>\n",
       "    </tr>\n",
       "    <tr>\n",
       "      <th>6</th>\n",
       "      <td>B</td>\n",
       "      <td>European Commission</td>\n",
       "      <td>http://en.wikipedia.org/wiki/European_Commission</td>\n",
       "      <td>9974.0</td>\n",
       "      <td>European Commission</td>\n",
       "      <td>1</td>\n",
       "      <td>0</td>\n",
       "      <td>['Peter Blackburn', 'BRUSSELS', 'European Comm...</td>\n",
       "      <td>european commission</td>\n",
       "      <td>:Category:Wikipedians interested in the Europe...</td>\n",
       "      <td>0.689626</td>\n",
       "      <td>[:Category:Wikipedians interested in the Europ...</td>\n",
       "      <td>[0.68962616, 0.65377027, 0.6495704, 0.6477843]</td>\n",
       "    </tr>\n",
       "    <tr>\n",
       "      <th>7</th>\n",
       "      <td>I</td>\n",
       "      <td>European Commission</td>\n",
       "      <td>http://en.wikipedia.org/wiki/European_Commission</td>\n",
       "      <td>9974.0</td>\n",
       "      <td>European Commission</td>\n",
       "      <td>1</td>\n",
       "      <td>0</td>\n",
       "      <td>['Peter Blackburn', 'BRUSSELS', 'European Comm...</td>\n",
       "      <td>european commission</td>\n",
       "      <td>Safety League</td>\n",
       "      <td>0.641829</td>\n",
       "      <td>[Safety League]</td>\n",
       "      <td>[0.641829]</td>\n",
       "    </tr>\n",
       "    <tr>\n",
       "      <th>8</th>\n",
       "      <td>B</td>\n",
       "      <td>German</td>\n",
       "      <td>http://en.wikipedia.org/wiki/Germany</td>\n",
       "      <td>11867.0</td>\n",
       "      <td>Germany</td>\n",
       "      <td>1</td>\n",
       "      <td>0</td>\n",
       "      <td>['Peter Blackburn', 'BRUSSELS', 'European Comm...</td>\n",
       "      <td>german</td>\n",
       "      <td>Culture of Germany</td>\n",
       "      <td>0.686803</td>\n",
       "      <td>[Culture of Germany, 1860 in Germany, 1866 in ...</td>\n",
       "      <td>[0.68680257, 0.6840672, 0.6836184, 0.68068546,...</td>\n",
       "    </tr>\n",
       "    <tr>\n",
       "      <th>9</th>\n",
       "      <td>B</td>\n",
       "      <td>British</td>\n",
       "      <td>http://en.wikipedia.org/wiki/United_Kingdom</td>\n",
       "      <td>31717.0</td>\n",
       "      <td>United Kingdom</td>\n",
       "      <td>1</td>\n",
       "      <td>0</td>\n",
       "      <td>['Peter Blackburn', 'BRUSSELS', 'European Comm...</td>\n",
       "      <td>british</td>\n",
       "      <td>Russians in the United Kingdom</td>\n",
       "      <td>0.615564</td>\n",
       "      <td>[Russians in the United Kingdom, Henry Wood (n...</td>\n",
       "      <td>[0.61556417, 0.60587215, 0.60256517, 0.5973172...</td>\n",
       "    </tr>\n",
       "  </tbody>\n",
       "</table>\n",
       "</div>"
      ],
      "text/plain": [
       "  mention  ...                       candidate_scores_mostsimilar\n",
       "0       B  ...  [0.7874206, 0.7662648, 0.76082164, 0.7605217, ...\n",
       "1       B  ...  [0.68680257, 0.6840672, 0.6836184, 0.68068546,...\n",
       "2       B  ...  [0.61556417, 0.60587215, 0.60256517, 0.5973172...\n",
       "3       B  ...  [0.75262326, 0.75080603, 0.74791527, 0.7458616...\n",
       "4       I  ...  [0.75777376, 0.74518, 0.74305403, 0.73202455, ...\n",
       "5       B  ...  [0.88706994, 0.7689268, 0.7686756, 0.76811683,...\n",
       "6       B  ...     [0.68962616, 0.65377027, 0.6495704, 0.6477843]\n",
       "7       I  ...                                         [0.641829]\n",
       "8       B  ...  [0.68680257, 0.6840672, 0.6836184, 0.68068546,...\n",
       "9       B  ...  [0.61556417, 0.60587215, 0.60256517, 0.5973172...\n",
       "\n",
       "[10 rows x 13 columns]"
      ]
     },
     "execution_count": 27,
     "metadata": {
      "tags": []
     },
     "output_type": "execute_result"
    }
   ],
   "source": [
    "#Final DF\n",
    "mini_df.head(10)"
   ]
  },
  {
   "cell_type": "code",
   "execution_count": 29,
   "metadata": {
    "id": "a62RVfrVSdQ1"
   },
   "outputs": [],
   "source": [
    "# Save dataframe\n",
    "mini_df.to_csv(\"wikipedia2vec_most_similar_1000.csv\", index=False)"
   ]
  },
  {
   "cell_type": "code",
   "execution_count": 30,
   "metadata": {
    "colab": {
     "base_uri": "https://localhost:8080/",
     "height": 17
    },
    "id": "aJnmlI0TSdQ1",
    "outputId": "859c099f-6474-448d-b9c8-3898cd80f908"
   },
   "outputs": [
    {
     "data": {
      "application/javascript": [
       "\n",
       "    async function download(id, filename, size) {\n",
       "      if (!google.colab.kernel.accessAllowed) {\n",
       "        return;\n",
       "      }\n",
       "      const div = document.createElement('div');\n",
       "      const label = document.createElement('label');\n",
       "      label.textContent = `Downloading \"${filename}\": `;\n",
       "      div.appendChild(label);\n",
       "      const progress = document.createElement('progress');\n",
       "      progress.max = size;\n",
       "      div.appendChild(progress);\n",
       "      document.body.appendChild(div);\n",
       "\n",
       "      const buffers = [];\n",
       "      let downloaded = 0;\n",
       "\n",
       "      const channel = await google.colab.kernel.comms.open(id);\n",
       "      // Send a message to notify the kernel that we're ready.\n",
       "      channel.send({})\n",
       "\n",
       "      for await (const message of channel.messages) {\n",
       "        // Send a message to notify the kernel that we're ready.\n",
       "        channel.send({})\n",
       "        if (message.buffers) {\n",
       "          for (const buffer of message.buffers) {\n",
       "            buffers.push(buffer);\n",
       "            downloaded += buffer.byteLength;\n",
       "            progress.value = downloaded;\n",
       "          }\n",
       "        }\n",
       "      }\n",
       "      const blob = new Blob(buffers, {type: 'application/binary'});\n",
       "      const a = document.createElement('a');\n",
       "      a.href = window.URL.createObjectURL(blob);\n",
       "      a.download = filename;\n",
       "      div.appendChild(a);\n",
       "      a.click();\n",
       "      div.remove();\n",
       "    }\n",
       "  "
      ],
      "text/plain": [
       "<IPython.core.display.Javascript object>"
      ]
     },
     "metadata": {
      "tags": []
     },
     "output_type": "display_data"
    },
    {
     "data": {
      "application/javascript": [
       "download(\"download_69209d7a-7067-432e-ba6e-5a07b70430e5\", \"wikipedia2vec_most_similar_1000.csv\", 3856043)"
      ],
      "text/plain": [
       "<IPython.core.display.Javascript object>"
      ]
     },
     "metadata": {
      "tags": []
     },
     "output_type": "display_data"
    }
   ],
   "source": [
    "# Download from Colab\n",
    "files.download(\"wikipedia2vec_most_similar_1000.csv\")"
   ]
  },
  {
   "cell_type": "code",
   "execution_count": null,
   "metadata": {
    "id": "FUW05dehfLXb"
   },
   "outputs": [],
   "source": []
  }
 ],
 "metadata": {
  "accelerator": "GPU",
  "colab": {
   "name": "3b_wikipedia2vec_mostsimilar_colab100.ipynb",
   "provenance": []
  },
  "kernelspec": {
   "display_name": "Python 3",
   "language": "python",
   "name": "python3"
  },
  "language_info": {
   "codemirror_mode": {
    "name": "ipython",
    "version": 3
   },
   "file_extension": ".py",
   "mimetype": "text/x-python",
   "name": "python",
   "nbconvert_exporter": "python",
   "pygments_lexer": "ipython3",
   "version": "3.7.7"
  }
 },
 "nbformat": 4,
 "nbformat_minor": 1
}
