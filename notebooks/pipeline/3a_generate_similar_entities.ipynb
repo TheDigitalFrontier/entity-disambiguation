{
 "cells": [
  {
   "cell_type": "markdown",
   "metadata": {},
   "source": [
    "# Find Similar Entities\n",
    "\n",
    "We have now returned all of the entities we'll get from direct querying of the package. We must now use alternate measures to identify candidate entities and select from that pool."
   ]
  },
  {
   "cell_type": "markdown",
   "metadata": {},
   "source": [
    "#### Import Packages"
   ]
  },
  {
   "cell_type": "code",
   "execution_count": 1,
   "metadata": {},
   "outputs": [],
   "source": [
    "import os\n",
    "import time\n",
    "\n",
    "import pandas as pd\n",
    "import numpy as np\n",
    "import matplotlib.pyplot as plt\n",
    "%matplotlib inline\n",
    "\n",
    "# Progress bar\n",
    "from tqdm import tqdm"
   ]
  },
  {
   "cell_type": "code",
   "execution_count": 2,
   "metadata": {},
   "outputs": [],
   "source": [
    "# Package\n",
    "from wikipedia2vec import Wikipedia2Vec\n",
    "\n",
    "# Class to compare type\n",
    "from wikipedia2vec.dictionary import Entity"
   ]
  },
  {
   "cell_type": "code",
   "execution_count": 10,
   "metadata": {},
   "outputs": [
    {
     "name": "stdout",
     "output_type": "stream",
     "text": [
      "CPU times: user 97.8 ms, sys: 181 ms, total: 279 ms\n",
      "Wall time: 463 ms\n"
     ]
    }
   ],
   "source": [
    "%%time\n",
    "# Load unzipped pkl file with word embeddings\n",
    "w2v = Wikipedia2Vec.load(\"../../embeddings/enwiki_20180420_100d.pkl\")"
   ]
  },
  {
   "cell_type": "markdown",
   "metadata": {},
   "source": [
    "## Load previously made predictions"
   ]
  },
  {
   "cell_type": "code",
   "execution_count": 5,
   "metadata": {},
   "outputs": [
    {
     "data": {
      "text/html": [
       "<div>\n",
       "<style scoped>\n",
       "    .dataframe tbody tr th:only-of-type {\n",
       "        vertical-align: middle;\n",
       "    }\n",
       "\n",
       "    .dataframe tbody tr th {\n",
       "        vertical-align: top;\n",
       "    }\n",
       "\n",
       "    .dataframe thead th {\n",
       "        text-align: right;\n",
       "    }\n",
       "</style>\n",
       "<table border=\"1\" class=\"dataframe\">\n",
       "  <thead>\n",
       "    <tr style=\"text-align: right;\">\n",
       "      <th></th>\n",
       "      <th>mention</th>\n",
       "      <th>full_mention</th>\n",
       "      <th>wikipedia_URL</th>\n",
       "      <th>wikipedia_ID</th>\n",
       "      <th>sentence_id</th>\n",
       "      <th>doc_id</th>\n",
       "      <th>congruent_entities</th>\n",
       "      <th>preds_w2v_getentity</th>\n",
       "    </tr>\n",
       "  </thead>\n",
       "  <tbody>\n",
       "    <tr>\n",
       "      <th>0</th>\n",
       "      <td>B</td>\n",
       "      <td>German</td>\n",
       "      <td>http://en.wikipedia.org/wiki/Germany</td>\n",
       "      <td>11867</td>\n",
       "      <td>0</td>\n",
       "      <td>0</td>\n",
       "      <td>['EU', 'German', 'British']</td>\n",
       "      <td>NaN</td>\n",
       "    </tr>\n",
       "    <tr>\n",
       "      <th>1</th>\n",
       "      <td>B</td>\n",
       "      <td>British</td>\n",
       "      <td>http://en.wikipedia.org/wiki/United_Kingdom</td>\n",
       "      <td>31717</td>\n",
       "      <td>0</td>\n",
       "      <td>0</td>\n",
       "      <td>['EU', 'German', 'British']</td>\n",
       "      <td>NaN</td>\n",
       "    </tr>\n",
       "    <tr>\n",
       "      <th>2</th>\n",
       "      <td>B</td>\n",
       "      <td>BRUSSELS</td>\n",
       "      <td>http://en.wikipedia.org/wiki/Brussels</td>\n",
       "      <td>3708</td>\n",
       "      <td>1</td>\n",
       "      <td>0</td>\n",
       "      <td>['Peter Blackburn', 'BRUSSELS', 'European Comm...</td>\n",
       "      <td>NaN</td>\n",
       "    </tr>\n",
       "    <tr>\n",
       "      <th>3</th>\n",
       "      <td>B</td>\n",
       "      <td>European Commission</td>\n",
       "      <td>http://en.wikipedia.org/wiki/European_Commission</td>\n",
       "      <td>9974</td>\n",
       "      <td>1</td>\n",
       "      <td>0</td>\n",
       "      <td>['Peter Blackburn', 'BRUSSELS', 'European Comm...</td>\n",
       "      <td>European Commission</td>\n",
       "    </tr>\n",
       "    <tr>\n",
       "      <th>4</th>\n",
       "      <td>I</td>\n",
       "      <td>European Commission</td>\n",
       "      <td>http://en.wikipedia.org/wiki/European_Commission</td>\n",
       "      <td>9974</td>\n",
       "      <td>1</td>\n",
       "      <td>0</td>\n",
       "      <td>['Peter Blackburn', 'BRUSSELS', 'European Comm...</td>\n",
       "      <td>European Commission</td>\n",
       "    </tr>\n",
       "    <tr>\n",
       "      <th>5</th>\n",
       "      <td>B</td>\n",
       "      <td>German</td>\n",
       "      <td>http://en.wikipedia.org/wiki/Germany</td>\n",
       "      <td>11867</td>\n",
       "      <td>1</td>\n",
       "      <td>0</td>\n",
       "      <td>['Peter Blackburn', 'BRUSSELS', 'European Comm...</td>\n",
       "      <td>NaN</td>\n",
       "    </tr>\n",
       "    <tr>\n",
       "      <th>6</th>\n",
       "      <td>B</td>\n",
       "      <td>British</td>\n",
       "      <td>http://en.wikipedia.org/wiki/United_Kingdom</td>\n",
       "      <td>31717</td>\n",
       "      <td>1</td>\n",
       "      <td>0</td>\n",
       "      <td>['Peter Blackburn', 'BRUSSELS', 'European Comm...</td>\n",
       "      <td>NaN</td>\n",
       "    </tr>\n",
       "    <tr>\n",
       "      <th>7</th>\n",
       "      <td>B</td>\n",
       "      <td>Germany</td>\n",
       "      <td>http://en.wikipedia.org/wiki/Germany</td>\n",
       "      <td>11867</td>\n",
       "      <td>2</td>\n",
       "      <td>0</td>\n",
       "      <td>['Germany', 'European Union', 'Werner Zwingman...</td>\n",
       "      <td>Germany</td>\n",
       "    </tr>\n",
       "    <tr>\n",
       "      <th>8</th>\n",
       "      <td>B</td>\n",
       "      <td>European Union</td>\n",
       "      <td>http://en.wikipedia.org/wiki/European_Union</td>\n",
       "      <td>9317</td>\n",
       "      <td>2</td>\n",
       "      <td>0</td>\n",
       "      <td>['Germany', 'European Union', 'Werner Zwingman...</td>\n",
       "      <td>European Union</td>\n",
       "    </tr>\n",
       "    <tr>\n",
       "      <th>9</th>\n",
       "      <td>I</td>\n",
       "      <td>European Union</td>\n",
       "      <td>http://en.wikipedia.org/wiki/European_Union</td>\n",
       "      <td>9317</td>\n",
       "      <td>2</td>\n",
       "      <td>0</td>\n",
       "      <td>['Germany', 'European Union', 'Werner Zwingman...</td>\n",
       "      <td>European Union</td>\n",
       "    </tr>\n",
       "  </tbody>\n",
       "</table>\n",
       "</div>"
      ],
      "text/plain": [
       "  mention         full_mention  \\\n",
       "0       B               German   \n",
       "1       B              British   \n",
       "2       B             BRUSSELS   \n",
       "3       B  European Commission   \n",
       "4       I  European Commission   \n",
       "5       B               German   \n",
       "6       B              British   \n",
       "7       B              Germany   \n",
       "8       B       European Union   \n",
       "9       I       European Union   \n",
       "\n",
       "                                      wikipedia_URL  wikipedia_ID  \\\n",
       "0              http://en.wikipedia.org/wiki/Germany         11867   \n",
       "1       http://en.wikipedia.org/wiki/United_Kingdom         31717   \n",
       "2             http://en.wikipedia.org/wiki/Brussels          3708   \n",
       "3  http://en.wikipedia.org/wiki/European_Commission          9974   \n",
       "4  http://en.wikipedia.org/wiki/European_Commission          9974   \n",
       "5              http://en.wikipedia.org/wiki/Germany         11867   \n",
       "6       http://en.wikipedia.org/wiki/United_Kingdom         31717   \n",
       "7              http://en.wikipedia.org/wiki/Germany         11867   \n",
       "8       http://en.wikipedia.org/wiki/European_Union          9317   \n",
       "9       http://en.wikipedia.org/wiki/European_Union          9317   \n",
       "\n",
       "   sentence_id  doc_id                                 congruent_entities  \\\n",
       "0            0       0                        ['EU', 'German', 'British']   \n",
       "1            0       0                        ['EU', 'German', 'British']   \n",
       "2            1       0  ['Peter Blackburn', 'BRUSSELS', 'European Comm...   \n",
       "3            1       0  ['Peter Blackburn', 'BRUSSELS', 'European Comm...   \n",
       "4            1       0  ['Peter Blackburn', 'BRUSSELS', 'European Comm...   \n",
       "5            1       0  ['Peter Blackburn', 'BRUSSELS', 'European Comm...   \n",
       "6            1       0  ['Peter Blackburn', 'BRUSSELS', 'European Comm...   \n",
       "7            2       0  ['Germany', 'European Union', 'Werner Zwingman...   \n",
       "8            2       0  ['Germany', 'European Union', 'Werner Zwingman...   \n",
       "9            2       0  ['Germany', 'European Union', 'Werner Zwingman...   \n",
       "\n",
       "   preds_w2v_getentity  \n",
       "0                  NaN  \n",
       "1                  NaN  \n",
       "2                  NaN  \n",
       "3  European Commission  \n",
       "4  European Commission  \n",
       "5                  NaN  \n",
       "6                  NaN  \n",
       "7              Germany  \n",
       "8       European Union  \n",
       "9       European Union  "
      ]
     },
     "execution_count": 5,
     "metadata": {},
     "output_type": "execute_result"
    }
   ],
   "source": [
    "# Base path to input\n",
    "preds_path = '../../predictions/'\n",
    "\n",
    "# Load data\n",
    "entity_disambiguation = pd.read_csv(os.path.join(preds_path, \"wikipedia2vec_getentities.csv\"), delimiter=\",\")\n",
    "entity_disambiguation.head(10)"
   ]
  },
  {
   "cell_type": "code",
   "execution_count": 7,
   "metadata": {},
   "outputs": [
    {
     "name": "stdout",
     "output_type": "stream",
     "text": [
      "Mentions without Prediction:  27.362 %\n"
     ]
    }
   ],
   "source": [
    "# Print current status for missing estimate count\n",
    "print(\"Mentions without Prediction: \",\\\n",
    "      round(entity_disambiguation['preds_w2v_getentity'].isnull().sum()/len(entity_disambiguation)*100,3),\"%\")"
   ]
  },
  {
   "cell_type": "markdown",
   "metadata": {},
   "source": [
    "## Find most similar entity using Wikipedia2vec\n",
    "\n",
    "We now turn to using a variation on Wikipedia2vec's `most_similar()` function to find, for entered words, the most similar entity. We do this as an added-layer, meaning only for those without an estimate, and for all full mentions, to compare performance."
   ]
  },
  {
   "cell_type": "code",
   "execution_count": 15,
   "metadata": {
    "scrolled": true
   },
   "outputs": [
    {
     "data": {
      "text/html": [
       "<div>\n",
       "<style scoped>\n",
       "    .dataframe tbody tr th:only-of-type {\n",
       "        vertical-align: middle;\n",
       "    }\n",
       "\n",
       "    .dataframe tbody tr th {\n",
       "        vertical-align: top;\n",
       "    }\n",
       "\n",
       "    .dataframe thead th {\n",
       "        text-align: right;\n",
       "    }\n",
       "</style>\n",
       "<table border=\"1\" class=\"dataframe\">\n",
       "  <thead>\n",
       "    <tr style=\"text-align: right;\">\n",
       "      <th></th>\n",
       "      <th>mention</th>\n",
       "      <th>full_mention</th>\n",
       "      <th>wikipedia_URL</th>\n",
       "      <th>wikipedia_ID</th>\n",
       "      <th>sentence_id</th>\n",
       "      <th>doc_id</th>\n",
       "      <th>congruent_entities</th>\n",
       "      <th>preds_w2v_getentity</th>\n",
       "      <th>full_mention_norm</th>\n",
       "    </tr>\n",
       "  </thead>\n",
       "  <tbody>\n",
       "    <tr>\n",
       "      <th>0</th>\n",
       "      <td>B</td>\n",
       "      <td>German</td>\n",
       "      <td>http://en.wikipedia.org/wiki/Germany</td>\n",
       "      <td>11867</td>\n",
       "      <td>0</td>\n",
       "      <td>0</td>\n",
       "      <td>['EU', 'German', 'British']</td>\n",
       "      <td>NaN</td>\n",
       "      <td>german</td>\n",
       "    </tr>\n",
       "  </tbody>\n",
       "</table>\n",
       "</div>"
      ],
      "text/plain": [
       "  mention full_mention                         wikipedia_URL  wikipedia_ID  \\\n",
       "0       B       German  http://en.wikipedia.org/wiki/Germany         11867   \n",
       "\n",
       "   sentence_id  doc_id           congruent_entities preds_w2v_getentity  \\\n",
       "0            0       0  ['EU', 'German', 'British']                 NaN   \n",
       "\n",
       "  full_mention_norm  \n",
       "0            german  "
      ]
     },
     "execution_count": 15,
     "metadata": {},
     "output_type": "execute_result"
    }
   ],
   "source": [
    "# Normalize full_mentions to lower case for entry into most_similar() function\n",
    "full_mention_norm = np.array([x.lower() for x in entity_disambiguation['full_mention']])\n",
    "entity_disambiguation['full_mention_norm'] = full_mention_norm\n",
    "entity_disambiguation.head(1)"
   ]
  },
  {
   "cell_type": "code",
   "execution_count": 16,
   "metadata": {},
   "outputs": [
    {
     "name": "stdout",
     "output_type": "stream",
     "text": [
      "Search Word:  german\n",
      "Single Word Query Time: 27.12s\n"
     ]
    },
    {
     "data": {
      "text/plain": [
       "[(<Entity Culture of Germany>, 0.68680257),\n",
       " (<Entity 1860 in Germany>, 0.6840672),\n",
       " (<Entity 1866 in Germany>, 0.6836185),\n",
       " (<Entity Template:Focke-Wulf aircraft>, 0.68068546),\n",
       " (<Entity 1847 in Germany>, 0.680415),\n",
       " (<Entity File:Map-GermanConfederation.svg>, 0.67916125),\n",
       " (<Entity 1858 in Germany>, 0.6769093),\n",
       " (<Entity 1856 in Germany>, 0.67657095),\n",
       " (<Entity 1865 in Germany>, 0.6758945),\n",
       " (<Entity 1857 in Germany>, 0.67497927)]"
      ]
     },
     "metadata": {},
     "output_type": "display_data"
    }
   ],
   "source": [
    "### Test single full mention query time\n",
    "start_time = time.time()\n",
    "\n",
    "# Print word\n",
    "search_word = entity_disambiguation['full_mention_norm'][0]\n",
    "print(\"Search Word: \", search_word)\n",
    "\n",
    "# Get most similar word\n",
    "count_similar = 100\n",
    "similar = w2v.most_similar(w2v.get_word(str(search_word)), count_similar)\n",
    "\n",
    "# Retrieve only entities from word\n",
    "entities = []\n",
    "return_similar = 10\n",
    "for i in similar:\n",
    "#     print(type(i[0]))\n",
    "    if isinstance(i[0], Entity):\n",
    "        entities.append(i)\n",
    "    if len(entities) == return_similar:\n",
    "        break\n",
    "end_time = time.time()\n",
    "print(f\"Single Word Query Time: {round(end_time - start_time, 2)}s\")\n",
    "display(entities)"
   ]
  },
  {
   "cell_type": "code",
   "execution_count": 38,
   "metadata": {},
   "outputs": [
    {
     "name": "stderr",
     "output_type": "stream",
     "text": [
      "100%|██████████| 10/10 [02:40<00:00, 16.08s/it]"
     ]
    },
    {
     "name": "stdout",
     "output_type": "stream",
     "text": [
      "Successfully Found Words:  60.0 %\n",
      "CPU times: user 27.2 s, sys: 39.9 s, total: 1min 7s\n",
      "Wall time: 2min 40s\n"
     ]
    },
    {
     "name": "stderr",
     "output_type": "stream",
     "text": [
      "\n"
     ]
    }
   ],
   "source": [
    "%%time\n",
    "\n",
    "# Prepare output array\n",
    "most_similar_entities = []\n",
    "most_similar_scores = []\n",
    "\n",
    "# Track metrics\n",
    "success_word_query = 0\n",
    "\n",
    "# Provide filter ability\n",
    "size = 10\n",
    "\n",
    "for mention in tqdm(entity_disambiguation['full_mention_norm'][:size]):\n",
    "    \n",
    "    # Retrieve w2v word from mention\n",
    "    word = w2v.get_word(str(mention))\n",
    "    \n",
    "    if word is not None:\n",
    "        success_word_query += 1\n",
    "        \n",
    "        # Search most similar words/entities from found word\n",
    "        # Retrieve 50 most similar to ensure at least one entity returned\n",
    "        similars = w2v.most_similar(word, 50)\n",
    "\n",
    "        # Retrieve most similar entity\n",
    "        most_similar = None\n",
    "        for s in similars:\n",
    "            if isinstance(s[0], Entity):\n",
    "                most_similar = s\n",
    "            if most_similar is not None:\n",
    "                break\n",
    "    else:\n",
    "        most_similar = (None, None)\n",
    "    \n",
    "    # Save most similar\n",
    "    most_similar_entities.append(most_similar[0].title)\n",
    "    most_similar_scores.append(most_similar[1])\n",
    "    \n",
    "print(\"Successfully Found Words: \", round(success_word_query/size*100,3),\"%\")"
   ]
  },
  {
   "cell_type": "code",
   "execution_count": 39,
   "metadata": {},
   "outputs": [
    {
     "data": {
      "text/html": [
       "<div>\n",
       "<style scoped>\n",
       "    .dataframe tbody tr th:only-of-type {\n",
       "        vertical-align: middle;\n",
       "    }\n",
       "\n",
       "    .dataframe tbody tr th {\n",
       "        vertical-align: top;\n",
       "    }\n",
       "\n",
       "    .dataframe thead th {\n",
       "        text-align: right;\n",
       "    }\n",
       "</style>\n",
       "<table border=\"1\" class=\"dataframe\">\n",
       "  <thead>\n",
       "    <tr style=\"text-align: right;\">\n",
       "      <th></th>\n",
       "      <th>mention</th>\n",
       "      <th>full_mention</th>\n",
       "      <th>wikipedia_URL</th>\n",
       "      <th>wikipedia_ID</th>\n",
       "      <th>sentence_id</th>\n",
       "      <th>doc_id</th>\n",
       "      <th>congruent_entities</th>\n",
       "      <th>preds_w2v_getentity</th>\n",
       "      <th>full_mention_norm</th>\n",
       "      <th>preds_w2v_mostsimilar</th>\n",
       "      <th>score_w2v_mostsimilar</th>\n",
       "    </tr>\n",
       "  </thead>\n",
       "  <tbody>\n",
       "    <tr>\n",
       "      <th>0</th>\n",
       "      <td>B</td>\n",
       "      <td>German</td>\n",
       "      <td>http://en.wikipedia.org/wiki/Germany</td>\n",
       "      <td>11867</td>\n",
       "      <td>0</td>\n",
       "      <td>0</td>\n",
       "      <td>['EU', 'German', 'British']</td>\n",
       "      <td>NaN</td>\n",
       "      <td>german</td>\n",
       "      <td>&lt;Entity Culture of Germany&gt;</td>\n",
       "      <td>0.686803</td>\n",
       "    </tr>\n",
       "    <tr>\n",
       "      <th>1</th>\n",
       "      <td>B</td>\n",
       "      <td>British</td>\n",
       "      <td>http://en.wikipedia.org/wiki/United_Kingdom</td>\n",
       "      <td>31717</td>\n",
       "      <td>0</td>\n",
       "      <td>0</td>\n",
       "      <td>['EU', 'German', 'British']</td>\n",
       "      <td>NaN</td>\n",
       "      <td>british</td>\n",
       "      <td>&lt;Entity Russians in the United Kingdom&gt;</td>\n",
       "      <td>0.615564</td>\n",
       "    </tr>\n",
       "    <tr>\n",
       "      <th>2</th>\n",
       "      <td>B</td>\n",
       "      <td>BRUSSELS</td>\n",
       "      <td>http://en.wikipedia.org/wiki/Brussels</td>\n",
       "      <td>3708</td>\n",
       "      <td>1</td>\n",
       "      <td>0</td>\n",
       "      <td>['Peter Blackburn', 'BRUSSELS', 'European Comm...</td>\n",
       "      <td>NaN</td>\n",
       "      <td>brussels</td>\n",
       "      <td>&lt;Entity Brussels&gt;</td>\n",
       "      <td>0.887070</td>\n",
       "    </tr>\n",
       "  </tbody>\n",
       "</table>\n",
       "</div>"
      ],
      "text/plain": [
       "  mention full_mention                                wikipedia_URL  \\\n",
       "0       B       German         http://en.wikipedia.org/wiki/Germany   \n",
       "1       B      British  http://en.wikipedia.org/wiki/United_Kingdom   \n",
       "2       B     BRUSSELS        http://en.wikipedia.org/wiki/Brussels   \n",
       "\n",
       "   wikipedia_ID  sentence_id  doc_id  \\\n",
       "0         11867            0       0   \n",
       "1         31717            0       0   \n",
       "2          3708            1       0   \n",
       "\n",
       "                                  congruent_entities preds_w2v_getentity  \\\n",
       "0                        ['EU', 'German', 'British']                 NaN   \n",
       "1                        ['EU', 'German', 'British']                 NaN   \n",
       "2  ['Peter Blackburn', 'BRUSSELS', 'European Comm...                 NaN   \n",
       "\n",
       "  full_mention_norm                    preds_w2v_mostsimilar  \\\n",
       "0            german              <Entity Culture of Germany>   \n",
       "1           british  <Entity Russians in the United Kingdom>   \n",
       "2          brussels                        <Entity Brussels>   \n",
       "\n",
       "   score_w2v_mostsimilar  \n",
       "0               0.686803  \n",
       "1               0.615564  \n",
       "2               0.887070  "
      ]
     },
     "execution_count": 39,
     "metadata": {},
     "output_type": "execute_result"
    }
   ],
   "source": [
    "# Append to dataframe\n",
    "mini_df = entity_disambiguation[:size].copy()\n",
    "mini_df['preds_w2v_mostsimilar'] = most_similar_entities\n",
    "mini_df['score_w2v_mostsimilar'] = most_similar_scores\n",
    "mini_df.head(3)"
   ]
  },
  {
   "cell_type": "code",
   "execution_count": null,
   "metadata": {},
   "outputs": [],
   "source": []
  }
 ],
 "metadata": {
  "kernelspec": {
   "display_name": "Python 3",
   "language": "python",
   "name": "python3"
  },
  "language_info": {
   "codemirror_mode": {
    "name": "ipython",
    "version": 3
   },
   "file_extension": ".py",
   "mimetype": "text/x-python",
   "name": "python",
   "nbconvert_exporter": "python",
   "pygments_lexer": "ipython3",
   "version": "3.7.7"
  }
 },
 "nbformat": 4,
 "nbformat_minor": 4
}
