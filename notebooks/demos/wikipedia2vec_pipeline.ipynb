{
 "cells": [
  {
   "cell_type": "markdown",
   "metadata": {},
   "source": [
    "# Import packages"
   ]
  },
  {
   "cell_type": "code",
   "execution_count": 1,
   "metadata": {},
   "outputs": [],
   "source": [
    "# Import packages\n",
    "import os\n",
    "import time\n",
    "\n",
    "import pandas as pd\n",
    "import numpy as np\n",
    "import matplotlib.pyplot as plt\n",
    "%matplotlib inline\n",
    "\n",
    "# Add directory above current directory to path so we can import our pre-built package\n",
    "import sys; sys.path.insert(0, '../..')\n",
    "from entity_disambiguation.preprocessing import process_input, normalize_text\n",
    "\n",
    "# Import NLP stopwords\n",
    "# Ensure installation of nltk package in conda environment\n",
    "from nltk.corpus import stopwords\n",
    "\n",
    "# Import progress bar package\n",
    "from tqdm import tqdm"
   ]
  },
  {
   "cell_type": "code",
   "execution_count": 2,
   "metadata": {},
   "outputs": [],
   "source": [
    "try: \n",
    "    stop = stopwords.words('english')\n",
    "except LookupError:\n",
    "    # Download stopwords if it's your first time\n",
    "    import nltk\n",
    "    nltk.download('stopwords')"
   ]
  },
  {
   "cell_type": "markdown",
   "metadata": {},
   "source": [
    "# Define helper functions"
   ]
  },
  {
   "cell_type": "code",
   "execution_count": 3,
   "metadata": {},
   "outputs": [],
   "source": [
    "# Replace _ with \" \"\n",
    "def replace_lines(text):\n",
    "    return str(text).replace(\"_\", \" \")"
   ]
  },
  {
   "cell_type": "code",
   "execution_count": 5,
   "metadata": {},
   "outputs": [],
   "source": [
    "# Replace \" \" with _\n",
    "def add_lines(text):\n",
    "    return str(text).replace(\" \", \"_\")"
   ]
  },
  {
   "cell_type": "markdown",
   "metadata": {},
   "source": [
    "## 1. Process Aida-Conll-Yago (ACY) dataset into train/test split\n",
    "\n",
    "We can input two possibilities from ACY: (1) individual tokens (words) (2) full entity mentions. In processing the data, you can select which possibility you want to input using the match parameter of the process_input function."
   ]
  },
  {
   "cell_type": "code",
   "execution_count": 6,
   "metadata": {},
   "outputs": [],
   "source": [
    "# relative path to ACY dataset, should be the same for all users within `entity-disambiguation` repository\n",
    "acy_path = '../../data/aida-conll-yago-dataset/'\n",
    "\n",
    "# process_input() takes path location where you've stored AIDA-YAGO2-DATASET.tsv file\n",
    "# Transforms tsv file into train, test split\n",
    "# x are words, y are indices\n",
    "train_x, train_y, test_x, test_y = process_input(acy_path, match=\"full_mention\", train = 1.)"
   ]
  },
  {
   "cell_type": "code",
   "execution_count": 7,
   "metadata": {},
   "outputs": [
    {
     "data": {
      "text/plain": [
       "((22257, 2), (22257,))"
      ]
     },
     "metadata": {},
     "output_type": "display_data"
    },
    {
     "data": {
      "text/plain": [
       "((0, 2), (0,))"
      ]
     },
     "metadata": {},
     "output_type": "display_data"
    }
   ],
   "source": [
    "# Display shape of output train data\n",
    "display((train_x.shape, train_y.shape))\n",
    "display((test_x.shape, test_y.shape))"
   ]
  },
  {
   "cell_type": "code",
   "execution_count": 8,
   "metadata": {},
   "outputs": [
    {
     "data": {
      "text/html": [
       "<div>\n",
       "<style scoped>\n",
       "    .dataframe tbody tr th:only-of-type {\n",
       "        vertical-align: middle;\n",
       "    }\n",
       "\n",
       "    .dataframe tbody tr th {\n",
       "        vertical-align: top;\n",
       "    }\n",
       "\n",
       "    .dataframe thead th {\n",
       "        text-align: right;\n",
       "    }\n",
       "</style>\n",
       "<table border=\"1\" class=\"dataframe\">\n",
       "  <thead>\n",
       "    <tr style=\"text-align: right;\">\n",
       "      <th></th>\n",
       "      <th>full_mention</th>\n",
       "      <th>in_between_word_count</th>\n",
       "    </tr>\n",
       "  </thead>\n",
       "  <tbody>\n",
       "    <tr>\n",
       "      <th>0</th>\n",
       "      <td>German</td>\n",
       "      <td>2</td>\n",
       "    </tr>\n",
       "    <tr>\n",
       "      <th>1</th>\n",
       "      <td>British</td>\n",
       "      <td>3</td>\n",
       "    </tr>\n",
       "    <tr>\n",
       "      <th>2</th>\n",
       "      <td>BRUSSELS</td>\n",
       "      <td>6</td>\n",
       "    </tr>\n",
       "    <tr>\n",
       "      <th>3</th>\n",
       "      <td>European Commission</td>\n",
       "      <td>3</td>\n",
       "    </tr>\n",
       "    <tr>\n",
       "      <th>4</th>\n",
       "      <td>European Commission</td>\n",
       "      <td>0</td>\n",
       "    </tr>\n",
       "    <tr>\n",
       "      <th>5</th>\n",
       "      <td>German</td>\n",
       "      <td>6</td>\n",
       "    </tr>\n",
       "    <tr>\n",
       "      <th>6</th>\n",
       "      <td>British</td>\n",
       "      <td>5</td>\n",
       "    </tr>\n",
       "    <tr>\n",
       "      <th>7</th>\n",
       "      <td>Germany</td>\n",
       "      <td>15</td>\n",
       "    </tr>\n",
       "    <tr>\n",
       "      <th>8</th>\n",
       "      <td>European Union</td>\n",
       "      <td>4</td>\n",
       "    </tr>\n",
       "    <tr>\n",
       "      <th>9</th>\n",
       "      <td>European Union</td>\n",
       "      <td>0</td>\n",
       "    </tr>\n",
       "  </tbody>\n",
       "</table>\n",
       "</div>"
      ],
      "text/plain": [
       "          full_mention  in_between_word_count\n",
       "0               German                      2\n",
       "1              British                      3\n",
       "2             BRUSSELS                      6\n",
       "3  European Commission                      3\n",
       "4  European Commission                      0\n",
       "5               German                      6\n",
       "6              British                      5\n",
       "7              Germany                     15\n",
       "8       European Union                      4\n",
       "9       European Union                      0"
      ]
     },
     "execution_count": 8,
     "metadata": {},
     "output_type": "execute_result"
    }
   ],
   "source": [
    "# Display x preview\n",
    "train_x.head(10)"
   ]
  },
  {
   "cell_type": "code",
   "execution_count": 9,
   "metadata": {},
   "outputs": [
    {
     "data": {
      "text/plain": [
       "array(['11867', '31717', '3708'], dtype='<U8')"
      ]
     },
     "execution_count": 9,
     "metadata": {},
     "output_type": "execute_result"
    }
   ],
   "source": [
    "# Display y preview\n",
    "train_y[0:3]"
   ]
  },
  {
   "cell_type": "code",
   "execution_count": 10,
   "metadata": {},
   "outputs": [],
   "source": [
    "# Save train x/y into numpy arrays\n",
    "x_np = train_x.full_mention.values\n",
    "y_np = np.array(train_y, dtype = 'int64')"
   ]
  },
  {
   "cell_type": "markdown",
   "metadata": {},
   "source": [
    "### Prepare normalized KWNLP"
   ]
  },
  {
   "cell_type": "code",
   "execution_count": 11,
   "metadata": {},
   "outputs": [],
   "source": [
    "# Provide directory path for KWNLP data\n",
    "# Should be same for all users of `entity-disambiguation` repository\n",
    "kwnlp_path = '../../data/kwnlp'\n",
    "\n",
    "# Load article data\n",
    "article_df = pd.read_csv(os.path.join(kwnlp_path, 'kwnlp-enwiki-20200920-article.csv'))\n",
    "\n",
    "# Load anchor target counts data\n",
    "anchor_df = pd.read_csv(os.path.join(kwnlp_path, 'kwnlp-enwiki-20200920-anchor-target-counts.csv'))"
   ]
  },
  {
   "cell_type": "code",
   "execution_count": 12,
   "metadata": {},
   "outputs": [
    {
     "data": {
      "text/html": [
       "<div>\n",
       "<style scoped>\n",
       "    .dataframe tbody tr th:only-of-type {\n",
       "        vertical-align: middle;\n",
       "    }\n",
       "\n",
       "    .dataframe tbody tr th {\n",
       "        vertical-align: top;\n",
       "    }\n",
       "\n",
       "    .dataframe thead th {\n",
       "        text-align: right;\n",
       "    }\n",
       "</style>\n",
       "<table border=\"1\" class=\"dataframe\">\n",
       "  <thead>\n",
       "    <tr style=\"text-align: right;\">\n",
       "      <th></th>\n",
       "      <th>page_id</th>\n",
       "      <th>item_id</th>\n",
       "      <th>page_title</th>\n",
       "      <th>views</th>\n",
       "      <th>len_article_chars</th>\n",
       "      <th>len_intro_chars</th>\n",
       "      <th>in_link_count</th>\n",
       "      <th>out_link_count</th>\n",
       "      <th>tmpl_good_article</th>\n",
       "      <th>tmpl_featured_article</th>\n",
       "      <th>tmpl_pseudoscience</th>\n",
       "      <th>tmpl_conspiracy_theories</th>\n",
       "      <th>isa_Q17442446</th>\n",
       "      <th>isa_Q14795564</th>\n",
       "      <th>isa_Q18340514</th>\n",
       "    </tr>\n",
       "  </thead>\n",
       "  <tbody>\n",
       "    <tr>\n",
       "      <th>0</th>\n",
       "      <td>12</td>\n",
       "      <td>6199</td>\n",
       "      <td>Anarchism</td>\n",
       "      <td>35558</td>\n",
       "      <td>40449</td>\n",
       "      <td>409</td>\n",
       "      <td>3826</td>\n",
       "      <td>371</td>\n",
       "      <td>1</td>\n",
       "      <td>0</td>\n",
       "      <td>0</td>\n",
       "      <td>0</td>\n",
       "      <td>0</td>\n",
       "      <td>0</td>\n",
       "      <td>0</td>\n",
       "    </tr>\n",
       "    <tr>\n",
       "      <th>1</th>\n",
       "      <td>25</td>\n",
       "      <td>38404</td>\n",
       "      <td>Autism</td>\n",
       "      <td>40081</td>\n",
       "      <td>47659</td>\n",
       "      <td>419</td>\n",
       "      <td>2313</td>\n",
       "      <td>309</td>\n",
       "      <td>0</td>\n",
       "      <td>1</td>\n",
       "      <td>0</td>\n",
       "      <td>0</td>\n",
       "      <td>0</td>\n",
       "      <td>0</td>\n",
       "      <td>0</td>\n",
       "    </tr>\n",
       "    <tr>\n",
       "      <th>2</th>\n",
       "      <td>39</td>\n",
       "      <td>101038</td>\n",
       "      <td>Albedo</td>\n",
       "      <td>10770</td>\n",
       "      <td>18766</td>\n",
       "      <td>293</td>\n",
       "      <td>3090</td>\n",
       "      <td>115</td>\n",
       "      <td>0</td>\n",
       "      <td>0</td>\n",
       "      <td>0</td>\n",
       "      <td>0</td>\n",
       "      <td>0</td>\n",
       "      <td>0</td>\n",
       "      <td>0</td>\n",
       "    </tr>\n",
       "    <tr>\n",
       "      <th>3</th>\n",
       "      <td>290</td>\n",
       "      <td>9659</td>\n",
       "      <td>A</td>\n",
       "      <td>29398</td>\n",
       "      <td>9538</td>\n",
       "      <td>609</td>\n",
       "      <td>173</td>\n",
       "      <td>149</td>\n",
       "      <td>0</td>\n",
       "      <td>0</td>\n",
       "      <td>0</td>\n",
       "      <td>0</td>\n",
       "      <td>0</td>\n",
       "      <td>0</td>\n",
       "      <td>0</td>\n",
       "    </tr>\n",
       "    <tr>\n",
       "      <th>4</th>\n",
       "      <td>303</td>\n",
       "      <td>173</td>\n",
       "      <td>Alabama</td>\n",
       "      <td>46680</td>\n",
       "      <td>74276</td>\n",
       "      <td>369</td>\n",
       "      <td>11864</td>\n",
       "      <td>744</td>\n",
       "      <td>0</td>\n",
       "      <td>0</td>\n",
       "      <td>0</td>\n",
       "      <td>0</td>\n",
       "      <td>0</td>\n",
       "      <td>0</td>\n",
       "      <td>0</td>\n",
       "    </tr>\n",
       "  </tbody>\n",
       "</table>\n",
       "</div>"
      ],
      "text/plain": [
       "   page_id  item_id page_title  views  len_article_chars  len_intro_chars  \\\n",
       "0       12     6199  Anarchism  35558              40449              409   \n",
       "1       25    38404     Autism  40081              47659              419   \n",
       "2       39   101038     Albedo  10770              18766              293   \n",
       "3      290     9659          A  29398               9538              609   \n",
       "4      303      173    Alabama  46680              74276              369   \n",
       "\n",
       "   in_link_count  out_link_count  tmpl_good_article  tmpl_featured_article  \\\n",
       "0           3826             371                  1                      0   \n",
       "1           2313             309                  0                      1   \n",
       "2           3090             115                  0                      0   \n",
       "3            173             149                  0                      0   \n",
       "4          11864             744                  0                      0   \n",
       "\n",
       "   tmpl_pseudoscience  tmpl_conspiracy_theories  isa_Q17442446  isa_Q14795564  \\\n",
       "0                   0                         0              0              0   \n",
       "1                   0                         0              0              0   \n",
       "2                   0                         0              0              0   \n",
       "3                   0                         0              0              0   \n",
       "4                   0                         0              0              0   \n",
       "\n",
       "   isa_Q18340514  \n",
       "0              0  \n",
       "1              0  \n",
       "2              0  \n",
       "3              0  \n",
       "4              0  "
      ]
     },
     "execution_count": 12,
     "metadata": {},
     "output_type": "execute_result"
    }
   ],
   "source": [
    "# Display article preview\n",
    "article_df.head()"
   ]
  },
  {
   "cell_type": "code",
   "execution_count": 13,
   "metadata": {},
   "outputs": [
    {
     "data": {
      "text/plain": [
       "599597                               Dabas\n",
       "6189822    1998_Penn_Quakers_football_team\n",
       "1667569                    Bryant_Bulldogs\n",
       "2286200            Retrospektïẁ_(Part_III)\n",
       "3382846                   Zachód,_Szczecin\n",
       "1678729                    Porsche_LMP2000\n",
       "217786                           Ristretto\n",
       "1591071                 Ontario_Highway_72\n",
       "6125142                      Peter_Bonello\n",
       "994515                    Rigvedic_deities\n",
       "Name: page_title, dtype: object"
      ]
     },
     "execution_count": 13,
     "metadata": {},
     "output_type": "execute_result"
    }
   ],
   "source": [
    "# Display random sample of Wikipedia page titles\n",
    "randints = np.random.randint(0, len(article_df), 10)\n",
    "article_df.loc[randints, 'page_title']"
   ]
  },
  {
   "cell_type": "code",
   "execution_count": 14,
   "metadata": {},
   "outputs": [
    {
     "data": {
      "text/html": [
       "<div>\n",
       "<style scoped>\n",
       "    .dataframe tbody tr th:only-of-type {\n",
       "        vertical-align: middle;\n",
       "    }\n",
       "\n",
       "    .dataframe tbody tr th {\n",
       "        vertical-align: top;\n",
       "    }\n",
       "\n",
       "    .dataframe thead th {\n",
       "        text-align: right;\n",
       "    }\n",
       "</style>\n",
       "<table border=\"1\" class=\"dataframe\">\n",
       "  <thead>\n",
       "    <tr style=\"text-align: right;\">\n",
       "      <th></th>\n",
       "      <th>anchor_text</th>\n",
       "      <th>target_page_id</th>\n",
       "      <th>count</th>\n",
       "    </tr>\n",
       "  </thead>\n",
       "  <tbody>\n",
       "    <tr>\n",
       "      <th>0</th>\n",
       "      <td>United States</td>\n",
       "      <td>3434750</td>\n",
       "      <td>152451</td>\n",
       "    </tr>\n",
       "    <tr>\n",
       "      <th>1</th>\n",
       "      <td>World War II</td>\n",
       "      <td>32927</td>\n",
       "      <td>133668</td>\n",
       "    </tr>\n",
       "    <tr>\n",
       "      <th>2</th>\n",
       "      <td>India</td>\n",
       "      <td>14533</td>\n",
       "      <td>112069</td>\n",
       "    </tr>\n",
       "    <tr>\n",
       "      <th>3</th>\n",
       "      <td>France</td>\n",
       "      <td>5843419</td>\n",
       "      <td>109669</td>\n",
       "    </tr>\n",
       "    <tr>\n",
       "      <th>4</th>\n",
       "      <td>footballer</td>\n",
       "      <td>10568</td>\n",
       "      <td>101027</td>\n",
       "    </tr>\n",
       "  </tbody>\n",
       "</table>\n",
       "</div>"
      ],
      "text/plain": [
       "     anchor_text  target_page_id   count\n",
       "0  United States         3434750  152451\n",
       "1   World War II           32927  133668\n",
       "2          India           14533  112069\n",
       "3         France         5843419  109669\n",
       "4     footballer           10568  101027"
      ]
     },
     "execution_count": 14,
     "metadata": {},
     "output_type": "execute_result"
    }
   ],
   "source": [
    "# Display anchor preview\n",
    "anchor_df.head()"
   ]
  },
  {
   "cell_type": "code",
   "execution_count": 15,
   "metadata": {},
   "outputs": [
    {
     "name": "stdout",
     "output_type": "stream",
     "text": [
      "15269229\n",
      "CPU times: user 13.7 s, sys: 2.13 s, total: 15.8 s\n",
      "Wall time: 16.1 s\n"
     ]
    },
    {
     "data": {
      "text/html": [
       "<div>\n",
       "<style scoped>\n",
       "    .dataframe tbody tr th:only-of-type {\n",
       "        vertical-align: middle;\n",
       "    }\n",
       "\n",
       "    .dataframe tbody tr th {\n",
       "        vertical-align: top;\n",
       "    }\n",
       "\n",
       "    .dataframe thead th {\n",
       "        text-align: right;\n",
       "    }\n",
       "</style>\n",
       "<table border=\"1\" class=\"dataframe\">\n",
       "  <thead>\n",
       "    <tr style=\"text-align: right;\">\n",
       "      <th></th>\n",
       "      <th>anchor_text</th>\n",
       "      <th>target_page_id</th>\n",
       "      <th>count</th>\n",
       "      <th>normalized_anchor_text</th>\n",
       "    </tr>\n",
       "  </thead>\n",
       "  <tbody>\n",
       "    <tr>\n",
       "      <th>0</th>\n",
       "      <td>United States</td>\n",
       "      <td>3434750</td>\n",
       "      <td>152451</td>\n",
       "      <td>united states</td>\n",
       "    </tr>\n",
       "    <tr>\n",
       "      <th>1</th>\n",
       "      <td>World War II</td>\n",
       "      <td>32927</td>\n",
       "      <td>133668</td>\n",
       "      <td>world war ii</td>\n",
       "    </tr>\n",
       "    <tr>\n",
       "      <th>2</th>\n",
       "      <td>India</td>\n",
       "      <td>14533</td>\n",
       "      <td>112069</td>\n",
       "      <td>india</td>\n",
       "    </tr>\n",
       "  </tbody>\n",
       "</table>\n",
       "</div>"
      ],
      "text/plain": [
       "     anchor_text  target_page_id   count normalized_anchor_text\n",
       "0  United States         3434750  152451          united states\n",
       "1   World War II           32927  133668           world war ii\n",
       "2          India           14533  112069                  india"
      ]
     },
     "execution_count": 15,
     "metadata": {},
     "output_type": "execute_result"
    }
   ],
   "source": [
    "%%time\n",
    "# Copy anchor_df to new dataframe\n",
    "at_count_df = anchor_df.copy()\n",
    "\n",
    "# Normalize anchor_text (lower-case, strip whitespace)\n",
    "at_count_df[\"normalized_anchor_text\"] = at_count_df[\"anchor_text\"].apply(normalize_text)\n",
    "\n",
    "# Return all anchor_texts that are non-zero, non-null\n",
    "at_count_df = at_count_df.loc[at_count_df['normalized_anchor_text'].str.len() > 0, :]\n",
    "\n",
    "print(len(at_count_df))\n",
    "at_count_df.head(3)"
   ]
  },
  {
   "cell_type": "markdown",
   "metadata": {},
   "source": [
    "Inner join anchor-target data (mention to linked entity) with Wikipedia page article data. This lets us collate stats like page views with the target (entity) of mentions. Page views serves as another baseline model by selecting the page/entity that is most viewed for that anchor text."
   ]
  },
  {
   "cell_type": "code",
   "execution_count": 16,
   "metadata": {},
   "outputs": [
    {
     "name": "stdout",
     "output_type": "stream",
     "text": [
      "CPU times: user 37.2 s, sys: 35.2 s, total: 1min 12s\n",
      "Wall time: 1min 29s\n"
     ]
    },
    {
     "data": {
      "text/html": [
       "<div>\n",
       "<style scoped>\n",
       "    .dataframe tbody tr th:only-of-type {\n",
       "        vertical-align: middle;\n",
       "    }\n",
       "\n",
       "    .dataframe tbody tr th {\n",
       "        vertical-align: top;\n",
       "    }\n",
       "\n",
       "    .dataframe thead th {\n",
       "        text-align: right;\n",
       "    }\n",
       "</style>\n",
       "<table border=\"1\" class=\"dataframe\">\n",
       "  <thead>\n",
       "    <tr style=\"text-align: right;\">\n",
       "      <th></th>\n",
       "      <th>normalized_anchor_text</th>\n",
       "      <th>target_page_id</th>\n",
       "      <th>target_item_id</th>\n",
       "      <th>target_page_title</th>\n",
       "      <th>target_page_views</th>\n",
       "      <th>anchor_target_count</th>\n",
       "    </tr>\n",
       "  </thead>\n",
       "  <tbody>\n",
       "    <tr>\n",
       "      <th>0</th>\n",
       "      <td>united states</td>\n",
       "      <td>3434750</td>\n",
       "      <td>30</td>\n",
       "      <td>United_States</td>\n",
       "      <td>460156</td>\n",
       "      <td>152451</td>\n",
       "    </tr>\n",
       "    <tr>\n",
       "      <th>1</th>\n",
       "      <td>american</td>\n",
       "      <td>3434750</td>\n",
       "      <td>30</td>\n",
       "      <td>United_States</td>\n",
       "      <td>460156</td>\n",
       "      <td>65722</td>\n",
       "    </tr>\n",
       "    <tr>\n",
       "      <th>2</th>\n",
       "      <td>usa</td>\n",
       "      <td>3434750</td>\n",
       "      <td>30</td>\n",
       "      <td>United_States</td>\n",
       "      <td>460156</td>\n",
       "      <td>8559</td>\n",
       "    </tr>\n",
       "  </tbody>\n",
       "</table>\n",
       "</div>"
      ],
      "text/plain": [
       "  normalized_anchor_text  target_page_id  target_item_id target_page_title  \\\n",
       "0          united states         3434750              30     United_States   \n",
       "1               american         3434750              30     United_States   \n",
       "2                    usa         3434750              30     United_States   \n",
       "\n",
       "   target_page_views  anchor_target_count  \n",
       "0             460156               152451  \n",
       "1             460156                65722  \n",
       "2             460156                 8559  "
      ]
     },
     "execution_count": 16,
     "metadata": {},
     "output_type": "execute_result"
    }
   ],
   "source": [
    "%%time\n",
    "# Merge at_count and article stats dataframes\n",
    "at_count_df = pd.merge(\n",
    "    at_count_df,\n",
    "    article_df,\n",
    "    how=\"inner\",\n",
    "    left_on=\"target_page_id\",\n",
    "    right_on=\"page_id\")\n",
    "\n",
    "# Rename columns for clarity\n",
    "at_count_df = at_count_df.rename(columns={\n",
    "    'title': 'target_page_title',\n",
    "    'item_id': 'target_item_id',\n",
    "    'views': 'target_page_views',\n",
    "    'count': 'anchor_target_count',\n",
    "    'page_title': 'target_page_title'})\n",
    "\n",
    "# Specify column ordering\n",
    "at_count_df = at_count_df[[\n",
    "    \"normalized_anchor_text\",\n",
    "    \"target_page_id\",\n",
    "    \"target_item_id\",\n",
    "    \"target_page_title\",\n",
    "    \"target_page_views\",\n",
    "    \"anchor_target_count\"]]\n",
    "\n",
    "# Display preview\n",
    "at_count_df.head(3)"
   ]
  },
  {
   "cell_type": "markdown",
   "metadata": {},
   "source": [
    "Drop NaNs. These have been encoded as `string` through the text normalisation previously."
   ]
  },
  {
   "cell_type": "code",
   "execution_count": 17,
   "metadata": {},
   "outputs": [
    {
     "name": "stdout",
     "output_type": "stream",
     "text": [
      "Dropped rows: 3596\n"
     ]
    }
   ],
   "source": [
    "# Drop NaNs\n",
    "len_orig = len(at_count_df)\n",
    "at_count_df = at_count_df.loc[at_count_df['normalized_anchor_text'] != 'nan']\n",
    "print('Dropped rows:', len_orig - len(at_count_df))"
   ]
  },
  {
   "cell_type": "markdown",
   "metadata": {},
   "source": [
    "## Develop Wikipedia2Vec Model\n",
    "\n",
    "We will create a normalized anchor text dataset from KWNLP. We will then use the pre-trained word embeddings provided via [Wikipedia2Vec](https://wikipedia2vec.github.io/wikipedia2vec/) to calculate a similarity score between a mention in ACY and a normalized anchor text in KWNLP.\n",
    "\n",
    "We can try to apply word embedding similarities to two locations. The first is to move away from exact match joins between word token and anchor text and instead use a word similarity score. We would then use anchor link statistics to decide on an appropriate entity for disambiguation. The second is to compare word similarity directly between the token or full mention in ACY and the Wikipedia page title provided in the KWNLP."
   ]
  },
  {
   "cell_type": "code",
   "execution_count": 18,
   "metadata": {},
   "outputs": [],
   "source": [
    "# Import package\n",
    "from wikipedia2vec import Wikipedia2Vec"
   ]
  },
  {
   "cell_type": "code",
   "execution_count": 19,
   "metadata": {},
   "outputs": [
    {
     "name": "stdout",
     "output_type": "stream",
     "text": [
      "CPU times: user 97.5 ms, sys: 163 ms, total: 260 ms\n",
      "Wall time: 450 ms\n"
     ]
    }
   ],
   "source": [
    "%%time\n",
    "# Load unzipped pkl file with word embeddings\n",
    "wiki2vec = Wikipedia2Vec.load(\"../../embeddings/enwiki_20180420_100d.pkl\")"
   ]
  },
  {
   "cell_type": "markdown",
   "metadata": {},
   "source": [
    "# Retrieve Entities from Wikipedia2Vec"
   ]
  },
  {
   "cell_type": "markdown",
   "metadata": {},
   "source": [
    "#### We want to test the success rate querying Wikipedia2Vec entities using KDNLP page titles. This should be an exact match since it is searching for an entity with the entity's title."
   ]
  },
  {
   "cell_type": "code",
   "execution_count": 22,
   "metadata": {},
   "outputs": [
    {
     "name": "stderr",
     "output_type": "stream",
     "text": [
      "100%|██████████| 6189965/6189965 [00:37<00:00, 164382.89it/s]"
     ]
    },
    {
     "name": "stdout",
     "output_type": "stream",
     "text": [
      "Success Rate:  4.232 %\n"
     ]
    },
    {
     "name": "stderr",
     "output_type": "stream",
     "text": [
      "\n"
     ]
    }
   ],
   "source": [
    "# Calculate success entity queries\n",
    "success_rate = 0\n",
    "queries = 0\n",
    "failed_searches = []\n",
    "for page in tqdm(article_df['page_title']):\n",
    "    queries += 1\n",
    "    entity =  wiki2vec.get_entity(str(page))\n",
    "#     print(entity)\n",
    "    if entity is not None:\n",
    "        success_rate += 1\n",
    "    else:\n",
    "        failed_searches.append(page)\n",
    "print(\"Success Rate: \", round(success_rate/queries*100, 3),\"%\")"
   ]
  },
  {
   "cell_type": "code",
   "execution_count": 23,
   "metadata": {},
   "outputs": [
    {
     "name": "stdout",
     "output_type": "stream",
     "text": [
      "Failed Queries:  ['Abraham_Lincoln', 'An_American_in_Paris', 'Academy_Award_for_Best_Production_Design', 'Academy_Awards', 'Animalia_(book)', 'International_Atomic_Time', 'Ayn_Rand', 'Alain_Connes', 'Allan_Dwan', 'List_of_Atlas_Shrugged_characters', 'Agricultural_science', 'Austin_(disambiguation)', 'Andre_Agassi', 'Austroasiatic_languages', 'Afroasiatic_languages', 'Arithmetic_mean', 'American_Football_Conference', 'Animal_Farm', 'Aldous_Huxley', 'Ada', 'Aberdeen_(disambiguation)', 'Analysis_of_variance', 'Appellate_procedure_in_the_United_States', 'Answer_(law)', 'Appellate_court', 'America_the_Beautiful', 'Assistive_technology', 'American_National_Standards_Institute', 'Argument_(disambiguation)', 'Apollo_11', 'Apollo_8', 'A_Modest_Proposal', 'Alkali_metal', 'Atomic_number', 'Affirming_the_consequent', 'Andrei_Tarkovsky', 'Animal_(disambiguation)', 'Articles_of_Confederation', 'Asia_Minor_(disambiguation)', 'Atlantic_Ocean', 'Arthur_Schopenhauer', 'Demographics_of_Angola', 'Politics_of_Angola', 'Economy_of_Angola', 'Transport_in_Angola', 'Angolan_Armed_Forces', 'Foreign_relations_of_Angola', 'Albert_Sidney_Johnston', 'Android_(robot)', 'List_of_anthropologists']\n"
     ]
    }
   ],
   "source": [
    "# Preview failed queries\n",
    "print(\"Failed Queries: \", failed_searches[:50])"
   ]
  },
  {
   "cell_type": "markdown",
   "metadata": {},
   "source": [
    "#### We see 4.23% success matching directly on Page Title but may see better success if we replace \"_\" with \" \" using our earlier function. It seems to work better if you search with spaces, like natural entry."
   ]
  },
  {
   "cell_type": "code",
   "execution_count": 24,
   "metadata": {},
   "outputs": [
    {
     "name": "stderr",
     "output_type": "stream",
     "text": [
      "100%|██████████| 6189965/6189965 [00:49<00:00, 125049.47it/s]"
     ]
    },
    {
     "name": "stdout",
     "output_type": "stream",
     "text": [
      "Success Rate:  39.111 %\n"
     ]
    },
    {
     "name": "stderr",
     "output_type": "stream",
     "text": [
      "\n"
     ]
    }
   ],
   "source": [
    "# Calculate success entity queries\n",
    "success_rate = 0\n",
    "queries = 0\n",
    "failed_searches = []\n",
    "for page in tqdm(article_df['page_title'].apply(replace_lines)):\n",
    "    queries += 1\n",
    "    entity =  wiki2vec.get_entity(str(page))\n",
    "#     print(entity)\n",
    "    if entity is not None:\n",
    "        success_rate += 1\n",
    "    else:\n",
    "        failed_searches.append(page)\n",
    "print(\"Success Rate: \", round(success_rate/queries*100, 3),\"%\")"
   ]
  },
  {
   "cell_type": "code",
   "execution_count": 25,
   "metadata": {},
   "outputs": [
    {
     "name": "stdout",
     "output_type": "stream",
     "text": [
      "Failed Queries:  ['Austin (disambiguation)', 'Ada', 'Aberdeen (disambiguation)', 'Argument (disambiguation)', 'Animal (disambiguation)', 'Asia Minor (disambiguation)', 'Atlas (disambiguation)', 'Asterism', 'Aztlan Underground', 'Altenberg', 'Arne Kaijser', 'AM', 'Abatement', \"America's National Game\", 'Atlantic (disambiguation)', 'APL', 'Athene (disambiguation)', 'Artistic revolution', 'Atomic', 'Asa', 'Telecommunications in Anguilla', 'Abduction', 'Ancylopoda', 'Anadyr (river)', 'ASIC (disambiguation)']\n"
     ]
    }
   ],
   "source": [
    "# Preview failed queries\n",
    "print(\"Failed Queries: \", failed_searches[:25])"
   ]
  },
  {
   "cell_type": "code",
   "execution_count": 26,
   "metadata": {},
   "outputs": [
    {
     "data": {
      "text/plain": [
       "1.4"
      ]
     },
     "execution_count": 26,
     "metadata": {},
     "output_type": "execute_result"
    }
   ],
   "source": [
    "# How many are disambiguation pages\n",
    "count=0\n",
    "for i in failed_searches:\n",
    "    if '(disambiguation)' in i:\n",
    "        count+=1\n",
    "round(count/len(failed_searches)*100, 2)"
   ]
  },
  {
   "cell_type": "markdown",
   "metadata": {},
   "source": [
    "#### We see a 39% success rate matching on strings with spaces, but that still leaves ~3.4 million unmatched page titles.\n",
    "\n",
    "Looking at failed searches like [Atomic](https://en.wikipedia.org/wiki/Atomic), [Asa](https://en.wikipedia.org/wiki/Asa), and [Abduction](https://en.wikipedia.org/wiki/Abduction), these terms go to disambiguation pages very frequently, even if disambiguation is only in the title ~1-2% of the time. They may not be fully indexed by Wikipedia2vec and thus not returned. The impact this will have on entity disambiguation is unknown."
   ]
  },
  {
   "cell_type": "code",
   "execution_count": null,
   "metadata": {},
   "outputs": [],
   "source": []
  },
  {
   "cell_type": "code",
   "execution_count": 173,
   "metadata": {},
   "outputs": [],
   "source": []
  },
  {
   "cell_type": "code",
   "execution_count": null,
   "metadata": {},
   "outputs": [],
   "source": []
  },
  {
   "cell_type": "code",
   "execution_count": null,
   "metadata": {},
   "outputs": [],
   "source": []
  },
  {
   "cell_type": "markdown",
   "metadata": {},
   "source": [
    "# Use Wikipedia2Vec to Retrieve Entities from Words Directly\n",
    "\n",
    "Wikipedia2vec can return the closest entities to any entered word. Let's see what kind of results are returned using its API."
   ]
  },
  {
   "cell_type": "code",
   "execution_count": 27,
   "metadata": {},
   "outputs": [],
   "source": [
    "# Import class to compare type against\n",
    "from wikipedia2vec.dictionary import Entity"
   ]
  },
  {
   "cell_type": "code",
   "execution_count": 28,
   "metadata": {},
   "outputs": [
    {
     "data": {
      "text/plain": [
       "array(['german', 'british', 'brussels', 'european commission',\n",
       "       'european commission', 'german', 'british', 'germany',\n",
       "       'european union', 'european union'], dtype='<U51')"
      ]
     },
     "execution_count": 28,
     "metadata": {},
     "output_type": "execute_result"
    }
   ],
   "source": [
    "# Normalize full_mentions in x_np\n",
    "# This is necessaryr in order for wiki2vec.get_word() to return results\n",
    "x_np_norm = np.array([x.lower() if x is not None else x for x in x_np])\n",
    "x_np_norm[:10]"
   ]
  },
  {
   "cell_type": "code",
   "execution_count": 29,
   "metadata": {},
   "outputs": [
    {
     "name": "stdout",
     "output_type": "stream",
     "text": [
      "Search Word:  german\n",
      "Single Word Query Time: 15.2s\n"
     ]
    },
    {
     "data": {
      "text/plain": [
       "[(<Entity Culture of Germany>, 0.68680257),\n",
       " (<Entity 1860 in Germany>, 0.6840672),\n",
       " (<Entity 1866 in Germany>, 0.6836185),\n",
       " (<Entity Template:Focke-Wulf aircraft>, 0.68068546),\n",
       " (<Entity 1847 in Germany>, 0.680415),\n",
       " (<Entity File:Map-GermanConfederation.svg>, 0.67916125),\n",
       " (<Entity 1858 in Germany>, 0.6769093),\n",
       " (<Entity 1856 in Germany>, 0.67657095),\n",
       " (<Entity 1865 in Germany>, 0.6758945),\n",
       " (<Entity 1857 in Germany>, 0.67497927)]"
      ]
     },
     "metadata": {},
     "output_type": "display_data"
    }
   ],
   "source": [
    "# Test single x entity return\n",
    "\n",
    "start_time = time.time()\n",
    "\n",
    "# Print word\n",
    "print(\"Search Word: \", x_np_norm[0])\n",
    "\n",
    "# Get most similar word\n",
    "count_similar = 100\n",
    "similar = wiki2vec.most_similar(wiki2vec.get_word(str(x_np_norm[0])), count_similar)\n",
    "\n",
    "# Retrieve only entities from word\n",
    "entities = []\n",
    "return_similar = 10\n",
    "for i in similar:\n",
    "#     print(type(i[0]))\n",
    "    if isinstance(i[0], Entity):\n",
    "        entities.append(i)\n",
    "    if len(entities) == return_similar:\n",
    "        break\n",
    "end_time = time.time()\n",
    "print(f\"Single Word Query Time: {round(end_time - start_time, 2)}s\")\n",
    "display(entities)"
   ]
  },
  {
   "cell_type": "code",
   "execution_count": 111,
   "metadata": {
    "scrolled": true
   },
   "outputs": [
    {
     "name": "stdout",
     "output_type": "stream",
     "text": [
      "word german search for  1\n",
      "word german search for  2\n",
      "word german search for  3\n",
      "word german search for  4\n",
      "word german search for  5\n",
      "word german search for  6\n",
      "word german search for  7\n",
      "word german search for  8\n",
      "word german search for  9\n",
      "word german search for  10\n",
      "word german search for  11\n",
      "word german search for  12\n",
      "word german search for  13\n",
      "word german search for  14\n",
      "word german search for  15\n",
      "word german search for  16\n",
      "word german search for  17\n",
      "word german search for  18\n",
      "word german search for  19\n",
      "word german search for  20\n",
      "word german search for  21\n",
      "word german search for  22\n",
      "word german search for  23\n",
      "word german search for  24\n",
      "word german search for  25\n",
      "word german search for  26\n",
      "word german search for  27\n",
      "word german search for  28\n",
      "word german search for  29\n",
      "word german search for  30\n",
      "word german search for  31\n",
      "word german search for  32\n",
      "word german search for  33\n",
      "word german search for  34\n",
      "word german search for  35\n",
      "word german search for  36\n",
      "word german search for  37\n",
      "word german search for  38\n",
      "word german search for  39\n",
      "word german search for  40\n",
      "word german search for  41\n",
      "word german search for  42\n",
      "word german search for  43\n",
      "word german search for  44\n",
      "word german search for  45\n",
      "word german search for  46\n",
      "word german search for  47\n",
      "word german search for  48\n",
      "word german search for  49\n",
      "word german search for  50\n",
      "word german search for  51\n",
      "word german search for  52\n",
      "word german search for  53\n",
      "word german search for  54\n",
      "word german search for  55\n",
      "word german search for  56\n",
      "word german search for  57\n",
      "word german search for  58\n",
      "word german search for  59\n",
      "word german search for  60\n",
      "word german search for  61\n",
      "word german search for  62\n",
      "word german search for  63\n",
      "word german search for  64\n",
      "word german search for  65\n",
      "word german search for  66\n",
      "word german search for  67\n",
      "word german search for  68\n",
      "word german search for  69\n",
      "word german search for  70\n",
      "word german search for  71\n",
      "word german search for  72\n",
      "word german search for  73\n",
      "word german search for  74\n",
      "word german search for  75\n",
      "word german search for  76\n",
      "word german search for  77\n",
      "word german search for  78\n",
      "word german search for  79\n",
      "word german search for  80\n",
      "word german search for  81\n",
      "word german search for  82\n",
      "word german search for  83\n",
      "word german search for  84\n",
      "word german search for  85\n",
      "word german search for  86\n",
      "word german search for  87\n",
      "word german search for  88\n",
      "word german search for  89\n",
      "word german search for  90\n",
      "word german search for  91\n",
      "word german search for  92\n",
      "word german search for  93\n",
      "word german search for  94\n",
      "word german search for  95\n",
      "word german search for  96\n",
      "word german search for  97\n",
      "word german search for  98\n",
      "word german search for  99\n",
      "word german search for  100\n",
      "Single Search Query Time: 294.06s\n",
      "word british search for  1\n",
      "word british search for  2\n",
      "word british search for  3\n",
      "word british search for  4\n",
      "word british search for  5\n",
      "word british search for  6\n",
      "word british search for  7\n",
      "word british search for  8\n",
      "word british search for  9\n",
      "word british search for  10\n",
      "word british search for  11\n",
      "word british search for  12\n",
      "word british search for  13\n",
      "word british search for  14\n",
      "word british search for  15\n",
      "word british search for  16\n",
      "word british search for  17\n",
      "word british search for  18\n",
      "word british search for  19\n",
      "word british search for  20\n",
      "word british search for  21\n",
      "word british search for  22\n",
      "word british search for  23\n",
      "word british search for  24\n",
      "word british search for  25\n",
      "word british search for  26\n",
      "word british search for  27\n",
      "word british search for  28\n",
      "word british search for  29\n",
      "word british search for  30\n",
      "word british search for  31\n",
      "word british search for  32\n",
      "word british search for  33\n",
      "word british search for  34\n",
      "word british search for  35\n",
      "word british search for  36\n",
      "word british search for  37\n",
      "word british search for  38\n",
      "word british search for  39\n",
      "word british search for  40\n",
      "word british search for  41\n",
      "word british search for  42\n",
      "word british search for  43\n",
      "word british search for  44\n",
      "word british search for  45\n",
      "word british search for  46\n",
      "word british search for  47\n",
      "word british search for  48\n",
      "word british search for  49\n",
      "word british search for  50\n",
      "word british search for  51\n",
      "word british search for  52\n",
      "word british search for  53\n",
      "word british search for  54\n",
      "word british search for  55\n",
      "word british search for  56\n",
      "word british search for  57\n",
      "word british search for  58\n",
      "word british search for  59\n",
      "word british search for  60\n",
      "word british search for  61\n",
      "word british search for  62\n",
      "word british search for  63\n",
      "word british search for  64\n",
      "word british search for  65\n",
      "word british search for  66\n",
      "word british search for  67\n",
      "word british search for  68\n",
      "word british search for  69\n",
      "word british search for  70\n",
      "word british search for  71\n",
      "word british search for  72\n",
      "word british search for  73\n",
      "word british search for  74\n",
      "word british search for  75\n",
      "word british search for  76\n",
      "word british search for  77\n",
      "word british search for  78\n",
      "word british search for  79\n",
      "word british search for  80\n",
      "word british search for  81\n",
      "word british search for  82\n",
      "word british search for  83\n",
      "word british search for  84\n",
      "word british search for  85\n",
      "word british search for  86\n",
      "word british search for  87\n",
      "word british search for  88\n",
      "word british search for  89\n",
      "word british search for  90\n",
      "word british search for  91\n",
      "word british search for  92\n",
      "word british search for  93\n",
      "word british search for  94\n",
      "word british search for  95\n",
      "word british search for  96\n",
      "word british search for  97\n",
      "word british search for  98\n",
      "word british search for  99\n",
      "word british search for  100\n",
      "Single Search Query Time: 320.33s\n",
      "word brussels search for  1\n",
      "word brussels search for  2\n",
      "word brussels search for  3\n",
      "word brussels search for  4\n",
      "word brussels search for  5\n",
      "word brussels search for  6\n",
      "word brussels search for  7\n",
      "word brussels search for  8\n",
      "word brussels search for  9\n",
      "word brussels search for  10\n",
      "word brussels search for  11\n",
      "word brussels search for  12\n",
      "word brussels search for  13\n",
      "word brussels search for  14\n",
      "word brussels search for  15\n",
      "word brussels search for  16\n",
      "word brussels search for  17\n",
      "word brussels search for  18\n",
      "word brussels search for  19\n",
      "word brussels search for  20\n",
      "word brussels search for  21\n",
      "word brussels search for  22\n",
      "word brussels search for  23\n",
      "word brussels search for  24\n",
      "word brussels search for  25\n",
      "word brussels search for  26\n",
      "word brussels search for  27\n",
      "word brussels search for  28\n",
      "word brussels search for  29\n",
      "word brussels search for  30\n",
      "word brussels search for  31\n",
      "word brussels search for  32\n",
      "word brussels search for  33\n",
      "word brussels search for  34\n",
      "word brussels search for  35\n",
      "word brussels search for  36\n",
      "word brussels search for  37\n",
      "word brussels search for  38\n",
      "word brussels search for  39\n",
      "word brussels search for  40\n",
      "word brussels search for  41\n",
      "word brussels search for  42\n",
      "word brussels search for  43\n",
      "word brussels search for  44\n",
      "word brussels search for  45\n",
      "word brussels search for  46\n",
      "word brussels search for  47\n",
      "word brussels search for  48\n",
      "word brussels search for  49\n",
      "word brussels search for  50\n",
      "word brussels search for  51\n",
      "word brussels search for  52\n",
      "word brussels search for  53\n",
      "word brussels search for  54\n",
      "word brussels search for  55\n",
      "word brussels search for  56\n",
      "word brussels search for  57\n",
      "word brussels search for  58\n",
      "word brussels search for  59\n",
      "word brussels search for  60\n",
      "word brussels search for  61\n",
      "word brussels search for  62\n",
      "word brussels search for  63\n",
      "word brussels search for  64\n",
      "word brussels search for  65\n",
      "word brussels search for  66\n",
      "word brussels search for  67\n",
      "word brussels search for  68\n",
      "word brussels search for  69\n",
      "word brussels search for  70\n",
      "word brussels search for  71\n",
      "word brussels search for  72\n",
      "word brussels search for  73\n",
      "word brussels search for  74\n",
      "word brussels search for  75\n",
      "word brussels search for  76\n",
      "word brussels search for  77\n",
      "word brussels search for  78\n",
      "word brussels search for  79\n",
      "word brussels search for  80\n",
      "word brussels search for  81\n",
      "word brussels search for  82\n",
      "word brussels search for  83\n",
      "word brussels search for  84\n",
      "word brussels search for  85\n",
      "word brussels search for  86\n",
      "word brussels search for  87\n",
      "word brussels search for  88\n",
      "word brussels search for  89\n",
      "word brussels search for  90\n",
      "word brussels search for  91\n",
      "word brussels search for  92\n"
     ]
    },
    {
     "name": "stdout",
     "output_type": "stream",
     "text": [
      "word brussels search for  93\n",
      "word brussels search for  94\n",
      "word brussels search for  95\n",
      "word brussels search for  96\n",
      "word brussels search for  97\n",
      "word brussels search for  98\n",
      "word brussels search for  99\n",
      "word brussels search for  100\n",
      "Single Search Query Time: 313.89s\n",
      "word european commission search for  1\n",
      "word european commission search for  2\n",
      "word european commission search for  3\n",
      "word european commission search for  4\n",
      "word european commission search for  5\n",
      "word european commission search for  6\n",
      "word european commission search for  7\n",
      "word european commission search for  8\n",
      "word european commission search for  9\n",
      "word european commission search for  10\n",
      "word european commission search for  11\n",
      "word european commission search for  12\n",
      "word european commission search for  13\n",
      "word european commission search for  14\n",
      "word european commission search for  15\n",
      "word european commission search for  16\n",
      "word european commission search for  17\n",
      "word european commission search for  18\n",
      "word european commission search for  19\n",
      "word european commission search for  20\n",
      "word european commission search for  21\n",
      "word european commission search for  22\n",
      "word european commission search for  23\n",
      "word european commission search for  24\n",
      "word european commission search for  25\n",
      "word european commission search for  26\n",
      "word european commission search for  27\n",
      "word european commission search for  28\n",
      "word european commission search for  29\n",
      "word european commission search for  30\n",
      "word european commission search for  31\n",
      "word european commission search for  32\n",
      "word european commission search for  33\n",
      "word european commission search for  34\n",
      "word european commission search for  35\n",
      "word european commission search for  36\n",
      "word european commission search for  37\n",
      "word european commission search for  38\n",
      "word european commission search for  39\n",
      "word european commission search for  40\n",
      "word european commission search for  41\n",
      "word european commission search for  42\n",
      "word european commission search for  43\n",
      "word european commission search for  44\n",
      "word european commission search for  45\n",
      "word european commission search for  46\n",
      "word european commission search for  47\n",
      "word european commission search for  48\n",
      "word european commission search for  49\n",
      "word european commission search for  50\n",
      "word european commission search for  51\n",
      "word european commission search for  52\n",
      "word european commission search for  53\n",
      "word european commission search for  54\n",
      "word european commission search for  55\n",
      "word european commission search for  56\n",
      "word european commission search for  57\n",
      "word european commission search for  58\n",
      "word european commission search for  59\n",
      "word european commission search for  60\n",
      "word european commission search for  61\n",
      "word european commission search for  62\n",
      "word european commission search for  63\n",
      "word european commission search for  64\n",
      "word european commission search for  65\n",
      "word european commission search for  66\n",
      "word european commission search for  67\n",
      "word european commission search for  68\n",
      "word european commission search for  69\n",
      "word european commission search for  70\n",
      "word european commission search for  71\n",
      "word european commission search for  72\n",
      "word european commission search for  73\n",
      "word european commission search for  74\n",
      "word european commission search for  75\n",
      "word european commission search for  76\n",
      "word european commission search for  77\n",
      "word european commission search for  78\n",
      "word european commission search for  79\n",
      "word european commission search for  80\n",
      "word european commission search for  81\n",
      "word european commission search for  82\n",
      "word european commission search for  83\n",
      "word european commission search for  84\n",
      "word european commission search for  85\n",
      "word european commission search for  86\n",
      "word european commission search for  87\n",
      "word european commission search for  88\n",
      "word european commission search for  89\n",
      "word european commission search for  90\n",
      "word european commission search for  91\n",
      "word european commission search for  92\n",
      "word european commission search for  93\n",
      "word european commission search for  94\n",
      "word european commission search for  95\n",
      "word european commission search for  96\n",
      "word european commission search for  97\n",
      "word european commission search for  98\n",
      "word european commission search for  99\n",
      "word european commission search for  100\n",
      "Single Search Query Time: 293.7s\n",
      "word european commission search for  1\n",
      "word european commission search for  2\n",
      "word european commission search for  3\n",
      "word european commission search for  4\n",
      "word european commission search for  5\n",
      "word european commission search for  6\n",
      "word european commission search for  7\n",
      "word european commission search for  8\n",
      "word european commission search for  9\n",
      "word european commission search for  10\n",
      "word european commission search for  11\n",
      "word european commission search for  12\n",
      "word european commission search for  13\n",
      "word european commission search for  14\n",
      "word european commission search for  15\n",
      "word european commission search for  16\n",
      "word european commission search for  17\n",
      "word european commission search for  18\n",
      "word european commission search for  19\n",
      "word european commission search for  20\n",
      "word european commission search for  21\n",
      "word european commission search for  22\n",
      "word european commission search for  23\n",
      "word european commission search for  24\n",
      "word european commission search for  25\n",
      "word european commission search for  26\n",
      "word european commission search for  27\n",
      "word european commission search for  28\n",
      "word european commission search for  29\n",
      "word european commission search for  30\n",
      "word european commission search for  31\n",
      "word european commission search for  32\n",
      "word european commission search for  33\n",
      "word european commission search for  34\n",
      "word european commission search for  35\n",
      "word european commission search for  36\n",
      "word european commission search for  37\n",
      "word european commission search for  38\n",
      "word european commission search for  39\n",
      "word european commission search for  40\n",
      "word european commission search for  41\n",
      "word european commission search for  42\n",
      "word european commission search for  43\n",
      "word european commission search for  44\n",
      "word european commission search for  45\n",
      "word european commission search for  46\n",
      "word european commission search for  47\n",
      "word european commission search for  48\n",
      "word european commission search for  49\n",
      "word european commission search for  50\n",
      "word european commission search for  51\n",
      "word european commission search for  52\n",
      "word european commission search for  53\n",
      "word european commission search for  54\n",
      "word european commission search for  55\n",
      "word european commission search for  56\n",
      "word european commission search for  57\n",
      "word european commission search for  58\n",
      "word european commission search for  59\n",
      "word european commission search for  60\n",
      "word european commission search for  61\n",
      "word european commission search for  62\n",
      "word european commission search for  63\n",
      "word european commission search for  64\n",
      "word european commission search for  65\n",
      "word european commission search for  66\n",
      "word european commission search for  67\n",
      "word european commission search for  68\n",
      "word european commission search for  69\n",
      "word european commission search for  70\n",
      "word european commission search for  71\n",
      "word european commission search for  72\n",
      "word european commission search for  73\n",
      "word european commission search for  74\n",
      "word european commission search for  75\n",
      "word european commission search for  76\n",
      "word european commission search for  77\n",
      "word european commission search for  78\n",
      "word european commission search for  79\n",
      "word european commission search for  80\n",
      "word european commission search for  81\n",
      "word european commission search for  82\n",
      "word european commission search for  83\n",
      "word european commission search for  84\n",
      "word european commission search for  85\n",
      "word european commission search for  86\n",
      "word european commission search for  87\n",
      "word european commission search for  88\n",
      "word european commission search for  89\n",
      "word european commission search for  90\n",
      "word european commission search for  91\n",
      "word european commission search for  92\n",
      "word european commission search for  93\n",
      "word european commission search for  94\n",
      "word european commission search for  95\n",
      "word european commission search for  96\n",
      "word european commission search for  97\n",
      "word european commission search for  98\n"
     ]
    },
    {
     "name": "stdout",
     "output_type": "stream",
     "text": [
      "word european commission search for  99\n",
      "word european commission search for  100\n",
      "Single Search Query Time: 289.64s\n"
     ]
    }
   ],
   "source": [
    "# Measure how many similar words must be returned to retrieve a sufficient number of entities\n",
    "word_returns = []\n",
    "searches = np.arange(1,101)\n",
    "randint = np.random.randint(len(np.unique(x_np_norm)))\n",
    "print(randint)\n",
    "domain = np.unique(x_np_norm)[randint:randint+5]\n",
    "\n",
    "for word in domain:\n",
    "    print(word)\n",
    "    start_time = time.time()\n",
    "    return_count = []\n",
    "    for s in tqdm(searches):\n",
    "#         print(\"word\", word, \"search for \", s)\n",
    "\n",
    "        # Get most similar word\n",
    "        count_similar = s\n",
    "        similar = wiki2vec.most_similar(wiki2vec.get_word(str(word)), count_similar)\n",
    "\n",
    "        # Retrieve only entities from word\n",
    "        entities = 0\n",
    "        return_similar = r\n",
    "        for i in similar:\n",
    "        #     print(type(i[0]))\n",
    "            if isinstance(i[0], Entity):\n",
    "                entities += 1\n",
    "        return_count.append(entities)\n",
    "    word_returns.append(return_count)\n",
    "    end_time = time.time()\n",
    "    print(f\"Single Search Query Time: {round(end_time - start_time, 2)}s\")"
   ]
  },
  {
   "cell_type": "code",
   "execution_count": 113,
   "metadata": {},
   "outputs": [
    {
     "name": "stdout",
     "output_type": "stream",
     "text": [
      "Single Search Query Time: 289.64s\n"
     ]
    }
   ],
   "source": [
    "print(f\"Single Search Query Time: {round(end_time - start_time, 2)}s\")"
   ]
  },
  {
   "cell_type": "markdown",
   "metadata": {},
   "source": [
    "From the below distribution, we should return at least 50 most similar objects in order to hit a list of Top 5 returned."
   ]
  },
  {
   "cell_type": "code",
   "execution_count": 118,
   "metadata": {},
   "outputs": [
    {
     "data": {
      "image/png": "[encoded data removed]",
      "text/plain": [
       "<Figure size 1080x360 with 1 Axes>"
      ]
     },
     "metadata": {
      "needs_background": "light"
     },
     "output_type": "display_data"
    }
   ],
   "source": [
    "plt.figure(figsize=(15,5))\n",
    "for w in range(len(domain)):\n",
    "    plt.plot(searches, word_returns[w], label=domain[w])\n",
    "plt.axhline(5, color='red', ls='--')\n",
    "plt.legend()\n",
    "plt.show()"
   ]
  },
  {
   "cell_type": "markdown",
   "metadata": {},
   "source": [
    "From here, we can match returned entities and their title to page_title in article_df, then to page_id."
   ]
  },
  {
   "cell_type": "code",
   "execution_count": 165,
   "metadata": {},
   "outputs": [
    {
     "name": "stdout",
     "output_type": "stream",
     "text": [
      "Culture of Germany 4126950 143 142\n"
     ]
    }
   ],
   "source": [
    "p = wiki2vec.get_entity(\"Culture of Germany\")\n",
    "print(p.title, p.index, p.count, p.doc_count)"
   ]
  },
  {
   "cell_type": "code",
   "execution_count": 164,
   "metadata": {},
   "outputs": [
    {
     "data": {
      "text/html": [
       "<div>\n",
       "<style scoped>\n",
       "    .dataframe tbody tr th:only-of-type {\n",
       "        vertical-align: middle;\n",
       "    }\n",
       "\n",
       "    .dataframe tbody tr th {\n",
       "        vertical-align: top;\n",
       "    }\n",
       "\n",
       "    .dataframe thead th {\n",
       "        text-align: right;\n",
       "    }\n",
       "</style>\n",
       "<table border=\"1\" class=\"dataframe\">\n",
       "  <thead>\n",
       "    <tr style=\"text-align: right;\">\n",
       "      <th></th>\n",
       "      <th>page_id</th>\n",
       "      <th>item_id</th>\n",
       "      <th>page_title</th>\n",
       "      <th>views</th>\n",
       "      <th>len_article_chars</th>\n",
       "      <th>len_intro_chars</th>\n",
       "      <th>in_link_count</th>\n",
       "      <th>out_link_count</th>\n",
       "      <th>tmpl_good_article</th>\n",
       "      <th>tmpl_featured_article</th>\n",
       "      <th>tmpl_pseudoscience</th>\n",
       "      <th>tmpl_conspiracy_theories</th>\n",
       "      <th>isa_Q17442446</th>\n",
       "      <th>isa_Q14795564</th>\n",
       "      <th>isa_Q18340514</th>\n",
       "    </tr>\n",
       "  </thead>\n",
       "  <tbody>\n",
       "    <tr>\n",
       "      <th>371385</th>\n",
       "      <td>1195868</td>\n",
       "      <td>1979615</td>\n",
       "      <td>Culture_of_Germany</td>\n",
       "      <td>2428</td>\n",
       "      <td>24914</td>\n",
       "      <td>227</td>\n",
       "      <td>167</td>\n",
       "      <td>482</td>\n",
       "      <td>0</td>\n",
       "      <td>0</td>\n",
       "      <td>0</td>\n",
       "      <td>0</td>\n",
       "      <td>0</td>\n",
       "      <td>0</td>\n",
       "      <td>0</td>\n",
       "    </tr>\n",
       "  </tbody>\n",
       "</table>\n",
       "</div>"
      ],
      "text/plain": [
       "        page_id  item_id          page_title  views  len_article_chars  \\\n",
       "371385  1195868  1979615  Culture_of_Germany   2428              24914   \n",
       "\n",
       "        len_intro_chars  in_link_count  out_link_count  tmpl_good_article  \\\n",
       "371385              227            167             482                  0   \n",
       "\n",
       "        tmpl_featured_article  tmpl_pseudoscience  tmpl_conspiracy_theories  \\\n",
       "371385                      0                   0                         0   \n",
       "\n",
       "        isa_Q17442446  isa_Q14795564  isa_Q18340514  \n",
       "371385              0              0              0  "
      ]
     },
     "execution_count": 164,
     "metadata": {},
     "output_type": "execute_result"
    }
   ],
   "source": [
    "article_df[article_df['page_title'] == 'Culture_of_Germany']"
   ]
  },
  {
   "cell_type": "markdown",
   "metadata": {},
   "source": [
    "Now, we develop an algorithm that returns the most likely entity matched from Wikipedia2Vec and uses that to get the page_id."
   ]
  },
  {
   "cell_type": "code",
   "execution_count": 137,
   "metadata": {},
   "outputs": [
    {
     "data": {
      "text/plain": [
       "17805"
      ]
     },
     "execution_count": 137,
     "metadata": {},
     "output_type": "execute_result"
    }
   ],
   "source": [
    "# Maximum set size\n",
    "len(x_np_norm)"
   ]
  },
  {
   "cell_type": "code",
   "execution_count": 220,
   "metadata": {},
   "outputs": [],
   "source": [
    "# Specify how large of a set you want to run\n",
    "size = 1780"
   ]
  },
  {
   "cell_type": "code",
   "execution_count": 221,
   "metadata": {},
   "outputs": [
    {
     "name": "stderr",
     "output_type": "stream",
     "text": [
      "  0%|          | 2/1780 [00:09<2:22:53,  4.82s/it]\n"
     ]
    },
    {
     "ename": "KeyboardInterrupt",
     "evalue": "",
     "output_type": "error",
     "traceback": [
      "\u001b[0;31m---------------------------------------------------------------------------\u001b[0m",
      "\u001b[0;31mKeyboardInterrupt\u001b[0m                         Traceback (most recent call last)",
      "\u001b[0;32m<timed exec>\u001b[0m in \u001b[0;36m<module>\u001b[0;34m\u001b[0m\n",
      "\u001b[0;32m~/opt/anaconda3/lib/python3.7/site-packages/wikipedia2vec/wikipedia2vec.pyx\u001b[0m in \u001b[0;36mwikipedia2vec.wikipedia2vec.Wikipedia2Vec.most_similar\u001b[0;34m()\u001b[0m\n",
      "\u001b[0;32m~/opt/anaconda3/lib/python3.7/site-packages/wikipedia2vec/wikipedia2vec.pyx\u001b[0m in \u001b[0;36mwikipedia2vec.wikipedia2vec.Wikipedia2Vec.most_similar\u001b[0;34m()\u001b[0m\n",
      "\u001b[0;32m~/opt/anaconda3/lib/python3.7/site-packages/wikipedia2vec/wikipedia2vec.pyx\u001b[0m in \u001b[0;36mwikipedia2vec.wikipedia2vec.Wikipedia2Vec.most_similar_by_vector\u001b[0;34m()\u001b[0m\n",
      "\u001b[0;32m<__array_function__ internals>\u001b[0m in \u001b[0;36mdot\u001b[0;34m(*args, **kwargs)\u001b[0m\n",
      "\u001b[0;32m~/opt/anaconda3/lib/python3.7/site-packages/numpy/core/memmap.py\u001b[0m in \u001b[0;36m__array_finalize__\u001b[0;34m(self, obj)\u001b[0m\n\u001b[1;32m    283\u001b[0m         \u001b[0;32mreturn\u001b[0m \u001b[0mself\u001b[0m\u001b[0;34m\u001b[0m\u001b[0;34m\u001b[0m\u001b[0m\n\u001b[1;32m    284\u001b[0m \u001b[0;34m\u001b[0m\u001b[0m\n\u001b[0;32m--> 285\u001b[0;31m     \u001b[0;32mdef\u001b[0m \u001b[0m__array_finalize__\u001b[0m\u001b[0;34m(\u001b[0m\u001b[0mself\u001b[0m\u001b[0;34m,\u001b[0m \u001b[0mobj\u001b[0m\u001b[0;34m)\u001b[0m\u001b[0;34m:\u001b[0m\u001b[0;34m\u001b[0m\u001b[0;34m\u001b[0m\u001b[0m\n\u001b[0m\u001b[1;32m    286\u001b[0m         \u001b[0;32mif\u001b[0m \u001b[0mhasattr\u001b[0m\u001b[0;34m(\u001b[0m\u001b[0mobj\u001b[0m\u001b[0;34m,\u001b[0m \u001b[0;34m'_mmap'\u001b[0m\u001b[0;34m)\u001b[0m \u001b[0;32mand\u001b[0m \u001b[0mnp\u001b[0m\u001b[0;34m.\u001b[0m\u001b[0mmay_share_memory\u001b[0m\u001b[0;34m(\u001b[0m\u001b[0mself\u001b[0m\u001b[0;34m,\u001b[0m \u001b[0mobj\u001b[0m\u001b[0;34m)\u001b[0m\u001b[0;34m:\u001b[0m\u001b[0;34m\u001b[0m\u001b[0;34m\u001b[0m\u001b[0m\n\u001b[1;32m    287\u001b[0m             \u001b[0mself\u001b[0m\u001b[0;34m.\u001b[0m\u001b[0m_mmap\u001b[0m \u001b[0;34m=\u001b[0m \u001b[0mobj\u001b[0m\u001b[0;34m.\u001b[0m\u001b[0m_mmap\u001b[0m\u001b[0;34m\u001b[0m\u001b[0;34m\u001b[0m\u001b[0m\n",
      "\u001b[0;31mKeyboardInterrupt\u001b[0m: "
     ]
    }
   ],
   "source": [
    "%%time\n",
    "\n",
    "most_similar_entities = []\n",
    "\n",
    "for mention in tqdm(x_np_norm[:size]):\n",
    "    \n",
    "    # Retrieve w2v word from mention\n",
    "    word = wiki2vec.get_word(str(mention))\n",
    "    \n",
    "    # Retrieve 50 most similar to ensure at least one entity returned\n",
    "    similars = wiki2vec.most_similar(word, 50)\n",
    "    \n",
    "    # Retrieve most similar entity\n",
    "    most_similar = None\n",
    "    for s in similars:\n",
    "        if isinstance(s[0], Entity):\n",
    "            most_similar = s\n",
    "        if most_similar is not None:\n",
    "            break\n",
    "    \n",
    "    # Save most similar\n",
    "    most_similar_entities.append(most_similar)"
   ]
  },
  {
   "cell_type": "code",
   "execution_count": 95,
   "metadata": {},
   "outputs": [
    {
     "data": {
      "text/plain": [
       "[(<Entity Culture of Germany>, 0.68680257),\n",
       " (<Entity Russians in the United Kingdom>, 0.6155642),\n",
       " (<Entity Brussels>, 0.8870699),\n",
       " None,\n",
       " None,\n",
       " (<Entity Culture of Germany>, 0.68680257),\n",
       " (<Entity Russians in the United Kingdom>, 0.6155642),\n",
       " (<Entity Germany>, 0.7371232),\n",
       " None,\n",
       " None]"
      ]
     },
     "execution_count": 95,
     "metadata": {},
     "output_type": "execute_result"
    }
   ],
   "source": [
    "# Preview most similar list\n",
    "most_similar_entities[:10]"
   ]
  },
  {
   "cell_type": "code",
   "execution_count": 149,
   "metadata": {},
   "outputs": [
    {
     "data": {
      "text/html": [
       "<div>\n",
       "<style scoped>\n",
       "    .dataframe tbody tr th:only-of-type {\n",
       "        vertical-align: middle;\n",
       "    }\n",
       "\n",
       "    .dataframe tbody tr th {\n",
       "        vertical-align: top;\n",
       "    }\n",
       "\n",
       "    .dataframe thead th {\n",
       "        text-align: right;\n",
       "    }\n",
       "</style>\n",
       "<table border=\"1\" class=\"dataframe\">\n",
       "  <thead>\n",
       "    <tr style=\"text-align: right;\">\n",
       "      <th></th>\n",
       "      <th>mention</th>\n",
       "      <th>match</th>\n",
       "      <th>similarity_score</th>\n",
       "      <th>entity_page_id</th>\n",
       "      <th>target_page_title</th>\n",
       "    </tr>\n",
       "  </thead>\n",
       "  <tbody>\n",
       "    <tr>\n",
       "      <th>0</th>\n",
       "      <td>German</td>\n",
       "      <td>Culture of Germany</td>\n",
       "      <td>0.686803</td>\n",
       "      <td>None</td>\n",
       "      <td>None</td>\n",
       "    </tr>\n",
       "    <tr>\n",
       "      <th>1</th>\n",
       "      <td>British</td>\n",
       "      <td>Russians in the United Kingdom</td>\n",
       "      <td>0.615564</td>\n",
       "      <td>None</td>\n",
       "      <td>None</td>\n",
       "    </tr>\n",
       "    <tr>\n",
       "      <th>2</th>\n",
       "      <td>BRUSSELS</td>\n",
       "      <td>Brussels</td>\n",
       "      <td>0.887070</td>\n",
       "      <td>None</td>\n",
       "      <td>None</td>\n",
       "    </tr>\n",
       "    <tr>\n",
       "      <th>3</th>\n",
       "      <td>European Commission</td>\n",
       "      <td>None</td>\n",
       "      <td>NaN</td>\n",
       "      <td>None</td>\n",
       "      <td>None</td>\n",
       "    </tr>\n",
       "    <tr>\n",
       "      <th>4</th>\n",
       "      <td>European Commission</td>\n",
       "      <td>None</td>\n",
       "      <td>NaN</td>\n",
       "      <td>None</td>\n",
       "      <td>None</td>\n",
       "    </tr>\n",
       "    <tr>\n",
       "      <th>...</th>\n",
       "      <td>...</td>\n",
       "      <td>...</td>\n",
       "      <td>...</td>\n",
       "      <td>...</td>\n",
       "      <td>...</td>\n",
       "    </tr>\n",
       "    <tr>\n",
       "      <th>95</th>\n",
       "      <td>Opel AG</td>\n",
       "      <td>None</td>\n",
       "      <td>NaN</td>\n",
       "      <td>None</td>\n",
       "      <td>None</td>\n",
       "    </tr>\n",
       "    <tr>\n",
       "      <th>96</th>\n",
       "      <td>Opel AG</td>\n",
       "      <td>None</td>\n",
       "      <td>NaN</td>\n",
       "      <td>None</td>\n",
       "      <td>None</td>\n",
       "    </tr>\n",
       "    <tr>\n",
       "      <th>97</th>\n",
       "      <td>General Motors</td>\n",
       "      <td>None</td>\n",
       "      <td>NaN</td>\n",
       "      <td>None</td>\n",
       "      <td>None</td>\n",
       "    </tr>\n",
       "    <tr>\n",
       "      <th>98</th>\n",
       "      <td>General Motors</td>\n",
       "      <td>None</td>\n",
       "      <td>NaN</td>\n",
       "      <td>None</td>\n",
       "      <td>None</td>\n",
       "    </tr>\n",
       "    <tr>\n",
       "      <th>99</th>\n",
       "      <td>Ford</td>\n",
       "      <td>None</td>\n",
       "      <td>NaN</td>\n",
       "      <td>None</td>\n",
       "      <td>None</td>\n",
       "    </tr>\n",
       "  </tbody>\n",
       "</table>\n",
       "<p>100 rows × 5 columns</p>\n",
       "</div>"
      ],
      "text/plain": [
       "                mention                           match  similarity_score  \\\n",
       "0                German              Culture of Germany          0.686803   \n",
       "1               British  Russians in the United Kingdom          0.615564   \n",
       "2              BRUSSELS                        Brussels          0.887070   \n",
       "3   European Commission                            None               NaN   \n",
       "4   European Commission                            None               NaN   \n",
       "..                  ...                             ...               ...   \n",
       "95              Opel AG                            None               NaN   \n",
       "96              Opel AG                            None               NaN   \n",
       "97       General Motors                            None               NaN   \n",
       "98       General Motors                            None               NaN   \n",
       "99                 Ford                            None               NaN   \n",
       "\n",
       "   entity_page_id target_page_title  \n",
       "0            None              None  \n",
       "1            None              None  \n",
       "2            None              None  \n",
       "3            None              None  \n",
       "4            None              None  \n",
       "..            ...               ...  \n",
       "95           None              None  \n",
       "96           None              None  \n",
       "97           None              None  \n",
       "98           None              None  \n",
       "99           None              None  \n",
       "\n",
       "[100 rows x 5 columns]"
      ]
     },
     "metadata": {},
     "output_type": "display_data"
    }
   ],
   "source": [
    "# Display full mention and most similar\n",
    "preds_wiki2vec = pd.DataFrame({\n",
    "    'mention': x_np[:size],\n",
    "    'match': [s[0].title if s is not None else None for s in most_similar_entities],\n",
    "    'similarity_score': [s[1] if s is not None else None for s in most_similar_entities],\n",
    "    'entity_page_id': None,\n",
    "    'target_page_title': None\n",
    "})\n",
    "display(preds_wiki2vec)"
   ]
  },
  {
   "cell_type": "code",
   "execution_count": 150,
   "metadata": {},
   "outputs": [
    {
     "data": {
      "text/plain": [
       "array([[7152417, 'None']], dtype=object)"
      ]
     },
     "execution_count": 150,
     "metadata": {},
     "output_type": "execute_result"
    }
   ],
   "source": [
    "article_df[article_df['page_id'] == 7152417][['page_id', 'page_title']].values"
   ]
  },
  {
   "cell_type": "code",
   "execution_count": 151,
   "metadata": {},
   "outputs": [
    {
     "name": "stderr",
     "output_type": "stream",
     "text": [
      "100%|██████████| 100/100 [00:30<00:00,  3.31it/s]\n"
     ]
    }
   ],
   "source": [
    "# Update with entity_page_id, target_page_title after updating match to have _ instead of \" \" todo \n",
    "for i in tqdm(range(len(preds_wiki2vec))):\n",
    "    try:\n",
    "        preds_wiki2vec.iloc[i, 3:5] = article_df[article_df['page_title'] == add_lines(preds_wiki2vec.iloc[i,1])][['page_id', 'page_title']].values[0]\n",
    "    except:\n",
    "        # Leave at default None values\n",
    "        continue"
   ]
  },
  {
   "cell_type": "code",
   "execution_count": 152,
   "metadata": {},
   "outputs": [
    {
     "data": {
      "text/html": [
       "<div>\n",
       "<style scoped>\n",
       "    .dataframe tbody tr th:only-of-type {\n",
       "        vertical-align: middle;\n",
       "    }\n",
       "\n",
       "    .dataframe tbody tr th {\n",
       "        vertical-align: top;\n",
       "    }\n",
       "\n",
       "    .dataframe thead th {\n",
       "        text-align: right;\n",
       "    }\n",
       "</style>\n",
       "<table border=\"1\" class=\"dataframe\">\n",
       "  <thead>\n",
       "    <tr style=\"text-align: right;\">\n",
       "      <th></th>\n",
       "      <th>mention</th>\n",
       "      <th>match</th>\n",
       "      <th>similarity_score</th>\n",
       "      <th>entity_page_id</th>\n",
       "      <th>target_page_title</th>\n",
       "    </tr>\n",
       "  </thead>\n",
       "  <tbody>\n",
       "    <tr>\n",
       "      <th>0</th>\n",
       "      <td>German</td>\n",
       "      <td>Culture of Germany</td>\n",
       "      <td>0.686803</td>\n",
       "      <td>1195868</td>\n",
       "      <td>Culture_of_Germany</td>\n",
       "    </tr>\n",
       "    <tr>\n",
       "      <th>1</th>\n",
       "      <td>British</td>\n",
       "      <td>Russians in the United Kingdom</td>\n",
       "      <td>0.615564</td>\n",
       "      <td>9808786</td>\n",
       "      <td>Russians_in_the_United_Kingdom</td>\n",
       "    </tr>\n",
       "    <tr>\n",
       "      <th>2</th>\n",
       "      <td>BRUSSELS</td>\n",
       "      <td>Brussels</td>\n",
       "      <td>0.887070</td>\n",
       "      <td>3708</td>\n",
       "      <td>Brussels</td>\n",
       "    </tr>\n",
       "    <tr>\n",
       "      <th>3</th>\n",
       "      <td>European Commission</td>\n",
       "      <td>None</td>\n",
       "      <td>NaN</td>\n",
       "      <td>7152417</td>\n",
       "      <td>None</td>\n",
       "    </tr>\n",
       "    <tr>\n",
       "      <th>4</th>\n",
       "      <td>European Commission</td>\n",
       "      <td>None</td>\n",
       "      <td>NaN</td>\n",
       "      <td>7152417</td>\n",
       "      <td>None</td>\n",
       "    </tr>\n",
       "    <tr>\n",
       "      <th>...</th>\n",
       "      <td>...</td>\n",
       "      <td>...</td>\n",
       "      <td>...</td>\n",
       "      <td>...</td>\n",
       "      <td>...</td>\n",
       "    </tr>\n",
       "    <tr>\n",
       "      <th>95</th>\n",
       "      <td>Opel AG</td>\n",
       "      <td>None</td>\n",
       "      <td>NaN</td>\n",
       "      <td>7152417</td>\n",
       "      <td>None</td>\n",
       "    </tr>\n",
       "    <tr>\n",
       "      <th>96</th>\n",
       "      <td>Opel AG</td>\n",
       "      <td>None</td>\n",
       "      <td>NaN</td>\n",
       "      <td>7152417</td>\n",
       "      <td>None</td>\n",
       "    </tr>\n",
       "    <tr>\n",
       "      <th>97</th>\n",
       "      <td>General Motors</td>\n",
       "      <td>None</td>\n",
       "      <td>NaN</td>\n",
       "      <td>7152417</td>\n",
       "      <td>None</td>\n",
       "    </tr>\n",
       "    <tr>\n",
       "      <th>98</th>\n",
       "      <td>General Motors</td>\n",
       "      <td>None</td>\n",
       "      <td>NaN</td>\n",
       "      <td>7152417</td>\n",
       "      <td>None</td>\n",
       "    </tr>\n",
       "    <tr>\n",
       "      <th>99</th>\n",
       "      <td>Ford</td>\n",
       "      <td>None</td>\n",
       "      <td>NaN</td>\n",
       "      <td>7152417</td>\n",
       "      <td>None</td>\n",
       "    </tr>\n",
       "  </tbody>\n",
       "</table>\n",
       "<p>100 rows × 5 columns</p>\n",
       "</div>"
      ],
      "text/plain": [
       "                mention                           match  similarity_score  \\\n",
       "0                German              Culture of Germany          0.686803   \n",
       "1               British  Russians in the United Kingdom          0.615564   \n",
       "2              BRUSSELS                        Brussels          0.887070   \n",
       "3   European Commission                            None               NaN   \n",
       "4   European Commission                            None               NaN   \n",
       "..                  ...                             ...               ...   \n",
       "95              Opel AG                            None               NaN   \n",
       "96              Opel AG                            None               NaN   \n",
       "97       General Motors                            None               NaN   \n",
       "98       General Motors                            None               NaN   \n",
       "99                 Ford                            None               NaN   \n",
       "\n",
       "   entity_page_id               target_page_title  \n",
       "0         1195868              Culture_of_Germany  \n",
       "1         9808786  Russians_in_the_United_Kingdom  \n",
       "2            3708                        Brussels  \n",
       "3         7152417                            None  \n",
       "4         7152417                            None  \n",
       "..            ...                             ...  \n",
       "95        7152417                            None  \n",
       "96        7152417                            None  \n",
       "97        7152417                            None  \n",
       "98        7152417                            None  \n",
       "99        7152417                            None  \n",
       "\n",
       "[100 rows x 5 columns]"
      ]
     },
     "metadata": {},
     "output_type": "display_data"
    }
   ],
   "source": [
    "display(preds_wiki2vec)"
   ]
  },
  {
   "cell_type": "code",
   "execution_count": 153,
   "metadata": {},
   "outputs": [
    {
     "name": "stdout",
     "output_type": "stream",
     "text": [
      "-- Accuracy on entire ACY dataset using KWNLP --\n",
      "Wikipedia2vec most_similar(): 34.0%\n"
     ]
    }
   ],
   "source": [
    "# Accuracy matching full mention with anchor text\n",
    "print('-- Accuracy on entire ACY dataset using KWNLP --')\n",
    "print('Wikipedia2vec most_similar(): {}%'.format(np.round(100*np.mean(preds_wiki2vec.entity_page_id == y_np[:size]), 2)))\n",
    "# print('Page Views: {}%'.format(np.round(100*np.mean(preds_page.entity_page_id == y_np), 2)))"
   ]
  },
  {
   "cell_type": "markdown",
   "metadata": {},
   "source": [
    "If we filter our prediction dataframe, we can see the real problem. wiki2vec struggles when entering multi-word text into the get_word solution. This may be where we can combine with our earlier tests for directly getting the entry to see what we score."
   ]
  },
  {
   "cell_type": "code",
   "execution_count": 154,
   "metadata": {},
   "outputs": [
    {
     "data": {
      "text/html": [
       "<div>\n",
       "<style scoped>\n",
       "    .dataframe tbody tr th:only-of-type {\n",
       "        vertical-align: middle;\n",
       "    }\n",
       "\n",
       "    .dataframe tbody tr th {\n",
       "        vertical-align: top;\n",
       "    }\n",
       "\n",
       "    .dataframe thead th {\n",
       "        text-align: right;\n",
       "    }\n",
       "</style>\n",
       "<table border=\"1\" class=\"dataframe\">\n",
       "  <thead>\n",
       "    <tr style=\"text-align: right;\">\n",
       "      <th></th>\n",
       "      <th>mention</th>\n",
       "      <th>match</th>\n",
       "      <th>similarity_score</th>\n",
       "      <th>entity_page_id</th>\n",
       "      <th>target_page_title</th>\n",
       "    </tr>\n",
       "  </thead>\n",
       "  <tbody>\n",
       "    <tr>\n",
       "      <th>3</th>\n",
       "      <td>European Commission</td>\n",
       "      <td>None</td>\n",
       "      <td>NaN</td>\n",
       "      <td>7152417</td>\n",
       "      <td>None</td>\n",
       "    </tr>\n",
       "    <tr>\n",
       "      <th>4</th>\n",
       "      <td>European Commission</td>\n",
       "      <td>None</td>\n",
       "      <td>NaN</td>\n",
       "      <td>7152417</td>\n",
       "      <td>None</td>\n",
       "    </tr>\n",
       "    <tr>\n",
       "      <th>8</th>\n",
       "      <td>European Union</td>\n",
       "      <td>None</td>\n",
       "      <td>NaN</td>\n",
       "      <td>7152417</td>\n",
       "      <td>None</td>\n",
       "    </tr>\n",
       "    <tr>\n",
       "      <th>9</th>\n",
       "      <td>European Union</td>\n",
       "      <td>None</td>\n",
       "      <td>NaN</td>\n",
       "      <td>7152417</td>\n",
       "      <td>None</td>\n",
       "    </tr>\n",
       "    <tr>\n",
       "      <th>12</th>\n",
       "      <td>European Union</td>\n",
       "      <td>None</td>\n",
       "      <td>NaN</td>\n",
       "      <td>7152417</td>\n",
       "      <td>None</td>\n",
       "    </tr>\n",
       "    <tr>\n",
       "      <th>13</th>\n",
       "      <td>European Union</td>\n",
       "      <td>None</td>\n",
       "      <td>NaN</td>\n",
       "      <td>7152417</td>\n",
       "      <td>None</td>\n",
       "    </tr>\n",
       "    <tr>\n",
       "      <th>14</th>\n",
       "      <td>Franz Fischler</td>\n",
       "      <td>None</td>\n",
       "      <td>NaN</td>\n",
       "      <td>7152417</td>\n",
       "      <td>None</td>\n",
       "    </tr>\n",
       "    <tr>\n",
       "      <th>15</th>\n",
       "      <td>Franz Fischler</td>\n",
       "      <td>None</td>\n",
       "      <td>NaN</td>\n",
       "      <td>7152417</td>\n",
       "      <td>None</td>\n",
       "    </tr>\n",
       "    <tr>\n",
       "      <th>20</th>\n",
       "      <td>Loyola de Palacio</td>\n",
       "      <td>None</td>\n",
       "      <td>NaN</td>\n",
       "      <td>7152417</td>\n",
       "      <td>None</td>\n",
       "    </tr>\n",
       "    <tr>\n",
       "      <th>21</th>\n",
       "      <td>Loyola de Palacio</td>\n",
       "      <td>None</td>\n",
       "      <td>NaN</td>\n",
       "      <td>7152417</td>\n",
       "      <td>None</td>\n",
       "    </tr>\n",
       "  </tbody>\n",
       "</table>\n",
       "</div>"
      ],
      "text/plain": [
       "                mention match  similarity_score entity_page_id  \\\n",
       "3   European Commission  None               NaN        7152417   \n",
       "4   European Commission  None               NaN        7152417   \n",
       "8        European Union  None               NaN        7152417   \n",
       "9        European Union  None               NaN        7152417   \n",
       "12       European Union  None               NaN        7152417   \n",
       "13       European Union  None               NaN        7152417   \n",
       "14       Franz Fischler  None               NaN        7152417   \n",
       "15       Franz Fischler  None               NaN        7152417   \n",
       "20    Loyola de Palacio  None               NaN        7152417   \n",
       "21    Loyola de Palacio  None               NaN        7152417   \n",
       "\n",
       "   target_page_title  \n",
       "3               None  \n",
       "4               None  \n",
       "8               None  \n",
       "9               None  \n",
       "12              None  \n",
       "13              None  \n",
       "14              None  \n",
       "15              None  \n",
       "20              None  \n",
       "21              None  "
      ]
     },
     "execution_count": 154,
     "metadata": {},
     "output_type": "execute_result"
    }
   ],
   "source": [
    "# Display filtered dataframe\n",
    "preds_wiki2vec[preds_wiki2vec['mention'].str.split(\" \").apply(len) >= 2].head(10)"
   ]
  },
  {
   "cell_type": "code",
   "execution_count": 157,
   "metadata": {},
   "outputs": [
    {
     "name": "stderr",
     "output_type": "stream",
     "text": [
      "100%|██████████| 100/100 [00:00<00:00, 2880.62it/s]\n"
     ]
    }
   ],
   "source": [
    "# For all non-matched items, try to retrieve the entity directly\n",
    "for i in tqdm(range(len(preds_wiki2vec))):\n",
    "    if preds_wiki2vec.iloc[i]['match'] == None:\n",
    "        entity = wiki2vec.get_entity(preds_wiki2vec.iloc[i]['mention'])\n",
    "        if entity is not None:\n",
    "            preds_wiki2vec.iloc[i, 1:3] = entity.title, 1.0"
   ]
  },
  {
   "cell_type": "code",
   "execution_count": 159,
   "metadata": {},
   "outputs": [
    {
     "data": {
      "text/html": [
       "<div>\n",
       "<style scoped>\n",
       "    .dataframe tbody tr th:only-of-type {\n",
       "        vertical-align: middle;\n",
       "    }\n",
       "\n",
       "    .dataframe tbody tr th {\n",
       "        vertical-align: top;\n",
       "    }\n",
       "\n",
       "    .dataframe thead th {\n",
       "        text-align: right;\n",
       "    }\n",
       "</style>\n",
       "<table border=\"1\" class=\"dataframe\">\n",
       "  <thead>\n",
       "    <tr style=\"text-align: right;\">\n",
       "      <th></th>\n",
       "      <th>mention</th>\n",
       "      <th>match</th>\n",
       "      <th>similarity_score</th>\n",
       "      <th>entity_page_id</th>\n",
       "      <th>target_page_title</th>\n",
       "    </tr>\n",
       "  </thead>\n",
       "  <tbody>\n",
       "    <tr>\n",
       "      <th>0</th>\n",
       "      <td>German</td>\n",
       "      <td>Culture of Germany</td>\n",
       "      <td>0.686803</td>\n",
       "      <td>1195868</td>\n",
       "      <td>Culture_of_Germany</td>\n",
       "    </tr>\n",
       "    <tr>\n",
       "      <th>1</th>\n",
       "      <td>British</td>\n",
       "      <td>Russians in the United Kingdom</td>\n",
       "      <td>0.615564</td>\n",
       "      <td>9808786</td>\n",
       "      <td>Russians_in_the_United_Kingdom</td>\n",
       "    </tr>\n",
       "    <tr>\n",
       "      <th>2</th>\n",
       "      <td>BRUSSELS</td>\n",
       "      <td>Brussels</td>\n",
       "      <td>0.887070</td>\n",
       "      <td>3708</td>\n",
       "      <td>Brussels</td>\n",
       "    </tr>\n",
       "    <tr>\n",
       "      <th>3</th>\n",
       "      <td>European Commission</td>\n",
       "      <td>European Commission</td>\n",
       "      <td>1.000000</td>\n",
       "      <td>7152417</td>\n",
       "      <td>None</td>\n",
       "    </tr>\n",
       "    <tr>\n",
       "      <th>4</th>\n",
       "      <td>European Commission</td>\n",
       "      <td>European Commission</td>\n",
       "      <td>1.000000</td>\n",
       "      <td>7152417</td>\n",
       "      <td>None</td>\n",
       "    </tr>\n",
       "    <tr>\n",
       "      <th>...</th>\n",
       "      <td>...</td>\n",
       "      <td>...</td>\n",
       "      <td>...</td>\n",
       "      <td>...</td>\n",
       "      <td>...</td>\n",
       "    </tr>\n",
       "    <tr>\n",
       "      <th>95</th>\n",
       "      <td>Opel AG</td>\n",
       "      <td>Opel</td>\n",
       "      <td>1.000000</td>\n",
       "      <td>7152417</td>\n",
       "      <td>None</td>\n",
       "    </tr>\n",
       "    <tr>\n",
       "      <th>96</th>\n",
       "      <td>Opel AG</td>\n",
       "      <td>Opel</td>\n",
       "      <td>1.000000</td>\n",
       "      <td>7152417</td>\n",
       "      <td>None</td>\n",
       "    </tr>\n",
       "    <tr>\n",
       "      <th>97</th>\n",
       "      <td>General Motors</td>\n",
       "      <td>General Motors</td>\n",
       "      <td>1.000000</td>\n",
       "      <td>7152417</td>\n",
       "      <td>None</td>\n",
       "    </tr>\n",
       "    <tr>\n",
       "      <th>98</th>\n",
       "      <td>General Motors</td>\n",
       "      <td>General Motors</td>\n",
       "      <td>1.000000</td>\n",
       "      <td>7152417</td>\n",
       "      <td>None</td>\n",
       "    </tr>\n",
       "    <tr>\n",
       "      <th>99</th>\n",
       "      <td>Ford</td>\n",
       "      <td>Ford Motor Company</td>\n",
       "      <td>1.000000</td>\n",
       "      <td>7152417</td>\n",
       "      <td>None</td>\n",
       "    </tr>\n",
       "  </tbody>\n",
       "</table>\n",
       "<p>100 rows × 5 columns</p>\n",
       "</div>"
      ],
      "text/plain": [
       "                mention                           match  similarity_score  \\\n",
       "0                German              Culture of Germany          0.686803   \n",
       "1               British  Russians in the United Kingdom          0.615564   \n",
       "2              BRUSSELS                        Brussels          0.887070   \n",
       "3   European Commission             European Commission          1.000000   \n",
       "4   European Commission             European Commission          1.000000   \n",
       "..                  ...                             ...               ...   \n",
       "95              Opel AG                            Opel          1.000000   \n",
       "96              Opel AG                            Opel          1.000000   \n",
       "97       General Motors                  General Motors          1.000000   \n",
       "98       General Motors                  General Motors          1.000000   \n",
       "99                 Ford              Ford Motor Company          1.000000   \n",
       "\n",
       "   entity_page_id               target_page_title  \n",
       "0         1195868              Culture_of_Germany  \n",
       "1         9808786  Russians_in_the_United_Kingdom  \n",
       "2            3708                        Brussels  \n",
       "3         7152417                            None  \n",
       "4         7152417                            None  \n",
       "..            ...                             ...  \n",
       "95        7152417                            None  \n",
       "96        7152417                            None  \n",
       "97        7152417                            None  \n",
       "98        7152417                            None  \n",
       "99        7152417                            None  \n",
       "\n",
       "[100 rows x 5 columns]"
      ]
     },
     "metadata": {},
     "output_type": "display_data"
    }
   ],
   "source": [
    "display(preds_wiki2vec)"
   ]
  },
  {
   "cell_type": "code",
   "execution_count": 160,
   "metadata": {},
   "outputs": [
    {
     "name": "stderr",
     "output_type": "stream",
     "text": [
      "100%|██████████| 100/100 [00:39<00:00,  2.54it/s]\n"
     ]
    }
   ],
   "source": [
    "# Update with entity_page_id, target_page_title after updating match to have _ instead of \" \" todo \n",
    "for i in tqdm(range(len(preds_wiki2vec))):\n",
    "    try:\n",
    "        preds_wiki2vec.iloc[i, 3:5] = article_df[article_df['page_title'] == add_lines(preds_wiki2vec.iloc[i,1])][['page_id', 'page_title']].values[0]\n",
    "    except:\n",
    "        # Leave at default None values\n",
    "        continue"
   ]
  },
  {
   "cell_type": "code",
   "execution_count": 161,
   "metadata": {},
   "outputs": [
    {
     "data": {
      "text/html": [
       "<div>\n",
       "<style scoped>\n",
       "    .dataframe tbody tr th:only-of-type {\n",
       "        vertical-align: middle;\n",
       "    }\n",
       "\n",
       "    .dataframe tbody tr th {\n",
       "        vertical-align: top;\n",
       "    }\n",
       "\n",
       "    .dataframe thead th {\n",
       "        text-align: right;\n",
       "    }\n",
       "</style>\n",
       "<table border=\"1\" class=\"dataframe\">\n",
       "  <thead>\n",
       "    <tr style=\"text-align: right;\">\n",
       "      <th></th>\n",
       "      <th>mention</th>\n",
       "      <th>match</th>\n",
       "      <th>similarity_score</th>\n",
       "      <th>entity_page_id</th>\n",
       "      <th>target_page_title</th>\n",
       "    </tr>\n",
       "  </thead>\n",
       "  <tbody>\n",
       "    <tr>\n",
       "      <th>0</th>\n",
       "      <td>German</td>\n",
       "      <td>Culture of Germany</td>\n",
       "      <td>0.686803</td>\n",
       "      <td>1195868</td>\n",
       "      <td>Culture_of_Germany</td>\n",
       "    </tr>\n",
       "    <tr>\n",
       "      <th>1</th>\n",
       "      <td>British</td>\n",
       "      <td>Russians in the United Kingdom</td>\n",
       "      <td>0.615564</td>\n",
       "      <td>9808786</td>\n",
       "      <td>Russians_in_the_United_Kingdom</td>\n",
       "    </tr>\n",
       "    <tr>\n",
       "      <th>2</th>\n",
       "      <td>BRUSSELS</td>\n",
       "      <td>Brussels</td>\n",
       "      <td>0.887070</td>\n",
       "      <td>3708</td>\n",
       "      <td>Brussels</td>\n",
       "    </tr>\n",
       "    <tr>\n",
       "      <th>3</th>\n",
       "      <td>European Commission</td>\n",
       "      <td>European Commission</td>\n",
       "      <td>1.000000</td>\n",
       "      <td>9974</td>\n",
       "      <td>European_Commission</td>\n",
       "    </tr>\n",
       "    <tr>\n",
       "      <th>4</th>\n",
       "      <td>European Commission</td>\n",
       "      <td>European Commission</td>\n",
       "      <td>1.000000</td>\n",
       "      <td>9974</td>\n",
       "      <td>European_Commission</td>\n",
       "    </tr>\n",
       "    <tr>\n",
       "      <th>...</th>\n",
       "      <td>...</td>\n",
       "      <td>...</td>\n",
       "      <td>...</td>\n",
       "      <td>...</td>\n",
       "      <td>...</td>\n",
       "    </tr>\n",
       "    <tr>\n",
       "      <th>95</th>\n",
       "      <td>Opel AG</td>\n",
       "      <td>Opel</td>\n",
       "      <td>1.000000</td>\n",
       "      <td>22284</td>\n",
       "      <td>Opel</td>\n",
       "    </tr>\n",
       "    <tr>\n",
       "      <th>96</th>\n",
       "      <td>Opel AG</td>\n",
       "      <td>Opel</td>\n",
       "      <td>1.000000</td>\n",
       "      <td>22284</td>\n",
       "      <td>Opel</td>\n",
       "    </tr>\n",
       "    <tr>\n",
       "      <th>97</th>\n",
       "      <td>General Motors</td>\n",
       "      <td>General Motors</td>\n",
       "      <td>1.000000</td>\n",
       "      <td>12102</td>\n",
       "      <td>General_Motors</td>\n",
       "    </tr>\n",
       "    <tr>\n",
       "      <th>98</th>\n",
       "      <td>General Motors</td>\n",
       "      <td>General Motors</td>\n",
       "      <td>1.000000</td>\n",
       "      <td>12102</td>\n",
       "      <td>General_Motors</td>\n",
       "    </tr>\n",
       "    <tr>\n",
       "      <th>99</th>\n",
       "      <td>Ford</td>\n",
       "      <td>Ford Motor Company</td>\n",
       "      <td>1.000000</td>\n",
       "      <td>30433662</td>\n",
       "      <td>Ford_Motor_Company</td>\n",
       "    </tr>\n",
       "  </tbody>\n",
       "</table>\n",
       "<p>100 rows × 5 columns</p>\n",
       "</div>"
      ],
      "text/plain": [
       "                mention                           match  similarity_score  \\\n",
       "0                German              Culture of Germany          0.686803   \n",
       "1               British  Russians in the United Kingdom          0.615564   \n",
       "2              BRUSSELS                        Brussels          0.887070   \n",
       "3   European Commission             European Commission          1.000000   \n",
       "4   European Commission             European Commission          1.000000   \n",
       "..                  ...                             ...               ...   \n",
       "95              Opel AG                            Opel          1.000000   \n",
       "96              Opel AG                            Opel          1.000000   \n",
       "97       General Motors                  General Motors          1.000000   \n",
       "98       General Motors                  General Motors          1.000000   \n",
       "99                 Ford              Ford Motor Company          1.000000   \n",
       "\n",
       "   entity_page_id               target_page_title  \n",
       "0         1195868              Culture_of_Germany  \n",
       "1         9808786  Russians_in_the_United_Kingdom  \n",
       "2            3708                        Brussels  \n",
       "3            9974             European_Commission  \n",
       "4            9974             European_Commission  \n",
       "..            ...                             ...  \n",
       "95          22284                            Opel  \n",
       "96          22284                            Opel  \n",
       "97          12102                  General_Motors  \n",
       "98          12102                  General_Motors  \n",
       "99       30433662              Ford_Motor_Company  \n",
       "\n",
       "[100 rows x 5 columns]"
      ]
     },
     "metadata": {},
     "output_type": "display_data"
    }
   ],
   "source": [
    "display(preds_wiki2vec)"
   ]
  },
  {
   "cell_type": "code",
   "execution_count": 162,
   "metadata": {},
   "outputs": [
    {
     "name": "stdout",
     "output_type": "stream",
     "text": [
      "-- Accuracy on entire ACY dataset using KWNLP --\n",
      "Wikipedia2vec most_similar(): 65.0%\n"
     ]
    }
   ],
   "source": [
    "# Accuracy matching full mention with anchor text\n",
    "print('-- Accuracy on entire ACY dataset using KWNLP --')\n",
    "print('Wikipedia2vec most_similar(): {}%'.format(np.round(100*np.mean(preds_wiki2vec.entity_page_id == y_np[:size]), 2)))\n",
    "# print('Page Views: {}%'.format(np.round(100*np.mean(preds_page.entity_page_id == y_np), 2)))"
   ]
  },
  {
   "cell_type": "code",
   "execution_count": 165,
   "metadata": {},
   "outputs": [
    {
     "data": {
      "text/html": [
       "<div>\n",
       "<style scoped>\n",
       "    .dataframe tbody tr th:only-of-type {\n",
       "        vertical-align: middle;\n",
       "    }\n",
       "\n",
       "    .dataframe tbody tr th {\n",
       "        vertical-align: top;\n",
       "    }\n",
       "\n",
       "    .dataframe thead th {\n",
       "        text-align: right;\n",
       "    }\n",
       "</style>\n",
       "<table border=\"1\" class=\"dataframe\">\n",
       "  <thead>\n",
       "    <tr style=\"text-align: right;\">\n",
       "      <th></th>\n",
       "      <th>mention</th>\n",
       "      <th>match</th>\n",
       "      <th>similarity_score</th>\n",
       "      <th>entity_page_id</th>\n",
       "      <th>target_page_title</th>\n",
       "    </tr>\n",
       "  </thead>\n",
       "  <tbody>\n",
       "    <tr>\n",
       "      <th>10</th>\n",
       "      <td>Britain</td>\n",
       "      <td>Synchronized swimming at the 2012 Summer Olymp...</td>\n",
       "      <td>0.705516</td>\n",
       "      <td>None</td>\n",
       "      <td>None</td>\n",
       "    </tr>\n",
       "    <tr>\n",
       "      <th>11</th>\n",
       "      <td>Commission</td>\n",
       "      <td>None</td>\n",
       "      <td>NaN</td>\n",
       "      <td>7152417</td>\n",
       "      <td>None</td>\n",
       "    </tr>\n",
       "    <tr>\n",
       "      <th>12</th>\n",
       "      <td>European Union</td>\n",
       "      <td>European Union</td>\n",
       "      <td>1.000000</td>\n",
       "      <td>9317</td>\n",
       "      <td>European_Union</td>\n",
       "    </tr>\n",
       "    <tr>\n",
       "      <th>13</th>\n",
       "      <td>European Union</td>\n",
       "      <td>European Union</td>\n",
       "      <td>1.000000</td>\n",
       "      <td>9317</td>\n",
       "      <td>European_Union</td>\n",
       "    </tr>\n",
       "    <tr>\n",
       "      <th>14</th>\n",
       "      <td>Franz Fischler</td>\n",
       "      <td>Franz Fischler</td>\n",
       "      <td>1.000000</td>\n",
       "      <td>626779</td>\n",
       "      <td>Franz_Fischler</td>\n",
       "    </tr>\n",
       "    <tr>\n",
       "      <th>15</th>\n",
       "      <td>Franz Fischler</td>\n",
       "      <td>Franz Fischler</td>\n",
       "      <td>1.000000</td>\n",
       "      <td>626779</td>\n",
       "      <td>Franz_Fischler</td>\n",
       "    </tr>\n",
       "    <tr>\n",
       "      <th>16</th>\n",
       "      <td>Britain</td>\n",
       "      <td>Synchronized swimming at the 2012 Summer Olymp...</td>\n",
       "      <td>0.705516</td>\n",
       "      <td>None</td>\n",
       "      <td>None</td>\n",
       "    </tr>\n",
       "    <tr>\n",
       "      <th>17</th>\n",
       "      <td>France</td>\n",
       "      <td>Sailing at the 1900 Summer Olympics – 10 to 20...</td>\n",
       "      <td>0.738717</td>\n",
       "      <td>None</td>\n",
       "      <td>None</td>\n",
       "    </tr>\n",
       "    <tr>\n",
       "      <th>18</th>\n",
       "      <td>BSE</td>\n",
       "      <td>Metropolitan Stock Exchange</td>\n",
       "      <td>0.661101</td>\n",
       "      <td>55179731</td>\n",
       "      <td>Metropolitan_Stock_Exchange</td>\n",
       "    </tr>\n",
       "    <tr>\n",
       "      <th>19</th>\n",
       "      <td>Spanish</td>\n",
       "      <td>Hispanic America</td>\n",
       "      <td>0.726539</td>\n",
       "      <td>452104</td>\n",
       "      <td>Hispanic_America</td>\n",
       "    </tr>\n",
       "  </tbody>\n",
       "</table>\n",
       "</div>"
      ],
      "text/plain": [
       "           mention                                              match  \\\n",
       "10         Britain  Synchronized swimming at the 2012 Summer Olymp...   \n",
       "11      Commission                                               None   \n",
       "12  European Union                                     European Union   \n",
       "13  European Union                                     European Union   \n",
       "14  Franz Fischler                                     Franz Fischler   \n",
       "15  Franz Fischler                                     Franz Fischler   \n",
       "16         Britain  Synchronized swimming at the 2012 Summer Olymp...   \n",
       "17          France  Sailing at the 1900 Summer Olympics – 10 to 20...   \n",
       "18             BSE                        Metropolitan Stock Exchange   \n",
       "19         Spanish                                   Hispanic America   \n",
       "\n",
       "    similarity_score entity_page_id            target_page_title  \n",
       "10          0.705516           None                         None  \n",
       "11               NaN        7152417                         None  \n",
       "12          1.000000           9317               European_Union  \n",
       "13          1.000000           9317               European_Union  \n",
       "14          1.000000         626779               Franz_Fischler  \n",
       "15          1.000000         626779               Franz_Fischler  \n",
       "16          0.705516           None                         None  \n",
       "17          0.738717           None                         None  \n",
       "18          0.661101       55179731  Metropolitan_Stock_Exchange  \n",
       "19          0.726539         452104             Hispanic_America  "
      ]
     },
     "metadata": {},
     "output_type": "display_data"
    }
   ],
   "source": [
    "display(preds_wiki2vec[10:20])"
   ]
  },
  {
   "cell_type": "markdown",
   "metadata": {},
   "source": [
    "#### Interestingly, we see some mentions that might actually be more successful if we swapped our ordering. Let's use get_entity() first and then fill it out with most_similar."
   ]
  },
  {
   "cell_type": "code",
   "execution_count": 222,
   "metadata": {},
   "outputs": [
    {
     "data": {
      "text/html": [
       "<div>\n",
       "<style scoped>\n",
       "    .dataframe tbody tr th:only-of-type {\n",
       "        vertical-align: middle;\n",
       "    }\n",
       "\n",
       "    .dataframe tbody tr th {\n",
       "        vertical-align: top;\n",
       "    }\n",
       "\n",
       "    .dataframe thead th {\n",
       "        text-align: right;\n",
       "    }\n",
       "</style>\n",
       "<table border=\"1\" class=\"dataframe\">\n",
       "  <thead>\n",
       "    <tr style=\"text-align: right;\">\n",
       "      <th></th>\n",
       "      <th>mention</th>\n",
       "      <th>match</th>\n",
       "      <th>similarity_score</th>\n",
       "      <th>entity_page_id</th>\n",
       "      <th>target_page_title</th>\n",
       "    </tr>\n",
       "  </thead>\n",
       "  <tbody>\n",
       "    <tr>\n",
       "      <th>0</th>\n",
       "      <td>German</td>\n",
       "      <td>None</td>\n",
       "      <td>None</td>\n",
       "      <td>None</td>\n",
       "      <td>None</td>\n",
       "    </tr>\n",
       "    <tr>\n",
       "      <th>1</th>\n",
       "      <td>British</td>\n",
       "      <td>None</td>\n",
       "      <td>None</td>\n",
       "      <td>None</td>\n",
       "      <td>None</td>\n",
       "    </tr>\n",
       "    <tr>\n",
       "      <th>2</th>\n",
       "      <td>BRUSSELS</td>\n",
       "      <td>None</td>\n",
       "      <td>None</td>\n",
       "      <td>None</td>\n",
       "      <td>None</td>\n",
       "    </tr>\n",
       "    <tr>\n",
       "      <th>3</th>\n",
       "      <td>European Commission</td>\n",
       "      <td>None</td>\n",
       "      <td>None</td>\n",
       "      <td>None</td>\n",
       "      <td>None</td>\n",
       "    </tr>\n",
       "    <tr>\n",
       "      <th>4</th>\n",
       "      <td>European Commission</td>\n",
       "      <td>None</td>\n",
       "      <td>None</td>\n",
       "      <td>None</td>\n",
       "      <td>None</td>\n",
       "    </tr>\n",
       "    <tr>\n",
       "      <th>...</th>\n",
       "      <td>...</td>\n",
       "      <td>...</td>\n",
       "      <td>...</td>\n",
       "      <td>...</td>\n",
       "      <td>...</td>\n",
       "    </tr>\n",
       "    <tr>\n",
       "      <th>1775</th>\n",
       "      <td>TEXAS</td>\n",
       "      <td>None</td>\n",
       "      <td>None</td>\n",
       "      <td>None</td>\n",
       "      <td>None</td>\n",
       "    </tr>\n",
       "    <tr>\n",
       "      <th>1776</th>\n",
       "      <td>INDIANS</td>\n",
       "      <td>None</td>\n",
       "      <td>None</td>\n",
       "      <td>None</td>\n",
       "      <td>None</td>\n",
       "    </tr>\n",
       "    <tr>\n",
       "      <th>1777</th>\n",
       "      <td>CLEVELAND</td>\n",
       "      <td>None</td>\n",
       "      <td>None</td>\n",
       "      <td>None</td>\n",
       "      <td>None</td>\n",
       "    </tr>\n",
       "    <tr>\n",
       "      <th>1778</th>\n",
       "      <td>Rusty Greer</td>\n",
       "      <td>None</td>\n",
       "      <td>None</td>\n",
       "      <td>None</td>\n",
       "      <td>None</td>\n",
       "    </tr>\n",
       "    <tr>\n",
       "      <th>1779</th>\n",
       "      <td>Rusty Greer</td>\n",
       "      <td>None</td>\n",
       "      <td>None</td>\n",
       "      <td>None</td>\n",
       "      <td>None</td>\n",
       "    </tr>\n",
       "  </tbody>\n",
       "</table>\n",
       "<p>1780 rows × 5 columns</p>\n",
       "</div>"
      ],
      "text/plain": [
       "                  mention match similarity_score entity_page_id  \\\n",
       "0                  German  None             None           None   \n",
       "1                 British  None             None           None   \n",
       "2                BRUSSELS  None             None           None   \n",
       "3     European Commission  None             None           None   \n",
       "4     European Commission  None             None           None   \n",
       "...                   ...   ...              ...            ...   \n",
       "1775                TEXAS  None             None           None   \n",
       "1776              INDIANS  None             None           None   \n",
       "1777            CLEVELAND  None             None           None   \n",
       "1778          Rusty Greer  None             None           None   \n",
       "1779          Rusty Greer  None             None           None   \n",
       "\n",
       "     target_page_title  \n",
       "0                 None  \n",
       "1                 None  \n",
       "2                 None  \n",
       "3                 None  \n",
       "4                 None  \n",
       "...                ...  \n",
       "1775              None  \n",
       "1776              None  \n",
       "1777              None  \n",
       "1778              None  \n",
       "1779              None  \n",
       "\n",
       "[1780 rows x 5 columns]"
      ]
     },
     "metadata": {},
     "output_type": "display_data"
    }
   ],
   "source": [
    "# Display full mention and most similar\n",
    "preds_wiki2vec = pd.DataFrame({\n",
    "    'mention': x_np[:size],\n",
    "    'match': None,\n",
    "    'similarity_score': None,\n",
    "    'entity_page_id': None,\n",
    "    'target_page_title': None\n",
    "})\n",
    "display(preds_wiki2vec)"
   ]
  },
  {
   "cell_type": "code",
   "execution_count": 223,
   "metadata": {},
   "outputs": [
    {
     "name": "stderr",
     "output_type": "stream",
     "text": [
      "100%|██████████| 1780/1780 [00:00<00:00, 1810.53it/s]\n"
     ]
    }
   ],
   "source": [
    "# For all non-matched items, try to retrieve the entity directly\n",
    "for i in tqdm(range(len(preds_wiki2vec))):\n",
    "    if preds_wiki2vec.iloc[i]['match'] == None:\n",
    "        entity = wiki2vec.get_entity(preds_wiki2vec.iloc[i]['mention'])\n",
    "        if entity is not None:\n",
    "            preds_wiki2vec.iloc[i, 1:3] = entity.title, 1.0"
   ]
  },
  {
   "cell_type": "code",
   "execution_count": 224,
   "metadata": {},
   "outputs": [
    {
     "name": "stderr",
     "output_type": "stream",
     "text": [
      "100%|██████████| 1780/1780 [08:51<00:00,  3.35it/s]\n"
     ]
    }
   ],
   "source": [
    "# Update with entity_page_id, target_page_title after updating match to have _ instead of \" \" todo \n",
    "for i in tqdm(range(len(preds_wiki2vec))):\n",
    "    try:\n",
    "        preds_wiki2vec.iloc[i, 3:5] = article_df[article_df['page_title'] == add_lines(preds_wiki2vec.iloc[i,1])][['page_id', 'page_title']].values[0]\n",
    "    except:\n",
    "        # Leave at default None values\n",
    "        continue"
   ]
  },
  {
   "cell_type": "code",
   "execution_count": 225,
   "metadata": {},
   "outputs": [
    {
     "name": "stdout",
     "output_type": "stream",
     "text": [
      "-- Accuracy on entire ACY dataset using KWNLP --\n",
      "Wikipedia2vec most_similar(): 63.48%\n"
     ]
    }
   ],
   "source": [
    "# Accuracy matching full mention with anchor text\n",
    "print('-- Accuracy on entire ACY dataset using KWNLP --')\n",
    "print('Wikipedia2vec most_similar(): {}%'.format(np.round(100*np.mean(preds_wiki2vec.entity_page_id == y_np[:size]), 2)))\n",
    "# print('Page Views: {}%'.format(np.round(100*np.mean(preds_page.entity_page_id == y_np), 2)))"
   ]
  },
  {
   "cell_type": "code",
   "execution_count": 226,
   "metadata": {},
   "outputs": [
    {
     "data": {
      "text/html": [
       "<div>\n",
       "<style scoped>\n",
       "    .dataframe tbody tr th:only-of-type {\n",
       "        vertical-align: middle;\n",
       "    }\n",
       "\n",
       "    .dataframe tbody tr th {\n",
       "        vertical-align: top;\n",
       "    }\n",
       "\n",
       "    .dataframe thead th {\n",
       "        text-align: right;\n",
       "    }\n",
       "</style>\n",
       "<table border=\"1\" class=\"dataframe\">\n",
       "  <thead>\n",
       "    <tr style=\"text-align: right;\">\n",
       "      <th></th>\n",
       "      <th>mention</th>\n",
       "      <th>match</th>\n",
       "      <th>similarity_score</th>\n",
       "      <th>entity_page_id</th>\n",
       "      <th>target_page_title</th>\n",
       "    </tr>\n",
       "  </thead>\n",
       "  <tbody>\n",
       "    <tr>\n",
       "      <th>0</th>\n",
       "      <td>German</td>\n",
       "      <td>None</td>\n",
       "      <td>None</td>\n",
       "      <td>7152417</td>\n",
       "      <td>None</td>\n",
       "    </tr>\n",
       "    <tr>\n",
       "      <th>1</th>\n",
       "      <td>British</td>\n",
       "      <td>None</td>\n",
       "      <td>None</td>\n",
       "      <td>7152417</td>\n",
       "      <td>None</td>\n",
       "    </tr>\n",
       "    <tr>\n",
       "      <th>2</th>\n",
       "      <td>BRUSSELS</td>\n",
       "      <td>None</td>\n",
       "      <td>None</td>\n",
       "      <td>7152417</td>\n",
       "      <td>None</td>\n",
       "    </tr>\n",
       "    <tr>\n",
       "      <th>3</th>\n",
       "      <td>European Commission</td>\n",
       "      <td>European Commission</td>\n",
       "      <td>1</td>\n",
       "      <td>9974</td>\n",
       "      <td>European_Commission</td>\n",
       "    </tr>\n",
       "    <tr>\n",
       "      <th>4</th>\n",
       "      <td>European Commission</td>\n",
       "      <td>European Commission</td>\n",
       "      <td>1</td>\n",
       "      <td>9974</td>\n",
       "      <td>European_Commission</td>\n",
       "    </tr>\n",
       "    <tr>\n",
       "      <th>...</th>\n",
       "      <td>...</td>\n",
       "      <td>...</td>\n",
       "      <td>...</td>\n",
       "      <td>...</td>\n",
       "      <td>...</td>\n",
       "    </tr>\n",
       "    <tr>\n",
       "      <th>1775</th>\n",
       "      <td>TEXAS</td>\n",
       "      <td>None</td>\n",
       "      <td>None</td>\n",
       "      <td>7152417</td>\n",
       "      <td>None</td>\n",
       "    </tr>\n",
       "    <tr>\n",
       "      <th>1776</th>\n",
       "      <td>INDIANS</td>\n",
       "      <td>None</td>\n",
       "      <td>None</td>\n",
       "      <td>7152417</td>\n",
       "      <td>None</td>\n",
       "    </tr>\n",
       "    <tr>\n",
       "      <th>1777</th>\n",
       "      <td>CLEVELAND</td>\n",
       "      <td>None</td>\n",
       "      <td>None</td>\n",
       "      <td>7152417</td>\n",
       "      <td>None</td>\n",
       "    </tr>\n",
       "    <tr>\n",
       "      <th>1778</th>\n",
       "      <td>Rusty Greer</td>\n",
       "      <td>Rusty Greer</td>\n",
       "      <td>1</td>\n",
       "      <td>2070208</td>\n",
       "      <td>Rusty_Greer</td>\n",
       "    </tr>\n",
       "    <tr>\n",
       "      <th>1779</th>\n",
       "      <td>Rusty Greer</td>\n",
       "      <td>Rusty Greer</td>\n",
       "      <td>1</td>\n",
       "      <td>2070208</td>\n",
       "      <td>Rusty_Greer</td>\n",
       "    </tr>\n",
       "  </tbody>\n",
       "</table>\n",
       "<p>1780 rows × 5 columns</p>\n",
       "</div>"
      ],
      "text/plain": [
       "                  mention                match similarity_score  \\\n",
       "0                  German                 None             None   \n",
       "1                 British                 None             None   \n",
       "2                BRUSSELS                 None             None   \n",
       "3     European Commission  European Commission                1   \n",
       "4     European Commission  European Commission                1   \n",
       "...                   ...                  ...              ...   \n",
       "1775                TEXAS                 None             None   \n",
       "1776              INDIANS                 None             None   \n",
       "1777            CLEVELAND                 None             None   \n",
       "1778          Rusty Greer          Rusty Greer                1   \n",
       "1779          Rusty Greer          Rusty Greer                1   \n",
       "\n",
       "     entity_page_id    target_page_title  \n",
       "0           7152417                 None  \n",
       "1           7152417                 None  \n",
       "2           7152417                 None  \n",
       "3              9974  European_Commission  \n",
       "4              9974  European_Commission  \n",
       "...             ...                  ...  \n",
       "1775        7152417                 None  \n",
       "1776        7152417                 None  \n",
       "1777        7152417                 None  \n",
       "1778        2070208          Rusty_Greer  \n",
       "1779        2070208          Rusty_Greer  \n",
       "\n",
       "[1780 rows x 5 columns]"
      ]
     },
     "metadata": {},
     "output_type": "display_data"
    }
   ],
   "source": [
    "display(preds_wiki2vec)"
   ]
  },
  {
   "cell_type": "markdown",
   "metadata": {},
   "source": [
    "#### And now we fill out with most_similar()"
   ]
  },
  {
   "cell_type": "code",
   "execution_count": 227,
   "metadata": {
    "scrolled": true
   },
   "outputs": [
    {
     "name": "stderr",
     "output_type": "stream",
     "text": [
      "100%|██████████| 1780/1780 [23:23<00:00,  1.27it/s] "
     ]
    },
    {
     "name": "stdout",
     "output_type": "stream",
     "text": [
      "CPU times: user 21min 48s, sys: 7min 54s, total: 29min 42s\n",
      "Wall time: 23min 23s\n"
     ]
    },
    {
     "name": "stderr",
     "output_type": "stream",
     "text": [
      "\n"
     ]
    }
   ],
   "source": [
    "%%time\n",
    "\n",
    "most_similar_entities = []\n",
    "\n",
    "for i in tqdm(range(len(preds_wiki2vec))):\n",
    "#     print(preds_wiki2vec.iloc[i]['match'])\n",
    "    if preds_wiki2vec.iloc[i]['match'] == None:\n",
    "    \n",
    "#         # Retrieve w2v word from mention\n",
    "#         print(\"word\", preds_wiki2vec.iloc[i]['mention'].lower())\n",
    "        word = wiki2vec.get_word(preds_wiki2vec.iloc[i]['mention'].lower())\n",
    "#         print(\"Word:\", word)\n",
    "\n",
    "        # Retrieve 50 most similar to ensure at least one entity returned\n",
    "        similars = wiki2vec.most_similar(word, 50)\n",
    "#         print(similars)\n",
    "\n",
    "        # Retrieve most similar entity\n",
    "        most_similar = None\n",
    "        for s in similars:\n",
    "#             print(s)\n",
    "            if isinstance(s[0], Entity):\n",
    "                most_similar = s\n",
    "            if most_similar is not None:\n",
    "                break\n",
    "#         print(most_similar)\n",
    "        \n",
    "        # Save most similar into predictions dataframe\n",
    "        try:\n",
    "            preds_wiki2vec.iloc[i, 1:3] = most_similar[0].title, most_similar[1]\n",
    "        except TypeError:\n",
    "            continue"
   ]
  },
  {
   "cell_type": "code",
   "execution_count": 228,
   "metadata": {},
   "outputs": [
    {
     "data": {
      "text/html": [
       "<div>\n",
       "<style scoped>\n",
       "    .dataframe tbody tr th:only-of-type {\n",
       "        vertical-align: middle;\n",
       "    }\n",
       "\n",
       "    .dataframe tbody tr th {\n",
       "        vertical-align: top;\n",
       "    }\n",
       "\n",
       "    .dataframe thead th {\n",
       "        text-align: right;\n",
       "    }\n",
       "</style>\n",
       "<table border=\"1\" class=\"dataframe\">\n",
       "  <thead>\n",
       "    <tr style=\"text-align: right;\">\n",
       "      <th></th>\n",
       "      <th>mention</th>\n",
       "      <th>match</th>\n",
       "      <th>similarity_score</th>\n",
       "      <th>entity_page_id</th>\n",
       "      <th>target_page_title</th>\n",
       "    </tr>\n",
       "  </thead>\n",
       "  <tbody>\n",
       "    <tr>\n",
       "      <th>0</th>\n",
       "      <td>German</td>\n",
       "      <td>Culture of Germany</td>\n",
       "      <td>0.686803</td>\n",
       "      <td>7152417</td>\n",
       "      <td>None</td>\n",
       "    </tr>\n",
       "    <tr>\n",
       "      <th>1</th>\n",
       "      <td>British</td>\n",
       "      <td>Russians in the United Kingdom</td>\n",
       "      <td>0.615564</td>\n",
       "      <td>7152417</td>\n",
       "      <td>None</td>\n",
       "    </tr>\n",
       "    <tr>\n",
       "      <th>2</th>\n",
       "      <td>BRUSSELS</td>\n",
       "      <td>Brussels</td>\n",
       "      <td>0.88707</td>\n",
       "      <td>7152417</td>\n",
       "      <td>None</td>\n",
       "    </tr>\n",
       "    <tr>\n",
       "      <th>3</th>\n",
       "      <td>European Commission</td>\n",
       "      <td>European Commission</td>\n",
       "      <td>1</td>\n",
       "      <td>9974</td>\n",
       "      <td>European_Commission</td>\n",
       "    </tr>\n",
       "    <tr>\n",
       "      <th>4</th>\n",
       "      <td>European Commission</td>\n",
       "      <td>European Commission</td>\n",
       "      <td>1</td>\n",
       "      <td>9974</td>\n",
       "      <td>European_Commission</td>\n",
       "    </tr>\n",
       "    <tr>\n",
       "      <th>...</th>\n",
       "      <td>...</td>\n",
       "      <td>...</td>\n",
       "      <td>...</td>\n",
       "      <td>...</td>\n",
       "      <td>...</td>\n",
       "    </tr>\n",
       "    <tr>\n",
       "      <th>1775</th>\n",
       "      <td>TEXAS</td>\n",
       "      <td>Texas</td>\n",
       "      <td>0.855106</td>\n",
       "      <td>7152417</td>\n",
       "      <td>None</td>\n",
       "    </tr>\n",
       "    <tr>\n",
       "      <th>1776</th>\n",
       "      <td>INDIANS</td>\n",
       "      <td>None</td>\n",
       "      <td>None</td>\n",
       "      <td>7152417</td>\n",
       "      <td>None</td>\n",
       "    </tr>\n",
       "    <tr>\n",
       "      <th>1777</th>\n",
       "      <td>CLEVELAND</td>\n",
       "      <td>Cleveland</td>\n",
       "      <td>0.780858</td>\n",
       "      <td>7152417</td>\n",
       "      <td>None</td>\n",
       "    </tr>\n",
       "    <tr>\n",
       "      <th>1778</th>\n",
       "      <td>Rusty Greer</td>\n",
       "      <td>Rusty Greer</td>\n",
       "      <td>1</td>\n",
       "      <td>2070208</td>\n",
       "      <td>Rusty_Greer</td>\n",
       "    </tr>\n",
       "    <tr>\n",
       "      <th>1779</th>\n",
       "      <td>Rusty Greer</td>\n",
       "      <td>Rusty Greer</td>\n",
       "      <td>1</td>\n",
       "      <td>2070208</td>\n",
       "      <td>Rusty_Greer</td>\n",
       "    </tr>\n",
       "  </tbody>\n",
       "</table>\n",
       "<p>1780 rows × 5 columns</p>\n",
       "</div>"
      ],
      "text/plain": [
       "                  mention                           match similarity_score  \\\n",
       "0                  German              Culture of Germany         0.686803   \n",
       "1                 British  Russians in the United Kingdom         0.615564   \n",
       "2                BRUSSELS                        Brussels          0.88707   \n",
       "3     European Commission             European Commission                1   \n",
       "4     European Commission             European Commission                1   \n",
       "...                   ...                             ...              ...   \n",
       "1775                TEXAS                           Texas         0.855106   \n",
       "1776              INDIANS                            None             None   \n",
       "1777            CLEVELAND                       Cleveland         0.780858   \n",
       "1778          Rusty Greer                     Rusty Greer                1   \n",
       "1779          Rusty Greer                     Rusty Greer                1   \n",
       "\n",
       "     entity_page_id    target_page_title  \n",
       "0           7152417                 None  \n",
       "1           7152417                 None  \n",
       "2           7152417                 None  \n",
       "3              9974  European_Commission  \n",
       "4              9974  European_Commission  \n",
       "...             ...                  ...  \n",
       "1775        7152417                 None  \n",
       "1776        7152417                 None  \n",
       "1777        7152417                 None  \n",
       "1778        2070208          Rusty_Greer  \n",
       "1779        2070208          Rusty_Greer  \n",
       "\n",
       "[1780 rows x 5 columns]"
      ]
     },
     "metadata": {},
     "output_type": "display_data"
    }
   ],
   "source": [
    "display(preds_wiki2vec)"
   ]
  },
  {
   "cell_type": "code",
   "execution_count": 229,
   "metadata": {},
   "outputs": [
    {
     "name": "stderr",
     "output_type": "stream",
     "text": [
      "100%|██████████| 1780/1780 [09:03<00:00,  3.27it/s]\n"
     ]
    }
   ],
   "source": [
    "# Update with entity_page_id, target_page_title after updating match to have _ instead of \" \" todo \n",
    "for i in tqdm(range(len(preds_wiki2vec))):\n",
    "    try:\n",
    "        preds_wiki2vec.iloc[i, 3:5] = article_df[article_df['page_title'] == add_lines(preds_wiki2vec.iloc[i,1])][['page_id', 'page_title']].values[0]\n",
    "    except:\n",
    "        # Leave at default None values\n",
    "        continue"
   ]
  },
  {
   "cell_type": "code",
   "execution_count": 237,
   "metadata": {},
   "outputs": [
    {
     "name": "stdout",
     "output_type": "stream",
     "text": [
      "-- Accuracy on entire ACY dataset using KWNLP --\n",
      "Wikipedia2vec most_similar(): 67.08%\n"
     ]
    }
   ],
   "source": [
    "# Accuracy matching full mention with anchor text\n",
    "print('-- Accuracy on entire ACY dataset using KWNLP --')\n",
    "print('Wikipedia2vec most_similar(): {}%'.format(np.round(100*np.mean(preds_wiki2vec.entity_page_id == y_np[:size]), 2)))\n",
    "# print('Page Views: {}%'.format(np.round(100*np.mean(preds_page.entity_page_id == y_np), 2)))"
   ]
  },
  {
   "cell_type": "code",
   "execution_count": 239,
   "metadata": {},
   "outputs": [
    {
     "data": {
      "text/html": [
       "<div>\n",
       "<style scoped>\n",
       "    .dataframe tbody tr th:only-of-type {\n",
       "        vertical-align: middle;\n",
       "    }\n",
       "\n",
       "    .dataframe tbody tr th {\n",
       "        vertical-align: top;\n",
       "    }\n",
       "\n",
       "    .dataframe thead th {\n",
       "        text-align: right;\n",
       "    }\n",
       "</style>\n",
       "<table border=\"1\" class=\"dataframe\">\n",
       "  <thead>\n",
       "    <tr style=\"text-align: right;\">\n",
       "      <th></th>\n",
       "      <th>mention</th>\n",
       "      <th>match</th>\n",
       "      <th>similarity_score</th>\n",
       "      <th>entity_page_id</th>\n",
       "      <th>target_page_title</th>\n",
       "    </tr>\n",
       "  </thead>\n",
       "  <tbody>\n",
       "    <tr>\n",
       "      <th>40</th>\n",
       "      <td>Hendrix</td>\n",
       "      <td>Jimi Hendrix</td>\n",
       "      <td>1</td>\n",
       "      <td>16095</td>\n",
       "      <td>Jimi_Hendrix</td>\n",
       "    </tr>\n",
       "    <tr>\n",
       "      <th>41</th>\n",
       "      <td>London</td>\n",
       "      <td>London</td>\n",
       "      <td>1</td>\n",
       "      <td>17867</td>\n",
       "      <td>London</td>\n",
       "    </tr>\n",
       "    <tr>\n",
       "      <th>42</th>\n",
       "      <td>English</td>\n",
       "      <td>William Bullokar</td>\n",
       "      <td>0.677979</td>\n",
       "      <td>1797414</td>\n",
       "      <td>William_Bullokar</td>\n",
       "    </tr>\n",
       "    <tr>\n",
       "      <th>43</th>\n",
       "      <td>Nottingham</td>\n",
       "      <td>Nottingham</td>\n",
       "      <td>1</td>\n",
       "      <td>39470</td>\n",
       "      <td>Nottingham</td>\n",
       "    </tr>\n",
       "    <tr>\n",
       "      <th>44</th>\n",
       "      <td>Hendrix</td>\n",
       "      <td>Jimi Hendrix</td>\n",
       "      <td>1</td>\n",
       "      <td>16095</td>\n",
       "      <td>Jimi_Hendrix</td>\n",
       "    </tr>\n",
       "    <tr>\n",
       "      <th>45</th>\n",
       "      <td>Hendrix</td>\n",
       "      <td>Jimi Hendrix</td>\n",
       "      <td>1</td>\n",
       "      <td>16095</td>\n",
       "      <td>Jimi_Hendrix</td>\n",
       "    </tr>\n",
       "    <tr>\n",
       "      <th>46</th>\n",
       "      <td>Australian</td>\n",
       "      <td>Australians</td>\n",
       "      <td>1</td>\n",
       "      <td>11197621</td>\n",
       "      <td>Australians</td>\n",
       "    </tr>\n",
       "    <tr>\n",
       "      <th>47</th>\n",
       "      <td>China</td>\n",
       "      <td>China</td>\n",
       "      <td>1</td>\n",
       "      <td>5405</td>\n",
       "      <td>China</td>\n",
       "    </tr>\n",
       "    <tr>\n",
       "      <th>48</th>\n",
       "      <td>Taiwan</td>\n",
       "      <td>Taiwan</td>\n",
       "      <td>1</td>\n",
       "      <td>25734</td>\n",
       "      <td>Taiwan</td>\n",
       "    </tr>\n",
       "    <tr>\n",
       "      <th>49</th>\n",
       "      <td>BEIJING</td>\n",
       "      <td>Beijing</td>\n",
       "      <td>0.893827</td>\n",
       "      <td>18603746</td>\n",
       "      <td>Beijing</td>\n",
       "    </tr>\n",
       "  </tbody>\n",
       "</table>\n",
       "</div>"
      ],
      "text/plain": [
       "       mention             match similarity_score entity_page_id  \\\n",
       "40     Hendrix      Jimi Hendrix                1          16095   \n",
       "41      London            London                1          17867   \n",
       "42     English  William Bullokar         0.677979        1797414   \n",
       "43  Nottingham        Nottingham                1          39470   \n",
       "44     Hendrix      Jimi Hendrix                1          16095   \n",
       "45     Hendrix      Jimi Hendrix                1          16095   \n",
       "46  Australian       Australians                1       11197621   \n",
       "47       China             China                1           5405   \n",
       "48      Taiwan            Taiwan                1          25734   \n",
       "49     BEIJING           Beijing         0.893827       18603746   \n",
       "\n",
       "   target_page_title  \n",
       "40      Jimi_Hendrix  \n",
       "41            London  \n",
       "42  William_Bullokar  \n",
       "43        Nottingham  \n",
       "44      Jimi_Hendrix  \n",
       "45      Jimi_Hendrix  \n",
       "46       Australians  \n",
       "47             China  \n",
       "48            Taiwan  \n",
       "49           Beijing  "
      ]
     },
     "metadata": {},
     "output_type": "display_data"
    }
   ],
   "source": [
    "display(preds_wiki2vec[40:50])"
   ]
  },
  {
   "cell_type": "markdown",
   "metadata": {},
   "source": [
    "#### We only see a 4% improvement. Is the right result somewhere within the top couple of results?"
   ]
  },
  {
   "cell_type": "code",
   "execution_count": 213,
   "metadata": {},
   "outputs": [
    {
     "data": {
      "text/plain": [
       "[(<Entity Culture of Germany>, 0.68680257),\n",
       " (<Entity 1860 in Germany>, 0.6840672),\n",
       " (<Entity 1866 in Germany>, 0.6836185),\n",
       " (<Entity Template:Focke-Wulf aircraft>, 0.68068546),\n",
       " (<Entity 1847 in Germany>, 0.680415),\n",
       " (<Entity File:Map-GermanConfederation.svg>, 0.67916125),\n",
       " (<Entity 1858 in Germany>, 0.6769093),\n",
       " (<Entity 1856 in Germany>, 0.67657095),\n",
       " (<Entity 1865 in Germany>, 0.6758945),\n",
       " (<Entity 1857 in Germany>, 0.67497927),\n",
       " (<Entity Handrij Zejler>, 0.672897),\n",
       " (<Entity 1864 in Germany>, 0.6659955)]"
      ]
     },
     "execution_count": 213,
     "metadata": {},
     "output_type": "execute_result"
    }
   ],
   "source": [
    "word = wiki2vec.get_word('german')\n",
    "similar = wiki2vec.most_similar(word, 100)\n",
    "entities = []\n",
    "for i in similar:\n",
    "    if isinstance(i[0], Entity):\n",
    "        entities.append(i)\n",
    "entities"
   ]
  },
  {
   "cell_type": "code",
   "execution_count": 214,
   "metadata": {},
   "outputs": [
    {
     "data": {
      "text/plain": [
       "[(<Entity Russians in the United Kingdom>, 0.6155642),\n",
       " (<Entity Henry Wood (naval officer)>, 0.60587233),\n",
       " (<Entity D.N. Penfold>, 0.6025652),\n",
       " (<Entity Christopher J. Burgess>, 0.5973172),\n",
       " (<Entity Commonwealth of Nations>, 0.59682524),\n",
       " (<Entity British Empire>, 0.59353995),\n",
       " (<Entity File:Flag of The Commonwealth.svg>, 0.59272784),\n",
       " (<Entity Dial 999 (1938 film)>, 0.592148),\n",
       " (<Entity Black British>, 0.58818066),\n",
       " (<Entity Numa François Henri Sadoul>, 0.5852482)]"
      ]
     },
     "execution_count": 214,
     "metadata": {},
     "output_type": "execute_result"
    }
   ],
   "source": [
    "word = wiki2vec.get_word('british')\n",
    "similar = wiki2vec.most_similar(word, 100)\n",
    "entities = []\n",
    "for i in similar:\n",
    "    if isinstance(i[0], Entity):\n",
    "        entities.append(i)\n",
    "entities"
   ]
  },
  {
   "cell_type": "code",
   "execution_count": 219,
   "metadata": {},
   "outputs": [
    {
     "data": {
      "text/plain": [
       "[(<Entity Old Southwestern Chinese>, 0.73234856),\n",
       " (<Entity Han Chinese>, 0.7310837)]"
      ]
     },
     "execution_count": 219,
     "metadata": {},
     "output_type": "execute_result"
    }
   ],
   "source": [
    "word = wiki2vec.get_word('chinese')\n",
    "similar = wiki2vec.most_similar(word, 100)\n",
    "entities = []\n",
    "for i in similar:\n",
    "    if isinstance(i[0], Entity):\n",
    "        entities.append(i)\n",
    "entities"
   ]
  },
  {
   "cell_type": "markdown",
   "metadata": {},
   "source": [
    "#### It is in particular struggling to associate a description of a nation's people with that nation itself. Thus, we need congruence!"
   ]
  },
  {
   "cell_type": "code",
   "execution_count": null,
   "metadata": {},
   "outputs": [],
   "source": []
  },
  {
   "cell_type": "code",
   "execution_count": null,
   "metadata": {},
   "outputs": [],
   "source": []
  },
  {
   "cell_type": "markdown",
   "metadata": {},
   "source": []
  },
  {
   "cell_type": "markdown",
   "metadata": {},
   "source": [
    "# TRASH"
   ]
  },
  {
   "cell_type": "code",
   "execution_count": null,
   "metadata": {},
   "outputs": [],
   "source": []
  },
  {
   "cell_type": "code",
   "execution_count": null,
   "metadata": {},
   "outputs": [],
   "source": []
  },
  {
   "cell_type": "code",
   "execution_count": null,
   "metadata": {},
   "outputs": [],
   "source": []
  },
  {
   "cell_type": "code",
   "execution_count": null,
   "metadata": {},
   "outputs": [],
   "source": []
  },
  {
   "cell_type": "code",
   "execution_count": null,
   "metadata": {},
   "outputs": [],
   "source": []
  },
  {
   "cell_type": "code",
   "execution_count": null,
   "metadata": {},
   "outputs": [],
   "source": []
  },
  {
   "cell_type": "code",
   "execution_count": null,
   "metadata": {},
   "outputs": [],
   "source": []
  },
  {
   "cell_type": "code",
   "execution_count": null,
   "metadata": {},
   "outputs": [],
   "source": []
  },
  {
   "cell_type": "code",
   "execution_count": null,
   "metadata": {},
   "outputs": [],
   "source": []
  },
  {
   "cell_type": "code",
   "execution_count": null,
   "metadata": {},
   "outputs": [],
   "source": []
  },
  {
   "cell_type": "code",
   "execution_count": null,
   "metadata": {},
   "outputs": [],
   "source": []
  },
  {
   "cell_type": "code",
   "execution_count": null,
   "metadata": {},
   "outputs": [],
   "source": []
  },
  {
   "cell_type": "code",
   "execution_count": null,
   "metadata": {},
   "outputs": [],
   "source": []
  },
  {
   "cell_type": "markdown",
   "metadata": {},
   "source": []
  },
  {
   "cell_type": "markdown",
   "metadata": {},
   "source": []
  },
  {
   "cell_type": "markdown",
   "metadata": {},
   "source": []
  },
  {
   "cell_type": "markdown",
   "metadata": {},
   "source": []
  },
  {
   "cell_type": "markdown",
   "metadata": {},
   "source": []
  },
  {
   "cell_type": "markdown",
   "metadata": {},
   "source": []
  },
  {
   "cell_type": "markdown",
   "metadata": {},
   "source": []
  },
  {
   "cell_type": "code",
   "execution_count": 17,
   "metadata": {
    "scrolled": false
   },
   "outputs": [
    {
     "name": "stdout",
     "output_type": "stream",
     "text": [
      "Full Mention:  German\n",
      "Found Word:  None\n",
      "Full Mention:  British\n",
      "Found Word:  None\n",
      "Full Mention:  BRUSSELS\n",
      "Found Word:  None\n",
      "Full Mention:  European Commission\n",
      "Found Word:  None\n",
      "Full Mention:  European Commission\n",
      "Found Word:  None\n"
     ]
    }
   ],
   "source": [
    "# Experiment with returning words from full mentions\n",
    "for word in x_np[:5]:\n",
    "    print(\"Full Mention: \", word)\n",
    "    found_word = wiki2vec.get_word(word)\n",
    "    print(\"Found Word: \", found_word)\n",
    "    if found_word is None:\n",
    "        continue\n",
    "    else:\n",
    "        start_time = time.time()\n",
    "        similar_word = wiki2vec.most_similar(wiki2vec.get_word(word), 5)\n",
    "        end_time = time.time()\n",
    "        total_time = round(end_time - start_time, 2)\n",
    "        print(\"Similar Word: \", similar_word)\n",
    "        print(\"Time: \", total_time)\n",
    "    print(\"**************************\")\n",
    "    "
   ]
  },
  {
   "cell_type": "code",
   "execution_count": 26,
   "metadata": {},
   "outputs": [
    {
     "name": "stdout",
     "output_type": "stream",
     "text": [
      "Full Mention:  german\n",
      "Found Word:  <Word german>\n",
      "Similar Word:  [(<Word german>, 0.9999999), (<Word austrian>, 0.78725725), (<Word scharfschütze>, 0.7308491), (<Word badeners>, 0.7266695), (<Word bavarian>, 0.7198452)]\n",
      "Time:  3.33\n",
      "**************************\n",
      "Full Mention:  british\n",
      "Found Word:  <Word british>\n",
      "Similar Word:  [(<Word british>, 1.0), (<Word canadian>, 0.67067295), (<Word britiah>, 0.6659233), (<Word bccss>, 0.6586777), (<Word indian>, 0.6507589)]\n",
      "Time:  3.53\n",
      "**************************\n",
      "Full Mention:  brussels\n",
      "Found Word:  <Word brussels>\n",
      "Similar Word:  [(<Word brussels>, 1.0), (<Entity Brussels>, 0.8870699), (<Word ghent>, 0.8244215), (<Word bruges>, 0.8157395), (<Word brussel>, 0.80919355)]\n",
      "Time:  3.26\n",
      "**************************\n",
      "Full Mention:  european commission\n",
      "Found Word:  None\n",
      "Full Mention:  european commission\n",
      "Found Word:  None\n"
     ]
    }
   ],
   "source": [
    "# Experiment with returning words from full mentions lower-cased\n",
    "for word in x_np[:5]:\n",
    "    print(\"Full Mention: \", word.lower())\n",
    "    found_word = wiki2vec.get_word(word.lower())\n",
    "    print(\"Found Word: \", found_word)\n",
    "    if found_word is None:\n",
    "        continue\n",
    "    else:\n",
    "        start_time = time.time()\n",
    "        similar_word = wiki2vec.most_similar(wiki2vec.get_word(word.lower()), 5)\n",
    "        end_time = time.time()\n",
    "        total_time = round(end_time - start_time, 2)\n",
    "        print(\"Similar Word: \", similar_word)\n",
    "        print(\"Time: \", total_time)\n",
    "    print(\"**************************\")\n",
    "    "
   ]
  },
  {
   "cell_type": "code",
   "execution_count": 18,
   "metadata": {},
   "outputs": [
    {
     "name": "stdout",
     "output_type": "stream",
     "text": [
      "Full Mention:  German\n",
      "Found Word:  None\n",
      "Full Mention:  British\n",
      "Found Word:  None\n",
      "Full Mention:  BRUSSELS\n",
      "Found Word:  None\n",
      "Full Mention:  European Commission\n",
      "Found Word:  <Entity European Commission>\n",
      "Similar Word:  [(<Entity European Commission>, 0.99999994), (<Entity European Union>, 0.79579794), (<Entity European Council>, 0.7832253), (<Entity Directorate-General for Research and Innovation (European Commission)>, 0.7746816), (<Entity Directorate-General for Informatics>, 0.7597976)]\n",
      "Time:  22.96\n",
      "**************************\n",
      "Full Mention:  European Commission\n",
      "Found Word:  <Entity European Commission>\n",
      "Similar Word:  [(<Entity European Commission>, 0.99999994), (<Entity European Union>, 0.79579794), (<Entity European Council>, 0.7832253), (<Entity Directorate-General for Research and Innovation (European Commission)>, 0.7746816), (<Entity Directorate-General for Informatics>, 0.7597976)]\n",
      "Time:  9.99\n",
      "**************************\n"
     ]
    }
   ],
   "source": [
    "# Experiment with returning words from full mentions\n",
    "for word in x_np[:5]:\n",
    "    print(\"Full Mention: \", word)\n",
    "    found_word = wiki2vec.get_entity(word)\n",
    "    print(\"Found Word: \", found_word)\n",
    "    if found_word is None:\n",
    "        continue\n",
    "    else:\n",
    "        start_time = time.time()\n",
    "        similar_word = wiki2vec.most_similar(wiki2vec.get_entity(word), 5)\n",
    "        end_time = time.time()\n",
    "        total_time = round(end_time - start_time, 2)\n",
    "        print(\"Similar Word: \", similar_word)\n",
    "        print(\"Time: \", total_time)\n",
    "    print(\"**************************\")\n",
    "    "
   ]
  },
  {
   "cell_type": "markdown",
   "metadata": {},
   "source": [
    "wiki2vec is unable to return a word for any multi-word input nor an entity for any lower-cased input."
   ]
  },
  {
   "cell_type": "markdown",
   "metadata": {},
   "source": [
    "## Experimenting with \"European Commission\" string\n",
    "To better understand what Wikipedia2Vec can return, I tried a few different combinations focused around the text example \"European Commission.\""
   ]
  },
  {
   "cell_type": "code",
   "execution_count": 27,
   "metadata": {},
   "outputs": [],
   "source": [
    "wiki2vec.get_entity(\"european commission\")\n",
    "# Returns nothing"
   ]
  },
  {
   "cell_type": "code",
   "execution_count": 28,
   "metadata": {},
   "outputs": [
    {
     "data": {
      "text/plain": [
       "<Entity European Commission>"
      ]
     },
     "execution_count": 28,
     "metadata": {},
     "output_type": "execute_result"
    }
   ],
   "source": [
    "wiki2vec.get_entity(\"European Commission\")\n",
    "# Returns desired value"
   ]
  },
  {
   "cell_type": "code",
   "execution_count": 29,
   "metadata": {},
   "outputs": [],
   "source": [
    "# w2v.most_similar(\"European Commission\")\n",
    "# KeyError: \"word 'European Commission' not in vocabulary\""
   ]
  },
  {
   "cell_type": "code",
   "execution_count": 30,
   "metadata": {},
   "outputs": [],
   "source": [
    "# w2v.most_similar(positive=['European', 'Commission'])\n",
    "# KeyError: \"word 'European' not in vocabulary\""
   ]
  },
  {
   "cell_type": "code",
   "execution_count": 43,
   "metadata": {},
   "outputs": [
    {
     "data": {
      "text/plain": [
       "[('fedenatur', 0.7605640292167664),\n",
       " ('proinno', 0.7542604207992554),\n",
       " ('europeanissuers', 0.7450321912765503),\n",
       " ('trendchart', 0.7408386468887329),\n",
       " ('ecsr', 0.7381627559661865),\n",
       " ('clrae', 0.7355659008026123),\n",
       " ('dgxiii', 0.7343104481697083),\n",
       " ('eucu', 0.7291509509086609),\n",
       " ('concilation', 0.728323757648468),\n",
       " ('ertrac', 0.7281754016876221)]"
      ]
     },
     "execution_count": 43,
     "metadata": {},
     "output_type": "execute_result"
    }
   ],
   "source": [
    "w2v.most_similar(positive=['european', 'commission'])\n",
    "# Returns unknown results"
   ]
  },
  {
   "cell_type": "code",
   "execution_count": null,
   "metadata": {},
   "outputs": [],
   "source": []
  },
  {
   "cell_type": "code",
   "execution_count": null,
   "metadata": {},
   "outputs": [],
   "source": []
  },
  {
   "cell_type": "code",
   "execution_count": null,
   "metadata": {},
   "outputs": [],
   "source": []
  },
  {
   "cell_type": "code",
   "execution_count": null,
   "metadata": {},
   "outputs": [],
   "source": []
  },
  {
   "cell_type": "code",
   "execution_count": null,
   "metadata": {},
   "outputs": [],
   "source": []
  },
  {
   "cell_type": "code",
   "execution_count": null,
   "metadata": {},
   "outputs": [],
   "source": []
  },
  {
   "cell_type": "code",
   "execution_count": null,
   "metadata": {},
   "outputs": [],
   "source": []
  },
  {
   "cell_type": "code",
   "execution_count": null,
   "metadata": {},
   "outputs": [],
   "source": []
  },
  {
   "cell_type": "markdown",
   "metadata": {},
   "source": [
    "### Experimenting with matching Anchor Text words"
   ]
  },
  {
   "cell_type": "code",
   "execution_count": 32,
   "metadata": {},
   "outputs": [
    {
     "name": "stdout",
     "output_type": "stream",
     "text": [
      "Anchor Text:  united states\n",
      "Found Word:  None\n",
      "Anchor Text:  american\n",
      "Found Word:  <Word american>\n",
      "Similar Word:  [(<Word american>, 1.0), (<Word african>, 0.6946235), (<Word canadian>, 0.6769873), (<Word africanamerican>, 0.67509526), (<Word caribbeanist>, 0.6693679)]\n",
      "**************************\n",
      "Anchor Text:  usa\n",
      "Found Word:  <Word usa>\n",
      "Similar Word:  [(<Word usa>, 1.0000001), (<Word finnfest>, 0.7673373), (<Word priceton>, 0.74322855), (<Word mddtusa>, 0.72683185), (<Word hanahou>, 0.7265224)]\n",
      "**************************\n",
      "Anchor Text:  u.s.\n",
      "Found Word:  None\n",
      "Anchor Text:  us\n",
      "Found Word:  <Word us>\n",
      "Similar Word:  [(<Word us>, 1.0), (<Word 20px25px>, 0.72674584), (<Word truckstops>, 0.6859466), (<Word 39billion>, 0.68373144), (<Word 2004dollars>, 0.67024976)]\n",
      "**************************\n"
     ]
    }
   ],
   "source": [
    "# Experiment with returning words from anchor texts\n",
    "for word in at_count_df['normalized_anchor_text'][:5]:\n",
    "    print(\"Anchor Text: \", word)\n",
    "    found_word = wiki2vec.get_word(word)\n",
    "    print(\"Found Word: \", found_word)\n",
    "    if found_word is None:\n",
    "        continue\n",
    "    else:\n",
    "        similar_word = wiki2vec.most_similar(wiki2vec.get_word(word), 5)\n",
    "        print(\"Similar Word: \", similar_word)\n",
    "    print(\"**************************\")\n",
    "    "
   ]
  },
  {
   "cell_type": "code",
   "execution_count": 33,
   "metadata": {},
   "outputs": [
    {
     "name": "stdout",
     "output_type": "stream",
     "text": [
      "Anchor Text:  united states\n",
      "Found Entity:  None\n",
      "**************************\n",
      "Anchor Text:  american\n",
      "Found Entity:  None\n",
      "**************************\n",
      "Anchor Text:  usa\n",
      "Found Entity:  None\n",
      "**************************\n",
      "Anchor Text:  u.s.\n",
      "Found Entity:  None\n",
      "**************************\n",
      "Anchor Text:  us\n",
      "Found Entity:  None\n",
      "**************************\n"
     ]
    }
   ],
   "source": [
    "# Experiment with returning entities from anchor texts\n",
    "for word in at_count_df['normalized_anchor_text'][:5]:\n",
    "    print(\"Anchor Text: \", word)\n",
    "    found_entity = wiki2vec.get_entity(word)\n",
    "    print(\"Found Entity: \", found_entity)\n",
    "#     if found_entity is None:\n",
    "#         continue\n",
    "#     else:\n",
    "#         similar_word = wiki2vec.most_similar(wiki2vec.get_word(word), 5)\n",
    "#         print(\"Similar Word: \", similar_word)\n",
    "    print(\"**************************\")\n",
    "    "
   ]
  },
  {
   "cell_type": "code",
   "execution_count": 56,
   "metadata": {},
   "outputs": [
    {
     "name": "stdout",
     "output_type": "stream",
     "text": [
      "<Entity United States>\n",
      "None\n",
      "None\n",
      "None\n"
     ]
    }
   ],
   "source": [
    "# Our normalizing function has actually prevented wiki2vec from correctly identifying entities\n",
    "# Below, capitalized 'United States' returns correct entity whereas lowercased 'united states' does not\n",
    "print(wiki2vec.get_entity('United States'))\n",
    "print(wiki2vec.get_entity('united states'))\n",
    "print(wiki2vec.get_entity('united_states'))\n",
    "print(wiki2vec.get_entity('United_States'))"
   ]
  },
  {
   "cell_type": "markdown",
   "metadata": {},
   "source": [
    "#### Challenges & Pivot\n",
    "\n",
    "It appears unlikely to be able to use Wikipedia2Vec to automatically link anchor texts to Entities. Instead, let's try to use Gensim and the word similarity score or distance metric functionality."
   ]
  },
  {
   "cell_type": "code",
   "execution_count": 20,
   "metadata": {},
   "outputs": [],
   "source": [
    "# Import gensim\n",
    "from gensim.models import KeyedVectors"
   ]
  },
  {
   "cell_type": "code",
   "execution_count": 21,
   "metadata": {},
   "outputs": [
    {
     "name": "stdout",
     "output_type": "stream",
     "text": [
      "CPU times: user 5min 37s, sys: 4.62 s, total: 5min 41s\n",
      "Wall time: 5min 42s\n"
     ]
    }
   ],
   "source": [
    "%%time\n",
    "\n",
    "# Use KeyedVectors to load txt file\n",
    "w2v = KeyedVectors.load_word2vec_format(\"../../embeddings/enwiki_20180420_100d.txt\")"
   ]
  },
  {
   "cell_type": "code",
   "execution_count": 37,
   "metadata": {},
   "outputs": [
    {
     "name": "stdout",
     "output_type": "stream",
     "text": [
      "Token Count:  17805 , Unique Tokens Count:  4015\n"
     ]
    }
   ],
   "source": [
    "# How many unique tokens are in our ACY dataset\n",
    "print(\"Token Count: \", len(x_np), \", Unique Tokens Count: \", len(np.unique(x_np)))"
   ]
  },
  {
   "cell_type": "code",
   "execution_count": 38,
   "metadata": {},
   "outputs": [
    {
     "name": "stdout",
     "output_type": "stream",
     "text": [
      "Page Count:  6189965\n"
     ]
    }
   ],
   "source": [
    "# How many page titles do we have in our KWNLP dataset\n",
    "print(\"Page Count: \", len(article_df['page_title']))"
   ]
  },
  {
   "cell_type": "markdown",
   "metadata": {},
   "source": [
    "### Experiment with matching full mention phrases\n",
    "\n",
    "We first standardize page titles to be similar lower case with spaces as our full mention texts are."
   ]
  },
  {
   "cell_type": "code",
   "execution_count": 39,
   "metadata": {},
   "outputs": [],
   "source": [
    "# Replace _ with \" \"\n",
    "def replace_lines(text):\n",
    "    return str(text).replace(\"_\", \" \")"
   ]
  },
  {
   "cell_type": "code",
   "execution_count": 166,
   "metadata": {},
   "outputs": [],
   "source": [
    "# Replace \" \" with _\n",
    "def add_lines(text):\n",
    "    return str(text).replace(\" \", \"_\")"
   ]
  },
  {
   "cell_type": "code",
   "execution_count": 40,
   "metadata": {},
   "outputs": [
    {
     "data": {
      "text/plain": [
       "6189960             florida elections, 2020\n",
       "6189961                     toyaka sanganna\n",
       "6189962                     furkan kircicek\n",
       "6189963    universal pictures debut network\n",
       "6189964                   raymond englebert\n",
       "Name: page_title, dtype: object"
      ]
     },
     "execution_count": 40,
     "metadata": {},
     "output_type": "execute_result"
    }
   ],
   "source": [
    "# Normalize page titles\n",
    "norm_page_titles = article_df['page_title'].apply(normalize_text).apply(replace_lines)\n",
    "norm_page_titles.tail(5)\n",
    "# todo don't normalize titles"
   ]
  },
  {
   "cell_type": "code",
   "execution_count": 41,
   "metadata": {},
   "outputs": [
    {
     "data": {
      "text/plain": [
       "4382915                                jane bennett (artist)\n",
       "1504117                                       island airways\n",
       "587403                                                 gevil\n",
       "5268541                                         indru mudhal\n",
       "2161368                  norwegian police university college\n",
       "613212                           the golden republic (album)\n",
       "2774463    list of new york state historic markers in mon...\n",
       "2564810                                    błażejowice dolne\n",
       "1172559                roman catholic archdiocese of vilnius\n",
       "6028691                                       judgement 2008\n",
       "Name: page_title, dtype: object"
      ]
     },
     "execution_count": 41,
     "metadata": {},
     "output_type": "execute_result"
    }
   ],
   "source": [
    "# Display random sample of Wikipedia page titles\n",
    "randints = np.random.randint(0, len(article_df), 10)\n",
    "norm_page_titles[randints]"
   ]
  },
  {
   "cell_type": "code",
   "execution_count": 44,
   "metadata": {},
   "outputs": [
    {
     "data": {
      "text/plain": [
       "[('ujw', 0.7881916761398315),\n",
       " ('rrwu', 0.7774186134338379),\n",
       " ('bglu', 0.7714731097221375),\n",
       " ('quattropole', 0.7692691683769226),\n",
       " ('pgeu', 0.762389063835144),\n",
       " ('pmglu', 0.7578543424606323),\n",
       " ('eucu', 0.7538524866104126),\n",
       " ('bwsf', 0.7528156042098999),\n",
       " ('owaad', 0.7476096153259277),\n",
       " ('awunz', 0.7462313175201416)]"
      ]
     },
     "execution_count": 44,
     "metadata": {},
     "output_type": "execute_result"
    }
   ],
   "source": [
    "w2v.most_similar(positive=[\"european\", \"union\", \"british\", \"punjabis\"])"
   ]
  },
  {
   "cell_type": "code",
   "execution_count": 45,
   "metadata": {
    "scrolled": true
   },
   "outputs": [
    {
     "name": "stderr",
     "output_type": "stream",
     "text": [
      "  1%|          | 1/179 [00:00<01:16,  2.33it/s]"
     ]
    },
    {
     "name": "stdout",
     "output_type": "stream",
     "text": [
      "full_mention:  German\n",
      "full_mention Matched Value:  None 0.0\n"
     ]
    },
    {
     "name": "stderr",
     "output_type": "stream",
     "text": [
      "\r",
      "  1%|          | 2/179 [00:00<01:05,  2.71it/s]"
     ]
    },
    {
     "name": "stdout",
     "output_type": "stream",
     "text": [
      "full_mention:  British\n",
      "full_mention Matched Value:  None 0.0\n"
     ]
    },
    {
     "name": "stderr",
     "output_type": "stream",
     "text": [
      "\r",
      "  2%|▏         | 3/179 [00:00<01:03,  2.79it/s]"
     ]
    },
    {
     "name": "stdout",
     "output_type": "stream",
     "text": [
      "full_mention:  BRUSSELS\n",
      "full_mention Matched Value:  None 0.0\n"
     ]
    },
    {
     "name": "stderr",
     "output_type": "stream",
     "text": [
      "\r",
      "  2%|▏         | 4/179 [00:01<00:56,  3.12it/s]"
     ]
    },
    {
     "name": "stdout",
     "output_type": "stream",
     "text": [
      "full_mention:  European Commission\n",
      "full_mention Matched Value:  None 0.0\n"
     ]
    },
    {
     "name": "stderr",
     "output_type": "stream",
     "text": [
      "\r",
      "  3%|▎         | 5/179 [00:01<00:50,  3.48it/s]"
     ]
    },
    {
     "name": "stdout",
     "output_type": "stream",
     "text": [
      "full_mention:  European Commission\n",
      "full_mention Matched Value:  None 0.0\n"
     ]
    },
    {
     "name": "stderr",
     "output_type": "stream",
     "text": [
      "\r",
      "  3%|▎         | 6/179 [00:01<00:46,  3.73it/s]"
     ]
    },
    {
     "name": "stdout",
     "output_type": "stream",
     "text": [
      "full_mention:  German\n",
      "full_mention Matched Value:  None 0.0\n"
     ]
    },
    {
     "name": "stderr",
     "output_type": "stream",
     "text": [
      "\r",
      "  4%|▍         | 7/179 [00:01<00:44,  3.88it/s]"
     ]
    },
    {
     "name": "stdout",
     "output_type": "stream",
     "text": [
      "full_mention:  British\n",
      "full_mention Matched Value:  None 0.0\n"
     ]
    },
    {
     "name": "stderr",
     "output_type": "stream",
     "text": [
      "\r",
      "  4%|▍         | 8/179 [00:02<00:43,  3.94it/s]"
     ]
    },
    {
     "name": "stdout",
     "output_type": "stream",
     "text": [
      "full_mention:  Germany\n",
      "full_mention Matched Value:  None 0.0\n"
     ]
    },
    {
     "name": "stderr",
     "output_type": "stream",
     "text": [
      "\r",
      "  5%|▌         | 9/179 [00:02<00:42,  4.02it/s]"
     ]
    },
    {
     "name": "stdout",
     "output_type": "stream",
     "text": [
      "full_mention:  European Union\n",
      "full_mention Matched Value:  None 0.0\n"
     ]
    },
    {
     "name": "stderr",
     "output_type": "stream",
     "text": [
      "\r",
      "  6%|▌         | 10/179 [00:02<00:40,  4.13it/s]"
     ]
    },
    {
     "name": "stdout",
     "output_type": "stream",
     "text": [
      "full_mention:  European Union\n",
      "full_mention Matched Value:  None 0.0\n"
     ]
    },
    {
     "name": "stderr",
     "output_type": "stream",
     "text": [
      "\r",
      "  6%|▌         | 11/179 [00:02<00:40,  4.17it/s]"
     ]
    },
    {
     "name": "stdout",
     "output_type": "stream",
     "text": [
      "full_mention:  Britain\n",
      "full_mention Matched Value:  None 0.0\n"
     ]
    },
    {
     "name": "stderr",
     "output_type": "stream",
     "text": [
      "\r",
      "  7%|▋         | 12/179 [00:03<00:39,  4.22it/s]"
     ]
    },
    {
     "name": "stdout",
     "output_type": "stream",
     "text": [
      "full_mention:  Commission\n",
      "full_mention Matched Value:  None 0.0\n"
     ]
    },
    {
     "name": "stderr",
     "output_type": "stream",
     "text": [
      "\r",
      "  7%|▋         | 13/179 [00:03<00:37,  4.38it/s]"
     ]
    },
    {
     "name": "stdout",
     "output_type": "stream",
     "text": [
      "full_mention:  European Union\n",
      "full_mention Matched Value:  None 0.0\n"
     ]
    },
    {
     "name": "stderr",
     "output_type": "stream",
     "text": [
      "\r",
      "  8%|▊         | 14/179 [00:03<00:38,  4.29it/s]"
     ]
    },
    {
     "name": "stdout",
     "output_type": "stream",
     "text": [
      "full_mention:  European Union\n",
      "full_mention Matched Value:  None 0.0\n"
     ]
    },
    {
     "name": "stderr",
     "output_type": "stream",
     "text": [
      "\r",
      "  8%|▊         | 15/179 [00:03<00:37,  4.40it/s]"
     ]
    },
    {
     "name": "stdout",
     "output_type": "stream",
     "text": [
      "full_mention:  Franz Fischler\n",
      "full_mention Matched Value:  None 0.0\n"
     ]
    },
    {
     "name": "stderr",
     "output_type": "stream",
     "text": [
      "\r",
      "  9%|▉         | 16/179 [00:03<00:36,  4.49it/s]"
     ]
    },
    {
     "name": "stdout",
     "output_type": "stream",
     "text": [
      "full_mention:  Franz Fischler\n",
      "full_mention Matched Value:  None 0.0\n"
     ]
    },
    {
     "name": "stderr",
     "output_type": "stream",
     "text": [
      "\r",
      "  9%|▉         | 17/179 [00:04<00:35,  4.52it/s]"
     ]
    },
    {
     "name": "stdout",
     "output_type": "stream",
     "text": [
      "full_mention:  Britain\n",
      "full_mention Matched Value:  None 0.0\n"
     ]
    },
    {
     "name": "stderr",
     "output_type": "stream",
     "text": [
      "\r",
      " 10%|█         | 18/179 [00:04<00:35,  4.56it/s]"
     ]
    },
    {
     "name": "stdout",
     "output_type": "stream",
     "text": [
      "full_mention:  France\n",
      "full_mention Matched Value:  None 0.0\n"
     ]
    },
    {
     "name": "stderr",
     "output_type": "stream",
     "text": [
      "\r",
      " 11%|█         | 19/179 [00:04<00:38,  4.19it/s]"
     ]
    },
    {
     "name": "stdout",
     "output_type": "stream",
     "text": [
      "full_mention:  BSE\n",
      "full_mention Matched Value:  None 0.0\n"
     ]
    },
    {
     "name": "stderr",
     "output_type": "stream",
     "text": [
      "\r",
      " 11%|█         | 20/179 [00:04<00:36,  4.36it/s]"
     ]
    },
    {
     "name": "stdout",
     "output_type": "stream",
     "text": [
      "full_mention:  Spanish\n",
      "full_mention Matched Value:  None 0.0\n"
     ]
    },
    {
     "name": "stderr",
     "output_type": "stream",
     "text": [
      "\r",
      " 12%|█▏        | 21/179 [00:05<00:35,  4.48it/s]"
     ]
    },
    {
     "name": "stdout",
     "output_type": "stream",
     "text": [
      "full_mention:  Loyola de Palacio\n",
      "full_mention Matched Value:  None 0.0\n"
     ]
    },
    {
     "name": "stderr",
     "output_type": "stream",
     "text": [
      "\r",
      " 12%|█▏        | 22/179 [00:05<00:34,  4.55it/s]"
     ]
    },
    {
     "name": "stdout",
     "output_type": "stream",
     "text": [
      "full_mention:  Loyola de Palacio\n",
      "full_mention Matched Value:  None 0.0\n"
     ]
    },
    {
     "name": "stderr",
     "output_type": "stream",
     "text": [
      "\r",
      " 13%|█▎        | 23/179 [00:05<00:33,  4.61it/s]"
     ]
    },
    {
     "name": "stdout",
     "output_type": "stream",
     "text": [
      "full_mention:  Loyola de Palacio\n",
      "full_mention Matched Value:  None 0.0\n"
     ]
    },
    {
     "name": "stderr",
     "output_type": "stream",
     "text": [
      "\r",
      " 13%|█▎        | 24/179 [00:05<00:33,  4.62it/s]"
     ]
    },
    {
     "name": "stdout",
     "output_type": "stream",
     "text": [
      "full_mention:  France\n",
      "full_mention Matched Value:  None 0.0\n"
     ]
    },
    {
     "name": "stderr",
     "output_type": "stream",
     "text": [
      "\r",
      " 14%|█▍        | 25/179 [00:06<00:40,  3.81it/s]"
     ]
    },
    {
     "name": "stdout",
     "output_type": "stream",
     "text": [
      "full_mention:  Britain\n",
      "full_mention Matched Value:  None 0.0\n"
     ]
    },
    {
     "name": "stderr",
     "output_type": "stream",
     "text": [
      "\r",
      " 15%|█▍        | 26/179 [00:06<00:40,  3.79it/s]"
     ]
    },
    {
     "name": "stdout",
     "output_type": "stream",
     "text": [
      "full_mention:  BSE\n",
      "full_mention Matched Value:  None 0.0\n"
     ]
    },
    {
     "name": "stderr",
     "output_type": "stream",
     "text": [
      "\r",
      " 15%|█▌        | 27/179 [00:06<00:37,  4.02it/s]"
     ]
    },
    {
     "name": "stdout",
     "output_type": "stream",
     "text": [
      "full_mention:  British\n",
      "full_mention Matched Value:  None 0.0\n"
     ]
    },
    {
     "name": "stderr",
     "output_type": "stream",
     "text": [
      "\r",
      " 16%|█▌        | 28/179 [00:06<00:35,  4.20it/s]"
     ]
    },
    {
     "name": "stdout",
     "output_type": "stream",
     "text": [
      "full_mention:  German\n",
      "full_mention Matched Value:  None 0.0\n"
     ]
    },
    {
     "name": "stderr",
     "output_type": "stream",
     "text": [
      "\r",
      " 16%|█▌        | 29/179 [00:06<00:34,  4.34it/s]"
     ]
    },
    {
     "name": "stdout",
     "output_type": "stream",
     "text": [
      "full_mention:  British\n",
      "full_mention Matched Value:  None 0.0\n"
     ]
    },
    {
     "name": "stderr",
     "output_type": "stream",
     "text": [
      "\r",
      " 17%|█▋        | 30/179 [00:07<00:33,  4.43it/s]"
     ]
    },
    {
     "name": "stdout",
     "output_type": "stream",
     "text": [
      "full_mention:  Europe\n",
      "full_mention Matched Value:  None 0.0\n"
     ]
    },
    {
     "name": "stderr",
     "output_type": "stream",
     "text": [
      "\r",
      " 17%|█▋        | 31/179 [00:07<00:32,  4.55it/s]"
     ]
    },
    {
     "name": "stdout",
     "output_type": "stream",
     "text": [
      "full_mention:  Bonn\n",
      "full_mention Matched Value:  None 0.0\n"
     ]
    },
    {
     "name": "stderr",
     "output_type": "stream",
     "text": [
      "\r",
      " 18%|█▊        | 32/179 [00:07<00:32,  4.58it/s]"
     ]
    },
    {
     "name": "stdout",
     "output_type": "stream",
     "text": [
      "full_mention:  British\n",
      "full_mention Matched Value:  None 0.0\n"
     ]
    },
    {
     "name": "stderr",
     "output_type": "stream",
     "text": [
      "\r",
      " 18%|█▊        | 33/179 [00:07<00:31,  4.60it/s]"
     ]
    },
    {
     "name": "stdout",
     "output_type": "stream",
     "text": [
      "full_mention:  Germany\n",
      "full_mention Matched Value:  None 0.0\n"
     ]
    },
    {
     "name": "stderr",
     "output_type": "stream",
     "text": [
      "\r",
      " 19%|█▉        | 34/179 [00:08<00:31,  4.65it/s]"
     ]
    },
    {
     "name": "stdout",
     "output_type": "stream",
     "text": [
      "full_mention:  Britain\n",
      "full_mention Matched Value:  None 0.0\n"
     ]
    },
    {
     "name": "stderr",
     "output_type": "stream",
     "text": [
      "\r",
      " 20%|█▉        | 35/179 [00:08<00:31,  4.51it/s]"
     ]
    },
    {
     "name": "stdout",
     "output_type": "stream",
     "text": [
      "full_mention:  British\n",
      "full_mention Matched Value:  None 0.0\n"
     ]
    },
    {
     "name": "stderr",
     "output_type": "stream",
     "text": [
      "\r",
      " 20%|██        | 36/179 [00:08<00:32,  4.46it/s]"
     ]
    },
    {
     "name": "stdout",
     "output_type": "stream",
     "text": [
      "full_mention:  Hendrix\n",
      "full_mention Matched Value:  None 0.0\n"
     ]
    },
    {
     "name": "stderr",
     "output_type": "stream",
     "text": [
      "\r",
      " 21%|██        | 37/179 [00:08<00:32,  4.42it/s]"
     ]
    },
    {
     "name": "stdout",
     "output_type": "stream",
     "text": [
      "full_mention:  LONDON\n",
      "full_mention Matched Value:  None 0.0\n"
     ]
    },
    {
     "name": "stderr",
     "output_type": "stream",
     "text": [
      "\r",
      " 21%|██        | 38/179 [00:08<00:31,  4.52it/s]"
     ]
    },
    {
     "name": "stdout",
     "output_type": "stream",
     "text": [
      "full_mention:  U.S.\n",
      "full_mention Matched Value:  None 0.0\n"
     ]
    },
    {
     "name": "stderr",
     "output_type": "stream",
     "text": [
      "\r",
      " 22%|██▏       | 39/179 [00:09<00:30,  4.59it/s]"
     ]
    },
    {
     "name": "stdout",
     "output_type": "stream",
     "text": [
      "full_mention:  Jimi Hendrix\n",
      "full_mention Matched Value:  None 0.0\n"
     ]
    },
    {
     "name": "stderr",
     "output_type": "stream",
     "text": [
      "\r",
      " 22%|██▏       | 40/179 [00:09<00:30,  4.62it/s]"
     ]
    },
    {
     "name": "stdout",
     "output_type": "stream",
     "text": [
      "full_mention:  Jimi Hendrix\n",
      "full_mention Matched Value:  None 0.0\n"
     ]
    },
    {
     "name": "stderr",
     "output_type": "stream",
     "text": [
      "\r",
      " 23%|██▎       | 41/179 [00:09<00:29,  4.66it/s]"
     ]
    },
    {
     "name": "stdout",
     "output_type": "stream",
     "text": [
      "full_mention:  Hendrix\n",
      "full_mention Matched Value:  None 0.0\n"
     ]
    },
    {
     "name": "stderr",
     "output_type": "stream",
     "text": [
      "\r",
      " 23%|██▎       | 42/179 [00:09<00:29,  4.63it/s]"
     ]
    },
    {
     "name": "stdout",
     "output_type": "stream",
     "text": [
      "full_mention:  London\n",
      "full_mention Matched Value:  None 0.0\n"
     ]
    },
    {
     "name": "stderr",
     "output_type": "stream",
     "text": [
      "\r",
      " 24%|██▍       | 43/179 [00:10<00:28,  4.70it/s]"
     ]
    },
    {
     "name": "stdout",
     "output_type": "stream",
     "text": [
      "full_mention:  English\n",
      "full_mention Matched Value:  None 0.0\n"
     ]
    },
    {
     "name": "stderr",
     "output_type": "stream",
     "text": [
      "\r",
      " 25%|██▍       | 44/179 [00:10<00:29,  4.58it/s]"
     ]
    },
    {
     "name": "stdout",
     "output_type": "stream",
     "text": [
      "full_mention:  Nottingham\n",
      "full_mention Matched Value:  None 0.0\n"
     ]
    },
    {
     "name": "stderr",
     "output_type": "stream",
     "text": [
      "\r",
      " 25%|██▌       | 45/179 [00:10<00:29,  4.56it/s]"
     ]
    },
    {
     "name": "stdout",
     "output_type": "stream",
     "text": [
      "full_mention:  Hendrix\n",
      "full_mention Matched Value:  None 0.0\n"
     ]
    },
    {
     "name": "stderr",
     "output_type": "stream",
     "text": [
      "\r",
      " 26%|██▌       | 46/179 [00:10<00:28,  4.65it/s]"
     ]
    },
    {
     "name": "stdout",
     "output_type": "stream",
     "text": [
      "full_mention:  Hendrix\n",
      "full_mention Matched Value:  None 0.0\n"
     ]
    },
    {
     "name": "stderr",
     "output_type": "stream",
     "text": [
      "\r",
      " 26%|██▋       | 47/179 [00:10<00:28,  4.61it/s]"
     ]
    },
    {
     "name": "stdout",
     "output_type": "stream",
     "text": [
      "full_mention:  Australian\n",
      "full_mention Matched Value:  None 0.0\n"
     ]
    },
    {
     "name": "stderr",
     "output_type": "stream",
     "text": [
      "\r",
      " 27%|██▋       | 48/179 [00:11<00:28,  4.52it/s]"
     ]
    },
    {
     "name": "stdout",
     "output_type": "stream",
     "text": [
      "full_mention:  China\n",
      "full_mention Matched Value:  None 0.0\n"
     ]
    },
    {
     "name": "stderr",
     "output_type": "stream",
     "text": [
      "\r",
      " 27%|██▋       | 49/179 [00:11<00:29,  4.34it/s]"
     ]
    },
    {
     "name": "stdout",
     "output_type": "stream",
     "text": [
      "full_mention:  Taiwan\n",
      "full_mention Matched Value:  None 0.0\n"
     ]
    },
    {
     "name": "stderr",
     "output_type": "stream",
     "text": [
      "\r",
      " 28%|██▊       | 50/179 [00:11<00:28,  4.48it/s]"
     ]
    },
    {
     "name": "stdout",
     "output_type": "stream",
     "text": [
      "full_mention:  BEIJING\n",
      "full_mention Matched Value:  None 0.0\n"
     ]
    },
    {
     "name": "stderr",
     "output_type": "stream",
     "text": [
      "\r",
      " 28%|██▊       | 51/179 [00:11<00:28,  4.54it/s]"
     ]
    },
    {
     "name": "stdout",
     "output_type": "stream",
     "text": [
      "full_mention:  China\n",
      "full_mention Matched Value:  None 0.0\n"
     ]
    },
    {
     "name": "stderr",
     "output_type": "stream",
     "text": [
      "\r",
      " 29%|██▉       | 52/179 [00:12<00:29,  4.26it/s]"
     ]
    },
    {
     "name": "stdout",
     "output_type": "stream",
     "text": [
      "full_mention:  Taipei\n",
      "full_mention Matched Value:  None 0.0\n"
     ]
    },
    {
     "name": "stderr",
     "output_type": "stream",
     "text": [
      "\r",
      " 30%|██▉       | 53/179 [00:12<00:29,  4.26it/s]"
     ]
    },
    {
     "name": "stdout",
     "output_type": "stream",
     "text": [
      "full_mention:  Taiwan Strait\n",
      "full_mention Matched Value:  None 0.0\n"
     ]
    },
    {
     "name": "stderr",
     "output_type": "stream",
     "text": [
      "\r",
      " 30%|███       | 54/179 [00:12<00:28,  4.38it/s]"
     ]
    },
    {
     "name": "stdout",
     "output_type": "stream",
     "text": [
      "full_mention:  Taiwan Strait\n",
      "full_mention Matched Value:  None 0.0\n"
     ]
    },
    {
     "name": "stderr",
     "output_type": "stream",
     "text": [
      "\r",
      " 31%|███       | 55/179 [00:12<00:27,  4.50it/s]"
     ]
    },
    {
     "name": "stdout",
     "output_type": "stream",
     "text": [
      "full_mention:  Ukraine\n",
      "full_mention Matched Value:  None 0.0\n"
     ]
    },
    {
     "name": "stderr",
     "output_type": "stream",
     "text": [
      " 32%|███▏      | 57/179 [00:13<00:26,  4.69it/s]"
     ]
    },
    {
     "name": "stdout",
     "output_type": "stream",
     "text": [
      "full_mention:  Taiwanese\n",
      "full_mention Matched Value:  None 0.0\n",
      "full_mention:  Lien Chan\n",
      "full_mention Matched Value:  None 0.0\n"
     ]
    },
    {
     "name": "stderr",
     "output_type": "stream",
     "text": [
      "\r",
      " 32%|███▏      | 58/179 [00:13<00:25,  4.75it/s]"
     ]
    },
    {
     "name": "stdout",
     "output_type": "stream",
     "text": [
      "full_mention:  Lien Chan\n",
      "full_mention Matched Value:  None 0.0\n"
     ]
    },
    {
     "name": "stderr",
     "output_type": "stream",
     "text": [
      "\r",
      " 33%|███▎      | 59/179 [00:13<00:25,  4.65it/s]"
     ]
    },
    {
     "name": "stdout",
     "output_type": "stream",
     "text": [
      "full_mention:  Beijing\n",
      "full_mention Matched Value:  None 0.0\n"
     ]
    },
    {
     "name": "stderr",
     "output_type": "stream",
     "text": [
      "\r",
      " 34%|███▎      | 60/179 [00:13<00:25,  4.65it/s]"
     ]
    },
    {
     "name": "stdout",
     "output_type": "stream",
     "text": [
      "full_mention:  Chinese\n",
      "full_mention Matched Value:  None 0.0\n"
     ]
    },
    {
     "name": "stderr",
     "output_type": "stream",
     "text": [
      "\r",
      " 34%|███▍      | 61/179 [00:13<00:25,  4.71it/s]"
     ]
    },
    {
     "name": "stdout",
     "output_type": "stream",
     "text": [
      "full_mention:  Taiwan\n",
      "full_mention Matched Value:  None 0.0\n"
     ]
    },
    {
     "name": "stderr",
     "output_type": "stream",
     "text": [
      "\r",
      " 35%|███▍      | 62/179 [00:14<00:24,  4.72it/s]"
     ]
    },
    {
     "name": "stdout",
     "output_type": "stream",
     "text": [
      "full_mention:  Foreign Ministry\n",
      "full_mention Matched Value:  None 0.0\n"
     ]
    },
    {
     "name": "stderr",
     "output_type": "stream",
     "text": [
      "\r",
      " 35%|███▌      | 63/179 [00:14<00:24,  4.72it/s]"
     ]
    },
    {
     "name": "stdout",
     "output_type": "stream",
     "text": [
      "full_mention:  Foreign Ministry\n",
      "full_mention Matched Value:  None 0.0\n"
     ]
    },
    {
     "name": "stderr",
     "output_type": "stream",
     "text": [
      "\r",
      " 36%|███▌      | 64/179 [00:14<00:24,  4.73it/s]"
     ]
    },
    {
     "name": "stdout",
     "output_type": "stream",
     "text": [
      "full_mention:  China\n",
      "full_mention Matched Value:  None 0.0\n"
     ]
    },
    {
     "name": "stderr",
     "output_type": "stream",
     "text": [
      " 37%|███▋      | 66/179 [00:15<00:23,  4.81it/s]"
     ]
    },
    {
     "name": "stdout",
     "output_type": "stream",
     "text": [
      "full_mention:  Taipei\n",
      "full_mention Matched Value:  None 0.0\n",
      "full_mention:  Taiwan\n",
      "full_mention Matched Value:  None 0.0\n"
     ]
    },
    {
     "name": "stderr",
     "output_type": "stream",
     "text": [
      "\r",
      " 37%|███▋      | 67/179 [00:15<00:23,  4.83it/s]"
     ]
    },
    {
     "name": "stdout",
     "output_type": "stream",
     "text": [
      "full_mention:  Reuters Television\n",
      "full_mention Matched Value:  None 0.0\n"
     ]
    },
    {
     "name": "stderr",
     "output_type": "stream",
     "text": [
      "\r",
      " 38%|███▊      | 68/179 [00:15<00:22,  4.85it/s]"
     ]
    },
    {
     "name": "stdout",
     "output_type": "stream",
     "text": [
      "full_mention:  Reuters Television\n",
      "full_mention Matched Value:  None 0.0\n"
     ]
    },
    {
     "name": "stderr",
     "output_type": "stream",
     "text": [
      " 39%|███▉      | 70/179 [00:15<00:22,  4.81it/s]"
     ]
    },
    {
     "name": "stdout",
     "output_type": "stream",
     "text": [
      "full_mention:  Taiwan\n",
      "full_mention Matched Value:  None 0.0\n",
      "full_mention:  Beijing\n",
      "full_mention Matched Value:  None 0.0\n"
     ]
    },
    {
     "name": "stderr",
     "output_type": "stream",
     "text": [
      "\r",
      " 40%|███▉      | 71/179 [00:16<00:22,  4.85it/s]"
     ]
    },
    {
     "name": "stdout",
     "output_type": "stream",
     "text": [
      "full_mention:  China\n",
      "full_mention Matched Value:  None 0.0\n"
     ]
    },
    {
     "name": "stderr",
     "output_type": "stream",
     "text": [
      " 41%|████      | 73/179 [00:16<00:21,  4.88it/s]"
     ]
    },
    {
     "name": "stdout",
     "output_type": "stream",
     "text": [
      "full_mention:  Taipei\n",
      "full_mention Matched Value:  None 0.0\n",
      "full_mention:  Ukraine\n",
      "full_mention Matched Value:  None 0.0\n"
     ]
    },
    {
     "name": "stderr",
     "output_type": "stream",
     "text": [
      "\r",
      " 41%|████▏     | 74/179 [00:16<00:21,  4.83it/s]"
     ]
    },
    {
     "name": "stdout",
     "output_type": "stream",
     "text": [
      "full_mention:  Taiwanese\n",
      "full_mention Matched Value:  None 0.0\n"
     ]
    },
    {
     "name": "stderr",
     "output_type": "stream",
     "text": [
      "\r",
      " 42%|████▏     | 75/179 [00:16<00:21,  4.82it/s]"
     ]
    },
    {
     "name": "stdout",
     "output_type": "stream",
     "text": [
      "full_mention:  China\n",
      "full_mention Matched Value:  None 0.0\n"
     ]
    },
    {
     "name": "stderr",
     "output_type": "stream",
     "text": [
      "\r",
      " 42%|████▏     | 76/179 [00:17<00:21,  4.82it/s]"
     ]
    },
    {
     "name": "stdout",
     "output_type": "stream",
     "text": [
      "full_mention:  Taiwan\n",
      "full_mention Matched Value:  None 0.0\n"
     ]
    },
    {
     "name": "stderr",
     "output_type": "stream",
     "text": [
      "\r",
      " 43%|████▎     | 77/179 [00:17<00:21,  4.80it/s]"
     ]
    },
    {
     "name": "stdout",
     "output_type": "stream",
     "text": [
      "full_mention:  BEIJING\n",
      "full_mention Matched Value:  None 0.0\n"
     ]
    },
    {
     "name": "stderr",
     "output_type": "stream",
     "text": [
      "\r",
      " 44%|████▎     | 78/179 [00:17<00:21,  4.71it/s]"
     ]
    },
    {
     "name": "stdout",
     "output_type": "stream",
     "text": [
      "full_mention:  China\n",
      "full_mention Matched Value:  None 0.0\n"
     ]
    },
    {
     "name": "stderr",
     "output_type": "stream",
     "text": [
      "\r",
      " 44%|████▍     | 79/179 [00:17<00:22,  4.49it/s]"
     ]
    },
    {
     "name": "stdout",
     "output_type": "stream",
     "text": [
      "full_mention:  Taiwan\n",
      "full_mention Matched Value:  None 0.0\n"
     ]
    },
    {
     "name": "stderr",
     "output_type": "stream",
     "text": [
      "\r",
      " 45%|████▍     | 80/179 [00:17<00:22,  4.49it/s]"
     ]
    },
    {
     "name": "stdout",
     "output_type": "stream",
     "text": [
      "full_mention:  Xinhua\n",
      "full_mention Matched Value:  None 0.0\n"
     ]
    },
    {
     "name": "stderr",
     "output_type": "stream",
     "text": [
      "\r",
      " 45%|████▌     | 81/179 [00:18<00:21,  4.56it/s]"
     ]
    },
    {
     "name": "stdout",
     "output_type": "stream",
     "text": [
      "full_mention:  Association for Relations Across the Taiwan Straits\n",
      "full_mention Matched Value:  None 0.0\n"
     ]
    },
    {
     "name": "stderr",
     "output_type": "stream",
     "text": [
      "\r",
      " 46%|████▌     | 82/179 [00:18<00:21,  4.60it/s]"
     ]
    },
    {
     "name": "stdout",
     "output_type": "stream",
     "text": [
      "full_mention:  Association for Relations Across the Taiwan Straits\n",
      "full_mention Matched Value:  None 0.0\n"
     ]
    },
    {
     "name": "stderr",
     "output_type": "stream",
     "text": [
      "\r",
      " 46%|████▋     | 83/179 [00:18<00:20,  4.59it/s]"
     ]
    },
    {
     "name": "stdout",
     "output_type": "stream",
     "text": [
      "full_mention:  Association for Relations Across the Taiwan Straits\n",
      "full_mention Matched Value:  None 0.0\n"
     ]
    },
    {
     "name": "stderr",
     "output_type": "stream",
     "text": [
      "\r",
      " 47%|████▋     | 84/179 [00:18<00:20,  4.62it/s]"
     ]
    },
    {
     "name": "stdout",
     "output_type": "stream",
     "text": [
      "full_mention:  Association for Relations Across the Taiwan Straits\n",
      "full_mention Matched Value:  None 0.0\n"
     ]
    },
    {
     "name": "stderr",
     "output_type": "stream",
     "text": [
      "\r",
      " 47%|████▋     | 85/179 [00:19<00:20,  4.64it/s]"
     ]
    },
    {
     "name": "stdout",
     "output_type": "stream",
     "text": [
      "full_mention:  Association for Relations Across the Taiwan Straits\n",
      "full_mention Matched Value:  None 0.0\n"
     ]
    },
    {
     "name": "stderr",
     "output_type": "stream",
     "text": [
      "\r",
      " 48%|████▊     | 86/179 [00:19<00:20,  4.63it/s]"
     ]
    },
    {
     "name": "stdout",
     "output_type": "stream",
     "text": [
      "full_mention:  Association for Relations Across the Taiwan Straits\n",
      "full_mention Matched Value:  None 0.0\n"
     ]
    },
    {
     "name": "stderr",
     "output_type": "stream",
     "text": [
      "\r",
      " 49%|████▊     | 87/179 [00:19<00:19,  4.66it/s]"
     ]
    },
    {
     "name": "stdout",
     "output_type": "stream",
     "text": [
      "full_mention:  Association for Relations Across the Taiwan Straits\n",
      "full_mention Matched Value:  None 0.0\n"
     ]
    },
    {
     "name": "stderr",
     "output_type": "stream",
     "text": [
      "\r",
      " 49%|████▉     | 88/179 [00:19<00:19,  4.65it/s]"
     ]
    },
    {
     "name": "stdout",
     "output_type": "stream",
     "text": [
      "full_mention:  German\n",
      "full_mention Matched Value:  None 0.0\n"
     ]
    },
    {
     "name": "stderr",
     "output_type": "stream",
     "text": [
      "\r",
      " 50%|████▉     | 89/179 [00:19<00:19,  4.57it/s]"
     ]
    },
    {
     "name": "stdout",
     "output_type": "stream",
     "text": [
      "full_mention:  FRANKFURT\n",
      "full_mention Matched Value:  None 0.0\n"
     ]
    },
    {
     "name": "stderr",
     "output_type": "stream",
     "text": [
      "\r",
      " 50%|█████     | 90/179 [00:20<00:19,  4.60it/s]"
     ]
    },
    {
     "name": "stdout",
     "output_type": "stream",
     "text": [
      "full_mention:  German\n",
      "full_mention Matched Value:  None 0.0\n"
     ]
    },
    {
     "name": "stderr",
     "output_type": "stream",
     "text": [
      "\r",
      " 51%|█████     | 91/179 [00:20<00:19,  4.63it/s]"
     ]
    },
    {
     "name": "stdout",
     "output_type": "stream",
     "text": [
      "full_mention:  Germans\n",
      "full_mention Matched Value:  None 0.0\n"
     ]
    },
    {
     "name": "stderr",
     "output_type": "stream",
     "text": [
      "\r",
      " 51%|█████▏    | 92/179 [00:20<00:18,  4.67it/s]"
     ]
    },
    {
     "name": "stdout",
     "output_type": "stream",
     "text": [
      "full_mention:  German\n",
      "full_mention Matched Value:  None 0.0\n"
     ]
    },
    {
     "name": "stderr",
     "output_type": "stream",
     "text": [
      "\r",
      " 52%|█████▏    | 93/179 [00:20<00:18,  4.67it/s]"
     ]
    },
    {
     "name": "stdout",
     "output_type": "stream",
     "text": [
      "full_mention:  German\n",
      "full_mention Matched Value:  None 0.0\n"
     ]
    },
    {
     "name": "stderr",
     "output_type": "stream",
     "text": [
      "\r",
      " 53%|█████▎    | 94/179 [00:21<00:18,  4.63it/s]"
     ]
    },
    {
     "name": "stdout",
     "output_type": "stream",
     "text": [
      "full_mention:  Volkswagen AG\n",
      "full_mention Matched Value:  None 0.0\n"
     ]
    },
    {
     "name": "stderr",
     "output_type": "stream",
     "text": [
      "\r",
      " 53%|█████▎    | 95/179 [00:21<00:17,  4.69it/s]"
     ]
    },
    {
     "name": "stdout",
     "output_type": "stream",
     "text": [
      "full_mention:  Volkswagen AG\n",
      "full_mention Matched Value:  None 0.0\n"
     ]
    },
    {
     "name": "stderr",
     "output_type": "stream",
     "text": [
      "\r",
      " 54%|█████▎    | 96/179 [00:21<00:17,  4.70it/s]"
     ]
    },
    {
     "name": "stdout",
     "output_type": "stream",
     "text": [
      "full_mention:  Opel AG\n",
      "full_mention Matched Value:  None 0.0\n"
     ]
    },
    {
     "name": "stderr",
     "output_type": "stream",
     "text": [
      "\r",
      " 54%|█████▍    | 97/179 [00:21<00:17,  4.73it/s]"
     ]
    },
    {
     "name": "stdout",
     "output_type": "stream",
     "text": [
      "full_mention:  Opel AG\n",
      "full_mention Matched Value:  None 0.0\n"
     ]
    },
    {
     "name": "stderr",
     "output_type": "stream",
     "text": [
      "\r",
      " 55%|█████▍    | 98/179 [00:21<00:16,  4.78it/s]"
     ]
    },
    {
     "name": "stdout",
     "output_type": "stream",
     "text": [
      "full_mention:  General Motors\n",
      "full_mention Matched Value:  None 0.0\n"
     ]
    },
    {
     "name": "stderr",
     "output_type": "stream",
     "text": [
      "\r",
      " 55%|█████▌    | 99/179 [00:22<00:16,  4.80it/s]"
     ]
    },
    {
     "name": "stdout",
     "output_type": "stream",
     "text": [
      "full_mention:  General Motors\n",
      "full_mention Matched Value:  None 0.0\n"
     ]
    },
    {
     "name": "stderr",
     "output_type": "stream",
     "text": [
      "\r",
      " 56%|█████▌    | 100/179 [00:22<00:16,  4.79it/s]"
     ]
    },
    {
     "name": "stdout",
     "output_type": "stream",
     "text": [
      "full_mention:  Ford\n",
      "full_mention Matched Value:  None 0.0\n"
     ]
    },
    {
     "name": "stderr",
     "output_type": "stream",
     "text": [
      "\r",
      " 56%|█████▋    | 101/179 [00:22<00:16,  4.68it/s]"
     ]
    },
    {
     "name": "stdout",
     "output_type": "stream",
     "text": [
      "full_mention:  Porsche\n",
      "full_mention Matched Value:  None 0.0\n"
     ]
    },
    {
     "name": "stderr",
     "output_type": "stream",
     "text": [
      "\r",
      " 57%|█████▋    | 102/179 [00:22<00:16,  4.72it/s]"
     ]
    },
    {
     "name": "stdout",
     "output_type": "stream",
     "text": [
      "full_mention:  Porsche\n",
      "full_mention Matched Value:  None 0.0\n"
     ]
    },
    {
     "name": "stderr",
     "output_type": "stream",
     "text": [
      "\r",
      " 58%|█████▊    | 103/179 [00:22<00:16,  4.71it/s]"
     ]
    },
    {
     "name": "stdout",
     "output_type": "stream",
     "text": [
      "full_mention:  GREEK\n",
      "full_mention Matched Value:  None 0.0\n"
     ]
    },
    {
     "name": "stderr",
     "output_type": "stream",
     "text": [
      "\r",
      " 58%|█████▊    | 104/179 [00:23<00:16,  4.62it/s]"
     ]
    },
    {
     "name": "stdout",
     "output_type": "stream",
     "text": [
      "full_mention:  ATHENS\n",
      "full_mention Matched Value:  None 0.0\n"
     ]
    },
    {
     "name": "stderr",
     "output_type": "stream",
     "text": [
      "\r",
      " 59%|█████▊    | 105/179 [00:23<00:16,  4.62it/s]"
     ]
    },
    {
     "name": "stdout",
     "output_type": "stream",
     "text": [
      "full_mention:  Greek\n",
      "full_mention Matched Value:  None 0.0\n"
     ]
    },
    {
     "name": "stderr",
     "output_type": "stream",
     "text": [
      "\r",
      " 59%|█████▉    | 106/179 [00:23<00:15,  4.57it/s]"
     ]
    },
    {
     "name": "stdout",
     "output_type": "stream",
     "text": [
      "full_mention:  Costas Simitis\n",
      "full_mention Matched Value:  None 0.0\n"
     ]
    },
    {
     "name": "stderr",
     "output_type": "stream",
     "text": [
      "\r",
      " 60%|█████▉    | 107/179 [00:23<00:15,  4.60it/s]"
     ]
    },
    {
     "name": "stdout",
     "output_type": "stream",
     "text": [
      "full_mention:  Costas Simitis\n",
      "full_mention Matched Value:  None 0.0\n"
     ]
    },
    {
     "name": "stderr",
     "output_type": "stream",
     "text": [
      "\r",
      " 60%|██████    | 108/179 [00:23<00:15,  4.64it/s]"
     ]
    },
    {
     "name": "stdout",
     "output_type": "stream",
     "text": [
      "full_mention:  Costas Skandalidis\n",
      "full_mention Matched Value:  None 0.0\n"
     ]
    },
    {
     "name": "stderr",
     "output_type": "stream",
     "text": [
      "\r",
      " 61%|██████    | 109/179 [00:24<00:16,  4.21it/s]"
     ]
    },
    {
     "name": "stdout",
     "output_type": "stream",
     "text": [
      "full_mention:  Costas Skandalidis\n",
      "full_mention Matched Value:  None 0.0\n"
     ]
    },
    {
     "name": "stderr",
     "output_type": "stream",
     "text": [
      "\r",
      " 61%|██████▏   | 110/179 [00:24<00:15,  4.37it/s]"
     ]
    },
    {
     "name": "stdout",
     "output_type": "stream",
     "text": [
      "full_mention:  Costas Simitis\n",
      "full_mention Matched Value:  None 0.0\n"
     ]
    },
    {
     "name": "stderr",
     "output_type": "stream",
     "text": [
      "\r",
      " 62%|██████▏   | 111/179 [00:24<00:15,  4.49it/s]"
     ]
    },
    {
     "name": "stdout",
     "output_type": "stream",
     "text": [
      "full_mention:  Costas Simitis\n",
      "full_mention Matched Value:  None 0.0\n"
     ]
    },
    {
     "name": "stderr",
     "output_type": "stream",
     "text": [
      "\r",
      " 63%|██████▎   | 112/179 [00:24<00:15,  4.38it/s]"
     ]
    },
    {
     "name": "stdout",
     "output_type": "stream",
     "text": [
      "full_mention:  LONDON\n",
      "full_mention Matched Value:  None 0.0\n"
     ]
    },
    {
     "name": "stderr",
     "output_type": "stream",
     "text": [
      " 64%|██████▎   | 114/179 [00:25<00:14,  4.63it/s]"
     ]
    },
    {
     "name": "stdout",
     "output_type": "stream",
     "text": [
      "full_mention:  BAYERISCHE VEREINSBANK\n",
      "full_mention Matched Value:  None 0.0\n",
      "full_mention:  BAYERISCHE VEREINSBANK\n",
      "full_mention Matched Value:  None 0.0\n"
     ]
    },
    {
     "name": "stderr",
     "output_type": "stream",
     "text": [
      " 65%|██████▍   | 116/179 [00:25<00:13,  4.82it/s]"
     ]
    },
    {
     "name": "stdout",
     "output_type": "stream",
     "text": [
      "full_mention:  GERMAN\n",
      "full_mention Matched Value:  None 0.0\n",
      "full_mention:  BAYERISCHE VEREINSBANK\n",
      "full_mention Matched Value:  None 0.0\n"
     ]
    },
    {
     "name": "stderr",
     "output_type": "stream",
     "text": [
      "\r",
      " 65%|██████▌   | 117/179 [00:25<00:12,  4.86it/s]"
     ]
    },
    {
     "name": "stdout",
     "output_type": "stream",
     "text": [
      "full_mention:  BAYERISCHE VEREINSBANK\n",
      "full_mention Matched Value:  None 0.0\n"
     ]
    },
    {
     "name": "stderr",
     "output_type": "stream",
     "text": [
      "\r",
      " 66%|██████▌   | 118/179 [00:26<00:12,  4.87it/s]"
     ]
    },
    {
     "name": "stdout",
     "output_type": "stream",
     "text": [
      "full_mention:  LONDON\n",
      "full_mention Matched Value:  None 0.0\n"
     ]
    },
    {
     "name": "stderr",
     "output_type": "stream",
     "text": [
      "\r",
      " 66%|██████▋   | 119/179 [00:26<00:12,  4.90it/s]"
     ]
    },
    {
     "name": "stdout",
     "output_type": "stream",
     "text": [
      "full_mention:  SWEDISH\n",
      "full_mention Matched Value:  None 0.0\n"
     ]
    },
    {
     "name": "stderr",
     "output_type": "stream",
     "text": [
      "\r",
      " 67%|██████▋   | 120/179 [00:26<00:12,  4.87it/s]"
     ]
    },
    {
     "name": "stdout",
     "output_type": "stream",
     "text": [
      "full_mention:  LONDON\n",
      "full_mention Matched Value:  None 0.0\n"
     ]
    },
    {
     "name": "stderr",
     "output_type": "stream",
     "text": [
      "\r",
      " 68%|██████▊   | 121/179 [00:26<00:11,  4.86it/s]"
     ]
    },
    {
     "name": "stdout",
     "output_type": "stream",
     "text": [
      "full_mention:  ENGLISH\n",
      "full_mention Matched Value:  None 0.0\n"
     ]
    },
    {
     "name": "stderr",
     "output_type": "stream",
     "text": [
      "\r",
      " 68%|██████▊   | 122/179 [00:26<00:11,  4.87it/s]"
     ]
    },
    {
     "name": "stdout",
     "output_type": "stream",
     "text": [
      "full_mention:  SWEDEN\n",
      "full_mention Matched Value:  None 0.0\n"
     ]
    },
    {
     "name": "stderr",
     "output_type": "stream",
     "text": [
      "\r",
      " 69%|██████▊   | 123/179 [00:27<00:11,  4.81it/s]"
     ]
    },
    {
     "name": "stdout",
     "output_type": "stream",
     "text": [
      "full_mention:  Syria\n",
      "full_mention Matched Value:  None 0.0\n"
     ]
    },
    {
     "name": "stderr",
     "output_type": "stream",
     "text": [
      "\r",
      " 69%|██████▉   | 124/179 [00:27<00:11,  4.69it/s]"
     ]
    },
    {
     "name": "stdout",
     "output_type": "stream",
     "text": [
      "full_mention:  Tartous\n",
      "full_mention Matched Value:  None 0.0\n"
     ]
    },
    {
     "name": "stderr",
     "output_type": "stream",
     "text": [
      "\r",
      " 70%|██████▉   | 125/179 [00:27<00:11,  4.62it/s]"
     ]
    },
    {
     "name": "stdout",
     "output_type": "stream",
     "text": [
      "full_mention:  Israel\n",
      "full_mention Matched Value:  None 0.0\n"
     ]
    },
    {
     "name": "stderr",
     "output_type": "stream",
     "text": [
      "\r",
      " 70%|███████   | 126/179 [00:27<00:11,  4.64it/s]"
     ]
    },
    {
     "name": "stdout",
     "output_type": "stream",
     "text": [
      "full_mention:  Syria\n",
      "full_mention Matched Value:  None 0.0\n"
     ]
    },
    {
     "name": "stderr",
     "output_type": "stream",
     "text": [
      "\r",
      " 71%|███████   | 127/179 [00:28<00:11,  4.66it/s]"
     ]
    },
    {
     "name": "stdout",
     "output_type": "stream",
     "text": [
      "full_mention:  JERUSALEM\n",
      "full_mention Matched Value:  None 0.0\n"
     ]
    },
    {
     "name": "stderr",
     "output_type": "stream",
     "text": [
      "\r",
      " 72%|███████▏  | 128/179 [00:28<00:11,  4.62it/s]"
     ]
    },
    {
     "name": "stdout",
     "output_type": "stream",
     "text": [
      "full_mention:  Israel\n",
      "full_mention Matched Value:  None 0.0\n"
     ]
    },
    {
     "name": "stderr",
     "output_type": "stream",
     "text": [
      "\r",
      " 72%|███████▏  | 129/179 [00:28<00:10,  4.65it/s]"
     ]
    },
    {
     "name": "stdout",
     "output_type": "stream",
     "text": [
      "full_mention:  Syria\n",
      "full_mention Matched Value:  None 0.0\n"
     ]
    },
    {
     "name": "stderr",
     "output_type": "stream",
     "text": [
      " 73%|███████▎  | 131/179 [00:28<00:10,  4.80it/s]"
     ]
    },
    {
     "name": "stdout",
     "output_type": "stream",
     "text": [
      "full_mention:  Itamar Rabinovich\n",
      "full_mention Matched Value:  None 0.0\n",
      "full_mention:  Itamar Rabinovich\n",
      "full_mention Matched Value:  None 0.0\n"
     ]
    },
    {
     "name": "stderr",
     "output_type": "stream",
     "text": [
      "\r",
      " 74%|███████▎  | 132/179 [00:29<00:09,  4.77it/s]"
     ]
    },
    {
     "name": "stdout",
     "output_type": "stream",
     "text": [
      "full_mention:  Israel\n",
      "full_mention Matched Value:  None 0.0\n"
     ]
    },
    {
     "name": "stderr",
     "output_type": "stream",
     "text": [
      "\r",
      " 74%|███████▍  | 133/179 [00:29<00:09,  4.69it/s]"
     ]
    },
    {
     "name": "stdout",
     "output_type": "stream",
     "text": [
      "full_mention:  Washington\n",
      "full_mention Matched Value:  None 0.0\n"
     ]
    },
    {
     "name": "stderr",
     "output_type": "stream",
     "text": [
      "\r",
      " 75%|███████▍  | 134/179 [00:29<00:09,  4.69it/s]"
     ]
    },
    {
     "name": "stdout",
     "output_type": "stream",
     "text": [
      "full_mention:  Syria\n",
      "full_mention Matched Value:  None 0.0\n"
     ]
    },
    {
     "name": "stderr",
     "output_type": "stream",
     "text": [
      "\r",
      " 75%|███████▌  | 135/179 [00:29<00:09,  4.73it/s]"
     ]
    },
    {
     "name": "stdout",
     "output_type": "stream",
     "text": [
      "full_mention:  Israel Radio\n",
      "full_mention Matched Value:  None 0.0\n"
     ]
    },
    {
     "name": "stderr",
     "output_type": "stream",
     "text": [
      "\r",
      " 76%|███████▌  | 136/179 [00:29<00:09,  4.76it/s]"
     ]
    },
    {
     "name": "stdout",
     "output_type": "stream",
     "text": [
      "full_mention:  Israel Radio\n",
      "full_mention Matched Value:  None 0.0\n"
     ]
    },
    {
     "name": "stderr",
     "output_type": "stream",
     "text": [
      "\r",
      " 77%|███████▋  | 137/179 [00:30<00:08,  4.76it/s]"
     ]
    },
    {
     "name": "stdout",
     "output_type": "stream",
     "text": [
      "full_mention:  Damascus\n",
      "full_mention Matched Value:  None 0.0\n"
     ]
    },
    {
     "name": "stderr",
     "output_type": "stream",
     "text": [
      "\r",
      " 77%|███████▋  | 138/179 [00:30<00:08,  4.65it/s]"
     ]
    },
    {
     "name": "stdout",
     "output_type": "stream",
     "text": [
      "full_mention:  Rabinovich\n",
      "full_mention Matched Value:  None 0.0\n"
     ]
    },
    {
     "name": "stderr",
     "output_type": "stream",
     "text": [
      "\r",
      " 78%|███████▊  | 139/179 [00:30<00:08,  4.71it/s]"
     ]
    },
    {
     "name": "stdout",
     "output_type": "stream",
     "text": [
      "full_mention:  Eliahu Ben-Elissar\n",
      "full_mention Matched Value:  None 0.0\n"
     ]
    },
    {
     "name": "stderr",
     "output_type": "stream",
     "text": [
      "\r",
      " 78%|███████▊  | 140/179 [00:30<00:08,  4.74it/s]"
     ]
    },
    {
     "name": "stdout",
     "output_type": "stream",
     "text": [
      "full_mention:  Eliahu Ben-Elissar\n",
      "full_mention Matched Value:  None 0.0\n"
     ]
    },
    {
     "name": "stderr",
     "output_type": "stream",
     "text": [
      "\r",
      " 79%|███████▉  | 141/179 [00:31<00:07,  4.76it/s]"
     ]
    },
    {
     "name": "stdout",
     "output_type": "stream",
     "text": [
      "full_mention:  Israeli\n",
      "full_mention Matched Value:  None 0.0\n"
     ]
    },
    {
     "name": "stderr",
     "output_type": "stream",
     "text": [
      "\r",
      " 79%|███████▉  | 142/179 [00:31<00:07,  4.77it/s]"
     ]
    },
    {
     "name": "stdout",
     "output_type": "stream",
     "text": [
      "full_mention:  Egypt\n",
      "full_mention Matched Value:  None 0.0\n"
     ]
    },
    {
     "name": "stderr",
     "output_type": "stream",
     "text": [
      "\r",
      " 80%|███████▉  | 143/179 [00:31<00:07,  4.72it/s]"
     ]
    },
    {
     "name": "stdout",
     "output_type": "stream",
     "text": [
      "full_mention:  Likud\n",
      "full_mention Matched Value:  None 0.0\n"
     ]
    },
    {
     "name": "stderr",
     "output_type": "stream",
     "text": [
      "\r",
      " 80%|████████  | 144/179 [00:31<00:07,  4.66it/s]"
     ]
    },
    {
     "name": "stdout",
     "output_type": "stream",
     "text": [
      "full_mention:  Israel\n",
      "full_mention Matched Value:  None 0.0\n"
     ]
    },
    {
     "name": "stderr",
     "output_type": "stream",
     "text": [
      "\r",
      " 81%|████████  | 145/179 [00:31<00:07,  4.71it/s]"
     ]
    },
    {
     "name": "stdout",
     "output_type": "stream",
     "text": [
      "full_mention:  Syria\n",
      "full_mention Matched Value:  None 0.0\n"
     ]
    },
    {
     "name": "stderr",
     "output_type": "stream",
     "text": [
      "\r",
      " 82%|████████▏ | 146/179 [00:32<00:06,  4.73it/s]"
     ]
    },
    {
     "name": "stdout",
     "output_type": "stream",
     "text": [
      "full_mention:  Washington\n",
      "full_mention Matched Value:  None 0.0\n"
     ]
    },
    {
     "name": "stderr",
     "output_type": "stream",
     "text": [
      "\r",
      " 82%|████████▏ | 147/179 [00:32<00:06,  4.70it/s]"
     ]
    },
    {
     "name": "stdout",
     "output_type": "stream",
     "text": [
      "full_mention:  Damascus\n",
      "full_mention Matched Value:  None 0.0\n"
     ]
    },
    {
     "name": "stderr",
     "output_type": "stream",
     "text": [
      "\r",
      " 83%|████████▎ | 148/179 [00:32<00:06,  4.67it/s]"
     ]
    },
    {
     "name": "stdout",
     "output_type": "stream",
     "text": [
      "full_mention:  Syria\n",
      "full_mention Matched Value:  None 0.0\n"
     ]
    },
    {
     "name": "stderr",
     "output_type": "stream",
     "text": [
      "\r",
      " 83%|████████▎ | 149/179 [00:32<00:06,  4.62it/s]"
     ]
    },
    {
     "name": "stdout",
     "output_type": "stream",
     "text": [
      "full_mention:  Israel\n",
      "full_mention Matched Value:  None 0.0\n"
     ]
    },
    {
     "name": "stderr",
     "output_type": "stream",
     "text": [
      " 84%|████████▍ | 151/179 [00:33<00:05,  4.76it/s]"
     ]
    },
    {
     "name": "stdout",
     "output_type": "stream",
     "text": [
      "full_mention:  Israeli\n",
      "full_mention Matched Value:  None 0.0\n",
      "full_mention:  Damascus\n",
      "full_mention Matched Value:  None 0.0\n"
     ]
    },
    {
     "name": "stderr",
     "output_type": "stream",
     "text": [
      " 85%|████████▌ | 153/179 [00:33<00:05,  4.81it/s]"
     ]
    },
    {
     "name": "stdout",
     "output_type": "stream",
     "text": [
      "full_mention:  Israeli\n",
      "full_mention Matched Value:  None 0.0\n",
      "full_mention:  David Levy\n",
      "full_mention Matched Value:  None 0.0\n"
     ]
    },
    {
     "name": "stderr",
     "output_type": "stream",
     "text": [
      "\r",
      " 86%|████████▌ | 154/179 [00:33<00:05,  4.77it/s]"
     ]
    },
    {
     "name": "stdout",
     "output_type": "stream",
     "text": [
      "full_mention:  David Levy\n",
      "full_mention Matched Value:  None 0.0\n"
     ]
    },
    {
     "name": "stderr",
     "output_type": "stream",
     "text": [
      "\r",
      " 87%|████████▋ | 155/179 [00:33<00:05,  4.79it/s]"
     ]
    },
    {
     "name": "stdout",
     "output_type": "stream",
     "text": [
      "full_mention:  Israel Radio\n",
      "full_mention Matched Value:  None 0.0\n"
     ]
    },
    {
     "name": "stderr",
     "output_type": "stream",
     "text": [
      " 88%|████████▊ | 157/179 [00:34<00:04,  4.83it/s]"
     ]
    },
    {
     "name": "stdout",
     "output_type": "stream",
     "text": [
      "full_mention:  Israel Radio\n",
      "full_mention Matched Value:  None 0.0\n",
      "full_mention:  Israeli\n",
      "full_mention Matched Value:  None 0.0\n"
     ]
    },
    {
     "name": "stderr",
     "output_type": "stream",
     "text": [
      "\r",
      " 88%|████████▊ | 158/179 [00:34<00:04,  4.81it/s]"
     ]
    },
    {
     "name": "stdout",
     "output_type": "stream",
     "text": [
      "full_mention:  Benjamin Netanyahu\n",
      "full_mention Matched Value:  None 0.0\n"
     ]
    },
    {
     "name": "stderr",
     "output_type": "stream",
     "text": [
      "\r",
      " 89%|████████▉ | 159/179 [00:34<00:04,  4.78it/s]"
     ]
    },
    {
     "name": "stdout",
     "output_type": "stream",
     "text": [
      "full_mention:  Benjamin Netanyahu\n",
      "full_mention Matched Value:  None 0.0\n"
     ]
    },
    {
     "name": "stderr",
     "output_type": "stream",
     "text": [
      "\r",
      " 89%|████████▉ | 160/179 [00:35<00:03,  4.78it/s]"
     ]
    },
    {
     "name": "stdout",
     "output_type": "stream",
     "text": [
      "full_mention:  Golan Heights\n",
      "full_mention Matched Value:  None 0.0\n"
     ]
    },
    {
     "name": "stderr",
     "output_type": "stream",
     "text": [
      "\r",
      " 90%|████████▉ | 161/179 [00:35<00:03,  4.79it/s]"
     ]
    },
    {
     "name": "stdout",
     "output_type": "stream",
     "text": [
      "full_mention:  Golan Heights\n",
      "full_mention Matched Value:  None 0.0\n"
     ]
    },
    {
     "name": "stderr",
     "output_type": "stream",
     "text": [
      "\r",
      " 91%|█████████ | 162/179 [00:35<00:03,  4.79it/s]"
     ]
    },
    {
     "name": "stdout",
     "output_type": "stream",
     "text": [
      "full_mention:  Israel\n",
      "full_mention Matched Value:  None 0.0\n"
     ]
    },
    {
     "name": "stderr",
     "output_type": "stream",
     "text": [
      "\r",
      " 91%|█████████ | 163/179 [00:35<00:03,  4.81it/s]"
     ]
    },
    {
     "name": "stdout",
     "output_type": "stream",
     "text": [
      "full_mention:  Syria\n",
      "full_mention Matched Value:  None 0.0\n"
     ]
    },
    {
     "name": "stderr",
     "output_type": "stream",
     "text": [
      "\r",
      " 92%|█████████▏| 164/179 [00:35<00:03,  4.80it/s]"
     ]
    },
    {
     "name": "stdout",
     "output_type": "stream",
     "text": [
      "full_mention:  Middle East\n",
      "full_mention Matched Value:  None 0.0\n"
     ]
    },
    {
     "name": "stderr",
     "output_type": "stream",
     "text": [
      "\r",
      " 92%|█████████▏| 165/179 [00:36<00:02,  4.82it/s]"
     ]
    },
    {
     "name": "stdout",
     "output_type": "stream",
     "text": [
      "full_mention:  Middle East\n",
      "full_mention Matched Value:  None 0.0\n"
     ]
    },
    {
     "name": "stderr",
     "output_type": "stream",
     "text": [
      "\r",
      " 93%|█████████▎| 166/179 [00:36<00:02,  4.81it/s]"
     ]
    },
    {
     "name": "stdout",
     "output_type": "stream",
     "text": [
      "full_mention:  Golan\n",
      "full_mention Matched Value:  None 0.0\n"
     ]
    },
    {
     "name": "stderr",
     "output_type": "stream",
     "text": [
      "\r",
      " 93%|█████████▎| 167/179 [00:36<00:02,  4.80it/s]"
     ]
    },
    {
     "name": "stdout",
     "output_type": "stream",
     "text": [
      "full_mention:  Golan\n",
      "full_mention Matched Value:  None 0.0\n"
     ]
    },
    {
     "name": "stderr",
     "output_type": "stream",
     "text": [
      "\r",
      " 94%|█████████▍| 168/179 [00:36<00:02,  4.78it/s]"
     ]
    },
    {
     "name": "stdout",
     "output_type": "stream",
     "text": [
      "full_mention:  Israel\n",
      "full_mention Matched Value:  None 0.0\n"
     ]
    },
    {
     "name": "stderr",
     "output_type": "stream",
     "text": [
      " 95%|█████████▍| 170/179 [00:37<00:01,  4.79it/s]"
     ]
    },
    {
     "name": "stdout",
     "output_type": "stream",
     "text": [
      "full_mention:  Channel Two\n",
      "full_mention Matched Value:  None 0.0\n",
      "full_mention:  Channel Two\n",
      "full_mention Matched Value:  None 0.0\n"
     ]
    },
    {
     "name": "stderr",
     "output_type": "stream",
     "text": [
      "\r",
      " 96%|█████████▌| 171/179 [00:37<00:01,  4.78it/s]"
     ]
    },
    {
     "name": "stdout",
     "output_type": "stream",
     "text": [
      "full_mention:  Damascus\n",
      "full_mention Matched Value:  None 0.0\n"
     ]
    },
    {
     "name": "stderr",
     "output_type": "stream",
     "text": [
      "\r",
      " 96%|█████████▌| 172/179 [00:37<00:01,  4.70it/s]"
     ]
    },
    {
     "name": "stdout",
     "output_type": "stream",
     "text": [
      "full_mention:  Israel\n",
      "full_mention Matched Value:  None 0.0\n"
     ]
    },
    {
     "name": "stderr",
     "output_type": "stream",
     "text": [
      "\r",
      " 97%|█████████▋| 173/179 [00:37<00:01,  4.68it/s]"
     ]
    },
    {
     "name": "stdout",
     "output_type": "stream",
     "text": [
      "full_mention:  Netanyahu\n",
      "full_mention Matched Value:  None 0.0\n"
     ]
    },
    {
     "name": "stderr",
     "output_type": "stream",
     "text": [
      "\r",
      " 97%|█████████▋| 174/179 [00:37<00:01,  4.61it/s]"
     ]
    },
    {
     "name": "stdout",
     "output_type": "stream",
     "text": [
      "full_mention:  Netanyahu\n",
      "full_mention Matched Value:  None 0.0\n"
     ]
    },
    {
     "name": "stderr",
     "output_type": "stream",
     "text": [
      "\r",
      " 98%|█████████▊| 175/179 [00:38<00:00,  4.68it/s]"
     ]
    },
    {
     "name": "stdout",
     "output_type": "stream",
     "text": [
      "full_mention:  Syria\n",
      "full_mention Matched Value:  None 0.0\n"
     ]
    },
    {
     "name": "stderr",
     "output_type": "stream",
     "text": [
      "\r",
      " 98%|█████████▊| 176/179 [00:38<00:00,  4.72it/s]"
     ]
    },
    {
     "name": "stdout",
     "output_type": "stream",
     "text": [
      "full_mention:  United States\n",
      "full_mention Matched Value:  None 0.0\n"
     ]
    },
    {
     "name": "stderr",
     "output_type": "stream",
     "text": [
      "\r",
      " 99%|█████████▉| 177/179 [00:38<00:00,  4.74it/s]"
     ]
    },
    {
     "name": "stdout",
     "output_type": "stream",
     "text": [
      "full_mention:  United States\n",
      "full_mention Matched Value:  None 0.0\n"
     ]
    },
    {
     "name": "stderr",
     "output_type": "stream",
     "text": [
      "\r",
      " 99%|█████████▉| 178/179 [00:38<00:00,  4.75it/s]"
     ]
    },
    {
     "name": "stdout",
     "output_type": "stream",
     "text": [
      "full_mention:  Moscow\n",
      "full_mention Matched Value:  None 0.0\n"
     ]
    },
    {
     "name": "stderr",
     "output_type": "stream",
     "text": [
      "100%|██████████| 179/179 [00:39<00:00,  4.58it/s]"
     ]
    },
    {
     "name": "stdout",
     "output_type": "stream",
     "text": [
      "full_mention:  Polish\n",
      "full_mention Matched Value:  None 0.0\n",
      "******************************************************\n",
      "Anchor Texts Not In Wikipedia2Vec Vocabulary:  27325603\n",
      "******************************************************\n",
      "CPU times: user 37.8 s, sys: 835 ms, total: 38.6 s\n",
      "Wall time: 39.1 s\n"
     ]
    },
    {
     "name": "stderr",
     "output_type": "stream",
     "text": [
      "\n"
     ]
    }
   ],
   "source": [
    "%%time\n",
    "# Create single full_mention similarity matrix to assess computation time\n",
    "match_pct = 1\n",
    "\n",
    "# Prepare blank matrix\n",
    "w2v_similarity_title_dict = {}\n",
    "page_titles_not_found = 0\n",
    "\n",
    "# Swap between tqdm depending on if you want progress bar\n",
    "for full_mention in tqdm(x_np[:int(np.ceil(len(x_np)*0.01))]):\n",
    "# for full_mention in x_np[:int(np.ceil(len(x_np)*0.01))]:\n",
    "\n",
    "#     print(\"full_mention: \", full_mention)\n",
    "    page_title_dict = {}\n",
    "    \n",
    "# Swap between tqdm depending on if you want progress bar\n",
    "#     for page_title in tqdm(norm_page_titles[:int(np.ceil(len(at_count_df)*(match_pct/100)))]):\n",
    "    for page_title in norm_page_titles[:int(np.ceil(len(at_count_df)*(match_pct/100)))]:\n",
    "#         print(\"Anchor Text: \", page_title)\n",
    "        try:\n",
    "            full_mention_title_similarity = w2v.similarity(full_mention, page_title)\n",
    "#             print(\"full_mention-Title Similarity: \", round(full_mention_title_similarity, 5))\n",
    "            page_title_dict[page_title] = full_mention_title_similarity\n",
    "        except KeyError:\n",
    "            page_titles_not_found += 1\n",
    "#             print(KeyError, \"Page Title Not in Vocabulary\")\n",
    "    try:\n",
    "        matched_value = max(page_title_dict, key=page_title_dict.get)\n",
    "        matched_score = page_title_dict[matched_value]\n",
    "    except ValueError:\n",
    "        matched_value = None\n",
    "        matched_score = 0.\n",
    "    print(\"full_mention: \", full_mention)\n",
    "    print(\"full_mention Matched Value: \", matched_value, round(matched_score,5))\n",
    "    w2v_similarity_title_dict[full_mention] = (matched_value, matched_score)\n",
    "print(\"******************************************************\")\n",
    "print(\"Anchor Texts Not In Wikipedia2Vec Vocabulary: \", page_titles_not_found)\n",
    "print(\"******************************************************\")"
   ]
  },
  {
   "cell_type": "code",
   "execution_count": 46,
   "metadata": {
    "scrolled": true
   },
   "outputs": [
    {
     "data": {
      "text/plain": [
       "{'German': (None, 0.0),\n",
       " 'British': (None, 0.0),\n",
       " 'BRUSSELS': (None, 0.0),\n",
       " 'European Commission': (None, 0.0),\n",
       " 'Germany': (None, 0.0),\n",
       " 'European Union': (None, 0.0),\n",
       " 'Britain': (None, 0.0),\n",
       " 'Commission': (None, 0.0),\n",
       " 'Franz Fischler': (None, 0.0),\n",
       " 'France': (None, 0.0),\n",
       " 'BSE': (None, 0.0),\n",
       " 'Spanish': (None, 0.0),\n",
       " 'Loyola de Palacio': (None, 0.0),\n",
       " 'Europe': (None, 0.0),\n",
       " 'Bonn': (None, 0.0),\n",
       " 'Hendrix': (None, 0.0),\n",
       " 'LONDON': (None, 0.0),\n",
       " 'U.S.': (None, 0.0),\n",
       " 'Jimi Hendrix': (None, 0.0),\n",
       " 'London': (None, 0.0),\n",
       " 'English': (None, 0.0),\n",
       " 'Nottingham': (None, 0.0),\n",
       " 'Australian': (None, 0.0),\n",
       " 'China': (None, 0.0),\n",
       " 'Taiwan': (None, 0.0),\n",
       " 'BEIJING': (None, 0.0),\n",
       " 'Taipei': (None, 0.0),\n",
       " 'Taiwan Strait': (None, 0.0),\n",
       " 'Ukraine': (None, 0.0),\n",
       " 'Taiwanese': (None, 0.0),\n",
       " 'Lien Chan': (None, 0.0),\n",
       " 'Beijing': (None, 0.0),\n",
       " 'Chinese': (None, 0.0),\n",
       " 'Foreign Ministry': (None, 0.0),\n",
       " 'Reuters Television': (None, 0.0),\n",
       " 'Xinhua': (None, 0.0),\n",
       " 'Association for Relations Across the Taiwan Straits': (None, 0.0),\n",
       " 'FRANKFURT': (None, 0.0),\n",
       " 'Germans': (None, 0.0),\n",
       " 'Volkswagen AG': (None, 0.0),\n",
       " 'Opel AG': (None, 0.0),\n",
       " 'General Motors': (None, 0.0),\n",
       " 'Ford': (None, 0.0),\n",
       " 'Porsche': (None, 0.0),\n",
       " 'GREEK': (None, 0.0),\n",
       " 'ATHENS': (None, 0.0),\n",
       " 'Greek': (None, 0.0),\n",
       " 'Costas Simitis': (None, 0.0),\n",
       " 'Costas Skandalidis': (None, 0.0),\n",
       " 'BAYERISCHE VEREINSBANK': (None, 0.0),\n",
       " 'GERMAN': (None, 0.0),\n",
       " 'SWEDISH': (None, 0.0),\n",
       " 'ENGLISH': (None, 0.0),\n",
       " 'SWEDEN': (None, 0.0),\n",
       " 'Syria': (None, 0.0),\n",
       " 'Tartous': (None, 0.0),\n",
       " 'Israel': (None, 0.0),\n",
       " 'JERUSALEM': (None, 0.0),\n",
       " 'Itamar Rabinovich': (None, 0.0),\n",
       " 'Washington': (None, 0.0),\n",
       " 'Israel Radio': (None, 0.0),\n",
       " 'Damascus': (None, 0.0),\n",
       " 'Rabinovich': (None, 0.0),\n",
       " 'Eliahu Ben-Elissar': (None, 0.0),\n",
       " 'Israeli': (None, 0.0),\n",
       " 'Egypt': (None, 0.0),\n",
       " 'Likud': (None, 0.0),\n",
       " 'David Levy': (None, 0.0),\n",
       " 'Benjamin Netanyahu': (None, 0.0),\n",
       " 'Golan Heights': (None, 0.0),\n",
       " 'Middle East': (None, 0.0),\n",
       " 'Golan': (None, 0.0),\n",
       " 'Channel Two': (None, 0.0),\n",
       " 'Netanyahu': (None, 0.0),\n",
       " 'United States': (None, 0.0),\n",
       " 'Moscow': (None, 0.0),\n",
       " 'Polish': (None, 0.0)}"
      ]
     },
     "execution_count": 46,
     "metadata": {},
     "output_type": "execute_result"
    }
   ],
   "source": [
    "# Display generated dictionary\n",
    "w2v_similarity_title_dict"
   ]
  },
  {
   "cell_type": "code",
   "execution_count": 52,
   "metadata": {
    "scrolled": true
   },
   "outputs": [
    {
     "name": "stderr",
     "output_type": "stream",
     "text": [
      "  1%|          | 1/179 [00:04<14:00,  4.72s/it]"
     ]
    },
    {
     "name": "stdout",
     "output_type": "stream",
     "text": [
      "full_mention:  german\n",
      "full_mention Matched Value:  german 1.0\n"
     ]
    },
    {
     "name": "stderr",
     "output_type": "stream",
     "text": [
      "\r",
      "  1%|          | 2/179 [00:06<10:53,  3.69s/it]"
     ]
    },
    {
     "name": "stdout",
     "output_type": "stream",
     "text": [
      "full_mention:  british\n",
      "full_mention Matched Value:  british 1.0\n"
     ]
    },
    {
     "name": "stderr",
     "output_type": "stream",
     "text": [
      "\r",
      "  2%|▏         | 3/179 [00:07<08:43,  2.97s/it]"
     ]
    },
    {
     "name": "stdout",
     "output_type": "stream",
     "text": [
      "full_mention:  brussels\n",
      "full_mention Matched Value:  brussels 1.0\n"
     ]
    },
    {
     "name": "stderr",
     "output_type": "stream",
     "text": [
      "\r",
      "  2%|▏         | 4/179 [00:07<06:16,  2.15s/it]"
     ]
    },
    {
     "name": "stdout",
     "output_type": "stream",
     "text": [
      "full_mention:  european commission\n",
      "full_mention Matched Value:  None 0.0\n"
     ]
    },
    {
     "name": "stderr",
     "output_type": "stream",
     "text": [
      "\r",
      "  3%|▎         | 5/179 [00:07<04:33,  1.57s/it]"
     ]
    },
    {
     "name": "stdout",
     "output_type": "stream",
     "text": [
      "full_mention:  european commission\n",
      "full_mention Matched Value:  None 0.0\n"
     ]
    },
    {
     "name": "stderr",
     "output_type": "stream",
     "text": [
      "\r",
      "  3%|▎         | 6/179 [00:09<04:17,  1.49s/it]"
     ]
    },
    {
     "name": "stdout",
     "output_type": "stream",
     "text": [
      "full_mention:  german\n",
      "full_mention Matched Value:  german 1.0\n"
     ]
    },
    {
     "name": "stderr",
     "output_type": "stream",
     "text": [
      "\r",
      "  4%|▍         | 7/179 [00:10<04:08,  1.44s/it]"
     ]
    },
    {
     "name": "stdout",
     "output_type": "stream",
     "text": [
      "full_mention:  british\n",
      "full_mention Matched Value:  british 1.0\n"
     ]
    },
    {
     "name": "stderr",
     "output_type": "stream",
     "text": [
      "\r",
      "  4%|▍         | 8/179 [00:11<04:02,  1.42s/it]"
     ]
    },
    {
     "name": "stdout",
     "output_type": "stream",
     "text": [
      "full_mention:  germany\n",
      "full_mention Matched Value:  germany 1.0\n"
     ]
    },
    {
     "name": "stderr",
     "output_type": "stream",
     "text": [
      "\r",
      "  5%|▌         | 9/179 [00:11<03:00,  1.06s/it]"
     ]
    },
    {
     "name": "stdout",
     "output_type": "stream",
     "text": [
      "full_mention:  european union\n",
      "full_mention Matched Value:  None 0.0\n"
     ]
    },
    {
     "name": "stderr",
     "output_type": "stream",
     "text": [
      "\r",
      "  6%|▌         | 10/179 [00:12<02:17,  1.23it/s]"
     ]
    },
    {
     "name": "stdout",
     "output_type": "stream",
     "text": [
      "full_mention:  european union\n",
      "full_mention Matched Value:  None 0.0\n"
     ]
    },
    {
     "name": "stderr",
     "output_type": "stream",
     "text": [
      "\r",
      "  6%|▌         | 11/179 [00:13<02:41,  1.04it/s]"
     ]
    },
    {
     "name": "stdout",
     "output_type": "stream",
     "text": [
      "full_mention:  britain\n",
      "full_mention Matched Value:  britain 1.0\n"
     ]
    },
    {
     "name": "stderr",
     "output_type": "stream",
     "text": [
      "\r",
      "  7%|▋         | 12/179 [00:14<02:58,  1.07s/it]"
     ]
    },
    {
     "name": "stdout",
     "output_type": "stream",
     "text": [
      "full_mention:  commission\n",
      "full_mention Matched Value:  commission 1.0\n"
     ]
    },
    {
     "name": "stderr",
     "output_type": "stream",
     "text": [
      "\r",
      "  7%|▋         | 13/179 [00:15<02:15,  1.23it/s]"
     ]
    },
    {
     "name": "stdout",
     "output_type": "stream",
     "text": [
      "full_mention:  european union\n",
      "full_mention Matched Value:  None 0.0\n"
     ]
    },
    {
     "name": "stderr",
     "output_type": "stream",
     "text": [
      "\r",
      "  8%|▊         | 14/179 [00:15<01:45,  1.57it/s]"
     ]
    },
    {
     "name": "stdout",
     "output_type": "stream",
     "text": [
      "full_mention:  european union\n",
      "full_mention Matched Value:  None 0.0\n"
     ]
    },
    {
     "name": "stderr",
     "output_type": "stream",
     "text": [
      "\r",
      "  8%|▊         | 15/179 [00:15<01:24,  1.95it/s]"
     ]
    },
    {
     "name": "stdout",
     "output_type": "stream",
     "text": [
      "full_mention:  franz fischler\n",
      "full_mention Matched Value:  None 0.0\n"
     ]
    },
    {
     "name": "stderr",
     "output_type": "stream",
     "text": [
      "\r",
      "  9%|▉         | 16/179 [00:15<01:09,  2.34it/s]"
     ]
    },
    {
     "name": "stdout",
     "output_type": "stream",
     "text": [
      "full_mention:  franz fischler\n",
      "full_mention Matched Value:  None 0.0\n"
     ]
    },
    {
     "name": "stderr",
     "output_type": "stream",
     "text": [
      "\r",
      "  9%|▉         | 17/179 [00:17<01:51,  1.45it/s]"
     ]
    },
    {
     "name": "stdout",
     "output_type": "stream",
     "text": [
      "full_mention:  britain\n",
      "full_mention Matched Value:  britain 1.0\n"
     ]
    },
    {
     "name": "stderr",
     "output_type": "stream",
     "text": [
      "\r",
      " 10%|█         | 18/179 [00:18<02:18,  1.16it/s]"
     ]
    },
    {
     "name": "stdout",
     "output_type": "stream",
     "text": [
      "full_mention:  france\n",
      "full_mention Matched Value:  provence 0.77104\n"
     ]
    },
    {
     "name": "stderr",
     "output_type": "stream",
     "text": [
      "\r",
      " 11%|█         | 19/179 [00:19<02:36,  1.02it/s]"
     ]
    },
    {
     "name": "stdout",
     "output_type": "stream",
     "text": [
      "full_mention:  bse\n",
      "full_mention Matched Value:  bse 1.0\n"
     ]
    },
    {
     "name": "stderr",
     "output_type": "stream",
     "text": [
      "\r",
      " 11%|█         | 20/179 [00:20<02:51,  1.08s/it]"
     ]
    },
    {
     "name": "stdout",
     "output_type": "stream",
     "text": [
      "full_mention:  spanish\n",
      "full_mention Matched Value:  spanish 1.0\n"
     ]
    },
    {
     "name": "stderr",
     "output_type": "stream",
     "text": [
      "\r",
      " 12%|█▏        | 21/179 [00:21<02:09,  1.22it/s]"
     ]
    },
    {
     "name": "stdout",
     "output_type": "stream",
     "text": [
      "full_mention:  loyola de palacio\n",
      "full_mention Matched Value:  None 0.0\n"
     ]
    },
    {
     "name": "stderr",
     "output_type": "stream",
     "text": [
      "\r",
      " 12%|█▏        | 22/179 [00:21<01:40,  1.56it/s]"
     ]
    },
    {
     "name": "stdout",
     "output_type": "stream",
     "text": [
      "full_mention:  loyola de palacio\n",
      "full_mention Matched Value:  None 0.0\n"
     ]
    },
    {
     "name": "stderr",
     "output_type": "stream",
     "text": [
      "\r",
      " 13%|█▎        | 23/179 [00:21<01:20,  1.94it/s]"
     ]
    },
    {
     "name": "stdout",
     "output_type": "stream",
     "text": [
      "full_mention:  loyola de palacio\n",
      "full_mention Matched Value:  None 0.0\n"
     ]
    },
    {
     "name": "stderr",
     "output_type": "stream",
     "text": [
      "\r",
      " 13%|█▎        | 24/179 [00:22<01:55,  1.34it/s]"
     ]
    },
    {
     "name": "stdout",
     "output_type": "stream",
     "text": [
      "full_mention:  france\n",
      "full_mention Matched Value:  provence 0.77104\n"
     ]
    },
    {
     "name": "stderr",
     "output_type": "stream",
     "text": [
      "\r",
      " 14%|█▍        | 25/179 [00:24<02:20,  1.10it/s]"
     ]
    },
    {
     "name": "stdout",
     "output_type": "stream",
     "text": [
      "full_mention:  britain\n",
      "full_mention Matched Value:  britain 1.0\n"
     ]
    },
    {
     "name": "stderr",
     "output_type": "stream",
     "text": [
      "\r",
      " 15%|█▍        | 26/179 [00:25<02:36,  1.02s/it]"
     ]
    },
    {
     "name": "stdout",
     "output_type": "stream",
     "text": [
      "full_mention:  bse\n",
      "full_mention Matched Value:  bse 1.0\n"
     ]
    },
    {
     "name": "stderr",
     "output_type": "stream",
     "text": [
      "\r",
      " 15%|█▌        | 27/179 [00:26<02:48,  1.11s/it]"
     ]
    },
    {
     "name": "stdout",
     "output_type": "stream",
     "text": [
      "full_mention:  british\n",
      "full_mention Matched Value:  british 1.0\n"
     ]
    },
    {
     "name": "stderr",
     "output_type": "stream",
     "text": [
      "\r",
      " 16%|█▌        | 28/179 [00:28<02:57,  1.18s/it]"
     ]
    },
    {
     "name": "stdout",
     "output_type": "stream",
     "text": [
      "full_mention:  german\n",
      "full_mention Matched Value:  german 1.0\n"
     ]
    },
    {
     "name": "stderr",
     "output_type": "stream",
     "text": [
      "\r",
      " 16%|█▌        | 29/179 [00:29<03:02,  1.22s/it]"
     ]
    },
    {
     "name": "stdout",
     "output_type": "stream",
     "text": [
      "full_mention:  british\n",
      "full_mention Matched Value:  british 1.0\n"
     ]
    },
    {
     "name": "stderr",
     "output_type": "stream",
     "text": [
      "\r",
      " 17%|█▋        | 30/179 [00:30<03:05,  1.24s/it]"
     ]
    },
    {
     "name": "stdout",
     "output_type": "stream",
     "text": [
      "full_mention:  europe\n",
      "full_mention Matched Value:  europe 1.0\n"
     ]
    },
    {
     "name": "stderr",
     "output_type": "stream",
     "text": [
      "\r",
      " 17%|█▋        | 31/179 [00:32<03:10,  1.29s/it]"
     ]
    },
    {
     "name": "stdout",
     "output_type": "stream",
     "text": [
      "full_mention:  bonn\n",
      "full_mention Matched Value:  bonn 1.0\n"
     ]
    },
    {
     "name": "stderr",
     "output_type": "stream",
     "text": [
      "\r",
      " 18%|█▊        | 32/179 [00:33<03:19,  1.36s/it]"
     ]
    },
    {
     "name": "stdout",
     "output_type": "stream",
     "text": [
      "full_mention:  british\n",
      "full_mention Matched Value:  british 1.0\n"
     ]
    },
    {
     "name": "stderr",
     "output_type": "stream",
     "text": [
      "\r",
      " 18%|█▊        | 33/179 [00:34<03:20,  1.37s/it]"
     ]
    },
    {
     "name": "stdout",
     "output_type": "stream",
     "text": [
      "full_mention:  germany\n",
      "full_mention Matched Value:  germany 1.0\n"
     ]
    },
    {
     "name": "stderr",
     "output_type": "stream",
     "text": [
      "\r",
      " 19%|█▉        | 34/179 [00:36<03:16,  1.36s/it]"
     ]
    },
    {
     "name": "stdout",
     "output_type": "stream",
     "text": [
      "full_mention:  britain\n",
      "full_mention Matched Value:  britain 1.0\n"
     ]
    },
    {
     "name": "stderr",
     "output_type": "stream",
     "text": [
      "\r",
      " 20%|█▉        | 35/179 [00:37<03:13,  1.34s/it]"
     ]
    },
    {
     "name": "stdout",
     "output_type": "stream",
     "text": [
      "full_mention:  british\n",
      "full_mention Matched Value:  british 1.0\n"
     ]
    },
    {
     "name": "stderr",
     "output_type": "stream",
     "text": [
      "\r",
      " 20%|██        | 36/179 [00:38<03:12,  1.34s/it]"
     ]
    },
    {
     "name": "stdout",
     "output_type": "stream",
     "text": [
      "full_mention:  hendrix\n",
      "full_mention Matched Value:  redding 0.70132\n"
     ]
    },
    {
     "name": "stderr",
     "output_type": "stream",
     "text": [
      "\r",
      " 21%|██        | 37/179 [00:40<03:08,  1.33s/it]"
     ]
    },
    {
     "name": "stdout",
     "output_type": "stream",
     "text": [
      "full_mention:  london\n",
      "full_mention Matched Value:  london 1.0\n"
     ]
    },
    {
     "name": "stderr",
     "output_type": "stream",
     "text": [
      "\r",
      " 21%|██        | 38/179 [00:40<02:20,  1.00it/s]"
     ]
    },
    {
     "name": "stdout",
     "output_type": "stream",
     "text": [
      "full_mention:  u.s.\n",
      "full_mention Matched Value:  None 0.0\n"
     ]
    },
    {
     "name": "stderr",
     "output_type": "stream",
     "text": [
      "\r",
      " 22%|██▏       | 39/179 [00:40<01:46,  1.31it/s]"
     ]
    },
    {
     "name": "stdout",
     "output_type": "stream",
     "text": [
      "full_mention:  jimi hendrix\n",
      "full_mention Matched Value:  None 0.0\n"
     ]
    },
    {
     "name": "stderr",
     "output_type": "stream",
     "text": [
      "\r",
      " 22%|██▏       | 40/179 [00:40<01:23,  1.66it/s]"
     ]
    },
    {
     "name": "stdout",
     "output_type": "stream",
     "text": [
      "full_mention:  jimi hendrix\n",
      "full_mention Matched Value:  None 0.0\n"
     ]
    },
    {
     "name": "stderr",
     "output_type": "stream",
     "text": [
      "\r",
      " 23%|██▎       | 41/179 [00:42<01:53,  1.22it/s]"
     ]
    },
    {
     "name": "stdout",
     "output_type": "stream",
     "text": [
      "full_mention:  hendrix\n",
      "full_mention Matched Value:  redding 0.70132\n"
     ]
    },
    {
     "name": "stderr",
     "output_type": "stream",
     "text": [
      "\r",
      " 23%|██▎       | 42/179 [00:43<02:13,  1.03it/s]"
     ]
    },
    {
     "name": "stdout",
     "output_type": "stream",
     "text": [
      "full_mention:  london\n",
      "full_mention Matched Value:  london 1.0\n"
     ]
    },
    {
     "name": "stderr",
     "output_type": "stream",
     "text": [
      "\r",
      " 24%|██▍       | 43/179 [00:44<02:26,  1.08s/it]"
     ]
    },
    {
     "name": "stdout",
     "output_type": "stream",
     "text": [
      "full_mention:  english\n",
      "full_mention Matched Value:  english 1.0\n"
     ]
    },
    {
     "name": "stderr",
     "output_type": "stream",
     "text": [
      "\r",
      " 25%|██▍       | 44/179 [00:46<02:35,  1.15s/it]"
     ]
    },
    {
     "name": "stdout",
     "output_type": "stream",
     "text": [
      "full_mention:  nottingham\n",
      "full_mention Matched Value:  nottingham 1.0\n"
     ]
    },
    {
     "name": "stderr",
     "output_type": "stream",
     "text": [
      "\r",
      " 25%|██▌       | 45/179 [00:47<02:41,  1.20s/it]"
     ]
    },
    {
     "name": "stdout",
     "output_type": "stream",
     "text": [
      "full_mention:  hendrix\n",
      "full_mention Matched Value:  redding 0.70132\n"
     ]
    },
    {
     "name": "stderr",
     "output_type": "stream",
     "text": [
      "\r",
      " 26%|██▌       | 46/179 [00:48<02:43,  1.23s/it]"
     ]
    },
    {
     "name": "stdout",
     "output_type": "stream",
     "text": [
      "full_mention:  hendrix\n",
      "full_mention Matched Value:  redding 0.70132\n"
     ]
    },
    {
     "name": "stderr",
     "output_type": "stream",
     "text": [
      "\r",
      " 26%|██▋       | 47/179 [00:50<02:45,  1.25s/it]"
     ]
    },
    {
     "name": "stdout",
     "output_type": "stream",
     "text": [
      "full_mention:  australian\n",
      "full_mention Matched Value:  queensland 0.74009\n"
     ]
    },
    {
     "name": "stderr",
     "output_type": "stream",
     "text": [
      "\r",
      " 27%|██▋       | 48/179 [00:51<02:46,  1.27s/it]"
     ]
    },
    {
     "name": "stdout",
     "output_type": "stream",
     "text": [
      "full_mention:  china\n",
      "full_mention Matched Value:  china 1.0\n"
     ]
    },
    {
     "name": "stderr",
     "output_type": "stream",
     "text": [
      "\r",
      " 27%|██▋       | 49/179 [00:52<02:46,  1.28s/it]"
     ]
    },
    {
     "name": "stdout",
     "output_type": "stream",
     "text": [
      "full_mention:  taiwan\n",
      "full_mention Matched Value:  taiwan 1.0\n"
     ]
    },
    {
     "name": "stderr",
     "output_type": "stream",
     "text": [
      "\r",
      " 28%|██▊       | 50/179 [00:54<02:45,  1.28s/it]"
     ]
    },
    {
     "name": "stdout",
     "output_type": "stream",
     "text": [
      "full_mention:  beijing\n",
      "full_mention Matched Value:  nanjing 0.85605\n"
     ]
    },
    {
     "name": "stderr",
     "output_type": "stream",
     "text": [
      "\r",
      " 28%|██▊       | 51/179 [00:55<02:44,  1.29s/it]"
     ]
    },
    {
     "name": "stdout",
     "output_type": "stream",
     "text": [
      "full_mention:  china\n",
      "full_mention Matched Value:  china 1.0\n"
     ]
    },
    {
     "name": "stderr",
     "output_type": "stream",
     "text": [
      "\r",
      " 29%|██▉       | 52/179 [00:56<02:44,  1.29s/it]"
     ]
    },
    {
     "name": "stdout",
     "output_type": "stream",
     "text": [
      "full_mention:  taipei\n",
      "full_mention Matched Value:  taipei 1.0\n"
     ]
    },
    {
     "name": "stderr",
     "output_type": "stream",
     "text": [
      "\r",
      " 30%|██▉       | 53/179 [00:56<02:02,  1.03it/s]"
     ]
    },
    {
     "name": "stdout",
     "output_type": "stream",
     "text": [
      "full_mention:  taiwan strait\n",
      "full_mention Matched Value:  None 0.0\n"
     ]
    },
    {
     "name": "stderr",
     "output_type": "stream",
     "text": [
      "\r",
      " 30%|███       | 54/179 [00:57<01:33,  1.34it/s]"
     ]
    },
    {
     "name": "stdout",
     "output_type": "stream",
     "text": [
      "full_mention:  taiwan strait\n",
      "full_mention Matched Value:  None 0.0\n"
     ]
    },
    {
     "name": "stderr",
     "output_type": "stream",
     "text": [
      "\r",
      " 31%|███       | 55/179 [00:58<01:52,  1.10it/s]"
     ]
    },
    {
     "name": "stdout",
     "output_type": "stream",
     "text": [
      "full_mention:  ukraine\n",
      "full_mention Matched Value:  ukraine 1.0\n"
     ]
    },
    {
     "name": "stderr",
     "output_type": "stream",
     "text": [
      "\r",
      " 31%|███▏      | 56/179 [00:59<02:05,  1.02s/it]"
     ]
    },
    {
     "name": "stdout",
     "output_type": "stream",
     "text": [
      "full_mention:  taiwanese\n",
      "full_mention Matched Value:  taiwanese 1.0\n"
     ]
    },
    {
     "name": "stderr",
     "output_type": "stream",
     "text": [
      "\r",
      " 32%|███▏      | 57/179 [00:59<01:34,  1.29it/s]"
     ]
    },
    {
     "name": "stdout",
     "output_type": "stream",
     "text": [
      "full_mention:  lien chan\n",
      "full_mention Matched Value:  None 0.0\n"
     ]
    },
    {
     "name": "stderr",
     "output_type": "stream",
     "text": [
      "\r",
      " 32%|███▏      | 58/179 [01:00<01:14,  1.63it/s]"
     ]
    },
    {
     "name": "stdout",
     "output_type": "stream",
     "text": [
      "full_mention:  lien chan\n",
      "full_mention Matched Value:  None 0.0\n"
     ]
    },
    {
     "name": "stderr",
     "output_type": "stream",
     "text": [
      "\r",
      " 33%|███▎      | 59/179 [01:01<01:37,  1.23it/s]"
     ]
    },
    {
     "name": "stdout",
     "output_type": "stream",
     "text": [
      "full_mention:  beijing\n",
      "full_mention Matched Value:  nanjing 0.85605\n"
     ]
    },
    {
     "name": "stderr",
     "output_type": "stream",
     "text": [
      "\r",
      " 34%|███▎      | 60/179 [01:02<01:54,  1.04it/s]"
     ]
    },
    {
     "name": "stdout",
     "output_type": "stream",
     "text": [
      "full_mention:  chinese\n",
      "full_mention Matched Value:  chinese 1.0\n"
     ]
    },
    {
     "name": "stderr",
     "output_type": "stream",
     "text": [
      "\r",
      " 34%|███▍      | 61/179 [01:03<02:04,  1.05s/it]"
     ]
    },
    {
     "name": "stdout",
     "output_type": "stream",
     "text": [
      "full_mention:  taiwan\n",
      "full_mention Matched Value:  taiwan 1.0\n"
     ]
    },
    {
     "name": "stderr",
     "output_type": "stream",
     "text": [
      "\r",
      " 35%|███▍      | 62/179 [01:04<01:33,  1.25it/s]"
     ]
    },
    {
     "name": "stdout",
     "output_type": "stream",
     "text": [
      "full_mention:  foreign ministry\n",
      "full_mention Matched Value:  None 0.0\n"
     ]
    },
    {
     "name": "stderr",
     "output_type": "stream",
     "text": [
      "\r",
      " 35%|███▌      | 63/179 [01:04<01:13,  1.59it/s]"
     ]
    },
    {
     "name": "stdout",
     "output_type": "stream",
     "text": [
      "full_mention:  foreign ministry\n",
      "full_mention Matched Value:  None 0.0\n"
     ]
    },
    {
     "name": "stderr",
     "output_type": "stream",
     "text": [
      "\r",
      " 36%|███▌      | 64/179 [01:05<01:33,  1.22it/s]"
     ]
    },
    {
     "name": "stdout",
     "output_type": "stream",
     "text": [
      "full_mention:  china\n",
      "full_mention Matched Value:  china 1.0\n"
     ]
    },
    {
     "name": "stderr",
     "output_type": "stream",
     "text": [
      "\r",
      " 36%|███▋      | 65/179 [01:06<01:48,  1.05it/s]"
     ]
    },
    {
     "name": "stdout",
     "output_type": "stream",
     "text": [
      "full_mention:  taipei\n",
      "full_mention Matched Value:  taipei 1.0\n"
     ]
    },
    {
     "name": "stderr",
     "output_type": "stream",
     "text": [
      "\r",
      " 37%|███▋      | 66/179 [01:08<01:58,  1.05s/it]"
     ]
    },
    {
     "name": "stdout",
     "output_type": "stream",
     "text": [
      "full_mention:  taiwan\n",
      "full_mention Matched Value:  taiwan 1.0\n"
     ]
    },
    {
     "name": "stderr",
     "output_type": "stream",
     "text": [
      "\r",
      " 37%|███▋      | 67/179 [01:08<01:29,  1.25it/s]"
     ]
    },
    {
     "name": "stdout",
     "output_type": "stream",
     "text": [
      "full_mention:  reuters television\n",
      "full_mention Matched Value:  None 0.0\n"
     ]
    },
    {
     "name": "stderr",
     "output_type": "stream",
     "text": [
      "\r",
      " 38%|███▊      | 68/179 [01:08<01:09,  1.59it/s]"
     ]
    },
    {
     "name": "stdout",
     "output_type": "stream",
     "text": [
      "full_mention:  reuters television\n",
      "full_mention Matched Value:  None 0.0\n"
     ]
    },
    {
     "name": "stderr",
     "output_type": "stream",
     "text": [
      "\r",
      " 39%|███▊      | 69/179 [01:09<01:32,  1.19it/s]"
     ]
    },
    {
     "name": "stdout",
     "output_type": "stream",
     "text": [
      "full_mention:  taiwan\n",
      "full_mention Matched Value:  taiwan 1.0\n"
     ]
    },
    {
     "name": "stderr",
     "output_type": "stream",
     "text": [
      "\r",
      " 39%|███▉      | 70/179 [01:11<01:46,  1.02it/s]"
     ]
    },
    {
     "name": "stdout",
     "output_type": "stream",
     "text": [
      "full_mention:  beijing\n",
      "full_mention Matched Value:  nanjing 0.85605\n"
     ]
    },
    {
     "name": "stderr",
     "output_type": "stream",
     "text": [
      "\r",
      " 40%|███▉      | 71/179 [01:12<01:55,  1.07s/it]"
     ]
    },
    {
     "name": "stdout",
     "output_type": "stream",
     "text": [
      "full_mention:  china\n",
      "full_mention Matched Value:  china 1.0\n"
     ]
    },
    {
     "name": "stderr",
     "output_type": "stream",
     "text": [
      "\r",
      " 40%|████      | 72/179 [01:13<02:02,  1.14s/it]"
     ]
    },
    {
     "name": "stdout",
     "output_type": "stream",
     "text": [
      "full_mention:  taipei\n",
      "full_mention Matched Value:  taipei 1.0\n"
     ]
    },
    {
     "name": "stderr",
     "output_type": "stream",
     "text": [
      "\r",
      " 41%|████      | 73/179 [01:15<02:05,  1.19s/it]"
     ]
    },
    {
     "name": "stdout",
     "output_type": "stream",
     "text": [
      "full_mention:  ukraine\n",
      "full_mention Matched Value:  ukraine 1.0\n"
     ]
    },
    {
     "name": "stderr",
     "output_type": "stream",
     "text": [
      "\r",
      " 41%|████▏     | 74/179 [01:16<02:08,  1.22s/it]"
     ]
    },
    {
     "name": "stdout",
     "output_type": "stream",
     "text": [
      "full_mention:  taiwanese\n",
      "full_mention Matched Value:  taiwanese 1.0\n"
     ]
    },
    {
     "name": "stderr",
     "output_type": "stream",
     "text": [
      "\r",
      " 42%|████▏     | 75/179 [01:17<02:09,  1.24s/it]"
     ]
    },
    {
     "name": "stdout",
     "output_type": "stream",
     "text": [
      "full_mention:  china\n",
      "full_mention Matched Value:  china 1.0\n"
     ]
    },
    {
     "name": "stderr",
     "output_type": "stream",
     "text": [
      "\r",
      " 42%|████▏     | 76/179 [01:19<02:09,  1.25s/it]"
     ]
    },
    {
     "name": "stdout",
     "output_type": "stream",
     "text": [
      "full_mention:  taiwan\n",
      "full_mention Matched Value:  taiwan 1.0\n"
     ]
    },
    {
     "name": "stderr",
     "output_type": "stream",
     "text": [
      "\r",
      " 43%|████▎     | 77/179 [01:20<02:08,  1.26s/it]"
     ]
    },
    {
     "name": "stdout",
     "output_type": "stream",
     "text": [
      "full_mention:  beijing\n",
      "full_mention Matched Value:  nanjing 0.85605\n"
     ]
    },
    {
     "name": "stderr",
     "output_type": "stream",
     "text": [
      "\r",
      " 44%|████▎     | 78/179 [01:21<02:08,  1.27s/it]"
     ]
    },
    {
     "name": "stdout",
     "output_type": "stream",
     "text": [
      "full_mention:  china\n",
      "full_mention Matched Value:  china 1.0\n"
     ]
    },
    {
     "name": "stderr",
     "output_type": "stream",
     "text": [
      "\r",
      " 44%|████▍     | 79/179 [01:22<02:06,  1.27s/it]"
     ]
    },
    {
     "name": "stdout",
     "output_type": "stream",
     "text": [
      "full_mention:  taiwan\n",
      "full_mention Matched Value:  taiwan 1.0\n"
     ]
    },
    {
     "name": "stderr",
     "output_type": "stream",
     "text": [
      "\r",
      " 45%|████▍     | 80/179 [01:24<02:05,  1.27s/it]"
     ]
    },
    {
     "name": "stdout",
     "output_type": "stream",
     "text": [
      "full_mention:  xinhua\n",
      "full_mention Matched Value:  hongqiao 0.6862\n"
     ]
    },
    {
     "name": "stderr",
     "output_type": "stream",
     "text": [
      "\r",
      " 45%|████▌     | 81/179 [01:24<01:33,  1.05it/s]"
     ]
    },
    {
     "name": "stdout",
     "output_type": "stream",
     "text": [
      "full_mention:  association for relations across the taiwan straits\n",
      "full_mention Matched Value:  None 0.0\n"
     ]
    },
    {
     "name": "stderr",
     "output_type": "stream",
     "text": [
      "\r",
      " 46%|████▌     | 82/179 [01:24<01:11,  1.35it/s]"
     ]
    },
    {
     "name": "stdout",
     "output_type": "stream",
     "text": [
      "full_mention:  association for relations across the taiwan straits\n",
      "full_mention Matched Value:  None 0.0\n"
     ]
    },
    {
     "name": "stderr",
     "output_type": "stream",
     "text": [
      "\r",
      " 46%|████▋     | 83/179 [01:24<00:56,  1.71it/s]"
     ]
    },
    {
     "name": "stdout",
     "output_type": "stream",
     "text": [
      "full_mention:  association for relations across the taiwan straits\n",
      "full_mention Matched Value:  None 0.0\n"
     ]
    },
    {
     "name": "stderr",
     "output_type": "stream",
     "text": [
      "\r",
      " 47%|████▋     | 84/179 [01:25<00:45,  2.11it/s]"
     ]
    },
    {
     "name": "stdout",
     "output_type": "stream",
     "text": [
      "full_mention:  association for relations across the taiwan straits\n",
      "full_mention Matched Value:  None 0.0\n"
     ]
    },
    {
     "name": "stderr",
     "output_type": "stream",
     "text": [
      "\r",
      " 47%|████▋     | 85/179 [01:25<00:37,  2.50it/s]"
     ]
    },
    {
     "name": "stdout",
     "output_type": "stream",
     "text": [
      "full_mention:  association for relations across the taiwan straits\n",
      "full_mention Matched Value:  None 0.0\n"
     ]
    },
    {
     "name": "stderr",
     "output_type": "stream",
     "text": [
      "\r",
      " 48%|████▊     | 86/179 [01:25<00:32,  2.87it/s]"
     ]
    },
    {
     "name": "stdout",
     "output_type": "stream",
     "text": [
      "full_mention:  association for relations across the taiwan straits\n",
      "full_mention Matched Value:  None 0.0\n"
     ]
    },
    {
     "name": "stderr",
     "output_type": "stream",
     "text": [
      "\r",
      " 49%|████▊     | 87/179 [01:25<00:28,  3.22it/s]"
     ]
    },
    {
     "name": "stdout",
     "output_type": "stream",
     "text": [
      "full_mention:  association for relations across the taiwan straits\n",
      "full_mention Matched Value:  None 0.0\n"
     ]
    },
    {
     "name": "stderr",
     "output_type": "stream",
     "text": [
      "\r",
      " 49%|████▉     | 88/179 [01:26<00:54,  1.68it/s]"
     ]
    },
    {
     "name": "stdout",
     "output_type": "stream",
     "text": [
      "full_mention:  german\n",
      "full_mention Matched Value:  german 1.0\n"
     ]
    },
    {
     "name": "stderr",
     "output_type": "stream",
     "text": [
      "\r",
      " 50%|████▉     | 89/179 [01:28<01:12,  1.25it/s]"
     ]
    },
    {
     "name": "stdout",
     "output_type": "stream",
     "text": [
      "full_mention:  frankfurt\n",
      "full_mention Matched Value:  frankfurt 1.0\n"
     ]
    },
    {
     "name": "stderr",
     "output_type": "stream",
     "text": [
      "\r",
      " 50%|█████     | 90/179 [01:29<01:24,  1.06it/s]"
     ]
    },
    {
     "name": "stdout",
     "output_type": "stream",
     "text": [
      "full_mention:  german\n",
      "full_mention Matched Value:  german 1.0\n"
     ]
    },
    {
     "name": "stderr",
     "output_type": "stream",
     "text": [
      "\r",
      " 51%|█████     | 91/179 [01:30<01:31,  1.04s/it]"
     ]
    },
    {
     "name": "stdout",
     "output_type": "stream",
     "text": [
      "full_mention:  germans\n",
      "full_mention Matched Value:  germans 1.0\n"
     ]
    },
    {
     "name": "stderr",
     "output_type": "stream",
     "text": [
      "\r",
      " 51%|█████▏    | 92/179 [01:32<01:38,  1.13s/it]"
     ]
    },
    {
     "name": "stdout",
     "output_type": "stream",
     "text": [
      "full_mention:  german\n",
      "full_mention Matched Value:  german 1.0\n"
     ]
    },
    {
     "name": "stderr",
     "output_type": "stream",
     "text": [
      "\r",
      " 52%|█████▏    | 93/179 [01:33<01:42,  1.20s/it]"
     ]
    },
    {
     "name": "stdout",
     "output_type": "stream",
     "text": [
      "full_mention:  german\n",
      "full_mention Matched Value:  german 1.0\n"
     ]
    },
    {
     "name": "stderr",
     "output_type": "stream",
     "text": [
      "\r",
      " 53%|█████▎    | 94/179 [01:33<01:16,  1.11it/s]"
     ]
    },
    {
     "name": "stdout",
     "output_type": "stream",
     "text": [
      "full_mention:  volkswagen ag\n",
      "full_mention Matched Value:  None 0.0\n"
     ]
    },
    {
     "name": "stderr",
     "output_type": "stream",
     "text": [
      "\r",
      " 53%|█████▎    | 95/179 [01:33<00:58,  1.43it/s]"
     ]
    },
    {
     "name": "stdout",
     "output_type": "stream",
     "text": [
      "full_mention:  volkswagen ag\n",
      "full_mention Matched Value:  None 0.0\n"
     ]
    },
    {
     "name": "stderr",
     "output_type": "stream",
     "text": [
      "\r",
      " 54%|█████▎    | 96/179 [01:34<00:46,  1.80it/s]"
     ]
    },
    {
     "name": "stdout",
     "output_type": "stream",
     "text": [
      "full_mention:  opel ag\n",
      "full_mention Matched Value:  None 0.0\n"
     ]
    },
    {
     "name": "stderr",
     "output_type": "stream",
     "text": [
      "\r",
      " 54%|█████▍    | 97/179 [01:34<00:37,  2.20it/s]"
     ]
    },
    {
     "name": "stdout",
     "output_type": "stream",
     "text": [
      "full_mention:  opel ag\n",
      "full_mention Matched Value:  None 0.0\n"
     ]
    },
    {
     "name": "stderr",
     "output_type": "stream",
     "text": [
      "\r",
      " 55%|█████▍    | 98/179 [01:34<00:31,  2.60it/s]"
     ]
    },
    {
     "name": "stdout",
     "output_type": "stream",
     "text": [
      "full_mention:  general motors\n",
      "full_mention Matched Value:  None 0.0\n"
     ]
    },
    {
     "name": "stderr",
     "output_type": "stream",
     "text": [
      "\r",
      " 55%|█████▌    | 99/179 [01:34<00:26,  2.98it/s]"
     ]
    },
    {
     "name": "stdout",
     "output_type": "stream",
     "text": [
      "full_mention:  general motors\n",
      "full_mention Matched Value:  None 0.0\n"
     ]
    },
    {
     "name": "stderr",
     "output_type": "stream",
     "text": [
      "\r",
      " 56%|█████▌    | 100/179 [01:36<00:49,  1.61it/s]"
     ]
    },
    {
     "name": "stdout",
     "output_type": "stream",
     "text": [
      "full_mention:  ford\n",
      "full_mention Matched Value:  holden 0.78866\n"
     ]
    },
    {
     "name": "stderr",
     "output_type": "stream",
     "text": [
      "\r",
      " 56%|█████▋    | 101/179 [01:37<01:04,  1.21it/s]"
     ]
    },
    {
     "name": "stdout",
     "output_type": "stream",
     "text": [
      "full_mention:  porsche\n",
      "full_mention Matched Value:  porsche 1.0\n"
     ]
    },
    {
     "name": "stderr",
     "output_type": "stream",
     "text": [
      "\r",
      " 57%|█████▋    | 102/179 [01:38<01:14,  1.03it/s]"
     ]
    },
    {
     "name": "stdout",
     "output_type": "stream",
     "text": [
      "full_mention:  porsche\n",
      "full_mention Matched Value:  porsche 1.0\n"
     ]
    },
    {
     "name": "stderr",
     "output_type": "stream",
     "text": [
      "\r",
      " 58%|█████▊    | 103/179 [01:39<01:20,  1.06s/it]"
     ]
    },
    {
     "name": "stdout",
     "output_type": "stream",
     "text": [
      "full_mention:  greek\n",
      "full_mention Matched Value:  greek 1.0\n"
     ]
    },
    {
     "name": "stderr",
     "output_type": "stream",
     "text": [
      "\r",
      " 58%|█████▊    | 104/179 [01:41<01:24,  1.12s/it]"
     ]
    },
    {
     "name": "stdout",
     "output_type": "stream",
     "text": [
      "full_mention:  athens\n",
      "full_mention Matched Value:  athens 1.0\n"
     ]
    },
    {
     "name": "stderr",
     "output_type": "stream",
     "text": [
      "\r",
      " 59%|█████▊    | 105/179 [01:42<01:26,  1.17s/it]"
     ]
    },
    {
     "name": "stdout",
     "output_type": "stream",
     "text": [
      "full_mention:  greek\n",
      "full_mention Matched Value:  greek 1.0\n"
     ]
    },
    {
     "name": "stderr",
     "output_type": "stream",
     "text": [
      "\r",
      " 59%|█████▉    | 106/179 [01:42<01:04,  1.13it/s]"
     ]
    },
    {
     "name": "stdout",
     "output_type": "stream",
     "text": [
      "full_mention:  costas simitis\n",
      "full_mention Matched Value:  None 0.0\n"
     ]
    },
    {
     "name": "stderr",
     "output_type": "stream",
     "text": [
      "\r",
      " 60%|█████▉    | 107/179 [01:42<00:49,  1.46it/s]"
     ]
    },
    {
     "name": "stdout",
     "output_type": "stream",
     "text": [
      "full_mention:  costas simitis\n",
      "full_mention Matched Value:  None 0.0\n"
     ]
    },
    {
     "name": "stderr",
     "output_type": "stream",
     "text": [
      "\r",
      " 60%|██████    | 108/179 [01:43<00:38,  1.83it/s]"
     ]
    },
    {
     "name": "stdout",
     "output_type": "stream",
     "text": [
      "full_mention:  costas skandalidis\n",
      "full_mention Matched Value:  None 0.0\n"
     ]
    },
    {
     "name": "stderr",
     "output_type": "stream",
     "text": [
      "\r",
      " 61%|██████    | 109/179 [01:43<00:31,  2.24it/s]"
     ]
    },
    {
     "name": "stdout",
     "output_type": "stream",
     "text": [
      "full_mention:  costas skandalidis\n",
      "full_mention Matched Value:  None 0.0\n"
     ]
    },
    {
     "name": "stderr",
     "output_type": "stream",
     "text": [
      "\r",
      " 61%|██████▏   | 110/179 [01:43<00:26,  2.63it/s]"
     ]
    },
    {
     "name": "stdout",
     "output_type": "stream",
     "text": [
      "full_mention:  costas simitis\n",
      "full_mention Matched Value:  None 0.0\n"
     ]
    },
    {
     "name": "stderr",
     "output_type": "stream",
     "text": [
      "\r",
      " 62%|██████▏   | 111/179 [01:43<00:22,  3.00it/s]"
     ]
    },
    {
     "name": "stdout",
     "output_type": "stream",
     "text": [
      "full_mention:  costas simitis\n",
      "full_mention Matched Value:  None 0.0\n"
     ]
    },
    {
     "name": "stderr",
     "output_type": "stream",
     "text": [
      "\r",
      " 63%|██████▎   | 112/179 [01:45<00:40,  1.64it/s]"
     ]
    },
    {
     "name": "stdout",
     "output_type": "stream",
     "text": [
      "full_mention:  london\n",
      "full_mention Matched Value:  london 1.0\n"
     ]
    },
    {
     "name": "stderr",
     "output_type": "stream",
     "text": [
      "\r",
      " 63%|██████▎   | 113/179 [01:45<00:32,  2.02it/s]"
     ]
    },
    {
     "name": "stdout",
     "output_type": "stream",
     "text": [
      "full_mention:  bayerische vereinsbank\n",
      "full_mention Matched Value:  None 0.0\n"
     ]
    },
    {
     "name": "stderr",
     "output_type": "stream",
     "text": [
      "\r",
      " 64%|██████▎   | 114/179 [01:45<00:26,  2.43it/s]"
     ]
    },
    {
     "name": "stdout",
     "output_type": "stream",
     "text": [
      "full_mention:  bayerische vereinsbank\n",
      "full_mention Matched Value:  None 0.0\n"
     ]
    },
    {
     "name": "stderr",
     "output_type": "stream",
     "text": [
      "\r",
      " 64%|██████▍   | 115/179 [01:46<00:42,  1.49it/s]"
     ]
    },
    {
     "name": "stdout",
     "output_type": "stream",
     "text": [
      "full_mention:  german\n",
      "full_mention Matched Value:  german 1.0\n"
     ]
    },
    {
     "name": "stderr",
     "output_type": "stream",
     "text": [
      "\r",
      " 65%|██████▍   | 116/179 [01:47<00:33,  1.86it/s]"
     ]
    },
    {
     "name": "stdout",
     "output_type": "stream",
     "text": [
      "full_mention:  bayerische vereinsbank\n",
      "full_mention Matched Value:  None 0.0\n"
     ]
    },
    {
     "name": "stderr",
     "output_type": "stream",
     "text": [
      "\r",
      " 65%|██████▌   | 117/179 [01:47<00:27,  2.26it/s]"
     ]
    },
    {
     "name": "stdout",
     "output_type": "stream",
     "text": [
      "full_mention:  bayerische vereinsbank\n",
      "full_mention Matched Value:  None 0.0\n"
     ]
    },
    {
     "name": "stderr",
     "output_type": "stream",
     "text": [
      "\r",
      " 66%|██████▌   | 118/179 [01:48<00:42,  1.44it/s]"
     ]
    },
    {
     "name": "stdout",
     "output_type": "stream",
     "text": [
      "full_mention:  london\n",
      "full_mention Matched Value:  london 1.0\n"
     ]
    },
    {
     "name": "stderr",
     "output_type": "stream",
     "text": [
      "\r",
      " 66%|██████▋   | 119/179 [01:49<00:51,  1.15it/s]"
     ]
    },
    {
     "name": "stdout",
     "output_type": "stream",
     "text": [
      "full_mention:  swedish\n",
      "full_mention Matched Value:  danish 0.8432\n"
     ]
    },
    {
     "name": "stderr",
     "output_type": "stream",
     "text": [
      "\r",
      " 67%|██████▋   | 120/179 [01:51<00:58,  1.01it/s]"
     ]
    },
    {
     "name": "stdout",
     "output_type": "stream",
     "text": [
      "full_mention:  london\n",
      "full_mention Matched Value:  london 1.0\n"
     ]
    },
    {
     "name": "stderr",
     "output_type": "stream",
     "text": [
      "\r",
      " 68%|██████▊   | 121/179 [01:52<01:02,  1.08s/it]"
     ]
    },
    {
     "name": "stdout",
     "output_type": "stream",
     "text": [
      "full_mention:  english\n",
      "full_mention Matched Value:  english 1.0\n"
     ]
    },
    {
     "name": "stderr",
     "output_type": "stream",
     "text": [
      "\r",
      " 68%|██████▊   | 122/179 [01:53<01:05,  1.15s/it]"
     ]
    },
    {
     "name": "stdout",
     "output_type": "stream",
     "text": [
      "full_mention:  sweden\n",
      "full_mention Matched Value:  denmark 0.86809\n"
     ]
    },
    {
     "name": "stderr",
     "output_type": "stream",
     "text": [
      "\r",
      " 69%|██████▊   | 123/179 [01:54<01:06,  1.19s/it]"
     ]
    },
    {
     "name": "stdout",
     "output_type": "stream",
     "text": [
      "full_mention:  syria\n",
      "full_mention Matched Value:  homs 0.83179\n"
     ]
    },
    {
     "name": "stderr",
     "output_type": "stream",
     "text": [
      "\r",
      " 69%|██████▉   | 124/179 [01:56<01:07,  1.23s/it]"
     ]
    },
    {
     "name": "stdout",
     "output_type": "stream",
     "text": [
      "full_mention:  tartous\n",
      "full_mention Matched Value:  latakia 0.81063\n"
     ]
    },
    {
     "name": "stderr",
     "output_type": "stream",
     "text": [
      "\r",
      " 70%|██████▉   | 125/179 [01:57<01:08,  1.26s/it]"
     ]
    },
    {
     "name": "stdout",
     "output_type": "stream",
     "text": [
      "full_mention:  israel\n",
      "full_mention Matched Value:  jerusalem 0.7822\n"
     ]
    },
    {
     "name": "stderr",
     "output_type": "stream",
     "text": [
      "\r",
      " 70%|███████   | 126/179 [01:58<01:07,  1.27s/it]"
     ]
    },
    {
     "name": "stdout",
     "output_type": "stream",
     "text": [
      "full_mention:  syria\n",
      "full_mention Matched Value:  homs 0.83179\n"
     ]
    },
    {
     "name": "stderr",
     "output_type": "stream",
     "text": [
      "\r",
      " 71%|███████   | 127/179 [02:00<01:06,  1.27s/it]"
     ]
    },
    {
     "name": "stdout",
     "output_type": "stream",
     "text": [
      "full_mention:  jerusalem\n",
      "full_mention Matched Value:  jerusalem 1.0\n"
     ]
    },
    {
     "name": "stderr",
     "output_type": "stream",
     "text": [
      "\r",
      " 72%|███████▏  | 128/179 [02:01<01:05,  1.28s/it]"
     ]
    },
    {
     "name": "stdout",
     "output_type": "stream",
     "text": [
      "full_mention:  israel\n",
      "full_mention Matched Value:  jerusalem 0.7822\n"
     ]
    },
    {
     "name": "stderr",
     "output_type": "stream",
     "text": [
      "\r",
      " 72%|███████▏  | 129/179 [02:02<01:03,  1.28s/it]"
     ]
    },
    {
     "name": "stdout",
     "output_type": "stream",
     "text": [
      "full_mention:  syria\n",
      "full_mention Matched Value:  homs 0.83179\n"
     ]
    },
    {
     "name": "stderr",
     "output_type": "stream",
     "text": [
      "\r",
      " 73%|███████▎  | 130/179 [02:03<00:47,  1.04it/s]"
     ]
    },
    {
     "name": "stdout",
     "output_type": "stream",
     "text": [
      "full_mention:  itamar rabinovich\n",
      "full_mention Matched Value:  None 0.0\n"
     ]
    },
    {
     "name": "stderr",
     "output_type": "stream",
     "text": [
      "\r",
      " 73%|███████▎  | 131/179 [02:03<00:35,  1.35it/s]"
     ]
    },
    {
     "name": "stdout",
     "output_type": "stream",
     "text": [
      "full_mention:  itamar rabinovich\n",
      "full_mention Matched Value:  None 0.0\n"
     ]
    },
    {
     "name": "stderr",
     "output_type": "stream",
     "text": [
      "\r",
      " 74%|███████▎  | 132/179 [02:04<00:42,  1.11it/s]"
     ]
    },
    {
     "name": "stdout",
     "output_type": "stream",
     "text": [
      "full_mention:  israel\n",
      "full_mention Matched Value:  jerusalem 0.7822\n"
     ]
    },
    {
     "name": "stderr",
     "output_type": "stream",
     "text": [
      "\r",
      " 74%|███████▍  | 133/179 [02:05<00:46,  1.01s/it]"
     ]
    },
    {
     "name": "stdout",
     "output_type": "stream",
     "text": [
      "full_mention:  washington\n",
      "full_mention Matched Value:  washington 1.0\n"
     ]
    },
    {
     "name": "stderr",
     "output_type": "stream",
     "text": [
      "\r",
      " 75%|███████▍  | 134/179 [02:07<00:49,  1.09s/it]"
     ]
    },
    {
     "name": "stdout",
     "output_type": "stream",
     "text": [
      "full_mention:  syria\n",
      "full_mention Matched Value:  homs 0.83179\n"
     ]
    },
    {
     "name": "stderr",
     "output_type": "stream",
     "text": [
      "\r",
      " 75%|███████▌  | 135/179 [02:07<00:36,  1.20it/s]"
     ]
    },
    {
     "name": "stdout",
     "output_type": "stream",
     "text": [
      "full_mention:  israel radio\n",
      "full_mention Matched Value:  None 0.0\n"
     ]
    },
    {
     "name": "stderr",
     "output_type": "stream",
     "text": [
      "\r",
      " 76%|███████▌  | 136/179 [02:07<00:28,  1.53it/s]"
     ]
    },
    {
     "name": "stdout",
     "output_type": "stream",
     "text": [
      "full_mention:  israel radio\n",
      "full_mention Matched Value:  None 0.0\n"
     ]
    },
    {
     "name": "stderr",
     "output_type": "stream",
     "text": [
      "\r",
      " 77%|███████▋  | 137/179 [02:08<00:35,  1.18it/s]"
     ]
    },
    {
     "name": "stdout",
     "output_type": "stream",
     "text": [
      "full_mention:  damascus\n",
      "full_mention Matched Value:  damascus 1.0\n"
     ]
    },
    {
     "name": "stderr",
     "output_type": "stream",
     "text": [
      "\r",
      " 77%|███████▋  | 138/179 [02:10<00:40,  1.02it/s]"
     ]
    },
    {
     "name": "stdout",
     "output_type": "stream",
     "text": [
      "full_mention:  rabinovich\n",
      "full_mention Matched Value:  schneersohn 0.6685\n"
     ]
    },
    {
     "name": "stderr",
     "output_type": "stream",
     "text": [
      "\r",
      " 78%|███████▊  | 139/179 [02:10<00:30,  1.33it/s]"
     ]
    },
    {
     "name": "stdout",
     "output_type": "stream",
     "text": [
      "full_mention:  eliahu ben-elissar\n",
      "full_mention Matched Value:  None 0.0\n"
     ]
    },
    {
     "name": "stderr",
     "output_type": "stream",
     "text": [
      "\r",
      " 78%|███████▊  | 140/179 [02:10<00:23,  1.68it/s]"
     ]
    },
    {
     "name": "stdout",
     "output_type": "stream",
     "text": [
      "full_mention:  eliahu ben-elissar\n",
      "full_mention Matched Value:  None 0.0\n"
     ]
    },
    {
     "name": "stderr",
     "output_type": "stream",
     "text": [
      "\r",
      " 79%|███████▉  | 141/179 [02:11<00:30,  1.24it/s]"
     ]
    },
    {
     "name": "stdout",
     "output_type": "stream",
     "text": [
      "full_mention:  israeli\n",
      "full_mention Matched Value:  idf 0.81498\n"
     ]
    },
    {
     "name": "stderr",
     "output_type": "stream",
     "text": [
      "\r",
      " 79%|███████▉  | 142/179 [02:13<00:34,  1.06it/s]"
     ]
    },
    {
     "name": "stdout",
     "output_type": "stream",
     "text": [
      "full_mention:  egypt\n",
      "full_mention Matched Value:  libya 0.81598\n"
     ]
    },
    {
     "name": "stderr",
     "output_type": "stream",
     "text": [
      "\r",
      " 80%|███████▉  | 143/179 [02:14<00:37,  1.04s/it]"
     ]
    },
    {
     "name": "stdout",
     "output_type": "stream",
     "text": [
      "full_mention:  likud\n",
      "full_mention Matched Value:  likud 1.0\n"
     ]
    },
    {
     "name": "stderr",
     "output_type": "stream",
     "text": [
      "\r",
      " 80%|████████  | 144/179 [02:15<00:39,  1.12s/it]"
     ]
    },
    {
     "name": "stdout",
     "output_type": "stream",
     "text": [
      "full_mention:  israel\n",
      "full_mention Matched Value:  jerusalem 0.7822\n"
     ]
    },
    {
     "name": "stderr",
     "output_type": "stream",
     "text": [
      "\r",
      " 81%|████████  | 145/179 [02:17<00:40,  1.18s/it]"
     ]
    },
    {
     "name": "stdout",
     "output_type": "stream",
     "text": [
      "full_mention:  syria\n",
      "full_mention Matched Value:  homs 0.83179\n"
     ]
    },
    {
     "name": "stderr",
     "output_type": "stream",
     "text": [
      "\r",
      " 82%|████████▏ | 146/179 [02:18<00:40,  1.22s/it]"
     ]
    },
    {
     "name": "stdout",
     "output_type": "stream",
     "text": [
      "full_mention:  washington\n",
      "full_mention Matched Value:  washington 1.0\n"
     ]
    },
    {
     "name": "stderr",
     "output_type": "stream",
     "text": [
      "\r",
      " 82%|████████▏ | 147/179 [02:19<00:39,  1.22s/it]"
     ]
    },
    {
     "name": "stdout",
     "output_type": "stream",
     "text": [
      "full_mention:  damascus\n",
      "full_mention Matched Value:  damascus 1.0\n"
     ]
    },
    {
     "name": "stderr",
     "output_type": "stream",
     "text": [
      "\r",
      " 83%|████████▎ | 148/179 [02:20<00:37,  1.21s/it]"
     ]
    },
    {
     "name": "stdout",
     "output_type": "stream",
     "text": [
      "full_mention:  syria\n",
      "full_mention Matched Value:  homs 0.83179\n"
     ]
    },
    {
     "name": "stderr",
     "output_type": "stream",
     "text": [
      "\r",
      " 83%|████████▎ | 149/179 [02:21<00:36,  1.21s/it]"
     ]
    },
    {
     "name": "stdout",
     "output_type": "stream",
     "text": [
      "full_mention:  israel\n",
      "full_mention Matched Value:  jerusalem 0.7822\n"
     ]
    },
    {
     "name": "stderr",
     "output_type": "stream",
     "text": [
      "\r",
      " 84%|████████▍ | 150/179 [02:23<00:34,  1.20s/it]"
     ]
    },
    {
     "name": "stdout",
     "output_type": "stream",
     "text": [
      "full_mention:  israeli\n",
      "full_mention Matched Value:  idf 0.81498\n"
     ]
    },
    {
     "name": "stderr",
     "output_type": "stream",
     "text": [
      "\r",
      " 84%|████████▍ | 151/179 [02:24<00:33,  1.19s/it]"
     ]
    },
    {
     "name": "stdout",
     "output_type": "stream",
     "text": [
      "full_mention:  damascus\n",
      "full_mention Matched Value:  damascus 1.0\n"
     ]
    },
    {
     "name": "stderr",
     "output_type": "stream",
     "text": [
      "\r",
      " 85%|████████▍ | 152/179 [02:25<00:31,  1.18s/it]"
     ]
    },
    {
     "name": "stdout",
     "output_type": "stream",
     "text": [
      "full_mention:  israeli\n",
      "full_mention Matched Value:  idf 0.81498\n"
     ]
    },
    {
     "name": "stderr",
     "output_type": "stream",
     "text": [
      "\r",
      " 85%|████████▌ | 153/179 [02:25<00:23,  1.12it/s]"
     ]
    },
    {
     "name": "stdout",
     "output_type": "stream",
     "text": [
      "full_mention:  david levy\n",
      "full_mention Matched Value:  None 0.0\n"
     ]
    },
    {
     "name": "stderr",
     "output_type": "stream",
     "text": [
      "\r",
      " 86%|████████▌ | 154/179 [02:25<00:17,  1.45it/s]"
     ]
    },
    {
     "name": "stdout",
     "output_type": "stream",
     "text": [
      "full_mention:  david levy\n",
      "full_mention Matched Value:  None 0.0\n"
     ]
    },
    {
     "name": "stderr",
     "output_type": "stream",
     "text": [
      "\r",
      " 87%|████████▋ | 155/179 [02:26<00:13,  1.84it/s]"
     ]
    },
    {
     "name": "stdout",
     "output_type": "stream",
     "text": [
      "full_mention:  israel radio\n",
      "full_mention Matched Value:  None 0.0\n"
     ]
    },
    {
     "name": "stderr",
     "output_type": "stream",
     "text": [
      "\r",
      " 87%|████████▋ | 156/179 [02:26<00:10,  2.25it/s]"
     ]
    },
    {
     "name": "stdout",
     "output_type": "stream",
     "text": [
      "full_mention:  israel radio\n",
      "full_mention Matched Value:  None 0.0\n"
     ]
    },
    {
     "name": "stderr",
     "output_type": "stream",
     "text": [
      "\r",
      " 88%|████████▊ | 157/179 [02:27<00:14,  1.51it/s]"
     ]
    },
    {
     "name": "stdout",
     "output_type": "stream",
     "text": [
      "full_mention:  israeli\n",
      "full_mention Matched Value:  idf 0.81498\n"
     ]
    },
    {
     "name": "stderr",
     "output_type": "stream",
     "text": [
      "\r",
      " 88%|████████▊ | 158/179 [02:27<00:11,  1.89it/s]"
     ]
    },
    {
     "name": "stdout",
     "output_type": "stream",
     "text": [
      "full_mention:  benjamin netanyahu\n",
      "full_mention Matched Value:  None 0.0\n"
     ]
    },
    {
     "name": "stderr",
     "output_type": "stream",
     "text": [
      "\r",
      " 89%|████████▉ | 159/179 [02:27<00:08,  2.31it/s]"
     ]
    },
    {
     "name": "stdout",
     "output_type": "stream",
     "text": [
      "full_mention:  benjamin netanyahu\n",
      "full_mention Matched Value:  None 0.0\n"
     ]
    },
    {
     "name": "stderr",
     "output_type": "stream",
     "text": [
      "\r",
      " 89%|████████▉ | 160/179 [02:28<00:06,  2.73it/s]"
     ]
    },
    {
     "name": "stdout",
     "output_type": "stream",
     "text": [
      "full_mention:  golan heights\n",
      "full_mention Matched Value:  None 0.0\n"
     ]
    },
    {
     "name": "stderr",
     "output_type": "stream",
     "text": [
      "\r",
      " 90%|████████▉ | 161/179 [02:28<00:05,  3.11it/s]"
     ]
    },
    {
     "name": "stdout",
     "output_type": "stream",
     "text": [
      "full_mention:  golan heights\n",
      "full_mention Matched Value:  None 0.0\n"
     ]
    },
    {
     "name": "stderr",
     "output_type": "stream",
     "text": [
      "\r",
      " 91%|█████████ | 162/179 [02:29<00:09,  1.76it/s]"
     ]
    },
    {
     "name": "stdout",
     "output_type": "stream",
     "text": [
      "full_mention:  israel\n",
      "full_mention Matched Value:  jerusalem 0.7822\n"
     ]
    },
    {
     "name": "stderr",
     "output_type": "stream",
     "text": [
      "\r",
      " 91%|█████████ | 163/179 [02:30<00:11,  1.35it/s]"
     ]
    },
    {
     "name": "stdout",
     "output_type": "stream",
     "text": [
      "full_mention:  syria\n",
      "full_mention Matched Value:  homs 0.83179\n"
     ]
    },
    {
     "name": "stderr",
     "output_type": "stream",
     "text": [
      "\r",
      " 92%|█████████▏| 164/179 [02:30<00:08,  1.71it/s]"
     ]
    },
    {
     "name": "stdout",
     "output_type": "stream",
     "text": [
      "full_mention:  middle east\n",
      "full_mention Matched Value:  None 0.0\n"
     ]
    },
    {
     "name": "stderr",
     "output_type": "stream",
     "text": [
      "\r",
      " 92%|█████████▏| 165/179 [02:31<00:06,  2.13it/s]"
     ]
    },
    {
     "name": "stdout",
     "output_type": "stream",
     "text": [
      "full_mention:  middle east\n",
      "full_mention Matched Value:  None 0.0\n"
     ]
    },
    {
     "name": "stderr",
     "output_type": "stream",
     "text": [
      "\r",
      " 93%|█████████▎| 166/179 [02:32<00:08,  1.48it/s]"
     ]
    },
    {
     "name": "stdout",
     "output_type": "stream",
     "text": [
      "full_mention:  golan\n",
      "full_mention Matched Value:  golan 1.0\n"
     ]
    },
    {
     "name": "stderr",
     "output_type": "stream",
     "text": [
      "\r",
      " 93%|█████████▎| 167/179 [02:33<00:09,  1.21it/s]"
     ]
    },
    {
     "name": "stdout",
     "output_type": "stream",
     "text": [
      "full_mention:  golan\n",
      "full_mention Matched Value:  golan 1.0\n"
     ]
    },
    {
     "name": "stderr",
     "output_type": "stream",
     "text": [
      "\r",
      " 94%|█████████▍| 168/179 [02:34<00:10,  1.08it/s]"
     ]
    },
    {
     "name": "stdout",
     "output_type": "stream",
     "text": [
      "full_mention:  israel\n",
      "full_mention Matched Value:  jerusalem 0.7822\n"
     ]
    },
    {
     "name": "stderr",
     "output_type": "stream",
     "text": [
      "\r",
      " 94%|█████████▍| 169/179 [02:34<00:07,  1.40it/s]"
     ]
    },
    {
     "name": "stdout",
     "output_type": "stream",
     "text": [
      "full_mention:  channel two\n",
      "full_mention Matched Value:  None 0.0\n"
     ]
    },
    {
     "name": "stderr",
     "output_type": "stream",
     "text": [
      "\r",
      " 95%|█████████▍| 170/179 [02:34<00:05,  1.78it/s]"
     ]
    },
    {
     "name": "stdout",
     "output_type": "stream",
     "text": [
      "full_mention:  channel two\n",
      "full_mention Matched Value:  None 0.0\n"
     ]
    },
    {
     "name": "stderr",
     "output_type": "stream",
     "text": [
      "\r",
      " 96%|█████████▌| 171/179 [02:36<00:05,  1.35it/s]"
     ]
    },
    {
     "name": "stdout",
     "output_type": "stream",
     "text": [
      "full_mention:  damascus\n",
      "full_mention Matched Value:  damascus 1.0\n"
     ]
    },
    {
     "name": "stderr",
     "output_type": "stream",
     "text": [
      "\r",
      " 96%|█████████▌| 172/179 [02:37<00:06,  1.15it/s]"
     ]
    },
    {
     "name": "stdout",
     "output_type": "stream",
     "text": [
      "full_mention:  israel\n",
      "full_mention Matched Value:  jerusalem 0.7822\n"
     ]
    },
    {
     "name": "stderr",
     "output_type": "stream",
     "text": [
      "\r",
      " 97%|█████████▋| 173/179 [02:38<00:05,  1.05it/s]"
     ]
    },
    {
     "name": "stdout",
     "output_type": "stream",
     "text": [
      "full_mention:  netanyahu\n",
      "full_mention Matched Value:  shamir 0.76126\n"
     ]
    },
    {
     "name": "stderr",
     "output_type": "stream",
     "text": [
      "\r",
      " 97%|█████████▋| 174/179 [02:39<00:05,  1.01s/it]"
     ]
    },
    {
     "name": "stdout",
     "output_type": "stream",
     "text": [
      "full_mention:  netanyahu\n",
      "full_mention Matched Value:  shamir 0.76126\n"
     ]
    },
    {
     "name": "stderr",
     "output_type": "stream",
     "text": [
      "\r",
      " 98%|█████████▊| 175/179 [02:40<00:04,  1.05s/it]"
     ]
    },
    {
     "name": "stdout",
     "output_type": "stream",
     "text": [
      "full_mention:  syria\n",
      "full_mention Matched Value:  homs 0.83179\n"
     ]
    },
    {
     "name": "stderr",
     "output_type": "stream",
     "text": [
      "\r",
      " 98%|█████████▊| 176/179 [02:40<00:02,  1.25it/s]"
     ]
    },
    {
     "name": "stdout",
     "output_type": "stream",
     "text": [
      "full_mention:  united states\n",
      "full_mention Matched Value:  None 0.0\n"
     ]
    },
    {
     "name": "stderr",
     "output_type": "stream",
     "text": [
      "\r",
      " 99%|█████████▉| 177/179 [02:41<00:01,  1.62it/s]"
     ]
    },
    {
     "name": "stdout",
     "output_type": "stream",
     "text": [
      "full_mention:  united states\n",
      "full_mention Matched Value:  None 0.0\n"
     ]
    },
    {
     "name": "stderr",
     "output_type": "stream",
     "text": [
      "\r",
      " 99%|█████████▉| 178/179 [02:42<00:00,  1.30it/s]"
     ]
    },
    {
     "name": "stdout",
     "output_type": "stream",
     "text": [
      "full_mention:  moscow\n",
      "full_mention Matched Value:  moscow 1.0\n"
     ]
    },
    {
     "name": "stderr",
     "output_type": "stream",
     "text": [
      "100%|██████████| 179/179 [02:43<00:00,  1.10it/s]"
     ]
    },
    {
     "name": "stdout",
     "output_type": "stream",
     "text": [
      "full_mention:  polish\n",
      "full_mention Matched Value:  polish 1.0\n",
      "******************************************************\n",
      "Anchor Texts Not In Wikipedia2Vec Vocabulary:  23849515\n",
      "******************************************************\n",
      "CPU times: user 2min 36s, sys: 3.38 s, total: 2min 40s\n",
      "Wall time: 2min 43s\n"
     ]
    },
    {
     "name": "stderr",
     "output_type": "stream",
     "text": [
      "\n"
     ]
    }
   ],
   "source": [
    "%%time\n",
    "# Create single full_mention similarity matrix to assess computation time  LOWER CASE\n",
    "match_pct = 1\n",
    "\n",
    "# Prepare blank matrix\n",
    "w2v_similarity_title_dict = {}\n",
    "page_titles_not_found = 0\n",
    "\n",
    "# Swap between tqdm depending on if you want progress bar\n",
    "for full_mention in tqdm(x_np[:int(np.ceil(len(x_np)*0.01))]):\n",
    "# for full_mention in x_np[:int(np.ceil(len(x_np)*0.01))]:\n",
    "\n",
    "#     print(\"full_mention: \", full_mention)\n",
    "    page_title_dict = {}\n",
    "    \n",
    "# Swap between tqdm depending on if you want progress bar\n",
    "#     for page_title in tqdm(norm_page_titles[:int(np.ceil(len(at_count_df)*(match_pct/100)))]):\n",
    "    for page_title in norm_page_titles[:int(np.ceil(len(at_count_df)*(match_pct/100)))]:\n",
    "#         print(\"Anchor Text: \", page_title)\n",
    "        try:\n",
    "            full_mention_title_similarity = w2v.similarity(full_mention.lower(), page_title)\n",
    "#             print(\"full_mention-Title Similarity: \", round(full_mention_title_similarity, 5))\n",
    "            page_title_dict[page_title] = full_mention_title_similarity\n",
    "        except KeyError:\n",
    "            page_titles_not_found += 1\n",
    "#             print(KeyError, \"Page Title Not in Vocabulary\")\n",
    "    try:\n",
    "        matched_value = max(page_title_dict, key=page_title_dict.get)\n",
    "        matched_score = page_title_dict[matched_value]\n",
    "    except ValueError:\n",
    "        matched_value = None\n",
    "        matched_score = 0.\n",
    "    print(\"full_mention: \", full_mention.lower())\n",
    "    print(\"full_mention Matched Value: \", matched_value, round(matched_score,5))\n",
    "    w2v_similarity_title_dict[full_mention] = (matched_value, matched_score)\n",
    "print(\"******************************************************\")\n",
    "print(\"Anchor Texts Not In Wikipedia2Vec Vocabulary: \", page_titles_not_found)\n",
    "print(\"******************************************************\")"
   ]
  },
  {
   "cell_type": "code",
   "execution_count": 53,
   "metadata": {},
   "outputs": [
    {
     "data": {
      "text/plain": [
       "{'German': ('german', 1.0),\n",
       " 'British': ('british', 0.99999994),\n",
       " 'BRUSSELS': ('brussels', 1.0),\n",
       " 'European Commission': (None, 0.0),\n",
       " 'Germany': ('germany', 1.0),\n",
       " 'European Union': (None, 0.0),\n",
       " 'Britain': ('britain', 1.0),\n",
       " 'Commission': ('commission', 1.0),\n",
       " 'Franz Fischler': (None, 0.0),\n",
       " 'France': ('provence', 0.7710397),\n",
       " 'BSE': ('bse', 1.0),\n",
       " 'Spanish': ('spanish', 1.0),\n",
       " 'Loyola de Palacio': (None, 0.0),\n",
       " 'Europe': ('europe', 1.0),\n",
       " 'Bonn': ('bonn', 1.0),\n",
       " 'Hendrix': ('redding', 0.70131755),\n",
       " 'LONDON': ('london', 1.0),\n",
       " 'U.S.': (None, 0.0),\n",
       " 'Jimi Hendrix': (None, 0.0),\n",
       " 'London': ('london', 1.0),\n",
       " 'English': ('english', 1.0),\n",
       " 'Nottingham': ('nottingham', 1.0),\n",
       " 'Australian': ('queensland', 0.7400913),\n",
       " 'China': ('china', 1.0),\n",
       " 'Taiwan': ('taiwan', 1.0),\n",
       " 'BEIJING': ('nanjing', 0.8560537),\n",
       " 'Taipei': ('taipei', 1.0),\n",
       " 'Taiwan Strait': (None, 0.0),\n",
       " 'Ukraine': ('ukraine', 1.0),\n",
       " 'Taiwanese': ('taiwanese', 1.0),\n",
       " 'Lien Chan': (None, 0.0),\n",
       " 'Beijing': ('nanjing', 0.8560537),\n",
       " 'Chinese': ('chinese', 1.0),\n",
       " 'Foreign Ministry': (None, 0.0),\n",
       " 'Reuters Television': (None, 0.0),\n",
       " 'Xinhua': ('hongqiao', 0.6862041),\n",
       " 'Association for Relations Across the Taiwan Straits': (None, 0.0),\n",
       " 'FRANKFURT': ('frankfurt', 1.0),\n",
       " 'Germans': ('germans', 1.0),\n",
       " 'Volkswagen AG': (None, 0.0),\n",
       " 'Opel AG': (None, 0.0),\n",
       " 'General Motors': (None, 0.0),\n",
       " 'Ford': ('holden', 0.7886603),\n",
       " 'Porsche': ('porsche', 1.0),\n",
       " 'GREEK': ('greek', 1.0),\n",
       " 'ATHENS': ('athens', 1.0),\n",
       " 'Greek': ('greek', 1.0),\n",
       " 'Costas Simitis': (None, 0.0),\n",
       " 'Costas Skandalidis': (None, 0.0),\n",
       " 'BAYERISCHE VEREINSBANK': (None, 0.0),\n",
       " 'GERMAN': ('german', 1.0),\n",
       " 'SWEDISH': ('danish', 0.84320223),\n",
       " 'ENGLISH': ('english', 1.0),\n",
       " 'SWEDEN': ('denmark', 0.86809367),\n",
       " 'Syria': ('homs', 0.83179307),\n",
       " 'Tartous': ('latakia', 0.81062716),\n",
       " 'Israel': ('jerusalem', 0.7822038),\n",
       " 'JERUSALEM': ('jerusalem', 1.0),\n",
       " 'Itamar Rabinovich': (None, 0.0),\n",
       " 'Washington': ('washington', 1.0),\n",
       " 'Israel Radio': (None, 0.0),\n",
       " 'Damascus': ('damascus', 1.0),\n",
       " 'Rabinovich': ('schneersohn', 0.6684992),\n",
       " 'Eliahu Ben-Elissar': (None, 0.0),\n",
       " 'Israeli': ('idf', 0.8149787),\n",
       " 'Egypt': ('libya', 0.8159801),\n",
       " 'Likud': ('likud', 1.0),\n",
       " 'David Levy': (None, 0.0),\n",
       " 'Benjamin Netanyahu': (None, 0.0),\n",
       " 'Golan Heights': (None, 0.0),\n",
       " 'Middle East': (None, 0.0),\n",
       " 'Golan': ('golan', 1.0),\n",
       " 'Channel Two': (None, 0.0),\n",
       " 'Netanyahu': ('shamir', 0.7612566),\n",
       " 'United States': (None, 0.0),\n",
       " 'Moscow': ('moscow', 1.0),\n",
       " 'Polish': ('polish', 1.0)}"
      ]
     },
     "execution_count": 53,
     "metadata": {},
     "output_type": "execute_result"
    }
   ],
   "source": [
    "# Display generated dictionary\n",
    "w2v_similarity_title_dict"
   ]
  },
  {
   "cell_type": "markdown",
   "metadata": {},
   "source": [
    "#### It is impossible to match multi-word strings using wikipedia2vec."
   ]
  },
  {
   "cell_type": "code",
   "execution_count": 47,
   "metadata": {
    "scrolled": true
   },
   "outputs": [
    {
     "name": "stderr",
     "output_type": "stream",
     "text": [
      "  0%|          | 1/891 [00:01<26:17,  1.77s/it]"
     ]
    },
    {
     "name": "stdout",
     "output_type": "stream",
     "text": [
      "full_mention:  German\n",
      "full_mention Matched Value:  None 0.0\n"
     ]
    },
    {
     "name": "stderr",
     "output_type": "stream",
     "text": [
      "\r",
      "  0%|          | 2/891 [00:02<19:41,  1.33s/it]"
     ]
    },
    {
     "name": "stdout",
     "output_type": "stream",
     "text": [
      "full_mention:  British\n",
      "full_mention Matched Value:  None 0.0\n"
     ]
    },
    {
     "name": "stderr",
     "output_type": "stream",
     "text": [
      "\r",
      "  0%|          | 3/891 [00:02<14:55,  1.01s/it]"
     ]
    },
    {
     "name": "stdout",
     "output_type": "stream",
     "text": [
      "full_mention:  BRUSSELS\n",
      "full_mention Matched Value:  None 0.0\n"
     ]
    },
    {
     "name": "stderr",
     "output_type": "stream",
     "text": [
      "\r",
      "  0%|          | 4/891 [00:02<11:33,  1.28it/s]"
     ]
    },
    {
     "name": "stdout",
     "output_type": "stream",
     "text": [
      "full_mention:  European Commission\n",
      "full_mention Matched Value:  None 0.0\n"
     ]
    },
    {
     "name": "stderr",
     "output_type": "stream",
     "text": [
      "\r",
      "  1%|          | 5/891 [00:02<09:09,  1.61it/s]"
     ]
    },
    {
     "name": "stdout",
     "output_type": "stream",
     "text": [
      "full_mention:  European Commission\n",
      "full_mention Matched Value:  None 0.0\n"
     ]
    },
    {
     "name": "stderr",
     "output_type": "stream",
     "text": [
      "\r",
      "  1%|          | 6/891 [00:03<07:30,  1.96it/s]"
     ]
    },
    {
     "name": "stdout",
     "output_type": "stream",
     "text": [
      "full_mention:  German\n",
      "full_mention Matched Value:  None 0.0\n"
     ]
    },
    {
     "name": "stderr",
     "output_type": "stream",
     "text": [
      "\r",
      "  1%|          | 7/891 [00:03<06:27,  2.28it/s]"
     ]
    },
    {
     "name": "stdout",
     "output_type": "stream",
     "text": [
      "full_mention:  British\n",
      "full_mention Matched Value:  None 0.0\n"
     ]
    },
    {
     "name": "stderr",
     "output_type": "stream",
     "text": [
      "\r",
      "  1%|          | 8/891 [00:03<05:37,  2.62it/s]"
     ]
    },
    {
     "name": "stdout",
     "output_type": "stream",
     "text": [
      "full_mention:  Germany\n",
      "full_mention Matched Value:  None 0.0\n"
     ]
    },
    {
     "name": "stderr",
     "output_type": "stream",
     "text": [
      "\r",
      "  1%|          | 9/891 [00:03<04:58,  2.95it/s]"
     ]
    },
    {
     "name": "stdout",
     "output_type": "stream",
     "text": [
      "full_mention:  European Union\n",
      "full_mention Matched Value:  None 0.0\n"
     ]
    },
    {
     "name": "stderr",
     "output_type": "stream",
     "text": [
      "\r",
      "  1%|          | 10/891 [00:04<04:31,  3.25it/s]"
     ]
    },
    {
     "name": "stdout",
     "output_type": "stream",
     "text": [
      "full_mention:  European Union\n",
      "full_mention Matched Value:  None 0.0\n"
     ]
    },
    {
     "name": "stderr",
     "output_type": "stream",
     "text": [
      "\r",
      "  1%|          | 11/891 [00:04<04:14,  3.45it/s]"
     ]
    },
    {
     "name": "stdout",
     "output_type": "stream",
     "text": [
      "full_mention:  Britain\n",
      "full_mention Matched Value:  None 0.0\n"
     ]
    },
    {
     "name": "stderr",
     "output_type": "stream",
     "text": [
      "\r",
      "  1%|▏         | 12/891 [00:04<04:00,  3.65it/s]"
     ]
    },
    {
     "name": "stdout",
     "output_type": "stream",
     "text": [
      "full_mention:  Commission\n",
      "full_mention Matched Value:  None 0.0\n"
     ]
    },
    {
     "name": "stderr",
     "output_type": "stream",
     "text": [
      "\r",
      "  1%|▏         | 13/891 [00:04<03:53,  3.76it/s]"
     ]
    },
    {
     "name": "stdout",
     "output_type": "stream",
     "text": [
      "full_mention:  European Union\n",
      "full_mention Matched Value:  None 0.0\n"
     ]
    },
    {
     "name": "stderr",
     "output_type": "stream",
     "text": [
      "\r",
      "  2%|▏         | 14/891 [00:05<03:47,  3.86it/s]"
     ]
    },
    {
     "name": "stdout",
     "output_type": "stream",
     "text": [
      "full_mention:  European Union\n",
      "full_mention Matched Value:  None 0.0\n"
     ]
    },
    {
     "name": "stderr",
     "output_type": "stream",
     "text": [
      "\r",
      "  2%|▏         | 15/891 [00:05<03:43,  3.92it/s]"
     ]
    },
    {
     "name": "stdout",
     "output_type": "stream",
     "text": [
      "full_mention:  Franz Fischler\n",
      "full_mention Matched Value:  None 0.0\n"
     ]
    },
    {
     "name": "stderr",
     "output_type": "stream",
     "text": [
      "\r",
      "  2%|▏         | 16/891 [00:05<03:39,  3.98it/s]"
     ]
    },
    {
     "name": "stdout",
     "output_type": "stream",
     "text": [
      "full_mention:  Franz Fischler\n",
      "full_mention Matched Value:  None 0.0\n"
     ]
    },
    {
     "name": "stderr",
     "output_type": "stream",
     "text": [
      "\r",
      "  2%|▏         | 17/891 [00:05<03:36,  4.03it/s]"
     ]
    },
    {
     "name": "stdout",
     "output_type": "stream",
     "text": [
      "full_mention:  Britain\n",
      "full_mention Matched Value:  None 0.0\n"
     ]
    },
    {
     "name": "stderr",
     "output_type": "stream",
     "text": [
      "\r",
      "  2%|▏         | 18/891 [00:06<03:35,  4.06it/s]"
     ]
    },
    {
     "name": "stdout",
     "output_type": "stream",
     "text": [
      "full_mention:  France\n",
      "full_mention Matched Value:  None 0.0\n"
     ]
    },
    {
     "name": "stderr",
     "output_type": "stream",
     "text": [
      "\r",
      "  2%|▏         | 19/891 [00:06<03:33,  4.09it/s]"
     ]
    },
    {
     "name": "stdout",
     "output_type": "stream",
     "text": [
      "full_mention:  BSE\n",
      "full_mention Matched Value:  None 0.0\n"
     ]
    },
    {
     "name": "stderr",
     "output_type": "stream",
     "text": [
      "\r",
      "  2%|▏         | 20/891 [00:06<03:36,  4.03it/s]"
     ]
    },
    {
     "name": "stdout",
     "output_type": "stream",
     "text": [
      "full_mention:  Spanish\n",
      "full_mention Matched Value:  None 0.0\n"
     ]
    },
    {
     "name": "stderr",
     "output_type": "stream",
     "text": [
      "\r",
      "  2%|▏         | 21/891 [00:06<03:35,  4.03it/s]"
     ]
    },
    {
     "name": "stdout",
     "output_type": "stream",
     "text": [
      "full_mention:  Loyola de Palacio\n",
      "full_mention Matched Value:  None 0.0\n"
     ]
    },
    {
     "name": "stderr",
     "output_type": "stream",
     "text": [
      "\r",
      "  2%|▏         | 22/891 [00:07<03:33,  4.07it/s]"
     ]
    },
    {
     "name": "stdout",
     "output_type": "stream",
     "text": [
      "full_mention:  Loyola de Palacio\n",
      "full_mention Matched Value:  None 0.0\n"
     ]
    },
    {
     "name": "stderr",
     "output_type": "stream",
     "text": [
      "\r",
      "  3%|▎         | 23/891 [00:07<03:32,  4.09it/s]"
     ]
    },
    {
     "name": "stdout",
     "output_type": "stream",
     "text": [
      "full_mention:  Loyola de Palacio\n",
      "full_mention Matched Value:  None 0.0\n"
     ]
    },
    {
     "name": "stderr",
     "output_type": "stream",
     "text": [
      "\r",
      "  3%|▎         | 24/891 [00:07<03:36,  4.01it/s]"
     ]
    },
    {
     "name": "stdout",
     "output_type": "stream",
     "text": [
      "full_mention:  France\n",
      "full_mention Matched Value:  None 0.0\n"
     ]
    },
    {
     "name": "stderr",
     "output_type": "stream",
     "text": [
      "\r",
      "  3%|▎         | 25/891 [00:07<03:34,  4.04it/s]"
     ]
    },
    {
     "name": "stdout",
     "output_type": "stream",
     "text": [
      "full_mention:  Britain\n",
      "full_mention Matched Value:  None 0.0\n"
     ]
    },
    {
     "name": "stderr",
     "output_type": "stream",
     "text": [
      "\r",
      "  3%|▎         | 26/891 [00:07<03:32,  4.06it/s]"
     ]
    },
    {
     "name": "stdout",
     "output_type": "stream",
     "text": [
      "full_mention:  BSE\n",
      "full_mention Matched Value:  None 0.0\n"
     ]
    },
    {
     "name": "stderr",
     "output_type": "stream",
     "text": [
      "\r",
      "  3%|▎         | 27/891 [00:08<03:34,  4.02it/s]"
     ]
    },
    {
     "name": "stdout",
     "output_type": "stream",
     "text": [
      "full_mention:  British\n",
      "full_mention Matched Value:  None 0.0\n"
     ]
    },
    {
     "name": "stderr",
     "output_type": "stream",
     "text": [
      "\r",
      "  3%|▎         | 28/891 [00:08<03:41,  3.90it/s]"
     ]
    },
    {
     "name": "stdout",
     "output_type": "stream",
     "text": [
      "full_mention:  German\n",
      "full_mention Matched Value:  None 0.0\n"
     ]
    },
    {
     "name": "stderr",
     "output_type": "stream",
     "text": [
      "\r",
      "  3%|▎         | 29/891 [00:08<03:38,  3.94it/s]"
     ]
    },
    {
     "name": "stdout",
     "output_type": "stream",
     "text": [
      "full_mention:  British\n",
      "full_mention Matched Value:  None 0.0\n"
     ]
    },
    {
     "name": "stderr",
     "output_type": "stream",
     "text": [
      "\r",
      "  3%|▎         | 30/891 [00:09<03:35,  4.00it/s]"
     ]
    },
    {
     "name": "stdout",
     "output_type": "stream",
     "text": [
      "full_mention:  Europe\n",
      "full_mention Matched Value:  None 0.0\n"
     ]
    },
    {
     "name": "stderr",
     "output_type": "stream",
     "text": [
      "\r",
      "  3%|▎         | 31/891 [00:09<03:33,  4.03it/s]"
     ]
    },
    {
     "name": "stdout",
     "output_type": "stream",
     "text": [
      "full_mention:  Bonn\n",
      "full_mention Matched Value:  None 0.0\n"
     ]
    },
    {
     "name": "stderr",
     "output_type": "stream",
     "text": [
      "\r",
      "  4%|▎         | 32/891 [00:09<03:32,  4.04it/s]"
     ]
    },
    {
     "name": "stdout",
     "output_type": "stream",
     "text": [
      "full_mention:  British\n",
      "full_mention Matched Value:  None 0.0\n"
     ]
    },
    {
     "name": "stderr",
     "output_type": "stream",
     "text": [
      "\r",
      "  4%|▎         | 33/891 [00:09<03:30,  4.08it/s]"
     ]
    },
    {
     "name": "stdout",
     "output_type": "stream",
     "text": [
      "full_mention:  Germany\n",
      "full_mention Matched Value:  None 0.0\n"
     ]
    },
    {
     "name": "stderr",
     "output_type": "stream",
     "text": [
      "\r",
      "  4%|▍         | 34/891 [00:09<03:29,  4.09it/s]"
     ]
    },
    {
     "name": "stdout",
     "output_type": "stream",
     "text": [
      "full_mention:  Britain\n",
      "full_mention Matched Value:  None 0.0\n"
     ]
    },
    {
     "name": "stderr",
     "output_type": "stream",
     "text": [
      "\r",
      "  4%|▍         | 35/891 [00:10<03:28,  4.10it/s]"
     ]
    },
    {
     "name": "stdout",
     "output_type": "stream",
     "text": [
      "full_mention:  British\n",
      "full_mention Matched Value:  None 0.0\n"
     ]
    },
    {
     "name": "stderr",
     "output_type": "stream",
     "text": [
      "\r",
      "  4%|▍         | 36/891 [00:10<03:28,  4.11it/s]"
     ]
    },
    {
     "name": "stdout",
     "output_type": "stream",
     "text": [
      "full_mention:  Hendrix\n",
      "full_mention Matched Value:  None 0.0\n"
     ]
    },
    {
     "name": "stderr",
     "output_type": "stream",
     "text": [
      "\r",
      "  4%|▍         | 37/891 [00:10<03:28,  4.09it/s]"
     ]
    },
    {
     "name": "stdout",
     "output_type": "stream",
     "text": [
      "full_mention:  LONDON\n",
      "full_mention Matched Value:  None 0.0\n"
     ]
    },
    {
     "name": "stderr",
     "output_type": "stream",
     "text": [
      "\r",
      "  4%|▍         | 38/891 [00:10<03:27,  4.10it/s]"
     ]
    },
    {
     "name": "stdout",
     "output_type": "stream",
     "text": [
      "full_mention:  U.S.\n",
      "full_mention Matched Value:  None 0.0\n"
     ]
    },
    {
     "name": "stderr",
     "output_type": "stream",
     "text": [
      "\r",
      "  4%|▍         | 39/891 [00:11<03:27,  4.11it/s]"
     ]
    },
    {
     "name": "stdout",
     "output_type": "stream",
     "text": [
      "full_mention:  Jimi Hendrix\n",
      "full_mention Matched Value:  None 0.0\n"
     ]
    },
    {
     "name": "stderr",
     "output_type": "stream",
     "text": [
      "\r",
      "  4%|▍         | 40/891 [00:11<03:27,  4.09it/s]"
     ]
    },
    {
     "name": "stdout",
     "output_type": "stream",
     "text": [
      "full_mention:  Jimi Hendrix\n",
      "full_mention Matched Value:  None 0.0\n"
     ]
    },
    {
     "name": "stderr",
     "output_type": "stream",
     "text": [
      "\r",
      "  5%|▍         | 41/891 [00:11<03:27,  4.09it/s]"
     ]
    },
    {
     "name": "stdout",
     "output_type": "stream",
     "text": [
      "full_mention:  Hendrix\n",
      "full_mention Matched Value:  None 0.0\n"
     ]
    },
    {
     "name": "stderr",
     "output_type": "stream",
     "text": [
      "\r",
      "  5%|▍         | 42/891 [00:11<03:27,  4.09it/s]"
     ]
    },
    {
     "name": "stdout",
     "output_type": "stream",
     "text": [
      "full_mention:  London\n",
      "full_mention Matched Value:  None 0.0\n"
     ]
    },
    {
     "name": "stderr",
     "output_type": "stream",
     "text": [
      "\r",
      "  5%|▍         | 43/891 [00:12<03:25,  4.12it/s]"
     ]
    },
    {
     "name": "stdout",
     "output_type": "stream",
     "text": [
      "full_mention:  English\n",
      "full_mention Matched Value:  None 0.0\n"
     ]
    },
    {
     "name": "stderr",
     "output_type": "stream",
     "text": [
      "\r",
      "  5%|▍         | 44/891 [00:12<03:24,  4.14it/s]"
     ]
    },
    {
     "name": "stdout",
     "output_type": "stream",
     "text": [
      "full_mention:  Nottingham\n",
      "full_mention Matched Value:  None 0.0\n"
     ]
    },
    {
     "name": "stderr",
     "output_type": "stream",
     "text": [
      "\r",
      "  5%|▌         | 45/891 [00:12<03:24,  4.14it/s]"
     ]
    },
    {
     "name": "stdout",
     "output_type": "stream",
     "text": [
      "full_mention:  Hendrix\n",
      "full_mention Matched Value:  None 0.0\n"
     ]
    },
    {
     "name": "stderr",
     "output_type": "stream",
     "text": [
      "\r",
      "  5%|▌         | 46/891 [00:12<03:24,  4.13it/s]"
     ]
    },
    {
     "name": "stdout",
     "output_type": "stream",
     "text": [
      "full_mention:  Hendrix\n",
      "full_mention Matched Value:  None 0.0\n"
     ]
    },
    {
     "name": "stderr",
     "output_type": "stream",
     "text": [
      "\r",
      "  5%|▌         | 47/891 [00:13<03:24,  4.13it/s]"
     ]
    },
    {
     "name": "stdout",
     "output_type": "stream",
     "text": [
      "full_mention:  Australian\n",
      "full_mention Matched Value:  None 0.0\n"
     ]
    },
    {
     "name": "stderr",
     "output_type": "stream",
     "text": [
      "\r",
      "  5%|▌         | 48/891 [00:13<03:24,  4.11it/s]"
     ]
    },
    {
     "name": "stdout",
     "output_type": "stream",
     "text": [
      "full_mention:  China\n",
      "full_mention Matched Value:  None 0.0\n"
     ]
    },
    {
     "name": "stderr",
     "output_type": "stream",
     "text": [
      "\r",
      "  5%|▌         | 49/891 [00:13<03:27,  4.07it/s]"
     ]
    },
    {
     "name": "stdout",
     "output_type": "stream",
     "text": [
      "full_mention:  Taiwan\n",
      "full_mention Matched Value:  None 0.0\n"
     ]
    },
    {
     "name": "stderr",
     "output_type": "stream",
     "text": [
      "\r",
      "  6%|▌         | 50/891 [00:13<03:27,  4.05it/s]"
     ]
    },
    {
     "name": "stdout",
     "output_type": "stream",
     "text": [
      "full_mention:  BEIJING\n",
      "full_mention Matched Value:  None 0.0\n"
     ]
    },
    {
     "name": "stderr",
     "output_type": "stream",
     "text": [
      "\r",
      "  6%|▌         | 51/891 [00:14<03:25,  4.09it/s]"
     ]
    },
    {
     "name": "stdout",
     "output_type": "stream",
     "text": [
      "full_mention:  China\n",
      "full_mention Matched Value:  None 0.0\n"
     ]
    },
    {
     "name": "stderr",
     "output_type": "stream",
     "text": [
      "\r",
      "  6%|▌         | 52/891 [00:14<03:24,  4.10it/s]"
     ]
    },
    {
     "name": "stdout",
     "output_type": "stream",
     "text": [
      "full_mention:  Taipei\n",
      "full_mention Matched Value:  None 0.0\n"
     ]
    },
    {
     "name": "stderr",
     "output_type": "stream",
     "text": [
      "\r",
      "  6%|▌         | 53/891 [00:14<03:23,  4.11it/s]"
     ]
    },
    {
     "name": "stdout",
     "output_type": "stream",
     "text": [
      "full_mention:  Taiwan Strait\n",
      "full_mention Matched Value:  None 0.0\n"
     ]
    },
    {
     "name": "stderr",
     "output_type": "stream",
     "text": [
      "\r",
      "  6%|▌         | 54/891 [00:14<03:23,  4.11it/s]"
     ]
    },
    {
     "name": "stdout",
     "output_type": "stream",
     "text": [
      "full_mention:  Taiwan Strait\n",
      "full_mention Matched Value:  None 0.0\n"
     ]
    },
    {
     "name": "stderr",
     "output_type": "stream",
     "text": [
      "\r",
      "  6%|▌         | 55/891 [00:15<03:24,  4.08it/s]"
     ]
    },
    {
     "name": "stdout",
     "output_type": "stream",
     "text": [
      "full_mention:  Ukraine\n",
      "full_mention Matched Value:  None 0.0\n"
     ]
    },
    {
     "name": "stderr",
     "output_type": "stream",
     "text": [
      "\r",
      "  6%|▋         | 56/891 [00:15<03:23,  4.11it/s]"
     ]
    },
    {
     "name": "stdout",
     "output_type": "stream",
     "text": [
      "full_mention:  Taiwanese\n",
      "full_mention Matched Value:  None 0.0\n"
     ]
    },
    {
     "name": "stderr",
     "output_type": "stream",
     "text": [
      "\r",
      "  6%|▋         | 57/891 [00:15<03:22,  4.12it/s]"
     ]
    },
    {
     "name": "stdout",
     "output_type": "stream",
     "text": [
      "full_mention:  Lien Chan\n",
      "full_mention Matched Value:  None 0.0\n"
     ]
    },
    {
     "name": "stderr",
     "output_type": "stream",
     "text": [
      "\r",
      "  7%|▋         | 58/891 [00:15<03:23,  4.09it/s]"
     ]
    },
    {
     "name": "stdout",
     "output_type": "stream",
     "text": [
      "full_mention:  Lien Chan\n",
      "full_mention Matched Value:  None 0.0\n"
     ]
    },
    {
     "name": "stderr",
     "output_type": "stream",
     "text": [
      "\r",
      "  7%|▋         | 59/891 [00:16<03:23,  4.10it/s]"
     ]
    },
    {
     "name": "stdout",
     "output_type": "stream",
     "text": [
      "full_mention:  Beijing\n",
      "full_mention Matched Value:  None 0.0\n"
     ]
    },
    {
     "name": "stderr",
     "output_type": "stream",
     "text": [
      "\r",
      "  7%|▋         | 60/891 [00:16<03:21,  4.12it/s]"
     ]
    },
    {
     "name": "stdout",
     "output_type": "stream",
     "text": [
      "full_mention:  Chinese\n",
      "full_mention Matched Value:  None 0.0\n"
     ]
    },
    {
     "name": "stderr",
     "output_type": "stream",
     "text": [
      "\r",
      "  7%|▋         | 61/891 [00:16<03:21,  4.12it/s]"
     ]
    },
    {
     "name": "stdout",
     "output_type": "stream",
     "text": [
      "full_mention:  Taiwan\n",
      "full_mention Matched Value:  None 0.0\n"
     ]
    },
    {
     "name": "stderr",
     "output_type": "stream",
     "text": [
      "\r",
      "  7%|▋         | 62/891 [00:16<03:21,  4.12it/s]"
     ]
    },
    {
     "name": "stdout",
     "output_type": "stream",
     "text": [
      "full_mention:  Foreign Ministry\n",
      "full_mention Matched Value:  None 0.0\n"
     ]
    },
    {
     "name": "stderr",
     "output_type": "stream",
     "text": [
      "\r",
      "  7%|▋         | 63/891 [00:17<03:20,  4.13it/s]"
     ]
    },
    {
     "name": "stdout",
     "output_type": "stream",
     "text": [
      "full_mention:  Foreign Ministry\n",
      "full_mention Matched Value:  None 0.0\n"
     ]
    },
    {
     "name": "stderr",
     "output_type": "stream",
     "text": [
      "\r",
      "  7%|▋         | 64/891 [00:17<03:20,  4.13it/s]"
     ]
    },
    {
     "name": "stdout",
     "output_type": "stream",
     "text": [
      "full_mention:  China\n",
      "full_mention Matched Value:  None 0.0\n"
     ]
    },
    {
     "name": "stderr",
     "output_type": "stream",
     "text": [
      "\r",
      "  7%|▋         | 65/891 [00:17<03:18,  4.15it/s]"
     ]
    },
    {
     "name": "stdout",
     "output_type": "stream",
     "text": [
      "full_mention:  Taipei\n",
      "full_mention Matched Value:  None 0.0\n"
     ]
    },
    {
     "name": "stderr",
     "output_type": "stream",
     "text": [
      "\r",
      "  7%|▋         | 66/891 [00:17<03:19,  4.13it/s]"
     ]
    },
    {
     "name": "stdout",
     "output_type": "stream",
     "text": [
      "full_mention:  Taiwan\n",
      "full_mention Matched Value:  None 0.0\n"
     ]
    },
    {
     "name": "stderr",
     "output_type": "stream",
     "text": [
      "\r",
      "  8%|▊         | 67/891 [00:18<03:19,  4.14it/s]"
     ]
    },
    {
     "name": "stdout",
     "output_type": "stream",
     "text": [
      "full_mention:  Reuters Television\n",
      "full_mention Matched Value:  None 0.0\n"
     ]
    },
    {
     "name": "stderr",
     "output_type": "stream",
     "text": [
      "\r",
      "  8%|▊         | 68/891 [00:18<03:18,  4.14it/s]"
     ]
    },
    {
     "name": "stdout",
     "output_type": "stream",
     "text": [
      "full_mention:  Reuters Television\n",
      "full_mention Matched Value:  None 0.0\n"
     ]
    },
    {
     "name": "stderr",
     "output_type": "stream",
     "text": [
      "\r",
      "  8%|▊         | 69/891 [00:18<03:20,  4.10it/s]"
     ]
    },
    {
     "name": "stdout",
     "output_type": "stream",
     "text": [
      "full_mention:  Taiwan\n",
      "full_mention Matched Value:  None 0.0\n"
     ]
    },
    {
     "name": "stderr",
     "output_type": "stream",
     "text": [
      "\r",
      "  8%|▊         | 70/891 [00:18<03:19,  4.12it/s]"
     ]
    },
    {
     "name": "stdout",
     "output_type": "stream",
     "text": [
      "full_mention:  Beijing\n",
      "full_mention Matched Value:  None 0.0\n"
     ]
    },
    {
     "name": "stderr",
     "output_type": "stream",
     "text": [
      "\r",
      "  8%|▊         | 71/891 [00:18<03:20,  4.09it/s]"
     ]
    },
    {
     "name": "stdout",
     "output_type": "stream",
     "text": [
      "full_mention:  China\n",
      "full_mention Matched Value:  None 0.0\n"
     ]
    },
    {
     "name": "stderr",
     "output_type": "stream",
     "text": [
      "\r",
      "  8%|▊         | 72/891 [00:19<03:19,  4.11it/s]"
     ]
    },
    {
     "name": "stdout",
     "output_type": "stream",
     "text": [
      "full_mention:  Taipei\n",
      "full_mention Matched Value:  None 0.0\n"
     ]
    },
    {
     "name": "stderr",
     "output_type": "stream",
     "text": [
      "\r",
      "  8%|▊         | 73/891 [00:19<03:18,  4.13it/s]"
     ]
    },
    {
     "name": "stdout",
     "output_type": "stream",
     "text": [
      "full_mention:  Ukraine\n",
      "full_mention Matched Value:  None 0.0\n"
     ]
    },
    {
     "name": "stderr",
     "output_type": "stream",
     "text": [
      "\r",
      "  8%|▊         | 74/891 [00:19<03:18,  4.12it/s]"
     ]
    },
    {
     "name": "stdout",
     "output_type": "stream",
     "text": [
      "full_mention:  Taiwanese\n",
      "full_mention Matched Value:  None 0.0\n"
     ]
    },
    {
     "name": "stderr",
     "output_type": "stream",
     "text": [
      "\r",
      "  8%|▊         | 75/891 [00:19<03:17,  4.13it/s]"
     ]
    },
    {
     "name": "stdout",
     "output_type": "stream",
     "text": [
      "full_mention:  China\n",
      "full_mention Matched Value:  None 0.0\n"
     ]
    },
    {
     "name": "stderr",
     "output_type": "stream",
     "text": [
      "\r",
      "  9%|▊         | 76/891 [00:20<03:18,  4.10it/s]"
     ]
    },
    {
     "name": "stdout",
     "output_type": "stream",
     "text": [
      "full_mention:  Taiwan\n",
      "full_mention Matched Value:  None 0.0\n"
     ]
    },
    {
     "name": "stderr",
     "output_type": "stream",
     "text": [
      "\r",
      "  9%|▊         | 77/891 [00:20<03:17,  4.12it/s]"
     ]
    },
    {
     "name": "stdout",
     "output_type": "stream",
     "text": [
      "full_mention:  BEIJING\n",
      "full_mention Matched Value:  None 0.0\n"
     ]
    },
    {
     "name": "stderr",
     "output_type": "stream",
     "text": [
      "\r",
      "  9%|▉         | 78/891 [00:20<03:15,  4.15it/s]"
     ]
    },
    {
     "name": "stdout",
     "output_type": "stream",
     "text": [
      "full_mention:  China\n",
      "full_mention Matched Value:  None 0.0\n"
     ]
    },
    {
     "name": "stderr",
     "output_type": "stream",
     "text": [
      "\r",
      "  9%|▉         | 79/891 [00:20<03:16,  4.14it/s]"
     ]
    },
    {
     "name": "stdout",
     "output_type": "stream",
     "text": [
      "full_mention:  Taiwan\n",
      "full_mention Matched Value:  None 0.0\n"
     ]
    },
    {
     "name": "stderr",
     "output_type": "stream",
     "text": [
      "\r",
      "  9%|▉         | 80/891 [00:21<03:17,  4.10it/s]"
     ]
    },
    {
     "name": "stdout",
     "output_type": "stream",
     "text": [
      "full_mention:  Xinhua\n",
      "full_mention Matched Value:  None 0.0\n"
     ]
    },
    {
     "name": "stderr",
     "output_type": "stream",
     "text": [
      "\r",
      "  9%|▉         | 81/891 [00:21<03:18,  4.09it/s]"
     ]
    },
    {
     "name": "stdout",
     "output_type": "stream",
     "text": [
      "full_mention:  Association for Relations Across the Taiwan Straits\n",
      "full_mention Matched Value:  None 0.0\n"
     ]
    },
    {
     "name": "stderr",
     "output_type": "stream",
     "text": [
      "\r",
      "  9%|▉         | 82/891 [00:21<03:16,  4.11it/s]"
     ]
    },
    {
     "name": "stdout",
     "output_type": "stream",
     "text": [
      "full_mention:  Association for Relations Across the Taiwan Straits\n",
      "full_mention Matched Value:  None 0.0\n"
     ]
    },
    {
     "name": "stderr",
     "output_type": "stream",
     "text": [
      "\r",
      "  9%|▉         | 83/891 [00:21<03:16,  4.11it/s]"
     ]
    },
    {
     "name": "stdout",
     "output_type": "stream",
     "text": [
      "full_mention:  Association for Relations Across the Taiwan Straits\n",
      "full_mention Matched Value:  None 0.0\n"
     ]
    },
    {
     "name": "stderr",
     "output_type": "stream",
     "text": [
      "\r",
      "  9%|▉         | 84/891 [00:22<03:16,  4.10it/s]"
     ]
    },
    {
     "name": "stdout",
     "output_type": "stream",
     "text": [
      "full_mention:  Association for Relations Across the Taiwan Straits\n",
      "full_mention Matched Value:  None 0.0\n"
     ]
    },
    {
     "name": "stderr",
     "output_type": "stream",
     "text": [
      "\r",
      " 10%|▉         | 85/891 [00:22<03:16,  4.09it/s]"
     ]
    },
    {
     "name": "stdout",
     "output_type": "stream",
     "text": [
      "full_mention:  Association for Relations Across the Taiwan Straits\n",
      "full_mention Matched Value:  None 0.0\n"
     ]
    },
    {
     "name": "stderr",
     "output_type": "stream",
     "text": [
      "\r",
      " 10%|▉         | 86/891 [00:22<03:15,  4.11it/s]"
     ]
    },
    {
     "name": "stdout",
     "output_type": "stream",
     "text": [
      "full_mention:  Association for Relations Across the Taiwan Straits\n",
      "full_mention Matched Value:  None 0.0\n"
     ]
    },
    {
     "name": "stderr",
     "output_type": "stream",
     "text": [
      "\r",
      " 10%|▉         | 87/891 [00:22<03:15,  4.12it/s]"
     ]
    },
    {
     "name": "stdout",
     "output_type": "stream",
     "text": [
      "full_mention:  Association for Relations Across the Taiwan Straits\n",
      "full_mention Matched Value:  None 0.0\n"
     ]
    },
    {
     "name": "stderr",
     "output_type": "stream",
     "text": [
      "\r",
      " 10%|▉         | 88/891 [00:23<03:14,  4.13it/s]"
     ]
    },
    {
     "name": "stdout",
     "output_type": "stream",
     "text": [
      "full_mention:  German\n",
      "full_mention Matched Value:  None 0.0\n"
     ]
    },
    {
     "name": "stderr",
     "output_type": "stream",
     "text": [
      "\r",
      " 10%|▉         | 89/891 [00:23<03:18,  4.04it/s]"
     ]
    },
    {
     "name": "stdout",
     "output_type": "stream",
     "text": [
      "full_mention:  FRANKFURT\n",
      "full_mention Matched Value:  None 0.0\n"
     ]
    },
    {
     "name": "stderr",
     "output_type": "stream",
     "text": [
      "\r",
      " 10%|█         | 90/891 [00:23<03:19,  4.02it/s]"
     ]
    },
    {
     "name": "stdout",
     "output_type": "stream",
     "text": [
      "full_mention:  German\n",
      "full_mention Matched Value:  None 0.0\n"
     ]
    },
    {
     "name": "stderr",
     "output_type": "stream",
     "text": [
      "\r",
      " 10%|█         | 91/891 [00:23<03:17,  4.06it/s]"
     ]
    },
    {
     "name": "stdout",
     "output_type": "stream",
     "text": [
      "full_mention:  Germans\n",
      "full_mention Matched Value:  None 0.0\n"
     ]
    },
    {
     "name": "stderr",
     "output_type": "stream",
     "text": [
      "\r",
      " 10%|█         | 92/891 [00:24<03:16,  4.08it/s]"
     ]
    },
    {
     "name": "stdout",
     "output_type": "stream",
     "text": [
      "full_mention:  German\n",
      "full_mention Matched Value:  None 0.0\n"
     ]
    },
    {
     "name": "stderr",
     "output_type": "stream",
     "text": [
      "\r",
      " 10%|█         | 93/891 [00:24<03:15,  4.08it/s]"
     ]
    },
    {
     "name": "stdout",
     "output_type": "stream",
     "text": [
      "full_mention:  German\n",
      "full_mention Matched Value:  None 0.0\n"
     ]
    },
    {
     "name": "stderr",
     "output_type": "stream",
     "text": [
      "\r",
      " 11%|█         | 94/891 [00:24<03:14,  4.10it/s]"
     ]
    },
    {
     "name": "stdout",
     "output_type": "stream",
     "text": [
      "full_mention:  Volkswagen AG\n",
      "full_mention Matched Value:  None 0.0\n"
     ]
    },
    {
     "name": "stderr",
     "output_type": "stream",
     "text": [
      "\r",
      " 11%|█         | 95/891 [00:24<03:14,  4.10it/s]"
     ]
    },
    {
     "name": "stdout",
     "output_type": "stream",
     "text": [
      "full_mention:  Volkswagen AG\n",
      "full_mention Matched Value:  None 0.0\n"
     ]
    },
    {
     "name": "stderr",
     "output_type": "stream",
     "text": [
      "\r",
      " 11%|█         | 96/891 [00:25<03:12,  4.12it/s]"
     ]
    },
    {
     "name": "stdout",
     "output_type": "stream",
     "text": [
      "full_mention:  Opel AG\n",
      "full_mention Matched Value:  None 0.0\n"
     ]
    },
    {
     "name": "stderr",
     "output_type": "stream",
     "text": [
      "\r",
      " 11%|█         | 97/891 [00:25<03:14,  4.09it/s]"
     ]
    },
    {
     "name": "stdout",
     "output_type": "stream",
     "text": [
      "full_mention:  Opel AG\n",
      "full_mention Matched Value:  None 0.0\n"
     ]
    },
    {
     "name": "stderr",
     "output_type": "stream",
     "text": [
      "\r",
      " 11%|█         | 98/891 [00:25<03:14,  4.08it/s]"
     ]
    },
    {
     "name": "stdout",
     "output_type": "stream",
     "text": [
      "full_mention:  General Motors\n",
      "full_mention Matched Value:  None 0.0\n"
     ]
    },
    {
     "name": "stderr",
     "output_type": "stream",
     "text": [
      "\r",
      " 11%|█         | 99/891 [00:25<03:12,  4.12it/s]"
     ]
    },
    {
     "name": "stdout",
     "output_type": "stream",
     "text": [
      "full_mention:  General Motors\n",
      "full_mention Matched Value:  None 0.0\n"
     ]
    },
    {
     "name": "stderr",
     "output_type": "stream",
     "text": [
      "\r",
      " 11%|█         | 100/891 [00:26<03:11,  4.12it/s]"
     ]
    },
    {
     "name": "stdout",
     "output_type": "stream",
     "text": [
      "full_mention:  Ford\n",
      "full_mention Matched Value:  None 0.0\n"
     ]
    },
    {
     "name": "stderr",
     "output_type": "stream",
     "text": [
      "\r",
      " 11%|█▏        | 101/891 [00:26<03:10,  4.14it/s]"
     ]
    },
    {
     "name": "stdout",
     "output_type": "stream",
     "text": [
      "full_mention:  Porsche\n",
      "full_mention Matched Value:  None 0.0\n"
     ]
    },
    {
     "name": "stderr",
     "output_type": "stream",
     "text": [
      "\r",
      " 11%|█▏        | 102/891 [00:26<03:11,  4.12it/s]"
     ]
    },
    {
     "name": "stdout",
     "output_type": "stream",
     "text": [
      "full_mention:  Porsche\n",
      "full_mention Matched Value:  None 0.0\n"
     ]
    },
    {
     "name": "stderr",
     "output_type": "stream",
     "text": [
      "\r",
      " 12%|█▏        | 103/891 [00:26<03:11,  4.12it/s]"
     ]
    },
    {
     "name": "stdout",
     "output_type": "stream",
     "text": [
      "full_mention:  GREEK\n",
      "full_mention Matched Value:  None 0.0\n"
     ]
    },
    {
     "name": "stderr",
     "output_type": "stream",
     "text": [
      "\r",
      " 12%|█▏        | 104/891 [00:27<03:11,  4.11it/s]"
     ]
    },
    {
     "name": "stdout",
     "output_type": "stream",
     "text": [
      "full_mention:  ATHENS\n",
      "full_mention Matched Value:  None 0.0\n"
     ]
    },
    {
     "name": "stderr",
     "output_type": "stream",
     "text": [
      "\r",
      " 12%|█▏        | 105/891 [00:27<03:10,  4.12it/s]"
     ]
    },
    {
     "name": "stdout",
     "output_type": "stream",
     "text": [
      "full_mention:  Greek\n",
      "full_mention Matched Value:  None 0.0\n"
     ]
    },
    {
     "name": "stderr",
     "output_type": "stream",
     "text": [
      "\r",
      " 12%|█▏        | 106/891 [00:27<03:12,  4.08it/s]"
     ]
    },
    {
     "name": "stdout",
     "output_type": "stream",
     "text": [
      "full_mention:  Costas Simitis\n",
      "full_mention Matched Value:  None 0.0\n"
     ]
    },
    {
     "name": "stderr",
     "output_type": "stream",
     "text": [
      "\r",
      " 12%|█▏        | 107/891 [00:27<03:11,  4.10it/s]"
     ]
    },
    {
     "name": "stdout",
     "output_type": "stream",
     "text": [
      "full_mention:  Costas Simitis\n",
      "full_mention Matched Value:  None 0.0\n"
     ]
    },
    {
     "name": "stderr",
     "output_type": "stream",
     "text": [
      "\r",
      " 12%|█▏        | 108/891 [00:27<03:09,  4.14it/s]"
     ]
    },
    {
     "name": "stdout",
     "output_type": "stream",
     "text": [
      "full_mention:  Costas Skandalidis\n",
      "full_mention Matched Value:  None 0.0\n"
     ]
    },
    {
     "name": "stderr",
     "output_type": "stream",
     "text": [
      "\r",
      " 12%|█▏        | 109/891 [00:28<03:10,  4.11it/s]"
     ]
    },
    {
     "name": "stdout",
     "output_type": "stream",
     "text": [
      "full_mention:  Costas Skandalidis\n",
      "full_mention Matched Value:  None 0.0\n"
     ]
    },
    {
     "name": "stderr",
     "output_type": "stream",
     "text": [
      "\r",
      " 12%|█▏        | 110/891 [00:28<03:13,  4.03it/s]"
     ]
    },
    {
     "name": "stdout",
     "output_type": "stream",
     "text": [
      "full_mention:  Costas Simitis\n",
      "full_mention Matched Value:  None 0.0\n"
     ]
    },
    {
     "name": "stderr",
     "output_type": "stream",
     "text": [
      "\r",
      " 12%|█▏        | 111/891 [00:28<03:14,  4.02it/s]"
     ]
    },
    {
     "name": "stdout",
     "output_type": "stream",
     "text": [
      "full_mention:  Costas Simitis\n",
      "full_mention Matched Value:  None 0.0\n"
     ]
    },
    {
     "name": "stderr",
     "output_type": "stream",
     "text": [
      "\r",
      " 13%|█▎        | 112/891 [00:28<03:13,  4.02it/s]"
     ]
    },
    {
     "name": "stdout",
     "output_type": "stream",
     "text": [
      "full_mention:  LONDON\n",
      "full_mention Matched Value:  None 0.0\n"
     ]
    },
    {
     "name": "stderr",
     "output_type": "stream",
     "text": [
      "\r",
      " 13%|█▎        | 113/891 [00:29<03:12,  4.03it/s]"
     ]
    },
    {
     "name": "stdout",
     "output_type": "stream",
     "text": [
      "full_mention:  BAYERISCHE VEREINSBANK\n",
      "full_mention Matched Value:  None 0.0\n"
     ]
    },
    {
     "name": "stderr",
     "output_type": "stream",
     "text": [
      "\r",
      " 13%|█▎        | 114/891 [00:29<03:12,  4.04it/s]"
     ]
    },
    {
     "name": "stdout",
     "output_type": "stream",
     "text": [
      "full_mention:  BAYERISCHE VEREINSBANK\n",
      "full_mention Matched Value:  None 0.0\n"
     ]
    },
    {
     "name": "stderr",
     "output_type": "stream",
     "text": [
      "\r",
      " 13%|█▎        | 115/891 [00:29<03:12,  4.04it/s]"
     ]
    },
    {
     "name": "stdout",
     "output_type": "stream",
     "text": [
      "full_mention:  GERMAN\n",
      "full_mention Matched Value:  None 0.0\n"
     ]
    },
    {
     "name": "stderr",
     "output_type": "stream",
     "text": [
      "\r",
      " 13%|█▎        | 116/891 [00:29<03:12,  4.03it/s]"
     ]
    },
    {
     "name": "stdout",
     "output_type": "stream",
     "text": [
      "full_mention:  BAYERISCHE VEREINSBANK\n",
      "full_mention Matched Value:  None 0.0\n"
     ]
    },
    {
     "name": "stderr",
     "output_type": "stream",
     "text": [
      "\r",
      " 13%|█▎        | 117/891 [00:30<03:11,  4.04it/s]"
     ]
    },
    {
     "name": "stdout",
     "output_type": "stream",
     "text": [
      "full_mention:  BAYERISCHE VEREINSBANK\n",
      "full_mention Matched Value:  None 0.0\n"
     ]
    },
    {
     "name": "stderr",
     "output_type": "stream",
     "text": [
      "\r",
      " 13%|█▎        | 118/891 [00:30<03:09,  4.07it/s]"
     ]
    },
    {
     "name": "stdout",
     "output_type": "stream",
     "text": [
      "full_mention:  LONDON\n",
      "full_mention Matched Value:  None 0.0\n"
     ]
    },
    {
     "name": "stderr",
     "output_type": "stream",
     "text": [
      "\r",
      " 13%|█▎        | 119/891 [00:30<03:10,  4.05it/s]"
     ]
    },
    {
     "name": "stdout",
     "output_type": "stream",
     "text": [
      "full_mention:  SWEDISH\n",
      "full_mention Matched Value:  None 0.0\n"
     ]
    },
    {
     "name": "stderr",
     "output_type": "stream",
     "text": [
      "\r",
      " 13%|█▎        | 120/891 [00:30<03:10,  4.06it/s]"
     ]
    },
    {
     "name": "stdout",
     "output_type": "stream",
     "text": [
      "full_mention:  LONDON\n",
      "full_mention Matched Value:  None 0.0\n"
     ]
    },
    {
     "name": "stderr",
     "output_type": "stream",
     "text": [
      "\r",
      " 14%|█▎        | 121/891 [00:31<03:09,  4.06it/s]"
     ]
    },
    {
     "name": "stdout",
     "output_type": "stream",
     "text": [
      "full_mention:  ENGLISH\n",
      "full_mention Matched Value:  None 0.0\n"
     ]
    },
    {
     "name": "stderr",
     "output_type": "stream",
     "text": [
      "\r",
      " 14%|█▎        | 122/891 [00:31<03:08,  4.09it/s]"
     ]
    },
    {
     "name": "stdout",
     "output_type": "stream",
     "text": [
      "full_mention:  SWEDEN\n",
      "full_mention Matched Value:  None 0.0\n"
     ]
    },
    {
     "name": "stderr",
     "output_type": "stream",
     "text": [
      "\r",
      " 14%|█▍        | 123/891 [00:31<03:08,  4.08it/s]"
     ]
    },
    {
     "name": "stdout",
     "output_type": "stream",
     "text": [
      "full_mention:  Syria\n",
      "full_mention Matched Value:  None 0.0\n"
     ]
    },
    {
     "name": "stderr",
     "output_type": "stream",
     "text": [
      "\r",
      " 14%|█▍        | 124/891 [00:31<03:07,  4.09it/s]"
     ]
    },
    {
     "name": "stdout",
     "output_type": "stream",
     "text": [
      "full_mention:  Tartous\n",
      "full_mention Matched Value:  None 0.0\n"
     ]
    },
    {
     "name": "stderr",
     "output_type": "stream",
     "text": [
      "\r",
      " 14%|█▍        | 125/891 [00:32<03:07,  4.08it/s]"
     ]
    },
    {
     "name": "stdout",
     "output_type": "stream",
     "text": [
      "full_mention:  Israel\n",
      "full_mention Matched Value:  None 0.0\n"
     ]
    },
    {
     "name": "stderr",
     "output_type": "stream",
     "text": [
      "\r",
      " 14%|█▍        | 126/891 [00:32<03:07,  4.08it/s]"
     ]
    },
    {
     "name": "stdout",
     "output_type": "stream",
     "text": [
      "full_mention:  Syria\n",
      "full_mention Matched Value:  None 0.0\n"
     ]
    },
    {
     "name": "stderr",
     "output_type": "stream",
     "text": [
      "\r",
      " 14%|█▍        | 127/891 [00:32<03:07,  4.07it/s]"
     ]
    },
    {
     "name": "stdout",
     "output_type": "stream",
     "text": [
      "full_mention:  JERUSALEM\n",
      "full_mention Matched Value:  None 0.0\n"
     ]
    },
    {
     "name": "stderr",
     "output_type": "stream",
     "text": [
      "\r",
      " 14%|█▍        | 128/891 [00:32<03:07,  4.07it/s]"
     ]
    },
    {
     "name": "stdout",
     "output_type": "stream",
     "text": [
      "full_mention:  Israel\n",
      "full_mention Matched Value:  None 0.0\n"
     ]
    },
    {
     "name": "stderr",
     "output_type": "stream",
     "text": [
      "\r",
      " 14%|█▍        | 129/891 [00:33<03:10,  4.01it/s]"
     ]
    },
    {
     "name": "stdout",
     "output_type": "stream",
     "text": [
      "full_mention:  Syria\n",
      "full_mention Matched Value:  None 0.0\n"
     ]
    },
    {
     "name": "stderr",
     "output_type": "stream",
     "text": [
      "\r",
      " 15%|█▍        | 130/891 [00:33<03:11,  3.98it/s]"
     ]
    },
    {
     "name": "stdout",
     "output_type": "stream",
     "text": [
      "full_mention:  Itamar Rabinovich\n",
      "full_mention Matched Value:  None 0.0\n"
     ]
    },
    {
     "name": "stderr",
     "output_type": "stream",
     "text": [
      "\r",
      " 15%|█▍        | 131/891 [00:33<03:10,  3.98it/s]"
     ]
    },
    {
     "name": "stdout",
     "output_type": "stream",
     "text": [
      "full_mention:  Itamar Rabinovich\n",
      "full_mention Matched Value:  None 0.0\n"
     ]
    },
    {
     "name": "stderr",
     "output_type": "stream",
     "text": [
      "\r",
      " 15%|█▍        | 132/891 [00:33<03:12,  3.95it/s]"
     ]
    },
    {
     "name": "stdout",
     "output_type": "stream",
     "text": [
      "full_mention:  Israel\n",
      "full_mention Matched Value:  None 0.0\n"
     ]
    },
    {
     "name": "stderr",
     "output_type": "stream",
     "text": [
      "\r",
      " 15%|█▍        | 133/891 [00:34<03:12,  3.93it/s]"
     ]
    },
    {
     "name": "stdout",
     "output_type": "stream",
     "text": [
      "full_mention:  Washington\n",
      "full_mention Matched Value:  None 0.0\n"
     ]
    },
    {
     "name": "stderr",
     "output_type": "stream",
     "text": [
      "\r",
      " 15%|█▌        | 134/891 [00:34<03:14,  3.89it/s]"
     ]
    },
    {
     "name": "stdout",
     "output_type": "stream",
     "text": [
      "full_mention:  Syria\n",
      "full_mention Matched Value:  None 0.0\n"
     ]
    },
    {
     "name": "stderr",
     "output_type": "stream",
     "text": [
      "\r",
      " 15%|█▌        | 135/891 [00:34<03:13,  3.91it/s]"
     ]
    },
    {
     "name": "stdout",
     "output_type": "stream",
     "text": [
      "full_mention:  Israel Radio\n",
      "full_mention Matched Value:  None 0.0\n"
     ]
    },
    {
     "name": "stderr",
     "output_type": "stream",
     "text": [
      "\r",
      " 15%|█▌        | 136/891 [00:34<03:13,  3.91it/s]"
     ]
    },
    {
     "name": "stdout",
     "output_type": "stream",
     "text": [
      "full_mention:  Israel Radio\n",
      "full_mention Matched Value:  None 0.0\n"
     ]
    },
    {
     "name": "stderr",
     "output_type": "stream",
     "text": [
      "\r",
      " 15%|█▌        | 137/891 [00:35<03:10,  3.96it/s]"
     ]
    },
    {
     "name": "stdout",
     "output_type": "stream",
     "text": [
      "full_mention:  Damascus\n",
      "full_mention Matched Value:  None 0.0\n"
     ]
    },
    {
     "name": "stderr",
     "output_type": "stream",
     "text": [
      "\r",
      " 15%|█▌        | 138/891 [00:35<03:11,  3.92it/s]"
     ]
    },
    {
     "name": "stdout",
     "output_type": "stream",
     "text": [
      "full_mention:  Rabinovich\n",
      "full_mention Matched Value:  None 0.0\n"
     ]
    },
    {
     "name": "stderr",
     "output_type": "stream",
     "text": [
      "\r",
      " 16%|█▌        | 139/891 [00:35<03:11,  3.93it/s]"
     ]
    },
    {
     "name": "stdout",
     "output_type": "stream",
     "text": [
      "full_mention:  Eliahu Ben-Elissar\n",
      "full_mention Matched Value:  None 0.0\n"
     ]
    },
    {
     "name": "stderr",
     "output_type": "stream",
     "text": [
      "\r",
      " 16%|█▌        | 140/891 [00:35<03:11,  3.92it/s]"
     ]
    },
    {
     "name": "stdout",
     "output_type": "stream",
     "text": [
      "full_mention:  Eliahu Ben-Elissar\n",
      "full_mention Matched Value:  None 0.0\n"
     ]
    },
    {
     "name": "stderr",
     "output_type": "stream",
     "text": [
      "\r",
      " 16%|█▌        | 141/891 [00:36<03:09,  3.97it/s]"
     ]
    },
    {
     "name": "stdout",
     "output_type": "stream",
     "text": [
      "full_mention:  Israeli\n",
      "full_mention Matched Value:  None 0.0\n"
     ]
    },
    {
     "name": "stderr",
     "output_type": "stream",
     "text": [
      "\r",
      " 16%|█▌        | 142/891 [00:36<03:07,  4.01it/s]"
     ]
    },
    {
     "name": "stdout",
     "output_type": "stream",
     "text": [
      "full_mention:  Egypt\n",
      "full_mention Matched Value:  None 0.0\n"
     ]
    },
    {
     "name": "stderr",
     "output_type": "stream",
     "text": [
      "\r",
      " 16%|█▌        | 143/891 [00:36<03:05,  4.03it/s]"
     ]
    },
    {
     "name": "stdout",
     "output_type": "stream",
     "text": [
      "full_mention:  Likud\n",
      "full_mention Matched Value:  None 0.0\n"
     ]
    },
    {
     "name": "stderr",
     "output_type": "stream",
     "text": [
      "\r",
      " 16%|█▌        | 144/891 [00:36<03:05,  4.03it/s]"
     ]
    },
    {
     "name": "stdout",
     "output_type": "stream",
     "text": [
      "full_mention:  Israel\n",
      "full_mention Matched Value:  None 0.0\n"
     ]
    },
    {
     "name": "stderr",
     "output_type": "stream",
     "text": [
      "\r",
      " 16%|█▋        | 145/891 [00:37<03:04,  4.05it/s]"
     ]
    },
    {
     "name": "stdout",
     "output_type": "stream",
     "text": [
      "full_mention:  Syria\n",
      "full_mention Matched Value:  None 0.0\n"
     ]
    },
    {
     "name": "stderr",
     "output_type": "stream",
     "text": [
      "\r",
      " 16%|█▋        | 146/891 [00:37<03:03,  4.06it/s]"
     ]
    },
    {
     "name": "stdout",
     "output_type": "stream",
     "text": [
      "full_mention:  Washington\n",
      "full_mention Matched Value:  None 0.0\n"
     ]
    },
    {
     "name": "stderr",
     "output_type": "stream",
     "text": [
      "\r",
      " 16%|█▋        | 147/891 [00:37<03:02,  4.09it/s]"
     ]
    },
    {
     "name": "stdout",
     "output_type": "stream",
     "text": [
      "full_mention:  Damascus\n",
      "full_mention Matched Value:  None 0.0\n"
     ]
    },
    {
     "name": "stderr",
     "output_type": "stream",
     "text": [
      "\r",
      " 17%|█▋        | 148/891 [00:37<03:03,  4.05it/s]"
     ]
    },
    {
     "name": "stdout",
     "output_type": "stream",
     "text": [
      "full_mention:  Syria\n",
      "full_mention Matched Value:  None 0.0\n"
     ]
    },
    {
     "name": "stderr",
     "output_type": "stream",
     "text": [
      "\r",
      " 17%|█▋        | 149/891 [00:38<03:08,  3.94it/s]"
     ]
    },
    {
     "name": "stdout",
     "output_type": "stream",
     "text": [
      "full_mention:  Israel\n",
      "full_mention Matched Value:  None 0.0\n"
     ]
    },
    {
     "name": "stderr",
     "output_type": "stream",
     "text": [
      "\r",
      " 17%|█▋        | 150/891 [00:38<03:08,  3.93it/s]"
     ]
    },
    {
     "name": "stdout",
     "output_type": "stream",
     "text": [
      "full_mention:  Israeli\n",
      "full_mention Matched Value:  None 0.0\n"
     ]
    },
    {
     "name": "stderr",
     "output_type": "stream",
     "text": [
      "\r",
      " 17%|█▋        | 151/891 [00:38<03:05,  3.98it/s]"
     ]
    },
    {
     "name": "stdout",
     "output_type": "stream",
     "text": [
      "full_mention:  Damascus\n",
      "full_mention Matched Value:  None 0.0\n"
     ]
    },
    {
     "name": "stderr",
     "output_type": "stream",
     "text": [
      "\r",
      " 17%|█▋        | 152/891 [00:38<03:03,  4.02it/s]"
     ]
    },
    {
     "name": "stdout",
     "output_type": "stream",
     "text": [
      "full_mention:  Israeli\n",
      "full_mention Matched Value:  None 0.0\n"
     ]
    },
    {
     "name": "stderr",
     "output_type": "stream",
     "text": [
      "\r",
      " 17%|█▋        | 153/891 [00:39<03:01,  4.06it/s]"
     ]
    },
    {
     "name": "stdout",
     "output_type": "stream",
     "text": [
      "full_mention:  David Levy\n",
      "full_mention Matched Value:  None 0.0\n"
     ]
    },
    {
     "name": "stderr",
     "output_type": "stream",
     "text": [
      "\r",
      " 17%|█▋        | 154/891 [00:39<03:00,  4.08it/s]"
     ]
    },
    {
     "name": "stdout",
     "output_type": "stream",
     "text": [
      "full_mention:  David Levy\n",
      "full_mention Matched Value:  None 0.0\n"
     ]
    },
    {
     "name": "stderr",
     "output_type": "stream",
     "text": [
      "\r",
      " 17%|█▋        | 155/891 [00:39<03:00,  4.09it/s]"
     ]
    },
    {
     "name": "stdout",
     "output_type": "stream",
     "text": [
      "full_mention:  Israel Radio\n",
      "full_mention Matched Value:  None 0.0\n"
     ]
    },
    {
     "name": "stderr",
     "output_type": "stream",
     "text": [
      "\r",
      " 18%|█▊        | 156/891 [00:39<02:58,  4.13it/s]"
     ]
    },
    {
     "name": "stdout",
     "output_type": "stream",
     "text": [
      "full_mention:  Israel Radio\n",
      "full_mention Matched Value:  None 0.0\n"
     ]
    },
    {
     "name": "stderr",
     "output_type": "stream",
     "text": [
      "\r",
      " 18%|█▊        | 157/891 [00:40<02:58,  4.11it/s]"
     ]
    },
    {
     "name": "stdout",
     "output_type": "stream",
     "text": [
      "full_mention:  Israeli\n",
      "full_mention Matched Value:  None 0.0\n"
     ]
    },
    {
     "name": "stderr",
     "output_type": "stream",
     "text": [
      "\r",
      " 18%|█▊        | 158/891 [00:40<02:58,  4.11it/s]"
     ]
    },
    {
     "name": "stdout",
     "output_type": "stream",
     "text": [
      "full_mention:  Benjamin Netanyahu\n",
      "full_mention Matched Value:  None 0.0\n"
     ]
    },
    {
     "name": "stderr",
     "output_type": "stream",
     "text": [
      "\r",
      " 18%|█▊        | 159/891 [00:40<02:58,  4.11it/s]"
     ]
    },
    {
     "name": "stdout",
     "output_type": "stream",
     "text": [
      "full_mention:  Benjamin Netanyahu\n",
      "full_mention Matched Value:  None 0.0\n"
     ]
    },
    {
     "name": "stderr",
     "output_type": "stream",
     "text": [
      "\r",
      " 18%|█▊        | 160/891 [00:40<02:57,  4.12it/s]"
     ]
    },
    {
     "name": "stdout",
     "output_type": "stream",
     "text": [
      "full_mention:  Golan Heights\n",
      "full_mention Matched Value:  None 0.0\n"
     ]
    },
    {
     "name": "stderr",
     "output_type": "stream",
     "text": [
      "\r",
      " 18%|█▊        | 161/891 [00:41<02:58,  4.10it/s]"
     ]
    },
    {
     "name": "stdout",
     "output_type": "stream",
     "text": [
      "full_mention:  Golan Heights\n",
      "full_mention Matched Value:  None 0.0\n"
     ]
    },
    {
     "name": "stderr",
     "output_type": "stream",
     "text": [
      "\r",
      " 18%|█▊        | 162/891 [00:41<02:59,  4.07it/s]"
     ]
    },
    {
     "name": "stdout",
     "output_type": "stream",
     "text": [
      "full_mention:  Israel\n",
      "full_mention Matched Value:  None 0.0\n"
     ]
    },
    {
     "name": "stderr",
     "output_type": "stream",
     "text": [
      "\r",
      " 18%|█▊        | 163/891 [00:41<02:58,  4.07it/s]"
     ]
    },
    {
     "name": "stdout",
     "output_type": "stream",
     "text": [
      "full_mention:  Syria\n",
      "full_mention Matched Value:  None 0.0\n"
     ]
    },
    {
     "name": "stderr",
     "output_type": "stream",
     "text": [
      "\r",
      " 18%|█▊        | 164/891 [00:41<02:58,  4.08it/s]"
     ]
    },
    {
     "name": "stdout",
     "output_type": "stream",
     "text": [
      "full_mention:  Middle East\n",
      "full_mention Matched Value:  None 0.0\n"
     ]
    },
    {
     "name": "stderr",
     "output_type": "stream",
     "text": [
      "\r",
      " 19%|█▊        | 165/891 [00:42<02:57,  4.09it/s]"
     ]
    },
    {
     "name": "stdout",
     "output_type": "stream",
     "text": [
      "full_mention:  Middle East\n",
      "full_mention Matched Value:  None 0.0\n"
     ]
    },
    {
     "name": "stderr",
     "output_type": "stream",
     "text": [
      "\r",
      " 19%|█▊        | 166/891 [00:42<03:01,  4.00it/s]"
     ]
    },
    {
     "name": "stdout",
     "output_type": "stream",
     "text": [
      "full_mention:  Golan\n",
      "full_mention Matched Value:  None 0.0\n"
     ]
    },
    {
     "name": "stderr",
     "output_type": "stream",
     "text": [
      "\r",
      " 19%|█▊        | 167/891 [00:42<03:00,  4.02it/s]"
     ]
    },
    {
     "name": "stdout",
     "output_type": "stream",
     "text": [
      "full_mention:  Golan\n",
      "full_mention Matched Value:  None 0.0\n"
     ]
    },
    {
     "name": "stderr",
     "output_type": "stream",
     "text": [
      "\r",
      " 19%|█▉        | 168/891 [00:42<03:01,  3.97it/s]"
     ]
    },
    {
     "name": "stdout",
     "output_type": "stream",
     "text": [
      "full_mention:  Israel\n",
      "full_mention Matched Value:  None 0.0\n"
     ]
    },
    {
     "name": "stderr",
     "output_type": "stream",
     "text": [
      "\r",
      " 19%|█▉        | 169/891 [00:43<03:17,  3.65it/s]"
     ]
    },
    {
     "name": "stdout",
     "output_type": "stream",
     "text": [
      "full_mention:  Channel Two\n",
      "full_mention Matched Value:  None 0.0\n"
     ]
    },
    {
     "name": "stderr",
     "output_type": "stream",
     "text": [
      "\r",
      " 19%|█▉        | 170/891 [00:43<03:29,  3.44it/s]"
     ]
    },
    {
     "name": "stdout",
     "output_type": "stream",
     "text": [
      "full_mention:  Channel Two\n",
      "full_mention Matched Value:  None 0.0\n"
     ]
    },
    {
     "name": "stderr",
     "output_type": "stream",
     "text": [
      "\r",
      " 19%|█▉        | 171/891 [00:43<03:26,  3.49it/s]"
     ]
    },
    {
     "name": "stdout",
     "output_type": "stream",
     "text": [
      "full_mention:  Damascus\n",
      "full_mention Matched Value:  None 0.0\n"
     ]
    },
    {
     "name": "stderr",
     "output_type": "stream",
     "text": [
      "\r",
      " 19%|█▉        | 172/891 [00:44<03:17,  3.64it/s]"
     ]
    },
    {
     "name": "stdout",
     "output_type": "stream",
     "text": [
      "full_mention:  Israel\n",
      "full_mention Matched Value:  None 0.0\n"
     ]
    },
    {
     "name": "stderr",
     "output_type": "stream",
     "text": [
      "\r",
      " 19%|█▉        | 173/891 [00:44<03:14,  3.69it/s]"
     ]
    },
    {
     "name": "stdout",
     "output_type": "stream",
     "text": [
      "full_mention:  Netanyahu\n",
      "full_mention Matched Value:  None 0.0\n"
     ]
    },
    {
     "name": "stderr",
     "output_type": "stream",
     "text": [
      "\r",
      " 20%|█▉        | 174/891 [00:44<03:09,  3.78it/s]"
     ]
    },
    {
     "name": "stdout",
     "output_type": "stream",
     "text": [
      "full_mention:  Netanyahu\n",
      "full_mention Matched Value:  None 0.0\n"
     ]
    },
    {
     "name": "stderr",
     "output_type": "stream",
     "text": [
      "\r",
      " 20%|█▉        | 175/891 [00:44<03:04,  3.88it/s]"
     ]
    },
    {
     "name": "stdout",
     "output_type": "stream",
     "text": [
      "full_mention:  Syria\n",
      "full_mention Matched Value:  None 0.0\n"
     ]
    },
    {
     "name": "stderr",
     "output_type": "stream",
     "text": [
      "\r",
      " 20%|█▉        | 176/891 [00:45<03:00,  3.96it/s]"
     ]
    },
    {
     "name": "stdout",
     "output_type": "stream",
     "text": [
      "full_mention:  United States\n",
      "full_mention Matched Value:  None 0.0\n"
     ]
    },
    {
     "name": "stderr",
     "output_type": "stream",
     "text": [
      "\r",
      " 20%|█▉        | 177/891 [00:45<03:01,  3.94it/s]"
     ]
    },
    {
     "name": "stdout",
     "output_type": "stream",
     "text": [
      "full_mention:  United States\n",
      "full_mention Matched Value:  None 0.0\n"
     ]
    },
    {
     "name": "stderr",
     "output_type": "stream",
     "text": [
      "\r",
      " 20%|█▉        | 178/891 [00:45<03:02,  3.92it/s]"
     ]
    },
    {
     "name": "stdout",
     "output_type": "stream",
     "text": [
      "full_mention:  Moscow\n",
      "full_mention Matched Value:  None 0.0\n"
     ]
    },
    {
     "name": "stderr",
     "output_type": "stream",
     "text": [
      "\r",
      " 20%|██        | 179/891 [00:45<02:59,  3.97it/s]"
     ]
    },
    {
     "name": "stdout",
     "output_type": "stream",
     "text": [
      "full_mention:  Polish\n",
      "full_mention Matched Value:  None 0.0\n"
     ]
    },
    {
     "name": "stderr",
     "output_type": "stream",
     "text": [
      "\r",
      " 20%|██        | 180/891 [00:46<02:58,  3.99it/s]"
     ]
    },
    {
     "name": "stdout",
     "output_type": "stream",
     "text": [
      "full_mention:  Libya\n",
      "full_mention Matched Value:  None 0.0\n"
     ]
    },
    {
     "name": "stderr",
     "output_type": "stream",
     "text": [
      "\r",
      " 20%|██        | 181/891 [00:46<02:57,  4.00it/s]"
     ]
    },
    {
     "name": "stdout",
     "output_type": "stream",
     "text": [
      "full_mention:  TUNIS\n",
      "full_mention Matched Value:  None 0.0\n"
     ]
    },
    {
     "name": "stderr",
     "output_type": "stream",
     "text": [
      "\r",
      " 20%|██        | 182/891 [00:46<02:58,  3.98it/s]"
     ]
    },
    {
     "name": "stdout",
     "output_type": "stream",
     "text": [
      "full_mention:  Polish\n",
      "full_mention Matched Value:  None 0.0\n"
     ]
    },
    {
     "name": "stderr",
     "output_type": "stream",
     "text": [
      "\r",
      " 21%|██        | 183/891 [00:46<02:58,  3.96it/s]"
     ]
    },
    {
     "name": "stdout",
     "output_type": "stream",
     "text": [
      "full_mention:  Polish\n",
      "full_mention Matched Value:  None 0.0\n"
     ]
    },
    {
     "name": "stderr",
     "output_type": "stream",
     "text": [
      "\r",
      " 21%|██        | 184/891 [00:47<02:55,  4.02it/s]"
     ]
    },
    {
     "name": "stdout",
     "output_type": "stream",
     "text": [
      "full_mention:  Libya\n",
      "full_mention Matched Value:  None 0.0\n"
     ]
    },
    {
     "name": "stderr",
     "output_type": "stream",
     "text": [
      "\r",
      " 21%|██        | 185/891 [00:47<02:55,  4.03it/s]"
     ]
    },
    {
     "name": "stdout",
     "output_type": "stream",
     "text": [
      "full_mention:  Polish\n",
      "full_mention Matched Value:  None 0.0\n"
     ]
    },
    {
     "name": "stderr",
     "output_type": "stream",
     "text": [
      "\r",
      " 21%|██        | 186/891 [00:47<02:54,  4.04it/s]"
     ]
    },
    {
     "name": "stdout",
     "output_type": "stream",
     "text": [
      "full_mention:  Polish\n",
      "full_mention Matched Value:  None 0.0\n"
     ]
    },
    {
     "name": "stderr",
     "output_type": "stream",
     "text": [
      "\r",
      " 21%|██        | 187/891 [00:47<03:06,  3.77it/s]"
     ]
    },
    {
     "name": "stdout",
     "output_type": "stream",
     "text": [
      "full_mention:  Reuters\n",
      "full_mention Matched Value:  None 0.0\n"
     ]
    },
    {
     "name": "stderr",
     "output_type": "stream",
     "text": [
      "\r",
      " 21%|██        | 188/891 [00:48<03:04,  3.80it/s]"
     ]
    },
    {
     "name": "stdout",
     "output_type": "stream",
     "text": [
      "full_mention:  Poland\n",
      "full_mention Matched Value:  None 0.0\n"
     ]
    },
    {
     "name": "stderr",
     "output_type": "stream",
     "text": [
      "\r",
      " 21%|██        | 189/891 [00:48<03:02,  3.84it/s]"
     ]
    },
    {
     "name": "stdout",
     "output_type": "stream",
     "text": [
      "full_mention:  Libya\n",
      "full_mention Matched Value:  None 0.0\n"
     ]
    },
    {
     "name": "stderr",
     "output_type": "stream",
     "text": [
      "\r",
      " 21%|██▏       | 190/891 [00:48<03:02,  3.85it/s]"
     ]
    },
    {
     "name": "stdout",
     "output_type": "stream",
     "text": [
      "full_mention:  Polish\n",
      "full_mention Matched Value:  None 0.0\n"
     ]
    },
    {
     "name": "stderr",
     "output_type": "stream",
     "text": [
      "\r",
      " 21%|██▏       | 191/891 [00:48<02:59,  3.89it/s]"
     ]
    },
    {
     "name": "stdout",
     "output_type": "stream",
     "text": [
      "full_mention:  Libya\n",
      "full_mention Matched Value:  None 0.0\n"
     ]
    },
    {
     "name": "stderr",
     "output_type": "stream",
     "text": [
      "\r",
      " 22%|██▏       | 192/891 [00:49<02:56,  3.95it/s]"
     ]
    },
    {
     "name": "stdout",
     "output_type": "stream",
     "text": [
      "full_mention:  Iranian\n",
      "full_mention Matched Value:  None 0.0\n"
     ]
    },
    {
     "name": "stderr",
     "output_type": "stream",
     "text": [
      "\r",
      " 22%|██▏       | 193/891 [00:49<02:55,  3.97it/s]"
     ]
    },
    {
     "name": "stdout",
     "output_type": "stream",
     "text": [
      "full_mention:  Baghdad\n",
      "full_mention Matched Value:  None 0.0\n"
     ]
    },
    {
     "name": "stderr",
     "output_type": "stream",
     "text": [
      "\r",
      " 22%|██▏       | 194/891 [00:49<02:53,  4.02it/s]"
     ]
    },
    {
     "name": "stdout",
     "output_type": "stream",
     "text": [
      "full_mention:  BAGHDAD\n",
      "full_mention Matched Value:  None 0.0\n"
     ]
    },
    {
     "name": "stderr",
     "output_type": "stream",
     "text": [
      "\r",
      " 22%|██▏       | 195/891 [00:49<02:50,  4.07it/s]"
     ]
    },
    {
     "name": "stdout",
     "output_type": "stream",
     "text": [
      "full_mention:  Iranian\n",
      "full_mention Matched Value:  None 0.0\n"
     ]
    },
    {
     "name": "stderr",
     "output_type": "stream",
     "text": [
      "\r",
      " 22%|██▏       | 196/891 [00:50<02:50,  4.07it/s]"
     ]
    },
    {
     "name": "stdout",
     "output_type": "stream",
     "text": [
      "full_mention:  Iraq\n",
      "full_mention Matched Value:  None 0.0\n"
     ]
    },
    {
     "name": "stderr",
     "output_type": "stream",
     "text": [
      "\r",
      " 22%|██▏       | 197/891 [00:50<02:49,  4.10it/s]"
     ]
    },
    {
     "name": "stdout",
     "output_type": "stream",
     "text": [
      "full_mention:  Iran\n",
      "full_mention Matched Value:  None 0.0\n"
     ]
    },
    {
     "name": "stderr",
     "output_type": "stream",
     "text": [
      "\r",
      " 22%|██▏       | 198/891 [00:50<02:48,  4.10it/s]"
     ]
    },
    {
     "name": "stdout",
     "output_type": "stream",
     "text": [
      "full_mention:  Kurdish\n",
      "full_mention Matched Value:  None 0.0\n"
     ]
    },
    {
     "name": "stderr",
     "output_type": "stream",
     "text": [
      "\r",
      " 22%|██▏       | 199/891 [00:50<02:48,  4.11it/s]"
     ]
    },
    {
     "name": "stdout",
     "output_type": "stream",
     "text": [
      "full_mention:  Iranian\n",
      "full_mention Matched Value:  None 0.0\n"
     ]
    },
    {
     "name": "stderr",
     "output_type": "stream",
     "text": [
      "\r",
      " 22%|██▏       | 200/891 [00:51<02:49,  4.07it/s]"
     ]
    },
    {
     "name": "stdout",
     "output_type": "stream",
     "text": [
      "full_mention:  Iraq\n",
      "full_mention Matched Value:  None 0.0\n"
     ]
    },
    {
     "name": "stderr",
     "output_type": "stream",
     "text": [
      "\r",
      " 23%|██▎       | 201/891 [00:51<02:48,  4.10it/s]"
     ]
    },
    {
     "name": "stdout",
     "output_type": "stream",
     "text": [
      "full_mention:  Massoud Rajavi\n",
      "full_mention Matched Value:  None 0.0\n"
     ]
    },
    {
     "name": "stderr",
     "output_type": "stream",
     "text": [
      "\r",
      " 23%|██▎       | 202/891 [00:51<02:46,  4.13it/s]"
     ]
    },
    {
     "name": "stdout",
     "output_type": "stream",
     "text": [
      "full_mention:  Massoud Rajavi\n",
      "full_mention Matched Value:  None 0.0\n"
     ]
    },
    {
     "name": "stderr",
     "output_type": "stream",
     "text": [
      "\r",
      " 23%|██▎       | 203/891 [00:51<02:46,  4.14it/s]"
     ]
    },
    {
     "name": "stdout",
     "output_type": "stream",
     "text": [
      "full_mention:  Baghdad\n",
      "full_mention Matched Value:  None 0.0\n"
     ]
    },
    {
     "name": "stderr",
     "output_type": "stream",
     "text": [
      "\r",
      " 23%|██▎       | 204/891 [00:52<02:46,  4.11it/s]"
     ]
    },
    {
     "name": "stdout",
     "output_type": "stream",
     "text": [
      "full_mention:  Kurdistan Democratic Party of Iran\n",
      "full_mention Matched Value:  None 0.0\n"
     ]
    },
    {
     "name": "stderr",
     "output_type": "stream",
     "text": [
      "\r",
      " 23%|██▎       | 205/891 [00:52<02:48,  4.08it/s]"
     ]
    },
    {
     "name": "stdout",
     "output_type": "stream",
     "text": [
      "full_mention:  Kurdistan Democratic Party of Iran\n",
      "full_mention Matched Value:  None 0.0\n"
     ]
    },
    {
     "name": "stderr",
     "output_type": "stream",
     "text": [
      "\r",
      " 23%|██▎       | 206/891 [00:52<02:47,  4.09it/s]"
     ]
    },
    {
     "name": "stdout",
     "output_type": "stream",
     "text": [
      "full_mention:  Kurdistan Democratic Party of Iran\n",
      "full_mention Matched Value:  None 0.0\n"
     ]
    },
    {
     "name": "stderr",
     "output_type": "stream",
     "text": [
      "\r",
      " 23%|██▎       | 207/891 [00:52<02:47,  4.09it/s]"
     ]
    },
    {
     "name": "stdout",
     "output_type": "stream",
     "text": [
      "full_mention:  Kurdistan Democratic Party of Iran\n",
      "full_mention Matched Value:  None 0.0\n"
     ]
    },
    {
     "name": "stderr",
     "output_type": "stream",
     "text": [
      "\r",
      " 23%|██▎       | 208/891 [00:53<02:47,  4.07it/s]"
     ]
    },
    {
     "name": "stdout",
     "output_type": "stream",
     "text": [
      "full_mention:  Kurdistan Democratic Party of Iran\n",
      "full_mention Matched Value:  None 0.0\n"
     ]
    },
    {
     "name": "stderr",
     "output_type": "stream",
     "text": [
      "\r",
      " 23%|██▎       | 209/891 [00:53<02:49,  4.03it/s]"
     ]
    },
    {
     "name": "stdout",
     "output_type": "stream",
     "text": [
      "full_mention:  KDPI\n",
      "full_mention Matched Value:  None 0.0\n"
     ]
    },
    {
     "name": "stderr",
     "output_type": "stream",
     "text": [
      "\r",
      " 24%|██▎       | 210/891 [00:53<02:49,  4.03it/s]"
     ]
    },
    {
     "name": "stdout",
     "output_type": "stream",
     "text": [
      "full_mention:  Iran\n",
      "full_mention Matched Value:  None 0.0\n"
     ]
    },
    {
     "name": "stderr",
     "output_type": "stream",
     "text": [
      "\r",
      " 24%|██▎       | 211/891 [00:53<02:48,  4.04it/s]"
     ]
    },
    {
     "name": "stdout",
     "output_type": "stream",
     "text": [
      "full_mention:  Kurds\n",
      "full_mention Matched Value:  None 0.0\n"
     ]
    },
    {
     "name": "stderr",
     "output_type": "stream",
     "text": [
      "\r",
      " 24%|██▍       | 212/891 [00:54<02:45,  4.09it/s]"
     ]
    },
    {
     "name": "stdout",
     "output_type": "stream",
     "text": [
      "full_mention:  Iran\n",
      "full_mention Matched Value:  None 0.0\n"
     ]
    },
    {
     "name": "stderr",
     "output_type": "stream",
     "text": [
      "\r",
      " 24%|██▍       | 213/891 [00:54<02:44,  4.12it/s]"
     ]
    },
    {
     "name": "stdout",
     "output_type": "stream",
     "text": [
      "full_mention:  Iraq\n",
      "full_mention Matched Value:  None 0.0\n"
     ]
    },
    {
     "name": "stderr",
     "output_type": "stream",
     "text": [
      "\r",
      " 24%|██▍       | 214/891 [00:54<02:45,  4.10it/s]"
     ]
    },
    {
     "name": "stdout",
     "output_type": "stream",
     "text": [
      "full_mention:  KDPI\n",
      "full_mention Matched Value:  None 0.0\n"
     ]
    },
    {
     "name": "stderr",
     "output_type": "stream",
     "text": [
      "\r",
      " 24%|██▍       | 215/891 [00:54<02:44,  4.11it/s]"
     ]
    },
    {
     "name": "stdout",
     "output_type": "stream",
     "text": [
      "full_mention:  Iraqi Kurdish\n",
      "full_mention Matched Value:  None 0.0\n"
     ]
    },
    {
     "name": "stderr",
     "output_type": "stream",
     "text": [
      "\r",
      " 24%|██▍       | 216/891 [00:55<02:44,  4.11it/s]"
     ]
    },
    {
     "name": "stdout",
     "output_type": "stream",
     "text": [
      "full_mention:  Iraqi Kurdish\n",
      "full_mention Matched Value:  None 0.0\n"
     ]
    },
    {
     "name": "stderr",
     "output_type": "stream",
     "text": [
      "\r",
      " 24%|██▍       | 217/891 [00:55<02:43,  4.13it/s]"
     ]
    },
    {
     "name": "stdout",
     "output_type": "stream",
     "text": [
      "full_mention:  Baghdad\n",
      "full_mention Matched Value:  None 0.0\n"
     ]
    },
    {
     "name": "stderr",
     "output_type": "stream",
     "text": [
      "\r",
      " 24%|██▍       | 218/891 [00:55<02:44,  4.10it/s]"
     ]
    },
    {
     "name": "stdout",
     "output_type": "stream",
     "text": [
      "full_mention:  Iraqi Kurdish\n",
      "full_mention Matched Value:  None 0.0\n"
     ]
    },
    {
     "name": "stderr",
     "output_type": "stream",
     "text": [
      "\r",
      " 25%|██▍       | 219/891 [00:55<02:44,  4.09it/s]"
     ]
    },
    {
     "name": "stdout",
     "output_type": "stream",
     "text": [
      "full_mention:  Iraqi Kurdish\n",
      "full_mention Matched Value:  None 0.0\n"
     ]
    },
    {
     "name": "stderr",
     "output_type": "stream",
     "text": [
      "\r",
      " 25%|██▍       | 220/891 [00:55<02:44,  4.07it/s]"
     ]
    },
    {
     "name": "stdout",
     "output_type": "stream",
     "text": [
      "full_mention:  Iran\n",
      "full_mention Matched Value:  None 0.0\n"
     ]
    },
    {
     "name": "stderr",
     "output_type": "stream",
     "text": [
      "\r",
      " 25%|██▍       | 221/891 [00:56<02:43,  4.10it/s]"
     ]
    },
    {
     "name": "stdout",
     "output_type": "stream",
     "text": [
      "full_mention:  PUK\n",
      "full_mention Matched Value:  None 0.0\n"
     ]
    },
    {
     "name": "stderr",
     "output_type": "stream",
     "text": [
      "\r",
      " 25%|██▍       | 222/891 [00:56<02:43,  4.09it/s]"
     ]
    },
    {
     "name": "stdout",
     "output_type": "stream",
     "text": [
      "full_mention:  PUK\n",
      "full_mention Matched Value:  None 0.0\n"
     ]
    },
    {
     "name": "stderr",
     "output_type": "stream",
     "text": [
      "\r",
      " 25%|██▌       | 223/891 [00:56<02:43,  4.08it/s]"
     ]
    },
    {
     "name": "stdout",
     "output_type": "stream",
     "text": [
      "full_mention:  Iraq\n",
      "full_mention Matched Value:  None 0.0\n"
     ]
    },
    {
     "name": "stderr",
     "output_type": "stream",
     "text": [
      "\r",
      " 25%|██▌       | 224/891 [00:56<02:44,  4.05it/s]"
     ]
    },
    {
     "name": "stdout",
     "output_type": "stream",
     "text": [
      "full_mention:  Kurdistan Democratic Party\n",
      "full_mention Matched Value:  None 0.0\n"
     ]
    },
    {
     "name": "stderr",
     "output_type": "stream",
     "text": [
      "\r",
      " 25%|██▌       | 225/891 [00:57<02:45,  4.03it/s]"
     ]
    },
    {
     "name": "stdout",
     "output_type": "stream",
     "text": [
      "full_mention:  Kurdistan Democratic Party\n",
      "full_mention Matched Value:  None 0.0\n"
     ]
    },
    {
     "name": "stderr",
     "output_type": "stream",
     "text": [
      "\r",
      " 25%|██▌       | 226/891 [00:57<02:48,  3.96it/s]"
     ]
    },
    {
     "name": "stdout",
     "output_type": "stream",
     "text": [
      "full_mention:  Kurdistan Democratic Party\n",
      "full_mention Matched Value:  None 0.0\n"
     ]
    },
    {
     "name": "stderr",
     "output_type": "stream",
     "text": [
      "\r",
      " 25%|██▌       | 227/891 [00:57<02:45,  4.01it/s]"
     ]
    },
    {
     "name": "stdout",
     "output_type": "stream",
     "text": [
      "full_mention:  KDP\n",
      "full_mention Matched Value:  None 0.0\n"
     ]
    },
    {
     "name": "stderr",
     "output_type": "stream",
     "text": [
      "\r",
      " 26%|██▌       | 228/891 [00:57<02:45,  4.00it/s]"
     ]
    },
    {
     "name": "stdout",
     "output_type": "stream",
     "text": [
      "full_mention:  Iraqi Kurdish\n",
      "full_mention Matched Value:  None 0.0\n"
     ]
    },
    {
     "name": "stderr",
     "output_type": "stream",
     "text": [
      "\r",
      " 26%|██▌       | 229/891 [00:58<02:46,  3.98it/s]"
     ]
    },
    {
     "name": "stdout",
     "output_type": "stream",
     "text": [
      "full_mention:  Iraqi Kurdish\n",
      "full_mention Matched Value:  None 0.0\n"
     ]
    },
    {
     "name": "stderr",
     "output_type": "stream",
     "text": [
      "\r",
      " 26%|██▌       | 230/891 [00:58<02:48,  3.93it/s]"
     ]
    },
    {
     "name": "stdout",
     "output_type": "stream",
     "text": [
      "full_mention:  Iraq\n",
      "full_mention Matched Value:  None 0.0\n"
     ]
    },
    {
     "name": "stderr",
     "output_type": "stream",
     "text": [
      "\r",
      " 26%|██▌       | 231/891 [00:58<02:51,  3.86it/s]"
     ]
    },
    {
     "name": "stdout",
     "output_type": "stream",
     "text": [
      "full_mention:  Iraqi\n",
      "full_mention Matched Value:  None 0.0\n"
     ]
    },
    {
     "name": "stderr",
     "output_type": "stream",
     "text": [
      "\r",
      " 26%|██▌       | 232/891 [00:59<02:50,  3.87it/s]"
     ]
    },
    {
     "name": "stdout",
     "output_type": "stream",
     "text": [
      "full_mention:  Kuwait\n",
      "full_mention Matched Value:  None 0.0\n"
     ]
    },
    {
     "name": "stderr",
     "output_type": "stream",
     "text": [
      "\r",
      " 26%|██▌       | 233/891 [00:59<02:48,  3.92it/s]"
     ]
    },
    {
     "name": "stdout",
     "output_type": "stream",
     "text": [
      "full_mention:  Gulf War\n",
      "full_mention Matched Value:  None 0.0\n"
     ]
    },
    {
     "name": "stderr",
     "output_type": "stream",
     "text": [
      "\r",
      " 26%|██▋       | 234/891 [00:59<02:45,  3.97it/s]"
     ]
    },
    {
     "name": "stdout",
     "output_type": "stream",
     "text": [
      "full_mention:  Gulf War\n",
      "full_mention Matched Value:  None 0.0\n"
     ]
    },
    {
     "name": "stderr",
     "output_type": "stream",
     "text": [
      "\r",
      " 26%|██▋       | 235/891 [00:59<02:43,  4.00it/s]"
     ]
    },
    {
     "name": "stdout",
     "output_type": "stream",
     "text": [
      "full_mention:  Iranian\n",
      "full_mention Matched Value:  None 0.0\n"
     ]
    },
    {
     "name": "stderr",
     "output_type": "stream",
     "text": [
      "\r",
      " 26%|██▋       | 236/891 [01:00<02:43,  4.01it/s]"
     ]
    },
    {
     "name": "stdout",
     "output_type": "stream",
     "text": [
      "full_mention:  KDP\n",
      "full_mention Matched Value:  None 0.0\n"
     ]
    },
    {
     "name": "stderr",
     "output_type": "stream",
     "text": [
      "\r",
      " 27%|██▋       | 237/891 [01:00<02:44,  3.99it/s]"
     ]
    },
    {
     "name": "stdout",
     "output_type": "stream",
     "text": [
      "full_mention:  Qasri\n",
      "full_mention Matched Value:  None 0.0\n"
     ]
    },
    {
     "name": "stderr",
     "output_type": "stream",
     "text": [
      "\r",
      " 27%|██▋       | 238/891 [01:00<02:44,  3.97it/s]"
     ]
    },
    {
     "name": "stdout",
     "output_type": "stream",
     "text": [
      "full_mention:  Suleimaniya\n",
      "full_mention Matched Value:  None 0.0\n"
     ]
    },
    {
     "name": "stderr",
     "output_type": "stream",
     "text": [
      "\r",
      " 27%|██▋       | 239/891 [01:00<02:43,  4.00it/s]"
     ]
    },
    {
     "name": "stdout",
     "output_type": "stream",
     "text": [
      "full_mention:  Iranian\n",
      "full_mention Matched Value:  None 0.0\n"
     ]
    },
    {
     "name": "stderr",
     "output_type": "stream",
     "text": [
      "\r",
      " 27%|██▋       | 240/891 [01:01<02:44,  3.97it/s]"
     ]
    },
    {
     "name": "stdout",
     "output_type": "stream",
     "text": [
      "full_mention:  Iraqi Kurds\n",
      "full_mention Matched Value:  None 0.0\n"
     ]
    },
    {
     "name": "stderr",
     "output_type": "stream",
     "text": [
      "\r",
      " 27%|██▋       | 241/891 [01:01<02:45,  3.94it/s]"
     ]
    },
    {
     "name": "stdout",
     "output_type": "stream",
     "text": [
      "full_mention:  Iraqi Kurds\n",
      "full_mention Matched Value:  None 0.0\n"
     ]
    },
    {
     "name": "stderr",
     "output_type": "stream",
     "text": [
      "\r",
      " 27%|██▋       | 242/891 [01:01<02:44,  3.94it/s]"
     ]
    },
    {
     "name": "stdout",
     "output_type": "stream",
     "text": [
      "full_mention:  Iran\n",
      "full_mention Matched Value:  None 0.0\n"
     ]
    },
    {
     "name": "stderr",
     "output_type": "stream",
     "text": [
      "\r",
      " 27%|██▋       | 243/891 [01:01<02:42,  4.00it/s]"
     ]
    },
    {
     "name": "stdout",
     "output_type": "stream",
     "text": [
      "full_mention:  Iraq\n",
      "full_mention Matched Value:  None 0.0\n"
     ]
    },
    {
     "name": "stderr",
     "output_type": "stream",
     "text": [
      "\r",
      " 27%|██▋       | 244/891 [01:02<02:40,  4.02it/s]"
     ]
    },
    {
     "name": "stdout",
     "output_type": "stream",
     "text": [
      "full_mention:  Kurdish\n",
      "full_mention Matched Value:  None 0.0\n"
     ]
    },
    {
     "name": "stderr",
     "output_type": "stream",
     "text": [
      "\r",
      " 27%|██▋       | 245/891 [01:02<02:41,  4.00it/s]"
     ]
    },
    {
     "name": "stdout",
     "output_type": "stream",
     "text": [
      "full_mention:  Iraqi Kurds\n",
      "full_mention Matched Value:  None 0.0\n"
     ]
    },
    {
     "name": "stderr",
     "output_type": "stream",
     "text": [
      "\r",
      " 28%|██▊       | 246/891 [01:02<02:44,  3.92it/s]"
     ]
    },
    {
     "name": "stdout",
     "output_type": "stream",
     "text": [
      "full_mention:  Iraqi Kurds\n",
      "full_mention Matched Value:  None 0.0\n"
     ]
    },
    {
     "name": "stderr",
     "output_type": "stream",
     "text": [
      "\r",
      " 28%|██▊       | 247/891 [01:02<02:43,  3.94it/s]"
     ]
    },
    {
     "name": "stdout",
     "output_type": "stream",
     "text": [
      "full_mention:  Baghdad\n",
      "full_mention Matched Value:  None 0.0\n"
     ]
    },
    {
     "name": "stderr",
     "output_type": "stream",
     "text": [
      "\r",
      " 28%|██▊       | 248/891 [01:03<02:43,  3.93it/s]"
     ]
    },
    {
     "name": "stdout",
     "output_type": "stream",
     "text": [
      "full_mention:  Saudi\n",
      "full_mention Matched Value:  None 0.0\n"
     ]
    },
    {
     "name": "stderr",
     "output_type": "stream",
     "text": [
      "\r",
      " 28%|██▊       | 249/891 [01:03<02:44,  3.90it/s]"
     ]
    },
    {
     "name": "stdout",
     "output_type": "stream",
     "text": [
      "full_mention:  MANAMA\n",
      "full_mention Matched Value:  None 0.0\n"
     ]
    },
    {
     "name": "stderr",
     "output_type": "stream",
     "text": [
      "\r",
      " 28%|██▊       | 250/891 [01:03<02:44,  3.91it/s]"
     ]
    },
    {
     "name": "stdout",
     "output_type": "stream",
     "text": [
      "full_mention:  Saudi\n",
      "full_mention Matched Value:  None 0.0\n"
     ]
    },
    {
     "name": "stderr",
     "output_type": "stream",
     "text": [
      "\r",
      " 28%|██▊       | 251/891 [01:03<02:41,  3.97it/s]"
     ]
    },
    {
     "name": "stdout",
     "output_type": "stream",
     "text": [
      "full_mention:  Israel\n",
      "full_mention Matched Value:  None 0.0\n"
     ]
    },
    {
     "name": "stderr",
     "output_type": "stream",
     "text": [
      "\r",
      " 28%|██▊       | 252/891 [01:04<02:40,  3.98it/s]"
     ]
    },
    {
     "name": "stdout",
     "output_type": "stream",
     "text": [
      "full_mention:  Arafat\n",
      "full_mention Matched Value:  None 0.0\n"
     ]
    },
    {
     "name": "stderr",
     "output_type": "stream",
     "text": [
      "\r",
      " 28%|██▊       | 253/891 [01:04<02:38,  4.03it/s]"
     ]
    },
    {
     "name": "stdout",
     "output_type": "stream",
     "text": [
      "full_mention:  JERUSALEM\n",
      "full_mention Matched Value:  None 0.0\n"
     ]
    },
    {
     "name": "stderr",
     "output_type": "stream",
     "text": [
      "\r",
      " 29%|██▊       | 254/891 [01:04<02:36,  4.07it/s]"
     ]
    },
    {
     "name": "stdout",
     "output_type": "stream",
     "text": [
      "full_mention:  Israel\n",
      "full_mention Matched Value:  None 0.0\n"
     ]
    },
    {
     "name": "stderr",
     "output_type": "stream",
     "text": [
      "\r",
      " 29%|██▊       | 255/891 [01:04<02:34,  4.12it/s]"
     ]
    },
    {
     "name": "stdout",
     "output_type": "stream",
     "text": [
      "full_mention:  Palestinian\n",
      "full_mention Matched Value:  None 0.0\n"
     ]
    },
    {
     "name": "stderr",
     "output_type": "stream",
     "text": [
      "\r",
      " 29%|██▊       | 256/891 [01:05<02:35,  4.09it/s]"
     ]
    },
    {
     "name": "stdout",
     "output_type": "stream",
     "text": [
      "full_mention:  Yasser Arafat\n",
      "full_mention Matched Value:  None 0.0\n"
     ]
    },
    {
     "name": "stderr",
     "output_type": "stream",
     "text": [
      "\r",
      " 29%|██▉       | 257/891 [01:05<02:34,  4.11it/s]"
     ]
    },
    {
     "name": "stdout",
     "output_type": "stream",
     "text": [
      "full_mention:  Yasser Arafat\n",
      "full_mention Matched Value:  None 0.0\n"
     ]
    },
    {
     "name": "stderr",
     "output_type": "stream",
     "text": [
      "\r",
      " 29%|██▉       | 258/891 [01:05<02:33,  4.14it/s]"
     ]
    },
    {
     "name": "stdout",
     "output_type": "stream",
     "text": [
      "full_mention:  Arafat\n",
      "full_mention Matched Value:  None 0.0\n"
     ]
    },
    {
     "name": "stderr",
     "output_type": "stream",
     "text": [
      "\r",
      " 29%|██▉       | 259/891 [01:05<02:34,  4.10it/s]"
     ]
    },
    {
     "name": "stdout",
     "output_type": "stream",
     "text": [
      "full_mention:  Reuters\n",
      "full_mention Matched Value:  None 0.0\n"
     ]
    },
    {
     "name": "stderr",
     "output_type": "stream",
     "text": [
      "\r",
      " 29%|██▉       | 260/891 [01:05<02:33,  4.11it/s]"
     ]
    },
    {
     "name": "stdout",
     "output_type": "stream",
     "text": [
      "full_mention:  Arafat\n",
      "full_mention Matched Value:  None 0.0\n"
     ]
    },
    {
     "name": "stderr",
     "output_type": "stream",
     "text": [
      "\r",
      " 29%|██▉       | 261/891 [01:06<02:36,  4.04it/s]"
     ]
    },
    {
     "name": "stdout",
     "output_type": "stream",
     "text": [
      "full_mention:  Israeli\n",
      "full_mention Matched Value:  None 0.0\n"
     ]
    },
    {
     "name": "stderr",
     "output_type": "stream",
     "text": [
      "\r",
      " 29%|██▉       | 262/891 [01:06<02:35,  4.05it/s]"
     ]
    },
    {
     "name": "stdout",
     "output_type": "stream",
     "text": [
      "full_mention:  Shimon Peres\n",
      "full_mention Matched Value:  None 0.0\n"
     ]
    },
    {
     "name": "stderr",
     "output_type": "stream",
     "text": [
      "\r",
      " 30%|██▉       | 263/891 [01:06<02:34,  4.07it/s]"
     ]
    },
    {
     "name": "stdout",
     "output_type": "stream",
     "text": [
      "full_mention:  Shimon Peres\n",
      "full_mention Matched Value:  None 0.0\n"
     ]
    },
    {
     "name": "stderr",
     "output_type": "stream",
     "text": [
      "\r",
      " 30%|██▉       | 264/891 [01:06<02:33,  4.07it/s]"
     ]
    },
    {
     "name": "stdout",
     "output_type": "stream",
     "text": [
      "full_mention:  Ramallah\n",
      "full_mention Matched Value:  None 0.0\n"
     ]
    },
    {
     "name": "stderr",
     "output_type": "stream",
     "text": [
      "\r",
      " 30%|██▉       | 265/891 [01:07<02:35,  4.04it/s]"
     ]
    },
    {
     "name": "stdout",
     "output_type": "stream",
     "text": [
      "full_mention:  Gaza\n",
      "full_mention Matched Value:  None 0.0\n"
     ]
    },
    {
     "name": "stderr",
     "output_type": "stream",
     "text": [
      "\r",
      " 30%|██▉       | 266/891 [01:07<02:35,  4.01it/s]"
     ]
    },
    {
     "name": "stdout",
     "output_type": "stream",
     "text": [
      "full_mention:  Israel\n",
      "full_mention Matched Value:  None 0.0\n"
     ]
    },
    {
     "name": "stderr",
     "output_type": "stream",
     "text": [
      "\r",
      " 30%|██▉       | 267/891 [01:07<02:34,  4.03it/s]"
     ]
    },
    {
     "name": "stdout",
     "output_type": "stream",
     "text": [
      "full_mention:  Palestinian\n",
      "full_mention Matched Value:  None 0.0\n"
     ]
    },
    {
     "name": "stderr",
     "output_type": "stream",
     "text": [
      "\r",
      " 30%|███       | 268/891 [01:07<02:33,  4.05it/s]"
     ]
    },
    {
     "name": "stdout",
     "output_type": "stream",
     "text": [
      "full_mention:  Palestinian\n",
      "full_mention Matched Value:  None 0.0\n"
     ]
    },
    {
     "name": "stderr",
     "output_type": "stream",
     "text": [
      "\r",
      " 30%|███       | 269/891 [01:08<02:34,  4.01it/s]"
     ]
    },
    {
     "name": "stdout",
     "output_type": "stream",
     "text": [
      "full_mention:  Benjamin Netanyahu\n",
      "full_mention Matched Value:  None 0.0\n"
     ]
    },
    {
     "name": "stderr",
     "output_type": "stream",
     "text": [
      "\r",
      " 30%|███       | 270/891 [01:08<02:36,  3.96it/s]"
     ]
    },
    {
     "name": "stdout",
     "output_type": "stream",
     "text": [
      "full_mention:  Benjamin Netanyahu\n",
      "full_mention Matched Value:  None 0.0\n"
     ]
    },
    {
     "name": "stderr",
     "output_type": "stream",
     "text": [
      "\r",
      " 30%|███       | 271/891 [01:08<02:33,  4.04it/s]"
     ]
    },
    {
     "name": "stdout",
     "output_type": "stream",
     "text": [
      "full_mention:  Ramallah\n",
      "full_mention Matched Value:  None 0.0\n"
     ]
    },
    {
     "name": "stderr",
     "output_type": "stream",
     "text": [
      "\r",
      " 31%|███       | 272/891 [01:08<02:33,  4.03it/s]"
     ]
    },
    {
     "name": "stdout",
     "output_type": "stream",
     "text": [
      "full_mention:  Arafat\n",
      "full_mention Matched Value:  None 0.0\n"
     ]
    },
    {
     "name": "stderr",
     "output_type": "stream",
     "text": [
      "\r",
      " 31%|███       | 273/891 [01:09<02:34,  4.00it/s]"
     ]
    },
    {
     "name": "stdout",
     "output_type": "stream",
     "text": [
      "full_mention:  Arafat\n",
      "full_mention Matched Value:  None 0.0\n"
     ]
    },
    {
     "name": "stderr",
     "output_type": "stream",
     "text": [
      "\r",
      " 31%|███       | 274/891 [01:09<02:40,  3.85it/s]"
     ]
    },
    {
     "name": "stdout",
     "output_type": "stream",
     "text": [
      "full_mention:  Israeli\n",
      "full_mention Matched Value:  None 0.0\n"
     ]
    },
    {
     "name": "stderr",
     "output_type": "stream",
     "text": [
      "\r",
      " 31%|███       | 275/891 [01:09<02:38,  3.89it/s]"
     ]
    },
    {
     "name": "stdout",
     "output_type": "stream",
     "text": [
      "full_mention:  Allenby Bridge\n",
      "full_mention Matched Value:  None 0.0\n"
     ]
    },
    {
     "name": "stderr",
     "output_type": "stream",
     "text": [
      "\r",
      " 31%|███       | 276/891 [01:10<02:36,  3.93it/s]"
     ]
    },
    {
     "name": "stdout",
     "output_type": "stream",
     "text": [
      "full_mention:  Allenby Bridge\n",
      "full_mention Matched Value:  None 0.0\n"
     ]
    },
    {
     "name": "stderr",
     "output_type": "stream",
     "text": [
      "\r",
      " 31%|███       | 277/891 [01:10<02:39,  3.84it/s]"
     ]
    },
    {
     "name": "stdout",
     "output_type": "stream",
     "text": [
      "full_mention:  Jordan\n",
      "full_mention Matched Value:  None 0.0\n"
     ]
    },
    {
     "name": "stderr",
     "output_type": "stream",
     "text": [
      "\r",
      " 31%|███       | 278/891 [01:10<02:39,  3.85it/s]"
     ]
    },
    {
     "name": "stdout",
     "output_type": "stream",
     "text": [
      "full_mention:  Arafat\n",
      "full_mention Matched Value:  None 0.0\n"
     ]
    },
    {
     "name": "stderr",
     "output_type": "stream",
     "text": [
      "\r",
      " 31%|███▏      | 279/891 [01:10<02:35,  3.93it/s]"
     ]
    },
    {
     "name": "stdout",
     "output_type": "stream",
     "text": [
      "full_mention:  Israel\n",
      "full_mention Matched Value:  None 0.0\n"
     ]
    },
    {
     "name": "stderr",
     "output_type": "stream",
     "text": [
      "\r",
      " 31%|███▏      | 280/891 [01:11<02:34,  3.96it/s]"
     ]
    },
    {
     "name": "stdout",
     "output_type": "stream",
     "text": [
      "full_mention:  Gaza\n",
      "full_mention Matched Value:  None 0.0\n"
     ]
    },
    {
     "name": "stderr",
     "output_type": "stream",
     "text": [
      "\r",
      " 32%|███▏      | 281/891 [01:11<02:33,  3.98it/s]"
     ]
    },
    {
     "name": "stdout",
     "output_type": "stream",
     "text": [
      "full_mention:  Arafat\n",
      "full_mention Matched Value:  None 0.0\n"
     ]
    },
    {
     "name": "stderr",
     "output_type": "stream",
     "text": [
      "\r",
      " 32%|███▏      | 282/891 [01:11<02:34,  3.95it/s]"
     ]
    },
    {
     "name": "stdout",
     "output_type": "stream",
     "text": [
      "full_mention:  Peres\n",
      "full_mention Matched Value:  None 0.0\n"
     ]
    },
    {
     "name": "stderr",
     "output_type": "stream",
     "text": [
      "\r",
      " 32%|███▏      | 283/891 [01:11<02:33,  3.96it/s]"
     ]
    },
    {
     "name": "stdout",
     "output_type": "stream",
     "text": [
      "full_mention:  Gaza\n",
      "full_mention Matched Value:  None 0.0\n"
     ]
    },
    {
     "name": "stderr",
     "output_type": "stream",
     "text": [
      "\r",
      " 32%|███▏      | 284/891 [01:12<02:32,  3.97it/s]"
     ]
    },
    {
     "name": "stdout",
     "output_type": "stream",
     "text": [
      "full_mention:  JERUSALEM\n",
      "full_mention Matched Value:  None 0.0\n"
     ]
    },
    {
     "name": "stderr",
     "output_type": "stream",
     "text": [
      "\r",
      " 32%|███▏      | 285/891 [01:12<02:31,  3.99it/s]"
     ]
    },
    {
     "name": "stdout",
     "output_type": "stream",
     "text": [
      "full_mention:  Yasser Arafat\n",
      "full_mention Matched Value:  None 0.0\n"
     ]
    },
    {
     "name": "stderr",
     "output_type": "stream",
     "text": [
      "\r",
      " 32%|███▏      | 286/891 [01:12<02:33,  3.94it/s]"
     ]
    },
    {
     "name": "stdout",
     "output_type": "stream",
     "text": [
      "full_mention:  Yasser Arafat\n",
      "full_mention Matched Value:  None 0.0\n"
     ]
    },
    {
     "name": "stderr",
     "output_type": "stream",
     "text": [
      "\r",
      " 32%|███▏      | 287/891 [01:12<02:33,  3.94it/s]"
     ]
    },
    {
     "name": "stdout",
     "output_type": "stream",
     "text": [
      "full_mention:  Shimon Peres\n",
      "full_mention Matched Value:  None 0.0\n"
     ]
    },
    {
     "name": "stderr",
     "output_type": "stream",
     "text": [
      "\r",
      " 32%|███▏      | 288/891 [01:13<02:35,  3.87it/s]"
     ]
    },
    {
     "name": "stdout",
     "output_type": "stream",
     "text": [
      "full_mention:  Shimon Peres\n",
      "full_mention Matched Value:  None 0.0\n"
     ]
    },
    {
     "name": "stderr",
     "output_type": "stream",
     "text": [
      "\r",
      " 32%|███▏      | 289/891 [01:13<02:38,  3.80it/s]"
     ]
    },
    {
     "name": "stdout",
     "output_type": "stream",
     "text": [
      "full_mention:  Gaza\n",
      "full_mention Matched Value:  None 0.0\n"
     ]
    },
    {
     "name": "stderr",
     "output_type": "stream",
     "text": [
      "\r",
      " 33%|███▎      | 290/891 [01:13<02:39,  3.76it/s]"
     ]
    },
    {
     "name": "stdout",
     "output_type": "stream",
     "text": [
      "full_mention:  Palestinians\n",
      "full_mention Matched Value:  None 0.0\n"
     ]
    },
    {
     "name": "stderr",
     "output_type": "stream",
     "text": [
      "\r",
      " 33%|███▎      | 291/891 [01:13<02:34,  3.88it/s]"
     ]
    },
    {
     "name": "stdout",
     "output_type": "stream",
     "text": [
      "full_mention:  Israeli\n",
      "full_mention Matched Value:  None 0.0\n"
     ]
    },
    {
     "name": "stderr",
     "output_type": "stream",
     "text": [
      "\r",
      " 33%|███▎      | 292/891 [01:14<02:31,  3.96it/s]"
     ]
    },
    {
     "name": "stdout",
     "output_type": "stream",
     "text": [
      "full_mention:  Palestinian\n",
      "full_mention Matched Value:  None 0.0\n"
     ]
    },
    {
     "name": "stderr",
     "output_type": "stream",
     "text": [
      "\r",
      " 33%|███▎      | 293/891 [01:14<02:28,  4.01it/s]"
     ]
    },
    {
     "name": "stdout",
     "output_type": "stream",
     "text": [
      "full_mention:  Peres\n",
      "full_mention Matched Value:  None 0.0\n"
     ]
    },
    {
     "name": "stderr",
     "output_type": "stream",
     "text": [
      "\r",
      " 33%|███▎      | 294/891 [01:14<02:28,  4.03it/s]"
     ]
    },
    {
     "name": "stdout",
     "output_type": "stream",
     "text": [
      "full_mention:  Palestinian\n",
      "full_mention Matched Value:  None 0.0\n"
     ]
    },
    {
     "name": "stderr",
     "output_type": "stream",
     "text": [
      "\r",
      " 33%|███▎      | 295/891 [01:14<02:27,  4.04it/s]"
     ]
    },
    {
     "name": "stdout",
     "output_type": "stream",
     "text": [
      "full_mention:  Israeli\n",
      "full_mention Matched Value:  None 0.0\n"
     ]
    },
    {
     "name": "stderr",
     "output_type": "stream",
     "text": [
      "\r",
      " 33%|███▎      | 296/891 [01:15<02:25,  4.09it/s]"
     ]
    },
    {
     "name": "stdout",
     "output_type": "stream",
     "text": [
      "full_mention:  Arafat\n",
      "full_mention Matched Value:  None 0.0\n"
     ]
    },
    {
     "name": "stderr",
     "output_type": "stream",
     "text": [
      "\r",
      " 33%|███▎      | 297/891 [01:15<02:24,  4.10it/s]"
     ]
    },
    {
     "name": "stdout",
     "output_type": "stream",
     "text": [
      "full_mention:  Israel\n",
      "full_mention Matched Value:  None 0.0\n"
     ]
    },
    {
     "name": "stderr",
     "output_type": "stream",
     "text": [
      "\r",
      " 33%|███▎      | 298/891 [01:15<02:24,  4.11it/s]"
     ]
    },
    {
     "name": "stdout",
     "output_type": "stream",
     "text": [
      "full_mention:  Palestinian\n",
      "full_mention Matched Value:  None 0.0\n"
     ]
    },
    {
     "name": "stderr",
     "output_type": "stream",
     "text": [
      "\r",
      " 34%|███▎      | 299/891 [01:15<02:25,  4.06it/s]"
     ]
    },
    {
     "name": "stdout",
     "output_type": "stream",
     "text": [
      "full_mention:  Peres\n",
      "full_mention Matched Value:  None 0.0\n"
     ]
    },
    {
     "name": "stderr",
     "output_type": "stream",
     "text": [
      "\r",
      " 34%|███▎      | 300/891 [01:16<02:25,  4.07it/s]"
     ]
    },
    {
     "name": "stdout",
     "output_type": "stream",
     "text": [
      "full_mention:  Israeli\n",
      "full_mention Matched Value:  None 0.0\n"
     ]
    },
    {
     "name": "stderr",
     "output_type": "stream",
     "text": [
      "\r",
      " 34%|███▍      | 301/891 [01:16<02:25,  4.06it/s]"
     ]
    },
    {
     "name": "stdout",
     "output_type": "stream",
     "text": [
      "full_mention:  Benjamin Netanyahu\n",
      "full_mention Matched Value:  None 0.0\n"
     ]
    },
    {
     "name": "stderr",
     "output_type": "stream",
     "text": [
      "\r",
      " 34%|███▍      | 302/891 [01:16<02:24,  4.06it/s]"
     ]
    },
    {
     "name": "stdout",
     "output_type": "stream",
     "text": [
      "full_mention:  Benjamin Netanyahu\n",
      "full_mention Matched Value:  None 0.0\n"
     ]
    },
    {
     "name": "stderr",
     "output_type": "stream",
     "text": [
      "\r",
      " 34%|███▍      | 303/891 [01:16<02:26,  4.01it/s]"
     ]
    },
    {
     "name": "stdout",
     "output_type": "stream",
     "text": [
      "full_mention:  Peres\n",
      "full_mention Matched Value:  None 0.0\n"
     ]
    },
    {
     "name": "stderr",
     "output_type": "stream",
     "text": [
      "\r",
      " 34%|███▍      | 304/891 [01:17<02:25,  4.03it/s]"
     ]
    },
    {
     "name": "stdout",
     "output_type": "stream",
     "text": [
      "full_mention:  Likud\n",
      "full_mention Matched Value:  None 0.0\n"
     ]
    },
    {
     "name": "stderr",
     "output_type": "stream",
     "text": [
      "\r",
      " 34%|███▍      | 305/891 [01:17<02:25,  4.04it/s]"
     ]
    },
    {
     "name": "stdout",
     "output_type": "stream",
     "text": [
      "full_mention:  Afghan\n",
      "full_mention Matched Value:  None 0.0\n"
     ]
    },
    {
     "name": "stderr",
     "output_type": "stream",
     "text": [
      "\r",
      " 34%|███▍      | 306/891 [01:17<02:25,  4.02it/s]"
     ]
    },
    {
     "name": "stdout",
     "output_type": "stream",
     "text": [
      "full_mention:  UAE\n",
      "full_mention Matched Value:  None 0.0\n"
     ]
    },
    {
     "name": "stderr",
     "output_type": "stream",
     "text": [
      "\r",
      " 34%|███▍      | 307/891 [01:17<02:25,  4.02it/s]"
     ]
    },
    {
     "name": "stdout",
     "output_type": "stream",
     "text": [
      "full_mention:  Taleban\n",
      "full_mention Matched Value:  None 0.0\n"
     ]
    },
    {
     "name": "stderr",
     "output_type": "stream",
     "text": [
      "\r",
      " 35%|███▍      | 308/891 [01:18<02:25,  4.00it/s]"
     ]
    },
    {
     "name": "stdout",
     "output_type": "stream",
     "text": [
      "full_mention:  DUBAI\n",
      "full_mention Matched Value:  None 0.0\n"
     ]
    },
    {
     "name": "stderr",
     "output_type": "stream",
     "text": [
      "\r",
      " 35%|███▍      | 309/891 [01:18<02:25,  4.00it/s]"
     ]
    },
    {
     "name": "stdout",
     "output_type": "stream",
     "text": [
      "full_mention:  Afghan\n",
      "full_mention Matched Value:  None 0.0\n"
     ]
    },
    {
     "name": "stderr",
     "output_type": "stream",
     "text": [
      "\r",
      " 35%|███▍      | 310/891 [01:18<02:23,  4.04it/s]"
     ]
    },
    {
     "name": "stdout",
     "output_type": "stream",
     "text": [
      "full_mention:  United Arab Emirates\n",
      "full_mention Matched Value:  None 0.0\n"
     ]
    },
    {
     "name": "stderr",
     "output_type": "stream",
     "text": [
      "\r",
      " 35%|███▍      | 311/891 [01:18<02:22,  4.07it/s]"
     ]
    },
    {
     "name": "stdout",
     "output_type": "stream",
     "text": [
      "full_mention:  United Arab Emirates\n",
      "full_mention Matched Value:  None 0.0\n"
     ]
    },
    {
     "name": "stderr",
     "output_type": "stream",
     "text": [
      "\r",
      " 35%|███▌      | 312/891 [01:19<02:22,  4.07it/s]"
     ]
    },
    {
     "name": "stdout",
     "output_type": "stream",
     "text": [
      "full_mention:  United Arab Emirates\n",
      "full_mention Matched Value:  None 0.0\n"
     ]
    },
    {
     "name": "stderr",
     "output_type": "stream",
     "text": [
      "\r",
      " 35%|███▌      | 313/891 [01:19<02:22,  4.05it/s]"
     ]
    },
    {
     "name": "stdout",
     "output_type": "stream",
     "text": [
      "full_mention:  Russian\n",
      "full_mention Matched Value:  None 0.0\n"
     ]
    },
    {
     "name": "stderr",
     "output_type": "stream",
     "text": [
      "\r",
      " 35%|███▌      | 314/891 [01:19<02:22,  4.05it/s]"
     ]
    },
    {
     "name": "stdout",
     "output_type": "stream",
     "text": [
      "full_mention:  Taleban\n",
      "full_mention Matched Value:  None 0.0\n"
     ]
    },
    {
     "name": "stderr",
     "output_type": "stream",
     "text": [
      "\r",
      " 35%|███▌      | 315/891 [01:19<02:30,  3.84it/s]"
     ]
    },
    {
     "name": "stdout",
     "output_type": "stream",
     "text": [
      "full_mention:  Afghanistan\n",
      "full_mention Matched Value:  None 0.0\n"
     ]
    },
    {
     "name": "stderr",
     "output_type": "stream",
     "text": [
      "\r",
      " 35%|███▌      | 316/891 [01:20<02:32,  3.77it/s]"
     ]
    },
    {
     "name": "stdout",
     "output_type": "stream",
     "text": [
      "full_mention:  Afghan\n",
      "full_mention Matched Value:  None 0.0\n"
     ]
    },
    {
     "name": "stderr",
     "output_type": "stream",
     "text": [
      "\r",
      " 36%|███▌      | 317/891 [01:20<02:29,  3.83it/s]"
     ]
    },
    {
     "name": "stdout",
     "output_type": "stream",
     "text": [
      "full_mention:  Abu Dhabi\n",
      "full_mention Matched Value:  None 0.0\n"
     ]
    },
    {
     "name": "stderr",
     "output_type": "stream",
     "text": [
      "\r",
      " 36%|███▌      | 318/891 [01:20<02:27,  3.89it/s]"
     ]
    },
    {
     "name": "stdout",
     "output_type": "stream",
     "text": [
      "full_mention:  Abu Dhabi\n",
      "full_mention Matched Value:  None 0.0\n"
     ]
    },
    {
     "name": "stderr",
     "output_type": "stream",
     "text": [
      "\r",
      " 36%|███▌      | 319/891 [01:20<02:27,  3.88it/s]"
     ]
    },
    {
     "name": "stdout",
     "output_type": "stream",
     "text": [
      "full_mention:  Russian\n",
      "full_mention Matched Value:  None 0.0\n"
     ]
    },
    {
     "name": "stderr",
     "output_type": "stream",
     "text": [
      "\r",
      " 36%|███▌      | 320/891 [01:21<02:27,  3.88it/s]"
     ]
    },
    {
     "name": "stdout",
     "output_type": "stream",
     "text": [
      "full_mention:  UAE\n",
      "full_mention Matched Value:  None 0.0\n"
     ]
    },
    {
     "name": "stderr",
     "output_type": "stream",
     "text": [
      "\r",
      " 36%|███▌      | 321/891 [01:21<02:26,  3.89it/s]"
     ]
    },
    {
     "name": "stdout",
     "output_type": "stream",
     "text": [
      "full_mention:  Sharjah\n",
      "full_mention Matched Value:  None 0.0\n"
     ]
    },
    {
     "name": "stderr",
     "output_type": "stream",
     "text": [
      "\r",
      " 36%|███▌      | 322/891 [01:21<02:23,  3.97it/s]"
     ]
    },
    {
     "name": "stdout",
     "output_type": "stream",
     "text": [
      "full_mention:  Taleban\n",
      "full_mention Matched Value:  None 0.0\n"
     ]
    },
    {
     "name": "stderr",
     "output_type": "stream",
     "text": [
      "\r",
      " 36%|███▋      | 323/891 [01:21<02:21,  4.01it/s]"
     ]
    },
    {
     "name": "stdout",
     "output_type": "stream",
     "text": [
      "full_mention:  Kandahar\n",
      "full_mention Matched Value:  None 0.0\n"
     ]
    },
    {
     "name": "stderr",
     "output_type": "stream",
     "text": [
      "\r",
      " 36%|███▋      | 324/891 [01:22<02:21,  4.01it/s]"
     ]
    },
    {
     "name": "stdout",
     "output_type": "stream",
     "text": [
      "full_mention:  Afghanistan\n",
      "full_mention Matched Value:  None 0.0\n"
     ]
    },
    {
     "name": "stderr",
     "output_type": "stream",
     "text": [
      "\r",
      " 36%|███▋      | 325/891 [01:22<02:20,  4.04it/s]"
     ]
    },
    {
     "name": "stdout",
     "output_type": "stream",
     "text": [
      "full_mention:  UAE\n",
      "full_mention Matched Value:  None 0.0\n"
     ]
    },
    {
     "name": "stderr",
     "output_type": "stream",
     "text": [
      "\r",
      " 37%|███▋      | 326/891 [01:22<02:19,  4.06it/s]"
     ]
    },
    {
     "name": "stdout",
     "output_type": "stream",
     "text": [
      "full_mention:  Kandahar\n",
      "full_mention Matched Value:  None 0.0\n"
     ]
    },
    {
     "name": "stderr",
     "output_type": "stream",
     "text": [
      "\r",
      " 37%|███▋      | 327/891 [01:22<02:18,  4.06it/s]"
     ]
    },
    {
     "name": "stdout",
     "output_type": "stream",
     "text": [
      "full_mention:  Afghan\n",
      "full_mention Matched Value:  None 0.0\n"
     ]
    },
    {
     "name": "stderr",
     "output_type": "stream",
     "text": [
      "\r",
      " 37%|███▋      | 328/891 [01:23<02:21,  3.99it/s]"
     ]
    },
    {
     "name": "stdout",
     "output_type": "stream",
     "text": [
      "full_mention:  Kabul\n",
      "full_mention Matched Value:  None 0.0\n"
     ]
    },
    {
     "name": "stderr",
     "output_type": "stream",
     "text": [
      "\r",
      " 37%|███▋      | 329/891 [01:23<02:20,  3.99it/s]"
     ]
    },
    {
     "name": "stdout",
     "output_type": "stream",
     "text": [
      "full_mention:  Kandahar\n",
      "full_mention Matched Value:  None 0.0\n"
     ]
    },
    {
     "name": "stderr",
     "output_type": "stream",
     "text": [
      "\r",
      " 37%|███▋      | 330/891 [01:23<02:19,  4.03it/s]"
     ]
    },
    {
     "name": "stdout",
     "output_type": "stream",
     "text": [
      "full_mention:  Taleban\n",
      "full_mention Matched Value:  None 0.0\n"
     ]
    },
    {
     "name": "stderr",
     "output_type": "stream",
     "text": [
      "\r",
      " 37%|███▋      | 331/891 [01:23<02:18,  4.03it/s]"
     ]
    },
    {
     "name": "stdout",
     "output_type": "stream",
     "text": [
      "full_mention:  Kabul\n",
      "full_mention Matched Value:  None 0.0\n"
     ]
    },
    {
     "name": "stderr",
     "output_type": "stream",
     "text": [
      "\r",
      " 37%|███▋      | 332/891 [01:24<02:19,  4.01it/s]"
     ]
    },
    {
     "name": "stdout",
     "output_type": "stream",
     "text": [
      "full_mention:  Burhanuddin Rabbani\n",
      "full_mention Matched Value:  None 0.0\n"
     ]
    },
    {
     "name": "stderr",
     "output_type": "stream",
     "text": [
      "\r",
      " 37%|███▋      | 333/891 [01:24<02:17,  4.06it/s]"
     ]
    },
    {
     "name": "stdout",
     "output_type": "stream",
     "text": [
      "full_mention:  Burhanuddin Rabbani\n",
      "full_mention Matched Value:  None 0.0\n"
     ]
    },
    {
     "name": "stderr",
     "output_type": "stream",
     "text": [
      "\r",
      " 37%|███▋      | 334/891 [01:24<02:17,  4.06it/s]"
     ]
    },
    {
     "name": "stdout",
     "output_type": "stream",
     "text": [
      "full_mention:  Taleban\n",
      "full_mention Matched Value:  None 0.0\n"
     ]
    },
    {
     "name": "stderr",
     "output_type": "stream",
     "text": [
      "\r",
      " 38%|███▊      | 335/891 [01:24<02:17,  4.06it/s]"
     ]
    },
    {
     "name": "stdout",
     "output_type": "stream",
     "text": [
      "full_mention:  Abu Dhabi\n",
      "full_mention Matched Value:  None 0.0\n"
     ]
    },
    {
     "name": "stderr",
     "output_type": "stream",
     "text": [
      "\r",
      " 38%|███▊      | 336/891 [01:25<02:17,  4.03it/s]"
     ]
    },
    {
     "name": "stdout",
     "output_type": "stream",
     "text": [
      "full_mention:  Abu Dhabi\n",
      "full_mention Matched Value:  None 0.0\n"
     ]
    },
    {
     "name": "stderr",
     "output_type": "stream",
     "text": [
      "\r",
      " 38%|███▊      | 337/891 [01:25<02:18,  3.99it/s]"
     ]
    },
    {
     "name": "stdout",
     "output_type": "stream",
     "text": [
      "full_mention:  Russians\n",
      "full_mention Matched Value:  None 0.0\n"
     ]
    },
    {
     "name": "stderr",
     "output_type": "stream",
     "text": [
      "\r",
      " 38%|███▊      | 338/891 [01:25<02:17,  4.02it/s]"
     ]
    },
    {
     "name": "stdout",
     "output_type": "stream",
     "text": [
      "full_mention:  Russian\n",
      "full_mention Matched Value:  None 0.0\n"
     ]
    },
    {
     "name": "stderr",
     "output_type": "stream",
     "text": [
      "\r",
      " 38%|███▊      | 339/891 [01:25<02:21,  3.90it/s]"
     ]
    },
    {
     "name": "stdout",
     "output_type": "stream",
     "text": [
      "full_mention:  Tatarstan\n",
      "full_mention Matched Value:  None 0.0\n"
     ]
    },
    {
     "name": "stderr",
     "output_type": "stream",
     "text": [
      "\r",
      " 38%|███▊      | 340/891 [01:26<02:20,  3.92it/s]"
     ]
    },
    {
     "name": "stdout",
     "output_type": "stream",
     "text": [
      "full_mention:  Taleban\n",
      "full_mention Matched Value:  None 0.0\n"
     ]
    },
    {
     "name": "stderr",
     "output_type": "stream",
     "text": [
      "\r",
      " 38%|███▊      | 341/891 [01:26<03:10,  2.88it/s]"
     ]
    },
    {
     "name": "stdout",
     "output_type": "stream",
     "text": [
      "full_mention:  Taleban\n",
      "full_mention Matched Value:  None 0.0\n"
     ]
    },
    {
     "name": "stderr",
     "output_type": "stream",
     "text": [
      "\r",
      " 38%|███▊      | 342/891 [01:27<03:28,  2.63it/s]"
     ]
    },
    {
     "name": "stdout",
     "output_type": "stream",
     "text": [
      "full_mention:  Albania\n",
      "full_mention Matched Value:  None 0.0\n"
     ]
    },
    {
     "name": "stderr",
     "output_type": "stream",
     "text": [
      "\r",
      " 38%|███▊      | 343/891 [01:27<03:11,  2.86it/s]"
     ]
    },
    {
     "name": "stdout",
     "output_type": "stream",
     "text": [
      "full_mention:  Russian\n",
      "full_mention Matched Value:  None 0.0\n"
     ]
    },
    {
     "name": "stderr",
     "output_type": "stream",
     "text": [
      "\r",
      " 39%|███▊      | 344/891 [01:27<02:59,  3.04it/s]"
     ]
    },
    {
     "name": "stdout",
     "output_type": "stream",
     "text": [
      "full_mention:  Rabbani\n",
      "full_mention Matched Value:  None 0.0\n"
     ]
    },
    {
     "name": "stderr",
     "output_type": "stream",
     "text": [
      "\r",
      " 39%|███▊      | 345/891 [01:27<02:50,  3.20it/s]"
     ]
    },
    {
     "name": "stdout",
     "output_type": "stream",
     "text": [
      "full_mention:  Moscow\n",
      "full_mention Matched Value:  None 0.0\n"
     ]
    },
    {
     "name": "stderr",
     "output_type": "stream",
     "text": [
      "\r",
      " 39%|███▉      | 346/891 [01:28<02:42,  3.36it/s]"
     ]
    },
    {
     "name": "stdout",
     "output_type": "stream",
     "text": [
      "full_mention:  Russians\n",
      "full_mention Matched Value:  None 0.0\n"
     ]
    },
    {
     "name": "stderr",
     "output_type": "stream",
     "text": [
      "\r",
      " 39%|███▉      | 347/891 [01:28<02:44,  3.31it/s]"
     ]
    },
    {
     "name": "stdout",
     "output_type": "stream",
     "text": [
      "full_mention:  UAE\n",
      "full_mention Matched Value:  None 0.0\n"
     ]
    },
    {
     "name": "stderr",
     "output_type": "stream",
     "text": [
      "\r",
      " 39%|███▉      | 348/891 [01:28<02:37,  3.44it/s]"
     ]
    },
    {
     "name": "stdout",
     "output_type": "stream",
     "text": [
      "full_mention:  Abu Dhabi\n",
      "full_mention Matched Value:  None 0.0\n"
     ]
    },
    {
     "name": "stderr",
     "output_type": "stream",
     "text": [
      "\r",
      " 39%|███▉      | 349/891 [01:29<02:37,  3.45it/s]"
     ]
    },
    {
     "name": "stdout",
     "output_type": "stream",
     "text": [
      "full_mention:  Abu Dhabi\n",
      "full_mention Matched Value:  None 0.0\n"
     ]
    },
    {
     "name": "stderr",
     "output_type": "stream",
     "text": [
      "\r",
      " 39%|███▉      | 350/891 [01:29<02:39,  3.39it/s]"
     ]
    },
    {
     "name": "stdout",
     "output_type": "stream",
     "text": [
      "full_mention:  Iraq\n",
      "full_mention Matched Value:  None 0.0\n"
     ]
    },
    {
     "name": "stderr",
     "output_type": "stream",
     "text": [
      "\r",
      " 39%|███▉      | 351/891 [01:29<02:36,  3.44it/s]"
     ]
    },
    {
     "name": "stdout",
     "output_type": "stream",
     "text": [
      "full_mention:  Saddam\n",
      "full_mention Matched Value:  None 0.0\n"
     ]
    },
    {
     "name": "stderr",
     "output_type": "stream",
     "text": [
      "\r",
      " 40%|███▉      | 352/891 [01:29<02:38,  3.39it/s]"
     ]
    },
    {
     "name": "stdout",
     "output_type": "stream",
     "text": [
      "full_mention:  Russia\n",
      "full_mention Matched Value:  None 0.0\n"
     ]
    },
    {
     "name": "stderr",
     "output_type": "stream",
     "text": [
      "\r",
      " 40%|███▉      | 353/891 [01:30<02:42,  3.30it/s]"
     ]
    },
    {
     "name": "stdout",
     "output_type": "stream",
     "text": [
      "full_mention:  Zhirinovsky\n",
      "full_mention Matched Value:  None 0.0\n"
     ]
    },
    {
     "name": "stderr",
     "output_type": "stream",
     "text": [
      "\r",
      " 40%|███▉      | 354/891 [01:30<03:03,  2.93it/s]"
     ]
    },
    {
     "name": "stdout",
     "output_type": "stream",
     "text": [
      "full_mention:  BAGHDAD\n",
      "full_mention Matched Value:  None 0.0\n"
     ]
    },
    {
     "name": "stderr",
     "output_type": "stream",
     "text": [
      "\r",
      " 40%|███▉      | 355/891 [01:31<03:03,  2.91it/s]"
     ]
    },
    {
     "name": "stdout",
     "output_type": "stream",
     "text": [
      "full_mention:  Iraqi\n",
      "full_mention Matched Value:  None 0.0\n"
     ]
    },
    {
     "name": "stderr",
     "output_type": "stream",
     "text": [
      "\r",
      " 40%|███▉      | 356/891 [01:31<03:00,  2.96it/s]"
     ]
    },
    {
     "name": "stdout",
     "output_type": "stream",
     "text": [
      "full_mention:  Saddam Hussein\n",
      "full_mention Matched Value:  None 0.0\n"
     ]
    },
    {
     "name": "stderr",
     "output_type": "stream",
     "text": [
      "\r",
      " 40%|████      | 357/891 [01:31<02:55,  3.04it/s]"
     ]
    },
    {
     "name": "stdout",
     "output_type": "stream",
     "text": [
      "full_mention:  Saddam Hussein\n",
      "full_mention Matched Value:  None 0.0\n"
     ]
    },
    {
     "name": "stderr",
     "output_type": "stream",
     "text": [
      "\r",
      " 40%|████      | 358/891 [01:31<02:49,  3.14it/s]"
     ]
    },
    {
     "name": "stdout",
     "output_type": "stream",
     "text": [
      "full_mention:  Russian\n",
      "full_mention Matched Value:  None 0.0\n"
     ]
    },
    {
     "name": "stderr",
     "output_type": "stream",
     "text": [
      "\r",
      " 40%|████      | 359/891 [01:32<02:45,  3.22it/s]"
     ]
    },
    {
     "name": "stdout",
     "output_type": "stream",
     "text": [
      "full_mention:  Vladimir Zhirinovsky\n",
      "full_mention Matched Value:  None 0.0\n"
     ]
    },
    {
     "name": "stderr",
     "output_type": "stream",
     "text": [
      "\r",
      " 40%|████      | 360/891 [01:32<02:41,  3.29it/s]"
     ]
    },
    {
     "name": "stdout",
     "output_type": "stream",
     "text": [
      "full_mention:  Vladimir Zhirinovsky\n",
      "full_mention Matched Value:  None 0.0\n"
     ]
    },
    {
     "name": "stderr",
     "output_type": "stream",
     "text": [
      "\r",
      " 41%|████      | 361/891 [01:32<02:50,  3.10it/s]"
     ]
    },
    {
     "name": "stdout",
     "output_type": "stream",
     "text": [
      "full_mention:  Baghdad\n",
      "full_mention Matched Value:  None 0.0\n"
     ]
    },
    {
     "name": "stderr",
     "output_type": "stream",
     "text": [
      "\r",
      " 41%|████      | 362/891 [01:33<02:53,  3.05it/s]"
     ]
    },
    {
     "name": "stdout",
     "output_type": "stream",
     "text": [
      "full_mention:  Moscow\n",
      "full_mention Matched Value:  None 0.0\n"
     ]
    },
    {
     "name": "stderr",
     "output_type": "stream",
     "text": [
      "\r",
      " 41%|████      | 363/891 [01:33<03:04,  2.86it/s]"
     ]
    },
    {
     "name": "stdout",
     "output_type": "stream",
     "text": [
      "full_mention:  Iraqi\n",
      "full_mention Matched Value:  None 0.0\n"
     ]
    },
    {
     "name": "stderr",
     "output_type": "stream",
     "text": [
      "\r",
      " 41%|████      | 364/891 [01:33<02:57,  2.96it/s]"
     ]
    },
    {
     "name": "stdout",
     "output_type": "stream",
     "text": [
      "full_mention:  Zhirinovsky\n",
      "full_mention Matched Value:  None 0.0\n"
     ]
    },
    {
     "name": "stderr",
     "output_type": "stream",
     "text": [
      "\r",
      " 41%|████      | 365/891 [01:34<02:51,  3.06it/s]"
     ]
    },
    {
     "name": "stdout",
     "output_type": "stream",
     "text": [
      "full_mention:  Saddam\n",
      "full_mention Matched Value:  None 0.0\n"
     ]
    },
    {
     "name": "stderr",
     "output_type": "stream",
     "text": [
      "\r",
      " 41%|████      | 366/891 [01:34<02:52,  3.05it/s]"
     ]
    },
    {
     "name": "stdout",
     "output_type": "stream",
     "text": [
      "full_mention:  Baghdad\n",
      "full_mention Matched Value:  None 0.0\n"
     ]
    },
    {
     "name": "stderr",
     "output_type": "stream",
     "text": [
      "\r",
      " 41%|████      | 367/891 [01:34<02:48,  3.11it/s]"
     ]
    },
    {
     "name": "stdout",
     "output_type": "stream",
     "text": [
      "full_mention:  Russian\n",
      "full_mention Matched Value:  None 0.0\n"
     ]
    },
    {
     "name": "stderr",
     "output_type": "stream",
     "text": [
      "\r",
      " 41%|████▏     | 368/891 [01:35<02:42,  3.23it/s]"
     ]
    },
    {
     "name": "stdout",
     "output_type": "stream",
     "text": [
      "full_mention:  Duma\n",
      "full_mention Matched Value:  None 0.0\n"
     ]
    },
    {
     "name": "stderr",
     "output_type": "stream",
     "text": [
      "\r",
      " 41%|████▏     | 369/891 [01:35<02:35,  3.35it/s]"
     ]
    },
    {
     "name": "stdout",
     "output_type": "stream",
     "text": [
      "full_mention:  Iraq\n",
      "full_mention Matched Value:  None 0.0\n"
     ]
    },
    {
     "name": "stderr",
     "output_type": "stream",
     "text": [
      "\r",
      " 42%|████▏     | 370/891 [01:35<02:31,  3.44it/s]"
     ]
    },
    {
     "name": "stdout",
     "output_type": "stream",
     "text": [
      "full_mention:  Kuwait\n",
      "full_mention Matched Value:  None 0.0\n"
     ]
    },
    {
     "name": "stderr",
     "output_type": "stream",
     "text": [
      "\r",
      " 42%|████▏     | 371/891 [01:36<02:34,  3.37it/s]"
     ]
    },
    {
     "name": "stdout",
     "output_type": "stream",
     "text": [
      "full_mention:  Zhirinovsky\n",
      "full_mention Matched Value:  None 0.0\n"
     ]
    },
    {
     "name": "stderr",
     "output_type": "stream",
     "text": [
      "\r",
      " 42%|████▏     | 372/891 [01:36<02:42,  3.20it/s]"
     ]
    },
    {
     "name": "stdout",
     "output_type": "stream",
     "text": [
      "full_mention:  Russian\n",
      "full_mention Matched Value:  None 0.0\n"
     ]
    },
    {
     "name": "stderr",
     "output_type": "stream",
     "text": [
      "\r",
      " 42%|████▏     | 373/891 [01:36<02:47,  3.09it/s]"
     ]
    },
    {
     "name": "stdout",
     "output_type": "stream",
     "text": [
      "full_mention:  U.N.\n",
      "full_mention Matched Value:  None 0.0\n"
     ]
    },
    {
     "name": "stderr",
     "output_type": "stream",
     "text": [
      "\r",
      " 42%|████▏     | 374/891 [01:37<02:37,  3.28it/s]"
     ]
    },
    {
     "name": "stdout",
     "output_type": "stream",
     "text": [
      "full_mention:  Iraq\n",
      "full_mention Matched Value:  None 0.0\n"
     ]
    },
    {
     "name": "stderr",
     "output_type": "stream",
     "text": [
      "\r",
      " 42%|████▏     | 375/891 [01:37<02:28,  3.48it/s]"
     ]
    },
    {
     "name": "stdout",
     "output_type": "stream",
     "text": [
      "full_mention:  Moscow\n",
      "full_mention Matched Value:  None 0.0\n"
     ]
    },
    {
     "name": "stderr",
     "output_type": "stream",
     "text": [
      "\r",
      " 42%|████▏     | 376/891 [01:37<02:20,  3.66it/s]"
     ]
    },
    {
     "name": "stdout",
     "output_type": "stream",
     "text": [
      "full_mention:  Baghdad\n",
      "full_mention Matched Value:  None 0.0\n"
     ]
    },
    {
     "name": "stderr",
     "output_type": "stream",
     "text": [
      "\r",
      " 42%|████▏     | 377/891 [01:37<02:16,  3.76it/s]"
     ]
    },
    {
     "name": "stdout",
     "output_type": "stream",
     "text": [
      "full_mention:  Zhirinovsky\n",
      "full_mention Matched Value:  None 0.0\n"
     ]
    },
    {
     "name": "stderr",
     "output_type": "stream",
     "text": [
      "\r",
      " 42%|████▏     | 378/891 [01:38<02:15,  3.80it/s]"
     ]
    },
    {
     "name": "stdout",
     "output_type": "stream",
     "text": [
      "full_mention:  Iraq\n",
      "full_mention Matched Value:  None 0.0\n"
     ]
    },
    {
     "name": "stderr",
     "output_type": "stream",
     "text": [
      "\r",
      " 43%|████▎     | 379/891 [01:38<02:25,  3.53it/s]"
     ]
    },
    {
     "name": "stdout",
     "output_type": "stream",
     "text": [
      "full_mention:  Iraq\n",
      "full_mention Matched Value:  None 0.0\n"
     ]
    },
    {
     "name": "stderr",
     "output_type": "stream",
     "text": [
      "\r",
      " 43%|████▎     | 380/891 [01:39<03:26,  2.47it/s]"
     ]
    },
    {
     "name": "stdout",
     "output_type": "stream",
     "text": [
      "full_mention:  Saddam\n",
      "full_mention Matched Value:  None 0.0\n"
     ]
    },
    {
     "name": "stderr",
     "output_type": "stream",
     "text": [
      "\r",
      " 43%|████▎     | 381/891 [01:39<03:40,  2.31it/s]"
     ]
    },
    {
     "name": "stdout",
     "output_type": "stream",
     "text": [
      "full_mention:  Iraq\n",
      "full_mention Matched Value:  None 0.0\n"
     ]
    },
    {
     "name": "stderr",
     "output_type": "stream",
     "text": [
      "\r",
      " 43%|████▎     | 382/891 [01:39<03:31,  2.41it/s]"
     ]
    },
    {
     "name": "stdout",
     "output_type": "stream",
     "text": [
      "full_mention:  BAGHDAD\n",
      "full_mention Matched Value:  None 0.0\n"
     ]
    },
    {
     "name": "stderr",
     "output_type": "stream",
     "text": [
      "\r",
      " 43%|████▎     | 383/891 [01:40<03:13,  2.62it/s]"
     ]
    },
    {
     "name": "stdout",
     "output_type": "stream",
     "text": [
      "full_mention:  Iraqi\n",
      "full_mention Matched Value:  None 0.0\n"
     ]
    },
    {
     "name": "stderr",
     "output_type": "stream",
     "text": [
      "\r",
      " 43%|████▎     | 384/891 [01:40<02:59,  2.83it/s]"
     ]
    },
    {
     "name": "stdout",
     "output_type": "stream",
     "text": [
      "full_mention:  Reuters\n",
      "full_mention Matched Value:  None 0.0\n"
     ]
    },
    {
     "name": "stderr",
     "output_type": "stream",
     "text": [
      "\r",
      " 43%|████▎     | 385/891 [01:40<02:45,  3.06it/s]"
     ]
    },
    {
     "name": "stdout",
     "output_type": "stream",
     "text": [
      "full_mention:  Iraq\n",
      "full_mention Matched Value:  None 0.0\n"
     ]
    },
    {
     "name": "stderr",
     "output_type": "stream",
     "text": [
      "\r",
      " 43%|████▎     | 386/891 [01:41<02:37,  3.20it/s]"
     ]
    },
    {
     "name": "stdout",
     "output_type": "stream",
     "text": [
      "full_mention:  Saddam Hussein\n",
      "full_mention Matched Value:  None 0.0\n"
     ]
    },
    {
     "name": "stderr",
     "output_type": "stream",
     "text": [
      "\r",
      " 43%|████▎     | 387/891 [01:41<02:31,  3.32it/s]"
     ]
    },
    {
     "name": "stdout",
     "output_type": "stream",
     "text": [
      "full_mention:  Saddam Hussein\n",
      "full_mention Matched Value:  None 0.0\n"
     ]
    },
    {
     "name": "stderr",
     "output_type": "stream",
     "text": [
      "\r",
      " 44%|████▎     | 388/891 [01:41<02:32,  3.30it/s]"
     ]
    },
    {
     "name": "stdout",
     "output_type": "stream",
     "text": [
      "full_mention:  Russian\n",
      "full_mention Matched Value:  None 0.0\n"
     ]
    },
    {
     "name": "stderr",
     "output_type": "stream",
     "text": [
      "\r",
      " 44%|████▎     | 389/891 [01:41<02:28,  3.38it/s]"
     ]
    },
    {
     "name": "stdout",
     "output_type": "stream",
     "text": [
      "full_mention:  Vladimir Zhirinovsky\n",
      "full_mention Matched Value:  None 0.0\n"
     ]
    },
    {
     "name": "stderr",
     "output_type": "stream",
     "text": [
      "\r",
      " 44%|████▍     | 390/891 [01:42<02:23,  3.49it/s]"
     ]
    },
    {
     "name": "stdout",
     "output_type": "stream",
     "text": [
      "full_mention:  Vladimir Zhirinovsky\n",
      "full_mention Matched Value:  None 0.0\n"
     ]
    },
    {
     "name": "stderr",
     "output_type": "stream",
     "text": [
      "\r",
      " 44%|████▍     | 391/891 [01:42<02:18,  3.62it/s]"
     ]
    },
    {
     "name": "stdout",
     "output_type": "stream",
     "text": [
      "full_mention:  Baghdad\n",
      "full_mention Matched Value:  None 0.0\n"
     ]
    },
    {
     "name": "stderr",
     "output_type": "stream",
     "text": [
      "\r",
      " 44%|████▍     | 392/891 [01:42<02:21,  3.53it/s]"
     ]
    },
    {
     "name": "stdout",
     "output_type": "stream",
     "text": [
      "full_mention:  IRAQ\n",
      "full_mention Matched Value:  None 0.0\n"
     ]
    },
    {
     "name": "stderr",
     "output_type": "stream",
     "text": [
      "\r",
      " 44%|████▍     | 393/891 [01:42<02:14,  3.70it/s]"
     ]
    },
    {
     "name": "stdout",
     "output_type": "stream",
     "text": [
      "full_mention:  Umm Qasr\n",
      "full_mention Matched Value:  None 0.0\n"
     ]
    },
    {
     "name": "stderr",
     "output_type": "stream",
     "text": [
      "\r",
      " 44%|████▍     | 394/891 [01:43<02:10,  3.82it/s]"
     ]
    },
    {
     "name": "stdout",
     "output_type": "stream",
     "text": [
      "full_mention:  Umm Qasr\n",
      "full_mention Matched Value:  None 0.0\n"
     ]
    },
    {
     "name": "stderr",
     "output_type": "stream",
     "text": [
      "\r",
      " 44%|████▍     | 395/891 [01:43<02:07,  3.90it/s]"
     ]
    },
    {
     "name": "stdout",
     "output_type": "stream",
     "text": [
      "full_mention:  Gulf\n",
      "full_mention Matched Value:  None 0.0\n"
     ]
    },
    {
     "name": "stderr",
     "output_type": "stream",
     "text": [
      "\r",
      " 44%|████▍     | 396/891 [01:43<02:04,  3.97it/s]"
     ]
    },
    {
     "name": "stdout",
     "output_type": "stream",
     "text": [
      "full_mention:  Lebanon\n",
      "full_mention Matched Value:  None 0.0\n"
     ]
    },
    {
     "name": "stderr",
     "output_type": "stream",
     "text": [
      "\r",
      " 45%|████▍     | 397/891 [01:43<02:03,  4.00it/s]"
     ]
    },
    {
     "name": "stdout",
     "output_type": "stream",
     "text": [
      "full_mention:  BEIRUT\n",
      "full_mention Matched Value:  None 0.0\n"
     ]
    },
    {
     "name": "stderr",
     "output_type": "stream",
     "text": [
      "\r",
      " 45%|████▍     | 398/891 [01:44<02:05,  3.94it/s]"
     ]
    },
    {
     "name": "stdout",
     "output_type": "stream",
     "text": [
      "full_mention:  Beirut\n",
      "full_mention Matched Value:  None 0.0\n"
     ]
    },
    {
     "name": "stderr",
     "output_type": "stream",
     "text": [
      "\r",
      " 45%|████▍     | 399/891 [01:44<02:04,  3.96it/s]"
     ]
    },
    {
     "name": "stdout",
     "output_type": "stream",
     "text": [
      "full_mention:  Reuters\n",
      "full_mention Matched Value:  None 0.0\n"
     ]
    },
    {
     "name": "stderr",
     "output_type": "stream",
     "text": [
      "\r",
      " 45%|████▍     | 400/891 [01:44<02:04,  3.96it/s]"
     ]
    },
    {
     "name": "stdout",
     "output_type": "stream",
     "text": [
      "full_mention:  AN-NAHAR\n",
      "full_mention Matched Value:  None 0.0\n"
     ]
    },
    {
     "name": "stderr",
     "output_type": "stream",
     "text": [
      "\r",
      " 45%|████▌     | 401/891 [01:44<02:04,  3.94it/s]"
     ]
    },
    {
     "name": "stdout",
     "output_type": "stream",
     "text": [
      "full_mention:  Hizbollah\n",
      "full_mention Matched Value:  None 0.0\n"
     ]
    },
    {
     "name": "stderr",
     "output_type": "stream",
     "text": [
      "\r",
      " 45%|████▌     | 402/891 [01:45<02:02,  3.98it/s]"
     ]
    },
    {
     "name": "stdout",
     "output_type": "stream",
     "text": [
      "full_mention:  Israeli\n",
      "full_mention Matched Value:  None 0.0\n"
     ]
    },
    {
     "name": "stderr",
     "output_type": "stream",
     "text": [
      "\r",
      " 45%|████▌     | 403/891 [01:45<02:01,  4.02it/s]"
     ]
    },
    {
     "name": "stdout",
     "output_type": "stream",
     "text": [
      "full_mention:  AS-SAFIR\n",
      "full_mention Matched Value:  None 0.0\n"
     ]
    },
    {
     "name": "stderr",
     "output_type": "stream",
     "text": [
      "\r",
      " 45%|████▌     | 404/891 [01:45<02:01,  4.02it/s]"
     ]
    },
    {
     "name": "stdout",
     "output_type": "stream",
     "text": [
      "full_mention:  Israel\n",
      "full_mention Matched Value:  None 0.0\n"
     ]
    },
    {
     "name": "stderr",
     "output_type": "stream",
     "text": [
      "\r",
      " 45%|████▌     | 405/891 [01:45<02:01,  4.01it/s]"
     ]
    },
    {
     "name": "stdout",
     "output_type": "stream",
     "text": [
      "full_mention:  Syria\n",
      "full_mention Matched Value:  None 0.0\n"
     ]
    },
    {
     "name": "stderr",
     "output_type": "stream",
     "text": [
      "\r",
      " 46%|████▌     | 406/891 [01:46<01:59,  4.04it/s]"
     ]
    },
    {
     "name": "stdout",
     "output_type": "stream",
     "text": [
      "full_mention:  Lebanon\n",
      "full_mention Matched Value:  None 0.0\n"
     ]
    },
    {
     "name": "stderr",
     "output_type": "stream",
     "text": [
      "\r",
      " 46%|████▌     | 407/891 [01:46<02:01,  3.98it/s]"
     ]
    },
    {
     "name": "stdout",
     "output_type": "stream",
     "text": [
      "full_mention:  Beirut\n",
      "full_mention Matched Value:  None 0.0\n"
     ]
    },
    {
     "name": "stderr",
     "output_type": "stream",
     "text": [
      "\r",
      " 46%|████▌     | 408/891 [01:46<02:00,  4.00it/s]"
     ]
    },
    {
     "name": "stdout",
     "output_type": "stream",
     "text": [
      "full_mention:  AD-DIYAR\n",
      "full_mention Matched Value:  None 0.0\n"
     ]
    },
    {
     "name": "stderr",
     "output_type": "stream",
     "text": [
      "\r",
      " 46%|████▌     | 409/891 [01:46<01:59,  4.02it/s]"
     ]
    },
    {
     "name": "stdout",
     "output_type": "stream",
     "text": [
      "full_mention:  Lebanon\n",
      "full_mention Matched Value:  None 0.0\n"
     ]
    },
    {
     "name": "stderr",
     "output_type": "stream",
     "text": [
      "\r",
      " 46%|████▌     | 410/891 [01:47<02:05,  3.82it/s]"
     ]
    },
    {
     "name": "stdout",
     "output_type": "stream",
     "text": [
      "full_mention:  Pakistan\n",
      "full_mention Matched Value:  None 0.0\n"
     ]
    },
    {
     "name": "stderr",
     "output_type": "stream",
     "text": [
      "\r",
      " 46%|████▌     | 411/891 [01:47<02:03,  3.88it/s]"
     ]
    },
    {
     "name": "stdout",
     "output_type": "stream",
     "text": [
      "full_mention:  Maronite\n",
      "full_mention Matched Value:  None 0.0\n"
     ]
    },
    {
     "name": "stderr",
     "output_type": "stream",
     "text": [
      "\r",
      " 46%|████▌     | 412/891 [01:47<02:02,  3.91it/s]"
     ]
    },
    {
     "name": "stdout",
     "output_type": "stream",
     "text": [
      "full_mention:  CME\n",
      "full_mention Matched Value:  None 0.0\n"
     ]
    },
    {
     "name": "stderr",
     "output_type": "stream",
     "text": [
      "\r",
      " 46%|████▋     | 413/891 [01:47<02:01,  3.93it/s]"
     ]
    },
    {
     "name": "stdout",
     "output_type": "stream",
     "text": [
      "full_mention:  CHICAGO\n",
      "full_mention Matched Value:  None 0.0\n"
     ]
    },
    {
     "name": "stderr",
     "output_type": "stream",
     "text": [
      "\r",
      " 46%|████▋     | 414/891 [01:48<02:00,  3.94it/s]"
     ]
    },
    {
     "name": "stdout",
     "output_type": "stream",
     "text": [
      "full_mention:  CME\n",
      "full_mention Matched Value:  None 0.0\n"
     ]
    },
    {
     "name": "stderr",
     "output_type": "stream",
     "text": [
      "\r",
      " 47%|████▋     | 415/891 [01:48<02:01,  3.93it/s]"
     ]
    },
    {
     "name": "stdout",
     "output_type": "stream",
     "text": [
      "full_mention:  MONTGOMERY\n",
      "full_mention Matched Value:  None 0.0\n"
     ]
    },
    {
     "name": "stderr",
     "output_type": "stream",
     "text": [
      "\r",
      " 47%|████▋     | 416/891 [01:48<01:59,  3.97it/s]"
     ]
    },
    {
     "name": "stdout",
     "output_type": "stream",
     "text": [
      "full_mention:  Ala\n",
      "full_mention Matched Value:  None 0.0\n"
     ]
    },
    {
     "name": "stderr",
     "output_type": "stream",
     "text": [
      "\r",
      " 47%|████▋     | 417/891 [01:48<01:58,  3.99it/s]"
     ]
    },
    {
     "name": "stdout",
     "output_type": "stream",
     "text": [
      "full_mention:  KinderCare Learning Centers Inc\n",
      "full_mention Matched Value:  None 0.0\n"
     ]
    },
    {
     "name": "stderr",
     "output_type": "stream",
     "text": [
      "\r",
      " 47%|████▋     | 418/891 [01:49<01:58,  4.00it/s]"
     ]
    },
    {
     "name": "stdout",
     "output_type": "stream",
     "text": [
      "full_mention:  KinderCare Learning Centers Inc\n",
      "full_mention Matched Value:  None 0.0\n"
     ]
    },
    {
     "name": "stderr",
     "output_type": "stream",
     "text": [
      "\r",
      " 47%|████▋     | 419/891 [01:49<02:02,  3.85it/s]"
     ]
    },
    {
     "name": "stdout",
     "output_type": "stream",
     "text": [
      "full_mention:  KinderCare Learning Centers Inc\n",
      "full_mention Matched Value:  None 0.0\n"
     ]
    },
    {
     "name": "stderr",
     "output_type": "stream",
     "text": [
      "\r",
      " 47%|████▋     | 420/891 [01:49<02:04,  3.79it/s]"
     ]
    },
    {
     "name": "stdout",
     "output_type": "stream",
     "text": [
      "full_mention:  KinderCare Learning Centers Inc\n",
      "full_mention Matched Value:  None 0.0\n"
     ]
    },
    {
     "name": "stderr",
     "output_type": "stream",
     "text": [
      "\r",
      " 47%|████▋     | 421/891 [01:50<02:02,  3.84it/s]"
     ]
    },
    {
     "name": "stdout",
     "output_type": "stream",
     "text": [
      "full_mention:  Lehman\n",
      "full_mention Matched Value:  None 0.0\n"
     ]
    },
    {
     "name": "stderr",
     "output_type": "stream",
     "text": [
      "\r",
      " 47%|████▋     | 422/891 [01:50<01:59,  3.92it/s]"
     ]
    },
    {
     "name": "stdout",
     "output_type": "stream",
     "text": [
      "full_mention:  SNET\n",
      "full_mention Matched Value:  None 0.0\n"
     ]
    },
    {
     "name": "stderr",
     "output_type": "stream",
     "text": [
      "\r",
      " 47%|████▋     | 423/891 [01:50<01:59,  3.91it/s]"
     ]
    },
    {
     "name": "stdout",
     "output_type": "stream",
     "text": [
      "full_mention:  Lehman\n",
      "full_mention Matched Value:  None 0.0\n"
     ]
    },
    {
     "name": "stderr",
     "output_type": "stream",
     "text": [
      "\r",
      " 48%|████▊     | 424/891 [01:50<01:57,  3.97it/s]"
     ]
    },
    {
     "name": "stdout",
     "output_type": "stream",
     "text": [
      "full_mention:  PHOENIX\n",
      "full_mention Matched Value:  None 0.0\n"
     ]
    },
    {
     "name": "stderr",
     "output_type": "stream",
     "text": [
      "\r",
      " 48%|████▊     | 425/891 [01:51<01:57,  3.96it/s]"
     ]
    },
    {
     "name": "stdout",
     "output_type": "stream",
     "text": [
      "full_mention:  Greek\n",
      "full_mention Matched Value:  None 0.0\n"
     ]
    },
    {
     "name": "stderr",
     "output_type": "stream",
     "text": [
      "\r",
      " 48%|████▊     | 426/891 [01:51<01:57,  3.95it/s]"
     ]
    },
    {
     "name": "stdout",
     "output_type": "stream",
     "text": [
      "full_mention:  ATHENS\n",
      "full_mention Matched Value:  None 0.0\n"
     ]
    },
    {
     "name": "stderr",
     "output_type": "stream",
     "text": [
      "\r",
      " 48%|████▊     | 427/891 [01:51<01:57,  3.96it/s]"
     ]
    },
    {
     "name": "stdout",
     "output_type": "stream",
     "text": [
      "full_mention:  Greek\n",
      "full_mention Matched Value:  None 0.0\n"
     ]
    },
    {
     "name": "stderr",
     "output_type": "stream",
     "text": [
      "\r",
      " 48%|████▊     | 428/891 [01:51<02:00,  3.84it/s]"
     ]
    },
    {
     "name": "stdout",
     "output_type": "stream",
     "text": [
      "full_mention:  Costas Simitis\n",
      "full_mention Matched Value:  None 0.0\n"
     ]
    },
    {
     "name": "stderr",
     "output_type": "stream",
     "text": [
      "\r",
      " 48%|████▊     | 429/891 [01:52<01:59,  3.87it/s]"
     ]
    },
    {
     "name": "stdout",
     "output_type": "stream",
     "text": [
      "full_mention:  Costas Simitis\n",
      "full_mention Matched Value:  None 0.0\n"
     ]
    },
    {
     "name": "stderr",
     "output_type": "stream",
     "text": [
      "\r",
      " 48%|████▊     | 430/891 [01:52<01:56,  3.95it/s]"
     ]
    },
    {
     "name": "stdout",
     "output_type": "stream",
     "text": [
      "full_mention:  Costas Skandalidis\n",
      "full_mention Matched Value:  None 0.0\n"
     ]
    },
    {
     "name": "stderr",
     "output_type": "stream",
     "text": [
      "\r",
      " 48%|████▊     | 431/891 [01:52<01:58,  3.87it/s]"
     ]
    },
    {
     "name": "stdout",
     "output_type": "stream",
     "text": [
      "full_mention:  Costas Skandalidis\n",
      "full_mention Matched Value:  None 0.0\n"
     ]
    },
    {
     "name": "stderr",
     "output_type": "stream",
     "text": [
      "\r",
      " 48%|████▊     | 432/891 [01:52<02:09,  3.55it/s]"
     ]
    },
    {
     "name": "stdout",
     "output_type": "stream",
     "text": [
      "full_mention:  Costas Simitis\n",
      "full_mention Matched Value:  None 0.0\n"
     ]
    },
    {
     "name": "stderr",
     "output_type": "stream",
     "text": [
      "\r",
      " 49%|████▊     | 433/891 [01:53<02:05,  3.65it/s]"
     ]
    },
    {
     "name": "stdout",
     "output_type": "stream",
     "text": [
      "full_mention:  Costas Simitis\n",
      "full_mention Matched Value:  None 0.0\n"
     ]
    },
    {
     "name": "stderr",
     "output_type": "stream",
     "text": [
      "\r",
      " 49%|████▊     | 434/891 [01:53<02:02,  3.73it/s]"
     ]
    },
    {
     "name": "stdout",
     "output_type": "stream",
     "text": [
      "full_mention:  France\n",
      "full_mention Matched Value:  None 0.0\n"
     ]
    },
    {
     "name": "stderr",
     "output_type": "stream",
     "text": [
      "\r",
      " 49%|████▉     | 435/891 [01:53<01:58,  3.84it/s]"
     ]
    },
    {
     "name": "stdout",
     "output_type": "stream",
     "text": [
      "full_mention:  Le Monde\n",
      "full_mention Matched Value:  None 0.0\n"
     ]
    },
    {
     "name": "stderr",
     "output_type": "stream",
     "text": [
      "\r",
      " 49%|████▉     | 436/891 [01:53<01:55,  3.94it/s]"
     ]
    },
    {
     "name": "stdout",
     "output_type": "stream",
     "text": [
      "full_mention:  Le Monde\n",
      "full_mention Matched Value:  None 0.0\n"
     ]
    },
    {
     "name": "stderr",
     "output_type": "stream",
     "text": [
      "\r",
      " 49%|████▉     | 437/891 [01:54<02:00,  3.76it/s]"
     ]
    },
    {
     "name": "stdout",
     "output_type": "stream",
     "text": [
      "full_mention:  PARIS\n",
      "full_mention Matched Value:  None 0.0\n"
     ]
    },
    {
     "name": "stderr",
     "output_type": "stream",
     "text": [
      "\r",
      " 49%|████▉     | 438/891 [01:54<02:06,  3.58it/s]"
     ]
    },
    {
     "name": "stdout",
     "output_type": "stream",
     "text": [
      "full_mention:  Le Monde\n",
      "full_mention Matched Value:  None 0.0\n"
     ]
    },
    {
     "name": "stderr",
     "output_type": "stream",
     "text": [
      "\r",
      " 49%|████▉     | 439/891 [01:54<02:12,  3.41it/s]"
     ]
    },
    {
     "name": "stdout",
     "output_type": "stream",
     "text": [
      "full_mention:  Le Monde\n",
      "full_mention Matched Value:  None 0.0\n"
     ]
    },
    {
     "name": "stderr",
     "output_type": "stream",
     "text": [
      "\r",
      " 49%|████▉     | 440/891 [01:55<02:13,  3.39it/s]"
     ]
    },
    {
     "name": "stdout",
     "output_type": "stream",
     "text": [
      "full_mention:  Africans\n",
      "full_mention Matched Value:  None 0.0\n"
     ]
    },
    {
     "name": "stderr",
     "output_type": "stream",
     "text": [
      "\r",
      " 49%|████▉     | 441/891 [01:55<02:08,  3.52it/s]"
     ]
    },
    {
     "name": "stdout",
     "output_type": "stream",
     "text": [
      "full_mention:  Alain Juppe\n",
      "full_mention Matched Value:  None 0.0\n"
     ]
    },
    {
     "name": "stderr",
     "output_type": "stream",
     "text": [
      "\r",
      " 50%|████▉     | 442/891 [01:55<02:04,  3.61it/s]"
     ]
    },
    {
     "name": "stdout",
     "output_type": "stream",
     "text": [
      "full_mention:  Alain Juppe\n",
      "full_mention Matched Value:  None 0.0\n"
     ]
    },
    {
     "name": "stderr",
     "output_type": "stream",
     "text": [
      "\r",
      " 50%|████▉     | 443/891 [01:55<02:05,  3.56it/s]"
     ]
    },
    {
     "name": "stdout",
     "output_type": "stream",
     "text": [
      "full_mention:  Paris\n",
      "full_mention Matched Value:  None 0.0\n"
     ]
    },
    {
     "name": "stderr",
     "output_type": "stream",
     "text": [
      "\r",
      " 50%|████▉     | 444/891 [01:56<02:02,  3.64it/s]"
     ]
    },
    {
     "name": "stdout",
     "output_type": "stream",
     "text": [
      "full_mention:  FLNC\n",
      "full_mention Matched Value:  None 0.0\n"
     ]
    },
    {
     "name": "stderr",
     "output_type": "stream",
     "text": [
      "\r",
      " 50%|████▉     | 445/891 [01:56<01:59,  3.73it/s]"
     ]
    },
    {
     "name": "stdout",
     "output_type": "stream",
     "text": [
      "full_mention:  Corsican\n",
      "full_mention Matched Value:  None 0.0\n"
     ]
    },
    {
     "name": "stderr",
     "output_type": "stream",
     "text": [
      "\r",
      " 50%|█████     | 446/891 [01:56<01:57,  3.78it/s]"
     ]
    },
    {
     "name": "stdout",
     "output_type": "stream",
     "text": [
      "full_mention:  Bally\n",
      "full_mention Matched Value:  None 0.0\n"
     ]
    },
    {
     "name": "stderr",
     "output_type": "stream",
     "text": [
      "\r",
      " 50%|█████     | 447/891 [01:56<01:58,  3.75it/s]"
     ]
    },
    {
     "name": "stdout",
     "output_type": "stream",
     "text": [
      "full_mention:  French\n",
      "full_mention Matched Value:  None 0.0\n"
     ]
    },
    {
     "name": "stderr",
     "output_type": "stream",
     "text": [
      "\r",
      " 50%|█████     | 448/891 [01:57<01:55,  3.84it/s]"
     ]
    },
    {
     "name": "stdout",
     "output_type": "stream",
     "text": [
      "full_mention:  French\n",
      "full_mention Matched Value:  None 0.0\n"
     ]
    },
    {
     "name": "stderr",
     "output_type": "stream",
     "text": [
      "\r",
      " 50%|█████     | 449/891 [01:57<01:53,  3.89it/s]"
     ]
    },
    {
     "name": "stdout",
     "output_type": "stream",
     "text": [
      "full_mention:  Sud-PTT\n",
      "full_mention Matched Value:  None 0.0\n"
     ]
    },
    {
     "name": "stderr",
     "output_type": "stream",
     "text": [
      "\r",
      " 51%|█████     | 450/891 [01:57<01:52,  3.93it/s]"
     ]
    },
    {
     "name": "stdout",
     "output_type": "stream",
     "text": [
      "full_mention:  France Telecom\n",
      "full_mention Matched Value:  None 0.0\n"
     ]
    },
    {
     "name": "stderr",
     "output_type": "stream",
     "text": [
      "\r",
      " 51%|█████     | 451/891 [01:57<01:50,  3.99it/s]"
     ]
    },
    {
     "name": "stdout",
     "output_type": "stream",
     "text": [
      "full_mention:  France Telecom\n",
      "full_mention Matched Value:  None 0.0\n"
     ]
    },
    {
     "name": "stderr",
     "output_type": "stream",
     "text": [
      "\r",
      " 51%|█████     | 452/891 [01:58<01:49,  4.01it/s]"
     ]
    },
    {
     "name": "stdout",
     "output_type": "stream",
     "text": [
      "full_mention:  Heidrun\n",
      "full_mention Matched Value:  None 0.0\n"
     ]
    },
    {
     "name": "stderr",
     "output_type": "stream",
     "text": [
      "\r",
      " 51%|█████     | 453/891 [01:58<01:51,  3.93it/s]"
     ]
    },
    {
     "name": "stdout",
     "output_type": "stream",
     "text": [
      "full_mention:  Statoil\n",
      "full_mention Matched Value:  None 0.0\n"
     ]
    },
    {
     "name": "stderr",
     "output_type": "stream",
     "text": [
      "\r",
      " 51%|█████     | 454/891 [01:58<01:50,  3.95it/s]"
     ]
    },
    {
     "name": "stdout",
     "output_type": "stream",
     "text": [
      "full_mention:  OSLO\n",
      "full_mention Matched Value:  None 0.0\n"
     ]
    },
    {
     "name": "stderr",
     "output_type": "stream",
     "text": [
      "\r",
      " 51%|█████     | 455/891 [01:58<01:50,  3.96it/s]"
     ]
    },
    {
     "name": "stdout",
     "output_type": "stream",
     "text": [
      "full_mention:  Heidrun\n",
      "full_mention Matched Value:  None 0.0\n"
     ]
    },
    {
     "name": "stderr",
     "output_type": "stream",
     "text": [
      "\r",
      " 51%|█████     | 456/891 [01:59<01:50,  3.95it/s]"
     ]
    },
    {
     "name": "stdout",
     "output_type": "stream",
     "text": [
      "full_mention:  Statoil\n",
      "full_mention Matched Value:  None 0.0\n"
     ]
    },
    {
     "name": "stderr",
     "output_type": "stream",
     "text": [
      "\r",
      " 51%|█████▏    | 457/891 [01:59<01:48,  3.99it/s]"
     ]
    },
    {
     "name": "stdout",
     "output_type": "stream",
     "text": [
      "full_mention:  Heidrun\n",
      "full_mention Matched Value:  None 0.0\n"
     ]
    },
    {
     "name": "stderr",
     "output_type": "stream",
     "text": [
      "\r",
      " 51%|█████▏    | 458/891 [01:59<01:48,  4.01it/s]"
     ]
    },
    {
     "name": "stdout",
     "output_type": "stream",
     "text": [
      "full_mention:  Oslo\n",
      "full_mention Matched Value:  None 0.0\n"
     ]
    },
    {
     "name": "stderr",
     "output_type": "stream",
     "text": [
      "\r",
      " 52%|█████▏    | 459/891 [01:59<01:48,  3.99it/s]"
     ]
    },
    {
     "name": "stdout",
     "output_type": "stream",
     "text": [
      "full_mention:  Finnish\n",
      "full_mention Matched Value:  None 0.0\n"
     ]
    },
    {
     "name": "stderr",
     "output_type": "stream",
     "text": [
      "\r",
      " 52%|█████▏    | 460/891 [02:00<01:48,  3.99it/s]"
     ]
    },
    {
     "name": "stdout",
     "output_type": "stream",
     "text": [
      "full_mention:  HELSINKI\n",
      "full_mention Matched Value:  None 0.0\n"
     ]
    },
    {
     "name": "stderr",
     "output_type": "stream",
     "text": [
      "\r",
      " 52%|█████▏    | 461/891 [02:00<01:49,  3.93it/s]"
     ]
    },
    {
     "name": "stdout",
     "output_type": "stream",
     "text": [
      "full_mention:  Finland\n",
      "full_mention Matched Value:  None 0.0\n"
     ]
    },
    {
     "name": "stderr",
     "output_type": "stream",
     "text": [
      "\r",
      " 52%|█████▏    | 462/891 [02:00<01:48,  3.96it/s]"
     ]
    },
    {
     "name": "stdout",
     "output_type": "stream",
     "text": [
      "full_mention:  Bank of Finland\n",
      "full_mention Matched Value:  None 0.0\n"
     ]
    },
    {
     "name": "stderr",
     "output_type": "stream",
     "text": [
      "\r",
      " 52%|█████▏    | 463/891 [02:01<01:47,  3.97it/s]"
     ]
    },
    {
     "name": "stdout",
     "output_type": "stream",
     "text": [
      "full_mention:  Bank of Finland\n",
      "full_mention Matched Value:  None 0.0\n"
     ]
    },
    {
     "name": "stderr",
     "output_type": "stream",
     "text": [
      "\r",
      " 52%|█████▏    | 464/891 [02:01<01:47,  3.99it/s]"
     ]
    },
    {
     "name": "stdout",
     "output_type": "stream",
     "text": [
      "full_mention:  Bank of Finland\n",
      "full_mention Matched Value:  None 0.0\n"
     ]
    },
    {
     "name": "stderr",
     "output_type": "stream",
     "text": [
      "\r",
      " 52%|█████▏    | 465/891 [02:01<01:47,  3.98it/s]"
     ]
    },
    {
     "name": "stdout",
     "output_type": "stream",
     "text": [
      "full_mention:  Finland\n",
      "full_mention Matched Value:  None 0.0\n"
     ]
    },
    {
     "name": "stderr",
     "output_type": "stream",
     "text": [
      "\r",
      " 52%|█████▏    | 466/891 [02:01<01:46,  4.00it/s]"
     ]
    },
    {
     "name": "stdout",
     "output_type": "stream",
     "text": [
      "full_mention:  European Union\n",
      "full_mention Matched Value:  None 0.0\n"
     ]
    },
    {
     "name": "stderr",
     "output_type": "stream",
     "text": [
      "\r",
      " 52%|█████▏    | 467/891 [02:02<01:47,  3.94it/s]"
     ]
    },
    {
     "name": "stdout",
     "output_type": "stream",
     "text": [
      "full_mention:  European Union\n",
      "full_mention Matched Value:  None 0.0\n"
     ]
    },
    {
     "name": "stderr",
     "output_type": "stream",
     "text": [
      "\r",
      " 53%|█████▎    | 468/891 [02:02<01:47,  3.95it/s]"
     ]
    },
    {
     "name": "stdout",
     "output_type": "stream",
     "text": [
      "full_mention:  Dutch\n",
      "full_mention Matched Value:  None 0.0\n"
     ]
    },
    {
     "name": "stderr",
     "output_type": "stream",
     "text": [
      "\r",
      " 53%|█████▎    | 469/891 [02:02<01:45,  3.99it/s]"
     ]
    },
    {
     "name": "stdout",
     "output_type": "stream",
     "text": [
      "full_mention:  AMSTERDAM\n",
      "full_mention Matched Value:  None 0.0\n"
     ]
    },
    {
     "name": "stderr",
     "output_type": "stream",
     "text": [
      "\r",
      " 53%|█████▎    | 470/891 [02:02<01:46,  3.94it/s]"
     ]
    },
    {
     "name": "stdout",
     "output_type": "stream",
     "text": [
      "full_mention:  Dutch\n",
      "full_mention Matched Value:  None 0.0\n"
     ]
    },
    {
     "name": "stderr",
     "output_type": "stream",
     "text": [
      "\r",
      " 53%|█████▎    | 471/891 [02:03<01:45,  3.98it/s]"
     ]
    },
    {
     "name": "stdout",
     "output_type": "stream",
     "text": [
      "full_mention:  GMT\n",
      "full_mention Matched Value:  None 0.0\n"
     ]
    },
    {
     "name": "stderr",
     "output_type": "stream",
     "text": [
      "\r",
      " 53%|█████▎    | 472/891 [02:03<01:44,  4.00it/s]"
     ]
    },
    {
     "name": "stdout",
     "output_type": "stream",
     "text": [
      "full_mention:  GMT\n",
      "full_mention Matched Value:  None 0.0\n"
     ]
    },
    {
     "name": "stderr",
     "output_type": "stream",
     "text": [
      "\r",
      " 53%|█████▎    | 473/891 [02:03<01:44,  4.00it/s]"
     ]
    },
    {
     "name": "stdout",
     "output_type": "stream",
     "text": [
      "full_mention:  Amsterdam\n",
      "full_mention Matched Value:  None 0.0\n"
     ]
    },
    {
     "name": "stderr",
     "output_type": "stream",
     "text": [
      "\r",
      " 53%|█████▎    | 474/891 [02:03<01:43,  4.04it/s]"
     ]
    },
    {
     "name": "stdout",
     "output_type": "stream",
     "text": [
      "full_mention:  German\n",
      "full_mention Matched Value:  None 0.0\n"
     ]
    },
    {
     "name": "stderr",
     "output_type": "stream",
     "text": [
      "\r",
      " 53%|█████▎    | 475/891 [02:04<01:43,  4.01it/s]"
     ]
    },
    {
     "name": "stdout",
     "output_type": "stream",
     "text": [
      "full_mention:  British\n",
      "full_mention Matched Value:  None 0.0\n"
     ]
    },
    {
     "name": "stderr",
     "output_type": "stream",
     "text": [
      "\r",
      " 53%|█████▎    | 476/891 [02:04<01:44,  3.96it/s]"
     ]
    },
    {
     "name": "stdout",
     "output_type": "stream",
     "text": [
      "full_mention:  BONN\n",
      "full_mention Matched Value:  None 0.0\n"
     ]
    },
    {
     "name": "stderr",
     "output_type": "stream",
     "text": [
      "\r",
      " 54%|█████▎    | 477/891 [02:04<01:44,  3.97it/s]"
     ]
    },
    {
     "name": "stdout",
     "output_type": "stream",
     "text": [
      "full_mention:  Germany\n",
      "full_mention Matched Value:  None 0.0\n"
     ]
    },
    {
     "name": "stderr",
     "output_type": "stream",
     "text": [
      "\r",
      " 54%|█████▎    | 478/891 [02:04<01:43,  3.98it/s]"
     ]
    },
    {
     "name": "stdout",
     "output_type": "stream",
     "text": [
      "full_mention:  British\n",
      "full_mention Matched Value:  None 0.0\n"
     ]
    },
    {
     "name": "stderr",
     "output_type": "stream",
     "text": [
      "\r",
      " 54%|█████▍    | 479/891 [02:05<01:42,  4.01it/s]"
     ]
    },
    {
     "name": "stdout",
     "output_type": "stream",
     "text": [
      "full_mention:  ZDF\n",
      "full_mention Matched Value:  None 0.0\n"
     ]
    },
    {
     "name": "stderr",
     "output_type": "stream",
     "text": [
      "\r",
      " 54%|█████▍    | 480/891 [02:05<01:42,  4.03it/s]"
     ]
    },
    {
     "name": "stdout",
     "output_type": "stream",
     "text": [
      "full_mention:  Britain\n",
      "full_mention Matched Value:  None 0.0\n"
     ]
    },
    {
     "name": "stderr",
     "output_type": "stream",
     "text": [
      "\r",
      " 54%|█████▍    | 481/891 [02:05<01:41,  4.03it/s]"
     ]
    },
    {
     "name": "stdout",
     "output_type": "stream",
     "text": [
      "full_mention:  European Commission\n",
      "full_mention Matched Value:  None 0.0\n"
     ]
    },
    {
     "name": "stderr",
     "output_type": "stream",
     "text": [
      "\r",
      " 54%|█████▍    | 482/891 [02:05<01:41,  4.05it/s]"
     ]
    },
    {
     "name": "stdout",
     "output_type": "stream",
     "text": [
      "full_mention:  European Commission\n",
      "full_mention Matched Value:  None 0.0\n"
     ]
    },
    {
     "name": "stderr",
     "output_type": "stream",
     "text": [
      "\r",
      " 54%|█████▍    | 483/891 [02:06<01:40,  4.08it/s]"
     ]
    },
    {
     "name": "stdout",
     "output_type": "stream",
     "text": [
      "full_mention:  Franz Fischler\n",
      "full_mention Matched Value:  None 0.0\n"
     ]
    },
    {
     "name": "stderr",
     "output_type": "stream",
     "text": [
      "\r",
      " 54%|█████▍    | 484/891 [02:06<01:39,  4.10it/s]"
     ]
    },
    {
     "name": "stdout",
     "output_type": "stream",
     "text": [
      "full_mention:  Franz Fischler\n",
      "full_mention Matched Value:  None 0.0\n"
     ]
    },
    {
     "name": "stderr",
     "output_type": "stream",
     "text": [
      "\r",
      " 54%|█████▍    | 485/891 [02:06<01:40,  4.05it/s]"
     ]
    },
    {
     "name": "stdout",
     "output_type": "stream",
     "text": [
      "full_mention:  Britain\n",
      "full_mention Matched Value:  None 0.0\n"
     ]
    },
    {
     "name": "stderr",
     "output_type": "stream",
     "text": [
      "\r",
      " 55%|█████▍    | 486/891 [02:06<01:40,  4.04it/s]"
     ]
    },
    {
     "name": "stdout",
     "output_type": "stream",
     "text": [
      "full_mention:  France\n",
      "full_mention Matched Value:  None 0.0\n"
     ]
    },
    {
     "name": "stderr",
     "output_type": "stream",
     "text": [
      "\r",
      " 55%|█████▍    | 487/891 [02:06<01:39,  4.07it/s]"
     ]
    },
    {
     "name": "stdout",
     "output_type": "stream",
     "text": [
      "full_mention:  BSE\n",
      "full_mention Matched Value:  None 0.0\n"
     ]
    },
    {
     "name": "stderr",
     "output_type": "stream",
     "text": [
      "\r",
      " 55%|█████▍    | 488/891 [02:07<01:39,  4.07it/s]"
     ]
    },
    {
     "name": "stdout",
     "output_type": "stream",
     "text": [
      "full_mention:  BSE\n",
      "full_mention Matched Value:  None 0.0\n"
     ]
    },
    {
     "name": "stderr",
     "output_type": "stream",
     "text": [
      "\r",
      " 55%|█████▍    | 489/891 [02:07<01:40,  4.00it/s]"
     ]
    },
    {
     "name": "stdout",
     "output_type": "stream",
     "text": [
      "full_mention:  British\n",
      "full_mention Matched Value:  None 0.0\n"
     ]
    },
    {
     "name": "stderr",
     "output_type": "stream",
     "text": [
      "\r",
      " 55%|█████▍    | 490/891 [02:07<01:40,  4.00it/s]"
     ]
    },
    {
     "name": "stdout",
     "output_type": "stream",
     "text": [
      "full_mention:  ZDF\n",
      "full_mention Matched Value:  None 0.0\n"
     ]
    },
    {
     "name": "stderr",
     "output_type": "stream",
     "text": [
      "\r",
      " 55%|█████▌    | 491/891 [02:08<01:43,  3.86it/s]"
     ]
    },
    {
     "name": "stdout",
     "output_type": "stream",
     "text": [
      "full_mention:  Germany\n",
      "full_mention Matched Value:  None 0.0\n"
     ]
    },
    {
     "name": "stderr",
     "output_type": "stream",
     "text": [
      "\r",
      " 55%|█████▌    | 492/891 [02:08<01:43,  3.85it/s]"
     ]
    },
    {
     "name": "stdout",
     "output_type": "stream",
     "text": [
      "full_mention:  Britain\n",
      "full_mention Matched Value:  None 0.0\n"
     ]
    },
    {
     "name": "stderr",
     "output_type": "stream",
     "text": [
      "\r",
      " 55%|█████▌    | 493/891 [02:08<01:41,  3.92it/s]"
     ]
    },
    {
     "name": "stdout",
     "output_type": "stream",
     "text": [
      "full_mention:  British\n",
      "full_mention Matched Value:  None 0.0\n"
     ]
    },
    {
     "name": "stderr",
     "output_type": "stream",
     "text": [
      "\r",
      " 55%|█████▌    | 494/891 [02:08<01:42,  3.86it/s]"
     ]
    },
    {
     "name": "stdout",
     "output_type": "stream",
     "text": [
      "full_mention:  British\n",
      "full_mention Matched Value:  None 0.0\n"
     ]
    },
    {
     "name": "stderr",
     "output_type": "stream",
     "text": [
      "\r",
      " 56%|█████▌    | 495/891 [02:09<01:41,  3.90it/s]"
     ]
    },
    {
     "name": "stdout",
     "output_type": "stream",
     "text": [
      "full_mention:  British\n",
      "full_mention Matched Value:  None 0.0\n"
     ]
    },
    {
     "name": "stderr",
     "output_type": "stream",
     "text": [
      "\r",
      " 56%|█████▌    | 496/891 [02:09<01:42,  3.86it/s]"
     ]
    },
    {
     "name": "stdout",
     "output_type": "stream",
     "text": [
      "full_mention:  Britain\n",
      "full_mention Matched Value:  None 0.0\n"
     ]
    },
    {
     "name": "stderr",
     "output_type": "stream",
     "text": [
      "\r",
      " 56%|█████▌    | 497/891 [02:09<01:40,  3.93it/s]"
     ]
    },
    {
     "name": "stdout",
     "output_type": "stream",
     "text": [
      "full_mention:  WORLD SERIES OF GOLF\n",
      "full_mention Matched Value:  None 0.0\n"
     ]
    },
    {
     "name": "stderr",
     "output_type": "stream",
     "text": [
      "\r",
      " 56%|█████▌    | 498/891 [02:09<01:38,  3.99it/s]"
     ]
    },
    {
     "name": "stdout",
     "output_type": "stream",
     "text": [
      "full_mention:  WORLD SERIES OF GOLF\n",
      "full_mention Matched Value:  None 0.0\n"
     ]
    },
    {
     "name": "stderr",
     "output_type": "stream",
     "text": [
      "\r",
      " 56%|█████▌    | 499/891 [02:10<01:37,  4.02it/s]"
     ]
    },
    {
     "name": "stdout",
     "output_type": "stream",
     "text": [
      "full_mention:  WORLD SERIES OF GOLF\n",
      "full_mention Matched Value:  None 0.0\n"
     ]
    },
    {
     "name": "stderr",
     "output_type": "stream",
     "text": [
      "\r",
      " 56%|█████▌    | 500/891 [02:10<01:36,  4.04it/s]"
     ]
    },
    {
     "name": "stdout",
     "output_type": "stream",
     "text": [
      "full_mention:  WORLD SERIES OF GOLF\n",
      "full_mention Matched Value:  None 0.0\n"
     ]
    },
    {
     "name": "stderr",
     "output_type": "stream",
     "text": [
      "\r",
      " 56%|█████▌    | 501/891 [02:10<01:37,  4.01it/s]"
     ]
    },
    {
     "name": "stdout",
     "output_type": "stream",
     "text": [
      "full_mention:  AKRON\n",
      "full_mention Matched Value:  None 0.0\n"
     ]
    },
    {
     "name": "stderr",
     "output_type": "stream",
     "text": [
      "\r",
      " 56%|█████▋    | 502/891 [02:10<01:44,  3.74it/s]"
     ]
    },
    {
     "name": "stdout",
     "output_type": "stream",
     "text": [
      "full_mention:  Ohio\n",
      "full_mention Matched Value:  None 0.0\n"
     ]
    },
    {
     "name": "stderr",
     "output_type": "stream",
     "text": [
      "\r",
      " 56%|█████▋    | 503/891 [02:11<01:45,  3.69it/s]"
     ]
    },
    {
     "name": "stdout",
     "output_type": "stream",
     "text": [
      "full_mention:  NEC World Series of Golf\n",
      "full_mention Matched Value:  None 0.0\n"
     ]
    },
    {
     "name": "stderr",
     "output_type": "stream",
     "text": [
      "\r",
      " 57%|█████▋    | 504/891 [02:11<01:44,  3.70it/s]"
     ]
    },
    {
     "name": "stdout",
     "output_type": "stream",
     "text": [
      "full_mention:  NEC World Series of Golf\n",
      "full_mention Matched Value:  None 0.0\n"
     ]
    },
    {
     "name": "stderr",
     "output_type": "stream",
     "text": [
      "\r",
      " 57%|█████▋    | 505/891 [02:11<01:50,  3.49it/s]"
     ]
    },
    {
     "name": "stdout",
     "output_type": "stream",
     "text": [
      "full_mention:  NEC World Series of Golf\n",
      "full_mention Matched Value:  None 0.0\n"
     ]
    },
    {
     "name": "stderr",
     "output_type": "stream",
     "text": [
      "\r",
      " 57%|█████▋    | 506/891 [02:11<01:47,  3.59it/s]"
     ]
    },
    {
     "name": "stdout",
     "output_type": "stream",
     "text": [
      "full_mention:  NEC World Series of Golf\n",
      "full_mention Matched Value:  None 0.0\n"
     ]
    },
    {
     "name": "stderr",
     "output_type": "stream",
     "text": [
      "\r",
      " 57%|█████▋    | 507/891 [02:12<01:44,  3.68it/s]"
     ]
    },
    {
     "name": "stdout",
     "output_type": "stream",
     "text": [
      "full_mention:  NEC World Series of Golf\n",
      "full_mention Matched Value:  None 0.0\n"
     ]
    },
    {
     "name": "stderr",
     "output_type": "stream",
     "text": [
      "\r",
      " 57%|█████▋    | 508/891 [02:12<01:43,  3.70it/s]"
     ]
    },
    {
     "name": "stdout",
     "output_type": "stream",
     "text": [
      "full_mention:  U.S.\n",
      "full_mention Matched Value:  None 0.0\n"
     ]
    },
    {
     "name": "stderr",
     "output_type": "stream",
     "text": [
      "\r",
      " 57%|█████▋    | 509/891 [02:12<01:41,  3.75it/s]"
     ]
    },
    {
     "name": "stdout",
     "output_type": "stream",
     "text": [
      "full_mention:  Paul Goydos\n",
      "full_mention Matched Value:  None 0.0\n"
     ]
    },
    {
     "name": "stderr",
     "output_type": "stream",
     "text": [
      "\r",
      " 57%|█████▋    | 510/891 [02:13<01:40,  3.78it/s]"
     ]
    },
    {
     "name": "stdout",
     "output_type": "stream",
     "text": [
      "full_mention:  Paul Goydos\n",
      "full_mention Matched Value:  None 0.0\n"
     ]
    },
    {
     "name": "stderr",
     "output_type": "stream",
     "text": [
      "\r",
      " 57%|█████▋    | 511/891 [02:13<01:38,  3.84it/s]"
     ]
    },
    {
     "name": "stdout",
     "output_type": "stream",
     "text": [
      "full_mention:  Billy Mayfair\n",
      "full_mention Matched Value:  None 0.0\n"
     ]
    },
    {
     "name": "stderr",
     "output_type": "stream",
     "text": [
      "\r",
      " 57%|█████▋    | 512/891 [02:13<01:40,  3.76it/s]"
     ]
    },
    {
     "name": "stdout",
     "output_type": "stream",
     "text": [
      "full_mention:  Billy Mayfair\n",
      "full_mention Matched Value:  None 0.0\n"
     ]
    },
    {
     "name": "stderr",
     "output_type": "stream",
     "text": [
      "\r",
      " 58%|█████▊    | 513/891 [02:13<01:39,  3.79it/s]"
     ]
    },
    {
     "name": "stdout",
     "output_type": "stream",
     "text": [
      "full_mention:  Hidemichi Tanaka\n",
      "full_mention Matched Value:  None 0.0\n"
     ]
    },
    {
     "name": "stderr",
     "output_type": "stream",
     "text": [
      "\r",
      " 58%|█████▊    | 514/891 [02:14<01:37,  3.85it/s]"
     ]
    },
    {
     "name": "stdout",
     "output_type": "stream",
     "text": [
      "full_mention:  Hidemichi Tanaka\n",
      "full_mention Matched Value:  None 0.0\n"
     ]
    },
    {
     "name": "stderr",
     "output_type": "stream",
     "text": [
      "\r",
      " 58%|█████▊    | 515/891 [02:14<01:37,  3.86it/s]"
     ]
    },
    {
     "name": "stdout",
     "output_type": "stream",
     "text": [
      "full_mention:  Japan\n",
      "full_mention Matched Value:  None 0.0\n"
     ]
    },
    {
     "name": "stderr",
     "output_type": "stream",
     "text": [
      "\r",
      " 58%|█████▊    | 516/891 [02:14<01:37,  3.86it/s]"
     ]
    },
    {
     "name": "stdout",
     "output_type": "stream",
     "text": [
      "full_mention:  Steve Stricker\n",
      "full_mention Matched Value:  None 0.0\n"
     ]
    },
    {
     "name": "stderr",
     "output_type": "stream",
     "text": [
      "\r",
      " 58%|█████▊    | 517/891 [02:14<01:38,  3.79it/s]"
     ]
    },
    {
     "name": "stdout",
     "output_type": "stream",
     "text": [
      "full_mention:  Steve Stricker\n",
      "full_mention Matched Value:  None 0.0\n"
     ]
    },
    {
     "name": "stderr",
     "output_type": "stream",
     "text": [
      "\r",
      " 58%|█████▊    | 518/891 [02:15<01:38,  3.79it/s]"
     ]
    },
    {
     "name": "stdout",
     "output_type": "stream",
     "text": [
      "full_mention:  Justin Leonard\n",
      "full_mention Matched Value:  None 0.0\n"
     ]
    },
    {
     "name": "stderr",
     "output_type": "stream",
     "text": [
      "\r",
      " 58%|█████▊    | 519/891 [02:15<01:35,  3.89it/s]"
     ]
    },
    {
     "name": "stdout",
     "output_type": "stream",
     "text": [
      "full_mention:  Justin Leonard\n",
      "full_mention Matched Value:  None 0.0\n"
     ]
    },
    {
     "name": "stderr",
     "output_type": "stream",
     "text": [
      "\r",
      " 58%|█████▊    | 520/891 [02:15<01:37,  3.82it/s]"
     ]
    },
    {
     "name": "stdout",
     "output_type": "stream",
     "text": [
      "full_mention:  Mark Brooks\n",
      "full_mention Matched Value:  None 0.0\n"
     ]
    },
    {
     "name": "stderr",
     "output_type": "stream",
     "text": [
      "\r",
      " 58%|█████▊    | 521/891 [02:15<01:36,  3.82it/s]"
     ]
    },
    {
     "name": "stdout",
     "output_type": "stream",
     "text": [
      "full_mention:  Mark Brooks\n",
      "full_mention Matched Value:  None 0.0\n"
     ]
    },
    {
     "name": "stderr",
     "output_type": "stream",
     "text": [
      "\r",
      " 59%|█████▊    | 522/891 [02:16<01:35,  3.86it/s]"
     ]
    },
    {
     "name": "stdout",
     "output_type": "stream",
     "text": [
      "full_mention:  Tim Herron\n",
      "full_mention Matched Value:  None 0.0\n"
     ]
    },
    {
     "name": "stderr",
     "output_type": "stream",
     "text": [
      "\r",
      " 59%|█████▊    | 523/891 [02:16<01:34,  3.89it/s]"
     ]
    },
    {
     "name": "stdout",
     "output_type": "stream",
     "text": [
      "full_mention:  Tim Herron\n",
      "full_mention Matched Value:  None 0.0\n"
     ]
    },
    {
     "name": "stderr",
     "output_type": "stream",
     "text": [
      "\r",
      " 59%|█████▉    | 524/891 [02:16<01:32,  3.97it/s]"
     ]
    },
    {
     "name": "stdout",
     "output_type": "stream",
     "text": [
      "full_mention:  Duffy Waldorf\n",
      "full_mention Matched Value:  None 0.0\n"
     ]
    },
    {
     "name": "stderr",
     "output_type": "stream",
     "text": [
      "\r",
      " 59%|█████▉    | 525/891 [02:16<01:33,  3.92it/s]"
     ]
    },
    {
     "name": "stdout",
     "output_type": "stream",
     "text": [
      "full_mention:  Duffy Waldorf\n",
      "full_mention Matched Value:  None 0.0\n"
     ]
    },
    {
     "name": "stderr",
     "output_type": "stream",
     "text": [
      "\r",
      " 59%|█████▉    | 526/891 [02:17<01:32,  3.94it/s]"
     ]
    },
    {
     "name": "stdout",
     "output_type": "stream",
     "text": [
      "full_mention:  Davis Love\n",
      "full_mention Matched Value:  None 0.0\n"
     ]
    },
    {
     "name": "stderr",
     "output_type": "stream",
     "text": [
      "\r",
      " 59%|█████▉    | 527/891 [02:17<01:32,  3.96it/s]"
     ]
    },
    {
     "name": "stdout",
     "output_type": "stream",
     "text": [
      "full_mention:  Davis Love\n",
      "full_mention Matched Value:  None 0.0\n"
     ]
    },
    {
     "name": "stderr",
     "output_type": "stream",
     "text": [
      "\r",
      " 59%|█████▉    | 528/891 [02:17<01:30,  4.00it/s]"
     ]
    },
    {
     "name": "stdout",
     "output_type": "stream",
     "text": [
      "full_mention:  Anders Forsbrand\n",
      "full_mention Matched Value:  None 0.0\n"
     ]
    },
    {
     "name": "stderr",
     "output_type": "stream",
     "text": [
      "\r",
      " 59%|█████▉    | 529/891 [02:17<01:31,  3.97it/s]"
     ]
    },
    {
     "name": "stdout",
     "output_type": "stream",
     "text": [
      "full_mention:  Anders Forsbrand\n",
      "full_mention Matched Value:  None 0.0\n"
     ]
    },
    {
     "name": "stderr",
     "output_type": "stream",
     "text": [
      "\r",
      " 59%|█████▉    | 530/891 [02:18<01:38,  3.65it/s]"
     ]
    },
    {
     "name": "stdout",
     "output_type": "stream",
     "text": [
      "full_mention:  Sweden\n",
      "full_mention Matched Value:  None 0.0\n"
     ]
    },
    {
     "name": "stderr",
     "output_type": "stream",
     "text": [
      "\r",
      " 60%|█████▉    | 531/891 [02:18<01:39,  3.61it/s]"
     ]
    },
    {
     "name": "stdout",
     "output_type": "stream",
     "text": [
      "full_mention:  Nick Faldo\n",
      "full_mention Matched Value:  None 0.0\n"
     ]
    },
    {
     "name": "stderr",
     "output_type": "stream",
     "text": [
      "\r",
      " 60%|█████▉    | 532/891 [02:18<01:37,  3.69it/s]"
     ]
    },
    {
     "name": "stdout",
     "output_type": "stream",
     "text": [
      "full_mention:  Nick Faldo\n",
      "full_mention Matched Value:  None 0.0\n"
     ]
    },
    {
     "name": "stderr",
     "output_type": "stream",
     "text": [
      "\r",
      " 60%|█████▉    | 533/891 [02:19<01:35,  3.75it/s]"
     ]
    },
    {
     "name": "stdout",
     "output_type": "stream",
     "text": [
      "full_mention:  Britain\n",
      "full_mention Matched Value:  None 0.0\n"
     ]
    },
    {
     "name": "stderr",
     "output_type": "stream",
     "text": [
      "\r",
      " 60%|█████▉    | 534/891 [02:19<01:33,  3.81it/s]"
     ]
    },
    {
     "name": "stdout",
     "output_type": "stream",
     "text": [
      "full_mention:  John Cook\n",
      "full_mention Matched Value:  None 0.0\n"
     ]
    },
    {
     "name": "stderr",
     "output_type": "stream",
     "text": [
      "\r",
      " 60%|██████    | 535/891 [02:19<01:32,  3.87it/s]"
     ]
    },
    {
     "name": "stdout",
     "output_type": "stream",
     "text": [
      "full_mention:  John Cook\n",
      "full_mention Matched Value:  None 0.0\n"
     ]
    },
    {
     "name": "stderr",
     "output_type": "stream",
     "text": [
      "\r",
      " 60%|██████    | 536/891 [02:19<01:37,  3.65it/s]"
     ]
    },
    {
     "name": "stdout",
     "output_type": "stream",
     "text": [
      "full_mention:  Steve Jones\n",
      "full_mention Matched Value:  None 0.0\n"
     ]
    },
    {
     "name": "stderr",
     "output_type": "stream",
     "text": [
      "\r",
      " 60%|██████    | 537/891 [02:20<01:35,  3.72it/s]"
     ]
    },
    {
     "name": "stdout",
     "output_type": "stream",
     "text": [
      "full_mention:  Steve Jones\n",
      "full_mention Matched Value:  None 0.0\n"
     ]
    },
    {
     "name": "stderr",
     "output_type": "stream",
     "text": [
      "\r",
      " 60%|██████    | 538/891 [02:20<01:33,  3.78it/s]"
     ]
    },
    {
     "name": "stdout",
     "output_type": "stream",
     "text": [
      "full_mention:  Phil Mickelson\n",
      "full_mention Matched Value:  None 0.0\n"
     ]
    },
    {
     "name": "stderr",
     "output_type": "stream",
     "text": [
      "\r",
      " 60%|██████    | 539/891 [02:20<01:31,  3.83it/s]"
     ]
    },
    {
     "name": "stdout",
     "output_type": "stream",
     "text": [
      "full_mention:  Phil Mickelson\n",
      "full_mention Matched Value:  None 0.0\n"
     ]
    },
    {
     "name": "stderr",
     "output_type": "stream",
     "text": [
      "\r",
      " 61%|██████    | 540/891 [02:20<01:30,  3.90it/s]"
     ]
    },
    {
     "name": "stdout",
     "output_type": "stream",
     "text": [
      "full_mention:  Greg Norman\n",
      "full_mention Matched Value:  None 0.0\n"
     ]
    },
    {
     "name": "stderr",
     "output_type": "stream",
     "text": [
      "\r",
      " 61%|██████    | 541/891 [02:21<01:28,  3.95it/s]"
     ]
    },
    {
     "name": "stdout",
     "output_type": "stream",
     "text": [
      "full_mention:  Greg Norman\n",
      "full_mention Matched Value:  None 0.0\n"
     ]
    },
    {
     "name": "stderr",
     "output_type": "stream",
     "text": [
      "\r",
      " 61%|██████    | 542/891 [02:21<01:27,  3.98it/s]"
     ]
    },
    {
     "name": "stdout",
     "output_type": "stream",
     "text": [
      "full_mention:  Australia\n",
      "full_mention Matched Value:  None 0.0\n"
     ]
    },
    {
     "name": "stderr",
     "output_type": "stream",
     "text": [
      "\r",
      " 61%|██████    | 543/891 [02:21<01:28,  3.93it/s]"
     ]
    },
    {
     "name": "stdout",
     "output_type": "stream",
     "text": [
      "full_mention:  Ernie Els\n",
      "full_mention Matched Value:  None 0.0\n"
     ]
    },
    {
     "name": "stderr",
     "output_type": "stream",
     "text": [
      "\r",
      " 61%|██████    | 544/891 [02:21<01:27,  3.95it/s]"
     ]
    },
    {
     "name": "stdout",
     "output_type": "stream",
     "text": [
      "full_mention:  Ernie Els\n",
      "full_mention Matched Value:  None 0.0\n"
     ]
    },
    {
     "name": "stderr",
     "output_type": "stream",
     "text": [
      "\r",
      " 61%|██████    | 545/891 [02:22<01:27,  3.97it/s]"
     ]
    },
    {
     "name": "stdout",
     "output_type": "stream",
     "text": [
      "full_mention:  South Africa\n",
      "full_mention Matched Value:  None 0.0\n"
     ]
    },
    {
     "name": "stderr",
     "output_type": "stream",
     "text": [
      "\r",
      " 61%|██████▏   | 546/891 [02:22<01:26,  3.99it/s]"
     ]
    },
    {
     "name": "stdout",
     "output_type": "stream",
     "text": [
      "full_mention:  South Africa\n",
      "full_mention Matched Value:  None 0.0\n"
     ]
    },
    {
     "name": "stderr",
     "output_type": "stream",
     "text": [
      "\r",
      " 61%|██████▏   | 547/891 [02:22<01:25,  4.00it/s]"
     ]
    },
    {
     "name": "stdout",
     "output_type": "stream",
     "text": [
      "full_mention:  Scott Hoch\n",
      "full_mention Matched Value:  None 0.0\n"
     ]
    },
    {
     "name": "stderr",
     "output_type": "stream",
     "text": [
      "\r",
      " 62%|██████▏   | 548/891 [02:22<01:24,  4.04it/s]"
     ]
    },
    {
     "name": "stdout",
     "output_type": "stream",
     "text": [
      "full_mention:  Scott Hoch\n",
      "full_mention Matched Value:  None 0.0\n"
     ]
    },
    {
     "name": "stderr",
     "output_type": "stream",
     "text": [
      "\r",
      " 62%|██████▏   | 549/891 [02:23<01:24,  4.05it/s]"
     ]
    },
    {
     "name": "stdout",
     "output_type": "stream",
     "text": [
      "full_mention:  Clarence Rose\n",
      "full_mention Matched Value:  None 0.0\n"
     ]
    },
    {
     "name": "stderr",
     "output_type": "stream",
     "text": [
      "\r",
      " 62%|██████▏   | 550/891 [02:23<01:24,  4.05it/s]"
     ]
    },
    {
     "name": "stdout",
     "output_type": "stream",
     "text": [
      "full_mention:  Clarence Rose\n",
      "full_mention Matched Value:  None 0.0\n"
     ]
    },
    {
     "name": "stderr",
     "output_type": "stream",
     "text": [
      "\r",
      " 62%|██████▏   | 551/891 [02:23<01:24,  4.03it/s]"
     ]
    },
    {
     "name": "stdout",
     "output_type": "stream",
     "text": [
      "full_mention:  Loren Roberts\n",
      "full_mention Matched Value:  None 0.0\n"
     ]
    },
    {
     "name": "stderr",
     "output_type": "stream",
     "text": [
      "\r",
      " 62%|██████▏   | 552/891 [02:23<01:24,  4.03it/s]"
     ]
    },
    {
     "name": "stdout",
     "output_type": "stream",
     "text": [
      "full_mention:  Loren Roberts\n",
      "full_mention Matched Value:  None 0.0\n"
     ]
    },
    {
     "name": "stderr",
     "output_type": "stream",
     "text": [
      "\r",
      " 62%|██████▏   | 553/891 [02:24<01:24,  4.00it/s]"
     ]
    },
    {
     "name": "stdout",
     "output_type": "stream",
     "text": [
      "full_mention:  Fred Funk\n",
      "full_mention Matched Value:  None 0.0\n"
     ]
    },
    {
     "name": "stderr",
     "output_type": "stream",
     "text": [
      "\r",
      " 62%|██████▏   | 554/891 [02:24<01:24,  3.98it/s]"
     ]
    },
    {
     "name": "stdout",
     "output_type": "stream",
     "text": [
      "full_mention:  Fred Funk\n",
      "full_mention Matched Value:  None 0.0\n"
     ]
    },
    {
     "name": "stderr",
     "output_type": "stream",
     "text": [
      "\r",
      " 62%|██████▏   | 555/891 [02:24<01:23,  4.01it/s]"
     ]
    },
    {
     "name": "stdout",
     "output_type": "stream",
     "text": [
      "full_mention:  Sven Struver\n",
      "full_mention Matched Value:  None 0.0\n"
     ]
    },
    {
     "name": "stderr",
     "output_type": "stream",
     "text": [
      "\r",
      " 62%|██████▏   | 556/891 [02:24<01:23,  4.03it/s]"
     ]
    },
    {
     "name": "stdout",
     "output_type": "stream",
     "text": [
      "full_mention:  Sven Struver\n",
      "full_mention Matched Value:  None 0.0\n"
     ]
    },
    {
     "name": "stderr",
     "output_type": "stream",
     "text": [
      "\r",
      " 63%|██████▎   | 557/891 [02:25<01:23,  4.00it/s]"
     ]
    },
    {
     "name": "stdout",
     "output_type": "stream",
     "text": [
      "full_mention:  Germany\n",
      "full_mention Matched Value:  None 0.0\n"
     ]
    },
    {
     "name": "stderr",
     "output_type": "stream",
     "text": [
      "\r",
      " 63%|██████▎   | 558/891 [02:25<01:23,  4.00it/s]"
     ]
    },
    {
     "name": "stdout",
     "output_type": "stream",
     "text": [
      "full_mention:  Alexander Cejka\n",
      "full_mention Matched Value:  None 0.0\n"
     ]
    },
    {
     "name": "stderr",
     "output_type": "stream",
     "text": [
      "\r",
      " 63%|██████▎   | 559/891 [02:25<01:22,  4.04it/s]"
     ]
    },
    {
     "name": "stdout",
     "output_type": "stream",
     "text": [
      "full_mention:  Alexander Cejka\n",
      "full_mention Matched Value:  None 0.0\n"
     ]
    },
    {
     "name": "stderr",
     "output_type": "stream",
     "text": [
      "\r",
      " 63%|██████▎   | 560/891 [02:25<01:21,  4.06it/s]"
     ]
    },
    {
     "name": "stdout",
     "output_type": "stream",
     "text": [
      "full_mention:  Germany\n",
      "full_mention Matched Value:  None 0.0\n"
     ]
    },
    {
     "name": "stderr",
     "output_type": "stream",
     "text": [
      "\r",
      " 63%|██████▎   | 561/891 [02:26<01:21,  4.03it/s]"
     ]
    },
    {
     "name": "stdout",
     "output_type": "stream",
     "text": [
      "full_mention:  Hal Sutton\n",
      "full_mention Matched Value:  None 0.0\n"
     ]
    },
    {
     "name": "stderr",
     "output_type": "stream",
     "text": [
      "\r",
      " 63%|██████▎   | 562/891 [02:26<01:21,  4.05it/s]"
     ]
    },
    {
     "name": "stdout",
     "output_type": "stream",
     "text": [
      "full_mention:  Hal Sutton\n",
      "full_mention Matched Value:  None 0.0\n"
     ]
    },
    {
     "name": "stderr",
     "output_type": "stream",
     "text": [
      "\r",
      " 63%|██████▎   | 563/891 [02:26<01:20,  4.08it/s]"
     ]
    },
    {
     "name": "stdout",
     "output_type": "stream",
     "text": [
      "full_mention:  Tom Lehman\n",
      "full_mention Matched Value:  None 0.0\n"
     ]
    },
    {
     "name": "stderr",
     "output_type": "stream",
     "text": [
      "\r",
      " 63%|██████▎   | 564/891 [02:26<01:20,  4.09it/s]"
     ]
    },
    {
     "name": "stdout",
     "output_type": "stream",
     "text": [
      "full_mention:  Tom Lehman\n",
      "full_mention Matched Value:  None 0.0\n"
     ]
    },
    {
     "name": "stderr",
     "output_type": "stream",
     "text": [
      "\r",
      " 63%|██████▎   | 565/891 [02:27<01:19,  4.12it/s]"
     ]
    },
    {
     "name": "stdout",
     "output_type": "stream",
     "text": [
      "full_mention:  D.A. Weibring\n",
      "full_mention Matched Value:  None 0.0\n"
     ]
    },
    {
     "name": "stderr",
     "output_type": "stream",
     "text": [
      "\r",
      " 64%|██████▎   | 566/891 [02:27<01:19,  4.10it/s]"
     ]
    },
    {
     "name": "stdout",
     "output_type": "stream",
     "text": [
      "full_mention:  D.A. Weibring\n",
      "full_mention Matched Value:  None 0.0\n"
     ]
    },
    {
     "name": "stderr",
     "output_type": "stream",
     "text": [
      "\r",
      " 64%|██████▎   | 567/891 [02:27<01:18,  4.12it/s]"
     ]
    },
    {
     "name": "stdout",
     "output_type": "stream",
     "text": [
      "full_mention:  Brad Bryant\n",
      "full_mention Matched Value:  None 0.0\n"
     ]
    },
    {
     "name": "stderr",
     "output_type": "stream",
     "text": [
      "\r",
      " 64%|██████▎   | 568/891 [02:27<01:18,  4.12it/s]"
     ]
    },
    {
     "name": "stdout",
     "output_type": "stream",
     "text": [
      "full_mention:  Brad Bryant\n",
      "full_mention Matched Value:  None 0.0\n"
     ]
    },
    {
     "name": "stderr",
     "output_type": "stream",
     "text": [
      "\r",
      " 64%|██████▍   | 569/891 [02:28<01:18,  4.12it/s]"
     ]
    },
    {
     "name": "stdout",
     "output_type": "stream",
     "text": [
      "full_mention:  Craig Parry\n",
      "full_mention Matched Value:  None 0.0\n"
     ]
    },
    {
     "name": "stderr",
     "output_type": "stream",
     "text": [
      "\r",
      " 64%|██████▍   | 570/891 [02:28<01:17,  4.15it/s]"
     ]
    },
    {
     "name": "stdout",
     "output_type": "stream",
     "text": [
      "full_mention:  Craig Parry\n",
      "full_mention Matched Value:  None 0.0\n"
     ]
    },
    {
     "name": "stderr",
     "output_type": "stream",
     "text": [
      "\r",
      " 64%|██████▍   | 571/891 [02:28<01:17,  4.13it/s]"
     ]
    },
    {
     "name": "stdout",
     "output_type": "stream",
     "text": [
      "full_mention:  Australia\n",
      "full_mention Matched Value:  None 0.0\n"
     ]
    },
    {
     "name": "stderr",
     "output_type": "stream",
     "text": [
      "\r",
      " 64%|██████▍   | 572/891 [02:28<01:17,  4.13it/s]"
     ]
    },
    {
     "name": "stdout",
     "output_type": "stream",
     "text": [
      "full_mention:  Stewart Ginn\n",
      "full_mention Matched Value:  None 0.0\n"
     ]
    },
    {
     "name": "stderr",
     "output_type": "stream",
     "text": [
      "\r",
      " 64%|██████▍   | 573/891 [02:28<01:16,  4.14it/s]"
     ]
    },
    {
     "name": "stdout",
     "output_type": "stream",
     "text": [
      "full_mention:  Stewart Ginn\n",
      "full_mention Matched Value:  None 0.0\n"
     ]
    },
    {
     "name": "stderr",
     "output_type": "stream",
     "text": [
      "\r",
      " 64%|██████▍   | 574/891 [02:29<01:18,  4.06it/s]"
     ]
    },
    {
     "name": "stdout",
     "output_type": "stream",
     "text": [
      "full_mention:  Australia\n",
      "full_mention Matched Value:  None 0.0\n"
     ]
    },
    {
     "name": "stderr",
     "output_type": "stream",
     "text": [
      "\r",
      " 65%|██████▍   | 575/891 [02:29<01:17,  4.07it/s]"
     ]
    },
    {
     "name": "stdout",
     "output_type": "stream",
     "text": [
      "full_mention:  Corey Pavin\n",
      "full_mention Matched Value:  None 0.0\n"
     ]
    },
    {
     "name": "stderr",
     "output_type": "stream",
     "text": [
      "\r",
      " 65%|██████▍   | 576/891 [02:29<01:17,  4.09it/s]"
     ]
    },
    {
     "name": "stdout",
     "output_type": "stream",
     "text": [
      "full_mention:  Corey Pavin\n",
      "full_mention Matched Value:  None 0.0\n"
     ]
    },
    {
     "name": "stderr",
     "output_type": "stream",
     "text": [
      "\r",
      " 65%|██████▍   | 577/891 [02:29<01:16,  4.10it/s]"
     ]
    },
    {
     "name": "stdout",
     "output_type": "stream",
     "text": [
      "full_mention:  Craig Stadler\n",
      "full_mention Matched Value:  None 0.0\n"
     ]
    },
    {
     "name": "stderr",
     "output_type": "stream",
     "text": [
      "\r",
      " 65%|██████▍   | 578/891 [02:30<01:15,  4.12it/s]"
     ]
    },
    {
     "name": "stdout",
     "output_type": "stream",
     "text": [
      "full_mention:  Craig Stadler\n",
      "full_mention Matched Value:  None 0.0\n"
     ]
    },
    {
     "name": "stderr",
     "output_type": "stream",
     "text": [
      "\r",
      " 65%|██████▍   | 579/891 [02:30<01:15,  4.12it/s]"
     ]
    },
    {
     "name": "stdout",
     "output_type": "stream",
     "text": [
      "full_mention:  Fred Couples\n",
      "full_mention Matched Value:  None 0.0\n"
     ]
    },
    {
     "name": "stderr",
     "output_type": "stream",
     "text": [
      "\r",
      " 65%|██████▌   | 580/891 [02:30<01:15,  4.14it/s]"
     ]
    },
    {
     "name": "stdout",
     "output_type": "stream",
     "text": [
      "full_mention:  Fred Couples\n",
      "full_mention Matched Value:  None 0.0\n"
     ]
    },
    {
     "name": "stderr",
     "output_type": "stream",
     "text": [
      "\r",
      " 65%|██████▌   | 581/891 [02:30<01:14,  4.15it/s]"
     ]
    },
    {
     "name": "stdout",
     "output_type": "stream",
     "text": [
      "full_mention:  Paul Stankowski\n",
      "full_mention Matched Value:  None 0.0\n"
     ]
    },
    {
     "name": "stderr",
     "output_type": "stream",
     "text": [
      "\r",
      " 65%|██████▌   | 582/891 [02:31<01:14,  4.16it/s]"
     ]
    },
    {
     "name": "stdout",
     "output_type": "stream",
     "text": [
      "full_mention:  Paul Stankowski\n",
      "full_mention Matched Value:  None 0.0\n"
     ]
    },
    {
     "name": "stderr",
     "output_type": "stream",
     "text": [
      "\r",
      " 65%|██████▌   | 583/891 [02:31<01:14,  4.15it/s]"
     ]
    },
    {
     "name": "stdout",
     "output_type": "stream",
     "text": [
      "full_mention:  Costantino Rocca\n",
      "full_mention Matched Value:  None 0.0\n"
     ]
    },
    {
     "name": "stderr",
     "output_type": "stream",
     "text": [
      "\r",
      " 66%|██████▌   | 584/891 [02:31<01:14,  4.15it/s]"
     ]
    },
    {
     "name": "stdout",
     "output_type": "stream",
     "text": [
      "full_mention:  Costantino Rocca\n",
      "full_mention Matched Value:  None 0.0\n"
     ]
    },
    {
     "name": "stderr",
     "output_type": "stream",
     "text": [
      "\r",
      " 66%|██████▌   | 585/891 [02:31<01:13,  4.16it/s]"
     ]
    },
    {
     "name": "stdout",
     "output_type": "stream",
     "text": [
      "full_mention:  Italy\n",
      "full_mention Matched Value:  None 0.0\n"
     ]
    },
    {
     "name": "stderr",
     "output_type": "stream",
     "text": [
      "\r",
      " 66%|██████▌   | 586/891 [02:32<01:13,  4.13it/s]"
     ]
    },
    {
     "name": "stdout",
     "output_type": "stream",
     "text": [
      "full_mention:  Jim Furyk\n",
      "full_mention Matched Value:  None 0.0\n"
     ]
    },
    {
     "name": "stderr",
     "output_type": "stream",
     "text": [
      "\r",
      " 66%|██████▌   | 587/891 [02:32<01:13,  4.12it/s]"
     ]
    },
    {
     "name": "stdout",
     "output_type": "stream",
     "text": [
      "full_mention:  Jim Furyk\n",
      "full_mention Matched Value:  None 0.0\n"
     ]
    },
    {
     "name": "stderr",
     "output_type": "stream",
     "text": [
      "\r",
      " 66%|██████▌   | 588/891 [02:32<01:13,  4.10it/s]"
     ]
    },
    {
     "name": "stdout",
     "output_type": "stream",
     "text": [
      "full_mention:  Satoshi Higashi\n",
      "full_mention Matched Value:  None 0.0\n"
     ]
    },
    {
     "name": "stderr",
     "output_type": "stream",
     "text": [
      "\r",
      " 66%|██████▌   | 589/891 [02:32<01:13,  4.12it/s]"
     ]
    },
    {
     "name": "stdout",
     "output_type": "stream",
     "text": [
      "full_mention:  Satoshi Higashi\n",
      "full_mention Matched Value:  None 0.0\n"
     ]
    },
    {
     "name": "stderr",
     "output_type": "stream",
     "text": [
      "\r",
      " 66%|██████▌   | 590/891 [02:33<01:13,  4.10it/s]"
     ]
    },
    {
     "name": "stdout",
     "output_type": "stream",
     "text": [
      "full_mention:  Japan\n",
      "full_mention Matched Value:  None 0.0\n"
     ]
    },
    {
     "name": "stderr",
     "output_type": "stream",
     "text": [
      "\r",
      " 66%|██████▋   | 591/891 [02:33<01:13,  4.10it/s]"
     ]
    },
    {
     "name": "stdout",
     "output_type": "stream",
     "text": [
      "full_mention:  Willie Wood\n",
      "full_mention Matched Value:  None 0.0\n"
     ]
    },
    {
     "name": "stderr",
     "output_type": "stream",
     "text": [
      "\r",
      " 66%|██████▋   | 592/891 [02:33<01:12,  4.11it/s]"
     ]
    },
    {
     "name": "stdout",
     "output_type": "stream",
     "text": [
      "full_mention:  Willie Wood\n",
      "full_mention Matched Value:  None 0.0\n"
     ]
    },
    {
     "name": "stderr",
     "output_type": "stream",
     "text": [
      "\r",
      " 67%|██████▋   | 593/891 [02:33<01:13,  4.06it/s]"
     ]
    },
    {
     "name": "stdout",
     "output_type": "stream",
     "text": [
      "full_mention:  Shigeki Maruyama\n",
      "full_mention Matched Value:  None 0.0\n"
     ]
    },
    {
     "name": "stderr",
     "output_type": "stream",
     "text": [
      "\r",
      " 67%|██████▋   | 594/891 [02:34<01:13,  4.06it/s]"
     ]
    },
    {
     "name": "stdout",
     "output_type": "stream",
     "text": [
      "full_mention:  Shigeki Maruyama\n",
      "full_mention Matched Value:  None 0.0\n"
     ]
    },
    {
     "name": "stderr",
     "output_type": "stream",
     "text": [
      "\r",
      " 67%|██████▋   | 595/891 [02:34<01:12,  4.07it/s]"
     ]
    },
    {
     "name": "stdout",
     "output_type": "stream",
     "text": [
      "full_mention:  Japan\n",
      "full_mention Matched Value:  None 0.0\n"
     ]
    },
    {
     "name": "stderr",
     "output_type": "stream",
     "text": [
      "\r",
      " 67%|██████▋   | 596/891 [02:34<01:13,  4.02it/s]"
     ]
    },
    {
     "name": "stdout",
     "output_type": "stream",
     "text": [
      "full_mention:  Scott McCarron\n",
      "full_mention Matched Value:  None 0.0\n"
     ]
    },
    {
     "name": "stderr",
     "output_type": "stream",
     "text": [
      "\r",
      " 67%|██████▋   | 597/891 [02:34<01:12,  4.06it/s]"
     ]
    },
    {
     "name": "stdout",
     "output_type": "stream",
     "text": [
      "full_mention:  Scott McCarron\n",
      "full_mention Matched Value:  None 0.0\n"
     ]
    },
    {
     "name": "stderr",
     "output_type": "stream",
     "text": [
      "\r",
      " 67%|██████▋   | 598/891 [02:35<01:12,  4.07it/s]"
     ]
    },
    {
     "name": "stdout",
     "output_type": "stream",
     "text": [
      "full_mention:  Wayne Westner\n",
      "full_mention Matched Value:  None 0.0\n"
     ]
    },
    {
     "name": "stderr",
     "output_type": "stream",
     "text": [
      "\r",
      " 67%|██████▋   | 599/891 [02:35<01:11,  4.08it/s]"
     ]
    },
    {
     "name": "stdout",
     "output_type": "stream",
     "text": [
      "full_mention:  Wayne Westner\n",
      "full_mention Matched Value:  None 0.0\n"
     ]
    },
    {
     "name": "stderr",
     "output_type": "stream",
     "text": [
      "\r",
      " 67%|██████▋   | 600/891 [02:35<01:11,  4.09it/s]"
     ]
    },
    {
     "name": "stdout",
     "output_type": "stream",
     "text": [
      "full_mention:  South Africa\n",
      "full_mention Matched Value:  None 0.0\n"
     ]
    },
    {
     "name": "stderr",
     "output_type": "stream",
     "text": [
      "\r",
      " 67%|██████▋   | 601/891 [02:35<01:10,  4.10it/s]"
     ]
    },
    {
     "name": "stdout",
     "output_type": "stream",
     "text": [
      "full_mention:  South Africa\n",
      "full_mention Matched Value:  None 0.0\n"
     ]
    },
    {
     "name": "stderr",
     "output_type": "stream",
     "text": [
      "\r",
      " 68%|██████▊   | 602/891 [02:36<01:10,  4.11it/s]"
     ]
    },
    {
     "name": "stdout",
     "output_type": "stream",
     "text": [
      "full_mention:  Tom Watson\n",
      "full_mention Matched Value:  None 0.0\n"
     ]
    },
    {
     "name": "stderr",
     "output_type": "stream",
     "text": [
      "\r",
      " 68%|██████▊   | 603/891 [02:36<01:09,  4.12it/s]"
     ]
    },
    {
     "name": "stdout",
     "output_type": "stream",
     "text": [
      "full_mention:  Tom Watson\n",
      "full_mention Matched Value:  None 0.0\n"
     ]
    },
    {
     "name": "stderr",
     "output_type": "stream",
     "text": [
      "\r",
      " 68%|██████▊   | 604/891 [02:36<01:10,  4.07it/s]"
     ]
    },
    {
     "name": "stdout",
     "output_type": "stream",
     "text": [
      "full_mention:  Japan\n",
      "full_mention Matched Value:  None 0.0\n"
     ]
    },
    {
     "name": "stderr",
     "output_type": "stream",
     "text": [
      "\r",
      " 68%|██████▊   | 605/891 [02:36<01:09,  4.12it/s]"
     ]
    },
    {
     "name": "stdout",
     "output_type": "stream",
     "text": [
      "full_mention:  GLORIA BISTRITA\n",
      "full_mention Matched Value:  None 0.0\n"
     ]
    },
    {
     "name": "stderr",
     "output_type": "stream",
     "text": [
      "\r",
      " 68%|██████▊   | 606/891 [02:37<01:08,  4.13it/s]"
     ]
    },
    {
     "name": "stdout",
     "output_type": "stream",
     "text": [
      "full_mention:  GLORIA BISTRITA\n",
      "full_mention Matched Value:  None 0.0\n"
     ]
    },
    {
     "name": "stderr",
     "output_type": "stream",
     "text": [
      "\r",
      " 68%|██████▊   | 607/891 [02:37<01:08,  4.12it/s]"
     ]
    },
    {
     "name": "stdout",
     "output_type": "stream",
     "text": [
      "full_mention:  BISTRITA\n",
      "full_mention Matched Value:  None 0.0\n"
     ]
    },
    {
     "name": "stderr",
     "output_type": "stream",
     "text": [
      "\r",
      " 68%|██████▊   | 608/891 [02:37<01:08,  4.13it/s]"
     ]
    },
    {
     "name": "stdout",
     "output_type": "stream",
     "text": [
      "full_mention:  Gloria Bistrita\n",
      "full_mention Matched Value:  None 0.0\n"
     ]
    },
    {
     "name": "stderr",
     "output_type": "stream",
     "text": [
      "\r",
      " 68%|██████▊   | 609/891 [02:37<01:08,  4.11it/s]"
     ]
    },
    {
     "name": "stdout",
     "output_type": "stream",
     "text": [
      "full_mention:  Gloria Bistrita\n",
      "full_mention Matched Value:  None 0.0\n"
     ]
    },
    {
     "name": "stderr",
     "output_type": "stream",
     "text": [
      "\r",
      " 68%|██████▊   | 610/891 [02:37<01:08,  4.12it/s]"
     ]
    },
    {
     "name": "stdout",
     "output_type": "stream",
     "text": [
      "full_mention:  Romania\n",
      "full_mention Matched Value:  None 0.0\n"
     ]
    },
    {
     "name": "stderr",
     "output_type": "stream",
     "text": [
      "\r",
      " 69%|██████▊   | 611/891 [02:38<01:08,  4.10it/s]"
     ]
    },
    {
     "name": "stdout",
     "output_type": "stream",
     "text": [
      "full_mention:  Malta\n",
      "full_mention Matched Value:  None 0.0\n"
     ]
    },
    {
     "name": "stderr",
     "output_type": "stream",
     "text": [
      "\r",
      " 69%|██████▊   | 612/891 [02:38<01:07,  4.12it/s]"
     ]
    },
    {
     "name": "stdout",
     "output_type": "stream",
     "text": [
      "full_mention:  Cup winners Cup\n",
      "full_mention Matched Value:  None 0.0\n"
     ]
    },
    {
     "name": "stderr",
     "output_type": "stream",
     "text": [
      "\r",
      " 69%|██████▉   | 613/891 [02:38<01:07,  4.11it/s]"
     ]
    },
    {
     "name": "stdout",
     "output_type": "stream",
     "text": [
      "full_mention:  Cup winners Cup\n",
      "full_mention Matched Value:  None 0.0\n"
     ]
    },
    {
     "name": "stderr",
     "output_type": "stream",
     "text": [
      "\r",
      " 69%|██████▉   | 614/891 [02:38<01:07,  4.12it/s]"
     ]
    },
    {
     "name": "stdout",
     "output_type": "stream",
     "text": [
      "full_mention:  Cup winners Cup\n",
      "full_mention Matched Value:  None 0.0\n"
     ]
    },
    {
     "name": "stderr",
     "output_type": "stream",
     "text": [
      "\r",
      " 69%|██████▉   | 615/891 [02:39<01:06,  4.15it/s]"
     ]
    },
    {
     "name": "stdout",
     "output_type": "stream",
     "text": [
      "full_mention:  Gloria Bistrita\n",
      "full_mention Matched Value:  None 0.0\n"
     ]
    },
    {
     "name": "stderr",
     "output_type": "stream",
     "text": [
      "\r",
      " 69%|██████▉   | 616/891 [02:39<01:06,  4.16it/s]"
     ]
    },
    {
     "name": "stdout",
     "output_type": "stream",
     "text": [
      "full_mention:  Gloria Bistrita\n",
      "full_mention Matched Value:  None 0.0\n"
     ]
    },
    {
     "name": "stderr",
     "output_type": "stream",
     "text": [
      "\r",
      " 69%|██████▉   | 617/891 [02:39<01:06,  4.12it/s]"
     ]
    },
    {
     "name": "stdout",
     "output_type": "stream",
     "text": [
      "full_mention:  Gilbert Agius\n",
      "full_mention Matched Value:  None 0.0\n"
     ]
    },
    {
     "name": "stderr",
     "output_type": "stream",
     "text": [
      "\r",
      " 69%|██████▉   | 618/891 [02:39<01:06,  4.13it/s]"
     ]
    },
    {
     "name": "stdout",
     "output_type": "stream",
     "text": [
      "full_mention:  Gilbert Agius\n",
      "full_mention Matched Value:  None 0.0\n"
     ]
    },
    {
     "name": "stderr",
     "output_type": "stream",
     "text": [
      "\r",
      " 69%|██████▉   | 619/891 [02:40<01:05,  4.14it/s]"
     ]
    },
    {
     "name": "stdout",
     "output_type": "stream",
     "text": [
      "full_mention:  Gloria Bistrita\n",
      "full_mention Matched Value:  None 0.0\n"
     ]
    },
    {
     "name": "stderr",
     "output_type": "stream",
     "text": [
      "\r",
      " 70%|██████▉   | 620/891 [02:40<01:05,  4.13it/s]"
     ]
    },
    {
     "name": "stdout",
     "output_type": "stream",
     "text": [
      "full_mention:  Gloria Bistrita\n",
      "full_mention Matched Value:  None 0.0\n"
     ]
    },
    {
     "name": "stderr",
     "output_type": "stream",
     "text": [
      "\r",
      " 70%|██████▉   | 621/891 [02:40<01:05,  4.11it/s]"
     ]
    },
    {
     "name": "stdout",
     "output_type": "stream",
     "text": [
      "full_mention:  Cup winners Cup\n",
      "full_mention Matched Value:  None 0.0\n"
     ]
    },
    {
     "name": "stderr",
     "output_type": "stream",
     "text": [
      "\r",
      " 70%|██████▉   | 622/891 [02:40<01:05,  4.09it/s]"
     ]
    },
    {
     "name": "stdout",
     "output_type": "stream",
     "text": [
      "full_mention:  Cup winners Cup\n",
      "full_mention Matched Value:  None 0.0\n"
     ]
    },
    {
     "name": "stderr",
     "output_type": "stream",
     "text": [
      "\r",
      " 70%|██████▉   | 623/891 [02:41<01:05,  4.08it/s]"
     ]
    },
    {
     "name": "stdout",
     "output_type": "stream",
     "text": [
      "full_mention:  Cup winners Cup\n",
      "full_mention Matched Value:  None 0.0\n"
     ]
    },
    {
     "name": "stderr",
     "output_type": "stream",
     "text": [
      "\r",
      " 70%|███████   | 624/891 [02:41<01:05,  4.05it/s]"
     ]
    },
    {
     "name": "stdout",
     "output_type": "stream",
     "text": [
      "full_mention:  YORK\n",
      "full_mention Matched Value:  None 0.0\n"
     ]
    },
    {
     "name": "stderr",
     "output_type": "stream",
     "text": [
      "\r",
      " 70%|███████   | 625/891 [02:41<01:05,  4.08it/s]"
     ]
    },
    {
     "name": "stdout",
     "output_type": "stream",
     "text": [
      "full_mention:  England\n",
      "full_mention Matched Value:  None 0.0\n"
     ]
    },
    {
     "name": "stderr",
     "output_type": "stream",
     "text": [
      "\r",
      " 70%|███████   | 626/891 [02:41<01:05,  4.05it/s]"
     ]
    },
    {
     "name": "stdout",
     "output_type": "stream",
     "text": [
      "full_mention:  Mark Prescott\n",
      "full_mention Matched Value:  None 0.0\n"
     ]
    },
    {
     "name": "stderr",
     "output_type": "stream",
     "text": [
      "\r",
      " 70%|███████   | 627/891 [02:42<01:05,  4.06it/s]"
     ]
    },
    {
     "name": "stdout",
     "output_type": "stream",
     "text": [
      "full_mention:  Mark Prescott\n",
      "full_mention Matched Value:  None 0.0\n"
     ]
    },
    {
     "name": "stderr",
     "output_type": "stream",
     "text": [
      "\r",
      " 70%|███████   | 628/891 [02:42<01:04,  4.09it/s]"
     ]
    },
    {
     "name": "stdout",
     "output_type": "stream",
     "text": [
      "full_mention:  Nunthorpe Stakes\n",
      "full_mention Matched Value:  None 0.0\n"
     ]
    },
    {
     "name": "stderr",
     "output_type": "stream",
     "text": [
      "\r",
      " 71%|███████   | 629/891 [02:42<01:04,  4.08it/s]"
     ]
    },
    {
     "name": "stdout",
     "output_type": "stream",
     "text": [
      "full_mention:  Nunthorpe Stakes\n",
      "full_mention Matched Value:  None 0.0\n"
     ]
    },
    {
     "name": "stderr",
     "output_type": "stream",
     "text": [
      "\r",
      " 71%|███████   | 630/891 [02:42<01:05,  3.96it/s]"
     ]
    },
    {
     "name": "stdout",
     "output_type": "stream",
     "text": [
      "full_mention:  George Duffield\n",
      "full_mention Matched Value:  None 0.0\n"
     ]
    },
    {
     "name": "stderr",
     "output_type": "stream",
     "text": [
      "\r",
      " 71%|███████   | 631/891 [02:43<01:05,  3.99it/s]"
     ]
    },
    {
     "name": "stdout",
     "output_type": "stream",
     "text": [
      "full_mention:  George Duffield\n",
      "full_mention Matched Value:  None 0.0\n"
     ]
    },
    {
     "name": "stderr",
     "output_type": "stream",
     "text": [
      "\r",
      " 71%|███████   | 632/891 [02:43<01:04,  4.03it/s]"
     ]
    },
    {
     "name": "stdout",
     "output_type": "stream",
     "text": [
      "full_mention:  Longchamp\n",
      "full_mention Matched Value:  None 0.0\n"
     ]
    },
    {
     "name": "stderr",
     "output_type": "stream",
     "text": [
      "\r",
      " 71%|███████   | 633/891 [02:43<01:04,  4.03it/s]"
     ]
    },
    {
     "name": "stdout",
     "output_type": "stream",
     "text": [
      "full_mention:  Royal Ascot\n",
      "full_mention Matched Value:  None 0.0\n"
     ]
    },
    {
     "name": "stderr",
     "output_type": "stream",
     "text": [
      "\r",
      " 71%|███████   | 634/891 [02:43<01:04,  3.96it/s]"
     ]
    },
    {
     "name": "stdout",
     "output_type": "stream",
     "text": [
      "full_mention:  Royal Ascot\n",
      "full_mention Matched Value:  None 0.0\n"
     ]
    },
    {
     "name": "stderr",
     "output_type": "stream",
     "text": [
      "\r",
      " 71%|███████▏  | 635/891 [02:44<01:03,  4.00it/s]"
     ]
    },
    {
     "name": "stdout",
     "output_type": "stream",
     "text": [
      "full_mention:  Europe\n",
      "full_mention Matched Value:  None 0.0\n"
     ]
    },
    {
     "name": "stderr",
     "output_type": "stream",
     "text": [
      "\r",
      " 71%|███████▏  | 636/891 [02:44<01:03,  4.04it/s]"
     ]
    },
    {
     "name": "stdout",
     "output_type": "stream",
     "text": [
      "full_mention:  YORK\n",
      "full_mention Matched Value:  None 0.0\n"
     ]
    },
    {
     "name": "stderr",
     "output_type": "stream",
     "text": [
      "\r",
      " 71%|███████▏  | 637/891 [02:44<01:02,  4.07it/s]"
     ]
    },
    {
     "name": "stdout",
     "output_type": "stream",
     "text": [
      "full_mention:  England\n",
      "full_mention Matched Value:  None 0.0\n"
     ]
    },
    {
     "name": "stderr",
     "output_type": "stream",
     "text": [
      "\r",
      " 72%|███████▏  | 638/891 [02:44<01:01,  4.09it/s]"
     ]
    },
    {
     "name": "stdout",
     "output_type": "stream",
     "text": [
      "full_mention:  Nunthorpe Stakes\n",
      "full_mention Matched Value:  None 0.0\n"
     ]
    },
    {
     "name": "stderr",
     "output_type": "stream",
     "text": [
      "\r",
      " 72%|███████▏  | 639/891 [02:45<01:01,  4.11it/s]"
     ]
    },
    {
     "name": "stdout",
     "output_type": "stream",
     "text": [
      "full_mention:  Nunthorpe Stakes\n",
      "full_mention Matched Value:  None 0.0\n"
     ]
    },
    {
     "name": "stderr",
     "output_type": "stream",
     "text": [
      "\r",
      " 72%|███████▏  | 640/891 [02:45<01:00,  4.14it/s]"
     ]
    },
    {
     "name": "stdout",
     "output_type": "stream",
     "text": [
      "full_mention:  George Duffield\n",
      "full_mention Matched Value:  None 0.0\n"
     ]
    },
    {
     "name": "stderr",
     "output_type": "stream",
     "text": [
      "\r",
      " 72%|███████▏  | 641/891 [02:45<01:00,  4.15it/s]"
     ]
    },
    {
     "name": "stdout",
     "output_type": "stream",
     "text": [
      "full_mention:  George Duffield\n",
      "full_mention Matched Value:  None 0.0\n"
     ]
    },
    {
     "name": "stderr",
     "output_type": "stream",
     "text": [
      "\r",
      " 72%|███████▏  | 642/891 [02:45<00:59,  4.16it/s]"
     ]
    },
    {
     "name": "stdout",
     "output_type": "stream",
     "text": [
      "full_mention:  Jason Weaver\n",
      "full_mention Matched Value:  None 0.0\n"
     ]
    },
    {
     "name": "stderr",
     "output_type": "stream",
     "text": [
      "\r",
      " 72%|███████▏  | 643/891 [02:46<00:59,  4.16it/s]"
     ]
    },
    {
     "name": "stdout",
     "output_type": "stream",
     "text": [
      "full_mention:  Jason Weaver\n",
      "full_mention Matched Value:  None 0.0\n"
     ]
    },
    {
     "name": "stderr",
     "output_type": "stream",
     "text": [
      "\r",
      " 72%|███████▏  | 644/891 [02:46<00:59,  4.15it/s]"
     ]
    },
    {
     "name": "stdout",
     "output_type": "stream",
     "text": [
      "full_mention:  Mark Prescott\n",
      "full_mention Matched Value:  None 0.0\n"
     ]
    },
    {
     "name": "stderr",
     "output_type": "stream",
     "text": [
      "\r",
      " 72%|███████▏  | 645/891 [02:46<00:58,  4.19it/s]"
     ]
    },
    {
     "name": "stdout",
     "output_type": "stream",
     "text": [
      "full_mention:  Mark Prescott\n",
      "full_mention Matched Value:  None 0.0\n"
     ]
    },
    {
     "name": "stderr",
     "output_type": "stream",
     "text": [
      "\r",
      " 73%|███████▎  | 646/891 [02:46<00:59,  4.10it/s]"
     ]
    },
    {
     "name": "stdout",
     "output_type": "stream",
     "text": [
      "full_mention:  Newmarket\n",
      "full_mention Matched Value:  None 0.0\n"
     ]
    },
    {
     "name": "stderr",
     "output_type": "stream",
     "text": [
      "\r",
      " 73%|███████▎  | 647/891 [02:47<01:02,  3.92it/s]"
     ]
    },
    {
     "name": "stdout",
     "output_type": "stream",
     "text": [
      "full_mention:  TOSHIBA CLASSIC\n",
      "full_mention Matched Value:  None 0.0\n"
     ]
    },
    {
     "name": "stderr",
     "output_type": "stream",
     "text": [
      "\r",
      " 73%|███████▎  | 648/891 [02:47<01:01,  3.98it/s]"
     ]
    },
    {
     "name": "stdout",
     "output_type": "stream",
     "text": [
      "full_mention:  TOSHIBA CLASSIC\n",
      "full_mention Matched Value:  None 0.0\n"
     ]
    },
    {
     "name": "stderr",
     "output_type": "stream",
     "text": [
      "\r",
      " 73%|███████▎  | 649/891 [02:47<01:00,  3.99it/s]"
     ]
    },
    {
     "name": "stdout",
     "output_type": "stream",
     "text": [
      "full_mention:  CARLSBAD\n",
      "full_mention Matched Value:  None 0.0\n"
     ]
    },
    {
     "name": "stderr",
     "output_type": "stream",
     "text": [
      "\r",
      " 73%|███████▎  | 650/891 [02:47<01:00,  3.99it/s]"
     ]
    },
    {
     "name": "stdout",
     "output_type": "stream",
     "text": [
      "full_mention:  California\n",
      "full_mention Matched Value:  None 0.0\n"
     ]
    },
    {
     "name": "stderr",
     "output_type": "stream",
     "text": [
      "\r",
      " 73%|███████▎  | 651/891 [02:48<01:01,  3.93it/s]"
     ]
    },
    {
     "name": "stdout",
     "output_type": "stream",
     "text": [
      "full_mention:  Toshiba Classic\n",
      "full_mention Matched Value:  None 0.0\n"
     ]
    },
    {
     "name": "stderr",
     "output_type": "stream",
     "text": [
      "\r",
      " 73%|███████▎  | 652/891 [02:48<01:02,  3.84it/s]"
     ]
    },
    {
     "name": "stdout",
     "output_type": "stream",
     "text": [
      "full_mention:  Toshiba Classic\n",
      "full_mention Matched Value:  None 0.0\n"
     ]
    },
    {
     "name": "stderr",
     "output_type": "stream",
     "text": [
      "\r",
      " 73%|███████▎  | 653/891 [02:48<01:01,  3.87it/s]"
     ]
    },
    {
     "name": "stdout",
     "output_type": "stream",
     "text": [
      "full_mention:  Arantxa Sanchez Vicario\n",
      "full_mention Matched Value:  None 0.0\n"
     ]
    },
    {
     "name": "stderr",
     "output_type": "stream",
     "text": [
      "\r",
      " 73%|███████▎  | 654/891 [02:48<01:00,  3.89it/s]"
     ]
    },
    {
     "name": "stdout",
     "output_type": "stream",
     "text": [
      "full_mention:  Arantxa Sanchez Vicario\n",
      "full_mention Matched Value:  None 0.0\n"
     ]
    },
    {
     "name": "stderr",
     "output_type": "stream",
     "text": [
      "\r",
      " 74%|███████▎  | 655/891 [02:49<00:59,  3.96it/s]"
     ]
    },
    {
     "name": "stdout",
     "output_type": "stream",
     "text": [
      "full_mention:  Arantxa Sanchez Vicario\n",
      "full_mention Matched Value:  None 0.0\n"
     ]
    },
    {
     "name": "stderr",
     "output_type": "stream",
     "text": [
      "\r",
      " 74%|███████▎  | 656/891 [02:49<00:58,  4.02it/s]"
     ]
    },
    {
     "name": "stdout",
     "output_type": "stream",
     "text": [
      "full_mention:  Spain\n",
      "full_mention Matched Value:  None 0.0\n"
     ]
    },
    {
     "name": "stderr",
     "output_type": "stream",
     "text": [
      "\r",
      " 74%|███████▎  | 657/891 [02:49<00:57,  4.06it/s]"
     ]
    },
    {
     "name": "stdout",
     "output_type": "stream",
     "text": [
      "full_mention:  Japan\n",
      "full_mention Matched Value:  None 0.0\n"
     ]
    },
    {
     "name": "stderr",
     "output_type": "stream",
     "text": [
      "\r",
      " 74%|███████▍  | 658/891 [02:49<00:57,  4.07it/s]"
     ]
    },
    {
     "name": "stdout",
     "output_type": "stream",
     "text": [
      "full_mention:  Kimiko Date\n",
      "full_mention Matched Value:  None 0.0\n"
     ]
    },
    {
     "name": "stderr",
     "output_type": "stream",
     "text": [
      "\r",
      " 74%|███████▍  | 659/891 [02:50<00:56,  4.10it/s]"
     ]
    },
    {
     "name": "stdout",
     "output_type": "stream",
     "text": [
      "full_mention:  Kimiko Date\n",
      "full_mention Matched Value:  None 0.0\n"
     ]
    },
    {
     "name": "stderr",
     "output_type": "stream",
     "text": [
      "\r",
      " 74%|███████▍  | 660/891 [02:50<00:56,  4.08it/s]"
     ]
    },
    {
     "name": "stdout",
     "output_type": "stream",
     "text": [
      "full_mention:  Japan\n",
      "full_mention Matched Value:  None 0.0\n"
     ]
    },
    {
     "name": "stderr",
     "output_type": "stream",
     "text": [
      "\r",
      " 74%|███████▍  | 661/891 [02:50<00:56,  4.07it/s]"
     ]
    },
    {
     "name": "stdout",
     "output_type": "stream",
     "text": [
      "full_mention:  Japan\n",
      "full_mention Matched Value:  None 0.0\n"
     ]
    },
    {
     "name": "stderr",
     "output_type": "stream",
     "text": [
      "\r",
      " 74%|███████▍  | 662/891 [02:50<00:55,  4.11it/s]"
     ]
    },
    {
     "name": "stdout",
     "output_type": "stream",
     "text": [
      "full_mention:  Sandrine Testud\n",
      "full_mention Matched Value:  None 0.0\n"
     ]
    },
    {
     "name": "stderr",
     "output_type": "stream",
     "text": [
      "\r",
      " 74%|███████▍  | 663/891 [02:51<00:55,  4.11it/s]"
     ]
    },
    {
     "name": "stdout",
     "output_type": "stream",
     "text": [
      "full_mention:  Sandrine Testud\n",
      "full_mention Matched Value:  None 0.0\n"
     ]
    },
    {
     "name": "stderr",
     "output_type": "stream",
     "text": [
      "\r",
      " 75%|███████▍  | 664/891 [02:51<00:55,  4.13it/s]"
     ]
    },
    {
     "name": "stdout",
     "output_type": "stream",
     "text": [
      "full_mention:  France\n",
      "full_mention Matched Value:  None 0.0\n"
     ]
    },
    {
     "name": "stderr",
     "output_type": "stream",
     "text": [
      "\r",
      " 75%|███████▍  | 665/891 [02:51<00:55,  4.08it/s]"
     ]
    },
    {
     "name": "stdout",
     "output_type": "stream",
     "text": [
      "full_mention:  Ai Sugiyama\n",
      "full_mention Matched Value:  None 0.0\n"
     ]
    },
    {
     "name": "stderr",
     "output_type": "stream",
     "text": [
      "\r",
      " 75%|███████▍  | 666/891 [02:51<00:55,  4.08it/s]"
     ]
    },
    {
     "name": "stdout",
     "output_type": "stream",
     "text": [
      "full_mention:  Ai Sugiyama\n",
      "full_mention Matched Value:  None 0.0\n"
     ]
    },
    {
     "name": "stderr",
     "output_type": "stream",
     "text": [
      "\r",
      " 75%|███████▍  | 667/891 [02:52<00:54,  4.09it/s]"
     ]
    },
    {
     "name": "stdout",
     "output_type": "stream",
     "text": [
      "full_mention:  Japan\n",
      "full_mention Matched Value:  None 0.0\n"
     ]
    },
    {
     "name": "stderr",
     "output_type": "stream",
     "text": [
      "\r",
      " 75%|███████▍  | 668/891 [02:52<00:54,  4.08it/s]"
     ]
    },
    {
     "name": "stdout",
     "output_type": "stream",
     "text": [
      "full_mention:  Nathalie Tauziat\n",
      "full_mention Matched Value:  None 0.0\n"
     ]
    },
    {
     "name": "stderr",
     "output_type": "stream",
     "text": [
      "\r",
      " 75%|███████▌  | 669/891 [02:52<00:54,  4.08it/s]"
     ]
    },
    {
     "name": "stdout",
     "output_type": "stream",
     "text": [
      "full_mention:  Nathalie Tauziat\n",
      "full_mention Matched Value:  None 0.0\n"
     ]
    },
    {
     "name": "stderr",
     "output_type": "stream",
     "text": [
      "\r",
      " 75%|███████▌  | 670/891 [02:52<00:53,  4.09it/s]"
     ]
    },
    {
     "name": "stdout",
     "output_type": "stream",
     "text": [
      "full_mention:  France\n",
      "full_mention Matched Value:  None 0.0\n"
     ]
    },
    {
     "name": "stderr",
     "output_type": "stream",
     "text": [
      "\r",
      " 75%|███████▌  | 671/891 [02:53<00:53,  4.10it/s]"
     ]
    },
    {
     "name": "stdout",
     "output_type": "stream",
     "text": [
      "full_mention:  Shi-Ting Wang\n",
      "full_mention Matched Value:  None 0.0\n"
     ]
    },
    {
     "name": "stderr",
     "output_type": "stream",
     "text": [
      "\r",
      " 75%|███████▌  | 672/891 [02:53<00:53,  4.12it/s]"
     ]
    },
    {
     "name": "stdout",
     "output_type": "stream",
     "text": [
      "full_mention:  Shi-Ting Wang\n",
      "full_mention Matched Value:  None 0.0\n"
     ]
    },
    {
     "name": "stderr",
     "output_type": "stream",
     "text": [
      "\r",
      " 76%|███████▌  | 673/891 [02:53<00:52,  4.12it/s]"
     ]
    },
    {
     "name": "stdout",
     "output_type": "stream",
     "text": [
      "full_mention:  Taiwan\n",
      "full_mention Matched Value:  None 0.0\n"
     ]
    },
    {
     "name": "stderr",
     "output_type": "stream",
     "text": [
      "\r",
      " 76%|███████▌  | 674/891 [02:53<00:52,  4.12it/s]"
     ]
    },
    {
     "name": "stdout",
     "output_type": "stream",
     "text": [
      "full_mention:  COMMACK\n",
      "full_mention Matched Value:  None 0.0\n"
     ]
    },
    {
     "name": "stderr",
     "output_type": "stream",
     "text": [
      "\r",
      " 76%|███████▌  | 675/891 [02:53<00:52,  4.10it/s]"
     ]
    },
    {
     "name": "stdout",
     "output_type": "stream",
     "text": [
      "full_mention:  New York\n",
      "full_mention Matched Value:  None 0.0\n"
     ]
    },
    {
     "name": "stderr",
     "output_type": "stream",
     "text": [
      "\r",
      " 76%|███████▌  | 676/891 [02:54<00:52,  4.11it/s]"
     ]
    },
    {
     "name": "stdout",
     "output_type": "stream",
     "text": [
      "full_mention:  New York\n",
      "full_mention Matched Value:  None 0.0\n"
     ]
    },
    {
     "name": "stderr",
     "output_type": "stream",
     "text": [
      "\r",
      " 76%|███████▌  | 677/891 [02:54<00:51,  4.12it/s]"
     ]
    },
    {
     "name": "stdout",
     "output_type": "stream",
     "text": [
      "full_mention:  Michael Chang\n",
      "full_mention Matched Value:  None 0.0\n"
     ]
    },
    {
     "name": "stderr",
     "output_type": "stream",
     "text": [
      "\r",
      " 76%|███████▌  | 678/891 [02:54<00:51,  4.10it/s]"
     ]
    },
    {
     "name": "stdout",
     "output_type": "stream",
     "text": [
      "full_mention:  Michael Chang\n",
      "full_mention Matched Value:  None 0.0\n"
     ]
    },
    {
     "name": "stderr",
     "output_type": "stream",
     "text": [
      "\r",
      " 76%|███████▌  | 679/891 [02:54<00:51,  4.11it/s]"
     ]
    },
    {
     "name": "stdout",
     "output_type": "stream",
     "text": [
      "full_mention:  U.S.\n",
      "full_mention Matched Value:  None 0.0\n"
     ]
    },
    {
     "name": "stderr",
     "output_type": "stream",
     "text": [
      "\r",
      " 76%|███████▋  | 680/891 [02:55<00:51,  4.10it/s]"
     ]
    },
    {
     "name": "stdout",
     "output_type": "stream",
     "text": [
      "full_mention:  Sergi Bruguera\n",
      "full_mention Matched Value:  None 0.0\n"
     ]
    },
    {
     "name": "stderr",
     "output_type": "stream",
     "text": [
      "\r",
      " 76%|███████▋  | 681/891 [02:55<00:50,  4.13it/s]"
     ]
    },
    {
     "name": "stdout",
     "output_type": "stream",
     "text": [
      "full_mention:  Sergi Bruguera\n",
      "full_mention Matched Value:  None 0.0\n"
     ]
    },
    {
     "name": "stderr",
     "output_type": "stream",
     "text": [
      "\r",
      " 77%|███████▋  | 682/891 [02:55<00:51,  4.09it/s]"
     ]
    },
    {
     "name": "stdout",
     "output_type": "stream",
     "text": [
      "full_mention:  Spain\n",
      "full_mention Matched Value:  None 0.0\n"
     ]
    },
    {
     "name": "stderr",
     "output_type": "stream",
     "text": [
      "\r",
      " 77%|███████▋  | 683/891 [02:55<00:50,  4.10it/s]"
     ]
    },
    {
     "name": "stdout",
     "output_type": "stream",
     "text": [
      "full_mention:  Michael Joyce\n",
      "full_mention Matched Value:  None 0.0\n"
     ]
    },
    {
     "name": "stderr",
     "output_type": "stream",
     "text": [
      "\r",
      " 77%|███████▋  | 684/891 [02:56<00:50,  4.12it/s]"
     ]
    },
    {
     "name": "stdout",
     "output_type": "stream",
     "text": [
      "full_mention:  Michael Joyce\n",
      "full_mention Matched Value:  None 0.0\n"
     ]
    },
    {
     "name": "stderr",
     "output_type": "stream",
     "text": [
      "\r",
      " 77%|███████▋  | 685/891 [02:56<00:50,  4.12it/s]"
     ]
    },
    {
     "name": "stdout",
     "output_type": "stream",
     "text": [
      "full_mention:  U.S.\n",
      "full_mention Matched Value:  None 0.0\n"
     ]
    },
    {
     "name": "stderr",
     "output_type": "stream",
     "text": [
      "\r",
      " 77%|███████▋  | 686/891 [02:56<00:50,  4.09it/s]"
     ]
    },
    {
     "name": "stdout",
     "output_type": "stream",
     "text": [
      "full_mention:  Richey Reneberg\n",
      "full_mention Matched Value:  None 0.0\n"
     ]
    },
    {
     "name": "stderr",
     "output_type": "stream",
     "text": [
      "\r",
      " 77%|███████▋  | 687/891 [02:56<00:50,  4.08it/s]"
     ]
    },
    {
     "name": "stdout",
     "output_type": "stream",
     "text": [
      "full_mention:  Richey Reneberg\n",
      "full_mention Matched Value:  None 0.0\n"
     ]
    },
    {
     "name": "stderr",
     "output_type": "stream",
     "text": [
      "\r",
      " 77%|███████▋  | 688/891 [02:57<00:49,  4.09it/s]"
     ]
    },
    {
     "name": "stdout",
     "output_type": "stream",
     "text": [
      "full_mention:  U.S.\n",
      "full_mention Matched Value:  None 0.0\n"
     ]
    },
    {
     "name": "stderr",
     "output_type": "stream",
     "text": [
      "\r",
      " 77%|███████▋  | 689/891 [02:57<00:49,  4.07it/s]"
     ]
    },
    {
     "name": "stdout",
     "output_type": "stream",
     "text": [
      "full_mention:  Martin Damm\n",
      "full_mention Matched Value:  None 0.0\n"
     ]
    },
    {
     "name": "stderr",
     "output_type": "stream",
     "text": [
      "\r",
      " 77%|███████▋  | 690/891 [02:57<00:49,  4.09it/s]"
     ]
    },
    {
     "name": "stdout",
     "output_type": "stream",
     "text": [
      "full_mention:  Martin Damm\n",
      "full_mention Matched Value:  None 0.0\n"
     ]
    },
    {
     "name": "stderr",
     "output_type": "stream",
     "text": [
      "\r",
      " 78%|███████▊  | 691/891 [02:57<00:49,  4.05it/s]"
     ]
    },
    {
     "name": "stdout",
     "output_type": "stream",
     "text": [
      "full_mention:  Czech Republic\n",
      "full_mention Matched Value:  None 0.0\n"
     ]
    },
    {
     "name": "stderr",
     "output_type": "stream",
     "text": [
      "\r",
      " 78%|███████▊  | 692/891 [02:58<00:48,  4.07it/s]"
     ]
    },
    {
     "name": "stdout",
     "output_type": "stream",
     "text": [
      "full_mention:  Czech Republic\n",
      "full_mention Matched Value:  None 0.0\n"
     ]
    },
    {
     "name": "stderr",
     "output_type": "stream",
     "text": [
      "\r",
      " 78%|███████▊  | 693/891 [02:58<00:49,  4.03it/s]"
     ]
    },
    {
     "name": "stdout",
     "output_type": "stream",
     "text": [
      "full_mention:  Younes El Aynaoui\n",
      "full_mention Matched Value:  None 0.0\n"
     ]
    },
    {
     "name": "stderr",
     "output_type": "stream",
     "text": [
      "\r",
      " 78%|███████▊  | 694/891 [02:58<00:48,  4.05it/s]"
     ]
    },
    {
     "name": "stdout",
     "output_type": "stream",
     "text": [
      "full_mention:  Younes El Aynaoui\n",
      "full_mention Matched Value:  None 0.0\n"
     ]
    },
    {
     "name": "stderr",
     "output_type": "stream",
     "text": [
      "\r",
      " 78%|███████▊  | 695/891 [02:58<00:48,  4.08it/s]"
     ]
    },
    {
     "name": "stdout",
     "output_type": "stream",
     "text": [
      "full_mention:  Younes El Aynaoui\n",
      "full_mention Matched Value:  None 0.0\n"
     ]
    },
    {
     "name": "stderr",
     "output_type": "stream",
     "text": [
      "\r",
      " 78%|███████▊  | 696/891 [02:59<00:47,  4.06it/s]"
     ]
    },
    {
     "name": "stdout",
     "output_type": "stream",
     "text": [
      "full_mention:  Morocco\n",
      "full_mention Matched Value:  None 0.0\n"
     ]
    },
    {
     "name": "stderr",
     "output_type": "stream",
     "text": [
      "\r",
      " 78%|███████▊  | 697/891 [02:59<00:47,  4.06it/s]"
     ]
    },
    {
     "name": "stdout",
     "output_type": "stream",
     "text": [
      "full_mention:  Karol Kucera\n",
      "full_mention Matched Value:  None 0.0\n"
     ]
    },
    {
     "name": "stderr",
     "output_type": "stream",
     "text": [
      "\r",
      " 78%|███████▊  | 698/891 [02:59<00:47,  4.07it/s]"
     ]
    },
    {
     "name": "stdout",
     "output_type": "stream",
     "text": [
      "full_mention:  Karol Kucera\n",
      "full_mention Matched Value:  None 0.0\n"
     ]
    },
    {
     "name": "stderr",
     "output_type": "stream",
     "text": [
      "\r",
      " 78%|███████▊  | 699/891 [02:59<00:47,  4.08it/s]"
     ]
    },
    {
     "name": "stdout",
     "output_type": "stream",
     "text": [
      "full_mention:  Slovakia\n",
      "full_mention Matched Value:  None 0.0\n"
     ]
    },
    {
     "name": "stderr",
     "output_type": "stream",
     "text": [
      "\r",
      " 79%|███████▊  | 700/891 [03:00<00:46,  4.08it/s]"
     ]
    },
    {
     "name": "stdout",
     "output_type": "stream",
     "text": [
      "full_mention:  Hicham Arazi\n",
      "full_mention Matched Value:  None 0.0\n"
     ]
    },
    {
     "name": "stderr",
     "output_type": "stream",
     "text": [
      "\r",
      " 79%|███████▊  | 701/891 [03:00<00:46,  4.08it/s]"
     ]
    },
    {
     "name": "stdout",
     "output_type": "stream",
     "text": [
      "full_mention:  Hicham Arazi\n",
      "full_mention Matched Value:  None 0.0\n"
     ]
    },
    {
     "name": "stderr",
     "output_type": "stream",
     "text": [
      "\r",
      " 79%|███████▉  | 702/891 [03:00<00:46,  4.10it/s]"
     ]
    },
    {
     "name": "stdout",
     "output_type": "stream",
     "text": [
      "full_mention:  Morocco\n",
      "full_mention Matched Value:  None 0.0\n"
     ]
    },
    {
     "name": "stderr",
     "output_type": "stream",
     "text": [
      "\r",
      " 79%|███████▉  | 703/891 [03:00<00:45,  4.10it/s]"
     ]
    },
    {
     "name": "stdout",
     "output_type": "stream",
     "text": [
      "full_mention:  DALGLISH\n",
      "full_mention Matched Value:  None 0.0\n"
     ]
    },
    {
     "name": "stderr",
     "output_type": "stream",
     "text": [
      "\r",
      " 79%|███████▉  | 704/891 [03:01<00:45,  4.09it/s]"
     ]
    },
    {
     "name": "stdout",
     "output_type": "stream",
     "text": [
      "full_mention:  BLACKBURN\n",
      "full_mention Matched Value:  None 0.0\n"
     ]
    },
    {
     "name": "stderr",
     "output_type": "stream",
     "text": [
      "\r",
      " 79%|███████▉  | 705/891 [03:01<00:45,  4.09it/s]"
     ]
    },
    {
     "name": "stdout",
     "output_type": "stream",
     "text": [
      "full_mention:  LONDON\n",
      "full_mention Matched Value:  None 0.0\n"
     ]
    },
    {
     "name": "stderr",
     "output_type": "stream",
     "text": [
      "\r",
      " 79%|███████▉  | 706/891 [03:01<00:45,  4.07it/s]"
     ]
    },
    {
     "name": "stdout",
     "output_type": "stream",
     "text": [
      "full_mention:  Kenny Dalglish\n",
      "full_mention Matched Value:  None 0.0\n"
     ]
    },
    {
     "name": "stderr",
     "output_type": "stream",
     "text": [
      "\r",
      " 79%|███████▉  | 707/891 [03:01<00:44,  4.10it/s]"
     ]
    },
    {
     "name": "stdout",
     "output_type": "stream",
     "text": [
      "full_mention:  Kenny Dalglish\n",
      "full_mention Matched Value:  None 0.0\n"
     ]
    },
    {
     "name": "stderr",
     "output_type": "stream",
     "text": [
      "\r",
      " 79%|███████▉  | 708/891 [03:02<00:45,  4.06it/s]"
     ]
    },
    {
     "name": "stdout",
     "output_type": "stream",
     "text": [
      "full_mention:  Blackburn\n",
      "full_mention Matched Value:  None 0.0\n"
     ]
    },
    {
     "name": "stderr",
     "output_type": "stream",
     "text": [
      "\r",
      " 80%|███████▉  | 709/891 [03:02<00:44,  4.07it/s]"
     ]
    },
    {
     "name": "stdout",
     "output_type": "stream",
     "text": [
      "full_mention:  English\n",
      "full_mention Matched Value:  None 0.0\n"
     ]
    },
    {
     "name": "stderr",
     "output_type": "stream",
     "text": [
      "\r",
      " 80%|███████▉  | 710/891 [03:02<00:44,  4.10it/s]"
     ]
    },
    {
     "name": "stdout",
     "output_type": "stream",
     "text": [
      "full_mention:  Blackburn\n",
      "full_mention Matched Value:  None 0.0\n"
     ]
    },
    {
     "name": "stderr",
     "output_type": "stream",
     "text": [
      "\r",
      " 80%|███████▉  | 711/891 [03:02<00:44,  4.09it/s]"
     ]
    },
    {
     "name": "stdout",
     "output_type": "stream",
     "text": [
      "full_mention:  Dalglish\n",
      "full_mention Matched Value:  None 0.0\n"
     ]
    },
    {
     "name": "stderr",
     "output_type": "stream",
     "text": [
      "\r",
      " 80%|███████▉  | 712/891 [03:03<00:43,  4.09it/s]"
     ]
    },
    {
     "name": "stdout",
     "output_type": "stream",
     "text": [
      "full_mention:  Blackburn\n",
      "full_mention Matched Value:  None 0.0\n"
     ]
    },
    {
     "name": "stderr",
     "output_type": "stream",
     "text": [
      "\r",
      " 80%|████████  | 713/891 [03:03<00:43,  4.06it/s]"
     ]
    },
    {
     "name": "stdout",
     "output_type": "stream",
     "text": [
      "full_mention:  Spain\n",
      "full_mention Matched Value:  None 0.0\n"
     ]
    },
    {
     "name": "stderr",
     "output_type": "stream",
     "text": [
      "\r",
      " 80%|████████  | 714/891 [03:03<00:43,  4.09it/s]"
     ]
    },
    {
     "name": "stdout",
     "output_type": "stream",
     "text": [
      "full_mention:  Dalglish\n",
      "full_mention Matched Value:  None 0.0\n"
     ]
    },
    {
     "name": "stderr",
     "output_type": "stream",
     "text": [
      "\r",
      " 80%|████████  | 715/891 [03:03<00:42,  4.11it/s]"
     ]
    },
    {
     "name": "stdout",
     "output_type": "stream",
     "text": [
      "full_mention:  Dalglish\n",
      "full_mention Matched Value:  None 0.0\n"
     ]
    },
    {
     "name": "stderr",
     "output_type": "stream",
     "text": [
      "\r",
      " 80%|████████  | 716/891 [03:04<00:42,  4.13it/s]"
     ]
    },
    {
     "name": "stdout",
     "output_type": "stream",
     "text": [
      "full_mention:  Blackburn\n",
      "full_mention Matched Value:  None 0.0\n"
     ]
    },
    {
     "name": "stderr",
     "output_type": "stream",
     "text": [
      "\r",
      " 80%|████████  | 717/891 [03:04<00:42,  4.10it/s]"
     ]
    },
    {
     "name": "stdout",
     "output_type": "stream",
     "text": [
      "full_mention:  ENGLISH COUNTY CHAMPIONSHIP\n",
      "full_mention Matched Value:  None 0.0\n"
     ]
    },
    {
     "name": "stderr",
     "output_type": "stream",
     "text": [
      "\r",
      " 81%|████████  | 718/891 [03:04<00:42,  4.10it/s]"
     ]
    },
    {
     "name": "stdout",
     "output_type": "stream",
     "text": [
      "full_mention:  ENGLISH COUNTY CHAMPIONSHIP\n",
      "full_mention Matched Value:  None 0.0\n"
     ]
    },
    {
     "name": "stderr",
     "output_type": "stream",
     "text": [
      "\r",
      " 81%|████████  | 719/891 [03:04<00:41,  4.10it/s]"
     ]
    },
    {
     "name": "stdout",
     "output_type": "stream",
     "text": [
      "full_mention:  ENGLISH COUNTY CHAMPIONSHIP\n",
      "full_mention Matched Value:  None 0.0\n"
     ]
    },
    {
     "name": "stderr",
     "output_type": "stream",
     "text": [
      "\r",
      " 81%|████████  | 720/891 [03:04<00:41,  4.13it/s]"
     ]
    },
    {
     "name": "stdout",
     "output_type": "stream",
     "text": [
      "full_mention:  LONDON\n",
      "full_mention Matched Value:  None 0.0\n"
     ]
    },
    {
     "name": "stderr",
     "output_type": "stream",
     "text": [
      "\r",
      " 81%|████████  | 721/891 [03:05<00:41,  4.13it/s]"
     ]
    },
    {
     "name": "stdout",
     "output_type": "stream",
     "text": [
      "full_mention:  English\n",
      "full_mention Matched Value:  None 0.0\n"
     ]
    },
    {
     "name": "stderr",
     "output_type": "stream",
     "text": [
      "\r",
      " 81%|████████  | 722/891 [03:05<00:40,  4.15it/s]"
     ]
    },
    {
     "name": "stdout",
     "output_type": "stream",
     "text": [
      "full_mention:  County Championship\n",
      "full_mention Matched Value:  None 0.0\n"
     ]
    },
    {
     "name": "stderr",
     "output_type": "stream",
     "text": [
      "\r",
      " 81%|████████  | 723/891 [03:05<00:40,  4.14it/s]"
     ]
    },
    {
     "name": "stdout",
     "output_type": "stream",
     "text": [
      "full_mention:  County Championship\n",
      "full_mention Matched Value:  None 0.0\n"
     ]
    },
    {
     "name": "stderr",
     "output_type": "stream",
     "text": [
      "\r",
      " 81%|████████▏ | 724/891 [03:05<00:40,  4.11it/s]"
     ]
    },
    {
     "name": "stdout",
     "output_type": "stream",
     "text": [
      "full_mention:  Weston-super-Mare\n",
      "full_mention Matched Value:  None 0.0\n"
     ]
    },
    {
     "name": "stderr",
     "output_type": "stream",
     "text": [
      "\r",
      " 81%|████████▏ | 725/891 [03:06<00:40,  4.08it/s]"
     ]
    },
    {
     "name": "stdout",
     "output_type": "stream",
     "text": [
      "full_mention:  Durham\n",
      "full_mention Matched Value:  None 0.0\n"
     ]
    },
    {
     "name": "stderr",
     "output_type": "stream",
     "text": [
      "\r",
      " 81%|████████▏ | 726/891 [03:06<00:41,  3.99it/s]"
     ]
    },
    {
     "name": "stdout",
     "output_type": "stream",
     "text": [
      "full_mention:  Somerset\n",
      "full_mention Matched Value:  None 0.0\n"
     ]
    },
    {
     "name": "stderr",
     "output_type": "stream",
     "text": [
      "\r",
      " 82%|████████▏ | 727/891 [03:06<00:40,  4.03it/s]"
     ]
    },
    {
     "name": "stdout",
     "output_type": "stream",
     "text": [
      "full_mention:  Colchester\n",
      "full_mention Matched Value:  None 0.0\n"
     ]
    },
    {
     "name": "stderr",
     "output_type": "stream",
     "text": [
      "\r",
      " 82%|████████▏ | 728/891 [03:06<00:40,  4.01it/s]"
     ]
    },
    {
     "name": "stdout",
     "output_type": "stream",
     "text": [
      "full_mention:  Gloucestershire\n",
      "full_mention Matched Value:  None 0.0\n"
     ]
    },
    {
     "name": "stderr",
     "output_type": "stream",
     "text": [
      "\r",
      " 82%|████████▏ | 729/891 [03:07<00:40,  4.01it/s]"
     ]
    },
    {
     "name": "stdout",
     "output_type": "stream",
     "text": [
      "full_mention:  J. Russell\n",
      "full_mention Matched Value:  None 0.0\n"
     ]
    },
    {
     "name": "stderr",
     "output_type": "stream",
     "text": [
      "\r",
      " 82%|████████▏ | 730/891 [03:07<00:39,  4.03it/s]"
     ]
    },
    {
     "name": "stdout",
     "output_type": "stream",
     "text": [
      "full_mention:  J. Russell\n",
      "full_mention Matched Value:  None 0.0\n"
     ]
    },
    {
     "name": "stderr",
     "output_type": "stream",
     "text": [
      "\r",
      " 82%|████████▏ | 731/891 [03:07<00:39,  4.04it/s]"
     ]
    },
    {
     "name": "stdout",
     "output_type": "stream",
     "text": [
      "full_mention:  Essex\n",
      "full_mention Matched Value:  None 0.0\n"
     ]
    },
    {
     "name": "stderr",
     "output_type": "stream",
     "text": [
      "\r",
      " 82%|████████▏ | 732/891 [03:07<00:39,  4.06it/s]"
     ]
    },
    {
     "name": "stdout",
     "output_type": "stream",
     "text": [
      "full_mention:  Cardiff\n",
      "full_mention Matched Value:  None 0.0\n"
     ]
    },
    {
     "name": "stderr",
     "output_type": "stream",
     "text": [
      "\r",
      " 82%|████████▏ | 733/891 [03:08<00:39,  4.05it/s]"
     ]
    },
    {
     "name": "stdout",
     "output_type": "stream",
     "text": [
      "full_mention:  Kent\n",
      "full_mention Matched Value:  None 0.0\n"
     ]
    },
    {
     "name": "stderr",
     "output_type": "stream",
     "text": [
      "\r",
      " 82%|████████▏ | 734/891 [03:08<00:38,  4.06it/s]"
     ]
    },
    {
     "name": "stdout",
     "output_type": "stream",
     "text": [
      "full_mention:  Glamorgan\n",
      "full_mention Matched Value:  None 0.0\n"
     ]
    },
    {
     "name": "stderr",
     "output_type": "stream",
     "text": [
      "\r",
      " 82%|████████▏ | 735/891 [03:08<00:38,  4.04it/s]"
     ]
    },
    {
     "name": "stdout",
     "output_type": "stream",
     "text": [
      "full_mention:  Leicester\n",
      "full_mention Matched Value:  None 0.0\n"
     ]
    },
    {
     "name": "stderr",
     "output_type": "stream",
     "text": [
      "\r",
      " 83%|████████▎ | 736/891 [03:08<00:38,  4.01it/s]"
     ]
    },
    {
     "name": "stdout",
     "output_type": "stream",
     "text": [
      "full_mention:  Leicestershire\n",
      "full_mention Matched Value:  None 0.0\n"
     ]
    },
    {
     "name": "stderr",
     "output_type": "stream",
     "text": [
      "\r",
      " 83%|████████▎ | 737/891 [03:09<00:38,  4.04it/s]"
     ]
    },
    {
     "name": "stdout",
     "output_type": "stream",
     "text": [
      "full_mention:  Hampshire\n",
      "full_mention Matched Value:  None 0.0\n"
     ]
    },
    {
     "name": "stderr",
     "output_type": "stream",
     "text": [
      "\r",
      " 83%|████████▎ | 738/891 [03:09<00:38,  4.00it/s]"
     ]
    },
    {
     "name": "stdout",
     "output_type": "stream",
     "text": [
      "full_mention:  Northampton\n",
      "full_mention Matched Value:  None 0.0\n"
     ]
    },
    {
     "name": "stderr",
     "output_type": "stream",
     "text": [
      "\r",
      " 83%|████████▎ | 739/891 [03:09<00:37,  4.01it/s]"
     ]
    },
    {
     "name": "stdout",
     "output_type": "stream",
     "text": [
      "full_mention:  Sussex\n",
      "full_mention Matched Value:  None 0.0\n"
     ]
    },
    {
     "name": "stderr",
     "output_type": "stream",
     "text": [
      "\r",
      " 83%|████████▎ | 740/891 [03:09<00:37,  4.03it/s]"
     ]
    },
    {
     "name": "stdout",
     "output_type": "stream",
     "text": [
      "full_mention:  Northamptonshire\n",
      "full_mention Matched Value:  None 0.0\n"
     ]
    },
    {
     "name": "stderr",
     "output_type": "stream",
     "text": [
      "\r",
      " 83%|████████▎ | 741/891 [03:10<00:37,  4.05it/s]"
     ]
    },
    {
     "name": "stdout",
     "output_type": "stream",
     "text": [
      "full_mention:  Trent Bridge\n",
      "full_mention Matched Value:  None 0.0\n"
     ]
    },
    {
     "name": "stderr",
     "output_type": "stream",
     "text": [
      "\r",
      " 83%|████████▎ | 742/891 [03:10<00:36,  4.08it/s]"
     ]
    },
    {
     "name": "stdout",
     "output_type": "stream",
     "text": [
      "full_mention:  Trent Bridge\n",
      "full_mention Matched Value:  None 0.0\n"
     ]
    },
    {
     "name": "stderr",
     "output_type": "stream",
     "text": [
      "\r",
      " 83%|████████▎ | 743/891 [03:10<00:36,  4.09it/s]"
     ]
    },
    {
     "name": "stdout",
     "output_type": "stream",
     "text": [
      "full_mention:  Nottinghamshire\n",
      "full_mention Matched Value:  None 0.0\n"
     ]
    },
    {
     "name": "stderr",
     "output_type": "stream",
     "text": [
      "\r",
      " 84%|████████▎ | 744/891 [03:10<00:36,  4.08it/s]"
     ]
    },
    {
     "name": "stdout",
     "output_type": "stream",
     "text": [
      "full_mention:  Surrey\n",
      "full_mention Matched Value:  None 0.0\n"
     ]
    },
    {
     "name": "stderr",
     "output_type": "stream",
     "text": [
      "\r",
      " 84%|████████▎ | 745/891 [03:11<00:35,  4.09it/s]"
     ]
    },
    {
     "name": "stdout",
     "output_type": "stream",
     "text": [
      "full_mention:  Worcester\n",
      "full_mention Matched Value:  None 0.0\n"
     ]
    },
    {
     "name": "stderr",
     "output_type": "stream",
     "text": [
      "\r",
      " 84%|████████▎ | 746/891 [03:11<00:35,  4.12it/s]"
     ]
    },
    {
     "name": "stdout",
     "output_type": "stream",
     "text": [
      "full_mention:  Warwickshire\n",
      "full_mention Matched Value:  None 0.0\n"
     ]
    },
    {
     "name": "stderr",
     "output_type": "stream",
     "text": [
      "\r",
      " 84%|████████▍ | 747/891 [03:11<00:35,  4.11it/s]"
     ]
    },
    {
     "name": "stdout",
     "output_type": "stream",
     "text": [
      "full_mention:  Worcestershire\n",
      "full_mention Matched Value:  None 0.0\n"
     ]
    },
    {
     "name": "stderr",
     "output_type": "stream",
     "text": [
      "\r",
      " 84%|████████▍ | 748/891 [03:11<00:34,  4.11it/s]"
     ]
    },
    {
     "name": "stdout",
     "output_type": "stream",
     "text": [
      "full_mention:  Headingley\n",
      "full_mention Matched Value:  None 0.0\n"
     ]
    },
    {
     "name": "stderr",
     "output_type": "stream",
     "text": [
      "\r",
      " 84%|████████▍ | 749/891 [03:12<00:34,  4.09it/s]"
     ]
    },
    {
     "name": "stdout",
     "output_type": "stream",
     "text": [
      "full_mention:  Yorkshire\n",
      "full_mention Matched Value:  None 0.0\n"
     ]
    },
    {
     "name": "stderr",
     "output_type": "stream",
     "text": [
      "\r",
      " 84%|████████▍ | 750/891 [03:12<00:34,  4.04it/s]"
     ]
    },
    {
     "name": "stdout",
     "output_type": "stream",
     "text": [
      "full_mention:  Lancashire\n",
      "full_mention Matched Value:  None 0.0\n"
     ]
    },
    {
     "name": "stderr",
     "output_type": "stream",
     "text": [
      "\r",
      " 84%|████████▍ | 751/891 [03:12<00:34,  4.07it/s]"
     ]
    },
    {
     "name": "stdout",
     "output_type": "stream",
     "text": [
      "full_mention:  ENGLAND\n",
      "full_mention Matched Value:  None 0.0\n"
     ]
    },
    {
     "name": "stderr",
     "output_type": "stream",
     "text": [
      "\r",
      " 84%|████████▍ | 752/891 [03:12<00:33,  4.10it/s]"
     ]
    },
    {
     "name": "stdout",
     "output_type": "stream",
     "text": [
      "full_mention:  PAKISTAN\n",
      "full_mention Matched Value:  None 0.0\n"
     ]
    },
    {
     "name": "stderr",
     "output_type": "stream",
     "text": [
      "\r",
      " 85%|████████▍ | 753/891 [03:13<00:33,  4.10it/s]"
     ]
    },
    {
     "name": "stdout",
     "output_type": "stream",
     "text": [
      "full_mention:  LONDON\n",
      "full_mention Matched Value:  None 0.0\n"
     ]
    },
    {
     "name": "stderr",
     "output_type": "stream",
     "text": [
      "\r",
      " 85%|████████▍ | 754/891 [03:13<00:33,  4.09it/s]"
     ]
    },
    {
     "name": "stdout",
     "output_type": "stream",
     "text": [
      "full_mention:  England\n",
      "full_mention Matched Value:  None 0.0\n"
     ]
    },
    {
     "name": "stderr",
     "output_type": "stream",
     "text": [
      "\r",
      " 85%|████████▍ | 755/891 [03:13<00:33,  4.08it/s]"
     ]
    },
    {
     "name": "stdout",
     "output_type": "stream",
     "text": [
      "full_mention:  Pakistan\n",
      "full_mention Matched Value:  None 0.0\n"
     ]
    },
    {
     "name": "stderr",
     "output_type": "stream",
     "text": [
      "\r",
      " 85%|████████▍ | 756/891 [03:13<00:33,  4.05it/s]"
     ]
    },
    {
     "name": "stdout",
     "output_type": "stream",
     "text": [
      "full_mention:  The Oval\n",
      "full_mention Matched Value:  None 0.0\n"
     ]
    },
    {
     "name": "stderr",
     "output_type": "stream",
     "text": [
      "\r",
      " 85%|████████▍ | 757/891 [03:14<00:32,  4.07it/s]"
     ]
    },
    {
     "name": "stdout",
     "output_type": "stream",
     "text": [
      "full_mention:  The Oval\n",
      "full_mention Matched Value:  None 0.0\n"
     ]
    },
    {
     "name": "stderr",
     "output_type": "stream",
     "text": [
      "\r",
      " 85%|████████▌ | 758/891 [03:14<00:32,  4.10it/s]"
     ]
    },
    {
     "name": "stdout",
     "output_type": "stream",
     "text": [
      "full_mention:  England\n",
      "full_mention Matched Value:  None 0.0\n"
     ]
    },
    {
     "name": "stderr",
     "output_type": "stream",
     "text": [
      "\r",
      " 85%|████████▌ | 759/891 [03:14<00:32,  4.11it/s]"
     ]
    },
    {
     "name": "stdout",
     "output_type": "stream",
     "text": [
      "full_mention:  Waqar Younis\n",
      "full_mention Matched Value:  None 0.0\n"
     ]
    },
    {
     "name": "stderr",
     "output_type": "stream",
     "text": [
      "\r",
      " 85%|████████▌ | 760/891 [03:14<00:31,  4.12it/s]"
     ]
    },
    {
     "name": "stdout",
     "output_type": "stream",
     "text": [
      "full_mention:  Waqar Younis\n",
      "full_mention Matched Value:  None 0.0\n"
     ]
    },
    {
     "name": "stderr",
     "output_type": "stream",
     "text": [
      "\r",
      " 85%|████████▌ | 761/891 [03:15<00:31,  4.14it/s]"
     ]
    },
    {
     "name": "stdout",
     "output_type": "stream",
     "text": [
      "full_mention:  Mushtaq Ahmed\n",
      "full_mention Matched Value:  None 0.0\n"
     ]
    },
    {
     "name": "stderr",
     "output_type": "stream",
     "text": [
      "\r",
      " 86%|████████▌ | 762/891 [03:15<00:31,  4.15it/s]"
     ]
    },
    {
     "name": "stdout",
     "output_type": "stream",
     "text": [
      "full_mention:  Mushtaq Ahmed\n",
      "full_mention Matched Value:  None 0.0\n"
     ]
    },
    {
     "name": "stderr",
     "output_type": "stream",
     "text": [
      "\r",
      " 86%|████████▌ | 763/891 [03:15<00:30,  4.15it/s]"
     ]
    },
    {
     "name": "stdout",
     "output_type": "stream",
     "text": [
      "full_mention:  Saeed Anwar\n",
      "full_mention Matched Value:  None 0.0\n"
     ]
    },
    {
     "name": "stderr",
     "output_type": "stream",
     "text": [
      "\r",
      " 86%|████████▌ | 764/891 [03:15<00:30,  4.17it/s]"
     ]
    },
    {
     "name": "stdout",
     "output_type": "stream",
     "text": [
      "full_mention:  Saeed Anwar\n",
      "full_mention Matched Value:  None 0.0\n"
     ]
    },
    {
     "name": "stderr",
     "output_type": "stream",
     "text": [
      "\r",
      " 86%|████████▌ | 765/891 [03:16<00:30,  4.17it/s]"
     ]
    },
    {
     "name": "stdout",
     "output_type": "stream",
     "text": [
      "full_mention:  Waqar Younis\n",
      "full_mention Matched Value:  None 0.0\n"
     ]
    },
    {
     "name": "stderr",
     "output_type": "stream",
     "text": [
      "\r",
      " 86%|████████▌ | 766/891 [03:16<00:30,  4.16it/s]"
     ]
    },
    {
     "name": "stdout",
     "output_type": "stream",
     "text": [
      "full_mention:  Waqar Younis\n",
      "full_mention Matched Value:  None 0.0\n"
     ]
    },
    {
     "name": "stderr",
     "output_type": "stream",
     "text": [
      "\r",
      " 86%|████████▌ | 767/891 [03:16<00:29,  4.16it/s]"
     ]
    },
    {
     "name": "stdout",
     "output_type": "stream",
     "text": [
      "full_mention:  Mohammad Akram\n",
      "full_mention Matched Value:  None 0.0\n"
     ]
    },
    {
     "name": "stderr",
     "output_type": "stream",
     "text": [
      "\r",
      " 86%|████████▌ | 768/891 [03:16<00:29,  4.16it/s]"
     ]
    },
    {
     "name": "stdout",
     "output_type": "stream",
     "text": [
      "full_mention:  Mohammad Akram\n",
      "full_mention Matched Value:  None 0.0\n"
     ]
    },
    {
     "name": "stderr",
     "output_type": "stream",
     "text": [
      "\r",
      " 86%|████████▋ | 769/891 [03:16<00:29,  4.16it/s]"
     ]
    },
    {
     "name": "stdout",
     "output_type": "stream",
     "text": [
      "full_mention:  Mushtaq Ahmed\n",
      "full_mention Matched Value:  None 0.0\n"
     ]
    },
    {
     "name": "stderr",
     "output_type": "stream",
     "text": [
      "\r",
      " 86%|████████▋ | 770/891 [03:17<00:29,  4.13it/s]"
     ]
    },
    {
     "name": "stdout",
     "output_type": "stream",
     "text": [
      "full_mention:  Mushtaq Ahmed\n",
      "full_mention Matched Value:  None 0.0\n"
     ]
    },
    {
     "name": "stderr",
     "output_type": "stream",
     "text": [
      "\r",
      " 87%|████████▋ | 771/891 [03:17<00:29,  4.13it/s]"
     ]
    },
    {
     "name": "stdout",
     "output_type": "stream",
     "text": [
      "full_mention:  Wasim Akram\n",
      "full_mention Matched Value:  None 0.0\n"
     ]
    },
    {
     "name": "stderr",
     "output_type": "stream",
     "text": [
      "\r",
      " 87%|████████▋ | 772/891 [03:17<00:29,  4.10it/s]"
     ]
    },
    {
     "name": "stdout",
     "output_type": "stream",
     "text": [
      "full_mention:  Wasim Akram\n",
      "full_mention Matched Value:  None 0.0\n"
     ]
    },
    {
     "name": "stderr",
     "output_type": "stream",
     "text": [
      "\r",
      " 87%|████████▋ | 773/891 [03:17<00:28,  4.12it/s]"
     ]
    },
    {
     "name": "stdout",
     "output_type": "stream",
     "text": [
      "full_mention:  Wasim Akram\n",
      "full_mention Matched Value:  None 0.0\n"
     ]
    },
    {
     "name": "stderr",
     "output_type": "stream",
     "text": [
      "\r",
      " 87%|████████▋ | 774/891 [03:18<00:28,  4.12it/s]"
     ]
    },
    {
     "name": "stdout",
     "output_type": "stream",
     "text": [
      "full_mention:  Wasim Akram\n",
      "full_mention Matched Value:  None 0.0\n"
     ]
    },
    {
     "name": "stderr",
     "output_type": "stream",
     "text": [
      "\r",
      " 87%|████████▋ | 775/891 [03:18<00:28,  4.14it/s]"
     ]
    },
    {
     "name": "stdout",
     "output_type": "stream",
     "text": [
      "full_mention:  Waqar Younis\n",
      "full_mention Matched Value:  None 0.0\n"
     ]
    },
    {
     "name": "stderr",
     "output_type": "stream",
     "text": [
      "\r",
      " 87%|████████▋ | 776/891 [03:18<00:27,  4.14it/s]"
     ]
    },
    {
     "name": "stdout",
     "output_type": "stream",
     "text": [
      "full_mention:  Waqar Younis\n",
      "full_mention Matched Value:  None 0.0\n"
     ]
    },
    {
     "name": "stderr",
     "output_type": "stream",
     "text": [
      "\r",
      " 87%|████████▋ | 777/891 [03:18<00:27,  4.15it/s]"
     ]
    },
    {
     "name": "stdout",
     "output_type": "stream",
     "text": [
      "full_mention:  Mohammad Akram\n",
      "full_mention Matched Value:  None 0.0\n"
     ]
    },
    {
     "name": "stderr",
     "output_type": "stream",
     "text": [
      "\r",
      " 87%|████████▋ | 778/891 [03:19<00:27,  4.16it/s]"
     ]
    },
    {
     "name": "stdout",
     "output_type": "stream",
     "text": [
      "full_mention:  Mohammad Akram\n",
      "full_mention Matched Value:  None 0.0\n"
     ]
    },
    {
     "name": "stderr",
     "output_type": "stream",
     "text": [
      "\r",
      " 87%|████████▋ | 779/891 [03:19<00:27,  4.14it/s]"
     ]
    },
    {
     "name": "stdout",
     "output_type": "stream",
     "text": [
      "full_mention:  Mushtaq Ahmed\n",
      "full_mention Matched Value:  None 0.0\n"
     ]
    },
    {
     "name": "stderr",
     "output_type": "stream",
     "text": [
      "\r",
      " 88%|████████▊ | 780/891 [03:19<00:27,  4.08it/s]"
     ]
    },
    {
     "name": "stdout",
     "output_type": "stream",
     "text": [
      "full_mention:  Mushtaq Ahmed\n",
      "full_mention Matched Value:  None 0.0\n"
     ]
    },
    {
     "name": "stderr",
     "output_type": "stream",
     "text": [
      "\r",
      " 88%|████████▊ | 781/891 [03:19<00:27,  4.05it/s]"
     ]
    },
    {
     "name": "stdout",
     "output_type": "stream",
     "text": [
      "full_mention:  Pakistan\n",
      "full_mention Matched Value:  None 0.0\n"
     ]
    },
    {
     "name": "stderr",
     "output_type": "stream",
     "text": [
      "\r",
      " 88%|████████▊ | 782/891 [03:20<00:26,  4.06it/s]"
     ]
    },
    {
     "name": "stdout",
     "output_type": "stream",
     "text": [
      "full_mention:  Saeed Anwar\n",
      "full_mention Matched Value:  None 0.0\n"
     ]
    },
    {
     "name": "stderr",
     "output_type": "stream",
     "text": [
      "\r",
      " 88%|████████▊ | 783/891 [03:20<00:26,  4.07it/s]"
     ]
    },
    {
     "name": "stdout",
     "output_type": "stream",
     "text": [
      "full_mention:  Saeed Anwar\n",
      "full_mention Matched Value:  None 0.0\n"
     ]
    },
    {
     "name": "stderr",
     "output_type": "stream",
     "text": [
      "\r",
      " 88%|████████▊ | 784/891 [03:20<00:26,  4.07it/s]"
     ]
    },
    {
     "name": "stdout",
     "output_type": "stream",
     "text": [
      "full_mention:  Ijaz Ahmed\n",
      "full_mention Matched Value:  None 0.0\n"
     ]
    },
    {
     "name": "stderr",
     "output_type": "stream",
     "text": [
      "\r",
      " 88%|████████▊ | 785/891 [03:20<00:26,  4.07it/s]"
     ]
    },
    {
     "name": "stdout",
     "output_type": "stream",
     "text": [
      "full_mention:  Ijaz Ahmed\n",
      "full_mention Matched Value:  None 0.0\n"
     ]
    },
    {
     "name": "stderr",
     "output_type": "stream",
     "text": [
      "\r",
      " 88%|████████▊ | 786/891 [03:21<00:26,  4.03it/s]"
     ]
    },
    {
     "name": "stdout",
     "output_type": "stream",
     "text": [
      "full_mention:  Inzamam-ul-Haq\n",
      "full_mention Matched Value:  None 0.0\n"
     ]
    },
    {
     "name": "stderr",
     "output_type": "stream",
     "text": [
      "\r",
      " 88%|████████▊ | 787/891 [03:21<00:25,  4.05it/s]"
     ]
    },
    {
     "name": "stdout",
     "output_type": "stream",
     "text": [
      "full_mention:  Salim Malik\n",
      "full_mention Matched Value:  None 0.0\n"
     ]
    },
    {
     "name": "stderr",
     "output_type": "stream",
     "text": [
      "\r",
      " 88%|████████▊ | 788/891 [03:21<00:25,  4.06it/s]"
     ]
    },
    {
     "name": "stdout",
     "output_type": "stream",
     "text": [
      "full_mention:  Salim Malik\n",
      "full_mention Matched Value:  None 0.0\n"
     ]
    },
    {
     "name": "stderr",
     "output_type": "stream",
     "text": [
      "\r",
      " 89%|████████▊ | 789/891 [03:21<00:25,  4.00it/s]"
     ]
    },
    {
     "name": "stdout",
     "output_type": "stream",
     "text": [
      "full_mention:  Asif Mujtaba\n",
      "full_mention Matched Value:  None 0.0\n"
     ]
    },
    {
     "name": "stderr",
     "output_type": "stream",
     "text": [
      "\r",
      " 89%|████████▊ | 790/891 [03:22<00:25,  4.03it/s]"
     ]
    },
    {
     "name": "stdout",
     "output_type": "stream",
     "text": [
      "full_mention:  Asif Mujtaba\n",
      "full_mention Matched Value:  None 0.0\n"
     ]
    },
    {
     "name": "stderr",
     "output_type": "stream",
     "text": [
      "\r",
      " 89%|████████▉ | 791/891 [03:22<00:24,  4.03it/s]"
     ]
    },
    {
     "name": "stdout",
     "output_type": "stream",
     "text": [
      "full_mention:  Wasim Akram\n",
      "full_mention Matched Value:  None 0.0\n"
     ]
    },
    {
     "name": "stderr",
     "output_type": "stream",
     "text": [
      "\r",
      " 89%|████████▉ | 792/891 [03:22<00:24,  4.03it/s]"
     ]
    },
    {
     "name": "stdout",
     "output_type": "stream",
     "text": [
      "full_mention:  Wasim Akram\n",
      "full_mention Matched Value:  None 0.0\n"
     ]
    },
    {
     "name": "stderr",
     "output_type": "stream",
     "text": [
      "\r",
      " 89%|████████▉ | 793/891 [03:22<00:24,  4.03it/s]"
     ]
    },
    {
     "name": "stdout",
     "output_type": "stream",
     "text": [
      "full_mention:  Moin Khan\n",
      "full_mention Matched Value:  None 0.0\n"
     ]
    },
    {
     "name": "stderr",
     "output_type": "stream",
     "text": [
      "\r",
      " 89%|████████▉ | 794/891 [03:23<00:24,  4.03it/s]"
     ]
    },
    {
     "name": "stdout",
     "output_type": "stream",
     "text": [
      "full_mention:  Moin Khan\n",
      "full_mention Matched Value:  None 0.0\n"
     ]
    },
    {
     "name": "stderr",
     "output_type": "stream",
     "text": [
      "\r",
      " 89%|████████▉ | 795/891 [03:23<00:23,  4.02it/s]"
     ]
    },
    {
     "name": "stdout",
     "output_type": "stream",
     "text": [
      "full_mention:  Mushtaq Ahmed\n",
      "full_mention Matched Value:  None 0.0\n"
     ]
    },
    {
     "name": "stderr",
     "output_type": "stream",
     "text": [
      "\r",
      " 89%|████████▉ | 796/891 [03:23<00:23,  4.03it/s]"
     ]
    },
    {
     "name": "stdout",
     "output_type": "stream",
     "text": [
      "full_mention:  Mushtaq Ahmed\n",
      "full_mention Matched Value:  None 0.0\n"
     ]
    },
    {
     "name": "stderr",
     "output_type": "stream",
     "text": [
      "\r",
      " 89%|████████▉ | 797/891 [03:23<00:23,  4.03it/s]"
     ]
    },
    {
     "name": "stdout",
     "output_type": "stream",
     "text": [
      "full_mention:  Waqar Younis\n",
      "full_mention Matched Value:  None 0.0\n"
     ]
    },
    {
     "name": "stderr",
     "output_type": "stream",
     "text": [
      "\r",
      " 90%|████████▉ | 798/891 [03:24<00:22,  4.06it/s]"
     ]
    },
    {
     "name": "stdout",
     "output_type": "stream",
     "text": [
      "full_mention:  Waqar Younis\n",
      "full_mention Matched Value:  None 0.0\n"
     ]
    },
    {
     "name": "stderr",
     "output_type": "stream",
     "text": [
      "\r",
      " 90%|████████▉ | 799/891 [03:24<00:22,  4.01it/s]"
     ]
    },
    {
     "name": "stdout",
     "output_type": "stream",
     "text": [
      "full_mention:  FERGUSON\n",
      "full_mention Matched Value:  None 0.0\n"
     ]
    },
    {
     "name": "stderr",
     "output_type": "stream",
     "text": [
      "\r",
      " 90%|████████▉ | 800/891 [03:24<00:22,  4.05it/s]"
     ]
    },
    {
     "name": "stdout",
     "output_type": "stream",
     "text": [
      "full_mention:  SCOTTISH\n",
      "full_mention Matched Value:  None 0.0\n"
     ]
    },
    {
     "name": "stderr",
     "output_type": "stream",
     "text": [
      "\r",
      " 90%|████████▉ | 801/891 [03:24<00:22,  4.07it/s]"
     ]
    },
    {
     "name": "stdout",
     "output_type": "stream",
     "text": [
      "full_mention:  GLASGOW\n",
      "full_mention Matched Value:  None 0.0\n"
     ]
    },
    {
     "name": "stderr",
     "output_type": "stream",
     "text": [
      "\r",
      " 90%|█████████ | 802/891 [03:25<00:21,  4.05it/s]"
     ]
    },
    {
     "name": "stdout",
     "output_type": "stream",
     "text": [
      "full_mention:  Everton\n",
      "full_mention Matched Value:  None 0.0\n"
     ]
    },
    {
     "name": "stderr",
     "output_type": "stream",
     "text": [
      "\r",
      " 90%|█████████ | 803/891 [03:25<00:21,  4.08it/s]"
     ]
    },
    {
     "name": "stdout",
     "output_type": "stream",
     "text": [
      "full_mention:  Duncan Ferguson\n",
      "full_mention Matched Value:  None 0.0\n"
     ]
    },
    {
     "name": "stderr",
     "output_type": "stream",
     "text": [
      "\r",
      " 90%|█████████ | 804/891 [03:25<00:21,  4.09it/s]"
     ]
    },
    {
     "name": "stdout",
     "output_type": "stream",
     "text": [
      "full_mention:  Duncan Ferguson\n",
      "full_mention Matched Value:  None 0.0\n"
     ]
    },
    {
     "name": "stderr",
     "output_type": "stream",
     "text": [
      "\r",
      " 90%|█████████ | 805/891 [03:25<00:20,  4.10it/s]"
     ]
    },
    {
     "name": "stdout",
     "output_type": "stream",
     "text": [
      "full_mention:  Manchester United\n",
      "full_mention Matched Value:  None 0.0\n"
     ]
    },
    {
     "name": "stderr",
     "output_type": "stream",
     "text": [
      "\r",
      " 90%|█████████ | 806/891 [03:26<00:21,  4.04it/s]"
     ]
    },
    {
     "name": "stdout",
     "output_type": "stream",
     "text": [
      "full_mention:  Manchester United\n",
      "full_mention Matched Value:  None 0.0\n"
     ]
    },
    {
     "name": "stderr",
     "output_type": "stream",
     "text": [
      "\r",
      " 91%|█████████ | 807/891 [03:26<00:20,  4.03it/s]"
     ]
    },
    {
     "name": "stdout",
     "output_type": "stream",
     "text": [
      "full_mention:  Scottish\n",
      "full_mention Matched Value:  None 0.0\n"
     ]
    },
    {
     "name": "stderr",
     "output_type": "stream",
     "text": [
      "\r",
      " 91%|█████████ | 808/891 [03:26<00:20,  4.04it/s]"
     ]
    },
    {
     "name": "stdout",
     "output_type": "stream",
     "text": [
      "full_mention:  Glasgow Rangers\n",
      "full_mention Matched Value:  None 0.0\n"
     ]
    },
    {
     "name": "stderr",
     "output_type": "stream",
     "text": [
      "\r",
      " 91%|█████████ | 809/891 [03:26<00:20,  4.05it/s]"
     ]
    },
    {
     "name": "stdout",
     "output_type": "stream",
     "text": [
      "full_mention:  Glasgow Rangers\n",
      "full_mention Matched Value:  None 0.0\n"
     ]
    },
    {
     "name": "stderr",
     "output_type": "stream",
     "text": [
      "\r",
      " 91%|█████████ | 810/891 [03:27<00:20,  4.01it/s]"
     ]
    },
    {
     "name": "stdout",
     "output_type": "stream",
     "text": [
      "full_mention:  Ally McCoist\n",
      "full_mention Matched Value:  None 0.0\n"
     ]
    },
    {
     "name": "stderr",
     "output_type": "stream",
     "text": [
      "\r",
      " 91%|█████████ | 811/891 [03:27<00:19,  4.04it/s]"
     ]
    },
    {
     "name": "stdout",
     "output_type": "stream",
     "text": [
      "full_mention:  Ally McCoist\n",
      "full_mention Matched Value:  None 0.0\n"
     ]
    },
    {
     "name": "stderr",
     "output_type": "stream",
     "text": [
      "\r",
      " 91%|█████████ | 812/891 [03:27<00:19,  4.02it/s]"
     ]
    },
    {
     "name": "stdout",
     "output_type": "stream",
     "text": [
      "full_mention:  World Cup\n",
      "full_mention Matched Value:  None 0.0\n"
     ]
    },
    {
     "name": "stderr",
     "output_type": "stream",
     "text": [
      "\r",
      " 91%|█████████ | 813/891 [03:27<00:19,  4.05it/s]"
     ]
    },
    {
     "name": "stdout",
     "output_type": "stream",
     "text": [
      "full_mention:  World Cup\n",
      "full_mention Matched Value:  None 0.0\n"
     ]
    },
    {
     "name": "stderr",
     "output_type": "stream",
     "text": [
      "\r",
      " 91%|█████████▏| 814/891 [03:28<00:18,  4.07it/s]"
     ]
    },
    {
     "name": "stdout",
     "output_type": "stream",
     "text": [
      "full_mention:  Austria\n",
      "full_mention Matched Value:  None 0.0\n"
     ]
    },
    {
     "name": "stderr",
     "output_type": "stream",
     "text": [
      "\r",
      " 91%|█████████▏| 815/891 [03:28<00:18,  4.02it/s]"
     ]
    },
    {
     "name": "stdout",
     "output_type": "stream",
     "text": [
      "full_mention:  Vienna\n",
      "full_mention Matched Value:  None 0.0\n"
     ]
    },
    {
     "name": "stderr",
     "output_type": "stream",
     "text": [
      "\r",
      " 92%|█████████▏| 816/891 [03:28<00:18,  4.05it/s]"
     ]
    },
    {
     "name": "stdout",
     "output_type": "stream",
     "text": [
      "full_mention:  Ferguson\n",
      "full_mention Matched Value:  None 0.0\n"
     ]
    },
    {
     "name": "stderr",
     "output_type": "stream",
     "text": [
      "\r",
      " 92%|█████████▏| 817/891 [03:28<00:18,  4.11it/s]"
     ]
    },
    {
     "name": "stdout",
     "output_type": "stream",
     "text": [
      "full_mention:  Scotland\n",
      "full_mention Matched Value:  None 0.0\n"
     ]
    },
    {
     "name": "stderr",
     "output_type": "stream",
     "text": [
      "\r",
      " 92%|█████████▏| 818/891 [03:29<00:17,  4.11it/s]"
     ]
    },
    {
     "name": "stdout",
     "output_type": "stream",
     "text": [
      "full_mention:  Scotland\n",
      "full_mention Matched Value:  None 0.0\n"
     ]
    },
    {
     "name": "stderr",
     "output_type": "stream",
     "text": [
      "\r",
      " 92%|█████████▏| 819/891 [03:29<00:17,  4.12it/s]"
     ]
    },
    {
     "name": "stdout",
     "output_type": "stream",
     "text": [
      "full_mention:  Craig Brown\n",
      "full_mention Matched Value:  None 0.0\n"
     ]
    },
    {
     "name": "stderr",
     "output_type": "stream",
     "text": [
      "\r",
      " 92%|█████████▏| 820/891 [03:29<00:17,  4.13it/s]"
     ]
    },
    {
     "name": "stdout",
     "output_type": "stream",
     "text": [
      "full_mention:  Craig Brown\n",
      "full_mention Matched Value:  None 0.0\n"
     ]
    },
    {
     "name": "stderr",
     "output_type": "stream",
     "text": [
      "\r",
      " 92%|█████████▏| 821/891 [03:29<00:17,  4.09it/s]"
     ]
    },
    {
     "name": "stdout",
     "output_type": "stream",
     "text": [
      "full_mention:  Celtic\n",
      "full_mention Matched Value:  None 0.0\n"
     ]
    },
    {
     "name": "stderr",
     "output_type": "stream",
     "text": [
      "\r",
      " 92%|█████████▏| 822/891 [03:29<00:16,  4.12it/s]"
     ]
    },
    {
     "name": "stdout",
     "output_type": "stream",
     "text": [
      "full_mention:  Jackie McNamara\n",
      "full_mention Matched Value:  None 0.0\n"
     ]
    },
    {
     "name": "stderr",
     "output_type": "stream",
     "text": [
      "\r",
      " 92%|█████████▏| 823/891 [03:30<00:16,  4.11it/s]"
     ]
    },
    {
     "name": "stdout",
     "output_type": "stream",
     "text": [
      "full_mention:  Jackie McNamara\n",
      "full_mention Matched Value:  None 0.0\n"
     ]
    },
    {
     "name": "stderr",
     "output_type": "stream",
     "text": [
      "\r",
      " 92%|█████████▏| 824/891 [03:30<00:16,  4.11it/s]"
     ]
    },
    {
     "name": "stdout",
     "output_type": "stream",
     "text": [
      "full_mention:  ENGLAND\n",
      "full_mention Matched Value:  None 0.0\n"
     ]
    },
    {
     "name": "stderr",
     "output_type": "stream",
     "text": [
      "\r",
      " 93%|█████████▎| 825/891 [03:30<00:16,  4.11it/s]"
     ]
    },
    {
     "name": "stdout",
     "output_type": "stream",
     "text": [
      "full_mention:  LONDON\n",
      "full_mention Matched Value:  None 0.0\n"
     ]
    },
    {
     "name": "stderr",
     "output_type": "stream",
     "text": [
      "\r",
      " 93%|█████████▎| 826/891 [03:30<00:15,  4.10it/s]"
     ]
    },
    {
     "name": "stdout",
     "output_type": "stream",
     "text": [
      "full_mention:  England\n",
      "full_mention Matched Value:  None 0.0\n"
     ]
    },
    {
     "name": "stderr",
     "output_type": "stream",
     "text": [
      "\r",
      " 93%|█████████▎| 827/891 [03:31<00:15,  4.05it/s]"
     ]
    },
    {
     "name": "stdout",
     "output_type": "stream",
     "text": [
      "full_mention:  Pakistan\n",
      "full_mention Matched Value:  None 0.0\n"
     ]
    },
    {
     "name": "stderr",
     "output_type": "stream",
     "text": [
      "\r",
      " 93%|█████████▎| 828/891 [03:31<00:15,  4.05it/s]"
     ]
    },
    {
     "name": "stdout",
     "output_type": "stream",
     "text": [
      "full_mention:  The Oval\n",
      "full_mention Matched Value:  None 0.0\n"
     ]
    },
    {
     "name": "stderr",
     "output_type": "stream",
     "text": [
      "\r",
      " 93%|█████████▎| 829/891 [03:31<00:15,  4.01it/s]"
     ]
    },
    {
     "name": "stdout",
     "output_type": "stream",
     "text": [
      "full_mention:  The Oval\n",
      "full_mention Matched Value:  None 0.0\n"
     ]
    },
    {
     "name": "stderr",
     "output_type": "stream",
     "text": [
      "\r",
      " 93%|█████████▎| 830/891 [03:31<00:15,  4.04it/s]"
     ]
    },
    {
     "name": "stdout",
     "output_type": "stream",
     "text": [
      "full_mention:  KEANE\n",
      "full_mention Matched Value:  None 0.0\n"
     ]
    },
    {
     "name": "stderr",
     "output_type": "stream",
     "text": [
      "\r",
      " 93%|█████████▎| 831/891 [03:32<00:14,  4.01it/s]"
     ]
    },
    {
     "name": "stdout",
     "output_type": "stream",
     "text": [
      "full_mention:  MANCHESTER UNITED\n",
      "full_mention Matched Value:  None 0.0\n"
     ]
    },
    {
     "name": "stderr",
     "output_type": "stream",
     "text": [
      "\r",
      " 93%|█████████▎| 832/891 [03:32<00:14,  4.03it/s]"
     ]
    },
    {
     "name": "stdout",
     "output_type": "stream",
     "text": [
      "full_mention:  MANCHESTER UNITED\n",
      "full_mention Matched Value:  None 0.0\n"
     ]
    },
    {
     "name": "stderr",
     "output_type": "stream",
     "text": [
      "\r",
      " 93%|█████████▎| 833/891 [03:32<00:14,  4.03it/s]"
     ]
    },
    {
     "name": "stdout",
     "output_type": "stream",
     "text": [
      "full_mention:  LONDON\n",
      "full_mention Matched Value:  None 0.0\n"
     ]
    },
    {
     "name": "stderr",
     "output_type": "stream",
     "text": [
      "\r",
      " 94%|█████████▎| 834/891 [03:32<00:14,  4.04it/s]"
     ]
    },
    {
     "name": "stdout",
     "output_type": "stream",
     "text": [
      "full_mention:  Ireland\n",
      "full_mention Matched Value:  None 0.0\n"
     ]
    },
    {
     "name": "stderr",
     "output_type": "stream",
     "text": [
      "\r",
      " 94%|█████████▎| 835/891 [03:33<00:14,  3.94it/s]"
     ]
    },
    {
     "name": "stdout",
     "output_type": "stream",
     "text": [
      "full_mention:  Roy Keane\n",
      "full_mention Matched Value:  None 0.0\n"
     ]
    },
    {
     "name": "stderr",
     "output_type": "stream",
     "text": [
      "\r",
      " 94%|█████████▍| 836/891 [03:33<00:13,  3.97it/s]"
     ]
    },
    {
     "name": "stdout",
     "output_type": "stream",
     "text": [
      "full_mention:  Roy Keane\n",
      "full_mention Matched Value:  None 0.0\n"
     ]
    },
    {
     "name": "stderr",
     "output_type": "stream",
     "text": [
      "\r",
      " 94%|█████████▍| 837/891 [03:33<00:13,  4.00it/s]"
     ]
    },
    {
     "name": "stdout",
     "output_type": "stream",
     "text": [
      "full_mention:  English\n",
      "full_mention Matched Value:  None 0.0\n"
     ]
    },
    {
     "name": "stderr",
     "output_type": "stream",
     "text": [
      "\r",
      " 94%|█████████▍| 838/891 [03:33<00:13,  4.01it/s]"
     ]
    },
    {
     "name": "stdout",
     "output_type": "stream",
     "text": [
      "full_mention:  F.A. Cup\n",
      "full_mention Matched Value:  None 0.0\n"
     ]
    },
    {
     "name": "stderr",
     "output_type": "stream",
     "text": [
      "\r",
      " 94%|█████████▍| 839/891 [03:34<00:12,  4.05it/s]"
     ]
    },
    {
     "name": "stdout",
     "output_type": "stream",
     "text": [
      "full_mention:  F.A. Cup\n",
      "full_mention Matched Value:  None 0.0\n"
     ]
    },
    {
     "name": "stderr",
     "output_type": "stream",
     "text": [
      "\r",
      " 94%|█████████▍| 840/891 [03:34<00:12,  4.05it/s]"
     ]
    },
    {
     "name": "stdout",
     "output_type": "stream",
     "text": [
      "full_mention:  Manchester United\n",
      "full_mention Matched Value:  None 0.0\n"
     ]
    },
    {
     "name": "stderr",
     "output_type": "stream",
     "text": [
      "\r",
      " 94%|█████████▍| 841/891 [03:34<00:12,  4.04it/s]"
     ]
    },
    {
     "name": "stdout",
     "output_type": "stream",
     "text": [
      "full_mention:  Manchester United\n",
      "full_mention Matched Value:  None 0.0\n"
     ]
    },
    {
     "name": "stderr",
     "output_type": "stream",
     "text": [
      "\r",
      " 95%|█████████▍| 842/891 [03:34<00:12,  4.05it/s]"
     ]
    },
    {
     "name": "stdout",
     "output_type": "stream",
     "text": [
      "full_mention:  United\n",
      "full_mention Matched Value:  None 0.0\n"
     ]
    },
    {
     "name": "stderr",
     "output_type": "stream",
     "text": [
      "\r",
      " 95%|█████████▍| 843/891 [03:35<00:11,  4.04it/s]"
     ]
    },
    {
     "name": "stdout",
     "output_type": "stream",
     "text": [
      "full_mention:  Alex Ferguson\n",
      "full_mention Matched Value:  None 0.0\n"
     ]
    },
    {
     "name": "stderr",
     "output_type": "stream",
     "text": [
      "\r",
      " 95%|█████████▍| 844/891 [03:35<00:11,  3.96it/s]"
     ]
    },
    {
     "name": "stdout",
     "output_type": "stream",
     "text": [
      "full_mention:  Alex Ferguson\n",
      "full_mention Matched Value:  None 0.0\n"
     ]
    },
    {
     "name": "stderr",
     "output_type": "stream",
     "text": [
      "\r",
      " 95%|█████████▍| 845/891 [03:35<00:11,  3.99it/s]"
     ]
    },
    {
     "name": "stdout",
     "output_type": "stream",
     "text": [
      "full_mention:  CANADIAN OPEN\n",
      "full_mention Matched Value:  None 0.0\n"
     ]
    },
    {
     "name": "stderr",
     "output_type": "stream",
     "text": [
      "\r",
      " 95%|█████████▍| 846/891 [03:35<00:11,  4.02it/s]"
     ]
    },
    {
     "name": "stdout",
     "output_type": "stream",
     "text": [
      "full_mention:  CANADIAN OPEN\n",
      "full_mention Matched Value:  None 0.0\n"
     ]
    },
    {
     "name": "stderr",
     "output_type": "stream",
     "text": [
      "\r",
      " 95%|█████████▌| 847/891 [03:36<00:10,  4.03it/s]"
     ]
    },
    {
     "name": "stdout",
     "output_type": "stream",
     "text": [
      "full_mention:  TORONTO\n",
      "full_mention Matched Value:  None 0.0\n"
     ]
    },
    {
     "name": "stderr",
     "output_type": "stream",
     "text": [
      "\r",
      " 95%|█████████▌| 848/891 [03:36<00:10,  4.01it/s]"
     ]
    },
    {
     "name": "stdout",
     "output_type": "stream",
     "text": [
      "full_mention:  Canadian Open\n",
      "full_mention Matched Value:  None 0.0\n"
     ]
    },
    {
     "name": "stderr",
     "output_type": "stream",
     "text": [
      "\r",
      " 95%|█████████▌| 849/891 [03:36<00:10,  4.04it/s]"
     ]
    },
    {
     "name": "stdout",
     "output_type": "stream",
     "text": [
      "full_mention:  Canadian Open\n",
      "full_mention Matched Value:  None 0.0\n"
     ]
    },
    {
     "name": "stderr",
     "output_type": "stream",
     "text": [
      "\r",
      " 95%|█████████▌| 850/891 [03:36<00:10,  4.04it/s]"
     ]
    },
    {
     "name": "stdout",
     "output_type": "stream",
     "text": [
      "full_mention:  Daniel Nestor\n",
      "full_mention Matched Value:  None 0.0\n"
     ]
    },
    {
     "name": "stderr",
     "output_type": "stream",
     "text": [
      "\r",
      " 96%|█████████▌| 851/891 [03:37<00:09,  4.07it/s]"
     ]
    },
    {
     "name": "stdout",
     "output_type": "stream",
     "text": [
      "full_mention:  Daniel Nestor\n",
      "full_mention Matched Value:  None 0.0\n"
     ]
    },
    {
     "name": "stderr",
     "output_type": "stream",
     "text": [
      "\r",
      " 96%|█████████▌| 852/891 [03:37<00:09,  4.00it/s]"
     ]
    },
    {
     "name": "stdout",
     "output_type": "stream",
     "text": [
      "full_mention:  Canada\n",
      "full_mention Matched Value:  None 0.0\n"
     ]
    },
    {
     "name": "stderr",
     "output_type": "stream",
     "text": [
      "\r",
      " 96%|█████████▌| 853/891 [03:37<00:09,  3.99it/s]"
     ]
    },
    {
     "name": "stdout",
     "output_type": "stream",
     "text": [
      "full_mention:  Thomas Muster\n",
      "full_mention Matched Value:  None 0.0\n"
     ]
    },
    {
     "name": "stderr",
     "output_type": "stream",
     "text": [
      "\r",
      " 96%|█████████▌| 854/891 [03:37<00:09,  4.03it/s]"
     ]
    },
    {
     "name": "stdout",
     "output_type": "stream",
     "text": [
      "full_mention:  Thomas Muster\n",
      "full_mention Matched Value:  None 0.0\n"
     ]
    },
    {
     "name": "stderr",
     "output_type": "stream",
     "text": [
      "\r",
      " 96%|█████████▌| 855/891 [03:38<00:08,  4.04it/s]"
     ]
    },
    {
     "name": "stdout",
     "output_type": "stream",
     "text": [
      "full_mention:  Austria\n",
      "full_mention Matched Value:  None 0.0\n"
     ]
    },
    {
     "name": "stderr",
     "output_type": "stream",
     "text": [
      "\r",
      " 96%|█████████▌| 856/891 [03:38<00:08,  4.04it/s]"
     ]
    },
    {
     "name": "stdout",
     "output_type": "stream",
     "text": [
      "full_mention:  Mikael Tillstrom\n",
      "full_mention Matched Value:  None 0.0\n"
     ]
    },
    {
     "name": "stderr",
     "output_type": "stream",
     "text": [
      "\r",
      " 96%|█████████▌| 857/891 [03:38<00:08,  4.07it/s]"
     ]
    },
    {
     "name": "stdout",
     "output_type": "stream",
     "text": [
      "full_mention:  Mikael Tillstrom\n",
      "full_mention Matched Value:  None 0.0\n"
     ]
    },
    {
     "name": "stderr",
     "output_type": "stream",
     "text": [
      "\r",
      " 96%|█████████▋| 858/891 [03:38<00:08,  4.09it/s]"
     ]
    },
    {
     "name": "stdout",
     "output_type": "stream",
     "text": [
      "full_mention:  Sweden\n",
      "full_mention Matched Value:  None 0.0\n"
     ]
    },
    {
     "name": "stderr",
     "output_type": "stream",
     "text": [
      "\r",
      " 96%|█████████▋| 859/891 [03:39<00:07,  4.09it/s]"
     ]
    },
    {
     "name": "stdout",
     "output_type": "stream",
     "text": [
      "full_mention:  Goran Ivanisevic\n",
      "full_mention Matched Value:  None 0.0\n"
     ]
    },
    {
     "name": "stderr",
     "output_type": "stream",
     "text": [
      "\r",
      " 97%|█████████▋| 860/891 [03:39<00:07,  4.12it/s]"
     ]
    },
    {
     "name": "stdout",
     "output_type": "stream",
     "text": [
      "full_mention:  Goran Ivanisevic\n",
      "full_mention Matched Value:  None 0.0\n"
     ]
    },
    {
     "name": "stderr",
     "output_type": "stream",
     "text": [
      "\r",
      " 97%|█████████▋| 861/891 [03:39<00:07,  4.09it/s]"
     ]
    },
    {
     "name": "stdout",
     "output_type": "stream",
     "text": [
      "full_mention:  Croatia\n",
      "full_mention Matched Value:  None 0.0\n"
     ]
    },
    {
     "name": "stderr",
     "output_type": "stream",
     "text": [
      "\r",
      " 97%|█████████▋| 862/891 [03:39<00:07,  4.09it/s]"
     ]
    },
    {
     "name": "stdout",
     "output_type": "stream",
     "text": [
      "full_mention:  Wayne Ferreira\n",
      "full_mention Matched Value:  None 0.0\n"
     ]
    },
    {
     "name": "stderr",
     "output_type": "stream",
     "text": [
      "\r",
      " 97%|█████████▋| 863/891 [03:40<00:06,  4.12it/s]"
     ]
    },
    {
     "name": "stdout",
     "output_type": "stream",
     "text": [
      "full_mention:  Wayne Ferreira\n",
      "full_mention Matched Value:  None 0.0\n"
     ]
    },
    {
     "name": "stderr",
     "output_type": "stream",
     "text": [
      "\r",
      " 97%|█████████▋| 864/891 [03:40<00:06,  4.15it/s]"
     ]
    },
    {
     "name": "stdout",
     "output_type": "stream",
     "text": [
      "full_mention:  South Africa\n",
      "full_mention Matched Value:  None 0.0\n"
     ]
    },
    {
     "name": "stderr",
     "output_type": "stream",
     "text": [
      "\r",
      " 97%|█████████▋| 865/891 [03:40<00:06,  4.13it/s]"
     ]
    },
    {
     "name": "stdout",
     "output_type": "stream",
     "text": [
      "full_mention:  South Africa\n",
      "full_mention Matched Value:  None 0.0\n"
     ]
    },
    {
     "name": "stderr",
     "output_type": "stream",
     "text": [
      "\r",
      " 97%|█████████▋| 866/891 [03:40<00:06,  4.12it/s]"
     ]
    },
    {
     "name": "stdout",
     "output_type": "stream",
     "text": [
      "full_mention:  Jiri Novak\n",
      "full_mention Matched Value:  None 0.0\n"
     ]
    },
    {
     "name": "stderr",
     "output_type": "stream",
     "text": [
      "\r",
      " 97%|█████████▋| 867/891 [03:41<00:05,  4.14it/s]"
     ]
    },
    {
     "name": "stdout",
     "output_type": "stream",
     "text": [
      "full_mention:  Jiri Novak\n",
      "full_mention Matched Value:  None 0.0\n"
     ]
    },
    {
     "name": "stderr",
     "output_type": "stream",
     "text": [
      "\r",
      " 97%|█████████▋| 868/891 [03:41<00:05,  4.14it/s]"
     ]
    },
    {
     "name": "stdout",
     "output_type": "stream",
     "text": [
      "full_mention:  Czech Republic\n",
      "full_mention Matched Value:  None 0.0\n"
     ]
    },
    {
     "name": "stderr",
     "output_type": "stream",
     "text": [
      "\r",
      " 98%|█████████▊| 869/891 [03:41<00:05,  4.15it/s]"
     ]
    },
    {
     "name": "stdout",
     "output_type": "stream",
     "text": [
      "full_mention:  Czech Republic\n",
      "full_mention Matched Value:  None 0.0\n"
     ]
    },
    {
     "name": "stderr",
     "output_type": "stream",
     "text": [
      "\r",
      " 98%|█████████▊| 870/891 [03:41<00:05,  4.14it/s]"
     ]
    },
    {
     "name": "stdout",
     "output_type": "stream",
     "text": [
      "full_mention:  Marcelo Rios\n",
      "full_mention Matched Value:  None 0.0\n"
     ]
    },
    {
     "name": "stderr",
     "output_type": "stream",
     "text": [
      "\r",
      " 98%|█████████▊| 871/891 [03:42<00:04,  4.12it/s]"
     ]
    },
    {
     "name": "stdout",
     "output_type": "stream",
     "text": [
      "full_mention:  Marcelo Rios\n",
      "full_mention Matched Value:  None 0.0\n"
     ]
    },
    {
     "name": "stderr",
     "output_type": "stream",
     "text": [
      "\r",
      " 98%|█████████▊| 872/891 [03:42<00:04,  4.10it/s]"
     ]
    },
    {
     "name": "stdout",
     "output_type": "stream",
     "text": [
      "full_mention:  Chile\n",
      "full_mention Matched Value:  None 0.0\n"
     ]
    },
    {
     "name": "stderr",
     "output_type": "stream",
     "text": [
      "\r",
      " 98%|█████████▊| 873/891 [03:42<00:04,  4.09it/s]"
     ]
    },
    {
     "name": "stdout",
     "output_type": "stream",
     "text": [
      "full_mention:  Kenneth Carlsen\n",
      "full_mention Matched Value:  None 0.0\n"
     ]
    },
    {
     "name": "stderr",
     "output_type": "stream",
     "text": [
      "\r",
      " 98%|█████████▊| 874/891 [03:42<00:04,  4.05it/s]"
     ]
    },
    {
     "name": "stdout",
     "output_type": "stream",
     "text": [
      "full_mention:  Kenneth Carlsen\n",
      "full_mention Matched Value:  None 0.0\n"
     ]
    },
    {
     "name": "stderr",
     "output_type": "stream",
     "text": [
      "\r",
      " 98%|█████████▊| 875/891 [03:43<00:03,  4.06it/s]"
     ]
    },
    {
     "name": "stdout",
     "output_type": "stream",
     "text": [
      "full_mention:  Denmark\n",
      "full_mention Matched Value:  None 0.0\n"
     ]
    },
    {
     "name": "stderr",
     "output_type": "stream",
     "text": [
      "\r",
      " 98%|█████████▊| 876/891 [03:43<00:03,  4.08it/s]"
     ]
    },
    {
     "name": "stdout",
     "output_type": "stream",
     "text": [
      "full_mention:  MaliVai Washington\n",
      "full_mention Matched Value:  None 0.0\n"
     ]
    },
    {
     "name": "stderr",
     "output_type": "stream",
     "text": [
      "\r",
      " 98%|█████████▊| 877/891 [03:43<00:03,  4.07it/s]"
     ]
    },
    {
     "name": "stdout",
     "output_type": "stream",
     "text": [
      "full_mention:  MaliVai Washington\n",
      "full_mention Matched Value:  None 0.0\n"
     ]
    },
    {
     "name": "stderr",
     "output_type": "stream",
     "text": [
      "\r",
      " 99%|█████████▊| 878/891 [03:43<00:03,  4.08it/s]"
     ]
    },
    {
     "name": "stdout",
     "output_type": "stream",
     "text": [
      "full_mention:  U.S.\n",
      "full_mention Matched Value:  None 0.0\n"
     ]
    },
    {
     "name": "stderr",
     "output_type": "stream",
     "text": [
      "\r",
      " 99%|█████████▊| 879/891 [03:44<00:02,  4.10it/s]"
     ]
    },
    {
     "name": "stdout",
     "output_type": "stream",
     "text": [
      "full_mention:  Alex Corretja\n",
      "full_mention Matched Value:  None 0.0\n"
     ]
    },
    {
     "name": "stderr",
     "output_type": "stream",
     "text": [
      "\r",
      " 99%|█████████▉| 880/891 [03:44<00:02,  4.11it/s]"
     ]
    },
    {
     "name": "stdout",
     "output_type": "stream",
     "text": [
      "full_mention:  Alex Corretja\n",
      "full_mention Matched Value:  None 0.0\n"
     ]
    },
    {
     "name": "stderr",
     "output_type": "stream",
     "text": [
      "\r",
      " 99%|█████████▉| 881/891 [03:44<00:02,  4.12it/s]"
     ]
    },
    {
     "name": "stdout",
     "output_type": "stream",
     "text": [
      "full_mention:  Spain\n",
      "full_mention Matched Value:  None 0.0\n"
     ]
    },
    {
     "name": "stderr",
     "output_type": "stream",
     "text": [
      "\r",
      " 99%|█████████▉| 882/891 [03:44<00:02,  4.10it/s]"
     ]
    },
    {
     "name": "stdout",
     "output_type": "stream",
     "text": [
      "full_mention:  Todd Martin\n",
      "full_mention Matched Value:  None 0.0\n"
     ]
    },
    {
     "name": "stderr",
     "output_type": "stream",
     "text": [
      "\r",
      " 99%|█████████▉| 883/891 [03:45<00:01,  4.11it/s]"
     ]
    },
    {
     "name": "stdout",
     "output_type": "stream",
     "text": [
      "full_mention:  Todd Martin\n",
      "full_mention Matched Value:  None 0.0\n"
     ]
    },
    {
     "name": "stderr",
     "output_type": "stream",
     "text": [
      "\r",
      " 99%|█████████▉| 884/891 [03:45<00:01,  4.10it/s]"
     ]
    },
    {
     "name": "stdout",
     "output_type": "stream",
     "text": [
      "full_mention:  U.S.\n",
      "full_mention Matched Value:  None 0.0\n"
     ]
    },
    {
     "name": "stderr",
     "output_type": "stream",
     "text": [
      "\r",
      " 99%|█████████▉| 885/891 [03:45<00:01,  4.11it/s]"
     ]
    },
    {
     "name": "stdout",
     "output_type": "stream",
     "text": [
      "full_mention:  Renzo Furlan\n",
      "full_mention Matched Value:  None 0.0\n"
     ]
    },
    {
     "name": "stderr",
     "output_type": "stream",
     "text": [
      "\r",
      " 99%|█████████▉| 886/891 [03:45<00:01,  4.12it/s]"
     ]
    },
    {
     "name": "stdout",
     "output_type": "stream",
     "text": [
      "full_mention:  Renzo Furlan\n",
      "full_mention Matched Value:  None 0.0\n"
     ]
    },
    {
     "name": "stderr",
     "output_type": "stream",
     "text": [
      "\r",
      "100%|█████████▉| 887/891 [03:45<00:00,  4.13it/s]"
     ]
    },
    {
     "name": "stdout",
     "output_type": "stream",
     "text": [
      "full_mention:  Italy\n",
      "full_mention Matched Value:  None 0.0\n"
     ]
    },
    {
     "name": "stderr",
     "output_type": "stream",
     "text": [
      "\r",
      "100%|█████████▉| 888/891 [03:46<00:00,  4.14it/s]"
     ]
    },
    {
     "name": "stdout",
     "output_type": "stream",
     "text": [
      "full_mention:  Mark Philippoussis\n",
      "full_mention Matched Value:  None 0.0\n"
     ]
    },
    {
     "name": "stderr",
     "output_type": "stream",
     "text": [
      "\r",
      "100%|█████████▉| 889/891 [03:46<00:00,  4.12it/s]"
     ]
    },
    {
     "name": "stdout",
     "output_type": "stream",
     "text": [
      "full_mention:  Mark Philippoussis\n",
      "full_mention Matched Value:  None 0.0\n"
     ]
    },
    {
     "name": "stderr",
     "output_type": "stream",
     "text": [
      "\r",
      "100%|█████████▉| 890/891 [03:46<00:00,  4.11it/s]"
     ]
    },
    {
     "name": "stdout",
     "output_type": "stream",
     "text": [
      "full_mention:  Australia\n",
      "full_mention Matched Value:  None 0.0\n"
     ]
    },
    {
     "name": "stderr",
     "output_type": "stream",
     "text": [
      "100%|██████████| 891/891 [03:46<00:00,  3.93it/s]"
     ]
    },
    {
     "name": "stdout",
     "output_type": "stream",
     "text": [
      "full_mention:  Marc Rosset\n",
      "full_mention Matched Value:  None 0.0\n",
      "******************************************************\n",
      "Anchor Texts Not In Wikipedia2Vec Vocabulary:  136017387\n",
      "******************************************************\n",
      "CPU times: user 3min 37s, sys: 4.47 s, total: 3min 41s\n",
      "Wall time: 3min 46s\n"
     ]
    },
    {
     "name": "stderr",
     "output_type": "stream",
     "text": [
      "\n"
     ]
    }
   ],
   "source": [
    "%%time\n",
    "# Create single full_mention similarity matrix to assess computation time\n",
    "match_pct = 1\n",
    "\n",
    "# Prepare blank matrix\n",
    "w2v_similarity_anchor_dict = {}\n",
    "anchor_texts_not_found = 0\n",
    "\n",
    "# Swap between tqdm depending on if you want progress bar\n",
    "for full_mention in tqdm(x_np[:int(np.ceil(len(x_np)*0.05))]):\n",
    "# for full_mention in x_np[:int(np.ceil(len(x_np)*0.01))]:\n",
    "\n",
    "#     print(\"full_mention: \", full_mention)\n",
    "    anchor_text_dict = {}\n",
    "    \n",
    "# Swap between tqdm depending on if you want progress bar\n",
    "#     for anchor_text in tqdm(at_count_df['normalized_anchor_text'][:int(np.ceil(len(at_count_df)*(match_pct/100)))]):\n",
    "    for anchor_text in at_count_df['normalized_anchor_text'][:int(np.ceil(len(at_count_df)*(match_pct/100)))]:\n",
    "#         print(\"Anchor Text: \", anchor_text)\n",
    "        try:\n",
    "            full_mention_anchor_similarity = w2v.similarity(full_mention, anchor_text)\n",
    "#             print(\"full_mention-Title Similarity: \", round(full_mention_anchor_similarity, 5))\n",
    "            anchor_text_dict[anchor_text] = full_mention_anchor_similarity\n",
    "        except KeyError:\n",
    "            anchor_texts_not_found += 1\n",
    "#             print(KeyError, \"AT Not in Vocabulary\")\n",
    "    try:\n",
    "        matched_value = max(anchor_text_dict, key=anchor_text_dict.get)\n",
    "        matched_score = anchor_text_dict[matched_value]\n",
    "    except ValueError:\n",
    "        matched_value = None\n",
    "        matched_score = 0.\n",
    "    print(\"full_mention: \", full_mention)\n",
    "    print(\"full_mention Matched Value: \", matched_value, round(matched_score,5))\n",
    "    w2v_similarity_anchor_dict[full_mention] = (matched_value, matched_score)\n",
    "print(\"******************************************************\")\n",
    "print(\"Anchor Texts Not In Wikipedia2Vec Vocabulary: \", anchor_texts_not_found)\n",
    "print(\"******************************************************\")"
   ]
  },
  {
   "cell_type": "code",
   "execution_count": 48,
   "metadata": {
    "scrolled": true
   },
   "outputs": [
    {
     "data": {
      "text/plain": [
       "{'German': (None, 0.0),\n",
       " 'British': (None, 0.0),\n",
       " 'BRUSSELS': (None, 0.0),\n",
       " 'European Commission': (None, 0.0),\n",
       " 'Germany': (None, 0.0),\n",
       " 'European Union': (None, 0.0),\n",
       " 'Britain': (None, 0.0),\n",
       " 'Commission': (None, 0.0),\n",
       " 'Franz Fischler': (None, 0.0),\n",
       " 'France': (None, 0.0),\n",
       " 'BSE': (None, 0.0),\n",
       " 'Spanish': (None, 0.0),\n",
       " 'Loyola de Palacio': (None, 0.0),\n",
       " 'Europe': (None, 0.0),\n",
       " 'Bonn': (None, 0.0),\n",
       " 'Hendrix': (None, 0.0),\n",
       " 'LONDON': (None, 0.0),\n",
       " 'U.S.': (None, 0.0),\n",
       " 'Jimi Hendrix': (None, 0.0),\n",
       " 'London': (None, 0.0),\n",
       " 'English': (None, 0.0),\n",
       " 'Nottingham': (None, 0.0),\n",
       " 'Australian': (None, 0.0),\n",
       " 'China': (None, 0.0),\n",
       " 'Taiwan': (None, 0.0),\n",
       " 'BEIJING': (None, 0.0),\n",
       " 'Taipei': (None, 0.0),\n",
       " 'Taiwan Strait': (None, 0.0),\n",
       " 'Ukraine': (None, 0.0),\n",
       " 'Taiwanese': (None, 0.0),\n",
       " 'Lien Chan': (None, 0.0),\n",
       " 'Beijing': (None, 0.0),\n",
       " 'Chinese': (None, 0.0),\n",
       " 'Foreign Ministry': (None, 0.0),\n",
       " 'Reuters Television': (None, 0.0),\n",
       " 'Xinhua': (None, 0.0),\n",
       " 'Association for Relations Across the Taiwan Straits': (None, 0.0),\n",
       " 'FRANKFURT': (None, 0.0),\n",
       " 'Germans': (None, 0.0),\n",
       " 'Volkswagen AG': (None, 0.0),\n",
       " 'Opel AG': (None, 0.0),\n",
       " 'General Motors': (None, 0.0),\n",
       " 'Ford': (None, 0.0),\n",
       " 'Porsche': (None, 0.0),\n",
       " 'GREEK': (None, 0.0),\n",
       " 'ATHENS': (None, 0.0),\n",
       " 'Greek': (None, 0.0),\n",
       " 'Costas Simitis': (None, 0.0),\n",
       " 'Costas Skandalidis': (None, 0.0),\n",
       " 'BAYERISCHE VEREINSBANK': (None, 0.0),\n",
       " 'GERMAN': (None, 0.0),\n",
       " 'SWEDISH': (None, 0.0),\n",
       " 'ENGLISH': (None, 0.0),\n",
       " 'SWEDEN': (None, 0.0),\n",
       " 'Syria': (None, 0.0),\n",
       " 'Tartous': (None, 0.0),\n",
       " 'Israel': (None, 0.0),\n",
       " 'JERUSALEM': (None, 0.0),\n",
       " 'Itamar Rabinovich': (None, 0.0),\n",
       " 'Washington': (None, 0.0),\n",
       " 'Israel Radio': (None, 0.0),\n",
       " 'Damascus': (None, 0.0),\n",
       " 'Rabinovich': (None, 0.0),\n",
       " 'Eliahu Ben-Elissar': (None, 0.0),\n",
       " 'Israeli': (None, 0.0),\n",
       " 'Egypt': (None, 0.0),\n",
       " 'Likud': (None, 0.0),\n",
       " 'David Levy': (None, 0.0),\n",
       " 'Benjamin Netanyahu': (None, 0.0),\n",
       " 'Golan Heights': (None, 0.0),\n",
       " 'Middle East': (None, 0.0),\n",
       " 'Golan': (None, 0.0),\n",
       " 'Channel Two': (None, 0.0),\n",
       " 'Netanyahu': (None, 0.0),\n",
       " 'United States': (None, 0.0),\n",
       " 'Moscow': (None, 0.0),\n",
       " 'Polish': (None, 0.0),\n",
       " 'Libya': (None, 0.0),\n",
       " 'TUNIS': (None, 0.0),\n",
       " 'Reuters': (None, 0.0),\n",
       " 'Poland': (None, 0.0),\n",
       " 'Iranian': (None, 0.0),\n",
       " 'Baghdad': (None, 0.0),\n",
       " 'BAGHDAD': (None, 0.0),\n",
       " 'Iraq': (None, 0.0),\n",
       " 'Iran': (None, 0.0),\n",
       " 'Kurdish': (None, 0.0),\n",
       " 'Massoud Rajavi': (None, 0.0),\n",
       " 'Kurdistan Democratic Party of Iran': (None, 0.0),\n",
       " 'KDPI': (None, 0.0),\n",
       " 'Kurds': (None, 0.0),\n",
       " 'Iraqi Kurdish': (None, 0.0),\n",
       " 'PUK': (None, 0.0),\n",
       " 'Kurdistan Democratic Party': (None, 0.0),\n",
       " 'KDP': (None, 0.0),\n",
       " 'Iraqi': (None, 0.0),\n",
       " 'Kuwait': (None, 0.0),\n",
       " 'Gulf War': (None, 0.0),\n",
       " 'Qasri': (None, 0.0),\n",
       " 'Suleimaniya': (None, 0.0),\n",
       " 'Iraqi Kurds': (None, 0.0),\n",
       " 'Saudi': (None, 0.0),\n",
       " 'MANAMA': (None, 0.0),\n",
       " 'Arafat': (None, 0.0),\n",
       " 'Palestinian': (None, 0.0),\n",
       " 'Yasser Arafat': (None, 0.0),\n",
       " 'Shimon Peres': (None, 0.0),\n",
       " 'Ramallah': (None, 0.0),\n",
       " 'Gaza': (None, 0.0),\n",
       " 'Allenby Bridge': (None, 0.0),\n",
       " 'Jordan': (None, 0.0),\n",
       " 'Peres': (None, 0.0),\n",
       " 'Palestinians': (None, 0.0),\n",
       " 'Afghan': (None, 0.0),\n",
       " 'UAE': (None, 0.0),\n",
       " 'Taleban': (None, 0.0),\n",
       " 'DUBAI': (None, 0.0),\n",
       " 'United Arab Emirates': (None, 0.0),\n",
       " 'Russian': (None, 0.0),\n",
       " 'Afghanistan': (None, 0.0),\n",
       " 'Abu Dhabi': (None, 0.0),\n",
       " 'Sharjah': (None, 0.0),\n",
       " 'Kandahar': (None, 0.0),\n",
       " 'Kabul': (None, 0.0),\n",
       " 'Burhanuddin Rabbani': (None, 0.0),\n",
       " 'Russians': (None, 0.0),\n",
       " 'Tatarstan': (None, 0.0),\n",
       " 'Albania': (None, 0.0),\n",
       " 'Rabbani': (None, 0.0),\n",
       " 'Saddam': (None, 0.0),\n",
       " 'Russia': (None, 0.0),\n",
       " 'Zhirinovsky': (None, 0.0),\n",
       " 'Saddam Hussein': (None, 0.0),\n",
       " 'Vladimir Zhirinovsky': (None, 0.0),\n",
       " 'Duma': (None, 0.0),\n",
       " 'U.N.': (None, 0.0),\n",
       " 'IRAQ': (None, 0.0),\n",
       " 'Umm Qasr': (None, 0.0),\n",
       " 'Gulf': (None, 0.0),\n",
       " 'Lebanon': (None, 0.0),\n",
       " 'BEIRUT': (None, 0.0),\n",
       " 'Beirut': (None, 0.0),\n",
       " 'AN-NAHAR': (None, 0.0),\n",
       " 'Hizbollah': (None, 0.0),\n",
       " 'AS-SAFIR': (None, 0.0),\n",
       " 'AD-DIYAR': (None, 0.0),\n",
       " 'Pakistan': (None, 0.0),\n",
       " 'Maronite': (None, 0.0),\n",
       " 'CME': (None, 0.0),\n",
       " 'CHICAGO': (None, 0.0),\n",
       " 'MONTGOMERY': (None, 0.0),\n",
       " 'Ala': (None, 0.0),\n",
       " 'KinderCare Learning Centers Inc': (None, 0.0),\n",
       " 'Lehman': (None, 0.0),\n",
       " 'SNET': (None, 0.0),\n",
       " 'PHOENIX': (None, 0.0),\n",
       " 'Le Monde': (None, 0.0),\n",
       " 'PARIS': (None, 0.0),\n",
       " 'Africans': (None, 0.0),\n",
       " 'Alain Juppe': (None, 0.0),\n",
       " 'Paris': (None, 0.0),\n",
       " 'FLNC': (None, 0.0),\n",
       " 'Corsican': (None, 0.0),\n",
       " 'Bally': (None, 0.0),\n",
       " 'French': (None, 0.0),\n",
       " 'Sud-PTT': (None, 0.0),\n",
       " 'France Telecom': (None, 0.0),\n",
       " 'Heidrun': (None, 0.0),\n",
       " 'Statoil': (None, 0.0),\n",
       " 'OSLO': (None, 0.0),\n",
       " 'Oslo': (None, 0.0),\n",
       " 'Finnish': (None, 0.0),\n",
       " 'HELSINKI': (None, 0.0),\n",
       " 'Finland': (None, 0.0),\n",
       " 'Bank of Finland': (None, 0.0),\n",
       " 'Dutch': (None, 0.0),\n",
       " 'AMSTERDAM': (None, 0.0),\n",
       " 'GMT': (None, 0.0),\n",
       " 'Amsterdam': (None, 0.0),\n",
       " 'BONN': (None, 0.0),\n",
       " 'ZDF': (None, 0.0),\n",
       " 'WORLD SERIES OF GOLF': (None, 0.0),\n",
       " 'AKRON': (None, 0.0),\n",
       " 'Ohio': (None, 0.0),\n",
       " 'NEC World Series of Golf': (None, 0.0),\n",
       " 'Paul Goydos': (None, 0.0),\n",
       " 'Billy Mayfair': (None, 0.0),\n",
       " 'Hidemichi Tanaka': (None, 0.0),\n",
       " 'Japan': (None, 0.0),\n",
       " 'Steve Stricker': (None, 0.0),\n",
       " 'Justin Leonard': (None, 0.0),\n",
       " 'Mark Brooks': (None, 0.0),\n",
       " 'Tim Herron': (None, 0.0),\n",
       " 'Duffy Waldorf': (None, 0.0),\n",
       " 'Davis Love': (None, 0.0),\n",
       " 'Anders Forsbrand': (None, 0.0),\n",
       " 'Sweden': (None, 0.0),\n",
       " 'Nick Faldo': (None, 0.0),\n",
       " 'John Cook': (None, 0.0),\n",
       " 'Steve Jones': (None, 0.0),\n",
       " 'Phil Mickelson': (None, 0.0),\n",
       " 'Greg Norman': (None, 0.0),\n",
       " 'Australia': (None, 0.0),\n",
       " 'Ernie Els': (None, 0.0),\n",
       " 'South Africa': (None, 0.0),\n",
       " 'Scott Hoch': (None, 0.0),\n",
       " 'Clarence Rose': (None, 0.0),\n",
       " 'Loren Roberts': (None, 0.0),\n",
       " 'Fred Funk': (None, 0.0),\n",
       " 'Sven Struver': (None, 0.0),\n",
       " 'Alexander Cejka': (None, 0.0),\n",
       " 'Hal Sutton': (None, 0.0),\n",
       " 'Tom Lehman': (None, 0.0),\n",
       " 'D.A. Weibring': (None, 0.0),\n",
       " 'Brad Bryant': (None, 0.0),\n",
       " 'Craig Parry': (None, 0.0),\n",
       " 'Stewart Ginn': (None, 0.0),\n",
       " 'Corey Pavin': (None, 0.0),\n",
       " 'Craig Stadler': (None, 0.0),\n",
       " 'Fred Couples': (None, 0.0),\n",
       " 'Paul Stankowski': (None, 0.0),\n",
       " 'Costantino Rocca': (None, 0.0),\n",
       " 'Italy': (None, 0.0),\n",
       " 'Jim Furyk': (None, 0.0),\n",
       " 'Satoshi Higashi': (None, 0.0),\n",
       " 'Willie Wood': (None, 0.0),\n",
       " 'Shigeki Maruyama': (None, 0.0),\n",
       " 'Scott McCarron': (None, 0.0),\n",
       " 'Wayne Westner': (None, 0.0),\n",
       " 'Tom Watson': (None, 0.0),\n",
       " 'GLORIA BISTRITA': (None, 0.0),\n",
       " 'BISTRITA': (None, 0.0),\n",
       " 'Gloria Bistrita': (None, 0.0),\n",
       " 'Romania': (None, 0.0),\n",
       " 'Malta': (None, 0.0),\n",
       " 'Cup winners Cup': (None, 0.0),\n",
       " 'Gilbert Agius': (None, 0.0),\n",
       " 'YORK': (None, 0.0),\n",
       " 'England': (None, 0.0),\n",
       " 'Mark Prescott': (None, 0.0),\n",
       " 'Nunthorpe Stakes': (None, 0.0),\n",
       " 'George Duffield': (None, 0.0),\n",
       " 'Longchamp': (None, 0.0),\n",
       " 'Royal Ascot': (None, 0.0),\n",
       " 'Jason Weaver': (None, 0.0),\n",
       " 'Newmarket': (None, 0.0),\n",
       " 'TOSHIBA CLASSIC': (None, 0.0),\n",
       " 'CARLSBAD': (None, 0.0),\n",
       " 'California': (None, 0.0),\n",
       " 'Toshiba Classic': (None, 0.0),\n",
       " 'Arantxa Sanchez Vicario': (None, 0.0),\n",
       " 'Spain': (None, 0.0),\n",
       " 'Kimiko Date': (None, 0.0),\n",
       " 'Sandrine Testud': (None, 0.0),\n",
       " 'Ai Sugiyama': (None, 0.0),\n",
       " 'Nathalie Tauziat': (None, 0.0),\n",
       " 'Shi-Ting Wang': (None, 0.0),\n",
       " 'COMMACK': (None, 0.0),\n",
       " 'New York': (None, 0.0),\n",
       " 'Michael Chang': (None, 0.0),\n",
       " 'Sergi Bruguera': (None, 0.0),\n",
       " 'Michael Joyce': (None, 0.0),\n",
       " 'Richey Reneberg': (None, 0.0),\n",
       " 'Martin Damm': (None, 0.0),\n",
       " 'Czech Republic': (None, 0.0),\n",
       " 'Younes El Aynaoui': (None, 0.0),\n",
       " 'Morocco': (None, 0.0),\n",
       " 'Karol Kucera': (None, 0.0),\n",
       " 'Slovakia': (None, 0.0),\n",
       " 'Hicham Arazi': (None, 0.0),\n",
       " 'DALGLISH': (None, 0.0),\n",
       " 'BLACKBURN': (None, 0.0),\n",
       " 'Kenny Dalglish': (None, 0.0),\n",
       " 'Blackburn': (None, 0.0),\n",
       " 'Dalglish': (None, 0.0),\n",
       " 'ENGLISH COUNTY CHAMPIONSHIP': (None, 0.0),\n",
       " 'County Championship': (None, 0.0),\n",
       " 'Weston-super-Mare': (None, 0.0),\n",
       " 'Durham': (None, 0.0),\n",
       " 'Somerset': (None, 0.0),\n",
       " 'Colchester': (None, 0.0),\n",
       " 'Gloucestershire': (None, 0.0),\n",
       " 'J. Russell': (None, 0.0),\n",
       " 'Essex': (None, 0.0),\n",
       " 'Cardiff': (None, 0.0),\n",
       " 'Kent': (None, 0.0),\n",
       " 'Glamorgan': (None, 0.0),\n",
       " 'Leicester': (None, 0.0),\n",
       " 'Leicestershire': (None, 0.0),\n",
       " 'Hampshire': (None, 0.0),\n",
       " 'Northampton': (None, 0.0),\n",
       " 'Sussex': (None, 0.0),\n",
       " 'Northamptonshire': (None, 0.0),\n",
       " 'Trent Bridge': (None, 0.0),\n",
       " 'Nottinghamshire': (None, 0.0),\n",
       " 'Surrey': (None, 0.0),\n",
       " 'Worcester': (None, 0.0),\n",
       " 'Warwickshire': (None, 0.0),\n",
       " 'Worcestershire': (None, 0.0),\n",
       " 'Headingley': (None, 0.0),\n",
       " 'Yorkshire': (None, 0.0),\n",
       " 'Lancashire': (None, 0.0),\n",
       " 'ENGLAND': (None, 0.0),\n",
       " 'PAKISTAN': (None, 0.0),\n",
       " 'The Oval': (None, 0.0),\n",
       " 'Waqar Younis': (None, 0.0),\n",
       " 'Mushtaq Ahmed': (None, 0.0),\n",
       " 'Saeed Anwar': (None, 0.0),\n",
       " 'Mohammad Akram': (None, 0.0),\n",
       " 'Wasim Akram': (None, 0.0),\n",
       " 'Ijaz Ahmed': (None, 0.0),\n",
       " 'Inzamam-ul-Haq': (None, 0.0),\n",
       " 'Salim Malik': (None, 0.0),\n",
       " 'Asif Mujtaba': (None, 0.0),\n",
       " 'Moin Khan': (None, 0.0),\n",
       " 'FERGUSON': (None, 0.0),\n",
       " 'SCOTTISH': (None, 0.0),\n",
       " 'GLASGOW': (None, 0.0),\n",
       " 'Everton': (None, 0.0),\n",
       " 'Duncan Ferguson': (None, 0.0),\n",
       " 'Manchester United': (None, 0.0),\n",
       " 'Scottish': (None, 0.0),\n",
       " 'Glasgow Rangers': (None, 0.0),\n",
       " 'Ally McCoist': (None, 0.0),\n",
       " 'World Cup': (None, 0.0),\n",
       " 'Austria': (None, 0.0),\n",
       " 'Vienna': (None, 0.0),\n",
       " 'Ferguson': (None, 0.0),\n",
       " 'Scotland': (None, 0.0),\n",
       " 'Craig Brown': (None, 0.0),\n",
       " 'Celtic': (None, 0.0),\n",
       " 'Jackie McNamara': (None, 0.0),\n",
       " 'KEANE': (None, 0.0),\n",
       " 'MANCHESTER UNITED': (None, 0.0),\n",
       " 'Ireland': (None, 0.0),\n",
       " 'Roy Keane': (None, 0.0),\n",
       " 'F.A. Cup': (None, 0.0),\n",
       " 'United': (None, 0.0),\n",
       " 'Alex Ferguson': (None, 0.0),\n",
       " 'CANADIAN OPEN': (None, 0.0),\n",
       " 'TORONTO': (None, 0.0),\n",
       " 'Canadian Open': (None, 0.0),\n",
       " 'Daniel Nestor': (None, 0.0),\n",
       " 'Canada': (None, 0.0),\n",
       " 'Thomas Muster': (None, 0.0),\n",
       " 'Mikael Tillstrom': (None, 0.0),\n",
       " 'Goran Ivanisevic': (None, 0.0),\n",
       " 'Croatia': (None, 0.0),\n",
       " 'Wayne Ferreira': (None, 0.0),\n",
       " 'Jiri Novak': (None, 0.0),\n",
       " 'Marcelo Rios': (None, 0.0),\n",
       " 'Chile': (None, 0.0),\n",
       " 'Kenneth Carlsen': (None, 0.0),\n",
       " 'Denmark': (None, 0.0),\n",
       " 'MaliVai Washington': (None, 0.0),\n",
       " 'Alex Corretja': (None, 0.0),\n",
       " 'Todd Martin': (None, 0.0),\n",
       " 'Renzo Furlan': (None, 0.0),\n",
       " 'Mark Philippoussis': (None, 0.0),\n",
       " 'Marc Rosset': (None, 0.0)}"
      ]
     },
     "execution_count": 48,
     "metadata": {},
     "output_type": "execute_result"
    }
   ],
   "source": [
    "# Display generated dict\n",
    "w2v_similarity_anchor_dict"
   ]
  },
  {
   "cell_type": "code",
   "execution_count": 54,
   "metadata": {},
   "outputs": [
    {
     "name": "stderr",
     "output_type": "stream",
     "text": [
      "  0%|          | 1/891 [00:04<1:07:49,  4.57s/it]"
     ]
    },
    {
     "name": "stdout",
     "output_type": "stream",
     "text": [
      "full_mention:  german\n",
      "full_mention Matched Value:  german 1.0\n"
     ]
    },
    {
     "name": "stderr",
     "output_type": "stream",
     "text": [
      "\r",
      "  0%|          | 2/891 [00:05<52:58,  3.58s/it]  "
     ]
    },
    {
     "name": "stdout",
     "output_type": "stream",
     "text": [
      "full_mention:  british\n",
      "full_mention Matched Value:  british 1.0\n"
     ]
    },
    {
     "name": "stderr",
     "output_type": "stream",
     "text": [
      "\r",
      "  0%|          | 3/891 [00:07<42:23,  2.86s/it]"
     ]
    },
    {
     "name": "stdout",
     "output_type": "stream",
     "text": [
      "full_mention:  brussels\n",
      "full_mention Matched Value:  brussels 1.0\n"
     ]
    },
    {
     "name": "stderr",
     "output_type": "stream",
     "text": [
      "\r",
      "  0%|          | 4/891 [00:07<30:44,  2.08s/it]"
     ]
    },
    {
     "name": "stdout",
     "output_type": "stream",
     "text": [
      "full_mention:  european commission\n",
      "full_mention Matched Value:  None 0.0\n"
     ]
    },
    {
     "name": "stderr",
     "output_type": "stream",
     "text": [
      "\r",
      "  1%|          | 5/891 [00:07<22:38,  1.53s/it]"
     ]
    },
    {
     "name": "stdout",
     "output_type": "stream",
     "text": [
      "full_mention:  european commission\n",
      "full_mention Matched Value:  None 0.0\n"
     ]
    },
    {
     "name": "stderr",
     "output_type": "stream",
     "text": [
      "\r",
      "  1%|          | 6/891 [00:08<21:05,  1.43s/it]"
     ]
    },
    {
     "name": "stdout",
     "output_type": "stream",
     "text": [
      "full_mention:  german\n",
      "full_mention Matched Value:  german 1.0\n"
     ]
    },
    {
     "name": "stderr",
     "output_type": "stream",
     "text": [
      "\r",
      "  1%|          | 7/891 [00:09<19:58,  1.36s/it]"
     ]
    },
    {
     "name": "stdout",
     "output_type": "stream",
     "text": [
      "full_mention:  british\n",
      "full_mention Matched Value:  british 1.0\n"
     ]
    },
    {
     "name": "stderr",
     "output_type": "stream",
     "text": [
      "\r",
      "  1%|          | 8/891 [00:11<19:15,  1.31s/it]"
     ]
    },
    {
     "name": "stdout",
     "output_type": "stream",
     "text": [
      "full_mention:  germany\n",
      "full_mention Matched Value:  germany 1.0\n"
     ]
    },
    {
     "name": "stderr",
     "output_type": "stream",
     "text": [
      "\r",
      "  1%|          | 9/891 [00:11<14:32,  1.01it/s]"
     ]
    },
    {
     "name": "stdout",
     "output_type": "stream",
     "text": [
      "full_mention:  european union\n",
      "full_mention Matched Value:  None 0.0\n"
     ]
    },
    {
     "name": "stderr",
     "output_type": "stream",
     "text": [
      "\r",
      "  1%|          | 10/891 [00:11<11:16,  1.30it/s]"
     ]
    },
    {
     "name": "stdout",
     "output_type": "stream",
     "text": [
      "full_mention:  european union\n",
      "full_mention Matched Value:  None 0.0\n"
     ]
    },
    {
     "name": "stderr",
     "output_type": "stream",
     "text": [
      "\r",
      "  1%|          | 11/891 [00:12<13:08,  1.12it/s]"
     ]
    },
    {
     "name": "stdout",
     "output_type": "stream",
     "text": [
      "full_mention:  britain\n",
      "full_mention Matched Value:  britain 1.0\n"
     ]
    },
    {
     "name": "stderr",
     "output_type": "stream",
     "text": [
      "\r",
      "  1%|▏         | 12/891 [00:13<14:24,  1.02it/s]"
     ]
    },
    {
     "name": "stdout",
     "output_type": "stream",
     "text": [
      "full_mention:  commission\n",
      "full_mention Matched Value:  commission 1.0\n"
     ]
    },
    {
     "name": "stderr",
     "output_type": "stream",
     "text": [
      "\r",
      "  1%|▏         | 13/891 [00:14<11:13,  1.30it/s]"
     ]
    },
    {
     "name": "stdout",
     "output_type": "stream",
     "text": [
      "full_mention:  european union\n",
      "full_mention Matched Value:  None 0.0\n"
     ]
    },
    {
     "name": "stderr",
     "output_type": "stream",
     "text": [
      "\r",
      "  2%|▏         | 14/891 [00:14<08:56,  1.64it/s]"
     ]
    },
    {
     "name": "stdout",
     "output_type": "stream",
     "text": [
      "full_mention:  european union\n",
      "full_mention Matched Value:  None 0.0\n"
     ]
    },
    {
     "name": "stderr",
     "output_type": "stream",
     "text": [
      "\r",
      "  2%|▏         | 15/891 [00:14<07:21,  1.98it/s]"
     ]
    },
    {
     "name": "stdout",
     "output_type": "stream",
     "text": [
      "full_mention:  franz fischler\n",
      "full_mention Matched Value:  None 0.0\n"
     ]
    },
    {
     "name": "stderr",
     "output_type": "stream",
     "text": [
      "\r",
      "  2%|▏         | 16/891 [00:14<06:13,  2.34it/s]"
     ]
    },
    {
     "name": "stdout",
     "output_type": "stream",
     "text": [
      "full_mention:  franz fischler\n",
      "full_mention Matched Value:  None 0.0\n"
     ]
    },
    {
     "name": "stderr",
     "output_type": "stream",
     "text": [
      "\r",
      "  2%|▏         | 17/891 [00:16<09:32,  1.53it/s]"
     ]
    },
    {
     "name": "stdout",
     "output_type": "stream",
     "text": [
      "full_mention:  britain\n",
      "full_mention Matched Value:  britain 1.0\n"
     ]
    },
    {
     "name": "stderr",
     "output_type": "stream",
     "text": [
      "\r",
      "  2%|▏         | 18/891 [00:17<11:51,  1.23it/s]"
     ]
    },
    {
     "name": "stdout",
     "output_type": "stream",
     "text": [
      "full_mention:  france\n",
      "full_mention Matched Value:  france 1.0\n"
     ]
    },
    {
     "name": "stderr",
     "output_type": "stream",
     "text": [
      "\r",
      "  2%|▏         | 19/891 [00:18<13:31,  1.07it/s]"
     ]
    },
    {
     "name": "stdout",
     "output_type": "stream",
     "text": [
      "full_mention:  bse\n",
      "full_mention Matched Value:  bse 1.0\n"
     ]
    },
    {
     "name": "stderr",
     "output_type": "stream",
     "text": [
      "\r",
      "  2%|▏         | 20/891 [00:19<14:45,  1.02s/it]"
     ]
    },
    {
     "name": "stdout",
     "output_type": "stream",
     "text": [
      "full_mention:  spanish\n",
      "full_mention Matched Value:  spanish 1.0\n"
     ]
    },
    {
     "name": "stderr",
     "output_type": "stream",
     "text": [
      "\r",
      "  2%|▏         | 21/891 [00:20<11:25,  1.27it/s]"
     ]
    },
    {
     "name": "stdout",
     "output_type": "stream",
     "text": [
      "full_mention:  loyola de palacio\n",
      "full_mention Matched Value:  None 0.0\n"
     ]
    },
    {
     "name": "stderr",
     "output_type": "stream",
     "text": [
      "\r",
      "  2%|▏         | 22/891 [00:20<09:04,  1.60it/s]"
     ]
    },
    {
     "name": "stdout",
     "output_type": "stream",
     "text": [
      "full_mention:  loyola de palacio\n",
      "full_mention Matched Value:  None 0.0\n"
     ]
    },
    {
     "name": "stderr",
     "output_type": "stream",
     "text": [
      "\r",
      "  3%|▎         | 23/891 [00:20<07:27,  1.94it/s]"
     ]
    },
    {
     "name": "stdout",
     "output_type": "stream",
     "text": [
      "full_mention:  loyola de palacio\n",
      "full_mention Matched Value:  None 0.0\n"
     ]
    },
    {
     "name": "stderr",
     "output_type": "stream",
     "text": [
      "\r",
      "  3%|▎         | 24/891 [00:21<10:22,  1.39it/s]"
     ]
    },
    {
     "name": "stdout",
     "output_type": "stream",
     "text": [
      "full_mention:  france\n",
      "full_mention Matched Value:  france 1.0\n"
     ]
    },
    {
     "name": "stderr",
     "output_type": "stream",
     "text": [
      "\r",
      "  3%|▎         | 25/891 [00:22<12:27,  1.16it/s]"
     ]
    },
    {
     "name": "stdout",
     "output_type": "stream",
     "text": [
      "full_mention:  britain\n",
      "full_mention Matched Value:  britain 1.0\n"
     ]
    },
    {
     "name": "stderr",
     "output_type": "stream",
     "text": [
      "\r",
      "  3%|▎         | 26/891 [00:24<13:51,  1.04it/s]"
     ]
    },
    {
     "name": "stdout",
     "output_type": "stream",
     "text": [
      "full_mention:  bse\n",
      "full_mention Matched Value:  bse 1.0\n"
     ]
    },
    {
     "name": "stderr",
     "output_type": "stream",
     "text": [
      "\r",
      "  3%|▎         | 27/891 [00:25<14:46,  1.03s/it]"
     ]
    },
    {
     "name": "stdout",
     "output_type": "stream",
     "text": [
      "full_mention:  british\n",
      "full_mention Matched Value:  british 1.0\n"
     ]
    },
    {
     "name": "stderr",
     "output_type": "stream",
     "text": [
      "\r",
      "  3%|▎         | 28/891 [00:26<15:24,  1.07s/it]"
     ]
    },
    {
     "name": "stdout",
     "output_type": "stream",
     "text": [
      "full_mention:  german\n",
      "full_mention Matched Value:  german 1.0\n"
     ]
    },
    {
     "name": "stderr",
     "output_type": "stream",
     "text": [
      "\r",
      "  3%|▎         | 29/891 [00:27<15:54,  1.11s/it]"
     ]
    },
    {
     "name": "stdout",
     "output_type": "stream",
     "text": [
      "full_mention:  british\n",
      "full_mention Matched Value:  british 1.0\n"
     ]
    },
    {
     "name": "stderr",
     "output_type": "stream",
     "text": [
      "\r",
      "  3%|▎         | 30/891 [00:28<16:12,  1.13s/it]"
     ]
    },
    {
     "name": "stdout",
     "output_type": "stream",
     "text": [
      "full_mention:  europe\n",
      "full_mention Matched Value:  europe 1.0\n"
     ]
    },
    {
     "name": "stderr",
     "output_type": "stream",
     "text": [
      "\r",
      "  3%|▎         | 31/891 [00:30<16:27,  1.15s/it]"
     ]
    },
    {
     "name": "stdout",
     "output_type": "stream",
     "text": [
      "full_mention:  bonn\n",
      "full_mention Matched Value:  bonn 1.0\n"
     ]
    },
    {
     "name": "stderr",
     "output_type": "stream",
     "text": [
      "\r",
      "  4%|▎         | 32/891 [00:31<16:39,  1.16s/it]"
     ]
    },
    {
     "name": "stdout",
     "output_type": "stream",
     "text": [
      "full_mention:  british\n",
      "full_mention Matched Value:  british 1.0\n"
     ]
    },
    {
     "name": "stderr",
     "output_type": "stream",
     "text": [
      "\r",
      "  4%|▎         | 33/891 [00:32<16:49,  1.18s/it]"
     ]
    },
    {
     "name": "stdout",
     "output_type": "stream",
     "text": [
      "full_mention:  germany\n",
      "full_mention Matched Value:  germany 1.0\n"
     ]
    },
    {
     "name": "stderr",
     "output_type": "stream",
     "text": [
      "\r",
      "  4%|▍         | 34/891 [00:33<16:49,  1.18s/it]"
     ]
    },
    {
     "name": "stdout",
     "output_type": "stream",
     "text": [
      "full_mention:  britain\n",
      "full_mention Matched Value:  britain 1.0\n"
     ]
    },
    {
     "name": "stderr",
     "output_type": "stream",
     "text": [
      "\r",
      "  4%|▍         | 35/891 [00:34<16:57,  1.19s/it]"
     ]
    },
    {
     "name": "stdout",
     "output_type": "stream",
     "text": [
      "full_mention:  british\n",
      "full_mention Matched Value:  british 1.0\n"
     ]
    },
    {
     "name": "stderr",
     "output_type": "stream",
     "text": [
      "\r",
      "  4%|▍         | 36/891 [00:36<16:56,  1.19s/it]"
     ]
    },
    {
     "name": "stdout",
     "output_type": "stream",
     "text": [
      "full_mention:  hendrix\n",
      "full_mention Matched Value:  hendrix 1.0\n"
     ]
    },
    {
     "name": "stderr",
     "output_type": "stream",
     "text": [
      "\r",
      "  4%|▍         | 37/891 [00:37<16:56,  1.19s/it]"
     ]
    },
    {
     "name": "stdout",
     "output_type": "stream",
     "text": [
      "full_mention:  london\n",
      "full_mention Matched Value:  london 1.0\n"
     ]
    },
    {
     "name": "stderr",
     "output_type": "stream",
     "text": [
      "\r",
      "  4%|▍         | 38/891 [00:37<12:51,  1.11it/s]"
     ]
    },
    {
     "name": "stdout",
     "output_type": "stream",
     "text": [
      "full_mention:  u.s.\n",
      "full_mention Matched Value:  None 0.0\n"
     ]
    },
    {
     "name": "stderr",
     "output_type": "stream",
     "text": [
      "\r",
      "  4%|▍         | 39/891 [00:37<10:05,  1.41it/s]"
     ]
    },
    {
     "name": "stdout",
     "output_type": "stream",
     "text": [
      "full_mention:  jimi hendrix\n",
      "full_mention Matched Value:  None 0.0\n"
     ]
    },
    {
     "name": "stderr",
     "output_type": "stream",
     "text": [
      "\r",
      "  4%|▍         | 40/891 [00:37<08:04,  1.76it/s]"
     ]
    },
    {
     "name": "stdout",
     "output_type": "stream",
     "text": [
      "full_mention:  jimi hendrix\n",
      "full_mention Matched Value:  None 0.0\n"
     ]
    },
    {
     "name": "stderr",
     "output_type": "stream",
     "text": [
      "\r",
      "  5%|▍         | 41/891 [00:39<10:46,  1.31it/s]"
     ]
    },
    {
     "name": "stdout",
     "output_type": "stream",
     "text": [
      "full_mention:  hendrix\n",
      "full_mention Matched Value:  hendrix 1.0\n"
     ]
    },
    {
     "name": "stderr",
     "output_type": "stream",
     "text": [
      "\r",
      "  5%|▍         | 42/891 [00:40<12:38,  1.12it/s]"
     ]
    },
    {
     "name": "stdout",
     "output_type": "stream",
     "text": [
      "full_mention:  london\n",
      "full_mention Matched Value:  london 1.0\n"
     ]
    },
    {
     "name": "stderr",
     "output_type": "stream",
     "text": [
      "\r",
      "  5%|▍         | 43/891 [00:41<13:57,  1.01it/s]"
     ]
    },
    {
     "name": "stdout",
     "output_type": "stream",
     "text": [
      "full_mention:  english\n",
      "full_mention Matched Value:  english 1.0\n"
     ]
    },
    {
     "name": "stderr",
     "output_type": "stream",
     "text": [
      "\r",
      "  5%|▍         | 44/891 [00:42<14:48,  1.05s/it]"
     ]
    },
    {
     "name": "stdout",
     "output_type": "stream",
     "text": [
      "full_mention:  nottingham\n",
      "full_mention Matched Value:  nottingham 1.0\n"
     ]
    },
    {
     "name": "stderr",
     "output_type": "stream",
     "text": [
      "\r",
      "  5%|▌         | 45/891 [00:43<15:26,  1.10s/it]"
     ]
    },
    {
     "name": "stdout",
     "output_type": "stream",
     "text": [
      "full_mention:  hendrix\n",
      "full_mention Matched Value:  hendrix 1.0\n"
     ]
    },
    {
     "name": "stderr",
     "output_type": "stream",
     "text": [
      "\r",
      "  5%|▌         | 46/891 [00:45<15:50,  1.13s/it]"
     ]
    },
    {
     "name": "stdout",
     "output_type": "stream",
     "text": [
      "full_mention:  hendrix\n",
      "full_mention Matched Value:  hendrix 1.0\n"
     ]
    },
    {
     "name": "stderr",
     "output_type": "stream",
     "text": [
      "\r",
      "  5%|▌         | 47/891 [00:46<16:08,  1.15s/it]"
     ]
    },
    {
     "name": "stdout",
     "output_type": "stream",
     "text": [
      "full_mention:  australian\n",
      "full_mention Matched Value:  australian 1.0\n"
     ]
    },
    {
     "name": "stderr",
     "output_type": "stream",
     "text": [
      "\r",
      "  5%|▌         | 48/891 [00:47<16:23,  1.17s/it]"
     ]
    },
    {
     "name": "stdout",
     "output_type": "stream",
     "text": [
      "full_mention:  china\n",
      "full_mention Matched Value:  china 1.0\n"
     ]
    },
    {
     "name": "stderr",
     "output_type": "stream",
     "text": [
      "\r",
      "  5%|▌         | 49/891 [00:48<16:26,  1.17s/it]"
     ]
    },
    {
     "name": "stdout",
     "output_type": "stream",
     "text": [
      "full_mention:  taiwan\n",
      "full_mention Matched Value:  taiwan 1.0\n"
     ]
    },
    {
     "name": "stderr",
     "output_type": "stream",
     "text": [
      "\r",
      "  6%|▌         | 50/891 [00:49<16:34,  1.18s/it]"
     ]
    },
    {
     "name": "stdout",
     "output_type": "stream",
     "text": [
      "full_mention:  beijing\n",
      "full_mention Matched Value:  beijing 1.0\n"
     ]
    },
    {
     "name": "stderr",
     "output_type": "stream",
     "text": [
      "\r",
      "  6%|▌         | 51/891 [00:51<16:38,  1.19s/it]"
     ]
    },
    {
     "name": "stdout",
     "output_type": "stream",
     "text": [
      "full_mention:  china\n",
      "full_mention Matched Value:  china 1.0\n"
     ]
    },
    {
     "name": "stderr",
     "output_type": "stream",
     "text": [
      "\r",
      "  6%|▌         | 52/891 [00:52<16:38,  1.19s/it]"
     ]
    },
    {
     "name": "stdout",
     "output_type": "stream",
     "text": [
      "full_mention:  taipei\n",
      "full_mention Matched Value:  taipei 1.0\n"
     ]
    },
    {
     "name": "stderr",
     "output_type": "stream",
     "text": [
      "\r",
      "  6%|▌         | 53/891 [00:52<12:39,  1.10it/s]"
     ]
    },
    {
     "name": "stdout",
     "output_type": "stream",
     "text": [
      "full_mention:  taiwan strait\n",
      "full_mention Matched Value:  None 0.0\n"
     ]
    },
    {
     "name": "stderr",
     "output_type": "stream",
     "text": [
      "\r",
      "  6%|▌         | 54/891 [00:52<09:55,  1.41it/s]"
     ]
    },
    {
     "name": "stdout",
     "output_type": "stream",
     "text": [
      "full_mention:  taiwan strait\n",
      "full_mention Matched Value:  None 0.0\n"
     ]
    },
    {
     "name": "stderr",
     "output_type": "stream",
     "text": [
      "\r",
      "  6%|▌         | 55/891 [00:54<11:58,  1.16it/s]"
     ]
    },
    {
     "name": "stdout",
     "output_type": "stream",
     "text": [
      "full_mention:  ukraine\n",
      "full_mention Matched Value:  ukraine 1.0\n"
     ]
    },
    {
     "name": "stderr",
     "output_type": "stream",
     "text": [
      "\r",
      "  6%|▋         | 56/891 [00:55<13:24,  1.04it/s]"
     ]
    },
    {
     "name": "stdout",
     "output_type": "stream",
     "text": [
      "full_mention:  taiwanese\n",
      "full_mention Matched Value:  taiwanese 1.0\n"
     ]
    },
    {
     "name": "stderr",
     "output_type": "stream",
     "text": [
      "\r",
      "  6%|▋         | 57/891 [00:55<10:24,  1.34it/s]"
     ]
    },
    {
     "name": "stdout",
     "output_type": "stream",
     "text": [
      "full_mention:  lien chan\n",
      "full_mention Matched Value:  None 0.0\n"
     ]
    },
    {
     "name": "stderr",
     "output_type": "stream",
     "text": [
      "\r",
      "  7%|▋         | 58/891 [00:55<08:17,  1.67it/s]"
     ]
    },
    {
     "name": "stdout",
     "output_type": "stream",
     "text": [
      "full_mention:  lien chan\n",
      "full_mention Matched Value:  None 0.0\n"
     ]
    },
    {
     "name": "stderr",
     "output_type": "stream",
     "text": [
      "\r",
      "  7%|▋         | 59/891 [00:56<10:44,  1.29it/s]"
     ]
    },
    {
     "name": "stdout",
     "output_type": "stream",
     "text": [
      "full_mention:  beijing\n",
      "full_mention Matched Value:  beijing 1.0\n"
     ]
    },
    {
     "name": "stderr",
     "output_type": "stream",
     "text": [
      "\r",
      "  7%|▋         | 60/891 [00:58<12:27,  1.11it/s]"
     ]
    },
    {
     "name": "stdout",
     "output_type": "stream",
     "text": [
      "full_mention:  chinese\n",
      "full_mention Matched Value:  chinese 1.0\n"
     ]
    },
    {
     "name": "stderr",
     "output_type": "stream",
     "text": [
      "\r",
      "  7%|▋         | 61/891 [00:59<13:39,  1.01it/s]"
     ]
    },
    {
     "name": "stdout",
     "output_type": "stream",
     "text": [
      "full_mention:  taiwan\n",
      "full_mention Matched Value:  taiwan 1.0\n"
     ]
    },
    {
     "name": "stderr",
     "output_type": "stream",
     "text": [
      "\r",
      "  7%|▋         | 62/891 [00:59<10:35,  1.31it/s]"
     ]
    },
    {
     "name": "stdout",
     "output_type": "stream",
     "text": [
      "full_mention:  foreign ministry\n",
      "full_mention Matched Value:  None 0.0\n"
     ]
    },
    {
     "name": "stderr",
     "output_type": "stream",
     "text": [
      "\r",
      "  7%|▋         | 63/891 [00:59<08:25,  1.64it/s]"
     ]
    },
    {
     "name": "stdout",
     "output_type": "stream",
     "text": [
      "full_mention:  foreign ministry\n",
      "full_mention Matched Value:  None 0.0\n"
     ]
    },
    {
     "name": "stderr",
     "output_type": "stream",
     "text": [
      "\r",
      "  7%|▋         | 64/891 [01:01<10:48,  1.27it/s]"
     ]
    },
    {
     "name": "stdout",
     "output_type": "stream",
     "text": [
      "full_mention:  china\n",
      "full_mention Matched Value:  china 1.0\n"
     ]
    },
    {
     "name": "stderr",
     "output_type": "stream",
     "text": [
      "\r",
      "  7%|▋         | 65/891 [01:02<12:29,  1.10it/s]"
     ]
    },
    {
     "name": "stdout",
     "output_type": "stream",
     "text": [
      "full_mention:  taipei\n",
      "full_mention Matched Value:  taipei 1.0\n"
     ]
    },
    {
     "name": "stderr",
     "output_type": "stream",
     "text": [
      "\r",
      "  7%|▋         | 66/891 [01:03<13:42,  1.00it/s]"
     ]
    },
    {
     "name": "stdout",
     "output_type": "stream",
     "text": [
      "full_mention:  taiwan\n",
      "full_mention Matched Value:  taiwan 1.0\n"
     ]
    },
    {
     "name": "stderr",
     "output_type": "stream",
     "text": [
      "\r",
      "  8%|▊         | 67/891 [01:03<10:37,  1.29it/s]"
     ]
    },
    {
     "name": "stdout",
     "output_type": "stream",
     "text": [
      "full_mention:  reuters television\n",
      "full_mention Matched Value:  None 0.0\n"
     ]
    },
    {
     "name": "stderr",
     "output_type": "stream",
     "text": [
      "\r",
      "  8%|▊         | 68/891 [01:03<08:27,  1.62it/s]"
     ]
    },
    {
     "name": "stdout",
     "output_type": "stream",
     "text": [
      "full_mention:  reuters television\n",
      "full_mention Matched Value:  None 0.0\n"
     ]
    },
    {
     "name": "stderr",
     "output_type": "stream",
     "text": [
      "\r",
      "  8%|▊         | 69/891 [01:05<10:52,  1.26it/s]"
     ]
    },
    {
     "name": "stdout",
     "output_type": "stream",
     "text": [
      "full_mention:  taiwan\n",
      "full_mention Matched Value:  taiwan 1.0\n"
     ]
    },
    {
     "name": "stderr",
     "output_type": "stream",
     "text": [
      "\r",
      "  8%|▊         | 70/891 [01:06<12:29,  1.10it/s]"
     ]
    },
    {
     "name": "stdout",
     "output_type": "stream",
     "text": [
      "full_mention:  beijing\n",
      "full_mention Matched Value:  beijing 1.0\n"
     ]
    },
    {
     "name": "stderr",
     "output_type": "stream",
     "text": [
      "\r",
      "  8%|▊         | 71/891 [01:07<13:36,  1.00it/s]"
     ]
    },
    {
     "name": "stdout",
     "output_type": "stream",
     "text": [
      "full_mention:  china\n",
      "full_mention Matched Value:  china 1.0\n"
     ]
    },
    {
     "name": "stderr",
     "output_type": "stream",
     "text": [
      "\r",
      "  8%|▊         | 72/891 [01:08<14:24,  1.06s/it]"
     ]
    },
    {
     "name": "stdout",
     "output_type": "stream",
     "text": [
      "full_mention:  taipei\n",
      "full_mention Matched Value:  taipei 1.0\n"
     ]
    },
    {
     "name": "stderr",
     "output_type": "stream",
     "text": [
      "\r",
      "  8%|▊         | 73/891 [01:09<14:58,  1.10s/it]"
     ]
    },
    {
     "name": "stdout",
     "output_type": "stream",
     "text": [
      "full_mention:  ukraine\n",
      "full_mention Matched Value:  ukraine 1.0\n"
     ]
    },
    {
     "name": "stderr",
     "output_type": "stream",
     "text": [
      "\r",
      "  8%|▊         | 74/891 [01:11<15:19,  1.13s/it]"
     ]
    },
    {
     "name": "stdout",
     "output_type": "stream",
     "text": [
      "full_mention:  taiwanese\n",
      "full_mention Matched Value:  taiwanese 1.0\n"
     ]
    },
    {
     "name": "stderr",
     "output_type": "stream",
     "text": [
      "\r",
      "  8%|▊         | 75/891 [01:12<15:37,  1.15s/it]"
     ]
    },
    {
     "name": "stdout",
     "output_type": "stream",
     "text": [
      "full_mention:  china\n",
      "full_mention Matched Value:  china 1.0\n"
     ]
    },
    {
     "name": "stderr",
     "output_type": "stream",
     "text": [
      "\r",
      "  9%|▊         | 76/891 [01:13<15:45,  1.16s/it]"
     ]
    },
    {
     "name": "stdout",
     "output_type": "stream",
     "text": [
      "full_mention:  taiwan\n",
      "full_mention Matched Value:  taiwan 1.0\n"
     ]
    },
    {
     "name": "stderr",
     "output_type": "stream",
     "text": [
      "\r",
      "  9%|▊         | 77/891 [01:14<15:49,  1.17s/it]"
     ]
    },
    {
     "name": "stdout",
     "output_type": "stream",
     "text": [
      "full_mention:  beijing\n",
      "full_mention Matched Value:  beijing 1.0\n"
     ]
    },
    {
     "name": "stderr",
     "output_type": "stream",
     "text": [
      "\r",
      "  9%|▉         | 78/891 [01:15<15:50,  1.17s/it]"
     ]
    },
    {
     "name": "stdout",
     "output_type": "stream",
     "text": [
      "full_mention:  china\n",
      "full_mention Matched Value:  china 1.0\n"
     ]
    },
    {
     "name": "stderr",
     "output_type": "stream",
     "text": [
      "\r",
      "  9%|▉         | 79/891 [01:17<15:53,  1.17s/it]"
     ]
    },
    {
     "name": "stdout",
     "output_type": "stream",
     "text": [
      "full_mention:  taiwan\n",
      "full_mention Matched Value:  taiwan 1.0\n"
     ]
    },
    {
     "name": "stderr",
     "output_type": "stream",
     "text": [
      "\r",
      "  9%|▉         | 80/891 [01:18<15:53,  1.18s/it]"
     ]
    },
    {
     "name": "stdout",
     "output_type": "stream",
     "text": [
      "full_mention:  xinhua\n",
      "full_mention Matched Value:  beijinger 0.6833\n"
     ]
    },
    {
     "name": "stderr",
     "output_type": "stream",
     "text": [
      "\r",
      "  9%|▉         | 81/891 [01:18<12:08,  1.11it/s]"
     ]
    },
    {
     "name": "stdout",
     "output_type": "stream",
     "text": [
      "full_mention:  association for relations across the taiwan straits\n",
      "full_mention Matched Value:  None 0.0\n"
     ]
    },
    {
     "name": "stderr",
     "output_type": "stream",
     "text": [
      "\r",
      "  9%|▉         | 82/891 [01:18<09:32,  1.41it/s]"
     ]
    },
    {
     "name": "stdout",
     "output_type": "stream",
     "text": [
      "full_mention:  association for relations across the taiwan straits\n",
      "full_mention Matched Value:  None 0.0\n"
     ]
    },
    {
     "name": "stderr",
     "output_type": "stream",
     "text": [
      "\r",
      "  9%|▉         | 83/891 [01:18<07:42,  1.75it/s]"
     ]
    },
    {
     "name": "stdout",
     "output_type": "stream",
     "text": [
      "full_mention:  association for relations across the taiwan straits\n",
      "full_mention Matched Value:  None 0.0\n"
     ]
    },
    {
     "name": "stderr",
     "output_type": "stream",
     "text": [
      "\r",
      "  9%|▉         | 84/891 [01:19<06:24,  2.10it/s]"
     ]
    },
    {
     "name": "stdout",
     "output_type": "stream",
     "text": [
      "full_mention:  association for relations across the taiwan straits\n",
      "full_mention Matched Value:  None 0.0\n"
     ]
    },
    {
     "name": "stderr",
     "output_type": "stream",
     "text": [
      "\r",
      " 10%|▉         | 85/891 [01:19<05:28,  2.45it/s]"
     ]
    },
    {
     "name": "stdout",
     "output_type": "stream",
     "text": [
      "full_mention:  association for relations across the taiwan straits\n",
      "full_mention Matched Value:  None 0.0\n"
     ]
    },
    {
     "name": "stderr",
     "output_type": "stream",
     "text": [
      "\r",
      " 10%|▉         | 86/891 [01:19<04:52,  2.76it/s]"
     ]
    },
    {
     "name": "stdout",
     "output_type": "stream",
     "text": [
      "full_mention:  association for relations across the taiwan straits\n",
      "full_mention Matched Value:  None 0.0\n"
     ]
    },
    {
     "name": "stderr",
     "output_type": "stream",
     "text": [
      "\r",
      " 10%|▉         | 87/891 [01:20<04:24,  3.03it/s]"
     ]
    },
    {
     "name": "stdout",
     "output_type": "stream",
     "text": [
      "full_mention:  association for relations across the taiwan straits\n",
      "full_mention Matched Value:  None 0.0\n"
     ]
    },
    {
     "name": "stderr",
     "output_type": "stream",
     "text": [
      "\r",
      " 10%|▉         | 88/891 [01:21<07:49,  1.71it/s]"
     ]
    },
    {
     "name": "stdout",
     "output_type": "stream",
     "text": [
      "full_mention:  german\n",
      "full_mention Matched Value:  german 1.0\n"
     ]
    },
    {
     "name": "stderr",
     "output_type": "stream",
     "text": [
      "\r",
      " 10%|▉         | 89/891 [01:22<10:17,  1.30it/s]"
     ]
    },
    {
     "name": "stdout",
     "output_type": "stream",
     "text": [
      "full_mention:  frankfurt\n",
      "full_mention Matched Value:  frankfurt 1.0\n"
     ]
    },
    {
     "name": "stderr",
     "output_type": "stream",
     "text": [
      "\r",
      " 10%|█         | 90/891 [01:23<11:54,  1.12it/s]"
     ]
    },
    {
     "name": "stdout",
     "output_type": "stream",
     "text": [
      "full_mention:  german\n",
      "full_mention Matched Value:  german 1.0\n"
     ]
    },
    {
     "name": "stderr",
     "output_type": "stream",
     "text": [
      "\r",
      " 10%|█         | 91/891 [01:24<13:06,  1.02it/s]"
     ]
    },
    {
     "name": "stdout",
     "output_type": "stream",
     "text": [
      "full_mention:  germans\n",
      "full_mention Matched Value:  germans 1.0\n"
     ]
    },
    {
     "name": "stderr",
     "output_type": "stream",
     "text": [
      "\r",
      " 10%|█         | 92/891 [01:25<13:51,  1.04s/it]"
     ]
    },
    {
     "name": "stdout",
     "output_type": "stream",
     "text": [
      "full_mention:  german\n",
      "full_mention Matched Value:  german 1.0\n"
     ]
    },
    {
     "name": "stderr",
     "output_type": "stream",
     "text": [
      "\r",
      " 10%|█         | 93/891 [01:27<14:25,  1.09s/it]"
     ]
    },
    {
     "name": "stdout",
     "output_type": "stream",
     "text": [
      "full_mention:  german\n",
      "full_mention Matched Value:  german 1.0\n"
     ]
    },
    {
     "name": "stderr",
     "output_type": "stream",
     "text": [
      "\r",
      " 11%|█         | 94/891 [01:27<11:05,  1.20it/s]"
     ]
    },
    {
     "name": "stdout",
     "output_type": "stream",
     "text": [
      "full_mention:  volkswagen ag\n",
      "full_mention Matched Value:  None 0.0\n"
     ]
    },
    {
     "name": "stderr",
     "output_type": "stream",
     "text": [
      "\r",
      " 11%|█         | 95/891 [01:27<08:44,  1.52it/s]"
     ]
    },
    {
     "name": "stdout",
     "output_type": "stream",
     "text": [
      "full_mention:  volkswagen ag\n",
      "full_mention Matched Value:  None 0.0\n"
     ]
    },
    {
     "name": "stderr",
     "output_type": "stream",
     "text": [
      "\r",
      " 11%|█         | 96/891 [01:27<07:08,  1.86it/s]"
     ]
    },
    {
     "name": "stdout",
     "output_type": "stream",
     "text": [
      "full_mention:  opel ag\n",
      "full_mention Matched Value:  None 0.0\n"
     ]
    },
    {
     "name": "stderr",
     "output_type": "stream",
     "text": [
      "\r",
      " 11%|█         | 97/891 [01:28<06:00,  2.20it/s]"
     ]
    },
    {
     "name": "stdout",
     "output_type": "stream",
     "text": [
      "full_mention:  opel ag\n",
      "full_mention Matched Value:  None 0.0\n"
     ]
    },
    {
     "name": "stderr",
     "output_type": "stream",
     "text": [
      "\r",
      " 11%|█         | 98/891 [01:28<05:11,  2.55it/s]"
     ]
    },
    {
     "name": "stdout",
     "output_type": "stream",
     "text": [
      "full_mention:  general motors\n",
      "full_mention Matched Value:  None 0.0\n"
     ]
    },
    {
     "name": "stderr",
     "output_type": "stream",
     "text": [
      "\r",
      " 11%|█         | 99/891 [01:28<04:36,  2.86it/s]"
     ]
    },
    {
     "name": "stdout",
     "output_type": "stream",
     "text": [
      "full_mention:  general motors\n",
      "full_mention Matched Value:  None 0.0\n"
     ]
    },
    {
     "name": "stderr",
     "output_type": "stream",
     "text": [
      "\r",
      " 11%|█         | 100/891 [01:29<07:51,  1.68it/s]"
     ]
    },
    {
     "name": "stdout",
     "output_type": "stream",
     "text": [
      "full_mention:  ford\n",
      "full_mention Matched Value:  ford 1.0\n"
     ]
    },
    {
     "name": "stderr",
     "output_type": "stream",
     "text": [
      "\r",
      " 11%|█▏        | 101/891 [01:30<10:12,  1.29it/s]"
     ]
    },
    {
     "name": "stdout",
     "output_type": "stream",
     "text": [
      "full_mention:  porsche\n",
      "full_mention Matched Value:  bmw 0.85439\n"
     ]
    },
    {
     "name": "stderr",
     "output_type": "stream",
     "text": [
      "\r",
      " 11%|█▏        | 102/891 [01:32<11:52,  1.11it/s]"
     ]
    },
    {
     "name": "stdout",
     "output_type": "stream",
     "text": [
      "full_mention:  porsche\n",
      "full_mention Matched Value:  bmw 0.85439\n"
     ]
    },
    {
     "name": "stderr",
     "output_type": "stream",
     "text": [
      "\r",
      " 12%|█▏        | 103/891 [01:33<12:57,  1.01it/s]"
     ]
    },
    {
     "name": "stdout",
     "output_type": "stream",
     "text": [
      "full_mention:  greek\n",
      "full_mention Matched Value:  greek 1.0\n"
     ]
    },
    {
     "name": "stderr",
     "output_type": "stream",
     "text": [
      "\r",
      " 12%|█▏        | 104/891 [01:34<13:47,  1.05s/it]"
     ]
    },
    {
     "name": "stdout",
     "output_type": "stream",
     "text": [
      "full_mention:  athens\n",
      "full_mention Matched Value:  athens 1.0\n"
     ]
    },
    {
     "name": "stderr",
     "output_type": "stream",
     "text": [
      "\r",
      " 12%|█▏        | 105/891 [01:35<14:16,  1.09s/it]"
     ]
    },
    {
     "name": "stdout",
     "output_type": "stream",
     "text": [
      "full_mention:  greek\n",
      "full_mention Matched Value:  greek 1.0\n"
     ]
    },
    {
     "name": "stderr",
     "output_type": "stream",
     "text": [
      "\r",
      " 12%|█▏        | 106/891 [01:36<10:55,  1.20it/s]"
     ]
    },
    {
     "name": "stdout",
     "output_type": "stream",
     "text": [
      "full_mention:  costas simitis\n",
      "full_mention Matched Value:  None 0.0\n"
     ]
    },
    {
     "name": "stderr",
     "output_type": "stream",
     "text": [
      "\r",
      " 12%|█▏        | 107/891 [01:36<08:39,  1.51it/s]"
     ]
    },
    {
     "name": "stdout",
     "output_type": "stream",
     "text": [
      "full_mention:  costas simitis\n",
      "full_mention Matched Value:  None 0.0\n"
     ]
    },
    {
     "name": "stderr",
     "output_type": "stream",
     "text": [
      "\r",
      " 12%|█▏        | 108/891 [01:36<07:00,  1.86it/s]"
     ]
    },
    {
     "name": "stdout",
     "output_type": "stream",
     "text": [
      "full_mention:  costas skandalidis\n",
      "full_mention Matched Value:  None 0.0\n"
     ]
    },
    {
     "name": "stderr",
     "output_type": "stream",
     "text": [
      "\r",
      " 12%|█▏        | 109/891 [01:36<05:54,  2.21it/s]"
     ]
    },
    {
     "name": "stdout",
     "output_type": "stream",
     "text": [
      "full_mention:  costas skandalidis\n",
      "full_mention Matched Value:  None 0.0\n"
     ]
    },
    {
     "name": "stderr",
     "output_type": "stream",
     "text": [
      "\r",
      " 12%|█▏        | 110/891 [01:37<05:07,  2.54it/s]"
     ]
    },
    {
     "name": "stdout",
     "output_type": "stream",
     "text": [
      "full_mention:  costas simitis\n",
      "full_mention Matched Value:  None 0.0\n"
     ]
    },
    {
     "name": "stderr",
     "output_type": "stream",
     "text": [
      "\r",
      " 12%|█▏        | 111/891 [01:37<04:33,  2.85it/s]"
     ]
    },
    {
     "name": "stdout",
     "output_type": "stream",
     "text": [
      "full_mention:  costas simitis\n",
      "full_mention Matched Value:  None 0.0\n"
     ]
    },
    {
     "name": "stderr",
     "output_type": "stream",
     "text": [
      "\r",
      " 13%|█▎        | 112/891 [01:38<07:48,  1.66it/s]"
     ]
    },
    {
     "name": "stdout",
     "output_type": "stream",
     "text": [
      "full_mention:  london\n",
      "full_mention Matched Value:  london 1.0\n"
     ]
    },
    {
     "name": "stderr",
     "output_type": "stream",
     "text": [
      "\r",
      " 13%|█▎        | 113/891 [01:38<06:24,  2.02it/s]"
     ]
    },
    {
     "name": "stdout",
     "output_type": "stream",
     "text": [
      "full_mention:  bayerische vereinsbank\n",
      "full_mention Matched Value:  None 0.0\n"
     ]
    },
    {
     "name": "stderr",
     "output_type": "stream",
     "text": [
      "\r",
      " 13%|█▎        | 114/891 [01:38<05:29,  2.36it/s]"
     ]
    },
    {
     "name": "stdout",
     "output_type": "stream",
     "text": [
      "full_mention:  bayerische vereinsbank\n",
      "full_mention Matched Value:  None 0.0\n"
     ]
    },
    {
     "name": "stderr",
     "output_type": "stream",
     "text": [
      "\r",
      " 13%|█▎        | 115/891 [01:40<08:23,  1.54it/s]"
     ]
    },
    {
     "name": "stdout",
     "output_type": "stream",
     "text": [
      "full_mention:  german\n",
      "full_mention Matched Value:  german 1.0\n"
     ]
    },
    {
     "name": "stderr",
     "output_type": "stream",
     "text": [
      "\r",
      " 13%|█▎        | 116/891 [01:40<06:50,  1.89it/s]"
     ]
    },
    {
     "name": "stdout",
     "output_type": "stream",
     "text": [
      "full_mention:  bayerische vereinsbank\n",
      "full_mention Matched Value:  None 0.0\n"
     ]
    },
    {
     "name": "stderr",
     "output_type": "stream",
     "text": [
      "\r",
      " 13%|█▎        | 117/891 [01:40<05:44,  2.25it/s]"
     ]
    },
    {
     "name": "stdout",
     "output_type": "stream",
     "text": [
      "full_mention:  bayerische vereinsbank\n",
      "full_mention Matched Value:  None 0.0\n"
     ]
    },
    {
     "name": "stderr",
     "output_type": "stream",
     "text": [
      "\r",
      " 13%|█▎        | 118/891 [01:41<08:38,  1.49it/s]"
     ]
    },
    {
     "name": "stdout",
     "output_type": "stream",
     "text": [
      "full_mention:  london\n",
      "full_mention Matched Value:  london 1.0\n"
     ]
    },
    {
     "name": "stderr",
     "output_type": "stream",
     "text": [
      "\r",
      " 13%|█▎        | 119/891 [01:43<10:37,  1.21it/s]"
     ]
    },
    {
     "name": "stdout",
     "output_type": "stream",
     "text": [
      "full_mention:  swedish\n",
      "full_mention Matched Value:  swedish 1.0\n"
     ]
    },
    {
     "name": "stderr",
     "output_type": "stream",
     "text": [
      "\r",
      " 13%|█▎        | 120/891 [01:44<12:02,  1.07it/s]"
     ]
    },
    {
     "name": "stdout",
     "output_type": "stream",
     "text": [
      "full_mention:  london\n",
      "full_mention Matched Value:  london 1.0\n"
     ]
    },
    {
     "name": "stderr",
     "output_type": "stream",
     "text": [
      "\r",
      " 14%|█▎        | 121/891 [01:45<12:57,  1.01s/it]"
     ]
    },
    {
     "name": "stdout",
     "output_type": "stream",
     "text": [
      "full_mention:  english\n",
      "full_mention Matched Value:  english 1.0\n"
     ]
    },
    {
     "name": "stderr",
     "output_type": "stream",
     "text": [
      "\r",
      " 14%|█▎        | 122/891 [01:46<13:38,  1.06s/it]"
     ]
    },
    {
     "name": "stdout",
     "output_type": "stream",
     "text": [
      "full_mention:  sweden\n",
      "full_mention Matched Value:  sweden 1.0\n"
     ]
    },
    {
     "name": "stderr",
     "output_type": "stream",
     "text": [
      "\r",
      " 14%|█▍        | 123/891 [01:47<14:08,  1.10s/it]"
     ]
    },
    {
     "name": "stdout",
     "output_type": "stream",
     "text": [
      "full_mention:  syria\n",
      "full_mention Matched Value:  syria 1.0\n"
     ]
    },
    {
     "name": "stderr",
     "output_type": "stream",
     "text": [
      "\r",
      " 14%|█▍        | 124/891 [01:48<14:26,  1.13s/it]"
     ]
    },
    {
     "name": "stdout",
     "output_type": "stream",
     "text": [
      "full_mention:  tartous\n",
      "full_mention Matched Value:  dimashq 0.76547\n"
     ]
    },
    {
     "name": "stderr",
     "output_type": "stream",
     "text": [
      "\r",
      " 14%|█▍        | 125/891 [01:50<14:35,  1.14s/it]"
     ]
    },
    {
     "name": "stdout",
     "output_type": "stream",
     "text": [
      "full_mention:  israel\n",
      "full_mention Matched Value:  israel 1.0\n"
     ]
    },
    {
     "name": "stderr",
     "output_type": "stream",
     "text": [
      "\r",
      " 14%|█▍        | 126/891 [01:51<14:43,  1.15s/it]"
     ]
    },
    {
     "name": "stdout",
     "output_type": "stream",
     "text": [
      "full_mention:  syria\n",
      "full_mention Matched Value:  syria 1.0\n"
     ]
    },
    {
     "name": "stderr",
     "output_type": "stream",
     "text": [
      "\r",
      " 14%|█▍        | 127/891 [01:52<14:52,  1.17s/it]"
     ]
    },
    {
     "name": "stdout",
     "output_type": "stream",
     "text": [
      "full_mention:  jerusalem\n",
      "full_mention Matched Value:  jerusalem 1.0\n"
     ]
    },
    {
     "name": "stderr",
     "output_type": "stream",
     "text": [
      "\r",
      " 14%|█▍        | 128/891 [01:53<14:55,  1.17s/it]"
     ]
    },
    {
     "name": "stdout",
     "output_type": "stream",
     "text": [
      "full_mention:  israel\n",
      "full_mention Matched Value:  israel 1.0\n"
     ]
    },
    {
     "name": "stderr",
     "output_type": "stream",
     "text": [
      "\r",
      " 14%|█▍        | 129/891 [01:54<14:59,  1.18s/it]"
     ]
    },
    {
     "name": "stdout",
     "output_type": "stream",
     "text": [
      "full_mention:  syria\n",
      "full_mention Matched Value:  syria 1.0\n"
     ]
    },
    {
     "name": "stderr",
     "output_type": "stream",
     "text": [
      "\r",
      " 15%|█▍        | 130/891 [01:55<11:25,  1.11it/s]"
     ]
    },
    {
     "name": "stdout",
     "output_type": "stream",
     "text": [
      "full_mention:  itamar rabinovich\n",
      "full_mention Matched Value:  None 0.0\n"
     ]
    },
    {
     "name": "stderr",
     "output_type": "stream",
     "text": [
      "\r",
      " 15%|█▍        | 131/891 [01:55<08:54,  1.42it/s]"
     ]
    },
    {
     "name": "stdout",
     "output_type": "stream",
     "text": [
      "full_mention:  itamar rabinovich\n",
      "full_mention Matched Value:  None 0.0\n"
     ]
    },
    {
     "name": "stderr",
     "output_type": "stream",
     "text": [
      "\r",
      " 15%|█▍        | 132/891 [01:56<10:42,  1.18it/s]"
     ]
    },
    {
     "name": "stdout",
     "output_type": "stream",
     "text": [
      "full_mention:  israel\n",
      "full_mention Matched Value:  israel 1.0\n"
     ]
    },
    {
     "name": "stderr",
     "output_type": "stream",
     "text": [
      "\r",
      " 15%|█▍        | 133/891 [01:57<11:57,  1.06it/s]"
     ]
    },
    {
     "name": "stdout",
     "output_type": "stream",
     "text": [
      "full_mention:  washington\n",
      "full_mention Matched Value:  washington 1.0\n"
     ]
    },
    {
     "name": "stderr",
     "output_type": "stream",
     "text": [
      "\r",
      " 15%|█▌        | 134/891 [01:58<12:52,  1.02s/it]"
     ]
    },
    {
     "name": "stdout",
     "output_type": "stream",
     "text": [
      "full_mention:  syria\n",
      "full_mention Matched Value:  syria 1.0\n"
     ]
    },
    {
     "name": "stderr",
     "output_type": "stream",
     "text": [
      "\r",
      " 15%|█▌        | 135/891 [01:59<09:56,  1.27it/s]"
     ]
    },
    {
     "name": "stdout",
     "output_type": "stream",
     "text": [
      "full_mention:  israel radio\n",
      "full_mention Matched Value:  None 0.0\n"
     ]
    },
    {
     "name": "stderr",
     "output_type": "stream",
     "text": [
      "\r",
      " 15%|█▌        | 136/891 [01:59<07:53,  1.60it/s]"
     ]
    },
    {
     "name": "stdout",
     "output_type": "stream",
     "text": [
      "full_mention:  israel radio\n",
      "full_mention Matched Value:  None 0.0\n"
     ]
    },
    {
     "name": "stderr",
     "output_type": "stream",
     "text": [
      "\r",
      " 15%|█▌        | 137/891 [02:00<09:56,  1.26it/s]"
     ]
    },
    {
     "name": "stdout",
     "output_type": "stream",
     "text": [
      "full_mention:  damascus\n",
      "full_mention Matched Value:  damascus 1.0\n"
     ]
    },
    {
     "name": "stderr",
     "output_type": "stream",
     "text": [
      "\r",
      " 15%|█▌        | 138/891 [02:01<11:21,  1.10it/s]"
     ]
    },
    {
     "name": "stdout",
     "output_type": "stream",
     "text": [
      "full_mention:  rabinovich\n",
      "full_mention Matched Value:  varshava 0.65515\n"
     ]
    },
    {
     "name": "stderr",
     "output_type": "stream",
     "text": [
      "\r",
      " 16%|█▌        | 139/891 [02:02<08:53,  1.41it/s]"
     ]
    },
    {
     "name": "stdout",
     "output_type": "stream",
     "text": [
      "full_mention:  eliahu ben-elissar\n",
      "full_mention Matched Value:  None 0.0\n"
     ]
    },
    {
     "name": "stderr",
     "output_type": "stream",
     "text": [
      "\r",
      " 16%|█▌        | 140/891 [02:02<07:10,  1.75it/s]"
     ]
    },
    {
     "name": "stdout",
     "output_type": "stream",
     "text": [
      "full_mention:  eliahu ben-elissar\n",
      "full_mention Matched Value:  None 0.0\n"
     ]
    },
    {
     "name": "stderr",
     "output_type": "stream",
     "text": [
      "\r",
      " 16%|█▌        | 141/891 [02:03<09:28,  1.32it/s]"
     ]
    },
    {
     "name": "stdout",
     "output_type": "stream",
     "text": [
      "full_mention:  israeli\n",
      "full_mention Matched Value:  israeli 1.0\n"
     ]
    },
    {
     "name": "stderr",
     "output_type": "stream",
     "text": [
      "\r",
      " 16%|█▌        | 142/891 [02:04<11:07,  1.12it/s]"
     ]
    },
    {
     "name": "stdout",
     "output_type": "stream",
     "text": [
      "full_mention:  egypt\n",
      "full_mention Matched Value:  egypt 1.0\n"
     ]
    },
    {
     "name": "stderr",
     "output_type": "stream",
     "text": [
      "\r",
      " 16%|█▌        | 143/891 [02:05<12:10,  1.02it/s]"
     ]
    },
    {
     "name": "stdout",
     "output_type": "stream",
     "text": [
      "full_mention:  likud\n",
      "full_mention Matched Value:  shas 0.82822\n"
     ]
    },
    {
     "name": "stderr",
     "output_type": "stream",
     "text": [
      "\r",
      " 16%|█▌        | 144/891 [02:07<12:56,  1.04s/it]"
     ]
    },
    {
     "name": "stdout",
     "output_type": "stream",
     "text": [
      "full_mention:  israel\n",
      "full_mention Matched Value:  israel 1.0\n"
     ]
    },
    {
     "name": "stderr",
     "output_type": "stream",
     "text": [
      "\r",
      " 16%|█▋        | 145/891 [02:08<13:27,  1.08s/it]"
     ]
    },
    {
     "name": "stdout",
     "output_type": "stream",
     "text": [
      "full_mention:  syria\n",
      "full_mention Matched Value:  syria 1.0\n"
     ]
    },
    {
     "name": "stderr",
     "output_type": "stream",
     "text": [
      "\r",
      " 16%|█▋        | 146/891 [02:09<13:49,  1.11s/it]"
     ]
    },
    {
     "name": "stdout",
     "output_type": "stream",
     "text": [
      "full_mention:  washington\n",
      "full_mention Matched Value:  washington 1.0\n"
     ]
    },
    {
     "name": "stderr",
     "output_type": "stream",
     "text": [
      "\r",
      " 16%|█▋        | 147/891 [02:10<14:03,  1.13s/it]"
     ]
    },
    {
     "name": "stdout",
     "output_type": "stream",
     "text": [
      "full_mention:  damascus\n",
      "full_mention Matched Value:  damascus 1.0\n"
     ]
    },
    {
     "name": "stderr",
     "output_type": "stream",
     "text": [
      "\r",
      " 17%|█▋        | 148/891 [02:11<14:12,  1.15s/it]"
     ]
    },
    {
     "name": "stdout",
     "output_type": "stream",
     "text": [
      "full_mention:  syria\n",
      "full_mention Matched Value:  syria 1.0\n"
     ]
    },
    {
     "name": "stderr",
     "output_type": "stream",
     "text": [
      "\r",
      " 17%|█▋        | 149/891 [02:12<14:22,  1.16s/it]"
     ]
    },
    {
     "name": "stdout",
     "output_type": "stream",
     "text": [
      "full_mention:  israel\n",
      "full_mention Matched Value:  israel 1.0\n"
     ]
    },
    {
     "name": "stderr",
     "output_type": "stream",
     "text": [
      "\r",
      " 17%|█▋        | 150/891 [02:14<14:35,  1.18s/it]"
     ]
    },
    {
     "name": "stdout",
     "output_type": "stream",
     "text": [
      "full_mention:  israeli\n",
      "full_mention Matched Value:  israeli 1.0\n"
     ]
    },
    {
     "name": "stderr",
     "output_type": "stream",
     "text": [
      "\r",
      " 17%|█▋        | 151/891 [02:15<14:34,  1.18s/it]"
     ]
    },
    {
     "name": "stdout",
     "output_type": "stream",
     "text": [
      "full_mention:  damascus\n",
      "full_mention Matched Value:  damascus 1.0\n"
     ]
    },
    {
     "name": "stderr",
     "output_type": "stream",
     "text": [
      "\r",
      " 17%|█▋        | 152/891 [02:16<14:36,  1.19s/it]"
     ]
    },
    {
     "name": "stdout",
     "output_type": "stream",
     "text": [
      "full_mention:  israeli\n",
      "full_mention Matched Value:  israeli 1.0\n"
     ]
    },
    {
     "name": "stderr",
     "output_type": "stream",
     "text": [
      "\r",
      " 17%|█▋        | 153/891 [02:16<11:08,  1.10it/s]"
     ]
    },
    {
     "name": "stdout",
     "output_type": "stream",
     "text": [
      "full_mention:  david levy\n",
      "full_mention Matched Value:  None 0.0\n"
     ]
    },
    {
     "name": "stderr",
     "output_type": "stream",
     "text": [
      "\r",
      " 17%|█▋        | 154/891 [02:17<08:45,  1.40it/s]"
     ]
    },
    {
     "name": "stdout",
     "output_type": "stream",
     "text": [
      "full_mention:  david levy\n",
      "full_mention Matched Value:  None 0.0\n"
     ]
    },
    {
     "name": "stderr",
     "output_type": "stream",
     "text": [
      "\r",
      " 17%|█▋        | 155/891 [02:17<07:04,  1.74it/s]"
     ]
    },
    {
     "name": "stdout",
     "output_type": "stream",
     "text": [
      "full_mention:  israel radio\n",
      "full_mention Matched Value:  None 0.0\n"
     ]
    },
    {
     "name": "stderr",
     "output_type": "stream",
     "text": [
      "\r",
      " 18%|█▊        | 156/891 [02:17<05:51,  2.09it/s]"
     ]
    },
    {
     "name": "stdout",
     "output_type": "stream",
     "text": [
      "full_mention:  israel radio\n",
      "full_mention Matched Value:  None 0.0\n"
     ]
    },
    {
     "name": "stderr",
     "output_type": "stream",
     "text": [
      "\r",
      " 18%|█▊        | 157/891 [02:18<08:25,  1.45it/s]"
     ]
    },
    {
     "name": "stdout",
     "output_type": "stream",
     "text": [
      "full_mention:  israeli\n",
      "full_mention Matched Value:  israeli 1.0\n"
     ]
    },
    {
     "name": "stderr",
     "output_type": "stream",
     "text": [
      "\r",
      " 18%|█▊        | 158/891 [02:19<06:50,  1.79it/s]"
     ]
    },
    {
     "name": "stdout",
     "output_type": "stream",
     "text": [
      "full_mention:  benjamin netanyahu\n",
      "full_mention Matched Value:  None 0.0\n"
     ]
    },
    {
     "name": "stderr",
     "output_type": "stream",
     "text": [
      "\r",
      " 18%|█▊        | 159/891 [02:19<05:40,  2.15it/s]"
     ]
    },
    {
     "name": "stdout",
     "output_type": "stream",
     "text": [
      "full_mention:  benjamin netanyahu\n",
      "full_mention Matched Value:  None 0.0\n"
     ]
    },
    {
     "name": "stderr",
     "output_type": "stream",
     "text": [
      "\r",
      " 18%|█▊        | 160/891 [02:19<04:53,  2.49it/s]"
     ]
    },
    {
     "name": "stdout",
     "output_type": "stream",
     "text": [
      "full_mention:  golan heights\n",
      "full_mention Matched Value:  None 0.0\n"
     ]
    },
    {
     "name": "stderr",
     "output_type": "stream",
     "text": [
      "\r",
      " 18%|█▊        | 161/891 [02:19<04:18,  2.82it/s]"
     ]
    },
    {
     "name": "stdout",
     "output_type": "stream",
     "text": [
      "full_mention:  golan heights\n",
      "full_mention Matched Value:  None 0.0\n"
     ]
    },
    {
     "name": "stderr",
     "output_type": "stream",
     "text": [
      "\r",
      " 18%|█▊        | 162/891 [02:20<07:17,  1.67it/s]"
     ]
    },
    {
     "name": "stdout",
     "output_type": "stream",
     "text": [
      "full_mention:  israel\n",
      "full_mention Matched Value:  israel 1.0\n"
     ]
    },
    {
     "name": "stderr",
     "output_type": "stream",
     "text": [
      "\r",
      " 18%|█▊        | 163/891 [02:22<09:21,  1.30it/s]"
     ]
    },
    {
     "name": "stdout",
     "output_type": "stream",
     "text": [
      "full_mention:  syria\n",
      "full_mention Matched Value:  syria 1.0\n"
     ]
    },
    {
     "name": "stderr",
     "output_type": "stream",
     "text": [
      "\r",
      " 18%|█▊        | 164/891 [02:22<07:28,  1.62it/s]"
     ]
    },
    {
     "name": "stdout",
     "output_type": "stream",
     "text": [
      "full_mention:  middle east\n",
      "full_mention Matched Value:  None 0.0\n"
     ]
    },
    {
     "name": "stderr",
     "output_type": "stream",
     "text": [
      "\r",
      " 19%|█▊        | 165/891 [02:22<06:09,  1.97it/s]"
     ]
    },
    {
     "name": "stdout",
     "output_type": "stream",
     "text": [
      "full_mention:  middle east\n",
      "full_mention Matched Value:  None 0.0\n"
     ]
    },
    {
     "name": "stderr",
     "output_type": "stream",
     "text": [
      "\r",
      " 19%|█▊        | 166/891 [02:23<08:34,  1.41it/s]"
     ]
    },
    {
     "name": "stdout",
     "output_type": "stream",
     "text": [
      "full_mention:  golan\n",
      "full_mention Matched Value:  israeli 0.72882\n"
     ]
    },
    {
     "name": "stderr",
     "output_type": "stream",
     "text": [
      "\r",
      " 19%|█▊        | 167/891 [02:25<10:19,  1.17it/s]"
     ]
    },
    {
     "name": "stdout",
     "output_type": "stream",
     "text": [
      "full_mention:  golan\n",
      "full_mention Matched Value:  israeli 0.72882\n"
     ]
    },
    {
     "name": "stderr",
     "output_type": "stream",
     "text": [
      "\r",
      " 19%|█▉        | 168/891 [02:26<11:29,  1.05it/s]"
     ]
    },
    {
     "name": "stdout",
     "output_type": "stream",
     "text": [
      "full_mention:  israel\n",
      "full_mention Matched Value:  israel 1.0\n"
     ]
    },
    {
     "name": "stderr",
     "output_type": "stream",
     "text": [
      "\r",
      " 19%|█▉        | 169/891 [02:26<08:55,  1.35it/s]"
     ]
    },
    {
     "name": "stdout",
     "output_type": "stream",
     "text": [
      "full_mention:  channel two\n",
      "full_mention Matched Value:  None 0.0\n"
     ]
    },
    {
     "name": "stderr",
     "output_type": "stream",
     "text": [
      "\r",
      " 19%|█▉        | 170/891 [02:26<07:08,  1.68it/s]"
     ]
    },
    {
     "name": "stdout",
     "output_type": "stream",
     "text": [
      "full_mention:  channel two\n",
      "full_mention Matched Value:  None 0.0\n"
     ]
    },
    {
     "name": "stderr",
     "output_type": "stream",
     "text": [
      "\r",
      " 19%|█▉        | 171/891 [02:27<09:15,  1.30it/s]"
     ]
    },
    {
     "name": "stdout",
     "output_type": "stream",
     "text": [
      "full_mention:  damascus\n",
      "full_mention Matched Value:  damascus 1.0\n"
     ]
    },
    {
     "name": "stderr",
     "output_type": "stream",
     "text": [
      "\r",
      " 19%|█▉        | 172/891 [02:29<10:48,  1.11it/s]"
     ]
    },
    {
     "name": "stdout",
     "output_type": "stream",
     "text": [
      "full_mention:  israel\n",
      "full_mention Matched Value:  israel 1.0\n"
     ]
    },
    {
     "name": "stderr",
     "output_type": "stream",
     "text": [
      "\r",
      " 19%|█▉        | 173/891 [02:30<11:48,  1.01it/s]"
     ]
    },
    {
     "name": "stdout",
     "output_type": "stream",
     "text": [
      "full_mention:  netanyahu\n",
      "full_mention Matched Value:  israelis 0.72976\n"
     ]
    },
    {
     "name": "stderr",
     "output_type": "stream",
     "text": [
      "\r",
      " 20%|█▉        | 174/891 [02:31<12:31,  1.05s/it]"
     ]
    },
    {
     "name": "stdout",
     "output_type": "stream",
     "text": [
      "full_mention:  netanyahu\n",
      "full_mention Matched Value:  israelis 0.72976\n"
     ]
    },
    {
     "name": "stderr",
     "output_type": "stream",
     "text": [
      "\r",
      " 20%|█▉        | 175/891 [02:32<13:00,  1.09s/it]"
     ]
    },
    {
     "name": "stdout",
     "output_type": "stream",
     "text": [
      "full_mention:  syria\n",
      "full_mention Matched Value:  syria 1.0\n"
     ]
    },
    {
     "name": "stderr",
     "output_type": "stream",
     "text": [
      "\r",
      " 20%|█▉        | 176/891 [02:32<09:58,  1.19it/s]"
     ]
    },
    {
     "name": "stdout",
     "output_type": "stream",
     "text": [
      "full_mention:  united states\n",
      "full_mention Matched Value:  None 0.0\n"
     ]
    },
    {
     "name": "stderr",
     "output_type": "stream",
     "text": [
      "\r",
      " 20%|█▉        | 177/891 [02:33<07:53,  1.51it/s]"
     ]
    },
    {
     "name": "stdout",
     "output_type": "stream",
     "text": [
      "full_mention:  united states\n",
      "full_mention Matched Value:  None 0.0\n"
     ]
    },
    {
     "name": "stderr",
     "output_type": "stream",
     "text": [
      "\r",
      " 20%|█▉        | 178/891 [02:34<09:46,  1.22it/s]"
     ]
    },
    {
     "name": "stdout",
     "output_type": "stream",
     "text": [
      "full_mention:  moscow\n",
      "full_mention Matched Value:  moscow 1.0\n"
     ]
    },
    {
     "name": "stderr",
     "output_type": "stream",
     "text": [
      "\r",
      " 20%|██        | 179/891 [02:35<11:06,  1.07it/s]"
     ]
    },
    {
     "name": "stdout",
     "output_type": "stream",
     "text": [
      "full_mention:  polish\n",
      "full_mention Matched Value:  polish 1.0\n"
     ]
    },
    {
     "name": "stderr",
     "output_type": "stream",
     "text": [
      "\r",
      " 20%|██        | 180/891 [02:36<12:00,  1.01s/it]"
     ]
    },
    {
     "name": "stdout",
     "output_type": "stream",
     "text": [
      "full_mention:  libya\n",
      "full_mention Matched Value:  libya 1.0\n"
     ]
    },
    {
     "name": "stderr",
     "output_type": "stream",
     "text": [
      "\r",
      " 20%|██        | 181/891 [02:37<12:36,  1.07s/it]"
     ]
    },
    {
     "name": "stdout",
     "output_type": "stream",
     "text": [
      "full_mention:  tunis\n",
      "full_mention Matched Value:  tunis 1.0\n"
     ]
    },
    {
     "name": "stderr",
     "output_type": "stream",
     "text": [
      "\r",
      " 20%|██        | 182/891 [02:39<13:00,  1.10s/it]"
     ]
    },
    {
     "name": "stdout",
     "output_type": "stream",
     "text": [
      "full_mention:  polish\n",
      "full_mention Matched Value:  polish 1.0\n"
     ]
    },
    {
     "name": "stderr",
     "output_type": "stream",
     "text": [
      "\r",
      " 21%|██        | 183/891 [02:40<13:14,  1.12s/it]"
     ]
    },
    {
     "name": "stdout",
     "output_type": "stream",
     "text": [
      "full_mention:  polish\n",
      "full_mention Matched Value:  polish 1.0\n"
     ]
    },
    {
     "name": "stderr",
     "output_type": "stream",
     "text": [
      "\r",
      " 21%|██        | 184/891 [02:41<13:21,  1.13s/it]"
     ]
    },
    {
     "name": "stdout",
     "output_type": "stream",
     "text": [
      "full_mention:  libya\n",
      "full_mention Matched Value:  libya 1.0\n"
     ]
    },
    {
     "name": "stderr",
     "output_type": "stream",
     "text": [
      "\r",
      " 21%|██        | 185/891 [02:42<13:28,  1.15s/it]"
     ]
    },
    {
     "name": "stdout",
     "output_type": "stream",
     "text": [
      "full_mention:  polish\n",
      "full_mention Matched Value:  polish 1.0\n"
     ]
    },
    {
     "name": "stderr",
     "output_type": "stream",
     "text": [
      "\r",
      " 21%|██        | 186/891 [02:43<13:34,  1.16s/it]"
     ]
    },
    {
     "name": "stdout",
     "output_type": "stream",
     "text": [
      "full_mention:  polish\n",
      "full_mention Matched Value:  polish 1.0\n"
     ]
    },
    {
     "name": "stderr",
     "output_type": "stream",
     "text": [
      "\r",
      " 21%|██        | 187/891 [02:44<13:40,  1.17s/it]"
     ]
    },
    {
     "name": "stdout",
     "output_type": "stream",
     "text": [
      "full_mention:  reuters\n",
      "full_mention Matched Value:  reuters 1.0\n"
     ]
    },
    {
     "name": "stderr",
     "output_type": "stream",
     "text": [
      "\r",
      " 21%|██        | 188/891 [02:46<13:41,  1.17s/it]"
     ]
    },
    {
     "name": "stdout",
     "output_type": "stream",
     "text": [
      "full_mention:  poland\n",
      "full_mention Matched Value:  poland 1.0\n"
     ]
    },
    {
     "name": "stderr",
     "output_type": "stream",
     "text": [
      "\r",
      " 21%|██        | 189/891 [02:47<13:45,  1.18s/it]"
     ]
    },
    {
     "name": "stdout",
     "output_type": "stream",
     "text": [
      "full_mention:  libya\n",
      "full_mention Matched Value:  libya 1.0\n"
     ]
    },
    {
     "name": "stderr",
     "output_type": "stream",
     "text": [
      "\r",
      " 21%|██▏       | 190/891 [02:48<13:47,  1.18s/it]"
     ]
    },
    {
     "name": "stdout",
     "output_type": "stream",
     "text": [
      "full_mention:  polish\n",
      "full_mention Matched Value:  polish 1.0\n"
     ]
    },
    {
     "name": "stderr",
     "output_type": "stream",
     "text": [
      "\r",
      " 21%|██▏       | 191/891 [02:49<13:51,  1.19s/it]"
     ]
    },
    {
     "name": "stdout",
     "output_type": "stream",
     "text": [
      "full_mention:  libya\n",
      "full_mention Matched Value:  libya 1.0\n"
     ]
    },
    {
     "name": "stderr",
     "output_type": "stream",
     "text": [
      "\r",
      " 22%|██▏       | 192/891 [02:50<13:53,  1.19s/it]"
     ]
    },
    {
     "name": "stdout",
     "output_type": "stream",
     "text": [
      "full_mention:  iranian\n",
      "full_mention Matched Value:  iranian 1.0\n"
     ]
    },
    {
     "name": "stderr",
     "output_type": "stream",
     "text": [
      "\r",
      " 22%|██▏       | 193/891 [02:52<13:55,  1.20s/it]"
     ]
    },
    {
     "name": "stdout",
     "output_type": "stream",
     "text": [
      "full_mention:  baghdad\n",
      "full_mention Matched Value:  baghdad 1.0\n"
     ]
    },
    {
     "name": "stderr",
     "output_type": "stream",
     "text": [
      "\r",
      " 22%|██▏       | 194/891 [02:53<13:52,  1.19s/it]"
     ]
    },
    {
     "name": "stdout",
     "output_type": "stream",
     "text": [
      "full_mention:  baghdad\n",
      "full_mention Matched Value:  baghdad 1.0\n"
     ]
    },
    {
     "name": "stderr",
     "output_type": "stream",
     "text": [
      "\r",
      " 22%|██▏       | 195/891 [02:54<13:51,  1.19s/it]"
     ]
    },
    {
     "name": "stdout",
     "output_type": "stream",
     "text": [
      "full_mention:  iranian\n",
      "full_mention Matched Value:  iranian 1.0\n"
     ]
    },
    {
     "name": "stderr",
     "output_type": "stream",
     "text": [
      "\r",
      " 22%|██▏       | 196/891 [02:55<13:53,  1.20s/it]"
     ]
    },
    {
     "name": "stdout",
     "output_type": "stream",
     "text": [
      "full_mention:  iraq\n",
      "full_mention Matched Value:  iraq 1.0\n"
     ]
    },
    {
     "name": "stderr",
     "output_type": "stream",
     "text": [
      "\r",
      " 22%|██▏       | 197/891 [02:56<13:53,  1.20s/it]"
     ]
    },
    {
     "name": "stdout",
     "output_type": "stream",
     "text": [
      "full_mention:  iran\n",
      "full_mention Matched Value:  iran 1.0\n"
     ]
    },
    {
     "name": "stderr",
     "output_type": "stream",
     "text": [
      "\r",
      " 22%|██▏       | 198/891 [02:58<13:50,  1.20s/it]"
     ]
    },
    {
     "name": "stdout",
     "output_type": "stream",
     "text": [
      "full_mention:  kurdish\n",
      "full_mention Matched Value:  turkmen 0.85568\n"
     ]
    },
    {
     "name": "stderr",
     "output_type": "stream",
     "text": [
      "\r",
      " 22%|██▏       | 199/891 [02:59<13:49,  1.20s/it]"
     ]
    },
    {
     "name": "stdout",
     "output_type": "stream",
     "text": [
      "full_mention:  iranian\n",
      "full_mention Matched Value:  iranian 1.0\n"
     ]
    },
    {
     "name": "stderr",
     "output_type": "stream",
     "text": [
      "\r",
      " 22%|██▏       | 200/891 [03:00<13:45,  1.19s/it]"
     ]
    },
    {
     "name": "stdout",
     "output_type": "stream",
     "text": [
      "full_mention:  iraq\n",
      "full_mention Matched Value:  iraq 1.0\n"
     ]
    },
    {
     "name": "stderr",
     "output_type": "stream",
     "text": [
      "\r",
      " 23%|██▎       | 201/891 [03:00<10:29,  1.10it/s]"
     ]
    },
    {
     "name": "stdout",
     "output_type": "stream",
     "text": [
      "full_mention:  massoud rajavi\n",
      "full_mention Matched Value:  None 0.0\n"
     ]
    },
    {
     "name": "stderr",
     "output_type": "stream",
     "text": [
      "\r",
      " 23%|██▎       | 202/891 [03:01<08:12,  1.40it/s]"
     ]
    },
    {
     "name": "stdout",
     "output_type": "stream",
     "text": [
      "full_mention:  massoud rajavi\n",
      "full_mention Matched Value:  None 0.0\n"
     ]
    },
    {
     "name": "stderr",
     "output_type": "stream",
     "text": [
      "\r",
      " 23%|██▎       | 203/891 [03:02<09:57,  1.15it/s]"
     ]
    },
    {
     "name": "stdout",
     "output_type": "stream",
     "text": [
      "full_mention:  baghdad\n",
      "full_mention Matched Value:  baghdad 1.0\n"
     ]
    },
    {
     "name": "stderr",
     "output_type": "stream",
     "text": [
      "\r",
      " 23%|██▎       | 204/891 [03:02<07:48,  1.47it/s]"
     ]
    },
    {
     "name": "stdout",
     "output_type": "stream",
     "text": [
      "full_mention:  kurdistan democratic party of iran\n",
      "full_mention Matched Value:  None 0.0\n"
     ]
    },
    {
     "name": "stderr",
     "output_type": "stream",
     "text": [
      "\r",
      " 23%|██▎       | 205/891 [03:02<06:19,  1.81it/s]"
     ]
    },
    {
     "name": "stdout",
     "output_type": "stream",
     "text": [
      "full_mention:  kurdistan democratic party of iran\n",
      "full_mention Matched Value:  None 0.0\n"
     ]
    },
    {
     "name": "stderr",
     "output_type": "stream",
     "text": [
      "\r",
      " 23%|██▎       | 206/891 [03:03<05:16,  2.16it/s]"
     ]
    },
    {
     "name": "stdout",
     "output_type": "stream",
     "text": [
      "full_mention:  kurdistan democratic party of iran\n",
      "full_mention Matched Value:  None 0.0\n"
     ]
    },
    {
     "name": "stderr",
     "output_type": "stream",
     "text": [
      "\r",
      " 23%|██▎       | 207/891 [03:03<04:33,  2.50it/s]"
     ]
    },
    {
     "name": "stdout",
     "output_type": "stream",
     "text": [
      "full_mention:  kurdistan democratic party of iran\n",
      "full_mention Matched Value:  None 0.0\n"
     ]
    },
    {
     "name": "stderr",
     "output_type": "stream",
     "text": [
      "\r",
      " 23%|██▎       | 208/891 [03:03<04:03,  2.80it/s]"
     ]
    },
    {
     "name": "stdout",
     "output_type": "stream",
     "text": [
      "full_mention:  kurdistan democratic party of iran\n",
      "full_mention Matched Value:  None 0.0\n"
     ]
    },
    {
     "name": "stderr",
     "output_type": "stream",
     "text": [
      "\r",
      " 23%|██▎       | 209/891 [03:04<06:57,  1.63it/s]"
     ]
    },
    {
     "name": "stdout",
     "output_type": "stream",
     "text": [
      "full_mention:  kdpi\n",
      "full_mention Matched Value:  islamist 0.75717\n"
     ]
    },
    {
     "name": "stderr",
     "output_type": "stream",
     "text": [
      "\r",
      " 24%|██▎       | 210/891 [03:05<08:55,  1.27it/s]"
     ]
    },
    {
     "name": "stdout",
     "output_type": "stream",
     "text": [
      "full_mention:  iran\n",
      "full_mention Matched Value:  iran 1.0\n"
     ]
    },
    {
     "name": "stderr",
     "output_type": "stream",
     "text": [
      "\r",
      " 24%|██▎       | 211/891 [03:07<10:17,  1.10it/s]"
     ]
    },
    {
     "name": "stdout",
     "output_type": "stream",
     "text": [
      "full_mention:  kurds\n",
      "full_mention Matched Value:  turkmens 0.88895\n"
     ]
    },
    {
     "name": "stderr",
     "output_type": "stream",
     "text": [
      "\r",
      " 24%|██▍       | 212/891 [03:08<11:17,  1.00it/s]"
     ]
    },
    {
     "name": "stdout",
     "output_type": "stream",
     "text": [
      "full_mention:  iran\n",
      "full_mention Matched Value:  iran 1.0\n"
     ]
    },
    {
     "name": "stderr",
     "output_type": "stream",
     "text": [
      "\r",
      " 24%|██▍       | 213/891 [03:09<11:55,  1.06s/it]"
     ]
    },
    {
     "name": "stdout",
     "output_type": "stream",
     "text": [
      "full_mention:  iraq\n",
      "full_mention Matched Value:  iraq 1.0\n"
     ]
    },
    {
     "name": "stderr",
     "output_type": "stream",
     "text": [
      "\r",
      " 24%|██▍       | 214/891 [03:10<12:20,  1.09s/it]"
     ]
    },
    {
     "name": "stdout",
     "output_type": "stream",
     "text": [
      "full_mention:  kdpi\n",
      "full_mention Matched Value:  islamist 0.75717\n"
     ]
    },
    {
     "name": "stderr",
     "output_type": "stream",
     "text": [
      "\r",
      " 24%|██▍       | 215/891 [03:10<09:29,  1.19it/s]"
     ]
    },
    {
     "name": "stdout",
     "output_type": "stream",
     "text": [
      "full_mention:  iraqi kurdish\n",
      "full_mention Matched Value:  None 0.0\n"
     ]
    },
    {
     "name": "stderr",
     "output_type": "stream",
     "text": [
      "\r",
      " 24%|██▍       | 216/891 [03:11<07:28,  1.51it/s]"
     ]
    },
    {
     "name": "stdout",
     "output_type": "stream",
     "text": [
      "full_mention:  iraqi kurdish\n",
      "full_mention Matched Value:  None 0.0\n"
     ]
    },
    {
     "name": "stderr",
     "output_type": "stream",
     "text": [
      "\r",
      " 24%|██▍       | 217/891 [03:12<09:14,  1.22it/s]"
     ]
    },
    {
     "name": "stdout",
     "output_type": "stream",
     "text": [
      "full_mention:  baghdad\n",
      "full_mention Matched Value:  baghdad 1.0\n"
     ]
    },
    {
     "name": "stderr",
     "output_type": "stream",
     "text": [
      "\r",
      " 24%|██▍       | 218/891 [03:12<07:17,  1.54it/s]"
     ]
    },
    {
     "name": "stdout",
     "output_type": "stream",
     "text": [
      "full_mention:  iraqi kurdish\n",
      "full_mention Matched Value:  None 0.0\n"
     ]
    },
    {
     "name": "stderr",
     "output_type": "stream",
     "text": [
      "\r",
      " 25%|██▍       | 219/891 [03:12<05:54,  1.90it/s]"
     ]
    },
    {
     "name": "stdout",
     "output_type": "stream",
     "text": [
      "full_mention:  iraqi kurdish\n",
      "full_mention Matched Value:  None 0.0\n"
     ]
    },
    {
     "name": "stderr",
     "output_type": "stream",
     "text": [
      "\r",
      " 25%|██▍       | 220/891 [03:14<08:15,  1.35it/s]"
     ]
    },
    {
     "name": "stdout",
     "output_type": "stream",
     "text": [
      "full_mention:  iran\n",
      "full_mention Matched Value:  iran 1.0\n"
     ]
    },
    {
     "name": "stderr",
     "output_type": "stream",
     "text": [
      "\r",
      " 25%|██▍       | 221/891 [03:15<09:51,  1.13it/s]"
     ]
    },
    {
     "name": "stdout",
     "output_type": "stream",
     "text": [
      "full_mention:  puk\n",
      "full_mention Matched Value:  taliban 0.60024\n"
     ]
    },
    {
     "name": "stderr",
     "output_type": "stream",
     "text": [
      "\r",
      " 25%|██▍       | 222/891 [03:16<10:57,  1.02it/s]"
     ]
    },
    {
     "name": "stdout",
     "output_type": "stream",
     "text": [
      "full_mention:  puk\n",
      "full_mention Matched Value:  taliban 0.60024\n"
     ]
    },
    {
     "name": "stderr",
     "output_type": "stream",
     "text": [
      "\r",
      " 25%|██▌       | 223/891 [03:17<11:41,  1.05s/it]"
     ]
    },
    {
     "name": "stdout",
     "output_type": "stream",
     "text": [
      "full_mention:  iraq\n",
      "full_mention Matched Value:  iraq 1.0\n"
     ]
    },
    {
     "name": "stderr",
     "output_type": "stream",
     "text": [
      "\r",
      " 25%|██▌       | 224/891 [03:18<09:01,  1.23it/s]"
     ]
    },
    {
     "name": "stdout",
     "output_type": "stream",
     "text": [
      "full_mention:  kurdistan democratic party\n",
      "full_mention Matched Value:  None 0.0\n"
     ]
    },
    {
     "name": "stderr",
     "output_type": "stream",
     "text": [
      "\r",
      " 25%|██▌       | 225/891 [03:18<07:08,  1.55it/s]"
     ]
    },
    {
     "name": "stdout",
     "output_type": "stream",
     "text": [
      "full_mention:  kurdistan democratic party\n",
      "full_mention Matched Value:  None 0.0\n"
     ]
    },
    {
     "name": "stderr",
     "output_type": "stream",
     "text": [
      "\r",
      " 25%|██▌       | 226/891 [03:18<05:49,  1.90it/s]"
     ]
    },
    {
     "name": "stdout",
     "output_type": "stream",
     "text": [
      "full_mention:  kurdistan democratic party\n",
      "full_mention Matched Value:  None 0.0\n"
     ]
    },
    {
     "name": "stderr",
     "output_type": "stream",
     "text": [
      "\r",
      " 25%|██▌       | 227/891 [03:19<08:01,  1.38it/s]"
     ]
    },
    {
     "name": "stdout",
     "output_type": "stream",
     "text": [
      "full_mention:  kdp\n",
      "full_mention Matched Value:  sunnistan 0.66881\n"
     ]
    },
    {
     "name": "stderr",
     "output_type": "stream",
     "text": [
      "\r",
      " 26%|██▌       | 228/891 [03:19<06:28,  1.71it/s]"
     ]
    },
    {
     "name": "stdout",
     "output_type": "stream",
     "text": [
      "full_mention:  iraqi kurdish\n",
      "full_mention Matched Value:  None 0.0\n"
     ]
    },
    {
     "name": "stderr",
     "output_type": "stream",
     "text": [
      "\r",
      " 26%|██▌       | 229/891 [03:20<05:20,  2.07it/s]"
     ]
    },
    {
     "name": "stdout",
     "output_type": "stream",
     "text": [
      "full_mention:  iraqi kurdish\n",
      "full_mention Matched Value:  None 0.0\n"
     ]
    },
    {
     "name": "stderr",
     "output_type": "stream",
     "text": [
      "\r",
      " 26%|██▌       | 230/891 [03:21<07:38,  1.44it/s]"
     ]
    },
    {
     "name": "stdout",
     "output_type": "stream",
     "text": [
      "full_mention:  iraq\n",
      "full_mention Matched Value:  iraq 1.0\n"
     ]
    },
    {
     "name": "stderr",
     "output_type": "stream",
     "text": [
      "\r",
      " 26%|██▌       | 231/891 [03:22<09:13,  1.19it/s]"
     ]
    },
    {
     "name": "stdout",
     "output_type": "stream",
     "text": [
      "full_mention:  iraqi\n",
      "full_mention Matched Value:  iraqi 1.0\n"
     ]
    },
    {
     "name": "stderr",
     "output_type": "stream",
     "text": [
      "\r",
      " 26%|██▌       | 232/891 [03:23<10:24,  1.06it/s]"
     ]
    },
    {
     "name": "stdout",
     "output_type": "stream",
     "text": [
      "full_mention:  kuwait\n",
      "full_mention Matched Value:  kuwait 1.0\n"
     ]
    },
    {
     "name": "stderr",
     "output_type": "stream",
     "text": [
      "\r",
      " 26%|██▌       | 233/891 [03:24<08:07,  1.35it/s]"
     ]
    },
    {
     "name": "stdout",
     "output_type": "stream",
     "text": [
      "full_mention:  gulf war\n",
      "full_mention Matched Value:  None 0.0\n"
     ]
    },
    {
     "name": "stderr",
     "output_type": "stream",
     "text": [
      "\r",
      " 26%|██▋       | 234/891 [03:24<06:29,  1.69it/s]"
     ]
    },
    {
     "name": "stdout",
     "output_type": "stream",
     "text": [
      "full_mention:  gulf war\n",
      "full_mention Matched Value:  None 0.0\n"
     ]
    },
    {
     "name": "stderr",
     "output_type": "stream",
     "text": [
      "\r",
      " 26%|██▋       | 235/891 [03:25<08:25,  1.30it/s]"
     ]
    },
    {
     "name": "stdout",
     "output_type": "stream",
     "text": [
      "full_mention:  iranian\n",
      "full_mention Matched Value:  iranian 1.0\n"
     ]
    },
    {
     "name": "stderr",
     "output_type": "stream",
     "text": [
      "\r",
      " 26%|██▋       | 236/891 [03:26<09:43,  1.12it/s]"
     ]
    },
    {
     "name": "stdout",
     "output_type": "stream",
     "text": [
      "full_mention:  kdp\n",
      "full_mention Matched Value:  sunnistan 0.66881\n"
     ]
    },
    {
     "name": "stderr",
     "output_type": "stream",
     "text": [
      "\r",
      " 27%|██▋       | 237/891 [03:27<10:42,  1.02it/s]"
     ]
    },
    {
     "name": "stdout",
     "output_type": "stream",
     "text": [
      "full_mention:  qasri\n",
      "full_mention Matched Value:  ibn 0.8152\n"
     ]
    },
    {
     "name": "stderr",
     "output_type": "stream",
     "text": [
      "\r",
      " 27%|██▋       | 238/891 [03:29<11:23,  1.05s/it]"
     ]
    },
    {
     "name": "stdout",
     "output_type": "stream",
     "text": [
      "full_mention:  suleimaniya\n",
      "full_mention Matched Value:  basra 0.74647\n"
     ]
    },
    {
     "name": "stderr",
     "output_type": "stream",
     "text": [
      "\r",
      " 27%|██▋       | 239/891 [03:30<11:49,  1.09s/it]"
     ]
    },
    {
     "name": "stdout",
     "output_type": "stream",
     "text": [
      "full_mention:  iranian\n",
      "full_mention Matched Value:  iranian 1.0\n"
     ]
    },
    {
     "name": "stderr",
     "output_type": "stream",
     "text": [
      "\r",
      " 27%|██▋       | 240/891 [03:30<09:05,  1.19it/s]"
     ]
    },
    {
     "name": "stdout",
     "output_type": "stream",
     "text": [
      "full_mention:  iraqi kurds\n",
      "full_mention Matched Value:  None 0.0\n"
     ]
    },
    {
     "name": "stderr",
     "output_type": "stream",
     "text": [
      "\r",
      " 27%|██▋       | 241/891 [03:30<07:10,  1.51it/s]"
     ]
    },
    {
     "name": "stdout",
     "output_type": "stream",
     "text": [
      "full_mention:  iraqi kurds\n",
      "full_mention Matched Value:  None 0.0\n"
     ]
    },
    {
     "name": "stderr",
     "output_type": "stream",
     "text": [
      "\r",
      " 27%|██▋       | 242/891 [03:31<08:50,  1.22it/s]"
     ]
    },
    {
     "name": "stdout",
     "output_type": "stream",
     "text": [
      "full_mention:  iran\n",
      "full_mention Matched Value:  iran 1.0\n"
     ]
    },
    {
     "name": "stderr",
     "output_type": "stream",
     "text": [
      "\r",
      " 27%|██▋       | 243/891 [03:33<09:59,  1.08it/s]"
     ]
    },
    {
     "name": "stdout",
     "output_type": "stream",
     "text": [
      "full_mention:  iraq\n",
      "full_mention Matched Value:  iraq 1.0\n"
     ]
    },
    {
     "name": "stderr",
     "output_type": "stream",
     "text": [
      "\r",
      " 27%|██▋       | 244/891 [03:34<10:55,  1.01s/it]"
     ]
    },
    {
     "name": "stdout",
     "output_type": "stream",
     "text": [
      "full_mention:  kurdish\n",
      "full_mention Matched Value:  turkmen 0.85568\n"
     ]
    },
    {
     "name": "stderr",
     "output_type": "stream",
     "text": [
      "\r",
      " 27%|██▋       | 245/891 [03:34<08:25,  1.28it/s]"
     ]
    },
    {
     "name": "stdout",
     "output_type": "stream",
     "text": [
      "full_mention:  iraqi kurds\n",
      "full_mention Matched Value:  None 0.0\n"
     ]
    },
    {
     "name": "stderr",
     "output_type": "stream",
     "text": [
      "\r",
      " 28%|██▊       | 246/891 [03:34<06:43,  1.60it/s]"
     ]
    },
    {
     "name": "stdout",
     "output_type": "stream",
     "text": [
      "full_mention:  iraqi kurds\n",
      "full_mention Matched Value:  None 0.0\n"
     ]
    },
    {
     "name": "stderr",
     "output_type": "stream",
     "text": [
      "\r",
      " 28%|██▊       | 247/891 [03:35<08:30,  1.26it/s]"
     ]
    },
    {
     "name": "stdout",
     "output_type": "stream",
     "text": [
      "full_mention:  baghdad\n",
      "full_mention Matched Value:  baghdad 1.0\n"
     ]
    },
    {
     "name": "stderr",
     "output_type": "stream",
     "text": [
      "\r",
      " 28%|██▊       | 248/891 [03:37<09:43,  1.10it/s]"
     ]
    },
    {
     "name": "stdout",
     "output_type": "stream",
     "text": [
      "full_mention:  saudi\n",
      "full_mention Matched Value:  saudi 1.0\n"
     ]
    },
    {
     "name": "stderr",
     "output_type": "stream",
     "text": [
      "\r",
      " 28%|██▊       | 249/891 [03:38<10:38,  1.01it/s]"
     ]
    },
    {
     "name": "stdout",
     "output_type": "stream",
     "text": [
      "full_mention:  manama\n",
      "full_mention Matched Value:  manama 1.0\n"
     ]
    },
    {
     "name": "stderr",
     "output_type": "stream",
     "text": [
      "\r",
      " 28%|██▊       | 250/891 [03:39<11:15,  1.05s/it]"
     ]
    },
    {
     "name": "stdout",
     "output_type": "stream",
     "text": [
      "full_mention:  saudi\n",
      "full_mention Matched Value:  saudi 1.0\n"
     ]
    },
    {
     "name": "stderr",
     "output_type": "stream",
     "text": [
      "\r",
      " 28%|██▊       | 251/891 [03:40<11:37,  1.09s/it]"
     ]
    },
    {
     "name": "stdout",
     "output_type": "stream",
     "text": [
      "full_mention:  israel\n",
      "full_mention Matched Value:  israel 1.0\n"
     ]
    },
    {
     "name": "stderr",
     "output_type": "stream",
     "text": [
      "\r",
      " 28%|██▊       | 252/891 [03:41<11:54,  1.12s/it]"
     ]
    },
    {
     "name": "stdout",
     "output_type": "stream",
     "text": [
      "full_mention:  arafat\n",
      "full_mention Matched Value:  hussein 0.74708\n"
     ]
    },
    {
     "name": "stderr",
     "output_type": "stream",
     "text": [
      "\r",
      " 28%|██▊       | 253/891 [03:43<12:03,  1.13s/it]"
     ]
    },
    {
     "name": "stdout",
     "output_type": "stream",
     "text": [
      "full_mention:  jerusalem\n",
      "full_mention Matched Value:  jerusalem 1.0\n"
     ]
    },
    {
     "name": "stderr",
     "output_type": "stream",
     "text": [
      "\r",
      " 29%|██▊       | 254/891 [03:44<12:16,  1.16s/it]"
     ]
    },
    {
     "name": "stdout",
     "output_type": "stream",
     "text": [
      "full_mention:  israel\n",
      "full_mention Matched Value:  israel 1.0\n"
     ]
    },
    {
     "name": "stderr",
     "output_type": "stream",
     "text": [
      "\r",
      " 29%|██▊       | 255/891 [03:45<12:19,  1.16s/it]"
     ]
    },
    {
     "name": "stdout",
     "output_type": "stream",
     "text": [
      "full_mention:  palestinian\n",
      "full_mention Matched Value:  palestinian 1.0\n"
     ]
    },
    {
     "name": "stderr",
     "output_type": "stream",
     "text": [
      "\r",
      " 29%|██▊       | 256/891 [03:45<09:25,  1.12it/s]"
     ]
    },
    {
     "name": "stdout",
     "output_type": "stream",
     "text": [
      "full_mention:  yasser arafat\n",
      "full_mention Matched Value:  None 0.0\n"
     ]
    },
    {
     "name": "stderr",
     "output_type": "stream",
     "text": [
      "\r",
      " 29%|██▉       | 257/891 [03:45<07:21,  1.44it/s]"
     ]
    },
    {
     "name": "stdout",
     "output_type": "stream",
     "text": [
      "full_mention:  yasser arafat\n",
      "full_mention Matched Value:  None 0.0\n"
     ]
    },
    {
     "name": "stderr",
     "output_type": "stream",
     "text": [
      "\r",
      " 29%|██▉       | 258/891 [03:47<08:55,  1.18it/s]"
     ]
    },
    {
     "name": "stdout",
     "output_type": "stream",
     "text": [
      "full_mention:  arafat\n",
      "full_mention Matched Value:  hussein 0.74708\n"
     ]
    },
    {
     "name": "stderr",
     "output_type": "stream",
     "text": [
      "\r",
      " 29%|██▉       | 259/891 [03:48<09:59,  1.05it/s]"
     ]
    },
    {
     "name": "stdout",
     "output_type": "stream",
     "text": [
      "full_mention:  reuters\n",
      "full_mention Matched Value:  reuters 1.0\n"
     ]
    },
    {
     "name": "stderr",
     "output_type": "stream",
     "text": [
      "\r",
      " 29%|██▉       | 260/891 [03:49<10:47,  1.03s/it]"
     ]
    },
    {
     "name": "stdout",
     "output_type": "stream",
     "text": [
      "full_mention:  arafat\n",
      "full_mention Matched Value:  hussein 0.74708\n"
     ]
    },
    {
     "name": "stderr",
     "output_type": "stream",
     "text": [
      "\r",
      " 29%|██▉       | 261/891 [03:50<11:15,  1.07s/it]"
     ]
    },
    {
     "name": "stdout",
     "output_type": "stream",
     "text": [
      "full_mention:  israeli\n",
      "full_mention Matched Value:  israeli 1.0\n"
     ]
    },
    {
     "name": "stderr",
     "output_type": "stream",
     "text": [
      "\r",
      " 29%|██▉       | 262/891 [03:51<08:39,  1.21it/s]"
     ]
    },
    {
     "name": "stdout",
     "output_type": "stream",
     "text": [
      "full_mention:  shimon peres\n",
      "full_mention Matched Value:  None 0.0\n"
     ]
    },
    {
     "name": "stderr",
     "output_type": "stream",
     "text": [
      "\r",
      " 30%|██▉       | 263/891 [03:51<06:48,  1.54it/s]"
     ]
    },
    {
     "name": "stdout",
     "output_type": "stream",
     "text": [
      "full_mention:  shimon peres\n",
      "full_mention Matched Value:  None 0.0\n"
     ]
    },
    {
     "name": "stderr",
     "output_type": "stream",
     "text": [
      "\r",
      " 30%|██▉       | 264/891 [03:52<08:28,  1.23it/s]"
     ]
    },
    {
     "name": "stdout",
     "output_type": "stream",
     "text": [
      "full_mention:  ramallah\n",
      "full_mention Matched Value:  palestinian 0.8067\n"
     ]
    },
    {
     "name": "stderr",
     "output_type": "stream",
     "text": [
      "\r",
      " 30%|██▉       | 265/891 [03:53<09:37,  1.08it/s]"
     ]
    },
    {
     "name": "stdout",
     "output_type": "stream",
     "text": [
      "full_mention:  gaza\n",
      "full_mention Matched Value:  palestinians 0.80492\n"
     ]
    },
    {
     "name": "stderr",
     "output_type": "stream",
     "text": [
      "\r",
      " 30%|██▉       | 266/891 [03:54<10:25,  1.00s/it]"
     ]
    },
    {
     "name": "stdout",
     "output_type": "stream",
     "text": [
      "full_mention:  israel\n",
      "full_mention Matched Value:  israel 1.0\n"
     ]
    },
    {
     "name": "stderr",
     "output_type": "stream",
     "text": [
      "\r",
      " 30%|██▉       | 267/891 [03:55<11:01,  1.06s/it]"
     ]
    },
    {
     "name": "stdout",
     "output_type": "stream",
     "text": [
      "full_mention:  palestinian\n",
      "full_mention Matched Value:  palestinian 1.0\n"
     ]
    },
    {
     "name": "stderr",
     "output_type": "stream",
     "text": [
      "\r",
      " 30%|███       | 268/891 [03:57<11:24,  1.10s/it]"
     ]
    },
    {
     "name": "stdout",
     "output_type": "stream",
     "text": [
      "full_mention:  palestinian\n",
      "full_mention Matched Value:  palestinian 1.0\n"
     ]
    },
    {
     "name": "stderr",
     "output_type": "stream",
     "text": [
      "\r",
      " 30%|███       | 269/891 [03:57<08:46,  1.18it/s]"
     ]
    },
    {
     "name": "stdout",
     "output_type": "stream",
     "text": [
      "full_mention:  benjamin netanyahu\n",
      "full_mention Matched Value:  None 0.0\n"
     ]
    },
    {
     "name": "stderr",
     "output_type": "stream",
     "text": [
      "\r",
      " 30%|███       | 270/891 [03:57<06:53,  1.50it/s]"
     ]
    },
    {
     "name": "stdout",
     "output_type": "stream",
     "text": [
      "full_mention:  benjamin netanyahu\n",
      "full_mention Matched Value:  None 0.0\n"
     ]
    },
    {
     "name": "stderr",
     "output_type": "stream",
     "text": [
      "\r",
      " 30%|███       | 271/891 [03:58<08:29,  1.22it/s]"
     ]
    },
    {
     "name": "stdout",
     "output_type": "stream",
     "text": [
      "full_mention:  ramallah\n",
      "full_mention Matched Value:  palestinian 0.8067\n"
     ]
    },
    {
     "name": "stderr",
     "output_type": "stream",
     "text": [
      "\r",
      " 31%|███       | 272/891 [04:00<09:37,  1.07it/s]"
     ]
    },
    {
     "name": "stdout",
     "output_type": "stream",
     "text": [
      "full_mention:  arafat\n",
      "full_mention Matched Value:  hussein 0.74708\n"
     ]
    },
    {
     "name": "stderr",
     "output_type": "stream",
     "text": [
      "\r",
      " 31%|███       | 273/891 [04:01<10:23,  1.01s/it]"
     ]
    },
    {
     "name": "stdout",
     "output_type": "stream",
     "text": [
      "full_mention:  arafat\n",
      "full_mention Matched Value:  hussein 0.74708\n"
     ]
    },
    {
     "name": "stderr",
     "output_type": "stream",
     "text": [
      "\r",
      " 31%|███       | 274/891 [04:02<10:53,  1.06s/it]"
     ]
    },
    {
     "name": "stdout",
     "output_type": "stream",
     "text": [
      "full_mention:  israeli\n",
      "full_mention Matched Value:  israeli 1.0\n"
     ]
    },
    {
     "name": "stderr",
     "output_type": "stream",
     "text": [
      "\r",
      " 31%|███       | 275/891 [04:02<08:24,  1.22it/s]"
     ]
    },
    {
     "name": "stdout",
     "output_type": "stream",
     "text": [
      "full_mention:  allenby bridge\n",
      "full_mention Matched Value:  None 0.0\n"
     ]
    },
    {
     "name": "stderr",
     "output_type": "stream",
     "text": [
      "\r",
      " 31%|███       | 276/891 [04:02<06:37,  1.55it/s]"
     ]
    },
    {
     "name": "stdout",
     "output_type": "stream",
     "text": [
      "full_mention:  allenby bridge\n",
      "full_mention Matched Value:  None 0.0\n"
     ]
    },
    {
     "name": "stderr",
     "output_type": "stream",
     "text": [
      "\r",
      " 31%|███       | 277/891 [04:04<08:17,  1.23it/s]"
     ]
    },
    {
     "name": "stdout",
     "output_type": "stream",
     "text": [
      "full_mention:  jordan\n",
      "full_mention Matched Value:  jordan 1.0\n"
     ]
    },
    {
     "name": "stderr",
     "output_type": "stream",
     "text": [
      "\r",
      " 31%|███       | 278/891 [04:05<09:28,  1.08it/s]"
     ]
    },
    {
     "name": "stdout",
     "output_type": "stream",
     "text": [
      "full_mention:  arafat\n",
      "full_mention Matched Value:  hussein 0.74708\n"
     ]
    },
    {
     "name": "stderr",
     "output_type": "stream",
     "text": [
      "\r",
      " 31%|███▏      | 279/891 [04:06<10:14,  1.00s/it]"
     ]
    },
    {
     "name": "stdout",
     "output_type": "stream",
     "text": [
      "full_mention:  israel\n",
      "full_mention Matched Value:  israel 1.0\n"
     ]
    },
    {
     "name": "stderr",
     "output_type": "stream",
     "text": [
      "\r",
      " 31%|███▏      | 280/891 [04:07<10:44,  1.06s/it]"
     ]
    },
    {
     "name": "stdout",
     "output_type": "stream",
     "text": [
      "full_mention:  gaza\n",
      "full_mention Matched Value:  palestinians 0.80492\n"
     ]
    },
    {
     "name": "stderr",
     "output_type": "stream",
     "text": [
      "\r",
      " 32%|███▏      | 281/891 [04:08<11:06,  1.09s/it]"
     ]
    },
    {
     "name": "stdout",
     "output_type": "stream",
     "text": [
      "full_mention:  arafat\n",
      "full_mention Matched Value:  hussein 0.74708\n"
     ]
    },
    {
     "name": "stderr",
     "output_type": "stream",
     "text": [
      "\r",
      " 32%|███▏      | 282/891 [04:10<11:24,  1.12s/it]"
     ]
    },
    {
     "name": "stdout",
     "output_type": "stream",
     "text": [
      "full_mention:  peres\n",
      "full_mention Matched Value:  graça 0.62215\n"
     ]
    },
    {
     "name": "stderr",
     "output_type": "stream",
     "text": [
      "\r",
      " 32%|███▏      | 283/891 [04:11<11:34,  1.14s/it]"
     ]
    },
    {
     "name": "stdout",
     "output_type": "stream",
     "text": [
      "full_mention:  gaza\n",
      "full_mention Matched Value:  palestinians 0.80492\n"
     ]
    },
    {
     "name": "stderr",
     "output_type": "stream",
     "text": [
      "\r",
      " 32%|███▏      | 284/891 [04:12<11:40,  1.15s/it]"
     ]
    },
    {
     "name": "stdout",
     "output_type": "stream",
     "text": [
      "full_mention:  jerusalem\n",
      "full_mention Matched Value:  jerusalem 1.0\n"
     ]
    },
    {
     "name": "stderr",
     "output_type": "stream",
     "text": [
      "\r",
      " 32%|███▏      | 285/891 [04:12<08:55,  1.13it/s]"
     ]
    },
    {
     "name": "stdout",
     "output_type": "stream",
     "text": [
      "full_mention:  yasser arafat\n",
      "full_mention Matched Value:  None 0.0\n"
     ]
    },
    {
     "name": "stderr",
     "output_type": "stream",
     "text": [
      "\r",
      " 32%|███▏      | 286/891 [04:12<06:57,  1.45it/s]"
     ]
    },
    {
     "name": "stdout",
     "output_type": "stream",
     "text": [
      "full_mention:  yasser arafat\n",
      "full_mention Matched Value:  None 0.0\n"
     ]
    },
    {
     "name": "stderr",
     "output_type": "stream",
     "text": [
      "\r",
      " 32%|███▏      | 287/891 [04:13<05:37,  1.79it/s]"
     ]
    },
    {
     "name": "stdout",
     "output_type": "stream",
     "text": [
      "full_mention:  shimon peres\n",
      "full_mention Matched Value:  None 0.0\n"
     ]
    },
    {
     "name": "stderr",
     "output_type": "stream",
     "text": [
      "\r",
      " 32%|███▏      | 288/891 [04:13<04:42,  2.13it/s]"
     ]
    },
    {
     "name": "stdout",
     "output_type": "stream",
     "text": [
      "full_mention:  shimon peres\n",
      "full_mention Matched Value:  None 0.0\n"
     ]
    },
    {
     "name": "stderr",
     "output_type": "stream",
     "text": [
      "\r",
      " 32%|███▏      | 289/891 [04:14<06:54,  1.45it/s]"
     ]
    },
    {
     "name": "stdout",
     "output_type": "stream",
     "text": [
      "full_mention:  gaza\n",
      "full_mention Matched Value:  palestinians 0.80492\n"
     ]
    },
    {
     "name": "stderr",
     "output_type": "stream",
     "text": [
      "\r",
      " 33%|███▎      | 290/891 [04:15<08:21,  1.20it/s]"
     ]
    },
    {
     "name": "stdout",
     "output_type": "stream",
     "text": [
      "full_mention:  palestinians\n",
      "full_mention Matched Value:  palestinians 1.0\n"
     ]
    },
    {
     "name": "stderr",
     "output_type": "stream",
     "text": [
      "\r",
      " 33%|███▎      | 291/891 [04:16<09:22,  1.07it/s]"
     ]
    },
    {
     "name": "stdout",
     "output_type": "stream",
     "text": [
      "full_mention:  israeli\n",
      "full_mention Matched Value:  israeli 1.0\n"
     ]
    },
    {
     "name": "stderr",
     "output_type": "stream",
     "text": [
      "\r",
      " 33%|███▎      | 292/891 [04:18<10:06,  1.01s/it]"
     ]
    },
    {
     "name": "stdout",
     "output_type": "stream",
     "text": [
      "full_mention:  palestinian\n",
      "full_mention Matched Value:  palestinian 1.0\n"
     ]
    },
    {
     "name": "stderr",
     "output_type": "stream",
     "text": [
      "\r",
      " 33%|███▎      | 293/891 [04:19<10:40,  1.07s/it]"
     ]
    },
    {
     "name": "stdout",
     "output_type": "stream",
     "text": [
      "full_mention:  peres\n",
      "full_mention Matched Value:  graça 0.62215\n"
     ]
    },
    {
     "name": "stderr",
     "output_type": "stream",
     "text": [
      "\r",
      " 33%|███▎      | 294/891 [04:20<11:00,  1.11s/it]"
     ]
    },
    {
     "name": "stdout",
     "output_type": "stream",
     "text": [
      "full_mention:  palestinian\n",
      "full_mention Matched Value:  palestinian 1.0\n"
     ]
    },
    {
     "name": "stderr",
     "output_type": "stream",
     "text": [
      "\r",
      " 33%|███▎      | 295/891 [04:21<11:14,  1.13s/it]"
     ]
    },
    {
     "name": "stdout",
     "output_type": "stream",
     "text": [
      "full_mention:  israeli\n",
      "full_mention Matched Value:  israeli 1.0\n"
     ]
    },
    {
     "name": "stderr",
     "output_type": "stream",
     "text": [
      "\r",
      " 33%|███▎      | 296/891 [04:22<11:22,  1.15s/it]"
     ]
    },
    {
     "name": "stdout",
     "output_type": "stream",
     "text": [
      "full_mention:  arafat\n",
      "full_mention Matched Value:  hussein 0.74708\n"
     ]
    },
    {
     "name": "stderr",
     "output_type": "stream",
     "text": [
      "\r",
      " 33%|███▎      | 297/891 [04:24<11:31,  1.16s/it]"
     ]
    },
    {
     "name": "stdout",
     "output_type": "stream",
     "text": [
      "full_mention:  israel\n",
      "full_mention Matched Value:  israel 1.0\n"
     ]
    },
    {
     "name": "stderr",
     "output_type": "stream",
     "text": [
      "\r",
      " 33%|███▎      | 298/891 [04:25<11:35,  1.17s/it]"
     ]
    },
    {
     "name": "stdout",
     "output_type": "stream",
     "text": [
      "full_mention:  palestinian\n",
      "full_mention Matched Value:  palestinian 1.0\n"
     ]
    },
    {
     "name": "stderr",
     "output_type": "stream",
     "text": [
      "\r",
      " 34%|███▎      | 299/891 [04:26<11:36,  1.18s/it]"
     ]
    },
    {
     "name": "stdout",
     "output_type": "stream",
     "text": [
      "full_mention:  peres\n",
      "full_mention Matched Value:  graça 0.62215\n"
     ]
    },
    {
     "name": "stderr",
     "output_type": "stream",
     "text": [
      "\r",
      " 34%|███▎      | 300/891 [04:27<11:36,  1.18s/it]"
     ]
    },
    {
     "name": "stdout",
     "output_type": "stream",
     "text": [
      "full_mention:  israeli\n",
      "full_mention Matched Value:  israeli 1.0\n"
     ]
    },
    {
     "name": "stderr",
     "output_type": "stream",
     "text": [
      "\r",
      " 34%|███▍      | 301/891 [04:27<08:50,  1.11it/s]"
     ]
    },
    {
     "name": "stdout",
     "output_type": "stream",
     "text": [
      "full_mention:  benjamin netanyahu\n",
      "full_mention Matched Value:  None 0.0\n"
     ]
    },
    {
     "name": "stderr",
     "output_type": "stream",
     "text": [
      "\r",
      " 34%|███▍      | 302/891 [04:28<06:54,  1.42it/s]"
     ]
    },
    {
     "name": "stdout",
     "output_type": "stream",
     "text": [
      "full_mention:  benjamin netanyahu\n",
      "full_mention Matched Value:  None 0.0\n"
     ]
    },
    {
     "name": "stderr",
     "output_type": "stream",
     "text": [
      "\r",
      " 34%|███▍      | 303/891 [04:29<08:19,  1.18it/s]"
     ]
    },
    {
     "name": "stdout",
     "output_type": "stream",
     "text": [
      "full_mention:  peres\n",
      "full_mention Matched Value:  graça 0.62215\n"
     ]
    },
    {
     "name": "stderr",
     "output_type": "stream",
     "text": [
      "\r",
      " 34%|███▍      | 304/891 [04:30<09:22,  1.04it/s]"
     ]
    },
    {
     "name": "stdout",
     "output_type": "stream",
     "text": [
      "full_mention:  likud\n",
      "full_mention Matched Value:  shas 0.82822\n"
     ]
    },
    {
     "name": "stderr",
     "output_type": "stream",
     "text": [
      "\r",
      " 34%|███▍      | 305/891 [04:31<10:00,  1.03s/it]"
     ]
    },
    {
     "name": "stdout",
     "output_type": "stream",
     "text": [
      "full_mention:  afghan\n",
      "full_mention Matched Value:  afghan 1.0\n"
     ]
    },
    {
     "name": "stderr",
     "output_type": "stream",
     "text": [
      "\r",
      " 34%|███▍      | 306/891 [04:32<10:26,  1.07s/it]"
     ]
    },
    {
     "name": "stdout",
     "output_type": "stream",
     "text": [
      "full_mention:  uae\n",
      "full_mention Matched Value:  uae 1.0\n"
     ]
    },
    {
     "name": "stderr",
     "output_type": "stream",
     "text": [
      "\r",
      " 34%|███▍      | 307/891 [04:34<10:46,  1.11s/it]"
     ]
    },
    {
     "name": "stdout",
     "output_type": "stream",
     "text": [
      "full_mention:  taleban\n",
      "full_mention Matched Value:  taleban 1.0\n"
     ]
    },
    {
     "name": "stderr",
     "output_type": "stream",
     "text": [
      "\r",
      " 35%|███▍      | 308/891 [04:35<10:58,  1.13s/it]"
     ]
    },
    {
     "name": "stdout",
     "output_type": "stream",
     "text": [
      "full_mention:  dubai\n",
      "full_mention Matched Value:  dubai 1.0\n"
     ]
    },
    {
     "name": "stderr",
     "output_type": "stream",
     "text": [
      "\r",
      " 35%|███▍      | 309/891 [04:36<11:05,  1.14s/it]"
     ]
    },
    {
     "name": "stdout",
     "output_type": "stream",
     "text": [
      "full_mention:  afghan\n",
      "full_mention Matched Value:  afghan 1.0\n"
     ]
    },
    {
     "name": "stderr",
     "output_type": "stream",
     "text": [
      "\r",
      " 35%|███▍      | 310/891 [04:36<08:29,  1.14it/s]"
     ]
    },
    {
     "name": "stdout",
     "output_type": "stream",
     "text": [
      "full_mention:  united arab emirates\n",
      "full_mention Matched Value:  None 0.0\n"
     ]
    },
    {
     "name": "stderr",
     "output_type": "stream",
     "text": [
      "\r",
      " 35%|███▍      | 311/891 [04:36<06:37,  1.46it/s]"
     ]
    },
    {
     "name": "stdout",
     "output_type": "stream",
     "text": [
      "full_mention:  united arab emirates\n",
      "full_mention Matched Value:  None 0.0\n"
     ]
    },
    {
     "name": "stderr",
     "output_type": "stream",
     "text": [
      "\r",
      " 35%|███▌      | 312/891 [04:37<05:20,  1.81it/s]"
     ]
    },
    {
     "name": "stdout",
     "output_type": "stream",
     "text": [
      "full_mention:  united arab emirates\n",
      "full_mention Matched Value:  None 0.0\n"
     ]
    },
    {
     "name": "stderr",
     "output_type": "stream",
     "text": [
      "\r",
      " 35%|███▌      | 313/891 [04:38<07:09,  1.35it/s]"
     ]
    },
    {
     "name": "stdout",
     "output_type": "stream",
     "text": [
      "full_mention:  russian\n",
      "full_mention Matched Value:  russian 1.0\n"
     ]
    },
    {
     "name": "stderr",
     "output_type": "stream",
     "text": [
      "\r",
      " 35%|███▌      | 314/891 [04:39<08:25,  1.14it/s]"
     ]
    },
    {
     "name": "stdout",
     "output_type": "stream",
     "text": [
      "full_mention:  taleban\n",
      "full_mention Matched Value:  taleban 1.0\n"
     ]
    },
    {
     "name": "stderr",
     "output_type": "stream",
     "text": [
      "\r",
      " 35%|███▌      | 315/891 [04:40<09:17,  1.03it/s]"
     ]
    },
    {
     "name": "stdout",
     "output_type": "stream",
     "text": [
      "full_mention:  afghanistan\n",
      "full_mention Matched Value:  afghanistan 1.0\n"
     ]
    },
    {
     "name": "stderr",
     "output_type": "stream",
     "text": [
      "\r",
      " 35%|███▌      | 316/891 [04:41<09:51,  1.03s/it]"
     ]
    },
    {
     "name": "stdout",
     "output_type": "stream",
     "text": [
      "full_mention:  afghan\n",
      "full_mention Matched Value:  afghan 1.0\n"
     ]
    },
    {
     "name": "stderr",
     "output_type": "stream",
     "text": [
      "\r",
      " 36%|███▌      | 317/891 [04:42<07:35,  1.26it/s]"
     ]
    },
    {
     "name": "stdout",
     "output_type": "stream",
     "text": [
      "full_mention:  abu dhabi\n",
      "full_mention Matched Value:  None 0.0\n"
     ]
    },
    {
     "name": "stderr",
     "output_type": "stream",
     "text": [
      "\r",
      " 36%|███▌      | 318/891 [04:42<06:01,  1.59it/s]"
     ]
    },
    {
     "name": "stdout",
     "output_type": "stream",
     "text": [
      "full_mention:  abu dhabi\n",
      "full_mention Matched Value:  None 0.0\n"
     ]
    },
    {
     "name": "stderr",
     "output_type": "stream",
     "text": [
      "\r",
      " 36%|███▌      | 319/891 [04:43<07:35,  1.26it/s]"
     ]
    },
    {
     "name": "stdout",
     "output_type": "stream",
     "text": [
      "full_mention:  russian\n",
      "full_mention Matched Value:  russian 1.0\n"
     ]
    },
    {
     "name": "stderr",
     "output_type": "stream",
     "text": [
      "\r",
      " 36%|███▌      | 320/891 [04:44<08:40,  1.10it/s]"
     ]
    },
    {
     "name": "stdout",
     "output_type": "stream",
     "text": [
      "full_mention:  uae\n",
      "full_mention Matched Value:  uae 1.0\n"
     ]
    },
    {
     "name": "stderr",
     "output_type": "stream",
     "text": [
      "\r",
      " 36%|███▌      | 321/891 [04:46<09:26,  1.01it/s]"
     ]
    },
    {
     "name": "stdout",
     "output_type": "stream",
     "text": [
      "full_mention:  sharjah\n",
      "full_mention Matched Value:  dubai 0.84325\n"
     ]
    },
    {
     "name": "stderr",
     "output_type": "stream",
     "text": [
      "\r",
      " 36%|███▌      | 322/891 [04:47<10:01,  1.06s/it]"
     ]
    },
    {
     "name": "stdout",
     "output_type": "stream",
     "text": [
      "full_mention:  taleban\n",
      "full_mention Matched Value:  taleban 1.0\n"
     ]
    },
    {
     "name": "stderr",
     "output_type": "stream",
     "text": [
      "\r",
      " 36%|███▋      | 323/891 [04:48<10:24,  1.10s/it]"
     ]
    },
    {
     "name": "stdout",
     "output_type": "stream",
     "text": [
      "full_mention:  kandahar\n",
      "full_mention Matched Value:  kabul 0.8774\n"
     ]
    },
    {
     "name": "stderr",
     "output_type": "stream",
     "text": [
      "\r",
      " 36%|███▋      | 324/891 [04:49<10:46,  1.14s/it]"
     ]
    },
    {
     "name": "stdout",
     "output_type": "stream",
     "text": [
      "full_mention:  afghanistan\n",
      "full_mention Matched Value:  afghanistan 1.0\n"
     ]
    },
    {
     "name": "stderr",
     "output_type": "stream",
     "text": [
      "\r",
      " 36%|███▋      | 325/891 [04:50<10:54,  1.16s/it]"
     ]
    },
    {
     "name": "stdout",
     "output_type": "stream",
     "text": [
      "full_mention:  uae\n",
      "full_mention Matched Value:  uae 1.0\n"
     ]
    },
    {
     "name": "stderr",
     "output_type": "stream",
     "text": [
      "\r",
      " 37%|███▋      | 326/891 [04:52<11:01,  1.17s/it]"
     ]
    },
    {
     "name": "stdout",
     "output_type": "stream",
     "text": [
      "full_mention:  kandahar\n",
      "full_mention Matched Value:  kabul 0.8774\n"
     ]
    },
    {
     "name": "stderr",
     "output_type": "stream",
     "text": [
      "\r",
      " 37%|███▋      | 327/891 [04:53<11:01,  1.17s/it]"
     ]
    },
    {
     "name": "stdout",
     "output_type": "stream",
     "text": [
      "full_mention:  afghan\n",
      "full_mention Matched Value:  afghan 1.0\n"
     ]
    },
    {
     "name": "stderr",
     "output_type": "stream",
     "text": [
      "\r",
      " 37%|███▋      | 328/891 [04:54<11:02,  1.18s/it]"
     ]
    },
    {
     "name": "stdout",
     "output_type": "stream",
     "text": [
      "full_mention:  kabul\n",
      "full_mention Matched Value:  kabul 1.0\n"
     ]
    },
    {
     "name": "stderr",
     "output_type": "stream",
     "text": [
      "\r",
      " 37%|███▋      | 329/891 [04:55<11:04,  1.18s/it]"
     ]
    },
    {
     "name": "stdout",
     "output_type": "stream",
     "text": [
      "full_mention:  kandahar\n",
      "full_mention Matched Value:  kabul 0.8774\n"
     ]
    },
    {
     "name": "stderr",
     "output_type": "stream",
     "text": [
      "\r",
      " 37%|███▋      | 330/891 [04:56<11:04,  1.19s/it]"
     ]
    },
    {
     "name": "stdout",
     "output_type": "stream",
     "text": [
      "full_mention:  taleban\n",
      "full_mention Matched Value:  taleban 1.0\n"
     ]
    },
    {
     "name": "stderr",
     "output_type": "stream",
     "text": [
      "\r",
      " 37%|███▋      | 331/891 [04:57<11:03,  1.18s/it]"
     ]
    },
    {
     "name": "stdout",
     "output_type": "stream",
     "text": [
      "full_mention:  kabul\n",
      "full_mention Matched Value:  kabul 1.0\n"
     ]
    },
    {
     "name": "stderr",
     "output_type": "stream",
     "text": [
      "\r",
      " 37%|███▋      | 332/891 [04:58<08:25,  1.11it/s]"
     ]
    },
    {
     "name": "stdout",
     "output_type": "stream",
     "text": [
      "full_mention:  burhanuddin rabbani\n",
      "full_mention Matched Value:  None 0.0\n"
     ]
    },
    {
     "name": "stderr",
     "output_type": "stream",
     "text": [
      "\r",
      " 37%|███▋      | 333/891 [04:58<06:34,  1.42it/s]"
     ]
    },
    {
     "name": "stdout",
     "output_type": "stream",
     "text": [
      "full_mention:  burhanuddin rabbani\n",
      "full_mention Matched Value:  None 0.0\n"
     ]
    },
    {
     "name": "stderr",
     "output_type": "stream",
     "text": [
      "\r",
      " 37%|███▋      | 334/891 [04:59<07:54,  1.17it/s]"
     ]
    },
    {
     "name": "stdout",
     "output_type": "stream",
     "text": [
      "full_mention:  taleban\n",
      "full_mention Matched Value:  taleban 1.0\n"
     ]
    },
    {
     "name": "stderr",
     "output_type": "stream",
     "text": [
      "\r",
      " 38%|███▊      | 335/891 [04:59<06:12,  1.49it/s]"
     ]
    },
    {
     "name": "stdout",
     "output_type": "stream",
     "text": [
      "full_mention:  abu dhabi\n",
      "full_mention Matched Value:  None 0.0\n"
     ]
    },
    {
     "name": "stderr",
     "output_type": "stream",
     "text": [
      "\r",
      " 38%|███▊      | 336/891 [05:00<05:01,  1.84it/s]"
     ]
    },
    {
     "name": "stdout",
     "output_type": "stream",
     "text": [
      "full_mention:  abu dhabi\n",
      "full_mention Matched Value:  None 0.0\n"
     ]
    },
    {
     "name": "stderr",
     "output_type": "stream",
     "text": [
      "\r",
      " 38%|███▊      | 337/891 [05:01<06:49,  1.35it/s]"
     ]
    },
    {
     "name": "stdout",
     "output_type": "stream",
     "text": [
      "full_mention:  russians\n",
      "full_mention Matched Value:  russians 1.0\n"
     ]
    },
    {
     "name": "stderr",
     "output_type": "stream",
     "text": [
      "\r",
      " 38%|███▊      | 338/891 [05:02<08:04,  1.14it/s]"
     ]
    },
    {
     "name": "stdout",
     "output_type": "stream",
     "text": [
      "full_mention:  russian\n",
      "full_mention Matched Value:  russian 1.0\n"
     ]
    },
    {
     "name": "stderr",
     "output_type": "stream",
     "text": [
      "\r",
      " 38%|███▊      | 339/891 [05:03<08:56,  1.03it/s]"
     ]
    },
    {
     "name": "stdout",
     "output_type": "stream",
     "text": [
      "full_mention:  tatarstan\n",
      "full_mention Matched Value:  bashkortostan 0.92794\n"
     ]
    },
    {
     "name": "stderr",
     "output_type": "stream",
     "text": [
      "\r",
      " 38%|███▊      | 340/891 [05:04<09:33,  1.04s/it]"
     ]
    },
    {
     "name": "stdout",
     "output_type": "stream",
     "text": [
      "full_mention:  taleban\n",
      "full_mention Matched Value:  taleban 1.0\n"
     ]
    },
    {
     "name": "stderr",
     "output_type": "stream",
     "text": [
      "\r",
      " 38%|███▊      | 341/891 [05:06<09:56,  1.08s/it]"
     ]
    },
    {
     "name": "stdout",
     "output_type": "stream",
     "text": [
      "full_mention:  taleban\n",
      "full_mention Matched Value:  taleban 1.0\n"
     ]
    },
    {
     "name": "stderr",
     "output_type": "stream",
     "text": [
      "\r",
      " 38%|███▊      | 342/891 [05:07<10:14,  1.12s/it]"
     ]
    },
    {
     "name": "stdout",
     "output_type": "stream",
     "text": [
      "full_mention:  albania\n",
      "full_mention Matched Value:  albania 1.0\n"
     ]
    },
    {
     "name": "stderr",
     "output_type": "stream",
     "text": [
      "\r",
      " 38%|███▊      | 343/891 [05:08<10:24,  1.14s/it]"
     ]
    },
    {
     "name": "stdout",
     "output_type": "stream",
     "text": [
      "full_mention:  russian\n",
      "full_mention Matched Value:  russian 1.0\n"
     ]
    },
    {
     "name": "stderr",
     "output_type": "stream",
     "text": [
      "\r",
      " 39%|███▊      | 344/891 [05:09<10:31,  1.15s/it]"
     ]
    },
    {
     "name": "stdout",
     "output_type": "stream",
     "text": [
      "full_mention:  rabbani\n",
      "full_mention Matched Value:  mohammad 0.82688\n"
     ]
    },
    {
     "name": "stderr",
     "output_type": "stream",
     "text": [
      "\r",
      " 39%|███▊      | 345/891 [05:10<10:39,  1.17s/it]"
     ]
    },
    {
     "name": "stdout",
     "output_type": "stream",
     "text": [
      "full_mention:  moscow\n",
      "full_mention Matched Value:  moscow 1.0\n"
     ]
    },
    {
     "name": "stderr",
     "output_type": "stream",
     "text": [
      "\r",
      " 39%|███▉      | 346/891 [05:12<10:45,  1.18s/it]"
     ]
    },
    {
     "name": "stdout",
     "output_type": "stream",
     "text": [
      "full_mention:  russians\n",
      "full_mention Matched Value:  russians 1.0\n"
     ]
    },
    {
     "name": "stderr",
     "output_type": "stream",
     "text": [
      "\r",
      " 39%|███▉      | 347/891 [05:13<10:44,  1.18s/it]"
     ]
    },
    {
     "name": "stdout",
     "output_type": "stream",
     "text": [
      "full_mention:  uae\n",
      "full_mention Matched Value:  uae 1.0\n"
     ]
    },
    {
     "name": "stderr",
     "output_type": "stream",
     "text": [
      "\r",
      " 39%|███▉      | 348/891 [05:13<08:11,  1.10it/s]"
     ]
    },
    {
     "name": "stdout",
     "output_type": "stream",
     "text": [
      "full_mention:  abu dhabi\n",
      "full_mention Matched Value:  None 0.0\n"
     ]
    },
    {
     "name": "stderr",
     "output_type": "stream",
     "text": [
      "\r",
      " 39%|███▉      | 349/891 [05:13<06:23,  1.41it/s]"
     ]
    },
    {
     "name": "stdout",
     "output_type": "stream",
     "text": [
      "full_mention:  abu dhabi\n",
      "full_mention Matched Value:  None 0.0\n"
     ]
    },
    {
     "name": "stderr",
     "output_type": "stream",
     "text": [
      "\r",
      " 39%|███▉      | 350/891 [05:15<07:42,  1.17it/s]"
     ]
    },
    {
     "name": "stdout",
     "output_type": "stream",
     "text": [
      "full_mention:  iraq\n",
      "full_mention Matched Value:  iraq 1.0\n"
     ]
    },
    {
     "name": "stderr",
     "output_type": "stream",
     "text": [
      "\r",
      " 39%|███▉      | 351/891 [05:16<08:35,  1.05it/s]"
     ]
    },
    {
     "name": "stdout",
     "output_type": "stream",
     "text": [
      "full_mention:  saddam\n",
      "full_mention Matched Value:  saddam 1.0\n"
     ]
    },
    {
     "name": "stderr",
     "output_type": "stream",
     "text": [
      "\r",
      " 40%|███▉      | 352/891 [05:17<09:13,  1.03s/it]"
     ]
    },
    {
     "name": "stdout",
     "output_type": "stream",
     "text": [
      "full_mention:  russia\n",
      "full_mention Matched Value:  russia 1.0\n"
     ]
    },
    {
     "name": "stderr",
     "output_type": "stream",
     "text": [
      "\r",
      " 40%|███▉      | 353/891 [05:18<09:40,  1.08s/it]"
     ]
    },
    {
     "name": "stdout",
     "output_type": "stream",
     "text": [
      "full_mention:  zhirinovsky\n",
      "full_mention Matched Value:  putin 0.83392\n"
     ]
    },
    {
     "name": "stderr",
     "output_type": "stream",
     "text": [
      "\r",
      " 40%|███▉      | 354/891 [05:19<09:58,  1.11s/it]"
     ]
    },
    {
     "name": "stdout",
     "output_type": "stream",
     "text": [
      "full_mention:  baghdad\n",
      "full_mention Matched Value:  baghdad 1.0\n"
     ]
    },
    {
     "name": "stderr",
     "output_type": "stream",
     "text": [
      "\r",
      " 40%|███▉      | 355/891 [05:20<10:08,  1.13s/it]"
     ]
    },
    {
     "name": "stdout",
     "output_type": "stream",
     "text": [
      "full_mention:  iraqi\n",
      "full_mention Matched Value:  iraqi 1.0\n"
     ]
    },
    {
     "name": "stderr",
     "output_type": "stream",
     "text": [
      "\r",
      " 40%|███▉      | 356/891 [05:21<07:44,  1.15it/s]"
     ]
    },
    {
     "name": "stdout",
     "output_type": "stream",
     "text": [
      "full_mention:  saddam hussein\n",
      "full_mention Matched Value:  None 0.0\n"
     ]
    },
    {
     "name": "stderr",
     "output_type": "stream",
     "text": [
      "\r",
      " 40%|████      | 357/891 [05:21<06:04,  1.47it/s]"
     ]
    },
    {
     "name": "stdout",
     "output_type": "stream",
     "text": [
      "full_mention:  saddam hussein\n",
      "full_mention Matched Value:  None 0.0\n"
     ]
    },
    {
     "name": "stderr",
     "output_type": "stream",
     "text": [
      "\r",
      " 40%|████      | 358/891 [05:22<07:23,  1.20it/s]"
     ]
    },
    {
     "name": "stdout",
     "output_type": "stream",
     "text": [
      "full_mention:  russian\n",
      "full_mention Matched Value:  russian 1.0\n"
     ]
    },
    {
     "name": "stderr",
     "output_type": "stream",
     "text": [
      "\r",
      " 40%|████      | 359/891 [05:22<05:49,  1.52it/s]"
     ]
    },
    {
     "name": "stdout",
     "output_type": "stream",
     "text": [
      "full_mention:  vladimir zhirinovsky\n",
      "full_mention Matched Value:  None 0.0\n"
     ]
    },
    {
     "name": "stderr",
     "output_type": "stream",
     "text": [
      "\r",
      " 40%|████      | 360/891 [05:23<04:44,  1.87it/s]"
     ]
    },
    {
     "name": "stdout",
     "output_type": "stream",
     "text": [
      "full_mention:  vladimir zhirinovsky\n",
      "full_mention Matched Value:  None 0.0\n"
     ]
    },
    {
     "name": "stderr",
     "output_type": "stream",
     "text": [
      "\r",
      " 41%|████      | 361/891 [05:24<06:28,  1.36it/s]"
     ]
    },
    {
     "name": "stdout",
     "output_type": "stream",
     "text": [
      "full_mention:  baghdad\n",
      "full_mention Matched Value:  baghdad 1.0\n"
     ]
    },
    {
     "name": "stderr",
     "output_type": "stream",
     "text": [
      "\r",
      " 41%|████      | 362/891 [05:25<07:37,  1.16it/s]"
     ]
    },
    {
     "name": "stdout",
     "output_type": "stream",
     "text": [
      "full_mention:  moscow\n",
      "full_mention Matched Value:  moscow 1.0\n"
     ]
    },
    {
     "name": "stderr",
     "output_type": "stream",
     "text": [
      "\r",
      " 41%|████      | 363/891 [05:26<08:27,  1.04it/s]"
     ]
    },
    {
     "name": "stdout",
     "output_type": "stream",
     "text": [
      "full_mention:  iraqi\n",
      "full_mention Matched Value:  iraqi 1.0\n"
     ]
    },
    {
     "name": "stderr",
     "output_type": "stream",
     "text": [
      "\r",
      " 41%|████      | 364/891 [05:27<09:01,  1.03s/it]"
     ]
    },
    {
     "name": "stdout",
     "output_type": "stream",
     "text": [
      "full_mention:  zhirinovsky\n",
      "full_mention Matched Value:  putin 0.83392\n"
     ]
    },
    {
     "name": "stderr",
     "output_type": "stream",
     "text": [
      "\r",
      " 41%|████      | 365/891 [05:29<09:25,  1.08s/it]"
     ]
    },
    {
     "name": "stdout",
     "output_type": "stream",
     "text": [
      "full_mention:  saddam\n",
      "full_mention Matched Value:  saddam 1.0\n"
     ]
    },
    {
     "name": "stderr",
     "output_type": "stream",
     "text": [
      "\r",
      " 41%|████      | 366/891 [05:30<09:42,  1.11s/it]"
     ]
    },
    {
     "name": "stdout",
     "output_type": "stream",
     "text": [
      "full_mention:  baghdad\n",
      "full_mention Matched Value:  baghdad 1.0\n"
     ]
    },
    {
     "name": "stderr",
     "output_type": "stream",
     "text": [
      "\r",
      " 41%|████      | 367/891 [05:31<09:54,  1.13s/it]"
     ]
    },
    {
     "name": "stdout",
     "output_type": "stream",
     "text": [
      "full_mention:  russian\n",
      "full_mention Matched Value:  russian 1.0\n"
     ]
    },
    {
     "name": "stderr",
     "output_type": "stream",
     "text": [
      "\r",
      " 41%|████▏     | 368/891 [05:32<09:59,  1.15s/it]"
     ]
    },
    {
     "name": "stdout",
     "output_type": "stream",
     "text": [
      "full_mention:  duma\n",
      "full_mention Matched Value:  putin 0.64322\n"
     ]
    },
    {
     "name": "stderr",
     "output_type": "stream",
     "text": [
      "\r",
      " 41%|████▏     | 369/891 [05:33<10:03,  1.16s/it]"
     ]
    },
    {
     "name": "stdout",
     "output_type": "stream",
     "text": [
      "full_mention:  iraq\n",
      "full_mention Matched Value:  iraq 1.0\n"
     ]
    },
    {
     "name": "stderr",
     "output_type": "stream",
     "text": [
      "\r",
      " 42%|████▏     | 370/891 [05:35<10:06,  1.16s/it]"
     ]
    },
    {
     "name": "stdout",
     "output_type": "stream",
     "text": [
      "full_mention:  kuwait\n",
      "full_mention Matched Value:  kuwait 1.0\n"
     ]
    },
    {
     "name": "stderr",
     "output_type": "stream",
     "text": [
      "\r",
      " 42%|████▏     | 371/891 [05:36<10:10,  1.17s/it]"
     ]
    },
    {
     "name": "stdout",
     "output_type": "stream",
     "text": [
      "full_mention:  zhirinovsky\n",
      "full_mention Matched Value:  putin 0.83392\n"
     ]
    },
    {
     "name": "stderr",
     "output_type": "stream",
     "text": [
      "\r",
      " 42%|████▏     | 372/891 [05:37<10:10,  1.18s/it]"
     ]
    },
    {
     "name": "stdout",
     "output_type": "stream",
     "text": [
      "full_mention:  russian\n",
      "full_mention Matched Value:  russian 1.0\n"
     ]
    },
    {
     "name": "stderr",
     "output_type": "stream",
     "text": [
      "\r",
      " 42%|████▏     | 373/891 [05:37<07:44,  1.11it/s]"
     ]
    },
    {
     "name": "stdout",
     "output_type": "stream",
     "text": [
      "full_mention:  u.n.\n",
      "full_mention Matched Value:  None 0.0\n"
     ]
    },
    {
     "name": "stderr",
     "output_type": "stream",
     "text": [
      "\r",
      " 42%|████▏     | 374/891 [05:38<08:28,  1.02it/s]"
     ]
    },
    {
     "name": "stdout",
     "output_type": "stream",
     "text": [
      "full_mention:  iraq\n",
      "full_mention Matched Value:  iraq 1.0\n"
     ]
    },
    {
     "name": "stderr",
     "output_type": "stream",
     "text": [
      "\r",
      " 42%|████▏     | 375/891 [05:39<08:58,  1.04s/it]"
     ]
    },
    {
     "name": "stdout",
     "output_type": "stream",
     "text": [
      "full_mention:  moscow\n",
      "full_mention Matched Value:  moscow 1.0\n"
     ]
    },
    {
     "name": "stderr",
     "output_type": "stream",
     "text": [
      "\r",
      " 42%|████▏     | 376/891 [05:41<09:17,  1.08s/it]"
     ]
    },
    {
     "name": "stdout",
     "output_type": "stream",
     "text": [
      "full_mention:  baghdad\n",
      "full_mention Matched Value:  baghdad 1.0\n"
     ]
    },
    {
     "name": "stderr",
     "output_type": "stream",
     "text": [
      "\r",
      " 42%|████▏     | 377/891 [05:42<09:31,  1.11s/it]"
     ]
    },
    {
     "name": "stdout",
     "output_type": "stream",
     "text": [
      "full_mention:  zhirinovsky\n",
      "full_mention Matched Value:  putin 0.83392\n"
     ]
    },
    {
     "name": "stderr",
     "output_type": "stream",
     "text": [
      "\r",
      " 42%|████▏     | 378/891 [05:43<09:41,  1.13s/it]"
     ]
    },
    {
     "name": "stdout",
     "output_type": "stream",
     "text": [
      "full_mention:  iraq\n",
      "full_mention Matched Value:  iraq 1.0\n"
     ]
    },
    {
     "name": "stderr",
     "output_type": "stream",
     "text": [
      "\r",
      " 43%|████▎     | 379/891 [05:44<09:48,  1.15s/it]"
     ]
    },
    {
     "name": "stdout",
     "output_type": "stream",
     "text": [
      "full_mention:  iraq\n",
      "full_mention Matched Value:  iraq 1.0\n"
     ]
    },
    {
     "name": "stderr",
     "output_type": "stream",
     "text": [
      "\r",
      " 43%|████▎     | 380/891 [05:45<09:51,  1.16s/it]"
     ]
    },
    {
     "name": "stdout",
     "output_type": "stream",
     "text": [
      "full_mention:  saddam\n",
      "full_mention Matched Value:  saddam 1.0\n"
     ]
    },
    {
     "name": "stderr",
     "output_type": "stream",
     "text": [
      "\r",
      " 43%|████▎     | 381/891 [05:47<09:55,  1.17s/it]"
     ]
    },
    {
     "name": "stdout",
     "output_type": "stream",
     "text": [
      "full_mention:  iraq\n",
      "full_mention Matched Value:  iraq 1.0\n"
     ]
    },
    {
     "name": "stderr",
     "output_type": "stream",
     "text": [
      "\r",
      " 43%|████▎     | 382/891 [05:48<09:57,  1.17s/it]"
     ]
    },
    {
     "name": "stdout",
     "output_type": "stream",
     "text": [
      "full_mention:  baghdad\n",
      "full_mention Matched Value:  baghdad 1.0\n"
     ]
    },
    {
     "name": "stderr",
     "output_type": "stream",
     "text": [
      "\r",
      " 43%|████▎     | 383/891 [05:49<09:58,  1.18s/it]"
     ]
    },
    {
     "name": "stdout",
     "output_type": "stream",
     "text": [
      "full_mention:  iraqi\n",
      "full_mention Matched Value:  iraqi 1.0\n"
     ]
    },
    {
     "name": "stderr",
     "output_type": "stream",
     "text": [
      "\r",
      " 43%|████▎     | 384/891 [05:50<10:00,  1.18s/it]"
     ]
    },
    {
     "name": "stdout",
     "output_type": "stream",
     "text": [
      "full_mention:  reuters\n",
      "full_mention Matched Value:  reuters 1.0\n"
     ]
    },
    {
     "name": "stderr",
     "output_type": "stream",
     "text": [
      "\r",
      " 43%|████▎     | 385/891 [05:51<09:58,  1.18s/it]"
     ]
    },
    {
     "name": "stdout",
     "output_type": "stream",
     "text": [
      "full_mention:  iraq\n",
      "full_mention Matched Value:  iraq 1.0\n"
     ]
    },
    {
     "name": "stderr",
     "output_type": "stream",
     "text": [
      "\r",
      " 43%|████▎     | 386/891 [05:52<07:35,  1.11it/s]"
     ]
    },
    {
     "name": "stdout",
     "output_type": "stream",
     "text": [
      "full_mention:  saddam hussein\n",
      "full_mention Matched Value:  None 0.0\n"
     ]
    },
    {
     "name": "stderr",
     "output_type": "stream",
     "text": [
      "\r",
      " 43%|████▎     | 387/891 [05:52<05:55,  1.42it/s]"
     ]
    },
    {
     "name": "stdout",
     "output_type": "stream",
     "text": [
      "full_mention:  saddam hussein\n",
      "full_mention Matched Value:  None 0.0\n"
     ]
    },
    {
     "name": "stderr",
     "output_type": "stream",
     "text": [
      "\r",
      " 44%|████▎     | 388/891 [05:53<07:07,  1.18it/s]"
     ]
    },
    {
     "name": "stdout",
     "output_type": "stream",
     "text": [
      "full_mention:  russian\n",
      "full_mention Matched Value:  russian 1.0\n"
     ]
    },
    {
     "name": "stderr",
     "output_type": "stream",
     "text": [
      "\r",
      " 44%|████▎     | 389/891 [05:53<05:36,  1.49it/s]"
     ]
    },
    {
     "name": "stdout",
     "output_type": "stream",
     "text": [
      "full_mention:  vladimir zhirinovsky\n",
      "full_mention Matched Value:  None 0.0\n"
     ]
    },
    {
     "name": "stderr",
     "output_type": "stream",
     "text": [
      "\r",
      " 44%|████▍     | 390/891 [05:54<04:33,  1.84it/s]"
     ]
    },
    {
     "name": "stdout",
     "output_type": "stream",
     "text": [
      "full_mention:  vladimir zhirinovsky\n",
      "full_mention Matched Value:  None 0.0\n"
     ]
    },
    {
     "name": "stderr",
     "output_type": "stream",
     "text": [
      "\r",
      " 44%|████▍     | 391/891 [05:55<06:08,  1.36it/s]"
     ]
    },
    {
     "name": "stdout",
     "output_type": "stream",
     "text": [
      "full_mention:  baghdad\n",
      "full_mention Matched Value:  baghdad 1.0\n"
     ]
    },
    {
     "name": "stderr",
     "output_type": "stream",
     "text": [
      "\r",
      " 44%|████▍     | 392/891 [05:56<07:14,  1.15it/s]"
     ]
    },
    {
     "name": "stdout",
     "output_type": "stream",
     "text": [
      "full_mention:  iraq\n",
      "full_mention Matched Value:  iraq 1.0\n"
     ]
    },
    {
     "name": "stderr",
     "output_type": "stream",
     "text": [
      "\r",
      " 44%|████▍     | 393/891 [05:56<05:40,  1.46it/s]"
     ]
    },
    {
     "name": "stdout",
     "output_type": "stream",
     "text": [
      "full_mention:  umm qasr\n",
      "full_mention Matched Value:  None 0.0\n"
     ]
    },
    {
     "name": "stderr",
     "output_type": "stream",
     "text": [
      "\r",
      " 44%|████▍     | 394/891 [05:56<04:36,  1.80it/s]"
     ]
    },
    {
     "name": "stdout",
     "output_type": "stream",
     "text": [
      "full_mention:  umm qasr\n",
      "full_mention Matched Value:  None 0.0\n"
     ]
    },
    {
     "name": "stderr",
     "output_type": "stream",
     "text": [
      "\r",
      " 44%|████▍     | 395/891 [05:58<06:07,  1.35it/s]"
     ]
    },
    {
     "name": "stdout",
     "output_type": "stream",
     "text": [
      "full_mention:  gulf\n",
      "full_mention Matched Value:  gulf 1.0\n"
     ]
    },
    {
     "name": "stderr",
     "output_type": "stream",
     "text": [
      "\r",
      " 44%|████▍     | 396/891 [05:59<07:13,  1.14it/s]"
     ]
    },
    {
     "name": "stdout",
     "output_type": "stream",
     "text": [
      "full_mention:  lebanon\n",
      "full_mention Matched Value:  lebanon 1.0\n"
     ]
    },
    {
     "name": "stderr",
     "output_type": "stream",
     "text": [
      "\r",
      " 45%|████▍     | 397/891 [06:00<07:56,  1.04it/s]"
     ]
    },
    {
     "name": "stdout",
     "output_type": "stream",
     "text": [
      "full_mention:  beirut\n",
      "full_mention Matched Value:  beirut 1.0\n"
     ]
    },
    {
     "name": "stderr",
     "output_type": "stream",
     "text": [
      "\r",
      " 45%|████▍     | 398/891 [06:01<08:29,  1.03s/it]"
     ]
    },
    {
     "name": "stdout",
     "output_type": "stream",
     "text": [
      "full_mention:  beirut\n",
      "full_mention Matched Value:  beirut 1.0\n"
     ]
    },
    {
     "name": "stderr",
     "output_type": "stream",
     "text": [
      "\r",
      " 45%|████▍     | 399/891 [06:02<08:51,  1.08s/it]"
     ]
    },
    {
     "name": "stdout",
     "output_type": "stream",
     "text": [
      "full_mention:  reuters\n",
      "full_mention Matched Value:  reuters 1.0\n"
     ]
    },
    {
     "name": "stderr",
     "output_type": "stream",
     "text": [
      "\r",
      " 45%|████▍     | 400/891 [06:03<06:47,  1.21it/s]"
     ]
    },
    {
     "name": "stdout",
     "output_type": "stream",
     "text": [
      "full_mention:  an-nahar\n",
      "full_mention Matched Value:  None 0.0\n"
     ]
    },
    {
     "name": "stderr",
     "output_type": "stream",
     "text": [
      "\r",
      " 45%|████▌     | 401/891 [06:04<07:40,  1.06it/s]"
     ]
    },
    {
     "name": "stdout",
     "output_type": "stream",
     "text": [
      "full_mention:  hizbollah\n",
      "full_mention Matched Value:  islamist 0.79308\n"
     ]
    },
    {
     "name": "stderr",
     "output_type": "stream",
     "text": [
      "\r",
      " 45%|████▌     | 402/891 [06:05<08:15,  1.01s/it]"
     ]
    },
    {
     "name": "stdout",
     "output_type": "stream",
     "text": [
      "full_mention:  israeli\n",
      "full_mention Matched Value:  israeli 1.0\n"
     ]
    },
    {
     "name": "stderr",
     "output_type": "stream",
     "text": [
      "\r",
      " 45%|████▌     | 403/891 [06:05<06:21,  1.28it/s]"
     ]
    },
    {
     "name": "stdout",
     "output_type": "stream",
     "text": [
      "full_mention:  as-safir\n",
      "full_mention Matched Value:  None 0.0\n"
     ]
    },
    {
     "name": "stderr",
     "output_type": "stream",
     "text": [
      "\r",
      " 45%|████▌     | 404/891 [06:06<07:20,  1.11it/s]"
     ]
    },
    {
     "name": "stdout",
     "output_type": "stream",
     "text": [
      "full_mention:  israel\n",
      "full_mention Matched Value:  israel 1.0\n"
     ]
    },
    {
     "name": "stderr",
     "output_type": "stream",
     "text": [
      "\r",
      " 45%|████▌     | 405/891 [06:08<08:00,  1.01it/s]"
     ]
    },
    {
     "name": "stdout",
     "output_type": "stream",
     "text": [
      "full_mention:  syria\n",
      "full_mention Matched Value:  syria 1.0\n"
     ]
    },
    {
     "name": "stderr",
     "output_type": "stream",
     "text": [
      "\r",
      " 46%|████▌     | 406/891 [06:09<08:29,  1.05s/it]"
     ]
    },
    {
     "name": "stdout",
     "output_type": "stream",
     "text": [
      "full_mention:  lebanon\n",
      "full_mention Matched Value:  lebanon 1.0\n"
     ]
    },
    {
     "name": "stderr",
     "output_type": "stream",
     "text": [
      "\r",
      " 46%|████▌     | 407/891 [06:10<08:48,  1.09s/it]"
     ]
    },
    {
     "name": "stdout",
     "output_type": "stream",
     "text": [
      "full_mention:  beirut\n",
      "full_mention Matched Value:  beirut 1.0\n"
     ]
    },
    {
     "name": "stderr",
     "output_type": "stream",
     "text": [
      "\r",
      " 46%|████▌     | 408/891 [06:10<06:44,  1.19it/s]"
     ]
    },
    {
     "name": "stdout",
     "output_type": "stream",
     "text": [
      "full_mention:  ad-diyar\n",
      "full_mention Matched Value:  None 0.0\n"
     ]
    },
    {
     "name": "stderr",
     "output_type": "stream",
     "text": [
      "\r",
      " 46%|████▌     | 409/891 [06:11<07:37,  1.05it/s]"
     ]
    },
    {
     "name": "stdout",
     "output_type": "stream",
     "text": [
      "full_mention:  lebanon\n",
      "full_mention Matched Value:  lebanon 1.0\n"
     ]
    },
    {
     "name": "stderr",
     "output_type": "stream",
     "text": [
      "\r",
      " 46%|████▌     | 410/891 [06:13<08:10,  1.02s/it]"
     ]
    },
    {
     "name": "stdout",
     "output_type": "stream",
     "text": [
      "full_mention:  pakistan\n",
      "full_mention Matched Value:  pakistan 1.0\n"
     ]
    },
    {
     "name": "stderr",
     "output_type": "stream",
     "text": [
      "\r",
      " 46%|████▌     | 411/891 [06:14<08:36,  1.08s/it]"
     ]
    },
    {
     "name": "stdout",
     "output_type": "stream",
     "text": [
      "full_mention:  maronite\n",
      "full_mention Matched Value:  syro 0.77064\n"
     ]
    },
    {
     "name": "stderr",
     "output_type": "stream",
     "text": [
      "\r",
      " 46%|████▌     | 412/891 [06:15<08:51,  1.11s/it]"
     ]
    },
    {
     "name": "stdout",
     "output_type": "stream",
     "text": [
      "full_mention:  cme\n",
      "full_mention Matched Value:  rse 0.60583\n"
     ]
    },
    {
     "name": "stderr",
     "output_type": "stream",
     "text": [
      "\r",
      " 46%|████▋     | 413/891 [06:16<09:00,  1.13s/it]"
     ]
    },
    {
     "name": "stdout",
     "output_type": "stream",
     "text": [
      "full_mention:  chicago\n",
      "full_mention Matched Value:  chicago 1.0\n"
     ]
    },
    {
     "name": "stderr",
     "output_type": "stream",
     "text": [
      "\r",
      " 46%|████▋     | 414/891 [06:17<09:07,  1.15s/it]"
     ]
    },
    {
     "name": "stdout",
     "output_type": "stream",
     "text": [
      "full_mention:  cme\n",
      "full_mention Matched Value:  rse 0.60583\n"
     ]
    },
    {
     "name": "stderr",
     "output_type": "stream",
     "text": [
      "\r",
      " 47%|████▋     | 415/891 [06:19<09:14,  1.17s/it]"
     ]
    },
    {
     "name": "stdout",
     "output_type": "stream",
     "text": [
      "full_mention:  montgomery\n",
      "full_mention Matched Value:  jackson 0.78752\n"
     ]
    },
    {
     "name": "stderr",
     "output_type": "stream",
     "text": [
      "\r",
      " 47%|████▋     | 416/891 [06:20<09:14,  1.17s/it]"
     ]
    },
    {
     "name": "stdout",
     "output_type": "stream",
     "text": [
      "full_mention:  ala\n",
      "full_mention Matched Value:  ala 1.0\n"
     ]
    },
    {
     "name": "stderr",
     "output_type": "stream",
     "text": [
      "\r",
      " 47%|████▋     | 417/891 [06:20<07:04,  1.12it/s]"
     ]
    },
    {
     "name": "stdout",
     "output_type": "stream",
     "text": [
      "full_mention:  kindercare learning centers inc\n",
      "full_mention Matched Value:  None 0.0\n"
     ]
    },
    {
     "name": "stderr",
     "output_type": "stream",
     "text": [
      "\r",
      " 47%|████▋     | 418/891 [06:20<05:31,  1.43it/s]"
     ]
    },
    {
     "name": "stdout",
     "output_type": "stream",
     "text": [
      "full_mention:  kindercare learning centers inc\n",
      "full_mention Matched Value:  None 0.0\n"
     ]
    },
    {
     "name": "stderr",
     "output_type": "stream",
     "text": [
      "\r",
      " 47%|████▋     | 419/891 [06:20<04:25,  1.78it/s]"
     ]
    },
    {
     "name": "stdout",
     "output_type": "stream",
     "text": [
      "full_mention:  kindercare learning centers inc\n",
      "full_mention Matched Value:  None 0.0\n"
     ]
    },
    {
     "name": "stderr",
     "output_type": "stream",
     "text": [
      "\r",
      " 47%|████▋     | 420/891 [06:21<03:41,  2.13it/s]"
     ]
    },
    {
     "name": "stdout",
     "output_type": "stream",
     "text": [
      "full_mention:  kindercare learning centers inc\n",
      "full_mention Matched Value:  None 0.0\n"
     ]
    },
    {
     "name": "stderr",
     "output_type": "stream",
     "text": [
      "\r",
      " 47%|████▋     | 421/891 [06:22<05:23,  1.45it/s]"
     ]
    },
    {
     "name": "stdout",
     "output_type": "stream",
     "text": [
      "full_mention:  lehman\n",
      "full_mention Matched Value:  fisher 0.68766\n"
     ]
    },
    {
     "name": "stderr",
     "output_type": "stream",
     "text": [
      "\r",
      " 47%|████▋     | 422/891 [06:23<06:34,  1.19it/s]"
     ]
    },
    {
     "name": "stdout",
     "output_type": "stream",
     "text": [
      "full_mention:  snet\n",
      "full_mention Matched Value:  telecommunications 0.63666\n"
     ]
    },
    {
     "name": "stderr",
     "output_type": "stream",
     "text": [
      "\r",
      " 47%|████▋     | 423/891 [06:24<07:22,  1.06it/s]"
     ]
    },
    {
     "name": "stdout",
     "output_type": "stream",
     "text": [
      "full_mention:  lehman\n",
      "full_mention Matched Value:  fisher 0.68766\n"
     ]
    },
    {
     "name": "stderr",
     "output_type": "stream",
     "text": [
      "\r",
      " 48%|████▊     | 424/891 [06:25<07:54,  1.02s/it]"
     ]
    },
    {
     "name": "stdout",
     "output_type": "stream",
     "text": [
      "full_mention:  phoenix\n",
      "full_mention Matched Value:  phoenix 1.0\n"
     ]
    },
    {
     "name": "stderr",
     "output_type": "stream",
     "text": [
      "\r",
      " 48%|████▊     | 425/891 [06:27<08:18,  1.07s/it]"
     ]
    },
    {
     "name": "stdout",
     "output_type": "stream",
     "text": [
      "full_mention:  greek\n",
      "full_mention Matched Value:  greek 1.0\n"
     ]
    },
    {
     "name": "stderr",
     "output_type": "stream",
     "text": [
      "\r",
      " 48%|████▊     | 426/891 [06:28<08:34,  1.11s/it]"
     ]
    },
    {
     "name": "stdout",
     "output_type": "stream",
     "text": [
      "full_mention:  athens\n",
      "full_mention Matched Value:  athens 1.0\n"
     ]
    },
    {
     "name": "stderr",
     "output_type": "stream",
     "text": [
      "\r",
      " 48%|████▊     | 427/891 [06:29<08:44,  1.13s/it]"
     ]
    },
    {
     "name": "stdout",
     "output_type": "stream",
     "text": [
      "full_mention:  greek\n",
      "full_mention Matched Value:  greek 1.0\n"
     ]
    },
    {
     "name": "stderr",
     "output_type": "stream",
     "text": [
      "\r",
      " 48%|████▊     | 428/891 [06:29<06:40,  1.15it/s]"
     ]
    },
    {
     "name": "stdout",
     "output_type": "stream",
     "text": [
      "full_mention:  costas simitis\n",
      "full_mention Matched Value:  None 0.0\n"
     ]
    },
    {
     "name": "stderr",
     "output_type": "stream",
     "text": [
      "\r",
      " 48%|████▊     | 429/891 [06:30<05:15,  1.47it/s]"
     ]
    },
    {
     "name": "stdout",
     "output_type": "stream",
     "text": [
      "full_mention:  costas simitis\n",
      "full_mention Matched Value:  None 0.0\n"
     ]
    },
    {
     "name": "stderr",
     "output_type": "stream",
     "text": [
      "\r",
      " 48%|████▊     | 430/891 [06:30<04:14,  1.81it/s]"
     ]
    },
    {
     "name": "stdout",
     "output_type": "stream",
     "text": [
      "full_mention:  costas skandalidis\n",
      "full_mention Matched Value:  None 0.0\n"
     ]
    },
    {
     "name": "stderr",
     "output_type": "stream",
     "text": [
      "\r",
      " 48%|████▊     | 431/891 [06:30<03:31,  2.17it/s]"
     ]
    },
    {
     "name": "stdout",
     "output_type": "stream",
     "text": [
      "full_mention:  costas skandalidis\n",
      "full_mention Matched Value:  None 0.0\n"
     ]
    },
    {
     "name": "stderr",
     "output_type": "stream",
     "text": [
      "\r",
      " 48%|████▊     | 432/891 [06:30<03:02,  2.51it/s]"
     ]
    },
    {
     "name": "stdout",
     "output_type": "stream",
     "text": [
      "full_mention:  costas simitis\n",
      "full_mention Matched Value:  None 0.0\n"
     ]
    },
    {
     "name": "stderr",
     "output_type": "stream",
     "text": [
      "\r",
      " 49%|████▊     | 433/891 [06:31<02:42,  2.82it/s]"
     ]
    },
    {
     "name": "stdout",
     "output_type": "stream",
     "text": [
      "full_mention:  costas simitis\n",
      "full_mention Matched Value:  None 0.0\n"
     ]
    },
    {
     "name": "stderr",
     "output_type": "stream",
     "text": [
      "\r",
      " 49%|████▊     | 434/891 [06:32<04:37,  1.65it/s]"
     ]
    },
    {
     "name": "stdout",
     "output_type": "stream",
     "text": [
      "full_mention:  france\n",
      "full_mention Matched Value:  france 1.0\n"
     ]
    },
    {
     "name": "stderr",
     "output_type": "stream",
     "text": [
      "\r",
      " 49%|████▉     | 435/891 [06:32<03:48,  2.00it/s]"
     ]
    },
    {
     "name": "stdout",
     "output_type": "stream",
     "text": [
      "full_mention:  le monde\n",
      "full_mention Matched Value:  None 0.0\n"
     ]
    },
    {
     "name": "stderr",
     "output_type": "stream",
     "text": [
      "\r",
      " 49%|████▉     | 436/891 [06:32<03:13,  2.35it/s]"
     ]
    },
    {
     "name": "stdout",
     "output_type": "stream",
     "text": [
      "full_mention:  le monde\n",
      "full_mention Matched Value:  None 0.0\n"
     ]
    },
    {
     "name": "stderr",
     "output_type": "stream",
     "text": [
      "\r",
      " 49%|████▉     | 437/891 [06:33<04:57,  1.53it/s]"
     ]
    },
    {
     "name": "stdout",
     "output_type": "stream",
     "text": [
      "full_mention:  paris\n",
      "full_mention Matched Value:  paris 1.0\n"
     ]
    },
    {
     "name": "stderr",
     "output_type": "stream",
     "text": [
      "\r",
      " 49%|████▉     | 438/891 [06:34<04:02,  1.87it/s]"
     ]
    },
    {
     "name": "stdout",
     "output_type": "stream",
     "text": [
      "full_mention:  le monde\n",
      "full_mention Matched Value:  None 0.0\n"
     ]
    },
    {
     "name": "stderr",
     "output_type": "stream",
     "text": [
      "\r",
      " 49%|████▉     | 439/891 [06:34<03:22,  2.23it/s]"
     ]
    },
    {
     "name": "stdout",
     "output_type": "stream",
     "text": [
      "full_mention:  le monde\n",
      "full_mention Matched Value:  None 0.0\n"
     ]
    },
    {
     "name": "stderr",
     "output_type": "stream",
     "text": [
      "\r",
      " 49%|████▉     | 440/891 [06:35<05:00,  1.50it/s]"
     ]
    },
    {
     "name": "stdout",
     "output_type": "stream",
     "text": [
      "full_mention:  africans\n",
      "full_mention Matched Value:  africans 1.0\n"
     ]
    },
    {
     "name": "stderr",
     "output_type": "stream",
     "text": [
      "\r",
      " 49%|████▉     | 441/891 [06:35<04:02,  1.86it/s]"
     ]
    },
    {
     "name": "stdout",
     "output_type": "stream",
     "text": [
      "full_mention:  alain juppe\n",
      "full_mention Matched Value:  None 0.0\n"
     ]
    },
    {
     "name": "stderr",
     "output_type": "stream",
     "text": [
      "\r",
      " 50%|████▉     | 442/891 [06:36<03:22,  2.21it/s]"
     ]
    },
    {
     "name": "stdout",
     "output_type": "stream",
     "text": [
      "full_mention:  alain juppe\n",
      "full_mention Matched Value:  None 0.0\n"
     ]
    },
    {
     "name": "stderr",
     "output_type": "stream",
     "text": [
      "\r",
      " 50%|████▉     | 443/891 [06:37<05:00,  1.49it/s]"
     ]
    },
    {
     "name": "stdout",
     "output_type": "stream",
     "text": [
      "full_mention:  paris\n",
      "full_mention Matched Value:  paris 1.0\n"
     ]
    },
    {
     "name": "stderr",
     "output_type": "stream",
     "text": [
      "\r",
      " 50%|████▉     | 444/891 [06:38<06:07,  1.22it/s]"
     ]
    },
    {
     "name": "stdout",
     "output_type": "stream",
     "text": [
      "full_mention:  flnc\n",
      "full_mention Matched Value:  nlf 0.66329\n"
     ]
    },
    {
     "name": "stderr",
     "output_type": "stream",
     "text": [
      "\r",
      " 50%|████▉     | 445/891 [06:39<06:56,  1.07it/s]"
     ]
    },
    {
     "name": "stdout",
     "output_type": "stream",
     "text": [
      "full_mention:  corsican\n",
      "full_mention Matched Value:  corsican 1.0\n"
     ]
    },
    {
     "name": "stderr",
     "output_type": "stream",
     "text": [
      "\r",
      " 50%|█████     | 446/891 [06:40<07:27,  1.01s/it]"
     ]
    },
    {
     "name": "stdout",
     "output_type": "stream",
     "text": [
      "full_mention:  bally\n",
      "full_mention Matched Value:  bally 1.0\n"
     ]
    },
    {
     "name": "stderr",
     "output_type": "stream",
     "text": [
      "\r",
      " 50%|█████     | 447/891 [06:42<07:51,  1.06s/it]"
     ]
    },
    {
     "name": "stdout",
     "output_type": "stream",
     "text": [
      "full_mention:  french\n",
      "full_mention Matched Value:  french 1.0\n"
     ]
    },
    {
     "name": "stderr",
     "output_type": "stream",
     "text": [
      "\r",
      " 50%|█████     | 448/891 [06:43<08:14,  1.12s/it]"
     ]
    },
    {
     "name": "stdout",
     "output_type": "stream",
     "text": [
      "full_mention:  french\n",
      "full_mention Matched Value:  french 1.0\n"
     ]
    },
    {
     "name": "stderr",
     "output_type": "stream",
     "text": [
      "\r",
      " 50%|█████     | 449/891 [06:43<06:17,  1.17it/s]"
     ]
    },
    {
     "name": "stdout",
     "output_type": "stream",
     "text": [
      "full_mention:  sud-ptt\n",
      "full_mention Matched Value:  None 0.0\n"
     ]
    },
    {
     "name": "stderr",
     "output_type": "stream",
     "text": [
      "\r",
      " 51%|█████     | 450/891 [06:43<04:55,  1.49it/s]"
     ]
    },
    {
     "name": "stdout",
     "output_type": "stream",
     "text": [
      "full_mention:  france telecom\n",
      "full_mention Matched Value:  None 0.0\n"
     ]
    },
    {
     "name": "stderr",
     "output_type": "stream",
     "text": [
      "\r",
      " 51%|█████     | 451/891 [06:44<03:59,  1.84it/s]"
     ]
    },
    {
     "name": "stdout",
     "output_type": "stream",
     "text": [
      "full_mention:  france telecom\n",
      "full_mention Matched Value:  None 0.0\n"
     ]
    },
    {
     "name": "stderr",
     "output_type": "stream",
     "text": [
      "\r",
      " 51%|█████     | 452/891 [06:45<05:27,  1.34it/s]"
     ]
    },
    {
     "name": "stdout",
     "output_type": "stream",
     "text": [
      "full_mention:  heidrun\n",
      "full_mention Matched Value:  buch 0.59826\n"
     ]
    },
    {
     "name": "stderr",
     "output_type": "stream",
     "text": [
      "\r",
      " 51%|█████     | 453/891 [06:46<06:30,  1.12it/s]"
     ]
    },
    {
     "name": "stdout",
     "output_type": "stream",
     "text": [
      "full_mention:  statoil\n",
      "full_mention Matched Value:  offshore 0.65575\n"
     ]
    },
    {
     "name": "stderr",
     "output_type": "stream",
     "text": [
      "\r",
      " 51%|█████     | 454/891 [06:47<07:23,  1.01s/it]"
     ]
    },
    {
     "name": "stdout",
     "output_type": "stream",
     "text": [
      "full_mention:  oslo\n",
      "full_mention Matched Value:  oslo 1.0\n"
     ]
    },
    {
     "name": "stderr",
     "output_type": "stream",
     "text": [
      "\r",
      " 51%|█████     | 455/891 [06:49<07:59,  1.10s/it]"
     ]
    },
    {
     "name": "stdout",
     "output_type": "stream",
     "text": [
      "full_mention:  heidrun\n",
      "full_mention Matched Value:  buch 0.59826\n"
     ]
    },
    {
     "name": "stderr",
     "output_type": "stream",
     "text": [
      "\r",
      " 51%|█████     | 456/891 [06:50<09:09,  1.26s/it]"
     ]
    },
    {
     "name": "stdout",
     "output_type": "stream",
     "text": [
      "full_mention:  statoil\n",
      "full_mention Matched Value:  offshore 0.65575\n"
     ]
    },
    {
     "name": "stderr",
     "output_type": "stream",
     "text": [
      "\r",
      " 51%|█████▏    | 457/891 [06:52<09:53,  1.37s/it]"
     ]
    },
    {
     "name": "stdout",
     "output_type": "stream",
     "text": [
      "full_mention:  heidrun\n",
      "full_mention Matched Value:  buch 0.59826\n"
     ]
    },
    {
     "name": "stderr",
     "output_type": "stream",
     "text": [
      "\r",
      " 51%|█████▏    | 458/891 [06:53<09:41,  1.34s/it]"
     ]
    },
    {
     "name": "stdout",
     "output_type": "stream",
     "text": [
      "full_mention:  oslo\n",
      "full_mention Matched Value:  oslo 1.0\n"
     ]
    },
    {
     "name": "stderr",
     "output_type": "stream",
     "text": [
      "\r",
      " 52%|█████▏    | 459/891 [06:54<09:43,  1.35s/it]"
     ]
    },
    {
     "name": "stdout",
     "output_type": "stream",
     "text": [
      "full_mention:  finnish\n",
      "full_mention Matched Value:  finnish 1.0\n"
     ]
    },
    {
     "name": "stderr",
     "output_type": "stream",
     "text": [
      "\r",
      " 52%|█████▏    | 460/891 [06:56<09:49,  1.37s/it]"
     ]
    },
    {
     "name": "stdout",
     "output_type": "stream",
     "text": [
      "full_mention:  helsinki\n",
      "full_mention Matched Value:  helsinki 1.0\n"
     ]
    },
    {
     "name": "stderr",
     "output_type": "stream",
     "text": [
      "\r",
      " 52%|█████▏    | 461/891 [06:57<09:52,  1.38s/it]"
     ]
    },
    {
     "name": "stdout",
     "output_type": "stream",
     "text": [
      "full_mention:  finland\n",
      "full_mention Matched Value:  finland 1.0\n"
     ]
    },
    {
     "name": "stderr",
     "output_type": "stream",
     "text": [
      "\r",
      " 52%|█████▏    | 462/891 [06:58<07:34,  1.06s/it]"
     ]
    },
    {
     "name": "stdout",
     "output_type": "stream",
     "text": [
      "full_mention:  bank of finland\n",
      "full_mention Matched Value:  None 0.0\n"
     ]
    },
    {
     "name": "stderr",
     "output_type": "stream",
     "text": [
      "\r",
      " 52%|█████▏    | 463/891 [06:58<05:51,  1.22it/s]"
     ]
    },
    {
     "name": "stdout",
     "output_type": "stream",
     "text": [
      "full_mention:  bank of finland\n",
      "full_mention Matched Value:  None 0.0\n"
     ]
    },
    {
     "name": "stderr",
     "output_type": "stream",
     "text": [
      "\r",
      " 52%|█████▏    | 464/891 [06:58<04:40,  1.52it/s]"
     ]
    },
    {
     "name": "stdout",
     "output_type": "stream",
     "text": [
      "full_mention:  bank of finland\n",
      "full_mention Matched Value:  None 0.0\n"
     ]
    },
    {
     "name": "stderr",
     "output_type": "stream",
     "text": [
      "\r",
      " 52%|█████▏    | 465/891 [06:59<06:03,  1.17it/s]"
     ]
    },
    {
     "name": "stdout",
     "output_type": "stream",
     "text": [
      "full_mention:  finland\n",
      "full_mention Matched Value:  finland 1.0\n"
     ]
    },
    {
     "name": "stderr",
     "output_type": "stream",
     "text": [
      "\r",
      " 52%|█████▏    | 466/891 [07:00<04:46,  1.48it/s]"
     ]
    },
    {
     "name": "stdout",
     "output_type": "stream",
     "text": [
      "full_mention:  european union\n",
      "full_mention Matched Value:  None 0.0\n"
     ]
    },
    {
     "name": "stderr",
     "output_type": "stream",
     "text": [
      "\r",
      " 52%|█████▏    | 467/891 [07:00<03:55,  1.80it/s]"
     ]
    },
    {
     "name": "stdout",
     "output_type": "stream",
     "text": [
      "full_mention:  european union\n",
      "full_mention Matched Value:  None 0.0\n"
     ]
    },
    {
     "name": "stderr",
     "output_type": "stream",
     "text": [
      "\r",
      " 53%|█████▎    | 468/891 [07:01<05:31,  1.28it/s]"
     ]
    },
    {
     "name": "stdout",
     "output_type": "stream",
     "text": [
      "full_mention:  dutch\n",
      "full_mention Matched Value:  dutch 1.0\n"
     ]
    },
    {
     "name": "stderr",
     "output_type": "stream",
     "text": [
      "\r",
      " 53%|█████▎    | 469/891 [07:03<06:41,  1.05it/s]"
     ]
    },
    {
     "name": "stdout",
     "output_type": "stream",
     "text": [
      "full_mention:  amsterdam\n",
      "full_mention Matched Value:  amsterdam 1.0\n"
     ]
    },
    {
     "name": "stderr",
     "output_type": "stream",
     "text": [
      "\r",
      " 53%|█████▎    | 470/891 [07:04<07:25,  1.06s/it]"
     ]
    },
    {
     "name": "stdout",
     "output_type": "stream",
     "text": [
      "full_mention:  dutch\n",
      "full_mention Matched Value:  dutch 1.0\n"
     ]
    },
    {
     "name": "stderr",
     "output_type": "stream",
     "text": [
      "\r",
      " 53%|█████▎    | 471/891 [07:05<07:53,  1.13s/it]"
     ]
    },
    {
     "name": "stdout",
     "output_type": "stream",
     "text": [
      "full_mention:  gmt\n",
      "full_mention Matched Value:  utc 0.75906\n"
     ]
    },
    {
     "name": "stderr",
     "output_type": "stream",
     "text": [
      "\r",
      " 53%|█████▎    | 472/891 [07:07<08:22,  1.20s/it]"
     ]
    },
    {
     "name": "stdout",
     "output_type": "stream",
     "text": [
      "full_mention:  gmt\n",
      "full_mention Matched Value:  utc 0.75906\n"
     ]
    },
    {
     "name": "stderr",
     "output_type": "stream",
     "text": [
      "\r",
      " 53%|█████▎    | 473/891 [07:08<08:46,  1.26s/it]"
     ]
    },
    {
     "name": "stdout",
     "output_type": "stream",
     "text": [
      "full_mention:  amsterdam\n",
      "full_mention Matched Value:  amsterdam 1.0\n"
     ]
    },
    {
     "name": "stderr",
     "output_type": "stream",
     "text": [
      "\r",
      " 53%|█████▎    | 474/891 [07:09<08:54,  1.28s/it]"
     ]
    },
    {
     "name": "stdout",
     "output_type": "stream",
     "text": [
      "full_mention:  german\n",
      "full_mention Matched Value:  german 1.0\n"
     ]
    },
    {
     "name": "stderr",
     "output_type": "stream",
     "text": [
      "\r",
      " 53%|█████▎    | 475/891 [07:11<08:56,  1.29s/it]"
     ]
    },
    {
     "name": "stdout",
     "output_type": "stream",
     "text": [
      "full_mention:  british\n",
      "full_mention Matched Value:  british 1.0\n"
     ]
    },
    {
     "name": "stderr",
     "output_type": "stream",
     "text": [
      "\r",
      " 53%|█████▎    | 476/891 [07:12<08:57,  1.29s/it]"
     ]
    },
    {
     "name": "stdout",
     "output_type": "stream",
     "text": [
      "full_mention:  bonn\n",
      "full_mention Matched Value:  bonn 1.0\n"
     ]
    },
    {
     "name": "stderr",
     "output_type": "stream",
     "text": [
      "\r",
      " 54%|█████▎    | 477/891 [07:13<09:00,  1.30s/it]"
     ]
    },
    {
     "name": "stdout",
     "output_type": "stream",
     "text": [
      "full_mention:  germany\n",
      "full_mention Matched Value:  germany 1.0\n"
     ]
    },
    {
     "name": "stderr",
     "output_type": "stream",
     "text": [
      "\r",
      " 54%|█████▎    | 478/891 [07:15<08:57,  1.30s/it]"
     ]
    },
    {
     "name": "stdout",
     "output_type": "stream",
     "text": [
      "full_mention:  british\n",
      "full_mention Matched Value:  british 1.0\n"
     ]
    },
    {
     "name": "stderr",
     "output_type": "stream",
     "text": [
      "\r",
      " 54%|█████▍    | 479/891 [07:16<08:54,  1.30s/it]"
     ]
    },
    {
     "name": "stdout",
     "output_type": "stream",
     "text": [
      "full_mention:  zdf\n",
      "full_mention Matched Value:  fernsehen 0.8379\n"
     ]
    },
    {
     "name": "stderr",
     "output_type": "stream",
     "text": [
      "\r",
      " 54%|█████▍    | 480/891 [07:17<08:51,  1.29s/it]"
     ]
    },
    {
     "name": "stdout",
     "output_type": "stream",
     "text": [
      "full_mention:  britain\n",
      "full_mention Matched Value:  britain 1.0\n"
     ]
    },
    {
     "name": "stderr",
     "output_type": "stream",
     "text": [
      "\r",
      " 54%|█████▍    | 481/891 [07:17<06:43,  1.02it/s]"
     ]
    },
    {
     "name": "stdout",
     "output_type": "stream",
     "text": [
      "full_mention:  european commission\n",
      "full_mention Matched Value:  None 0.0\n"
     ]
    },
    {
     "name": "stderr",
     "output_type": "stream",
     "text": [
      "\r",
      " 54%|█████▍    | 482/891 [07:18<05:16,  1.29it/s]"
     ]
    },
    {
     "name": "stdout",
     "output_type": "stream",
     "text": [
      "full_mention:  european commission\n",
      "full_mention Matched Value:  None 0.0\n"
     ]
    },
    {
     "name": "stderr",
     "output_type": "stream",
     "text": [
      "\r",
      " 54%|█████▍    | 483/891 [07:18<04:13,  1.61it/s]"
     ]
    },
    {
     "name": "stdout",
     "output_type": "stream",
     "text": [
      "full_mention:  franz fischler\n",
      "full_mention Matched Value:  None 0.0\n"
     ]
    },
    {
     "name": "stderr",
     "output_type": "stream",
     "text": [
      "\r",
      " 54%|█████▍    | 484/891 [07:18<03:28,  1.95it/s]"
     ]
    },
    {
     "name": "stdout",
     "output_type": "stream",
     "text": [
      "full_mention:  franz fischler\n",
      "full_mention Matched Value:  None 0.0\n"
     ]
    },
    {
     "name": "stderr",
     "output_type": "stream",
     "text": [
      "\r",
      " 54%|█████▍    | 485/891 [07:20<05:05,  1.33it/s]"
     ]
    },
    {
     "name": "stdout",
     "output_type": "stream",
     "text": [
      "full_mention:  britain\n",
      "full_mention Matched Value:  britain 1.0\n"
     ]
    },
    {
     "name": "stderr",
     "output_type": "stream",
     "text": [
      "\r",
      " 55%|█████▍    | 486/891 [07:21<06:11,  1.09it/s]"
     ]
    },
    {
     "name": "stdout",
     "output_type": "stream",
     "text": [
      "full_mention:  france\n",
      "full_mention Matched Value:  france 1.0\n"
     ]
    },
    {
     "name": "stderr",
     "output_type": "stream",
     "text": [
      "\r",
      " 55%|█████▍    | 487/891 [07:22<06:55,  1.03s/it]"
     ]
    },
    {
     "name": "stdout",
     "output_type": "stream",
     "text": [
      "full_mention:  bse\n",
      "full_mention Matched Value:  bse 1.0\n"
     ]
    },
    {
     "name": "stderr",
     "output_type": "stream",
     "text": [
      "\r",
      " 55%|█████▍    | 488/891 [07:23<07:26,  1.11s/it]"
     ]
    },
    {
     "name": "stdout",
     "output_type": "stream",
     "text": [
      "full_mention:  bse\n",
      "full_mention Matched Value:  bse 1.0\n"
     ]
    },
    {
     "name": "stderr",
     "output_type": "stream",
     "text": [
      "\r",
      " 55%|█████▍    | 489/891 [07:25<07:46,  1.16s/it]"
     ]
    },
    {
     "name": "stdout",
     "output_type": "stream",
     "text": [
      "full_mention:  british\n",
      "full_mention Matched Value:  british 1.0\n"
     ]
    },
    {
     "name": "stderr",
     "output_type": "stream",
     "text": [
      "\r",
      " 55%|█████▍    | 490/891 [07:26<08:01,  1.20s/it]"
     ]
    },
    {
     "name": "stdout",
     "output_type": "stream",
     "text": [
      "full_mention:  zdf\n",
      "full_mention Matched Value:  fernsehen 0.8379\n"
     ]
    },
    {
     "name": "stderr",
     "output_type": "stream",
     "text": [
      "\r",
      " 55%|█████▌    | 491/891 [07:27<08:13,  1.23s/it]"
     ]
    },
    {
     "name": "stdout",
     "output_type": "stream",
     "text": [
      "full_mention:  germany\n",
      "full_mention Matched Value:  germany 1.0\n"
     ]
    },
    {
     "name": "stderr",
     "output_type": "stream",
     "text": [
      "\r",
      " 55%|█████▌    | 492/891 [07:29<08:20,  1.25s/it]"
     ]
    },
    {
     "name": "stdout",
     "output_type": "stream",
     "text": [
      "full_mention:  britain\n",
      "full_mention Matched Value:  britain 1.0\n"
     ]
    },
    {
     "name": "stderr",
     "output_type": "stream",
     "text": [
      "\r",
      " 55%|█████▌    | 493/891 [07:30<08:22,  1.26s/it]"
     ]
    },
    {
     "name": "stdout",
     "output_type": "stream",
     "text": [
      "full_mention:  british\n",
      "full_mention Matched Value:  british 1.0\n"
     ]
    },
    {
     "name": "stderr",
     "output_type": "stream",
     "text": [
      "\r",
      " 55%|█████▌    | 494/891 [07:31<08:24,  1.27s/it]"
     ]
    },
    {
     "name": "stdout",
     "output_type": "stream",
     "text": [
      "full_mention:  british\n",
      "full_mention Matched Value:  british 1.0\n"
     ]
    },
    {
     "name": "stderr",
     "output_type": "stream",
     "text": [
      "\r",
      " 56%|█████▌    | 495/891 [07:32<08:25,  1.28s/it]"
     ]
    },
    {
     "name": "stdout",
     "output_type": "stream",
     "text": [
      "full_mention:  british\n",
      "full_mention Matched Value:  british 1.0\n"
     ]
    },
    {
     "name": "stderr",
     "output_type": "stream",
     "text": [
      "\r",
      " 56%|█████▌    | 496/891 [07:34<08:28,  1.29s/it]"
     ]
    },
    {
     "name": "stdout",
     "output_type": "stream",
     "text": [
      "full_mention:  britain\n",
      "full_mention Matched Value:  britain 1.0\n"
     ]
    },
    {
     "name": "stderr",
     "output_type": "stream",
     "text": [
      "\r",
      " 56%|█████▌    | 497/891 [07:34<06:25,  1.02it/s]"
     ]
    },
    {
     "name": "stdout",
     "output_type": "stream",
     "text": [
      "full_mention:  world series of golf\n",
      "full_mention Matched Value:  None 0.0\n"
     ]
    },
    {
     "name": "stderr",
     "output_type": "stream",
     "text": [
      "\r",
      " 56%|█████▌    | 498/891 [07:34<04:58,  1.32it/s]"
     ]
    },
    {
     "name": "stdout",
     "output_type": "stream",
     "text": [
      "full_mention:  world series of golf\n",
      "full_mention Matched Value:  None 0.0\n"
     ]
    },
    {
     "name": "stderr",
     "output_type": "stream",
     "text": [
      "\r",
      " 56%|█████▌    | 499/891 [07:35<03:58,  1.65it/s]"
     ]
    },
    {
     "name": "stdout",
     "output_type": "stream",
     "text": [
      "full_mention:  world series of golf\n",
      "full_mention Matched Value:  None 0.0\n"
     ]
    },
    {
     "name": "stderr",
     "output_type": "stream",
     "text": [
      "\r",
      " 56%|█████▌    | 500/891 [07:35<03:16,  1.99it/s]"
     ]
    },
    {
     "name": "stdout",
     "output_type": "stream",
     "text": [
      "full_mention:  world series of golf\n",
      "full_mention Matched Value:  None 0.0\n"
     ]
    },
    {
     "name": "stderr",
     "output_type": "stream",
     "text": [
      "\r",
      " 56%|█████▌    | 501/891 [07:36<04:47,  1.36it/s]"
     ]
    },
    {
     "name": "stdout",
     "output_type": "stream",
     "text": [
      "full_mention:  akron\n",
      "full_mention Matched Value:  cleveland 0.83152\n"
     ]
    },
    {
     "name": "stderr",
     "output_type": "stream",
     "text": [
      "\r",
      " 56%|█████▋    | 502/891 [07:37<05:49,  1.11it/s]"
     ]
    },
    {
     "name": "stdout",
     "output_type": "stream",
     "text": [
      "full_mention:  ohio\n",
      "full_mention Matched Value:  ohio 1.0\n"
     ]
    },
    {
     "name": "stderr",
     "output_type": "stream",
     "text": [
      "\r",
      " 56%|█████▋    | 503/891 [07:38<04:34,  1.41it/s]"
     ]
    },
    {
     "name": "stdout",
     "output_type": "stream",
     "text": [
      "full_mention:  nec world series of golf\n",
      "full_mention Matched Value:  None 0.0\n"
     ]
    },
    {
     "name": "stderr",
     "output_type": "stream",
     "text": [
      "\r",
      " 57%|█████▋    | 504/891 [07:38<03:42,  1.74it/s]"
     ]
    },
    {
     "name": "stdout",
     "output_type": "stream",
     "text": [
      "full_mention:  nec world series of golf\n",
      "full_mention Matched Value:  None 0.0\n"
     ]
    },
    {
     "name": "stderr",
     "output_type": "stream",
     "text": [
      "\r",
      " 57%|█████▋    | 505/891 [07:38<03:05,  2.08it/s]"
     ]
    },
    {
     "name": "stdout",
     "output_type": "stream",
     "text": [
      "full_mention:  nec world series of golf\n",
      "full_mention Matched Value:  None 0.0\n"
     ]
    },
    {
     "name": "stderr",
     "output_type": "stream",
     "text": [
      "\r",
      " 57%|█████▋    | 506/891 [07:38<02:39,  2.41it/s]"
     ]
    },
    {
     "name": "stdout",
     "output_type": "stream",
     "text": [
      "full_mention:  nec world series of golf\n",
      "full_mention Matched Value:  None 0.0\n"
     ]
    },
    {
     "name": "stderr",
     "output_type": "stream",
     "text": [
      "\r",
      " 57%|█████▋    | 507/891 [07:39<02:21,  2.71it/s]"
     ]
    },
    {
     "name": "stdout",
     "output_type": "stream",
     "text": [
      "full_mention:  nec world series of golf\n",
      "full_mention Matched Value:  None 0.0\n"
     ]
    },
    {
     "name": "stderr",
     "output_type": "stream",
     "text": [
      "\r",
      " 57%|█████▋    | 508/891 [07:39<02:09,  2.95it/s]"
     ]
    },
    {
     "name": "stdout",
     "output_type": "stream",
     "text": [
      "full_mention:  u.s.\n",
      "full_mention Matched Value:  None 0.0\n"
     ]
    },
    {
     "name": "stderr",
     "output_type": "stream",
     "text": [
      "\r",
      " 57%|█████▋    | 509/891 [07:39<02:02,  3.12it/s]"
     ]
    },
    {
     "name": "stdout",
     "output_type": "stream",
     "text": [
      "full_mention:  paul goydos\n",
      "full_mention Matched Value:  None 0.0\n"
     ]
    },
    {
     "name": "stderr",
     "output_type": "stream",
     "text": [
      "\r",
      " 57%|█████▋    | 510/891 [07:39<01:54,  3.32it/s]"
     ]
    },
    {
     "name": "stdout",
     "output_type": "stream",
     "text": [
      "full_mention:  paul goydos\n",
      "full_mention Matched Value:  None 0.0\n"
     ]
    },
    {
     "name": "stderr",
     "output_type": "stream",
     "text": [
      "\r",
      " 57%|█████▋    | 511/891 [07:40<01:49,  3.47it/s]"
     ]
    },
    {
     "name": "stdout",
     "output_type": "stream",
     "text": [
      "full_mention:  billy mayfair\n",
      "full_mention Matched Value:  None 0.0\n"
     ]
    },
    {
     "name": "stderr",
     "output_type": "stream",
     "text": [
      "\r",
      " 57%|█████▋    | 512/891 [07:40<01:45,  3.58it/s]"
     ]
    },
    {
     "name": "stdout",
     "output_type": "stream",
     "text": [
      "full_mention:  billy mayfair\n",
      "full_mention Matched Value:  None 0.0\n"
     ]
    },
    {
     "name": "stderr",
     "output_type": "stream",
     "text": [
      "\r",
      " 58%|█████▊    | 513/891 [07:40<01:43,  3.65it/s]"
     ]
    },
    {
     "name": "stdout",
     "output_type": "stream",
     "text": [
      "full_mention:  hidemichi tanaka\n",
      "full_mention Matched Value:  None 0.0\n"
     ]
    },
    {
     "name": "stderr",
     "output_type": "stream",
     "text": [
      "\r",
      " 58%|█████▊    | 514/891 [07:40<01:41,  3.73it/s]"
     ]
    },
    {
     "name": "stdout",
     "output_type": "stream",
     "text": [
      "full_mention:  hidemichi tanaka\n",
      "full_mention Matched Value:  None 0.0\n"
     ]
    },
    {
     "name": "stderr",
     "output_type": "stream",
     "text": [
      "\r",
      " 58%|█████▊    | 515/891 [07:42<03:40,  1.70it/s]"
     ]
    },
    {
     "name": "stdout",
     "output_type": "stream",
     "text": [
      "full_mention:  japan\n",
      "full_mention Matched Value:  japan 1.0\n"
     ]
    },
    {
     "name": "stderr",
     "output_type": "stream",
     "text": [
      "\r",
      " 58%|█████▊    | 516/891 [07:42<03:03,  2.04it/s]"
     ]
    },
    {
     "name": "stdout",
     "output_type": "stream",
     "text": [
      "full_mention:  steve stricker\n",
      "full_mention Matched Value:  None 0.0\n"
     ]
    },
    {
     "name": "stderr",
     "output_type": "stream",
     "text": [
      "\r",
      " 58%|█████▊    | 517/891 [07:42<02:38,  2.37it/s]"
     ]
    },
    {
     "name": "stdout",
     "output_type": "stream",
     "text": [
      "full_mention:  steve stricker\n",
      "full_mention Matched Value:  None 0.0\n"
     ]
    },
    {
     "name": "stderr",
     "output_type": "stream",
     "text": [
      "\r",
      " 58%|█████▊    | 518/891 [07:43<02:18,  2.69it/s]"
     ]
    },
    {
     "name": "stdout",
     "output_type": "stream",
     "text": [
      "full_mention:  justin leonard\n",
      "full_mention Matched Value:  None 0.0\n"
     ]
    },
    {
     "name": "stderr",
     "output_type": "stream",
     "text": [
      "\r",
      " 58%|█████▊    | 519/891 [07:43<02:06,  2.95it/s]"
     ]
    },
    {
     "name": "stdout",
     "output_type": "stream",
     "text": [
      "full_mention:  justin leonard\n",
      "full_mention Matched Value:  None 0.0\n"
     ]
    },
    {
     "name": "stderr",
     "output_type": "stream",
     "text": [
      "\r",
      " 58%|█████▊    | 520/891 [07:43<01:59,  3.12it/s]"
     ]
    },
    {
     "name": "stdout",
     "output_type": "stream",
     "text": [
      "full_mention:  mark brooks\n",
      "full_mention Matched Value:  None 0.0\n"
     ]
    },
    {
     "name": "stderr",
     "output_type": "stream",
     "text": [
      "\r",
      " 58%|█████▊    | 521/891 [07:43<01:51,  3.31it/s]"
     ]
    },
    {
     "name": "stdout",
     "output_type": "stream",
     "text": [
      "full_mention:  mark brooks\n",
      "full_mention Matched Value:  None 0.0\n"
     ]
    },
    {
     "name": "stderr",
     "output_type": "stream",
     "text": [
      "\r",
      " 59%|█████▊    | 522/891 [07:44<01:48,  3.41it/s]"
     ]
    },
    {
     "name": "stdout",
     "output_type": "stream",
     "text": [
      "full_mention:  tim herron\n",
      "full_mention Matched Value:  None 0.0\n"
     ]
    },
    {
     "name": "stderr",
     "output_type": "stream",
     "text": [
      "\r",
      " 59%|█████▊    | 523/891 [07:44<01:43,  3.55it/s]"
     ]
    },
    {
     "name": "stdout",
     "output_type": "stream",
     "text": [
      "full_mention:  tim herron\n",
      "full_mention Matched Value:  None 0.0\n"
     ]
    },
    {
     "name": "stderr",
     "output_type": "stream",
     "text": [
      "\r",
      " 59%|█████▉    | 524/891 [07:44<01:42,  3.59it/s]"
     ]
    },
    {
     "name": "stdout",
     "output_type": "stream",
     "text": [
      "full_mention:  duffy waldorf\n",
      "full_mention Matched Value:  None 0.0\n"
     ]
    },
    {
     "name": "stderr",
     "output_type": "stream",
     "text": [
      "\r",
      " 59%|█████▉    | 525/891 [07:44<01:43,  3.54it/s]"
     ]
    },
    {
     "name": "stdout",
     "output_type": "stream",
     "text": [
      "full_mention:  duffy waldorf\n",
      "full_mention Matched Value:  None 0.0\n"
     ]
    },
    {
     "name": "stderr",
     "output_type": "stream",
     "text": [
      "\r",
      " 59%|█████▉    | 526/891 [07:45<01:40,  3.63it/s]"
     ]
    },
    {
     "name": "stdout",
     "output_type": "stream",
     "text": [
      "full_mention:  davis love\n",
      "full_mention Matched Value:  None 0.0\n"
     ]
    },
    {
     "name": "stderr",
     "output_type": "stream",
     "text": [
      "\r",
      " 59%|█████▉    | 527/891 [07:45<01:39,  3.65it/s]"
     ]
    },
    {
     "name": "stdout",
     "output_type": "stream",
     "text": [
      "full_mention:  davis love\n",
      "full_mention Matched Value:  None 0.0\n"
     ]
    },
    {
     "name": "stderr",
     "output_type": "stream",
     "text": [
      "\r",
      " 59%|█████▉    | 528/891 [07:45<01:37,  3.72it/s]"
     ]
    },
    {
     "name": "stdout",
     "output_type": "stream",
     "text": [
      "full_mention:  anders forsbrand\n",
      "full_mention Matched Value:  None 0.0\n"
     ]
    },
    {
     "name": "stderr",
     "output_type": "stream",
     "text": [
      "\r",
      " 59%|█████▉    | 529/891 [07:46<01:37,  3.72it/s]"
     ]
    },
    {
     "name": "stdout",
     "output_type": "stream",
     "text": [
      "full_mention:  anders forsbrand\n",
      "full_mention Matched Value:  None 0.0\n"
     ]
    },
    {
     "name": "stderr",
     "output_type": "stream",
     "text": [
      "\r",
      " 59%|█████▉    | 530/891 [07:47<03:32,  1.70it/s]"
     ]
    },
    {
     "name": "stdout",
     "output_type": "stream",
     "text": [
      "full_mention:  sweden\n",
      "full_mention Matched Value:  sweden 1.0\n"
     ]
    },
    {
     "name": "stderr",
     "output_type": "stream",
     "text": [
      "\r",
      " 60%|█████▉    | 531/891 [07:47<02:56,  2.04it/s]"
     ]
    },
    {
     "name": "stdout",
     "output_type": "stream",
     "text": [
      "full_mention:  nick faldo\n",
      "full_mention Matched Value:  None 0.0\n"
     ]
    },
    {
     "name": "stderr",
     "output_type": "stream",
     "text": [
      "\r",
      " 60%|█████▉    | 532/891 [07:47<02:31,  2.37it/s]"
     ]
    },
    {
     "name": "stdout",
     "output_type": "stream",
     "text": [
      "full_mention:  nick faldo\n",
      "full_mention Matched Value:  None 0.0\n"
     ]
    },
    {
     "name": "stderr",
     "output_type": "stream",
     "text": [
      "\r",
      " 60%|█████▉    | 533/891 [07:49<04:15,  1.40it/s]"
     ]
    },
    {
     "name": "stdout",
     "output_type": "stream",
     "text": [
      "full_mention:  britain\n",
      "full_mention Matched Value:  britain 1.0\n"
     ]
    },
    {
     "name": "stderr",
     "output_type": "stream",
     "text": [
      "\r",
      " 60%|█████▉    | 534/891 [07:49<03:26,  1.73it/s]"
     ]
    },
    {
     "name": "stdout",
     "output_type": "stream",
     "text": [
      "full_mention:  john cook\n",
      "full_mention Matched Value:  None 0.0\n"
     ]
    },
    {
     "name": "stderr",
     "output_type": "stream",
     "text": [
      "\r",
      " 60%|██████    | 535/891 [07:49<02:51,  2.08it/s]"
     ]
    },
    {
     "name": "stdout",
     "output_type": "stream",
     "text": [
      "full_mention:  john cook\n",
      "full_mention Matched Value:  None 0.0\n"
     ]
    },
    {
     "name": "stderr",
     "output_type": "stream",
     "text": [
      "\r",
      " 60%|██████    | 536/891 [07:50<02:26,  2.42it/s]"
     ]
    },
    {
     "name": "stdout",
     "output_type": "stream",
     "text": [
      "full_mention:  steve jones\n",
      "full_mention Matched Value:  None 0.0\n"
     ]
    },
    {
     "name": "stderr",
     "output_type": "stream",
     "text": [
      "\r",
      " 60%|██████    | 537/891 [07:50<02:10,  2.70it/s]"
     ]
    },
    {
     "name": "stdout",
     "output_type": "stream",
     "text": [
      "full_mention:  steve jones\n",
      "full_mention Matched Value:  None 0.0\n"
     ]
    },
    {
     "name": "stderr",
     "output_type": "stream",
     "text": [
      "\r",
      " 60%|██████    | 538/891 [07:50<01:59,  2.96it/s]"
     ]
    },
    {
     "name": "stdout",
     "output_type": "stream",
     "text": [
      "full_mention:  phil mickelson\n",
      "full_mention Matched Value:  None 0.0\n"
     ]
    },
    {
     "name": "stderr",
     "output_type": "stream",
     "text": [
      "\r",
      " 60%|██████    | 539/891 [07:50<01:51,  3.17it/s]"
     ]
    },
    {
     "name": "stdout",
     "output_type": "stream",
     "text": [
      "full_mention:  phil mickelson\n",
      "full_mention Matched Value:  None 0.0\n"
     ]
    },
    {
     "name": "stderr",
     "output_type": "stream",
     "text": [
      "\r",
      " 61%|██████    | 540/891 [07:51<01:45,  3.34it/s]"
     ]
    },
    {
     "name": "stdout",
     "output_type": "stream",
     "text": [
      "full_mention:  greg norman\n",
      "full_mention Matched Value:  None 0.0\n"
     ]
    },
    {
     "name": "stderr",
     "output_type": "stream",
     "text": [
      "\r",
      " 61%|██████    | 541/891 [07:51<01:40,  3.47it/s]"
     ]
    },
    {
     "name": "stdout",
     "output_type": "stream",
     "text": [
      "full_mention:  greg norman\n",
      "full_mention Matched Value:  None 0.0\n"
     ]
    },
    {
     "name": "stderr",
     "output_type": "stream",
     "text": [
      "\r",
      " 61%|██████    | 542/891 [07:52<03:31,  1.65it/s]"
     ]
    },
    {
     "name": "stdout",
     "output_type": "stream",
     "text": [
      "full_mention:  australia\n",
      "full_mention Matched Value:  australia 1.0\n"
     ]
    },
    {
     "name": "stderr",
     "output_type": "stream",
     "text": [
      "\r",
      " 61%|██████    | 543/891 [07:52<02:54,  1.99it/s]"
     ]
    },
    {
     "name": "stdout",
     "output_type": "stream",
     "text": [
      "full_mention:  ernie els\n",
      "full_mention Matched Value:  None 0.0\n"
     ]
    },
    {
     "name": "stderr",
     "output_type": "stream",
     "text": [
      "\r",
      " 61%|██████    | 544/891 [07:53<02:29,  2.33it/s]"
     ]
    },
    {
     "name": "stdout",
     "output_type": "stream",
     "text": [
      "full_mention:  ernie els\n",
      "full_mention Matched Value:  None 0.0\n"
     ]
    },
    {
     "name": "stderr",
     "output_type": "stream",
     "text": [
      "\r",
      " 61%|██████    | 545/891 [07:53<02:14,  2.58it/s]"
     ]
    },
    {
     "name": "stdout",
     "output_type": "stream",
     "text": [
      "full_mention:  south africa\n",
      "full_mention Matched Value:  None 0.0\n"
     ]
    },
    {
     "name": "stderr",
     "output_type": "stream",
     "text": [
      "\r",
      " 61%|██████▏   | 546/891 [07:53<02:00,  2.85it/s]"
     ]
    },
    {
     "name": "stdout",
     "output_type": "stream",
     "text": [
      "full_mention:  south africa\n",
      "full_mention Matched Value:  None 0.0\n"
     ]
    },
    {
     "name": "stderr",
     "output_type": "stream",
     "text": [
      "\r",
      " 61%|██████▏   | 547/891 [07:54<01:52,  3.06it/s]"
     ]
    },
    {
     "name": "stdout",
     "output_type": "stream",
     "text": [
      "full_mention:  scott hoch\n",
      "full_mention Matched Value:  None 0.0\n"
     ]
    },
    {
     "name": "stderr",
     "output_type": "stream",
     "text": [
      "\r",
      " 62%|██████▏   | 548/891 [07:54<01:46,  3.22it/s]"
     ]
    },
    {
     "name": "stdout",
     "output_type": "stream",
     "text": [
      "full_mention:  scott hoch\n",
      "full_mention Matched Value:  None 0.0\n"
     ]
    },
    {
     "name": "stderr",
     "output_type": "stream",
     "text": [
      "\r",
      " 62%|██████▏   | 549/891 [07:54<01:41,  3.36it/s]"
     ]
    },
    {
     "name": "stdout",
     "output_type": "stream",
     "text": [
      "full_mention:  clarence rose\n",
      "full_mention Matched Value:  None 0.0\n"
     ]
    },
    {
     "name": "stderr",
     "output_type": "stream",
     "text": [
      "\r",
      " 62%|██████▏   | 550/891 [07:54<01:38,  3.48it/s]"
     ]
    },
    {
     "name": "stdout",
     "output_type": "stream",
     "text": [
      "full_mention:  clarence rose\n",
      "full_mention Matched Value:  None 0.0\n"
     ]
    },
    {
     "name": "stderr",
     "output_type": "stream",
     "text": [
      "\r",
      " 62%|██████▏   | 551/891 [07:55<01:35,  3.56it/s]"
     ]
    },
    {
     "name": "stdout",
     "output_type": "stream",
     "text": [
      "full_mention:  loren roberts\n",
      "full_mention Matched Value:  None 0.0\n"
     ]
    },
    {
     "name": "stderr",
     "output_type": "stream",
     "text": [
      "\r",
      " 62%|██████▏   | 552/891 [07:55<01:34,  3.60it/s]"
     ]
    },
    {
     "name": "stdout",
     "output_type": "stream",
     "text": [
      "full_mention:  loren roberts\n",
      "full_mention Matched Value:  None 0.0\n"
     ]
    },
    {
     "name": "stderr",
     "output_type": "stream",
     "text": [
      "\r",
      " 62%|██████▏   | 553/891 [07:55<01:33,  3.63it/s]"
     ]
    },
    {
     "name": "stdout",
     "output_type": "stream",
     "text": [
      "full_mention:  fred funk\n",
      "full_mention Matched Value:  None 0.0\n"
     ]
    },
    {
     "name": "stderr",
     "output_type": "stream",
     "text": [
      "\r",
      " 62%|██████▏   | 554/891 [07:55<01:31,  3.70it/s]"
     ]
    },
    {
     "name": "stdout",
     "output_type": "stream",
     "text": [
      "full_mention:  fred funk\n",
      "full_mention Matched Value:  None 0.0\n"
     ]
    },
    {
     "name": "stderr",
     "output_type": "stream",
     "text": [
      "\r",
      " 62%|██████▏   | 555/891 [07:56<01:30,  3.73it/s]"
     ]
    },
    {
     "name": "stdout",
     "output_type": "stream",
     "text": [
      "full_mention:  sven struver\n",
      "full_mention Matched Value:  None 0.0\n"
     ]
    },
    {
     "name": "stderr",
     "output_type": "stream",
     "text": [
      "\r",
      " 62%|██████▏   | 556/891 [07:56<01:29,  3.75it/s]"
     ]
    },
    {
     "name": "stdout",
     "output_type": "stream",
     "text": [
      "full_mention:  sven struver\n",
      "full_mention Matched Value:  None 0.0\n"
     ]
    },
    {
     "name": "stderr",
     "output_type": "stream",
     "text": [
      "\r",
      " 63%|██████▎   | 557/891 [07:57<03:22,  1.65it/s]"
     ]
    },
    {
     "name": "stdout",
     "output_type": "stream",
     "text": [
      "full_mention:  germany\n",
      "full_mention Matched Value:  germany 1.0\n"
     ]
    },
    {
     "name": "stderr",
     "output_type": "stream",
     "text": [
      "\r",
      " 63%|██████▎   | 558/891 [07:58<02:47,  1.99it/s]"
     ]
    },
    {
     "name": "stdout",
     "output_type": "stream",
     "text": [
      "full_mention:  alexander cejka\n",
      "full_mention Matched Value:  None 0.0\n"
     ]
    },
    {
     "name": "stderr",
     "output_type": "stream",
     "text": [
      "\r",
      " 63%|██████▎   | 559/891 [07:58<02:23,  2.31it/s]"
     ]
    },
    {
     "name": "stdout",
     "output_type": "stream",
     "text": [
      "full_mention:  alexander cejka\n",
      "full_mention Matched Value:  None 0.0\n"
     ]
    },
    {
     "name": "stderr",
     "output_type": "stream",
     "text": [
      "\r",
      " 63%|██████▎   | 560/891 [07:59<03:59,  1.38it/s]"
     ]
    },
    {
     "name": "stdout",
     "output_type": "stream",
     "text": [
      "full_mention:  germany\n",
      "full_mention Matched Value:  germany 1.0\n"
     ]
    },
    {
     "name": "stderr",
     "output_type": "stream",
     "text": [
      "\r",
      " 63%|██████▎   | 561/891 [08:00<03:14,  1.70it/s]"
     ]
    },
    {
     "name": "stdout",
     "output_type": "stream",
     "text": [
      "full_mention:  hal sutton\n",
      "full_mention Matched Value:  None 0.0\n"
     ]
    },
    {
     "name": "stderr",
     "output_type": "stream",
     "text": [
      "\r",
      " 63%|██████▎   | 562/891 [08:00<02:40,  2.05it/s]"
     ]
    },
    {
     "name": "stdout",
     "output_type": "stream",
     "text": [
      "full_mention:  hal sutton\n",
      "full_mention Matched Value:  None 0.0\n"
     ]
    },
    {
     "name": "stderr",
     "output_type": "stream",
     "text": [
      "\r",
      " 63%|██████▎   | 563/891 [08:00<02:17,  2.39it/s]"
     ]
    },
    {
     "name": "stdout",
     "output_type": "stream",
     "text": [
      "full_mention:  tom lehman\n",
      "full_mention Matched Value:  None 0.0\n"
     ]
    },
    {
     "name": "stderr",
     "output_type": "stream",
     "text": [
      "\r",
      " 63%|██████▎   | 564/891 [08:00<02:01,  2.69it/s]"
     ]
    },
    {
     "name": "stdout",
     "output_type": "stream",
     "text": [
      "full_mention:  tom lehman\n",
      "full_mention Matched Value:  None 0.0\n"
     ]
    },
    {
     "name": "stderr",
     "output_type": "stream",
     "text": [
      "\r",
      " 63%|██████▎   | 565/891 [08:01<01:50,  2.96it/s]"
     ]
    },
    {
     "name": "stdout",
     "output_type": "stream",
     "text": [
      "full_mention:  d.a. weibring\n",
      "full_mention Matched Value:  None 0.0\n"
     ]
    },
    {
     "name": "stderr",
     "output_type": "stream",
     "text": [
      "\r",
      " 64%|██████▎   | 566/891 [08:01<01:41,  3.19it/s]"
     ]
    },
    {
     "name": "stdout",
     "output_type": "stream",
     "text": [
      "full_mention:  d.a. weibring\n",
      "full_mention Matched Value:  None 0.0\n"
     ]
    },
    {
     "name": "stderr",
     "output_type": "stream",
     "text": [
      "\r",
      " 64%|██████▎   | 567/891 [08:01<01:36,  3.37it/s]"
     ]
    },
    {
     "name": "stdout",
     "output_type": "stream",
     "text": [
      "full_mention:  brad bryant\n",
      "full_mention Matched Value:  None 0.0\n"
     ]
    },
    {
     "name": "stderr",
     "output_type": "stream",
     "text": [
      "\r",
      " 64%|██████▎   | 568/891 [08:01<01:33,  3.47it/s]"
     ]
    },
    {
     "name": "stdout",
     "output_type": "stream",
     "text": [
      "full_mention:  brad bryant\n",
      "full_mention Matched Value:  None 0.0\n"
     ]
    },
    {
     "name": "stderr",
     "output_type": "stream",
     "text": [
      "\r",
      " 64%|██████▍   | 569/891 [08:02<01:29,  3.59it/s]"
     ]
    },
    {
     "name": "stdout",
     "output_type": "stream",
     "text": [
      "full_mention:  craig parry\n",
      "full_mention Matched Value:  None 0.0\n"
     ]
    },
    {
     "name": "stderr",
     "output_type": "stream",
     "text": [
      "\r",
      " 64%|██████▍   | 570/891 [08:02<01:27,  3.67it/s]"
     ]
    },
    {
     "name": "stdout",
     "output_type": "stream",
     "text": [
      "full_mention:  craig parry\n",
      "full_mention Matched Value:  None 0.0\n"
     ]
    },
    {
     "name": "stderr",
     "output_type": "stream",
     "text": [
      "\r",
      " 64%|██████▍   | 571/891 [08:03<03:06,  1.71it/s]"
     ]
    },
    {
     "name": "stdout",
     "output_type": "stream",
     "text": [
      "full_mention:  australia\n",
      "full_mention Matched Value:  australia 1.0\n"
     ]
    },
    {
     "name": "stderr",
     "output_type": "stream",
     "text": [
      "\r",
      " 64%|██████▍   | 572/891 [08:03<02:36,  2.04it/s]"
     ]
    },
    {
     "name": "stdout",
     "output_type": "stream",
     "text": [
      "full_mention:  stewart ginn\n",
      "full_mention Matched Value:  None 0.0\n"
     ]
    },
    {
     "name": "stderr",
     "output_type": "stream",
     "text": [
      "\r",
      " 64%|██████▍   | 573/891 [08:04<02:14,  2.36it/s]"
     ]
    },
    {
     "name": "stdout",
     "output_type": "stream",
     "text": [
      "full_mention:  stewart ginn\n",
      "full_mention Matched Value:  None 0.0\n"
     ]
    },
    {
     "name": "stderr",
     "output_type": "stream",
     "text": [
      "\r",
      " 64%|██████▍   | 574/891 [08:05<03:38,  1.45it/s]"
     ]
    },
    {
     "name": "stdout",
     "output_type": "stream",
     "text": [
      "full_mention:  australia\n",
      "full_mention Matched Value:  australia 1.0\n"
     ]
    },
    {
     "name": "stderr",
     "output_type": "stream",
     "text": [
      "\r",
      " 65%|██████▍   | 575/891 [08:05<02:57,  1.78it/s]"
     ]
    },
    {
     "name": "stdout",
     "output_type": "stream",
     "text": [
      "full_mention:  corey pavin\n",
      "full_mention Matched Value:  None 0.0\n"
     ]
    },
    {
     "name": "stderr",
     "output_type": "stream",
     "text": [
      "\r",
      " 65%|██████▍   | 576/891 [08:06<02:28,  2.12it/s]"
     ]
    },
    {
     "name": "stdout",
     "output_type": "stream",
     "text": [
      "full_mention:  corey pavin\n",
      "full_mention Matched Value:  None 0.0\n"
     ]
    },
    {
     "name": "stderr",
     "output_type": "stream",
     "text": [
      "\r",
      " 65%|██████▍   | 577/891 [08:06<02:07,  2.46it/s]"
     ]
    },
    {
     "name": "stdout",
     "output_type": "stream",
     "text": [
      "full_mention:  craig stadler\n",
      "full_mention Matched Value:  None 0.0\n"
     ]
    },
    {
     "name": "stderr",
     "output_type": "stream",
     "text": [
      "\r",
      " 65%|██████▍   | 578/891 [08:06<01:53,  2.77it/s]"
     ]
    },
    {
     "name": "stdout",
     "output_type": "stream",
     "text": [
      "full_mention:  craig stadler\n",
      "full_mention Matched Value:  None 0.0\n"
     ]
    },
    {
     "name": "stderr",
     "output_type": "stream",
     "text": [
      "\r",
      " 65%|██████▍   | 579/891 [08:06<01:43,  3.02it/s]"
     ]
    },
    {
     "name": "stdout",
     "output_type": "stream",
     "text": [
      "full_mention:  fred couples\n",
      "full_mention Matched Value:  None 0.0\n"
     ]
    },
    {
     "name": "stderr",
     "output_type": "stream",
     "text": [
      "\r",
      " 65%|██████▌   | 580/891 [08:07<01:35,  3.25it/s]"
     ]
    },
    {
     "name": "stdout",
     "output_type": "stream",
     "text": [
      "full_mention:  fred couples\n",
      "full_mention Matched Value:  None 0.0\n"
     ]
    },
    {
     "name": "stderr",
     "output_type": "stream",
     "text": [
      "\r",
      " 65%|██████▌   | 581/891 [08:07<01:32,  3.35it/s]"
     ]
    },
    {
     "name": "stdout",
     "output_type": "stream",
     "text": [
      "full_mention:  paul stankowski\n",
      "full_mention Matched Value:  None 0.0\n"
     ]
    },
    {
     "name": "stderr",
     "output_type": "stream",
     "text": [
      "\r",
      " 65%|██████▌   | 582/891 [08:07<01:27,  3.52it/s]"
     ]
    },
    {
     "name": "stdout",
     "output_type": "stream",
     "text": [
      "full_mention:  paul stankowski\n",
      "full_mention Matched Value:  None 0.0\n"
     ]
    },
    {
     "name": "stderr",
     "output_type": "stream",
     "text": [
      "\r",
      " 65%|██████▌   | 583/891 [08:07<01:25,  3.61it/s]"
     ]
    },
    {
     "name": "stdout",
     "output_type": "stream",
     "text": [
      "full_mention:  costantino rocca\n",
      "full_mention Matched Value:  None 0.0\n"
     ]
    },
    {
     "name": "stderr",
     "output_type": "stream",
     "text": [
      "\r",
      " 66%|██████▌   | 584/891 [08:08<01:23,  3.69it/s]"
     ]
    },
    {
     "name": "stdout",
     "output_type": "stream",
     "text": [
      "full_mention:  costantino rocca\n",
      "full_mention Matched Value:  None 0.0\n"
     ]
    },
    {
     "name": "stderr",
     "output_type": "stream",
     "text": [
      "\r",
      " 66%|██████▌   | 585/891 [08:09<02:59,  1.70it/s]"
     ]
    },
    {
     "name": "stdout",
     "output_type": "stream",
     "text": [
      "full_mention:  italy\n",
      "full_mention Matched Value:  italy 1.0\n"
     ]
    },
    {
     "name": "stderr",
     "output_type": "stream",
     "text": [
      "\r",
      " 66%|██████▌   | 586/891 [08:09<02:29,  2.03it/s]"
     ]
    },
    {
     "name": "stdout",
     "output_type": "stream",
     "text": [
      "full_mention:  jim furyk\n",
      "full_mention Matched Value:  None 0.0\n"
     ]
    },
    {
     "name": "stderr",
     "output_type": "stream",
     "text": [
      "\r",
      " 66%|██████▌   | 587/891 [08:10<02:07,  2.38it/s]"
     ]
    },
    {
     "name": "stdout",
     "output_type": "stream",
     "text": [
      "full_mention:  jim furyk\n",
      "full_mention Matched Value:  None 0.0\n"
     ]
    },
    {
     "name": "stderr",
     "output_type": "stream",
     "text": [
      "\r",
      " 66%|██████▌   | 588/891 [08:10<01:52,  2.68it/s]"
     ]
    },
    {
     "name": "stdout",
     "output_type": "stream",
     "text": [
      "full_mention:  satoshi higashi\n",
      "full_mention Matched Value:  None 0.0\n"
     ]
    },
    {
     "name": "stderr",
     "output_type": "stream",
     "text": [
      "\r",
      " 66%|██████▌   | 589/891 [08:10<01:42,  2.94it/s]"
     ]
    },
    {
     "name": "stdout",
     "output_type": "stream",
     "text": [
      "full_mention:  satoshi higashi\n",
      "full_mention Matched Value:  None 0.0\n"
     ]
    },
    {
     "name": "stderr",
     "output_type": "stream",
     "text": [
      "\r",
      " 66%|██████▌   | 590/891 [08:11<03:13,  1.56it/s]"
     ]
    },
    {
     "name": "stdout",
     "output_type": "stream",
     "text": [
      "full_mention:  japan\n",
      "full_mention Matched Value:  japan 1.0\n"
     ]
    },
    {
     "name": "stderr",
     "output_type": "stream",
     "text": [
      "\r",
      " 66%|██████▋   | 591/891 [08:12<02:38,  1.90it/s]"
     ]
    },
    {
     "name": "stdout",
     "output_type": "stream",
     "text": [
      "full_mention:  willie wood\n",
      "full_mention Matched Value:  None 0.0\n"
     ]
    },
    {
     "name": "stderr",
     "output_type": "stream",
     "text": [
      "\r",
      " 66%|██████▋   | 592/891 [08:12<02:14,  2.22it/s]"
     ]
    },
    {
     "name": "stdout",
     "output_type": "stream",
     "text": [
      "full_mention:  willie wood\n",
      "full_mention Matched Value:  None 0.0\n"
     ]
    },
    {
     "name": "stderr",
     "output_type": "stream",
     "text": [
      "\r",
      " 67%|██████▋   | 593/891 [08:12<01:56,  2.55it/s]"
     ]
    },
    {
     "name": "stdout",
     "output_type": "stream",
     "text": [
      "full_mention:  shigeki maruyama\n",
      "full_mention Matched Value:  None 0.0\n"
     ]
    },
    {
     "name": "stderr",
     "output_type": "stream",
     "text": [
      "\r",
      " 67%|██████▋   | 594/891 [08:12<01:45,  2.83it/s]"
     ]
    },
    {
     "name": "stdout",
     "output_type": "stream",
     "text": [
      "full_mention:  shigeki maruyama\n",
      "full_mention Matched Value:  None 0.0\n"
     ]
    },
    {
     "name": "stderr",
     "output_type": "stream",
     "text": [
      "\r",
      " 67%|██████▋   | 595/891 [08:14<03:11,  1.54it/s]"
     ]
    },
    {
     "name": "stdout",
     "output_type": "stream",
     "text": [
      "full_mention:  japan\n",
      "full_mention Matched Value:  japan 1.0\n"
     ]
    },
    {
     "name": "stderr",
     "output_type": "stream",
     "text": [
      "\r",
      " 67%|██████▋   | 596/891 [08:14<02:37,  1.87it/s]"
     ]
    },
    {
     "name": "stdout",
     "output_type": "stream",
     "text": [
      "full_mention:  scott mccarron\n",
      "full_mention Matched Value:  None 0.0\n"
     ]
    },
    {
     "name": "stderr",
     "output_type": "stream",
     "text": [
      "\r",
      " 67%|██████▋   | 597/891 [08:14<02:12,  2.21it/s]"
     ]
    },
    {
     "name": "stdout",
     "output_type": "stream",
     "text": [
      "full_mention:  scott mccarron\n",
      "full_mention Matched Value:  None 0.0\n"
     ]
    },
    {
     "name": "stderr",
     "output_type": "stream",
     "text": [
      "\r",
      " 67%|██████▋   | 598/891 [08:15<01:55,  2.53it/s]"
     ]
    },
    {
     "name": "stdout",
     "output_type": "stream",
     "text": [
      "full_mention:  wayne westner\n",
      "full_mention Matched Value:  None 0.0\n"
     ]
    },
    {
     "name": "stderr",
     "output_type": "stream",
     "text": [
      "\r",
      " 67%|██████▋   | 599/891 [08:15<01:43,  2.83it/s]"
     ]
    },
    {
     "name": "stdout",
     "output_type": "stream",
     "text": [
      "full_mention:  wayne westner\n",
      "full_mention Matched Value:  None 0.0\n"
     ]
    },
    {
     "name": "stderr",
     "output_type": "stream",
     "text": [
      "\r",
      " 67%|██████▋   | 600/891 [08:15<01:34,  3.07it/s]"
     ]
    },
    {
     "name": "stdout",
     "output_type": "stream",
     "text": [
      "full_mention:  south africa\n",
      "full_mention Matched Value:  None 0.0\n"
     ]
    },
    {
     "name": "stderr",
     "output_type": "stream",
     "text": [
      "\r",
      " 67%|██████▋   | 601/891 [08:15<01:28,  3.26it/s]"
     ]
    },
    {
     "name": "stdout",
     "output_type": "stream",
     "text": [
      "full_mention:  south africa\n",
      "full_mention Matched Value:  None 0.0\n"
     ]
    },
    {
     "name": "stderr",
     "output_type": "stream",
     "text": [
      "\r",
      " 68%|██████▊   | 602/891 [08:16<01:25,  3.40it/s]"
     ]
    },
    {
     "name": "stdout",
     "output_type": "stream",
     "text": [
      "full_mention:  tom watson\n",
      "full_mention Matched Value:  None 0.0\n"
     ]
    },
    {
     "name": "stderr",
     "output_type": "stream",
     "text": [
      "\r",
      " 68%|██████▊   | 603/891 [08:16<01:21,  3.52it/s]"
     ]
    },
    {
     "name": "stdout",
     "output_type": "stream",
     "text": [
      "full_mention:  tom watson\n",
      "full_mention Matched Value:  None 0.0\n"
     ]
    },
    {
     "name": "stderr",
     "output_type": "stream",
     "text": [
      "\r",
      " 68%|██████▊   | 604/891 [08:17<02:51,  1.67it/s]"
     ]
    },
    {
     "name": "stdout",
     "output_type": "stream",
     "text": [
      "full_mention:  japan\n",
      "full_mention Matched Value:  japan 1.0\n"
     ]
    },
    {
     "name": "stderr",
     "output_type": "stream",
     "text": [
      "\r",
      " 68%|██████▊   | 605/891 [08:17<02:21,  2.02it/s]"
     ]
    },
    {
     "name": "stdout",
     "output_type": "stream",
     "text": [
      "full_mention:  gloria bistrita\n",
      "full_mention Matched Value:  None 0.0\n"
     ]
    },
    {
     "name": "stderr",
     "output_type": "stream",
     "text": [
      "\r",
      " 68%|██████▊   | 606/891 [08:18<02:01,  2.35it/s]"
     ]
    },
    {
     "name": "stdout",
     "output_type": "stream",
     "text": [
      "full_mention:  gloria bistrita\n",
      "full_mention Matched Value:  None 0.0\n"
     ]
    },
    {
     "name": "stderr",
     "output_type": "stream",
     "text": [
      "\r",
      " 68%|██████▊   | 607/891 [08:19<03:19,  1.42it/s]"
     ]
    },
    {
     "name": "stdout",
     "output_type": "stream",
     "text": [
      "full_mention:  bistrita\n",
      "full_mention Matched Value:  dunărea 0.73817\n"
     ]
    },
    {
     "name": "stderr",
     "output_type": "stream",
     "text": [
      "\r",
      " 68%|██████▊   | 608/891 [08:19<02:41,  1.76it/s]"
     ]
    },
    {
     "name": "stdout",
     "output_type": "stream",
     "text": [
      "full_mention:  gloria bistrita\n",
      "full_mention Matched Value:  None 0.0\n"
     ]
    },
    {
     "name": "stderr",
     "output_type": "stream",
     "text": [
      "\r",
      " 68%|██████▊   | 609/891 [08:20<02:14,  2.10it/s]"
     ]
    },
    {
     "name": "stdout",
     "output_type": "stream",
     "text": [
      "full_mention:  gloria bistrita\n",
      "full_mention Matched Value:  None 0.0\n"
     ]
    },
    {
     "name": "stderr",
     "output_type": "stream",
     "text": [
      "\r",
      " 68%|██████▊   | 610/891 [08:21<03:26,  1.36it/s]"
     ]
    },
    {
     "name": "stdout",
     "output_type": "stream",
     "text": [
      "full_mention:  romania\n",
      "full_mention Matched Value:  romania 1.0\n"
     ]
    },
    {
     "name": "stderr",
     "output_type": "stream",
     "text": [
      "\r",
      " 69%|██████▊   | 611/891 [08:22<04:16,  1.09it/s]"
     ]
    },
    {
     "name": "stdout",
     "output_type": "stream",
     "text": [
      "full_mention:  malta\n",
      "full_mention Matched Value:  malta 1.0\n"
     ]
    },
    {
     "name": "stderr",
     "output_type": "stream",
     "text": [
      "\r",
      " 69%|██████▊   | 612/891 [08:23<03:20,  1.39it/s]"
     ]
    },
    {
     "name": "stdout",
     "output_type": "stream",
     "text": [
      "full_mention:  cup winners cup\n",
      "full_mention Matched Value:  None 0.0\n"
     ]
    },
    {
     "name": "stderr",
     "output_type": "stream",
     "text": [
      "\r",
      " 69%|██████▉   | 613/891 [08:23<02:41,  1.73it/s]"
     ]
    },
    {
     "name": "stdout",
     "output_type": "stream",
     "text": [
      "full_mention:  cup winners cup\n",
      "full_mention Matched Value:  None 0.0\n"
     ]
    },
    {
     "name": "stderr",
     "output_type": "stream",
     "text": [
      "\r",
      " 69%|██████▉   | 614/891 [08:23<02:14,  2.07it/s]"
     ]
    },
    {
     "name": "stdout",
     "output_type": "stream",
     "text": [
      "full_mention:  cup winners cup\n",
      "full_mention Matched Value:  None 0.0\n"
     ]
    },
    {
     "name": "stderr",
     "output_type": "stream",
     "text": [
      "\r",
      " 69%|██████▉   | 615/891 [08:23<01:54,  2.41it/s]"
     ]
    },
    {
     "name": "stdout",
     "output_type": "stream",
     "text": [
      "full_mention:  gloria bistrita\n",
      "full_mention Matched Value:  None 0.0\n"
     ]
    },
    {
     "name": "stderr",
     "output_type": "stream",
     "text": [
      "\r",
      " 69%|██████▉   | 616/891 [08:24<01:41,  2.71it/s]"
     ]
    },
    {
     "name": "stdout",
     "output_type": "stream",
     "text": [
      "full_mention:  gloria bistrita\n",
      "full_mention Matched Value:  None 0.0\n"
     ]
    },
    {
     "name": "stderr",
     "output_type": "stream",
     "text": [
      "\r",
      " 69%|██████▉   | 617/891 [08:24<01:31,  2.99it/s]"
     ]
    },
    {
     "name": "stdout",
     "output_type": "stream",
     "text": [
      "full_mention:  gilbert agius\n",
      "full_mention Matched Value:  None 0.0\n"
     ]
    },
    {
     "name": "stderr",
     "output_type": "stream",
     "text": [
      "\r",
      " 69%|██████▉   | 618/891 [08:24<01:25,  3.20it/s]"
     ]
    },
    {
     "name": "stdout",
     "output_type": "stream",
     "text": [
      "full_mention:  gilbert agius\n",
      "full_mention Matched Value:  None 0.0\n"
     ]
    },
    {
     "name": "stderr",
     "output_type": "stream",
     "text": [
      "\r",
      " 69%|██████▉   | 619/891 [08:24<01:20,  3.39it/s]"
     ]
    },
    {
     "name": "stdout",
     "output_type": "stream",
     "text": [
      "full_mention:  gloria bistrita\n",
      "full_mention Matched Value:  None 0.0\n"
     ]
    },
    {
     "name": "stderr",
     "output_type": "stream",
     "text": [
      "\r",
      " 70%|██████▉   | 620/891 [08:25<01:16,  3.53it/s]"
     ]
    },
    {
     "name": "stdout",
     "output_type": "stream",
     "text": [
      "full_mention:  gloria bistrita\n",
      "full_mention Matched Value:  None 0.0\n"
     ]
    },
    {
     "name": "stderr",
     "output_type": "stream",
     "text": [
      "\r",
      " 70%|██████▉   | 621/891 [08:25<01:14,  3.63it/s]"
     ]
    },
    {
     "name": "stdout",
     "output_type": "stream",
     "text": [
      "full_mention:  cup winners cup\n",
      "full_mention Matched Value:  None 0.0\n"
     ]
    },
    {
     "name": "stderr",
     "output_type": "stream",
     "text": [
      "\r",
      " 70%|██████▉   | 622/891 [08:25<01:12,  3.69it/s]"
     ]
    },
    {
     "name": "stdout",
     "output_type": "stream",
     "text": [
      "full_mention:  cup winners cup\n",
      "full_mention Matched Value:  None 0.0\n"
     ]
    },
    {
     "name": "stderr",
     "output_type": "stream",
     "text": [
      "\r",
      " 70%|██████▉   | 623/891 [08:25<01:11,  3.75it/s]"
     ]
    },
    {
     "name": "stdout",
     "output_type": "stream",
     "text": [
      "full_mention:  cup winners cup\n",
      "full_mention Matched Value:  None 0.0\n"
     ]
    },
    {
     "name": "stderr",
     "output_type": "stream",
     "text": [
      "\r",
      " 70%|███████   | 624/891 [08:27<02:34,  1.73it/s]"
     ]
    },
    {
     "name": "stdout",
     "output_type": "stream",
     "text": [
      "full_mention:  york\n",
      "full_mention Matched Value:  york 1.0\n"
     ]
    },
    {
     "name": "stderr",
     "output_type": "stream",
     "text": [
      "\r",
      " 70%|███████   | 625/891 [08:28<03:32,  1.25it/s]"
     ]
    },
    {
     "name": "stdout",
     "output_type": "stream",
     "text": [
      "full_mention:  england\n",
      "full_mention Matched Value:  england 1.0\n"
     ]
    },
    {
     "name": "stderr",
     "output_type": "stream",
     "text": [
      "\r",
      " 70%|███████   | 626/891 [08:28<02:49,  1.56it/s]"
     ]
    },
    {
     "name": "stdout",
     "output_type": "stream",
     "text": [
      "full_mention:  mark prescott\n",
      "full_mention Matched Value:  None 0.0\n"
     ]
    },
    {
     "name": "stderr",
     "output_type": "stream",
     "text": [
      "\r",
      " 70%|███████   | 627/891 [08:29<02:19,  1.90it/s]"
     ]
    },
    {
     "name": "stdout",
     "output_type": "stream",
     "text": [
      "full_mention:  mark prescott\n",
      "full_mention Matched Value:  None 0.0\n"
     ]
    },
    {
     "name": "stderr",
     "output_type": "stream",
     "text": [
      "\r",
      " 70%|███████   | 628/891 [08:29<01:58,  2.22it/s]"
     ]
    },
    {
     "name": "stdout",
     "output_type": "stream",
     "text": [
      "full_mention:  nunthorpe stakes\n",
      "full_mention Matched Value:  None 0.0\n"
     ]
    },
    {
     "name": "stderr",
     "output_type": "stream",
     "text": [
      "\r",
      " 71%|███████   | 629/891 [08:29<01:42,  2.55it/s]"
     ]
    },
    {
     "name": "stdout",
     "output_type": "stream",
     "text": [
      "full_mention:  nunthorpe stakes\n",
      "full_mention Matched Value:  None 0.0\n"
     ]
    },
    {
     "name": "stderr",
     "output_type": "stream",
     "text": [
      "\r",
      " 71%|███████   | 630/891 [08:29<01:33,  2.78it/s]"
     ]
    },
    {
     "name": "stdout",
     "output_type": "stream",
     "text": [
      "full_mention:  george duffield\n",
      "full_mention Matched Value:  None 0.0\n"
     ]
    },
    {
     "name": "stderr",
     "output_type": "stream",
     "text": [
      "\r",
      " 71%|███████   | 631/891 [08:30<01:25,  3.03it/s]"
     ]
    },
    {
     "name": "stdout",
     "output_type": "stream",
     "text": [
      "full_mention:  george duffield\n",
      "full_mention Matched Value:  None 0.0\n"
     ]
    },
    {
     "name": "stderr",
     "output_type": "stream",
     "text": [
      "\r",
      " 71%|███████   | 632/891 [08:31<02:43,  1.58it/s]"
     ]
    },
    {
     "name": "stdout",
     "output_type": "stream",
     "text": [
      "full_mention:  longchamp\n",
      "full_mention Matched Value:  tipperkevin 0.60929\n"
     ]
    },
    {
     "name": "stderr",
     "output_type": "stream",
     "text": [
      "\r",
      " 71%|███████   | 633/891 [08:31<02:13,  1.93it/s]"
     ]
    },
    {
     "name": "stdout",
     "output_type": "stream",
     "text": [
      "full_mention:  royal ascot\n",
      "full_mention Matched Value:  None 0.0\n"
     ]
    },
    {
     "name": "stderr",
     "output_type": "stream",
     "text": [
      "\r",
      " 71%|███████   | 634/891 [08:31<01:53,  2.26it/s]"
     ]
    },
    {
     "name": "stdout",
     "output_type": "stream",
     "text": [
      "full_mention:  royal ascot\n",
      "full_mention Matched Value:  None 0.0\n"
     ]
    },
    {
     "name": "stderr",
     "output_type": "stream",
     "text": [
      "\r",
      " 71%|███████▏  | 635/891 [08:33<03:02,  1.40it/s]"
     ]
    },
    {
     "name": "stdout",
     "output_type": "stream",
     "text": [
      "full_mention:  europe\n",
      "full_mention Matched Value:  europe 1.0\n"
     ]
    },
    {
     "name": "stderr",
     "output_type": "stream",
     "text": [
      "\r",
      " 71%|███████▏  | 636/891 [08:34<03:52,  1.10it/s]"
     ]
    },
    {
     "name": "stdout",
     "output_type": "stream",
     "text": [
      "full_mention:  york\n",
      "full_mention Matched Value:  york 1.0\n"
     ]
    },
    {
     "name": "stderr",
     "output_type": "stream",
     "text": [
      "\r",
      " 71%|███████▏  | 637/891 [08:36<04:32,  1.07s/it]"
     ]
    },
    {
     "name": "stdout",
     "output_type": "stream",
     "text": [
      "full_mention:  england\n",
      "full_mention Matched Value:  england 1.0\n"
     ]
    },
    {
     "name": "stderr",
     "output_type": "stream",
     "text": [
      "\r",
      " 72%|███████▏  | 638/891 [08:36<03:30,  1.20it/s]"
     ]
    },
    {
     "name": "stdout",
     "output_type": "stream",
     "text": [
      "full_mention:  nunthorpe stakes\n",
      "full_mention Matched Value:  None 0.0\n"
     ]
    },
    {
     "name": "stderr",
     "output_type": "stream",
     "text": [
      "\r",
      " 72%|███████▏  | 639/891 [08:36<02:47,  1.50it/s]"
     ]
    },
    {
     "name": "stdout",
     "output_type": "stream",
     "text": [
      "full_mention:  nunthorpe stakes\n",
      "full_mention Matched Value:  None 0.0\n"
     ]
    },
    {
     "name": "stderr",
     "output_type": "stream",
     "text": [
      "\r",
      " 72%|███████▏  | 640/891 [08:36<02:17,  1.82it/s]"
     ]
    },
    {
     "name": "stdout",
     "output_type": "stream",
     "text": [
      "full_mention:  george duffield\n",
      "full_mention Matched Value:  None 0.0\n"
     ]
    },
    {
     "name": "stderr",
     "output_type": "stream",
     "text": [
      "\r",
      " 72%|███████▏  | 641/891 [08:37<01:57,  2.13it/s]"
     ]
    },
    {
     "name": "stdout",
     "output_type": "stream",
     "text": [
      "full_mention:  george duffield\n",
      "full_mention Matched Value:  None 0.0\n"
     ]
    },
    {
     "name": "stderr",
     "output_type": "stream",
     "text": [
      "\r",
      " 72%|███████▏  | 642/891 [08:37<01:42,  2.44it/s]"
     ]
    },
    {
     "name": "stdout",
     "output_type": "stream",
     "text": [
      "full_mention:  jason weaver\n",
      "full_mention Matched Value:  None 0.0\n"
     ]
    },
    {
     "name": "stderr",
     "output_type": "stream",
     "text": [
      "\r",
      " 72%|███████▏  | 643/891 [08:37<01:29,  2.76it/s]"
     ]
    },
    {
     "name": "stdout",
     "output_type": "stream",
     "text": [
      "full_mention:  jason weaver\n",
      "full_mention Matched Value:  None 0.0\n"
     ]
    },
    {
     "name": "stderr",
     "output_type": "stream",
     "text": [
      "\r",
      " 72%|███████▏  | 644/891 [08:37<01:21,  3.04it/s]"
     ]
    },
    {
     "name": "stdout",
     "output_type": "stream",
     "text": [
      "full_mention:  mark prescott\n",
      "full_mention Matched Value:  None 0.0\n"
     ]
    },
    {
     "name": "stderr",
     "output_type": "stream",
     "text": [
      "\r",
      " 72%|███████▏  | 645/891 [08:38<01:15,  3.25it/s]"
     ]
    },
    {
     "name": "stdout",
     "output_type": "stream",
     "text": [
      "full_mention:  mark prescott\n",
      "full_mention Matched Value:  None 0.0\n"
     ]
    },
    {
     "name": "stderr",
     "output_type": "stream",
     "text": [
      "\r",
      " 73%|███████▎  | 646/891 [08:39<02:32,  1.61it/s]"
     ]
    },
    {
     "name": "stdout",
     "output_type": "stream",
     "text": [
      "full_mention:  newmarket\n",
      "full_mention Matched Value:  derbys 0.66378\n"
     ]
    },
    {
     "name": "stderr",
     "output_type": "stream",
     "text": [
      "\r",
      " 73%|███████▎  | 647/891 [08:39<02:05,  1.95it/s]"
     ]
    },
    {
     "name": "stdout",
     "output_type": "stream",
     "text": [
      "full_mention:  toshiba classic\n",
      "full_mention Matched Value:  None 0.0\n"
     ]
    },
    {
     "name": "stderr",
     "output_type": "stream",
     "text": [
      "\r",
      " 73%|███████▎  | 648/891 [08:40<01:46,  2.29it/s]"
     ]
    },
    {
     "name": "stdout",
     "output_type": "stream",
     "text": [
      "full_mention:  toshiba classic\n",
      "full_mention Matched Value:  None 0.0\n"
     ]
    },
    {
     "name": "stderr",
     "output_type": "stream",
     "text": [
      "\r",
      " 73%|███████▎  | 649/891 [08:41<02:49,  1.42it/s]"
     ]
    },
    {
     "name": "stdout",
     "output_type": "stream",
     "text": [
      "full_mention:  carlsbad\n",
      "full_mention Matched Value:  altadena 0.67771\n"
     ]
    },
    {
     "name": "stderr",
     "output_type": "stream",
     "text": [
      "\r",
      " 73%|███████▎  | 650/891 [08:42<03:35,  1.12it/s]"
     ]
    },
    {
     "name": "stdout",
     "output_type": "stream",
     "text": [
      "full_mention:  california\n",
      "full_mention Matched Value:  california 1.0\n"
     ]
    },
    {
     "name": "stderr",
     "output_type": "stream",
     "text": [
      "\r",
      " 73%|███████▎  | 651/891 [08:43<02:48,  1.42it/s]"
     ]
    },
    {
     "name": "stdout",
     "output_type": "stream",
     "text": [
      "full_mention:  toshiba classic\n",
      "full_mention Matched Value:  None 0.0\n"
     ]
    },
    {
     "name": "stderr",
     "output_type": "stream",
     "text": [
      "\r",
      " 73%|███████▎  | 652/891 [08:43<02:15,  1.76it/s]"
     ]
    },
    {
     "name": "stdout",
     "output_type": "stream",
     "text": [
      "full_mention:  toshiba classic\n",
      "full_mention Matched Value:  None 0.0\n"
     ]
    },
    {
     "name": "stderr",
     "output_type": "stream",
     "text": [
      "\r",
      " 73%|███████▎  | 653/891 [08:43<01:53,  2.11it/s]"
     ]
    },
    {
     "name": "stdout",
     "output_type": "stream",
     "text": [
      "full_mention:  arantxa sanchez vicario\n",
      "full_mention Matched Value:  None 0.0\n"
     ]
    },
    {
     "name": "stderr",
     "output_type": "stream",
     "text": [
      "\r",
      " 73%|███████▎  | 654/891 [08:43<01:37,  2.42it/s]"
     ]
    },
    {
     "name": "stdout",
     "output_type": "stream",
     "text": [
      "full_mention:  arantxa sanchez vicario\n",
      "full_mention Matched Value:  None 0.0\n"
     ]
    },
    {
     "name": "stderr",
     "output_type": "stream",
     "text": [
      "\r",
      " 74%|███████▎  | 655/891 [08:44<01:27,  2.71it/s]"
     ]
    },
    {
     "name": "stdout",
     "output_type": "stream",
     "text": [
      "full_mention:  arantxa sanchez vicario\n",
      "full_mention Matched Value:  None 0.0\n"
     ]
    },
    {
     "name": "stderr",
     "output_type": "stream",
     "text": [
      "\r",
      " 74%|███████▎  | 656/891 [08:45<02:35,  1.51it/s]"
     ]
    },
    {
     "name": "stdout",
     "output_type": "stream",
     "text": [
      "full_mention:  spain\n",
      "full_mention Matched Value:  spain 1.0\n"
     ]
    },
    {
     "name": "stderr",
     "output_type": "stream",
     "text": [
      "\r",
      " 74%|███████▎  | 657/891 [08:46<03:26,  1.13it/s]"
     ]
    },
    {
     "name": "stdout",
     "output_type": "stream",
     "text": [
      "full_mention:  japan\n",
      "full_mention Matched Value:  japan 1.0\n"
     ]
    },
    {
     "name": "stderr",
     "output_type": "stream",
     "text": [
      "\r",
      " 74%|███████▍  | 658/891 [08:47<02:42,  1.43it/s]"
     ]
    },
    {
     "name": "stdout",
     "output_type": "stream",
     "text": [
      "full_mention:  kimiko date\n",
      "full_mention Matched Value:  None 0.0\n"
     ]
    },
    {
     "name": "stderr",
     "output_type": "stream",
     "text": [
      "\r",
      " 74%|███████▍  | 659/891 [08:47<02:11,  1.76it/s]"
     ]
    },
    {
     "name": "stdout",
     "output_type": "stream",
     "text": [
      "full_mention:  kimiko date\n",
      "full_mention Matched Value:  None 0.0\n"
     ]
    },
    {
     "name": "stderr",
     "output_type": "stream",
     "text": [
      "\r",
      " 74%|███████▍  | 660/891 [08:48<03:04,  1.25it/s]"
     ]
    },
    {
     "name": "stdout",
     "output_type": "stream",
     "text": [
      "full_mention:  japan\n",
      "full_mention Matched Value:  japan 1.0\n"
     ]
    },
    {
     "name": "stderr",
     "output_type": "stream",
     "text": [
      "\r",
      " 74%|███████▍  | 661/891 [08:50<03:50,  1.00s/it]"
     ]
    },
    {
     "name": "stdout",
     "output_type": "stream",
     "text": [
      "full_mention:  japan\n",
      "full_mention Matched Value:  japan 1.0\n"
     ]
    },
    {
     "name": "stderr",
     "output_type": "stream",
     "text": [
      "\r",
      " 74%|███████▍  | 662/891 [08:50<03:01,  1.26it/s]"
     ]
    },
    {
     "name": "stdout",
     "output_type": "stream",
     "text": [
      "full_mention:  sandrine testud\n",
      "full_mention Matched Value:  None 0.0\n"
     ]
    },
    {
     "name": "stderr",
     "output_type": "stream",
     "text": [
      "\r",
      " 74%|███████▍  | 663/891 [08:50<02:25,  1.57it/s]"
     ]
    },
    {
     "name": "stdout",
     "output_type": "stream",
     "text": [
      "full_mention:  sandrine testud\n",
      "full_mention Matched Value:  None 0.0\n"
     ]
    },
    {
     "name": "stderr",
     "output_type": "stream",
     "text": [
      "\r",
      " 75%|███████▍  | 664/891 [08:52<03:12,  1.18it/s]"
     ]
    },
    {
     "name": "stdout",
     "output_type": "stream",
     "text": [
      "full_mention:  france\n",
      "full_mention Matched Value:  france 1.0\n"
     ]
    },
    {
     "name": "stderr",
     "output_type": "stream",
     "text": [
      "\r",
      " 75%|███████▍  | 665/891 [08:52<02:32,  1.48it/s]"
     ]
    },
    {
     "name": "stdout",
     "output_type": "stream",
     "text": [
      "full_mention:  ai sugiyama\n",
      "full_mention Matched Value:  None 0.0\n"
     ]
    },
    {
     "name": "stderr",
     "output_type": "stream",
     "text": [
      "\r",
      " 75%|███████▍  | 666/891 [08:52<02:03,  1.83it/s]"
     ]
    },
    {
     "name": "stdout",
     "output_type": "stream",
     "text": [
      "full_mention:  ai sugiyama\n",
      "full_mention Matched Value:  None 0.0\n"
     ]
    },
    {
     "name": "stderr",
     "output_type": "stream",
     "text": [
      "\r",
      " 75%|███████▍  | 667/891 [08:53<02:56,  1.27it/s]"
     ]
    },
    {
     "name": "stdout",
     "output_type": "stream",
     "text": [
      "full_mention:  japan\n",
      "full_mention Matched Value:  japan 1.0\n"
     ]
    },
    {
     "name": "stderr",
     "output_type": "stream",
     "text": [
      "\r",
      " 75%|███████▍  | 668/891 [08:54<02:20,  1.59it/s]"
     ]
    },
    {
     "name": "stdout",
     "output_type": "stream",
     "text": [
      "full_mention:  nathalie tauziat\n",
      "full_mention Matched Value:  None 0.0\n"
     ]
    },
    {
     "name": "stderr",
     "output_type": "stream",
     "text": [
      "\r",
      " 75%|███████▌  | 669/891 [08:54<01:54,  1.93it/s]"
     ]
    },
    {
     "name": "stdout",
     "output_type": "stream",
     "text": [
      "full_mention:  nathalie tauziat\n",
      "full_mention Matched Value:  None 0.0\n"
     ]
    },
    {
     "name": "stderr",
     "output_type": "stream",
     "text": [
      "\r",
      " 75%|███████▌  | 670/891 [08:55<02:49,  1.30it/s]"
     ]
    },
    {
     "name": "stdout",
     "output_type": "stream",
     "text": [
      "full_mention:  france\n",
      "full_mention Matched Value:  france 1.0\n"
     ]
    },
    {
     "name": "stderr",
     "output_type": "stream",
     "text": [
      "\r",
      " 75%|███████▌  | 671/891 [08:56<02:15,  1.63it/s]"
     ]
    },
    {
     "name": "stdout",
     "output_type": "stream",
     "text": [
      "full_mention:  shi-ting wang\n",
      "full_mention Matched Value:  None 0.0\n"
     ]
    },
    {
     "name": "stderr",
     "output_type": "stream",
     "text": [
      "\r",
      " 75%|███████▌  | 672/891 [08:56<01:50,  1.98it/s]"
     ]
    },
    {
     "name": "stdout",
     "output_type": "stream",
     "text": [
      "full_mention:  shi-ting wang\n",
      "full_mention Matched Value:  None 0.0\n"
     ]
    },
    {
     "name": "stderr",
     "output_type": "stream",
     "text": [
      "\r",
      " 76%|███████▌  | 673/891 [08:57<02:44,  1.33it/s]"
     ]
    },
    {
     "name": "stdout",
     "output_type": "stream",
     "text": [
      "full_mention:  taiwan\n",
      "full_mention Matched Value:  taiwan 1.0\n"
     ]
    },
    {
     "name": "stderr",
     "output_type": "stream",
     "text": [
      "\r",
      " 76%|███████▌  | 674/891 [08:59<03:22,  1.07it/s]"
     ]
    },
    {
     "name": "stdout",
     "output_type": "stream",
     "text": [
      "full_mention:  commack\n",
      "full_mention Matched Value:  bronx 0.69158\n"
     ]
    },
    {
     "name": "stderr",
     "output_type": "stream",
     "text": [
      "\r",
      " 76%|███████▌  | 675/891 [08:59<02:38,  1.37it/s]"
     ]
    },
    {
     "name": "stdout",
     "output_type": "stream",
     "text": [
      "full_mention:  new york\n",
      "full_mention Matched Value:  None 0.0\n"
     ]
    },
    {
     "name": "stderr",
     "output_type": "stream",
     "text": [
      "\r",
      " 76%|███████▌  | 676/891 [08:59<02:06,  1.69it/s]"
     ]
    },
    {
     "name": "stdout",
     "output_type": "stream",
     "text": [
      "full_mention:  new york\n",
      "full_mention Matched Value:  None 0.0\n"
     ]
    },
    {
     "name": "stderr",
     "output_type": "stream",
     "text": [
      "\r",
      " 76%|███████▌  | 677/891 [08:59<01:45,  2.03it/s]"
     ]
    },
    {
     "name": "stdout",
     "output_type": "stream",
     "text": [
      "full_mention:  michael chang\n",
      "full_mention Matched Value:  None 0.0\n"
     ]
    },
    {
     "name": "stderr",
     "output_type": "stream",
     "text": [
      "\r",
      " 76%|███████▌  | 678/891 [09:00<01:29,  2.38it/s]"
     ]
    },
    {
     "name": "stdout",
     "output_type": "stream",
     "text": [
      "full_mention:  michael chang\n",
      "full_mention Matched Value:  None 0.0\n"
     ]
    },
    {
     "name": "stderr",
     "output_type": "stream",
     "text": [
      "\r",
      " 76%|███████▌  | 679/891 [09:00<01:19,  2.67it/s]"
     ]
    },
    {
     "name": "stdout",
     "output_type": "stream",
     "text": [
      "full_mention:  u.s.\n",
      "full_mention Matched Value:  None 0.0\n"
     ]
    },
    {
     "name": "stderr",
     "output_type": "stream",
     "text": [
      "\r",
      " 76%|███████▋  | 680/891 [09:00<01:11,  2.95it/s]"
     ]
    },
    {
     "name": "stdout",
     "output_type": "stream",
     "text": [
      "full_mention:  sergi bruguera\n",
      "full_mention Matched Value:  None 0.0\n"
     ]
    },
    {
     "name": "stderr",
     "output_type": "stream",
     "text": [
      "\r",
      " 76%|███████▋  | 681/891 [09:00<01:06,  3.16it/s]"
     ]
    },
    {
     "name": "stdout",
     "output_type": "stream",
     "text": [
      "full_mention:  sergi bruguera\n",
      "full_mention Matched Value:  None 0.0\n"
     ]
    },
    {
     "name": "stderr",
     "output_type": "stream",
     "text": [
      "\r",
      " 77%|███████▋  | 682/891 [09:02<02:09,  1.62it/s]"
     ]
    },
    {
     "name": "stdout",
     "output_type": "stream",
     "text": [
      "full_mention:  spain\n",
      "full_mention Matched Value:  spain 1.0\n"
     ]
    },
    {
     "name": "stderr",
     "output_type": "stream",
     "text": [
      "\r",
      " 77%|███████▋  | 683/891 [09:02<01:46,  1.96it/s]"
     ]
    },
    {
     "name": "stdout",
     "output_type": "stream",
     "text": [
      "full_mention:  michael joyce\n",
      "full_mention Matched Value:  None 0.0\n"
     ]
    },
    {
     "name": "stderr",
     "output_type": "stream",
     "text": [
      "\r",
      " 77%|███████▋  | 684/891 [09:02<01:29,  2.30it/s]"
     ]
    },
    {
     "name": "stdout",
     "output_type": "stream",
     "text": [
      "full_mention:  michael joyce\n",
      "full_mention Matched Value:  None 0.0\n"
     ]
    },
    {
     "name": "stderr",
     "output_type": "stream",
     "text": [
      "\r",
      " 77%|███████▋  | 685/891 [09:02<01:18,  2.62it/s]"
     ]
    },
    {
     "name": "stdout",
     "output_type": "stream",
     "text": [
      "full_mention:  u.s.\n",
      "full_mention Matched Value:  None 0.0\n"
     ]
    },
    {
     "name": "stderr",
     "output_type": "stream",
     "text": [
      "\r",
      " 77%|███████▋  | 686/891 [09:03<01:10,  2.91it/s]"
     ]
    },
    {
     "name": "stdout",
     "output_type": "stream",
     "text": [
      "full_mention:  richey reneberg\n",
      "full_mention Matched Value:  None 0.0\n"
     ]
    },
    {
     "name": "stderr",
     "output_type": "stream",
     "text": [
      "\r",
      " 77%|███████▋  | 687/891 [09:03<01:04,  3.15it/s]"
     ]
    },
    {
     "name": "stdout",
     "output_type": "stream",
     "text": [
      "full_mention:  richey reneberg\n",
      "full_mention Matched Value:  None 0.0\n"
     ]
    },
    {
     "name": "stderr",
     "output_type": "stream",
     "text": [
      "\r",
      " 77%|███████▋  | 688/891 [09:03<01:00,  3.34it/s]"
     ]
    },
    {
     "name": "stdout",
     "output_type": "stream",
     "text": [
      "full_mention:  u.s.\n",
      "full_mention Matched Value:  None 0.0\n"
     ]
    },
    {
     "name": "stderr",
     "output_type": "stream",
     "text": [
      "\r",
      " 77%|███████▋  | 689/891 [09:03<00:58,  3.47it/s]"
     ]
    },
    {
     "name": "stdout",
     "output_type": "stream",
     "text": [
      "full_mention:  martin damm\n",
      "full_mention Matched Value:  None 0.0\n"
     ]
    },
    {
     "name": "stderr",
     "output_type": "stream",
     "text": [
      "\r",
      " 77%|███████▋  | 690/891 [09:04<00:57,  3.49it/s]"
     ]
    },
    {
     "name": "stdout",
     "output_type": "stream",
     "text": [
      "full_mention:  martin damm\n",
      "full_mention Matched Value:  None 0.0\n"
     ]
    },
    {
     "name": "stderr",
     "output_type": "stream",
     "text": [
      "\r",
      " 78%|███████▊  | 691/891 [09:04<00:55,  3.60it/s]"
     ]
    },
    {
     "name": "stdout",
     "output_type": "stream",
     "text": [
      "full_mention:  czech republic\n",
      "full_mention Matched Value:  None 0.0\n"
     ]
    },
    {
     "name": "stderr",
     "output_type": "stream",
     "text": [
      "\r",
      " 78%|███████▊  | 692/891 [09:04<00:54,  3.68it/s]"
     ]
    },
    {
     "name": "stdout",
     "output_type": "stream",
     "text": [
      "full_mention:  czech republic\n",
      "full_mention Matched Value:  None 0.0\n"
     ]
    },
    {
     "name": "stderr",
     "output_type": "stream",
     "text": [
      "\r",
      " 78%|███████▊  | 693/891 [09:05<00:52,  3.75it/s]"
     ]
    },
    {
     "name": "stdout",
     "output_type": "stream",
     "text": [
      "full_mention:  younes el aynaoui\n",
      "full_mention Matched Value:  None 0.0\n"
     ]
    },
    {
     "name": "stderr",
     "output_type": "stream",
     "text": [
      "\r",
      " 78%|███████▊  | 694/891 [09:05<00:52,  3.78it/s]"
     ]
    },
    {
     "name": "stdout",
     "output_type": "stream",
     "text": [
      "full_mention:  younes el aynaoui\n",
      "full_mention Matched Value:  None 0.0\n"
     ]
    },
    {
     "name": "stderr",
     "output_type": "stream",
     "text": [
      "\r",
      " 78%|███████▊  | 695/891 [09:05<00:50,  3.84it/s]"
     ]
    },
    {
     "name": "stdout",
     "output_type": "stream",
     "text": [
      "full_mention:  younes el aynaoui\n",
      "full_mention Matched Value:  None 0.0\n"
     ]
    },
    {
     "name": "stderr",
     "output_type": "stream",
     "text": [
      "\r",
      " 78%|███████▊  | 696/891 [09:06<01:53,  1.71it/s]"
     ]
    },
    {
     "name": "stdout",
     "output_type": "stream",
     "text": [
      "full_mention:  morocco\n",
      "full_mention Matched Value:  morocco 1.0\n"
     ]
    },
    {
     "name": "stderr",
     "output_type": "stream",
     "text": [
      "\r",
      " 78%|███████▊  | 697/891 [09:07<01:34,  2.05it/s]"
     ]
    },
    {
     "name": "stdout",
     "output_type": "stream",
     "text": [
      "full_mention:  karol kucera\n",
      "full_mention Matched Value:  None 0.0\n"
     ]
    },
    {
     "name": "stderr",
     "output_type": "stream",
     "text": [
      "\r",
      " 78%|███████▊  | 698/891 [09:07<01:20,  2.39it/s]"
     ]
    },
    {
     "name": "stdout",
     "output_type": "stream",
     "text": [
      "full_mention:  karol kucera\n",
      "full_mention Matched Value:  None 0.0\n"
     ]
    },
    {
     "name": "stderr",
     "output_type": "stream",
     "text": [
      "\r",
      " 78%|███████▊  | 699/891 [09:08<02:14,  1.43it/s]"
     ]
    },
    {
     "name": "stdout",
     "output_type": "stream",
     "text": [
      "full_mention:  slovakia\n",
      "full_mention Matched Value:  slovakia 1.0\n"
     ]
    },
    {
     "name": "stderr",
     "output_type": "stream",
     "text": [
      "\r",
      " 79%|███████▊  | 700/891 [09:09<01:48,  1.75it/s]"
     ]
    },
    {
     "name": "stdout",
     "output_type": "stream",
     "text": [
      "full_mention:  hicham arazi\n",
      "full_mention Matched Value:  None 0.0\n"
     ]
    },
    {
     "name": "stderr",
     "output_type": "stream",
     "text": [
      "\r",
      " 79%|███████▊  | 701/891 [09:09<01:30,  2.09it/s]"
     ]
    },
    {
     "name": "stdout",
     "output_type": "stream",
     "text": [
      "full_mention:  hicham arazi\n",
      "full_mention Matched Value:  None 0.0\n"
     ]
    },
    {
     "name": "stderr",
     "output_type": "stream",
     "text": [
      "\r",
      " 79%|███████▉  | 702/891 [09:10<02:20,  1.34it/s]"
     ]
    },
    {
     "name": "stdout",
     "output_type": "stream",
     "text": [
      "full_mention:  morocco\n",
      "full_mention Matched Value:  morocco 1.0\n"
     ]
    },
    {
     "name": "stderr",
     "output_type": "stream",
     "text": [
      "\r",
      " 79%|███████▉  | 703/891 [09:12<02:55,  1.07it/s]"
     ]
    },
    {
     "name": "stdout",
     "output_type": "stream",
     "text": [
      "full_mention:  dalglish\n",
      "full_mention Matched Value:  everton 0.73314\n"
     ]
    },
    {
     "name": "stderr",
     "output_type": "stream",
     "text": [
      "\r",
      " 79%|███████▉  | 704/891 [09:13<03:17,  1.06s/it]"
     ]
    },
    {
     "name": "stdout",
     "output_type": "stream",
     "text": [
      "full_mention:  blackburn\n",
      "full_mention Matched Value:  blackburn 1.0\n"
     ]
    },
    {
     "name": "stderr",
     "output_type": "stream",
     "text": [
      "\r",
      " 79%|███████▉  | 705/891 [09:14<03:31,  1.14s/it]"
     ]
    },
    {
     "name": "stdout",
     "output_type": "stream",
     "text": [
      "full_mention:  london\n",
      "full_mention Matched Value:  london 1.0\n"
     ]
    },
    {
     "name": "stderr",
     "output_type": "stream",
     "text": [
      "\r",
      " 79%|███████▉  | 706/891 [09:14<02:42,  1.14it/s]"
     ]
    },
    {
     "name": "stdout",
     "output_type": "stream",
     "text": [
      "full_mention:  kenny dalglish\n",
      "full_mention Matched Value:  None 0.0\n"
     ]
    },
    {
     "name": "stderr",
     "output_type": "stream",
     "text": [
      "\r",
      " 79%|███████▉  | 707/891 [09:15<02:07,  1.44it/s]"
     ]
    },
    {
     "name": "stdout",
     "output_type": "stream",
     "text": [
      "full_mention:  kenny dalglish\n",
      "full_mention Matched Value:  None 0.0\n"
     ]
    },
    {
     "name": "stderr",
     "output_type": "stream",
     "text": [
      "\r",
      " 79%|███████▉  | 708/891 [09:16<02:43,  1.12it/s]"
     ]
    },
    {
     "name": "stdout",
     "output_type": "stream",
     "text": [
      "full_mention:  blackburn\n",
      "full_mention Matched Value:  blackburn 1.0\n"
     ]
    },
    {
     "name": "stderr",
     "output_type": "stream",
     "text": [
      "\r",
      " 80%|███████▉  | 709/891 [09:17<03:06,  1.03s/it]"
     ]
    },
    {
     "name": "stdout",
     "output_type": "stream",
     "text": [
      "full_mention:  english\n",
      "full_mention Matched Value:  english 1.0\n"
     ]
    },
    {
     "name": "stderr",
     "output_type": "stream",
     "text": [
      "\r",
      " 80%|███████▉  | 710/891 [09:19<03:23,  1.13s/it]"
     ]
    },
    {
     "name": "stdout",
     "output_type": "stream",
     "text": [
      "full_mention:  blackburn\n",
      "full_mention Matched Value:  blackburn 1.0\n"
     ]
    },
    {
     "name": "stderr",
     "output_type": "stream",
     "text": [
      "\r",
      " 80%|███████▉  | 711/891 [09:20<03:35,  1.20s/it]"
     ]
    },
    {
     "name": "stdout",
     "output_type": "stream",
     "text": [
      "full_mention:  dalglish\n",
      "full_mention Matched Value:  everton 0.73314\n"
     ]
    },
    {
     "name": "stderr",
     "output_type": "stream",
     "text": [
      "\r",
      " 80%|███████▉  | 712/891 [09:21<03:41,  1.24s/it]"
     ]
    },
    {
     "name": "stdout",
     "output_type": "stream",
     "text": [
      "full_mention:  blackburn\n",
      "full_mention Matched Value:  blackburn 1.0\n"
     ]
    },
    {
     "name": "stderr",
     "output_type": "stream",
     "text": [
      "\r",
      " 80%|████████  | 713/891 [09:23<03:44,  1.26s/it]"
     ]
    },
    {
     "name": "stdout",
     "output_type": "stream",
     "text": [
      "full_mention:  spain\n",
      "full_mention Matched Value:  spain 1.0\n"
     ]
    },
    {
     "name": "stderr",
     "output_type": "stream",
     "text": [
      "\r",
      " 80%|████████  | 714/891 [09:24<03:49,  1.29s/it]"
     ]
    },
    {
     "name": "stdout",
     "output_type": "stream",
     "text": [
      "full_mention:  dalglish\n",
      "full_mention Matched Value:  everton 0.73314\n"
     ]
    },
    {
     "name": "stderr",
     "output_type": "stream",
     "text": [
      "\r",
      " 80%|████████  | 715/891 [09:25<03:50,  1.31s/it]"
     ]
    },
    {
     "name": "stdout",
     "output_type": "stream",
     "text": [
      "full_mention:  dalglish\n",
      "full_mention Matched Value:  everton 0.73314\n"
     ]
    },
    {
     "name": "stderr",
     "output_type": "stream",
     "text": [
      "\r",
      " 80%|████████  | 716/891 [09:27<03:51,  1.32s/it]"
     ]
    },
    {
     "name": "stdout",
     "output_type": "stream",
     "text": [
      "full_mention:  blackburn\n",
      "full_mention Matched Value:  blackburn 1.0\n"
     ]
    },
    {
     "name": "stderr",
     "output_type": "stream",
     "text": [
      "\r",
      " 80%|████████  | 717/891 [09:27<02:55,  1.01s/it]"
     ]
    },
    {
     "name": "stdout",
     "output_type": "stream",
     "text": [
      "full_mention:  english county championship\n",
      "full_mention Matched Value:  None 0.0\n"
     ]
    },
    {
     "name": "stderr",
     "output_type": "stream",
     "text": [
      "\r",
      " 81%|████████  | 718/891 [09:27<02:16,  1.27it/s]"
     ]
    },
    {
     "name": "stdout",
     "output_type": "stream",
     "text": [
      "full_mention:  english county championship\n",
      "full_mention Matched Value:  None 0.0\n"
     ]
    },
    {
     "name": "stderr",
     "output_type": "stream",
     "text": [
      "\r",
      " 81%|████████  | 719/891 [09:28<01:48,  1.59it/s]"
     ]
    },
    {
     "name": "stdout",
     "output_type": "stream",
     "text": [
      "full_mention:  english county championship\n",
      "full_mention Matched Value:  None 0.0\n"
     ]
    },
    {
     "name": "stderr",
     "output_type": "stream",
     "text": [
      "\r",
      " 81%|████████  | 720/891 [09:29<02:25,  1.18it/s]"
     ]
    },
    {
     "name": "stdout",
     "output_type": "stream",
     "text": [
      "full_mention:  london\n",
      "full_mention Matched Value:  london 1.0\n"
     ]
    },
    {
     "name": "stderr",
     "output_type": "stream",
     "text": [
      "\r",
      " 81%|████████  | 721/891 [09:30<02:49,  1.00it/s]"
     ]
    },
    {
     "name": "stdout",
     "output_type": "stream",
     "text": [
      "full_mention:  english\n",
      "full_mention Matched Value:  english 1.0\n"
     ]
    },
    {
     "name": "stderr",
     "output_type": "stream",
     "text": [
      "\r",
      " 81%|████████  | 722/891 [09:31<02:11,  1.29it/s]"
     ]
    },
    {
     "name": "stdout",
     "output_type": "stream",
     "text": [
      "full_mention:  county championship\n",
      "full_mention Matched Value:  None 0.0\n"
     ]
    },
    {
     "name": "stderr",
     "output_type": "stream",
     "text": [
      "\r",
      " 81%|████████  | 723/891 [09:31<01:44,  1.61it/s]"
     ]
    },
    {
     "name": "stdout",
     "output_type": "stream",
     "text": [
      "full_mention:  county championship\n",
      "full_mention Matched Value:  None 0.0\n"
     ]
    },
    {
     "name": "stderr",
     "output_type": "stream",
     "text": [
      "\r",
      " 81%|████████▏ | 724/891 [09:31<01:25,  1.95it/s]"
     ]
    },
    {
     "name": "stdout",
     "output_type": "stream",
     "text": [
      "full_mention:  weston-super-mare\n",
      "full_mention Matched Value:  None 0.0\n"
     ]
    },
    {
     "name": "stderr",
     "output_type": "stream",
     "text": [
      "\r",
      " 81%|████████▏ | 725/891 [09:32<02:06,  1.31it/s]"
     ]
    },
    {
     "name": "stdout",
     "output_type": "stream",
     "text": [
      "full_mention:  durham\n",
      "full_mention Matched Value:  durham 1.0\n"
     ]
    },
    {
     "name": "stderr",
     "output_type": "stream",
     "text": [
      "\r",
      " 81%|████████▏ | 726/891 [09:34<02:34,  1.07it/s]"
     ]
    },
    {
     "name": "stdout",
     "output_type": "stream",
     "text": [
      "full_mention:  somerset\n",
      "full_mention Matched Value:  somerset 1.0\n"
     ]
    },
    {
     "name": "stderr",
     "output_type": "stream",
     "text": [
      "\r",
      " 82%|████████▏ | 727/891 [09:35<02:54,  1.07s/it]"
     ]
    },
    {
     "name": "stdout",
     "output_type": "stream",
     "text": [
      "full_mention:  colchester\n",
      "full_mention Matched Value:  norwich 0.80647\n"
     ]
    },
    {
     "name": "stderr",
     "output_type": "stream",
     "text": [
      "\r",
      " 82%|████████▏ | 728/891 [09:37<03:12,  1.18s/it]"
     ]
    },
    {
     "name": "stdout",
     "output_type": "stream",
     "text": [
      "full_mention:  gloucestershire\n",
      "full_mention Matched Value:  gloucestershire 1.0\n"
     ]
    },
    {
     "name": "stderr",
     "output_type": "stream",
     "text": [
      "\r",
      " 82%|████████▏ | 729/891 [09:37<02:29,  1.09it/s]"
     ]
    },
    {
     "name": "stdout",
     "output_type": "stream",
     "text": [
      "full_mention:  j. russell\n",
      "full_mention Matched Value:  None 0.0\n"
     ]
    },
    {
     "name": "stderr",
     "output_type": "stream",
     "text": [
      "\r",
      " 82%|████████▏ | 730/891 [09:37<01:57,  1.37it/s]"
     ]
    },
    {
     "name": "stdout",
     "output_type": "stream",
     "text": [
      "full_mention:  j. russell\n",
      "full_mention Matched Value:  None 0.0\n"
     ]
    },
    {
     "name": "stderr",
     "output_type": "stream",
     "text": [
      "\r",
      " 82%|████████▏ | 731/891 [09:39<02:27,  1.09it/s]"
     ]
    },
    {
     "name": "stdout",
     "output_type": "stream",
     "text": [
      "full_mention:  essex\n",
      "full_mention Matched Value:  essex 1.0\n"
     ]
    },
    {
     "name": "stderr",
     "output_type": "stream",
     "text": [
      "\r",
      " 82%|████████▏ | 732/891 [09:40<02:47,  1.06s/it]"
     ]
    },
    {
     "name": "stdout",
     "output_type": "stream",
     "text": [
      "full_mention:  cardiff\n",
      "full_mention Matched Value:  cardiff 1.0\n"
     ]
    },
    {
     "name": "stderr",
     "output_type": "stream",
     "text": [
      "\r",
      " 82%|████████▏ | 733/891 [09:41<02:59,  1.14s/it]"
     ]
    },
    {
     "name": "stdout",
     "output_type": "stream",
     "text": [
      "full_mention:  kent\n",
      "full_mention Matched Value:  kent 1.0\n"
     ]
    },
    {
     "name": "stderr",
     "output_type": "stream",
     "text": [
      "\r",
      " 82%|████████▏ | 734/891 [09:43<03:11,  1.22s/it]"
     ]
    },
    {
     "name": "stdout",
     "output_type": "stream",
     "text": [
      "full_mention:  glamorgan\n",
      "full_mention Matched Value:  gloucestershire 0.79991\n"
     ]
    },
    {
     "name": "stderr",
     "output_type": "stream",
     "text": [
      "\r",
      " 82%|████████▏ | 735/891 [09:44<03:14,  1.24s/it]"
     ]
    },
    {
     "name": "stdout",
     "output_type": "stream",
     "text": [
      "full_mention:  leicester\n",
      "full_mention Matched Value:  leicester 1.0\n"
     ]
    },
    {
     "name": "stderr",
     "output_type": "stream",
     "text": [
      "\r",
      " 83%|████████▎ | 736/891 [09:45<03:16,  1.27s/it]"
     ]
    },
    {
     "name": "stdout",
     "output_type": "stream",
     "text": [
      "full_mention:  leicestershire\n",
      "full_mention Matched Value:  leicestershire 1.0\n"
     ]
    },
    {
     "name": "stderr",
     "output_type": "stream",
     "text": [
      "\r",
      " 83%|████████▎ | 737/891 [09:47<03:20,  1.30s/it]"
     ]
    },
    {
     "name": "stdout",
     "output_type": "stream",
     "text": [
      "full_mention:  hampshire\n",
      "full_mention Matched Value:  hampshire 1.0\n"
     ]
    },
    {
     "name": "stderr",
     "output_type": "stream",
     "text": [
      "\r",
      " 83%|████████▎ | 738/891 [09:48<03:20,  1.31s/it]"
     ]
    },
    {
     "name": "stdout",
     "output_type": "stream",
     "text": [
      "full_mention:  northampton\n",
      "full_mention Matched Value:  northampton 1.0\n"
     ]
    },
    {
     "name": "stderr",
     "output_type": "stream",
     "text": [
      "\r",
      " 83%|████████▎ | 739/891 [09:49<03:18,  1.31s/it]"
     ]
    },
    {
     "name": "stdout",
     "output_type": "stream",
     "text": [
      "full_mention:  sussex\n",
      "full_mention Matched Value:  sussex 1.0\n"
     ]
    },
    {
     "name": "stderr",
     "output_type": "stream",
     "text": [
      "\r",
      " 83%|████████▎ | 740/891 [09:51<03:18,  1.32s/it]"
     ]
    },
    {
     "name": "stdout",
     "output_type": "stream",
     "text": [
      "full_mention:  northamptonshire\n",
      "full_mention Matched Value:  northamptonshire 1.0\n"
     ]
    },
    {
     "name": "stderr",
     "output_type": "stream",
     "text": [
      "\r",
      " 83%|████████▎ | 741/891 [09:51<02:30,  1.00s/it]"
     ]
    },
    {
     "name": "stdout",
     "output_type": "stream",
     "text": [
      "full_mention:  trent bridge\n",
      "full_mention Matched Value:  None 0.0\n"
     ]
    },
    {
     "name": "stderr",
     "output_type": "stream",
     "text": [
      "\r",
      " 83%|████████▎ | 742/891 [09:51<01:55,  1.29it/s]"
     ]
    },
    {
     "name": "stdout",
     "output_type": "stream",
     "text": [
      "full_mention:  trent bridge\n",
      "full_mention Matched Value:  None 0.0\n"
     ]
    },
    {
     "name": "stderr",
     "output_type": "stream",
     "text": [
      "\r",
      " 83%|████████▎ | 743/891 [09:53<02:19,  1.06it/s]"
     ]
    },
    {
     "name": "stdout",
     "output_type": "stream",
     "text": [
      "full_mention:  nottinghamshire\n",
      "full_mention Matched Value:  nottinghamshire 1.0\n"
     ]
    },
    {
     "name": "stderr",
     "output_type": "stream",
     "text": [
      "\r",
      " 84%|████████▎ | 744/891 [09:54<02:33,  1.05s/it]"
     ]
    },
    {
     "name": "stdout",
     "output_type": "stream",
     "text": [
      "full_mention:  surrey\n",
      "full_mention Matched Value:  surrey 1.0\n"
     ]
    },
    {
     "name": "stderr",
     "output_type": "stream",
     "text": [
      "\r",
      " 84%|████████▎ | 745/891 [09:55<02:44,  1.13s/it]"
     ]
    },
    {
     "name": "stdout",
     "output_type": "stream",
     "text": [
      "full_mention:  worcester\n",
      "full_mention Matched Value:  worcester 1.0\n"
     ]
    },
    {
     "name": "stderr",
     "output_type": "stream",
     "text": [
      "\r",
      " 84%|████████▎ | 746/891 [09:56<02:51,  1.18s/it]"
     ]
    },
    {
     "name": "stdout",
     "output_type": "stream",
     "text": [
      "full_mention:  warwickshire\n",
      "full_mention Matched Value:  warwickshire 1.0\n"
     ]
    },
    {
     "name": "stderr",
     "output_type": "stream",
     "text": [
      "\r",
      " 84%|████████▍ | 747/891 [09:58<02:56,  1.23s/it]"
     ]
    },
    {
     "name": "stdout",
     "output_type": "stream",
     "text": [
      "full_mention:  worcestershire\n",
      "full_mention Matched Value:  worcestershire 1.0\n"
     ]
    },
    {
     "name": "stderr",
     "output_type": "stream",
     "text": [
      "\r",
      " 84%|████████▍ | 748/891 [09:59<02:59,  1.25s/it]"
     ]
    },
    {
     "name": "stdout",
     "output_type": "stream",
     "text": [
      "full_mention:  headingley\n",
      "full_mention Matched Value:  leeds 0.71632\n"
     ]
    },
    {
     "name": "stderr",
     "output_type": "stream",
     "text": [
      "\r",
      " 84%|████████▍ | 749/891 [10:00<03:00,  1.27s/it]"
     ]
    },
    {
     "name": "stdout",
     "output_type": "stream",
     "text": [
      "full_mention:  yorkshire\n",
      "full_mention Matched Value:  yorkshire 1.0\n"
     ]
    },
    {
     "name": "stderr",
     "output_type": "stream",
     "text": [
      "\r",
      " 84%|████████▍ | 750/891 [10:02<03:01,  1.29s/it]"
     ]
    },
    {
     "name": "stdout",
     "output_type": "stream",
     "text": [
      "full_mention:  lancashire\n",
      "full_mention Matched Value:  lancashire 1.0\n"
     ]
    },
    {
     "name": "stderr",
     "output_type": "stream",
     "text": [
      "\r",
      " 84%|████████▍ | 751/891 [10:03<03:02,  1.31s/it]"
     ]
    },
    {
     "name": "stdout",
     "output_type": "stream",
     "text": [
      "full_mention:  england\n",
      "full_mention Matched Value:  england 1.0\n"
     ]
    },
    {
     "name": "stderr",
     "output_type": "stream",
     "text": [
      "\r",
      " 84%|████████▍ | 752/891 [10:04<03:02,  1.31s/it]"
     ]
    },
    {
     "name": "stdout",
     "output_type": "stream",
     "text": [
      "full_mention:  pakistan\n",
      "full_mention Matched Value:  pakistan 1.0\n"
     ]
    },
    {
     "name": "stderr",
     "output_type": "stream",
     "text": [
      "\r",
      " 85%|████████▍ | 753/891 [10:06<03:01,  1.32s/it]"
     ]
    },
    {
     "name": "stdout",
     "output_type": "stream",
     "text": [
      "full_mention:  london\n",
      "full_mention Matched Value:  london 1.0\n"
     ]
    },
    {
     "name": "stderr",
     "output_type": "stream",
     "text": [
      "\r",
      " 85%|████████▍ | 754/891 [10:07<03:00,  1.32s/it]"
     ]
    },
    {
     "name": "stdout",
     "output_type": "stream",
     "text": [
      "full_mention:  england\n",
      "full_mention Matched Value:  england 1.0\n"
     ]
    },
    {
     "name": "stderr",
     "output_type": "stream",
     "text": [
      "\r",
      " 85%|████████▍ | 755/891 [10:08<02:59,  1.32s/it]"
     ]
    },
    {
     "name": "stdout",
     "output_type": "stream",
     "text": [
      "full_mention:  pakistan\n",
      "full_mention Matched Value:  pakistan 1.0\n"
     ]
    },
    {
     "name": "stderr",
     "output_type": "stream",
     "text": [
      "\r",
      " 85%|████████▍ | 756/891 [10:09<02:15,  1.00s/it]"
     ]
    },
    {
     "name": "stdout",
     "output_type": "stream",
     "text": [
      "full_mention:  the oval\n",
      "full_mention Matched Value:  None 0.0\n"
     ]
    },
    {
     "name": "stderr",
     "output_type": "stream",
     "text": [
      "\r",
      " 85%|████████▍ | 757/891 [10:09<01:43,  1.29it/s]"
     ]
    },
    {
     "name": "stdout",
     "output_type": "stream",
     "text": [
      "full_mention:  the oval\n",
      "full_mention Matched Value:  None 0.0\n"
     ]
    },
    {
     "name": "stderr",
     "output_type": "stream",
     "text": [
      "\r",
      " 85%|████████▌ | 758/891 [10:10<02:05,  1.06it/s]"
     ]
    },
    {
     "name": "stdout",
     "output_type": "stream",
     "text": [
      "full_mention:  england\n",
      "full_mention Matched Value:  england 1.0\n"
     ]
    },
    {
     "name": "stderr",
     "output_type": "stream",
     "text": [
      "\r",
      " 85%|████████▌ | 759/891 [10:10<01:37,  1.36it/s]"
     ]
    },
    {
     "name": "stdout",
     "output_type": "stream",
     "text": [
      "full_mention:  waqar younis\n",
      "full_mention Matched Value:  None 0.0\n"
     ]
    },
    {
     "name": "stderr",
     "output_type": "stream",
     "text": [
      "\r",
      " 85%|████████▌ | 760/891 [10:11<01:18,  1.67it/s]"
     ]
    },
    {
     "name": "stdout",
     "output_type": "stream",
     "text": [
      "full_mention:  waqar younis\n",
      "full_mention Matched Value:  None 0.0\n"
     ]
    },
    {
     "name": "stderr",
     "output_type": "stream",
     "text": [
      "\r",
      " 85%|████████▌ | 761/891 [10:11<01:05,  2.00it/s]"
     ]
    },
    {
     "name": "stdout",
     "output_type": "stream",
     "text": [
      "full_mention:  mushtaq ahmed\n",
      "full_mention Matched Value:  None 0.0\n"
     ]
    },
    {
     "name": "stderr",
     "output_type": "stream",
     "text": [
      "\r",
      " 86%|████████▌ | 762/891 [10:11<00:58,  2.22it/s]"
     ]
    },
    {
     "name": "stdout",
     "output_type": "stream",
     "text": [
      "full_mention:  mushtaq ahmed\n",
      "full_mention Matched Value:  None 0.0\n"
     ]
    },
    {
     "name": "stderr",
     "output_type": "stream",
     "text": [
      "\r",
      " 86%|████████▌ | 763/891 [10:12<00:51,  2.48it/s]"
     ]
    },
    {
     "name": "stdout",
     "output_type": "stream",
     "text": [
      "full_mention:  saeed anwar\n",
      "full_mention Matched Value:  None 0.0\n"
     ]
    },
    {
     "name": "stderr",
     "output_type": "stream",
     "text": [
      "\r",
      " 86%|████████▌ | 764/891 [10:12<00:46,  2.74it/s]"
     ]
    },
    {
     "name": "stdout",
     "output_type": "stream",
     "text": [
      "full_mention:  saeed anwar\n",
      "full_mention Matched Value:  None 0.0\n"
     ]
    },
    {
     "name": "stderr",
     "output_type": "stream",
     "text": [
      "\r",
      " 86%|████████▌ | 765/891 [10:12<00:41,  3.00it/s]"
     ]
    },
    {
     "name": "stdout",
     "output_type": "stream",
     "text": [
      "full_mention:  waqar younis\n",
      "full_mention Matched Value:  None 0.0\n"
     ]
    },
    {
     "name": "stderr",
     "output_type": "stream",
     "text": [
      "\r",
      " 86%|████████▌ | 766/891 [10:12<00:39,  3.14it/s]"
     ]
    },
    {
     "name": "stdout",
     "output_type": "stream",
     "text": [
      "full_mention:  waqar younis\n",
      "full_mention Matched Value:  None 0.0\n"
     ]
    },
    {
     "name": "stderr",
     "output_type": "stream",
     "text": [
      "\r",
      " 86%|████████▌ | 767/891 [10:13<00:36,  3.36it/s]"
     ]
    },
    {
     "name": "stdout",
     "output_type": "stream",
     "text": [
      "full_mention:  mohammad akram\n",
      "full_mention Matched Value:  None 0.0\n"
     ]
    },
    {
     "name": "stderr",
     "output_type": "stream",
     "text": [
      "\r",
      " 86%|████████▌ | 768/891 [10:13<00:35,  3.51it/s]"
     ]
    },
    {
     "name": "stdout",
     "output_type": "stream",
     "text": [
      "full_mention:  mohammad akram\n",
      "full_mention Matched Value:  None 0.0\n"
     ]
    },
    {
     "name": "stderr",
     "output_type": "stream",
     "text": [
      "\r",
      " 86%|████████▋ | 769/891 [10:13<00:33,  3.63it/s]"
     ]
    },
    {
     "name": "stdout",
     "output_type": "stream",
     "text": [
      "full_mention:  mushtaq ahmed\n",
      "full_mention Matched Value:  None 0.0\n"
     ]
    },
    {
     "name": "stderr",
     "output_type": "stream",
     "text": [
      "\r",
      " 86%|████████▋ | 770/891 [10:13<00:32,  3.71it/s]"
     ]
    },
    {
     "name": "stdout",
     "output_type": "stream",
     "text": [
      "full_mention:  mushtaq ahmed\n",
      "full_mention Matched Value:  None 0.0\n"
     ]
    },
    {
     "name": "stderr",
     "output_type": "stream",
     "text": [
      "\r",
      " 87%|████████▋ | 771/891 [10:14<00:31,  3.76it/s]"
     ]
    },
    {
     "name": "stdout",
     "output_type": "stream",
     "text": [
      "full_mention:  wasim akram\n",
      "full_mention Matched Value:  None 0.0\n"
     ]
    },
    {
     "name": "stderr",
     "output_type": "stream",
     "text": [
      "\r",
      " 87%|████████▋ | 772/891 [10:14<00:35,  3.39it/s]"
     ]
    },
    {
     "name": "stdout",
     "output_type": "stream",
     "text": [
      "full_mention:  wasim akram\n",
      "full_mention Matched Value:  None 0.0\n"
     ]
    },
    {
     "name": "stderr",
     "output_type": "stream",
     "text": [
      "\r",
      " 87%|████████▋ | 773/891 [10:15<00:38,  3.03it/s]"
     ]
    },
    {
     "name": "stdout",
     "output_type": "stream",
     "text": [
      "full_mention:  wasim akram\n",
      "full_mention Matched Value:  None 0.0\n"
     ]
    },
    {
     "name": "stderr",
     "output_type": "stream",
     "text": [
      "\r",
      " 87%|████████▋ | 774/891 [10:15<00:36,  3.23it/s]"
     ]
    },
    {
     "name": "stdout",
     "output_type": "stream",
     "text": [
      "full_mention:  wasim akram\n",
      "full_mention Matched Value:  None 0.0\n"
     ]
    },
    {
     "name": "stderr",
     "output_type": "stream",
     "text": [
      "\r",
      " 87%|████████▋ | 775/891 [10:15<00:34,  3.38it/s]"
     ]
    },
    {
     "name": "stdout",
     "output_type": "stream",
     "text": [
      "full_mention:  waqar younis\n",
      "full_mention Matched Value:  None 0.0\n"
     ]
    },
    {
     "name": "stderr",
     "output_type": "stream",
     "text": [
      "\r",
      " 87%|████████▋ | 776/891 [10:15<00:34,  3.35it/s]"
     ]
    },
    {
     "name": "stdout",
     "output_type": "stream",
     "text": [
      "full_mention:  waqar younis\n",
      "full_mention Matched Value:  None 0.0\n"
     ]
    },
    {
     "name": "stderr",
     "output_type": "stream",
     "text": [
      "\r",
      " 87%|████████▋ | 777/891 [10:16<00:34,  3.33it/s]"
     ]
    },
    {
     "name": "stdout",
     "output_type": "stream",
     "text": [
      "full_mention:  mohammad akram\n",
      "full_mention Matched Value:  None 0.0\n"
     ]
    },
    {
     "name": "stderr",
     "output_type": "stream",
     "text": [
      "\r",
      " 87%|████████▋ | 778/891 [10:16<00:32,  3.45it/s]"
     ]
    },
    {
     "name": "stdout",
     "output_type": "stream",
     "text": [
      "full_mention:  mohammad akram\n",
      "full_mention Matched Value:  None 0.0\n"
     ]
    },
    {
     "name": "stderr",
     "output_type": "stream",
     "text": [
      "\r",
      " 87%|████████▋ | 779/891 [10:16<00:31,  3.54it/s]"
     ]
    },
    {
     "name": "stdout",
     "output_type": "stream",
     "text": [
      "full_mention:  mushtaq ahmed\n",
      "full_mention Matched Value:  None 0.0\n"
     ]
    },
    {
     "name": "stderr",
     "output_type": "stream",
     "text": [
      "\r",
      " 88%|████████▊ | 780/891 [10:16<00:30,  3.60it/s]"
     ]
    },
    {
     "name": "stdout",
     "output_type": "stream",
     "text": [
      "full_mention:  mushtaq ahmed\n",
      "full_mention Matched Value:  None 0.0\n"
     ]
    },
    {
     "name": "stderr",
     "output_type": "stream",
     "text": [
      "\r",
      " 88%|████████▊ | 781/891 [10:18<01:12,  1.52it/s]"
     ]
    },
    {
     "name": "stdout",
     "output_type": "stream",
     "text": [
      "full_mention:  pakistan\n",
      "full_mention Matched Value:  pakistan 1.0\n"
     ]
    },
    {
     "name": "stderr",
     "output_type": "stream",
     "text": [
      "\r",
      " 88%|████████▊ | 782/891 [10:18<00:58,  1.86it/s]"
     ]
    },
    {
     "name": "stdout",
     "output_type": "stream",
     "text": [
      "full_mention:  saeed anwar\n",
      "full_mention Matched Value:  None 0.0\n"
     ]
    },
    {
     "name": "stderr",
     "output_type": "stream",
     "text": [
      "\r",
      " 88%|████████▊ | 783/891 [10:19<00:48,  2.22it/s]"
     ]
    },
    {
     "name": "stdout",
     "output_type": "stream",
     "text": [
      "full_mention:  saeed anwar\n",
      "full_mention Matched Value:  None 0.0\n"
     ]
    },
    {
     "name": "stderr",
     "output_type": "stream",
     "text": [
      "\r",
      " 88%|████████▊ | 784/891 [10:19<00:43,  2.48it/s]"
     ]
    },
    {
     "name": "stdout",
     "output_type": "stream",
     "text": [
      "full_mention:  ijaz ahmed\n",
      "full_mention Matched Value:  None 0.0\n"
     ]
    },
    {
     "name": "stderr",
     "output_type": "stream",
     "text": [
      "\r",
      " 88%|████████▊ | 785/891 [10:19<00:41,  2.58it/s]"
     ]
    },
    {
     "name": "stdout",
     "output_type": "stream",
     "text": [
      "full_mention:  ijaz ahmed\n",
      "full_mention Matched Value:  None 0.0\n"
     ]
    },
    {
     "name": "stderr",
     "output_type": "stream",
     "text": [
      "\r",
      " 88%|████████▊ | 786/891 [10:20<00:41,  2.52it/s]"
     ]
    },
    {
     "name": "stdout",
     "output_type": "stream",
     "text": [
      "full_mention:  inzamam-ul-haq\n",
      "full_mention Matched Value:  None 0.0\n"
     ]
    },
    {
     "name": "stderr",
     "output_type": "stream",
     "text": [
      "\r",
      " 88%|████████▊ | 787/891 [10:20<00:37,  2.81it/s]"
     ]
    },
    {
     "name": "stdout",
     "output_type": "stream",
     "text": [
      "full_mention:  salim malik\n",
      "full_mention Matched Value:  None 0.0\n"
     ]
    },
    {
     "name": "stderr",
     "output_type": "stream",
     "text": [
      "\r",
      " 88%|████████▊ | 788/891 [10:20<00:33,  3.08it/s]"
     ]
    },
    {
     "name": "stdout",
     "output_type": "stream",
     "text": [
      "full_mention:  salim malik\n",
      "full_mention Matched Value:  None 0.0\n"
     ]
    },
    {
     "name": "stderr",
     "output_type": "stream",
     "text": [
      "\r",
      " 89%|████████▊ | 789/891 [10:20<00:30,  3.30it/s]"
     ]
    },
    {
     "name": "stdout",
     "output_type": "stream",
     "text": [
      "full_mention:  asif mujtaba\n",
      "full_mention Matched Value:  None 0.0\n"
     ]
    },
    {
     "name": "stderr",
     "output_type": "stream",
     "text": [
      "\r",
      " 89%|████████▊ | 790/891 [10:21<00:30,  3.28it/s]"
     ]
    },
    {
     "name": "stdout",
     "output_type": "stream",
     "text": [
      "full_mention:  asif mujtaba\n",
      "full_mention Matched Value:  None 0.0\n"
     ]
    },
    {
     "name": "stderr",
     "output_type": "stream",
     "text": [
      "\r",
      " 89%|████████▉ | 791/891 [10:21<00:28,  3.45it/s]"
     ]
    },
    {
     "name": "stdout",
     "output_type": "stream",
     "text": [
      "full_mention:  wasim akram\n",
      "full_mention Matched Value:  None 0.0\n"
     ]
    },
    {
     "name": "stderr",
     "output_type": "stream",
     "text": [
      "\r",
      " 89%|████████▉ | 792/891 [10:21<00:27,  3.61it/s]"
     ]
    },
    {
     "name": "stdout",
     "output_type": "stream",
     "text": [
      "full_mention:  wasim akram\n",
      "full_mention Matched Value:  None 0.0\n"
     ]
    },
    {
     "name": "stderr",
     "output_type": "stream",
     "text": [
      "\r",
      " 89%|████████▉ | 793/891 [10:21<00:26,  3.72it/s]"
     ]
    },
    {
     "name": "stdout",
     "output_type": "stream",
     "text": [
      "full_mention:  moin khan\n",
      "full_mention Matched Value:  None 0.0\n"
     ]
    },
    {
     "name": "stderr",
     "output_type": "stream",
     "text": [
      "\r",
      " 89%|████████▉ | 794/891 [10:22<00:25,  3.79it/s]"
     ]
    },
    {
     "name": "stdout",
     "output_type": "stream",
     "text": [
      "full_mention:  moin khan\n",
      "full_mention Matched Value:  None 0.0\n"
     ]
    },
    {
     "name": "stderr",
     "output_type": "stream",
     "text": [
      "\r",
      " 89%|████████▉ | 795/891 [10:22<00:27,  3.50it/s]"
     ]
    },
    {
     "name": "stdout",
     "output_type": "stream",
     "text": [
      "full_mention:  mushtaq ahmed\n",
      "full_mention Matched Value:  None 0.0\n"
     ]
    },
    {
     "name": "stderr",
     "output_type": "stream",
     "text": [
      "\r",
      " 89%|████████▉ | 796/891 [10:22<00:26,  3.60it/s]"
     ]
    },
    {
     "name": "stdout",
     "output_type": "stream",
     "text": [
      "full_mention:  mushtaq ahmed\n",
      "full_mention Matched Value:  None 0.0\n"
     ]
    },
    {
     "name": "stderr",
     "output_type": "stream",
     "text": [
      "\r",
      " 89%|████████▉ | 797/891 [10:23<00:25,  3.69it/s]"
     ]
    },
    {
     "name": "stdout",
     "output_type": "stream",
     "text": [
      "full_mention:  waqar younis\n",
      "full_mention Matched Value:  None 0.0\n"
     ]
    },
    {
     "name": "stderr",
     "output_type": "stream",
     "text": [
      "\r",
      " 90%|████████▉ | 798/891 [10:23<00:24,  3.78it/s]"
     ]
    },
    {
     "name": "stdout",
     "output_type": "stream",
     "text": [
      "full_mention:  waqar younis\n",
      "full_mention Matched Value:  None 0.0\n"
     ]
    },
    {
     "name": "stderr",
     "output_type": "stream",
     "text": [
      "\r",
      " 90%|████████▉ | 799/891 [10:24<00:54,  1.68it/s]"
     ]
    },
    {
     "name": "stdout",
     "output_type": "stream",
     "text": [
      "full_mention:  ferguson\n",
      "full_mention Matched Value:  mcdonald 0.87053\n"
     ]
    },
    {
     "name": "stderr",
     "output_type": "stream",
     "text": [
      "\r",
      " 90%|████████▉ | 800/891 [10:25<01:14,  1.22it/s]"
     ]
    },
    {
     "name": "stdout",
     "output_type": "stream",
     "text": [
      "full_mention:  scottish\n",
      "full_mention Matched Value:  scottish 1.0\n"
     ]
    },
    {
     "name": "stderr",
     "output_type": "stream",
     "text": [
      "\r",
      " 90%|████████▉ | 801/891 [10:27<01:28,  1.02it/s]"
     ]
    },
    {
     "name": "stdout",
     "output_type": "stream",
     "text": [
      "full_mention:  glasgow\n",
      "full_mention Matched Value:  glasgow 1.0\n"
     ]
    },
    {
     "name": "stderr",
     "output_type": "stream",
     "text": [
      "\r",
      " 90%|█████████ | 802/891 [10:28<01:37,  1.10s/it]"
     ]
    },
    {
     "name": "stdout",
     "output_type": "stream",
     "text": [
      "full_mention:  everton\n",
      "full_mention Matched Value:  everton 1.0\n"
     ]
    },
    {
     "name": "stderr",
     "output_type": "stream",
     "text": [
      "\r",
      " 90%|█████████ | 803/891 [10:28<01:14,  1.18it/s]"
     ]
    },
    {
     "name": "stdout",
     "output_type": "stream",
     "text": [
      "full_mention:  duncan ferguson\n",
      "full_mention Matched Value:  None 0.0\n"
     ]
    },
    {
     "name": "stderr",
     "output_type": "stream",
     "text": [
      "\r",
      " 90%|█████████ | 804/891 [10:29<00:58,  1.49it/s]"
     ]
    },
    {
     "name": "stdout",
     "output_type": "stream",
     "text": [
      "full_mention:  duncan ferguson\n",
      "full_mention Matched Value:  None 0.0\n"
     ]
    },
    {
     "name": "stderr",
     "output_type": "stream",
     "text": [
      "\r",
      " 90%|█████████ | 805/891 [10:29<00:47,  1.83it/s]"
     ]
    },
    {
     "name": "stdout",
     "output_type": "stream",
     "text": [
      "full_mention:  manchester united\n",
      "full_mention Matched Value:  None 0.0\n"
     ]
    },
    {
     "name": "stderr",
     "output_type": "stream",
     "text": [
      "\r",
      " 90%|█████████ | 806/891 [10:29<00:39,  2.18it/s]"
     ]
    },
    {
     "name": "stdout",
     "output_type": "stream",
     "text": [
      "full_mention:  manchester united\n",
      "full_mention Matched Value:  None 0.0\n"
     ]
    },
    {
     "name": "stderr",
     "output_type": "stream",
     "text": [
      "\r",
      " 91%|█████████ | 807/891 [10:31<00:59,  1.40it/s]"
     ]
    },
    {
     "name": "stdout",
     "output_type": "stream",
     "text": [
      "full_mention:  scottish\n",
      "full_mention Matched Value:  scottish 1.0\n"
     ]
    },
    {
     "name": "stderr",
     "output_type": "stream",
     "text": [
      "\r",
      " 91%|█████████ | 808/891 [10:31<00:47,  1.73it/s]"
     ]
    },
    {
     "name": "stdout",
     "output_type": "stream",
     "text": [
      "full_mention:  glasgow rangers\n",
      "full_mention Matched Value:  None 0.0\n"
     ]
    },
    {
     "name": "stderr",
     "output_type": "stream",
     "text": [
      "\r",
      " 91%|█████████ | 809/891 [10:31<00:39,  2.07it/s]"
     ]
    },
    {
     "name": "stdout",
     "output_type": "stream",
     "text": [
      "full_mention:  glasgow rangers\n",
      "full_mention Matched Value:  None 0.0\n"
     ]
    },
    {
     "name": "stderr",
     "output_type": "stream",
     "text": [
      "\r",
      " 91%|█████████ | 810/891 [10:31<00:33,  2.41it/s]"
     ]
    },
    {
     "name": "stdout",
     "output_type": "stream",
     "text": [
      "full_mention:  ally mccoist\n",
      "full_mention Matched Value:  None 0.0\n"
     ]
    },
    {
     "name": "stderr",
     "output_type": "stream",
     "text": [
      "\r",
      " 91%|█████████ | 811/891 [10:32<00:29,  2.70it/s]"
     ]
    },
    {
     "name": "stdout",
     "output_type": "stream",
     "text": [
      "full_mention:  ally mccoist\n",
      "full_mention Matched Value:  None 0.0\n"
     ]
    },
    {
     "name": "stderr",
     "output_type": "stream",
     "text": [
      "\r",
      " 91%|█████████ | 812/891 [10:32<00:26,  2.98it/s]"
     ]
    },
    {
     "name": "stdout",
     "output_type": "stream",
     "text": [
      "full_mention:  world cup\n",
      "full_mention Matched Value:  None 0.0\n"
     ]
    },
    {
     "name": "stderr",
     "output_type": "stream",
     "text": [
      "\r",
      " 91%|█████████ | 813/891 [10:32<00:24,  3.20it/s]"
     ]
    },
    {
     "name": "stdout",
     "output_type": "stream",
     "text": [
      "full_mention:  world cup\n",
      "full_mention Matched Value:  None 0.0\n"
     ]
    },
    {
     "name": "stderr",
     "output_type": "stream",
     "text": [
      "\r",
      " 91%|█████████▏| 814/891 [10:33<00:47,  1.63it/s]"
     ]
    },
    {
     "name": "stdout",
     "output_type": "stream",
     "text": [
      "full_mention:  austria\n",
      "full_mention Matched Value:  austria 1.0\n"
     ]
    },
    {
     "name": "stderr",
     "output_type": "stream",
     "text": [
      "\r",
      " 91%|█████████▏| 815/891 [10:35<01:03,  1.20it/s]"
     ]
    },
    {
     "name": "stdout",
     "output_type": "stream",
     "text": [
      "full_mention:  vienna\n",
      "full_mention Matched Value:  vienna 1.0\n"
     ]
    },
    {
     "name": "stderr",
     "output_type": "stream",
     "text": [
      "\r",
      " 92%|█████████▏| 816/891 [10:36<01:13,  1.02it/s]"
     ]
    },
    {
     "name": "stdout",
     "output_type": "stream",
     "text": [
      "full_mention:  ferguson\n",
      "full_mention Matched Value:  mcdonald 0.87053\n"
     ]
    },
    {
     "name": "stderr",
     "output_type": "stream",
     "text": [
      "\r",
      " 92%|█████████▏| 817/891 [10:37<01:20,  1.09s/it]"
     ]
    },
    {
     "name": "stdout",
     "output_type": "stream",
     "text": [
      "full_mention:  scotland\n",
      "full_mention Matched Value:  scotland 1.0\n"
     ]
    },
    {
     "name": "stderr",
     "output_type": "stream",
     "text": [
      "\r",
      " 92%|█████████▏| 818/891 [10:39<01:24,  1.16s/it]"
     ]
    },
    {
     "name": "stdout",
     "output_type": "stream",
     "text": [
      "full_mention:  scotland\n",
      "full_mention Matched Value:  scotland 1.0\n"
     ]
    },
    {
     "name": "stderr",
     "output_type": "stream",
     "text": [
      "\r",
      " 92%|█████████▏| 819/891 [10:39<01:03,  1.13it/s]"
     ]
    },
    {
     "name": "stdout",
     "output_type": "stream",
     "text": [
      "full_mention:  craig brown\n",
      "full_mention Matched Value:  None 0.0\n"
     ]
    },
    {
     "name": "stderr",
     "output_type": "stream",
     "text": [
      "\r",
      " 92%|█████████▏| 820/891 [10:39<00:49,  1.43it/s]"
     ]
    },
    {
     "name": "stdout",
     "output_type": "stream",
     "text": [
      "full_mention:  craig brown\n",
      "full_mention Matched Value:  None 0.0\n"
     ]
    },
    {
     "name": "stderr",
     "output_type": "stream",
     "text": [
      "\r",
      " 92%|█████████▏| 821/891 [10:41<01:01,  1.14it/s]"
     ]
    },
    {
     "name": "stdout",
     "output_type": "stream",
     "text": [
      "full_mention:  celtic\n",
      "full_mention Matched Value:  celtic 1.0\n"
     ]
    },
    {
     "name": "stderr",
     "output_type": "stream",
     "text": [
      "\r",
      " 92%|█████████▏| 822/891 [10:41<00:47,  1.44it/s]"
     ]
    },
    {
     "name": "stdout",
     "output_type": "stream",
     "text": [
      "full_mention:  jackie mcnamara\n",
      "full_mention Matched Value:  None 0.0\n"
     ]
    },
    {
     "name": "stderr",
     "output_type": "stream",
     "text": [
      "\r",
      " 92%|█████████▏| 823/891 [10:41<00:38,  1.77it/s]"
     ]
    },
    {
     "name": "stdout",
     "output_type": "stream",
     "text": [
      "full_mention:  jackie mcnamara\n",
      "full_mention Matched Value:  None 0.0\n"
     ]
    },
    {
     "name": "stderr",
     "output_type": "stream",
     "text": [
      "\r",
      " 92%|█████████▏| 824/891 [10:42<00:52,  1.27it/s]"
     ]
    },
    {
     "name": "stdout",
     "output_type": "stream",
     "text": [
      "full_mention:  england\n",
      "full_mention Matched Value:  england 1.0\n"
     ]
    },
    {
     "name": "stderr",
     "output_type": "stream",
     "text": [
      "\r",
      " 93%|█████████▎| 825/891 [10:44<01:02,  1.06it/s]"
     ]
    },
    {
     "name": "stdout",
     "output_type": "stream",
     "text": [
      "full_mention:  london\n",
      "full_mention Matched Value:  london 1.0\n"
     ]
    },
    {
     "name": "stderr",
     "output_type": "stream",
     "text": [
      "\r",
      " 93%|█████████▎| 826/891 [10:45<01:08,  1.06s/it]"
     ]
    },
    {
     "name": "stdout",
     "output_type": "stream",
     "text": [
      "full_mention:  england\n",
      "full_mention Matched Value:  england 1.0\n"
     ]
    },
    {
     "name": "stderr",
     "output_type": "stream",
     "text": [
      "\r",
      " 93%|█████████▎| 827/891 [10:46<01:13,  1.14s/it]"
     ]
    },
    {
     "name": "stdout",
     "output_type": "stream",
     "text": [
      "full_mention:  pakistan\n",
      "full_mention Matched Value:  pakistan 1.0\n"
     ]
    },
    {
     "name": "stderr",
     "output_type": "stream",
     "text": [
      "\r",
      " 93%|█████████▎| 828/891 [10:47<00:55,  1.14it/s]"
     ]
    },
    {
     "name": "stdout",
     "output_type": "stream",
     "text": [
      "full_mention:  the oval\n",
      "full_mention Matched Value:  None 0.0\n"
     ]
    },
    {
     "name": "stderr",
     "output_type": "stream",
     "text": [
      "\r",
      " 93%|█████████▎| 829/891 [10:47<00:42,  1.45it/s]"
     ]
    },
    {
     "name": "stdout",
     "output_type": "stream",
     "text": [
      "full_mention:  the oval\n",
      "full_mention Matched Value:  None 0.0\n"
     ]
    },
    {
     "name": "stderr",
     "output_type": "stream",
     "text": [
      "\r",
      " 93%|█████████▎| 830/891 [10:48<00:53,  1.14it/s]"
     ]
    },
    {
     "name": "stdout",
     "output_type": "stream",
     "text": [
      "full_mention:  keane\n",
      "full_mention Matched Value:  mcdonald 0.75011\n"
     ]
    },
    {
     "name": "stderr",
     "output_type": "stream",
     "text": [
      "\r",
      " 93%|█████████▎| 831/891 [10:48<00:41,  1.44it/s]"
     ]
    },
    {
     "name": "stdout",
     "output_type": "stream",
     "text": [
      "full_mention:  manchester united\n",
      "full_mention Matched Value:  None 0.0\n"
     ]
    },
    {
     "name": "stderr",
     "output_type": "stream",
     "text": [
      "\r",
      " 93%|█████████▎| 832/891 [10:49<00:33,  1.78it/s]"
     ]
    },
    {
     "name": "stdout",
     "output_type": "stream",
     "text": [
      "full_mention:  manchester united\n",
      "full_mention Matched Value:  None 0.0\n"
     ]
    },
    {
     "name": "stderr",
     "output_type": "stream",
     "text": [
      "\r",
      " 93%|█████████▎| 833/891 [10:50<00:46,  1.26it/s]"
     ]
    },
    {
     "name": "stdout",
     "output_type": "stream",
     "text": [
      "full_mention:  london\n",
      "full_mention Matched Value:  london 1.0\n"
     ]
    },
    {
     "name": "stderr",
     "output_type": "stream",
     "text": [
      "\r",
      " 94%|█████████▎| 834/891 [10:51<00:55,  1.03it/s]"
     ]
    },
    {
     "name": "stdout",
     "output_type": "stream",
     "text": [
      "full_mention:  ireland\n",
      "full_mention Matched Value:  ireland 1.0\n"
     ]
    },
    {
     "name": "stderr",
     "output_type": "stream",
     "text": [
      "\r",
      " 94%|█████████▎| 835/891 [10:52<00:42,  1.32it/s]"
     ]
    },
    {
     "name": "stdout",
     "output_type": "stream",
     "text": [
      "full_mention:  roy keane\n",
      "full_mention Matched Value:  None 0.0\n"
     ]
    },
    {
     "name": "stderr",
     "output_type": "stream",
     "text": [
      "\r",
      " 94%|█████████▍| 836/891 [10:52<00:33,  1.65it/s]"
     ]
    },
    {
     "name": "stdout",
     "output_type": "stream",
     "text": [
      "full_mention:  roy keane\n",
      "full_mention Matched Value:  None 0.0\n"
     ]
    },
    {
     "name": "stderr",
     "output_type": "stream",
     "text": [
      "\r",
      " 94%|█████████▍| 837/891 [10:53<00:43,  1.23it/s]"
     ]
    },
    {
     "name": "stdout",
     "output_type": "stream",
     "text": [
      "full_mention:  english\n",
      "full_mention Matched Value:  english 1.0\n"
     ]
    },
    {
     "name": "stderr",
     "output_type": "stream",
     "text": [
      "\r",
      " 94%|█████████▍| 838/891 [10:53<00:34,  1.55it/s]"
     ]
    },
    {
     "name": "stdout",
     "output_type": "stream",
     "text": [
      "full_mention:  f.a. cup\n",
      "full_mention Matched Value:  None 0.0\n"
     ]
    },
    {
     "name": "stderr",
     "output_type": "stream",
     "text": [
      "\r",
      " 94%|█████████▍| 839/891 [10:54<00:27,  1.89it/s]"
     ]
    },
    {
     "name": "stdout",
     "output_type": "stream",
     "text": [
      "full_mention:  f.a. cup\n",
      "full_mention Matched Value:  None 0.0\n"
     ]
    },
    {
     "name": "stderr",
     "output_type": "stream",
     "text": [
      "\r",
      " 94%|█████████▍| 840/891 [10:54<00:22,  2.24it/s]"
     ]
    },
    {
     "name": "stdout",
     "output_type": "stream",
     "text": [
      "full_mention:  manchester united\n",
      "full_mention Matched Value:  None 0.0\n"
     ]
    },
    {
     "name": "stderr",
     "output_type": "stream",
     "text": [
      "\r",
      " 94%|█████████▍| 841/891 [10:54<00:19,  2.58it/s]"
     ]
    },
    {
     "name": "stdout",
     "output_type": "stream",
     "text": [
      "full_mention:  manchester united\n",
      "full_mention Matched Value:  None 0.0\n"
     ]
    },
    {
     "name": "stderr",
     "output_type": "stream",
     "text": [
      "\r",
      " 95%|█████████▍| 842/891 [10:56<00:32,  1.52it/s]"
     ]
    },
    {
     "name": "stdout",
     "output_type": "stream",
     "text": [
      "full_mention:  united\n",
      "full_mention Matched Value:  united 1.0\n"
     ]
    },
    {
     "name": "stderr",
     "output_type": "stream",
     "text": [
      "\r",
      " 95%|█████████▍| 843/891 [10:56<00:25,  1.86it/s]"
     ]
    },
    {
     "name": "stdout",
     "output_type": "stream",
     "text": [
      "full_mention:  alex ferguson\n",
      "full_mention Matched Value:  None 0.0\n"
     ]
    },
    {
     "name": "stderr",
     "output_type": "stream",
     "text": [
      "\r",
      " 95%|█████████▍| 844/891 [10:56<00:21,  2.20it/s]"
     ]
    },
    {
     "name": "stdout",
     "output_type": "stream",
     "text": [
      "full_mention:  alex ferguson\n",
      "full_mention Matched Value:  None 0.0\n"
     ]
    },
    {
     "name": "stderr",
     "output_type": "stream",
     "text": [
      "\r",
      " 95%|█████████▍| 845/891 [10:56<00:18,  2.53it/s]"
     ]
    },
    {
     "name": "stdout",
     "output_type": "stream",
     "text": [
      "full_mention:  canadian open\n",
      "full_mention Matched Value:  None 0.0\n"
     ]
    },
    {
     "name": "stderr",
     "output_type": "stream",
     "text": [
      "\r",
      " 95%|█████████▍| 846/891 [10:57<00:15,  2.82it/s]"
     ]
    },
    {
     "name": "stdout",
     "output_type": "stream",
     "text": [
      "full_mention:  canadian open\n",
      "full_mention Matched Value:  None 0.0\n"
     ]
    },
    {
     "name": "stderr",
     "output_type": "stream",
     "text": [
      "\r",
      " 95%|█████████▌| 847/891 [10:58<00:28,  1.55it/s]"
     ]
    },
    {
     "name": "stdout",
     "output_type": "stream",
     "text": [
      "full_mention:  toronto\n",
      "full_mention Matched Value:  toronto 1.0\n"
     ]
    },
    {
     "name": "stderr",
     "output_type": "stream",
     "text": [
      "\r",
      " 95%|█████████▌| 848/891 [10:58<00:22,  1.89it/s]"
     ]
    },
    {
     "name": "stdout",
     "output_type": "stream",
     "text": [
      "full_mention:  canadian open\n",
      "full_mention Matched Value:  None 0.0\n"
     ]
    },
    {
     "name": "stderr",
     "output_type": "stream",
     "text": [
      "\r",
      " 95%|█████████▌| 849/891 [10:58<00:18,  2.25it/s]"
     ]
    },
    {
     "name": "stdout",
     "output_type": "stream",
     "text": [
      "full_mention:  canadian open\n",
      "full_mention Matched Value:  None 0.0\n"
     ]
    },
    {
     "name": "stderr",
     "output_type": "stream",
     "text": [
      "\r",
      " 95%|█████████▌| 850/891 [10:59<00:15,  2.58it/s]"
     ]
    },
    {
     "name": "stdout",
     "output_type": "stream",
     "text": [
      "full_mention:  daniel nestor\n",
      "full_mention Matched Value:  None 0.0\n"
     ]
    },
    {
     "name": "stderr",
     "output_type": "stream",
     "text": [
      "\r",
      " 96%|█████████▌| 851/891 [10:59<00:13,  2.87it/s]"
     ]
    },
    {
     "name": "stdout",
     "output_type": "stream",
     "text": [
      "full_mention:  daniel nestor\n",
      "full_mention Matched Value:  None 0.0\n"
     ]
    },
    {
     "name": "stderr",
     "output_type": "stream",
     "text": [
      "\r",
      " 96%|█████████▌| 852/891 [11:00<00:25,  1.55it/s]"
     ]
    },
    {
     "name": "stdout",
     "output_type": "stream",
     "text": [
      "full_mention:  canada\n",
      "full_mention Matched Value:  canada 1.0\n"
     ]
    },
    {
     "name": "stderr",
     "output_type": "stream",
     "text": [
      "\r",
      " 96%|█████████▌| 853/891 [11:00<00:20,  1.89it/s]"
     ]
    },
    {
     "name": "stdout",
     "output_type": "stream",
     "text": [
      "full_mention:  thomas muster\n",
      "full_mention Matched Value:  None 0.0\n"
     ]
    },
    {
     "name": "stderr",
     "output_type": "stream",
     "text": [
      "\r",
      " 96%|█████████▌| 854/891 [11:01<00:16,  2.25it/s]"
     ]
    },
    {
     "name": "stdout",
     "output_type": "stream",
     "text": [
      "full_mention:  thomas muster\n",
      "full_mention Matched Value:  None 0.0\n"
     ]
    },
    {
     "name": "stderr",
     "output_type": "stream",
     "text": [
      "\r",
      " 96%|█████████▌| 855/891 [11:02<00:25,  1.40it/s]"
     ]
    },
    {
     "name": "stdout",
     "output_type": "stream",
     "text": [
      "full_mention:  austria\n",
      "full_mention Matched Value:  austria 1.0\n"
     ]
    },
    {
     "name": "stderr",
     "output_type": "stream",
     "text": [
      "\r",
      " 96%|█████████▌| 856/891 [11:02<00:20,  1.73it/s]"
     ]
    },
    {
     "name": "stdout",
     "output_type": "stream",
     "text": [
      "full_mention:  mikael tillstrom\n",
      "full_mention Matched Value:  None 0.0\n"
     ]
    },
    {
     "name": "stderr",
     "output_type": "stream",
     "text": [
      "\r",
      " 96%|█████████▌| 857/891 [11:03<00:16,  2.08it/s]"
     ]
    },
    {
     "name": "stdout",
     "output_type": "stream",
     "text": [
      "full_mention:  mikael tillstrom\n",
      "full_mention Matched Value:  None 0.0\n"
     ]
    },
    {
     "name": "stderr",
     "output_type": "stream",
     "text": [
      "\r",
      " 96%|█████████▋| 858/891 [11:04<00:24,  1.33it/s]"
     ]
    },
    {
     "name": "stdout",
     "output_type": "stream",
     "text": [
      "full_mention:  sweden\n",
      "full_mention Matched Value:  sweden 1.0\n"
     ]
    },
    {
     "name": "stderr",
     "output_type": "stream",
     "text": [
      "\r",
      " 96%|█████████▋| 859/891 [11:04<00:19,  1.65it/s]"
     ]
    },
    {
     "name": "stdout",
     "output_type": "stream",
     "text": [
      "full_mention:  goran ivanisevic\n",
      "full_mention Matched Value:  None 0.0\n"
     ]
    },
    {
     "name": "stderr",
     "output_type": "stream",
     "text": [
      "\r",
      " 97%|█████████▋| 860/891 [11:05<00:15,  1.98it/s]"
     ]
    },
    {
     "name": "stdout",
     "output_type": "stream",
     "text": [
      "full_mention:  goran ivanisevic\n",
      "full_mention Matched Value:  None 0.0\n"
     ]
    },
    {
     "name": "stderr",
     "output_type": "stream",
     "text": [
      "\r",
      " 97%|█████████▋| 861/891 [11:06<00:22,  1.35it/s]"
     ]
    },
    {
     "name": "stdout",
     "output_type": "stream",
     "text": [
      "full_mention:  croatia\n",
      "full_mention Matched Value:  croatia 1.0\n"
     ]
    },
    {
     "name": "stderr",
     "output_type": "stream",
     "text": [
      "\r",
      " 97%|█████████▋| 862/891 [11:06<00:17,  1.68it/s]"
     ]
    },
    {
     "name": "stdout",
     "output_type": "stream",
     "text": [
      "full_mention:  wayne ferreira\n",
      "full_mention Matched Value:  None 0.0\n"
     ]
    },
    {
     "name": "stderr",
     "output_type": "stream",
     "text": [
      "\r",
      " 97%|█████████▋| 863/891 [11:06<00:13,  2.02it/s]"
     ]
    },
    {
     "name": "stdout",
     "output_type": "stream",
     "text": [
      "full_mention:  wayne ferreira\n",
      "full_mention Matched Value:  None 0.0\n"
     ]
    },
    {
     "name": "stderr",
     "output_type": "stream",
     "text": [
      "\r",
      " 97%|█████████▋| 864/891 [11:07<00:11,  2.36it/s]"
     ]
    },
    {
     "name": "stdout",
     "output_type": "stream",
     "text": [
      "full_mention:  south africa\n",
      "full_mention Matched Value:  None 0.0\n"
     ]
    },
    {
     "name": "stderr",
     "output_type": "stream",
     "text": [
      "\r",
      " 97%|█████████▋| 865/891 [11:07<00:09,  2.68it/s]"
     ]
    },
    {
     "name": "stdout",
     "output_type": "stream",
     "text": [
      "full_mention:  south africa\n",
      "full_mention Matched Value:  None 0.0\n"
     ]
    },
    {
     "name": "stderr",
     "output_type": "stream",
     "text": [
      "\r",
      " 97%|█████████▋| 866/891 [11:07<00:08,  2.95it/s]"
     ]
    },
    {
     "name": "stdout",
     "output_type": "stream",
     "text": [
      "full_mention:  jiri novak\n",
      "full_mention Matched Value:  None 0.0\n"
     ]
    },
    {
     "name": "stderr",
     "output_type": "stream",
     "text": [
      "\r",
      " 97%|█████████▋| 867/891 [11:07<00:07,  3.17it/s]"
     ]
    },
    {
     "name": "stdout",
     "output_type": "stream",
     "text": [
      "full_mention:  jiri novak\n",
      "full_mention Matched Value:  None 0.0\n"
     ]
    },
    {
     "name": "stderr",
     "output_type": "stream",
     "text": [
      "\r",
      " 97%|█████████▋| 868/891 [11:08<00:06,  3.35it/s]"
     ]
    },
    {
     "name": "stdout",
     "output_type": "stream",
     "text": [
      "full_mention:  czech republic\n",
      "full_mention Matched Value:  None 0.0\n"
     ]
    },
    {
     "name": "stderr",
     "output_type": "stream",
     "text": [
      "\r",
      " 98%|█████████▊| 869/891 [11:08<00:06,  3.46it/s]"
     ]
    },
    {
     "name": "stdout",
     "output_type": "stream",
     "text": [
      "full_mention:  czech republic\n",
      "full_mention Matched Value:  None 0.0\n"
     ]
    },
    {
     "name": "stderr",
     "output_type": "stream",
     "text": [
      "\r",
      " 98%|█████████▊| 870/891 [11:08<00:05,  3.58it/s]"
     ]
    },
    {
     "name": "stdout",
     "output_type": "stream",
     "text": [
      "full_mention:  marcelo rios\n",
      "full_mention Matched Value:  None 0.0\n"
     ]
    },
    {
     "name": "stderr",
     "output_type": "stream",
     "text": [
      "\r",
      " 98%|█████████▊| 871/891 [11:08<00:05,  3.66it/s]"
     ]
    },
    {
     "name": "stdout",
     "output_type": "stream",
     "text": [
      "full_mention:  marcelo rios\n",
      "full_mention Matched Value:  None 0.0\n"
     ]
    },
    {
     "name": "stderr",
     "output_type": "stream",
     "text": [
      "\r",
      " 98%|█████████▊| 872/891 [11:10<00:11,  1.71it/s]"
     ]
    },
    {
     "name": "stdout",
     "output_type": "stream",
     "text": [
      "full_mention:  chile\n",
      "full_mention Matched Value:  chile 1.0\n"
     ]
    },
    {
     "name": "stderr",
     "output_type": "stream",
     "text": [
      "\r",
      " 98%|█████████▊| 873/891 [11:10<00:08,  2.06it/s]"
     ]
    },
    {
     "name": "stdout",
     "output_type": "stream",
     "text": [
      "full_mention:  kenneth carlsen\n",
      "full_mention Matched Value:  None 0.0\n"
     ]
    },
    {
     "name": "stderr",
     "output_type": "stream",
     "text": [
      "\r",
      " 98%|█████████▊| 874/891 [11:10<00:07,  2.39it/s]"
     ]
    },
    {
     "name": "stdout",
     "output_type": "stream",
     "text": [
      "full_mention:  kenneth carlsen\n",
      "full_mention Matched Value:  None 0.0\n"
     ]
    },
    {
     "name": "stderr",
     "output_type": "stream",
     "text": [
      "\r",
      " 98%|█████████▊| 875/891 [11:12<00:11,  1.42it/s]"
     ]
    },
    {
     "name": "stdout",
     "output_type": "stream",
     "text": [
      "full_mention:  denmark\n",
      "full_mention Matched Value:  denmark 1.0\n"
     ]
    },
    {
     "name": "stderr",
     "output_type": "stream",
     "text": [
      "\r",
      " 98%|█████████▊| 876/891 [11:12<00:08,  1.74it/s]"
     ]
    },
    {
     "name": "stdout",
     "output_type": "stream",
     "text": [
      "full_mention:  malivai washington\n",
      "full_mention Matched Value:  None 0.0\n"
     ]
    },
    {
     "name": "stderr",
     "output_type": "stream",
     "text": [
      "\r",
      " 98%|█████████▊| 877/891 [11:12<00:06,  2.08it/s]"
     ]
    },
    {
     "name": "stdout",
     "output_type": "stream",
     "text": [
      "full_mention:  malivai washington\n",
      "full_mention Matched Value:  None 0.0\n"
     ]
    },
    {
     "name": "stderr",
     "output_type": "stream",
     "text": [
      "\r",
      " 99%|█████████▊| 878/891 [11:12<00:05,  2.40it/s]"
     ]
    },
    {
     "name": "stdout",
     "output_type": "stream",
     "text": [
      "full_mention:  u.s.\n",
      "full_mention Matched Value:  None 0.0\n"
     ]
    },
    {
     "name": "stderr",
     "output_type": "stream",
     "text": [
      "\r",
      " 99%|█████████▊| 879/891 [11:13<00:04,  2.72it/s]"
     ]
    },
    {
     "name": "stdout",
     "output_type": "stream",
     "text": [
      "full_mention:  alex corretja\n",
      "full_mention Matched Value:  None 0.0\n"
     ]
    },
    {
     "name": "stderr",
     "output_type": "stream",
     "text": [
      "\r",
      " 99%|█████████▉| 880/891 [11:13<00:03,  2.99it/s]"
     ]
    },
    {
     "name": "stdout",
     "output_type": "stream",
     "text": [
      "full_mention:  alex corretja\n",
      "full_mention Matched Value:  None 0.0\n"
     ]
    },
    {
     "name": "stderr",
     "output_type": "stream",
     "text": [
      "\r",
      " 99%|█████████▉| 881/891 [11:14<00:06,  1.59it/s]"
     ]
    },
    {
     "name": "stdout",
     "output_type": "stream",
     "text": [
      "full_mention:  spain\n",
      "full_mention Matched Value:  spain 1.0\n"
     ]
    },
    {
     "name": "stderr",
     "output_type": "stream",
     "text": [
      "\r",
      " 99%|█████████▉| 882/891 [11:14<00:04,  1.94it/s]"
     ]
    },
    {
     "name": "stdout",
     "output_type": "stream",
     "text": [
      "full_mention:  todd martin\n",
      "full_mention Matched Value:  None 0.0\n"
     ]
    },
    {
     "name": "stderr",
     "output_type": "stream",
     "text": [
      "\r",
      " 99%|█████████▉| 883/891 [11:15<00:03,  2.29it/s]"
     ]
    },
    {
     "name": "stdout",
     "output_type": "stream",
     "text": [
      "full_mention:  todd martin\n",
      "full_mention Matched Value:  None 0.0\n"
     ]
    },
    {
     "name": "stderr",
     "output_type": "stream",
     "text": [
      "\r",
      " 99%|█████████▉| 884/891 [11:15<00:02,  2.62it/s]"
     ]
    },
    {
     "name": "stdout",
     "output_type": "stream",
     "text": [
      "full_mention:  u.s.\n",
      "full_mention Matched Value:  None 0.0\n"
     ]
    },
    {
     "name": "stderr",
     "output_type": "stream",
     "text": [
      "\r",
      " 99%|█████████▉| 885/891 [11:15<00:02,  2.93it/s]"
     ]
    },
    {
     "name": "stdout",
     "output_type": "stream",
     "text": [
      "full_mention:  renzo furlan\n",
      "full_mention Matched Value:  None 0.0\n"
     ]
    },
    {
     "name": "stderr",
     "output_type": "stream",
     "text": [
      "\r",
      " 99%|█████████▉| 886/891 [11:15<00:01,  3.17it/s]"
     ]
    },
    {
     "name": "stdout",
     "output_type": "stream",
     "text": [
      "full_mention:  renzo furlan\n",
      "full_mention Matched Value:  None 0.0\n"
     ]
    },
    {
     "name": "stderr",
     "output_type": "stream",
     "text": [
      "\r",
      "100%|█████████▉| 887/891 [11:17<00:02,  1.62it/s]"
     ]
    },
    {
     "name": "stdout",
     "output_type": "stream",
     "text": [
      "full_mention:  italy\n",
      "full_mention Matched Value:  italy 1.0\n"
     ]
    },
    {
     "name": "stderr",
     "output_type": "stream",
     "text": [
      "\r",
      "100%|█████████▉| 888/891 [11:17<00:01,  1.96it/s]"
     ]
    },
    {
     "name": "stdout",
     "output_type": "stream",
     "text": [
      "full_mention:  mark philippoussis\n",
      "full_mention Matched Value:  None 0.0\n"
     ]
    },
    {
     "name": "stderr",
     "output_type": "stream",
     "text": [
      "\r",
      "100%|█████████▉| 889/891 [11:17<00:00,  2.30it/s]"
     ]
    },
    {
     "name": "stdout",
     "output_type": "stream",
     "text": [
      "full_mention:  mark philippoussis\n",
      "full_mention Matched Value:  None 0.0\n"
     ]
    },
    {
     "name": "stderr",
     "output_type": "stream",
     "text": [
      "\r",
      "100%|█████████▉| 890/891 [11:19<00:00,  1.36it/s]"
     ]
    },
    {
     "name": "stdout",
     "output_type": "stream",
     "text": [
      "full_mention:  australia\n",
      "full_mention Matched Value:  australia 1.0\n"
     ]
    },
    {
     "name": "stderr",
     "output_type": "stream",
     "text": [
      "100%|██████████| 891/891 [11:19<00:00,  1.31it/s]"
     ]
    },
    {
     "name": "stdout",
     "output_type": "stream",
     "text": [
      "full_mention:  marc rosset\n",
      "full_mention Matched Value:  None 0.0\n",
      "******************************************************\n",
      "Anchor Texts Not In Wikipedia2Vec Vocabulary:  122904959\n",
      "******************************************************\n",
      "CPU times: user 11min 7s, sys: 8.83 s, total: 11min 16s\n",
      "Wall time: 11min 19s\n"
     ]
    },
    {
     "name": "stderr",
     "output_type": "stream",
     "text": [
      "\n"
     ]
    }
   ],
   "source": [
    "%%time\n",
    "# Create single full_mention similarity matrix to assess computation time LOWER CASE\n",
    "match_pct = 1\n",
    "\n",
    "# Prepare blank matrix\n",
    "w2v_similarity_anchor_dict = {}\n",
    "anchor_texts_not_found = 0\n",
    "\n",
    "# Swap between tqdm depending on if you want progress bar\n",
    "for full_mention in tqdm(x_np[:int(np.ceil(len(x_np)*0.05))]):\n",
    "# for full_mention in x_np[:int(np.ceil(len(x_np)*0.01))]:\n",
    "\n",
    "#     print(\"full_mention: \", full_mention)\n",
    "    anchor_text_dict = {}\n",
    "    \n",
    "# Swap between tqdm depending on if you want progress bar\n",
    "#     for anchor_text in tqdm(at_count_df['normalized_anchor_text'][:int(np.ceil(len(at_count_df)*(match_pct/100)))]):\n",
    "    for anchor_text in at_count_df['normalized_anchor_text'][:int(np.ceil(len(at_count_df)*(match_pct/100)))]:\n",
    "#         print(\"Anchor Text: \", anchor_text)\n",
    "        try:\n",
    "            full_mention_anchor_similarity = w2v.similarity(full_mention.lower(), anchor_text)\n",
    "#             print(\"full_mention-Title Similarity: \", round(full_mention_anchor_similarity, 5))\n",
    "            anchor_text_dict[anchor_text] = full_mention_anchor_similarity\n",
    "        except KeyError:\n",
    "            anchor_texts_not_found += 1\n",
    "#             print(KeyError, \"AT Not in Vocabulary\")\n",
    "    try:\n",
    "        matched_value = max(anchor_text_dict, key=anchor_text_dict.get)\n",
    "        matched_score = anchor_text_dict[matched_value]\n",
    "    except ValueError:\n",
    "        matched_value = None\n",
    "        matched_score = 0.\n",
    "    print(\"full_mention: \", full_mention.lower())\n",
    "    print(\"full_mention Matched Value: \", matched_value, round(matched_score,5))\n",
    "    w2v_similarity_anchor_dict[full_mention] = (matched_value, matched_score)\n",
    "print(\"******************************************************\")\n",
    "print(\"Anchor Texts Not In Wikipedia2Vec Vocabulary: \", anchor_texts_not_found)\n",
    "print(\"******************************************************\")"
   ]
  },
  {
   "cell_type": "code",
   "execution_count": 55,
   "metadata": {},
   "outputs": [
    {
     "data": {
      "text/plain": [
       "{'German': ('german', 1.0),\n",
       " 'British': ('british', 0.99999994),\n",
       " 'BRUSSELS': ('brussels', 1.0),\n",
       " 'European Commission': (None, 0.0),\n",
       " 'Germany': ('germany', 1.0),\n",
       " 'European Union': (None, 0.0),\n",
       " 'Britain': ('britain', 1.0),\n",
       " 'Commission': ('commission', 1.0),\n",
       " 'Franz Fischler': (None, 0.0),\n",
       " 'France': ('france', 1.0),\n",
       " 'BSE': ('bse', 1.0),\n",
       " 'Spanish': ('spanish', 1.0),\n",
       " 'Loyola de Palacio': (None, 0.0),\n",
       " 'Europe': ('europe', 1.0),\n",
       " 'Bonn': ('bonn', 1.0),\n",
       " 'Hendrix': ('hendrix', 1.0),\n",
       " 'LONDON': ('london', 1.0),\n",
       " 'U.S.': (None, 0.0),\n",
       " 'Jimi Hendrix': (None, 0.0),\n",
       " 'London': ('london', 1.0),\n",
       " 'English': ('english', 1.0),\n",
       " 'Nottingham': ('nottingham', 1.0),\n",
       " 'Australian': ('australian', 1.0),\n",
       " 'China': ('china', 1.0),\n",
       " 'Taiwan': ('taiwan', 1.0),\n",
       " 'BEIJING': ('beijing', 1.0),\n",
       " 'Taipei': ('taipei', 1.0),\n",
       " 'Taiwan Strait': (None, 0.0),\n",
       " 'Ukraine': ('ukraine', 1.0),\n",
       " 'Taiwanese': ('taiwanese', 1.0),\n",
       " 'Lien Chan': (None, 0.0),\n",
       " 'Beijing': ('beijing', 1.0),\n",
       " 'Chinese': ('chinese', 1.0),\n",
       " 'Foreign Ministry': (None, 0.0),\n",
       " 'Reuters Television': (None, 0.0),\n",
       " 'Xinhua': ('beijinger', 0.6833036),\n",
       " 'Association for Relations Across the Taiwan Straits': (None, 0.0),\n",
       " 'FRANKFURT': ('frankfurt', 1.0),\n",
       " 'Germans': ('germans', 1.0),\n",
       " 'Volkswagen AG': (None, 0.0),\n",
       " 'Opel AG': (None, 0.0),\n",
       " 'General Motors': (None, 0.0),\n",
       " 'Ford': ('ford', 1.0),\n",
       " 'Porsche': ('bmw', 0.8543927),\n",
       " 'GREEK': ('greek', 1.0),\n",
       " 'ATHENS': ('athens', 1.0),\n",
       " 'Greek': ('greek', 1.0),\n",
       " 'Costas Simitis': (None, 0.0),\n",
       " 'Costas Skandalidis': (None, 0.0),\n",
       " 'BAYERISCHE VEREINSBANK': (None, 0.0),\n",
       " 'GERMAN': ('german', 1.0),\n",
       " 'SWEDISH': ('swedish', 1.0),\n",
       " 'ENGLISH': ('english', 1.0),\n",
       " 'SWEDEN': ('sweden', 1.0),\n",
       " 'Syria': ('syria', 1.0),\n",
       " 'Tartous': ('dimashq', 0.7654747),\n",
       " 'Israel': ('israel', 1.0),\n",
       " 'JERUSALEM': ('jerusalem', 1.0),\n",
       " 'Itamar Rabinovich': (None, 0.0),\n",
       " 'Washington': ('washington', 1.0),\n",
       " 'Israel Radio': (None, 0.0),\n",
       " 'Damascus': ('damascus', 1.0),\n",
       " 'Rabinovich': ('varshava', 0.6551477),\n",
       " 'Eliahu Ben-Elissar': (None, 0.0),\n",
       " 'Israeli': ('israeli', 1.0),\n",
       " 'Egypt': ('egypt', 1.0),\n",
       " 'Likud': ('shas', 0.82821596),\n",
       " 'David Levy': (None, 0.0),\n",
       " 'Benjamin Netanyahu': (None, 0.0),\n",
       " 'Golan Heights': (None, 0.0),\n",
       " 'Middle East': (None, 0.0),\n",
       " 'Golan': ('israeli', 0.72881734),\n",
       " 'Channel Two': (None, 0.0),\n",
       " 'Netanyahu': ('israelis', 0.729762),\n",
       " 'United States': (None, 0.0),\n",
       " 'Moscow': ('moscow', 1.0),\n",
       " 'Polish': ('polish', 1.0),\n",
       " 'Libya': ('libya', 1.0),\n",
       " 'TUNIS': ('tunis', 1.0),\n",
       " 'Reuters': ('reuters', 1.0),\n",
       " 'Poland': ('poland', 0.99999994),\n",
       " 'Iranian': ('iranian', 1.0),\n",
       " 'Baghdad': ('baghdad', 1.0),\n",
       " 'BAGHDAD': ('baghdad', 1.0),\n",
       " 'Iraq': ('iraq', 1.0),\n",
       " 'Iran': ('iran', 1.0),\n",
       " 'Kurdish': ('turkmen', 0.8556826),\n",
       " 'Massoud Rajavi': (None, 0.0),\n",
       " 'Kurdistan Democratic Party of Iran': (None, 0.0),\n",
       " 'KDPI': ('islamist', 0.7571659),\n",
       " 'Kurds': ('turkmens', 0.8889515),\n",
       " 'Iraqi Kurdish': (None, 0.0),\n",
       " 'PUK': ('taliban', 0.6002403),\n",
       " 'Kurdistan Democratic Party': (None, 0.0),\n",
       " 'KDP': ('sunnistan', 0.66880983),\n",
       " 'Iraqi': ('iraqi', 1.0),\n",
       " 'Kuwait': ('kuwait', 1.0),\n",
       " 'Gulf War': (None, 0.0),\n",
       " 'Qasri': ('ibn', 0.81520224),\n",
       " 'Suleimaniya': ('basra', 0.7464714),\n",
       " 'Iraqi Kurds': (None, 0.0),\n",
       " 'Saudi': ('saudi', 1.0),\n",
       " 'MANAMA': ('manama', 0.99999994),\n",
       " 'Arafat': ('hussein', 0.747075),\n",
       " 'Palestinian': ('palestinian', 1.0),\n",
       " 'Yasser Arafat': (None, 0.0),\n",
       " 'Shimon Peres': (None, 0.0),\n",
       " 'Ramallah': ('palestinian', 0.80670166),\n",
       " 'Gaza': ('palestinians', 0.8049174),\n",
       " 'Allenby Bridge': (None, 0.0),\n",
       " 'Jordan': ('jordan', 0.99999994),\n",
       " 'Peres': ('graça', 0.62215257),\n",
       " 'Palestinians': ('palestinians', 1.0),\n",
       " 'Afghan': ('afghan', 1.0),\n",
       " 'UAE': ('uae', 1.0),\n",
       " 'Taleban': ('taleban', 1.0),\n",
       " 'DUBAI': ('dubai', 1.0),\n",
       " 'United Arab Emirates': (None, 0.0),\n",
       " 'Russian': ('russian', 1.0),\n",
       " 'Afghanistan': ('afghanistan', 1.0),\n",
       " 'Abu Dhabi': (None, 0.0),\n",
       " 'Sharjah': ('dubai', 0.84325105),\n",
       " 'Kandahar': ('kabul', 0.87739825),\n",
       " 'Kabul': ('kabul', 1.0),\n",
       " 'Burhanuddin Rabbani': (None, 0.0),\n",
       " 'Russians': ('russians', 0.99999994),\n",
       " 'Tatarstan': ('bashkortostan', 0.92793727),\n",
       " 'Albania': ('albania', 1.0),\n",
       " 'Rabbani': ('mohammad', 0.8268793),\n",
       " 'Saddam': ('saddam', 1.0),\n",
       " 'Russia': ('russia', 1.0),\n",
       " 'Zhirinovsky': ('putin', 0.8339212),\n",
       " 'Saddam Hussein': (None, 0.0),\n",
       " 'Vladimir Zhirinovsky': (None, 0.0),\n",
       " 'Duma': ('putin', 0.6432241),\n",
       " 'U.N.': (None, 0.0),\n",
       " 'IRAQ': ('iraq', 1.0),\n",
       " 'Umm Qasr': (None, 0.0),\n",
       " 'Gulf': ('gulf', 1.0),\n",
       " 'Lebanon': ('lebanon', 1.0),\n",
       " 'BEIRUT': ('beirut', 1.0),\n",
       " 'Beirut': ('beirut', 1.0),\n",
       " 'AN-NAHAR': (None, 0.0),\n",
       " 'Hizbollah': ('islamist', 0.7930821),\n",
       " 'AS-SAFIR': (None, 0.0),\n",
       " 'AD-DIYAR': (None, 0.0),\n",
       " 'Pakistan': ('pakistan', 1.0),\n",
       " 'Maronite': ('syro', 0.77063656),\n",
       " 'CME': ('rse', 0.60583335),\n",
       " 'CHICAGO': ('chicago', 1.0),\n",
       " 'MONTGOMERY': ('jackson', 0.7875191),\n",
       " 'Ala': ('ala', 0.99999994),\n",
       " 'KinderCare Learning Centers Inc': (None, 0.0),\n",
       " 'Lehman': ('fisher', 0.6876565),\n",
       " 'SNET': ('telecommunications', 0.636662),\n",
       " 'PHOENIX': ('phoenix', 1.0),\n",
       " 'Le Monde': (None, 0.0),\n",
       " 'PARIS': ('paris', 1.0),\n",
       " 'Africans': ('africans', 1.0),\n",
       " 'Alain Juppe': (None, 0.0),\n",
       " 'Paris': ('paris', 1.0),\n",
       " 'FLNC': ('nlf', 0.6632937),\n",
       " 'Corsican': ('corsican', 1.0),\n",
       " 'Bally': ('bally', 1.0),\n",
       " 'French': ('french', 0.99999994),\n",
       " 'Sud-PTT': (None, 0.0),\n",
       " 'France Telecom': (None, 0.0),\n",
       " 'Heidrun': ('buch', 0.59826493),\n",
       " 'Statoil': ('offshore', 0.65575325),\n",
       " 'OSLO': ('oslo', 0.99999994),\n",
       " 'Oslo': ('oslo', 0.99999994),\n",
       " 'Finnish': ('finnish', 1.0),\n",
       " 'HELSINKI': ('helsinki', 0.99999994),\n",
       " 'Finland': ('finland', 1.0),\n",
       " 'Bank of Finland': (None, 0.0),\n",
       " 'Dutch': ('dutch', 1.0),\n",
       " 'AMSTERDAM': ('amsterdam', 1.0),\n",
       " 'GMT': ('utc', 0.759059),\n",
       " 'Amsterdam': ('amsterdam', 1.0),\n",
       " 'BONN': ('bonn', 1.0),\n",
       " 'ZDF': ('fernsehen', 0.83789957),\n",
       " 'WORLD SERIES OF GOLF': (None, 0.0),\n",
       " 'AKRON': ('cleveland', 0.83151925),\n",
       " 'Ohio': ('ohio', 1.0),\n",
       " 'NEC World Series of Golf': (None, 0.0),\n",
       " 'Paul Goydos': (None, 0.0),\n",
       " 'Billy Mayfair': (None, 0.0),\n",
       " 'Hidemichi Tanaka': (None, 0.0),\n",
       " 'Japan': ('japan', 1.0),\n",
       " 'Steve Stricker': (None, 0.0),\n",
       " 'Justin Leonard': (None, 0.0),\n",
       " 'Mark Brooks': (None, 0.0),\n",
       " 'Tim Herron': (None, 0.0),\n",
       " 'Duffy Waldorf': (None, 0.0),\n",
       " 'Davis Love': (None, 0.0),\n",
       " 'Anders Forsbrand': (None, 0.0),\n",
       " 'Sweden': ('sweden', 1.0),\n",
       " 'Nick Faldo': (None, 0.0),\n",
       " 'John Cook': (None, 0.0),\n",
       " 'Steve Jones': (None, 0.0),\n",
       " 'Phil Mickelson': (None, 0.0),\n",
       " 'Greg Norman': (None, 0.0),\n",
       " 'Australia': ('australia', 1.0),\n",
       " 'Ernie Els': (None, 0.0),\n",
       " 'South Africa': (None, 0.0),\n",
       " 'Scott Hoch': (None, 0.0),\n",
       " 'Clarence Rose': (None, 0.0),\n",
       " 'Loren Roberts': (None, 0.0),\n",
       " 'Fred Funk': (None, 0.0),\n",
       " 'Sven Struver': (None, 0.0),\n",
       " 'Alexander Cejka': (None, 0.0),\n",
       " 'Hal Sutton': (None, 0.0),\n",
       " 'Tom Lehman': (None, 0.0),\n",
       " 'D.A. Weibring': (None, 0.0),\n",
       " 'Brad Bryant': (None, 0.0),\n",
       " 'Craig Parry': (None, 0.0),\n",
       " 'Stewart Ginn': (None, 0.0),\n",
       " 'Corey Pavin': (None, 0.0),\n",
       " 'Craig Stadler': (None, 0.0),\n",
       " 'Fred Couples': (None, 0.0),\n",
       " 'Paul Stankowski': (None, 0.0),\n",
       " 'Costantino Rocca': (None, 0.0),\n",
       " 'Italy': ('italy', 1.0),\n",
       " 'Jim Furyk': (None, 0.0),\n",
       " 'Satoshi Higashi': (None, 0.0),\n",
       " 'Willie Wood': (None, 0.0),\n",
       " 'Shigeki Maruyama': (None, 0.0),\n",
       " 'Scott McCarron': (None, 0.0),\n",
       " 'Wayne Westner': (None, 0.0),\n",
       " 'Tom Watson': (None, 0.0),\n",
       " 'GLORIA BISTRITA': (None, 0.0),\n",
       " 'BISTRITA': ('dunărea', 0.7381733),\n",
       " 'Gloria Bistrita': (None, 0.0),\n",
       " 'Romania': ('romania', 1.0),\n",
       " 'Malta': ('malta', 1.0),\n",
       " 'Cup winners Cup': (None, 0.0),\n",
       " 'Gilbert Agius': (None, 0.0),\n",
       " 'YORK': ('york', 1.0),\n",
       " 'England': ('england', 1.0),\n",
       " 'Mark Prescott': (None, 0.0),\n",
       " 'Nunthorpe Stakes': (None, 0.0),\n",
       " 'George Duffield': (None, 0.0),\n",
       " 'Longchamp': ('tipperkevin', 0.6092894),\n",
       " 'Royal Ascot': (None, 0.0),\n",
       " 'Jason Weaver': (None, 0.0),\n",
       " 'Newmarket': ('derbys', 0.66377556),\n",
       " 'TOSHIBA CLASSIC': (None, 0.0),\n",
       " 'CARLSBAD': ('altadena', 0.6777079),\n",
       " 'California': ('california', 1.0),\n",
       " 'Toshiba Classic': (None, 0.0),\n",
       " 'Arantxa Sanchez Vicario': (None, 0.0),\n",
       " 'Spain': ('spain', 1.0),\n",
       " 'Kimiko Date': (None, 0.0),\n",
       " 'Sandrine Testud': (None, 0.0),\n",
       " 'Ai Sugiyama': (None, 0.0),\n",
       " 'Nathalie Tauziat': (None, 0.0),\n",
       " 'Shi-Ting Wang': (None, 0.0),\n",
       " 'COMMACK': ('bronx', 0.6915829),\n",
       " 'New York': (None, 0.0),\n",
       " 'Michael Chang': (None, 0.0),\n",
       " 'Sergi Bruguera': (None, 0.0),\n",
       " 'Michael Joyce': (None, 0.0),\n",
       " 'Richey Reneberg': (None, 0.0),\n",
       " 'Martin Damm': (None, 0.0),\n",
       " 'Czech Republic': (None, 0.0),\n",
       " 'Younes El Aynaoui': (None, 0.0),\n",
       " 'Morocco': ('morocco', 1.0),\n",
       " 'Karol Kucera': (None, 0.0),\n",
       " 'Slovakia': ('slovakia', 1.0),\n",
       " 'Hicham Arazi': (None, 0.0),\n",
       " 'DALGLISH': ('everton', 0.7331417),\n",
       " 'BLACKBURN': ('blackburn', 1.0),\n",
       " 'Kenny Dalglish': (None, 0.0),\n",
       " 'Blackburn': ('blackburn', 1.0),\n",
       " 'Dalglish': ('everton', 0.7331417),\n",
       " 'ENGLISH COUNTY CHAMPIONSHIP': (None, 0.0),\n",
       " 'County Championship': (None, 0.0),\n",
       " 'Weston-super-Mare': (None, 0.0),\n",
       " 'Durham': ('durham', 1.0),\n",
       " 'Somerset': ('somerset', 1.0),\n",
       " 'Colchester': ('norwich', 0.806472),\n",
       " 'Gloucestershire': ('gloucestershire', 1.0),\n",
       " 'J. Russell': (None, 0.0),\n",
       " 'Essex': ('essex', 1.0),\n",
       " 'Cardiff': ('cardiff', 1.0),\n",
       " 'Kent': ('kent', 1.0),\n",
       " 'Glamorgan': ('gloucestershire', 0.79991424),\n",
       " 'Leicester': ('leicester', 1.0),\n",
       " 'Leicestershire': ('leicestershire', 1.0),\n",
       " 'Hampshire': ('hampshire', 1.0),\n",
       " 'Northampton': ('northampton', 1.0),\n",
       " 'Sussex': ('sussex', 0.99999994),\n",
       " 'Northamptonshire': ('northamptonshire', 1.0),\n",
       " 'Trent Bridge': (None, 0.0),\n",
       " 'Nottinghamshire': ('nottinghamshire', 1.0),\n",
       " 'Surrey': ('surrey', 1.0),\n",
       " 'Worcester': ('worcester', 1.0),\n",
       " 'Warwickshire': ('warwickshire', 1.0),\n",
       " 'Worcestershire': ('worcestershire', 1.0),\n",
       " 'Headingley': ('leeds', 0.71631587),\n",
       " 'Yorkshire': ('yorkshire', 1.0),\n",
       " 'Lancashire': ('lancashire', 1.0),\n",
       " 'ENGLAND': ('england', 1.0),\n",
       " 'PAKISTAN': ('pakistan', 1.0),\n",
       " 'The Oval': (None, 0.0),\n",
       " 'Waqar Younis': (None, 0.0),\n",
       " 'Mushtaq Ahmed': (None, 0.0),\n",
       " 'Saeed Anwar': (None, 0.0),\n",
       " 'Mohammad Akram': (None, 0.0),\n",
       " 'Wasim Akram': (None, 0.0),\n",
       " 'Ijaz Ahmed': (None, 0.0),\n",
       " 'Inzamam-ul-Haq': (None, 0.0),\n",
       " 'Salim Malik': (None, 0.0),\n",
       " 'Asif Mujtaba': (None, 0.0),\n",
       " 'Moin Khan': (None, 0.0),\n",
       " 'FERGUSON': ('mcdonald', 0.87052655),\n",
       " 'SCOTTISH': ('scottish', 1.0),\n",
       " 'GLASGOW': ('glasgow', 1.0),\n",
       " 'Everton': ('everton', 1.0),\n",
       " 'Duncan Ferguson': (None, 0.0),\n",
       " 'Manchester United': (None, 0.0),\n",
       " 'Scottish': ('scottish', 1.0),\n",
       " 'Glasgow Rangers': (None, 0.0),\n",
       " 'Ally McCoist': (None, 0.0),\n",
       " 'World Cup': (None, 0.0),\n",
       " 'Austria': ('austria', 1.0),\n",
       " 'Vienna': ('vienna', 1.0),\n",
       " 'Ferguson': ('mcdonald', 0.87052655),\n",
       " 'Scotland': ('scotland', 1.0),\n",
       " 'Craig Brown': (None, 0.0),\n",
       " 'Celtic': ('celtic', 0.99999994),\n",
       " 'Jackie McNamara': (None, 0.0),\n",
       " 'KEANE': ('mcdonald', 0.7501085),\n",
       " 'MANCHESTER UNITED': (None, 0.0),\n",
       " 'Ireland': ('ireland', 1.0),\n",
       " 'Roy Keane': (None, 0.0),\n",
       " 'F.A. Cup': (None, 0.0),\n",
       " 'United': ('united', 0.99999994),\n",
       " 'Alex Ferguson': (None, 0.0),\n",
       " 'CANADIAN OPEN': (None, 0.0),\n",
       " 'TORONTO': ('toronto', 0.99999994),\n",
       " 'Canadian Open': (None, 0.0),\n",
       " 'Daniel Nestor': (None, 0.0),\n",
       " 'Canada': ('canada', 1.0),\n",
       " 'Thomas Muster': (None, 0.0),\n",
       " 'Mikael Tillstrom': (None, 0.0),\n",
       " 'Goran Ivanisevic': (None, 0.0),\n",
       " 'Croatia': ('croatia', 1.0),\n",
       " 'Wayne Ferreira': (None, 0.0),\n",
       " 'Jiri Novak': (None, 0.0),\n",
       " 'Marcelo Rios': (None, 0.0),\n",
       " 'Chile': ('chile', 1.0),\n",
       " 'Kenneth Carlsen': (None, 0.0),\n",
       " 'Denmark': ('denmark', 1.0),\n",
       " 'MaliVai Washington': (None, 0.0),\n",
       " 'Alex Corretja': (None, 0.0),\n",
       " 'Todd Martin': (None, 0.0),\n",
       " 'Renzo Furlan': (None, 0.0),\n",
       " 'Mark Philippoussis': (None, 0.0),\n",
       " 'Marc Rosset': (None, 0.0)}"
      ]
     },
     "execution_count": 55,
     "metadata": {},
     "output_type": "execute_result"
    }
   ],
   "source": [
    "# Display generated dict\n",
    "w2v_similarity_anchor_dict"
   ]
  },
  {
   "cell_type": "code",
   "execution_count": 49,
   "metadata": {},
   "outputs": [
    {
     "name": "stdout",
     "output_type": "stream",
     "text": [
      "German (None, 0.0)\n"
     ]
    }
   ],
   "source": [
    "# What is the word it matched?\n",
    "max_key = max(w2v_similarity_anchor_dict, key=w2v_similarity_anchor_dict.get)\n",
    "print(max_key, w2v_similarity_anchor_dict[max_key])"
   ]
  },
  {
   "cell_type": "markdown",
   "metadata": {},
   "source": [
    "#### We see better success at matching to anchor text using tokens but matching this to an entity then still relies on link statistics, not very compelling."
   ]
  }
 ],
 "metadata": {
  "kernelspec": {
   "display_name": "Python 3",
   "language": "python",
   "name": "python3"
  },
  "language_info": {
   "codemirror_mode": {
    "name": "ipython",
    "version": 3
   },
   "file_extension": ".py",
   "mimetype": "text/x-python",
   "name": "python",
   "nbconvert_exporter": "python",
   "pygments_lexer": "ipython3",
   "version": "3.7.7"
  }
 },
 "nbformat": 4,
 "nbformat_minor": 2
}
