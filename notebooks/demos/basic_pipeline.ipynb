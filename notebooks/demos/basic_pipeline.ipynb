{
 "cells": [
  {
   "cell_type": "markdown",
   "metadata": {},
   "source": [
    "# Basic Pipeline\n",
    "\n",
    "Our basic pipeline consists of using **Anchor Link** statistics to link an entity mention in the dataset ACY to a Wikipedia page ID in the Kensho-derived Knowledge Graph."
   ]
  },
  {
   "cell_type": "code",
   "execution_count": 1,
   "metadata": {},
   "outputs": [],
   "source": [
    "# Import necessary packages\n",
    "# Ensure installation of nltk package in conda environment\n",
    "import os\n",
    "import time\n",
    "\n",
    "import pandas as pd\n",
    "import numpy as np\n",
    "import matplotlib.pyplot as plt\n",
    "%matplotlib inline\n",
    "\n",
    "# Add directory above current directory to path so we can import our pre-built package\n",
    "import sys; sys.path.insert(0, '../..')\n",
    "from entity_disambiguation.preprocessing import process_input, normalize_text\n",
    "\n",
    "from nltk.corpus import stopwords\n",
    "\n",
    "from tqdm import tqdm"
   ]
  },
  {
   "cell_type": "code",
   "execution_count": 2,
   "metadata": {},
   "outputs": [],
   "source": [
    "try: \n",
    "    stop = stopwords.words('english')\n",
    "except LookupError:\n",
    "    # Download stopwords if it's your first time\n",
    "    import nltk\n",
    "    nltk.download('stopwords')"
   ]
  },
  {
   "cell_type": "markdown",
   "metadata": {},
   "source": [
    "## 1. Process Aida-Conll-Yago (ACY) dataset into train/test split\n",
    "\n",
    "We import ACY, provide the ability to split it into train and test (though don't use this yet) and normalize full_mention to lower cases with spaces."
   ]
  },
  {
   "cell_type": "code",
   "execution_count": 31,
   "metadata": {},
   "outputs": [],
   "source": [
    "# relative path to ACY dataset, should be the same for all users within `entity-disambiguation` repository\n",
    "acy_path = '../../data/aida-conll-yago-dataset/'\n",
    "\n",
    "# process_input() takes path location where you've stored AIDA-YAGO2-DATASET.tsv file\n",
    "# Transforms tsv file into train, test split\n",
    "# x are words, y are indices\n",
    "train_x, train_y, test_x, test_y = process_input(acy_path, match=\"full_mention\", train = 1.)"
   ]
  },
  {
   "cell_type": "code",
   "execution_count": 32,
   "metadata": {},
   "outputs": [
    {
     "data": {
      "text/plain": [
       "((22257, 2), (22257,))"
      ]
     },
     "metadata": {},
     "output_type": "display_data"
    },
    {
     "data": {
      "text/plain": [
       "((0, 2), (0,))"
      ]
     },
     "metadata": {},
     "output_type": "display_data"
    }
   ],
   "source": [
    "# Display shape of output train data\n",
    "display((train_x.shape, train_y.shape))\n",
    "display((test_x.shape, test_y.shape))"
   ]
  },
  {
   "cell_type": "code",
   "execution_count": 33,
   "metadata": {},
   "outputs": [
    {
     "data": {
      "text/html": [
       "<div>\n",
       "<style scoped>\n",
       "    .dataframe tbody tr th:only-of-type {\n",
       "        vertical-align: middle;\n",
       "    }\n",
       "\n",
       "    .dataframe tbody tr th {\n",
       "        vertical-align: top;\n",
       "    }\n",
       "\n",
       "    .dataframe thead th {\n",
       "        text-align: right;\n",
       "    }\n",
       "</style>\n",
       "<table border=\"1\" class=\"dataframe\">\n",
       "  <thead>\n",
       "    <tr style=\"text-align: right;\">\n",
       "      <th></th>\n",
       "      <th>full_mention</th>\n",
       "      <th>in_between_word_count</th>\n",
       "    </tr>\n",
       "  </thead>\n",
       "  <tbody>\n",
       "    <tr>\n",
       "      <th>0</th>\n",
       "      <td>German</td>\n",
       "      <td>2</td>\n",
       "    </tr>\n",
       "    <tr>\n",
       "      <th>1</th>\n",
       "      <td>British</td>\n",
       "      <td>3</td>\n",
       "    </tr>\n",
       "    <tr>\n",
       "      <th>2</th>\n",
       "      <td>BRUSSELS</td>\n",
       "      <td>6</td>\n",
       "    </tr>\n",
       "  </tbody>\n",
       "</table>\n",
       "</div>"
      ],
      "text/plain": [
       "  full_mention  in_between_word_count\n",
       "0       German                      2\n",
       "1      British                      3\n",
       "2     BRUSSELS                      6"
      ]
     },
     "execution_count": 33,
     "metadata": {},
     "output_type": "execute_result"
    }
   ],
   "source": [
    "# Display x preview\n",
    "train_x.head(3)"
   ]
  },
  {
   "cell_type": "code",
   "execution_count": 34,
   "metadata": {},
   "outputs": [
    {
     "data": {
      "text/plain": [
       "array(['11867', '31717', '3708'], dtype='<U8')"
      ]
     },
     "execution_count": 34,
     "metadata": {},
     "output_type": "execute_result"
    }
   ],
   "source": [
    "# Display y preview\n",
    "train_y[0:3]"
   ]
  },
  {
   "cell_type": "code",
   "execution_count": 39,
   "metadata": {},
   "outputs": [],
   "source": [
    "# Save train x/y into numpy arrays\n",
    "x_np = train_x.full_mention.values\n",
    "x_np = np.array([x.lower() if x is not None else x for x in x_np])\n",
    "y_np = np.array(train_y, dtype = 'int64')"
   ]
  },
  {
   "cell_type": "code",
   "execution_count": 42,
   "metadata": {},
   "outputs": [
    {
     "data": {
      "text/plain": [
       "(array(['german', 'british', 'brussels', 'european commission',\n",
       "        'european commission'], dtype='<U51'),\n",
       " array([11867, 31717,  3708,  9974,  9974]))"
      ]
     },
     "execution_count": 42,
     "metadata": {},
     "output_type": "execute_result"
    }
   ],
   "source": [
    "# Preview x_np\n",
    "x_np[:5], y_np[:5]"
   ]
  },
  {
   "cell_type": "markdown",
   "metadata": {},
   "source": [
    "## Build Kensho Target Dataset\n",
    "\n",
    "Load `KWNLP` dataset to create our baseline model, i.e. calculate the anchor linkage statistics for Wikipedia pages. Then we apply that to the ACY dataset in the next section.\n",
    "\n",
    "These baselines so far only consider *exact* matches between a full mention in ACY and an anchor text in KWNLP."
   ]
  },
  {
   "cell_type": "code",
   "execution_count": 8,
   "metadata": {},
   "outputs": [],
   "source": [
    "# Provide directory path for KWNLP data\n",
    "# Should be same for all users of `entity-disambiguation` repository\n",
    "kwnlp_path = '../../data/kwnlp'\n",
    "\n",
    "# Load article data\n",
    "article_df = pd.read_csv(os.path.join(kwnlp_path, 'kwnlp-enwiki-20200920-article.csv'))\n",
    "\n",
    "# Load anchor target counts data\n",
    "anchor_df = pd.read_csv(os.path.join(kwnlp_path, 'kwnlp-enwiki-20200920-anchor-target-counts.csv'))"
   ]
  },
  {
   "cell_type": "code",
   "execution_count": 9,
   "metadata": {},
   "outputs": [
    {
     "data": {
      "text/html": [
       "<div>\n",
       "<style scoped>\n",
       "    .dataframe tbody tr th:only-of-type {\n",
       "        vertical-align: middle;\n",
       "    }\n",
       "\n",
       "    .dataframe tbody tr th {\n",
       "        vertical-align: top;\n",
       "    }\n",
       "\n",
       "    .dataframe thead th {\n",
       "        text-align: right;\n",
       "    }\n",
       "</style>\n",
       "<table border=\"1\" class=\"dataframe\">\n",
       "  <thead>\n",
       "    <tr style=\"text-align: right;\">\n",
       "      <th></th>\n",
       "      <th>page_id</th>\n",
       "      <th>item_id</th>\n",
       "      <th>page_title</th>\n",
       "      <th>views</th>\n",
       "      <th>len_article_chars</th>\n",
       "      <th>len_intro_chars</th>\n",
       "      <th>in_link_count</th>\n",
       "      <th>out_link_count</th>\n",
       "      <th>tmpl_good_article</th>\n",
       "      <th>tmpl_featured_article</th>\n",
       "      <th>tmpl_pseudoscience</th>\n",
       "      <th>tmpl_conspiracy_theories</th>\n",
       "      <th>isa_Q17442446</th>\n",
       "      <th>isa_Q14795564</th>\n",
       "      <th>isa_Q18340514</th>\n",
       "    </tr>\n",
       "  </thead>\n",
       "  <tbody>\n",
       "    <tr>\n",
       "      <th>0</th>\n",
       "      <td>12</td>\n",
       "      <td>6199</td>\n",
       "      <td>Anarchism</td>\n",
       "      <td>35558</td>\n",
       "      <td>40449</td>\n",
       "      <td>409</td>\n",
       "      <td>3826</td>\n",
       "      <td>371</td>\n",
       "      <td>1</td>\n",
       "      <td>0</td>\n",
       "      <td>0</td>\n",
       "      <td>0</td>\n",
       "      <td>0</td>\n",
       "      <td>0</td>\n",
       "      <td>0</td>\n",
       "    </tr>\n",
       "    <tr>\n",
       "      <th>1</th>\n",
       "      <td>25</td>\n",
       "      <td>38404</td>\n",
       "      <td>Autism</td>\n",
       "      <td>40081</td>\n",
       "      <td>47659</td>\n",
       "      <td>419</td>\n",
       "      <td>2313</td>\n",
       "      <td>309</td>\n",
       "      <td>0</td>\n",
       "      <td>1</td>\n",
       "      <td>0</td>\n",
       "      <td>0</td>\n",
       "      <td>0</td>\n",
       "      <td>0</td>\n",
       "      <td>0</td>\n",
       "    </tr>\n",
       "    <tr>\n",
       "      <th>2</th>\n",
       "      <td>39</td>\n",
       "      <td>101038</td>\n",
       "      <td>Albedo</td>\n",
       "      <td>10770</td>\n",
       "      <td>18766</td>\n",
       "      <td>293</td>\n",
       "      <td>3090</td>\n",
       "      <td>115</td>\n",
       "      <td>0</td>\n",
       "      <td>0</td>\n",
       "      <td>0</td>\n",
       "      <td>0</td>\n",
       "      <td>0</td>\n",
       "      <td>0</td>\n",
       "      <td>0</td>\n",
       "    </tr>\n",
       "    <tr>\n",
       "      <th>3</th>\n",
       "      <td>290</td>\n",
       "      <td>9659</td>\n",
       "      <td>A</td>\n",
       "      <td>29398</td>\n",
       "      <td>9538</td>\n",
       "      <td>609</td>\n",
       "      <td>173</td>\n",
       "      <td>149</td>\n",
       "      <td>0</td>\n",
       "      <td>0</td>\n",
       "      <td>0</td>\n",
       "      <td>0</td>\n",
       "      <td>0</td>\n",
       "      <td>0</td>\n",
       "      <td>0</td>\n",
       "    </tr>\n",
       "    <tr>\n",
       "      <th>4</th>\n",
       "      <td>303</td>\n",
       "      <td>173</td>\n",
       "      <td>Alabama</td>\n",
       "      <td>46680</td>\n",
       "      <td>74276</td>\n",
       "      <td>369</td>\n",
       "      <td>11864</td>\n",
       "      <td>744</td>\n",
       "      <td>0</td>\n",
       "      <td>0</td>\n",
       "      <td>0</td>\n",
       "      <td>0</td>\n",
       "      <td>0</td>\n",
       "      <td>0</td>\n",
       "      <td>0</td>\n",
       "    </tr>\n",
       "  </tbody>\n",
       "</table>\n",
       "</div>"
      ],
      "text/plain": [
       "   page_id  item_id page_title  views  len_article_chars  len_intro_chars  \\\n",
       "0       12     6199  Anarchism  35558              40449              409   \n",
       "1       25    38404     Autism  40081              47659              419   \n",
       "2       39   101038     Albedo  10770              18766              293   \n",
       "3      290     9659          A  29398               9538              609   \n",
       "4      303      173    Alabama  46680              74276              369   \n",
       "\n",
       "   in_link_count  out_link_count  tmpl_good_article  tmpl_featured_article  \\\n",
       "0           3826             371                  1                      0   \n",
       "1           2313             309                  0                      1   \n",
       "2           3090             115                  0                      0   \n",
       "3            173             149                  0                      0   \n",
       "4          11864             744                  0                      0   \n",
       "\n",
       "   tmpl_pseudoscience  tmpl_conspiracy_theories  isa_Q17442446  isa_Q14795564  \\\n",
       "0                   0                         0              0              0   \n",
       "1                   0                         0              0              0   \n",
       "2                   0                         0              0              0   \n",
       "3                   0                         0              0              0   \n",
       "4                   0                         0              0              0   \n",
       "\n",
       "   isa_Q18340514  \n",
       "0              0  \n",
       "1              0  \n",
       "2              0  \n",
       "3              0  \n",
       "4              0  "
      ]
     },
     "execution_count": 9,
     "metadata": {},
     "output_type": "execute_result"
    }
   ],
   "source": [
    "# Display article preview\n",
    "article_df.head()"
   ]
  },
  {
   "cell_type": "code",
   "execution_count": 10,
   "metadata": {},
   "outputs": [
    {
     "data": {
      "text/html": [
       "<div>\n",
       "<style scoped>\n",
       "    .dataframe tbody tr th:only-of-type {\n",
       "        vertical-align: middle;\n",
       "    }\n",
       "\n",
       "    .dataframe tbody tr th {\n",
       "        vertical-align: top;\n",
       "    }\n",
       "\n",
       "    .dataframe thead th {\n",
       "        text-align: right;\n",
       "    }\n",
       "</style>\n",
       "<table border=\"1\" class=\"dataframe\">\n",
       "  <thead>\n",
       "    <tr style=\"text-align: right;\">\n",
       "      <th></th>\n",
       "      <th>anchor_text</th>\n",
       "      <th>target_page_id</th>\n",
       "      <th>count</th>\n",
       "    </tr>\n",
       "  </thead>\n",
       "  <tbody>\n",
       "    <tr>\n",
       "      <th>0</th>\n",
       "      <td>United States</td>\n",
       "      <td>3434750</td>\n",
       "      <td>152451</td>\n",
       "    </tr>\n",
       "    <tr>\n",
       "      <th>1</th>\n",
       "      <td>World War II</td>\n",
       "      <td>32927</td>\n",
       "      <td>133668</td>\n",
       "    </tr>\n",
       "    <tr>\n",
       "      <th>2</th>\n",
       "      <td>India</td>\n",
       "      <td>14533</td>\n",
       "      <td>112069</td>\n",
       "    </tr>\n",
       "    <tr>\n",
       "      <th>3</th>\n",
       "      <td>France</td>\n",
       "      <td>5843419</td>\n",
       "      <td>109669</td>\n",
       "    </tr>\n",
       "    <tr>\n",
       "      <th>4</th>\n",
       "      <td>footballer</td>\n",
       "      <td>10568</td>\n",
       "      <td>101027</td>\n",
       "    </tr>\n",
       "  </tbody>\n",
       "</table>\n",
       "</div>"
      ],
      "text/plain": [
       "     anchor_text  target_page_id   count\n",
       "0  United States         3434750  152451\n",
       "1   World War II           32927  133668\n",
       "2          India           14533  112069\n",
       "3         France         5843419  109669\n",
       "4     footballer           10568  101027"
      ]
     },
     "execution_count": 10,
     "metadata": {},
     "output_type": "execute_result"
    }
   ],
   "source": [
    "# Display anchor preview\n",
    "anchor_df.head()"
   ]
  },
  {
   "cell_type": "code",
   "execution_count": 12,
   "metadata": {},
   "outputs": [
    {
     "name": "stdout",
     "output_type": "stream",
     "text": [
      "15269229\n"
     ]
    },
    {
     "data": {
      "text/html": [
       "<div>\n",
       "<style scoped>\n",
       "    .dataframe tbody tr th:only-of-type {\n",
       "        vertical-align: middle;\n",
       "    }\n",
       "\n",
       "    .dataframe tbody tr th {\n",
       "        vertical-align: top;\n",
       "    }\n",
       "\n",
       "    .dataframe thead th {\n",
       "        text-align: right;\n",
       "    }\n",
       "</style>\n",
       "<table border=\"1\" class=\"dataframe\">\n",
       "  <thead>\n",
       "    <tr style=\"text-align: right;\">\n",
       "      <th></th>\n",
       "      <th>anchor_text</th>\n",
       "      <th>target_page_id</th>\n",
       "      <th>count</th>\n",
       "      <th>normalized_anchor_text</th>\n",
       "    </tr>\n",
       "  </thead>\n",
       "  <tbody>\n",
       "    <tr>\n",
       "      <th>0</th>\n",
       "      <td>United States</td>\n",
       "      <td>3434750</td>\n",
       "      <td>152451</td>\n",
       "      <td>united states</td>\n",
       "    </tr>\n",
       "    <tr>\n",
       "      <th>1</th>\n",
       "      <td>World War II</td>\n",
       "      <td>32927</td>\n",
       "      <td>133668</td>\n",
       "      <td>world war ii</td>\n",
       "    </tr>\n",
       "    <tr>\n",
       "      <th>2</th>\n",
       "      <td>India</td>\n",
       "      <td>14533</td>\n",
       "      <td>112069</td>\n",
       "      <td>india</td>\n",
       "    </tr>\n",
       "  </tbody>\n",
       "</table>\n",
       "</div>"
      ],
      "text/plain": [
       "     anchor_text  target_page_id   count normalized_anchor_text\n",
       "0  United States         3434750  152451          united states\n",
       "1   World War II           32927  133668           world war ii\n",
       "2          India           14533  112069                  india"
      ]
     },
     "execution_count": 12,
     "metadata": {},
     "output_type": "execute_result"
    }
   ],
   "source": [
    "# Copy anchor_df to new dataframe\n",
    "at_count_df = anchor_df.copy()\n",
    "\n",
    "# Normalize anchor_text (lower-case, strip whitespace)\n",
    "at_count_df[\"normalized_anchor_text\"] = at_count_df[\"anchor_text\"].apply(normalize_text)\n",
    "\n",
    "# Return all anchor_texts that are non-zero, non-null\n",
    "at_count_df = at_count_df.loc[at_count_df['normalized_anchor_text'].str.len() > 0, :]\n",
    "\n",
    "print(len(at_count_df))\n",
    "at_count_df.head(3)"
   ]
  },
  {
   "cell_type": "markdown",
   "metadata": {},
   "source": [
    "Inner join anchor-target data (mention to linked entity) with Wikipedia page article data. This lets us collate stats like page views with the target (entity) of mentions. Page views serves as another baseline model by selecting the page/entity that is most viewed for that anchor text."
   ]
  },
  {
   "cell_type": "code",
   "execution_count": 13,
   "metadata": {},
   "outputs": [
    {
     "data": {
      "text/html": [
       "<div>\n",
       "<style scoped>\n",
       "    .dataframe tbody tr th:only-of-type {\n",
       "        vertical-align: middle;\n",
       "    }\n",
       "\n",
       "    .dataframe tbody tr th {\n",
       "        vertical-align: top;\n",
       "    }\n",
       "\n",
       "    .dataframe thead th {\n",
       "        text-align: right;\n",
       "    }\n",
       "</style>\n",
       "<table border=\"1\" class=\"dataframe\">\n",
       "  <thead>\n",
       "    <tr style=\"text-align: right;\">\n",
       "      <th></th>\n",
       "      <th>normalized_anchor_text</th>\n",
       "      <th>target_page_id</th>\n",
       "      <th>target_item_id</th>\n",
       "      <th>target_page_title</th>\n",
       "      <th>target_page_views</th>\n",
       "      <th>anchor_target_count</th>\n",
       "    </tr>\n",
       "  </thead>\n",
       "  <tbody>\n",
       "    <tr>\n",
       "      <th>0</th>\n",
       "      <td>united states</td>\n",
       "      <td>3434750</td>\n",
       "      <td>30</td>\n",
       "      <td>United_States</td>\n",
       "      <td>460156</td>\n",
       "      <td>152451</td>\n",
       "    </tr>\n",
       "    <tr>\n",
       "      <th>1</th>\n",
       "      <td>american</td>\n",
       "      <td>3434750</td>\n",
       "      <td>30</td>\n",
       "      <td>United_States</td>\n",
       "      <td>460156</td>\n",
       "      <td>65722</td>\n",
       "    </tr>\n",
       "    <tr>\n",
       "      <th>2</th>\n",
       "      <td>usa</td>\n",
       "      <td>3434750</td>\n",
       "      <td>30</td>\n",
       "      <td>United_States</td>\n",
       "      <td>460156</td>\n",
       "      <td>8559</td>\n",
       "    </tr>\n",
       "  </tbody>\n",
       "</table>\n",
       "</div>"
      ],
      "text/plain": [
       "  normalized_anchor_text  target_page_id  target_item_id target_page_title  \\\n",
       "0          united states         3434750              30     United_States   \n",
       "1               american         3434750              30     United_States   \n",
       "2                    usa         3434750              30     United_States   \n",
       "\n",
       "   target_page_views  anchor_target_count  \n",
       "0             460156               152451  \n",
       "1             460156                65722  \n",
       "2             460156                 8559  "
      ]
     },
     "execution_count": 13,
     "metadata": {},
     "output_type": "execute_result"
    }
   ],
   "source": [
    "# Merge at_count and article stats dataframes\n",
    "at_count_df = pd.merge(\n",
    "    at_count_df,\n",
    "    article_df,\n",
    "    how=\"inner\",\n",
    "    left_on=\"target_page_id\",\n",
    "    right_on=\"page_id\")\n",
    "\n",
    "# Rename columns for clarity\n",
    "at_count_df = at_count_df.rename(columns={\n",
    "    'title': 'target_page_title',\n",
    "    'item_id': 'target_item_id',\n",
    "    'views': 'target_page_views',\n",
    "    'count': 'anchor_target_count',\n",
    "    'page_title': 'target_page_title'})\n",
    "\n",
    "# Specify column ordering\n",
    "at_count_df = at_count_df[[\n",
    "    \"normalized_anchor_text\",\n",
    "    \"target_page_id\",\n",
    "    \"target_item_id\",\n",
    "    \"target_page_title\",\n",
    "    \"target_page_views\",\n",
    "    \"anchor_target_count\"]]\n",
    "\n",
    "# Display preview\n",
    "at_count_df.head(3)"
   ]
  },
  {
   "cell_type": "markdown",
   "metadata": {},
   "source": [
    "Drop NaNs. These have been encoded as `string` through the text normalisation previously."
   ]
  },
  {
   "cell_type": "code",
   "execution_count": 14,
   "metadata": {},
   "outputs": [
    {
     "name": "stdout",
     "output_type": "stream",
     "text": [
      "Dropped rows: 3596\n"
     ]
    }
   ],
   "source": [
    "# Drop NaNs\n",
    "len_orig = len(at_count_df)\n",
    "at_count_df = at_count_df.loc[at_count_df['normalized_anchor_text'] != 'nan']\n",
    "print('Dropped rows:', len_orig - len(at_count_df))"
   ]
  },
  {
   "cell_type": "markdown",
   "metadata": {},
   "source": [
    "This leaves us with our final target baseline. We will now select a page_id for each normalized_anchor_text based on target link count or page views and then try to join full_mention with normalized_anchor_text."
   ]
  },
  {
   "cell_type": "markdown",
   "metadata": {},
   "source": [
    "# Develop Two Baseline Models"
   ]
  },
  {
   "cell_type": "markdown",
   "metadata": {},
   "source": [
    "### i. Anchor Link Count\n",
    "`pandas` `merge` and `join` can't be used with indices with duplicate values, as it automatically sorts and that can't be undone confidently with duplicates."
   ]
  },
  {
   "cell_type": "code",
   "execution_count": 15,
   "metadata": {},
   "outputs": [
    {
     "data": {
      "text/html": [
       "<div>\n",
       "<style scoped>\n",
       "    .dataframe tbody tr th:only-of-type {\n",
       "        vertical-align: middle;\n",
       "    }\n",
       "\n",
       "    .dataframe tbody tr th {\n",
       "        vertical-align: top;\n",
       "    }\n",
       "\n",
       "    .dataframe thead th {\n",
       "        text-align: right;\n",
       "    }\n",
       "</style>\n",
       "<table border=\"1\" class=\"dataframe\">\n",
       "  <thead>\n",
       "    <tr style=\"text-align: right;\">\n",
       "      <th></th>\n",
       "      <th>target_page_id</th>\n",
       "      <th>target_item_id</th>\n",
       "      <th>target_page_title</th>\n",
       "      <th>target_page_views</th>\n",
       "      <th>anchor_target_count</th>\n",
       "    </tr>\n",
       "    <tr>\n",
       "      <th>normalized_anchor_text</th>\n",
       "      <th></th>\n",
       "      <th></th>\n",
       "      <th></th>\n",
       "      <th></th>\n",
       "      <th></th>\n",
       "    </tr>\n",
       "  </thead>\n",
       "  <tbody>\n",
       "    <tr>\n",
       "      <th>𨳊</th>\n",
       "      <td>12274636</td>\n",
       "      <td>837751</td>\n",
       "      <td>Cantonese_profanity</td>\n",
       "      <td>4897</td>\n",
       "      <td>1</td>\n",
       "    </tr>\n",
       "    <tr>\n",
       "      <th>🧀</th>\n",
       "      <td>11749910</td>\n",
       "      <td>10943</td>\n",
       "      <td>Cheese</td>\n",
       "      <td>22110</td>\n",
       "      <td>1</td>\n",
       "    </tr>\n",
       "    <tr>\n",
       "      <th>🤙</th>\n",
       "      <td>6633641</td>\n",
       "      <td>1703272</td>\n",
       "      <td>List_of_gestures</td>\n",
       "      <td>12235</td>\n",
       "      <td>2</td>\n",
       "    </tr>\n",
       "  </tbody>\n",
       "</table>\n",
       "</div>"
      ],
      "text/plain": [
       "                        target_page_id  target_item_id    target_page_title  \\\n",
       "normalized_anchor_text                                                        \n",
       "𨳊                             12274636          837751  Cantonese_profanity   \n",
       "🧀                             11749910           10943               Cheese   \n",
       "🤙                              6633641         1703272     List_of_gestures   \n",
       "\n",
       "                        target_page_views  anchor_target_count  \n",
       "normalized_anchor_text                                          \n",
       "𨳊                                    4897                    1  \n",
       "🧀                                   22110                    1  \n",
       "🤙                                   12235                    2  "
      ]
     },
     "metadata": {},
     "output_type": "display_data"
    },
    {
     "name": "stdout",
     "output_type": "stream",
     "text": [
      "Removed 3936693 mentions with targets with lower anchor counts\n",
      "CPU times: user 1min 49s, sys: 10.3 s, total: 2min\n",
      "Wall time: 2min 3s\n"
     ]
    }
   ],
   "source": [
    "%%time\n",
    "# Sort all anchor links by anchor text and then target count\n",
    "max_anchor_links = at_count_df.sort_values(['normalized_anchor_text', 'anchor_target_count'], ascending = False)\n",
    "# Keep just most common value (top value after sort)\n",
    "max_anchor_links.drop_duplicates('normalized_anchor_text', keep = 'first', inplace = True)\n",
    "# Update index after drops\n",
    "max_anchor_links.set_index('normalized_anchor_text', inplace = True)\n",
    "\n",
    "# Show top rows\n",
    "display(max_anchor_links.head(3))\n",
    "print('Removed {} mentions with targets with lower anchor counts'.format(len(at_count_df)-len(max_anchor_links)))\n",
    "assert len(max_anchor_links) == len(set(at_count_df.normalized_anchor_text.values))\n"
   ]
  },
  {
   "cell_type": "code",
   "execution_count": 19,
   "metadata": {},
   "outputs": [
    {
     "data": {
      "text/html": [
       "<div>\n",
       "<style scoped>\n",
       "    .dataframe tbody tr th:only-of-type {\n",
       "        vertical-align: middle;\n",
       "    }\n",
       "\n",
       "    .dataframe tbody tr th {\n",
       "        vertical-align: top;\n",
       "    }\n",
       "\n",
       "    .dataframe thead th {\n",
       "        text-align: right;\n",
       "    }\n",
       "</style>\n",
       "<table border=\"1\" class=\"dataframe\">\n",
       "  <thead>\n",
       "    <tr style=\"text-align: right;\">\n",
       "      <th></th>\n",
       "      <th>target_page_id</th>\n",
       "      <th>target_page_title</th>\n",
       "      <th>anchor_target_count</th>\n",
       "    </tr>\n",
       "    <tr>\n",
       "      <th>normalized_anchor_text</th>\n",
       "      <th></th>\n",
       "      <th></th>\n",
       "      <th></th>\n",
       "    </tr>\n",
       "  </thead>\n",
       "  <tbody>\n",
       "    <tr>\n",
       "      <th>morgan simon</th>\n",
       "      <td>60680011</td>\n",
       "      <td>Morgan_Simon</td>\n",
       "      <td>1</td>\n",
       "    </tr>\n",
       "    <tr>\n",
       "      <th>morgan simmons</th>\n",
       "      <td>26555995</td>\n",
       "      <td>Morgan_Simmons</td>\n",
       "      <td>1</td>\n",
       "    </tr>\n",
       "    <tr>\n",
       "      <th>morgan silver dollars</th>\n",
       "      <td>2068555</td>\n",
       "      <td>Morgan_dollar</td>\n",
       "      <td>1</td>\n",
       "    </tr>\n",
       "    <tr>\n",
       "      <th>morgan silver dollar</th>\n",
       "      <td>2068555</td>\n",
       "      <td>Morgan_dollar</td>\n",
       "      <td>4</td>\n",
       "    </tr>\n",
       "    <tr>\n",
       "      <th>morgan shuster</th>\n",
       "      <td>1570302</td>\n",
       "      <td>William_Morgan_Shuster</td>\n",
       "      <td>11</td>\n",
       "    </tr>\n",
       "    <tr>\n",
       "      <th>morgan sheppard</th>\n",
       "      <td>8967390</td>\n",
       "      <td>W._Morgan_Sheppard</td>\n",
       "      <td>4</td>\n",
       "    </tr>\n",
       "    <tr>\n",
       "      <th>morgan shepherd</th>\n",
       "      <td>1201512</td>\n",
       "      <td>Morgan_Shepherd</td>\n",
       "      <td>541</td>\n",
       "    </tr>\n",
       "    <tr>\n",
       "      <th>morgan shepard</th>\n",
       "      <td>32884535</td>\n",
       "      <td>John_Martin's_Book</td>\n",
       "      <td>4</td>\n",
       "    </tr>\n",
       "    <tr>\n",
       "      <th>morgan seth earp</th>\n",
       "      <td>812231</td>\n",
       "      <td>Morgan_Earp</td>\n",
       "      <td>1</td>\n",
       "    </tr>\n",
       "    <tr>\n",
       "      <th>morgan scroggy</th>\n",
       "      <td>28458683</td>\n",
       "      <td>Morgan_Scroggy</td>\n",
       "      <td>2</td>\n",
       "    </tr>\n",
       "  </tbody>\n",
       "</table>\n",
       "</div>"
      ],
      "text/plain": [
       "                        target_page_id       target_page_title  \\\n",
       "normalized_anchor_text                                           \n",
       "morgan simon                  60680011            Morgan_Simon   \n",
       "morgan simmons                26555995          Morgan_Simmons   \n",
       "morgan silver dollars          2068555           Morgan_dollar   \n",
       "morgan silver dollar           2068555           Morgan_dollar   \n",
       "morgan shuster                 1570302  William_Morgan_Shuster   \n",
       "morgan sheppard                8967390      W._Morgan_Sheppard   \n",
       "morgan shepherd                1201512         Morgan_Shepherd   \n",
       "morgan shepard                32884535      John_Martin's_Book   \n",
       "morgan seth earp                812231             Morgan_Earp   \n",
       "morgan scroggy                28458683          Morgan_Scroggy   \n",
       "\n",
       "                        anchor_target_count  \n",
       "normalized_anchor_text                       \n",
       "morgan simon                              1  \n",
       "morgan simmons                            1  \n",
       "morgan silver dollars                     1  \n",
       "morgan silver dollar                      4  \n",
       "morgan shuster                           11  \n",
       "morgan sheppard                           4  \n",
       "morgan shepherd                         541  \n",
       "morgan shepard                            4  \n",
       "morgan seth earp                          1  \n",
       "morgan scroggy                            2  "
      ]
     },
     "metadata": {},
     "output_type": "display_data"
    }
   ],
   "source": [
    "# Preview 10 random rows\n",
    "random_int = np.random.randint(len(max_anchor_links)) # Useful example: 4395177\n",
    "display(max_anchor_links[random_int:random_int+10][['target_page_id', 'target_page_title', 'anchor_target_count']])"
   ]
  },
  {
   "cell_type": "code",
   "execution_count": 20,
   "metadata": {},
   "outputs": [
    {
     "name": "stdout",
     "output_type": "stream",
     "text": [
      "1256827\n"
     ]
    }
   ],
   "source": [
    "# Print previous random_int in case you want to explore further\n",
    "print(random_int)"
   ]
  },
  {
   "cell_type": "markdown",
   "metadata": {},
   "source": [
    "The above is our linkage of text to Wikipedia page based on link count."
   ]
  },
  {
   "cell_type": "markdown",
   "metadata": {},
   "source": [
    "To create our predictions, we initialize a new DataFrame with our inputs x_np, then for each input (full_mention), search max_anchor_links for matching anchor text string and add the associated page_id and target_page_title. "
   ]
  },
  {
   "cell_type": "code",
   "execution_count": 44,
   "metadata": {},
   "outputs": [
    {
     "name": "stderr",
     "output_type": "stream",
     "text": [
      "100%|██████████| 22257/22257 [00:20<00:00, 1079.35it/s]\n"
     ]
    }
   ],
   "source": [
    "# Create text-to-page-to-title dataframe (as predictions)\n",
    "preds_anchor = pd.DataFrame({'mention': x_np, \n",
    "                             'entity_page_id': None,\n",
    "                             'target_page_title': None\n",
    "                            })\n",
    "\n",
    "# tqdm is a progress bar package\n",
    "# For all anchor texts, update with predictions\n",
    "for i in tqdm(range(len(preds_anchor))):\n",
    "    try:\n",
    "        preds_anchor.iloc[i, 1:3] = max_anchor_links.loc[preds_anchor.iloc[i, 0], ['target_page_id', 'target_page_title']].values\n",
    "    except KeyError:\n",
    "        # Leave at default None values\n",
    "        continue"
   ]
  },
  {
   "cell_type": "code",
   "execution_count": 45,
   "metadata": {},
   "outputs": [
    {
     "data": {
      "text/html": [
       "<div>\n",
       "<style scoped>\n",
       "    .dataframe tbody tr th:only-of-type {\n",
       "        vertical-align: middle;\n",
       "    }\n",
       "\n",
       "    .dataframe tbody tr th {\n",
       "        vertical-align: top;\n",
       "    }\n",
       "\n",
       "    .dataframe thead th {\n",
       "        text-align: right;\n",
       "    }\n",
       "</style>\n",
       "<table border=\"1\" class=\"dataframe\">\n",
       "  <thead>\n",
       "    <tr style=\"text-align: right;\">\n",
       "      <th></th>\n",
       "      <th>mention</th>\n",
       "      <th>entity_page_id</th>\n",
       "      <th>target_page_title</th>\n",
       "    </tr>\n",
       "  </thead>\n",
       "  <tbody>\n",
       "    <tr>\n",
       "      <th>0</th>\n",
       "      <td>german</td>\n",
       "      <td>11867</td>\n",
       "      <td>Germany</td>\n",
       "    </tr>\n",
       "    <tr>\n",
       "      <th>1</th>\n",
       "      <td>british</td>\n",
       "      <td>31717</td>\n",
       "      <td>United_Kingdom</td>\n",
       "    </tr>\n",
       "    <tr>\n",
       "      <th>2</th>\n",
       "      <td>brussels</td>\n",
       "      <td>3708</td>\n",
       "      <td>Brussels</td>\n",
       "    </tr>\n",
       "    <tr>\n",
       "      <th>3</th>\n",
       "      <td>european commission</td>\n",
       "      <td>9974</td>\n",
       "      <td>European_Commission</td>\n",
       "    </tr>\n",
       "    <tr>\n",
       "      <th>4</th>\n",
       "      <td>european commission</td>\n",
       "      <td>9974</td>\n",
       "      <td>European_Commission</td>\n",
       "    </tr>\n",
       "    <tr>\n",
       "      <th>...</th>\n",
       "      <td>...</td>\n",
       "      <td>...</td>\n",
       "      <td>...</td>\n",
       "    </tr>\n",
       "    <tr>\n",
       "      <th>22252</th>\n",
       "      <td>england</td>\n",
       "      <td>9316</td>\n",
       "      <td>England</td>\n",
       "    </tr>\n",
       "    <tr>\n",
       "      <th>22253</th>\n",
       "      <td>1966 world cup</td>\n",
       "      <td>61629</td>\n",
       "      <td>1966_FIFA_World_Cup</td>\n",
       "    </tr>\n",
       "    <tr>\n",
       "      <th>22254</th>\n",
       "      <td>1966 world cup</td>\n",
       "      <td>61629</td>\n",
       "      <td>1966_FIFA_World_Cup</td>\n",
       "    </tr>\n",
       "    <tr>\n",
       "      <th>22255</th>\n",
       "      <td>1966 world cup</td>\n",
       "      <td>61629</td>\n",
       "      <td>1966_FIFA_World_Cup</td>\n",
       "    </tr>\n",
       "    <tr>\n",
       "      <th>22256</th>\n",
       "      <td>bobby</td>\n",
       "      <td>2150352</td>\n",
       "      <td>Bobby_(1973_film)</td>\n",
       "    </tr>\n",
       "  </tbody>\n",
       "</table>\n",
       "<p>22257 rows × 3 columns</p>\n",
       "</div>"
      ],
      "text/plain": [
       "                   mention entity_page_id    target_page_title\n",
       "0                   german          11867              Germany\n",
       "1                  british          31717       United_Kingdom\n",
       "2                 brussels           3708             Brussels\n",
       "3      european commission           9974  European_Commission\n",
       "4      european commission           9974  European_Commission\n",
       "...                    ...            ...                  ...\n",
       "22252              england           9316              England\n",
       "22253       1966 world cup          61629  1966_FIFA_World_Cup\n",
       "22254       1966 world cup          61629  1966_FIFA_World_Cup\n",
       "22255       1966 world cup          61629  1966_FIFA_World_Cup\n",
       "22256                bobby        2150352    Bobby_(1973_film)\n",
       "\n",
       "[22257 rows x 3 columns]"
      ]
     },
     "execution_count": 45,
     "metadata": {},
     "output_type": "execute_result"
    }
   ],
   "source": [
    "# Display entity disambiguation predictions using anchor link statistics\n",
    "preds_anchor"
   ]
  },
  {
   "cell_type": "markdown",
   "metadata": {},
   "source": [
    "### ii. Page Views\n"
   ]
  },
  {
   "cell_type": "code",
   "execution_count": 23,
   "metadata": {},
   "outputs": [
    {
     "data": {
      "text/html": [
       "<div>\n",
       "<style scoped>\n",
       "    .dataframe tbody tr th:only-of-type {\n",
       "        vertical-align: middle;\n",
       "    }\n",
       "\n",
       "    .dataframe tbody tr th {\n",
       "        vertical-align: top;\n",
       "    }\n",
       "\n",
       "    .dataframe thead th {\n",
       "        text-align: right;\n",
       "    }\n",
       "</style>\n",
       "<table border=\"1\" class=\"dataframe\">\n",
       "  <thead>\n",
       "    <tr style=\"text-align: right;\">\n",
       "      <th></th>\n",
       "      <th>normalized_anchor_text</th>\n",
       "      <th>target_page_id</th>\n",
       "      <th>target_item_id</th>\n",
       "      <th>target_page_title</th>\n",
       "      <th>target_page_views</th>\n",
       "      <th>anchor_target_count</th>\n",
       "    </tr>\n",
       "  </thead>\n",
       "  <tbody>\n",
       "    <tr>\n",
       "      <th>0</th>\n",
       "      <td>united states</td>\n",
       "      <td>3434750</td>\n",
       "      <td>30</td>\n",
       "      <td>United_States</td>\n",
       "      <td>460156</td>\n",
       "      <td>152451</td>\n",
       "    </tr>\n",
       "    <tr>\n",
       "      <th>1</th>\n",
       "      <td>american</td>\n",
       "      <td>3434750</td>\n",
       "      <td>30</td>\n",
       "      <td>United_States</td>\n",
       "      <td>460156</td>\n",
       "      <td>65722</td>\n",
       "    </tr>\n",
       "    <tr>\n",
       "      <th>2</th>\n",
       "      <td>usa</td>\n",
       "      <td>3434750</td>\n",
       "      <td>30</td>\n",
       "      <td>United_States</td>\n",
       "      <td>460156</td>\n",
       "      <td>8559</td>\n",
       "    </tr>\n",
       "    <tr>\n",
       "      <th>3</th>\n",
       "      <td>u.s.</td>\n",
       "      <td>3434750</td>\n",
       "      <td>30</td>\n",
       "      <td>United_States</td>\n",
       "      <td>460156</td>\n",
       "      <td>7633</td>\n",
       "    </tr>\n",
       "    <tr>\n",
       "      <th>4</th>\n",
       "      <td>us</td>\n",
       "      <td>3434750</td>\n",
       "      <td>30</td>\n",
       "      <td>United_States</td>\n",
       "      <td>460156</td>\n",
       "      <td>5288</td>\n",
       "    </tr>\n",
       "    <tr>\n",
       "      <th>...</th>\n",
       "      <td>...</td>\n",
       "      <td>...</td>\n",
       "      <td>...</td>\n",
       "      <td>...</td>\n",
       "      <td>...</td>\n",
       "      <td>...</td>\n",
       "    </tr>\n",
       "    <tr>\n",
       "      <th>15269224</th>\n",
       "      <td>garfield lake</td>\n",
       "      <td>47208504</td>\n",
       "      <td>20707378</td>\n",
       "      <td>Garfield_Lake</td>\n",
       "      <td>10</td>\n",
       "      <td>1</td>\n",
       "    </tr>\n",
       "    <tr>\n",
       "      <th>15269225</th>\n",
       "      <td>aert van der goes</td>\n",
       "      <td>38402950</td>\n",
       "      <td>381796</td>\n",
       "      <td>Aert_van_der_Goes</td>\n",
       "      <td>18</td>\n",
       "      <td>1</td>\n",
       "    </tr>\n",
       "    <tr>\n",
       "      <th>15269226</th>\n",
       "      <td>chimanbhai mehta</td>\n",
       "      <td>65368350</td>\n",
       "      <td>-1</td>\n",
       "      <td>Chimanbhai_Mehta</td>\n",
       "      <td>0</td>\n",
       "      <td>1</td>\n",
       "    </tr>\n",
       "    <tr>\n",
       "      <th>15269227</th>\n",
       "      <td>urmilaben chimanbhai patel</td>\n",
       "      <td>55927372</td>\n",
       "      <td>44128896</td>\n",
       "      <td>Urmilaben_Chimanbhai_Patel</td>\n",
       "      <td>9</td>\n",
       "      <td>1</td>\n",
       "    </tr>\n",
       "    <tr>\n",
       "      <th>15269228</th>\n",
       "      <td>iasc</td>\n",
       "      <td>182786</td>\n",
       "      <td>1653031</td>\n",
       "      <td>IASC</td>\n",
       "      <td>130</td>\n",
       "      <td>1</td>\n",
       "    </tr>\n",
       "  </tbody>\n",
       "</table>\n",
       "<p>15265633 rows × 6 columns</p>\n",
       "</div>"
      ],
      "text/plain": [
       "              normalized_anchor_text  target_page_id  target_item_id  \\\n",
       "0                      united states         3434750              30   \n",
       "1                           american         3434750              30   \n",
       "2                                usa         3434750              30   \n",
       "3                               u.s.         3434750              30   \n",
       "4                                 us         3434750              30   \n",
       "...                              ...             ...             ...   \n",
       "15269224               garfield lake        47208504        20707378   \n",
       "15269225           aert van der goes        38402950          381796   \n",
       "15269226            chimanbhai mehta        65368350              -1   \n",
       "15269227  urmilaben chimanbhai patel        55927372        44128896   \n",
       "15269228                        iasc          182786         1653031   \n",
       "\n",
       "                   target_page_title  target_page_views  anchor_target_count  \n",
       "0                      United_States             460156               152451  \n",
       "1                      United_States             460156                65722  \n",
       "2                      United_States             460156                 8559  \n",
       "3                      United_States             460156                 7633  \n",
       "4                      United_States             460156                 5288  \n",
       "...                              ...                ...                  ...  \n",
       "15269224               Garfield_Lake                 10                    1  \n",
       "15269225           Aert_van_der_Goes                 18                    1  \n",
       "15269226            Chimanbhai_Mehta                  0                    1  \n",
       "15269227  Urmilaben_Chimanbhai_Patel                  9                    1  \n",
       "15269228                        IASC                130                    1  \n",
       "\n",
       "[15265633 rows x 6 columns]"
      ]
     },
     "execution_count": 23,
     "metadata": {},
     "output_type": "execute_result"
    }
   ],
   "source": [
    "# Display dataframe preview\n",
    "at_count_df"
   ]
  },
  {
   "cell_type": "markdown",
   "metadata": {},
   "source": [
    "Starting with the same dataframe as before, we now sort by page views and take the top result by page views."
   ]
  },
  {
   "cell_type": "code",
   "execution_count": 24,
   "metadata": {},
   "outputs": [
    {
     "data": {
      "text/html": [
       "<div>\n",
       "<style scoped>\n",
       "    .dataframe tbody tr th:only-of-type {\n",
       "        vertical-align: middle;\n",
       "    }\n",
       "\n",
       "    .dataframe tbody tr th {\n",
       "        vertical-align: top;\n",
       "    }\n",
       "\n",
       "    .dataframe thead th {\n",
       "        text-align: right;\n",
       "    }\n",
       "</style>\n",
       "<table border=\"1\" class=\"dataframe\">\n",
       "  <thead>\n",
       "    <tr style=\"text-align: right;\">\n",
       "      <th></th>\n",
       "      <th>target_page_id</th>\n",
       "      <th>target_item_id</th>\n",
       "      <th>target_page_title</th>\n",
       "      <th>target_page_views</th>\n",
       "      <th>anchor_target_count</th>\n",
       "    </tr>\n",
       "    <tr>\n",
       "      <th>normalized_anchor_text</th>\n",
       "      <th></th>\n",
       "      <th></th>\n",
       "      <th></th>\n",
       "      <th></th>\n",
       "      <th></th>\n",
       "    </tr>\n",
       "  </thead>\n",
       "  <tbody>\n",
       "    <tr>\n",
       "      <th>𨳊</th>\n",
       "      <td>12274636</td>\n",
       "      <td>837751</td>\n",
       "      <td>Cantonese_profanity</td>\n",
       "      <td>4897</td>\n",
       "      <td>1</td>\n",
       "    </tr>\n",
       "    <tr>\n",
       "      <th>🧀</th>\n",
       "      <td>11749910</td>\n",
       "      <td>10943</td>\n",
       "      <td>Cheese</td>\n",
       "      <td>22110</td>\n",
       "      <td>1</td>\n",
       "    </tr>\n",
       "    <tr>\n",
       "      <th>🤙</th>\n",
       "      <td>6633641</td>\n",
       "      <td>1703272</td>\n",
       "      <td>List_of_gestures</td>\n",
       "      <td>12235</td>\n",
       "      <td>2</td>\n",
       "    </tr>\n",
       "  </tbody>\n",
       "</table>\n",
       "</div>"
      ],
      "text/plain": [
       "                        target_page_id  target_item_id    target_page_title  \\\n",
       "normalized_anchor_text                                                        \n",
       "𨳊                             12274636          837751  Cantonese_profanity   \n",
       "🧀                             11749910           10943               Cheese   \n",
       "🤙                              6633641         1703272     List_of_gestures   \n",
       "\n",
       "                        target_page_views  anchor_target_count  \n",
       "normalized_anchor_text                                          \n",
       "𨳊                                    4897                    1  \n",
       "🧀                                   22110                    1  \n",
       "🤙                                   12235                    2  "
      ]
     },
     "metadata": {},
     "output_type": "display_data"
    },
    {
     "name": "stdout",
     "output_type": "stream",
     "text": [
      "CPU times: user 1min 56s, sys: 14.8 s, total: 2min 11s\n",
      "Wall time: 2min 17s\n"
     ]
    }
   ],
   "source": [
    "%%time\n",
    "# Sort dataframe by anchor text and page views, remove duplicates except top (most popular) and update index\n",
    "max_page_views = at_count_df.sort_values(['normalized_anchor_text', 'target_page_views'], ascending = False)\n",
    "max_page_views.drop_duplicates('normalized_anchor_text', keep = 'first', inplace = True)\n",
    "max_page_views.set_index('normalized_anchor_text', inplace = True)\n",
    "\n",
    "# Show top rows\n",
    "display(max_page_views.head(3))\n",
    "assert len(max_page_views) == len(set(at_count_df.normalized_anchor_text.values))\n"
   ]
  },
  {
   "cell_type": "code",
   "execution_count": 46,
   "metadata": {},
   "outputs": [
    {
     "name": "stderr",
     "output_type": "stream",
     "text": [
      "100%|██████████| 22257/22257 [00:20<00:00, 1108.20it/s]\n"
     ]
    }
   ],
   "source": [
    "# Create prediction dataframe with most popular views\n",
    "preds_page = pd.DataFrame({'mention': x_np, \n",
    "                             'entity_page_id': None,\n",
    "                             'target_page_title': None\n",
    "                            })\n",
    "\n",
    "# tqdm is progress bar\n",
    "# For every anchor text, append prediction using page views\n",
    "for i in tqdm(range(len(preds_page))):\n",
    "    try:\n",
    "        preds_page.iloc[i, 1:3] = max_page_views.loc[preds_page.iloc[i, 0], ['target_page_id', 'target_page_title']].values\n",
    "    except KeyError:\n",
    "        # Leave at default None values\n",
    "        continue"
   ]
  },
  {
   "cell_type": "code",
   "execution_count": 47,
   "metadata": {},
   "outputs": [
    {
     "data": {
      "text/html": [
       "<div>\n",
       "<style scoped>\n",
       "    .dataframe tbody tr th:only-of-type {\n",
       "        vertical-align: middle;\n",
       "    }\n",
       "\n",
       "    .dataframe tbody tr th {\n",
       "        vertical-align: top;\n",
       "    }\n",
       "\n",
       "    .dataframe thead th {\n",
       "        text-align: right;\n",
       "    }\n",
       "</style>\n",
       "<table border=\"1\" class=\"dataframe\">\n",
       "  <thead>\n",
       "    <tr style=\"text-align: right;\">\n",
       "      <th></th>\n",
       "      <th>mention</th>\n",
       "      <th>entity_page_id</th>\n",
       "      <th>target_page_title</th>\n",
       "    </tr>\n",
       "  </thead>\n",
       "  <tbody>\n",
       "    <tr>\n",
       "      <th>0</th>\n",
       "      <td>german</td>\n",
       "      <td>11867</td>\n",
       "      <td>Germany</td>\n",
       "    </tr>\n",
       "    <tr>\n",
       "      <th>1</th>\n",
       "      <td>british</td>\n",
       "      <td>3434750</td>\n",
       "      <td>United_States</td>\n",
       "    </tr>\n",
       "    <tr>\n",
       "      <th>2</th>\n",
       "      <td>brussels</td>\n",
       "      <td>5843419</td>\n",
       "      <td>France</td>\n",
       "    </tr>\n",
       "    <tr>\n",
       "      <th>3</th>\n",
       "      <td>european commission</td>\n",
       "      <td>9974</td>\n",
       "      <td>European_Commission</td>\n",
       "    </tr>\n",
       "    <tr>\n",
       "      <th>4</th>\n",
       "      <td>european commission</td>\n",
       "      <td>9974</td>\n",
       "      <td>European_Commission</td>\n",
       "    </tr>\n",
       "    <tr>\n",
       "      <th>...</th>\n",
       "      <td>...</td>\n",
       "      <td>...</td>\n",
       "      <td>...</td>\n",
       "    </tr>\n",
       "    <tr>\n",
       "      <th>22252</th>\n",
       "      <td>england</td>\n",
       "      <td>31717</td>\n",
       "      <td>United_Kingdom</td>\n",
       "    </tr>\n",
       "    <tr>\n",
       "      <th>22253</th>\n",
       "      <td>1966 world cup</td>\n",
       "      <td>61629</td>\n",
       "      <td>1966_FIFA_World_Cup</td>\n",
       "    </tr>\n",
       "    <tr>\n",
       "      <th>22254</th>\n",
       "      <td>1966 world cup</td>\n",
       "      <td>61629</td>\n",
       "      <td>1966_FIFA_World_Cup</td>\n",
       "    </tr>\n",
       "    <tr>\n",
       "      <th>22255</th>\n",
       "      <td>1966 world cup</td>\n",
       "      <td>61629</td>\n",
       "      <td>1966_FIFA_World_Cup</td>\n",
       "    </tr>\n",
       "    <tr>\n",
       "      <th>22256</th>\n",
       "      <td>bobby</td>\n",
       "      <td>21131695</td>\n",
       "      <td>Robert_F._Kennedy</td>\n",
       "    </tr>\n",
       "  </tbody>\n",
       "</table>\n",
       "<p>22257 rows × 3 columns</p>\n",
       "</div>"
      ],
      "text/plain": [
       "                   mention entity_page_id    target_page_title\n",
       "0                   german          11867              Germany\n",
       "1                  british        3434750        United_States\n",
       "2                 brussels        5843419               France\n",
       "3      european commission           9974  European_Commission\n",
       "4      european commission           9974  European_Commission\n",
       "...                    ...            ...                  ...\n",
       "22252              england          31717       United_Kingdom\n",
       "22253       1966 world cup          61629  1966_FIFA_World_Cup\n",
       "22254       1966 world cup          61629  1966_FIFA_World_Cup\n",
       "22255       1966 world cup          61629  1966_FIFA_World_Cup\n",
       "22256                bobby       21131695    Robert_F._Kennedy\n",
       "\n",
       "[22257 rows x 3 columns]"
      ]
     },
     "execution_count": 47,
     "metadata": {},
     "output_type": "execute_result"
    }
   ],
   "source": [
    "# Display predictions preview\n",
    "preds_page"
   ]
  },
  {
   "cell_type": "markdown",
   "metadata": {},
   "source": [
    "## Scoring"
   ]
  },
  {
   "cell_type": "code",
   "execution_count": 48,
   "metadata": {},
   "outputs": [
    {
     "name": "stdout",
     "output_type": "stream",
     "text": [
      "-- Accuracy on entire ACY dataset using KWNLP --\n",
      "Anchor Linking: 71.92%\n",
      "Page Views: 61.33%\n"
     ]
    }
   ],
   "source": [
    "# Accuracy matching full mention with anchor text\n",
    "print('-- Accuracy on entire ACY dataset using KWNLP --')\n",
    "print('Anchor Linking: {}%'.format(np.round(100*np.mean(preds_anchor.entity_page_id == y_np), 2)))\n",
    "print('Page Views: {}%'.format(np.round(100*np.mean(preds_page.entity_page_id == y_np), 2)))"
   ]
  },
  {
   "cell_type": "code",
   "execution_count": 27,
   "metadata": {},
   "outputs": [
    {
     "name": "stdout",
     "output_type": "stream",
     "text": [
      "-- Accuracy on entire ACY dataset using KWNLP --\n",
      "Anchor Linking: 33.14%\n",
      "Page Views: 29.31%\n"
     ]
    }
   ],
   "source": [
    "# Accuracy matching single words\n",
    "print('-- Accuracy on entire ACY dataset using KWNLP --')\n",
    "print('Anchor Linking: {}%'.format(np.round(100*np.mean(preds_anchor.entity_page_id == y_np), 2)))\n",
    "print('Page Views: {}%'.format(np.round(100*np.mean(preds_page.entity_page_id == y_np), 2)))\n"
   ]
  },
  {
   "cell_type": "markdown",
   "metadata": {},
   "source": [
    "If we match just tokens, we see:\n",
    "\n",
    "Anchor Linking: 33.14%\n",
    "\n",
    "Page Views: 29.31%\n",
    "\n",
    "If we match full_mention, we see:\n",
    "\n",
    "Anchor Linking: 71.92%\n",
    "\n",
    "Page Views: 61.33%"
   ]
  },
  {
   "cell_type": "code",
   "execution_count": null,
   "metadata": {},
   "outputs": [],
   "source": []
  }
 ],
 "metadata": {
  "kernelspec": {
   "display_name": "Python 3",
   "language": "python",
   "name": "python3"
  },
  "language_info": {
   "codemirror_mode": {
    "name": "ipython",
    "version": 3
   },
   "file_extension": ".py",
   "mimetype": "text/x-python",
   "name": "python",
   "nbconvert_exporter": "python",
   "pygments_lexer": "ipython3",
   "version": "3.7.7"
  }
 },
 "nbformat": 4,
 "nbformat_minor": 2
}
