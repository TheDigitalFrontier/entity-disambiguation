{
 "cells": [
  {
   "cell_type": "code",
   "execution_count": 1,
   "metadata": {},
   "outputs": [],
   "source": [
    "import os\n",
    "import time\n",
    "\n",
    "import pandas as pd\n",
    "import numpy as np\n",
    "import matplotlib.pyplot as plt\n",
    "%matplotlib inline\n",
    "\n",
    "# Add directory above current directory to path so we can import our pre-built package\n",
    "import sys; sys.path.insert(0, '../..')\n",
    "from entity_disambiguation.preprocessing import process_input, normalize_text\n",
    "\n",
    "from nltk.corpus import stopwords\n",
    "\n",
    "from tqdm import tqdm"
   ]
  },
  {
   "cell_type": "code",
   "execution_count": 2,
   "metadata": {},
   "outputs": [],
   "source": [
    "try: \n",
    "    stop = stopwords.words('english')\n",
    "except LookupError:\n",
    "    # Download stopwords if it's your first time\n",
    "    import nltk\n",
    "    nltk.download('stopwords')"
   ]
  },
  {
   "cell_type": "markdown",
   "metadata": {},
   "source": [
    "## 1. Process input"
   ]
  },
  {
   "cell_type": "code",
   "execution_count": 3,
   "metadata": {},
   "outputs": [],
   "source": [
    "# relative path to ACY dataset, should be the same for all users\n",
    "acy_path = '../../data/aida-conll-yago-dataset/'\n",
    "\n",
    "train_x, train_y, test_x, test_y = process_input(acy_path, train = 1.0)"
   ]
  },
  {
   "cell_type": "code",
   "execution_count": 4,
   "metadata": {},
   "outputs": [
    {
     "data": {
      "text/plain": [
       "((22257, 2), (22257,))"
      ]
     },
     "metadata": {},
     "output_type": "display_data"
    },
    {
     "data": {
      "text/plain": [
       "((0, 2), (0,))"
      ]
     },
     "metadata": {},
     "output_type": "display_data"
    }
   ],
   "source": [
    "display((train_x.shape, train_y.shape))\n",
    "display((test_x.shape, test_y.shape))"
   ]
  },
  {
   "cell_type": "code",
   "execution_count": 5,
   "metadata": {},
   "outputs": [
    {
     "data": {
      "text/html": [
       "<div>\n",
       "<style scoped>\n",
       "    .dataframe tbody tr th:only-of-type {\n",
       "        vertical-align: middle;\n",
       "    }\n",
       "\n",
       "    .dataframe tbody tr th {\n",
       "        vertical-align: top;\n",
       "    }\n",
       "\n",
       "    .dataframe thead th {\n",
       "        text-align: right;\n",
       "    }\n",
       "</style>\n",
       "<table border=\"1\" class=\"dataframe\">\n",
       "  <thead>\n",
       "    <tr style=\"text-align: right;\">\n",
       "      <th></th>\n",
       "      <th>token</th>\n",
       "      <th>in_between_word_count</th>\n",
       "    </tr>\n",
       "  </thead>\n",
       "  <tbody>\n",
       "    <tr>\n",
       "      <th>0</th>\n",
       "      <td>german</td>\n",
       "      <td>2</td>\n",
       "    </tr>\n",
       "    <tr>\n",
       "      <th>1</th>\n",
       "      <td>british</td>\n",
       "      <td>3</td>\n",
       "    </tr>\n",
       "    <tr>\n",
       "      <th>2</th>\n",
       "      <td>brussels</td>\n",
       "      <td>6</td>\n",
       "    </tr>\n",
       "  </tbody>\n",
       "</table>\n",
       "</div>"
      ],
      "text/plain": [
       "      token  in_between_word_count\n",
       "0    german                      2\n",
       "1   british                      3\n",
       "2  brussels                      6"
      ]
     },
     "execution_count": 5,
     "metadata": {},
     "output_type": "execute_result"
    }
   ],
   "source": [
    "train_x.head(3)"
   ]
  },
  {
   "cell_type": "code",
   "execution_count": 6,
   "metadata": {},
   "outputs": [
    {
     "data": {
      "text/plain": [
       "array(['11867', '31717', '3708'], dtype='<U8')"
      ]
     },
     "execution_count": 6,
     "metadata": {},
     "output_type": "execute_result"
    }
   ],
   "source": [
    "train_y[0:3]"
   ]
  },
  {
   "cell_type": "code",
   "execution_count": 7,
   "metadata": {},
   "outputs": [],
   "source": [
    "x_np = train_x.token.values\n",
    "y_np = np.array(train_y, dtype = 'int64')"
   ]
  },
  {
   "cell_type": "markdown",
   "metadata": {},
   "source": [
    "## 2. Baseline models: (i) anchor links and (ii) page views\n",
    "Load `KWNLP` dataset to create our baseline model, i.e. calculate the anchor linkage statistics for Wikipedia pages. Then we apply that to the ACY dataset in the next section.\n",
    "\n",
    "**Note:** These baselines so far only consider *exact* matches between a mention in ACY and an anchor text in KWNLP."
   ]
  },
  {
   "cell_type": "code",
   "execution_count": 8,
   "metadata": {},
   "outputs": [],
   "source": [
    "kwnlp_path = '../../data/kwnlp'\n",
    "\n",
    "article_df = pd.read_csv(os.path.join(kwnlp_path, 'article.csv'))\n",
    "\n",
    "anchor_df = pd.read_csv(os.path.join(kwnlp_path, 'anchor-target-counts.csv'))"
   ]
  },
  {
   "cell_type": "code",
   "execution_count": 9,
   "metadata": {},
   "outputs": [
    {
     "name": "stdout",
     "output_type": "stream",
     "text": [
      "15269229\n"
     ]
    },
    {
     "data": {
      "text/html": [
       "<div>\n",
       "<style scoped>\n",
       "    .dataframe tbody tr th:only-of-type {\n",
       "        vertical-align: middle;\n",
       "    }\n",
       "\n",
       "    .dataframe tbody tr th {\n",
       "        vertical-align: top;\n",
       "    }\n",
       "\n",
       "    .dataframe thead th {\n",
       "        text-align: right;\n",
       "    }\n",
       "</style>\n",
       "<table border=\"1\" class=\"dataframe\">\n",
       "  <thead>\n",
       "    <tr style=\"text-align: right;\">\n",
       "      <th></th>\n",
       "      <th>anchor_text</th>\n",
       "      <th>target_page_id</th>\n",
       "      <th>count</th>\n",
       "      <th>normalized_anchor_text</th>\n",
       "    </tr>\n",
       "  </thead>\n",
       "  <tbody>\n",
       "    <tr>\n",
       "      <th>0</th>\n",
       "      <td>United States</td>\n",
       "      <td>3434750</td>\n",
       "      <td>152451</td>\n",
       "      <td>united states</td>\n",
       "    </tr>\n",
       "    <tr>\n",
       "      <th>1</th>\n",
       "      <td>World War II</td>\n",
       "      <td>32927</td>\n",
       "      <td>133668</td>\n",
       "      <td>world war ii</td>\n",
       "    </tr>\n",
       "    <tr>\n",
       "      <th>2</th>\n",
       "      <td>India</td>\n",
       "      <td>14533</td>\n",
       "      <td>112069</td>\n",
       "      <td>india</td>\n",
       "    </tr>\n",
       "  </tbody>\n",
       "</table>\n",
       "</div>"
      ],
      "text/plain": [
       "     anchor_text  target_page_id   count normalized_anchor_text\n",
       "0  United States         3434750  152451          united states\n",
       "1   World War II           32927  133668           world war ii\n",
       "2          India           14533  112069                  india"
      ]
     },
     "execution_count": 9,
     "metadata": {},
     "output_type": "execute_result"
    }
   ],
   "source": [
    "at_count_df = anchor_df.copy()\n",
    "\n",
    "at_count_df[\"normalized_anchor_text\"] = at_count_df[\"anchor_text\"].apply(normalize_text)\n",
    "\n",
    "at_count_df = at_count_df.loc[at_count_df['normalized_anchor_text'].str.len() > 0, :]\n",
    "\n",
    "print(len(at_count_df))\n",
    "at_count_df.head(3)"
   ]
  },
  {
   "cell_type": "markdown",
   "metadata": {},
   "source": [
    "Inner join anchor-target data (mention to linked entity) with Wikipedia page article data. This lets us collate stats like page views with the target (entity) of mentions."
   ]
  },
  {
   "cell_type": "code",
   "execution_count": 10,
   "metadata": {},
   "outputs": [
    {
     "data": {
      "text/html": [
       "<div>\n",
       "<style scoped>\n",
       "    .dataframe tbody tr th:only-of-type {\n",
       "        vertical-align: middle;\n",
       "    }\n",
       "\n",
       "    .dataframe tbody tr th {\n",
       "        vertical-align: top;\n",
       "    }\n",
       "\n",
       "    .dataframe thead th {\n",
       "        text-align: right;\n",
       "    }\n",
       "</style>\n",
       "<table border=\"1\" class=\"dataframe\">\n",
       "  <thead>\n",
       "    <tr style=\"text-align: right;\">\n",
       "      <th></th>\n",
       "      <th>normalized_anchor_text</th>\n",
       "      <th>target_page_id</th>\n",
       "      <th>target_item_id</th>\n",
       "      <th>target_page_title</th>\n",
       "      <th>target_page_views</th>\n",
       "      <th>anchor_target_count</th>\n",
       "    </tr>\n",
       "  </thead>\n",
       "  <tbody>\n",
       "    <tr>\n",
       "      <th>0</th>\n",
       "      <td>united states</td>\n",
       "      <td>3434750</td>\n",
       "      <td>30</td>\n",
       "      <td>United_States</td>\n",
       "      <td>460156</td>\n",
       "      <td>152451</td>\n",
       "    </tr>\n",
       "    <tr>\n",
       "      <th>1</th>\n",
       "      <td>american</td>\n",
       "      <td>3434750</td>\n",
       "      <td>30</td>\n",
       "      <td>United_States</td>\n",
       "      <td>460156</td>\n",
       "      <td>65722</td>\n",
       "    </tr>\n",
       "    <tr>\n",
       "      <th>2</th>\n",
       "      <td>usa</td>\n",
       "      <td>3434750</td>\n",
       "      <td>30</td>\n",
       "      <td>United_States</td>\n",
       "      <td>460156</td>\n",
       "      <td>8559</td>\n",
       "    </tr>\n",
       "  </tbody>\n",
       "</table>\n",
       "</div>"
      ],
      "text/plain": [
       "  normalized_anchor_text  target_page_id  target_item_id target_page_title  \\\n",
       "0          united states         3434750              30     United_States   \n",
       "1               american         3434750              30     United_States   \n",
       "2                    usa         3434750              30     United_States   \n",
       "\n",
       "   target_page_views  anchor_target_count  \n",
       "0             460156               152451  \n",
       "1             460156                65722  \n",
       "2             460156                 8559  "
      ]
     },
     "execution_count": 10,
     "metadata": {},
     "output_type": "execute_result"
    }
   ],
   "source": [
    "at_count_df = pd.merge(\n",
    "    at_count_df,\n",
    "    article_df,\n",
    "    how=\"inner\",\n",
    "    left_on=\"target_page_id\",\n",
    "    right_on=\"page_id\")\n",
    "\n",
    "at_count_df = at_count_df.rename(columns={\n",
    "    'title': 'target_page_title',\n",
    "    'item_id': 'target_item_id',\n",
    "    'views': 'target_page_views',\n",
    "    'count': 'anchor_target_count',\n",
    "    'page_title': 'target_page_title'})\n",
    "\n",
    "at_count_df = at_count_df[[\n",
    "    \"normalized_anchor_text\",\n",
    "    \"target_page_id\",\n",
    "    \"target_item_id\",\n",
    "    \"target_page_title\",\n",
    "    \"target_page_views\",\n",
    "    \"anchor_target_count\"]]\n",
    "\n",
    "at_count_df.head(3)"
   ]
  },
  {
   "cell_type": "markdown",
   "metadata": {},
   "source": [
    "Drop NaNs. These have been encoded as `string` through the text normalisation previously."
   ]
  },
  {
   "cell_type": "code",
   "execution_count": 11,
   "metadata": {},
   "outputs": [
    {
     "name": "stdout",
     "output_type": "stream",
     "text": [
      "Dropped rows: 3596\n"
     ]
    }
   ],
   "source": [
    "len_orig = len(at_count_df)\n",
    "at_count_df = at_count_df.loc[at_count_df['normalized_anchor_text'] != 'nan']\n",
    "print('Dropped rows:', len_orig - len(at_count_df))"
   ]
  },
  {
   "cell_type": "markdown",
   "metadata": {},
   "source": [
    "### i. Anchor Links\n",
    "`pandas` `merge` and `join` can't be used with indices with duplicate values, as it automatically sorts and that can't be undone confidently with duplicates."
   ]
  },
  {
   "cell_type": "code",
   "execution_count": 12,
   "metadata": {},
   "outputs": [
    {
     "data": {
      "text/html": [
       "<div>\n",
       "<style scoped>\n",
       "    .dataframe tbody tr th:only-of-type {\n",
       "        vertical-align: middle;\n",
       "    }\n",
       "\n",
       "    .dataframe tbody tr th {\n",
       "        vertical-align: top;\n",
       "    }\n",
       "\n",
       "    .dataframe thead th {\n",
       "        text-align: right;\n",
       "    }\n",
       "</style>\n",
       "<table border=\"1\" class=\"dataframe\">\n",
       "  <thead>\n",
       "    <tr style=\"text-align: right;\">\n",
       "      <th></th>\n",
       "      <th>target_page_id</th>\n",
       "      <th>target_item_id</th>\n",
       "      <th>target_page_title</th>\n",
       "      <th>target_page_views</th>\n",
       "      <th>anchor_target_count</th>\n",
       "    </tr>\n",
       "    <tr>\n",
       "      <th>normalized_anchor_text</th>\n",
       "      <th></th>\n",
       "      <th></th>\n",
       "      <th></th>\n",
       "      <th></th>\n",
       "      <th></th>\n",
       "    </tr>\n",
       "  </thead>\n",
       "  <tbody>\n",
       "    <tr>\n",
       "      <th>𨳊</th>\n",
       "      <td>12274636</td>\n",
       "      <td>837751</td>\n",
       "      <td>Cantonese_profanity</td>\n",
       "      <td>4897</td>\n",
       "      <td>1</td>\n",
       "    </tr>\n",
       "    <tr>\n",
       "      <th>🧀</th>\n",
       "      <td>11749910</td>\n",
       "      <td>10943</td>\n",
       "      <td>Cheese</td>\n",
       "      <td>22110</td>\n",
       "      <td>1</td>\n",
       "    </tr>\n",
       "    <tr>\n",
       "      <th>🤙</th>\n",
       "      <td>6633641</td>\n",
       "      <td>1703272</td>\n",
       "      <td>List_of_gestures</td>\n",
       "      <td>12235</td>\n",
       "      <td>2</td>\n",
       "    </tr>\n",
       "  </tbody>\n",
       "</table>\n",
       "</div>"
      ],
      "text/plain": [
       "                        target_page_id  target_item_id    target_page_title  \\\n",
       "normalized_anchor_text                                                        \n",
       "𨳊                             12274636          837751  Cantonese_profanity   \n",
       "🧀                             11749910           10943               Cheese   \n",
       "🤙                              6633641         1703272     List_of_gestures   \n",
       "\n",
       "                        target_page_views  anchor_target_count  \n",
       "normalized_anchor_text                                          \n",
       "𨳊                                    4897                    1  \n",
       "🧀                                   22110                    1  \n",
       "🤙                                   12235                    2  "
      ]
     },
     "metadata": {},
     "output_type": "display_data"
    },
    {
     "name": "stdout",
     "output_type": "stream",
     "text": [
      "Removed 3936693 mentions with targets with lower anchor counts\n",
      "CPU times: user 2min, sys: 4.67 s, total: 2min 5s\n",
      "Wall time: 2min 6s\n"
     ]
    }
   ],
   "source": [
    "%%time\n",
    "max_anchor_links = at_count_df.sort_values(['normalized_anchor_text', 'anchor_target_count'], ascending = False)\n",
    "max_anchor_links.drop_duplicates('normalized_anchor_text', keep = 'first', inplace = True)\n",
    "\n",
    "max_anchor_links.set_index('normalized_anchor_text', inplace = True)\n",
    "\n",
    "# Show top rows\n",
    "display(max_anchor_links.head(3))\n",
    "print('Removed {} mentions with targets with lower anchor counts'.format(len(at_count_df)-len(max_anchor_links)))\n",
    "assert len(max_anchor_links) == len(set(at_count_df.normalized_anchor_text.values))\n"
   ]
  },
  {
   "cell_type": "code",
   "execution_count": 13,
   "metadata": {},
   "outputs": [
    {
     "name": "stderr",
     "output_type": "stream",
     "text": [
      "100%|██████████| 22257/22257 [00:26<00:00, 834.42it/s] \n"
     ]
    }
   ],
   "source": [
    "preds_anchor = pd.DataFrame({'mention': x_np, \n",
    "                             'entity_page_id': None,\n",
    "                             'target_page_title': None\n",
    "                            })\n",
    "\n",
    "for i in tqdm(range(len(preds_anchor))):\n",
    "    try:\n",
    "        preds_anchor.iloc[i, 1:3] = max_anchor_links.loc[preds_anchor.iloc[i, 0], ['target_page_id', 'target_page_title']].values\n",
    "    except KeyError:\n",
    "        # Leave at default None values\n",
    "        continue"
   ]
  },
  {
   "cell_type": "code",
   "execution_count": 14,
   "metadata": {},
   "outputs": [
    {
     "data": {
      "text/html": [
       "<div>\n",
       "<style scoped>\n",
       "    .dataframe tbody tr th:only-of-type {\n",
       "        vertical-align: middle;\n",
       "    }\n",
       "\n",
       "    .dataframe tbody tr th {\n",
       "        vertical-align: top;\n",
       "    }\n",
       "\n",
       "    .dataframe thead th {\n",
       "        text-align: right;\n",
       "    }\n",
       "</style>\n",
       "<table border=\"1\" class=\"dataframe\">\n",
       "  <thead>\n",
       "    <tr style=\"text-align: right;\">\n",
       "      <th></th>\n",
       "      <th>mention</th>\n",
       "      <th>entity_page_id</th>\n",
       "      <th>target_page_title</th>\n",
       "    </tr>\n",
       "  </thead>\n",
       "  <tbody>\n",
       "    <tr>\n",
       "      <th>0</th>\n",
       "      <td>german</td>\n",
       "      <td>11867</td>\n",
       "      <td>Germany</td>\n",
       "    </tr>\n",
       "    <tr>\n",
       "      <th>1</th>\n",
       "      <td>british</td>\n",
       "      <td>31717</td>\n",
       "      <td>United_Kingdom</td>\n",
       "    </tr>\n",
       "    <tr>\n",
       "      <th>2</th>\n",
       "      <td>brussels</td>\n",
       "      <td>3708</td>\n",
       "      <td>Brussels</td>\n",
       "    </tr>\n",
       "    <tr>\n",
       "      <th>3</th>\n",
       "      <td>european</td>\n",
       "      <td>13279542</td>\n",
       "      <td>Ethnic_groups_in_Europe</td>\n",
       "    </tr>\n",
       "    <tr>\n",
       "      <th>4</th>\n",
       "      <td>commission</td>\n",
       "      <td>60925</td>\n",
       "      <td>Ship_commissioning</td>\n",
       "    </tr>\n",
       "    <tr>\n",
       "      <th>...</th>\n",
       "      <td>...</td>\n",
       "      <td>...</td>\n",
       "      <td>...</td>\n",
       "    </tr>\n",
       "    <tr>\n",
       "      <th>22252</th>\n",
       "      <td>england</td>\n",
       "      <td>9316</td>\n",
       "      <td>England</td>\n",
       "    </tr>\n",
       "    <tr>\n",
       "      <th>22253</th>\n",
       "      <td>1966</td>\n",
       "      <td>34691</td>\n",
       "      <td>1966</td>\n",
       "    </tr>\n",
       "    <tr>\n",
       "      <th>22254</th>\n",
       "      <td>world</td>\n",
       "      <td>38714</td>\n",
       "      <td>World</td>\n",
       "    </tr>\n",
       "    <tr>\n",
       "      <th>22255</th>\n",
       "      <td>cup</td>\n",
       "      <td>603997</td>\n",
       "      <td>Norwegian_Football_Cup</td>\n",
       "    </tr>\n",
       "    <tr>\n",
       "      <th>22256</th>\n",
       "      <td>bobby</td>\n",
       "      <td>2150352</td>\n",
       "      <td>Bobby_(1973_film)</td>\n",
       "    </tr>\n",
       "  </tbody>\n",
       "</table>\n",
       "<p>22257 rows × 3 columns</p>\n",
       "</div>"
      ],
      "text/plain": [
       "          mention entity_page_id        target_page_title\n",
       "0          german          11867                  Germany\n",
       "1         british          31717           United_Kingdom\n",
       "2        brussels           3708                 Brussels\n",
       "3        european       13279542  Ethnic_groups_in_Europe\n",
       "4      commission          60925       Ship_commissioning\n",
       "...           ...            ...                      ...\n",
       "22252     england           9316                  England\n",
       "22253        1966          34691                     1966\n",
       "22254       world          38714                    World\n",
       "22255         cup         603997   Norwegian_Football_Cup\n",
       "22256       bobby        2150352        Bobby_(1973_film)\n",
       "\n",
       "[22257 rows x 3 columns]"
      ]
     },
     "execution_count": 14,
     "metadata": {},
     "output_type": "execute_result"
    }
   ],
   "source": [
    "preds_anchor"
   ]
  },
  {
   "cell_type": "markdown",
   "metadata": {},
   "source": [
    "### ii. Page Views\n"
   ]
  },
  {
   "cell_type": "code",
   "execution_count": 15,
   "metadata": {},
   "outputs": [
    {
     "data": {
      "text/html": [
       "<div>\n",
       "<style scoped>\n",
       "    .dataframe tbody tr th:only-of-type {\n",
       "        vertical-align: middle;\n",
       "    }\n",
       "\n",
       "    .dataframe tbody tr th {\n",
       "        vertical-align: top;\n",
       "    }\n",
       "\n",
       "    .dataframe thead th {\n",
       "        text-align: right;\n",
       "    }\n",
       "</style>\n",
       "<table border=\"1\" class=\"dataframe\">\n",
       "  <thead>\n",
       "    <tr style=\"text-align: right;\">\n",
       "      <th></th>\n",
       "      <th>normalized_anchor_text</th>\n",
       "      <th>target_page_id</th>\n",
       "      <th>target_item_id</th>\n",
       "      <th>target_page_title</th>\n",
       "      <th>target_page_views</th>\n",
       "      <th>anchor_target_count</th>\n",
       "    </tr>\n",
       "  </thead>\n",
       "  <tbody>\n",
       "    <tr>\n",
       "      <th>0</th>\n",
       "      <td>united states</td>\n",
       "      <td>3434750</td>\n",
       "      <td>30</td>\n",
       "      <td>United_States</td>\n",
       "      <td>460156</td>\n",
       "      <td>152451</td>\n",
       "    </tr>\n",
       "    <tr>\n",
       "      <th>1</th>\n",
       "      <td>american</td>\n",
       "      <td>3434750</td>\n",
       "      <td>30</td>\n",
       "      <td>United_States</td>\n",
       "      <td>460156</td>\n",
       "      <td>65722</td>\n",
       "    </tr>\n",
       "    <tr>\n",
       "      <th>2</th>\n",
       "      <td>usa</td>\n",
       "      <td>3434750</td>\n",
       "      <td>30</td>\n",
       "      <td>United_States</td>\n",
       "      <td>460156</td>\n",
       "      <td>8559</td>\n",
       "    </tr>\n",
       "    <tr>\n",
       "      <th>3</th>\n",
       "      <td>u.s.</td>\n",
       "      <td>3434750</td>\n",
       "      <td>30</td>\n",
       "      <td>United_States</td>\n",
       "      <td>460156</td>\n",
       "      <td>7633</td>\n",
       "    </tr>\n",
       "    <tr>\n",
       "      <th>4</th>\n",
       "      <td>us</td>\n",
       "      <td>3434750</td>\n",
       "      <td>30</td>\n",
       "      <td>United_States</td>\n",
       "      <td>460156</td>\n",
       "      <td>5288</td>\n",
       "    </tr>\n",
       "    <tr>\n",
       "      <th>...</th>\n",
       "      <td>...</td>\n",
       "      <td>...</td>\n",
       "      <td>...</td>\n",
       "      <td>...</td>\n",
       "      <td>...</td>\n",
       "      <td>...</td>\n",
       "    </tr>\n",
       "    <tr>\n",
       "      <th>15269224</th>\n",
       "      <td>garfield lake</td>\n",
       "      <td>47208504</td>\n",
       "      <td>20707378</td>\n",
       "      <td>Garfield_Lake</td>\n",
       "      <td>10</td>\n",
       "      <td>1</td>\n",
       "    </tr>\n",
       "    <tr>\n",
       "      <th>15269225</th>\n",
       "      <td>aert van der goes</td>\n",
       "      <td>38402950</td>\n",
       "      <td>381796</td>\n",
       "      <td>Aert_van_der_Goes</td>\n",
       "      <td>18</td>\n",
       "      <td>1</td>\n",
       "    </tr>\n",
       "    <tr>\n",
       "      <th>15269226</th>\n",
       "      <td>chimanbhai mehta</td>\n",
       "      <td>65368350</td>\n",
       "      <td>-1</td>\n",
       "      <td>Chimanbhai_Mehta</td>\n",
       "      <td>0</td>\n",
       "      <td>1</td>\n",
       "    </tr>\n",
       "    <tr>\n",
       "      <th>15269227</th>\n",
       "      <td>urmilaben chimanbhai patel</td>\n",
       "      <td>55927372</td>\n",
       "      <td>44128896</td>\n",
       "      <td>Urmilaben_Chimanbhai_Patel</td>\n",
       "      <td>9</td>\n",
       "      <td>1</td>\n",
       "    </tr>\n",
       "    <tr>\n",
       "      <th>15269228</th>\n",
       "      <td>iasc</td>\n",
       "      <td>182786</td>\n",
       "      <td>1653031</td>\n",
       "      <td>IASC</td>\n",
       "      <td>130</td>\n",
       "      <td>1</td>\n",
       "    </tr>\n",
       "  </tbody>\n",
       "</table>\n",
       "<p>15265633 rows × 6 columns</p>\n",
       "</div>"
      ],
      "text/plain": [
       "              normalized_anchor_text  target_page_id  target_item_id  \\\n",
       "0                      united states         3434750              30   \n",
       "1                           american         3434750              30   \n",
       "2                                usa         3434750              30   \n",
       "3                               u.s.         3434750              30   \n",
       "4                                 us         3434750              30   \n",
       "...                              ...             ...             ...   \n",
       "15269224               garfield lake        47208504        20707378   \n",
       "15269225           aert van der goes        38402950          381796   \n",
       "15269226            chimanbhai mehta        65368350              -1   \n",
       "15269227  urmilaben chimanbhai patel        55927372        44128896   \n",
       "15269228                        iasc          182786         1653031   \n",
       "\n",
       "                   target_page_title  target_page_views  anchor_target_count  \n",
       "0                      United_States             460156               152451  \n",
       "1                      United_States             460156                65722  \n",
       "2                      United_States             460156                 8559  \n",
       "3                      United_States             460156                 7633  \n",
       "4                      United_States             460156                 5288  \n",
       "...                              ...                ...                  ...  \n",
       "15269224               Garfield_Lake                 10                    1  \n",
       "15269225           Aert_van_der_Goes                 18                    1  \n",
       "15269226            Chimanbhai_Mehta                  0                    1  \n",
       "15269227  Urmilaben_Chimanbhai_Patel                  9                    1  \n",
       "15269228                        IASC                130                    1  \n",
       "\n",
       "[15265633 rows x 6 columns]"
      ]
     },
     "execution_count": 15,
     "metadata": {},
     "output_type": "execute_result"
    }
   ],
   "source": [
    "at_count_df"
   ]
  },
  {
   "cell_type": "code",
   "execution_count": 16,
   "metadata": {},
   "outputs": [
    {
     "data": {
      "text/html": [
       "<div>\n",
       "<style scoped>\n",
       "    .dataframe tbody tr th:only-of-type {\n",
       "        vertical-align: middle;\n",
       "    }\n",
       "\n",
       "    .dataframe tbody tr th {\n",
       "        vertical-align: top;\n",
       "    }\n",
       "\n",
       "    .dataframe thead th {\n",
       "        text-align: right;\n",
       "    }\n",
       "</style>\n",
       "<table border=\"1\" class=\"dataframe\">\n",
       "  <thead>\n",
       "    <tr style=\"text-align: right;\">\n",
       "      <th></th>\n",
       "      <th>target_page_id</th>\n",
       "      <th>target_item_id</th>\n",
       "      <th>target_page_title</th>\n",
       "      <th>target_page_views</th>\n",
       "      <th>anchor_target_count</th>\n",
       "    </tr>\n",
       "    <tr>\n",
       "      <th>normalized_anchor_text</th>\n",
       "      <th></th>\n",
       "      <th></th>\n",
       "      <th></th>\n",
       "      <th></th>\n",
       "      <th></th>\n",
       "    </tr>\n",
       "  </thead>\n",
       "  <tbody>\n",
       "    <tr>\n",
       "      <th>𨳊</th>\n",
       "      <td>12274636</td>\n",
       "      <td>837751</td>\n",
       "      <td>Cantonese_profanity</td>\n",
       "      <td>4897</td>\n",
       "      <td>1</td>\n",
       "    </tr>\n",
       "    <tr>\n",
       "      <th>🧀</th>\n",
       "      <td>11749910</td>\n",
       "      <td>10943</td>\n",
       "      <td>Cheese</td>\n",
       "      <td>22110</td>\n",
       "      <td>1</td>\n",
       "    </tr>\n",
       "    <tr>\n",
       "      <th>🤙</th>\n",
       "      <td>6633641</td>\n",
       "      <td>1703272</td>\n",
       "      <td>List_of_gestures</td>\n",
       "      <td>12235</td>\n",
       "      <td>2</td>\n",
       "    </tr>\n",
       "  </tbody>\n",
       "</table>\n",
       "</div>"
      ],
      "text/plain": [
       "                        target_page_id  target_item_id    target_page_title  \\\n",
       "normalized_anchor_text                                                        \n",
       "𨳊                             12274636          837751  Cantonese_profanity   \n",
       "🧀                             11749910           10943               Cheese   \n",
       "🤙                              6633641         1703272     List_of_gestures   \n",
       "\n",
       "                        target_page_views  anchor_target_count  \n",
       "normalized_anchor_text                                          \n",
       "𨳊                                    4897                    1  \n",
       "🧀                                   22110                    1  \n",
       "🤙                                   12235                    2  "
      ]
     },
     "metadata": {},
     "output_type": "display_data"
    },
    {
     "name": "stdout",
     "output_type": "stream",
     "text": [
      "CPU times: user 1min 54s, sys: 4.27 s, total: 1min 58s\n",
      "Wall time: 1min 58s\n"
     ]
    }
   ],
   "source": [
    "%%time\n",
    "max_page_views = at_count_df.sort_values(['normalized_anchor_text', 'target_page_views'], ascending = False)\n",
    "max_page_views.drop_duplicates('normalized_anchor_text', keep = 'first', inplace = True)\n",
    "\n",
    "max_page_views.set_index('normalized_anchor_text', inplace = True)\n",
    "\n",
    "# Show top rows\n",
    "display(max_page_views.head(3))\n",
    "assert len(max_page_views) == len(set(at_count_df.normalized_anchor_text.values))\n"
   ]
  },
  {
   "cell_type": "code",
   "execution_count": 17,
   "metadata": {},
   "outputs": [
    {
     "name": "stderr",
     "output_type": "stream",
     "text": [
      "100%|██████████| 22257/22257 [00:26<00:00, 834.85it/s] \n"
     ]
    }
   ],
   "source": [
    "preds_page = pd.DataFrame({'mention': x_np, \n",
    "                             'entity_page_id': None,\n",
    "                             'target_page_title': None\n",
    "                            })\n",
    "\n",
    "for i in tqdm(range(len(preds_page))):\n",
    "    try:\n",
    "        preds_page.iloc[i, 1:3] = max_page_views.loc[preds_page.iloc[i, 0], ['target_page_id', 'target_page_title']].values\n",
    "    except KeyError:\n",
    "        # Leave at default None values\n",
    "        continue"
   ]
  },
  {
   "cell_type": "code",
   "execution_count": 18,
   "metadata": {},
   "outputs": [
    {
     "data": {
      "text/html": [
       "<div>\n",
       "<style scoped>\n",
       "    .dataframe tbody tr th:only-of-type {\n",
       "        vertical-align: middle;\n",
       "    }\n",
       "\n",
       "    .dataframe tbody tr th {\n",
       "        vertical-align: top;\n",
       "    }\n",
       "\n",
       "    .dataframe thead th {\n",
       "        text-align: right;\n",
       "    }\n",
       "</style>\n",
       "<table border=\"1\" class=\"dataframe\">\n",
       "  <thead>\n",
       "    <tr style=\"text-align: right;\">\n",
       "      <th></th>\n",
       "      <th>mention</th>\n",
       "      <th>entity_page_id</th>\n",
       "      <th>target_page_title</th>\n",
       "    </tr>\n",
       "  </thead>\n",
       "  <tbody>\n",
       "    <tr>\n",
       "      <th>0</th>\n",
       "      <td>german</td>\n",
       "      <td>11867</td>\n",
       "      <td>Germany</td>\n",
       "    </tr>\n",
       "    <tr>\n",
       "      <th>1</th>\n",
       "      <td>british</td>\n",
       "      <td>3434750</td>\n",
       "      <td>United_States</td>\n",
       "    </tr>\n",
       "    <tr>\n",
       "      <th>2</th>\n",
       "      <td>brussels</td>\n",
       "      <td>5843419</td>\n",
       "      <td>France</td>\n",
       "    </tr>\n",
       "    <tr>\n",
       "      <th>3</th>\n",
       "      <td>european</td>\n",
       "      <td>44220</td>\n",
       "      <td>UEFA_Champions_League</td>\n",
       "    </tr>\n",
       "    <tr>\n",
       "      <th>4</th>\n",
       "      <td>commission</td>\n",
       "      <td>21875</td>\n",
       "      <td>Nuremberg_trials</td>\n",
       "    </tr>\n",
       "    <tr>\n",
       "      <th>...</th>\n",
       "      <td>...</td>\n",
       "      <td>...</td>\n",
       "      <td>...</td>\n",
       "    </tr>\n",
       "    <tr>\n",
       "      <th>22252</th>\n",
       "      <td>england</td>\n",
       "      <td>31717</td>\n",
       "      <td>United_Kingdom</td>\n",
       "    </tr>\n",
       "    <tr>\n",
       "      <th>22253</th>\n",
       "      <td>1966</td>\n",
       "      <td>298705</td>\n",
       "      <td>Batman_(TV_series)</td>\n",
       "    </tr>\n",
       "    <tr>\n",
       "      <th>22254</th>\n",
       "      <td>world</td>\n",
       "      <td>32927</td>\n",
       "      <td>World_War_II</td>\n",
       "    </tr>\n",
       "    <tr>\n",
       "      <th>22255</th>\n",
       "      <td>cup</td>\n",
       "      <td>11237</td>\n",
       "      <td>FA_Cup</td>\n",
       "    </tr>\n",
       "    <tr>\n",
       "      <th>22256</th>\n",
       "      <td>bobby</td>\n",
       "      <td>21131695</td>\n",
       "      <td>Robert_F._Kennedy</td>\n",
       "    </tr>\n",
       "  </tbody>\n",
       "</table>\n",
       "<p>22257 rows × 3 columns</p>\n",
       "</div>"
      ],
      "text/plain": [
       "          mention entity_page_id      target_page_title\n",
       "0          german          11867                Germany\n",
       "1         british        3434750          United_States\n",
       "2        brussels        5843419                 France\n",
       "3        european          44220  UEFA_Champions_League\n",
       "4      commission          21875       Nuremberg_trials\n",
       "...           ...            ...                    ...\n",
       "22252     england          31717         United_Kingdom\n",
       "22253        1966         298705     Batman_(TV_series)\n",
       "22254       world          32927           World_War_II\n",
       "22255         cup          11237                 FA_Cup\n",
       "22256       bobby       21131695      Robert_F._Kennedy\n",
       "\n",
       "[22257 rows x 3 columns]"
      ]
     },
     "execution_count": 18,
     "metadata": {},
     "output_type": "execute_result"
    }
   ],
   "source": [
    "preds_page"
   ]
  },
  {
   "cell_type": "markdown",
   "metadata": {},
   "source": [
    "## Scoring"
   ]
  },
  {
   "cell_type": "code",
   "execution_count": 19,
   "metadata": {},
   "outputs": [
    {
     "name": "stdout",
     "output_type": "stream",
     "text": [
      "-- Accuracy on entire ACY dataset using KWNLP --\n",
      "Anchor Linking: 33.03%\n",
      "Page Views: 29.49%\n"
     ]
    }
   ],
   "source": [
    "print('-- Accuracy on entire ACY dataset using KWNLP --')\n",
    "print('Anchor Linking: {}%'.format(np.round(100*np.mean(preds_anchor.entity_page_id == y_np), 2)))\n",
    "print('Page Views: {}%'.format(np.round(100*np.mean(preds_page.entity_page_id == y_np), 2)))\n"
   ]
  },
  {
   "cell_type": "markdown",
   "metadata": {},
   "source": [
    "**TODO:** Currently composite mentions in ACY are split into separate mentions as part of `preprocessing`. This probably contributes to lowering accuracy, as e.g. \"United States\" becomes \"united\" and \"states\", two separate mentions to be linked."
   ]
  }
 ],
 "metadata": {
  "kernelspec": {
   "display_name": "ac297r",
   "language": "python",
   "name": "ac297r"
  },
  "language_info": {
   "codemirror_mode": {
    "name": "ipython",
    "version": 3
   },
   "file_extension": ".py",
   "mimetype": "text/x-python",
   "name": "python",
   "nbconvert_exporter": "python",
   "pygments_lexer": "ipython3",
   "version": "3.7.4"
  }
 },
 "nbformat": 4,
 "nbformat_minor": 2
}
